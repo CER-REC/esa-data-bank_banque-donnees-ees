{
 "cells": [
  {
   "cell_type": "code",
   "execution_count": 1,
   "source": [
    "import pandas as pd"
   ],
   "outputs": [],
   "metadata": {}
  },
  {
   "cell_type": "code",
   "execution_count": 2,
   "source": [
    "df = pd.read_csv('../Section_05_VEC_Labeling_for_Tables/data/ESA_website_ENG.csv')"
   ],
   "outputs": [
    {
     "output_type": "stream",
     "name": "stderr",
     "text": [
      "C:\\Users\\ThibJacq\\Anaconda3\\lib\\site-packages\\IPython\\core\\interactiveshell.py:3165: DtypeWarning: Columns (51) have mixed types.Specify dtype option on import or set low_memory=False.\n",
      "  has_raised = await self.run_ast_nodes(code_ast.body, cell_name,\n"
     ]
    }
   ],
   "metadata": {}
  },
  {
   "cell_type": "code",
   "execution_count": 3,
   "source": [
    "df.head()"
   ],
   "outputs": [
    {
     "output_type": "execute_result",
     "data": {
      "text/plain": [
       "                                               Title Content Type  \\\n",
       "0                Figure 13.1-1 EnCana Ekwan Pipeline       Figure   \n",
       "1                        Figure 13.3-1 CEA Framework       Figure   \n",
       "2  Figure 13.4-1 Temperature Normals Measured at ...       Figure   \n",
       "3  Figure 13.4-2 Mean Monthly Rainfall and Number...       Figure   \n",
       "4  Figure 13.4-3 Mean Monthly Snowfall and Number...       Figure   \n",
       "\n",
       "                                    Application Name Application Short Name  \\\n",
       "0  Application to Construct and Operate Ekwan Pip...                  Ekwan   \n",
       "1  Application to Construct and Operate Ekwan Pip...                  Ekwan   \n",
       "2  Application to Construct and Operate Ekwan Pip...                  Ekwan   \n",
       "3  Application to Construct and Operate Ekwan Pip...                  Ekwan   \n",
       "4  Application to Construct and Operate Ekwan Pip...                  Ekwan   \n",
       "\n",
       "  Application Filing Date                Company Name Commodity  \\\n",
       "0               3/17/2003  EnCana Ekwan Pipeline Inc.       Gas   \n",
       "1               3/17/2003  EnCana Ekwan Pipeline Inc.       Gas   \n",
       "2               3/17/2003  EnCana Ekwan Pipeline Inc.       Gas   \n",
       "3               3/17/2003  EnCana Ekwan Pipeline Inc.       Gas   \n",
       "4               3/17/2003  EnCana Ekwan Pipeline Inc.       Gas   \n",
       "\n",
       "                                   File Name  \\\n",
       "0  A0H8C0 - 13.0 EIA - Section 13.1 to 13.6    \n",
       "1  A0H8C0 - 13.0 EIA - Section 13.1 to 13.6    \n",
       "2  A0H8C0 - 13.0 EIA - Section 13.1 to 13.6    \n",
       "3  A0H8C0 - 13.0 EIA - Section 13.1 to 13.6    \n",
       "4  A0H8C0 - 13.0 EIA - Section 13.1 to 13.6    \n",
       "\n",
       "                                      ESA Folder URL Document Number  ...  \\\n",
       "0  https://apps.cer-rec.gc.ca/REGDOCS/Item/View/2...          A0H8C0  ...   \n",
       "1  https://apps.cer-rec.gc.ca/REGDOCS/Item/View/2...          A0H8C0  ...   \n",
       "2  https://apps.cer-rec.gc.ca/REGDOCS/Item/View/2...          A0H8C0  ...   \n",
       "3  https://apps.cer-rec.gc.ca/REGDOCS/Item/View/2...          A0H8C0  ...   \n",
       "4  https://apps.cer-rec.gc.ca/REGDOCS/Item/View/2...          A0H8C0  ...   \n",
       "\n",
       "  Impact to social and cultural well-being  \\\n",
       "0                                      NaN   \n",
       "1                                      NaN   \n",
       "2                                      NaN   \n",
       "3                                      NaN   \n",
       "4                                      NaN   \n",
       "\n",
       "  Impact to human health and viewscapes  \\\n",
       "0                                   NaN   \n",
       "1                                   NaN   \n",
       "2                                   NaN   \n",
       "3                                   NaN   \n",
       "4                                   NaN   \n",
       "\n",
       "  Social, cultural, economic infrastructure and services�  \\\n",
       "0                                                NaN        \n",
       "1                                                NaN        \n",
       "2                                                NaN        \n",
       "3                                                NaN        \n",
       "4                                                NaN        \n",
       "\n",
       "  Economic Offsets and Impact Environmental Obligations�  \\\n",
       "0                         NaN                        NaN   \n",
       "1                         NaN                        NaN   \n",
       "2                         NaN                        NaN   \n",
       "3                         NaN                        NaN   \n",
       "4                         NaN                        NaN   \n",
       "\n",
       "  Treaty and Indigenous Rights     ID Project Download Path  \\\n",
       "0                          NaN  15151                   NaN   \n",
       "1                          NaN  15152                   NaN   \n",
       "2                          NaN  15153                   NaN   \n",
       "3                          NaN  15154                   NaN   \n",
       "4                          NaN  15155                   NaN   \n",
       "\n",
       "  Table Download Path Good Quality  \n",
       "0                 NaN          NaN  \n",
       "1                 NaN          NaN  \n",
       "2                 NaN          NaN  \n",
       "3                 NaN          NaN  \n",
       "4                 NaN          NaN  \n",
       "\n",
       "[5 rows x 52 columns]"
      ],
      "text/html": [
       "<div>\n",
       "<style scoped>\n",
       "    .dataframe tbody tr th:only-of-type {\n",
       "        vertical-align: middle;\n",
       "    }\n",
       "\n",
       "    .dataframe tbody tr th {\n",
       "        vertical-align: top;\n",
       "    }\n",
       "\n",
       "    .dataframe thead th {\n",
       "        text-align: right;\n",
       "    }\n",
       "</style>\n",
       "<table border=\"1\" class=\"dataframe\">\n",
       "  <thead>\n",
       "    <tr style=\"text-align: right;\">\n",
       "      <th></th>\n",
       "      <th>Title</th>\n",
       "      <th>Content Type</th>\n",
       "      <th>Application Name</th>\n",
       "      <th>Application Short Name</th>\n",
       "      <th>Application Filing Date</th>\n",
       "      <th>Company Name</th>\n",
       "      <th>Commodity</th>\n",
       "      <th>File Name</th>\n",
       "      <th>ESA Folder URL</th>\n",
       "      <th>Document Number</th>\n",
       "      <th>...</th>\n",
       "      <th>Impact to social and cultural well-being</th>\n",
       "      <th>Impact to human health and viewscapes</th>\n",
       "      <th>Social, cultural, economic infrastructure and services�</th>\n",
       "      <th>Economic Offsets and Impact</th>\n",
       "      <th>Environmental Obligations�</th>\n",
       "      <th>Treaty and Indigenous Rights</th>\n",
       "      <th>ID</th>\n",
       "      <th>Project Download Path</th>\n",
       "      <th>Table Download Path</th>\n",
       "      <th>Good Quality</th>\n",
       "    </tr>\n",
       "  </thead>\n",
       "  <tbody>\n",
       "    <tr>\n",
       "      <th>0</th>\n",
       "      <td>Figure 13.1-1 EnCana Ekwan Pipeline</td>\n",
       "      <td>Figure</td>\n",
       "      <td>Application to Construct and Operate Ekwan Pip...</td>\n",
       "      <td>Ekwan</td>\n",
       "      <td>3/17/2003</td>\n",
       "      <td>EnCana Ekwan Pipeline Inc.</td>\n",
       "      <td>Gas</td>\n",
       "      <td>A0H8C0 - 13.0 EIA - Section 13.1 to 13.6</td>\n",
       "      <td>https://apps.cer-rec.gc.ca/REGDOCS/Item/View/2...</td>\n",
       "      <td>A0H8C0</td>\n",
       "      <td>...</td>\n",
       "      <td>NaN</td>\n",
       "      <td>NaN</td>\n",
       "      <td>NaN</td>\n",
       "      <td>NaN</td>\n",
       "      <td>NaN</td>\n",
       "      <td>NaN</td>\n",
       "      <td>15151</td>\n",
       "      <td>NaN</td>\n",
       "      <td>NaN</td>\n",
       "      <td>NaN</td>\n",
       "    </tr>\n",
       "    <tr>\n",
       "      <th>1</th>\n",
       "      <td>Figure 13.3-1 CEA Framework</td>\n",
       "      <td>Figure</td>\n",
       "      <td>Application to Construct and Operate Ekwan Pip...</td>\n",
       "      <td>Ekwan</td>\n",
       "      <td>3/17/2003</td>\n",
       "      <td>EnCana Ekwan Pipeline Inc.</td>\n",
       "      <td>Gas</td>\n",
       "      <td>A0H8C0 - 13.0 EIA - Section 13.1 to 13.6</td>\n",
       "      <td>https://apps.cer-rec.gc.ca/REGDOCS/Item/View/2...</td>\n",
       "      <td>A0H8C0</td>\n",
       "      <td>...</td>\n",
       "      <td>NaN</td>\n",
       "      <td>NaN</td>\n",
       "      <td>NaN</td>\n",
       "      <td>NaN</td>\n",
       "      <td>NaN</td>\n",
       "      <td>NaN</td>\n",
       "      <td>15152</td>\n",
       "      <td>NaN</td>\n",
       "      <td>NaN</td>\n",
       "      <td>NaN</td>\n",
       "    </tr>\n",
       "    <tr>\n",
       "      <th>2</th>\n",
       "      <td>Figure 13.4-1 Temperature Normals Measured at ...</td>\n",
       "      <td>Figure</td>\n",
       "      <td>Application to Construct and Operate Ekwan Pip...</td>\n",
       "      <td>Ekwan</td>\n",
       "      <td>3/17/2003</td>\n",
       "      <td>EnCana Ekwan Pipeline Inc.</td>\n",
       "      <td>Gas</td>\n",
       "      <td>A0H8C0 - 13.0 EIA - Section 13.1 to 13.6</td>\n",
       "      <td>https://apps.cer-rec.gc.ca/REGDOCS/Item/View/2...</td>\n",
       "      <td>A0H8C0</td>\n",
       "      <td>...</td>\n",
       "      <td>NaN</td>\n",
       "      <td>NaN</td>\n",
       "      <td>NaN</td>\n",
       "      <td>NaN</td>\n",
       "      <td>NaN</td>\n",
       "      <td>NaN</td>\n",
       "      <td>15153</td>\n",
       "      <td>NaN</td>\n",
       "      <td>NaN</td>\n",
       "      <td>NaN</td>\n",
       "    </tr>\n",
       "    <tr>\n",
       "      <th>3</th>\n",
       "      <td>Figure 13.4-2 Mean Monthly Rainfall and Number...</td>\n",
       "      <td>Figure</td>\n",
       "      <td>Application to Construct and Operate Ekwan Pip...</td>\n",
       "      <td>Ekwan</td>\n",
       "      <td>3/17/2003</td>\n",
       "      <td>EnCana Ekwan Pipeline Inc.</td>\n",
       "      <td>Gas</td>\n",
       "      <td>A0H8C0 - 13.0 EIA - Section 13.1 to 13.6</td>\n",
       "      <td>https://apps.cer-rec.gc.ca/REGDOCS/Item/View/2...</td>\n",
       "      <td>A0H8C0</td>\n",
       "      <td>...</td>\n",
       "      <td>NaN</td>\n",
       "      <td>NaN</td>\n",
       "      <td>NaN</td>\n",
       "      <td>NaN</td>\n",
       "      <td>NaN</td>\n",
       "      <td>NaN</td>\n",
       "      <td>15154</td>\n",
       "      <td>NaN</td>\n",
       "      <td>NaN</td>\n",
       "      <td>NaN</td>\n",
       "    </tr>\n",
       "    <tr>\n",
       "      <th>4</th>\n",
       "      <td>Figure 13.4-3 Mean Monthly Snowfall and Number...</td>\n",
       "      <td>Figure</td>\n",
       "      <td>Application to Construct and Operate Ekwan Pip...</td>\n",
       "      <td>Ekwan</td>\n",
       "      <td>3/17/2003</td>\n",
       "      <td>EnCana Ekwan Pipeline Inc.</td>\n",
       "      <td>Gas</td>\n",
       "      <td>A0H8C0 - 13.0 EIA - Section 13.1 to 13.6</td>\n",
       "      <td>https://apps.cer-rec.gc.ca/REGDOCS/Item/View/2...</td>\n",
       "      <td>A0H8C0</td>\n",
       "      <td>...</td>\n",
       "      <td>NaN</td>\n",
       "      <td>NaN</td>\n",
       "      <td>NaN</td>\n",
       "      <td>NaN</td>\n",
       "      <td>NaN</td>\n",
       "      <td>NaN</td>\n",
       "      <td>15155</td>\n",
       "      <td>NaN</td>\n",
       "      <td>NaN</td>\n",
       "      <td>NaN</td>\n",
       "    </tr>\n",
       "  </tbody>\n",
       "</table>\n",
       "<p>5 rows × 52 columns</p>\n",
       "</div>"
      ]
     },
     "metadata": {},
     "execution_count": 3
    }
   ],
   "metadata": {}
  },
  {
   "cell_type": "code",
   "execution_count": 4,
   "source": [
    "df['Title'][:5]"
   ],
   "outputs": [
    {
     "output_type": "execute_result",
     "data": {
      "text/plain": [
       "0                  Figure 13.1-1 EnCana Ekwan Pipeline\n",
       "1                          Figure 13.3-1 CEA Framework\n",
       "2    Figure 13.4-1 Temperature Normals Measured at ...\n",
       "3    Figure 13.4-2 Mean Monthly Rainfall and Number...\n",
       "4    Figure 13.4-3 Mean Monthly Snowfall and Number...\n",
       "Name: Title, dtype: object"
      ]
     },
     "metadata": {},
     "execution_count": 4
    }
   ],
   "metadata": {}
  },
  {
   "cell_type": "code",
   "execution_count": 12,
   "source": [
    "import re\r\n",
    "\r\n",
    "def regex_remove_more_than_three_dots(text):\r\n",
    "    \"\"\"\r\n",
    "    Replaces text with more than three dots with a dash.\r\n",
    "    \"\"\"\r\n",
    "    return re.sub(r'(\\.{4,})', '-', text)\r\n",
    "\r\n",
    "regex_remove_more_than_three_dots('this is a test.... and this is another.....')"
   ],
   "outputs": [
    {
     "output_type": "execute_result",
     "data": {
      "text/plain": [
       "'this is a test- and this is another-'"
      ]
     },
     "metadata": {},
     "execution_count": 12
    }
   ],
   "metadata": {}
  },
  {
   "cell_type": "code",
   "execution_count": 16,
   "source": [
    "def regex_remove_repeat_characters_more_than_three(text):\r\n",
    "    \"\"\"\r\n",
    "    Remove all characters that repeat more than three times in a string.\r\n",
    "    \"\"\"\r\n",
    "    return re.sub(r'(.)\\1{3,}', r'\\1', text)\r\n",
    "\r\n",
    "regex_remove_repeat_characters_more_than_three('abbbbcc..')"
   ],
   "outputs": [
    {
     "output_type": "execute_result",
     "data": {
      "text/plain": [
       "'abcc..'"
      ]
     },
     "metadata": {},
     "execution_count": 16
    }
   ],
   "metadata": {}
  },
  {
   "cell_type": "code",
   "execution_count": null,
   "source": [],
   "outputs": [],
   "metadata": {}
  }
 ],
 "metadata": {
  "orig_nbformat": 4,
  "language_info": {
   "name": "python",
   "version": "3.8.8",
   "mimetype": "text/x-python",
   "codemirror_mode": {
    "name": "ipython",
    "version": 3
   },
   "pygments_lexer": "ipython3",
   "nbconvert_exporter": "python",
   "file_extension": ".py"
  },
  "kernelspec": {
   "name": "python3",
   "display_name": "Python 3.8.8 64-bit ('base': conda)"
  },
  "interpreter": {
   "hash": "e2bf75632dbab15b13c7e69d7c865eec44ce559fc915a91671bc417dc3e34be8"
  }
 },
 "nbformat": 4,
 "nbformat_minor": 2
}