{
 "cells": [
  {
   "cell_type": "markdown",
   "source": [
    "# Imports"
   ],
   "metadata": {}
  },
  {
   "cell_type": "code",
   "execution_count": 593,
   "source": [
    "import pandas as pd\r\n",
    "pd.set_option('display.max_rows', 500)\r\n",
    "pd.set_option('display.max_columns', 500)"
   ],
   "outputs": [],
   "metadata": {}
  },
  {
   "cell_type": "markdown",
   "source": [
    "# Loading Index Files"
   ],
   "metadata": {}
  },
  {
   "cell_type": "code",
   "execution_count": 625,
   "source": [
    "df_eng_old_projects = pd.read_csv(\"G:\\ESA_downloads\\download_Bingjie_Mar262021\\ESA_website_ENG_old_projects.csv\", encoding='utf-8') # dtype fine\r\n",
    "df_eng_new_projects = pd.read_csv(\"G:\\ESA_downloads\\phase_2_download_files\\ESA_downloads\\ESA_website_ENG_new_projects_fixed_encoding_errors.csv\", encoding='utf-8') # dtypes fine\r\n",
    "\r\n",
    "df_fra_old_projects = pd.read_csv(\"G:\\ESA_downloads\\download_Bingjie_May062021_fra\\ESA_website_FRA_old_projects.csv\", encoding='latin1') # dtype fine\r\n",
    "df_fra_new_projects = pd.read_csv(\"G:\\ESA_downloads\\phase_2_download_files\\ESA_downloads_fra\\ESA_website_FRA_new_projects.csv\", encoding='utf-8') # dtypes fine\r\n",
    "\r\n",
    "df_eng_all_projects = pd.read_csv(\"G:\\ESA_downloads\\ESA_bundled_with_VCs\\ESA_website_ENG_fixed_encoding_errors.csv\", encoding='utf-8') # dtypes fine"
   ],
   "outputs": [
    {
     "output_type": "stream",
     "name": "stderr",
     "text": [
      "C:\\Users\\ThibJacq\\Anaconda3\\lib\\site-packages\\IPython\\core\\interactiveshell.py:3165: DtypeWarning: Columns (52) have mixed types.Specify dtype option on import or set low_memory=False.\n",
      "  has_raised = await self.run_ast_nodes(code_ast.body, cell_name,\n"
     ]
    }
   ],
   "metadata": {}
  },
  {
   "cell_type": "code",
   "execution_count": 626,
   "source": [
    "df_eng_all_projects.drop(columns=['ID'], inplace=True)\r\n",
    "df_eng_all_projects.drop(columns=['Data ID'], inplace=True)\r\n",
    "df_eng_new_projects.drop(columns=['Data ID'], inplace=True)"
   ],
   "outputs": [],
   "metadata": {}
  },
  {
   "cell_type": "code",
   "execution_count": 627,
   "source": [
    "df_eng_old_tables = df_eng_old_projects[df_eng_old_projects['Content Type'] == 'Table']\r\n",
    "\r\n",
    "df_fra_old_tables = df_fra_old_projects[df_fra_old_projects['Type de contenu'] == 'Tableau']"
   ],
   "outputs": [],
   "metadata": {}
  },
  {
   "cell_type": "code",
   "execution_count": 628,
   "source": [
    "print(len(df_eng_old_projects))\r\n",
    "print(len(df_eng_new_projects))\r\n",
    "print(len(df_fra_old_projects))\r\n",
    "print(len(df_fra_new_projects))\r\n",
    "print(len(df_eng_all_projects))\r\n",
    "print(len(df_eng_old_projects) + len(df_eng_new_projects))\r\n",
    "print(len(df_eng_old_tables))\r\n",
    "print(len(df_fra_old_tables))"
   ],
   "outputs": [
    {
     "output_type": "stream",
     "name": "stdout",
     "text": [
      "24285\n",
      "644\n",
      "24285\n",
      "644\n",
      "24929\n",
      "24929\n",
      "15151\n",
      "15151\n"
     ]
    }
   ],
   "metadata": {}
  },
  {
   "cell_type": "markdown",
   "source": [
    "# Checking for duplicate rows"
   ],
   "metadata": {}
  },
  {
   "cell_type": "code",
   "execution_count": 629,
   "source": [
    "left_cols = ['Title', 'Document Number', 'PDF Page Number', 'Hearing order', 'File Name', 'Content Type']\r\n",
    "len(df_eng_old_tables[left_cols].drop_duplicates(keep='first'))"
   ],
   "outputs": [
    {
     "output_type": "execute_result",
     "data": {
      "text/plain": [
       "15151"
      ]
     },
     "metadata": {},
     "execution_count": 629
    }
   ],
   "metadata": {}
  },
  {
   "cell_type": "code",
   "execution_count": 630,
   "source": [
    "df_eng_old_tables[left_cols][df_eng_old_tables[left_cols].duplicated(keep='first')]"
   ],
   "outputs": [
    {
     "output_type": "execute_result",
     "data": {
      "text/plain": [
       "Empty DataFrame\n",
       "Columns: [Title, Document Number, PDF Page Number, Hearing order, File Name, Content Type]\n",
       "Index: []"
      ],
      "text/html": [
       "<div>\n",
       "<style scoped>\n",
       "    .dataframe tbody tr th:only-of-type {\n",
       "        vertical-align: middle;\n",
       "    }\n",
       "\n",
       "    .dataframe tbody tr th {\n",
       "        vertical-align: top;\n",
       "    }\n",
       "\n",
       "    .dataframe thead th {\n",
       "        text-align: right;\n",
       "    }\n",
       "</style>\n",
       "<table border=\"1\" class=\"dataframe\">\n",
       "  <thead>\n",
       "    <tr style=\"text-align: right;\">\n",
       "      <th></th>\n",
       "      <th>Title</th>\n",
       "      <th>Document Number</th>\n",
       "      <th>PDF Page Number</th>\n",
       "      <th>Hearing order</th>\n",
       "      <th>File Name</th>\n",
       "      <th>Content Type</th>\n",
       "    </tr>\n",
       "  </thead>\n",
       "  <tbody>\n",
       "  </tbody>\n",
       "</table>\n",
       "</div>"
      ]
     },
     "metadata": {},
     "execution_count": 630
    }
   ],
   "metadata": {}
  },
  {
   "cell_type": "markdown",
   "source": [
    "# Updating old and new index files with index file containing all projects and VCs"
   ],
   "metadata": {}
  },
  {
   "cell_type": "code",
   "execution_count": 631,
   "source": [
    "df_eng_all_projects.Title = df_eng_all_projects.Title.astype(str)\r\n",
    "df_eng_new_projects.Title = df_eng_new_projects.Title.astype(str)\r\n",
    "df_eng_old_projects['Regulatory Instrument(s)'] = df_eng_old_projects['Regulatory Instrument(s)'].astype(str)"
   ],
   "outputs": [],
   "metadata": {}
  },
  {
   "cell_type": "code",
   "execution_count": 632,
   "source": [
    "df_eng_new_projects[df_eng_new_projects.Title.isnull()]"
   ],
   "outputs": [
    {
     "output_type": "execute_result",
     "data": {
      "text/plain": [
       "Empty DataFrame\n",
       "Columns: [Title, Content Type, Application Name, Application Short Name, Application Filing Date, Company Name, Commodity, File Name, ESA Folder URL, Document Number, PDF Download URL, Application Type (NEB Act), Pipeline Location, Hearing order, Consultant Name, Pipeline Status, Regulatory Instrument(s), Application URL, Decision URL, ESA Section(s), ESA Section(s) Index, ESA Section(s) Topics, PDF Page Number, PDF Page Count, PDF Size, PDF Outline, ID, Project Download Path, Table Download Path, Good Quality, filename, Hearing Order]\n",
       "Index: []"
      ],
      "text/html": [
       "<div>\n",
       "<style scoped>\n",
       "    .dataframe tbody tr th:only-of-type {\n",
       "        vertical-align: middle;\n",
       "    }\n",
       "\n",
       "    .dataframe tbody tr th {\n",
       "        vertical-align: top;\n",
       "    }\n",
       "\n",
       "    .dataframe thead th {\n",
       "        text-align: right;\n",
       "    }\n",
       "</style>\n",
       "<table border=\"1\" class=\"dataframe\">\n",
       "  <thead>\n",
       "    <tr style=\"text-align: right;\">\n",
       "      <th></th>\n",
       "      <th>Title</th>\n",
       "      <th>Content Type</th>\n",
       "      <th>Application Name</th>\n",
       "      <th>Application Short Name</th>\n",
       "      <th>Application Filing Date</th>\n",
       "      <th>Company Name</th>\n",
       "      <th>Commodity</th>\n",
       "      <th>File Name</th>\n",
       "      <th>ESA Folder URL</th>\n",
       "      <th>Document Number</th>\n",
       "      <th>PDF Download URL</th>\n",
       "      <th>Application Type (NEB Act)</th>\n",
       "      <th>Pipeline Location</th>\n",
       "      <th>Hearing order</th>\n",
       "      <th>Consultant Name</th>\n",
       "      <th>Pipeline Status</th>\n",
       "      <th>Regulatory Instrument(s)</th>\n",
       "      <th>Application URL</th>\n",
       "      <th>Decision URL</th>\n",
       "      <th>ESA Section(s)</th>\n",
       "      <th>ESA Section(s) Index</th>\n",
       "      <th>ESA Section(s) Topics</th>\n",
       "      <th>PDF Page Number</th>\n",
       "      <th>PDF Page Count</th>\n",
       "      <th>PDF Size</th>\n",
       "      <th>PDF Outline</th>\n",
       "      <th>ID</th>\n",
       "      <th>Project Download Path</th>\n",
       "      <th>Table Download Path</th>\n",
       "      <th>Good Quality</th>\n",
       "      <th>filename</th>\n",
       "      <th>Hearing Order</th>\n",
       "    </tr>\n",
       "  </thead>\n",
       "  <tbody>\n",
       "  </tbody>\n",
       "</table>\n",
       "</div>"
      ]
     },
     "metadata": {},
     "execution_count": 632
    }
   ],
   "metadata": {}
  },
  {
   "cell_type": "code",
   "execution_count": 633,
   "source": [
    "def merge_dfs_with_matching_specific_columns(left_df, right_df, left_on, right_on):\r\n",
    "    \"\"\"Merge two dataframes based on common columns and only keep rows where\r\n",
    "    the values match.\r\n",
    "    \"\"\"\r\n",
    "    merged_df = pd.merge(left_df, right_df, how='left', left_on=left_on, right_on=right_on, suffixes=('_x', ''))\r\n",
    "    merged_df.drop(merged_df.filter(regex='_x$').columns, axis=1, inplace=True)\r\n",
    "    return merged_df\r\n",
    "\r\n",
    "left_cols = ['Title', 'Document Number', 'PDF Page Number']\r\n",
    "right_cols = ['Title', 'Document Number', 'PDF Page Number']\r\n",
    "\r\n",
    "df_eng_old_merged = merge_dfs_with_matching_specific_columns(df_eng_old_tables, df_eng_all_projects, left_on=left_cols, right_on=right_cols)\r\n",
    "df_eng_new_merged = merge_dfs_with_matching_specific_columns(df_eng_new_projects, df_eng_all_projects, left_on=left_cols, right_on=right_cols)"
   ],
   "outputs": [],
   "metadata": {}
  },
  {
   "cell_type": "code",
   "execution_count": 634,
   "source": [
    "len(df_eng_old_merged.drop_duplicates(subset=['Title', 'Document Number'])) # Checking to make sure number of rows is the same as the original"
   ],
   "outputs": [
    {
     "output_type": "execute_result",
     "data": {
      "text/plain": [
       "15151"
      ]
     },
     "metadata": {},
     "execution_count": 634
    }
   ],
   "metadata": {}
  },
  {
   "cell_type": "code",
   "execution_count": 635,
   "source": [
    "# We had encoding issues which led to NaN values in the merged dataframe.\r\n",
    "# The errors came from the table titles so I had to manually fix them and make the same in both dataframes.\r\n",
    "# For future use, we will need to modify the code to handle encoding issues automatically.\r\n",
    "# To do this, we will grab the index file from the database and use that file to label the VCs, then bundle the rows, \r\n",
    "# create French index by merging on ID column, and then concatenate the two dataframes. In other words, concatenate all eng projects in one file and fra in another.\r\n",
    "\r\n",
    "assert len(df_eng_old_merged[df_eng_old_merged.ID.isna()]) == 0 # making sure the merge was successful and did not cause NaN values"
   ],
   "outputs": [],
   "metadata": {}
  },
  {
   "cell_type": "code",
   "execution_count": 636,
   "source": [
    "assert len(df_eng_new_merged[df_eng_new_merged.ID.isna()]) == 0 # making sure the merge was successful and did not cause NaN values"
   ],
   "outputs": [],
   "metadata": {}
  },
  {
   "cell_type": "code",
   "execution_count": 772,
   "source": [
    "df_eng_old_merged.shape"
   ],
   "outputs": [
    {
     "output_type": "execute_result",
     "data": {
      "text/plain": [
       "(15151, 52)"
      ]
     },
     "metadata": {},
     "execution_count": 772
    }
   ],
   "metadata": {}
  },
  {
   "cell_type": "code",
   "execution_count": 775,
   "source": [
    "df_eng_new_merged.drop(columns=['filename', 'Hearing Order'], inplace=True)"
   ],
   "outputs": [],
   "metadata": {}
  },
  {
   "cell_type": "markdown",
   "source": [
    "# Creating the Merged French Index"
   ],
   "metadata": {}
  },
  {
   "cell_type": "code",
   "execution_count": 637,
   "source": [
    "df_fra_new_projects.drop(columns=['Data ID'], inplace=True)"
   ],
   "outputs": [],
   "metadata": {}
  },
  {
   "cell_type": "code",
   "execution_count": 776,
   "source": [
    "left_cols = ['ID']\r\n",
    "right_cols = ['ID']"
   ],
   "outputs": [],
   "metadata": {}
  },
  {
   "cell_type": "code",
   "execution_count": 777,
   "source": [
    "# Checking to see that the columns we've chosen to identify the rows are the same for each item in the dataframes\r\n",
    "\r\n",
    "mismatched_fr_items = []\r\n",
    "mismatched_en_items = []\r\n",
    "\r\n",
    "for right_col, left_col in zip(right_cols, left_cols):\r\n",
    "    fr_test = df_fra_old_tables[left_col].unique()\r\n",
    "    en_test = df_eng_old_tables[right_col].unique()\r\n",
    "    \r\n",
    "    for fr_item, en_item in zip(fr_test, en_test):\r\n",
    "        if fr_item != en_item:\r\n",
    "            print(fr_item, en_item)\r\n",
    "            mismatched_fr_items.append(fr_item)\r\n",
    "            mismatched_en_items.append(en_item)\r\n",
    "\r\n",
    "print(len(mismatched_fr_items))"
   ],
   "outputs": [
    {
     "output_type": "stream",
     "name": "stdout",
     "text": [
      "0\n"
     ]
    }
   ],
   "metadata": {}
  },
  {
   "cell_type": "code",
   "execution_count": 792,
   "source": [
    "df_fra_old_merged = merge_dfs_with_matching_specific_columns(df_fra_old_projects, df_eng_old_merged, left_on=left_cols, right_on=right_cols)\r\n",
    "df_fra_new_merged = merge_dfs_with_matching_specific_columns(df_fra_new_projects, df_eng_new_merged, left_on=left_cols, right_on=right_cols)"
   ],
   "outputs": [],
   "metadata": {}
  },
  {
   "cell_type": "code",
   "execution_count": 793,
   "source": [
    "print(len(df_fra_old_merged))"
   ],
   "outputs": [
    {
     "output_type": "stream",
     "name": "stdout",
     "text": [
      "24285\n"
     ]
    }
   ],
   "metadata": {}
  },
  {
   "cell_type": "code",
   "execution_count": 794,
   "source": [
    "labels_list = ['Landscape, terrain, and weather', \r\n",
    "                'Soil',\r\n",
    "                'Plants',\r\n",
    "                'Water',\r\n",
    "                'Fish',\r\n",
    "                'Wetlands',\r\n",
    "                'Wildlife',\r\n",
    "                'Species at Risk',\r\n",
    "                'Greenhouse gas emissions',\r\n",
    "                'Air emissions',\r\n",
    "                'Noise',\r\n",
    "                'Electricity and electromagnetism',\r\n",
    "                'Proximity to people',\r\n",
    "                'Archaeological, paleontological, historical, and culturally significant sites and resources',\r\n",
    "                'Human access to boats and waterways',\r\n",
    "                'Indigenous land, water, and air use',\r\n",
    "                'Impact to social and cultural well-being',\r\n",
    "                'Impact to human health and viewscapes',\r\n",
    "                'Social, cultural, economic infrastructure and services',\r\n",
    "                'Economic Offsets and Impact',\r\n",
    "                'Environmental Obligations',\r\n",
    "                'Treaty and Indigenous Rights']\r\n",
    "\r\n",
    "labels_list_fr = ['Paysage, terrain et conditions météorologiques',\r\n",
    "                    'Sol',\r\n",
    "                    'Plantes',\r\n",
    "                    'Eau',\r\n",
    "                    'Poissons',\r\n",
    "                    'Milieux humides',\r\n",
    "                    'Faune',\r\n",
    "                    'Espèces en péril',\r\n",
    "                    'Émissions de gaz à effet de serre',\r\n",
    "                    'Émissions atmosphériques',\r\n",
    "                    'Bruit',\r\n",
    "                    'Électricité et électromagnétisme',\r\n",
    "                    'Lieux habités à proximité',\r\n",
    "                    'Sites et ressources archéologiques, paléontologiques, historiques ou importants sur le plan culturel',\r\n",
    "                    'Activités à bord d’embarcation ou sur des voies navigables',\r\n",
    "                    'Utilisation des terres, de l’eau et du plein air par les Autochtones',\r\n",
    "                    'Incidences sur le bien-être social et culturel',\r\n",
    "                    'Incidence sur la santé humaine et le panorama',\r\n",
    "                    'Infrastructure et services sociaux, culturels et économiques',\r\n",
    "                    'Compensations et répercussions économiques',\r\n",
    "                    'Obligations en matière d’environnement',\r\n",
    "                    'Droits ancestraux et issus de traités']\r\n",
    "\r\n",
    "rename_eng_vcs_to_fra = {i:j for i,j in zip(labels_list, labels_list_fr)}"
   ],
   "outputs": [],
   "metadata": {}
  },
  {
   "cell_type": "code",
   "execution_count": 795,
   "source": [
    "df_fra_new_merged.columns.difference(df_fra_new_projects.columns)"
   ],
   "outputs": [
    {
     "output_type": "execute_result",
     "data": {
      "text/plain": [
       "Index(['Air emissions', 'Application Filing Date', 'Application Name', 'Application Short Name', 'Application Type (NEB Act)', 'Application URL', 'Archaeological, paleontological, historical, and culturally significant sites and resources', 'Commodity', 'Company Name', 'Consultant Name', 'Content Type', 'Decision URL', 'Document Number', 'ESA Folder URL', 'ESA Section(s)', 'ESA Section(s) Index', 'ESA Section(s) Topics', 'Economic Offsets and Impact', 'Electricity and electromagnetism', 'Environmental Obligations', 'File Name', 'Fish', 'Good Quality', 'Greenhouse gas emissions', 'Hearing order', 'Human access to boats and waterways', 'Impact to human health and viewscapes', 'Impact to social and cultural well-being', 'Indigenous land, water, and air use', 'Landscape, terrain, and weather', 'Noise', 'PDF Download URL', 'PDF Outline', 'PDF Page Count', 'PDF Page Number', 'PDF Size', 'Pipeline Location', 'Pipeline Status', 'Plants', 'Project Download Path', 'Proximity to people',\n",
       "       'Regulatory Instrument(s)', 'Social, cultural, economic infrastructure and services', 'Soil', 'Species at Risk', 'Table Download Path', 'Title', 'Treaty and Indigenous Rights', 'Water', 'Wetlands', 'Wildlife'],\n",
       "      dtype='object')"
      ]
     },
     "metadata": {},
     "execution_count": 795
    }
   ],
   "metadata": {}
  },
  {
   "cell_type": "code",
   "execution_count": 796,
   "source": [
    "eng_columns_to_drop = df_fra_new_merged.columns.difference(df_fra_new_projects.columns).tolist()\r\n",
    "eng_columns_to_drop = [elem for elem in columns_to_drop if elem not in labels_list]"
   ],
   "outputs": [],
   "metadata": {}
  },
  {
   "cell_type": "code",
   "execution_count": 797,
   "source": [
    "eng_columns_to_drop.remove('filename')\r\n",
    "eng_columns_to_drop.remove('Hearing Order')"
   ],
   "outputs": [],
   "metadata": {}
  },
  {
   "cell_type": "code",
   "execution_count": 798,
   "source": [
    "df_fra_old_merged.drop(columns=eng_columns_to_drop, inplace=True)\r\n",
    "df_fra_new_merged.drop(columns=eng_columns_to_drop, inplace=True)"
   ],
   "outputs": [],
   "metadata": {}
  },
  {
   "cell_type": "code",
   "execution_count": 799,
   "source": [
    "df_fra_old_merged.rename(columns=rename_eng_vcs_to_fra, inplace=True)\r\n",
    "df_fra_new_merged.rename(columns=rename_eng_vcs_to_fra, inplace=True)"
   ],
   "outputs": [],
   "metadata": {}
  },
  {
   "cell_type": "markdown",
   "source": [
    "# Adding the figures back into the old projects"
   ],
   "metadata": {}
  },
  {
   "cell_type": "code",
   "execution_count": 800,
   "source": [
    "df_eng_old_figures = df_eng_old_projects[df_eng_old_projects['Content Type'] == 'Figure']\r\n",
    "df_fra_old_figures = df_fra_old_projects[df_fra_old_projects['Type de contenu'] == 'Figure']"
   ],
   "outputs": [],
   "metadata": {}
  },
  {
   "cell_type": "code",
   "execution_count": 671,
   "source": [
    "# df_fra_old_figures.to_csv(\"G:\\ESA_downloads\\phase_2_download_files\\ESA_downloads_fra\\df_fra_old_figures.csv\", index=False, encoding='utf-8-sig')"
   ],
   "outputs": [],
   "metadata": {}
  },
  {
   "cell_type": "code",
   "execution_count": 801,
   "source": [
    "print(df_fra_old_figures.columns), print(df_fra_old_projects.columns)"
   ],
   "outputs": [
    {
     "output_type": "stream",
     "name": "stdout",
     "text": [
      "Index(['Titre', 'Type de contenu', 'Nom de la demande', 'Nom abrégé de la demande', 'Dépôt de la demande', 'Nom de la société', 'Produit de base', 'Nom de fichier', 'URL du dossier de l'ÉES', 'Numéro de document', 'URL de téléchargement PDF', 'Type de demande (Loi sur l'Office national de l'énergie)', 'Emplacement du pipeline', 'Ordonnance d'audience', 'Nom du consultant', 'État d'avancement', 'Instruments réglementaires', 'URL de la demande', 'URL de la décision', 'Sections de l'EES', 'Index des sections de l'ÉES', 'Sujets des sections de l'ÉES', 'Numéro de page PDF', 'Nombre de pages PDF', 'Taille PDF', 'Aperçu PDF', 'ID', 'Chemin d'accès pour télécharger le projet', 'Chemin d'accès pour télécharger le tableau', 'Bonne qualité'], dtype='object')\n",
      "Index(['Titre', 'Type de contenu', 'Nom de la demande', 'Nom abrégé de la demande', 'Dépôt de la demande', 'Nom de la société', 'Produit de base', 'Nom de fichier', 'URL du dossier de l'ÉES', 'Numéro de document', 'URL de téléchargement PDF', 'Type de demande (Loi sur l'Office national de l'énergie)', 'Emplacement du pipeline', 'Ordonnance d'audience', 'Nom du consultant', 'État d'avancement', 'Instruments réglementaires', 'URL de la demande', 'URL de la décision', 'Sections de l'EES', 'Index des sections de l'ÉES', 'Sujets des sections de l'ÉES', 'Numéro de page PDF', 'Nombre de pages PDF', 'Taille PDF', 'Aperçu PDF', 'ID', 'Chemin d'accès pour télécharger le projet', 'Chemin d'accès pour télécharger le tableau', 'Bonne qualité'], dtype='object')\n"
     ]
    },
    {
     "output_type": "execute_result",
     "data": {
      "text/plain": [
       "(None, None)"
      ]
     },
     "metadata": {},
     "execution_count": 801
    }
   ],
   "metadata": {}
  },
  {
   "cell_type": "code",
   "execution_count": 802,
   "source": [
    "df_eng_old_final = df_eng_old_merged.append(df_eng_old_figures)\r\n",
    "df_fra_old_final = df_fra_old_merged.append(df_fra_old_figures)"
   ],
   "outputs": [],
   "metadata": {}
  },
  {
   "cell_type": "code",
   "execution_count": 803,
   "source": [
    "df_eng_final = df_eng_new_merged.append(df_eng_old_final)\r\n",
    "df_fra_final = df_fra_new_merged.append(df_fra_old_final)"
   ],
   "outputs": [],
   "metadata": {}
  },
  {
   "cell_type": "code",
   "execution_count": 804,
   "source": [
    "df_eng_final.columns"
   ],
   "outputs": [
    {
     "output_type": "execute_result",
     "data": {
      "text/plain": [
       "Index(['Title', 'Document Number', 'PDF Page Number', 'ID', 'Content Type', 'Application Name', 'Application Short Name', 'Application Filing Date', 'Company Name', 'Commodity', 'File Name', 'ESA Folder URL', 'PDF Download URL', 'Application Type (NEB Act)', 'Pipeline Location', 'Hearing order', 'Consultant Name', 'Pipeline Status', 'Regulatory Instrument(s)', 'Application URL', 'Decision URL', 'ESA Section(s)', 'ESA Section(s) Index', 'ESA Section(s) Topics', 'PDF Page Count', 'PDF Size', 'PDF Outline', 'Landscape, terrain, and weather', 'Soil', 'Plants', 'Water', 'Fish', 'Wetlands', 'Wildlife', 'Species at Risk', 'Greenhouse gas emissions', 'Air emissions', 'Noise', 'Electricity and electromagnetism', 'Proximity to people', 'Archaeological, paleontological, historical, and culturally significant sites and resources', 'Human access to boats and waterways', 'Indigenous land, water, and air use', 'Impact to social and cultural well-being', 'Impact to human health and viewscapes',\n",
       "       'Social, cultural, economic infrastructure and services', 'Economic Offsets and Impact', 'Environmental Obligations', 'Treaty and Indigenous Rights', 'Project Download Path', 'Table Download Path', 'Good Quality'],\n",
       "      dtype='object')"
      ]
     },
     "metadata": {},
     "execution_count": 804
    }
   ],
   "metadata": {}
  },
  {
   "cell_type": "code",
   "execution_count": 805,
   "source": [
    "df_fra_old_figures.shape"
   ],
   "outputs": [
    {
     "output_type": "execute_result",
     "data": {
      "text/plain": [
       "(9134, 30)"
      ]
     },
     "metadata": {},
     "execution_count": 805
    }
   ],
   "metadata": {}
  },
  {
   "cell_type": "code",
   "execution_count": 807,
   "source": [
    "df_eng_final.shape"
   ],
   "outputs": [
    {
     "output_type": "execute_result",
     "data": {
      "text/plain": [
       "(24929, 52)"
      ]
     },
     "metadata": {},
     "execution_count": 807
    }
   ],
   "metadata": {}
  },
  {
   "cell_type": "code",
   "execution_count": 808,
   "source": [
    "df_fra_final.shape"
   ],
   "outputs": [
    {
     "output_type": "execute_result",
     "data": {
      "text/plain": [
       "(34063, 52)"
      ]
     },
     "metadata": {},
     "execution_count": 808
    }
   ],
   "metadata": {}
  },
  {
   "cell_type": "code",
   "execution_count": 649,
   "source": [
    "df_eng_old_merged.to_csv(\"G:\\ESA_downloads\\ESA_bundled_with_VCs\\ESA_website_ENG_old_projects_merged.csv\", index=False)"
   ],
   "outputs": [],
   "metadata": {}
  },
  {
   "cell_type": "code",
   "execution_count": 650,
   "source": [
    "df_eng_new_merged.to_csv(\"G:\\ESA_downloads\\ESA_bundled_with_VCs\\ESA_website_ENG_new_projects_merged.csv\", index=False)"
   ],
   "outputs": [],
   "metadata": {}
  },
  {
   "cell_type": "code",
   "execution_count": 652,
   "source": [
    "df_fra_old_merged.to_csv(\"G:\\ESA_downloads\\phase_2_download_files\\ESA_downloads_fra\\df_fra_old_merged.csv\", index=False, encoding='utf-8-sig')"
   ],
   "outputs": [],
   "metadata": {}
  },
  {
   "cell_type": "code",
   "execution_count": 659,
   "source": [
    "df_fra_new_merged.to_csv(\"G:\\ESA_downloads\\phase_2_download_files\\ESA_downloads_fra\\df_fra_new_merged.csv\", index=False, encoding='utf-8-sig')"
   ],
   "outputs": [],
   "metadata": {}
  },
  {
   "cell_type": "code",
   "execution_count": 662,
   "source": [
    "df_for_test = pd.read_csv(\"G:\\ESA_downloads\\phase_2_download_files\\ESA_downloads_fra\\df_fra_new_merged.csv\")"
   ],
   "outputs": [],
   "metadata": {}
  },
  {
   "cell_type": "code",
   "execution_count": 754,
   "source": [
    "import time\r\n",
    "current_time = time.strftime('%Y-%m-%d_%H-%M-%S')\r\n",
    "print(current_time)"
   ],
   "outputs": [
    {
     "output_type": "stream",
     "name": "stdout",
     "text": [
      "2021-09-10_15-14-58\n"
     ]
    }
   ],
   "metadata": {}
  },
  {
   "cell_type": "code",
   "execution_count": 755,
   "source": [
    "df_eng_final.to_csv(f\"G:\\ESA_downloads\\ESA_bundled_with_VCs\\ESA_website_ENG_{current_time}.csv\", index=False)"
   ],
   "outputs": [],
   "metadata": {}
  },
  {
   "cell_type": "code",
   "execution_count": null,
   "source": [
    "df_eng_final.to_csv(\"G:\\ESA_downloads\\ESA_bundled_with_VCs\\ESA_website_ENG_latest.csv\", index=False)"
   ],
   "outputs": [],
   "metadata": {}
  },
  {
   "cell_type": "code",
   "execution_count": null,
   "source": [
    "df_fra_final.to_csv(f\"G:\\ESA_downloads\\ESA_bundled_with_VCs\\ESA_website_FRA_{current_time}.csv\", index=False, encoding='utf-8-sig')"
   ],
   "outputs": [],
   "metadata": {}
  },
  {
   "cell_type": "code",
   "execution_count": null,
   "source": [
    "df_fra_final.to_csv(\"G:\\ESA_downloads\\ESA_bundled_with_VCs\\ESA_website_FRA_latest.csv\", index=False, encoding='utf-8-sig')"
   ],
   "outputs": [],
   "metadata": {}
  }
 ],
 "metadata": {
  "orig_nbformat": 4,
  "language_info": {
   "name": "python",
   "version": "3.8.8",
   "mimetype": "text/x-python",
   "codemirror_mode": {
    "name": "ipython",
    "version": 3
   },
   "pygments_lexer": "ipython3",
   "nbconvert_exporter": "python",
   "file_extension": ".py"
  },
  "kernelspec": {
   "name": "python3",
   "display_name": "Python 3.8.8 64-bit ('base': conda)"
  },
  "interpreter": {
   "hash": "e2bf75632dbab15b13c7e69d7c865eec44ce559fc915a91671bc417dc3e34be8"
  }
 },
 "nbformat": 4,
 "nbformat_minor": 2
}