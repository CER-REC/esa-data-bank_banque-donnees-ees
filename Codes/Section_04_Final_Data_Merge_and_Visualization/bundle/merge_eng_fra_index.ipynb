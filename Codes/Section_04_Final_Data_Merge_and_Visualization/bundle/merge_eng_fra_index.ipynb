{
 "cells": [
  {
   "cell_type": "markdown",
   "source": [
    "# Imports"
   ],
   "metadata": {}
  },
  {
   "cell_type": "code",
   "execution_count": 959,
   "source": [
    "import pandas as pd\r\n",
    "pd.set_option('display.max_rows', 50)\r\n",
    "pd.set_option('display.max_columns', 100)\r\n",
    "pd.set_option('display.max_colwidth', 100)"
   ],
   "outputs": [],
   "metadata": {}
  },
  {
   "cell_type": "markdown",
   "source": [
    "# Loading Index Files"
   ],
   "metadata": {}
  },
  {
   "cell_type": "code",
   "execution_count": 872,
   "source": [
    "df_eng_old_projects = pd.read_csv(\"G:\\ESA_downloads\\download_Bingjie_Mar262021\\ESA_website_ENG_old_projects.csv\", encoding='utf-8') # dtype fine\r\n",
    "df_eng_new_projects = pd.read_csv(\"G:\\ESA_downloads\\phase_2_download_files\\ESA_downloads\\ESA_website_ENG_new_projects_fixed_encoding_errors.csv\", encoding='utf-8') # dtypes fine\r\n",
    "\r\n",
    "df_fra_old_projects = pd.read_csv(\"G:\\ESA_downloads\\download_Bingjie_May062021_fra\\ESA_website_FRA_old_projects.csv\", encoding='latin1') # dtype fine\r\n",
    "df_fra_new_projects = pd.read_csv(\"G:\\ESA_downloads\\phase_2_download_files\\ESA_downloads_fra\\ESA_website_FRA_new_projects.csv\", encoding='utf-8') # dtypes fine\r\n",
    "\r\n",
    "df_eng_all_projects = pd.read_csv(\"G:\\ESA_downloads\\ESA_bundled_with_VCs\\intermediate_files\\ESA_website_ENG_fixed_encoding_errors.csv\", encoding='utf-8') # dtypes fine"
   ],
   "outputs": [
    {
     "output_type": "stream",
     "name": "stderr",
     "text": [
      "C:\\Users\\ThibJacq\\Anaconda3\\lib\\site-packages\\IPython\\core\\interactiveshell.py:3165: DtypeWarning: Columns (52) have mixed types.Specify dtype option on import or set low_memory=False.\n",
      "  has_raised = await self.run_ast_nodes(code_ast.body, cell_name,\n"
     ]
    }
   ],
   "metadata": {}
  },
  {
   "cell_type": "code",
   "execution_count": 873,
   "source": [
    "# Standardizing dates to be in the format YYYY-MM-DD (best format / required format for GC)\r\n",
    "\r\n",
    "df_eng_all_projects['Application Filing Date'] = pd.to_datetime(df_eng_all_projects['Application Filing Date'], format='%m/%d/%Y')\r\n",
    "df_eng_all_projects['Application Filing Date'] = df_eng_all_projects['Application Filing Date'].dt.strftime('%Y-%m-%d')\r\n",
    "\r\n",
    "df_eng_new_projects['Application Filing Date'] = pd.to_datetime(df_eng_new_projects['Application Filing Date'], format='%m/%d/%Y')\r\n",
    "df_eng_new_projects['Application Filing Date'] = df_eng_new_projects['Application Filing Date'].dt.strftime('%Y-%m-%d')\r\n",
    "\r\n",
    "df_fra_old_projects['Dépôt de la demande'] = pd.to_datetime(df_fra_old_projects['Dépôt de la demande'], format='%m/%d/%Y')\r\n",
    "df_fra_old_projects['Dépôt de la demande'] = df_fra_old_projects['Dépôt de la demande'].dt.strftime('%Y-%m-%d')\r\n",
    "\r\n",
    "df_fra_new_projects['Dépôt de la demande'] = pd.to_datetime(df_fra_new_projects['Dépôt de la demande'], format='%m/%d/%Y')\r\n",
    "df_fra_new_projects['Dépôt de la demande'] = df_fra_new_projects['Dépôt de la demande'].dt.strftime('%Y-%m-%d')"
   ],
   "outputs": [],
   "metadata": {}
  },
  {
   "cell_type": "code",
   "execution_count": 874,
   "source": [
    "df_eng_all_projects.drop(columns=['ID'], inplace=True)\r\n",
    "df_eng_all_projects.drop(columns=['Data ID'], inplace=True)\r\n",
    "df_eng_new_projects.drop(columns=['Data ID'], inplace=True)"
   ],
   "outputs": [],
   "metadata": {}
  },
  {
   "cell_type": "code",
   "execution_count": 875,
   "source": [
    "df_eng_old_tables = df_eng_old_projects[df_eng_old_projects['Content Type'] == 'Table']\r\n",
    "\r\n",
    "df_fra_old_tables = df_fra_old_projects[df_fra_old_projects['Type de contenu'] == 'Tableau']"
   ],
   "outputs": [],
   "metadata": {}
  },
  {
   "cell_type": "code",
   "execution_count": 876,
   "source": [
    "print(len(df_eng_old_projects))\r\n",
    "print(len(df_eng_new_projects))\r\n",
    "print(len(df_fra_old_projects))\r\n",
    "print(len(df_fra_new_projects))\r\n",
    "print(len(df_eng_all_projects))\r\n",
    "print(len(df_eng_old_projects) + len(df_eng_new_projects))\r\n",
    "print(len(df_eng_old_tables))\r\n",
    "print(len(df_fra_old_tables))"
   ],
   "outputs": [
    {
     "output_type": "stream",
     "name": "stdout",
     "text": [
      "24285\n",
      "644\n",
      "24285\n",
      "644\n",
      "24929\n",
      "24929\n",
      "15151\n",
      "15151\n"
     ]
    }
   ],
   "metadata": {}
  },
  {
   "cell_type": "markdown",
   "source": [
    "# Checking for duplicate rows"
   ],
   "metadata": {}
  },
  {
   "cell_type": "code",
   "execution_count": 877,
   "source": [
    "left_cols = ['Title', 'Document Number', 'PDF Page Number', 'Hearing order', 'File Name', 'Content Type']\r\n",
    "len(df_eng_old_tables[left_cols].drop_duplicates(keep='first'))"
   ],
   "outputs": [
    {
     "output_type": "execute_result",
     "data": {
      "text/plain": [
       "15151"
      ]
     },
     "metadata": {},
     "execution_count": 877
    }
   ],
   "metadata": {}
  },
  {
   "cell_type": "code",
   "execution_count": 878,
   "source": [
    "df_eng_old_tables[left_cols][df_eng_old_tables[left_cols].duplicated(keep='first')]"
   ],
   "outputs": [
    {
     "output_type": "execute_result",
     "data": {
      "text/plain": [
       "Empty DataFrame\n",
       "Columns: [Title, Document Number, PDF Page Number, Hearing order, File Name, Content Type]\n",
       "Index: []"
      ],
      "text/html": [
       "<div>\n",
       "<style scoped>\n",
       "    .dataframe tbody tr th:only-of-type {\n",
       "        vertical-align: middle;\n",
       "    }\n",
       "\n",
       "    .dataframe tbody tr th {\n",
       "        vertical-align: top;\n",
       "    }\n",
       "\n",
       "    .dataframe thead th {\n",
       "        text-align: right;\n",
       "    }\n",
       "</style>\n",
       "<table border=\"1\" class=\"dataframe\">\n",
       "  <thead>\n",
       "    <tr style=\"text-align: right;\">\n",
       "      <th></th>\n",
       "      <th>Title</th>\n",
       "      <th>Document Number</th>\n",
       "      <th>PDF Page Number</th>\n",
       "      <th>Hearing order</th>\n",
       "      <th>File Name</th>\n",
       "      <th>Content Type</th>\n",
       "    </tr>\n",
       "  </thead>\n",
       "  <tbody>\n",
       "  </tbody>\n",
       "</table>\n",
       "</div>"
      ]
     },
     "metadata": {},
     "execution_count": 878
    }
   ],
   "metadata": {}
  },
  {
   "cell_type": "markdown",
   "source": [
    "# Updating old and new index files with index file containing all projects and VCs"
   ],
   "metadata": {}
  },
  {
   "cell_type": "code",
   "execution_count": 879,
   "source": [
    "df_eng_all_projects.Title = df_eng_all_projects.Title.astype(str)\r\n",
    "df_eng_new_projects.Title = df_eng_new_projects.Title.astype(str)\r\n",
    "df_eng_old_projects['Regulatory Instrument(s)'] = df_eng_old_projects['Regulatory Instrument(s)'].astype(str)"
   ],
   "outputs": [],
   "metadata": {}
  },
  {
   "cell_type": "code",
   "execution_count": 880,
   "source": [
    "df_eng_new_projects[df_eng_new_projects.Title.isnull()]"
   ],
   "outputs": [
    {
     "output_type": "execute_result",
     "data": {
      "text/plain": [
       "Empty DataFrame\n",
       "Columns: [Title, Content Type, Application Name, Application Short Name, Application Filing Date, Company Name, Commodity, File Name, ESA Folder URL, Document Number, PDF Download URL, Application Type (NEB Act), Pipeline Location, Hearing order, Consultant Name, Pipeline Status, Regulatory Instrument(s), Application URL, Decision URL, ESA Section(s), ESA Section(s) Index, ESA Section(s) Topics, PDF Page Number, PDF Page Count, PDF Size, PDF Outline, ID, Project Download Path, Table Download Path, Good Quality, filename, Hearing Order]\n",
       "Index: []"
      ],
      "text/html": [
       "<div>\n",
       "<style scoped>\n",
       "    .dataframe tbody tr th:only-of-type {\n",
       "        vertical-align: middle;\n",
       "    }\n",
       "\n",
       "    .dataframe tbody tr th {\n",
       "        vertical-align: top;\n",
       "    }\n",
       "\n",
       "    .dataframe thead th {\n",
       "        text-align: right;\n",
       "    }\n",
       "</style>\n",
       "<table border=\"1\" class=\"dataframe\">\n",
       "  <thead>\n",
       "    <tr style=\"text-align: right;\">\n",
       "      <th></th>\n",
       "      <th>Title</th>\n",
       "      <th>Content Type</th>\n",
       "      <th>Application Name</th>\n",
       "      <th>Application Short Name</th>\n",
       "      <th>Application Filing Date</th>\n",
       "      <th>Company Name</th>\n",
       "      <th>Commodity</th>\n",
       "      <th>File Name</th>\n",
       "      <th>ESA Folder URL</th>\n",
       "      <th>Document Number</th>\n",
       "      <th>PDF Download URL</th>\n",
       "      <th>Application Type (NEB Act)</th>\n",
       "      <th>Pipeline Location</th>\n",
       "      <th>Hearing order</th>\n",
       "      <th>Consultant Name</th>\n",
       "      <th>Pipeline Status</th>\n",
       "      <th>Regulatory Instrument(s)</th>\n",
       "      <th>Application URL</th>\n",
       "      <th>Decision URL</th>\n",
       "      <th>ESA Section(s)</th>\n",
       "      <th>ESA Section(s) Index</th>\n",
       "      <th>ESA Section(s) Topics</th>\n",
       "      <th>PDF Page Number</th>\n",
       "      <th>PDF Page Count</th>\n",
       "      <th>PDF Size</th>\n",
       "      <th>PDF Outline</th>\n",
       "      <th>ID</th>\n",
       "      <th>Project Download Path</th>\n",
       "      <th>Table Download Path</th>\n",
       "      <th>Good Quality</th>\n",
       "      <th>filename</th>\n",
       "      <th>Hearing Order</th>\n",
       "    </tr>\n",
       "  </thead>\n",
       "  <tbody>\n",
       "  </tbody>\n",
       "</table>\n",
       "</div>"
      ]
     },
     "metadata": {},
     "execution_count": 880
    }
   ],
   "metadata": {}
  },
  {
   "cell_type": "code",
   "execution_count": 881,
   "source": [
    "def merge_dfs_with_matching_specific_columns(left_df, right_df, left_on, right_on):\r\n",
    "    \"\"\"Merge two dataframes based on common columns and only keep rows where\r\n",
    "    the values match.\r\n",
    "    \"\"\"\r\n",
    "    merged_df = pd.merge(left_df, right_df, how='left', left_on=left_on, right_on=right_on, suffixes=('_x', ''))\r\n",
    "    merged_df.drop(merged_df.filter(regex='_x$').columns, axis=1, inplace=True)\r\n",
    "    return merged_df\r\n",
    "\r\n",
    "left_cols = ['Title', 'Document Number', 'PDF Page Number']\r\n",
    "right_cols = ['Title', 'Document Number', 'PDF Page Number']\r\n",
    "\r\n",
    "df_eng_old_merged = merge_dfs_with_matching_specific_columns(df_eng_old_tables, df_eng_all_projects, left_on=left_cols, right_on=right_cols)\r\n",
    "df_eng_new_merged = merge_dfs_with_matching_specific_columns(df_eng_new_projects, df_eng_all_projects, left_on=left_cols, right_on=right_cols)"
   ],
   "outputs": [],
   "metadata": {}
  },
  {
   "cell_type": "code",
   "execution_count": 882,
   "source": [
    "len(df_eng_old_merged.drop_duplicates(subset=['Title', 'Document Number'])) # Checking to make sure number of rows is the same as the original"
   ],
   "outputs": [
    {
     "output_type": "execute_result",
     "data": {
      "text/plain": [
       "15151"
      ]
     },
     "metadata": {},
     "execution_count": 882
    }
   ],
   "metadata": {}
  },
  {
   "cell_type": "code",
   "execution_count": 883,
   "source": [
    "# We had encoding issues which led to NaN values in the merged dataframe.\r\n",
    "# The errors came from the table titles so I had to manually fix them and make the same in both dataframes.\r\n",
    "# For future use, we will need to modify the code to handle encoding issues automatically.\r\n",
    "# To do this, we will grab the index file from the database and use that file to label the VCs, then bundle the rows, \r\n",
    "# create French index by merging on ID column, and then concatenate the two dataframes. In other words, concatenate all eng projects in one file and fra in another.\r\n",
    "\r\n",
    "assert len(df_eng_old_merged[df_eng_old_merged.ID.isna()]) == 0 # making sure the merge was successful and did not cause NaN values"
   ],
   "outputs": [],
   "metadata": {}
  },
  {
   "cell_type": "code",
   "execution_count": 884,
   "source": [
    "assert len(df_eng_new_merged[df_eng_new_merged.ID.isna()]) == 0 # making sure the merge was successful and did not cause NaN values"
   ],
   "outputs": [],
   "metadata": {}
  },
  {
   "cell_type": "code",
   "execution_count": 885,
   "source": [
    "df_eng_old_merged.shape"
   ],
   "outputs": [
    {
     "output_type": "execute_result",
     "data": {
      "text/plain": [
       "(15151, 52)"
      ]
     },
     "metadata": {},
     "execution_count": 885
    }
   ],
   "metadata": {}
  },
  {
   "cell_type": "code",
   "execution_count": 886,
   "source": [
    "df_eng_new_merged.drop(columns=['filename', 'Hearing Order'], inplace=True)"
   ],
   "outputs": [],
   "metadata": {}
  },
  {
   "cell_type": "markdown",
   "source": [
    "# Creating the Merged French Index"
   ],
   "metadata": {}
  },
  {
   "cell_type": "code",
   "execution_count": 887,
   "source": [
    "df_fra_new_projects.drop(columns=['Data ID'], inplace=True)"
   ],
   "outputs": [],
   "metadata": {}
  },
  {
   "cell_type": "code",
   "execution_count": 888,
   "source": [
    "left_cols = ['ID']\r\n",
    "right_cols = ['ID']"
   ],
   "outputs": [],
   "metadata": {}
  },
  {
   "cell_type": "code",
   "execution_count": 889,
   "source": [
    "# Checking to see that the columns we've chosen to identify the rows are the same for each item in the dataframes\r\n",
    "\r\n",
    "mismatched_fr_items = []\r\n",
    "mismatched_en_items = []\r\n",
    "\r\n",
    "for right_col, left_col in zip(right_cols, left_cols):\r\n",
    "    fr_test = df_fra_old_tables[left_col].unique()\r\n",
    "    en_test = df_eng_old_tables[right_col].unique()\r\n",
    "    \r\n",
    "    for fr_item, en_item in zip(fr_test, en_test):\r\n",
    "        if fr_item != en_item:\r\n",
    "            print(fr_item, en_item)\r\n",
    "            mismatched_fr_items.append(fr_item)\r\n",
    "            mismatched_en_items.append(en_item)\r\n",
    "\r\n",
    "print(len(mismatched_fr_items))"
   ],
   "outputs": [
    {
     "output_type": "stream",
     "name": "stdout",
     "text": [
      "0\n"
     ]
    }
   ],
   "metadata": {}
  },
  {
   "cell_type": "code",
   "execution_count": 890,
   "source": [
    "df_fra_old_merged = merge_dfs_with_matching_specific_columns(df_fra_old_tables, df_eng_old_merged, left_on=left_cols, right_on=right_cols)\r\n",
    "df_fra_new_merged = merge_dfs_with_matching_specific_columns(df_fra_new_projects, df_eng_new_merged, left_on=left_cols, right_on=right_cols)"
   ],
   "outputs": [],
   "metadata": {}
  },
  {
   "cell_type": "code",
   "execution_count": 891,
   "source": [
    "print(len(df_fra_old_merged))"
   ],
   "outputs": [
    {
     "output_type": "stream",
     "name": "stdout",
     "text": [
      "15151\n"
     ]
    }
   ],
   "metadata": {}
  },
  {
   "cell_type": "code",
   "execution_count": 892,
   "source": [
    "labels_list = ['Landscape, terrain, and weather', \r\n",
    "                'Soil',\r\n",
    "                'Plants',\r\n",
    "                'Water',\r\n",
    "                'Fish',\r\n",
    "                'Wetlands',\r\n",
    "                'Wildlife',\r\n",
    "                'Species at Risk',\r\n",
    "                'Greenhouse gas emissions',\r\n",
    "                'Air emissions',\r\n",
    "                'Noise',\r\n",
    "                'Electricity and electromagnetism',\r\n",
    "                'Proximity to people',\r\n",
    "                'Archaeological, paleontological, historical, and culturally significant sites and resources',\r\n",
    "                'Human access to boats and waterways',\r\n",
    "                'Indigenous land, water, and air use',\r\n",
    "                'Impact to social and cultural well-being',\r\n",
    "                'Impact to human health and viewscapes',\r\n",
    "                'Social, cultural, economic infrastructure and services',\r\n",
    "                'Economic Offsets and Impact',\r\n",
    "                'Environmental Obligations',\r\n",
    "                'Treaty and Indigenous Rights']\r\n",
    "\r\n",
    "labels_list_fr = ['Paysage, terrain et conditions météorologiques',\r\n",
    "                    'Sol',\r\n",
    "                    'Plantes',\r\n",
    "                    'Eau',\r\n",
    "                    'Poissons',\r\n",
    "                    'Milieux humides',\r\n",
    "                    'Faune',\r\n",
    "                    'Espèces en péril',\r\n",
    "                    'Émissions de gaz à effet de serre',\r\n",
    "                    'Émissions atmosphériques',\r\n",
    "                    'Bruit',\r\n",
    "                    'Électricité et électromagnétisme',\r\n",
    "                    'Lieux habités à proximité',\r\n",
    "                    'Sites et ressources archéologiques, paléontologiques, historiques ou importants sur le plan culturel',\r\n",
    "                    'Activités à bord d’embarcation ou sur des voies navigables',\r\n",
    "                    'Utilisation des terres, de l’eau et du plein air par les Autochtones',\r\n",
    "                    'Incidences sur le bien-être social et culturel',\r\n",
    "                    'Incidence sur la santé humaine et le panorama',\r\n",
    "                    'Infrastructure et services sociaux, culturels et économiques',\r\n",
    "                    'Compensations et répercussions économiques',\r\n",
    "                    'Obligations en matière d’environnement',\r\n",
    "                    'Droits ancestraux et issus de traités']\r\n",
    "\r\n",
    "rename_eng_vcs_to_fra = {i:j for i,j in zip(labels_list, labels_list_fr)}"
   ],
   "outputs": [],
   "metadata": {}
  },
  {
   "cell_type": "code",
   "execution_count": 893,
   "source": [
    "df_fra_new_merged.columns.difference(df_fra_new_projects.columns)"
   ],
   "outputs": [
    {
     "output_type": "execute_result",
     "data": {
      "text/plain": [
       "Index(['Air emissions', 'Application Filing Date', 'Application Name', 'Application Short Name', 'Application Type (NEB Act)', 'Application URL', 'Archaeological, paleontological, historical, and culturally significant sites and resources', 'Commodity', 'Company Name', 'Consultant Name', 'Content Type', 'Decision URL', 'Document Number', 'ESA Folder URL', 'ESA Section(s)', 'ESA Section(s) Index', 'ESA Section(s) Topics', 'Economic Offsets and Impact', 'Electricity and electromagnetism', 'Environmental Obligations', 'File Name', 'Fish', 'Good Quality', 'Greenhouse gas emissions', 'Hearing order', 'Human access to boats and waterways', 'Impact to human health and viewscapes', 'Impact to social and cultural well-being', 'Indigenous land, water, and air use', 'Landscape, terrain, and weather', 'Noise', 'PDF Download URL', 'PDF Outline', 'PDF Page Count', 'PDF Page Number', 'PDF Size', 'Pipeline Location', 'Pipeline Status', 'Plants', 'Project Download Path', 'Proximity to people',\n",
       "       'Regulatory Instrument(s)', 'Social, cultural, economic infrastructure and services', 'Soil', 'Species at Risk', 'Table Download Path', 'Title', 'Treaty and Indigenous Rights', 'Water', 'Wetlands', 'Wildlife'],\n",
       "      dtype='object')"
      ]
     },
     "metadata": {},
     "execution_count": 893
    }
   ],
   "metadata": {}
  },
  {
   "cell_type": "code",
   "execution_count": 894,
   "source": [
    "eng_columns_to_drop = df_fra_new_merged.columns.difference(df_fra_new_projects.columns).tolist()\r\n",
    "eng_columns_to_drop = [elem for elem in columns_to_drop if elem not in labels_list]"
   ],
   "outputs": [],
   "metadata": {}
  },
  {
   "cell_type": "code",
   "execution_count": 895,
   "source": [
    "eng_columns_to_drop.remove('filename')\r\n",
    "eng_columns_to_drop.remove('Hearing Order')"
   ],
   "outputs": [],
   "metadata": {}
  },
  {
   "cell_type": "code",
   "execution_count": 896,
   "source": [
    "df_fra_old_merged.drop(columns=eng_columns_to_drop, inplace=True)\r\n",
    "df_fra_new_merged.drop(columns=eng_columns_to_drop, inplace=True)"
   ],
   "outputs": [],
   "metadata": {}
  },
  {
   "cell_type": "code",
   "execution_count": 897,
   "source": [
    "df_fra_old_merged.rename(columns=rename_eng_vcs_to_fra, inplace=True)\r\n",
    "df_fra_new_merged.rename(columns=rename_eng_vcs_to_fra, inplace=True)"
   ],
   "outputs": [],
   "metadata": {}
  },
  {
   "cell_type": "markdown",
   "source": [
    "# Adding the figures back into the old projects"
   ],
   "metadata": {}
  },
  {
   "cell_type": "code",
   "execution_count": 898,
   "source": [
    "df_eng_old_figures = df_eng_old_projects[df_eng_old_projects['Content Type'] == 'Figure']\r\n",
    "df_fra_old_figures = df_fra_old_projects[df_fra_old_projects['Type de contenu'] == 'Figure']"
   ],
   "outputs": [],
   "metadata": {}
  },
  {
   "cell_type": "code",
   "execution_count": 899,
   "source": [
    "# df_fra_old_figures.to_csv(\"G:\\ESA_downloads\\phase_2_download_files\\ESA_downloads_fra\\df_fra_old_figures.csv\", index=False, encoding='utf-8-sig')"
   ],
   "outputs": [],
   "metadata": {}
  },
  {
   "cell_type": "code",
   "execution_count": 900,
   "source": [
    "print(df_fra_old_figures.columns), print(df_fra_old_projects.columns)"
   ],
   "outputs": [
    {
     "output_type": "stream",
     "name": "stdout",
     "text": [
      "Index(['Titre', 'Type de contenu', 'Nom de la demande', 'Nom abrégé de la demande', 'Dépôt de la demande', 'Nom de la société', 'Produit de base', 'Nom de fichier', 'URL du dossier de l'ÉES', 'Numéro de document', 'URL de téléchargement PDF', 'Type de demande (Loi sur l'Office national de l'énergie)', 'Emplacement du pipeline', 'Ordonnance d'audience', 'Nom du consultant', 'État d'avancement', 'Instruments réglementaires', 'URL de la demande', 'URL de la décision', 'Sections de l'EES', 'Index des sections de l'ÉES', 'Sujets des sections de l'ÉES', 'Numéro de page PDF', 'Nombre de pages PDF', 'Taille PDF', 'Aperçu PDF', 'ID', 'Chemin d'accès pour télécharger le projet', 'Chemin d'accès pour télécharger le tableau', 'Bonne qualité'], dtype='object')\n",
      "Index(['Titre', 'Type de contenu', 'Nom de la demande', 'Nom abrégé de la demande', 'Dépôt de la demande', 'Nom de la société', 'Produit de base', 'Nom de fichier', 'URL du dossier de l'ÉES', 'Numéro de document', 'URL de téléchargement PDF', 'Type de demande (Loi sur l'Office national de l'énergie)', 'Emplacement du pipeline', 'Ordonnance d'audience', 'Nom du consultant', 'État d'avancement', 'Instruments réglementaires', 'URL de la demande', 'URL de la décision', 'Sections de l'EES', 'Index des sections de l'ÉES', 'Sujets des sections de l'ÉES', 'Numéro de page PDF', 'Nombre de pages PDF', 'Taille PDF', 'Aperçu PDF', 'ID', 'Chemin d'accès pour télécharger le projet', 'Chemin d'accès pour télécharger le tableau', 'Bonne qualité'], dtype='object')\n"
     ]
    },
    {
     "output_type": "execute_result",
     "data": {
      "text/plain": [
       "(None, None)"
      ]
     },
     "metadata": {},
     "execution_count": 900
    }
   ],
   "metadata": {}
  },
  {
   "cell_type": "code",
   "execution_count": 901,
   "source": [
    "df_eng_old_final = df_eng_old_merged.append(df_eng_old_figures)\r\n",
    "df_fra_old_final = df_fra_old_merged.append(df_fra_old_figures)"
   ],
   "outputs": [],
   "metadata": {}
  },
  {
   "cell_type": "code",
   "execution_count": 902,
   "source": [
    "df_eng_final = df_eng_new_merged.append(df_eng_old_final)\r\n",
    "df_fra_final = df_fra_new_merged.append(df_fra_old_final)"
   ],
   "outputs": [],
   "metadata": {}
  },
  {
   "cell_type": "code",
   "execution_count": 951,
   "source": [
    "df_eng_final.columns"
   ],
   "outputs": [
    {
     "output_type": "execute_result",
     "data": {
      "text/plain": [
       "Index(['Title', 'Document Number', 'PDF Page Number', 'ID', 'Content Type', 'Application Name', 'Application Short Name', 'Application Filing Date', 'Company Name', 'Commodity', 'File Name', 'ESA Folder URL', 'PDF Download URL', 'Application Type (NEB Act)', 'Pipeline Location', 'Hearing order', 'Consultant Name', 'Pipeline Status', 'Regulatory Instrument(s)', 'Application URL', 'Decision URL', 'ESA Section(s)', 'ESA Section(s) Index', 'ESA Section(s) Topics', 'PDF Page Count', 'PDF Size', 'PDF Outline', 'Landscape, terrain, and weather', 'Soil', 'Plants', 'Water', 'Fish', 'Wetlands', 'Wildlife', 'Species at Risk', 'Greenhouse gas emissions', 'Air emissions', 'Noise', 'Electricity and electromagnetism', 'Proximity to people', 'Archaeological, paleontological, historical, and culturally significant sites and resources', 'Human access to boats and waterways', 'Indigenous land, water, and air use', 'Impact to social and cultural well-being', 'Impact to human health and viewscapes',\n",
       "       'Social, cultural, economic infrastructure and services', 'Economic Offsets and Impact', 'Environmental Obligations', 'Treaty and Indigenous Rights', 'Project Download Path', 'Table Download Path', 'Good Quality'],\n",
       "      dtype='object')"
      ]
     },
     "metadata": {},
     "execution_count": 951
    }
   ],
   "metadata": {}
  },
  {
   "cell_type": "code",
   "execution_count": 904,
   "source": [
    "df_fra_old_figures.shape"
   ],
   "outputs": [
    {
     "output_type": "execute_result",
     "data": {
      "text/plain": [
       "(9134, 30)"
      ]
     },
     "metadata": {},
     "execution_count": 904
    }
   ],
   "metadata": {}
  },
  {
   "cell_type": "code",
   "execution_count": 905,
   "source": [
    "df_eng_final.shape"
   ],
   "outputs": [
    {
     "output_type": "execute_result",
     "data": {
      "text/plain": [
       "(24929, 52)"
      ]
     },
     "metadata": {},
     "execution_count": 905
    }
   ],
   "metadata": {}
  },
  {
   "cell_type": "code",
   "execution_count": 906,
   "source": [
    "df_fra_final.shape"
   ],
   "outputs": [
    {
     "output_type": "execute_result",
     "data": {
      "text/plain": [
       "(24929, 52)"
      ]
     },
     "metadata": {},
     "execution_count": 906
    }
   ],
   "metadata": {}
  },
  {
   "cell_type": "code",
   "execution_count": 917,
   "source": [
    "df_eng_final.sort_values(by=['Content Type', 'Application Filing Date', 'Application Short Name', 'PDF Page Number'], ascending=[False, False, True, True], inplace=True)"
   ],
   "outputs": [],
   "metadata": {}
  },
  {
   "cell_type": "code",
   "execution_count": 918,
   "source": [
    "df_fra_final.sort_values(by=['Type de contenu', 'Dépôt de la demande', 'Nom abrégé de la demande', 'Numéro de page PDF'], ascending=[False, False, True, True], inplace=True)"
   ],
   "outputs": [],
   "metadata": {}
  },
  {
   "cell_type": "code",
   "execution_count": 938,
   "source": [
    "import numpy as np\r\n",
    "df_eng_final[labels_list] = df_eng_final[labels_list].replace(np.nan, 0)\r\n",
    "df_fra_final[labels_list_fr] = df_fra_final[labels_list_fr].replace(np.nan, 0)"
   ],
   "outputs": [],
   "metadata": {}
  },
  {
   "cell_type": "code",
   "execution_count": 942,
   "source": [
    "df_eng_final[labels_list] = df_eng_final[labels_list].astype(int)\r\n",
    "df_fra_final[labels_list_fr] = df_fra_final[labels_list_fr].astype(int)"
   ],
   "outputs": [],
   "metadata": {}
  },
  {
   "cell_type": "code",
   "execution_count": 952,
   "source": [
    "sorted_eng_columns = ['Title', 'Content Type', 'Application Name', 'Application Short Name', 'Application Filing Date', 'Company Name', 'Commodity', 'File Name', 'ESA Folder URL', 'Document Number', 'PDF Download URL', 'Application Type (NEB Act)', 'Pipeline Location', 'Hearing order', 'Consultant Name', 'Pipeline Status', 'Regulatory Instrument(s)', 'Application URL', 'Decision URL', 'ESA Section(s)', 'ESA Section(s) Index', 'ESA Section(s) Topics', 'PDF Page Number', 'PDF Page Count', 'PDF Size', 'PDF Outline', 'ID', 'Project Download Path', 'Table Download Path', 'Good Quality']\r\n",
    "sorted_eng_columns.extend(labels_list)\r\n",
    "\r\n",
    "sorted_fra_columns = ['Titre', 'Type de contenu', 'Nom de la demande', 'Nom abrégé de la demande', 'Dépôt de la demande', 'Nom de la société', 'Produit de base', 'Nom de fichier', 'URL du dossier de l\\'ÉES', 'Numéro de document', 'URL de téléchargement PDF', 'Type de demande (Loi sur l\\'Office national de l\\'énergie)', 'Emplacement du pipeline', 'Ordonnance d\\'audience', 'Nom du consultant', 'État d\\'avancement', 'Instruments réglementaires', 'URL de la demande', 'URL de la décision', 'Sections de l\\'EES', 'Index des sections de l\\'ÉES', 'Sujets des sections de l\\'ÉES', 'Numéro de page PDF', 'Nombre de pages PDF', 'Taille PDF', 'Aperçu PDF', 'ID', 'Chemin d\\'accès pour télécharger le projet', 'Chemin d\\'accès pour télécharger le tableau', 'Bonne qualité']\r\n",
    "sorted_fra_columns.extend(labels_list_fr)"
   ],
   "outputs": [],
   "metadata": {}
  },
  {
   "cell_type": "code",
   "execution_count": 955,
   "source": [
    "df_eng_final = df_eng_final.reindex(sorted_eng_columns, axis=1)\r\n",
    "df_fra_final = df_fra_final.reindex(sorted_fra_columns, axis=1)"
   ],
   "outputs": [],
   "metadata": {}
  },
  {
   "cell_type": "code",
   "execution_count": 960,
   "source": [
    "df_eng_final.head(2)"
   ],
   "outputs": [
    {
     "output_type": "execute_result",
     "data": {
      "text/plain": [
       "                                                                                                   Title Content Type                                          Application Name   Application Short Name Application Filing Date                Company Name Commodity                                                     File Name                                        ESA Folder URL Document Number                                          PDF Download URL   Application Type (NEB Act) Pipeline Location Hearing order         Consultant Name Pipeline Status Regulatory Instrument(s)                                       Application URL Decision URL                                                                                       ESA Section(s)  ESA Section(s) Index ESA Section(s) Topics  PDF Page Number  PDF Page Count  PDF Size PDF Outline   ID         Project Download Path                                                                                  Table Download Path Good Quality  \\\n",
       "361                                                                    Table 7.1 Wildlife Key Indicators        Table  Application for the NGTL West Path Delivery 2023 Project  West Path Delivery 2023              2020-10-22  NOVA Gas Transmission Ltd.       Gas  C09063-11 NGTL WPD 2023_ESA_Part 2_Sections 7 to 18 - A7J7C9  https://apps.cer-rec.gc.ca/REGDOCS/Item/View/3974306          A7J7C9  https://apps.cer-rec.gc.ca/REGDOCS/File/Download/4003703  Large Projects (over 40 km)           Alberta   GH-002-2020  Stantec Consulting Ltd         Applied                      NaN  https://apps.cer-rec.gc.ca/REGDOCS/Item/View/3968941          NaN  7.0 ASSESSMENT OF EFFECTS ON WILDLIFE AND WILDLIFE HABITAT, 8.0 ASSESSMENT OF EFFECTS ON AQUATIC...                   NaN                   NaN                4           612.0     13.74         Yes  362  /projects/wstpthdlvr2023.zip                /tables/wstpthdlvr2023_table-7-1-wildlife-key-indicators_pt-1_pg-4_doc-num-A7J7C9.zip         True   \n",
       "372  Table 7.2 Potential Effects, Effect Pathways and Measurable Parameters for Wildlife and Wildlife...        Table  Application for the NGTL West Path Delivery 2023 Project  West Path Delivery 2023              2020-10-22  NOVA Gas Transmission Ltd.       Gas  C09063-11 NGTL WPD 2023_ESA_Part 2_Sections 7 to 18 - A7J7C9  https://apps.cer-rec.gc.ca/REGDOCS/Item/View/3974306          A7J7C9  https://apps.cer-rec.gc.ca/REGDOCS/File/Download/4003703  Large Projects (over 40 km)           Alberta   GH-002-2020  Stantec Consulting Ltd         Applied                      NaN  https://apps.cer-rec.gc.ca/REGDOCS/Item/View/3968941          NaN  7.0 ASSESSMENT OF EFFECTS ON WILDLIFE AND WILDLIFE HABITAT, 8.0 ASSESSMENT OF EFFECTS ON AQUATIC...                   NaN                   NaN                6           612.0     13.74         Yes  373  /projects/wstpthdlvr2023.zip  /tables/wstpthdlvr2023_table-7-2-potential-effects-effect-pathways-and-me_pt-1_pg-6_doc-num-A7J7...         True   \n",
       "\n",
       "     Landscape, terrain, and weather  Soil  Plants  Water  Fish  Wetlands  Wildlife  Species at Risk  Greenhouse gas emissions  Air emissions  Noise  Electricity and electromagnetism  Proximity to people  Archaeological, paleontological, historical, and culturally significant sites and resources  Human access to boats and waterways  Indigenous land, water, and air use  Impact to social and cultural well-being  Impact to human health and viewscapes  Social, cultural, economic infrastructure and services  Economic Offsets and Impact  Environmental Obligations  Treaty and Indigenous Rights  \n",
       "361                                0     0       2      1     2         3        55               49                         0              0      0                                 0                    3                                                                                            1                                    0                                   20                                         8                                      1                                                       2                            0                         11                            20  \n",
       "372                                2     0       3      0     0         0        32               10                         0              0      0                                 0                    5                                                                                            2                                    0                                    5                                         2                                      4                                                       6                            1                          0                             5  "
      ],
      "text/html": [
       "<div>\n",
       "<style scoped>\n",
       "    .dataframe tbody tr th:only-of-type {\n",
       "        vertical-align: middle;\n",
       "    }\n",
       "\n",
       "    .dataframe tbody tr th {\n",
       "        vertical-align: top;\n",
       "    }\n",
       "\n",
       "    .dataframe thead th {\n",
       "        text-align: right;\n",
       "    }\n",
       "</style>\n",
       "<table border=\"1\" class=\"dataframe\">\n",
       "  <thead>\n",
       "    <tr style=\"text-align: right;\">\n",
       "      <th></th>\n",
       "      <th>Title</th>\n",
       "      <th>Content Type</th>\n",
       "      <th>Application Name</th>\n",
       "      <th>Application Short Name</th>\n",
       "      <th>Application Filing Date</th>\n",
       "      <th>Company Name</th>\n",
       "      <th>Commodity</th>\n",
       "      <th>File Name</th>\n",
       "      <th>ESA Folder URL</th>\n",
       "      <th>Document Number</th>\n",
       "      <th>PDF Download URL</th>\n",
       "      <th>Application Type (NEB Act)</th>\n",
       "      <th>Pipeline Location</th>\n",
       "      <th>Hearing order</th>\n",
       "      <th>Consultant Name</th>\n",
       "      <th>Pipeline Status</th>\n",
       "      <th>Regulatory Instrument(s)</th>\n",
       "      <th>Application URL</th>\n",
       "      <th>Decision URL</th>\n",
       "      <th>ESA Section(s)</th>\n",
       "      <th>ESA Section(s) Index</th>\n",
       "      <th>ESA Section(s) Topics</th>\n",
       "      <th>PDF Page Number</th>\n",
       "      <th>PDF Page Count</th>\n",
       "      <th>PDF Size</th>\n",
       "      <th>PDF Outline</th>\n",
       "      <th>ID</th>\n",
       "      <th>Project Download Path</th>\n",
       "      <th>Table Download Path</th>\n",
       "      <th>Good Quality</th>\n",
       "      <th>Landscape, terrain, and weather</th>\n",
       "      <th>Soil</th>\n",
       "      <th>Plants</th>\n",
       "      <th>Water</th>\n",
       "      <th>Fish</th>\n",
       "      <th>Wetlands</th>\n",
       "      <th>Wildlife</th>\n",
       "      <th>Species at Risk</th>\n",
       "      <th>Greenhouse gas emissions</th>\n",
       "      <th>Air emissions</th>\n",
       "      <th>Noise</th>\n",
       "      <th>Electricity and electromagnetism</th>\n",
       "      <th>Proximity to people</th>\n",
       "      <th>Archaeological, paleontological, historical, and culturally significant sites and resources</th>\n",
       "      <th>Human access to boats and waterways</th>\n",
       "      <th>Indigenous land, water, and air use</th>\n",
       "      <th>Impact to social and cultural well-being</th>\n",
       "      <th>Impact to human health and viewscapes</th>\n",
       "      <th>Social, cultural, economic infrastructure and services</th>\n",
       "      <th>Economic Offsets and Impact</th>\n",
       "      <th>Environmental Obligations</th>\n",
       "      <th>Treaty and Indigenous Rights</th>\n",
       "    </tr>\n",
       "  </thead>\n",
       "  <tbody>\n",
       "    <tr>\n",
       "      <th>361</th>\n",
       "      <td>Table 7.1 Wildlife Key Indicators</td>\n",
       "      <td>Table</td>\n",
       "      <td>Application for the NGTL West Path Delivery 2023 Project</td>\n",
       "      <td>West Path Delivery 2023</td>\n",
       "      <td>2020-10-22</td>\n",
       "      <td>NOVA Gas Transmission Ltd.</td>\n",
       "      <td>Gas</td>\n",
       "      <td>C09063-11 NGTL WPD 2023_ESA_Part 2_Sections 7 to 18 - A7J7C9</td>\n",
       "      <td>https://apps.cer-rec.gc.ca/REGDOCS/Item/View/3974306</td>\n",
       "      <td>A7J7C9</td>\n",
       "      <td>https://apps.cer-rec.gc.ca/REGDOCS/File/Download/4003703</td>\n",
       "      <td>Large Projects (over 40 km)</td>\n",
       "      <td>Alberta</td>\n",
       "      <td>GH-002-2020</td>\n",
       "      <td>Stantec Consulting Ltd</td>\n",
       "      <td>Applied</td>\n",
       "      <td>NaN</td>\n",
       "      <td>https://apps.cer-rec.gc.ca/REGDOCS/Item/View/3968941</td>\n",
       "      <td>NaN</td>\n",
       "      <td>7.0 ASSESSMENT OF EFFECTS ON WILDLIFE AND WILDLIFE HABITAT, 8.0 ASSESSMENT OF EFFECTS ON AQUATIC...</td>\n",
       "      <td>NaN</td>\n",
       "      <td>NaN</td>\n",
       "      <td>4</td>\n",
       "      <td>612.0</td>\n",
       "      <td>13.74</td>\n",
       "      <td>Yes</td>\n",
       "      <td>362</td>\n",
       "      <td>/projects/wstpthdlvr2023.zip</td>\n",
       "      <td>/tables/wstpthdlvr2023_table-7-1-wildlife-key-indicators_pt-1_pg-4_doc-num-A7J7C9.zip</td>\n",
       "      <td>True</td>\n",
       "      <td>0</td>\n",
       "      <td>0</td>\n",
       "      <td>2</td>\n",
       "      <td>1</td>\n",
       "      <td>2</td>\n",
       "      <td>3</td>\n",
       "      <td>55</td>\n",
       "      <td>49</td>\n",
       "      <td>0</td>\n",
       "      <td>0</td>\n",
       "      <td>0</td>\n",
       "      <td>0</td>\n",
       "      <td>3</td>\n",
       "      <td>1</td>\n",
       "      <td>0</td>\n",
       "      <td>20</td>\n",
       "      <td>8</td>\n",
       "      <td>1</td>\n",
       "      <td>2</td>\n",
       "      <td>0</td>\n",
       "      <td>11</td>\n",
       "      <td>20</td>\n",
       "    </tr>\n",
       "    <tr>\n",
       "      <th>372</th>\n",
       "      <td>Table 7.2 Potential Effects, Effect Pathways and Measurable Parameters for Wildlife and Wildlife...</td>\n",
       "      <td>Table</td>\n",
       "      <td>Application for the NGTL West Path Delivery 2023 Project</td>\n",
       "      <td>West Path Delivery 2023</td>\n",
       "      <td>2020-10-22</td>\n",
       "      <td>NOVA Gas Transmission Ltd.</td>\n",
       "      <td>Gas</td>\n",
       "      <td>C09063-11 NGTL WPD 2023_ESA_Part 2_Sections 7 to 18 - A7J7C9</td>\n",
       "      <td>https://apps.cer-rec.gc.ca/REGDOCS/Item/View/3974306</td>\n",
       "      <td>A7J7C9</td>\n",
       "      <td>https://apps.cer-rec.gc.ca/REGDOCS/File/Download/4003703</td>\n",
       "      <td>Large Projects (over 40 km)</td>\n",
       "      <td>Alberta</td>\n",
       "      <td>GH-002-2020</td>\n",
       "      <td>Stantec Consulting Ltd</td>\n",
       "      <td>Applied</td>\n",
       "      <td>NaN</td>\n",
       "      <td>https://apps.cer-rec.gc.ca/REGDOCS/Item/View/3968941</td>\n",
       "      <td>NaN</td>\n",
       "      <td>7.0 ASSESSMENT OF EFFECTS ON WILDLIFE AND WILDLIFE HABITAT, 8.0 ASSESSMENT OF EFFECTS ON AQUATIC...</td>\n",
       "      <td>NaN</td>\n",
       "      <td>NaN</td>\n",
       "      <td>6</td>\n",
       "      <td>612.0</td>\n",
       "      <td>13.74</td>\n",
       "      <td>Yes</td>\n",
       "      <td>373</td>\n",
       "      <td>/projects/wstpthdlvr2023.zip</td>\n",
       "      <td>/tables/wstpthdlvr2023_table-7-2-potential-effects-effect-pathways-and-me_pt-1_pg-6_doc-num-A7J7...</td>\n",
       "      <td>True</td>\n",
       "      <td>2</td>\n",
       "      <td>0</td>\n",
       "      <td>3</td>\n",
       "      <td>0</td>\n",
       "      <td>0</td>\n",
       "      <td>0</td>\n",
       "      <td>32</td>\n",
       "      <td>10</td>\n",
       "      <td>0</td>\n",
       "      <td>0</td>\n",
       "      <td>0</td>\n",
       "      <td>0</td>\n",
       "      <td>5</td>\n",
       "      <td>2</td>\n",
       "      <td>0</td>\n",
       "      <td>5</td>\n",
       "      <td>2</td>\n",
       "      <td>4</td>\n",
       "      <td>6</td>\n",
       "      <td>1</td>\n",
       "      <td>0</td>\n",
       "      <td>5</td>\n",
       "    </tr>\n",
       "  </tbody>\n",
       "</table>\n",
       "</div>"
      ]
     },
     "metadata": {},
     "execution_count": 960
    }
   ],
   "metadata": {}
  },
  {
   "cell_type": "code",
   "execution_count": 961,
   "source": [
    "df_fra_final.head(2)"
   ],
   "outputs": [
    {
     "output_type": "execute_result",
     "data": {
      "text/plain": [
       "                                                                                                   Titre Type de contenu                                                     Nom de la demande       Nom abrégé de la demande Dépôt de la demande           Nom de la société Produit de base                                                Nom de fichier                                      URL du dossier de l'ÉES Numéro de document                                 URL de téléchargement PDF Type de demande (Loi sur l'Office national de l'énergie) Emplacement du pipeline Ordonnance d'audience       Nom du consultant  État d'avancement Instruments réglementaires                                            URL de la demande URL de la décision                                                                                    Sections de l'EES  Index des sections de l'ÉES Sujets des sections de l'ÉES  Numéro de page PDF  Nombre de pages PDF  Taille PDF Aperçu PDF   ID  \\\n",
       "350                                                            Tableau 7.1 Indicateurs clés sur la faune         Tableau  Demande visant le projet de livraison parcours ouest de NGTL en 2023  Livraison parcours ouest 2023          2020-10-22  NOVA Gas Transmission Ltd.             Gaz  C09063-11 NGTL WPD 2023_ESA_Part 2_Sections 7 to 18 - A7J7C9  https://apps.cer-rec.gc.ca/REGDOCS/Élément/Afficher/3974306             A7J7C9  https://apps.cer-rec.gc.ca/REGDOCS/File/Download/4003703              Projets de grande envergure (plus de 40 km)                 Alberta           GH-002-2020  Stantec Consulting Ltd  Demande présentée                        NaN  https://apps.cer-rec.gc.ca/REGDOCS/Élément/Afficher/3968941                NaN  7.0 ÉVALUATION DES EFFETS SUR LA FAUNE ET L'HABITAT FAUNIQUE, 8.0 ÉVALUATION DES EFFETS SUR LES ...                          NaN                          NaN                   4                612.0         NaN        NaN  362   \n",
       "361  Tableau 7.2 Effets éventuels, séquences des effets et paramètres mesurables pour la faune et l'h...         Tableau  Demande visant le projet de livraison parcours ouest de NGTL en 2023  Livraison parcours ouest 2023          2020-10-22  NOVA Gas Transmission Ltd.             Gaz  C09063-11 NGTL WPD 2023_ESA_Part 2_Sections 7 to 18 - A7J7C9  https://apps.cer-rec.gc.ca/REGDOCS/Élément/Afficher/3974306             A7J7C9  https://apps.cer-rec.gc.ca/REGDOCS/File/Download/4003703              Projets de grande envergure (plus de 40 km)                 Alberta           GH-002-2020  Stantec Consulting Ltd  Demande présentée                        NaN  https://apps.cer-rec.gc.ca/REGDOCS/Élément/Afficher/3968941                NaN  7.0 ÉVALUATION DES EFFETS SUR LA FAUNE ET L'HABITAT FAUNIQUE, 8.0 ÉVALUATION DES EFFETS SUR LES ...                          NaN                          NaN                   6                612.0         NaN        NaN  373   \n",
       "\n",
       "    Chemin d'accès pour télécharger le projet                                                           Chemin d'accès pour télécharger le tableau Bonne qualité  Paysage, terrain et conditions météorologiques  Sol  Plantes  Eau  Poissons  Milieux humides  Faune  Espèces en péril  Émissions de gaz à effet de serre  Émissions atmosphériques  Bruit  Électricité et électromagnétisme  Lieux habités à proximité  Sites et ressources archéologiques, paléontologiques, historiques ou importants sur le plan culturel  Activités à bord d’embarcation ou sur des voies navigables  Utilisation des terres, de l’eau et du plein air par les Autochtones  Incidences sur le bien-être social et culturel  Incidence sur la santé humaine et le panorama  Infrastructure et services sociaux, culturels et économiques  Compensations et répercussions économiques  Obligations en matière d’environnement  Droits ancestraux et issus de traités  \n",
       "350              /projects/wstpthdlvr2023.zip     /tables/wstpthdlvr2023_tableau-7-1-indicateurs-clés-sur-la-faune_pt-1_pg-4_num-du-doc-A7J7C9.zip          True                                               0    0        2    1         2                3     55                49                                  0                         0      0                                 0                          3                                                                                                    1                                                            0                                                                    20                                               8                                              1                                                             2                                           0                                      11                                     20  \n",
       "361              /projects/wstpthdlvr2023.zip  /tables/wstpthdlvr2023_tableau-7-2-effets-éventuels-séquences-des-effets-_pt-1_pg-6_num-du-doc-A...          True                                               2    0        3    0         0                0     32                10                                  0                         0      0                                 0                          5                                                                                                    2                                                            0                                                                     5                                               2                                              4                                                             6                                           1                                       0                                      5  "
      ],
      "text/html": [
       "<div>\n",
       "<style scoped>\n",
       "    .dataframe tbody tr th:only-of-type {\n",
       "        vertical-align: middle;\n",
       "    }\n",
       "\n",
       "    .dataframe tbody tr th {\n",
       "        vertical-align: top;\n",
       "    }\n",
       "\n",
       "    .dataframe thead th {\n",
       "        text-align: right;\n",
       "    }\n",
       "</style>\n",
       "<table border=\"1\" class=\"dataframe\">\n",
       "  <thead>\n",
       "    <tr style=\"text-align: right;\">\n",
       "      <th></th>\n",
       "      <th>Titre</th>\n",
       "      <th>Type de contenu</th>\n",
       "      <th>Nom de la demande</th>\n",
       "      <th>Nom abrégé de la demande</th>\n",
       "      <th>Dépôt de la demande</th>\n",
       "      <th>Nom de la société</th>\n",
       "      <th>Produit de base</th>\n",
       "      <th>Nom de fichier</th>\n",
       "      <th>URL du dossier de l'ÉES</th>\n",
       "      <th>Numéro de document</th>\n",
       "      <th>URL de téléchargement PDF</th>\n",
       "      <th>Type de demande (Loi sur l'Office national de l'énergie)</th>\n",
       "      <th>Emplacement du pipeline</th>\n",
       "      <th>Ordonnance d'audience</th>\n",
       "      <th>Nom du consultant</th>\n",
       "      <th>État d'avancement</th>\n",
       "      <th>Instruments réglementaires</th>\n",
       "      <th>URL de la demande</th>\n",
       "      <th>URL de la décision</th>\n",
       "      <th>Sections de l'EES</th>\n",
       "      <th>Index des sections de l'ÉES</th>\n",
       "      <th>Sujets des sections de l'ÉES</th>\n",
       "      <th>Numéro de page PDF</th>\n",
       "      <th>Nombre de pages PDF</th>\n",
       "      <th>Taille PDF</th>\n",
       "      <th>Aperçu PDF</th>\n",
       "      <th>ID</th>\n",
       "      <th>Chemin d'accès pour télécharger le projet</th>\n",
       "      <th>Chemin d'accès pour télécharger le tableau</th>\n",
       "      <th>Bonne qualité</th>\n",
       "      <th>Paysage, terrain et conditions météorologiques</th>\n",
       "      <th>Sol</th>\n",
       "      <th>Plantes</th>\n",
       "      <th>Eau</th>\n",
       "      <th>Poissons</th>\n",
       "      <th>Milieux humides</th>\n",
       "      <th>Faune</th>\n",
       "      <th>Espèces en péril</th>\n",
       "      <th>Émissions de gaz à effet de serre</th>\n",
       "      <th>Émissions atmosphériques</th>\n",
       "      <th>Bruit</th>\n",
       "      <th>Électricité et électromagnétisme</th>\n",
       "      <th>Lieux habités à proximité</th>\n",
       "      <th>Sites et ressources archéologiques, paléontologiques, historiques ou importants sur le plan culturel</th>\n",
       "      <th>Activités à bord d’embarcation ou sur des voies navigables</th>\n",
       "      <th>Utilisation des terres, de l’eau et du plein air par les Autochtones</th>\n",
       "      <th>Incidences sur le bien-être social et culturel</th>\n",
       "      <th>Incidence sur la santé humaine et le panorama</th>\n",
       "      <th>Infrastructure et services sociaux, culturels et économiques</th>\n",
       "      <th>Compensations et répercussions économiques</th>\n",
       "      <th>Obligations en matière d’environnement</th>\n",
       "      <th>Droits ancestraux et issus de traités</th>\n",
       "    </tr>\n",
       "  </thead>\n",
       "  <tbody>\n",
       "    <tr>\n",
       "      <th>350</th>\n",
       "      <td>Tableau 7.1 Indicateurs clés sur la faune</td>\n",
       "      <td>Tableau</td>\n",
       "      <td>Demande visant le projet de livraison parcours ouest de NGTL en 2023</td>\n",
       "      <td>Livraison parcours ouest 2023</td>\n",
       "      <td>2020-10-22</td>\n",
       "      <td>NOVA Gas Transmission Ltd.</td>\n",
       "      <td>Gaz</td>\n",
       "      <td>C09063-11 NGTL WPD 2023_ESA_Part 2_Sections 7 to 18 - A7J7C9</td>\n",
       "      <td>https://apps.cer-rec.gc.ca/REGDOCS/Élément/Afficher/3974306</td>\n",
       "      <td>A7J7C9</td>\n",
       "      <td>https://apps.cer-rec.gc.ca/REGDOCS/File/Download/4003703</td>\n",
       "      <td>Projets de grande envergure (plus de 40 km)</td>\n",
       "      <td>Alberta</td>\n",
       "      <td>GH-002-2020</td>\n",
       "      <td>Stantec Consulting Ltd</td>\n",
       "      <td>Demande présentée</td>\n",
       "      <td>NaN</td>\n",
       "      <td>https://apps.cer-rec.gc.ca/REGDOCS/Élément/Afficher/3968941</td>\n",
       "      <td>NaN</td>\n",
       "      <td>7.0 ÉVALUATION DES EFFETS SUR LA FAUNE ET L'HABITAT FAUNIQUE, 8.0 ÉVALUATION DES EFFETS SUR LES ...</td>\n",
       "      <td>NaN</td>\n",
       "      <td>NaN</td>\n",
       "      <td>4</td>\n",
       "      <td>612.0</td>\n",
       "      <td>NaN</td>\n",
       "      <td>NaN</td>\n",
       "      <td>362</td>\n",
       "      <td>/projects/wstpthdlvr2023.zip</td>\n",
       "      <td>/tables/wstpthdlvr2023_tableau-7-1-indicateurs-clés-sur-la-faune_pt-1_pg-4_num-du-doc-A7J7C9.zip</td>\n",
       "      <td>True</td>\n",
       "      <td>0</td>\n",
       "      <td>0</td>\n",
       "      <td>2</td>\n",
       "      <td>1</td>\n",
       "      <td>2</td>\n",
       "      <td>3</td>\n",
       "      <td>55</td>\n",
       "      <td>49</td>\n",
       "      <td>0</td>\n",
       "      <td>0</td>\n",
       "      <td>0</td>\n",
       "      <td>0</td>\n",
       "      <td>3</td>\n",
       "      <td>1</td>\n",
       "      <td>0</td>\n",
       "      <td>20</td>\n",
       "      <td>8</td>\n",
       "      <td>1</td>\n",
       "      <td>2</td>\n",
       "      <td>0</td>\n",
       "      <td>11</td>\n",
       "      <td>20</td>\n",
       "    </tr>\n",
       "    <tr>\n",
       "      <th>361</th>\n",
       "      <td>Tableau 7.2 Effets éventuels, séquences des effets et paramètres mesurables pour la faune et l'h...</td>\n",
       "      <td>Tableau</td>\n",
       "      <td>Demande visant le projet de livraison parcours ouest de NGTL en 2023</td>\n",
       "      <td>Livraison parcours ouest 2023</td>\n",
       "      <td>2020-10-22</td>\n",
       "      <td>NOVA Gas Transmission Ltd.</td>\n",
       "      <td>Gaz</td>\n",
       "      <td>C09063-11 NGTL WPD 2023_ESA_Part 2_Sections 7 to 18 - A7J7C9</td>\n",
       "      <td>https://apps.cer-rec.gc.ca/REGDOCS/Élément/Afficher/3974306</td>\n",
       "      <td>A7J7C9</td>\n",
       "      <td>https://apps.cer-rec.gc.ca/REGDOCS/File/Download/4003703</td>\n",
       "      <td>Projets de grande envergure (plus de 40 km)</td>\n",
       "      <td>Alberta</td>\n",
       "      <td>GH-002-2020</td>\n",
       "      <td>Stantec Consulting Ltd</td>\n",
       "      <td>Demande présentée</td>\n",
       "      <td>NaN</td>\n",
       "      <td>https://apps.cer-rec.gc.ca/REGDOCS/Élément/Afficher/3968941</td>\n",
       "      <td>NaN</td>\n",
       "      <td>7.0 ÉVALUATION DES EFFETS SUR LA FAUNE ET L'HABITAT FAUNIQUE, 8.0 ÉVALUATION DES EFFETS SUR LES ...</td>\n",
       "      <td>NaN</td>\n",
       "      <td>NaN</td>\n",
       "      <td>6</td>\n",
       "      <td>612.0</td>\n",
       "      <td>NaN</td>\n",
       "      <td>NaN</td>\n",
       "      <td>373</td>\n",
       "      <td>/projects/wstpthdlvr2023.zip</td>\n",
       "      <td>/tables/wstpthdlvr2023_tableau-7-2-effets-éventuels-séquences-des-effets-_pt-1_pg-6_num-du-doc-A...</td>\n",
       "      <td>True</td>\n",
       "      <td>2</td>\n",
       "      <td>0</td>\n",
       "      <td>3</td>\n",
       "      <td>0</td>\n",
       "      <td>0</td>\n",
       "      <td>0</td>\n",
       "      <td>32</td>\n",
       "      <td>10</td>\n",
       "      <td>0</td>\n",
       "      <td>0</td>\n",
       "      <td>0</td>\n",
       "      <td>0</td>\n",
       "      <td>5</td>\n",
       "      <td>2</td>\n",
       "      <td>0</td>\n",
       "      <td>5</td>\n",
       "      <td>2</td>\n",
       "      <td>4</td>\n",
       "      <td>6</td>\n",
       "      <td>1</td>\n",
       "      <td>0</td>\n",
       "      <td>5</td>\n",
       "    </tr>\n",
       "  </tbody>\n",
       "</table>\n",
       "</div>"
      ]
     },
     "metadata": {},
     "execution_count": 961
    }
   ],
   "metadata": {}
  },
  {
   "cell_type": "code",
   "execution_count": 962,
   "source": [
    "import time\r\n",
    "current_time = time.strftime('%Y-%m-%d_%H-%M-%S')\r\n",
    "print(current_time)"
   ],
   "outputs": [
    {
     "output_type": "stream",
     "name": "stdout",
     "text": [
      "2021-09-11_16-33-16\n"
     ]
    }
   ],
   "metadata": {}
  },
  {
   "cell_type": "code",
   "execution_count": 963,
   "source": [
    "df_eng_final.to_csv(f\"G:\\ESA_downloads\\ESA_bundled_with_VCs\\\\archive\\ESA_website_ENG_{current_time}.csv\", index=False)"
   ],
   "outputs": [],
   "metadata": {}
  },
  {
   "cell_type": "code",
   "execution_count": 964,
   "source": [
    "df_fra_final.to_csv(f\"G:\\ESA_downloads\\ESA_bundled_with_VCs\\\\archive\\ESA_website_FRA_{current_time}.csv\", index=False, encoding='utf-8-sig')"
   ],
   "outputs": [],
   "metadata": {}
  },
  {
   "cell_type": "code",
   "execution_count": 965,
   "source": [
    "df_eng_final.to_csv(\"G:\\ESA_downloads\\ESA_bundled_with_VCs\\ESA_website_ENG_latest.csv\", index=False)"
   ],
   "outputs": [],
   "metadata": {}
  },
  {
   "cell_type": "code",
   "execution_count": 966,
   "source": [
    "df_fra_final.to_csv(\"G:\\ESA_downloads\\ESA_bundled_with_VCs\\ESA_website_FRA_latest.csv\", index=False, encoding='utf-8-sig')"
   ],
   "outputs": [],
   "metadata": {}
  },
  {
   "cell_type": "code",
   "execution_count": null,
   "source": [],
   "outputs": [],
   "metadata": {}
  }
 ],
 "metadata": {
  "orig_nbformat": 4,
  "language_info": {
   "name": "python",
   "version": "3.8.8",
   "mimetype": "text/x-python",
   "codemirror_mode": {
    "name": "ipython",
    "version": 3
   },
   "pygments_lexer": "ipython3",
   "nbconvert_exporter": "python",
   "file_extension": ".py"
  },
  "kernelspec": {
   "name": "python3",
   "display_name": "Python 3.8.8 64-bit ('base': conda)"
  },
  "interpreter": {
   "hash": "e2bf75632dbab15b13c7e69d7c865eec44ce559fc915a91671bc417dc3e34be8"
  }
 },
 "nbformat": 4,
 "nbformat_minor": 2
}