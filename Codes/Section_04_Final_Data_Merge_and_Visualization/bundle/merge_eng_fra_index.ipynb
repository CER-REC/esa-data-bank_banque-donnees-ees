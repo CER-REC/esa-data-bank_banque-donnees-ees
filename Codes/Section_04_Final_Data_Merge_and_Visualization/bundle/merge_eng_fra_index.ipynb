{
 "cells": [
  {
   "cell_type": "markdown",
   "source": [
    "# Imports"
   ],
   "metadata": {}
  },
  {
   "cell_type": "code",
   "execution_count": 95,
   "source": [
    "import pandas as pd\r\n",
    "pd.set_option('display.max_rows', 500)\r\n",
    "pd.set_option('display.max_columns', 500)"
   ],
   "outputs": [],
   "metadata": {}
  },
  {
   "cell_type": "markdown",
   "source": [
    "# Loading Index Files"
   ],
   "metadata": {}
  },
  {
   "cell_type": "code",
   "execution_count": 96,
   "source": [
    "df_eng_old_projects = pd.read_csv(\"G:\\ESA_downloads\\download_Bingjie_Mar262021\\ESA_website_ENG_old_projects.csv\", encoding='utf-8') # dtype fine\r\n",
    "df_eng_new_projects = pd.read_csv(\"G:\\ESA_downloads\\phase_2_download_files\\ESA_downloads\\ESA_website_ENG_new_projects.csv\", encoding='utf-8') # dtypes fine\r\n",
    "\r\n",
    "df_fra_old_projects = pd.read_csv(\"G:\\ESA_downloads\\download_Bingjie_May062021_fra\\ESA_website_FRA.csv\", encoding='latin1') # dtype fine\r\n",
    "df_fra_new_projects = pd.read_csv(\"G:\\ESA_downloads\\phase_2_download_files\\ESA_downloads_fra\\ESA_website_FRA_new_projects.csv\", encoding='utf-8') # dtypes fine\r\n",
    "\r\n",
    "df_eng_all_projects = pd.read_csv(\"G:\\ESA_downloads\\ESA_bundled_with_VCs\\ESA_website_ENG.csv\", encoding='utf-8')"
   ],
   "outputs": [
    {
     "output_type": "stream",
     "name": "stderr",
     "text": [
      "C:\\Users\\ThibJacq\\Anaconda3\\lib\\site-packages\\IPython\\core\\interactiveshell.py:3165: DtypeWarning: Columns (52) have mixed types.Specify dtype option on import or set low_memory=False.\n",
      "  has_raised = await self.run_ast_nodes(code_ast.body, cell_name,\n"
     ]
    }
   ],
   "metadata": {}
  },
  {
   "cell_type": "code",
   "execution_count": 97,
   "source": [
    "df_eng_old_tables = df_eng_old_projects[df_eng_old_projects['Content Type'] == 'Table']\r\n",
    "\r\n",
    "df_fra_old_tables = df_fra_old_projects[df_fra_old_projects['Type de contenu'] == 'Tableau']"
   ],
   "outputs": [],
   "metadata": {}
  },
  {
   "cell_type": "code",
   "execution_count": 98,
   "source": [
    "print(len(df_eng_old_projects))\r\n",
    "print(len(df_eng_new_projects))\r\n",
    "print(len(df_fra_old_projects))\r\n",
    "print(len(df_fra_new_projects))\r\n",
    "print(len(df_eng_all_projects))\r\n",
    "print(len(df_eng_old_projects) + len(df_eng_new_projects))\r\n",
    "print(len(df_eng_old_tables))\r\n",
    "print(len(df_fra_old_tables))"
   ],
   "outputs": [
    {
     "output_type": "stream",
     "name": "stdout",
     "text": [
      "24285\n",
      "644\n",
      "24285\n",
      "644\n",
      "24929\n",
      "24929\n",
      "15151\n",
      "15151\n"
     ]
    }
   ],
   "metadata": {}
  },
  {
   "cell_type": "markdown",
   "source": [
    "# Checking for duplicate rows"
   ],
   "metadata": {}
  },
  {
   "cell_type": "code",
   "execution_count": 99,
   "source": [
    "left_cols = ['Title', 'Document Number', 'PDF Page Number', 'Hearing order', 'File Name', 'Content Type']\r\n",
    "len(df_eng_old_tables[left_cols].drop_duplicates(keep='first'))"
   ],
   "outputs": [
    {
     "output_type": "execute_result",
     "data": {
      "text/plain": [
       "15151"
      ]
     },
     "metadata": {},
     "execution_count": 99
    }
   ],
   "metadata": {}
  },
  {
   "cell_type": "code",
   "execution_count": 100,
   "source": [
    "df_eng_old_tables[left_cols][df_eng_old_tables[left_cols].duplicated(keep='first')]"
   ],
   "outputs": [
    {
     "output_type": "execute_result",
     "data": {
      "text/plain": [
       "Empty DataFrame\n",
       "Columns: [Title, Document Number, PDF Page Number, Hearing order, File Name, Content Type]\n",
       "Index: []"
      ],
      "text/html": [
       "<div>\n",
       "<style scoped>\n",
       "    .dataframe tbody tr th:only-of-type {\n",
       "        vertical-align: middle;\n",
       "    }\n",
       "\n",
       "    .dataframe tbody tr th {\n",
       "        vertical-align: top;\n",
       "    }\n",
       "\n",
       "    .dataframe thead th {\n",
       "        text-align: right;\n",
       "    }\n",
       "</style>\n",
       "<table border=\"1\" class=\"dataframe\">\n",
       "  <thead>\n",
       "    <tr style=\"text-align: right;\">\n",
       "      <th></th>\n",
       "      <th>Title</th>\n",
       "      <th>Document Number</th>\n",
       "      <th>PDF Page Number</th>\n",
       "      <th>Hearing order</th>\n",
       "      <th>File Name</th>\n",
       "      <th>Content Type</th>\n",
       "    </tr>\n",
       "  </thead>\n",
       "  <tbody>\n",
       "  </tbody>\n",
       "</table>\n",
       "</div>"
      ]
     },
     "metadata": {},
     "execution_count": 100
    }
   ],
   "metadata": {}
  },
  {
   "cell_type": "markdown",
   "source": [
    "# Updating old and new index files with index file containing all projects and VCs"
   ],
   "metadata": {}
  },
  {
   "cell_type": "code",
   "execution_count": 101,
   "source": [
    "def merge_dfs_with_matching_specific_columns(left_df, right_df, left_on, right_on):\r\n",
    "    \"\"\"Merge two dataframes based on common columns and only keep rows where\r\n",
    "    the values match.\r\n",
    "    \"\"\"\r\n",
    "    merged_df = pd.merge(left_df, right_df, how='left', left_on=left_on, right_on=right_on, suffixes=('_x', ''))\r\n",
    "    merged_df.drop(merged_df.filter(regex='_x$').columns, axis=1, inplace=True)\r\n",
    "    return merged_df\r\n",
    "\r\n",
    "left_cols = ['Title', 'Document Number', 'PDF Page Number', 'Hearing order', 'File Name']\r\n",
    "right_cols = ['Title', 'Document Number', 'PDF Page Number', 'Hearing order', 'File Name']\r\n",
    "\r\n",
    "df_eng_old_merged = merge_dfs_with_matching_specific_columns(df_eng_old_tables, df_eng_all_projects, left_on=left_cols, right_on=right_cols)\r\n",
    "df_eng_new_merged = merge_dfs_with_matching_specific_columns(df_eng_new_projects, df_eng_all_projects, left_on=left_cols, right_on=right_cols)"
   ],
   "outputs": [],
   "metadata": {}
  },
  {
   "cell_type": "code",
   "execution_count": 147,
   "source": [
    "len(df_eng_old_merged.drop_duplicates(subset=['Title', 'Document Number'])) # Checking to make sure number of rows is the same as the original"
   ],
   "outputs": [
    {
     "output_type": "execute_result",
     "data": {
      "text/plain": [
       "15151"
      ]
     },
     "metadata": {},
     "execution_count": 147
    }
   ],
   "metadata": {}
  },
  {
   "cell_type": "markdown",
   "source": [
    "# Creating the Merged French Index"
   ],
   "metadata": {}
  },
  {
   "cell_type": "code",
   "execution_count": 161,
   "source": [
    "df_fra_old_tables.head()"
   ],
   "outputs": [
    {
     "output_type": "execute_result",
     "data": {
      "text/plain": [
       "                                                  Titre Type de contenu  \\\n",
       "9134  TABLEAU 1 EMPLACEMENTS DES RELEVÉS DE LA VÉGÉT...         Tableau   \n",
       "9135  TABLEAU 1 COMMUNAUTÉS AUTOCHTONES ET DISTANCE ...         Tableau   \n",
       "9136  TABLEAU 1 ZONES ÉVALUÉES EN VERTU DU PERMIS 07...         Tableau   \n",
       "9137  TABLEAU 1 ZONES ÉVALUÉES EN VERTU DU PERMIS 20...         Tableau   \n",
       "9138  TABLEAU 1 RESPONSABILITÉS DU PLAN DE GESTION D...         Tableau   \n",
       "\n",
       "                                      Nom de la demande  \\\n",
       "9134  Demande visant le projet pipelinier d'Edmonton...   \n",
       "9135           Demande relative au projet de Horn River   \n",
       "9136    Demande relative au projet pipelinier Redwillow   \n",
       "9137    Demande relative au projet pipelinier Redwillow   \n",
       "9138  Demande visant le programme de remplacement de...   \n",
       "\n",
       "     Nom abrégé de la demande Dépôt de la demande           Nom de la société  \\\n",
       "9134      Edmonton à Hardisty          12/14/2012     Enbridge Pipelines Inc.   \n",
       "9135               Horn River           2/19/2010  NOVA Gas Transmission Ltd.   \n",
       "9136                Redwillow           12/7/2007       SemCAMS Redwillow ULC   \n",
       "9137                Redwillow           12/7/2007       SemCAMS Redwillow ULC   \n",
       "9138           Canalisation 3           11/5/2014     Enbridge Pipelines Inc.   \n",
       "\n",
       "     Produit de base                                     Nom de fichier  \\\n",
       "9134         Pétrole  B2-31 - Volume IIA - ESA - Appendix 8 - Vegeta...   \n",
       "9135             Gaz  B-02-31 - NGTL Horn River Project - ESA Append...   \n",
       "9136             Gaz              B-2ff - Appendix X - Part 1 - A1C3Y6    \n",
       "9137             Gaz               B-2gg - Appendix X - Part 2 - A1C3Y7   \n",
       "9138         Pétrole  B5-13 - Appendix 06 - ESA Appendix 1A - Pipeli...   \n",
       "\n",
       "                                URL du dossier de l'ÉES Numéro de document  \\\n",
       "9134  https://apps.cer-rec.gc.ca/REGDOCS/Élément/Aff...             A3E3A6   \n",
       "9135  https://apps.cer-rec.gc.ca/REGDOCS/Élément/Aff...             A1R8F8   \n",
       "9136  https://apps.cer-rec.gc.ca/REGDOCS/Élément/Aff...             A1C3Y6   \n",
       "9137  https://apps.cer-rec.gc.ca/REGDOCS/Élément/Aff...             A1C3Y7   \n",
       "9138  https://apps.cer-rec.gc.ca/REGDOCS/Élément/Aff...             A4E6X3   \n",
       "\n",
       "                              URL de téléchargement PDF  \\\n",
       "9134  https://apps.cer-rec.gc.ca/REGDOCS/File/Downlo...   \n",
       "9135  https://apps.cer-rec.gc.ca/REGDOCS/File/Downlo...   \n",
       "9136  https://apps.cer-rec.gc.ca/REGDOCS/File/Downlo...   \n",
       "9137  https://apps.cer-rec.gc.ca/REGDOCS/File/Downlo...   \n",
       "9138  https://apps.cer-rec.gc.ca/REGDOCS/File/Downlo...   \n",
       "\n",
       "     Type de demande (Loi sur l'Office national de l'énergie)  \\\n",
       "9134        Projets de grande envergure (plus de 40 km)         \n",
       "9135        Projets de grande envergure (plus de 40 km)         \n",
       "9136        Projets de grande envergure (plus de 40 km)         \n",
       "9137        Projets de grande envergure (plus de 40 km)         \n",
       "9138        Projets de grande envergure (plus de 40 km)         \n",
       "\n",
       "              Emplacement du pipeline Ordonnance d'audience  \\\n",
       "9134                          Alberta           OH-001-2013   \n",
       "9135             Colombie-Britannique             GH-2-2010   \n",
       "9136    Alberta, Colombie-Britannique             GH-2-2008   \n",
       "9137    Alberta, Colombie-Britannique             GH-2-2008   \n",
       "9138  Alberta, Saskatchewan, Manitoba           OH-002-2015   \n",
       "\n",
       "                   Nom du consultant     État d'avancement  \\\n",
       "9134          Stantec Consulting Ltd       En exploitation   \n",
       "9135  TERA Environmental Consultants       En exploitation   \n",
       "9136  TERA Environmental Consultants  Certificats révoqués   \n",
       "9137  TERA Environmental Consultants  Certificats révoqués   \n",
       "9138        TERA a CHTM HILL Company       En exploitation   \n",
       "\n",
       "     Instruments réglementaires  \\\n",
       "9134                     OC-062   \n",
       "9135                     GC-117   \n",
       "9136          GC-114, RO-GC-114   \n",
       "9137          GC-114, RO-GC-114   \n",
       "9138                     OC-063   \n",
       "\n",
       "                                      URL de la demande  \\\n",
       "9134  https://apps.cer-rec.gc.ca/REGDOCS/Élément/Aff...   \n",
       "9135  https://apps.cer-rec.gc.ca/REGDOCS/Élément/Aff...   \n",
       "9136  https://apps.cer-rec.gc.ca/REGDOCS/Élément/Aff...   \n",
       "9137  https://apps.cer-rec.gc.ca/REGDOCS/Élément/Aff...   \n",
       "9138  https://apps.cer-rec.gc.ca/REGDOCS/Élément/Aff...   \n",
       "\n",
       "                                     URL de la décision  \\\n",
       "9134  https://apps.cer-rec.gc.ca/REGDOCS/%C3%89l%C3%...   \n",
       "9135  https://apps.cer-rec.gc.ca/REGDOCS/%C3%89l%C3%...   \n",
       "9136  https://apps.cer-rec.gc.ca/REGDOCS/%C3%89l%C3%...   \n",
       "9137  https://apps.cer-rec.gc.ca/REGDOCS/%C3%89l%C3%...   \n",
       "9138  https://apps.cer-rec.gc.ca/REGDOCS/%C3%89l%C3%...   \n",
       "\n",
       "                                      Sections de l'EES  \\\n",
       "9134             Annexe 8 : Inventaire de la végétation   \n",
       "9135  Annexe 6 : Étude exhaustive sur l'utilisation ...   \n",
       "9136  Annexe X : Évaluation des répercussions sur le...   \n",
       "9137  Annexe X : Évaluation des répercussions sur le...   \n",
       "9138  Annexe 1A : Plan de protection environnemental...   \n",
       "\n",
       "      Index des sections de l'ÉES  \\\n",
       "9134                         32.0   \n",
       "9135                         31.0   \n",
       "9136                         32.0   \n",
       "9137                         33.0   \n",
       "9138                         13.0   \n",
       "\n",
       "                           Sujets des sections de l'ÉES  Numéro de page PDF  \\\n",
       "9134                                         Végétation                   9   \n",
       "9135  Terres, Air, Eau, Aspect humain, Utilisation d...                   9   \n",
       "9136                                      Aspect humain                   7   \n",
       "9137                                      Aspect humain                   6   \n",
       "9138              Plan de protection de l'environnement                  43   \n",
       "\n",
       "      Nombre de pages PDF  Taille PDF Aperçu PDF  ID  \\\n",
       "9134                106.0        5.98        Oui   0   \n",
       "9135                 57.0        2.33        Oui   1   \n",
       "9136                 30.0        1.52        Non   2   \n",
       "9137                 32.0        1.84        Non   3   \n",
       "9138                170.0        8.21        Non   4   \n",
       "\n",
       "     Chemin d'accès pour télécharger le projet  \\\n",
       "9134                  /projects/dmntnhrdst.zip   \n",
       "9135                      /projects/hrnrvr.zip   \n",
       "9136                      /projects/rdwllw.zip   \n",
       "9137                      /projects/rdwllw.zip   \n",
       "9138                         /projects/ln3.zip   \n",
       "\n",
       "             Chemin d'accès pour télécharger le tableau Bonne qualité  \n",
       "9134  /tables/dmntnhrdst_tableau-1-emplacements-des-...          True  \n",
       "9135  /tables/hrnrvr_tableau-1-communautés-autochton...          True  \n",
       "9136  /tables/rdwllw_tableau-1-zones-évaluées-en-ver...          True  \n",
       "9137  /tables/rdwllw_tableau-1-zones-évaluées-en-ver...          True  \n",
       "9138  /tables/ln3_tableau-1-responsabilités-du-plan-...          True  "
      ],
      "text/html": [
       "<div>\n",
       "<style scoped>\n",
       "    .dataframe tbody tr th:only-of-type {\n",
       "        vertical-align: middle;\n",
       "    }\n",
       "\n",
       "    .dataframe tbody tr th {\n",
       "        vertical-align: top;\n",
       "    }\n",
       "\n",
       "    .dataframe thead th {\n",
       "        text-align: right;\n",
       "    }\n",
       "</style>\n",
       "<table border=\"1\" class=\"dataframe\">\n",
       "  <thead>\n",
       "    <tr style=\"text-align: right;\">\n",
       "      <th></th>\n",
       "      <th>Titre</th>\n",
       "      <th>Type de contenu</th>\n",
       "      <th>Nom de la demande</th>\n",
       "      <th>Nom abrégé de la demande</th>\n",
       "      <th>Dépôt de la demande</th>\n",
       "      <th>Nom de la société</th>\n",
       "      <th>Produit de base</th>\n",
       "      <th>Nom de fichier</th>\n",
       "      <th>URL du dossier de l'ÉES</th>\n",
       "      <th>Numéro de document</th>\n",
       "      <th>URL de téléchargement PDF</th>\n",
       "      <th>Type de demande (Loi sur l'Office national de l'énergie)</th>\n",
       "      <th>Emplacement du pipeline</th>\n",
       "      <th>Ordonnance d'audience</th>\n",
       "      <th>Nom du consultant</th>\n",
       "      <th>État d'avancement</th>\n",
       "      <th>Instruments réglementaires</th>\n",
       "      <th>URL de la demande</th>\n",
       "      <th>URL de la décision</th>\n",
       "      <th>Sections de l'EES</th>\n",
       "      <th>Index des sections de l'ÉES</th>\n",
       "      <th>Sujets des sections de l'ÉES</th>\n",
       "      <th>Numéro de page PDF</th>\n",
       "      <th>Nombre de pages PDF</th>\n",
       "      <th>Taille PDF</th>\n",
       "      <th>Aperçu PDF</th>\n",
       "      <th>ID</th>\n",
       "      <th>Chemin d'accès pour télécharger le projet</th>\n",
       "      <th>Chemin d'accès pour télécharger le tableau</th>\n",
       "      <th>Bonne qualité</th>\n",
       "    </tr>\n",
       "  </thead>\n",
       "  <tbody>\n",
       "    <tr>\n",
       "      <th>9134</th>\n",
       "      <td>TABLEAU 1 EMPLACEMENTS DES RELEVÉS DE LA VÉGÉT...</td>\n",
       "      <td>Tableau</td>\n",
       "      <td>Demande visant le projet pipelinier d'Edmonton...</td>\n",
       "      <td>Edmonton à Hardisty</td>\n",
       "      <td>12/14/2012</td>\n",
       "      <td>Enbridge Pipelines Inc.</td>\n",
       "      <td>Pétrole</td>\n",
       "      <td>B2-31 - Volume IIA - ESA - Appendix 8 - Vegeta...</td>\n",
       "      <td>https://apps.cer-rec.gc.ca/REGDOCS/Élément/Aff...</td>\n",
       "      <td>A3E3A6</td>\n",
       "      <td>https://apps.cer-rec.gc.ca/REGDOCS/File/Downlo...</td>\n",
       "      <td>Projets de grande envergure (plus de 40 km)</td>\n",
       "      <td>Alberta</td>\n",
       "      <td>OH-001-2013</td>\n",
       "      <td>Stantec Consulting Ltd</td>\n",
       "      <td>En exploitation</td>\n",
       "      <td>OC-062</td>\n",
       "      <td>https://apps.cer-rec.gc.ca/REGDOCS/Élément/Aff...</td>\n",
       "      <td>https://apps.cer-rec.gc.ca/REGDOCS/%C3%89l%C3%...</td>\n",
       "      <td>Annexe 8 : Inventaire de la végétation</td>\n",
       "      <td>32.0</td>\n",
       "      <td>Végétation</td>\n",
       "      <td>9</td>\n",
       "      <td>106.0</td>\n",
       "      <td>5.98</td>\n",
       "      <td>Oui</td>\n",
       "      <td>0</td>\n",
       "      <td>/projects/dmntnhrdst.zip</td>\n",
       "      <td>/tables/dmntnhrdst_tableau-1-emplacements-des-...</td>\n",
       "      <td>True</td>\n",
       "    </tr>\n",
       "    <tr>\n",
       "      <th>9135</th>\n",
       "      <td>TABLEAU 1 COMMUNAUTÉS AUTOCHTONES ET DISTANCE ...</td>\n",
       "      <td>Tableau</td>\n",
       "      <td>Demande relative au projet de Horn River</td>\n",
       "      <td>Horn River</td>\n",
       "      <td>2/19/2010</td>\n",
       "      <td>NOVA Gas Transmission Ltd.</td>\n",
       "      <td>Gaz</td>\n",
       "      <td>B-02-31 - NGTL Horn River Project - ESA Append...</td>\n",
       "      <td>https://apps.cer-rec.gc.ca/REGDOCS/Élément/Aff...</td>\n",
       "      <td>A1R8F8</td>\n",
       "      <td>https://apps.cer-rec.gc.ca/REGDOCS/File/Downlo...</td>\n",
       "      <td>Projets de grande envergure (plus de 40 km)</td>\n",
       "      <td>Colombie-Britannique</td>\n",
       "      <td>GH-2-2010</td>\n",
       "      <td>TERA Environmental Consultants</td>\n",
       "      <td>En exploitation</td>\n",
       "      <td>GC-117</td>\n",
       "      <td>https://apps.cer-rec.gc.ca/REGDOCS/Élément/Aff...</td>\n",
       "      <td>https://apps.cer-rec.gc.ca/REGDOCS/%C3%89l%C3%...</td>\n",
       "      <td>Annexe 6 : Étude exhaustive sur l'utilisation ...</td>\n",
       "      <td>31.0</td>\n",
       "      <td>Terres, Air, Eau, Aspect humain, Utilisation d...</td>\n",
       "      <td>9</td>\n",
       "      <td>57.0</td>\n",
       "      <td>2.33</td>\n",
       "      <td>Oui</td>\n",
       "      <td>1</td>\n",
       "      <td>/projects/hrnrvr.zip</td>\n",
       "      <td>/tables/hrnrvr_tableau-1-communautés-autochton...</td>\n",
       "      <td>True</td>\n",
       "    </tr>\n",
       "    <tr>\n",
       "      <th>9136</th>\n",
       "      <td>TABLEAU 1 ZONES ÉVALUÉES EN VERTU DU PERMIS 07...</td>\n",
       "      <td>Tableau</td>\n",
       "      <td>Demande relative au projet pipelinier Redwillow</td>\n",
       "      <td>Redwillow</td>\n",
       "      <td>12/7/2007</td>\n",
       "      <td>SemCAMS Redwillow ULC</td>\n",
       "      <td>Gaz</td>\n",
       "      <td>B-2ff - Appendix X - Part 1 - A1C3Y6</td>\n",
       "      <td>https://apps.cer-rec.gc.ca/REGDOCS/Élément/Aff...</td>\n",
       "      <td>A1C3Y6</td>\n",
       "      <td>https://apps.cer-rec.gc.ca/REGDOCS/File/Downlo...</td>\n",
       "      <td>Projets de grande envergure (plus de 40 km)</td>\n",
       "      <td>Alberta, Colombie-Britannique</td>\n",
       "      <td>GH-2-2008</td>\n",
       "      <td>TERA Environmental Consultants</td>\n",
       "      <td>Certificats révoqués</td>\n",
       "      <td>GC-114, RO-GC-114</td>\n",
       "      <td>https://apps.cer-rec.gc.ca/REGDOCS/Élément/Aff...</td>\n",
       "      <td>https://apps.cer-rec.gc.ca/REGDOCS/%C3%89l%C3%...</td>\n",
       "      <td>Annexe X : Évaluation des répercussions sur le...</td>\n",
       "      <td>32.0</td>\n",
       "      <td>Aspect humain</td>\n",
       "      <td>7</td>\n",
       "      <td>30.0</td>\n",
       "      <td>1.52</td>\n",
       "      <td>Non</td>\n",
       "      <td>2</td>\n",
       "      <td>/projects/rdwllw.zip</td>\n",
       "      <td>/tables/rdwllw_tableau-1-zones-évaluées-en-ver...</td>\n",
       "      <td>True</td>\n",
       "    </tr>\n",
       "    <tr>\n",
       "      <th>9137</th>\n",
       "      <td>TABLEAU 1 ZONES ÉVALUÉES EN VERTU DU PERMIS 20...</td>\n",
       "      <td>Tableau</td>\n",
       "      <td>Demande relative au projet pipelinier Redwillow</td>\n",
       "      <td>Redwillow</td>\n",
       "      <td>12/7/2007</td>\n",
       "      <td>SemCAMS Redwillow ULC</td>\n",
       "      <td>Gaz</td>\n",
       "      <td>B-2gg - Appendix X - Part 2 - A1C3Y7</td>\n",
       "      <td>https://apps.cer-rec.gc.ca/REGDOCS/Élément/Aff...</td>\n",
       "      <td>A1C3Y7</td>\n",
       "      <td>https://apps.cer-rec.gc.ca/REGDOCS/File/Downlo...</td>\n",
       "      <td>Projets de grande envergure (plus de 40 km)</td>\n",
       "      <td>Alberta, Colombie-Britannique</td>\n",
       "      <td>GH-2-2008</td>\n",
       "      <td>TERA Environmental Consultants</td>\n",
       "      <td>Certificats révoqués</td>\n",
       "      <td>GC-114, RO-GC-114</td>\n",
       "      <td>https://apps.cer-rec.gc.ca/REGDOCS/Élément/Aff...</td>\n",
       "      <td>https://apps.cer-rec.gc.ca/REGDOCS/%C3%89l%C3%...</td>\n",
       "      <td>Annexe X : Évaluation des répercussions sur le...</td>\n",
       "      <td>33.0</td>\n",
       "      <td>Aspect humain</td>\n",
       "      <td>6</td>\n",
       "      <td>32.0</td>\n",
       "      <td>1.84</td>\n",
       "      <td>Non</td>\n",
       "      <td>3</td>\n",
       "      <td>/projects/rdwllw.zip</td>\n",
       "      <td>/tables/rdwllw_tableau-1-zones-évaluées-en-ver...</td>\n",
       "      <td>True</td>\n",
       "    </tr>\n",
       "    <tr>\n",
       "      <th>9138</th>\n",
       "      <td>TABLEAU 1 RESPONSABILITÉS DU PLAN DE GESTION D...</td>\n",
       "      <td>Tableau</td>\n",
       "      <td>Demande visant le programme de remplacement de...</td>\n",
       "      <td>Canalisation 3</td>\n",
       "      <td>11/5/2014</td>\n",
       "      <td>Enbridge Pipelines Inc.</td>\n",
       "      <td>Pétrole</td>\n",
       "      <td>B5-13 - Appendix 06 - ESA Appendix 1A - Pipeli...</td>\n",
       "      <td>https://apps.cer-rec.gc.ca/REGDOCS/Élément/Aff...</td>\n",
       "      <td>A4E6X3</td>\n",
       "      <td>https://apps.cer-rec.gc.ca/REGDOCS/File/Downlo...</td>\n",
       "      <td>Projets de grande envergure (plus de 40 km)</td>\n",
       "      <td>Alberta, Saskatchewan, Manitoba</td>\n",
       "      <td>OH-002-2015</td>\n",
       "      <td>TERA a CHTM HILL Company</td>\n",
       "      <td>En exploitation</td>\n",
       "      <td>OC-063</td>\n",
       "      <td>https://apps.cer-rec.gc.ca/REGDOCS/Élément/Aff...</td>\n",
       "      <td>https://apps.cer-rec.gc.ca/REGDOCS/%C3%89l%C3%...</td>\n",
       "      <td>Annexe 1A : Plan de protection environnemental...</td>\n",
       "      <td>13.0</td>\n",
       "      <td>Plan de protection de l'environnement</td>\n",
       "      <td>43</td>\n",
       "      <td>170.0</td>\n",
       "      <td>8.21</td>\n",
       "      <td>Non</td>\n",
       "      <td>4</td>\n",
       "      <td>/projects/ln3.zip</td>\n",
       "      <td>/tables/ln3_tableau-1-responsabilités-du-plan-...</td>\n",
       "      <td>True</td>\n",
       "    </tr>\n",
       "  </tbody>\n",
       "</table>\n",
       "</div>"
      ]
     },
     "metadata": {},
     "execution_count": 161
    }
   ],
   "metadata": {}
  },
  {
   "cell_type": "code",
   "execution_count": 158,
   "source": [
    "print(len(df_eng_old_tables[right_cols].drop_duplicates(keep='first')))"
   ],
   "outputs": [
    {
     "output_type": "stream",
     "name": "stdout",
     "text": [
      "13620\n"
     ]
    }
   ],
   "metadata": {}
  },
  {
   "cell_type": "code",
   "execution_count": 165,
   "source": [
    "print(len(df_fra_old_tables.drop_duplicates(subset=left_cols, keep='first')))"
   ],
   "outputs": [
    {
     "output_type": "stream",
     "name": "stdout",
     "text": [
      "13620\n"
     ]
    }
   ],
   "metadata": {}
  },
  {
   "cell_type": "code",
   "execution_count": 164,
   "source": [
    "right_cols = ['Document Number', 'Hearing order', 'Consultant Name', 'PDF Page Number', 'File Name']\r\n",
    "left_cols = ['Numéro de document', 'Ordonnance d\\'audience', 'Nom du consultant', 'Numéro de page PDF', 'Nom de fichier', 'Instruments réglementaires', 'Nom de la société']"
   ],
   "outputs": [],
   "metadata": {}
  },
  {
   "cell_type": "code",
   "execution_count": 144,
   "source": [
    "# Checking to see that the columns we've chosen to identify the rows are the same for each item in the dataframes\r\n",
    "\r\n",
    "mismatched_fr_items = []\r\n",
    "mismatched_en_items = []\r\n",
    "\r\n",
    "for right_col, left_col in zip(right_cols, left_cols):\r\n",
    "    fr_test = df_fra_old_tables[left_col].unique()\r\n",
    "    en_test = df_eng_old_tables[right_col].unique()\r\n",
    "    \r\n",
    "    for fr_item, en_item in zip(fr_test, en_test):\r\n",
    "        if fr_item != en_item:\r\n",
    "            print(fr_item, en_item)\r\n",
    "            mismatched_fr_items.append(fr_item)\r\n",
    "            mismatched_en_items.append(en_item)\r\n",
    "\r\n",
    "print(len(mismatched_fr_items))"
   ],
   "outputs": [
    {
     "output_type": "stream",
     "name": "stdout",
     "text": [
      "0\n"
     ]
    }
   ],
   "metadata": {}
  },
  {
   "cell_type": "code",
   "execution_count": 112,
   "source": [
    "df_fra_old_merged = merge_dfs_with_matching_specific_columns(df_fra_old_tables, df_eng_all_projects, left_on=left_cols, right_on=right_cols)\r\n",
    "df_fra_new_merged = merge_dfs_with_matching_specific_columns(df_fra_new_projects, df_eng_all_projects, left_on=left_cols, right_on=right_cols)"
   ],
   "outputs": [],
   "metadata": {}
  },
  {
   "cell_type": "code",
   "execution_count": 93,
   "source": [
    "df_fra_old_merged = merge_dfs_with_matching_specific_columns(df_eng_old_merged, df_fra_old_projects, left_on=left_cols, right_on=right_cols)\r\n",
    "df_fra_new_merged = merge_dfs_with_matching_specific_columns(df_eng_new_merged, df_fra_new_projects, left_on=left_cols, right_on=right_cols)"
   ],
   "outputs": [],
   "metadata": {}
  },
  {
   "cell_type": "code",
   "execution_count": 120,
   "source": [
    "print(len(df_fra_old_merged))"
   ],
   "outputs": [
    {
     "output_type": "stream",
     "name": "stdout",
     "text": [
      "18549\n"
     ]
    }
   ],
   "metadata": {}
  },
  {
   "cell_type": "code",
   "execution_count": 115,
   "source": [
    "df_fra_old_merged.to_csv(\"G:\\ESA_downloads\\phase_2_download_files\\ESA_downloads_fra\\df_fra_old_merged.csv\", index=False, encoding='utf-8')"
   ],
   "outputs": [],
   "metadata": {}
  },
  {
   "cell_type": "code",
   "execution_count": null,
   "source": [],
   "outputs": [],
   "metadata": {}
  }
 ],
 "metadata": {
  "orig_nbformat": 4,
  "language_info": {
   "name": "python",
   "version": "3.8.8",
   "mimetype": "text/x-python",
   "codemirror_mode": {
    "name": "ipython",
    "version": 3
   },
   "pygments_lexer": "ipython3",
   "nbconvert_exporter": "python",
   "file_extension": ".py"
  },
  "kernelspec": {
   "name": "python3",
   "display_name": "Python 3.8.8 64-bit ('base': conda)"
  },
  "interpreter": {
   "hash": "e2bf75632dbab15b13c7e69d7c865eec44ce559fc915a91671bc417dc3e34be8"
  }
 },
 "nbformat": 4,
 "nbformat_minor": 2
}