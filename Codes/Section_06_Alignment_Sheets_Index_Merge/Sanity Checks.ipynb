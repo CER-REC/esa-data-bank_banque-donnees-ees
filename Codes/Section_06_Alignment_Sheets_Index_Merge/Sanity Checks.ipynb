{
 "cells": [
  {
   "cell_type": "code",
   "execution_count": 1,
   "metadata": {},
   "outputs": [],
   "source": [
    "import pandas as pd\n",
    "import fitz\n",
    "import os\n",
    "import pickle\n",
    "import math\n",
    "from bs4 import BeautifulSoup\n",
    "import numpy as np"
   ]
  },
  {
   "cell_type": "code",
   "execution_count": 3,
   "metadata": {},
   "outputs": [
    {
     "data": {
      "text/plain": [
       "1914"
      ]
     },
     "execution_count": 3,
     "metadata": {},
     "output_type": "execute_result"
    }
   ],
   "source": [
    "index_pdf_df = pd.read_csv(\"G:\\\\ESA_downloads\\\\Demo_Alignment_Sheets\\\\Index_2_PDF.csv\", \n",
    "                           encoding= 'unicode_escape')\n",
    "index_pdf_df = index_pdf_df.rename(columns={\"Data ID\": \"DataID\"})\n",
    "index_pdf_df.head()\n",
    "pdfs = []\n",
    "for index, row in index_pdf_df.iterrows():\n",
    "    pdfs.append(str(row[\"DataID\"]))\n",
    "    \n",
    "len(pdfs)"
   ]
  },
  {
   "cell_type": "code",
   "execution_count": 7,
   "metadata": {},
   "outputs": [
    {
     "name": "stdout",
     "output_type": "stream",
     "text": [
      "24929\n",
      "525\n"
     ]
    },
    {
     "data": {
      "text/plain": [
       "525"
      ]
     },
     "execution_count": 7,
     "metadata": {},
     "output_type": "execute_result"
    }
   ],
   "source": [
    "#index_file = pd.read_csv(path + \"Data_Files_v2\\\\book1.csv\", index_col = 0, encoding= 'unicode_escape')\n",
    "index_file = pd.read_csv(\"G:\\ESA_downloads\\ESA_bundled_with_VCs\\ESA_website_ENG.csv\",\n",
    "                         encoding= 'unicode_escape')\n",
    "print(len(index_file))\n",
    "count = 0\n",
    "not_needed_pdfs = []\n",
    "for index, row in index_file.iterrows():\n",
    "    pdf = str(row[\"Data ID\"])\n",
    "    if pdf in pdfs:\n",
    "        continue\n",
    "    else:\n",
    "        count = count +1\n",
    "        not_needed_pdfs.append(str(row[\"Data ID\"]))\n",
    "print(count)    \n",
    "len(set(not_needed_pdfs)\n"
   ]
  },
  {
   "cell_type": "code",
   "execution_count": 9,
   "metadata": {},
   "outputs": [
    {
     "data": {
      "text/plain": [
       "19"
      ]
     },
     "execution_count": 9,
     "metadata": {},
     "output_type": "execute_result"
    }
   ],
   "source": [
    "len(set(not_needed_pdfs))"
   ]
  },
  {
   "cell_type": "code",
   "execution_count": 11,
   "metadata": {},
   "outputs": [
    {
     "data": {
      "text/plain": [
       "{'444418',\n",
       " '444424',\n",
       " '444427',\n",
       " '444430',\n",
       " '444433',\n",
       " '444751',\n",
       " '444757',\n",
       " '444841',\n",
       " '444844',\n",
       " '444850',\n",
       " '444853',\n",
       " '444856',\n",
       " '444859',\n",
       " '444862',\n",
       " '444865',\n",
       " '444874',\n",
       " '444877',\n",
       " '444880',\n",
       " '444883'}"
      ]
     },
     "execution_count": 11,
     "metadata": {},
     "output_type": "execute_result"
    }
   ],
   "source": [
    "set(not_needed_pdfs)"
   ]
  },
  {
   "cell_type": "code",
   "execution_count": 12,
   "metadata": {},
   "outputs": [],
   "source": [
    "import glob \n",
    "#### Reading the Index 1 file - Dataframe\n",
    "path = \"G:\\\\ESA_downloads\\\\Demo_Alignment_Sheets\\\\\"\n",
    "path_pdfs = path + \"Data_Files_v2\\\\PDFs\\\\*.pdf\"\n",
    "count = 0\n",
    "pdf_paths = []\n",
    "for path_pdf in glob.glob(path_pdfs, recursive=True):\n",
    "    count = count + 1\n",
    "    if '444427' in path_pdf:\n",
    "        print(path_pdf)"
   ]
  },
  {
   "cell_type": "code",
   "execution_count": 9,
   "metadata": {},
   "outputs": [
    {
     "data": {
      "text/plain": [
       "False"
      ]
     },
     "execution_count": 9,
     "metadata": {},
     "output_type": "execute_result"
    }
   ],
   "source": [
    "444427 in pdfs"
   ]
  },
  {
   "cell_type": "code",
   "execution_count": null,
   "metadata": {},
   "outputs": [],
   "source": []
  }
 ],
 "metadata": {
  "kernelspec": {
   "display_name": "Python 3",
   "language": "python",
   "name": "python3"
  },
  "language_info": {
   "codemirror_mode": {
    "name": "ipython",
    "version": 3
   },
   "file_extension": ".py",
   "mimetype": "text/x-python",
   "name": "python",
   "nbconvert_exporter": "python",
   "pygments_lexer": "ipython3",
   "version": "3.7.4"
  }
 },
 "nbformat": 4,
 "nbformat_minor": 2
}
