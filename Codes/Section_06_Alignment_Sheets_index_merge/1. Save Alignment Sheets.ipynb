{
 "cells": [
  {
   "cell_type": "code",
   "execution_count": 1,
   "metadata": {},
   "outputs": [],
   "source": [
    "import pandas as pd\n",
    "import fitz\n",
    "import os\n",
    "import pickle\n",
    "import math\n",
    "from bs4 import BeautifulSoup\n",
    "import numpy as np"
   ]
  },
  {
   "cell_type": "code",
   "execution_count": 2,
   "metadata": {},
   "outputs": [
    {
     "name": "stdout",
     "output_type": "stream",
     "text": [
      "88648\n"
     ]
    },
    {
     "data": {
      "text/html": [
       "<div>\n",
       "<style scoped>\n",
       "    .dataframe tbody tr th:only-of-type {\n",
       "        vertical-align: middle;\n",
       "    }\n",
       "\n",
       "    .dataframe tbody tr th {\n",
       "        vertical-align: top;\n",
       "    }\n",
       "\n",
       "    .dataframe thead th {\n",
       "        text-align: right;\n",
       "    }\n",
       "</style>\n",
       "<table border=\"1\" class=\"dataframe\">\n",
       "  <thead>\n",
       "    <tr style=\"text-align: right;\">\n",
       "      <th></th>\n",
       "      <th>scale</th>\n",
       "      <th>km_kilometers</th>\n",
       "      <th>m</th>\n",
       "      <th>metres</th>\n",
       "      <th>scale_grp</th>\n",
       "      <th>legend</th>\n",
       "      <th>figure</th>\n",
       "      <th>mapp</th>\n",
       "      <th>alignment_sheet</th>\n",
       "      <th>sheet</th>\n",
       "      <th>figure_grp</th>\n",
       "      <th>north</th>\n",
       "      <th>n</th>\n",
       "      <th>words_in_page</th>\n",
       "      <th>No_of_images</th>\n",
       "      <th>Area_of_images</th>\n",
       "      <th>dataID</th>\n",
       "      <th>pageNo</th>\n",
       "      <th>paths_l</th>\n",
       "    </tr>\n",
       "  </thead>\n",
       "  <tbody>\n",
       "    <tr>\n",
       "      <td>0</td>\n",
       "      <td>0</td>\n",
       "      <td>0</td>\n",
       "      <td>0</td>\n",
       "      <td>0</td>\n",
       "      <td>0</td>\n",
       "      <td>0</td>\n",
       "      <td>0</td>\n",
       "      <td>0</td>\n",
       "      <td>0</td>\n",
       "      <td>0</td>\n",
       "      <td>0</td>\n",
       "      <td>0</td>\n",
       "      <td>0</td>\n",
       "      <td>894</td>\n",
       "      <td>1</td>\n",
       "      <td>79376</td>\n",
       "      <td>268706</td>\n",
       "      <td>1</td>\n",
       "      <td>G:\\ESA_downloads\\Demo_Alignment_Sheets\\Data_Fi...</td>\n",
       "    </tr>\n",
       "    <tr>\n",
       "      <td>1</td>\n",
       "      <td>0</td>\n",
       "      <td>0</td>\n",
       "      <td>0</td>\n",
       "      <td>2</td>\n",
       "      <td>1</td>\n",
       "      <td>0</td>\n",
       "      <td>0</td>\n",
       "      <td>0</td>\n",
       "      <td>0</td>\n",
       "      <td>0</td>\n",
       "      <td>0</td>\n",
       "      <td>0</td>\n",
       "      <td>0</td>\n",
       "      <td>1419</td>\n",
       "      <td>1</td>\n",
       "      <td>79376</td>\n",
       "      <td>268706</td>\n",
       "      <td>2</td>\n",
       "      <td>G:\\ESA_downloads\\Demo_Alignment_Sheets\\Data_Fi...</td>\n",
       "    </tr>\n",
       "    <tr>\n",
       "      <td>2</td>\n",
       "      <td>0</td>\n",
       "      <td>0</td>\n",
       "      <td>0</td>\n",
       "      <td>0</td>\n",
       "      <td>0</td>\n",
       "      <td>0</td>\n",
       "      <td>0</td>\n",
       "      <td>0</td>\n",
       "      <td>0</td>\n",
       "      <td>0</td>\n",
       "      <td>0</td>\n",
       "      <td>0</td>\n",
       "      <td>0</td>\n",
       "      <td>1470</td>\n",
       "      <td>1</td>\n",
       "      <td>79376</td>\n",
       "      <td>268706</td>\n",
       "      <td>3</td>\n",
       "      <td>G:\\ESA_downloads\\Demo_Alignment_Sheets\\Data_Fi...</td>\n",
       "    </tr>\n",
       "    <tr>\n",
       "      <td>3</td>\n",
       "      <td>0</td>\n",
       "      <td>0</td>\n",
       "      <td>0</td>\n",
       "      <td>0</td>\n",
       "      <td>0</td>\n",
       "      <td>0</td>\n",
       "      <td>0</td>\n",
       "      <td>0</td>\n",
       "      <td>0</td>\n",
       "      <td>0</td>\n",
       "      <td>0</td>\n",
       "      <td>0</td>\n",
       "      <td>0</td>\n",
       "      <td>1477</td>\n",
       "      <td>1</td>\n",
       "      <td>79376</td>\n",
       "      <td>268706</td>\n",
       "      <td>4</td>\n",
       "      <td>G:\\ESA_downloads\\Demo_Alignment_Sheets\\Data_Fi...</td>\n",
       "    </tr>\n",
       "    <tr>\n",
       "      <td>4</td>\n",
       "      <td>0</td>\n",
       "      <td>0</td>\n",
       "      <td>0</td>\n",
       "      <td>0</td>\n",
       "      <td>0</td>\n",
       "      <td>0</td>\n",
       "      <td>0</td>\n",
       "      <td>0</td>\n",
       "      <td>0</td>\n",
       "      <td>0</td>\n",
       "      <td>0</td>\n",
       "      <td>0</td>\n",
       "      <td>0</td>\n",
       "      <td>1461</td>\n",
       "      <td>1</td>\n",
       "      <td>79376</td>\n",
       "      <td>268706</td>\n",
       "      <td>5</td>\n",
       "      <td>G:\\ESA_downloads\\Demo_Alignment_Sheets\\Data_Fi...</td>\n",
       "    </tr>\n",
       "  </tbody>\n",
       "</table>\n",
       "</div>"
      ],
      "text/plain": [
       "   scale  km_kilometers  m  metres  scale_grp  legend  figure  mapp  \\\n",
       "0      0              0  0       0          0       0       0     0   \n",
       "1      0              0  0       2          1       0       0     0   \n",
       "2      0              0  0       0          0       0       0     0   \n",
       "3      0              0  0       0          0       0       0     0   \n",
       "4      0              0  0       0          0       0       0     0   \n",
       "\n",
       "   alignment_sheet  sheet  figure_grp  north  n  words_in_page  No_of_images  \\\n",
       "0                0      0           0      0  0            894             1   \n",
       "1                0      0           0      0  0           1419             1   \n",
       "2                0      0           0      0  0           1470             1   \n",
       "3                0      0           0      0  0           1477             1   \n",
       "4                0      0           0      0  0           1461             1   \n",
       "\n",
       "   Area_of_images  dataID  pageNo  \\\n",
       "0           79376  268706       1   \n",
       "1           79376  268706       2   \n",
       "2           79376  268706       3   \n",
       "3           79376  268706       4   \n",
       "4           79376  268706       5   \n",
       "\n",
       "                                             paths_l  \n",
       "0  G:\\ESA_downloads\\Demo_Alignment_Sheets\\Data_Fi...  \n",
       "1  G:\\ESA_downloads\\Demo_Alignment_Sheets\\Data_Fi...  \n",
       "2  G:\\ESA_downloads\\Demo_Alignment_Sheets\\Data_Fi...  \n",
       "3  G:\\ESA_downloads\\Demo_Alignment_Sheets\\Data_Fi...  \n",
       "4  G:\\ESA_downloads\\Demo_Alignment_Sheets\\Data_Fi...  "
      ]
     },
     "execution_count": 2,
     "metadata": {},
     "output_type": "execute_result"
    }
   ],
   "source": [
    "#### Reading the Index 1 file - Dataframe\n",
    "path = \"G:\\\\ESA_downloads\\\\Demo_Alignment_Sheets\\\\\"\n",
    "\n",
    "features = pd.read_csv(path + \"Data_Files_v2\\\\all_features.csv\", index_col = 0, encoding= 'unicode_escape')\n",
    "print(len(features))\n",
    "features.head()"
   ]
  },
  {
   "cell_type": "code",
   "execution_count": 3,
   "metadata": {},
   "outputs": [
    {
     "data": {
      "text/html": [
       "<div>\n",
       "<style scoped>\n",
       "    .dataframe tbody tr th:only-of-type {\n",
       "        vertical-align: middle;\n",
       "    }\n",
       "\n",
       "    .dataframe tbody tr th {\n",
       "        vertical-align: top;\n",
       "    }\n",
       "\n",
       "    .dataframe thead th {\n",
       "        text-align: right;\n",
       "    }\n",
       "</style>\n",
       "<table border=\"1\" class=\"dataframe\">\n",
       "  <thead>\n",
       "    <tr style=\"text-align: right;\">\n",
       "      <th></th>\n",
       "      <th>scale</th>\n",
       "      <th>km_kilometers</th>\n",
       "      <th>m</th>\n",
       "      <th>metres</th>\n",
       "      <th>scale_grp</th>\n",
       "      <th>legend</th>\n",
       "      <th>figure</th>\n",
       "      <th>mapp</th>\n",
       "      <th>alignment_sheet</th>\n",
       "      <th>sheet</th>\n",
       "      <th>figure_grp</th>\n",
       "      <th>north</th>\n",
       "      <th>n</th>\n",
       "      <th>words_in_page</th>\n",
       "      <th>No_of_images</th>\n",
       "      <th>Area_of_images</th>\n",
       "    </tr>\n",
       "  </thead>\n",
       "  <tbody>\n",
       "    <tr>\n",
       "      <td>0</td>\n",
       "      <td>0</td>\n",
       "      <td>0</td>\n",
       "      <td>0</td>\n",
       "      <td>0</td>\n",
       "      <td>0</td>\n",
       "      <td>0</td>\n",
       "      <td>0</td>\n",
       "      <td>0</td>\n",
       "      <td>0</td>\n",
       "      <td>0</td>\n",
       "      <td>0</td>\n",
       "      <td>0</td>\n",
       "      <td>0</td>\n",
       "      <td>894</td>\n",
       "      <td>1</td>\n",
       "      <td>79376</td>\n",
       "    </tr>\n",
       "    <tr>\n",
       "      <td>1</td>\n",
       "      <td>0</td>\n",
       "      <td>0</td>\n",
       "      <td>0</td>\n",
       "      <td>2</td>\n",
       "      <td>1</td>\n",
       "      <td>0</td>\n",
       "      <td>0</td>\n",
       "      <td>0</td>\n",
       "      <td>0</td>\n",
       "      <td>0</td>\n",
       "      <td>0</td>\n",
       "      <td>0</td>\n",
       "      <td>0</td>\n",
       "      <td>1419</td>\n",
       "      <td>1</td>\n",
       "      <td>79376</td>\n",
       "    </tr>\n",
       "    <tr>\n",
       "      <td>2</td>\n",
       "      <td>0</td>\n",
       "      <td>0</td>\n",
       "      <td>0</td>\n",
       "      <td>0</td>\n",
       "      <td>0</td>\n",
       "      <td>0</td>\n",
       "      <td>0</td>\n",
       "      <td>0</td>\n",
       "      <td>0</td>\n",
       "      <td>0</td>\n",
       "      <td>0</td>\n",
       "      <td>0</td>\n",
       "      <td>0</td>\n",
       "      <td>1470</td>\n",
       "      <td>1</td>\n",
       "      <td>79376</td>\n",
       "    </tr>\n",
       "    <tr>\n",
       "      <td>3</td>\n",
       "      <td>0</td>\n",
       "      <td>0</td>\n",
       "      <td>0</td>\n",
       "      <td>0</td>\n",
       "      <td>0</td>\n",
       "      <td>0</td>\n",
       "      <td>0</td>\n",
       "      <td>0</td>\n",
       "      <td>0</td>\n",
       "      <td>0</td>\n",
       "      <td>0</td>\n",
       "      <td>0</td>\n",
       "      <td>0</td>\n",
       "      <td>1477</td>\n",
       "      <td>1</td>\n",
       "      <td>79376</td>\n",
       "    </tr>\n",
       "    <tr>\n",
       "      <td>4</td>\n",
       "      <td>0</td>\n",
       "      <td>0</td>\n",
       "      <td>0</td>\n",
       "      <td>0</td>\n",
       "      <td>0</td>\n",
       "      <td>0</td>\n",
       "      <td>0</td>\n",
       "      <td>0</td>\n",
       "      <td>0</td>\n",
       "      <td>0</td>\n",
       "      <td>0</td>\n",
       "      <td>0</td>\n",
       "      <td>0</td>\n",
       "      <td>1461</td>\n",
       "      <td>1</td>\n",
       "      <td>79376</td>\n",
       "    </tr>\n",
       "  </tbody>\n",
       "</table>\n",
       "</div>"
      ],
      "text/plain": [
       "   scale  km_kilometers  m  metres  scale_grp  legend  figure  mapp  \\\n",
       "0      0              0  0       0          0       0       0     0   \n",
       "1      0              0  0       2          1       0       0     0   \n",
       "2      0              0  0       0          0       0       0     0   \n",
       "3      0              0  0       0          0       0       0     0   \n",
       "4      0              0  0       0          0       0       0     0   \n",
       "\n",
       "   alignment_sheet  sheet  figure_grp  north  n  words_in_page  No_of_images  \\\n",
       "0                0      0           0      0  0            894             1   \n",
       "1                0      0           0      0  0           1419             1   \n",
       "2                0      0           0      0  0           1470             1   \n",
       "3                0      0           0      0  0           1477             1   \n",
       "4                0      0           0      0  0           1461             1   \n",
       "\n",
       "   Area_of_images  \n",
       "0           79376  \n",
       "1           79376  \n",
       "2           79376  \n",
       "3           79376  \n",
       "4           79376  "
      ]
     },
     "execution_count": 3,
     "metadata": {},
     "output_type": "execute_result"
    }
   ],
   "source": [
    "X_df_features = features.copy()\n",
    "#X_df_features.drop(columns=['dataID_pageNo', 'result'], inplace=True)\n",
    "X_df_features.drop(columns=['dataID', 'pageNo', 'paths_l'], inplace=True)\n",
    "X_df_features.head()"
   ]
  },
  {
   "cell_type": "code",
   "execution_count": 4,
   "metadata": {},
   "outputs": [
    {
     "name": "stdout",
     "output_type": "stream",
     "text": [
      "88648\n",
      "[0, 0, 0, 0, 0]\n",
      "7047\n"
     ]
    }
   ],
   "source": [
    "m_path = path + \"alignment_sheet_classifier_rfc.sav\"\n",
    "loaded_model = pickle.load(open(m_path, 'rb'))\n",
    "result = loaded_model.predict(X_df_features)\n",
    "\n",
    "y_predict = []\n",
    "for y in result:\n",
    "    if y > 0.50:\n",
    "        y_predict.append(1)\n",
    "    else:\n",
    "        y_predict.append(0)\n",
    "        \n",
    "print(len(y_predict))\n",
    "print(y_predict[:5])\n",
    "print(sum(y_predict))\n",
    "\n",
    "features[\"results\"] = y_predict"
   ]
  },
  {
   "cell_type": "code",
   "execution_count": 5,
   "metadata": {},
   "outputs": [
    {
     "name": "stdout",
     "output_type": "stream",
     "text": [
      "Total number of Pages:  88648\n",
      "Total number of Alignment Sheets:  7047\n"
     ]
    },
    {
     "data": {
      "text/html": [
       "<div>\n",
       "<style scoped>\n",
       "    .dataframe tbody tr th:only-of-type {\n",
       "        vertical-align: middle;\n",
       "    }\n",
       "\n",
       "    .dataframe tbody tr th {\n",
       "        vertical-align: top;\n",
       "    }\n",
       "\n",
       "    .dataframe thead th {\n",
       "        text-align: right;\n",
       "    }\n",
       "</style>\n",
       "<table border=\"1\" class=\"dataframe\">\n",
       "  <thead>\n",
       "    <tr style=\"text-align: right;\">\n",
       "      <th></th>\n",
       "      <th>scale</th>\n",
       "      <th>km_kilometers</th>\n",
       "      <th>m</th>\n",
       "      <th>metres</th>\n",
       "      <th>scale_grp</th>\n",
       "      <th>legend</th>\n",
       "      <th>figure</th>\n",
       "      <th>mapp</th>\n",
       "      <th>alignment_sheet</th>\n",
       "      <th>sheet</th>\n",
       "      <th>figure_grp</th>\n",
       "      <th>north</th>\n",
       "      <th>n</th>\n",
       "      <th>words_in_page</th>\n",
       "      <th>No_of_images</th>\n",
       "      <th>Area_of_images</th>\n",
       "      <th>dataID</th>\n",
       "      <th>pageNo</th>\n",
       "      <th>paths_l</th>\n",
       "      <th>results</th>\n",
       "    </tr>\n",
       "  </thead>\n",
       "  <tbody>\n",
       "    <tr>\n",
       "      <td>0</td>\n",
       "      <td>2</td>\n",
       "      <td>1</td>\n",
       "      <td>0</td>\n",
       "      <td>1</td>\n",
       "      <td>1</td>\n",
       "      <td>0</td>\n",
       "      <td>1</td>\n",
       "      <td>0</td>\n",
       "      <td>0</td>\n",
       "      <td>0</td>\n",
       "      <td>1</td>\n",
       "      <td>1</td>\n",
       "      <td>0</td>\n",
       "      <td>991</td>\n",
       "      <td>2</td>\n",
       "      <td>3504</td>\n",
       "      <td>268706</td>\n",
       "      <td>90</td>\n",
       "      <td>G:\\ESA_downloads\\Demo_Alignment_Sheets\\Data_Fi...</td>\n",
       "      <td>1</td>\n",
       "    </tr>\n",
       "    <tr>\n",
       "      <td>1</td>\n",
       "      <td>2</td>\n",
       "      <td>1</td>\n",
       "      <td>0</td>\n",
       "      <td>1</td>\n",
       "      <td>1</td>\n",
       "      <td>0</td>\n",
       "      <td>1</td>\n",
       "      <td>0</td>\n",
       "      <td>0</td>\n",
       "      <td>0</td>\n",
       "      <td>1</td>\n",
       "      <td>0</td>\n",
       "      <td>0</td>\n",
       "      <td>676</td>\n",
       "      <td>2</td>\n",
       "      <td>3504</td>\n",
       "      <td>268706</td>\n",
       "      <td>94</td>\n",
       "      <td>G:\\ESA_downloads\\Demo_Alignment_Sheets\\Data_Fi...</td>\n",
       "      <td>1</td>\n",
       "    </tr>\n",
       "    <tr>\n",
       "      <td>2</td>\n",
       "      <td>2</td>\n",
       "      <td>1</td>\n",
       "      <td>0</td>\n",
       "      <td>1</td>\n",
       "      <td>1</td>\n",
       "      <td>0</td>\n",
       "      <td>1</td>\n",
       "      <td>0</td>\n",
       "      <td>0</td>\n",
       "      <td>0</td>\n",
       "      <td>1</td>\n",
       "      <td>0</td>\n",
       "      <td>0</td>\n",
       "      <td>704</td>\n",
       "      <td>2</td>\n",
       "      <td>3504</td>\n",
       "      <td>268709</td>\n",
       "      <td>23</td>\n",
       "      <td>G:\\ESA_downloads\\Demo_Alignment_Sheets\\Data_Fi...</td>\n",
       "      <td>1</td>\n",
       "    </tr>\n",
       "    <tr>\n",
       "      <td>3</td>\n",
       "      <td>2</td>\n",
       "      <td>1</td>\n",
       "      <td>0</td>\n",
       "      <td>1</td>\n",
       "      <td>1</td>\n",
       "      <td>0</td>\n",
       "      <td>1</td>\n",
       "      <td>0</td>\n",
       "      <td>0</td>\n",
       "      <td>0</td>\n",
       "      <td>1</td>\n",
       "      <td>0</td>\n",
       "      <td>0</td>\n",
       "      <td>625</td>\n",
       "      <td>2</td>\n",
       "      <td>3433</td>\n",
       "      <td>268709</td>\n",
       "      <td>30</td>\n",
       "      <td>G:\\ESA_downloads\\Demo_Alignment_Sheets\\Data_Fi...</td>\n",
       "      <td>1</td>\n",
       "    </tr>\n",
       "    <tr>\n",
       "      <td>4</td>\n",
       "      <td>2</td>\n",
       "      <td>1</td>\n",
       "      <td>0</td>\n",
       "      <td>1</td>\n",
       "      <td>1</td>\n",
       "      <td>0</td>\n",
       "      <td>1</td>\n",
       "      <td>0</td>\n",
       "      <td>0</td>\n",
       "      <td>0</td>\n",
       "      <td>1</td>\n",
       "      <td>0</td>\n",
       "      <td>0</td>\n",
       "      <td>612</td>\n",
       "      <td>2</td>\n",
       "      <td>3433</td>\n",
       "      <td>268709</td>\n",
       "      <td>31</td>\n",
       "      <td>G:\\ESA_downloads\\Demo_Alignment_Sheets\\Data_Fi...</td>\n",
       "      <td>1</td>\n",
       "    </tr>\n",
       "  </tbody>\n",
       "</table>\n",
       "</div>"
      ],
      "text/plain": [
       "   scale  km_kilometers  m  metres  scale_grp  legend  figure  mapp  \\\n",
       "0      2              1  0       1          1       0       1     0   \n",
       "1      2              1  0       1          1       0       1     0   \n",
       "2      2              1  0       1          1       0       1     0   \n",
       "3      2              1  0       1          1       0       1     0   \n",
       "4      2              1  0       1          1       0       1     0   \n",
       "\n",
       "   alignment_sheet  sheet  figure_grp  north  n  words_in_page  No_of_images  \\\n",
       "0                0      0           1      1  0            991             2   \n",
       "1                0      0           1      0  0            676             2   \n",
       "2                0      0           1      0  0            704             2   \n",
       "3                0      0           1      0  0            625             2   \n",
       "4                0      0           1      0  0            612             2   \n",
       "\n",
       "   Area_of_images  dataID  pageNo  \\\n",
       "0            3504  268706      90   \n",
       "1            3504  268706      94   \n",
       "2            3504  268709      23   \n",
       "3            3433  268709      30   \n",
       "4            3433  268709      31   \n",
       "\n",
       "                                             paths_l  results  \n",
       "0  G:\\ESA_downloads\\Demo_Alignment_Sheets\\Data_Fi...        1  \n",
       "1  G:\\ESA_downloads\\Demo_Alignment_Sheets\\Data_Fi...        1  \n",
       "2  G:\\ESA_downloads\\Demo_Alignment_Sheets\\Data_Fi...        1  \n",
       "3  G:\\ESA_downloads\\Demo_Alignment_Sheets\\Data_Fi...        1  \n",
       "4  G:\\ESA_downloads\\Demo_Alignment_Sheets\\Data_Fi...        1  "
      ]
     },
     "execution_count": 5,
     "metadata": {},
     "output_type": "execute_result"
    }
   ],
   "source": [
    "alignment_sheets = features[features.results > 0.5]\n",
    "print(\"Total number of Pages: \", len(features))\n",
    "print(\"Total number of Alignment Sheets: \", len(alignment_sheets))\n",
    "alignment_sheets.reset_index(drop=True, inplace=True)\n",
    "alignment_sheets.head()"
   ]
  },
  {
   "cell_type": "code",
   "execution_count": 6,
   "metadata": {},
   "outputs": [
    {
     "name": "stdout",
     "output_type": "stream",
     "text": [
      "7047\n"
     ]
    }
   ],
   "source": [
    "alignment_sheets_list = []\n",
    "for index, row in alignment_sheets.iterrows():\n",
    "    al = str(row[\"dataID\"]) + \"_\" + str(row[\"pageNo\"])\n",
    "    alignment_sheets_list.append(al)\n",
    "    \n",
    "print(len(alignment_sheets_list))"
   ]
  },
  {
   "cell_type": "markdown",
   "metadata": {},
   "source": [
    "### Check if alignment sheets were previously extracted as Figure"
   ]
  },
  {
   "cell_type": "code",
   "execution_count": 7,
   "metadata": {},
   "outputs": [
    {
     "name": "stdout",
     "output_type": "stream",
     "text": [
      "24929\n"
     ]
    },
    {
     "name": "stderr",
     "output_type": "stream",
     "text": [
      "C:\\ProgramData\\Anaconda3\\lib\\site-packages\\IPython\\core\\interactiveshell.py:3058: DtypeWarning: Columns (52) have mixed types. Specify dtype option on import or set low_memory=False.\n",
      "  interactivity=interactivity, compiler=compiler, result=result)\n"
     ]
    },
    {
     "data": {
      "text/html": [
       "<div>\n",
       "<style scoped>\n",
       "    .dataframe tbody tr th:only-of-type {\n",
       "        vertical-align: middle;\n",
       "    }\n",
       "\n",
       "    .dataframe tbody tr th {\n",
       "        vertical-align: top;\n",
       "    }\n",
       "\n",
       "    .dataframe thead th {\n",
       "        text-align: right;\n",
       "    }\n",
       "</style>\n",
       "<table border=\"1\" class=\"dataframe\">\n",
       "  <thead>\n",
       "    <tr style=\"text-align: right;\">\n",
       "      <th></th>\n",
       "      <th>Title</th>\n",
       "      <th>Content Type</th>\n",
       "      <th>Application Name</th>\n",
       "      <th>Application Short Name</th>\n",
       "      <th>Application Filing Date</th>\n",
       "      <th>Company Name</th>\n",
       "      <th>Commodity</th>\n",
       "      <th>File Name</th>\n",
       "      <th>ESA Folder URL</th>\n",
       "      <th>Document Number</th>\n",
       "      <th>...</th>\n",
       "      <th>Impact to social and cultural well-being</th>\n",
       "      <th>Impact to human health and viewscapes</th>\n",
       "      <th>Social, cultural, economic infrastructure and services</th>\n",
       "      <th>Economic Offsets and Impact</th>\n",
       "      <th>Environmental Obligations</th>\n",
       "      <th>Treaty and Indigenous Rights</th>\n",
       "      <th>ID</th>\n",
       "      <th>Project Download Path</th>\n",
       "      <th>Table Download Path</th>\n",
       "      <th>Good Quality</th>\n",
       "    </tr>\n",
       "  </thead>\n",
       "  <tbody>\n",
       "    <tr>\n",
       "      <td>0</td>\n",
       "      <td>Figure 13.1-1 EnCana Ekwan Pipeline</td>\n",
       "      <td>Figure</td>\n",
       "      <td>Application to Construct and Operate Ekwan Pip...</td>\n",
       "      <td>Ekwan</td>\n",
       "      <td>2003-03-17</td>\n",
       "      <td>EnCana Ekwan Pipeline Inc.</td>\n",
       "      <td>Gas</td>\n",
       "      <td>A0H8C0 - 13.0 EIA - Section 13.1 to 13.6</td>\n",
       "      <td>https://apps.cer-rec.gc.ca/REGDOCS/Item/View/2...</td>\n",
       "      <td>A0H8C0</td>\n",
       "      <td>...</td>\n",
       "      <td>NaN</td>\n",
       "      <td>NaN</td>\n",
       "      <td>NaN</td>\n",
       "      <td>NaN</td>\n",
       "      <td>NaN</td>\n",
       "      <td>NaN</td>\n",
       "      <td>15657</td>\n",
       "      <td>NaN</td>\n",
       "      <td>NaN</td>\n",
       "      <td>NaN</td>\n",
       "    </tr>\n",
       "    <tr>\n",
       "      <td>1</td>\n",
       "      <td>Figure 13.3-1 CEA Framework</td>\n",
       "      <td>Figure</td>\n",
       "      <td>Application to Construct and Operate Ekwan Pip...</td>\n",
       "      <td>Ekwan</td>\n",
       "      <td>2003-03-17</td>\n",
       "      <td>EnCana Ekwan Pipeline Inc.</td>\n",
       "      <td>Gas</td>\n",
       "      <td>A0H8C0 - 13.0 EIA - Section 13.1 to 13.6</td>\n",
       "      <td>https://apps.cer-rec.gc.ca/REGDOCS/Item/View/2...</td>\n",
       "      <td>A0H8C0</td>\n",
       "      <td>...</td>\n",
       "      <td>NaN</td>\n",
       "      <td>NaN</td>\n",
       "      <td>NaN</td>\n",
       "      <td>NaN</td>\n",
       "      <td>NaN</td>\n",
       "      <td>NaN</td>\n",
       "      <td>15658</td>\n",
       "      <td>NaN</td>\n",
       "      <td>NaN</td>\n",
       "      <td>NaN</td>\n",
       "    </tr>\n",
       "    <tr>\n",
       "      <td>2</td>\n",
       "      <td>Figure 13.4-1 Temperature Normals Measured at ...</td>\n",
       "      <td>Figure</td>\n",
       "      <td>Application to Construct and Operate Ekwan Pip...</td>\n",
       "      <td>Ekwan</td>\n",
       "      <td>2003-03-17</td>\n",
       "      <td>EnCana Ekwan Pipeline Inc.</td>\n",
       "      <td>Gas</td>\n",
       "      <td>A0H8C0 - 13.0 EIA - Section 13.1 to 13.6</td>\n",
       "      <td>https://apps.cer-rec.gc.ca/REGDOCS/Item/View/2...</td>\n",
       "      <td>A0H8C0</td>\n",
       "      <td>...</td>\n",
       "      <td>NaN</td>\n",
       "      <td>NaN</td>\n",
       "      <td>NaN</td>\n",
       "      <td>NaN</td>\n",
       "      <td>NaN</td>\n",
       "      <td>NaN</td>\n",
       "      <td>15659</td>\n",
       "      <td>NaN</td>\n",
       "      <td>NaN</td>\n",
       "      <td>NaN</td>\n",
       "    </tr>\n",
       "    <tr>\n",
       "      <td>3</td>\n",
       "      <td>Figure 13.4-2 Mean Monthly Rainfall and Number...</td>\n",
       "      <td>Figure</td>\n",
       "      <td>Application to Construct and Operate Ekwan Pip...</td>\n",
       "      <td>Ekwan</td>\n",
       "      <td>2003-03-17</td>\n",
       "      <td>EnCana Ekwan Pipeline Inc.</td>\n",
       "      <td>Gas</td>\n",
       "      <td>A0H8C0 - 13.0 EIA - Section 13.1 to 13.6</td>\n",
       "      <td>https://apps.cer-rec.gc.ca/REGDOCS/Item/View/2...</td>\n",
       "      <td>A0H8C0</td>\n",
       "      <td>...</td>\n",
       "      <td>NaN</td>\n",
       "      <td>NaN</td>\n",
       "      <td>NaN</td>\n",
       "      <td>NaN</td>\n",
       "      <td>NaN</td>\n",
       "      <td>NaN</td>\n",
       "      <td>15660</td>\n",
       "      <td>NaN</td>\n",
       "      <td>NaN</td>\n",
       "      <td>NaN</td>\n",
       "    </tr>\n",
       "    <tr>\n",
       "      <td>4</td>\n",
       "      <td>Figure 13.4-3 Mean Monthly Snowfall and Number...</td>\n",
       "      <td>Figure</td>\n",
       "      <td>Application to Construct and Operate Ekwan Pip...</td>\n",
       "      <td>Ekwan</td>\n",
       "      <td>2003-03-17</td>\n",
       "      <td>EnCana Ekwan Pipeline Inc.</td>\n",
       "      <td>Gas</td>\n",
       "      <td>A0H8C0 - 13.0 EIA - Section 13.1 to 13.6</td>\n",
       "      <td>https://apps.cer-rec.gc.ca/REGDOCS/Item/View/2...</td>\n",
       "      <td>A0H8C0</td>\n",
       "      <td>...</td>\n",
       "      <td>NaN</td>\n",
       "      <td>NaN</td>\n",
       "      <td>NaN</td>\n",
       "      <td>NaN</td>\n",
       "      <td>NaN</td>\n",
       "      <td>NaN</td>\n",
       "      <td>15661</td>\n",
       "      <td>NaN</td>\n",
       "      <td>NaN</td>\n",
       "      <td>NaN</td>\n",
       "    </tr>\n",
       "  </tbody>\n",
       "</table>\n",
       "<p>5 rows × 53 columns</p>\n",
       "</div>"
      ],
      "text/plain": [
       "                                               Title Content Type  \\\n",
       "0                Figure 13.1-1 EnCana Ekwan Pipeline       Figure   \n",
       "1                        Figure 13.3-1 CEA Framework       Figure   \n",
       "2  Figure 13.4-1 Temperature Normals Measured at ...       Figure   \n",
       "3  Figure 13.4-2 Mean Monthly Rainfall and Number...       Figure   \n",
       "4  Figure 13.4-3 Mean Monthly Snowfall and Number...       Figure   \n",
       "\n",
       "                                    Application Name Application Short Name  \\\n",
       "0  Application to Construct and Operate Ekwan Pip...                  Ekwan   \n",
       "1  Application to Construct and Operate Ekwan Pip...                  Ekwan   \n",
       "2  Application to Construct and Operate Ekwan Pip...                  Ekwan   \n",
       "3  Application to Construct and Operate Ekwan Pip...                  Ekwan   \n",
       "4  Application to Construct and Operate Ekwan Pip...                  Ekwan   \n",
       "\n",
       "  Application Filing Date                Company Name Commodity  \\\n",
       "0              2003-03-17  EnCana Ekwan Pipeline Inc.       Gas   \n",
       "1              2003-03-17  EnCana Ekwan Pipeline Inc.       Gas   \n",
       "2              2003-03-17  EnCana Ekwan Pipeline Inc.       Gas   \n",
       "3              2003-03-17  EnCana Ekwan Pipeline Inc.       Gas   \n",
       "4              2003-03-17  EnCana Ekwan Pipeline Inc.       Gas   \n",
       "\n",
       "                                   File Name  \\\n",
       "0  A0H8C0 - 13.0 EIA - Section 13.1 to 13.6    \n",
       "1  A0H8C0 - 13.0 EIA - Section 13.1 to 13.6    \n",
       "2  A0H8C0 - 13.0 EIA - Section 13.1 to 13.6    \n",
       "3  A0H8C0 - 13.0 EIA - Section 13.1 to 13.6    \n",
       "4  A0H8C0 - 13.0 EIA - Section 13.1 to 13.6    \n",
       "\n",
       "                                      ESA Folder URL Document Number  ...  \\\n",
       "0  https://apps.cer-rec.gc.ca/REGDOCS/Item/View/2...          A0H8C0  ...   \n",
       "1  https://apps.cer-rec.gc.ca/REGDOCS/Item/View/2...          A0H8C0  ...   \n",
       "2  https://apps.cer-rec.gc.ca/REGDOCS/Item/View/2...          A0H8C0  ...   \n",
       "3  https://apps.cer-rec.gc.ca/REGDOCS/Item/View/2...          A0H8C0  ...   \n",
       "4  https://apps.cer-rec.gc.ca/REGDOCS/Item/View/2...          A0H8C0  ...   \n",
       "\n",
       "   Impact to social and cultural well-being  \\\n",
       "0                                       NaN   \n",
       "1                                       NaN   \n",
       "2                                       NaN   \n",
       "3                                       NaN   \n",
       "4                                       NaN   \n",
       "\n",
       "  Impact to human health and viewscapes  \\\n",
       "0                                   NaN   \n",
       "1                                   NaN   \n",
       "2                                   NaN   \n",
       "3                                   NaN   \n",
       "4                                   NaN   \n",
       "\n",
       "  Social, cultural, economic infrastructure and services  \\\n",
       "0                                                NaN       \n",
       "1                                                NaN       \n",
       "2                                                NaN       \n",
       "3                                                NaN       \n",
       "4                                                NaN       \n",
       "\n",
       "  Economic Offsets and Impact Environmental Obligations  \\\n",
       "0                         NaN                       NaN   \n",
       "1                         NaN                       NaN   \n",
       "2                         NaN                       NaN   \n",
       "3                         NaN                       NaN   \n",
       "4                         NaN                       NaN   \n",
       "\n",
       "  Treaty and Indigenous Rights     ID Project Download Path  \\\n",
       "0                          NaN  15657                   NaN   \n",
       "1                          NaN  15658                   NaN   \n",
       "2                          NaN  15659                   NaN   \n",
       "3                          NaN  15660                   NaN   \n",
       "4                          NaN  15661                   NaN   \n",
       "\n",
       "  Table Download Path Good Quality  \n",
       "0                 NaN          NaN  \n",
       "1                 NaN          NaN  \n",
       "2                 NaN          NaN  \n",
       "3                 NaN          NaN  \n",
       "4                 NaN          NaN  \n",
       "\n",
       "[5 rows x 53 columns]"
      ]
     },
     "execution_count": 7,
     "metadata": {},
     "output_type": "execute_result"
    }
   ],
   "source": [
    "#index_file = pd.read_csv(path + \"Data_Files_v2\\\\book1.csv\", index_col = 0, encoding= 'unicode_escape')\n",
    "index_file = pd.read_csv(\"G:\\ESA_downloads\\ESA_bundled_with_VCs\\ESA_website_ENG.csv\",\n",
    "                         encoding= 'unicode_escape')\n",
    "print(len(index_file))\n",
    "index_file.head()"
   ]
  },
  {
   "cell_type": "code",
   "execution_count": 8,
   "metadata": {},
   "outputs": [],
   "source": [
    "for index, row in index_file.iterrows():\n",
    "    dataID_value = row[\"PDF Download URL\"].split(\"/\")[-1]\n",
    "    pageno_value = row[\"PDF Page Number\"]\n",
    "    sheet = str(dataID_value) + \"_\" + str(pageno_value)\n",
    "    if sheet in alignment_sheets_list:\n",
    "        alignment_sheets_list.remove(sheet)\n",
    "        \n",
    "        index_file.loc[index, 'Content Type'] = \"Alignment Sheet\""
   ]
  },
  {
   "cell_type": "code",
   "execution_count": 9,
   "metadata": {},
   "outputs": [
    {
     "data": {
      "text/plain": [
       "4707"
      ]
     },
     "execution_count": 9,
     "metadata": {},
     "output_type": "execute_result"
    }
   ],
   "source": [
    "len(alignment_sheets_list)"
   ]
  },
  {
   "cell_type": "code",
   "execution_count": 10,
   "metadata": {},
   "outputs": [
    {
     "name": "stdout",
     "output_type": "stream",
     "text": [
      "2340\n"
     ]
    }
   ],
   "source": [
    "as_count = 0\n",
    "for index, row in index_file.iterrows():\n",
    "    if \"Alignment Sheet\"  in row[\"Content Type\"]:\n",
    "        as_count = as_count+1\n",
    " \n",
    "print(as_count)"
   ]
  },
  {
   "cell_type": "markdown",
   "metadata": {},
   "source": [
    "### For the rest of the alignment sheets - Extract the titles"
   ]
  },
  {
   "cell_type": "code",
   "execution_count": 11,
   "metadata": {},
   "outputs": [
    {
     "data": {
      "text/plain": [
       "['Image',\n",
       " 'Images',\n",
       " 'IMAGE',\n",
       " 'IMAGES',\n",
       " 'Figure',\n",
       " 'Figures',\n",
       " 'FIGURE',\n",
       " 'FIGURES',\n",
       " 'Photo',\n",
       " 'Photos',\n",
       " 'PHOTO',\n",
       " 'PHOTOS']"
      ]
     },
     "execution_count": 11,
     "metadata": {},
     "output_type": "execute_result"
    }
   ],
   "source": [
    "searchlist = ['Image', 'Figure', 'Photo']\n",
    "searchfor = []\n",
    "for search in searchlist:\n",
    "    searchfor.append(search)\n",
    "    searchfor.append(search + 's')\n",
    "    searchfor.append(search.upper())\n",
    "    searchfor.append(search.upper() + 'S')\n",
    "searchfor"
   ]
  },
  {
   "cell_type": "code",
   "execution_count": 12,
   "metadata": {},
   "outputs": [
    {
     "data": {
      "text/plain": [
       "'Ref-> https://github.com/CER-REC/esa-data-bank_banque-donnees-ees/blob/3a59e33b1ee9a37857380387d7c380e9139eedbf/Codes/TableCategorization.py'"
      ]
     },
     "execution_count": 12,
     "metadata": {},
     "output_type": "execute_result"
    }
   ],
   "source": [
    "\"Ref-> https://github.com/CER-REC/esa-data-bank_banque-donnees-ees/blob/3a59e33b1ee9a37857380387d7c380e9139eedbf/Codes/TableCategorization.py\""
   ]
  },
  {
   "cell_type": "code",
   "execution_count": 13,
   "metadata": {},
   "outputs": [],
   "source": [
    "def has_numbers(inputString):\n",
    "    return any(char.isdigit() for char in inputString)\n",
    "\n",
    "def get_alignment_sheet_title(dataID, pageNo, path):\n",
    "    path_pkl = path + \"Data_Files_v2\\\\Pickles\\\\\" + str(dataID) + \".pkl\"\n",
    "    title_found = 0\n",
    "    title = \"\"\n",
    "    ytest_no_blanks = \"\"\n",
    "    last_ptag_starts_with_key = 0    \n",
    "    with open(path_pkl, 'rb') as f:\n",
    "        data = pickle.load(f)\n",
    "        soup = BeautifulSoup(data['content'], 'lxml')\n",
    "        pages = soup.find_all('div', attrs={'class': 'page'})\n",
    "        for b, p in enumerate(pages):\n",
    "            if b != pageNo - 1:\n",
    "                continue\n",
    "                \n",
    "            #print(dataID, pageNo)\n",
    "                \n",
    "            pages_text = [x.text for x in p.find_all('p')]\n",
    "            for y in pages_text:\n",
    "                    \n",
    "                ytest1 = y.replace('\\n','').replace('\\r','')\n",
    "                ytest = ytest1.split(\" \")\n",
    "                ytest_no_blanks = \"\"\n",
    "                for ytes in ytest:\n",
    "                    if len(ytes) > 2:\n",
    "                        ytest_no_blanks = ytest_no_blanks+ ytes + \" \"\n",
    "                        \n",
    "                #print(ytest1, \"-\", ytest_no_blanks)\n",
    "                        \n",
    "                if title_found == 1:\n",
    "                    title = title + \" \" + ytest_no_blanks\n",
    "                    if len(title.split()) > 3:\n",
    "                        if has_numbers(title.split()[1]):\n",
    "                            return(title, 1)\n",
    "                    \n",
    "                        \n",
    "                if ytest_no_blanks.startswith(('FIGURE', 'Figure', 'PHOTO', 'Photo')):\n",
    "                    #print(\"FOUND----\")\n",
    "                    title_found = 1\n",
    "                    title = ytest_no_blanks\n",
    "                    if len(title.split()) > 3:\n",
    "                        if has_numbers(title.split()[1]):\n",
    "                            return(title, 1)                                          \n",
    "                    \n",
    "        return(\"Alignment Sheet \" + str(dataID) + \" \" + str(pageNo), 0)\n",
    "        "
   ]
  },
  {
   "cell_type": "code",
   "execution_count": 14,
   "metadata": {},
   "outputs": [],
   "source": [
    "# for alignment_s in alignment_sheets_list:\n",
    "#     dataid_alignment_s, pageno_alignment_s = alignment_s.split(\"_\")\n",
    "#     a,b = get_alignment_sheet_title(int(dataid_alignment_s), int(pageno_alignment_s), path)\n",
    "#     print(dataid_alignment_s, pageno_alignment_s,\"------Final Title: \",b, a)"
   ]
  },
  {
   "cell_type": "code",
   "execution_count": 15,
   "metadata": {},
   "outputs": [],
   "source": [
    "Title = []\n",
    "Content_Type = []\n",
    "PDF_Page_Number = []\n",
    "Data_ID = []\n",
    "#thumbnail_location = []\n",
    "needs_translation = []\n",
    "\n",
    "\n",
    "#alignment_sheets_list = alignment_sheets_list[:50]\n",
    "\n",
    "for alignment_s in alignment_sheets_list:\n",
    "    dataid_alignment_s, pageno_alignment_s = alignment_s.split(\"_\")\n",
    "    \n",
    "    #Extrct the title of the alignment sheet\n",
    "    titl, needs_transla = get_alignment_sheet_title(int(dataid_alignment_s), int(pageno_alignment_s), path)\n",
    "    Title.append(titl)\n",
    "    needs_translation.append(needs_transla)\n",
    "    Content_Type.append(str(\"Alignment Sheet\"))\n",
    "    PDF_Page_Number.append(int(pageno_alignment_s))\n",
    "    Data_ID.append(int(dataid_alignment_s))\n",
    "    #thumbnail_location.append(\"thumbnails\\\\\"+ alignment_s + \".jpg\")"
   ]
  },
  {
   "cell_type": "code",
   "execution_count": 16,
   "metadata": {},
   "outputs": [
    {
     "name": "stdout",
     "output_type": "stream",
     "text": [
      "4707\n"
     ]
    }
   ],
   "source": [
    "# for index, row in alignment_sheets.iterrows():\n",
    "#     Id.append(str(row[\"dataID\"]) + \"_\" + str(row[\"pageNo\"]) + \"_A\")\n",
    "#     #print(\"alignment_sheets_thumbnails\\\\\"+ str(row[\"dataID\"]) + \"_\" +str(row[\"pageNo\"])+ \".jpg\")\n",
    "    \n",
    "as_index_for_translation = pd.DataFrame({'Title' : Title, \n",
    "                                         'ID' : alignment_sheets_list,\n",
    "                                         'Needs_Translation': needs_translation})\n",
    "print(len(as_index_for_translation))\n",
    "as_index_for_translation = as_index_for_translation[as_index_for_translation.Needs_Translation > 0.5]\n",
    "as_index_for_translation.drop('Needs_Translation', \n",
    "                              axis=1, \n",
    "                              inplace=True)\n",
    "\n",
    "as_index_for_translation.to_csv(path + \"Data_Files_v2\\\\new_alignment_sheet_titles_for_translation_old.csv\",\n",
    "                               index=False)"
   ]
  },
  {
   "cell_type": "code",
   "execution_count": 17,
   "metadata": {},
   "outputs": [
    {
     "name": "stdout",
     "output_type": "stream",
     "text": [
      "1105\n"
     ]
    }
   ],
   "source": [
    "print(len(as_index_for_translation))"
   ]
  },
  {
   "cell_type": "markdown",
   "metadata": {},
   "source": [
    "### For the rest of the alignment sheets - Extract Other Index Coloumn Values from PDF Table"
   ]
  },
  {
   "cell_type": "code",
   "execution_count": 17,
   "metadata": {},
   "outputs": [
    {
     "data": {
      "text/html": [
       "<div>\n",
       "<style scoped>\n",
       "    .dataframe tbody tr th:only-of-type {\n",
       "        vertical-align: middle;\n",
       "    }\n",
       "\n",
       "    .dataframe tbody tr th {\n",
       "        vertical-align: top;\n",
       "    }\n",
       "\n",
       "    .dataframe thead th {\n",
       "        text-align: right;\n",
       "    }\n",
       "</style>\n",
       "<table border=\"1\" class=\"dataframe\">\n",
       "  <thead>\n",
       "    <tr style=\"text-align: right;\">\n",
       "      <th></th>\n",
       "      <th>application_name</th>\n",
       "      <th>Application Name</th>\n",
       "      <th>Application Short Name</th>\n",
       "      <th>Application Filing Date</th>\n",
       "      <th>Company Name</th>\n",
       "      <th>Commodity</th>\n",
       "      <th>File Name</th>\n",
       "      <th>ESA Folder URL</th>\n",
       "      <th>Document Number</th>\n",
       "      <th>DataID</th>\n",
       "      <th>...</th>\n",
       "      <th>Pipeline Status</th>\n",
       "      <th>Regulatory Instrument(s)</th>\n",
       "      <th>Application URL</th>\n",
       "      <th>Decision URL</th>\n",
       "      <th>ESA Section(s)</th>\n",
       "      <th>ESA Section(s) Index</th>\n",
       "      <th>ESA Section(s) Topics</th>\n",
       "      <th>PDF Page Count</th>\n",
       "      <th>PDF Size</th>\n",
       "      <th>PDF Outline</th>\n",
       "    </tr>\n",
       "  </thead>\n",
       "  <tbody>\n",
       "    <tr>\n",
       "      <td>0</td>\n",
       "      <td>2003-03-17 Application to Construct and Operat...</td>\n",
       "      <td>Application to Construct and Operate Ekwan Pip...</td>\n",
       "      <td>Ekwan</td>\n",
       "      <td>2003-03-17</td>\n",
       "      <td>EnCana Ekwan Pipeline Inc.</td>\n",
       "      <td>Gas</td>\n",
       "      <td>A0H8C0 - 13.0 EIA - Section 13.1 to 13.6</td>\n",
       "      <td>https://apps.cer-rec.gc.ca/REGDOCS/Item/LoadRe...</td>\n",
       "      <td>A0H8C0</td>\n",
       "      <td>268706</td>\n",
       "      <td>...</td>\n",
       "      <td>Operating</td>\n",
       "      <td>GC-108</td>\n",
       "      <td>https://apps.cer-rec.gc.ca/REGDOCS/Item/View/2...</td>\n",
       "      <td>https://apps.cer-rec.gc.ca/REGDOCS/Item/View/2...</td>\n",
       "      <td>Section 13.1: Introduction, Section 13.1: Proj...</td>\n",
       "      <td>1.0</td>\n",
       "      <td>Land, Air, Vegetation</td>\n",
       "      <td>107.0</td>\n",
       "      <td>1.41</td>\n",
       "      <td>Yes</td>\n",
       "    </tr>\n",
       "    <tr>\n",
       "      <td>1</td>\n",
       "      <td>2003-03-17 Application to Construct and Operat...</td>\n",
       "      <td>Application to Construct and Operate Ekwan Pip...</td>\n",
       "      <td>Ekwan</td>\n",
       "      <td>2003-03-17</td>\n",
       "      <td>EnCana Ekwan Pipeline Inc.</td>\n",
       "      <td>Gas</td>\n",
       "      <td>A0H8C1 - 13.0 EIA - Section 13.7 Wildlife Part 1</td>\n",
       "      <td>https://apps.cer-rec.gc.ca/REGDOCS/Item/LoadRe...</td>\n",
       "      <td>A0H8C1</td>\n",
       "      <td>268709</td>\n",
       "      <td>...</td>\n",
       "      <td>Operating</td>\n",
       "      <td>GC-108</td>\n",
       "      <td>https://apps.cer-rec.gc.ca/REGDOCS/Item/View/2...</td>\n",
       "      <td>https://apps.cer-rec.gc.ca/REGDOCS/Item/View/2...</td>\n",
       "      <td>Section 13.7: Wildlife and Wildlife Habitat</td>\n",
       "      <td>2.0</td>\n",
       "      <td>Wildlife</td>\n",
       "      <td>39.0</td>\n",
       "      <td>4.33</td>\n",
       "      <td>Yes</td>\n",
       "    </tr>\n",
       "    <tr>\n",
       "      <td>2</td>\n",
       "      <td>2003-03-17 Application to Construct and Operat...</td>\n",
       "      <td>Application to Construct and Operate Ekwan Pip...</td>\n",
       "      <td>Ekwan</td>\n",
       "      <td>2003-03-17</td>\n",
       "      <td>EnCana Ekwan Pipeline Inc.</td>\n",
       "      <td>Gas</td>\n",
       "      <td>A0H8C2 - 13.0 EIA - Section 13.7 Wildlife Part 2</td>\n",
       "      <td>https://apps.cer-rec.gc.ca/REGDOCS/Item/LoadRe...</td>\n",
       "      <td>A0H8C2</td>\n",
       "      <td>268712</td>\n",
       "      <td>...</td>\n",
       "      <td>Operating</td>\n",
       "      <td>GC-108</td>\n",
       "      <td>https://apps.cer-rec.gc.ca/REGDOCS/Item/View/2...</td>\n",
       "      <td>https://apps.cer-rec.gc.ca/REGDOCS/Item/View/2...</td>\n",
       "      <td>Section 13.7: Wildlife and Wildlife Habitat</td>\n",
       "      <td>3.0</td>\n",
       "      <td>Wildlife</td>\n",
       "      <td>27.0</td>\n",
       "      <td>4.17</td>\n",
       "      <td>No</td>\n",
       "    </tr>\n",
       "    <tr>\n",
       "      <td>3</td>\n",
       "      <td>2003-03-17 Application to Construct and Operat...</td>\n",
       "      <td>Application to Construct and Operate Ekwan Pip...</td>\n",
       "      <td>Ekwan</td>\n",
       "      <td>2003-03-17</td>\n",
       "      <td>EnCana Ekwan Pipeline Inc.</td>\n",
       "      <td>Gas</td>\n",
       "      <td>A0H8C3 - 13.0 EIA - Section 13.8 to 13.13</td>\n",
       "      <td>https://apps.cer-rec.gc.ca/REGDOCS/Item/LoadRe...</td>\n",
       "      <td>A0H8C3</td>\n",
       "      <td>269018</td>\n",
       "      <td>...</td>\n",
       "      <td>Operating</td>\n",
       "      <td>GC-108</td>\n",
       "      <td>https://apps.cer-rec.gc.ca/REGDOCS/Item/View/2...</td>\n",
       "      <td>https://apps.cer-rec.gc.ca/REGDOCS/Item/View/2...</td>\n",
       "      <td>Section 13.8: Fisheries and Aquatic Resources,...</td>\n",
       "      <td>4.0</td>\n",
       "      <td>Land, Water, Wildlife, Human</td>\n",
       "      <td>84.0</td>\n",
       "      <td>2.08</td>\n",
       "      <td>No</td>\n",
       "    </tr>\n",
       "    <tr>\n",
       "      <td>4</td>\n",
       "      <td>2003-03-17 Application to Construct and Operat...</td>\n",
       "      <td>Application to Construct and Operate Ekwan Pip...</td>\n",
       "      <td>Ekwan</td>\n",
       "      <td>2003-03-17</td>\n",
       "      <td>EnCana Ekwan Pipeline Inc.</td>\n",
       "      <td>Gas</td>\n",
       "      <td>A0H8C4 - 13.1 App 13A - Alignment Sheets</td>\n",
       "      <td>https://apps.cer-rec.gc.ca/REGDOCS/Item/LoadRe...</td>\n",
       "      <td>A0H8C4</td>\n",
       "      <td>269021</td>\n",
       "      <td>...</td>\n",
       "      <td>Operating</td>\n",
       "      <td>GC-108</td>\n",
       "      <td>https://apps.cer-rec.gc.ca/REGDOCS/Item/View/2...</td>\n",
       "      <td>https://apps.cer-rec.gc.ca/REGDOCS/Item/View/2...</td>\n",
       "      <td>Appendix 13A: Environmental Alignment Sheets</td>\n",
       "      <td>5.0</td>\n",
       "      <td>NaN</td>\n",
       "      <td>NaN</td>\n",
       "      <td>NaN</td>\n",
       "      <td>NaN</td>\n",
       "    </tr>\n",
       "  </tbody>\n",
       "</table>\n",
       "<p>5 rows × 25 columns</p>\n",
       "</div>"
      ],
      "text/plain": [
       "                                    application_name  \\\n",
       "0  2003-03-17 Application to Construct and Operat...   \n",
       "1  2003-03-17 Application to Construct and Operat...   \n",
       "2  2003-03-17 Application to Construct and Operat...   \n",
       "3  2003-03-17 Application to Construct and Operat...   \n",
       "4  2003-03-17 Application to Construct and Operat...   \n",
       "\n",
       "                                    Application Name Application Short Name  \\\n",
       "0  Application to Construct and Operate Ekwan Pip...                  Ekwan   \n",
       "1  Application to Construct and Operate Ekwan Pip...                  Ekwan   \n",
       "2  Application to Construct and Operate Ekwan Pip...                  Ekwan   \n",
       "3  Application to Construct and Operate Ekwan Pip...                  Ekwan   \n",
       "4  Application to Construct and Operate Ekwan Pip...                  Ekwan   \n",
       "\n",
       "  Application Filing Date                Company Name Commodity  \\\n",
       "0              2003-03-17  EnCana Ekwan Pipeline Inc.       Gas   \n",
       "1              2003-03-17  EnCana Ekwan Pipeline Inc.       Gas   \n",
       "2              2003-03-17  EnCana Ekwan Pipeline Inc.       Gas   \n",
       "3              2003-03-17  EnCana Ekwan Pipeline Inc.       Gas   \n",
       "4              2003-03-17  EnCana Ekwan Pipeline Inc.       Gas   \n",
       "\n",
       "                                           File Name  \\\n",
       "0          A0H8C0 - 13.0 EIA - Section 13.1 to 13.6    \n",
       "1   A0H8C1 - 13.0 EIA - Section 13.7 Wildlife Part 1   \n",
       "2  A0H8C2 - 13.0 EIA - Section 13.7 Wildlife Part 2    \n",
       "3          A0H8C3 - 13.0 EIA - Section 13.8 to 13.13   \n",
       "4           A0H8C4 - 13.1 App 13A - Alignment Sheets   \n",
       "\n",
       "                                      ESA Folder URL Document Number  DataID  \\\n",
       "0  https://apps.cer-rec.gc.ca/REGDOCS/Item/LoadRe...          A0H8C0  268706   \n",
       "1  https://apps.cer-rec.gc.ca/REGDOCS/Item/LoadRe...          A0H8C1  268709   \n",
       "2  https://apps.cer-rec.gc.ca/REGDOCS/Item/LoadRe...          A0H8C2  268712   \n",
       "3  https://apps.cer-rec.gc.ca/REGDOCS/Item/LoadRe...          A0H8C3  269018   \n",
       "4  https://apps.cer-rec.gc.ca/REGDOCS/Item/LoadRe...          A0H8C4  269021   \n",
       "\n",
       "   ... Pipeline Status Regulatory Instrument(s)  \\\n",
       "0  ...       Operating                   GC-108   \n",
       "1  ...       Operating                   GC-108   \n",
       "2  ...       Operating                   GC-108   \n",
       "3  ...       Operating                   GC-108   \n",
       "4  ...       Operating                   GC-108   \n",
       "\n",
       "                                     Application URL  \\\n",
       "0  https://apps.cer-rec.gc.ca/REGDOCS/Item/View/2...   \n",
       "1  https://apps.cer-rec.gc.ca/REGDOCS/Item/View/2...   \n",
       "2  https://apps.cer-rec.gc.ca/REGDOCS/Item/View/2...   \n",
       "3  https://apps.cer-rec.gc.ca/REGDOCS/Item/View/2...   \n",
       "4  https://apps.cer-rec.gc.ca/REGDOCS/Item/View/2...   \n",
       "\n",
       "                                        Decision URL  \\\n",
       "0  https://apps.cer-rec.gc.ca/REGDOCS/Item/View/2...   \n",
       "1  https://apps.cer-rec.gc.ca/REGDOCS/Item/View/2...   \n",
       "2  https://apps.cer-rec.gc.ca/REGDOCS/Item/View/2...   \n",
       "3  https://apps.cer-rec.gc.ca/REGDOCS/Item/View/2...   \n",
       "4  https://apps.cer-rec.gc.ca/REGDOCS/Item/View/2...   \n",
       "\n",
       "                                      ESA Section(s) ESA Section(s) Index  \\\n",
       "0  Section 13.1: Introduction, Section 13.1: Proj...                  1.0   \n",
       "1        Section 13.7: Wildlife and Wildlife Habitat                  2.0   \n",
       "2        Section 13.7: Wildlife and Wildlife Habitat                  3.0   \n",
       "3  Section 13.8: Fisheries and Aquatic Resources,...                  4.0   \n",
       "4       Appendix 13A: Environmental Alignment Sheets                  5.0   \n",
       "\n",
       "          ESA Section(s) Topics PDF Page Count PDF Size PDF Outline  \n",
       "0         Land, Air, Vegetation          107.0     1.41         Yes  \n",
       "1                      Wildlife           39.0     4.33         Yes  \n",
       "2                      Wildlife           27.0     4.17          No  \n",
       "3  Land, Water, Wildlife, Human           84.0     2.08          No  \n",
       "4                           NaN            NaN      NaN         NaN  \n",
       "\n",
       "[5 rows x 25 columns]"
      ]
     },
     "execution_count": 17,
     "metadata": {},
     "output_type": "execute_result"
    }
   ],
   "source": [
    "index_pdf_df = pd.read_csv(\"G:\\\\ESA_downloads\\\\Demo_Alignment_Sheets\\\\Index_2_PDF.csv\", \n",
    "                           encoding= 'unicode_escape')\n",
    "index_pdf_df = index_pdf_df.rename(columns={\"Data ID\": \"DataID\"})\n",
    "index_pdf_df.head()"
   ]
  },
  {
   "cell_type": "code",
   "execution_count": 18,
   "metadata": {},
   "outputs": [],
   "source": [
    "Application_Name = []\n",
    "Application_Short_Name = []\n",
    "Application_Filing_Date = []\n",
    "Company_Name = []\n",
    "Commodity = []\n",
    "File_Name = []\n",
    "ESA_Folder_URL =[]\n",
    "Document_Number = []\n",
    "PDF_Download_URL =[]\n",
    "Application_Type = []\n",
    "Pipeline_Location =[]\n",
    "Hearing_order =[]\n",
    "Consultant_Name =[]\n",
    "Pipeline_Status =[]\n",
    "Regulatory_Instrument =[]\n",
    "Application_URL =[]\n",
    "Decision_URL =[]\n",
    "ESA_Section = []\n",
    "ESA_Section_Index = []\n",
    "ESA_Section_Topics = []\n",
    "PDF_Page_Count =[]\n",
    "PDF_Size = []\n",
    "PDF_Outline = []\n",
    "Landscape_terrain_and_weather = []\n",
    "Soil = []\n",
    "Plants = []\n",
    "Water =[]\n",
    "Fish = []\n",
    "Wetlands = []\n",
    "Wildlife = []\n",
    "Species_at_Risk = []\n",
    "Greenhouse_gas_emissions = []\n",
    "Air_emissions = []\n",
    "Noise = []\n",
    "Electricity_and_electromagnetism = []\n",
    "Proximity_to_people = []\n",
    "Archaeological_aleontological = []\n",
    "Human_access  = []\n",
    "Indigenous_land_water_and_air_use = []\n",
    "Impact_to_social_and_cultural_well_being = []\n",
    "Impact_to_human_health_and_viewscapes = []\n",
    "Social_cultural_economic_infrastructure_and_services = []\n",
    "Economic_Offsets_and_Impact = []\n",
    "Environmental_Obligations = []\n",
    "Treaty_and_Indigenous_Rights = []\n",
    "Project_Download_Path = []\n",
    "Table_Download_Path = []\n",
    "Good_Quality = []"
   ]
  },
  {
   "cell_type": "code",
   "execution_count": 19,
   "metadata": {},
   "outputs": [
    {
     "name": "stdout",
     "output_type": "stream",
     "text": [
      "application_name\n",
      "Application Name\n",
      "Application Short Name\n",
      "Application Filing Date\n",
      "Company Name\n",
      "Commodity\n",
      "File Name\n",
      "ESA Folder URL\n",
      "Document Number\n",
      "DataID\n",
      "PDF Download URL\n",
      "Application Type (NEB Act)\n",
      "Pipeline Location\n",
      "Hearing order\n",
      "Consultant Name\n",
      "Pipeline Status\n",
      "Regulatory Instrument(s)\n",
      "Application URL\n",
      "Decision URL\n",
      "ESA Section(s)\n",
      "ESA Section(s) Index\n",
      "ESA Section(s) Topics\n",
      "PDF Page Count\n",
      "PDF Size\n",
      "PDF Outline\n"
     ]
    }
   ],
   "source": [
    "col = []\n",
    "for columns in index_pdf_df:\n",
    "    col.append(columns)\n",
    "    print(columns)"
   ]
  },
  {
   "cell_type": "code",
   "execution_count": 20,
   "metadata": {},
   "outputs": [
    {
     "data": {
      "text/plain": [
       "'EnCana Ekwan Pipeline Inc.'"
      ]
     },
     "execution_count": 20,
     "metadata": {},
     "output_type": "execute_result"
    }
   ],
   "source": [
    "pdf_df = index_pdf_df[index_pdf_df.DataID == 268706]\n",
    "pdf_df[\"Company Name\"][0]"
   ]
  },
  {
   "cell_type": "code",
   "execution_count": 21,
   "metadata": {},
   "outputs": [],
   "source": [
    "for alignment_s in alignment_sheets_list:\n",
    "    dataid_alignment_s, pageno_alignment_s = alignment_s.split(\"_\")\n",
    "    \n",
    "    pdf_df = index_pdf_df[index_pdf_df.DataID == int(dataid_alignment_s)]\n",
    "    if len(pdf_df) ==0:\n",
    "        print(\"DataID not found in pdf index: \", dataid_alignment_s)\n",
    "        continue\n",
    "    if len(pdf_df) > 1:\n",
    "        print(\"Duplicate DataIDs found in pdf index: \", dataid_alignment_s)\n",
    "        continue\n",
    "        \n",
    "    \n",
    "    Application_Name.append(pdf_df[\"Application Name\"].iloc[0])\n",
    "    Application_Short_Name.append(pdf_df[\"Application Short Name\"].iloc[0])\n",
    "    Application_Filing_Date.append(pdf_df[\"Application Filing Date\"].iloc[0])\n",
    "    Company_Name.append(pdf_df[\"Company Name\"].iloc[0])\n",
    "    Commodity.append(pdf_df[\"Commodity\"].iloc[0])\n",
    "    File_Name.append(pdf_df[\"File Name\"].iloc[0])\n",
    "    ESA_Folder_URL.append(pdf_df[\"ESA Folder URL\"].iloc[0])\n",
    "    Document_Number.append(pdf_df[\"Document Number\"].iloc[0])\n",
    "    PDF_Download_URL.append(pdf_df[\"PDF Download URL\"].iloc[0])\n",
    "    Application_Type.append(pdf_df[\"Application Type (NEB Act)\"].iloc[0])\n",
    "    Pipeline_Location.append(pdf_df[\"Pipeline Location\"].iloc[0])\n",
    "    Hearing_order.append(pdf_df[\"Hearing order\"].iloc[0])\n",
    "    Consultant_Name.append(pdf_df[\"Consultant Name\"].iloc[0])\n",
    "    Pipeline_Status.append(pdf_df[\"Pipeline Status\"].iloc[0])\n",
    "    Regulatory_Instrument.append(pdf_df[\"Regulatory Instrument(s)\"].iloc[0])\n",
    "    Application_URL.append(pdf_df[\"Application URL\"].iloc[0])\n",
    "    Decision_URL.append(pdf_df[\"Decision URL\"].iloc[0])\n",
    "    ESA_Section.append(pdf_df[\"ESA Section(s)\"].iloc[0])\n",
    "    ESA_Section_Index.append(pdf_df[\"ESA Section(s) Index\"].iloc[0])\n",
    "    ESA_Section_Topics.append(pdf_df[\"ESA Section(s) Topics\"].iloc[0])\n",
    "    PDF_Page_Count.append(pdf_df[\"PDF Page Count\"].iloc[0])\n",
    "    PDF_Size.append(pdf_df[\"PDF Size\"].iloc[0])\n",
    "    PDF_Outline.append(pdf_df[\"PDF Outline\"].iloc[0])\n",
    "    Landscape_terrain_and_weather.append(np.nan)\n",
    "    Soil.append(np.nan)\n",
    "    Plants.append(np.nan)\n",
    "    Water.append(np.nan)\n",
    "    Fish.append(np.nan)\n",
    "    Wetlands.append(np.nan)\n",
    "    Wildlife.append(np.nan)\n",
    "    Species_at_Risk.append(np.nan)\n",
    "    Greenhouse_gas_emissions.append(np.nan)\n",
    "    Air_emissions.append(np.nan)\n",
    "    Noise.append(np.nan)\n",
    "    Electricity_and_electromagnetism.append(np.nan)\n",
    "    Proximity_to_people.append(np.nan)\n",
    "    Archaeological_aleontological.append(np.nan)\n",
    "    Human_access.append(np.nan)\n",
    "    Indigenous_land_water_and_air_use.append(np.nan)\n",
    "    Impact_to_social_and_cultural_well_being.append(np.nan)\n",
    "    Impact_to_human_health_and_viewscapes.append(np.nan)\n",
    "    Social_cultural_economic_infrastructure_and_services.append(np.nan)\n",
    "    Economic_Offsets_and_Impact.append(np.nan)\n",
    "    Environmental_Obligations.append(np.nan)\n",
    "    Treaty_and_Indigenous_Rights.append(np.nan)\n",
    "    \n",
    "    Project_Download_Path.append(np.nan)\n",
    "    Table_Download_Path.append(np.nan)\n",
    "    Good_Quality.append(np.nan)\n",
    "    \n",
    "    "
   ]
  },
  {
   "cell_type": "code",
   "execution_count": 22,
   "metadata": {},
   "outputs": [
    {
     "name": "stdout",
     "output_type": "stream",
     "text": [
      "4707\n",
      "4707\n",
      "4707\n",
      "4707\n",
      "4707\n"
     ]
    }
   ],
   "source": [
    "print(len(Title))\n",
    "print(len(Content_Type))\n",
    "print(len(Application_Name))\n",
    "print(len(PDF_Outline))\n",
    "print(len(Project_Download_Path))"
   ]
  },
  {
   "cell_type": "code",
   "execution_count": 23,
   "metadata": {},
   "outputs": [],
   "source": [
    "index_as_df = pd.DataFrame({'Title' : Title, \n",
    "                            'Content Type' : Content_Type, \n",
    "                            'Application Name' : Application_Name,\n",
    "                            'Application Short Name' : Application_Short_Name, \n",
    "                            'Application Filing Date' :Application_Filing_Date, \n",
    "                            'Company Name' : Company_Name, \n",
    "                            'Commodity' :  Commodity, \n",
    "                            'File Name' : File_Name, \n",
    "                            'ESA Folder URL' : ESA_Folder_URL, \n",
    "                            'Document Number' : Document_Number, \n",
    "                            'Data ID' : Data_ID, \n",
    "                            'PDF Download URL' : PDF_Download_URL, \n",
    "                            'Application Type(NEB Act)' : Application_Type, \n",
    "                            'Pipeline Location' : Pipeline_Location, \n",
    "                            'Hearing order' : Hearing_order, \n",
    "                            'Consultant Name' : Company_Name, \n",
    "                            'Pipeline Status' : Pipeline_Status, \n",
    "                            'Regulatory Instrument(s)' : Regulatory_Instrument, \n",
    "                            'Application URL' : Application_URL,\n",
    "                            'Decision URL': Decision_URL, \n",
    "                            'ESA_Section(s)' : ESA_Section, \n",
    "                            'ESA_Section(s) Index' : ESA_Section_Index, \n",
    "                            'ESA_Section(s) Topics' : ESA_Section_Topics, \n",
    "                            'PDF Page Number' : PDF_Page_Number, #Keep this \n",
    "                            'PDF Page Count' : PDF_Page_Count, \n",
    "                            'PDF Size' : PDF_Size, \n",
    "                            'PDF Outline' : PDF_Outline,\n",
    "                            \n",
    "                            \n",
    "                            'Landscape, terrain, and weather' : Landscape_terrain_and_weather,\n",
    "                            'Soil' : Soil,\n",
    "                            'Plants' : Plants,\n",
    "                            'Water' : Water, \n",
    "                            'Fish' : Fish,\n",
    "                            'Wetlands' : Wetlands,\n",
    "                            'Wildlife' : Wildlife, \n",
    "                            'Species at Risk' : Species_at_Risk, \n",
    "                            'Greenhouse gas emissions' : Greenhouse_gas_emissions,\n",
    "                            'Air emissions' : Air_emissions,\n",
    "                            'Noise' : Noise,\n",
    "                            'Electricity and electromagnetism' : Electricity_and_electromagnetism,\n",
    "                            'Proximity to people' : Proximity_to_people,\n",
    "                            'Archaeological, paleontological, historical, and culturally significant sites and resources' : Archaeological_aleontological,\n",
    "                            'Human access to boats and waterways' : Human_access,\n",
    "                            'Indigenous land, water, and air use' : Indigenous_land_water_and_air_use,\n",
    "                            'Impact to social and cultural well-being' : Impact_to_social_and_cultural_well_being,\n",
    "                            'Impact to human health and viewscapes' : Impact_to_human_health_and_viewscapes,\n",
    "                            'Social, cultural, economic infrastructure and services': Social_cultural_economic_infrastructure_and_services,\n",
    "                            'Economic Offsets and Impact' : Economic_Offsets_and_Impact, \n",
    "                            'Environmental Obligations' : Environmental_Obligations,\n",
    "                            'Treaty and Indigenous Rights' : Treaty_and_Indigenous_Rights,\n",
    "                            \n",
    "                            \n",
    "                            'Project Download Path' : Project_Download_Path, \n",
    "                            'Table Download Path' : Table_Download_Path, \n",
    "                            'Good Quality': Good_Quality,\n",
    "                            })\n",
    "\n",
    "index_as_df.to_csv(path + \"Data_Files_v2\\\\Index_Alignment_Sheets_try.csv\")"
   ]
  },
  {
   "cell_type": "code",
   "execution_count": 24,
   "metadata": {},
   "outputs": [
    {
     "name": "stdout",
     "output_type": "stream",
     "text": [
      "Title\n",
      "Content Type\n",
      "Application Name\n",
      "Application Short Name\n",
      "Application Filing Date\n",
      "Company Name\n",
      "Commodity\n",
      "File Name\n",
      "ESA Folder URL\n",
      "Document Number\n",
      "Data ID\n",
      "PDF Download URL\n",
      "Application Type(NEB Act)\n",
      "Pipeline Location\n",
      "Hearing order\n",
      "Consultant Name\n",
      "Pipeline Status\n",
      "Regulatory Instrument(s)\n",
      "Application URL\n",
      "Decision URL\n",
      "ESA_Section(s)\n",
      "ESA_Section(s) Index\n",
      "ESA_Section(s) Topics\n",
      "PDF Page Number\n",
      "PDF Page Count\n",
      "PDF Size\n",
      "PDF Outline\n",
      "Landscape, terrain, and weather\n",
      "Soil\n",
      "Plants\n",
      "Water\n",
      "Fish\n",
      "Wetlands\n",
      "Wildlife\n",
      "Species at Risk\n",
      "Greenhouse gas emissions\n",
      "Air emissions\n",
      "Noise\n",
      "Electricity and electromagnetism\n",
      "Proximity to people\n",
      "Archaeological, paleontological, historical, and culturally significant sites and resources\n",
      "Human access to boats and waterways\n",
      "Indigenous land, water, and air use\n",
      "Impact to social and cultural well-being\n",
      "Impact to human health and viewscapes\n",
      "Social, cultural, economic infrastructure and services\n",
      "Economic Offsets and Impact\n",
      "Environmental Obligations\n",
      "Treaty and Indigenous Rights\n",
      "Project Download Path\n",
      "Table Download Path\n",
      "Good Quality\n"
     ]
    }
   ],
   "source": [
    "col = []\n",
    "for columns in index_as_df:\n",
    "    col.append(columns)\n",
    "    print(columns)"
   ]
  },
  {
   "cell_type": "markdown",
   "metadata": {},
   "source": [
    "### Merge with the index file of tables and figures"
   ]
  },
  {
   "cell_type": "code",
   "execution_count": 25,
   "metadata": {},
   "outputs": [
    {
     "data": {
      "text/html": [
       "<div>\n",
       "<style scoped>\n",
       "    .dataframe tbody tr th:only-of-type {\n",
       "        vertical-align: middle;\n",
       "    }\n",
       "\n",
       "    .dataframe tbody tr th {\n",
       "        vertical-align: top;\n",
       "    }\n",
       "\n",
       "    .dataframe thead th {\n",
       "        text-align: right;\n",
       "    }\n",
       "</style>\n",
       "<table border=\"1\" class=\"dataframe\">\n",
       "  <thead>\n",
       "    <tr style=\"text-align: right;\">\n",
       "      <th></th>\n",
       "      <th>Title</th>\n",
       "      <th>Content Type</th>\n",
       "      <th>Application Name</th>\n",
       "      <th>Application Short Name</th>\n",
       "      <th>Application Filing Date</th>\n",
       "      <th>Company Name</th>\n",
       "      <th>Commodity</th>\n",
       "      <th>File Name</th>\n",
       "      <th>ESA Folder URL</th>\n",
       "      <th>Document Number</th>\n",
       "      <th>...</th>\n",
       "      <th>Impact to social and cultural well-being</th>\n",
       "      <th>Impact to human health and viewscapes</th>\n",
       "      <th>Social, cultural, economic infrastructure and services</th>\n",
       "      <th>Economic Offsets and Impact</th>\n",
       "      <th>Environmental Obligations</th>\n",
       "      <th>Treaty and Indigenous Rights</th>\n",
       "      <th>ID</th>\n",
       "      <th>Project Download Path</th>\n",
       "      <th>Table Download Path</th>\n",
       "      <th>Good Quality</th>\n",
       "    </tr>\n",
       "  </thead>\n",
       "  <tbody>\n",
       "    <tr>\n",
       "      <td>0</td>\n",
       "      <td>Figure 13.1-1 EnCana Ekwan Pipeline</td>\n",
       "      <td>Figure</td>\n",
       "      <td>Application to Construct and Operate Ekwan Pip...</td>\n",
       "      <td>Ekwan</td>\n",
       "      <td>2003-03-17</td>\n",
       "      <td>EnCana Ekwan Pipeline Inc.</td>\n",
       "      <td>Gas</td>\n",
       "      <td>A0H8C0 - 13.0 EIA - Section 13.1 to 13.6</td>\n",
       "      <td>https://apps.cer-rec.gc.ca/REGDOCS/Item/View/2...</td>\n",
       "      <td>A0H8C0</td>\n",
       "      <td>...</td>\n",
       "      <td>NaN</td>\n",
       "      <td>NaN</td>\n",
       "      <td>NaN</td>\n",
       "      <td>NaN</td>\n",
       "      <td>NaN</td>\n",
       "      <td>NaN</td>\n",
       "      <td>15657</td>\n",
       "      <td>NaN</td>\n",
       "      <td>NaN</td>\n",
       "      <td>NaN</td>\n",
       "    </tr>\n",
       "    <tr>\n",
       "      <td>1</td>\n",
       "      <td>Figure 13.3-1 CEA Framework</td>\n",
       "      <td>Figure</td>\n",
       "      <td>Application to Construct and Operate Ekwan Pip...</td>\n",
       "      <td>Ekwan</td>\n",
       "      <td>2003-03-17</td>\n",
       "      <td>EnCana Ekwan Pipeline Inc.</td>\n",
       "      <td>Gas</td>\n",
       "      <td>A0H8C0 - 13.0 EIA - Section 13.1 to 13.6</td>\n",
       "      <td>https://apps.cer-rec.gc.ca/REGDOCS/Item/View/2...</td>\n",
       "      <td>A0H8C0</td>\n",
       "      <td>...</td>\n",
       "      <td>NaN</td>\n",
       "      <td>NaN</td>\n",
       "      <td>NaN</td>\n",
       "      <td>NaN</td>\n",
       "      <td>NaN</td>\n",
       "      <td>NaN</td>\n",
       "      <td>15658</td>\n",
       "      <td>NaN</td>\n",
       "      <td>NaN</td>\n",
       "      <td>NaN</td>\n",
       "    </tr>\n",
       "    <tr>\n",
       "      <td>2</td>\n",
       "      <td>Figure 13.4-1 Temperature Normals Measured at ...</td>\n",
       "      <td>Figure</td>\n",
       "      <td>Application to Construct and Operate Ekwan Pip...</td>\n",
       "      <td>Ekwan</td>\n",
       "      <td>2003-03-17</td>\n",
       "      <td>EnCana Ekwan Pipeline Inc.</td>\n",
       "      <td>Gas</td>\n",
       "      <td>A0H8C0 - 13.0 EIA - Section 13.1 to 13.6</td>\n",
       "      <td>https://apps.cer-rec.gc.ca/REGDOCS/Item/View/2...</td>\n",
       "      <td>A0H8C0</td>\n",
       "      <td>...</td>\n",
       "      <td>NaN</td>\n",
       "      <td>NaN</td>\n",
       "      <td>NaN</td>\n",
       "      <td>NaN</td>\n",
       "      <td>NaN</td>\n",
       "      <td>NaN</td>\n",
       "      <td>15659</td>\n",
       "      <td>NaN</td>\n",
       "      <td>NaN</td>\n",
       "      <td>NaN</td>\n",
       "    </tr>\n",
       "    <tr>\n",
       "      <td>3</td>\n",
       "      <td>Figure 13.4-2 Mean Monthly Rainfall and Number...</td>\n",
       "      <td>Figure</td>\n",
       "      <td>Application to Construct and Operate Ekwan Pip...</td>\n",
       "      <td>Ekwan</td>\n",
       "      <td>2003-03-17</td>\n",
       "      <td>EnCana Ekwan Pipeline Inc.</td>\n",
       "      <td>Gas</td>\n",
       "      <td>A0H8C0 - 13.0 EIA - Section 13.1 to 13.6</td>\n",
       "      <td>https://apps.cer-rec.gc.ca/REGDOCS/Item/View/2...</td>\n",
       "      <td>A0H8C0</td>\n",
       "      <td>...</td>\n",
       "      <td>NaN</td>\n",
       "      <td>NaN</td>\n",
       "      <td>NaN</td>\n",
       "      <td>NaN</td>\n",
       "      <td>NaN</td>\n",
       "      <td>NaN</td>\n",
       "      <td>15660</td>\n",
       "      <td>NaN</td>\n",
       "      <td>NaN</td>\n",
       "      <td>NaN</td>\n",
       "    </tr>\n",
       "    <tr>\n",
       "      <td>4</td>\n",
       "      <td>Figure 13.4-3 Mean Monthly Snowfall and Number...</td>\n",
       "      <td>Figure</td>\n",
       "      <td>Application to Construct and Operate Ekwan Pip...</td>\n",
       "      <td>Ekwan</td>\n",
       "      <td>2003-03-17</td>\n",
       "      <td>EnCana Ekwan Pipeline Inc.</td>\n",
       "      <td>Gas</td>\n",
       "      <td>A0H8C0 - 13.0 EIA - Section 13.1 to 13.6</td>\n",
       "      <td>https://apps.cer-rec.gc.ca/REGDOCS/Item/View/2...</td>\n",
       "      <td>A0H8C0</td>\n",
       "      <td>...</td>\n",
       "      <td>NaN</td>\n",
       "      <td>NaN</td>\n",
       "      <td>NaN</td>\n",
       "      <td>NaN</td>\n",
       "      <td>NaN</td>\n",
       "      <td>NaN</td>\n",
       "      <td>15661</td>\n",
       "      <td>NaN</td>\n",
       "      <td>NaN</td>\n",
       "      <td>NaN</td>\n",
       "    </tr>\n",
       "  </tbody>\n",
       "</table>\n",
       "<p>5 rows × 53 columns</p>\n",
       "</div>"
      ],
      "text/plain": [
       "                                               Title Content Type  \\\n",
       "0                Figure 13.1-1 EnCana Ekwan Pipeline       Figure   \n",
       "1                        Figure 13.3-1 CEA Framework       Figure   \n",
       "2  Figure 13.4-1 Temperature Normals Measured at ...       Figure   \n",
       "3  Figure 13.4-2 Mean Monthly Rainfall and Number...       Figure   \n",
       "4  Figure 13.4-3 Mean Monthly Snowfall and Number...       Figure   \n",
       "\n",
       "                                    Application Name Application Short Name  \\\n",
       "0  Application to Construct and Operate Ekwan Pip...                  Ekwan   \n",
       "1  Application to Construct and Operate Ekwan Pip...                  Ekwan   \n",
       "2  Application to Construct and Operate Ekwan Pip...                  Ekwan   \n",
       "3  Application to Construct and Operate Ekwan Pip...                  Ekwan   \n",
       "4  Application to Construct and Operate Ekwan Pip...                  Ekwan   \n",
       "\n",
       "  Application Filing Date                Company Name Commodity  \\\n",
       "0              2003-03-17  EnCana Ekwan Pipeline Inc.       Gas   \n",
       "1              2003-03-17  EnCana Ekwan Pipeline Inc.       Gas   \n",
       "2              2003-03-17  EnCana Ekwan Pipeline Inc.       Gas   \n",
       "3              2003-03-17  EnCana Ekwan Pipeline Inc.       Gas   \n",
       "4              2003-03-17  EnCana Ekwan Pipeline Inc.       Gas   \n",
       "\n",
       "                                   File Name  \\\n",
       "0  A0H8C0 - 13.0 EIA - Section 13.1 to 13.6    \n",
       "1  A0H8C0 - 13.0 EIA - Section 13.1 to 13.6    \n",
       "2  A0H8C0 - 13.0 EIA - Section 13.1 to 13.6    \n",
       "3  A0H8C0 - 13.0 EIA - Section 13.1 to 13.6    \n",
       "4  A0H8C0 - 13.0 EIA - Section 13.1 to 13.6    \n",
       "\n",
       "                                      ESA Folder URL Document Number  ...  \\\n",
       "0  https://apps.cer-rec.gc.ca/REGDOCS/Item/View/2...          A0H8C0  ...   \n",
       "1  https://apps.cer-rec.gc.ca/REGDOCS/Item/View/2...          A0H8C0  ...   \n",
       "2  https://apps.cer-rec.gc.ca/REGDOCS/Item/View/2...          A0H8C0  ...   \n",
       "3  https://apps.cer-rec.gc.ca/REGDOCS/Item/View/2...          A0H8C0  ...   \n",
       "4  https://apps.cer-rec.gc.ca/REGDOCS/Item/View/2...          A0H8C0  ...   \n",
       "\n",
       "   Impact to social and cultural well-being  \\\n",
       "0                                       NaN   \n",
       "1                                       NaN   \n",
       "2                                       NaN   \n",
       "3                                       NaN   \n",
       "4                                       NaN   \n",
       "\n",
       "  Impact to human health and viewscapes  \\\n",
       "0                                   NaN   \n",
       "1                                   NaN   \n",
       "2                                   NaN   \n",
       "3                                   NaN   \n",
       "4                                   NaN   \n",
       "\n",
       "  Social, cultural, economic infrastructure and services  \\\n",
       "0                                                NaN       \n",
       "1                                                NaN       \n",
       "2                                                NaN       \n",
       "3                                                NaN       \n",
       "4                                                NaN       \n",
       "\n",
       "  Economic Offsets and Impact Environmental Obligations  \\\n",
       "0                         NaN                       NaN   \n",
       "1                         NaN                       NaN   \n",
       "2                         NaN                       NaN   \n",
       "3                         NaN                       NaN   \n",
       "4                         NaN                       NaN   \n",
       "\n",
       "  Treaty and Indigenous Rights     ID Project Download Path  \\\n",
       "0                          NaN  15657                   NaN   \n",
       "1                          NaN  15658                   NaN   \n",
       "2                          NaN  15659                   NaN   \n",
       "3                          NaN  15660                   NaN   \n",
       "4                          NaN  15661                   NaN   \n",
       "\n",
       "  Table Download Path Good Quality  \n",
       "0                 NaN          NaN  \n",
       "1                 NaN          NaN  \n",
       "2                 NaN          NaN  \n",
       "3                 NaN          NaN  \n",
       "4                 NaN          NaN  \n",
       "\n",
       "[5 rows x 53 columns]"
      ]
     },
     "execution_count": 25,
     "metadata": {},
     "output_type": "execute_result"
    }
   ],
   "source": [
    "index_file.head()"
   ]
  },
  {
   "cell_type": "code",
   "execution_count": 26,
   "metadata": {},
   "outputs": [],
   "source": [
    "index_file.drop('ID', axis=1, inplace=True)"
   ]
  },
  {
   "cell_type": "code",
   "execution_count": 27,
   "metadata": {},
   "outputs": [
    {
     "name": "stdout",
     "output_type": "stream",
     "text": [
      "24929\n",
      "4707\n",
      "29636\n"
     ]
    },
    {
     "name": "stderr",
     "output_type": "stream",
     "text": [
      "C:\\ProgramData\\Anaconda3\\lib\\site-packages\\ipykernel_launcher.py:3: FutureWarning: Sorting because non-concatenation axis is not aligned. A future version\n",
      "of pandas will change to not sort by default.\n",
      "\n",
      "To accept the future behavior, pass 'sort=False'.\n",
      "\n",
      "To retain the current behavior and silence the warning, pass 'sort=True'.\n",
      "\n",
      "  This is separate from the ipykernel package so we can avoid doing imports until\n"
     ]
    },
    {
     "data": {
      "text/html": [
       "<div>\n",
       "<style scoped>\n",
       "    .dataframe tbody tr th:only-of-type {\n",
       "        vertical-align: middle;\n",
       "    }\n",
       "\n",
       "    .dataframe tbody tr th {\n",
       "        vertical-align: top;\n",
       "    }\n",
       "\n",
       "    .dataframe thead th {\n",
       "        text-align: right;\n",
       "    }\n",
       "</style>\n",
       "<table border=\"1\" class=\"dataframe\">\n",
       "  <thead>\n",
       "    <tr style=\"text-align: right;\">\n",
       "      <th></th>\n",
       "      <th>Title</th>\n",
       "      <th>Content Type</th>\n",
       "      <th>Application Name</th>\n",
       "      <th>Application Short Name</th>\n",
       "      <th>Application Filing Date</th>\n",
       "      <th>Company Name</th>\n",
       "      <th>Commodity</th>\n",
       "      <th>File Name</th>\n",
       "      <th>ESA Folder URL</th>\n",
       "      <th>Document Number</th>\n",
       "      <th>...</th>\n",
       "      <th>Indigenous land, water, and air use</th>\n",
       "      <th>Impact to social and cultural well-being</th>\n",
       "      <th>Impact to human health and viewscapes</th>\n",
       "      <th>Social, cultural, economic infrastructure and services</th>\n",
       "      <th>Economic Offsets and Impact</th>\n",
       "      <th>Environmental Obligations</th>\n",
       "      <th>Treaty and Indigenous Rights</th>\n",
       "      <th>Project Download Path</th>\n",
       "      <th>Table Download Path</th>\n",
       "      <th>Good Quality</th>\n",
       "    </tr>\n",
       "  </thead>\n",
       "  <tbody>\n",
       "    <tr>\n",
       "      <td>0</td>\n",
       "      <td>Figure 13.1-1 EnCana Ekwan Pipeline</td>\n",
       "      <td>Figure</td>\n",
       "      <td>Application to Construct and Operate Ekwan Pip...</td>\n",
       "      <td>Ekwan</td>\n",
       "      <td>2003-03-17</td>\n",
       "      <td>EnCana Ekwan Pipeline Inc.</td>\n",
       "      <td>Gas</td>\n",
       "      <td>A0H8C0 - 13.0 EIA - Section 13.1 to 13.6</td>\n",
       "      <td>https://apps.cer-rec.gc.ca/REGDOCS/Item/View/2...</td>\n",
       "      <td>A0H8C0</td>\n",
       "      <td>...</td>\n",
       "      <td>NaN</td>\n",
       "      <td>NaN</td>\n",
       "      <td>NaN</td>\n",
       "      <td>NaN</td>\n",
       "      <td>NaN</td>\n",
       "      <td>NaN</td>\n",
       "      <td>NaN</td>\n",
       "      <td>NaN</td>\n",
       "      <td>NaN</td>\n",
       "      <td>NaN</td>\n",
       "    </tr>\n",
       "    <tr>\n",
       "      <td>1</td>\n",
       "      <td>Figure 13.3-1 CEA Framework</td>\n",
       "      <td>Figure</td>\n",
       "      <td>Application to Construct and Operate Ekwan Pip...</td>\n",
       "      <td>Ekwan</td>\n",
       "      <td>2003-03-17</td>\n",
       "      <td>EnCana Ekwan Pipeline Inc.</td>\n",
       "      <td>Gas</td>\n",
       "      <td>A0H8C0 - 13.0 EIA - Section 13.1 to 13.6</td>\n",
       "      <td>https://apps.cer-rec.gc.ca/REGDOCS/Item/View/2...</td>\n",
       "      <td>A0H8C0</td>\n",
       "      <td>...</td>\n",
       "      <td>NaN</td>\n",
       "      <td>NaN</td>\n",
       "      <td>NaN</td>\n",
       "      <td>NaN</td>\n",
       "      <td>NaN</td>\n",
       "      <td>NaN</td>\n",
       "      <td>NaN</td>\n",
       "      <td>NaN</td>\n",
       "      <td>NaN</td>\n",
       "      <td>NaN</td>\n",
       "    </tr>\n",
       "    <tr>\n",
       "      <td>2</td>\n",
       "      <td>Figure 13.4-1 Temperature Normals Measured at ...</td>\n",
       "      <td>Figure</td>\n",
       "      <td>Application to Construct and Operate Ekwan Pip...</td>\n",
       "      <td>Ekwan</td>\n",
       "      <td>2003-03-17</td>\n",
       "      <td>EnCana Ekwan Pipeline Inc.</td>\n",
       "      <td>Gas</td>\n",
       "      <td>A0H8C0 - 13.0 EIA - Section 13.1 to 13.6</td>\n",
       "      <td>https://apps.cer-rec.gc.ca/REGDOCS/Item/View/2...</td>\n",
       "      <td>A0H8C0</td>\n",
       "      <td>...</td>\n",
       "      <td>NaN</td>\n",
       "      <td>NaN</td>\n",
       "      <td>NaN</td>\n",
       "      <td>NaN</td>\n",
       "      <td>NaN</td>\n",
       "      <td>NaN</td>\n",
       "      <td>NaN</td>\n",
       "      <td>NaN</td>\n",
       "      <td>NaN</td>\n",
       "      <td>NaN</td>\n",
       "    </tr>\n",
       "    <tr>\n",
       "      <td>3</td>\n",
       "      <td>Figure 13.4-2 Mean Monthly Rainfall and Number...</td>\n",
       "      <td>Figure</td>\n",
       "      <td>Application to Construct and Operate Ekwan Pip...</td>\n",
       "      <td>Ekwan</td>\n",
       "      <td>2003-03-17</td>\n",
       "      <td>EnCana Ekwan Pipeline Inc.</td>\n",
       "      <td>Gas</td>\n",
       "      <td>A0H8C0 - 13.0 EIA - Section 13.1 to 13.6</td>\n",
       "      <td>https://apps.cer-rec.gc.ca/REGDOCS/Item/View/2...</td>\n",
       "      <td>A0H8C0</td>\n",
       "      <td>...</td>\n",
       "      <td>NaN</td>\n",
       "      <td>NaN</td>\n",
       "      <td>NaN</td>\n",
       "      <td>NaN</td>\n",
       "      <td>NaN</td>\n",
       "      <td>NaN</td>\n",
       "      <td>NaN</td>\n",
       "      <td>NaN</td>\n",
       "      <td>NaN</td>\n",
       "      <td>NaN</td>\n",
       "    </tr>\n",
       "    <tr>\n",
       "      <td>4</td>\n",
       "      <td>Figure 13.4-3 Mean Monthly Snowfall and Number...</td>\n",
       "      <td>Figure</td>\n",
       "      <td>Application to Construct and Operate Ekwan Pip...</td>\n",
       "      <td>Ekwan</td>\n",
       "      <td>2003-03-17</td>\n",
       "      <td>EnCana Ekwan Pipeline Inc.</td>\n",
       "      <td>Gas</td>\n",
       "      <td>A0H8C0 - 13.0 EIA - Section 13.1 to 13.6</td>\n",
       "      <td>https://apps.cer-rec.gc.ca/REGDOCS/Item/View/2...</td>\n",
       "      <td>A0H8C0</td>\n",
       "      <td>...</td>\n",
       "      <td>NaN</td>\n",
       "      <td>NaN</td>\n",
       "      <td>NaN</td>\n",
       "      <td>NaN</td>\n",
       "      <td>NaN</td>\n",
       "      <td>NaN</td>\n",
       "      <td>NaN</td>\n",
       "      <td>NaN</td>\n",
       "      <td>NaN</td>\n",
       "      <td>NaN</td>\n",
       "    </tr>\n",
       "  </tbody>\n",
       "</table>\n",
       "<p>5 rows × 52 columns</p>\n",
       "</div>"
      ],
      "text/plain": [
       "                                               Title Content Type  \\\n",
       "0                Figure 13.1-1 EnCana Ekwan Pipeline       Figure   \n",
       "1                        Figure 13.3-1 CEA Framework       Figure   \n",
       "2  Figure 13.4-1 Temperature Normals Measured at ...       Figure   \n",
       "3  Figure 13.4-2 Mean Monthly Rainfall and Number...       Figure   \n",
       "4  Figure 13.4-3 Mean Monthly Snowfall and Number...       Figure   \n",
       "\n",
       "                                    Application Name Application Short Name  \\\n",
       "0  Application to Construct and Operate Ekwan Pip...                  Ekwan   \n",
       "1  Application to Construct and Operate Ekwan Pip...                  Ekwan   \n",
       "2  Application to Construct and Operate Ekwan Pip...                  Ekwan   \n",
       "3  Application to Construct and Operate Ekwan Pip...                  Ekwan   \n",
       "4  Application to Construct and Operate Ekwan Pip...                  Ekwan   \n",
       "\n",
       "  Application Filing Date                Company Name Commodity  \\\n",
       "0              2003-03-17  EnCana Ekwan Pipeline Inc.       Gas   \n",
       "1              2003-03-17  EnCana Ekwan Pipeline Inc.       Gas   \n",
       "2              2003-03-17  EnCana Ekwan Pipeline Inc.       Gas   \n",
       "3              2003-03-17  EnCana Ekwan Pipeline Inc.       Gas   \n",
       "4              2003-03-17  EnCana Ekwan Pipeline Inc.       Gas   \n",
       "\n",
       "                                   File Name  \\\n",
       "0  A0H8C0 - 13.0 EIA - Section 13.1 to 13.6    \n",
       "1  A0H8C0 - 13.0 EIA - Section 13.1 to 13.6    \n",
       "2  A0H8C0 - 13.0 EIA - Section 13.1 to 13.6    \n",
       "3  A0H8C0 - 13.0 EIA - Section 13.1 to 13.6    \n",
       "4  A0H8C0 - 13.0 EIA - Section 13.1 to 13.6    \n",
       "\n",
       "                                      ESA Folder URL Document Number  ...  \\\n",
       "0  https://apps.cer-rec.gc.ca/REGDOCS/Item/View/2...          A0H8C0  ...   \n",
       "1  https://apps.cer-rec.gc.ca/REGDOCS/Item/View/2...          A0H8C0  ...   \n",
       "2  https://apps.cer-rec.gc.ca/REGDOCS/Item/View/2...          A0H8C0  ...   \n",
       "3  https://apps.cer-rec.gc.ca/REGDOCS/Item/View/2...          A0H8C0  ...   \n",
       "4  https://apps.cer-rec.gc.ca/REGDOCS/Item/View/2...          A0H8C0  ...   \n",
       "\n",
       "   Indigenous land, water, and air use  \\\n",
       "0                                  NaN   \n",
       "1                                  NaN   \n",
       "2                                  NaN   \n",
       "3                                  NaN   \n",
       "4                                  NaN   \n",
       "\n",
       "  Impact to social and cultural well-being  \\\n",
       "0                                      NaN   \n",
       "1                                      NaN   \n",
       "2                                      NaN   \n",
       "3                                      NaN   \n",
       "4                                      NaN   \n",
       "\n",
       "  Impact to human health and viewscapes  \\\n",
       "0                                   NaN   \n",
       "1                                   NaN   \n",
       "2                                   NaN   \n",
       "3                                   NaN   \n",
       "4                                   NaN   \n",
       "\n",
       "  Social, cultural, economic infrastructure and services  \\\n",
       "0                                                NaN       \n",
       "1                                                NaN       \n",
       "2                                                NaN       \n",
       "3                                                NaN       \n",
       "4                                                NaN       \n",
       "\n",
       "  Economic Offsets and Impact Environmental Obligations  \\\n",
       "0                         NaN                       NaN   \n",
       "1                         NaN                       NaN   \n",
       "2                         NaN                       NaN   \n",
       "3                         NaN                       NaN   \n",
       "4                         NaN                       NaN   \n",
       "\n",
       "  Treaty and Indigenous Rights Project Download Path Table Download Path  \\\n",
       "0                          NaN                   NaN                 NaN   \n",
       "1                          NaN                   NaN                 NaN   \n",
       "2                          NaN                   NaN                 NaN   \n",
       "3                          NaN                   NaN                 NaN   \n",
       "4                          NaN                   NaN                 NaN   \n",
       "\n",
       "  Good Quality  \n",
       "0          NaN  \n",
       "1          NaN  \n",
       "2          NaN  \n",
       "3          NaN  \n",
       "4          NaN  \n",
       "\n",
       "[5 rows x 52 columns]"
      ]
     },
     "execution_count": 27,
     "metadata": {},
     "output_type": "execute_result"
    }
   ],
   "source": [
    "print(len(index_file))\n",
    "print(len(index_as_df))\n",
    "index = pd.concat([index_file, index_as_df])\n",
    "print(len(index))\n",
    "\n",
    "\n",
    "index.head()\n",
    "index = index[col]\n",
    "index.head()"
   ]
  },
  {
   "cell_type": "markdown",
   "metadata": {},
   "source": [
    "### Create thumbnails for figures/tables/alignment sheets"
   ]
  },
  {
   "cell_type": "code",
   "execution_count": 28,
   "metadata": {},
   "outputs": [],
   "source": [
    "def get_thumbnail(dataID, pageNo, path):\n",
    "    \n",
    "    file_p = path + \"Data_Files_v2\\\\PDFs\\\\\"+ str(dataID) + \".pdf\"\n",
    "    doc = fitz.open(file_p)\n",
    "    for page_no in range(1, len(doc)+1):   \n",
    "        if page_no != pageNo:\n",
    "            continue\n",
    "        \n",
    "        page = doc.loadPage(page_no-1)  # number of page\n",
    "        pix = page.getPixmap()\n",
    "        \n",
    "        #Code to save the Thumbnails = 250 * 176\n",
    "        if pix.width < pix.height:\n",
    "            # scale height to 250\n",
    "            # 250 = h/ (2^n)\n",
    "            # scale_n = ln(h)/ln(2) - ln(250)/ln(2)\n",
    "            scale_n = math.log(pix.height, 2) - math.log(250, 2)\n",
    "        else:\n",
    "            scale_n = math.log(pix.width, 2) - math.log(250, 2)\n",
    "        \n",
    "        pix.shrink(round(scale_n))\n",
    "        thumb_p = file_p.replace(\"PDFs\", \"thumbnails\").replace(\".pdf\", \"_\" + str(page_no) + \".jpg\")\n",
    "        pix.writePNG(thumb_p)\n",
    "    return(thumb_p)"
   ]
  },
  {
   "cell_type": "code",
   "execution_count": 29,
   "metadata": {},
   "outputs": [
    {
     "name": "stderr",
     "output_type": "stream",
     "text": [
      "mupdf: cannot find page 3363 in page tree\n",
      "mupdf: cannot find page 3363 in page tree\n",
      "mupdf: cannot find page 3363 in page tree\n",
      "mupdf: cannot find page 3363 in page tree\n",
      "mupdf: cannot find page 3363 in page tree\n",
      "mupdf: cannot find page 3363 in page tree\n",
      "mupdf: cannot find page 3363 in page tree\n",
      "mupdf: cannot find page 3363 in page tree\n",
      "mupdf: cannot find page 3363 in page tree\n",
      "mupdf: cannot find page 3363 in page tree\n",
      "mupdf: cannot find page 3363 in page tree\n",
      "mupdf: cannot find page 3363 in page tree\n",
      "mupdf: cannot find page 3363 in page tree\n",
      "mupdf: cannot find page 3363 in page tree\n",
      "mupdf: cannot find page 3363 in page tree\n",
      "mupdf: cannot find page 3363 in page tree\n",
      "mupdf: cannot find page 3363 in page tree\n",
      "mupdf: cannot find page 3363 in page tree\n",
      "mupdf: cannot find page 3363 in page tree\n",
      "mupdf: cannot find page 3363 in page tree\n",
      "mupdf: cannot open G:\\ESA_downloads\\Demo_Alignment_Sheets\\Data_Files_v2\\PDFs\\444418.pdf: No such file or directory\n",
      "mupdf: cannot open G:\\ESA_downloads\\Demo_Alignment_Sheets\\Data_Files_v2\\PDFs\\444424.pdf: No such file or directory\n",
      "mupdf: cannot open G:\\ESA_downloads\\Demo_Alignment_Sheets\\Data_Files_v2\\PDFs\\444424.pdf: No such file or directory\n",
      "mupdf: cannot open G:\\ESA_downloads\\Demo_Alignment_Sheets\\Data_Files_v2\\PDFs\\444424.pdf: No such file or directory\n",
      "mupdf: cannot open G:\\ESA_downloads\\Demo_Alignment_Sheets\\Data_Files_v2\\PDFs\\444424.pdf: No such file or directory\n",
      "mupdf: cannot open G:\\ESA_downloads\\Demo_Alignment_Sheets\\Data_Files_v2\\PDFs\\444430.pdf: No such file or directory\n",
      "mupdf: cannot open G:\\ESA_downloads\\Demo_Alignment_Sheets\\Data_Files_v2\\PDFs\\444430.pdf: No such file or directory\n",
      "mupdf: cannot open G:\\ESA_downloads\\Demo_Alignment_Sheets\\Data_Files_v2\\PDFs\\444430.pdf: No such file or directory\n",
      "mupdf: cannot open G:\\ESA_downloads\\Demo_Alignment_Sheets\\Data_Files_v2\\PDFs\\444430.pdf: No such file or directory\n",
      "mupdf: cannot open G:\\ESA_downloads\\Demo_Alignment_Sheets\\Data_Files_v2\\PDFs\\444430.pdf: No such file or directory\n",
      "mupdf: cannot open G:\\ESA_downloads\\Demo_Alignment_Sheets\\Data_Files_v2\\PDFs\\444430.pdf: No such file or directory\n",
      "mupdf: cannot open G:\\ESA_downloads\\Demo_Alignment_Sheets\\Data_Files_v2\\PDFs\\444430.pdf: No such file or directory\n",
      "mupdf: cannot open G:\\ESA_downloads\\Demo_Alignment_Sheets\\Data_Files_v2\\PDFs\\444430.pdf: No such file or directory\n",
      "mupdf: cannot open G:\\ESA_downloads\\Demo_Alignment_Sheets\\Data_Files_v2\\PDFs\\444430.pdf: No such file or directory\n",
      "mupdf: cannot open G:\\ESA_downloads\\Demo_Alignment_Sheets\\Data_Files_v2\\PDFs\\444430.pdf: No such file or directory\n",
      "mupdf: cannot open G:\\ESA_downloads\\Demo_Alignment_Sheets\\Data_Files_v2\\PDFs\\444430.pdf: No such file or directory\n",
      "mupdf: cannot open G:\\ESA_downloads\\Demo_Alignment_Sheets\\Data_Files_v2\\PDFs\\444430.pdf: No such file or directory\n",
      "mupdf: cannot open G:\\ESA_downloads\\Demo_Alignment_Sheets\\Data_Files_v2\\PDFs\\444430.pdf: No such file or directory\n",
      "mupdf: cannot open G:\\ESA_downloads\\Demo_Alignment_Sheets\\Data_Files_v2\\PDFs\\444430.pdf: No such file or directory\n",
      "mupdf: cannot open G:\\ESA_downloads\\Demo_Alignment_Sheets\\Data_Files_v2\\PDFs\\444430.pdf: No such file or directory\n",
      "mupdf: cannot open G:\\ESA_downloads\\Demo_Alignment_Sheets\\Data_Files_v2\\PDFs\\444430.pdf: No such file or directory\n",
      "mupdf: cannot open G:\\ESA_downloads\\Demo_Alignment_Sheets\\Data_Files_v2\\PDFs\\444430.pdf: No such file or directory\n",
      "mupdf: cannot open G:\\ESA_downloads\\Demo_Alignment_Sheets\\Data_Files_v2\\PDFs\\444430.pdf: No such file or directory\n",
      "mupdf: cannot open G:\\ESA_downloads\\Demo_Alignment_Sheets\\Data_Files_v2\\PDFs\\444430.pdf: No such file or directory\n",
      "mupdf: cannot open G:\\ESA_downloads\\Demo_Alignment_Sheets\\Data_Files_v2\\PDFs\\444430.pdf: No such file or directory\n",
      "mupdf: cannot open G:\\ESA_downloads\\Demo_Alignment_Sheets\\Data_Files_v2\\PDFs\\444430.pdf: No such file or directory\n",
      "mupdf: cannot open G:\\ESA_downloads\\Demo_Alignment_Sheets\\Data_Files_v2\\PDFs\\444430.pdf: No such file or directory\n",
      "mupdf: cannot open G:\\ESA_downloads\\Demo_Alignment_Sheets\\Data_Files_v2\\PDFs\\444844.pdf: No such file or directory\n",
      "mupdf: cannot open G:\\ESA_downloads\\Demo_Alignment_Sheets\\Data_Files_v2\\PDFs\\444844.pdf: No such file or directory\n",
      "mupdf: cannot open G:\\ESA_downloads\\Demo_Alignment_Sheets\\Data_Files_v2\\PDFs\\444844.pdf: No such file or directory\n",
      "mupdf: cannot open G:\\ESA_downloads\\Demo_Alignment_Sheets\\Data_Files_v2\\PDFs\\444844.pdf: No such file or directory\n",
      "mupdf: cannot open G:\\ESA_downloads\\Demo_Alignment_Sheets\\Data_Files_v2\\PDFs\\444844.pdf: No such file or directory\n",
      "mupdf: cannot open G:\\ESA_downloads\\Demo_Alignment_Sheets\\Data_Files_v2\\PDFs\\444844.pdf: No such file or directory\n",
      "mupdf: cannot open G:\\ESA_downloads\\Demo_Alignment_Sheets\\Data_Files_v2\\PDFs\\444844.pdf: No such file or directory\n",
      "mupdf: cannot open G:\\ESA_downloads\\Demo_Alignment_Sheets\\Data_Files_v2\\PDFs\\444844.pdf: No such file or directory\n",
      "mupdf: cannot open G:\\ESA_downloads\\Demo_Alignment_Sheets\\Data_Files_v2\\PDFs\\444844.pdf: No such file or directory\n",
      "mupdf: cannot open G:\\ESA_downloads\\Demo_Alignment_Sheets\\Data_Files_v2\\PDFs\\444856.pdf: No such file or directory\n",
      "mupdf: cannot open G:\\ESA_downloads\\Demo_Alignment_Sheets\\Data_Files_v2\\PDFs\\444856.pdf: No such file or directory\n",
      "mupdf: cannot open G:\\ESA_downloads\\Demo_Alignment_Sheets\\Data_Files_v2\\PDFs\\444856.pdf: No such file or directory\n",
      "mupdf: cannot open G:\\ESA_downloads\\Demo_Alignment_Sheets\\Data_Files_v2\\PDFs\\444856.pdf: No such file or directory\n",
      "mupdf: cannot open G:\\ESA_downloads\\Demo_Alignment_Sheets\\Data_Files_v2\\PDFs\\444856.pdf: No such file or directory\n",
      "mupdf: cannot open G:\\ESA_downloads\\Demo_Alignment_Sheets\\Data_Files_v2\\PDFs\\444856.pdf: No such file or directory\n",
      "mupdf: cannot open G:\\ESA_downloads\\Demo_Alignment_Sheets\\Data_Files_v2\\PDFs\\444856.pdf: No such file or directory\n",
      "mupdf: cannot open G:\\ESA_downloads\\Demo_Alignment_Sheets\\Data_Files_v2\\PDFs\\444856.pdf: No such file or directory\n",
      "mupdf: cannot open G:\\ESA_downloads\\Demo_Alignment_Sheets\\Data_Files_v2\\PDFs\\444856.pdf: No such file or directory\n",
      "mupdf: cannot open G:\\ESA_downloads\\Demo_Alignment_Sheets\\Data_Files_v2\\PDFs\\444859.pdf: No such file or directory\n",
      "mupdf: cannot open G:\\ESA_downloads\\Demo_Alignment_Sheets\\Data_Files_v2\\PDFs\\444859.pdf: No such file or directory\n",
      "mupdf: cannot open G:\\ESA_downloads\\Demo_Alignment_Sheets\\Data_Files_v2\\PDFs\\444859.pdf: No such file or directory\n",
      "mupdf: cannot open G:\\ESA_downloads\\Demo_Alignment_Sheets\\Data_Files_v2\\PDFs\\444859.pdf: No such file or directory\n",
      "mupdf: cannot open G:\\ESA_downloads\\Demo_Alignment_Sheets\\Data_Files_v2\\PDFs\\444859.pdf: No such file or directory\n",
      "mupdf: cannot open G:\\ESA_downloads\\Demo_Alignment_Sheets\\Data_Files_v2\\PDFs\\444859.pdf: No such file or directory\n",
      "mupdf: cannot open G:\\ESA_downloads\\Demo_Alignment_Sheets\\Data_Files_v2\\PDFs\\444859.pdf: No such file or directory\n",
      "mupdf: cannot open G:\\ESA_downloads\\Demo_Alignment_Sheets\\Data_Files_v2\\PDFs\\444859.pdf: No such file or directory\n",
      "mupdf: cannot open G:\\ESA_downloads\\Demo_Alignment_Sheets\\Data_Files_v2\\PDFs\\444859.pdf: No such file or directory\n",
      "mupdf: cannot open G:\\ESA_downloads\\Demo_Alignment_Sheets\\Data_Files_v2\\PDFs\\444859.pdf: No such file or directory\n",
      "mupdf: cannot open G:\\ESA_downloads\\Demo_Alignment_Sheets\\Data_Files_v2\\PDFs\\444859.pdf: No such file or directory\n",
      "mupdf: cannot open G:\\ESA_downloads\\Demo_Alignment_Sheets\\Data_Files_v2\\PDFs\\444859.pdf: No such file or directory\n",
      "mupdf: cannot open G:\\ESA_downloads\\Demo_Alignment_Sheets\\Data_Files_v2\\PDFs\\444859.pdf: No such file or directory\n",
      "mupdf: cannot open G:\\ESA_downloads\\Demo_Alignment_Sheets\\Data_Files_v2\\PDFs\\444859.pdf: No such file or directory\n",
      "mupdf: cannot open G:\\ESA_downloads\\Demo_Alignment_Sheets\\Data_Files_v2\\PDFs\\444859.pdf: No such file or directory\n",
      "mupdf: cannot open G:\\ESA_downloads\\Demo_Alignment_Sheets\\Data_Files_v2\\PDFs\\444859.pdf: No such file or directory\n",
      "mupdf: cannot open G:\\ESA_downloads\\Demo_Alignment_Sheets\\Data_Files_v2\\PDFs\\444862.pdf: No such file or directory\n",
      "mupdf: cannot open G:\\ESA_downloads\\Demo_Alignment_Sheets\\Data_Files_v2\\PDFs\\444862.pdf: No such file or directory\n",
      "mupdf: cannot open G:\\ESA_downloads\\Demo_Alignment_Sheets\\Data_Files_v2\\PDFs\\444862.pdf: No such file or directory\n",
      "mupdf: cannot open G:\\ESA_downloads\\Demo_Alignment_Sheets\\Data_Files_v2\\PDFs\\444862.pdf: No such file or directory\n",
      "mupdf: cannot open G:\\ESA_downloads\\Demo_Alignment_Sheets\\Data_Files_v2\\PDFs\\444865.pdf: No such file or directory\n",
      "mupdf: cannot open G:\\ESA_downloads\\Demo_Alignment_Sheets\\Data_Files_v2\\PDFs\\444865.pdf: No such file or directory\n",
      "mupdf: cannot open G:\\ESA_downloads\\Demo_Alignment_Sheets\\Data_Files_v2\\PDFs\\444865.pdf: No such file or directory\n",
      "mupdf: cannot open G:\\ESA_downloads\\Demo_Alignment_Sheets\\Data_Files_v2\\PDFs\\444865.pdf: No such file or directory\n",
      "mupdf: cannot open G:\\ESA_downloads\\Demo_Alignment_Sheets\\Data_Files_v2\\PDFs\\444874.pdf: No such file or directory\n",
      "mupdf: cannot open G:\\ESA_downloads\\Demo_Alignment_Sheets\\Data_Files_v2\\PDFs\\444874.pdf: No such file or directory\n",
      "mupdf: cannot open G:\\ESA_downloads\\Demo_Alignment_Sheets\\Data_Files_v2\\PDFs\\444874.pdf: No such file or directory\n",
      "mupdf: cannot open G:\\ESA_downloads\\Demo_Alignment_Sheets\\Data_Files_v2\\PDFs\\444874.pdf: No such file or directory\n",
      "mupdf: cannot open G:\\ESA_downloads\\Demo_Alignment_Sheets\\Data_Files_v2\\PDFs\\444874.pdf: No such file or directory\n",
      "mupdf: cannot open G:\\ESA_downloads\\Demo_Alignment_Sheets\\Data_Files_v2\\PDFs\\444874.pdf: No such file or directory\n",
      "mupdf: cannot open G:\\ESA_downloads\\Demo_Alignment_Sheets\\Data_Files_v2\\PDFs\\444874.pdf: No such file or directory\n",
      "mupdf: cannot open G:\\ESA_downloads\\Demo_Alignment_Sheets\\Data_Files_v2\\PDFs\\444874.pdf: No such file or directory\n",
      "mupdf: cannot open G:\\ESA_downloads\\Demo_Alignment_Sheets\\Data_Files_v2\\PDFs\\444874.pdf: No such file or directory\n",
      "mupdf: cannot open G:\\ESA_downloads\\Demo_Alignment_Sheets\\Data_Files_v2\\PDFs\\444874.pdf: No such file or directory\n",
      "mupdf: cannot open G:\\ESA_downloads\\Demo_Alignment_Sheets\\Data_Files_v2\\PDFs\\444874.pdf: No such file or directory\n",
      "mupdf: cannot open G:\\ESA_downloads\\Demo_Alignment_Sheets\\Data_Files_v2\\PDFs\\444880.pdf: No such file or directory\n",
      "mupdf: cannot open G:\\ESA_downloads\\Demo_Alignment_Sheets\\Data_Files_v2\\PDFs\\444880.pdf: No such file or directory\n",
      "mupdf: cannot open G:\\ESA_downloads\\Demo_Alignment_Sheets\\Data_Files_v2\\PDFs\\444880.pdf: No such file or directory\n",
      "mupdf: cannot open G:\\ESA_downloads\\Demo_Alignment_Sheets\\Data_Files_v2\\PDFs\\444880.pdf: No such file or directory\n",
      "mupdf: cannot open G:\\ESA_downloads\\Demo_Alignment_Sheets\\Data_Files_v2\\PDFs\\444880.pdf: No such file or directory\n",
      "mupdf: cannot open G:\\ESA_downloads\\Demo_Alignment_Sheets\\Data_Files_v2\\PDFs\\444880.pdf: No such file or directory\n",
      "mupdf: cannot open G:\\ESA_downloads\\Demo_Alignment_Sheets\\Data_Files_v2\\PDFs\\444880.pdf: No such file or directory\n",
      "mupdf: cannot open G:\\ESA_downloads\\Demo_Alignment_Sheets\\Data_Files_v2\\PDFs\\444883.pdf: No such file or directory\n",
      "mupdf: cannot open G:\\ESA_downloads\\Demo_Alignment_Sheets\\Data_Files_v2\\PDFs\\444883.pdf: No such file or directory\n",
      "mupdf: cannot open G:\\ESA_downloads\\Demo_Alignment_Sheets\\Data_Files_v2\\PDFs\\444883.pdf: No such file or directory\n",
      "mupdf: cannot open G:\\ESA_downloads\\Demo_Alignment_Sheets\\Data_Files_v2\\PDFs\\444883.pdf: No such file or directory\n",
      "mupdf: cannot open G:\\ESA_downloads\\Demo_Alignment_Sheets\\Data_Files_v2\\PDFs\\444883.pdf: No such file or directory\n",
      "mupdf: cannot open G:\\ESA_downloads\\Demo_Alignment_Sheets\\Data_Files_v2\\PDFs\\444883.pdf: No such file or directory\n",
      "mupdf: cannot open G:\\ESA_downloads\\Demo_Alignment_Sheets\\Data_Files_v2\\PDFs\\444883.pdf: No such file or directory\n",
      "mupdf: cannot open G:\\ESA_downloads\\Demo_Alignment_Sheets\\Data_Files_v2\\PDFs\\444883.pdf: No such file or directory\n",
      "mupdf: cannot open G:\\ESA_downloads\\Demo_Alignment_Sheets\\Data_Files_v2\\PDFs\\444883.pdf: No such file or directory\n",
      "mupdf: cannot open G:\\ESA_downloads\\Demo_Alignment_Sheets\\Data_Files_v2\\PDFs\\444874.pdf: No such file or directory\n",
      "mupdf: cannot open G:\\ESA_downloads\\Demo_Alignment_Sheets\\Data_Files_v2\\PDFs\\444874.pdf: No such file or directory\n",
      "mupdf: cannot open G:\\ESA_downloads\\Demo_Alignment_Sheets\\Data_Files_v2\\PDFs\\444874.pdf: No such file or directory\n",
      "mupdf: cannot open G:\\ESA_downloads\\Demo_Alignment_Sheets\\Data_Files_v2\\PDFs\\444874.pdf: No such file or directory\n",
      "mupdf: cannot open G:\\ESA_downloads\\Demo_Alignment_Sheets\\Data_Files_v2\\PDFs\\444874.pdf: No such file or directory\n",
      "mupdf: cannot open G:\\ESA_downloads\\Demo_Alignment_Sheets\\Data_Files_v2\\PDFs\\444874.pdf: No such file or directory\n",
      "mupdf: cannot open G:\\ESA_downloads\\Demo_Alignment_Sheets\\Data_Files_v2\\PDFs\\444874.pdf: No such file or directory\n",
      "mupdf: cannot open G:\\ESA_downloads\\Demo_Alignment_Sheets\\Data_Files_v2\\PDFs\\444874.pdf: No such file or directory\n",
      "mupdf: cannot open G:\\ESA_downloads\\Demo_Alignment_Sheets\\Data_Files_v2\\PDFs\\444874.pdf: No such file or directory\n",
      "mupdf: cannot open G:\\ESA_downloads\\Demo_Alignment_Sheets\\Data_Files_v2\\PDFs\\444424.pdf: No such file or directory\n",
      "mupdf: cannot open G:\\ESA_downloads\\Demo_Alignment_Sheets\\Data_Files_v2\\PDFs\\444424.pdf: No such file or directory\n",
      "mupdf: cannot open G:\\ESA_downloads\\Demo_Alignment_Sheets\\Data_Files_v2\\PDFs\\444424.pdf: No such file or directory\n",
      "mupdf: cannot open G:\\ESA_downloads\\Demo_Alignment_Sheets\\Data_Files_v2\\PDFs\\444424.pdf: No such file or directory\n",
      "mupdf: cannot open G:\\ESA_downloads\\Demo_Alignment_Sheets\\Data_Files_v2\\PDFs\\444430.pdf: No such file or directory\n",
      "mupdf: cannot open G:\\ESA_downloads\\Demo_Alignment_Sheets\\Data_Files_v2\\PDFs\\444430.pdf: No such file or directory\n",
      "mupdf: cannot open G:\\ESA_downloads\\Demo_Alignment_Sheets\\Data_Files_v2\\PDFs\\444430.pdf: No such file or directory\n",
      "mupdf: cannot open G:\\ESA_downloads\\Demo_Alignment_Sheets\\Data_Files_v2\\PDFs\\444430.pdf: No such file or directory\n",
      "mupdf: cannot open G:\\ESA_downloads\\Demo_Alignment_Sheets\\Data_Files_v2\\PDFs\\444430.pdf: No such file or directory\n",
      "mupdf: cannot open G:\\ESA_downloads\\Demo_Alignment_Sheets\\Data_Files_v2\\PDFs\\444430.pdf: No such file or directory\n",
      "mupdf: cannot open G:\\ESA_downloads\\Demo_Alignment_Sheets\\Data_Files_v2\\PDFs\\444430.pdf: No such file or directory\n",
      "mupdf: cannot open G:\\ESA_downloads\\Demo_Alignment_Sheets\\Data_Files_v2\\PDFs\\444430.pdf: No such file or directory\n",
      "mupdf: cannot open G:\\ESA_downloads\\Demo_Alignment_Sheets\\Data_Files_v2\\PDFs\\444430.pdf: No such file or directory\n",
      "mupdf: cannot open G:\\ESA_downloads\\Demo_Alignment_Sheets\\Data_Files_v2\\PDFs\\444430.pdf: No such file or directory\n",
      "mupdf: cannot open G:\\ESA_downloads\\Demo_Alignment_Sheets\\Data_Files_v2\\PDFs\\444430.pdf: No such file or directory\n",
      "mupdf: cannot open G:\\ESA_downloads\\Demo_Alignment_Sheets\\Data_Files_v2\\PDFs\\444430.pdf: No such file or directory\n",
      "mupdf: cannot open G:\\ESA_downloads\\Demo_Alignment_Sheets\\Data_Files_v2\\PDFs\\444430.pdf: No such file or directory\n",
      "mupdf: cannot open G:\\ESA_downloads\\Demo_Alignment_Sheets\\Data_Files_v2\\PDFs\\444430.pdf: No such file or directory\n",
      "mupdf: cannot open G:\\ESA_downloads\\Demo_Alignment_Sheets\\Data_Files_v2\\PDFs\\444430.pdf: No such file or directory\n",
      "mupdf: cannot open G:\\ESA_downloads\\Demo_Alignment_Sheets\\Data_Files_v2\\PDFs\\444430.pdf: No such file or directory\n",
      "mupdf: cannot open G:\\ESA_downloads\\Demo_Alignment_Sheets\\Data_Files_v2\\PDFs\\444430.pdf: No such file or directory\n",
      "mupdf: cannot open G:\\ESA_downloads\\Demo_Alignment_Sheets\\Data_Files_v2\\PDFs\\444430.pdf: No such file or directory\n",
      "mupdf: cannot open G:\\ESA_downloads\\Demo_Alignment_Sheets\\Data_Files_v2\\PDFs\\444430.pdf: No such file or directory\n",
      "mupdf: cannot open G:\\ESA_downloads\\Demo_Alignment_Sheets\\Data_Files_v2\\PDFs\\444430.pdf: No such file or directory\n",
      "mupdf: cannot open G:\\ESA_downloads\\Demo_Alignment_Sheets\\Data_Files_v2\\PDFs\\444430.pdf: No such file or directory\n",
      "mupdf: cannot open G:\\ESA_downloads\\Demo_Alignment_Sheets\\Data_Files_v2\\PDFs\\444430.pdf: No such file or directory\n",
      "mupdf: cannot open G:\\ESA_downloads\\Demo_Alignment_Sheets\\Data_Files_v2\\PDFs\\444430.pdf: No such file or directory\n",
      "mupdf: cannot open G:\\ESA_downloads\\Demo_Alignment_Sheets\\Data_Files_v2\\PDFs\\444844.pdf: No such file or directory\n",
      "mupdf: cannot open G:\\ESA_downloads\\Demo_Alignment_Sheets\\Data_Files_v2\\PDFs\\444844.pdf: No such file or directory\n",
      "mupdf: cannot open G:\\ESA_downloads\\Demo_Alignment_Sheets\\Data_Files_v2\\PDFs\\444844.pdf: No such file or directory\n",
      "mupdf: cannot open G:\\ESA_downloads\\Demo_Alignment_Sheets\\Data_Files_v2\\PDFs\\444844.pdf: No such file or directory\n",
      "mupdf: cannot open G:\\ESA_downloads\\Demo_Alignment_Sheets\\Data_Files_v2\\PDFs\\444844.pdf: No such file or directory\n",
      "mupdf: cannot open G:\\ESA_downloads\\Demo_Alignment_Sheets\\Data_Files_v2\\PDFs\\444844.pdf: No such file or directory\n",
      "mupdf: cannot open G:\\ESA_downloads\\Demo_Alignment_Sheets\\Data_Files_v2\\PDFs\\444844.pdf: No such file or directory\n",
      "mupdf: cannot open G:\\ESA_downloads\\Demo_Alignment_Sheets\\Data_Files_v2\\PDFs\\444844.pdf: No such file or directory\n",
      "mupdf: cannot open G:\\ESA_downloads\\Demo_Alignment_Sheets\\Data_Files_v2\\PDFs\\444844.pdf: No such file or directory\n",
      "mupdf: cannot open G:\\ESA_downloads\\Demo_Alignment_Sheets\\Data_Files_v2\\PDFs\\444856.pdf: No such file or directory\n",
      "mupdf: cannot open G:\\ESA_downloads\\Demo_Alignment_Sheets\\Data_Files_v2\\PDFs\\444856.pdf: No such file or directory\n",
      "mupdf: cannot open G:\\ESA_downloads\\Demo_Alignment_Sheets\\Data_Files_v2\\PDFs\\444856.pdf: No such file or directory\n",
      "mupdf: cannot open G:\\ESA_downloads\\Demo_Alignment_Sheets\\Data_Files_v2\\PDFs\\444856.pdf: No such file or directory\n",
      "mupdf: cannot open G:\\ESA_downloads\\Demo_Alignment_Sheets\\Data_Files_v2\\PDFs\\444856.pdf: No such file or directory\n",
      "mupdf: cannot open G:\\ESA_downloads\\Demo_Alignment_Sheets\\Data_Files_v2\\PDFs\\444856.pdf: No such file or directory\n",
      "mupdf: cannot open G:\\ESA_downloads\\Demo_Alignment_Sheets\\Data_Files_v2\\PDFs\\444859.pdf: No such file or directory\n",
      "mupdf: cannot open G:\\ESA_downloads\\Demo_Alignment_Sheets\\Data_Files_v2\\PDFs\\444859.pdf: No such file or directory\n",
      "mupdf: cannot open G:\\ESA_downloads\\Demo_Alignment_Sheets\\Data_Files_v2\\PDFs\\444859.pdf: No such file or directory\n",
      "mupdf: cannot open G:\\ESA_downloads\\Demo_Alignment_Sheets\\Data_Files_v2\\PDFs\\444859.pdf: No such file or directory\n",
      "mupdf: cannot open G:\\ESA_downloads\\Demo_Alignment_Sheets\\Data_Files_v2\\PDFs\\444859.pdf: No such file or directory\n",
      "mupdf: cannot open G:\\ESA_downloads\\Demo_Alignment_Sheets\\Data_Files_v2\\PDFs\\444859.pdf: No such file or directory\n",
      "mupdf: cannot open G:\\ESA_downloads\\Demo_Alignment_Sheets\\Data_Files_v2\\PDFs\\444859.pdf: No such file or directory\n",
      "mupdf: cannot open G:\\ESA_downloads\\Demo_Alignment_Sheets\\Data_Files_v2\\PDFs\\444859.pdf: No such file or directory\n",
      "mupdf: cannot open G:\\ESA_downloads\\Demo_Alignment_Sheets\\Data_Files_v2\\PDFs\\444859.pdf: No such file or directory\n",
      "mupdf: cannot open G:\\ESA_downloads\\Demo_Alignment_Sheets\\Data_Files_v2\\PDFs\\444859.pdf: No such file or directory\n",
      "mupdf: cannot open G:\\ESA_downloads\\Demo_Alignment_Sheets\\Data_Files_v2\\PDFs\\444859.pdf: No such file or directory\n",
      "mupdf: cannot open G:\\ESA_downloads\\Demo_Alignment_Sheets\\Data_Files_v2\\PDFs\\444859.pdf: No such file or directory\n",
      "mupdf: cannot open G:\\ESA_downloads\\Demo_Alignment_Sheets\\Data_Files_v2\\PDFs\\444859.pdf: No such file or directory\n",
      "mupdf: cannot open G:\\ESA_downloads\\Demo_Alignment_Sheets\\Data_Files_v2\\PDFs\\444859.pdf: No such file or directory\n",
      "mupdf: cannot open G:\\ESA_downloads\\Demo_Alignment_Sheets\\Data_Files_v2\\PDFs\\444859.pdf: No such file or directory\n",
      "mupdf: cannot open G:\\ESA_downloads\\Demo_Alignment_Sheets\\Data_Files_v2\\PDFs\\444859.pdf: No such file or directory\n",
      "mupdf: cannot open G:\\ESA_downloads\\Demo_Alignment_Sheets\\Data_Files_v2\\PDFs\\444859.pdf: No such file or directory\n",
      "mupdf: cannot open G:\\ESA_downloads\\Demo_Alignment_Sheets\\Data_Files_v2\\PDFs\\444859.pdf: No such file or directory\n",
      "mupdf: cannot open G:\\ESA_downloads\\Demo_Alignment_Sheets\\Data_Files_v2\\PDFs\\444859.pdf: No such file or directory\n",
      "mupdf: cannot open G:\\ESA_downloads\\Demo_Alignment_Sheets\\Data_Files_v2\\PDFs\\444862.pdf: No such file or directory\n",
      "mupdf: cannot open G:\\ESA_downloads\\Demo_Alignment_Sheets\\Data_Files_v2\\PDFs\\444862.pdf: No such file or directory\n",
      "mupdf: cannot open G:\\ESA_downloads\\Demo_Alignment_Sheets\\Data_Files_v2\\PDFs\\444862.pdf: No such file or directory\n",
      "mupdf: cannot open G:\\ESA_downloads\\Demo_Alignment_Sheets\\Data_Files_v2\\PDFs\\444862.pdf: No such file or directory\n",
      "mupdf: cannot open G:\\ESA_downloads\\Demo_Alignment_Sheets\\Data_Files_v2\\PDFs\\444865.pdf: No such file or directory\n",
      "mupdf: cannot open G:\\ESA_downloads\\Demo_Alignment_Sheets\\Data_Files_v2\\PDFs\\444865.pdf: No such file or directory\n",
      "mupdf: cannot open G:\\ESA_downloads\\Demo_Alignment_Sheets\\Data_Files_v2\\PDFs\\444865.pdf: No such file or directory\n",
      "mupdf: cannot open G:\\ESA_downloads\\Demo_Alignment_Sheets\\Data_Files_v2\\PDFs\\444865.pdf: No such file or directory\n",
      "mupdf: cannot open G:\\ESA_downloads\\Demo_Alignment_Sheets\\Data_Files_v2\\PDFs\\444865.pdf: No such file or directory\n",
      "mupdf: cannot open G:\\ESA_downloads\\Demo_Alignment_Sheets\\Data_Files_v2\\PDFs\\444874.pdf: No such file or directory\n",
      "mupdf: cannot open G:\\ESA_downloads\\Demo_Alignment_Sheets\\Data_Files_v2\\PDFs\\444874.pdf: No such file or directory\n",
      "mupdf: cannot open G:\\ESA_downloads\\Demo_Alignment_Sheets\\Data_Files_v2\\PDFs\\444874.pdf: No such file or directory\n",
      "mupdf: cannot open G:\\ESA_downloads\\Demo_Alignment_Sheets\\Data_Files_v2\\PDFs\\444874.pdf: No such file or directory\n",
      "mupdf: cannot open G:\\ESA_downloads\\Demo_Alignment_Sheets\\Data_Files_v2\\PDFs\\444874.pdf: No such file or directory\n",
      "mupdf: cannot open G:\\ESA_downloads\\Demo_Alignment_Sheets\\Data_Files_v2\\PDFs\\444874.pdf: No such file or directory\n",
      "mupdf: cannot open G:\\ESA_downloads\\Demo_Alignment_Sheets\\Data_Files_v2\\PDFs\\444874.pdf: No such file or directory\n",
      "mupdf: cannot open G:\\ESA_downloads\\Demo_Alignment_Sheets\\Data_Files_v2\\PDFs\\444874.pdf: No such file or directory\n",
      "mupdf: cannot open G:\\ESA_downloads\\Demo_Alignment_Sheets\\Data_Files_v2\\PDFs\\444874.pdf: No such file or directory\n",
      "mupdf: cannot open G:\\ESA_downloads\\Demo_Alignment_Sheets\\Data_Files_v2\\PDFs\\444874.pdf: No such file or directory\n",
      "mupdf: cannot open G:\\ESA_downloads\\Demo_Alignment_Sheets\\Data_Files_v2\\PDFs\\444874.pdf: No such file or directory\n",
      "mupdf: cannot open G:\\ESA_downloads\\Demo_Alignment_Sheets\\Data_Files_v2\\PDFs\\444880.pdf: No such file or directory\n",
      "mupdf: cannot open G:\\ESA_downloads\\Demo_Alignment_Sheets\\Data_Files_v2\\PDFs\\444880.pdf: No such file or directory\n",
      "mupdf: cannot open G:\\ESA_downloads\\Demo_Alignment_Sheets\\Data_Files_v2\\PDFs\\444880.pdf: No such file or directory\n",
      "mupdf: cannot open G:\\ESA_downloads\\Demo_Alignment_Sheets\\Data_Files_v2\\PDFs\\444880.pdf: No such file or directory\n",
      "mupdf: cannot open G:\\ESA_downloads\\Demo_Alignment_Sheets\\Data_Files_v2\\PDFs\\444880.pdf: No such file or directory\n",
      "mupdf: cannot open G:\\ESA_downloads\\Demo_Alignment_Sheets\\Data_Files_v2\\PDFs\\444880.pdf: No such file or directory\n",
      "mupdf: cannot open G:\\ESA_downloads\\Demo_Alignment_Sheets\\Data_Files_v2\\PDFs\\444880.pdf: No such file or directory\n",
      "mupdf: cannot open G:\\ESA_downloads\\Demo_Alignment_Sheets\\Data_Files_v2\\PDFs\\444883.pdf: No such file or directory\n",
      "mupdf: cannot open G:\\ESA_downloads\\Demo_Alignment_Sheets\\Data_Files_v2\\PDFs\\444883.pdf: No such file or directory\n",
      "mupdf: cannot open G:\\ESA_downloads\\Demo_Alignment_Sheets\\Data_Files_v2\\PDFs\\444883.pdf: No such file or directory\n",
      "mupdf: cannot open G:\\ESA_downloads\\Demo_Alignment_Sheets\\Data_Files_v2\\PDFs\\444883.pdf: No such file or directory\n",
      "mupdf: cannot open G:\\ESA_downloads\\Demo_Alignment_Sheets\\Data_Files_v2\\PDFs\\444883.pdf: No such file or directory\n",
      "mupdf: cannot open G:\\ESA_downloads\\Demo_Alignment_Sheets\\Data_Files_v2\\PDFs\\444883.pdf: No such file or directory\n",
      "mupdf: cannot open G:\\ESA_downloads\\Demo_Alignment_Sheets\\Data_Files_v2\\PDFs\\444883.pdf: No such file or directory\n",
      "mupdf: cannot open G:\\ESA_downloads\\Demo_Alignment_Sheets\\Data_Files_v2\\PDFs\\444883.pdf: No such file or directory\n",
      "mupdf: cannot open G:\\ESA_downloads\\Demo_Alignment_Sheets\\Data_Files_v2\\PDFs\\444883.pdf: No such file or directory\n"
     ]
    },
    {
     "name": "stdout",
     "output_type": "stream",
     "text": [
      "444418\n",
      "444424\n",
      "444424\n",
      "444424\n",
      "444424\n",
      "444430\n",
      "444430\n",
      "444430\n",
      "444430\n",
      "444430\n",
      "444430\n",
      "444430\n",
      "444430\n",
      "444430\n",
      "444430\n",
      "444430\n",
      "444430\n",
      "444430\n",
      "444430\n",
      "444430\n",
      "444430\n",
      "444430\n",
      "444430\n",
      "444430\n",
      "444430\n",
      "444430\n",
      "444430\n",
      "444844\n",
      "444844\n",
      "444844\n",
      "444844\n",
      "444844\n",
      "444844\n",
      "444844\n",
      "444844\n",
      "444844\n",
      "444856\n",
      "444856\n",
      "444856\n",
      "444856\n",
      "444856\n",
      "444856\n",
      "444856\n",
      "444856\n",
      "444856\n",
      "444859\n",
      "444859\n",
      "444859\n",
      "444859\n",
      "444859\n",
      "444859\n",
      "444859\n",
      "444859\n",
      "444859\n",
      "444859\n",
      "444859\n",
      "444859\n",
      "444859\n",
      "444859\n",
      "444859\n",
      "444859\n",
      "444862\n",
      "444862\n",
      "444862\n",
      "444862\n",
      "444865\n",
      "444865\n",
      "444865\n",
      "444865\n",
      "444874\n",
      "444874\n",
      "444874\n",
      "444874\n",
      "444874\n",
      "444874\n",
      "444874\n",
      "444874\n",
      "444874\n",
      "444874\n",
      "444874\n",
      "444880\n",
      "444880\n",
      "444880\n",
      "444880\n",
      "444880\n",
      "444880\n",
      "444880\n",
      "444883\n",
      "444883\n",
      "444883\n",
      "444883\n",
      "444883\n",
      "444883\n",
      "444883\n",
      "444883\n",
      "444883\n",
      "444874\n",
      "444874\n",
      "444874\n",
      "444874\n",
      "444874\n",
      "444874\n",
      "444874\n",
      "444874\n",
      "444874\n",
      "444424\n",
      "444424\n",
      "444424\n",
      "444424\n",
      "444430\n",
      "444430\n",
      "444430\n",
      "444430\n",
      "444430\n",
      "444430\n",
      "444430\n",
      "444430\n",
      "444430\n",
      "444430\n",
      "444430\n",
      "444430\n",
      "444430\n",
      "444430\n",
      "444430\n",
      "444430\n",
      "444430\n",
      "444430\n",
      "444430\n",
      "444430\n",
      "444430\n",
      "444430\n",
      "444430\n",
      "444844\n",
      "444844\n",
      "444844\n",
      "444844\n",
      "444844\n",
      "444844\n",
      "444844\n",
      "444844\n",
      "444844\n",
      "444856\n",
      "444856\n",
      "444856\n",
      "444856\n",
      "444856\n",
      "444856\n",
      "444859\n",
      "444859\n",
      "444859\n",
      "444859\n",
      "444859\n",
      "444859\n",
      "444859\n",
      "444859\n",
      "444859\n",
      "444859\n",
      "444859\n",
      "444859\n",
      "444859\n",
      "444859\n",
      "444859\n",
      "444859\n",
      "444859\n",
      "444859\n",
      "444859\n",
      "444862\n",
      "444862\n",
      "444862\n",
      "444862\n",
      "444865\n",
      "444865\n",
      "444865\n",
      "444865\n",
      "444865\n",
      "444874\n",
      "444874\n",
      "444874\n",
      "444874\n",
      "444874\n",
      "444874\n",
      "444874\n",
      "444874\n",
      "444874\n",
      "444874\n",
      "444874\n",
      "444880\n",
      "444880\n",
      "444880\n",
      "444880\n",
      "444880\n",
      "444880\n",
      "444880\n",
      "444883\n",
      "444883\n",
      "444883\n",
      "444883\n",
      "444883\n",
      "444883\n",
      "444883\n",
      "444883\n",
      "444883\n"
     ]
    },
    {
     "name": "stderr",
     "output_type": "stream",
     "text": [
      "mupdf: invalid page object\n",
      "mupdf: invalid page object\n",
      "mupdf: invalid page object\n",
      "mupdf: invalid page object\n",
      "mupdf: invalid page object\n",
      "mupdf: invalid page object\n",
      "mupdf: invalid page object\n",
      "mupdf: invalid page object\n",
      "mupdf: invalid page object\n",
      "mupdf: invalid page object\n",
      "mupdf: invalid page object\n",
      "mupdf: invalid page object\n",
      "mupdf: invalid page object\n",
      "mupdf: invalid page object\n",
      "mupdf: invalid page object\n",
      "mupdf: invalid page object\n",
      "mupdf: invalid page object\n",
      "mupdf: invalid page object\n",
      "mupdf: invalid page object\n",
      "mupdf: invalid page object\n",
      "mupdf: invalid page object\n",
      "mupdf: invalid page object\n",
      "mupdf: invalid page object\n",
      "mupdf: invalid page object\n",
      "mupdf: invalid page object\n",
      "mupdf: invalid page object\n",
      "mupdf: invalid page object\n",
      "mupdf: invalid page object\n",
      "mupdf: invalid page object\n",
      "mupdf: invalid page object\n",
      "mupdf: invalid page object\n",
      "mupdf: invalid page object\n",
      "mupdf: invalid page object\n",
      "mupdf: invalid page object\n",
      "mupdf: invalid page object\n",
      "mupdf: invalid page object\n",
      "mupdf: cannot open G:\\ESA_downloads\\Demo_Alignment_Sheets\\Data_Files_v2\\PDFs\\444418.pdf: No such file or directory\n"
     ]
    },
    {
     "name": "stdout",
     "output_type": "stream",
     "text": [
      "444418\n"
     ]
    },
    {
     "name": "stderr",
     "output_type": "stream",
     "text": [
      "mupdf: cannot open G:\\ESA_downloads\\Demo_Alignment_Sheets\\Data_Files_v2\\PDFs\\444418.pdf: No such file or directory\n"
     ]
    },
    {
     "name": "stdout",
     "output_type": "stream",
     "text": [
      "444418\n"
     ]
    },
    {
     "name": "stderr",
     "output_type": "stream",
     "text": [
      "mupdf: cannot open G:\\ESA_downloads\\Demo_Alignment_Sheets\\Data_Files_v2\\PDFs\\444418.pdf: No such file or directory\n"
     ]
    },
    {
     "name": "stdout",
     "output_type": "stream",
     "text": [
      "444418\n"
     ]
    },
    {
     "name": "stderr",
     "output_type": "stream",
     "text": [
      "mupdf: cannot open G:\\ESA_downloads\\Demo_Alignment_Sheets\\Data_Files_v2\\PDFs\\444418.pdf: No such file or directory\n",
      "mupdf: cannot open G:\\ESA_downloads\\Demo_Alignment_Sheets\\Data_Files_v2\\PDFs\\444418.pdf: No such file or directory\n",
      "mupdf: cannot open G:\\ESA_downloads\\Demo_Alignment_Sheets\\Data_Files_v2\\PDFs\\444418.pdf: No such file or directory\n"
     ]
    },
    {
     "name": "stdout",
     "output_type": "stream",
     "text": [
      "444418\n",
      "444418\n",
      "444418\n"
     ]
    },
    {
     "name": "stderr",
     "output_type": "stream",
     "text": [
      "mupdf: cannot open G:\\ESA_downloads\\Demo_Alignment_Sheets\\Data_Files_v2\\PDFs\\444862.pdf: No such file or directory\n"
     ]
    },
    {
     "name": "stdout",
     "output_type": "stream",
     "text": [
      "444862\n"
     ]
    },
    {
     "name": "stderr",
     "output_type": "stream",
     "text": [
      "mupdf: cannot open G:\\ESA_downloads\\Demo_Alignment_Sheets\\Data_Files_v2\\PDFs\\444862.pdf: No such file or directory\n"
     ]
    },
    {
     "name": "stdout",
     "output_type": "stream",
     "text": [
      "444862\n"
     ]
    },
    {
     "name": "stderr",
     "output_type": "stream",
     "text": [
      "mupdf: cannot open G:\\ESA_downloads\\Demo_Alignment_Sheets\\Data_Files_v2\\PDFs\\444862.pdf: No such file or directory\n"
     ]
    },
    {
     "name": "stdout",
     "output_type": "stream",
     "text": [
      "444862\n"
     ]
    },
    {
     "name": "stderr",
     "output_type": "stream",
     "text": [
      "mupdf: cannot open G:\\ESA_downloads\\Demo_Alignment_Sheets\\Data_Files_v2\\PDFs\\444862.pdf: No such file or directory\n"
     ]
    },
    {
     "name": "stdout",
     "output_type": "stream",
     "text": [
      "444862\n"
     ]
    },
    {
     "name": "stderr",
     "output_type": "stream",
     "text": [
      "mupdf: cannot open G:\\ESA_downloads\\Demo_Alignment_Sheets\\Data_Files_v2\\PDFs\\444862.pdf: No such file or directory\n"
     ]
    },
    {
     "name": "stdout",
     "output_type": "stream",
     "text": [
      "444862\n"
     ]
    },
    {
     "name": "stderr",
     "output_type": "stream",
     "text": [
      "mupdf: cannot open G:\\ESA_downloads\\Demo_Alignment_Sheets\\Data_Files_v2\\PDFs\\444862.pdf: No such file or directory\n"
     ]
    },
    {
     "name": "stdout",
     "output_type": "stream",
     "text": [
      "444862\n"
     ]
    },
    {
     "name": "stderr",
     "output_type": "stream",
     "text": [
      "mupdf: cannot open G:\\ESA_downloads\\Demo_Alignment_Sheets\\Data_Files_v2\\PDFs\\444862.pdf: No such file or directory\n"
     ]
    },
    {
     "name": "stdout",
     "output_type": "stream",
     "text": [
      "444862\n"
     ]
    },
    {
     "name": "stderr",
     "output_type": "stream",
     "text": [
      "mupdf: cannot open G:\\ESA_downloads\\Demo_Alignment_Sheets\\Data_Files_v2\\PDFs\\444862.pdf: No such file or directory\n"
     ]
    },
    {
     "name": "stdout",
     "output_type": "stream",
     "text": [
      "444862\n"
     ]
    },
    {
     "name": "stderr",
     "output_type": "stream",
     "text": [
      "mupdf: cannot open G:\\ESA_downloads\\Demo_Alignment_Sheets\\Data_Files_v2\\PDFs\\444865.pdf: No such file or directory\n"
     ]
    },
    {
     "name": "stdout",
     "output_type": "stream",
     "text": [
      "444865\n"
     ]
    },
    {
     "name": "stderr",
     "output_type": "stream",
     "text": [
      "mupdf: cannot open G:\\ESA_downloads\\Demo_Alignment_Sheets\\Data_Files_v2\\PDFs\\444865.pdf: No such file or directory\n",
      "mupdf: cannot open G:\\ESA_downloads\\Demo_Alignment_Sheets\\Data_Files_v2\\PDFs\\444865.pdf: No such file or directory\n"
     ]
    },
    {
     "name": "stdout",
     "output_type": "stream",
     "text": [
      "444865\n"
     ]
    },
    {
     "name": "stderr",
     "output_type": "stream",
     "text": [
      "mupdf: cannot open G:\\ESA_downloads\\Demo_Alignment_Sheets\\Data_Files_v2\\PDFs\\444865.pdf: No such file or directory\n"
     ]
    },
    {
     "name": "stdout",
     "output_type": "stream",
     "text": [
      "444865\n",
      "444865\n"
     ]
    },
    {
     "name": "stderr",
     "output_type": "stream",
     "text": [
      "mupdf: cannot open G:\\ESA_downloads\\Demo_Alignment_Sheets\\Data_Files_v2\\PDFs\\444865.pdf: No such file or directory\n"
     ]
    },
    {
     "name": "stdout",
     "output_type": "stream",
     "text": [
      "444865\n"
     ]
    },
    {
     "name": "stderr",
     "output_type": "stream",
     "text": [
      "mupdf: cannot open G:\\ESA_downloads\\Demo_Alignment_Sheets\\Data_Files_v2\\PDFs\\444865.pdf: No such file or directory\n",
      "mupdf: cannot open G:\\ESA_downloads\\Demo_Alignment_Sheets\\Data_Files_v2\\PDFs\\444865.pdf: No such file or directory\n",
      "mupdf: cannot open G:\\ESA_downloads\\Demo_Alignment_Sheets\\Data_Files_v2\\PDFs\\444865.pdf: No such file or directory\n",
      "mupdf: cannot open G:\\ESA_downloads\\Demo_Alignment_Sheets\\Data_Files_v2\\PDFs\\444865.pdf: No such file or directory\n"
     ]
    },
    {
     "name": "stdout",
     "output_type": "stream",
     "text": [
      "444865\n",
      "444865\n",
      "444865\n",
      "444865\n"
     ]
    },
    {
     "name": "stderr",
     "output_type": "stream",
     "text": [
      "mupdf: cannot open G:\\ESA_downloads\\Demo_Alignment_Sheets\\Data_Files_v2\\PDFs\\444865.pdf: No such file or directory\n"
     ]
    },
    {
     "name": "stdout",
     "output_type": "stream",
     "text": [
      "444865\n"
     ]
    },
    {
     "name": "stderr",
     "output_type": "stream",
     "text": [
      "mupdf: cannot open G:\\ESA_downloads\\Demo_Alignment_Sheets\\Data_Files_v2\\PDFs\\444865.pdf: No such file or directory\n"
     ]
    },
    {
     "name": "stdout",
     "output_type": "stream",
     "text": [
      "444865\n"
     ]
    },
    {
     "name": "stderr",
     "output_type": "stream",
     "text": [
      "mupdf: cannot open G:\\ESA_downloads\\Demo_Alignment_Sheets\\Data_Files_v2\\PDFs\\444865.pdf: No such file or directory\n"
     ]
    },
    {
     "name": "stdout",
     "output_type": "stream",
     "text": [
      "444865\n"
     ]
    },
    {
     "name": "stderr",
     "output_type": "stream",
     "text": [
      "mupdf: cannot open G:\\ESA_downloads\\Demo_Alignment_Sheets\\Data_Files_v2\\PDFs\\444865.pdf: No such file or directory\n"
     ]
    },
    {
     "name": "stdout",
     "output_type": "stream",
     "text": [
      "444865\n"
     ]
    },
    {
     "name": "stderr",
     "output_type": "stream",
     "text": [
      "mupdf: cannot open G:\\ESA_downloads\\Demo_Alignment_Sheets\\Data_Files_v2\\PDFs\\444865.pdf: No such file or directory\n"
     ]
    },
    {
     "name": "stdout",
     "output_type": "stream",
     "text": [
      "444865\n"
     ]
    },
    {
     "name": "stderr",
     "output_type": "stream",
     "text": [
      "mupdf: cannot open G:\\ESA_downloads\\Demo_Alignment_Sheets\\Data_Files_v2\\PDFs\\444865.pdf: No such file or directory\n"
     ]
    },
    {
     "name": "stdout",
     "output_type": "stream",
     "text": [
      "444865\n"
     ]
    },
    {
     "name": "stderr",
     "output_type": "stream",
     "text": [
      "mupdf: cannot open G:\\ESA_downloads\\Demo_Alignment_Sheets\\Data_Files_v2\\PDFs\\444865.pdf: No such file or directory\n"
     ]
    },
    {
     "name": "stdout",
     "output_type": "stream",
     "text": [
      "444865\n"
     ]
    },
    {
     "name": "stderr",
     "output_type": "stream",
     "text": [
      "mupdf: cannot open G:\\ESA_downloads\\Demo_Alignment_Sheets\\Data_Files_v2\\PDFs\\444865.pdf: No such file or directory\n"
     ]
    },
    {
     "name": "stdout",
     "output_type": "stream",
     "text": [
      "444865\n"
     ]
    },
    {
     "name": "stderr",
     "output_type": "stream",
     "text": [
      "mupdf: cannot open G:\\ESA_downloads\\Demo_Alignment_Sheets\\Data_Files_v2\\PDFs\\444865.pdf: No such file or directory\n"
     ]
    },
    {
     "name": "stdout",
     "output_type": "stream",
     "text": [
      "444865\n"
     ]
    },
    {
     "name": "stderr",
     "output_type": "stream",
     "text": [
      "mupdf: cannot open G:\\ESA_downloads\\Demo_Alignment_Sheets\\Data_Files_v2\\PDFs\\444865.pdf: No such file or directory\n"
     ]
    },
    {
     "name": "stdout",
     "output_type": "stream",
     "text": [
      "444865\n"
     ]
    },
    {
     "name": "stderr",
     "output_type": "stream",
     "text": [
      "mupdf: cannot open G:\\ESA_downloads\\Demo_Alignment_Sheets\\Data_Files_v2\\PDFs\\444865.pdf: No such file or directory\n",
      "mupdf: cannot open G:\\ESA_downloads\\Demo_Alignment_Sheets\\Data_Files_v2\\PDFs\\444865.pdf: No such file or directory\n"
     ]
    },
    {
     "name": "stdout",
     "output_type": "stream",
     "text": [
      "444865\n",
      "444865\n"
     ]
    },
    {
     "name": "stderr",
     "output_type": "stream",
     "text": [
      "mupdf: cannot open G:\\ESA_downloads\\Demo_Alignment_Sheets\\Data_Files_v2\\PDFs\\444874.pdf: No such file or directory\n"
     ]
    },
    {
     "name": "stdout",
     "output_type": "stream",
     "text": [
      "444874\n"
     ]
    },
    {
     "name": "stderr",
     "output_type": "stream",
     "text": [
      "mupdf: invalid page object\n",
      "mupdf: invalid page object\n",
      "mupdf: cannot open G:\\ESA_downloads\\Demo_Alignment_Sheets\\Data_Files_v2\\PDFs\\444874.pdf: No such file or directory\n"
     ]
    },
    {
     "name": "stdout",
     "output_type": "stream",
     "text": [
      "444874\n"
     ]
    },
    {
     "name": "stderr",
     "output_type": "stream",
     "text": [
      "mupdf: cannot open G:\\ESA_downloads\\Demo_Alignment_Sheets\\Data_Files_v2\\PDFs\\444874.pdf: No such file or directory\n"
     ]
    },
    {
     "name": "stdout",
     "output_type": "stream",
     "text": [
      "444874\n"
     ]
    },
    {
     "name": "stderr",
     "output_type": "stream",
     "text": [
      "mupdf: cannot open G:\\ESA_downloads\\Demo_Alignment_Sheets\\Data_Files_v2\\PDFs\\444874.pdf: No such file or directory\n"
     ]
    },
    {
     "name": "stdout",
     "output_type": "stream",
     "text": [
      "444874\n"
     ]
    },
    {
     "name": "stderr",
     "output_type": "stream",
     "text": [
      "mupdf: cannot open G:\\ESA_downloads\\Demo_Alignment_Sheets\\Data_Files_v2\\PDFs\\444874.pdf: No such file or directory\n",
      "mupdf: cannot open G:\\ESA_downloads\\Demo_Alignment_Sheets\\Data_Files_v2\\PDFs\\444874.pdf: No such file or directory\n"
     ]
    },
    {
     "name": "stdout",
     "output_type": "stream",
     "text": [
      "444874\n",
      "444874\n"
     ]
    },
    {
     "name": "stderr",
     "output_type": "stream",
     "text": [
      "mupdf: cannot open G:\\ESA_downloads\\Demo_Alignment_Sheets\\Data_Files_v2\\PDFs\\444874.pdf: No such file or directory\n"
     ]
    },
    {
     "name": "stdout",
     "output_type": "stream",
     "text": [
      "444874\n"
     ]
    },
    {
     "name": "stderr",
     "output_type": "stream",
     "text": [
      "mupdf: cannot open G:\\ESA_downloads\\Demo_Alignment_Sheets\\Data_Files_v2\\PDFs\\444874.pdf: No such file or directory\n"
     ]
    },
    {
     "name": "stdout",
     "output_type": "stream",
     "text": [
      "444874\n"
     ]
    },
    {
     "name": "stderr",
     "output_type": "stream",
     "text": [
      "mupdf: cannot open G:\\ESA_downloads\\Demo_Alignment_Sheets\\Data_Files_v2\\PDFs\\444874.pdf: No such file or directory\n"
     ]
    },
    {
     "name": "stdout",
     "output_type": "stream",
     "text": [
      "444874\n"
     ]
    },
    {
     "name": "stderr",
     "output_type": "stream",
     "text": [
      "mupdf: cannot open G:\\ESA_downloads\\Demo_Alignment_Sheets\\Data_Files_v2\\PDFs\\444874.pdf: No such file or directory\n"
     ]
    },
    {
     "name": "stdout",
     "output_type": "stream",
     "text": [
      "444874\n"
     ]
    },
    {
     "name": "stderr",
     "output_type": "stream",
     "text": [
      "mupdf: cannot open G:\\ESA_downloads\\Demo_Alignment_Sheets\\Data_Files_v2\\PDFs\\444874.pdf: No such file or directory\n"
     ]
    },
    {
     "name": "stdout",
     "output_type": "stream",
     "text": [
      "444874\n"
     ]
    },
    {
     "name": "stderr",
     "output_type": "stream",
     "text": [
      "mupdf: cannot open G:\\ESA_downloads\\Demo_Alignment_Sheets\\Data_Files_v2\\PDFs\\444874.pdf: No such file or directory\n"
     ]
    },
    {
     "name": "stdout",
     "output_type": "stream",
     "text": [
      "444874\n"
     ]
    },
    {
     "name": "stderr",
     "output_type": "stream",
     "text": [
      "mupdf: cannot open G:\\ESA_downloads\\Demo_Alignment_Sheets\\Data_Files_v2\\PDFs\\444874.pdf: No such file or directory\n",
      "mupdf: cannot open G:\\ESA_downloads\\Demo_Alignment_Sheets\\Data_Files_v2\\PDFs\\444874.pdf: No such file or directory\n"
     ]
    },
    {
     "name": "stdout",
     "output_type": "stream",
     "text": [
      "444874\n"
     ]
    },
    {
     "name": "stderr",
     "output_type": "stream",
     "text": [
      "mupdf: invalid page object\n",
      "mupdf: invalid page object\n",
      "mupdf: cannot open G:\\ESA_downloads\\Demo_Alignment_Sheets\\Data_Files_v2\\PDFs\\444877.pdf: No such file or directory\n"
     ]
    },
    {
     "name": "stdout",
     "output_type": "stream",
     "text": [
      "444874\n",
      "444877\n"
     ]
    },
    {
     "name": "stderr",
     "output_type": "stream",
     "text": [
      "mupdf: cannot open G:\\ESA_downloads\\Demo_Alignment_Sheets\\Data_Files_v2\\PDFs\\444877.pdf: No such file or directory\n"
     ]
    },
    {
     "name": "stdout",
     "output_type": "stream",
     "text": [
      "444877\n"
     ]
    },
    {
     "name": "stderr",
     "output_type": "stream",
     "text": [
      "mupdf: cannot open G:\\ESA_downloads\\Demo_Alignment_Sheets\\Data_Files_v2\\PDFs\\444877.pdf: No such file or directory\n"
     ]
    },
    {
     "name": "stdout",
     "output_type": "stream",
     "text": [
      "444877\n"
     ]
    },
    {
     "name": "stderr",
     "output_type": "stream",
     "text": [
      "mupdf: cannot open G:\\ESA_downloads\\Demo_Alignment_Sheets\\Data_Files_v2\\PDFs\\444877.pdf: No such file or directory\n"
     ]
    },
    {
     "name": "stdout",
     "output_type": "stream",
     "text": [
      "444877\n"
     ]
    },
    {
     "name": "stderr",
     "output_type": "stream",
     "text": [
      "mupdf: cannot open G:\\ESA_downloads\\Demo_Alignment_Sheets\\Data_Files_v2\\PDFs\\444877.pdf: No such file or directory\n"
     ]
    },
    {
     "name": "stdout",
     "output_type": "stream",
     "text": [
      "444877\n"
     ]
    },
    {
     "name": "stderr",
     "output_type": "stream",
     "text": [
      "mupdf: cannot open G:\\ESA_downloads\\Demo_Alignment_Sheets\\Data_Files_v2\\PDFs\\444877.pdf: No such file or directory\n"
     ]
    },
    {
     "name": "stdout",
     "output_type": "stream",
     "text": [
      "444877\n"
     ]
    },
    {
     "name": "stderr",
     "output_type": "stream",
     "text": [
      "mupdf: cannot open G:\\ESA_downloads\\Demo_Alignment_Sheets\\Data_Files_v2\\PDFs\\444877.pdf: No such file or directory\n"
     ]
    },
    {
     "name": "stdout",
     "output_type": "stream",
     "text": [
      "444877\n"
     ]
    },
    {
     "name": "stderr",
     "output_type": "stream",
     "text": [
      "mupdf: cannot find page 3363 in page tree\n",
      "mupdf: cannot find page 3363 in page tree\n",
      "mupdf: cannot find page 3363 in page tree\n",
      "mupdf: cannot find page 3363 in page tree\n",
      "mupdf: cannot find page 3363 in page tree\n",
      "mupdf: cannot find page 3363 in page tree\n",
      "mupdf: cannot find page 3363 in page tree\n",
      "mupdf: cannot find page 3363 in page tree\n",
      "mupdf: cannot find page 3363 in page tree\n",
      "mupdf: cannot find page 3363 in page tree\n",
      "mupdf: cannot find page 3363 in page tree\n",
      "mupdf: cannot find page 3363 in page tree\n",
      "mupdf: cannot find page 3363 in page tree\n",
      "mupdf: cannot find page 3363 in page tree\n",
      "mupdf: cannot find page 3363 in page tree\n",
      "mupdf: cannot find page 3363 in page tree\n",
      "mupdf: cannot find page 3363 in page tree\n",
      "mupdf: cannot find page 3363 in page tree\n",
      "mupdf: cannot find page 3363 in page tree\n",
      "mupdf: cannot find page 3363 in page tree\n",
      "mupdf: cannot find page 3363 in page tree\n",
      "mupdf: cannot find page 3363 in page tree\n",
      "mupdf: cannot find page 3363 in page tree\n",
      "mupdf: cannot find page 3363 in page tree\n",
      "mupdf: cannot find page 3363 in page tree\n",
      "mupdf: cannot find page 3363 in page tree\n",
      "mupdf: cannot find page 3363 in page tree\n",
      "mupdf: cannot find page 3363 in page tree\n",
      "mupdf: cannot find page 3363 in page tree\n",
      "mupdf: cannot open G:\\ESA_downloads\\Demo_Alignment_Sheets\\Data_Files_v2\\PDFs\\444877.pdf: No such file or directory\n"
     ]
    },
    {
     "name": "stdout",
     "output_type": "stream",
     "text": [
      "444877\n"
     ]
    },
    {
     "name": "stderr",
     "output_type": "stream",
     "text": [
      "mupdf: cannot open G:\\ESA_downloads\\Demo_Alignment_Sheets\\Data_Files_v2\\PDFs\\444880.pdf: No such file or directory\n"
     ]
    },
    {
     "name": "stdout",
     "output_type": "stream",
     "text": [
      "444880\n"
     ]
    },
    {
     "name": "stderr",
     "output_type": "stream",
     "text": [
      "mupdf: cannot open G:\\ESA_downloads\\Demo_Alignment_Sheets\\Data_Files_v2\\PDFs\\444880.pdf: No such file or directory\n",
      "mupdf: cannot open G:\\ESA_downloads\\Demo_Alignment_Sheets\\Data_Files_v2\\PDFs\\444880.pdf: No such file or directory\n",
      "mupdf: cannot open G:\\ESA_downloads\\Demo_Alignment_Sheets\\Data_Files_v2\\PDFs\\444880.pdf: No such file or directory\n",
      "mupdf: cannot open G:\\ESA_downloads\\Demo_Alignment_Sheets\\Data_Files_v2\\PDFs\\444880.pdf: No such file or directory\n"
     ]
    },
    {
     "name": "stdout",
     "output_type": "stream",
     "text": [
      "444880\n",
      "444880\n",
      "444880\n",
      "444880\n"
     ]
    },
    {
     "name": "stderr",
     "output_type": "stream",
     "text": [
      "mupdf: cannot open G:\\ESA_downloads\\Demo_Alignment_Sheets\\Data_Files_v2\\PDFs\\444880.pdf: No such file or directory\n",
      "mupdf: cannot open G:\\ESA_downloads\\Demo_Alignment_Sheets\\Data_Files_v2\\PDFs\\444880.pdf: No such file or directory\n",
      "mupdf: cannot open G:\\ESA_downloads\\Demo_Alignment_Sheets\\Data_Files_v2\\PDFs\\444880.pdf: No such file or directory\n",
      "mupdf: cannot open G:\\ESA_downloads\\Demo_Alignment_Sheets\\Data_Files_v2\\PDFs\\444883.pdf: No such file or directory\n"
     ]
    },
    {
     "name": "stdout",
     "output_type": "stream",
     "text": [
      "444880\n",
      "444880\n",
      "444880\n",
      "444883\n"
     ]
    },
    {
     "name": "stderr",
     "output_type": "stream",
     "text": [
      "mupdf: cannot open G:\\ESA_downloads\\Demo_Alignment_Sheets\\Data_Files_v2\\PDFs\\444883.pdf: No such file or directory\n",
      "mupdf: cannot open G:\\ESA_downloads\\Demo_Alignment_Sheets\\Data_Files_v2\\PDFs\\444880.pdf: No such file or directory\n"
     ]
    },
    {
     "name": "stdout",
     "output_type": "stream",
     "text": [
      "444883\n",
      "444880\n"
     ]
    },
    {
     "name": "stderr",
     "output_type": "stream",
     "text": [
      "mupdf: cannot open G:\\ESA_downloads\\Demo_Alignment_Sheets\\Data_Files_v2\\PDFs\\444880.pdf: No such file or directory\n"
     ]
    },
    {
     "name": "stdout",
     "output_type": "stream",
     "text": [
      "444880\n"
     ]
    },
    {
     "name": "stderr",
     "output_type": "stream",
     "text": [
      "mupdf: cannot open G:\\ESA_downloads\\Demo_Alignment_Sheets\\Data_Files_v2\\PDFs\\444880.pdf: No such file or directory\n"
     ]
    },
    {
     "name": "stdout",
     "output_type": "stream",
     "text": [
      "444880\n"
     ]
    },
    {
     "name": "stderr",
     "output_type": "stream",
     "text": [
      "mupdf: cannot open G:\\ESA_downloads\\Demo_Alignment_Sheets\\Data_Files_v2\\PDFs\\444880.pdf: No such file or directory\n"
     ]
    },
    {
     "name": "stdout",
     "output_type": "stream",
     "text": [
      "444880\n"
     ]
    },
    {
     "name": "stderr",
     "output_type": "stream",
     "text": [
      "mupdf: cannot open G:\\ESA_downloads\\Demo_Alignment_Sheets\\Data_Files_v2\\PDFs\\444880.pdf: No such file or directory\n"
     ]
    },
    {
     "name": "stdout",
     "output_type": "stream",
     "text": [
      "444880\n"
     ]
    },
    {
     "name": "stderr",
     "output_type": "stream",
     "text": [
      "mupdf: cannot open G:\\ESA_downloads\\Demo_Alignment_Sheets\\Data_Files_v2\\PDFs\\444880.pdf: No such file or directory\n",
      "mupdf: cannot open G:\\ESA_downloads\\Demo_Alignment_Sheets\\Data_Files_v2\\PDFs\\444880.pdf: No such file or directory\n"
     ]
    },
    {
     "name": "stdout",
     "output_type": "stream",
     "text": [
      "444880\n",
      "444880\n"
     ]
    },
    {
     "name": "stderr",
     "output_type": "stream",
     "text": [
      "mupdf: cannot open G:\\ESA_downloads\\Demo_Alignment_Sheets\\Data_Files_v2\\PDFs\\444880.pdf: No such file or directory\n"
     ]
    },
    {
     "name": "stdout",
     "output_type": "stream",
     "text": [
      "444880\n"
     ]
    },
    {
     "name": "stderr",
     "output_type": "stream",
     "text": [
      "mupdf: cannot open G:\\ESA_downloads\\Demo_Alignment_Sheets\\Data_Files_v2\\PDFs\\444883.pdf: No such file or directory\n"
     ]
    },
    {
     "name": "stdout",
     "output_type": "stream",
     "text": [
      "444883\n"
     ]
    },
    {
     "name": "stderr",
     "output_type": "stream",
     "text": [
      "mupdf: cannot open G:\\ESA_downloads\\Demo_Alignment_Sheets\\Data_Files_v2\\PDFs\\444751.pdf: No such file or directory\n"
     ]
    },
    {
     "name": "stdout",
     "output_type": "stream",
     "text": [
      "444751\n"
     ]
    },
    {
     "name": "stderr",
     "output_type": "stream",
     "text": [
      "mupdf: cannot open G:\\ESA_downloads\\Demo_Alignment_Sheets\\Data_Files_v2\\PDFs\\444751.pdf: No such file or directory\n"
     ]
    },
    {
     "name": "stdout",
     "output_type": "stream",
     "text": [
      "444751\n"
     ]
    },
    {
     "name": "stderr",
     "output_type": "stream",
     "text": [
      "mupdf: cannot open G:\\ESA_downloads\\Demo_Alignment_Sheets\\Data_Files_v2\\PDFs\\444751.pdf: No such file or directory\n"
     ]
    },
    {
     "name": "stdout",
     "output_type": "stream",
     "text": [
      "444751\n"
     ]
    },
    {
     "name": "stderr",
     "output_type": "stream",
     "text": [
      "mupdf: invalid page object\n",
      "mupdf: invalid page object\n",
      "mupdf: invalid page object\n",
      "mupdf: invalid page object\n",
      "mupdf: cannot open G:\\ESA_downloads\\Demo_Alignment_Sheets\\Data_Files_v2\\PDFs\\444424.pdf: No such file or directory\n"
     ]
    },
    {
     "name": "stdout",
     "output_type": "stream",
     "text": [
      "444424\n"
     ]
    },
    {
     "name": "stderr",
     "output_type": "stream",
     "text": [
      "mupdf: invalid page object\n",
      "mupdf: invalid page object\n",
      "mupdf: invalid page object\n",
      "mupdf: invalid page object\n",
      "mupdf: invalid page object\n",
      "mupdf: invalid page object\n",
      "mupdf: cannot open G:\\ESA_downloads\\Demo_Alignment_Sheets\\Data_Files_v2\\PDFs\\444424.pdf: No such file or directory\n"
     ]
    },
    {
     "name": "stdout",
     "output_type": "stream",
     "text": [
      "444424\n"
     ]
    },
    {
     "name": "stderr",
     "output_type": "stream",
     "text": [
      "mupdf: cannot open G:\\ESA_downloads\\Demo_Alignment_Sheets\\Data_Files_v2\\PDFs\\444424.pdf: No such file or directory\n"
     ]
    },
    {
     "name": "stdout",
     "output_type": "stream",
     "text": [
      "444424\n"
     ]
    },
    {
     "name": "stderr",
     "output_type": "stream",
     "text": [
      "mupdf: cannot open G:\\ESA_downloads\\Demo_Alignment_Sheets\\Data_Files_v2\\PDFs\\444424.pdf: No such file or directory\n"
     ]
    },
    {
     "name": "stdout",
     "output_type": "stream",
     "text": [
      "444424\n"
     ]
    },
    {
     "name": "stderr",
     "output_type": "stream",
     "text": [
      "mupdf: invalid page object\n",
      "mupdf: invalid page object\n",
      "mupdf: invalid page object\n",
      "mupdf: invalid page object\n",
      "mupdf: invalid page object\n",
      "mupdf: invalid page object\n",
      "mupdf: invalid page object\n",
      "mupdf: invalid page object\n",
      "mupdf: invalid page object\n",
      "mupdf: cannot open G:\\ESA_downloads\\Demo_Alignment_Sheets\\Data_Files_v2\\PDFs\\444427.pdf: No such file or directory\n"
     ]
    },
    {
     "name": "stdout",
     "output_type": "stream",
     "text": [
      "444427\n"
     ]
    },
    {
     "name": "stderr",
     "output_type": "stream",
     "text": [
      "mupdf: invalid page object\n",
      "mupdf: cannot open G:\\ESA_downloads\\Demo_Alignment_Sheets\\Data_Files_v2\\PDFs\\444430.pdf: No such file or directory\n"
     ]
    },
    {
     "name": "stdout",
     "output_type": "stream",
     "text": [
      "444430\n"
     ]
    },
    {
     "name": "stderr",
     "output_type": "stream",
     "text": [
      "mupdf: invalid page object\n",
      "mupdf: invalid page object\n",
      "mupdf: cannot open G:\\ESA_downloads\\Demo_Alignment_Sheets\\Data_Files_v2\\PDFs\\444430.pdf: No such file or directory\n"
     ]
    },
    {
     "name": "stdout",
     "output_type": "stream",
     "text": [
      "444430\n"
     ]
    },
    {
     "name": "stderr",
     "output_type": "stream",
     "text": [
      "mupdf: cannot open G:\\ESA_downloads\\Demo_Alignment_Sheets\\Data_Files_v2\\PDFs\\444430.pdf: No such file or directory\n"
     ]
    },
    {
     "name": "stdout",
     "output_type": "stream",
     "text": [
      "444430\n"
     ]
    },
    {
     "name": "stderr",
     "output_type": "stream",
     "text": [
      "mupdf: cannot open G:\\ESA_downloads\\Demo_Alignment_Sheets\\Data_Files_v2\\PDFs\\444430.pdf: No such file or directory\n"
     ]
    },
    {
     "name": "stdout",
     "output_type": "stream",
     "text": [
      "444430\n"
     ]
    },
    {
     "name": "stderr",
     "output_type": "stream",
     "text": [
      "mupdf: cannot open G:\\ESA_downloads\\Demo_Alignment_Sheets\\Data_Files_v2\\PDFs\\444430.pdf: No such file or directory\n"
     ]
    },
    {
     "name": "stdout",
     "output_type": "stream",
     "text": [
      "444430\n"
     ]
    },
    {
     "name": "stderr",
     "output_type": "stream",
     "text": [
      "mupdf: cannot open G:\\ESA_downloads\\Demo_Alignment_Sheets\\Data_Files_v2\\PDFs\\444430.pdf: No such file or directory\n"
     ]
    },
    {
     "name": "stdout",
     "output_type": "stream",
     "text": [
      "444430\n"
     ]
    },
    {
     "name": "stderr",
     "output_type": "stream",
     "text": [
      "mupdf: cannot open G:\\ESA_downloads\\Demo_Alignment_Sheets\\Data_Files_v2\\PDFs\\444430.pdf: No such file or directory\n"
     ]
    },
    {
     "name": "stdout",
     "output_type": "stream",
     "text": [
      "444430\n"
     ]
    },
    {
     "name": "stderr",
     "output_type": "stream",
     "text": [
      "mupdf: cannot open G:\\ESA_downloads\\Demo_Alignment_Sheets\\Data_Files_v2\\PDFs\\444430.pdf: No such file or directory\n"
     ]
    },
    {
     "name": "stdout",
     "output_type": "stream",
     "text": [
      "444430\n"
     ]
    },
    {
     "name": "stderr",
     "output_type": "stream",
     "text": [
      "mupdf: cannot open G:\\ESA_downloads\\Demo_Alignment_Sheets\\Data_Files_v2\\PDFs\\444430.pdf: No such file or directory\n"
     ]
    },
    {
     "name": "stdout",
     "output_type": "stream",
     "text": [
      "444430\n"
     ]
    },
    {
     "name": "stderr",
     "output_type": "stream",
     "text": [
      "mupdf: cannot open G:\\ESA_downloads\\Demo_Alignment_Sheets\\Data_Files_v2\\PDFs\\444430.pdf: No such file or directory\n"
     ]
    },
    {
     "name": "stdout",
     "output_type": "stream",
     "text": [
      "444430\n"
     ]
    },
    {
     "name": "stderr",
     "output_type": "stream",
     "text": [
      "mupdf: cannot open G:\\ESA_downloads\\Demo_Alignment_Sheets\\Data_Files_v2\\PDFs\\444430.pdf: No such file or directory\n"
     ]
    },
    {
     "name": "stdout",
     "output_type": "stream",
     "text": [
      "444430\n"
     ]
    },
    {
     "name": "stderr",
     "output_type": "stream",
     "text": [
      "mupdf: cannot open G:\\ESA_downloads\\Demo_Alignment_Sheets\\Data_Files_v2\\PDFs\\444430.pdf: No such file or directory\n"
     ]
    },
    {
     "name": "stdout",
     "output_type": "stream",
     "text": [
      "444430\n"
     ]
    },
    {
     "name": "stderr",
     "output_type": "stream",
     "text": [
      "mupdf: cannot open G:\\ESA_downloads\\Demo_Alignment_Sheets\\Data_Files_v2\\PDFs\\444430.pdf: No such file or directory\n",
      "mupdf: cannot open G:\\ESA_downloads\\Demo_Alignment_Sheets\\Data_Files_v2\\PDFs\\444430.pdf: No such file or directory\n"
     ]
    },
    {
     "name": "stdout",
     "output_type": "stream",
     "text": [
      "444430\n",
      "444430\n"
     ]
    },
    {
     "name": "stderr",
     "output_type": "stream",
     "text": [
      "mupdf: cannot open G:\\ESA_downloads\\Demo_Alignment_Sheets\\Data_Files_v2\\PDFs\\444430.pdf: No such file or directory\n"
     ]
    },
    {
     "name": "stdout",
     "output_type": "stream",
     "text": [
      "444430\n"
     ]
    },
    {
     "name": "stderr",
     "output_type": "stream",
     "text": [
      "mupdf: cannot open G:\\ESA_downloads\\Demo_Alignment_Sheets\\Data_Files_v2\\PDFs\\444430.pdf: No such file or directory\n"
     ]
    },
    {
     "name": "stdout",
     "output_type": "stream",
     "text": [
      "444430\n"
     ]
    },
    {
     "name": "stderr",
     "output_type": "stream",
     "text": [
      "mupdf: cannot open G:\\ESA_downloads\\Demo_Alignment_Sheets\\Data_Files_v2\\PDFs\\444430.pdf: No such file or directory\n",
      "mupdf: cannot open G:\\ESA_downloads\\Demo_Alignment_Sheets\\Data_Files_v2\\PDFs\\444430.pdf: No such file or directory\n"
     ]
    },
    {
     "name": "stdout",
     "output_type": "stream",
     "text": [
      "444430\n",
      "444430\n"
     ]
    },
    {
     "name": "stderr",
     "output_type": "stream",
     "text": [
      "mupdf: cannot open G:\\ESA_downloads\\Demo_Alignment_Sheets\\Data_Files_v2\\PDFs\\444430.pdf: No such file or directory\n"
     ]
    },
    {
     "name": "stdout",
     "output_type": "stream",
     "text": [
      "444430\n"
     ]
    },
    {
     "name": "stderr",
     "output_type": "stream",
     "text": [
      "mupdf: cannot open G:\\ESA_downloads\\Demo_Alignment_Sheets\\Data_Files_v2\\PDFs\\444430.pdf: No such file or directory\n"
     ]
    },
    {
     "name": "stdout",
     "output_type": "stream",
     "text": [
      "444430\n"
     ]
    },
    {
     "name": "stderr",
     "output_type": "stream",
     "text": [
      "mupdf: cannot open G:\\ESA_downloads\\Demo_Alignment_Sheets\\Data_Files_v2\\PDFs\\444430.pdf: No such file or directory\n",
      "mupdf: cannot open G:\\ESA_downloads\\Demo_Alignment_Sheets\\Data_Files_v2\\PDFs\\444430.pdf: No such file or directory\n"
     ]
    },
    {
     "name": "stdout",
     "output_type": "stream",
     "text": [
      "444430\n"
     ]
    },
    {
     "name": "stderr",
     "output_type": "stream",
     "text": [
      "mupdf: cannot open G:\\ESA_downloads\\Demo_Alignment_Sheets\\Data_Files_v2\\PDFs\\444430.pdf: No such file or directory\n"
     ]
    },
    {
     "name": "stdout",
     "output_type": "stream",
     "text": [
      "444430\n",
      "444430\n"
     ]
    },
    {
     "name": "stderr",
     "output_type": "stream",
     "text": [
      "mupdf: cannot open G:\\ESA_downloads\\Demo_Alignment_Sheets\\Data_Files_v2\\PDFs\\444430.pdf: No such file or directory\n"
     ]
    },
    {
     "name": "stdout",
     "output_type": "stream",
     "text": [
      "444430\n"
     ]
    },
    {
     "name": "stderr",
     "output_type": "stream",
     "text": [
      "mupdf: cannot open G:\\ESA_downloads\\Demo_Alignment_Sheets\\Data_Files_v2\\PDFs\\444430.pdf: No such file or directory\n"
     ]
    },
    {
     "name": "stdout",
     "output_type": "stream",
     "text": [
      "444430\n"
     ]
    },
    {
     "name": "stderr",
     "output_type": "stream",
     "text": [
      "mupdf: cannot open G:\\ESA_downloads\\Demo_Alignment_Sheets\\Data_Files_v2\\PDFs\\444430.pdf: No such file or directory\n",
      "mupdf: cannot open G:\\ESA_downloads\\Demo_Alignment_Sheets\\Data_Files_v2\\PDFs\\444430.pdf: No such file or directory\n"
     ]
    },
    {
     "name": "stdout",
     "output_type": "stream",
     "text": [
      "444430\n",
      "444430\n"
     ]
    },
    {
     "name": "stderr",
     "output_type": "stream",
     "text": [
      "mupdf: cannot open G:\\ESA_downloads\\Demo_Alignment_Sheets\\Data_Files_v2\\PDFs\\444430.pdf: No such file or directory\n",
      "mupdf: cannot open G:\\ESA_downloads\\Demo_Alignment_Sheets\\Data_Files_v2\\PDFs\\444430.pdf: No such file or directory\n"
     ]
    },
    {
     "name": "stdout",
     "output_type": "stream",
     "text": [
      "444430\n",
      "444430\n"
     ]
    },
    {
     "name": "stderr",
     "output_type": "stream",
     "text": [
      "mupdf: cannot open G:\\ESA_downloads\\Demo_Alignment_Sheets\\Data_Files_v2\\PDFs\\444430.pdf: No such file or directory\n",
      "mupdf: cannot open G:\\ESA_downloads\\Demo_Alignment_Sheets\\Data_Files_v2\\PDFs\\444430.pdf: No such file or directory\n"
     ]
    },
    {
     "name": "stdout",
     "output_type": "stream",
     "text": [
      "444430\n",
      "444430\n"
     ]
    },
    {
     "name": "stderr",
     "output_type": "stream",
     "text": [
      "mupdf: cannot open G:\\ESA_downloads\\Demo_Alignment_Sheets\\Data_Files_v2\\PDFs\\444430.pdf: No such file or directory\n",
      "mupdf: cannot open G:\\ESA_downloads\\Demo_Alignment_Sheets\\Data_Files_v2\\PDFs\\444430.pdf: No such file or directory\n"
     ]
    },
    {
     "name": "stdout",
     "output_type": "stream",
     "text": [
      "444430\n",
      "444430\n"
     ]
    },
    {
     "name": "stderr",
     "output_type": "stream",
     "text": [
      "mupdf: cannot open G:\\ESA_downloads\\Demo_Alignment_Sheets\\Data_Files_v2\\PDFs\\444430.pdf: No such file or directory\n"
     ]
    },
    {
     "name": "stdout",
     "output_type": "stream",
     "text": [
      "444430\n"
     ]
    },
    {
     "name": "stderr",
     "output_type": "stream",
     "text": [
      "mupdf: cannot open G:\\ESA_downloads\\Demo_Alignment_Sheets\\Data_Files_v2\\PDFs\\444430.pdf: No such file or directory\n"
     ]
    },
    {
     "name": "stdout",
     "output_type": "stream",
     "text": [
      "444430\n"
     ]
    },
    {
     "name": "stderr",
     "output_type": "stream",
     "text": [
      "mupdf: cannot open G:\\ESA_downloads\\Demo_Alignment_Sheets\\Data_Files_v2\\PDFs\\444430.pdf: No such file or directory\n",
      "mupdf: cannot open G:\\ESA_downloads\\Demo_Alignment_Sheets\\Data_Files_v2\\PDFs\\444430.pdf: No such file or directory\n",
      "mupdf: cannot open G:\\ESA_downloads\\Demo_Alignment_Sheets\\Data_Files_v2\\PDFs\\444430.pdf: No such file or directory\n"
     ]
    },
    {
     "name": "stdout",
     "output_type": "stream",
     "text": [
      "444430\n",
      "444430\n",
      "444430\n"
     ]
    },
    {
     "name": "stderr",
     "output_type": "stream",
     "text": [
      "mupdf: cannot open G:\\ESA_downloads\\Demo_Alignment_Sheets\\Data_Files_v2\\PDFs\\444430.pdf: No such file or directory\n",
      "mupdf: cannot open G:\\ESA_downloads\\Demo_Alignment_Sheets\\Data_Files_v2\\PDFs\\444430.pdf: No such file or directory\n"
     ]
    },
    {
     "name": "stdout",
     "output_type": "stream",
     "text": [
      "444430\n",
      "444430\n"
     ]
    },
    {
     "name": "stderr",
     "output_type": "stream",
     "text": [
      "mupdf: cannot open G:\\ESA_downloads\\Demo_Alignment_Sheets\\Data_Files_v2\\PDFs\\444430.pdf: No such file or directory\n",
      "mupdf: cannot open G:\\ESA_downloads\\Demo_Alignment_Sheets\\Data_Files_v2\\PDFs\\444430.pdf: No such file or directory\n",
      "mupdf: cannot open G:\\ESA_downloads\\Demo_Alignment_Sheets\\Data_Files_v2\\PDFs\\444430.pdf: No such file or directory\n"
     ]
    },
    {
     "name": "stdout",
     "output_type": "stream",
     "text": [
      "444430\n",
      "444430\n",
      "444430\n"
     ]
    },
    {
     "name": "stderr",
     "output_type": "stream",
     "text": [
      "mupdf: cannot open G:\\ESA_downloads\\Demo_Alignment_Sheets\\Data_Files_v2\\PDFs\\444430.pdf: No such file or directory\n",
      "mupdf: cannot open G:\\ESA_downloads\\Demo_Alignment_Sheets\\Data_Files_v2\\PDFs\\444430.pdf: No such file or directory\n"
     ]
    },
    {
     "name": "stdout",
     "output_type": "stream",
     "text": [
      "444430\n",
      "444430\n"
     ]
    },
    {
     "name": "stderr",
     "output_type": "stream",
     "text": [
      "mupdf: cannot open G:\\ESA_downloads\\Demo_Alignment_Sheets\\Data_Files_v2\\PDFs\\444430.pdf: No such file or directory\n",
      "mupdf: cannot open G:\\ESA_downloads\\Demo_Alignment_Sheets\\Data_Files_v2\\PDFs\\444430.pdf: No such file or directory\n",
      "mupdf: cannot open G:\\ESA_downloads\\Demo_Alignment_Sheets\\Data_Files_v2\\PDFs\\444430.pdf: No such file or directory\n"
     ]
    },
    {
     "name": "stdout",
     "output_type": "stream",
     "text": [
      "444430\n",
      "444430\n"
     ]
    },
    {
     "name": "stderr",
     "output_type": "stream",
     "text": [
      "mupdf: cannot open G:\\ESA_downloads\\Demo_Alignment_Sheets\\Data_Files_v2\\PDFs\\444430.pdf: No such file or directory\n",
      "mupdf: cannot open G:\\ESA_downloads\\Demo_Alignment_Sheets\\Data_Files_v2\\PDFs\\444430.pdf: No such file or directory\n"
     ]
    },
    {
     "name": "stdout",
     "output_type": "stream",
     "text": [
      "444430\n",
      "444430\n",
      "444430\n",
      "444430\n"
     ]
    },
    {
     "name": "stderr",
     "output_type": "stream",
     "text": [
      "mupdf: cannot open G:\\ESA_downloads\\Demo_Alignment_Sheets\\Data_Files_v2\\PDFs\\444430.pdf: No such file or directory\n",
      "mupdf: cannot open G:\\ESA_downloads\\Demo_Alignment_Sheets\\Data_Files_v2\\PDFs\\444430.pdf: No such file or directory\n"
     ]
    },
    {
     "name": "stdout",
     "output_type": "stream",
     "text": [
      "444430\n"
     ]
    },
    {
     "name": "stderr",
     "output_type": "stream",
     "text": [
      "mupdf: cannot open G:\\ESA_downloads\\Demo_Alignment_Sheets\\Data_Files_v2\\PDFs\\444430.pdf: No such file or directory\n"
     ]
    },
    {
     "name": "stdout",
     "output_type": "stream",
     "text": [
      "444430\n"
     ]
    },
    {
     "name": "stderr",
     "output_type": "stream",
     "text": [
      "mupdf: cannot open G:\\ESA_downloads\\Demo_Alignment_Sheets\\Data_Files_v2\\PDFs\\444430.pdf: No such file or directory\n"
     ]
    },
    {
     "name": "stdout",
     "output_type": "stream",
     "text": [
      "444430\n"
     ]
    },
    {
     "name": "stderr",
     "output_type": "stream",
     "text": [
      "mupdf: cannot open G:\\ESA_downloads\\Demo_Alignment_Sheets\\Data_Files_v2\\PDFs\\444430.pdf: No such file or directory\n"
     ]
    },
    {
     "name": "stdout",
     "output_type": "stream",
     "text": [
      "444430\n"
     ]
    },
    {
     "name": "stderr",
     "output_type": "stream",
     "text": [
      "mupdf: cannot open G:\\ESA_downloads\\Demo_Alignment_Sheets\\Data_Files_v2\\PDFs\\444433.pdf: No such file or directory\n",
      "mupdf: cannot open G:\\ESA_downloads\\Demo_Alignment_Sheets\\Data_Files_v2\\PDFs\\444433.pdf: No such file or directory\n",
      "mupdf: cannot open G:\\ESA_downloads\\Demo_Alignment_Sheets\\Data_Files_v2\\PDFs\\444433.pdf: No such file or directory\n",
      "mupdf: cannot open G:\\ESA_downloads\\Demo_Alignment_Sheets\\Data_Files_v2\\PDFs\\444433.pdf: No such file or directory\n",
      "mupdf: cannot open G:\\ESA_downloads\\Demo_Alignment_Sheets\\Data_Files_v2\\PDFs\\444433.pdf: No such file or directory\n",
      "mupdf: cannot open G:\\ESA_downloads\\Demo_Alignment_Sheets\\Data_Files_v2\\PDFs\\444433.pdf: No such file or directory\n",
      "mupdf: cannot open G:\\ESA_downloads\\Demo_Alignment_Sheets\\Data_Files_v2\\PDFs\\444433.pdf: No such file or directory\n",
      "mupdf: cannot open G:\\ESA_downloads\\Demo_Alignment_Sheets\\Data_Files_v2\\PDFs\\444433.pdf: No such file or directory\n",
      "mupdf: cannot open G:\\ESA_downloads\\Demo_Alignment_Sheets\\Data_Files_v2\\PDFs\\444433.pdf: No such file or directory\n",
      "mupdf: cannot open G:\\ESA_downloads\\Demo_Alignment_Sheets\\Data_Files_v2\\PDFs\\444433.pdf: No such file or directory\n",
      "mupdf: cannot open G:\\ESA_downloads\\Demo_Alignment_Sheets\\Data_Files_v2\\PDFs\\444433.pdf: No such file or directory\n",
      "mupdf: cannot open G:\\ESA_downloads\\Demo_Alignment_Sheets\\Data_Files_v2\\PDFs\\444433.pdf: No such file or directory\n",
      "mupdf: cannot open G:\\ESA_downloads\\Demo_Alignment_Sheets\\Data_Files_v2\\PDFs\\444433.pdf: No such file or directory\n",
      "mupdf: cannot open G:\\ESA_downloads\\Demo_Alignment_Sheets\\Data_Files_v2\\PDFs\\444433.pdf: No such file or directory\n",
      "mupdf: cannot open G:\\ESA_downloads\\Demo_Alignment_Sheets\\Data_Files_v2\\PDFs\\444433.pdf: No such file or directory\n",
      "mupdf: cannot open G:\\ESA_downloads\\Demo_Alignment_Sheets\\Data_Files_v2\\PDFs\\444433.pdf: No such file or directory\n",
      "mupdf: cannot open G:\\ESA_downloads\\Demo_Alignment_Sheets\\Data_Files_v2\\PDFs\\444433.pdf: No such file or directory\n",
      "mupdf: cannot open G:\\ESA_downloads\\Demo_Alignment_Sheets\\Data_Files_v2\\PDFs\\444433.pdf: No such file or directory\n",
      "mupdf: cannot open G:\\ESA_downloads\\Demo_Alignment_Sheets\\Data_Files_v2\\PDFs\\444433.pdf: No such file or directory\n",
      "mupdf: cannot open G:\\ESA_downloads\\Demo_Alignment_Sheets\\Data_Files_v2\\PDFs\\444433.pdf: No such file or directory\n",
      "mupdf: cannot open G:\\ESA_downloads\\Demo_Alignment_Sheets\\Data_Files_v2\\PDFs\\444433.pdf: No such file or directory\n",
      "mupdf: cannot open G:\\ESA_downloads\\Demo_Alignment_Sheets\\Data_Files_v2\\PDFs\\444433.pdf: No such file or directory\n",
      "mupdf: cannot open G:\\ESA_downloads\\Demo_Alignment_Sheets\\Data_Files_v2\\PDFs\\444433.pdf: No such file or directory\n",
      "mupdf: cannot open G:\\ESA_downloads\\Demo_Alignment_Sheets\\Data_Files_v2\\PDFs\\444433.pdf: No such file or directory\n",
      "mupdf: cannot open G:\\ESA_downloads\\Demo_Alignment_Sheets\\Data_Files_v2\\PDFs\\444433.pdf: No such file or directory\n",
      "mupdf: cannot open G:\\ESA_downloads\\Demo_Alignment_Sheets\\Data_Files_v2\\PDFs\\444433.pdf: No such file or directory\n",
      "mupdf: cannot open G:\\ESA_downloads\\Demo_Alignment_Sheets\\Data_Files_v2\\PDFs\\444433.pdf: No such file or directory\n",
      "mupdf: cannot open G:\\ESA_downloads\\Demo_Alignment_Sheets\\Data_Files_v2\\PDFs\\444433.pdf: No such file or directory\n",
      "mupdf: cannot open G:\\ESA_downloads\\Demo_Alignment_Sheets\\Data_Files_v2\\PDFs\\444433.pdf: No such file or directory\n",
      "mupdf: cannot open G:\\ESA_downloads\\Demo_Alignment_Sheets\\Data_Files_v2\\PDFs\\444433.pdf: No such file or directory\n",
      "mupdf: cannot open G:\\ESA_downloads\\Demo_Alignment_Sheets\\Data_Files_v2\\PDFs\\444433.pdf: No such file or directory\n",
      "mupdf: cannot open G:\\ESA_downloads\\Demo_Alignment_Sheets\\Data_Files_v2\\PDFs\\444433.pdf: No such file or directory\n",
      "mupdf: cannot open G:\\ESA_downloads\\Demo_Alignment_Sheets\\Data_Files_v2\\PDFs\\444433.pdf: No such file or directory\n",
      "mupdf: cannot open G:\\ESA_downloads\\Demo_Alignment_Sheets\\Data_Files_v2\\PDFs\\444433.pdf: No such file or directory\n",
      "mupdf: cannot open G:\\ESA_downloads\\Demo_Alignment_Sheets\\Data_Files_v2\\PDFs\\444433.pdf: No such file or directory\n",
      "mupdf: cannot open G:\\ESA_downloads\\Demo_Alignment_Sheets\\Data_Files_v2\\PDFs\\444433.pdf: No such file or directory\n",
      "mupdf: cannot open G:\\ESA_downloads\\Demo_Alignment_Sheets\\Data_Files_v2\\PDFs\\444433.pdf: No such file or directory\n",
      "mupdf: cannot open G:\\ESA_downloads\\Demo_Alignment_Sheets\\Data_Files_v2\\PDFs\\444433.pdf: No such file or directory\n",
      "mupdf: cannot open G:\\ESA_downloads\\Demo_Alignment_Sheets\\Data_Files_v2\\PDFs\\444433.pdf: No such file or directory\n",
      "mupdf: cannot open G:\\ESA_downloads\\Demo_Alignment_Sheets\\Data_Files_v2\\PDFs\\444433.pdf: No such file or directory\n",
      "mupdf: cannot open G:\\ESA_downloads\\Demo_Alignment_Sheets\\Data_Files_v2\\PDFs\\444433.pdf: No such file or directory\n",
      "mupdf: cannot open G:\\ESA_downloads\\Demo_Alignment_Sheets\\Data_Files_v2\\PDFs\\444433.pdf: No such file or directory\n",
      "mupdf: cannot open G:\\ESA_downloads\\Demo_Alignment_Sheets\\Data_Files_v2\\PDFs\\444433.pdf: No such file or directory\n",
      "mupdf: cannot open G:\\ESA_downloads\\Demo_Alignment_Sheets\\Data_Files_v2\\PDFs\\444433.pdf: No such file or directory\n",
      "mupdf: cannot open G:\\ESA_downloads\\Demo_Alignment_Sheets\\Data_Files_v2\\PDFs\\444433.pdf: No such file or directory\n",
      "mupdf: cannot open G:\\ESA_downloads\\Demo_Alignment_Sheets\\Data_Files_v2\\PDFs\\444433.pdf: No such file or directory\n",
      "mupdf: cannot open G:\\ESA_downloads\\Demo_Alignment_Sheets\\Data_Files_v2\\PDFs\\444433.pdf: No such file or directory\n",
      "mupdf: cannot open G:\\ESA_downloads\\Demo_Alignment_Sheets\\Data_Files_v2\\PDFs\\444433.pdf: No such file or directory\n",
      "mupdf: cannot open G:\\ESA_downloads\\Demo_Alignment_Sheets\\Data_Files_v2\\PDFs\\444433.pdf: No such file or directory\n",
      "mupdf: cannot open G:\\ESA_downloads\\Demo_Alignment_Sheets\\Data_Files_v2\\PDFs\\444433.pdf: No such file or directory\n",
      "mupdf: cannot open G:\\ESA_downloads\\Demo_Alignment_Sheets\\Data_Files_v2\\PDFs\\444841.pdf: No such file or directory\n",
      "mupdf: cannot open G:\\ESA_downloads\\Demo_Alignment_Sheets\\Data_Files_v2\\PDFs\\444841.pdf: No such file or directory\n",
      "mupdf: cannot open G:\\ESA_downloads\\Demo_Alignment_Sheets\\Data_Files_v2\\PDFs\\444841.pdf: No such file or directory\n",
      "mupdf: cannot open G:\\ESA_downloads\\Demo_Alignment_Sheets\\Data_Files_v2\\PDFs\\444841.pdf: No such file or directory\n",
      "mupdf: cannot open G:\\ESA_downloads\\Demo_Alignment_Sheets\\Data_Files_v2\\PDFs\\444841.pdf: No such file or directory\n",
      "mupdf: cannot open G:\\ESA_downloads\\Demo_Alignment_Sheets\\Data_Files_v2\\PDFs\\444841.pdf: No such file or directory\n",
      "mupdf: cannot open G:\\ESA_downloads\\Demo_Alignment_Sheets\\Data_Files_v2\\PDFs\\444841.pdf: No such file or directory\n",
      "mupdf: cannot open G:\\ESA_downloads\\Demo_Alignment_Sheets\\Data_Files_v2\\PDFs\\444841.pdf: No such file or directory\n",
      "mupdf: cannot open G:\\ESA_downloads\\Demo_Alignment_Sheets\\Data_Files_v2\\PDFs\\444841.pdf: No such file or directory\n",
      "mupdf: cannot open G:\\ESA_downloads\\Demo_Alignment_Sheets\\Data_Files_v2\\PDFs\\444841.pdf: No such file or directory\n",
      "mupdf: cannot open G:\\ESA_downloads\\Demo_Alignment_Sheets\\Data_Files_v2\\PDFs\\444841.pdf: No such file or directory\n",
      "mupdf: cannot open G:\\ESA_downloads\\Demo_Alignment_Sheets\\Data_Files_v2\\PDFs\\444841.pdf: No such file or directory\n"
     ]
    },
    {
     "name": "stdout",
     "output_type": "stream",
     "text": [
      "444433\n",
      "444433\n",
      "444433\n",
      "444433\n",
      "444433\n",
      "444433\n",
      "444433\n",
      "444433\n",
      "444433\n",
      "444433\n",
      "444433\n",
      "444433\n",
      "444433\n",
      "444433\n",
      "444433\n",
      "444433\n",
      "444433\n",
      "444433\n",
      "444433\n",
      "444433\n",
      "444433\n",
      "444433\n",
      "444433\n",
      "444433\n",
      "444433\n",
      "444433\n",
      "444433\n",
      "444433\n",
      "444433\n",
      "444433\n",
      "444433\n",
      "444433\n",
      "444433\n",
      "444433\n",
      "444433\n",
      "444433\n",
      "444433\n",
      "444433\n",
      "444433\n",
      "444433\n",
      "444433\n",
      "444433\n",
      "444433\n",
      "444433\n",
      "444433\n",
      "444433\n",
      "444433\n",
      "444433\n",
      "444433\n",
      "444433\n",
      "444841\n",
      "444841\n",
      "444841\n",
      "444841\n",
      "444841\n",
      "444841\n",
      "444841\n",
      "444841\n",
      "444841\n",
      "444841\n",
      "444841\n",
      "444841\n"
     ]
    },
    {
     "name": "stderr",
     "output_type": "stream",
     "text": [
      "mupdf: cannot open G:\\ESA_downloads\\Demo_Alignment_Sheets\\Data_Files_v2\\PDFs\\444844.pdf: No such file or directory\n"
     ]
    },
    {
     "name": "stdout",
     "output_type": "stream",
     "text": [
      "444844\n"
     ]
    },
    {
     "name": "stderr",
     "output_type": "stream",
     "text": [
      "mupdf: invalid page object\n",
      "mupdf: invalid page object\n",
      "mupdf: cannot open G:\\ESA_downloads\\Demo_Alignment_Sheets\\Data_Files_v2\\PDFs\\444844.pdf: No such file or directory\n",
      "mupdf: cannot open G:\\ESA_downloads\\Demo_Alignment_Sheets\\Data_Files_v2\\PDFs\\444844.pdf: No such file or directory\n"
     ]
    },
    {
     "name": "stdout",
     "output_type": "stream",
     "text": [
      "444844\n",
      "444844\n"
     ]
    },
    {
     "name": "stderr",
     "output_type": "stream",
     "text": [
      "mupdf: cannot open G:\\ESA_downloads\\Demo_Alignment_Sheets\\Data_Files_v2\\PDFs\\444844.pdf: No such file or directory\n"
     ]
    },
    {
     "name": "stdout",
     "output_type": "stream",
     "text": [
      "444844\n"
     ]
    },
    {
     "name": "stderr",
     "output_type": "stream",
     "text": [
      "mupdf: cannot open G:\\ESA_downloads\\Demo_Alignment_Sheets\\Data_Files_v2\\PDFs\\444844.pdf: No such file or directory\n"
     ]
    },
    {
     "name": "stdout",
     "output_type": "stream",
     "text": [
      "444844\n"
     ]
    },
    {
     "name": "stderr",
     "output_type": "stream",
     "text": [
      "mupdf: cannot open G:\\ESA_downloads\\Demo_Alignment_Sheets\\Data_Files_v2\\PDFs\\444844.pdf: No such file or directory\n"
     ]
    },
    {
     "name": "stdout",
     "output_type": "stream",
     "text": [
      "444844\n"
     ]
    },
    {
     "name": "stderr",
     "output_type": "stream",
     "text": [
      "mupdf: cannot open G:\\ESA_downloads\\Demo_Alignment_Sheets\\Data_Files_v2\\PDFs\\444844.pdf: No such file or directory\n"
     ]
    },
    {
     "name": "stdout",
     "output_type": "stream",
     "text": [
      "444844\n"
     ]
    },
    {
     "name": "stderr",
     "output_type": "stream",
     "text": [
      "mupdf: cannot open G:\\ESA_downloads\\Demo_Alignment_Sheets\\Data_Files_v2\\PDFs\\444844.pdf: No such file or directory\n"
     ]
    },
    {
     "name": "stdout",
     "output_type": "stream",
     "text": [
      "444844\n"
     ]
    },
    {
     "name": "stderr",
     "output_type": "stream",
     "text": [
      "mupdf: cannot open G:\\ESA_downloads\\Demo_Alignment_Sheets\\Data_Files_v2\\PDFs\\444844.pdf: No such file or directory\n"
     ]
    },
    {
     "name": "stdout",
     "output_type": "stream",
     "text": [
      "444844\n"
     ]
    },
    {
     "name": "stderr",
     "output_type": "stream",
     "text": [
      "mupdf: cannot open G:\\ESA_downloads\\Demo_Alignment_Sheets\\Data_Files_v2\\PDFs\\444844.pdf: No such file or directory\n"
     ]
    },
    {
     "name": "stdout",
     "output_type": "stream",
     "text": [
      "444844\n"
     ]
    },
    {
     "name": "stderr",
     "output_type": "stream",
     "text": [
      "mupdf: invalid page object\n",
      "mupdf: invalid page object\n",
      "mupdf: cannot open G:\\ESA_downloads\\Demo_Alignment_Sheets\\Data_Files_v2\\PDFs\\444844.pdf: No such file or directory\n"
     ]
    },
    {
     "name": "stdout",
     "output_type": "stream",
     "text": [
      "444844\n"
     ]
    },
    {
     "name": "stderr",
     "output_type": "stream",
     "text": [
      "mupdf: cannot open G:\\ESA_downloads\\Demo_Alignment_Sheets\\Data_Files_v2\\PDFs\\444844.pdf: No such file or directory\n"
     ]
    },
    {
     "name": "stdout",
     "output_type": "stream",
     "text": [
      "444844\n"
     ]
    },
    {
     "name": "stderr",
     "output_type": "stream",
     "text": [
      "mupdf: cannot open G:\\ESA_downloads\\Demo_Alignment_Sheets\\Data_Files_v2\\PDFs\\444844.pdf: No such file or directory\n"
     ]
    },
    {
     "name": "stdout",
     "output_type": "stream",
     "text": [
      "444844\n"
     ]
    },
    {
     "name": "stderr",
     "output_type": "stream",
     "text": [
      "mupdf: cannot open G:\\ESA_downloads\\Demo_Alignment_Sheets\\Data_Files_v2\\PDFs\\444844.pdf: No such file or directory\n"
     ]
    },
    {
     "name": "stdout",
     "output_type": "stream",
     "text": [
      "444844\n"
     ]
    },
    {
     "name": "stderr",
     "output_type": "stream",
     "text": [
      "mupdf: cannot open G:\\ESA_downloads\\Demo_Alignment_Sheets\\Data_Files_v2\\PDFs\\444844.pdf: No such file or directory\n"
     ]
    },
    {
     "name": "stdout",
     "output_type": "stream",
     "text": [
      "444844\n"
     ]
    },
    {
     "name": "stderr",
     "output_type": "stream",
     "text": [
      "mupdf: cannot open G:\\ESA_downloads\\Demo_Alignment_Sheets\\Data_Files_v2\\PDFs\\444844.pdf: No such file or directory\n"
     ]
    },
    {
     "name": "stdout",
     "output_type": "stream",
     "text": [
      "444844\n"
     ]
    },
    {
     "name": "stderr",
     "output_type": "stream",
     "text": [
      "mupdf: cannot open G:\\ESA_downloads\\Demo_Alignment_Sheets\\Data_Files_v2\\PDFs\\444844.pdf: No such file or directory\n"
     ]
    },
    {
     "name": "stdout",
     "output_type": "stream",
     "text": [
      "444844\n"
     ]
    },
    {
     "name": "stderr",
     "output_type": "stream",
     "text": [
      "mupdf: cannot open G:\\ESA_downloads\\Demo_Alignment_Sheets\\Data_Files_v2\\PDFs\\444850.pdf: No such file or directory\n",
      "mupdf: cannot open G:\\ESA_downloads\\Demo_Alignment_Sheets\\Data_Files_v2\\PDFs\\444757.pdf: No such file or directory\n"
     ]
    },
    {
     "name": "stdout",
     "output_type": "stream",
     "text": [
      "444850\n",
      "444757\n"
     ]
    },
    {
     "name": "stderr",
     "output_type": "stream",
     "text": [
      "mupdf: cannot open G:\\ESA_downloads\\Demo_Alignment_Sheets\\Data_Files_v2\\PDFs\\444850.pdf: No such file or directory\n"
     ]
    },
    {
     "name": "stdout",
     "output_type": "stream",
     "text": [
      "444850\n"
     ]
    },
    {
     "name": "stderr",
     "output_type": "stream",
     "text": [
      "mupdf: cannot open G:\\ESA_downloads\\Demo_Alignment_Sheets\\Data_Files_v2\\PDFs\\444850.pdf: No such file or directory\n"
     ]
    },
    {
     "name": "stdout",
     "output_type": "stream",
     "text": [
      "444850\n"
     ]
    },
    {
     "name": "stderr",
     "output_type": "stream",
     "text": [
      "mupdf: cannot open G:\\ESA_downloads\\Demo_Alignment_Sheets\\Data_Files_v2\\PDFs\\444850.pdf: No such file or directory\n"
     ]
    },
    {
     "name": "stdout",
     "output_type": "stream",
     "text": [
      "444850\n"
     ]
    },
    {
     "name": "stderr",
     "output_type": "stream",
     "text": [
      "mupdf: cannot open G:\\ESA_downloads\\Demo_Alignment_Sheets\\Data_Files_v2\\PDFs\\444850.pdf: No such file or directory\n"
     ]
    },
    {
     "name": "stdout",
     "output_type": "stream",
     "text": [
      "444850\n"
     ]
    },
    {
     "name": "stderr",
     "output_type": "stream",
     "text": [
      "mupdf: cannot open G:\\ESA_downloads\\Demo_Alignment_Sheets\\Data_Files_v2\\PDFs\\444850.pdf: No such file or directory\n"
     ]
    },
    {
     "name": "stdout",
     "output_type": "stream",
     "text": [
      "444850\n"
     ]
    },
    {
     "name": "stderr",
     "output_type": "stream",
     "text": [
      "mupdf: cannot open G:\\ESA_downloads\\Demo_Alignment_Sheets\\Data_Files_v2\\PDFs\\444850.pdf: No such file or directory\n"
     ]
    },
    {
     "name": "stdout",
     "output_type": "stream",
     "text": [
      "444850\n"
     ]
    },
    {
     "name": "stderr",
     "output_type": "stream",
     "text": [
      "mupdf: cannot open G:\\ESA_downloads\\Demo_Alignment_Sheets\\Data_Files_v2\\PDFs\\444850.pdf: No such file or directory\n"
     ]
    },
    {
     "name": "stdout",
     "output_type": "stream",
     "text": [
      "444850\n"
     ]
    },
    {
     "name": "stderr",
     "output_type": "stream",
     "text": [
      "mupdf: cannot open G:\\ESA_downloads\\Demo_Alignment_Sheets\\Data_Files_v2\\PDFs\\444850.pdf: No such file or directory\n"
     ]
    },
    {
     "name": "stdout",
     "output_type": "stream",
     "text": [
      "444850\n"
     ]
    },
    {
     "name": "stderr",
     "output_type": "stream",
     "text": [
      "mupdf: cannot open G:\\ESA_downloads\\Demo_Alignment_Sheets\\Data_Files_v2\\PDFs\\444850.pdf: No such file or directory\n"
     ]
    },
    {
     "name": "stdout",
     "output_type": "stream",
     "text": [
      "444850\n"
     ]
    },
    {
     "name": "stderr",
     "output_type": "stream",
     "text": [
      "mupdf: cannot open G:\\ESA_downloads\\Demo_Alignment_Sheets\\Data_Files_v2\\PDFs\\444850.pdf: No such file or directory\n"
     ]
    },
    {
     "name": "stdout",
     "output_type": "stream",
     "text": [
      "444850\n"
     ]
    },
    {
     "name": "stderr",
     "output_type": "stream",
     "text": [
      "mupdf: cannot open G:\\ESA_downloads\\Demo_Alignment_Sheets\\Data_Files_v2\\PDFs\\444850.pdf: No such file or directory\n"
     ]
    },
    {
     "name": "stdout",
     "output_type": "stream",
     "text": [
      "444850\n"
     ]
    },
    {
     "name": "stderr",
     "output_type": "stream",
     "text": [
      "mupdf: invalid page object\n",
      "mupdf: cannot open G:\\ESA_downloads\\Demo_Alignment_Sheets\\Data_Files_v2\\PDFs\\444850.pdf: No such file or directory\n"
     ]
    },
    {
     "name": "stdout",
     "output_type": "stream",
     "text": [
      "444850\n"
     ]
    },
    {
     "name": "stderr",
     "output_type": "stream",
     "text": [
      "mupdf: cannot open G:\\ESA_downloads\\Demo_Alignment_Sheets\\Data_Files_v2\\PDFs\\444850.pdf: No such file or directory\n"
     ]
    },
    {
     "name": "stdout",
     "output_type": "stream",
     "text": [
      "444850\n"
     ]
    },
    {
     "name": "stderr",
     "output_type": "stream",
     "text": [
      "mupdf: cannot open G:\\ESA_downloads\\Demo_Alignment_Sheets\\Data_Files_v2\\PDFs\\444850.pdf: No such file or directory\n"
     ]
    },
    {
     "name": "stdout",
     "output_type": "stream",
     "text": [
      "444850\n"
     ]
    },
    {
     "name": "stderr",
     "output_type": "stream",
     "text": [
      "mupdf: cannot open G:\\ESA_downloads\\Demo_Alignment_Sheets\\Data_Files_v2\\PDFs\\444850.pdf: No such file or directory\n"
     ]
    },
    {
     "name": "stdout",
     "output_type": "stream",
     "text": [
      "444850\n"
     ]
    },
    {
     "name": "stderr",
     "output_type": "stream",
     "text": [
      "mupdf: cannot open G:\\ESA_downloads\\Demo_Alignment_Sheets\\Data_Files_v2\\PDFs\\444850.pdf: No such file or directory\n"
     ]
    },
    {
     "name": "stdout",
     "output_type": "stream",
     "text": [
      "444850\n"
     ]
    },
    {
     "name": "stderr",
     "output_type": "stream",
     "text": [
      "mupdf: cannot open G:\\ESA_downloads\\Demo_Alignment_Sheets\\Data_Files_v2\\PDFs\\444850.pdf: No such file or directory\n"
     ]
    },
    {
     "name": "stdout",
     "output_type": "stream",
     "text": [
      "444850\n"
     ]
    },
    {
     "name": "stderr",
     "output_type": "stream",
     "text": [
      "mupdf: cannot open G:\\ESA_downloads\\Demo_Alignment_Sheets\\Data_Files_v2\\PDFs\\444850.pdf: No such file or directory\n"
     ]
    },
    {
     "name": "stdout",
     "output_type": "stream",
     "text": [
      "444850\n"
     ]
    },
    {
     "name": "stderr",
     "output_type": "stream",
     "text": [
      "mupdf: invalid page object\n",
      "mupdf: invalid page object\n",
      "mupdf: invalid page object\n",
      "mupdf: cannot open G:\\ESA_downloads\\Demo_Alignment_Sheets\\Data_Files_v2\\PDFs\\444850.pdf: No such file or directory\n"
     ]
    },
    {
     "name": "stdout",
     "output_type": "stream",
     "text": [
      "444850\n"
     ]
    },
    {
     "name": "stderr",
     "output_type": "stream",
     "text": [
      "mupdf: invalid page object\n",
      "mupdf: cannot open G:\\ESA_downloads\\Demo_Alignment_Sheets\\Data_Files_v2\\PDFs\\444850.pdf: No such file or directory\n"
     ]
    },
    {
     "name": "stdout",
     "output_type": "stream",
     "text": [
      "444850\n"
     ]
    },
    {
     "name": "stderr",
     "output_type": "stream",
     "text": [
      "mupdf: cannot open G:\\ESA_downloads\\Demo_Alignment_Sheets\\Data_Files_v2\\PDFs\\444850.pdf: No such file or directory\n"
     ]
    },
    {
     "name": "stdout",
     "output_type": "stream",
     "text": [
      "444850\n"
     ]
    },
    {
     "name": "stderr",
     "output_type": "stream",
     "text": [
      "mupdf: cannot open G:\\ESA_downloads\\Demo_Alignment_Sheets\\Data_Files_v2\\PDFs\\444850.pdf: No such file or directory\n"
     ]
    },
    {
     "name": "stdout",
     "output_type": "stream",
     "text": [
      "444850\n"
     ]
    },
    {
     "name": "stderr",
     "output_type": "stream",
     "text": [
      "mupdf: cannot open G:\\ESA_downloads\\Demo_Alignment_Sheets\\Data_Files_v2\\PDFs\\444850.pdf: No such file or directory\n"
     ]
    },
    {
     "name": "stdout",
     "output_type": "stream",
     "text": [
      "444850\n"
     ]
    },
    {
     "name": "stderr",
     "output_type": "stream",
     "text": [
      "mupdf: cannot open G:\\ESA_downloads\\Demo_Alignment_Sheets\\Data_Files_v2\\PDFs\\444850.pdf: No such file or directory\n"
     ]
    },
    {
     "name": "stdout",
     "output_type": "stream",
     "text": [
      "444850\n"
     ]
    },
    {
     "name": "stderr",
     "output_type": "stream",
     "text": [
      "mupdf: cannot open G:\\ESA_downloads\\Demo_Alignment_Sheets\\Data_Files_v2\\PDFs\\444853.pdf: No such file or directory\n",
      "mupdf: cannot open G:\\ESA_downloads\\Demo_Alignment_Sheets\\Data_Files_v2\\PDFs\\444853.pdf: No such file or directory\n",
      "mupdf: cannot open G:\\ESA_downloads\\Demo_Alignment_Sheets\\Data_Files_v2\\PDFs\\444853.pdf: No such file or directory\n",
      "mupdf: cannot open G:\\ESA_downloads\\Demo_Alignment_Sheets\\Data_Files_v2\\PDFs\\444853.pdf: No such file or directory\n",
      "mupdf: cannot open G:\\ESA_downloads\\Demo_Alignment_Sheets\\Data_Files_v2\\PDFs\\444853.pdf: No such file or directory\n",
      "mupdf: cannot open G:\\ESA_downloads\\Demo_Alignment_Sheets\\Data_Files_v2\\PDFs\\444853.pdf: No such file or directory\n",
      "mupdf: cannot open G:\\ESA_downloads\\Demo_Alignment_Sheets\\Data_Files_v2\\PDFs\\444853.pdf: No such file or directory\n"
     ]
    },
    {
     "name": "stdout",
     "output_type": "stream",
     "text": [
      "444853\n",
      "444853\n",
      "444853\n",
      "444853\n",
      "444853\n",
      "444853\n",
      "444853\n"
     ]
    },
    {
     "name": "stderr",
     "output_type": "stream",
     "text": [
      "mupdf: invalid page object\n",
      "mupdf: cannot open G:\\ESA_downloads\\Demo_Alignment_Sheets\\Data_Files_v2\\PDFs\\444856.pdf: No such file or directory\n"
     ]
    },
    {
     "name": "stdout",
     "output_type": "stream",
     "text": [
      "444856\n"
     ]
    },
    {
     "name": "stderr",
     "output_type": "stream",
     "text": [
      "mupdf: cannot open G:\\ESA_downloads\\Demo_Alignment_Sheets\\Data_Files_v2\\PDFs\\444757.pdf: No such file or directory\n"
     ]
    },
    {
     "name": "stdout",
     "output_type": "stream",
     "text": [
      "444757\n"
     ]
    },
    {
     "name": "stderr",
     "output_type": "stream",
     "text": [
      "mupdf: cannot open G:\\ESA_downloads\\Demo_Alignment_Sheets\\Data_Files_v2\\PDFs\\444856.pdf: No such file or directory\n"
     ]
    },
    {
     "name": "stdout",
     "output_type": "stream",
     "text": [
      "444856\n"
     ]
    },
    {
     "name": "stderr",
     "output_type": "stream",
     "text": [
      "mupdf: cannot open G:\\ESA_downloads\\Demo_Alignment_Sheets\\Data_Files_v2\\PDFs\\444856.pdf: No such file or directory\n"
     ]
    },
    {
     "name": "stdout",
     "output_type": "stream",
     "text": [
      "444856\n"
     ]
    },
    {
     "name": "stderr",
     "output_type": "stream",
     "text": [
      "mupdf: cannot open G:\\ESA_downloads\\Demo_Alignment_Sheets\\Data_Files_v2\\PDFs\\444856.pdf: No such file or directory\n"
     ]
    },
    {
     "name": "stdout",
     "output_type": "stream",
     "text": [
      "444856\n"
     ]
    },
    {
     "name": "stderr",
     "output_type": "stream",
     "text": [
      "mupdf: cannot open G:\\ESA_downloads\\Demo_Alignment_Sheets\\Data_Files_v2\\PDFs\\444856.pdf: No such file or directory\n"
     ]
    },
    {
     "name": "stdout",
     "output_type": "stream",
     "text": [
      "444856\n"
     ]
    },
    {
     "name": "stderr",
     "output_type": "stream",
     "text": [
      "mupdf: cannot open G:\\ESA_downloads\\Demo_Alignment_Sheets\\Data_Files_v2\\PDFs\\444856.pdf: No such file or directory\n"
     ]
    },
    {
     "name": "stdout",
     "output_type": "stream",
     "text": [
      "444856\n"
     ]
    },
    {
     "name": "stderr",
     "output_type": "stream",
     "text": [
      "mupdf: cannot open G:\\ESA_downloads\\Demo_Alignment_Sheets\\Data_Files_v2\\PDFs\\444856.pdf: No such file or directory\n"
     ]
    },
    {
     "name": "stdout",
     "output_type": "stream",
     "text": [
      "444856\n"
     ]
    },
    {
     "name": "stderr",
     "output_type": "stream",
     "text": [
      "mupdf: cannot open G:\\ESA_downloads\\Demo_Alignment_Sheets\\Data_Files_v2\\PDFs\\444856.pdf: No such file or directory\n"
     ]
    },
    {
     "name": "stdout",
     "output_type": "stream",
     "text": [
      "444856\n"
     ]
    },
    {
     "name": "stderr",
     "output_type": "stream",
     "text": [
      "mupdf: cannot open G:\\ESA_downloads\\Demo_Alignment_Sheets\\Data_Files_v2\\PDFs\\444856.pdf: No such file or directory\n",
      "mupdf: cannot open G:\\ESA_downloads\\Demo_Alignment_Sheets\\Data_Files_v2\\PDFs\\444856.pdf: No such file or directory\n"
     ]
    },
    {
     "name": "stdout",
     "output_type": "stream",
     "text": [
      "444856\n",
      "444856\n"
     ]
    },
    {
     "name": "stderr",
     "output_type": "stream",
     "text": [
      "mupdf: cannot open G:\\ESA_downloads\\Demo_Alignment_Sheets\\Data_Files_v2\\PDFs\\444856.pdf: No such file or directory\n"
     ]
    },
    {
     "name": "stdout",
     "output_type": "stream",
     "text": [
      "444856\n"
     ]
    },
    {
     "name": "stderr",
     "output_type": "stream",
     "text": [
      "mupdf: cannot open G:\\ESA_downloads\\Demo_Alignment_Sheets\\Data_Files_v2\\PDFs\\444856.pdf: No such file or directory\n"
     ]
    },
    {
     "name": "stdout",
     "output_type": "stream",
     "text": [
      "444856\n"
     ]
    },
    {
     "name": "stderr",
     "output_type": "stream",
     "text": [
      "mupdf: cannot open G:\\ESA_downloads\\Demo_Alignment_Sheets\\Data_Files_v2\\PDFs\\444757.pdf: No such file or directory\n",
      "mupdf: cannot open G:\\ESA_downloads\\Demo_Alignment_Sheets\\Data_Files_v2\\PDFs\\444856.pdf: No such file or directory\n"
     ]
    },
    {
     "name": "stdout",
     "output_type": "stream",
     "text": [
      "444757\n"
     ]
    },
    {
     "name": "stderr",
     "output_type": "stream",
     "text": [
      "mupdf: cannot open G:\\ESA_downloads\\Demo_Alignment_Sheets\\Data_Files_v2\\PDFs\\444856.pdf: No such file or directory\n"
     ]
    },
    {
     "name": "stdout",
     "output_type": "stream",
     "text": [
      "444856\n",
      "444856\n",
      "444856\n"
     ]
    },
    {
     "name": "stderr",
     "output_type": "stream",
     "text": [
      "mupdf: cannot open G:\\ESA_downloads\\Demo_Alignment_Sheets\\Data_Files_v2\\PDFs\\444856.pdf: No such file or directory\n",
      "mupdf: cannot open G:\\ESA_downloads\\Demo_Alignment_Sheets\\Data_Files_v2\\PDFs\\444856.pdf: No such file or directory\n"
     ]
    },
    {
     "name": "stdout",
     "output_type": "stream",
     "text": [
      "444856\n"
     ]
    },
    {
     "name": "stderr",
     "output_type": "stream",
     "text": [
      "mupdf: cannot open G:\\ESA_downloads\\Demo_Alignment_Sheets\\Data_Files_v2\\PDFs\\444856.pdf: No such file or directory\n",
      "mupdf: cannot open G:\\ESA_downloads\\Demo_Alignment_Sheets\\Data_Files_v2\\PDFs\\444856.pdf: No such file or directory\n"
     ]
    },
    {
     "name": "stdout",
     "output_type": "stream",
     "text": [
      "444856\n",
      "444856\n"
     ]
    },
    {
     "name": "stderr",
     "output_type": "stream",
     "text": [
      "mupdf: cannot open G:\\ESA_downloads\\Demo_Alignment_Sheets\\Data_Files_v2\\PDFs\\444856.pdf: No such file or directory\n",
      "mupdf: cannot open G:\\ESA_downloads\\Demo_Alignment_Sheets\\Data_Files_v2\\PDFs\\444856.pdf: No such file or directory\n",
      "mupdf: cannot open G:\\ESA_downloads\\Demo_Alignment_Sheets\\Data_Files_v2\\PDFs\\444856.pdf: No such file or directory\n"
     ]
    },
    {
     "name": "stdout",
     "output_type": "stream",
     "text": [
      "444856\n",
      "444856\n",
      "444856\n"
     ]
    },
    {
     "name": "stderr",
     "output_type": "stream",
     "text": [
      "mupdf: cannot open G:\\ESA_downloads\\Demo_Alignment_Sheets\\Data_Files_v2\\PDFs\\444856.pdf: No such file or directory\n",
      "mupdf: invalid page object\n"
     ]
    },
    {
     "name": "stdout",
     "output_type": "stream",
     "text": [
      "444856\n"
     ]
    },
    {
     "name": "stderr",
     "output_type": "stream",
     "text": [
      "mupdf: invalid page object\n",
      "mupdf: cannot open G:\\ESA_downloads\\Demo_Alignment_Sheets\\Data_Files_v2\\PDFs\\444757.pdf: No such file or directory\n",
      "mupdf: cannot open G:\\ESA_downloads\\Demo_Alignment_Sheets\\Data_Files_v2\\PDFs\\444856.pdf: No such file or directory\n"
     ]
    },
    {
     "name": "stdout",
     "output_type": "stream",
     "text": [
      "444757\n",
      "444856\n"
     ]
    },
    {
     "name": "stderr",
     "output_type": "stream",
     "text": [
      "mupdf: cannot open G:\\ESA_downloads\\Demo_Alignment_Sheets\\Data_Files_v2\\PDFs\\444856.pdf: No such file or directory\n",
      "mupdf: cannot open G:\\ESA_downloads\\Demo_Alignment_Sheets\\Data_Files_v2\\PDFs\\444856.pdf: No such file or directory\n"
     ]
    },
    {
     "name": "stdout",
     "output_type": "stream",
     "text": [
      "444856\n",
      "444856\n"
     ]
    },
    {
     "name": "stderr",
     "output_type": "stream",
     "text": [
      "mupdf: cannot open G:\\ESA_downloads\\Demo_Alignment_Sheets\\Data_Files_v2\\PDFs\\444856.pdf: No such file or directory\n",
      "mupdf: cannot open G:\\ESA_downloads\\Demo_Alignment_Sheets\\Data_Files_v2\\PDFs\\444856.pdf: No such file or directory\n"
     ]
    },
    {
     "name": "stdout",
     "output_type": "stream",
     "text": [
      "444856\n",
      "444856\n"
     ]
    },
    {
     "name": "stderr",
     "output_type": "stream",
     "text": [
      "mupdf: invalid page object\n",
      "mupdf: cannot open G:\\ESA_downloads\\Demo_Alignment_Sheets\\Data_Files_v2\\PDFs\\444856.pdf: No such file or directory\n"
     ]
    },
    {
     "name": "stdout",
     "output_type": "stream",
     "text": [
      "444856\n"
     ]
    },
    {
     "name": "stderr",
     "output_type": "stream",
     "text": [
      "mupdf: cannot open G:\\ESA_downloads\\Demo_Alignment_Sheets\\Data_Files_v2\\PDFs\\444856.pdf: No such file or directory\n"
     ]
    },
    {
     "name": "stdout",
     "output_type": "stream",
     "text": [
      "444856\n"
     ]
    },
    {
     "name": "stderr",
     "output_type": "stream",
     "text": [
      "mupdf: cannot open G:\\ESA_downloads\\Demo_Alignment_Sheets\\Data_Files_v2\\PDFs\\444856.pdf: No such file or directory\n"
     ]
    },
    {
     "name": "stdout",
     "output_type": "stream",
     "text": [
      "444856\n"
     ]
    },
    {
     "name": "stderr",
     "output_type": "stream",
     "text": [
      "mupdf: cannot open G:\\ESA_downloads\\Demo_Alignment_Sheets\\Data_Files_v2\\PDFs\\444856.pdf: No such file or directory\n"
     ]
    },
    {
     "name": "stdout",
     "output_type": "stream",
     "text": [
      "444856\n"
     ]
    },
    {
     "name": "stderr",
     "output_type": "stream",
     "text": [
      "mupdf: cannot open G:\\ESA_downloads\\Demo_Alignment_Sheets\\Data_Files_v2\\PDFs\\444856.pdf: No such file or directory\n"
     ]
    },
    {
     "name": "stdout",
     "output_type": "stream",
     "text": [
      "444856\n"
     ]
    },
    {
     "name": "stderr",
     "output_type": "stream",
     "text": [
      "mupdf: cannot open G:\\ESA_downloads\\Demo_Alignment_Sheets\\Data_Files_v2\\PDFs\\444856.pdf: No such file or directory\n"
     ]
    },
    {
     "name": "stdout",
     "output_type": "stream",
     "text": [
      "444856\n"
     ]
    },
    {
     "name": "stderr",
     "output_type": "stream",
     "text": [
      "mupdf: cannot open G:\\ESA_downloads\\Demo_Alignment_Sheets\\Data_Files_v2\\PDFs\\444856.pdf: No such file or directory\n",
      "mupdf: cannot open G:\\ESA_downloads\\Demo_Alignment_Sheets\\Data_Files_v2\\PDFs\\444856.pdf: No such file or directory\n",
      "mupdf: cannot open G:\\ESA_downloads\\Demo_Alignment_Sheets\\Data_Files_v2\\PDFs\\444856.pdf: No such file or directory\n",
      "mupdf: cannot open G:\\ESA_downloads\\Demo_Alignment_Sheets\\Data_Files_v2\\PDFs\\444856.pdf: No such file or directory\n",
      "mupdf: cannot open G:\\ESA_downloads\\Demo_Alignment_Sheets\\Data_Files_v2\\PDFs\\444856.pdf: No such file or directory\n"
     ]
    },
    {
     "name": "stdout",
     "output_type": "stream",
     "text": [
      "444856\n",
      "444856\n",
      "444856\n",
      "444856\n",
      "444856\n"
     ]
    },
    {
     "name": "stderr",
     "output_type": "stream",
     "text": [
      "mupdf: cannot open G:\\ESA_downloads\\Demo_Alignment_Sheets\\Data_Files_v2\\PDFs\\444859.pdf: No such file or directory\n"
     ]
    },
    {
     "name": "stdout",
     "output_type": "stream",
     "text": [
      "444859\n"
     ]
    },
    {
     "name": "stderr",
     "output_type": "stream",
     "text": [
      "mupdf: invalid page object\n",
      "mupdf: invalid page object\n",
      "mupdf: cannot open G:\\ESA_downloads\\Demo_Alignment_Sheets\\Data_Files_v2\\PDFs\\444859.pdf: No such file or directory\n"
     ]
    },
    {
     "name": "stdout",
     "output_type": "stream",
     "text": [
      "444859\n"
     ]
    },
    {
     "name": "stderr",
     "output_type": "stream",
     "text": [
      "mupdf: cannot open G:\\ESA_downloads\\Demo_Alignment_Sheets\\Data_Files_v2\\PDFs\\444859.pdf: No such file or directory\n"
     ]
    },
    {
     "name": "stdout",
     "output_type": "stream",
     "text": [
      "444859\n"
     ]
    },
    {
     "name": "stderr",
     "output_type": "stream",
     "text": [
      "mupdf: cannot open G:\\ESA_downloads\\Demo_Alignment_Sheets\\Data_Files_v2\\PDFs\\444859.pdf: No such file or directory\n"
     ]
    },
    {
     "name": "stdout",
     "output_type": "stream",
     "text": [
      "444859\n"
     ]
    },
    {
     "name": "stderr",
     "output_type": "stream",
     "text": [
      "mupdf: cannot open G:\\ESA_downloads\\Demo_Alignment_Sheets\\Data_Files_v2\\PDFs\\444859.pdf: No such file or directory\n",
      "mupdf: cannot open G:\\ESA_downloads\\Demo_Alignment_Sheets\\Data_Files_v2\\PDFs\\444859.pdf: No such file or directory\n"
     ]
    },
    {
     "name": "stdout",
     "output_type": "stream",
     "text": [
      "444859\n"
     ]
    },
    {
     "name": "stderr",
     "output_type": "stream",
     "text": [
      "mupdf: cannot open G:\\ESA_downloads\\Demo_Alignment_Sheets\\Data_Files_v2\\PDFs\\444859.pdf: No such file or directory\n"
     ]
    },
    {
     "name": "stdout",
     "output_type": "stream",
     "text": [
      "444859\n",
      "444859\n"
     ]
    },
    {
     "name": "stderr",
     "output_type": "stream",
     "text": [
      "mupdf: cannot open G:\\ESA_downloads\\Demo_Alignment_Sheets\\Data_Files_v2\\PDFs\\444859.pdf: No such file or directory\n"
     ]
    },
    {
     "name": "stdout",
     "output_type": "stream",
     "text": [
      "444859\n"
     ]
    },
    {
     "name": "stderr",
     "output_type": "stream",
     "text": [
      "mupdf: cannot open G:\\ESA_downloads\\Demo_Alignment_Sheets\\Data_Files_v2\\PDFs\\444859.pdf: No such file or directory\n"
     ]
    },
    {
     "name": "stdout",
     "output_type": "stream",
     "text": [
      "444859\n"
     ]
    },
    {
     "name": "stderr",
     "output_type": "stream",
     "text": [
      "mupdf: cannot open G:\\ESA_downloads\\Demo_Alignment_Sheets\\Data_Files_v2\\PDFs\\444859.pdf: No such file or directory\n"
     ]
    },
    {
     "name": "stdout",
     "output_type": "stream",
     "text": [
      "444859\n"
     ]
    },
    {
     "name": "stderr",
     "output_type": "stream",
     "text": [
      "mupdf: cannot open G:\\ESA_downloads\\Demo_Alignment_Sheets\\Data_Files_v2\\PDFs\\444859.pdf: No such file or directory\n"
     ]
    },
    {
     "name": "stdout",
     "output_type": "stream",
     "text": [
      "444859\n"
     ]
    },
    {
     "name": "stderr",
     "output_type": "stream",
     "text": [
      "mupdf: cannot open G:\\ESA_downloads\\Demo_Alignment_Sheets\\Data_Files_v2\\PDFs\\444859.pdf: No such file or directory\n"
     ]
    },
    {
     "name": "stdout",
     "output_type": "stream",
     "text": [
      "444859\n"
     ]
    },
    {
     "name": "stderr",
     "output_type": "stream",
     "text": [
      "mupdf: cannot open G:\\ESA_downloads\\Demo_Alignment_Sheets\\Data_Files_v2\\PDFs\\444859.pdf: No such file or directory\n",
      "mupdf: cannot open G:\\ESA_downloads\\Demo_Alignment_Sheets\\Data_Files_v2\\PDFs\\444859.pdf: No such file or directory\n"
     ]
    },
    {
     "name": "stdout",
     "output_type": "stream",
     "text": [
      "444859\n",
      "444859\n"
     ]
    },
    {
     "name": "stderr",
     "output_type": "stream",
     "text": [
      "mupdf: cannot open G:\\ESA_downloads\\Demo_Alignment_Sheets\\Data_Files_v2\\PDFs\\444859.pdf: No such file or directory\n",
      "mupdf: cannot open G:\\ESA_downloads\\Demo_Alignment_Sheets\\Data_Files_v2\\PDFs\\444859.pdf: No such file or directory\n"
     ]
    },
    {
     "name": "stdout",
     "output_type": "stream",
     "text": [
      "444859\n",
      "444859\n"
     ]
    },
    {
     "name": "stderr",
     "output_type": "stream",
     "text": [
      "mupdf: cannot open G:\\ESA_downloads\\Demo_Alignment_Sheets\\Data_Files_v2\\PDFs\\444859.pdf: No such file or directory\n",
      "mupdf: cannot open G:\\ESA_downloads\\Demo_Alignment_Sheets\\Data_Files_v2\\PDFs\\444859.pdf: No such file or directory\n"
     ]
    },
    {
     "name": "stdout",
     "output_type": "stream",
     "text": [
      "444859\n",
      "444859\n"
     ]
    },
    {
     "name": "stderr",
     "output_type": "stream",
     "text": [
      "mupdf: cannot open G:\\ESA_downloads\\Demo_Alignment_Sheets\\Data_Files_v2\\PDFs\\444859.pdf: No such file or directory\n",
      "mupdf: cannot open G:\\ESA_downloads\\Demo_Alignment_Sheets\\Data_Files_v2\\PDFs\\444859.pdf: No such file or directory\n",
      "mupdf: cannot open G:\\ESA_downloads\\Demo_Alignment_Sheets\\Data_Files_v2\\PDFs\\444859.pdf: No such file or directory\n"
     ]
    },
    {
     "name": "stdout",
     "output_type": "stream",
     "text": [
      "444859\n",
      "444859\n"
     ]
    },
    {
     "name": "stderr",
     "output_type": "stream",
     "text": [
      "mupdf: cannot open G:\\ESA_downloads\\Demo_Alignment_Sheets\\Data_Files_v2\\PDFs\\444859.pdf: No such file or directory\n"
     ]
    },
    {
     "name": "stdout",
     "output_type": "stream",
     "text": [
      "444859\n",
      "444859\n"
     ]
    },
    {
     "name": "stderr",
     "output_type": "stream",
     "text": [
      "mupdf: cannot open G:\\ESA_downloads\\Demo_Alignment_Sheets\\Data_Files_v2\\PDFs\\444859.pdf: No such file or directory\n"
     ]
    },
    {
     "name": "stdout",
     "output_type": "stream",
     "text": [
      "444859\n"
     ]
    },
    {
     "name": "stderr",
     "output_type": "stream",
     "text": [
      "mupdf: cannot open G:\\ESA_downloads\\Demo_Alignment_Sheets\\Data_Files_v2\\PDFs\\444859.pdf: No such file or directory\n"
     ]
    },
    {
     "name": "stdout",
     "output_type": "stream",
     "text": [
      "444859\n"
     ]
    },
    {
     "name": "stderr",
     "output_type": "stream",
     "text": [
      "mupdf: cannot open G:\\ESA_downloads\\Demo_Alignment_Sheets\\Data_Files_v2\\PDFs\\444859.pdf: No such file or directory\n"
     ]
    },
    {
     "name": "stdout",
     "output_type": "stream",
     "text": [
      "444859\n"
     ]
    },
    {
     "name": "stderr",
     "output_type": "stream",
     "text": [
      "mupdf: cannot open G:\\ESA_downloads\\Demo_Alignment_Sheets\\Data_Files_v2\\PDFs\\444859.pdf: No such file or directory\n"
     ]
    },
    {
     "name": "stdout",
     "output_type": "stream",
     "text": [
      "444859\n"
     ]
    },
    {
     "name": "stderr",
     "output_type": "stream",
     "text": [
      "mupdf: cannot open G:\\ESA_downloads\\Demo_Alignment_Sheets\\Data_Files_v2\\PDFs\\444859.pdf: No such file or directory\n"
     ]
    },
    {
     "name": "stdout",
     "output_type": "stream",
     "text": [
      "444859\n"
     ]
    },
    {
     "name": "stderr",
     "output_type": "stream",
     "text": [
      "mupdf: cannot open G:\\ESA_downloads\\Demo_Alignment_Sheets\\Data_Files_v2\\PDFs\\444859.pdf: No such file or directory\n"
     ]
    },
    {
     "name": "stdout",
     "output_type": "stream",
     "text": [
      "444859\n"
     ]
    },
    {
     "name": "stderr",
     "output_type": "stream",
     "text": [
      "mupdf: cannot open G:\\ESA_downloads\\Demo_Alignment_Sheets\\Data_Files_v2\\PDFs\\444859.pdf: No such file or directory\n"
     ]
    },
    {
     "name": "stdout",
     "output_type": "stream",
     "text": [
      "444859\n"
     ]
    },
    {
     "name": "stderr",
     "output_type": "stream",
     "text": [
      "mupdf: cannot open G:\\ESA_downloads\\Demo_Alignment_Sheets\\Data_Files_v2\\PDFs\\444877.pdf: No such file or directory\n"
     ]
    },
    {
     "name": "stdout",
     "output_type": "stream",
     "text": [
      "444877\n"
     ]
    },
    {
     "name": "stderr",
     "output_type": "stream",
     "text": [
      "mupdf: cannot open G:\\ESA_downloads\\Demo_Alignment_Sheets\\Data_Files_v2\\PDFs\\444433.pdf: No such file or directory\n"
     ]
    },
    {
     "name": "stdout",
     "output_type": "stream",
     "text": [
      "444433\n"
     ]
    }
   ],
   "source": [
    "thumbnail_location = []\n",
    "#index_file = index_file[9000:10500]\n",
    "pdfs_with_errors = set()\n",
    "for inx, row in index.iterrows():\n",
    "    dataID_value = row[\"PDF Download URL\"].split(\"/\")[-1]\n",
    "    pageno_value = row[\"PDF Page Number\"]\n",
    "    Data_ID.append(dataID_value)\n",
    "    try:\n",
    "        get_thumbnail(int(dataID_value), int(pageno_value), path)\n",
    "        thumbnail_location.append(\"thumbnails\\\\\"+ str(dataID_value) + \"_\" +str(pageno_value)+ \".jpg\")\n",
    "    except:\n",
    "        #print(dataID_value)\n",
    "        pdfs_with_errors.add(dataID_value)\n",
    "        thumbnail_location.append(\"\")\n",
    "    #print(\"thumbnails\\\\\"+ str(dataID_value) + \"_\" +str(pageno_value)+ \".jpg\")"
   ]
  },
  {
   "cell_type": "code",
   "execution_count": 30,
   "metadata": {},
   "outputs": [
    {
     "name": "stdout",
     "output_type": "stream",
     "text": [
      "{'444844', '444862', '444430', '444877', '444433', '444757', '444751', '444850', '444841', '444880', '444856', '444883', '444427', '444853', '444418', '444424', '444865', '444874', '444859'}\n",
      "19\n"
     ]
    }
   ],
   "source": [
    "print(pdfs_with_errors)\n",
    "print(len(pdfs_with_errors))"
   ]
  },
  {
   "cell_type": "code",
   "execution_count": 31,
   "metadata": {},
   "outputs": [],
   "source": [
    "#index_file = index_file.head(500)\n",
    "# index_file['Data ID'] = Data_ID\n",
    "index['Thumbnail Location'] = thumbnail_location\n",
    "#index_file['ID'] = ID\n",
    "#index_file.to_csv(path + \"Data_Files_v2\\\\book1_added.csv\")"
   ]
  },
  {
   "cell_type": "code",
   "execution_count": 32,
   "metadata": {},
   "outputs": [
    {
     "name": "stdout",
     "output_type": "stream",
     "text": [
      "Title\n",
      "Content Type\n",
      "Application Name\n",
      "Application Short Name\n",
      "Application Filing Date\n",
      "Company Name\n",
      "Commodity\n",
      "File Name\n",
      "ESA Folder URL\n",
      "Document Number\n",
      "Data ID\n",
      "PDF Download URL\n",
      "Application Type (NEB Act)\n",
      "Pipeline Location\n",
      "Hearing order\n",
      "Consultant Name\n",
      "Pipeline Status\n",
      "Regulatory Instrument(s)\n",
      "Application URL\n",
      "Decision URL\n",
      "ESA Section(s)\n",
      "ESA Section(s) Index\n",
      "ESA Section(s) Topics\n",
      "PDF Page Number\n",
      "PDF Page Count\n",
      "PDF Size\n",
      "PDF Outline\n",
      "Landscape, terrain, and weather\n",
      "Soil\n",
      "Plants\n",
      "Water\n",
      "Fish\n",
      "Wetlands\n",
      "Wildlife\n",
      "Species at Risk\n",
      "Greenhouse gas emissions\n",
      "Air emissions\n",
      "Noise\n",
      "Electricity and electromagnetism\n",
      "Proximity to people\n",
      "Archaeological, paleontological, historical, and culturally significant sites and resources\n",
      "Human access to boats and waterways\n",
      "Indigenous land, water, and air use\n",
      "Impact to social and cultural well-being\n",
      "Impact to human health and viewscapes\n",
      "Social, cultural, economic infrastructure and services\n",
      "Economic Offsets and Impact\n",
      "Environmental Obligations\n",
      "Treaty and Indigenous Rights\n",
      "Project Download Path\n",
      "Table Download Path\n",
      "Good Quality\n"
     ]
    }
   ],
   "source": [
    "col = []\n",
    "for columns in index_file:\n",
    "    col.append(columns)\n",
    "    print(columns)"
   ]
  },
  {
   "cell_type": "code",
   "execution_count": 17,
   "metadata": {},
   "outputs": [
    {
     "ename": "AttributeError",
     "evalue": "'int' object has no attribute 'sort_values'",
     "output_type": "error",
     "traceback": [
      "\u001b[1;31m---------------------------------------------------------------------------\u001b[0m",
      "\u001b[1;31mAttributeError\u001b[0m                            Traceback (most recent call last)",
      "\u001b[1;32m<ipython-input-17-1e9635dd4d21>\u001b[0m in \u001b[0;36m<module>\u001b[1;34m\u001b[0m\n\u001b[1;32m----> 1\u001b[1;33m \u001b[0mindex\u001b[0m \u001b[1;33m=\u001b[0m \u001b[0mindex\u001b[0m\u001b[1;33m.\u001b[0m\u001b[0msort_values\u001b[0m\u001b[1;33m(\u001b[0m\u001b[0mby\u001b[0m \u001b[1;33m=\u001b[0m \u001b[1;33m[\u001b[0m\u001b[1;34m'Data ID'\u001b[0m\u001b[1;33m,\u001b[0m\u001b[1;34m'PDF Page Number'\u001b[0m\u001b[1;33m,\u001b[0m\u001b[1;34m'Content Type'\u001b[0m\u001b[1;33m,\u001b[0m \u001b[1;34m\"Title\"\u001b[0m\u001b[1;33m]\u001b[0m\u001b[1;33m)\u001b[0m\u001b[1;33m\u001b[0m\u001b[1;33m\u001b[0m\u001b[0m\n\u001b[0m\u001b[0;32m      2\u001b[0m \u001b[0mindex\u001b[0m\u001b[1;33m.\u001b[0m\u001b[0mhead\u001b[0m\u001b[1;33m(\u001b[0m\u001b[1;33m)\u001b[0m\u001b[1;33m\u001b[0m\u001b[1;33m\u001b[0m\u001b[0m\n",
      "\u001b[1;31mAttributeError\u001b[0m: 'int' object has no attribute 'sort_values'"
     ]
    }
   ],
   "source": [
    "index = index.sort_values(by = ['Data ID','PDF Page Number','Content Type', \"Title\"])\n",
    "index.head()"
   ]
  },
  {
   "cell_type": "markdown",
   "metadata": {},
   "source": [
    "### Add ID for all the rows "
   ]
  },
  {
   "cell_type": "code",
   "execution_count": null,
   "metadata": {},
   "outputs": [],
   "source": [
    "gp = index.groupby(['Data ID','PDF Page Number','Content Type'])\n",
    "countID = []\n",
    "for group in gp.groups:\n",
    "    count = 1\n",
    "    for i in gp.groups[group]:\n",
    "        countID.append(count)\n",
    "        count = count +1\n",
    "index[\"countID\"] = countID"
   ]
  },
  {
   "cell_type": "code",
   "execution_count": null,
   "metadata": {},
   "outputs": [],
   "source": [
    "ID = []\n",
    "for ind, row in index.iterrows():\n",
    "    if \"Alignment Sheet\" in row[\"Content Type\"]:\n",
    "        code = \"a\"\n",
    "    elif \"Figure\" in row[\"Content Type\"]:\n",
    "        code = \"f\"\n",
    "    elif \"Table\" in row[\"Content Type\"]:\n",
    "        code = \"t\"\n",
    "    else:\n",
    "        print(\"Error with \", row[\"Content Type\"])\n",
    "    ID.append(str(row[\"Data ID\"]) +\"_\"+ str(row[\"PDF Page Number\"]) + \"_\" + code + str(row[\"countID\"]))\n",
    "index[\"ID\"] = ID"
   ]
  },
  {
   "cell_type": "code",
   "execution_count": null,
   "metadata": {},
   "outputs": [],
   "source": [
    "index.drop('countID', \n",
    "            axis=1, \n",
    "            inplace=True)"
   ]
  },
  {
   "cell_type": "code",
   "execution_count": null,
   "metadata": {},
   "outputs": [],
   "source": [
    "index.head()"
   ]
  },
  {
   "cell_type": "code",
   "execution_count": null,
   "metadata": {},
   "outputs": [],
   "source": [
    "index.to_csv(path + \"Data_Files_v2\\\\index_final.csv\",index=False)"
   ]
  },
  {
   "cell_type": "code",
   "execution_count": 50,
   "metadata": {},
   "outputs": [
    {
     "data": {
      "text/plain": [
       "(29636, 54)"
      ]
     },
     "execution_count": 50,
     "metadata": {},
     "output_type": "execute_result"
    }
   ],
   "source": [
    "print(len(index))\n",
    "index.shape"
   ]
  },
  {
   "cell_type": "code",
   "execution_count": 43,
   "metadata": {},
   "outputs": [],
   "source": [
    "#gp = index.groupby(['Data ID','PDF Page Number','Content Type'])\n",
    "#gp = gp[gp.Title > 3]\n",
    "# gp.groups\n",
    "\n",
    "# count = 0\n",
    "# for group in index.groupby(['Data ID','PDF Page Number','Content Type']):\n",
    "#     #print(type(group))\n",
    "#     count = count+1\n",
    "# print(count)"
   ]
  },
  {
   "cell_type": "code",
   "execution_count": 44,
   "metadata": {},
   "outputs": [
    {
     "data": {
      "text/html": [
       "<div>\n",
       "<style scoped>\n",
       "    .dataframe tbody tr th:only-of-type {\n",
       "        vertical-align: middle;\n",
       "    }\n",
       "\n",
       "    .dataframe tbody tr th {\n",
       "        vertical-align: top;\n",
       "    }\n",
       "\n",
       "    .dataframe thead th {\n",
       "        text-align: right;\n",
       "    }\n",
       "</style>\n",
       "<table border=\"1\" class=\"dataframe\">\n",
       "  <thead>\n",
       "    <tr style=\"text-align: right;\">\n",
       "      <th></th>\n",
       "      <th>Title</th>\n",
       "      <th>Content Type</th>\n",
       "      <th>Application Name</th>\n",
       "      <th>Application Short Name</th>\n",
       "      <th>Application Filing Date</th>\n",
       "      <th>Company Name</th>\n",
       "      <th>Commodity</th>\n",
       "      <th>File Name</th>\n",
       "      <th>ESA Folder URL</th>\n",
       "      <th>Document Number</th>\n",
       "      <th>...</th>\n",
       "      <th>Impact to human health and viewscapes</th>\n",
       "      <th>Social, cultural, economic infrastructure and services</th>\n",
       "      <th>Economic Offsets and Impact</th>\n",
       "      <th>Environmental Obligations</th>\n",
       "      <th>Treaty and Indigenous Rights</th>\n",
       "      <th>Project Download Path</th>\n",
       "      <th>Table Download Path</th>\n",
       "      <th>Good Quality</th>\n",
       "      <th>Thumbnail Location</th>\n",
       "      <th>ID</th>\n",
       "    </tr>\n",
       "  </thead>\n",
       "  <tbody>\n",
       "    <tr>\n",
       "      <td>0</td>\n",
       "      <td>Figure 13.1-1 EnCana Ekwan Pipeline</td>\n",
       "      <td>Figure</td>\n",
       "      <td>Application to Construct and Operate Ekwan Pip...</td>\n",
       "      <td>Ekwan</td>\n",
       "      <td>2003-03-17</td>\n",
       "      <td>EnCana Ekwan Pipeline Inc.</td>\n",
       "      <td>Gas</td>\n",
       "      <td>A0H8C0 - 13.0 EIA - Section 13.1 to 13.6</td>\n",
       "      <td>https://apps.cer-rec.gc.ca/REGDOCS/Item/View/2...</td>\n",
       "      <td>A0H8C0</td>\n",
       "      <td>...</td>\n",
       "      <td>NaN</td>\n",
       "      <td>NaN</td>\n",
       "      <td>NaN</td>\n",
       "      <td>NaN</td>\n",
       "      <td>NaN</td>\n",
       "      <td>NaN</td>\n",
       "      <td>NaN</td>\n",
       "      <td>NaN</td>\n",
       "      <td>thumbnails\\268706_26.jpg</td>\n",
       "      <td>268706_26_f1</td>\n",
       "    </tr>\n",
       "    <tr>\n",
       "      <td>15041</td>\n",
       "      <td>Table 13.2-1 Cost Comparisons of the Three Alt...</td>\n",
       "      <td>Table</td>\n",
       "      <td>Application to Construct and Operate Ekwan Pip...</td>\n",
       "      <td>Ekwan</td>\n",
       "      <td>3/17/2003</td>\n",
       "      <td>EnCana Ekwan Pipeline Inc.</td>\n",
       "      <td>Gas</td>\n",
       "      <td>A0H8C0 - 13.0 EIA - Section 13.1 to 13.6</td>\n",
       "      <td>https://apps.cer-rec.gc.ca/REGDOCS/Item/View/2...</td>\n",
       "      <td>A0H8C0</td>\n",
       "      <td>...</td>\n",
       "      <td>0.0</td>\n",
       "      <td>0.0</td>\n",
       "      <td>0.0</td>\n",
       "      <td>0.0</td>\n",
       "      <td>0.0</td>\n",
       "      <td>/projects/kwn.zip</td>\n",
       "      <td>/tables/kwn_table-13-2-1-cost-comparisons-of-t...</td>\n",
       "      <td>True</td>\n",
       "      <td>thumbnails\\268706_31.jpg</td>\n",
       "      <td>268706_31_t1</td>\n",
       "    </tr>\n",
       "    <tr>\n",
       "      <td>15042</td>\n",
       "      <td>Table 13.2-2 Linear Corridors Followed by Each...</td>\n",
       "      <td>Table</td>\n",
       "      <td>Application to Construct and Operate Ekwan Pip...</td>\n",
       "      <td>Ekwan</td>\n",
       "      <td>3/17/2003</td>\n",
       "      <td>EnCana Ekwan Pipeline Inc.</td>\n",
       "      <td>Gas</td>\n",
       "      <td>A0H8C0 - 13.0 EIA - Section 13.1 to 13.6</td>\n",
       "      <td>https://apps.cer-rec.gc.ca/REGDOCS/Item/View/2...</td>\n",
       "      <td>A0H8C0</td>\n",
       "      <td>...</td>\n",
       "      <td>0.0</td>\n",
       "      <td>3.0</td>\n",
       "      <td>0.0</td>\n",
       "      <td>0.0</td>\n",
       "      <td>0.0</td>\n",
       "      <td>/projects/kwn.zip</td>\n",
       "      <td>/tables/kwn_table-13-2-2-linear-corridors-foll...</td>\n",
       "      <td>True</td>\n",
       "      <td>thumbnails\\268706_32.jpg</td>\n",
       "      <td>268706_32_t1</td>\n",
       "    </tr>\n",
       "    <tr>\n",
       "      <td>1</td>\n",
       "      <td>Figure 13.3-1 CEA Framework</td>\n",
       "      <td>Figure</td>\n",
       "      <td>Application to Construct and Operate Ekwan Pip...</td>\n",
       "      <td>Ekwan</td>\n",
       "      <td>2003-03-17</td>\n",
       "      <td>EnCana Ekwan Pipeline Inc.</td>\n",
       "      <td>Gas</td>\n",
       "      <td>A0H8C0 - 13.0 EIA - Section 13.1 to 13.6</td>\n",
       "      <td>https://apps.cer-rec.gc.ca/REGDOCS/Item/View/2...</td>\n",
       "      <td>A0H8C0</td>\n",
       "      <td>...</td>\n",
       "      <td>NaN</td>\n",
       "      <td>NaN</td>\n",
       "      <td>NaN</td>\n",
       "      <td>NaN</td>\n",
       "      <td>NaN</td>\n",
       "      <td>NaN</td>\n",
       "      <td>NaN</td>\n",
       "      <td>NaN</td>\n",
       "      <td>thumbnails\\268706_41.jpg</td>\n",
       "      <td>268706_41_f1</td>\n",
       "    </tr>\n",
       "    <tr>\n",
       "      <td>15052</td>\n",
       "      <td>Table 13.3-1 Project Inclusion List Baseline S...</td>\n",
       "      <td>Table</td>\n",
       "      <td>Application to Construct and Operate Ekwan Pip...</td>\n",
       "      <td>Ekwan</td>\n",
       "      <td>3/17/2003</td>\n",
       "      <td>EnCana Ekwan Pipeline Inc.</td>\n",
       "      <td>Gas</td>\n",
       "      <td>A0H8C0 - 13.0 EIA - Section 13.1 to 13.6</td>\n",
       "      <td>https://apps.cer-rec.gc.ca/REGDOCS/Item/View/2...</td>\n",
       "      <td>A0H8C0</td>\n",
       "      <td>...</td>\n",
       "      <td>2.0</td>\n",
       "      <td>6.0</td>\n",
       "      <td>1.0</td>\n",
       "      <td>0.0</td>\n",
       "      <td>1.0</td>\n",
       "      <td>/projects/kwn.zip</td>\n",
       "      <td>/tables/kwn_table-13-3-1-project-inclusion-lis...</td>\n",
       "      <td>True</td>\n",
       "      <td>thumbnails\\268706_41.jpg</td>\n",
       "      <td>268706_41_t1</td>\n",
       "    </tr>\n",
       "  </tbody>\n",
       "</table>\n",
       "<p>5 rows × 54 columns</p>\n",
       "</div>"
      ],
      "text/plain": [
       "                                                   Title Content Type  \\\n",
       "0                    Figure 13.1-1 EnCana Ekwan Pipeline       Figure   \n",
       "15041  Table 13.2-1 Cost Comparisons of the Three Alt...        Table   \n",
       "15042  Table 13.2-2 Linear Corridors Followed by Each...        Table   \n",
       "1                            Figure 13.3-1 CEA Framework       Figure   \n",
       "15052  Table 13.3-1 Project Inclusion List Baseline S...        Table   \n",
       "\n",
       "                                        Application Name  \\\n",
       "0      Application to Construct and Operate Ekwan Pip...   \n",
       "15041  Application to Construct and Operate Ekwan Pip...   \n",
       "15042  Application to Construct and Operate Ekwan Pip...   \n",
       "1      Application to Construct and Operate Ekwan Pip...   \n",
       "15052  Application to Construct and Operate Ekwan Pip...   \n",
       "\n",
       "      Application Short Name Application Filing Date  \\\n",
       "0                      Ekwan              2003-03-17   \n",
       "15041                  Ekwan               3/17/2003   \n",
       "15042                  Ekwan               3/17/2003   \n",
       "1                      Ekwan              2003-03-17   \n",
       "15052                  Ekwan               3/17/2003   \n",
       "\n",
       "                     Company Name Commodity  \\\n",
       "0      EnCana Ekwan Pipeline Inc.       Gas   \n",
       "15041  EnCana Ekwan Pipeline Inc.       Gas   \n",
       "15042  EnCana Ekwan Pipeline Inc.       Gas   \n",
       "1      EnCana Ekwan Pipeline Inc.       Gas   \n",
       "15052  EnCana Ekwan Pipeline Inc.       Gas   \n",
       "\n",
       "                                       File Name  \\\n",
       "0      A0H8C0 - 13.0 EIA - Section 13.1 to 13.6    \n",
       "15041  A0H8C0 - 13.0 EIA - Section 13.1 to 13.6    \n",
       "15042  A0H8C0 - 13.0 EIA - Section 13.1 to 13.6    \n",
       "1      A0H8C0 - 13.0 EIA - Section 13.1 to 13.6    \n",
       "15052  A0H8C0 - 13.0 EIA - Section 13.1 to 13.6    \n",
       "\n",
       "                                          ESA Folder URL Document Number  ...  \\\n",
       "0      https://apps.cer-rec.gc.ca/REGDOCS/Item/View/2...          A0H8C0  ...   \n",
       "15041  https://apps.cer-rec.gc.ca/REGDOCS/Item/View/2...          A0H8C0  ...   \n",
       "15042  https://apps.cer-rec.gc.ca/REGDOCS/Item/View/2...          A0H8C0  ...   \n",
       "1      https://apps.cer-rec.gc.ca/REGDOCS/Item/View/2...          A0H8C0  ...   \n",
       "15052  https://apps.cer-rec.gc.ca/REGDOCS/Item/View/2...          A0H8C0  ...   \n",
       "\n",
       "       Impact to human health and viewscapes  \\\n",
       "0                                        NaN   \n",
       "15041                                    0.0   \n",
       "15042                                    0.0   \n",
       "1                                        NaN   \n",
       "15052                                    2.0   \n",
       "\n",
       "      Social, cultural, economic infrastructure and services  \\\n",
       "0                                                    NaN       \n",
       "15041                                                0.0       \n",
       "15042                                                3.0       \n",
       "1                                                    NaN       \n",
       "15052                                                6.0       \n",
       "\n",
       "      Economic Offsets and Impact Environmental Obligations  \\\n",
       "0                             NaN                       NaN   \n",
       "15041                         0.0                       0.0   \n",
       "15042                         0.0                       0.0   \n",
       "1                             NaN                       NaN   \n",
       "15052                         1.0                       0.0   \n",
       "\n",
       "      Treaty and Indigenous Rights Project Download Path  \\\n",
       "0                              NaN                   NaN   \n",
       "15041                          0.0     /projects/kwn.zip   \n",
       "15042                          0.0     /projects/kwn.zip   \n",
       "1                              NaN                   NaN   \n",
       "15052                          1.0     /projects/kwn.zip   \n",
       "\n",
       "                                     Table Download Path Good Quality  \\\n",
       "0                                                    NaN          NaN   \n",
       "15041  /tables/kwn_table-13-2-1-cost-comparisons-of-t...         True   \n",
       "15042  /tables/kwn_table-13-2-2-linear-corridors-foll...         True   \n",
       "1                                                    NaN          NaN   \n",
       "15052  /tables/kwn_table-13-3-1-project-inclusion-lis...         True   \n",
       "\n",
       "             Thumbnail Location            ID  \n",
       "0      thumbnails\\268706_26.jpg  268706_26_f1  \n",
       "15041  thumbnails\\268706_31.jpg  268706_31_t1  \n",
       "15042  thumbnails\\268706_32.jpg  268706_32_t1  \n",
       "1      thumbnails\\268706_41.jpg  268706_41_f1  \n",
       "15052  thumbnails\\268706_41.jpg  268706_41_t1  \n",
       "\n",
       "[5 rows x 54 columns]"
      ]
     },
     "execution_count": 44,
     "metadata": {},
     "output_type": "execute_result"
    }
   ],
   "source": [
    "index.head()"
   ]
  },
  {
   "cell_type": "code",
   "execution_count": 45,
   "metadata": {},
   "outputs": [
    {
     "data": {
      "text/plain": [
       "29636"
      ]
     },
     "execution_count": 45,
     "metadata": {},
     "output_type": "execute_result"
    }
   ],
   "source": [
    "len(index)"
   ]
  },
  {
   "cell_type": "code",
   "execution_count": null,
   "metadata": {},
   "outputs": [],
   "source": []
  }
 ],
 "metadata": {
  "kernelspec": {
   "display_name": "Python 3",
   "language": "python",
   "name": "python3"
  },
  "language_info": {
   "codemirror_mode": {
    "name": "ipython",
    "version": 3
   },
   "file_extension": ".py",
   "mimetype": "text/x-python",
   "name": "python",
   "nbconvert_exporter": "python",
   "pygments_lexer": "ipython3",
   "version": "3.7.4"
  }
 },
 "nbformat": 4,
 "nbformat_minor": 2
}
