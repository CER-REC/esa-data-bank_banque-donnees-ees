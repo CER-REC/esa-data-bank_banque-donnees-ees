{
  "nbformat": 4,
  "nbformat_minor": 0,
  "metadata": {
    "colab": {
      "name": "02_labeling_VCs_with_zero_shot_learning.ipynb",
      "provenance": [],
      "collapsed_sections": [],
      "machine_shape": "hm",
      "authorship_tag": "ABX9TyP5CUBuZozkg0aY5mr9D6Uh",
      "include_colab_link": true
    },
    "kernelspec": {
      "name": "python3",
      "display_name": "Python 3"
    },
    "language_info": {
      "name": "python"
    },
    "accelerator": "GPU",
    "widgets": {
      "application/vnd.jupyter.widget-state+json": {
        "a96ae73092d1466ebecc92f34e31ece6": {
          "model_module": "@jupyter-widgets/controls",
          "model_name": "HBoxModel",
          "state": {
            "_view_name": "HBoxView",
            "_dom_classes": [],
            "_model_name": "HBoxModel",
            "_view_module": "@jupyter-widgets/controls",
            "_model_module_version": "1.5.0",
            "_view_count": null,
            "_view_module_version": "1.5.0",
            "box_style": "",
            "layout": "IPY_MODEL_791752c381674e17bf6ee71089085624",
            "_model_module": "@jupyter-widgets/controls",
            "children": [
              "IPY_MODEL_f0acb7eb5cad44d3a2226f4aca4f50d3",
              "IPY_MODEL_4ec6589dbf0b4cdfb042710cccdd5cc8"
            ]
          }
        },
        "791752c381674e17bf6ee71089085624": {
          "model_module": "@jupyter-widgets/base",
          "model_name": "LayoutModel",
          "state": {
            "_view_name": "LayoutView",
            "grid_template_rows": null,
            "right": null,
            "justify_content": null,
            "_view_module": "@jupyter-widgets/base",
            "overflow": null,
            "_model_module_version": "1.2.0",
            "_view_count": null,
            "flex_flow": null,
            "width": null,
            "min_width": null,
            "border": null,
            "align_items": null,
            "bottom": null,
            "_model_module": "@jupyter-widgets/base",
            "top": null,
            "grid_column": null,
            "overflow_y": null,
            "overflow_x": null,
            "grid_auto_flow": null,
            "grid_area": null,
            "grid_template_columns": null,
            "flex": null,
            "_model_name": "LayoutModel",
            "justify_items": null,
            "grid_row": null,
            "max_height": null,
            "align_content": null,
            "visibility": null,
            "align_self": null,
            "height": null,
            "min_height": null,
            "padding": null,
            "grid_auto_rows": null,
            "grid_gap": null,
            "max_width": null,
            "order": null,
            "_view_module_version": "1.2.0",
            "grid_template_areas": null,
            "object_position": null,
            "object_fit": null,
            "grid_auto_columns": null,
            "margin": null,
            "display": null,
            "left": null
          }
        },
        "f0acb7eb5cad44d3a2226f4aca4f50d3": {
          "model_module": "@jupyter-widgets/controls",
          "model_name": "FloatProgressModel",
          "state": {
            "_view_name": "ProgressView",
            "style": "IPY_MODEL_48d381c5b9464abb82e7eea9d0a48b84",
            "_dom_classes": [],
            "description": "Downloading: 100%",
            "_model_name": "FloatProgressModel",
            "bar_style": "success",
            "max": 1154,
            "_view_module": "@jupyter-widgets/controls",
            "_model_module_version": "1.5.0",
            "value": 1154,
            "_view_count": null,
            "_view_module_version": "1.5.0",
            "orientation": "horizontal",
            "min": 0,
            "description_tooltip": null,
            "_model_module": "@jupyter-widgets/controls",
            "layout": "IPY_MODEL_ab461228e0f140b1bb905ec733975996"
          }
        },
        "4ec6589dbf0b4cdfb042710cccdd5cc8": {
          "model_module": "@jupyter-widgets/controls",
          "model_name": "HTMLModel",
          "state": {
            "_view_name": "HTMLView",
            "style": "IPY_MODEL_53894e48268146c4893276d80a8a527c",
            "_dom_classes": [],
            "description": "",
            "_model_name": "HTMLModel",
            "placeholder": "​",
            "_view_module": "@jupyter-widgets/controls",
            "_model_module_version": "1.5.0",
            "value": " 1.15k/1.15k [00:00&lt;00:00, 1.53kB/s]",
            "_view_count": null,
            "_view_module_version": "1.5.0",
            "description_tooltip": null,
            "_model_module": "@jupyter-widgets/controls",
            "layout": "IPY_MODEL_ca4cddbb2c9643da83a80e3ebfc29ed9"
          }
        },
        "48d381c5b9464abb82e7eea9d0a48b84": {
          "model_module": "@jupyter-widgets/controls",
          "model_name": "ProgressStyleModel",
          "state": {
            "_view_name": "StyleView",
            "_model_name": "ProgressStyleModel",
            "description_width": "initial",
            "_view_module": "@jupyter-widgets/base",
            "_model_module_version": "1.5.0",
            "_view_count": null,
            "_view_module_version": "1.2.0",
            "bar_color": null,
            "_model_module": "@jupyter-widgets/controls"
          }
        },
        "ab461228e0f140b1bb905ec733975996": {
          "model_module": "@jupyter-widgets/base",
          "model_name": "LayoutModel",
          "state": {
            "_view_name": "LayoutView",
            "grid_template_rows": null,
            "right": null,
            "justify_content": null,
            "_view_module": "@jupyter-widgets/base",
            "overflow": null,
            "_model_module_version": "1.2.0",
            "_view_count": null,
            "flex_flow": null,
            "width": null,
            "min_width": null,
            "border": null,
            "align_items": null,
            "bottom": null,
            "_model_module": "@jupyter-widgets/base",
            "top": null,
            "grid_column": null,
            "overflow_y": null,
            "overflow_x": null,
            "grid_auto_flow": null,
            "grid_area": null,
            "grid_template_columns": null,
            "flex": null,
            "_model_name": "LayoutModel",
            "justify_items": null,
            "grid_row": null,
            "max_height": null,
            "align_content": null,
            "visibility": null,
            "align_self": null,
            "height": null,
            "min_height": null,
            "padding": null,
            "grid_auto_rows": null,
            "grid_gap": null,
            "max_width": null,
            "order": null,
            "_view_module_version": "1.2.0",
            "grid_template_areas": null,
            "object_position": null,
            "object_fit": null,
            "grid_auto_columns": null,
            "margin": null,
            "display": null,
            "left": null
          }
        },
        "53894e48268146c4893276d80a8a527c": {
          "model_module": "@jupyter-widgets/controls",
          "model_name": "DescriptionStyleModel",
          "state": {
            "_view_name": "StyleView",
            "_model_name": "DescriptionStyleModel",
            "description_width": "",
            "_view_module": "@jupyter-widgets/base",
            "_model_module_version": "1.5.0",
            "_view_count": null,
            "_view_module_version": "1.2.0",
            "_model_module": "@jupyter-widgets/controls"
          }
        },
        "ca4cddbb2c9643da83a80e3ebfc29ed9": {
          "model_module": "@jupyter-widgets/base",
          "model_name": "LayoutModel",
          "state": {
            "_view_name": "LayoutView",
            "grid_template_rows": null,
            "right": null,
            "justify_content": null,
            "_view_module": "@jupyter-widgets/base",
            "overflow": null,
            "_model_module_version": "1.2.0",
            "_view_count": null,
            "flex_flow": null,
            "width": null,
            "min_width": null,
            "border": null,
            "align_items": null,
            "bottom": null,
            "_model_module": "@jupyter-widgets/base",
            "top": null,
            "grid_column": null,
            "overflow_y": null,
            "overflow_x": null,
            "grid_auto_flow": null,
            "grid_area": null,
            "grid_template_columns": null,
            "flex": null,
            "_model_name": "LayoutModel",
            "justify_items": null,
            "grid_row": null,
            "max_height": null,
            "align_content": null,
            "visibility": null,
            "align_self": null,
            "height": null,
            "min_height": null,
            "padding": null,
            "grid_auto_rows": null,
            "grid_gap": null,
            "max_width": null,
            "order": null,
            "_view_module_version": "1.2.0",
            "grid_template_areas": null,
            "object_position": null,
            "object_fit": null,
            "grid_auto_columns": null,
            "margin": null,
            "display": null,
            "left": null
          }
        },
        "ac10ca67aab34024b473b61680f08ea8": {
          "model_module": "@jupyter-widgets/controls",
          "model_name": "HBoxModel",
          "state": {
            "_view_name": "HBoxView",
            "_dom_classes": [],
            "_model_name": "HBoxModel",
            "_view_module": "@jupyter-widgets/controls",
            "_model_module_version": "1.5.0",
            "_view_count": null,
            "_view_module_version": "1.5.0",
            "box_style": "",
            "layout": "IPY_MODEL_eb23f23ad4db4c898bfbf100d268a8f5",
            "_model_module": "@jupyter-widgets/controls",
            "children": [
              "IPY_MODEL_be70af94a1b04355a4eef8f980aebc95",
              "IPY_MODEL_aa70f11a105345969f859eb2e9d48f9d"
            ]
          }
        },
        "eb23f23ad4db4c898bfbf100d268a8f5": {
          "model_module": "@jupyter-widgets/base",
          "model_name": "LayoutModel",
          "state": {
            "_view_name": "LayoutView",
            "grid_template_rows": null,
            "right": null,
            "justify_content": null,
            "_view_module": "@jupyter-widgets/base",
            "overflow": null,
            "_model_module_version": "1.2.0",
            "_view_count": null,
            "flex_flow": null,
            "width": null,
            "min_width": null,
            "border": null,
            "align_items": null,
            "bottom": null,
            "_model_module": "@jupyter-widgets/base",
            "top": null,
            "grid_column": null,
            "overflow_y": null,
            "overflow_x": null,
            "grid_auto_flow": null,
            "grid_area": null,
            "grid_template_columns": null,
            "flex": null,
            "_model_name": "LayoutModel",
            "justify_items": null,
            "grid_row": null,
            "max_height": null,
            "align_content": null,
            "visibility": null,
            "align_self": null,
            "height": null,
            "min_height": null,
            "padding": null,
            "grid_auto_rows": null,
            "grid_gap": null,
            "max_width": null,
            "order": null,
            "_view_module_version": "1.2.0",
            "grid_template_areas": null,
            "object_position": null,
            "object_fit": null,
            "grid_auto_columns": null,
            "margin": null,
            "display": null,
            "left": null
          }
        },
        "be70af94a1b04355a4eef8f980aebc95": {
          "model_module": "@jupyter-widgets/controls",
          "model_name": "FloatProgressModel",
          "state": {
            "_view_name": "ProgressView",
            "style": "IPY_MODEL_cea91705899248ada8392f523b09ccd9",
            "_dom_classes": [],
            "description": "Downloading: 100%",
            "_model_name": "FloatProgressModel",
            "bar_style": "success",
            "max": 1629486723,
            "_view_module": "@jupyter-widgets/controls",
            "_model_module_version": "1.5.0",
            "value": 1629486723,
            "_view_count": null,
            "_view_module_version": "1.5.0",
            "orientation": "horizontal",
            "min": 0,
            "description_tooltip": null,
            "_model_module": "@jupyter-widgets/controls",
            "layout": "IPY_MODEL_c532c265a6d744538fd7ae5a4308c67c"
          }
        },
        "aa70f11a105345969f859eb2e9d48f9d": {
          "model_module": "@jupyter-widgets/controls",
          "model_name": "HTMLModel",
          "state": {
            "_view_name": "HTMLView",
            "style": "IPY_MODEL_6dc8ac1923b5489e8b3cb30493e14984",
            "_dom_classes": [],
            "description": "",
            "_model_name": "HTMLModel",
            "placeholder": "​",
            "_view_module": "@jupyter-widgets/controls",
            "_model_module_version": "1.5.0",
            "value": " 1.63G/1.63G [00:54&lt;00:00, 29.7MB/s]",
            "_view_count": null,
            "_view_module_version": "1.5.0",
            "description_tooltip": null,
            "_model_module": "@jupyter-widgets/controls",
            "layout": "IPY_MODEL_516b5312791348ca95d497018679a60c"
          }
        },
        "cea91705899248ada8392f523b09ccd9": {
          "model_module": "@jupyter-widgets/controls",
          "model_name": "ProgressStyleModel",
          "state": {
            "_view_name": "StyleView",
            "_model_name": "ProgressStyleModel",
            "description_width": "initial",
            "_view_module": "@jupyter-widgets/base",
            "_model_module_version": "1.5.0",
            "_view_count": null,
            "_view_module_version": "1.2.0",
            "bar_color": null,
            "_model_module": "@jupyter-widgets/controls"
          }
        },
        "c532c265a6d744538fd7ae5a4308c67c": {
          "model_module": "@jupyter-widgets/base",
          "model_name": "LayoutModel",
          "state": {
            "_view_name": "LayoutView",
            "grid_template_rows": null,
            "right": null,
            "justify_content": null,
            "_view_module": "@jupyter-widgets/base",
            "overflow": null,
            "_model_module_version": "1.2.0",
            "_view_count": null,
            "flex_flow": null,
            "width": null,
            "min_width": null,
            "border": null,
            "align_items": null,
            "bottom": null,
            "_model_module": "@jupyter-widgets/base",
            "top": null,
            "grid_column": null,
            "overflow_y": null,
            "overflow_x": null,
            "grid_auto_flow": null,
            "grid_area": null,
            "grid_template_columns": null,
            "flex": null,
            "_model_name": "LayoutModel",
            "justify_items": null,
            "grid_row": null,
            "max_height": null,
            "align_content": null,
            "visibility": null,
            "align_self": null,
            "height": null,
            "min_height": null,
            "padding": null,
            "grid_auto_rows": null,
            "grid_gap": null,
            "max_width": null,
            "order": null,
            "_view_module_version": "1.2.0",
            "grid_template_areas": null,
            "object_position": null,
            "object_fit": null,
            "grid_auto_columns": null,
            "margin": null,
            "display": null,
            "left": null
          }
        },
        "6dc8ac1923b5489e8b3cb30493e14984": {
          "model_module": "@jupyter-widgets/controls",
          "model_name": "DescriptionStyleModel",
          "state": {
            "_view_name": "StyleView",
            "_model_name": "DescriptionStyleModel",
            "description_width": "",
            "_view_module": "@jupyter-widgets/base",
            "_model_module_version": "1.5.0",
            "_view_count": null,
            "_view_module_version": "1.2.0",
            "_model_module": "@jupyter-widgets/controls"
          }
        },
        "516b5312791348ca95d497018679a60c": {
          "model_module": "@jupyter-widgets/base",
          "model_name": "LayoutModel",
          "state": {
            "_view_name": "LayoutView",
            "grid_template_rows": null,
            "right": null,
            "justify_content": null,
            "_view_module": "@jupyter-widgets/base",
            "overflow": null,
            "_model_module_version": "1.2.0",
            "_view_count": null,
            "flex_flow": null,
            "width": null,
            "min_width": null,
            "border": null,
            "align_items": null,
            "bottom": null,
            "_model_module": "@jupyter-widgets/base",
            "top": null,
            "grid_column": null,
            "overflow_y": null,
            "overflow_x": null,
            "grid_auto_flow": null,
            "grid_area": null,
            "grid_template_columns": null,
            "flex": null,
            "_model_name": "LayoutModel",
            "justify_items": null,
            "grid_row": null,
            "max_height": null,
            "align_content": null,
            "visibility": null,
            "align_self": null,
            "height": null,
            "min_height": null,
            "padding": null,
            "grid_auto_rows": null,
            "grid_gap": null,
            "max_width": null,
            "order": null,
            "_view_module_version": "1.2.0",
            "grid_template_areas": null,
            "object_position": null,
            "object_fit": null,
            "grid_auto_columns": null,
            "margin": null,
            "display": null,
            "left": null
          }
        },
        "64b03ba7a14b4635a67821b183b28dc7": {
          "model_module": "@jupyter-widgets/controls",
          "model_name": "HBoxModel",
          "state": {
            "_view_name": "HBoxView",
            "_dom_classes": [],
            "_model_name": "HBoxModel",
            "_view_module": "@jupyter-widgets/controls",
            "_model_module_version": "1.5.0",
            "_view_count": null,
            "_view_module_version": "1.5.0",
            "box_style": "",
            "layout": "IPY_MODEL_a2e9ba5191c34348a79945bc1b9ef801",
            "_model_module": "@jupyter-widgets/controls",
            "children": [
              "IPY_MODEL_8ce4e5f8ae2f4696ac69bd7da0db636c",
              "IPY_MODEL_807d4ac80bf44a989f8ba54ac91e76b8"
            ]
          }
        },
        "a2e9ba5191c34348a79945bc1b9ef801": {
          "model_module": "@jupyter-widgets/base",
          "model_name": "LayoutModel",
          "state": {
            "_view_name": "LayoutView",
            "grid_template_rows": null,
            "right": null,
            "justify_content": null,
            "_view_module": "@jupyter-widgets/base",
            "overflow": null,
            "_model_module_version": "1.2.0",
            "_view_count": null,
            "flex_flow": null,
            "width": null,
            "min_width": null,
            "border": null,
            "align_items": null,
            "bottom": null,
            "_model_module": "@jupyter-widgets/base",
            "top": null,
            "grid_column": null,
            "overflow_y": null,
            "overflow_x": null,
            "grid_auto_flow": null,
            "grid_area": null,
            "grid_template_columns": null,
            "flex": null,
            "_model_name": "LayoutModel",
            "justify_items": null,
            "grid_row": null,
            "max_height": null,
            "align_content": null,
            "visibility": null,
            "align_self": null,
            "height": null,
            "min_height": null,
            "padding": null,
            "grid_auto_rows": null,
            "grid_gap": null,
            "max_width": null,
            "order": null,
            "_view_module_version": "1.2.0",
            "grid_template_areas": null,
            "object_position": null,
            "object_fit": null,
            "grid_auto_columns": null,
            "margin": null,
            "display": null,
            "left": null
          }
        },
        "8ce4e5f8ae2f4696ac69bd7da0db636c": {
          "model_module": "@jupyter-widgets/controls",
          "model_name": "FloatProgressModel",
          "state": {
            "_view_name": "ProgressView",
            "style": "IPY_MODEL_9484c053763c478285085bd21bef1021",
            "_dom_classes": [],
            "description": "Downloading: 100%",
            "_model_name": "FloatProgressModel",
            "bar_style": "success",
            "max": 26,
            "_view_module": "@jupyter-widgets/controls",
            "_model_module_version": "1.5.0",
            "value": 26,
            "_view_count": null,
            "_view_module_version": "1.5.0",
            "orientation": "horizontal",
            "min": 0,
            "description_tooltip": null,
            "_model_module": "@jupyter-widgets/controls",
            "layout": "IPY_MODEL_42f4ec3bb5974e0a97634b31fac39eff"
          }
        },
        "807d4ac80bf44a989f8ba54ac91e76b8": {
          "model_module": "@jupyter-widgets/controls",
          "model_name": "HTMLModel",
          "state": {
            "_view_name": "HTMLView",
            "style": "IPY_MODEL_3226a3827d40450e86f9ff23ca44f0ad",
            "_dom_classes": [],
            "description": "",
            "_model_name": "HTMLModel",
            "placeholder": "​",
            "_view_module": "@jupyter-widgets/controls",
            "_model_module_version": "1.5.0",
            "value": " 26.0/26.0 [00:01&lt;00:00, 17.0B/s]",
            "_view_count": null,
            "_view_module_version": "1.5.0",
            "description_tooltip": null,
            "_model_module": "@jupyter-widgets/controls",
            "layout": "IPY_MODEL_0f89de5d2f204e47a899c41b4c848736"
          }
        },
        "9484c053763c478285085bd21bef1021": {
          "model_module": "@jupyter-widgets/controls",
          "model_name": "ProgressStyleModel",
          "state": {
            "_view_name": "StyleView",
            "_model_name": "ProgressStyleModel",
            "description_width": "initial",
            "_view_module": "@jupyter-widgets/base",
            "_model_module_version": "1.5.0",
            "_view_count": null,
            "_view_module_version": "1.2.0",
            "bar_color": null,
            "_model_module": "@jupyter-widgets/controls"
          }
        },
        "42f4ec3bb5974e0a97634b31fac39eff": {
          "model_module": "@jupyter-widgets/base",
          "model_name": "LayoutModel",
          "state": {
            "_view_name": "LayoutView",
            "grid_template_rows": null,
            "right": null,
            "justify_content": null,
            "_view_module": "@jupyter-widgets/base",
            "overflow": null,
            "_model_module_version": "1.2.0",
            "_view_count": null,
            "flex_flow": null,
            "width": null,
            "min_width": null,
            "border": null,
            "align_items": null,
            "bottom": null,
            "_model_module": "@jupyter-widgets/base",
            "top": null,
            "grid_column": null,
            "overflow_y": null,
            "overflow_x": null,
            "grid_auto_flow": null,
            "grid_area": null,
            "grid_template_columns": null,
            "flex": null,
            "_model_name": "LayoutModel",
            "justify_items": null,
            "grid_row": null,
            "max_height": null,
            "align_content": null,
            "visibility": null,
            "align_self": null,
            "height": null,
            "min_height": null,
            "padding": null,
            "grid_auto_rows": null,
            "grid_gap": null,
            "max_width": null,
            "order": null,
            "_view_module_version": "1.2.0",
            "grid_template_areas": null,
            "object_position": null,
            "object_fit": null,
            "grid_auto_columns": null,
            "margin": null,
            "display": null,
            "left": null
          }
        },
        "3226a3827d40450e86f9ff23ca44f0ad": {
          "model_module": "@jupyter-widgets/controls",
          "model_name": "DescriptionStyleModel",
          "state": {
            "_view_name": "StyleView",
            "_model_name": "DescriptionStyleModel",
            "description_width": "",
            "_view_module": "@jupyter-widgets/base",
            "_model_module_version": "1.5.0",
            "_view_count": null,
            "_view_module_version": "1.2.0",
            "_model_module": "@jupyter-widgets/controls"
          }
        },
        "0f89de5d2f204e47a899c41b4c848736": {
          "model_module": "@jupyter-widgets/base",
          "model_name": "LayoutModel",
          "state": {
            "_view_name": "LayoutView",
            "grid_template_rows": null,
            "right": null,
            "justify_content": null,
            "_view_module": "@jupyter-widgets/base",
            "overflow": null,
            "_model_module_version": "1.2.0",
            "_view_count": null,
            "flex_flow": null,
            "width": null,
            "min_width": null,
            "border": null,
            "align_items": null,
            "bottom": null,
            "_model_module": "@jupyter-widgets/base",
            "top": null,
            "grid_column": null,
            "overflow_y": null,
            "overflow_x": null,
            "grid_auto_flow": null,
            "grid_area": null,
            "grid_template_columns": null,
            "flex": null,
            "_model_name": "LayoutModel",
            "justify_items": null,
            "grid_row": null,
            "max_height": null,
            "align_content": null,
            "visibility": null,
            "align_self": null,
            "height": null,
            "min_height": null,
            "padding": null,
            "grid_auto_rows": null,
            "grid_gap": null,
            "max_width": null,
            "order": null,
            "_view_module_version": "1.2.0",
            "grid_template_areas": null,
            "object_position": null,
            "object_fit": null,
            "grid_auto_columns": null,
            "margin": null,
            "display": null,
            "left": null
          }
        },
        "cf8c07aaa7c64ab6b41795078fb8b8bc": {
          "model_module": "@jupyter-widgets/controls",
          "model_name": "HBoxModel",
          "state": {
            "_view_name": "HBoxView",
            "_dom_classes": [],
            "_model_name": "HBoxModel",
            "_view_module": "@jupyter-widgets/controls",
            "_model_module_version": "1.5.0",
            "_view_count": null,
            "_view_module_version": "1.5.0",
            "box_style": "",
            "layout": "IPY_MODEL_1346500ece2a4a3c8ac09c3b3b5b0666",
            "_model_module": "@jupyter-widgets/controls",
            "children": [
              "IPY_MODEL_d11048e736eb4f25bad500c2442c2b4e",
              "IPY_MODEL_1162d01af7194b1a9cf9e477be438ff5"
            ]
          }
        },
        "1346500ece2a4a3c8ac09c3b3b5b0666": {
          "model_module": "@jupyter-widgets/base",
          "model_name": "LayoutModel",
          "state": {
            "_view_name": "LayoutView",
            "grid_template_rows": null,
            "right": null,
            "justify_content": null,
            "_view_module": "@jupyter-widgets/base",
            "overflow": null,
            "_model_module_version": "1.2.0",
            "_view_count": null,
            "flex_flow": null,
            "width": null,
            "min_width": null,
            "border": null,
            "align_items": null,
            "bottom": null,
            "_model_module": "@jupyter-widgets/base",
            "top": null,
            "grid_column": null,
            "overflow_y": null,
            "overflow_x": null,
            "grid_auto_flow": null,
            "grid_area": null,
            "grid_template_columns": null,
            "flex": null,
            "_model_name": "LayoutModel",
            "justify_items": null,
            "grid_row": null,
            "max_height": null,
            "align_content": null,
            "visibility": null,
            "align_self": null,
            "height": null,
            "min_height": null,
            "padding": null,
            "grid_auto_rows": null,
            "grid_gap": null,
            "max_width": null,
            "order": null,
            "_view_module_version": "1.2.0",
            "grid_template_areas": null,
            "object_position": null,
            "object_fit": null,
            "grid_auto_columns": null,
            "margin": null,
            "display": null,
            "left": null
          }
        },
        "d11048e736eb4f25bad500c2442c2b4e": {
          "model_module": "@jupyter-widgets/controls",
          "model_name": "FloatProgressModel",
          "state": {
            "_view_name": "ProgressView",
            "style": "IPY_MODEL_065a8617fbb948b1a8435a1ac56ad4ac",
            "_dom_classes": [],
            "description": "Downloading: 100%",
            "_model_name": "FloatProgressModel",
            "bar_style": "success",
            "max": 898822,
            "_view_module": "@jupyter-widgets/controls",
            "_model_module_version": "1.5.0",
            "value": 898822,
            "_view_count": null,
            "_view_module_version": "1.5.0",
            "orientation": "horizontal",
            "min": 0,
            "description_tooltip": null,
            "_model_module": "@jupyter-widgets/controls",
            "layout": "IPY_MODEL_cc189e4862e04b6b9e0230d3fd977f6e"
          }
        },
        "1162d01af7194b1a9cf9e477be438ff5": {
          "model_module": "@jupyter-widgets/controls",
          "model_name": "HTMLModel",
          "state": {
            "_view_name": "HTMLView",
            "style": "IPY_MODEL_cea571f4ba2a40b0a198211b1ff9530b",
            "_dom_classes": [],
            "description": "",
            "_model_name": "HTMLModel",
            "placeholder": "​",
            "_view_module": "@jupyter-widgets/controls",
            "_model_module_version": "1.5.0",
            "value": " 899k/899k [00:00&lt;00:00, 2.11MB/s]",
            "_view_count": null,
            "_view_module_version": "1.5.0",
            "description_tooltip": null,
            "_model_module": "@jupyter-widgets/controls",
            "layout": "IPY_MODEL_6c8a00aee2614305995bc47f9b1bad76"
          }
        },
        "065a8617fbb948b1a8435a1ac56ad4ac": {
          "model_module": "@jupyter-widgets/controls",
          "model_name": "ProgressStyleModel",
          "state": {
            "_view_name": "StyleView",
            "_model_name": "ProgressStyleModel",
            "description_width": "initial",
            "_view_module": "@jupyter-widgets/base",
            "_model_module_version": "1.5.0",
            "_view_count": null,
            "_view_module_version": "1.2.0",
            "bar_color": null,
            "_model_module": "@jupyter-widgets/controls"
          }
        },
        "cc189e4862e04b6b9e0230d3fd977f6e": {
          "model_module": "@jupyter-widgets/base",
          "model_name": "LayoutModel",
          "state": {
            "_view_name": "LayoutView",
            "grid_template_rows": null,
            "right": null,
            "justify_content": null,
            "_view_module": "@jupyter-widgets/base",
            "overflow": null,
            "_model_module_version": "1.2.0",
            "_view_count": null,
            "flex_flow": null,
            "width": null,
            "min_width": null,
            "border": null,
            "align_items": null,
            "bottom": null,
            "_model_module": "@jupyter-widgets/base",
            "top": null,
            "grid_column": null,
            "overflow_y": null,
            "overflow_x": null,
            "grid_auto_flow": null,
            "grid_area": null,
            "grid_template_columns": null,
            "flex": null,
            "_model_name": "LayoutModel",
            "justify_items": null,
            "grid_row": null,
            "max_height": null,
            "align_content": null,
            "visibility": null,
            "align_self": null,
            "height": null,
            "min_height": null,
            "padding": null,
            "grid_auto_rows": null,
            "grid_gap": null,
            "max_width": null,
            "order": null,
            "_view_module_version": "1.2.0",
            "grid_template_areas": null,
            "object_position": null,
            "object_fit": null,
            "grid_auto_columns": null,
            "margin": null,
            "display": null,
            "left": null
          }
        },
        "cea571f4ba2a40b0a198211b1ff9530b": {
          "model_module": "@jupyter-widgets/controls",
          "model_name": "DescriptionStyleModel",
          "state": {
            "_view_name": "StyleView",
            "_model_name": "DescriptionStyleModel",
            "description_width": "",
            "_view_module": "@jupyter-widgets/base",
            "_model_module_version": "1.5.0",
            "_view_count": null,
            "_view_module_version": "1.2.0",
            "_model_module": "@jupyter-widgets/controls"
          }
        },
        "6c8a00aee2614305995bc47f9b1bad76": {
          "model_module": "@jupyter-widgets/base",
          "model_name": "LayoutModel",
          "state": {
            "_view_name": "LayoutView",
            "grid_template_rows": null,
            "right": null,
            "justify_content": null,
            "_view_module": "@jupyter-widgets/base",
            "overflow": null,
            "_model_module_version": "1.2.0",
            "_view_count": null,
            "flex_flow": null,
            "width": null,
            "min_width": null,
            "border": null,
            "align_items": null,
            "bottom": null,
            "_model_module": "@jupyter-widgets/base",
            "top": null,
            "grid_column": null,
            "overflow_y": null,
            "overflow_x": null,
            "grid_auto_flow": null,
            "grid_area": null,
            "grid_template_columns": null,
            "flex": null,
            "_model_name": "LayoutModel",
            "justify_items": null,
            "grid_row": null,
            "max_height": null,
            "align_content": null,
            "visibility": null,
            "align_self": null,
            "height": null,
            "min_height": null,
            "padding": null,
            "grid_auto_rows": null,
            "grid_gap": null,
            "max_width": null,
            "order": null,
            "_view_module_version": "1.2.0",
            "grid_template_areas": null,
            "object_position": null,
            "object_fit": null,
            "grid_auto_columns": null,
            "margin": null,
            "display": null,
            "left": null
          }
        },
        "e4725a4db6424a5c849139dbc9b30ef9": {
          "model_module": "@jupyter-widgets/controls",
          "model_name": "HBoxModel",
          "state": {
            "_view_name": "HBoxView",
            "_dom_classes": [],
            "_model_name": "HBoxModel",
            "_view_module": "@jupyter-widgets/controls",
            "_model_module_version": "1.5.0",
            "_view_count": null,
            "_view_module_version": "1.5.0",
            "box_style": "",
            "layout": "IPY_MODEL_8c0c0d55bfef4988b3fce9748da56804",
            "_model_module": "@jupyter-widgets/controls",
            "children": [
              "IPY_MODEL_686efb6fb4794c019b781fe52680a90b",
              "IPY_MODEL_8580c0ed0e7c4a988d91e98076f476ad"
            ]
          }
        },
        "8c0c0d55bfef4988b3fce9748da56804": {
          "model_module": "@jupyter-widgets/base",
          "model_name": "LayoutModel",
          "state": {
            "_view_name": "LayoutView",
            "grid_template_rows": null,
            "right": null,
            "justify_content": null,
            "_view_module": "@jupyter-widgets/base",
            "overflow": null,
            "_model_module_version": "1.2.0",
            "_view_count": null,
            "flex_flow": null,
            "width": null,
            "min_width": null,
            "border": null,
            "align_items": null,
            "bottom": null,
            "_model_module": "@jupyter-widgets/base",
            "top": null,
            "grid_column": null,
            "overflow_y": null,
            "overflow_x": null,
            "grid_auto_flow": null,
            "grid_area": null,
            "grid_template_columns": null,
            "flex": null,
            "_model_name": "LayoutModel",
            "justify_items": null,
            "grid_row": null,
            "max_height": null,
            "align_content": null,
            "visibility": null,
            "align_self": null,
            "height": null,
            "min_height": null,
            "padding": null,
            "grid_auto_rows": null,
            "grid_gap": null,
            "max_width": null,
            "order": null,
            "_view_module_version": "1.2.0",
            "grid_template_areas": null,
            "object_position": null,
            "object_fit": null,
            "grid_auto_columns": null,
            "margin": null,
            "display": null,
            "left": null
          }
        },
        "686efb6fb4794c019b781fe52680a90b": {
          "model_module": "@jupyter-widgets/controls",
          "model_name": "FloatProgressModel",
          "state": {
            "_view_name": "ProgressView",
            "style": "IPY_MODEL_13118affda304d1ea2f9cd2f71d3158e",
            "_dom_classes": [],
            "description": "Downloading: 100%",
            "_model_name": "FloatProgressModel",
            "bar_style": "success",
            "max": 456318,
            "_view_module": "@jupyter-widgets/controls",
            "_model_module_version": "1.5.0",
            "value": 456318,
            "_view_count": null,
            "_view_module_version": "1.5.0",
            "orientation": "horizontal",
            "min": 0,
            "description_tooltip": null,
            "_model_module": "@jupyter-widgets/controls",
            "layout": "IPY_MODEL_e369c53796f2445bb92089af0c063996"
          }
        },
        "8580c0ed0e7c4a988d91e98076f476ad": {
          "model_module": "@jupyter-widgets/controls",
          "model_name": "HTMLModel",
          "state": {
            "_view_name": "HTMLView",
            "style": "IPY_MODEL_175ec15c6757483b97a2e9ad2b61b5d6",
            "_dom_classes": [],
            "description": "",
            "_model_name": "HTMLModel",
            "placeholder": "​",
            "_view_module": "@jupyter-widgets/controls",
            "_model_module_version": "1.5.0",
            "value": " 456k/456k [00:12&lt;00:00, 37.1kB/s]",
            "_view_count": null,
            "_view_module_version": "1.5.0",
            "description_tooltip": null,
            "_model_module": "@jupyter-widgets/controls",
            "layout": "IPY_MODEL_865b361774ca472aaee297b8dbc78230"
          }
        },
        "13118affda304d1ea2f9cd2f71d3158e": {
          "model_module": "@jupyter-widgets/controls",
          "model_name": "ProgressStyleModel",
          "state": {
            "_view_name": "StyleView",
            "_model_name": "ProgressStyleModel",
            "description_width": "initial",
            "_view_module": "@jupyter-widgets/base",
            "_model_module_version": "1.5.0",
            "_view_count": null,
            "_view_module_version": "1.2.0",
            "bar_color": null,
            "_model_module": "@jupyter-widgets/controls"
          }
        },
        "e369c53796f2445bb92089af0c063996": {
          "model_module": "@jupyter-widgets/base",
          "model_name": "LayoutModel",
          "state": {
            "_view_name": "LayoutView",
            "grid_template_rows": null,
            "right": null,
            "justify_content": null,
            "_view_module": "@jupyter-widgets/base",
            "overflow": null,
            "_model_module_version": "1.2.0",
            "_view_count": null,
            "flex_flow": null,
            "width": null,
            "min_width": null,
            "border": null,
            "align_items": null,
            "bottom": null,
            "_model_module": "@jupyter-widgets/base",
            "top": null,
            "grid_column": null,
            "overflow_y": null,
            "overflow_x": null,
            "grid_auto_flow": null,
            "grid_area": null,
            "grid_template_columns": null,
            "flex": null,
            "_model_name": "LayoutModel",
            "justify_items": null,
            "grid_row": null,
            "max_height": null,
            "align_content": null,
            "visibility": null,
            "align_self": null,
            "height": null,
            "min_height": null,
            "padding": null,
            "grid_auto_rows": null,
            "grid_gap": null,
            "max_width": null,
            "order": null,
            "_view_module_version": "1.2.0",
            "grid_template_areas": null,
            "object_position": null,
            "object_fit": null,
            "grid_auto_columns": null,
            "margin": null,
            "display": null,
            "left": null
          }
        },
        "175ec15c6757483b97a2e9ad2b61b5d6": {
          "model_module": "@jupyter-widgets/controls",
          "model_name": "DescriptionStyleModel",
          "state": {
            "_view_name": "StyleView",
            "_model_name": "DescriptionStyleModel",
            "description_width": "",
            "_view_module": "@jupyter-widgets/base",
            "_model_module_version": "1.5.0",
            "_view_count": null,
            "_view_module_version": "1.2.0",
            "_model_module": "@jupyter-widgets/controls"
          }
        },
        "865b361774ca472aaee297b8dbc78230": {
          "model_module": "@jupyter-widgets/base",
          "model_name": "LayoutModel",
          "state": {
            "_view_name": "LayoutView",
            "grid_template_rows": null,
            "right": null,
            "justify_content": null,
            "_view_module": "@jupyter-widgets/base",
            "overflow": null,
            "_model_module_version": "1.2.0",
            "_view_count": null,
            "flex_flow": null,
            "width": null,
            "min_width": null,
            "border": null,
            "align_items": null,
            "bottom": null,
            "_model_module": "@jupyter-widgets/base",
            "top": null,
            "grid_column": null,
            "overflow_y": null,
            "overflow_x": null,
            "grid_auto_flow": null,
            "grid_area": null,
            "grid_template_columns": null,
            "flex": null,
            "_model_name": "LayoutModel",
            "justify_items": null,
            "grid_row": null,
            "max_height": null,
            "align_content": null,
            "visibility": null,
            "align_self": null,
            "height": null,
            "min_height": null,
            "padding": null,
            "grid_auto_rows": null,
            "grid_gap": null,
            "max_width": null,
            "order": null,
            "_view_module_version": "1.2.0",
            "grid_template_areas": null,
            "object_position": null,
            "object_fit": null,
            "grid_auto_columns": null,
            "margin": null,
            "display": null,
            "left": null
          }
        },
        "ccb6048aebe040119dfa9975053e03c7": {
          "model_module": "@jupyter-widgets/controls",
          "model_name": "HBoxModel",
          "state": {
            "_view_name": "HBoxView",
            "_dom_classes": [],
            "_model_name": "HBoxModel",
            "_view_module": "@jupyter-widgets/controls",
            "_model_module_version": "1.5.0",
            "_view_count": null,
            "_view_module_version": "1.5.0",
            "box_style": "",
            "layout": "IPY_MODEL_027e35972b9348c68173b4479c3c56cd",
            "_model_module": "@jupyter-widgets/controls",
            "children": [
              "IPY_MODEL_3e0f35c95b3b458ab5063ad353bf43a7",
              "IPY_MODEL_750d9b965a114b929c92972246c6d33f"
            ]
          }
        },
        "027e35972b9348c68173b4479c3c56cd": {
          "model_module": "@jupyter-widgets/base",
          "model_name": "LayoutModel",
          "state": {
            "_view_name": "LayoutView",
            "grid_template_rows": null,
            "right": null,
            "justify_content": null,
            "_view_module": "@jupyter-widgets/base",
            "overflow": null,
            "_model_module_version": "1.2.0",
            "_view_count": null,
            "flex_flow": null,
            "width": null,
            "min_width": null,
            "border": null,
            "align_items": null,
            "bottom": null,
            "_model_module": "@jupyter-widgets/base",
            "top": null,
            "grid_column": null,
            "overflow_y": null,
            "overflow_x": null,
            "grid_auto_flow": null,
            "grid_area": null,
            "grid_template_columns": null,
            "flex": null,
            "_model_name": "LayoutModel",
            "justify_items": null,
            "grid_row": null,
            "max_height": null,
            "align_content": null,
            "visibility": null,
            "align_self": null,
            "height": null,
            "min_height": null,
            "padding": null,
            "grid_auto_rows": null,
            "grid_gap": null,
            "max_width": null,
            "order": null,
            "_view_module_version": "1.2.0",
            "grid_template_areas": null,
            "object_position": null,
            "object_fit": null,
            "grid_auto_columns": null,
            "margin": null,
            "display": null,
            "left": null
          }
        },
        "3e0f35c95b3b458ab5063ad353bf43a7": {
          "model_module": "@jupyter-widgets/controls",
          "model_name": "FloatProgressModel",
          "state": {
            "_view_name": "ProgressView",
            "style": "IPY_MODEL_cbf0ef8000264f809919f85473a02df0",
            "_dom_classes": [],
            "description": "Downloading: 100%",
            "_model_name": "FloatProgressModel",
            "bar_style": "success",
            "max": 1355863,
            "_view_module": "@jupyter-widgets/controls",
            "_model_module_version": "1.5.0",
            "value": 1355863,
            "_view_count": null,
            "_view_module_version": "1.5.0",
            "orientation": "horizontal",
            "min": 0,
            "description_tooltip": null,
            "_model_module": "@jupyter-widgets/controls",
            "layout": "IPY_MODEL_e1c4dfa8a42f4998ade65af3cd4ded49"
          }
        },
        "750d9b965a114b929c92972246c6d33f": {
          "model_module": "@jupyter-widgets/controls",
          "model_name": "HTMLModel",
          "state": {
            "_view_name": "HTMLView",
            "style": "IPY_MODEL_fb452430d80246d498427e59408786ba",
            "_dom_classes": [],
            "description": "",
            "_model_name": "HTMLModel",
            "placeholder": "​",
            "_view_module": "@jupyter-widgets/controls",
            "_model_module_version": "1.5.0",
            "value": " 1.36M/1.36M [00:11&lt;00:00, 119kB/s]",
            "_view_count": null,
            "_view_module_version": "1.5.0",
            "description_tooltip": null,
            "_model_module": "@jupyter-widgets/controls",
            "layout": "IPY_MODEL_7e1598e7966440feabfa3f6e03a4ff43"
          }
        },
        "cbf0ef8000264f809919f85473a02df0": {
          "model_module": "@jupyter-widgets/controls",
          "model_name": "ProgressStyleModel",
          "state": {
            "_view_name": "StyleView",
            "_model_name": "ProgressStyleModel",
            "description_width": "initial",
            "_view_module": "@jupyter-widgets/base",
            "_model_module_version": "1.5.0",
            "_view_count": null,
            "_view_module_version": "1.2.0",
            "bar_color": null,
            "_model_module": "@jupyter-widgets/controls"
          }
        },
        "e1c4dfa8a42f4998ade65af3cd4ded49": {
          "model_module": "@jupyter-widgets/base",
          "model_name": "LayoutModel",
          "state": {
            "_view_name": "LayoutView",
            "grid_template_rows": null,
            "right": null,
            "justify_content": null,
            "_view_module": "@jupyter-widgets/base",
            "overflow": null,
            "_model_module_version": "1.2.0",
            "_view_count": null,
            "flex_flow": null,
            "width": null,
            "min_width": null,
            "border": null,
            "align_items": null,
            "bottom": null,
            "_model_module": "@jupyter-widgets/base",
            "top": null,
            "grid_column": null,
            "overflow_y": null,
            "overflow_x": null,
            "grid_auto_flow": null,
            "grid_area": null,
            "grid_template_columns": null,
            "flex": null,
            "_model_name": "LayoutModel",
            "justify_items": null,
            "grid_row": null,
            "max_height": null,
            "align_content": null,
            "visibility": null,
            "align_self": null,
            "height": null,
            "min_height": null,
            "padding": null,
            "grid_auto_rows": null,
            "grid_gap": null,
            "max_width": null,
            "order": null,
            "_view_module_version": "1.2.0",
            "grid_template_areas": null,
            "object_position": null,
            "object_fit": null,
            "grid_auto_columns": null,
            "margin": null,
            "display": null,
            "left": null
          }
        },
        "fb452430d80246d498427e59408786ba": {
          "model_module": "@jupyter-widgets/controls",
          "model_name": "DescriptionStyleModel",
          "state": {
            "_view_name": "StyleView",
            "_model_name": "DescriptionStyleModel",
            "description_width": "",
            "_view_module": "@jupyter-widgets/base",
            "_model_module_version": "1.5.0",
            "_view_count": null,
            "_view_module_version": "1.2.0",
            "_model_module": "@jupyter-widgets/controls"
          }
        },
        "7e1598e7966440feabfa3f6e03a4ff43": {
          "model_module": "@jupyter-widgets/base",
          "model_name": "LayoutModel",
          "state": {
            "_view_name": "LayoutView",
            "grid_template_rows": null,
            "right": null,
            "justify_content": null,
            "_view_module": "@jupyter-widgets/base",
            "overflow": null,
            "_model_module_version": "1.2.0",
            "_view_count": null,
            "flex_flow": null,
            "width": null,
            "min_width": null,
            "border": null,
            "align_items": null,
            "bottom": null,
            "_model_module": "@jupyter-widgets/base",
            "top": null,
            "grid_column": null,
            "overflow_y": null,
            "overflow_x": null,
            "grid_auto_flow": null,
            "grid_area": null,
            "grid_template_columns": null,
            "flex": null,
            "_model_name": "LayoutModel",
            "justify_items": null,
            "grid_row": null,
            "max_height": null,
            "align_content": null,
            "visibility": null,
            "align_self": null,
            "height": null,
            "min_height": null,
            "padding": null,
            "grid_auto_rows": null,
            "grid_gap": null,
            "max_width": null,
            "order": null,
            "_view_module_version": "1.2.0",
            "grid_template_areas": null,
            "object_position": null,
            "object_fit": null,
            "grid_auto_columns": null,
            "margin": null,
            "display": null,
            "left": null
          }
        }
      }
    }
  },
  "cells": [
    {
      "cell_type": "markdown",
      "metadata": {
        "id": "view-in-github",
        "colab_type": "text"
      },
      "source": [
        "<a href=\"https://colab.research.google.com/github/CER-REC/esa-data-bank_banque-donnees-ees/blob/master/Codes/Section_05_VEC_Labeling_for_Tables/02_labeling_VCs_with_zero_shot_learning.ipynb\" target=\"_parent\"><img src=\"https://colab.research.google.com/assets/colab-badge.svg\" alt=\"Open In Colab\"/></a>"
      ]
    },
    {
      "cell_type": "code",
      "metadata": {
        "colab": {
          "base_uri": "https://localhost:8080/"
        },
        "id": "KGzdoHOghfJH",
        "outputId": "c6953d18-429b-4c8e-e707-78cc1ded1b98"
      },
      "source": [
        "!pip install transformers\n",
        "!pip install tqdm"
      ],
      "execution_count": 1,
      "outputs": [
        {
          "output_type": "stream",
          "text": [
            "Collecting transformers\n",
            "\u001b[?25l  Downloading https://files.pythonhosted.org/packages/fd/1a/41c644c963249fd7f3836d926afa1e3f1cc234a1c40d80c5f03ad8f6f1b2/transformers-4.8.2-py3-none-any.whl (2.5MB)\n",
            "\u001b[K     |████████████████████████████████| 2.5MB 13.2MB/s \n",
            "\u001b[?25hRequirement already satisfied: packaging in /usr/local/lib/python3.7/dist-packages (from transformers) (20.9)\n",
            "Collecting huggingface-hub==0.0.12\n",
            "  Downloading https://files.pythonhosted.org/packages/2f/ee/97e253668fda9b17e968b3f97b2f8e53aa0127e8807d24a547687423fe0b/huggingface_hub-0.0.12-py3-none-any.whl\n",
            "Requirement already satisfied: filelock in /usr/local/lib/python3.7/dist-packages (from transformers) (3.0.12)\n",
            "Collecting sacremoses\n",
            "\u001b[?25l  Downloading https://files.pythonhosted.org/packages/75/ee/67241dc87f266093c533a2d4d3d69438e57d7a90abb216fa076e7d475d4a/sacremoses-0.0.45-py3-none-any.whl (895kB)\n",
            "\u001b[K     |████████████████████████████████| 901kB 21.1MB/s \n",
            "\u001b[?25hCollecting tokenizers<0.11,>=0.10.1\n",
            "\u001b[?25l  Downloading https://files.pythonhosted.org/packages/d4/e2/df3543e8ffdab68f5acc73f613de9c2b155ac47f162e725dcac87c521c11/tokenizers-0.10.3-cp37-cp37m-manylinux_2_5_x86_64.manylinux1_x86_64.manylinux_2_12_x86_64.manylinux2010_x86_64.whl (3.3MB)\n",
            "\u001b[K     |████████████████████████████████| 3.3MB 44.6MB/s \n",
            "\u001b[?25hRequirement already satisfied: numpy>=1.17 in /usr/local/lib/python3.7/dist-packages (from transformers) (1.19.5)\n",
            "Requirement already satisfied: pyyaml in /usr/local/lib/python3.7/dist-packages (from transformers) (3.13)\n",
            "Requirement already satisfied: importlib-metadata; python_version < \"3.8\" in /usr/local/lib/python3.7/dist-packages (from transformers) (4.5.0)\n",
            "Requirement already satisfied: regex!=2019.12.17 in /usr/local/lib/python3.7/dist-packages (from transformers) (2019.12.20)\n",
            "Requirement already satisfied: requests in /usr/local/lib/python3.7/dist-packages (from transformers) (2.23.0)\n",
            "Requirement already satisfied: tqdm>=4.27 in /usr/local/lib/python3.7/dist-packages (from transformers) (4.41.1)\n",
            "Requirement already satisfied: pyparsing>=2.0.2 in /usr/local/lib/python3.7/dist-packages (from packaging->transformers) (2.4.7)\n",
            "Requirement already satisfied: typing-extensions in /usr/local/lib/python3.7/dist-packages (from huggingface-hub==0.0.12->transformers) (3.7.4.3)\n",
            "Requirement already satisfied: click in /usr/local/lib/python3.7/dist-packages (from sacremoses->transformers) (7.1.2)\n",
            "Requirement already satisfied: joblib in /usr/local/lib/python3.7/dist-packages (from sacremoses->transformers) (1.0.1)\n",
            "Requirement already satisfied: six in /usr/local/lib/python3.7/dist-packages (from sacremoses->transformers) (1.15.0)\n",
            "Requirement already satisfied: zipp>=0.5 in /usr/local/lib/python3.7/dist-packages (from importlib-metadata; python_version < \"3.8\"->transformers) (3.4.1)\n",
            "Requirement already satisfied: certifi>=2017.4.17 in /usr/local/lib/python3.7/dist-packages (from requests->transformers) (2021.5.30)\n",
            "Requirement already satisfied: urllib3!=1.25.0,!=1.25.1,<1.26,>=1.21.1 in /usr/local/lib/python3.7/dist-packages (from requests->transformers) (1.24.3)\n",
            "Requirement already satisfied: idna<3,>=2.5 in /usr/local/lib/python3.7/dist-packages (from requests->transformers) (2.10)\n",
            "Requirement already satisfied: chardet<4,>=3.0.2 in /usr/local/lib/python3.7/dist-packages (from requests->transformers) (3.0.4)\n",
            "Installing collected packages: huggingface-hub, sacremoses, tokenizers, transformers\n",
            "Successfully installed huggingface-hub-0.0.12 sacremoses-0.0.45 tokenizers-0.10.3 transformers-4.8.2\n",
            "Requirement already satisfied: tqdm in /usr/local/lib/python3.7/dist-packages (4.41.1)\n"
          ],
          "name": "stdout"
        }
      ]
    },
    {
      "cell_type": "code",
      "metadata": {
        "id": "aEvJ1LmnO9Hh",
        "colab": {
          "base_uri": "https://localhost:8080/"
        },
        "outputId": "7d995427-12fa-4b2a-d43f-59ce835dd201"
      },
      "source": [
        "import pandas as pd\n",
        "from transformers import pipeline\n",
        "from bs4 import BeautifulSoup\n",
        "import nltk\n",
        "from nltk.stem.porter import *\n",
        "from tqdm import tqdm\n",
        "\n",
        "nltk.download('stopwords', quiet=True)"
      ],
      "execution_count": 2,
      "outputs": [
        {
          "output_type": "execute_result",
          "data": {
            "text/plain": [
              "True"
            ]
          },
          "metadata": {
            "tags": []
          },
          "execution_count": 2
        }
      ]
    },
    {
      "cell_type": "code",
      "metadata": {
        "colab": {
          "base_uri": "https://localhost:8080/"
        },
        "id": "kSyfO4I3icdg",
        "outputId": "7de84e41-aa9a-4603-821f-e32f600858bd"
      },
      "source": [
        "from google.colab import drive\n",
        "drive.mount(\"/content/drive\")"
      ],
      "execution_count": 3,
      "outputs": [
        {
          "output_type": "stream",
          "text": [
            "Mounted at /content/drive\n"
          ],
          "name": "stdout"
        }
      ]
    },
    {
      "cell_type": "code",
      "metadata": {
        "id": "AYzuCqZUPjCo"
      },
      "source": [
        "df_joined = pd.read_csv('/content/drive/MyDrive/data/esa_index_files/zero_shot_esa_index_train_128_max_tokens.csv', index_col=0)"
      ],
      "execution_count": 4,
      "outputs": []
    },
    {
      "cell_type": "code",
      "metadata": {
        "colab": {
          "base_uri": "https://localhost:8080/"
        },
        "id": "y_VYcHfZJKTk",
        "outputId": "f8bac200-5036-49c5-9bf2-169b149a9f92"
      },
      "source": [
        "len(df_joined)"
      ],
      "execution_count": 5,
      "outputs": [
        {
          "output_type": "execute_result",
          "data": {
            "text/plain": [
              "28891"
            ]
          },
          "metadata": {
            "tags": []
          },
          "execution_count": 5
        }
      ]
    },
    {
      "cell_type": "code",
      "metadata": {
        "colab": {
          "base_uri": "https://localhost:8080/",
          "height": 593
        },
        "id": "1N82Q4fFi4S2",
        "outputId": "a3ce79fa-b8a7-4885-feff-2a953eee3188"
      },
      "source": [
        "df_joined.head()"
      ],
      "execution_count": 6,
      "outputs": [
        {
          "output_type": "execute_result",
          "data": {
            "text/html": [
              "<div>\n",
              "<style scoped>\n",
              "    .dataframe tbody tr th:only-of-type {\n",
              "        vertical-align: middle;\n",
              "    }\n",
              "\n",
              "    .dataframe tbody tr th {\n",
              "        vertical-align: top;\n",
              "    }\n",
              "\n",
              "    .dataframe thead th {\n",
              "        text-align: right;\n",
              "    }\n",
              "</style>\n",
              "<table border=\"1\" class=\"dataframe\">\n",
              "  <thead>\n",
              "    <tr style=\"text-align: right;\">\n",
              "      <th></th>\n",
              "      <th>Index</th>\n",
              "      <th>Content Type</th>\n",
              "      <th>Application Name</th>\n",
              "      <th>Application Short Name</th>\n",
              "      <th>Application Filing Date</th>\n",
              "      <th>Company Name</th>\n",
              "      <th>Commodity</th>\n",
              "      <th>File Name</th>\n",
              "      <th>ESA Folder URL</th>\n",
              "      <th>Document Number</th>\n",
              "      <th>Data ID</th>\n",
              "      <th>PDF Download URL</th>\n",
              "      <th>Application Type (NEB Act)</th>\n",
              "      <th>Pipeline Location</th>\n",
              "      <th>Hearing order</th>\n",
              "      <th>Consultant Name</th>\n",
              "      <th>Pipeline Status</th>\n",
              "      <th>Regulatory Instrument(s)</th>\n",
              "      <th>Application URL</th>\n",
              "      <th>Decision URL</th>\n",
              "      <th>ESA Section(s)</th>\n",
              "      <th>ESA Section(s) Index</th>\n",
              "      <th>ESA Section(s) Topics</th>\n",
              "      <th>CSV Download URL</th>\n",
              "      <th>PDF Page Number</th>\n",
              "      <th>PDF Page Count</th>\n",
              "      <th>PDF Size</th>\n",
              "      <th>PDF Outline</th>\n",
              "      <th>Download folder name</th>\n",
              "      <th>Zipped Project Link</th>\n",
              "      <th>Missing CSV</th>\n",
              "      <th>CSV Filename</th>\n",
              "      <th>csvFileName</th>\n",
              "      <th>text</th>\n",
              "      <th>label</th>\n",
              "    </tr>\n",
              "  </thead>\n",
              "  <tbody>\n",
              "    <tr>\n",
              "      <th>0</th>\n",
              "      <td>9134</td>\n",
              "      <td>Table</td>\n",
              "      <td>Application for North Montney Project</td>\n",
              "      <td>North Montney</td>\n",
              "      <td>11/8/2013</td>\n",
              "      <td>NOVA Gas Transmission Ltd.</td>\n",
              "      <td>Gas</td>\n",
              "      <td>B2-16 ESA_Appendix_G_Part1of4 (A3Q6H2)</td>\n",
              "      <td>https://apps.cer-rec.gc.ca/REGDOCS/Item/LoadRe...</td>\n",
              "      <td>A3Q6H2</td>\n",
              "      <td>1059614</td>\n",
              "      <td>https://apps.cer-rec.gc.ca/REGDOCS/File/Downlo...</td>\n",
              "      <td>Large Projects (over 40 km)</td>\n",
              "      <td>British Columbia, All</td>\n",
              "      <td>GH-001-2014</td>\n",
              "      <td>Stantec Consulting Ltd., TERA Environmental Co...</td>\n",
              "      <td>Operating</td>\n",
              "      <td>GC-125</td>\n",
              "      <td>https://apps.cer-rec.gc.ca/REGDOCS/Item/View/1...</td>\n",
              "      <td>https://apps.cer-rec.gc.ca/REGDOCS/Item/View/3...</td>\n",
              "      <td>Appendix G: TERA Aquatics Summary Report</td>\n",
              "      <td>15.0</td>\n",
              "      <td>Water, All</td>\n",
              "      <td>http://www.cer-rec.gc.ca/esa-ees/nrthmntn/nrth...</td>\n",
              "      <td>14</td>\n",
              "      <td>48.0</td>\n",
              "      <td>5.87</td>\n",
              "      <td>No</td>\n",
              "      <td>nrthmntn</td>\n",
              "      <td>http://www.cer-rec.gc.ca/esa-ees/nrthmntn.zip</td>\n",
              "      <td>False</td>\n",
              "      <td>nrthmntn_table-3-summary-of-aquatics-field-wor...</td>\n",
              "      <td>1059614_14_lattice-v_1.csv</td>\n",
              "      <td>TABLE 3 SUMMARY OF AQUATICS FIELD WORK AND ABO...</td>\n",
              "      <td>-1</td>\n",
              "    </tr>\n",
              "    <tr>\n",
              "      <th>1</th>\n",
              "      <td>9135</td>\n",
              "      <td>Table</td>\n",
              "      <td>Application for North Montney Project</td>\n",
              "      <td>North Montney</td>\n",
              "      <td>11/8/2013</td>\n",
              "      <td>NOVA Gas Transmission Ltd.</td>\n",
              "      <td>Gas</td>\n",
              "      <td>B2-16 ESA_Appendix_G_Part1of4 (A3Q6H2)</td>\n",
              "      <td>https://apps.cer-rec.gc.ca/REGDOCS/Item/LoadRe...</td>\n",
              "      <td>A3Q6H2</td>\n",
              "      <td>1059614</td>\n",
              "      <td>https://apps.cer-rec.gc.ca/REGDOCS/File/Downlo...</td>\n",
              "      <td>Large Projects (over 40 km)</td>\n",
              "      <td>British Columbia, All</td>\n",
              "      <td>GH-001-2014</td>\n",
              "      <td>Stantec Consulting Ltd., TERA Environmental Co...</td>\n",
              "      <td>Operating</td>\n",
              "      <td>GC-125</td>\n",
              "      <td>https://apps.cer-rec.gc.ca/REGDOCS/Item/View/1...</td>\n",
              "      <td>https://apps.cer-rec.gc.ca/REGDOCS/Item/View/3...</td>\n",
              "      <td>Appendix G: TERA Aquatics Summary Report</td>\n",
              "      <td>15.0</td>\n",
              "      <td>Water, All</td>\n",
              "      <td>http://www.cer-rec.gc.ca/esa-ees/nrthmntn/nrth...</td>\n",
              "      <td>17</td>\n",
              "      <td>48.0</td>\n",
              "      <td>5.87</td>\n",
              "      <td>No</td>\n",
              "      <td>nrthmntn</td>\n",
              "      <td>http://www.cer-rec.gc.ca/esa-ees/nrthmntn.zip</td>\n",
              "      <td>False</td>\n",
              "      <td>nrthmntn_table-4-summary-of-watercourse-crossi...</td>\n",
              "      <td>1059614_17_lattice-v_1.csv</td>\n",
              "      <td>TABLE 4 SUMMARY OF WATERCOURSE CROSSINGS ALONG...</td>\n",
              "      <td>-1</td>\n",
              "    </tr>\n",
              "    <tr>\n",
              "      <th>2</th>\n",
              "      <td>9136</td>\n",
              "      <td>Table</td>\n",
              "      <td>Application for North Montney Project</td>\n",
              "      <td>North Montney</td>\n",
              "      <td>11/8/2013</td>\n",
              "      <td>NOVA Gas Transmission Ltd.</td>\n",
              "      <td>Gas</td>\n",
              "      <td>B2-16 ESA_Appendix_G_Part1of4 (A3Q6H2)</td>\n",
              "      <td>https://apps.cer-rec.gc.ca/REGDOCS/Item/LoadRe...</td>\n",
              "      <td>A3Q6H2</td>\n",
              "      <td>1059614</td>\n",
              "      <td>https://apps.cer-rec.gc.ca/REGDOCS/File/Downlo...</td>\n",
              "      <td>Large Projects (over 40 km)</td>\n",
              "      <td>British Columbia, All</td>\n",
              "      <td>GH-001-2014</td>\n",
              "      <td>Stantec Consulting Ltd., TERA Environmental Co...</td>\n",
              "      <td>Operating</td>\n",
              "      <td>GC-125</td>\n",
              "      <td>https://apps.cer-rec.gc.ca/REGDOCS/Item/View/1...</td>\n",
              "      <td>https://apps.cer-rec.gc.ca/REGDOCS/Item/View/3...</td>\n",
              "      <td>Appendix G: TERA Aquatics Summary Report</td>\n",
              "      <td>15.0</td>\n",
              "      <td>Water, All</td>\n",
              "      <td>http://www.cer-rec.gc.ca/esa-ees/nrthmntn/nrth...</td>\n",
              "      <td>18</td>\n",
              "      <td>48.0</td>\n",
              "      <td>5.87</td>\n",
              "      <td>No</td>\n",
              "      <td>nrthmntn</td>\n",
              "      <td>http://www.cer-rec.gc.ca/esa-ees/nrthmntn.zip</td>\n",
              "      <td>False</td>\n",
              "      <td>nrthmntn_table-4-summary-of-watercourse-crossi...</td>\n",
              "      <td>1059614_18_lattice-v_1.csv</td>\n",
              "      <td>TABLE 4 SUMMARY OF WATERCOURSE CROSSINGS ALONG...</td>\n",
              "      <td>-1</td>\n",
              "    </tr>\n",
              "    <tr>\n",
              "      <th>3</th>\n",
              "      <td>9137</td>\n",
              "      <td>Table</td>\n",
              "      <td>Application for North Montney Project</td>\n",
              "      <td>North Montney</td>\n",
              "      <td>11/8/2013</td>\n",
              "      <td>NOVA Gas Transmission Ltd.</td>\n",
              "      <td>Gas</td>\n",
              "      <td>B2-16 ESA_Appendix_G_Part1of4 (A3Q6H2)</td>\n",
              "      <td>https://apps.cer-rec.gc.ca/REGDOCS/Item/LoadRe...</td>\n",
              "      <td>A3Q6H2</td>\n",
              "      <td>1059614</td>\n",
              "      <td>https://apps.cer-rec.gc.ca/REGDOCS/File/Downlo...</td>\n",
              "      <td>Large Projects (over 40 km)</td>\n",
              "      <td>British Columbia, All</td>\n",
              "      <td>GH-001-2014</td>\n",
              "      <td>Stantec Consulting Ltd., TERA Environmental Co...</td>\n",
              "      <td>Operating</td>\n",
              "      <td>GC-125</td>\n",
              "      <td>https://apps.cer-rec.gc.ca/REGDOCS/Item/View/1...</td>\n",
              "      <td>https://apps.cer-rec.gc.ca/REGDOCS/Item/View/3...</td>\n",
              "      <td>Appendix G: TERA Aquatics Summary Report</td>\n",
              "      <td>15.0</td>\n",
              "      <td>Water, All</td>\n",
              "      <td>http://www.cer-rec.gc.ca/esa-ees/nrthmntn/nrth...</td>\n",
              "      <td>19</td>\n",
              "      <td>48.0</td>\n",
              "      <td>5.87</td>\n",
              "      <td>No</td>\n",
              "      <td>nrthmntn</td>\n",
              "      <td>http://www.cer-rec.gc.ca/esa-ees/nrthmntn.zip</td>\n",
              "      <td>False</td>\n",
              "      <td>nrthmntn_table-4-summary-of-watercourse-crossi...</td>\n",
              "      <td>1059614_19_lattice-v_1.csv</td>\n",
              "      <td>TABLE 4 SUMMARY OF WATERCOURSE CROSSINGS ALONG...</td>\n",
              "      <td>-1</td>\n",
              "    </tr>\n",
              "    <tr>\n",
              "      <th>4</th>\n",
              "      <td>9138</td>\n",
              "      <td>Table</td>\n",
              "      <td>Application for North Montney Project</td>\n",
              "      <td>North Montney</td>\n",
              "      <td>11/8/2013</td>\n",
              "      <td>NOVA Gas Transmission Ltd.</td>\n",
              "      <td>Gas</td>\n",
              "      <td>B2-16 ESA_Appendix_G_Part1of4 (A3Q6H2)</td>\n",
              "      <td>https://apps.cer-rec.gc.ca/REGDOCS/Item/LoadRe...</td>\n",
              "      <td>A3Q6H2</td>\n",
              "      <td>1059614</td>\n",
              "      <td>https://apps.cer-rec.gc.ca/REGDOCS/File/Downlo...</td>\n",
              "      <td>Large Projects (over 40 km)</td>\n",
              "      <td>British Columbia, All</td>\n",
              "      <td>GH-001-2014</td>\n",
              "      <td>Stantec Consulting Ltd., TERA Environmental Co...</td>\n",
              "      <td>Operating</td>\n",
              "      <td>GC-125</td>\n",
              "      <td>https://apps.cer-rec.gc.ca/REGDOCS/Item/View/1...</td>\n",
              "      <td>https://apps.cer-rec.gc.ca/REGDOCS/Item/View/3...</td>\n",
              "      <td>Appendix G: TERA Aquatics Summary Report</td>\n",
              "      <td>15.0</td>\n",
              "      <td>Water, All</td>\n",
              "      <td>http://www.cer-rec.gc.ca/esa-ees/nrthmntn/nrth...</td>\n",
              "      <td>20</td>\n",
              "      <td>48.0</td>\n",
              "      <td>5.87</td>\n",
              "      <td>No</td>\n",
              "      <td>nrthmntn</td>\n",
              "      <td>http://www.cer-rec.gc.ca/esa-ees/nrthmntn.zip</td>\n",
              "      <td>False</td>\n",
              "      <td>nrthmntn_table-4-summary-of-watercourse-crossi...</td>\n",
              "      <td>1059614_20_lattice-v_1.csv</td>\n",
              "      <td>TABLE 4 SUMMARY OF WATERCOURSE CROSSINGS ALONG...</td>\n",
              "      <td>-1</td>\n",
              "    </tr>\n",
              "  </tbody>\n",
              "</table>\n",
              "</div>"
            ],
            "text/plain": [
              "   Index Content Type  ...                                               text label\n",
              "0   9134        Table  ...  TABLE 3 SUMMARY OF AQUATICS FIELD WORK AND ABO...    -1\n",
              "1   9135        Table  ...  TABLE 4 SUMMARY OF WATERCOURSE CROSSINGS ALONG...    -1\n",
              "2   9136        Table  ...  TABLE 4 SUMMARY OF WATERCOURSE CROSSINGS ALONG...    -1\n",
              "3   9137        Table  ...  TABLE 4 SUMMARY OF WATERCOURSE CROSSINGS ALONG...    -1\n",
              "4   9138        Table  ...  TABLE 4 SUMMARY OF WATERCOURSE CROSSINGS ALONG...    -1\n",
              "\n",
              "[5 rows x 35 columns]"
            ]
          },
          "metadata": {
            "tags": []
          },
          "execution_count": 6
        }
      ]
    },
    {
      "cell_type": "code",
      "metadata": {
        "id": "cyWD1qFr9cbj"
      },
      "source": [
        "# from transformers import AutoTokenizer\n",
        "# tokenizer = AutoTokenizer.from_pretrained(\"typeform/distilbert-base-uncased-mnli\")"
      ],
      "execution_count": 7,
      "outputs": []
    },
    {
      "cell_type": "code",
      "metadata": {
        "id": "5Wf7CoTU_Zp-"
      },
      "source": [
        "# os.environ[\"TOKENIZERS_PARALLELISM\"] = \"true\"\n",
        "\n",
        "# encoding = tokenizer.encode_plus(\n",
        "#   sequence_batch,\n",
        "#   add_special_tokens=True,\n",
        "#   max_length=MAX_TOKEN_COUNT,\n",
        "#   return_token_type_ids=False,\n",
        "#   padding=\"max_length\",\n",
        "#   truncation=True,\n",
        "#   return_attention_mask=True,\n",
        "#   return_tensors='pt',\n",
        "# )"
      ],
      "execution_count": 8,
      "outputs": []
    },
    {
      "cell_type": "code",
      "metadata": {
        "id": "FDuUc81sPkjT",
        "colab": {
          "base_uri": "https://localhost:8080/",
          "height": 310,
          "referenced_widgets": [
            "a96ae73092d1466ebecc92f34e31ece6",
            "791752c381674e17bf6ee71089085624",
            "f0acb7eb5cad44d3a2226f4aca4f50d3",
            "4ec6589dbf0b4cdfb042710cccdd5cc8",
            "48d381c5b9464abb82e7eea9d0a48b84",
            "ab461228e0f140b1bb905ec733975996",
            "53894e48268146c4893276d80a8a527c",
            "ca4cddbb2c9643da83a80e3ebfc29ed9",
            "ac10ca67aab34024b473b61680f08ea8",
            "eb23f23ad4db4c898bfbf100d268a8f5",
            "be70af94a1b04355a4eef8f980aebc95",
            "aa70f11a105345969f859eb2e9d48f9d",
            "cea91705899248ada8392f523b09ccd9",
            "c532c265a6d744538fd7ae5a4308c67c",
            "6dc8ac1923b5489e8b3cb30493e14984",
            "516b5312791348ca95d497018679a60c",
            "64b03ba7a14b4635a67821b183b28dc7",
            "a2e9ba5191c34348a79945bc1b9ef801",
            "8ce4e5f8ae2f4696ac69bd7da0db636c",
            "807d4ac80bf44a989f8ba54ac91e76b8",
            "9484c053763c478285085bd21bef1021",
            "42f4ec3bb5974e0a97634b31fac39eff",
            "3226a3827d40450e86f9ff23ca44f0ad",
            "0f89de5d2f204e47a899c41b4c848736",
            "cf8c07aaa7c64ab6b41795078fb8b8bc",
            "1346500ece2a4a3c8ac09c3b3b5b0666",
            "d11048e736eb4f25bad500c2442c2b4e",
            "1162d01af7194b1a9cf9e477be438ff5",
            "065a8617fbb948b1a8435a1ac56ad4ac",
            "cc189e4862e04b6b9e0230d3fd977f6e",
            "cea571f4ba2a40b0a198211b1ff9530b",
            "6c8a00aee2614305995bc47f9b1bad76",
            "e4725a4db6424a5c849139dbc9b30ef9",
            "8c0c0d55bfef4988b3fce9748da56804",
            "686efb6fb4794c019b781fe52680a90b",
            "8580c0ed0e7c4a988d91e98076f476ad",
            "13118affda304d1ea2f9cd2f71d3158e",
            "e369c53796f2445bb92089af0c063996",
            "175ec15c6757483b97a2e9ad2b61b5d6",
            "865b361774ca472aaee297b8dbc78230",
            "ccb6048aebe040119dfa9975053e03c7",
            "027e35972b9348c68173b4479c3c56cd",
            "3e0f35c95b3b458ab5063ad353bf43a7",
            "750d9b965a114b929c92972246c6d33f",
            "cbf0ef8000264f809919f85473a02df0",
            "e1c4dfa8a42f4998ade65af3cd4ded49",
            "fb452430d80246d498427e59408786ba",
            "7e1598e7966440feabfa3f6e03a4ff43"
          ]
        },
        "outputId": "43ba3ba1-b008-4a33-f680-9306cf55760e"
      },
      "source": [
        "# Explicitly ask for tensor allocation on CUDA device :0\n",
        "# classifier = pipeline(\"zero-shot-classification\", model=\"typeform/distilbert-base-uncased-mnli\", tokenizer=, device=0)\n",
        "classifier = pipeline(\"zero-shot-classification\", device=0)"
      ],
      "execution_count": 9,
      "outputs": [
        {
          "output_type": "display_data",
          "data": {
            "application/vnd.jupyter.widget-view+json": {
              "model_id": "a96ae73092d1466ebecc92f34e31ece6",
              "version_minor": 0,
              "version_major": 2
            },
            "text/plain": [
              "HBox(children=(FloatProgress(value=0.0, description='Downloading', max=1154.0, style=ProgressStyle(description…"
            ]
          },
          "metadata": {
            "tags": []
          }
        },
        {
          "output_type": "stream",
          "text": [
            "\n"
          ],
          "name": "stdout"
        },
        {
          "output_type": "display_data",
          "data": {
            "application/vnd.jupyter.widget-view+json": {
              "model_id": "ac10ca67aab34024b473b61680f08ea8",
              "version_minor": 0,
              "version_major": 2
            },
            "text/plain": [
              "HBox(children=(FloatProgress(value=0.0, description='Downloading', max=1629486723.0, style=ProgressStyle(descr…"
            ]
          },
          "metadata": {
            "tags": []
          }
        },
        {
          "output_type": "stream",
          "text": [
            "\n"
          ],
          "name": "stdout"
        },
        {
          "output_type": "display_data",
          "data": {
            "application/vnd.jupyter.widget-view+json": {
              "model_id": "64b03ba7a14b4635a67821b183b28dc7",
              "version_minor": 0,
              "version_major": 2
            },
            "text/plain": [
              "HBox(children=(FloatProgress(value=0.0, description='Downloading', max=26.0, style=ProgressStyle(description_w…"
            ]
          },
          "metadata": {
            "tags": []
          }
        },
        {
          "output_type": "stream",
          "text": [
            "\n"
          ],
          "name": "stdout"
        },
        {
          "output_type": "display_data",
          "data": {
            "application/vnd.jupyter.widget-view+json": {
              "model_id": "cf8c07aaa7c64ab6b41795078fb8b8bc",
              "version_minor": 0,
              "version_major": 2
            },
            "text/plain": [
              "HBox(children=(FloatProgress(value=0.0, description='Downloading', max=898822.0, style=ProgressStyle(descripti…"
            ]
          },
          "metadata": {
            "tags": []
          }
        },
        {
          "output_type": "stream",
          "text": [
            "\n"
          ],
          "name": "stdout"
        },
        {
          "output_type": "display_data",
          "data": {
            "application/vnd.jupyter.widget-view+json": {
              "model_id": "e4725a4db6424a5c849139dbc9b30ef9",
              "version_minor": 0,
              "version_major": 2
            },
            "text/plain": [
              "HBox(children=(FloatProgress(value=0.0, description='Downloading', max=456318.0, style=ProgressStyle(descripti…"
            ]
          },
          "metadata": {
            "tags": []
          }
        },
        {
          "output_type": "stream",
          "text": [
            "\n"
          ],
          "name": "stdout"
        },
        {
          "output_type": "display_data",
          "data": {
            "application/vnd.jupyter.widget-view+json": {
              "model_id": "ccb6048aebe040119dfa9975053e03c7",
              "version_minor": 0,
              "version_major": 2
            },
            "text/plain": [
              "HBox(children=(FloatProgress(value=0.0, description='Downloading', max=1355863.0, style=ProgressStyle(descript…"
            ]
          },
          "metadata": {
            "tags": []
          }
        },
        {
          "output_type": "stream",
          "text": [
            "\n"
          ],
          "name": "stdout"
        }
      ]
    },
    {
      "cell_type": "code",
      "metadata": {
        "colab": {
          "base_uri": "https://localhost:8080/",
          "height": 69
        },
        "id": "Ip3S0PYHPmPJ",
        "outputId": "5bd1b12a-a82c-43ca-9e28-8271569f3c21"
      },
      "source": [
        "df_joined.iloc[100]['text']"
      ],
      "execution_count": 10,
      "outputs": [
        {
          "output_type": "execute_result",
          "data": {
            "application/vnd.google.colaboratory.intrinsic+json": {
              "type": "string"
            },
            "text/plain": [
              "'Table 425 Major Fire Departments in the Infrastructure and Services in the RAA FulltimeEmployees Equipment ServicesProvided AreasCommunitiesServed HudsonsHope FireDepartment 1 fire chief 25 firefighters Not specified fireprevention andinspectionservices City of Hudsons Hopeand surrounding area MoberlyLake FireDepartment 1 fire chief Severalfirefighters notspecified Not specified Not specified Moberly Lake areaWest Moberly FirstNation and SaulteauFirst Nation SOURCE Modified from PRRD 2013a '"
            ]
          },
          "metadata": {
            "tags": []
          },
          "execution_count": 10
        }
      ]
    },
    {
      "cell_type": "code",
      "metadata": {
        "id": "7hM_whVXPpDW"
      },
      "source": [
        "sequences = []\n",
        "\n",
        "for x in range(len(df_joined)):\n",
        "  sequences.append(df_joined.iloc[x]['text'][0:250])"
      ],
      "execution_count": 11,
      "outputs": []
    },
    {
      "cell_type": "code",
      "metadata": {
        "colab": {
          "base_uri": "https://localhost:8080/"
        },
        "id": "y2i8SmQVVF0J",
        "outputId": "fc0f02c0-9988-430d-acce-5a7d506c84b9"
      },
      "source": [
        "len(sequences)"
      ],
      "execution_count": 12,
      "outputs": [
        {
          "output_type": "execute_result",
          "data": {
            "text/plain": [
              "28891"
            ]
          },
          "metadata": {
            "tags": []
          },
          "execution_count": 12
        }
      ]
    },
    {
      "cell_type": "code",
      "metadata": {
        "colab": {
          "base_uri": "https://localhost:8080/",
          "height": 52
        },
        "id": "dwT0g0J56L2q",
        "outputId": "2ef8cc22-01f0-4c5f-8413-48206fca8a8b"
      },
      "source": [
        "sequences[0]"
      ],
      "execution_count": 13,
      "outputs": [
        {
          "output_type": "execute_result",
          "data": {
            "application/vnd.google.colaboratory.intrinsic+json": {
              "type": "string"
            },
            "text/plain": [
              "'TABLE 3 SUMMARY OF AQUATICS FIELD WORK AND ABORIGINAL FIELD STUDY PARTICIPATION FOR THE PROJECT Survey Date Aboriginal Communities Detail July 9 to 12 2011 Blueberry River First Nation Halfway River First Nation McLeod Lake Indian Band North East Mti'"
            ]
          },
          "metadata": {
            "tags": []
          },
          "execution_count": 13
        }
      ]
    },
    {
      "cell_type": "code",
      "metadata": {
        "colab": {
          "base_uri": "https://localhost:8080/"
        },
        "id": "loDVpdHvP2XQ",
        "outputId": "a6234868-5cf2-4996-c9dc-05168a6dfd37"
      },
      "source": [
        "candidate_labels = \"\"\"Physical and meteorological environment,Soil and soil productivity,Vegetation,Water quality and quantity,Fish and fish habitat,Wetlands,Wildlife and wildlife habitat,Species at Risk or Species of Special Status and related habitat,Greenhouse gas (GHG) emissions and climate change,GHG Emissions and Climate Change – Assessment of Upstream GHG Emissions,Air emissions,Acoustic environment,Electromagnetism and Corona Discharge,Human occupancy and resource use,Heritage resources,Navigation and navigation safety,Traditional land and resource use,Social and cultural well-being,Human health and aesthetics,Infrastructure and services,Employment and economy,Environmental Obligations,Rights of Indigenous Peoples\"\"\".split(',')\n",
        "hypothesis_template = \"The data from this table is about {}.\"\n",
        "candidate_labels"
      ],
      "execution_count": 14,
      "outputs": [
        {
          "output_type": "execute_result",
          "data": {
            "text/plain": [
              "['Physical and meteorological environment',\n",
              " 'Soil and soil productivity',\n",
              " 'Vegetation',\n",
              " 'Water quality and quantity',\n",
              " 'Fish and fish habitat',\n",
              " 'Wetlands',\n",
              " 'Wildlife and wildlife habitat',\n",
              " 'Species at Risk or Species of Special Status and related habitat',\n",
              " 'Greenhouse gas (GHG) emissions and climate change',\n",
              " 'GHG Emissions and Climate Change – Assessment of Upstream GHG Emissions',\n",
              " 'Air emissions',\n",
              " 'Acoustic environment',\n",
              " 'Electromagnetism and Corona Discharge',\n",
              " 'Human occupancy and resource use',\n",
              " 'Heritage resources',\n",
              " 'Navigation and navigation safety',\n",
              " 'Traditional land and resource use',\n",
              " 'Social and cultural well-being',\n",
              " 'Human health and aesthetics',\n",
              " 'Infrastructure and services',\n",
              " 'Employment and economy',\n",
              " 'Environmental Obligations',\n",
              " 'Rights of Indigenous Peoples']"
            ]
          },
          "metadata": {
            "tags": []
          },
          "execution_count": 14
        }
      ]
    },
    {
      "cell_type": "code",
      "metadata": {
        "id": "p5AbPnG318bj"
      },
      "source": [
        "import gc\n",
        "import torch\n",
        "\n",
        "gc.collect()\n",
        "\n",
        "torch.cuda.empty_cache()"
      ],
      "execution_count": 15,
      "outputs": []
    },
    {
      "cell_type": "code",
      "metadata": {
        "colab": {
          "base_uri": "https://localhost:8080/",
          "height": 103
        },
        "id": "Ne-OdCs32Fyb",
        "outputId": "d4c642aa-7564-4070-b65a-6f33015840a2"
      },
      "source": [
        "torch.cuda.memory_summary(device=None, abbreviated=False)"
      ],
      "execution_count": 16,
      "outputs": [
        {
          "output_type": "execute_result",
          "data": {
            "application/vnd.google.colaboratory.intrinsic+json": {
              "type": "string"
            },
            "text/plain": [
              "'|===========================================================================|\\n|                  PyTorch CUDA memory summary, device ID 0                 |\\n|---------------------------------------------------------------------------|\\n|            CUDA OOMs: 0            |        cudaMalloc retries: 0         |\\n|===========================================================================|\\n|        Metric         | Cur Usage  | Peak Usage | Tot Alloc  | Tot Freed  |\\n|---------------------------------------------------------------------------|\\n| Allocated memory      |    1553 MB |    1553 MB |    1553 MB |       0 B  |\\n|       from large pool |    1552 MB |    1552 MB |    1552 MB |       0 B  |\\n|       from small pool |       1 MB |       1 MB |       1 MB |       0 B  |\\n|---------------------------------------------------------------------------|\\n| Active memory         |    1553 MB |    1553 MB |    1553 MB |       0 B  |\\n|       from large pool |    1552 MB |    1552 MB |    1552 MB |       0 B  |\\n|       from small pool |       1 MB |       1 MB |       1 MB |       0 B  |\\n|---------------------------------------------------------------------------|\\n| GPU reserved memory   |    1580 MB |    1580 MB |    1580 MB |       0 B  |\\n|       from large pool |    1578 MB |    1578 MB |    1578 MB |       0 B  |\\n|       from small pool |       2 MB |       2 MB |       2 MB |       0 B  |\\n|---------------------------------------------------------------------------|\\n| Non-releasable memory |   26731 KB |   27664 KB |  609936 KB |  583204 KB |\\n|       from large pool |   26252 KB |   26252 KB |  607892 KB |  581640 KB |\\n|       from small pool |     479 KB |    2044 KB |    2044 KB |    1564 KB |\\n|---------------------------------------------------------------------------|\\n| Allocations           |     515    |     515    |     515    |       0    |\\n|       from large pool |     196    |     196    |     196    |       0    |\\n|       from small pool |     319    |     319    |     319    |       0    |\\n|---------------------------------------------------------------------------|\\n| Active allocs         |     515    |     515    |     515    |       0    |\\n|       from large pool |     196    |     196    |     196    |       0    |\\n|       from small pool |     319    |     319    |     319    |       0    |\\n|---------------------------------------------------------------------------|\\n| GPU reserved segments |      79    |      79    |      79    |       0    |\\n|       from large pool |      78    |      78    |      78    |       0    |\\n|       from small pool |       1    |       1    |       1    |       0    |\\n|---------------------------------------------------------------------------|\\n| Non-releasable allocs |       5    |       5    |      39    |      34    |\\n|       from large pool |       4    |       4    |      38    |      34    |\\n|       from small pool |       1    |       1    |       1    |       0    |\\n|===========================================================================|\\n'"
            ]
          },
          "metadata": {
            "tags": []
          },
          "execution_count": 16
        }
      ]
    },
    {
      "cell_type": "code",
      "metadata": {
        "id": "9F2Z8U3XYDSa",
        "colab": {
          "base_uri": "https://localhost:8080/"
        },
        "outputId": "d280978f-5366-4ead-d459-505ccceaed2c"
      },
      "source": [
        "from itertools import zip_longest\n",
        " \n",
        "def grouper(iterable_obj, count, fillvalue=None):\n",
        "    args = [iter(iterable_obj)] * count\n",
        "    return zip_longest(*args, fillvalue=fillvalue)\n",
        "\n",
        "output = [] \n",
        "\n",
        "for sequence_batch in tqdm(grouper(sequences, 2, \"\")):\n",
        "    # print(sequence_batch)\n",
        "    output.append(classifier(sequence_batch, candidate_labels, hypothesis_template=hypothesis_template, multi_label=True))"
      ],
      "execution_count": 17,
      "outputs": [
        {
          "output_type": "stream",
          "text": [
            "14446it [1:54:10,  2.11it/s]\n"
          ],
          "name": "stderr"
        }
      ]
    },
    {
      "cell_type": "code",
      "metadata": {
        "colab": {
          "base_uri": "https://localhost:8080/"
        },
        "id": "0RS5OvrhS-Km",
        "outputId": "d4d8b359-660b-4213-c74c-535c450fecb9"
      },
      "source": [
        "output[0]"
      ],
      "execution_count": 18,
      "outputs": [
        {
          "output_type": "execute_result",
          "data": {
            "text/plain": [
              "[{'labels': ['Water quality and quantity',\n",
              "   'Traditional land and resource use',\n",
              "   'Environmental Obligations',\n",
              "   'Rights of Indigenous Peoples',\n",
              "   'Heritage resources',\n",
              "   'Social and cultural well-being',\n",
              "   'Infrastructure and services',\n",
              "   'Species at Risk or Species of Special Status and related habitat',\n",
              "   'Human occupancy and resource use',\n",
              "   'GHG Emissions and Climate Change – Assessment of Upstream GHG Emissions',\n",
              "   'Soil and soil productivity',\n",
              "   'Physical and meteorological environment',\n",
              "   'Vegetation',\n",
              "   'Fish and fish habitat',\n",
              "   'Wetlands',\n",
              "   'Employment and economy',\n",
              "   'Human health and aesthetics',\n",
              "   'Wildlife and wildlife habitat',\n",
              "   'Greenhouse gas (GHG) emissions and climate change',\n",
              "   'Acoustic environment',\n",
              "   'Air emissions',\n",
              "   'Navigation and navigation safety',\n",
              "   'Electromagnetism and Corona Discharge'],\n",
              "  'scores': [0.7399547696113586,\n",
              "   0.05952973663806915,\n",
              "   0.017496826127171516,\n",
              "   0.012848653830587864,\n",
              "   0.005223226733505726,\n",
              "   0.003144525922834873,\n",
              "   0.0027075381949543953,\n",
              "   0.0022545831743627787,\n",
              "   0.00183043850120157,\n",
              "   0.0013288039481267333,\n",
              "   0.00106408866122365,\n",
              "   0.00046849067439325154,\n",
              "   0.00032474513864144683,\n",
              "   0.000279957806924358,\n",
              "   0.00023335540026891977,\n",
              "   0.0002123778103850782,\n",
              "   0.0001790723908925429,\n",
              "   0.00017485342686995864,\n",
              "   0.00017281135660596192,\n",
              "   0.0001624707510927692,\n",
              "   0.00015768433513585478,\n",
              "   0.00012172628339612857,\n",
              "   0.00011683812772389501],\n",
              "  'sequence': 'TABLE 3 SUMMARY OF AQUATICS FIELD WORK AND ABORIGINAL FIELD STUDY PARTICIPATION FOR THE PROJECT Survey Date Aboriginal Communities Detail July 9 to 12 2011 Blueberry River First Nation Halfway River First Nation McLeod Lake Indian Band North East Mti'},\n",
              " {'labels': ['Fish and fish habitat',\n",
              "   'Wildlife and wildlife habitat',\n",
              "   'Water quality and quantity',\n",
              "   'Heritage resources',\n",
              "   'Environmental Obligations',\n",
              "   'Traditional land and resource use',\n",
              "   'Wetlands',\n",
              "   'Species at Risk or Species of Special Status and related habitat',\n",
              "   'Physical and meteorological environment',\n",
              "   'Infrastructure and services',\n",
              "   'Navigation and navigation safety',\n",
              "   'Acoustic environment',\n",
              "   'GHG Emissions and Climate Change – Assessment of Upstream GHG Emissions',\n",
              "   'Rights of Indigenous Peoples',\n",
              "   'Human occupancy and resource use',\n",
              "   'Social and cultural well-being',\n",
              "   'Electromagnetism and Corona Discharge',\n",
              "   'Vegetation',\n",
              "   'Employment and economy',\n",
              "   'Soil and soil productivity',\n",
              "   'Greenhouse gas (GHG) emissions and climate change',\n",
              "   'Air emissions',\n",
              "   'Human health and aesthetics'],\n",
              "  'scores': [0.8952206969261169,\n",
              "   0.7558425664901733,\n",
              "   0.3484165370464325,\n",
              "   0.006436055060476065,\n",
              "   0.005530547816306353,\n",
              "   0.005249316804111004,\n",
              "   0.00212318217381835,\n",
              "   0.0020717442966997623,\n",
              "   0.0015520304441452026,\n",
              "   0.0009200997883453965,\n",
              "   0.000608692760579288,\n",
              "   0.0005939019029028714,\n",
              "   0.0004607003356795758,\n",
              "   0.000439099152572453,\n",
              "   0.0003142452915199101,\n",
              "   0.00023864718968980014,\n",
              "   0.00022921034542378038,\n",
              "   0.00018759627710096538,\n",
              "   0.00012014427193207666,\n",
              "   0.0001119974913308397,\n",
              "   9.95525624603033e-05,\n",
              "   9.866838081507012e-05,\n",
              "   6.851346552139148e-05],\n",
              "  'sequence': 'TABLE 4 SUMMARY OF WATERCOURSE CROSSINGS ALONG THE NORTH MONTNEY MAINLINE AITKEN CREEK SECTION Field Site No Name Legal Location UTM Coordinates NAD83 Zone 10 LatitudeLongitude DDMMSS Elevation m asl Fish Stream Classification 17 Fish and Wildlife Ti'}]"
            ]
          },
          "metadata": {
            "tags": []
          },
          "execution_count": 18
        }
      ]
    },
    {
      "cell_type": "code",
      "metadata": {
        "id": "YbaOlI23wPEE"
      },
      "source": [
        "# Since we have a list of lists for the outputs (because inference was done in batches), we need to flatten the lists together into one.\n",
        "flatOutput = [item for elem in output for item in elem]"
      ],
      "execution_count": 19,
      "outputs": []
    },
    {
      "cell_type": "code",
      "metadata": {
        "id": "yAZmqv-XctM6"
      },
      "source": [
        "pickled_dataset = 'zero_shot_vcs_train'"
      ],
      "execution_count": 20,
      "outputs": []
    },
    {
      "cell_type": "code",
      "metadata": {
        "id": "-_X0rMIzw4Jl"
      },
      "source": [
        "import pickle \n",
        "with open(f'{pickled_dataset}.pkl', 'wb') as f:\n",
        "  pickle.dump(flatOutput, f)"
      ],
      "execution_count": 21,
      "outputs": []
    },
    {
      "cell_type": "code",
      "metadata": {
        "id": "8qe26VkfvX7O"
      },
      "source": [
        "import pickle\n",
        "infile = open(f'{pickled_dataset}.pkl', 'rb')\n",
        "zs_vcs_dict_list = pickle.load(infile)\n",
        "infile.close()"
      ],
      "execution_count": 22,
      "outputs": []
    },
    {
      "cell_type": "code",
      "metadata": {
        "colab": {
          "base_uri": "https://localhost:8080/"
        },
        "id": "2l7lupmVwiAl",
        "outputId": "5945132f-cec2-4af2-9d76-c52f24be0707"
      },
      "source": [
        "zs_vcs_dict_list[0]"
      ],
      "execution_count": 23,
      "outputs": [
        {
          "output_type": "execute_result",
          "data": {
            "text/plain": [
              "{'labels': ['Water quality and quantity',\n",
              "  'Traditional land and resource use',\n",
              "  'Environmental Obligations',\n",
              "  'Rights of Indigenous Peoples',\n",
              "  'Heritage resources',\n",
              "  'Social and cultural well-being',\n",
              "  'Infrastructure and services',\n",
              "  'Species at Risk or Species of Special Status and related habitat',\n",
              "  'Human occupancy and resource use',\n",
              "  'GHG Emissions and Climate Change – Assessment of Upstream GHG Emissions',\n",
              "  'Soil and soil productivity',\n",
              "  'Physical and meteorological environment',\n",
              "  'Vegetation',\n",
              "  'Fish and fish habitat',\n",
              "  'Wetlands',\n",
              "  'Employment and economy',\n",
              "  'Human health and aesthetics',\n",
              "  'Wildlife and wildlife habitat',\n",
              "  'Greenhouse gas (GHG) emissions and climate change',\n",
              "  'Acoustic environment',\n",
              "  'Air emissions',\n",
              "  'Navigation and navigation safety',\n",
              "  'Electromagnetism and Corona Discharge'],\n",
              " 'scores': [0.7399547696113586,\n",
              "  0.05952973663806915,\n",
              "  0.017496826127171516,\n",
              "  0.012848653830587864,\n",
              "  0.005223226733505726,\n",
              "  0.003144525922834873,\n",
              "  0.0027075381949543953,\n",
              "  0.0022545831743627787,\n",
              "  0.00183043850120157,\n",
              "  0.0013288039481267333,\n",
              "  0.00106408866122365,\n",
              "  0.00046849067439325154,\n",
              "  0.00032474513864144683,\n",
              "  0.000279957806924358,\n",
              "  0.00023335540026891977,\n",
              "  0.0002123778103850782,\n",
              "  0.0001790723908925429,\n",
              "  0.00017485342686995864,\n",
              "  0.00017281135660596192,\n",
              "  0.0001624707510927692,\n",
              "  0.00015768433513585478,\n",
              "  0.00012172628339612857,\n",
              "  0.00011683812772389501],\n",
              " 'sequence': 'TABLE 3 SUMMARY OF AQUATICS FIELD WORK AND ABORIGINAL FIELD STUDY PARTICIPATION FOR THE PROJECT Survey Date Aboriginal Communities Detail July 9 to 12 2011 Blueberry River First Nation Halfway River First Nation McLeod Lake Indian Band North East Mti'}"
            ]
          },
          "metadata": {
            "tags": []
          },
          "execution_count": 23
        }
      ]
    },
    {
      "cell_type": "code",
      "metadata": {
        "colab": {
          "base_uri": "https://localhost:8080/"
        },
        "id": "qSKSYIm5wr5Z",
        "outputId": "ba5632d3-595f-4aa9-d339-f28d125f0a50"
      },
      "source": [
        "len(zs_vcs_dict_list)"
      ],
      "execution_count": 24,
      "outputs": [
        {
          "output_type": "execute_result",
          "data": {
            "text/plain": [
              "28892"
            ]
          },
          "metadata": {
            "tags": []
          },
          "execution_count": 24
        }
      ]
    },
    {
      "cell_type": "code",
      "metadata": {
        "colab": {
          "base_uri": "https://localhost:8080/"
        },
        "id": "cR4YTbLuvvtJ",
        "outputId": "32c884be-13f9-47e7-ee58-096142565d4f"
      },
      "source": [
        "for i in range(0, len(zs_vcs_dict_list)):\n",
        "  zs_vcs_dict_list[0]['scores']"
      ],
      "execution_count": null,
      "outputs": [
        {
          "output_type": "execute_result",
          "data": {
            "text/plain": [
              "{'labels': ['Traditional land and resource use',\n",
              "  'Water quality and quantity',\n",
              "  'Social and cultural well-being',\n",
              "  'Human occupancy and resource use',\n",
              "  'Fish and fish habitat',\n",
              "  'Heritage resources',\n",
              "  'Navigation and navigation safety',\n",
              "  'Vegetation',\n",
              "  'Wetlands',\n",
              "  'Physical and meteorological environment',\n",
              "  'Soil and soil productivity',\n",
              "  'Infrastructure',\n",
              "  'Wildlife and wildlife habitat',\n",
              "  'Species at Risk or Species of Special Status and related habitat',\n",
              "  'Human health and aesthetics',\n",
              "  'Electromagnetism and Corona Discharge',\n",
              "  'Acoustic environment',\n",
              "  'Air emissions',\n",
              "  'Greenhouse gas (GHG) emissions and climate change'],\n",
              " 'scores': [0.6877259612083435,\n",
              "  0.649422287940979,\n",
              "  0.4630372226238251,\n",
              "  0.30576542019844055,\n",
              "  0.08918734639883041,\n",
              "  0.03485028073191643,\n",
              "  0.03348839655518532,\n",
              "  0.02901163510978222,\n",
              "  0.017860960215330124,\n",
              "  0.015356151387095451,\n",
              "  0.012270933017134666,\n",
              "  0.009136791341006756,\n",
              "  0.008778736926615238,\n",
              "  0.006375862751156092,\n",
              "  0.004991511814296246,\n",
              "  0.004504995886236429,\n",
              "  0.002962834434583783,\n",
              "  0.0019470202969387174,\n",
              "  0.0015868264017626643],\n",
              " 'sequence': 'Survey Date Aboriginal Communities Detail July 9 to 12 2011 Blueberry River First Nation s s Halfway River First Nation s s McLeod Lake Indian Band s s North East M tis Association s s Summer 2011 open water aquatic s s assessments September 18 to October 10 2011 Blueberry River First Nation s s Ha'}"
            ]
          },
          "metadata": {
            "tags": []
          },
          "execution_count": 10
        }
      ]
    },
    {
      "cell_type": "code",
      "metadata": {
        "colab": {
          "base_uri": "https://localhost:8080/"
        },
        "id": "rO4n3M2EQBNj",
        "outputId": "9338e082-f89f-4364-80ba-2c6cf843842e"
      },
      "source": [
        "df_output = pd.DataFrame(output)\n",
        "df_output"
      ],
      "execution_count": null,
      "outputs": [
        {
          "output_type": "execute_result",
          "data": {
            "text/plain": [
              "{'labels': ['Traditional land and resource use',\n",
              "  'Water quality and quantity',\n",
              "  'Social and cultural well-being',\n",
              "  'Human occupancy and resource use',\n",
              "  'Fish and fish habitat',\n",
              "  'Heritage resources',\n",
              "  'Navigation and navigation safety',\n",
              "  'Vegetation',\n",
              "  'Wetlands',\n",
              "  'Physical and meteorological environment',\n",
              "  'Soil and soil productivity',\n",
              "  'Infrastructure',\n",
              "  'Wildlife and wildlife habitat',\n",
              "  'Species at Risk or Species of Special Status and related habitat',\n",
              "  'Human health and aesthetics',\n",
              "  'Electromagnetism and Corona Discharge',\n",
              "  'Acoustic environment',\n",
              "  'Air emissions',\n",
              "  'Greenhouse gas (GHG) emissions and climate change'],\n",
              " 'scores': [0.6877259612083435,\n",
              "  0.649422287940979,\n",
              "  0.4630372226238251,\n",
              "  0.30576542019844055,\n",
              "  0.08918734639883041,\n",
              "  0.03485028073191643,\n",
              "  0.03348839655518532,\n",
              "  0.02901163510978222,\n",
              "  0.017860960215330124,\n",
              "  0.015356151387095451,\n",
              "  0.012270933017134666,\n",
              "  0.009136791341006756,\n",
              "  0.008778736926615238,\n",
              "  0.006375862751156092,\n",
              "  0.004991511814296246,\n",
              "  0.004504995886236429,\n",
              "  0.002962834434583783,\n",
              "  0.0019470202969387174,\n",
              "  0.0015868264017626643],\n",
              " 'sequence': 'Survey Date Aboriginal Communities Detail July 9 to 12 2011 Blueberry River First Nation s s Halfway River First Nation s s McLeod Lake Indian Band s s North East M tis Association s s Summer 2011 open water aquatic s s assessments September 18 to October 10 2011 Blueberry River First Nation s s Ha'}"
            ]
          },
          "metadata": {
            "tags": []
          },
          "execution_count": 20
        }
      ]
    },
    {
      "cell_type": "code",
      "metadata": {
        "id": "a7SZl8U4TAs8"
      },
      "source": [
        "df_output[df_output.scores > 0.6]"
      ],
      "execution_count": null,
      "outputs": []
    },
    {
      "cell_type": "code",
      "metadata": {
        "id": "Z_rSngYmTG1X"
      },
      "source": [
        ""
      ],
      "execution_count": null,
      "outputs": []
    }
  ]
}