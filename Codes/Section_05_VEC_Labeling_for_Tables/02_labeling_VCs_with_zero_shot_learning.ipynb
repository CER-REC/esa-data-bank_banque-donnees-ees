{
  "nbformat": 4,
  "nbformat_minor": 0,
  "metadata": {
    "colab": {
      "name": "02_labeling_VCs_with_zero_shot_learning.ipynb",
      "provenance": [],
      "collapsed_sections": [],
      "machine_shape": "hm",
      "authorship_tag": "ABX9TyNKMDG9Fw+h5eY2a3x66kVB",
      "include_colab_link": true
    },
    "kernelspec": {
      "name": "python3",
      "display_name": "Python 3"
    },
    "language_info": {
      "name": "python"
    },
    "accelerator": "GPU",
    "widgets": {
      "application/vnd.jupyter.widget-state+json": {
        "f1ccc9c3763f4769b1c5b1bbfd3676a6": {
          "model_module": "@jupyter-widgets/controls",
          "model_name": "HBoxModel",
          "state": {
            "_view_name": "HBoxView",
            "_dom_classes": [],
            "_model_name": "HBoxModel",
            "_view_module": "@jupyter-widgets/controls",
            "_model_module_version": "1.5.0",
            "_view_count": null,
            "_view_module_version": "1.5.0",
            "box_style": "",
            "layout": "IPY_MODEL_1a1933f409ba42d48611f45ce34b160a",
            "_model_module": "@jupyter-widgets/controls",
            "children": [
              "IPY_MODEL_a51b845773874a6aafe91186f5b4af68",
              "IPY_MODEL_b073fec9004841368ba86e1cfc6f66e9"
            ]
          }
        },
        "1a1933f409ba42d48611f45ce34b160a": {
          "model_module": "@jupyter-widgets/base",
          "model_name": "LayoutModel",
          "state": {
            "_view_name": "LayoutView",
            "grid_template_rows": null,
            "right": null,
            "justify_content": null,
            "_view_module": "@jupyter-widgets/base",
            "overflow": null,
            "_model_module_version": "1.2.0",
            "_view_count": null,
            "flex_flow": null,
            "width": null,
            "min_width": null,
            "border": null,
            "align_items": null,
            "bottom": null,
            "_model_module": "@jupyter-widgets/base",
            "top": null,
            "grid_column": null,
            "overflow_y": null,
            "overflow_x": null,
            "grid_auto_flow": null,
            "grid_area": null,
            "grid_template_columns": null,
            "flex": null,
            "_model_name": "LayoutModel",
            "justify_items": null,
            "grid_row": null,
            "max_height": null,
            "align_content": null,
            "visibility": null,
            "align_self": null,
            "height": null,
            "min_height": null,
            "padding": null,
            "grid_auto_rows": null,
            "grid_gap": null,
            "max_width": null,
            "order": null,
            "_view_module_version": "1.2.0",
            "grid_template_areas": null,
            "object_position": null,
            "object_fit": null,
            "grid_auto_columns": null,
            "margin": null,
            "display": null,
            "left": null
          }
        },
        "a51b845773874a6aafe91186f5b4af68": {
          "model_module": "@jupyter-widgets/controls",
          "model_name": "FloatProgressModel",
          "state": {
            "_view_name": "ProgressView",
            "style": "IPY_MODEL_2b14fb266e424346a7b137fba72b5516",
            "_dom_classes": [],
            "description": "Downloading: 100%",
            "_model_name": "FloatProgressModel",
            "bar_style": "success",
            "max": 1154,
            "_view_module": "@jupyter-widgets/controls",
            "_model_module_version": "1.5.0",
            "value": 1154,
            "_view_count": null,
            "_view_module_version": "1.5.0",
            "orientation": "horizontal",
            "min": 0,
            "description_tooltip": null,
            "_model_module": "@jupyter-widgets/controls",
            "layout": "IPY_MODEL_17428d61d3c8412f9f8d22aad403c862"
          }
        },
        "b073fec9004841368ba86e1cfc6f66e9": {
          "model_module": "@jupyter-widgets/controls",
          "model_name": "HTMLModel",
          "state": {
            "_view_name": "HTMLView",
            "style": "IPY_MODEL_99964be33ab84e848e975320e75330cf",
            "_dom_classes": [],
            "description": "",
            "_model_name": "HTMLModel",
            "placeholder": "​",
            "_view_module": "@jupyter-widgets/controls",
            "_model_module_version": "1.5.0",
            "value": " 1.15k/1.15k [00:00&lt;00:00, 1.43kB/s]",
            "_view_count": null,
            "_view_module_version": "1.5.0",
            "description_tooltip": null,
            "_model_module": "@jupyter-widgets/controls",
            "layout": "IPY_MODEL_71f2edfdcf644362b23bed5ca721bc1f"
          }
        },
        "2b14fb266e424346a7b137fba72b5516": {
          "model_module": "@jupyter-widgets/controls",
          "model_name": "ProgressStyleModel",
          "state": {
            "_view_name": "StyleView",
            "_model_name": "ProgressStyleModel",
            "description_width": "initial",
            "_view_module": "@jupyter-widgets/base",
            "_model_module_version": "1.5.0",
            "_view_count": null,
            "_view_module_version": "1.2.0",
            "bar_color": null,
            "_model_module": "@jupyter-widgets/controls"
          }
        },
        "17428d61d3c8412f9f8d22aad403c862": {
          "model_module": "@jupyter-widgets/base",
          "model_name": "LayoutModel",
          "state": {
            "_view_name": "LayoutView",
            "grid_template_rows": null,
            "right": null,
            "justify_content": null,
            "_view_module": "@jupyter-widgets/base",
            "overflow": null,
            "_model_module_version": "1.2.0",
            "_view_count": null,
            "flex_flow": null,
            "width": null,
            "min_width": null,
            "border": null,
            "align_items": null,
            "bottom": null,
            "_model_module": "@jupyter-widgets/base",
            "top": null,
            "grid_column": null,
            "overflow_y": null,
            "overflow_x": null,
            "grid_auto_flow": null,
            "grid_area": null,
            "grid_template_columns": null,
            "flex": null,
            "_model_name": "LayoutModel",
            "justify_items": null,
            "grid_row": null,
            "max_height": null,
            "align_content": null,
            "visibility": null,
            "align_self": null,
            "height": null,
            "min_height": null,
            "padding": null,
            "grid_auto_rows": null,
            "grid_gap": null,
            "max_width": null,
            "order": null,
            "_view_module_version": "1.2.0",
            "grid_template_areas": null,
            "object_position": null,
            "object_fit": null,
            "grid_auto_columns": null,
            "margin": null,
            "display": null,
            "left": null
          }
        },
        "99964be33ab84e848e975320e75330cf": {
          "model_module": "@jupyter-widgets/controls",
          "model_name": "DescriptionStyleModel",
          "state": {
            "_view_name": "StyleView",
            "_model_name": "DescriptionStyleModel",
            "description_width": "",
            "_view_module": "@jupyter-widgets/base",
            "_model_module_version": "1.5.0",
            "_view_count": null,
            "_view_module_version": "1.2.0",
            "_model_module": "@jupyter-widgets/controls"
          }
        },
        "71f2edfdcf644362b23bed5ca721bc1f": {
          "model_module": "@jupyter-widgets/base",
          "model_name": "LayoutModel",
          "state": {
            "_view_name": "LayoutView",
            "grid_template_rows": null,
            "right": null,
            "justify_content": null,
            "_view_module": "@jupyter-widgets/base",
            "overflow": null,
            "_model_module_version": "1.2.0",
            "_view_count": null,
            "flex_flow": null,
            "width": null,
            "min_width": null,
            "border": null,
            "align_items": null,
            "bottom": null,
            "_model_module": "@jupyter-widgets/base",
            "top": null,
            "grid_column": null,
            "overflow_y": null,
            "overflow_x": null,
            "grid_auto_flow": null,
            "grid_area": null,
            "grid_template_columns": null,
            "flex": null,
            "_model_name": "LayoutModel",
            "justify_items": null,
            "grid_row": null,
            "max_height": null,
            "align_content": null,
            "visibility": null,
            "align_self": null,
            "height": null,
            "min_height": null,
            "padding": null,
            "grid_auto_rows": null,
            "grid_gap": null,
            "max_width": null,
            "order": null,
            "_view_module_version": "1.2.0",
            "grid_template_areas": null,
            "object_position": null,
            "object_fit": null,
            "grid_auto_columns": null,
            "margin": null,
            "display": null,
            "left": null
          }
        },
        "6ca57fa9886b46bfa0cef8dcfa60b662": {
          "model_module": "@jupyter-widgets/controls",
          "model_name": "HBoxModel",
          "state": {
            "_view_name": "HBoxView",
            "_dom_classes": [],
            "_model_name": "HBoxModel",
            "_view_module": "@jupyter-widgets/controls",
            "_model_module_version": "1.5.0",
            "_view_count": null,
            "_view_module_version": "1.5.0",
            "box_style": "",
            "layout": "IPY_MODEL_e251d2e929c74a999344e3f33bde0f37",
            "_model_module": "@jupyter-widgets/controls",
            "children": [
              "IPY_MODEL_10d8f26ac24a41aeb183745c5af84908",
              "IPY_MODEL_36644c98b79f44cbae0885feb32d6e9e"
            ]
          }
        },
        "e251d2e929c74a999344e3f33bde0f37": {
          "model_module": "@jupyter-widgets/base",
          "model_name": "LayoutModel",
          "state": {
            "_view_name": "LayoutView",
            "grid_template_rows": null,
            "right": null,
            "justify_content": null,
            "_view_module": "@jupyter-widgets/base",
            "overflow": null,
            "_model_module_version": "1.2.0",
            "_view_count": null,
            "flex_flow": null,
            "width": null,
            "min_width": null,
            "border": null,
            "align_items": null,
            "bottom": null,
            "_model_module": "@jupyter-widgets/base",
            "top": null,
            "grid_column": null,
            "overflow_y": null,
            "overflow_x": null,
            "grid_auto_flow": null,
            "grid_area": null,
            "grid_template_columns": null,
            "flex": null,
            "_model_name": "LayoutModel",
            "justify_items": null,
            "grid_row": null,
            "max_height": null,
            "align_content": null,
            "visibility": null,
            "align_self": null,
            "height": null,
            "min_height": null,
            "padding": null,
            "grid_auto_rows": null,
            "grid_gap": null,
            "max_width": null,
            "order": null,
            "_view_module_version": "1.2.0",
            "grid_template_areas": null,
            "object_position": null,
            "object_fit": null,
            "grid_auto_columns": null,
            "margin": null,
            "display": null,
            "left": null
          }
        },
        "10d8f26ac24a41aeb183745c5af84908": {
          "model_module": "@jupyter-widgets/controls",
          "model_name": "FloatProgressModel",
          "state": {
            "_view_name": "ProgressView",
            "style": "IPY_MODEL_655ebf3ccb5a48beb1bd731f9100c090",
            "_dom_classes": [],
            "description": "Downloading: 100%",
            "_model_name": "FloatProgressModel",
            "bar_style": "success",
            "max": 1629486723,
            "_view_module": "@jupyter-widgets/controls",
            "_model_module_version": "1.5.0",
            "value": 1629486723,
            "_view_count": null,
            "_view_module_version": "1.5.0",
            "orientation": "horizontal",
            "min": 0,
            "description_tooltip": null,
            "_model_module": "@jupyter-widgets/controls",
            "layout": "IPY_MODEL_96979519c8774f6bb7cc6aefe1253985"
          }
        },
        "36644c98b79f44cbae0885feb32d6e9e": {
          "model_module": "@jupyter-widgets/controls",
          "model_name": "HTMLModel",
          "state": {
            "_view_name": "HTMLView",
            "style": "IPY_MODEL_23062815b376493bb68e168046217c33",
            "_dom_classes": [],
            "description": "",
            "_model_name": "HTMLModel",
            "placeholder": "​",
            "_view_module": "@jupyter-widgets/controls",
            "_model_module_version": "1.5.0",
            "value": " 1.63G/1.63G [00:42&lt;00:00, 38.1MB/s]",
            "_view_count": null,
            "_view_module_version": "1.5.0",
            "description_tooltip": null,
            "_model_module": "@jupyter-widgets/controls",
            "layout": "IPY_MODEL_43f51539508949bab0397ae72fd3145a"
          }
        },
        "655ebf3ccb5a48beb1bd731f9100c090": {
          "model_module": "@jupyter-widgets/controls",
          "model_name": "ProgressStyleModel",
          "state": {
            "_view_name": "StyleView",
            "_model_name": "ProgressStyleModel",
            "description_width": "initial",
            "_view_module": "@jupyter-widgets/base",
            "_model_module_version": "1.5.0",
            "_view_count": null,
            "_view_module_version": "1.2.0",
            "bar_color": null,
            "_model_module": "@jupyter-widgets/controls"
          }
        },
        "96979519c8774f6bb7cc6aefe1253985": {
          "model_module": "@jupyter-widgets/base",
          "model_name": "LayoutModel",
          "state": {
            "_view_name": "LayoutView",
            "grid_template_rows": null,
            "right": null,
            "justify_content": null,
            "_view_module": "@jupyter-widgets/base",
            "overflow": null,
            "_model_module_version": "1.2.0",
            "_view_count": null,
            "flex_flow": null,
            "width": null,
            "min_width": null,
            "border": null,
            "align_items": null,
            "bottom": null,
            "_model_module": "@jupyter-widgets/base",
            "top": null,
            "grid_column": null,
            "overflow_y": null,
            "overflow_x": null,
            "grid_auto_flow": null,
            "grid_area": null,
            "grid_template_columns": null,
            "flex": null,
            "_model_name": "LayoutModel",
            "justify_items": null,
            "grid_row": null,
            "max_height": null,
            "align_content": null,
            "visibility": null,
            "align_self": null,
            "height": null,
            "min_height": null,
            "padding": null,
            "grid_auto_rows": null,
            "grid_gap": null,
            "max_width": null,
            "order": null,
            "_view_module_version": "1.2.0",
            "grid_template_areas": null,
            "object_position": null,
            "object_fit": null,
            "grid_auto_columns": null,
            "margin": null,
            "display": null,
            "left": null
          }
        },
        "23062815b376493bb68e168046217c33": {
          "model_module": "@jupyter-widgets/controls",
          "model_name": "DescriptionStyleModel",
          "state": {
            "_view_name": "StyleView",
            "_model_name": "DescriptionStyleModel",
            "description_width": "",
            "_view_module": "@jupyter-widgets/base",
            "_model_module_version": "1.5.0",
            "_view_count": null,
            "_view_module_version": "1.2.0",
            "_model_module": "@jupyter-widgets/controls"
          }
        },
        "43f51539508949bab0397ae72fd3145a": {
          "model_module": "@jupyter-widgets/base",
          "model_name": "LayoutModel",
          "state": {
            "_view_name": "LayoutView",
            "grid_template_rows": null,
            "right": null,
            "justify_content": null,
            "_view_module": "@jupyter-widgets/base",
            "overflow": null,
            "_model_module_version": "1.2.0",
            "_view_count": null,
            "flex_flow": null,
            "width": null,
            "min_width": null,
            "border": null,
            "align_items": null,
            "bottom": null,
            "_model_module": "@jupyter-widgets/base",
            "top": null,
            "grid_column": null,
            "overflow_y": null,
            "overflow_x": null,
            "grid_auto_flow": null,
            "grid_area": null,
            "grid_template_columns": null,
            "flex": null,
            "_model_name": "LayoutModel",
            "justify_items": null,
            "grid_row": null,
            "max_height": null,
            "align_content": null,
            "visibility": null,
            "align_self": null,
            "height": null,
            "min_height": null,
            "padding": null,
            "grid_auto_rows": null,
            "grid_gap": null,
            "max_width": null,
            "order": null,
            "_view_module_version": "1.2.0",
            "grid_template_areas": null,
            "object_position": null,
            "object_fit": null,
            "grid_auto_columns": null,
            "margin": null,
            "display": null,
            "left": null
          }
        },
        "947a69856dd04022a67a0cd90144160f": {
          "model_module": "@jupyter-widgets/controls",
          "model_name": "HBoxModel",
          "state": {
            "_view_name": "HBoxView",
            "_dom_classes": [],
            "_model_name": "HBoxModel",
            "_view_module": "@jupyter-widgets/controls",
            "_model_module_version": "1.5.0",
            "_view_count": null,
            "_view_module_version": "1.5.0",
            "box_style": "",
            "layout": "IPY_MODEL_b627b8d98dc6450cbc6c3f8cea3a4df3",
            "_model_module": "@jupyter-widgets/controls",
            "children": [
              "IPY_MODEL_11605cecfed04ca2b2c8a4cae13c68d0",
              "IPY_MODEL_ba878957634d4485af90e4746cbdc572"
            ]
          }
        },
        "b627b8d98dc6450cbc6c3f8cea3a4df3": {
          "model_module": "@jupyter-widgets/base",
          "model_name": "LayoutModel",
          "state": {
            "_view_name": "LayoutView",
            "grid_template_rows": null,
            "right": null,
            "justify_content": null,
            "_view_module": "@jupyter-widgets/base",
            "overflow": null,
            "_model_module_version": "1.2.0",
            "_view_count": null,
            "flex_flow": null,
            "width": null,
            "min_width": null,
            "border": null,
            "align_items": null,
            "bottom": null,
            "_model_module": "@jupyter-widgets/base",
            "top": null,
            "grid_column": null,
            "overflow_y": null,
            "overflow_x": null,
            "grid_auto_flow": null,
            "grid_area": null,
            "grid_template_columns": null,
            "flex": null,
            "_model_name": "LayoutModel",
            "justify_items": null,
            "grid_row": null,
            "max_height": null,
            "align_content": null,
            "visibility": null,
            "align_self": null,
            "height": null,
            "min_height": null,
            "padding": null,
            "grid_auto_rows": null,
            "grid_gap": null,
            "max_width": null,
            "order": null,
            "_view_module_version": "1.2.0",
            "grid_template_areas": null,
            "object_position": null,
            "object_fit": null,
            "grid_auto_columns": null,
            "margin": null,
            "display": null,
            "left": null
          }
        },
        "11605cecfed04ca2b2c8a4cae13c68d0": {
          "model_module": "@jupyter-widgets/controls",
          "model_name": "FloatProgressModel",
          "state": {
            "_view_name": "ProgressView",
            "style": "IPY_MODEL_9a28a5d7e2f64edda1a24713064a20a0",
            "_dom_classes": [],
            "description": "Downloading: 100%",
            "_model_name": "FloatProgressModel",
            "bar_style": "success",
            "max": 26,
            "_view_module": "@jupyter-widgets/controls",
            "_model_module_version": "1.5.0",
            "value": 26,
            "_view_count": null,
            "_view_module_version": "1.5.0",
            "orientation": "horizontal",
            "min": 0,
            "description_tooltip": null,
            "_model_module": "@jupyter-widgets/controls",
            "layout": "IPY_MODEL_9f2b85429ab144ccae5476f8f8e99d1a"
          }
        },
        "ba878957634d4485af90e4746cbdc572": {
          "model_module": "@jupyter-widgets/controls",
          "model_name": "HTMLModel",
          "state": {
            "_view_name": "HTMLView",
            "style": "IPY_MODEL_9ff9f6de0a4b44bd8a0ca0624bd5e0b0",
            "_dom_classes": [],
            "description": "",
            "_model_name": "HTMLModel",
            "placeholder": "​",
            "_view_module": "@jupyter-widgets/controls",
            "_model_module_version": "1.5.0",
            "value": " 26.0/26.0 [00:01&lt;00:00, 23.2B/s]",
            "_view_count": null,
            "_view_module_version": "1.5.0",
            "description_tooltip": null,
            "_model_module": "@jupyter-widgets/controls",
            "layout": "IPY_MODEL_c5c4942083464cd19c7c530e91c77436"
          }
        },
        "9a28a5d7e2f64edda1a24713064a20a0": {
          "model_module": "@jupyter-widgets/controls",
          "model_name": "ProgressStyleModel",
          "state": {
            "_view_name": "StyleView",
            "_model_name": "ProgressStyleModel",
            "description_width": "initial",
            "_view_module": "@jupyter-widgets/base",
            "_model_module_version": "1.5.0",
            "_view_count": null,
            "_view_module_version": "1.2.0",
            "bar_color": null,
            "_model_module": "@jupyter-widgets/controls"
          }
        },
        "9f2b85429ab144ccae5476f8f8e99d1a": {
          "model_module": "@jupyter-widgets/base",
          "model_name": "LayoutModel",
          "state": {
            "_view_name": "LayoutView",
            "grid_template_rows": null,
            "right": null,
            "justify_content": null,
            "_view_module": "@jupyter-widgets/base",
            "overflow": null,
            "_model_module_version": "1.2.0",
            "_view_count": null,
            "flex_flow": null,
            "width": null,
            "min_width": null,
            "border": null,
            "align_items": null,
            "bottom": null,
            "_model_module": "@jupyter-widgets/base",
            "top": null,
            "grid_column": null,
            "overflow_y": null,
            "overflow_x": null,
            "grid_auto_flow": null,
            "grid_area": null,
            "grid_template_columns": null,
            "flex": null,
            "_model_name": "LayoutModel",
            "justify_items": null,
            "grid_row": null,
            "max_height": null,
            "align_content": null,
            "visibility": null,
            "align_self": null,
            "height": null,
            "min_height": null,
            "padding": null,
            "grid_auto_rows": null,
            "grid_gap": null,
            "max_width": null,
            "order": null,
            "_view_module_version": "1.2.0",
            "grid_template_areas": null,
            "object_position": null,
            "object_fit": null,
            "grid_auto_columns": null,
            "margin": null,
            "display": null,
            "left": null
          }
        },
        "9ff9f6de0a4b44bd8a0ca0624bd5e0b0": {
          "model_module": "@jupyter-widgets/controls",
          "model_name": "DescriptionStyleModel",
          "state": {
            "_view_name": "StyleView",
            "_model_name": "DescriptionStyleModel",
            "description_width": "",
            "_view_module": "@jupyter-widgets/base",
            "_model_module_version": "1.5.0",
            "_view_count": null,
            "_view_module_version": "1.2.0",
            "_model_module": "@jupyter-widgets/controls"
          }
        },
        "c5c4942083464cd19c7c530e91c77436": {
          "model_module": "@jupyter-widgets/base",
          "model_name": "LayoutModel",
          "state": {
            "_view_name": "LayoutView",
            "grid_template_rows": null,
            "right": null,
            "justify_content": null,
            "_view_module": "@jupyter-widgets/base",
            "overflow": null,
            "_model_module_version": "1.2.0",
            "_view_count": null,
            "flex_flow": null,
            "width": null,
            "min_width": null,
            "border": null,
            "align_items": null,
            "bottom": null,
            "_model_module": "@jupyter-widgets/base",
            "top": null,
            "grid_column": null,
            "overflow_y": null,
            "overflow_x": null,
            "grid_auto_flow": null,
            "grid_area": null,
            "grid_template_columns": null,
            "flex": null,
            "_model_name": "LayoutModel",
            "justify_items": null,
            "grid_row": null,
            "max_height": null,
            "align_content": null,
            "visibility": null,
            "align_self": null,
            "height": null,
            "min_height": null,
            "padding": null,
            "grid_auto_rows": null,
            "grid_gap": null,
            "max_width": null,
            "order": null,
            "_view_module_version": "1.2.0",
            "grid_template_areas": null,
            "object_position": null,
            "object_fit": null,
            "grid_auto_columns": null,
            "margin": null,
            "display": null,
            "left": null
          }
        },
        "65e363886a984775b0b23d643a82f61b": {
          "model_module": "@jupyter-widgets/controls",
          "model_name": "HBoxModel",
          "state": {
            "_view_name": "HBoxView",
            "_dom_classes": [],
            "_model_name": "HBoxModel",
            "_view_module": "@jupyter-widgets/controls",
            "_model_module_version": "1.5.0",
            "_view_count": null,
            "_view_module_version": "1.5.0",
            "box_style": "",
            "layout": "IPY_MODEL_aa36fa29e9364eb09294c748490cbaa2",
            "_model_module": "@jupyter-widgets/controls",
            "children": [
              "IPY_MODEL_c4d08a181e62448fbfd4524b4b648bd5",
              "IPY_MODEL_9e74842bbaf64da989acd93cd08e3163"
            ]
          }
        },
        "aa36fa29e9364eb09294c748490cbaa2": {
          "model_module": "@jupyter-widgets/base",
          "model_name": "LayoutModel",
          "state": {
            "_view_name": "LayoutView",
            "grid_template_rows": null,
            "right": null,
            "justify_content": null,
            "_view_module": "@jupyter-widgets/base",
            "overflow": null,
            "_model_module_version": "1.2.0",
            "_view_count": null,
            "flex_flow": null,
            "width": null,
            "min_width": null,
            "border": null,
            "align_items": null,
            "bottom": null,
            "_model_module": "@jupyter-widgets/base",
            "top": null,
            "grid_column": null,
            "overflow_y": null,
            "overflow_x": null,
            "grid_auto_flow": null,
            "grid_area": null,
            "grid_template_columns": null,
            "flex": null,
            "_model_name": "LayoutModel",
            "justify_items": null,
            "grid_row": null,
            "max_height": null,
            "align_content": null,
            "visibility": null,
            "align_self": null,
            "height": null,
            "min_height": null,
            "padding": null,
            "grid_auto_rows": null,
            "grid_gap": null,
            "max_width": null,
            "order": null,
            "_view_module_version": "1.2.0",
            "grid_template_areas": null,
            "object_position": null,
            "object_fit": null,
            "grid_auto_columns": null,
            "margin": null,
            "display": null,
            "left": null
          }
        },
        "c4d08a181e62448fbfd4524b4b648bd5": {
          "model_module": "@jupyter-widgets/controls",
          "model_name": "FloatProgressModel",
          "state": {
            "_view_name": "ProgressView",
            "style": "IPY_MODEL_8e7fc850138f4ae0b6698b36dcbff917",
            "_dom_classes": [],
            "description": "Downloading: 100%",
            "_model_name": "FloatProgressModel",
            "bar_style": "success",
            "max": 898822,
            "_view_module": "@jupyter-widgets/controls",
            "_model_module_version": "1.5.0",
            "value": 898822,
            "_view_count": null,
            "_view_module_version": "1.5.0",
            "orientation": "horizontal",
            "min": 0,
            "description_tooltip": null,
            "_model_module": "@jupyter-widgets/controls",
            "layout": "IPY_MODEL_f7de863f980b449583c44870252a4c50"
          }
        },
        "9e74842bbaf64da989acd93cd08e3163": {
          "model_module": "@jupyter-widgets/controls",
          "model_name": "HTMLModel",
          "state": {
            "_view_name": "HTMLView",
            "style": "IPY_MODEL_85e9640a278c48f6978369ed11006467",
            "_dom_classes": [],
            "description": "",
            "_model_name": "HTMLModel",
            "placeholder": "​",
            "_view_module": "@jupyter-widgets/controls",
            "_model_module_version": "1.5.0",
            "value": " 899k/899k [00:11&lt;00:00, 75.6kB/s]",
            "_view_count": null,
            "_view_module_version": "1.5.0",
            "description_tooltip": null,
            "_model_module": "@jupyter-widgets/controls",
            "layout": "IPY_MODEL_e11519d16bff4ceeb2fee4a82f029194"
          }
        },
        "8e7fc850138f4ae0b6698b36dcbff917": {
          "model_module": "@jupyter-widgets/controls",
          "model_name": "ProgressStyleModel",
          "state": {
            "_view_name": "StyleView",
            "_model_name": "ProgressStyleModel",
            "description_width": "initial",
            "_view_module": "@jupyter-widgets/base",
            "_model_module_version": "1.5.0",
            "_view_count": null,
            "_view_module_version": "1.2.0",
            "bar_color": null,
            "_model_module": "@jupyter-widgets/controls"
          }
        },
        "f7de863f980b449583c44870252a4c50": {
          "model_module": "@jupyter-widgets/base",
          "model_name": "LayoutModel",
          "state": {
            "_view_name": "LayoutView",
            "grid_template_rows": null,
            "right": null,
            "justify_content": null,
            "_view_module": "@jupyter-widgets/base",
            "overflow": null,
            "_model_module_version": "1.2.0",
            "_view_count": null,
            "flex_flow": null,
            "width": null,
            "min_width": null,
            "border": null,
            "align_items": null,
            "bottom": null,
            "_model_module": "@jupyter-widgets/base",
            "top": null,
            "grid_column": null,
            "overflow_y": null,
            "overflow_x": null,
            "grid_auto_flow": null,
            "grid_area": null,
            "grid_template_columns": null,
            "flex": null,
            "_model_name": "LayoutModel",
            "justify_items": null,
            "grid_row": null,
            "max_height": null,
            "align_content": null,
            "visibility": null,
            "align_self": null,
            "height": null,
            "min_height": null,
            "padding": null,
            "grid_auto_rows": null,
            "grid_gap": null,
            "max_width": null,
            "order": null,
            "_view_module_version": "1.2.0",
            "grid_template_areas": null,
            "object_position": null,
            "object_fit": null,
            "grid_auto_columns": null,
            "margin": null,
            "display": null,
            "left": null
          }
        },
        "85e9640a278c48f6978369ed11006467": {
          "model_module": "@jupyter-widgets/controls",
          "model_name": "DescriptionStyleModel",
          "state": {
            "_view_name": "StyleView",
            "_model_name": "DescriptionStyleModel",
            "description_width": "",
            "_view_module": "@jupyter-widgets/base",
            "_model_module_version": "1.5.0",
            "_view_count": null,
            "_view_module_version": "1.2.0",
            "_model_module": "@jupyter-widgets/controls"
          }
        },
        "e11519d16bff4ceeb2fee4a82f029194": {
          "model_module": "@jupyter-widgets/base",
          "model_name": "LayoutModel",
          "state": {
            "_view_name": "LayoutView",
            "grid_template_rows": null,
            "right": null,
            "justify_content": null,
            "_view_module": "@jupyter-widgets/base",
            "overflow": null,
            "_model_module_version": "1.2.0",
            "_view_count": null,
            "flex_flow": null,
            "width": null,
            "min_width": null,
            "border": null,
            "align_items": null,
            "bottom": null,
            "_model_module": "@jupyter-widgets/base",
            "top": null,
            "grid_column": null,
            "overflow_y": null,
            "overflow_x": null,
            "grid_auto_flow": null,
            "grid_area": null,
            "grid_template_columns": null,
            "flex": null,
            "_model_name": "LayoutModel",
            "justify_items": null,
            "grid_row": null,
            "max_height": null,
            "align_content": null,
            "visibility": null,
            "align_self": null,
            "height": null,
            "min_height": null,
            "padding": null,
            "grid_auto_rows": null,
            "grid_gap": null,
            "max_width": null,
            "order": null,
            "_view_module_version": "1.2.0",
            "grid_template_areas": null,
            "object_position": null,
            "object_fit": null,
            "grid_auto_columns": null,
            "margin": null,
            "display": null,
            "left": null
          }
        },
        "9a8bcfc60cd74f758d38a3fd1cc50460": {
          "model_module": "@jupyter-widgets/controls",
          "model_name": "HBoxModel",
          "state": {
            "_view_name": "HBoxView",
            "_dom_classes": [],
            "_model_name": "HBoxModel",
            "_view_module": "@jupyter-widgets/controls",
            "_model_module_version": "1.5.0",
            "_view_count": null,
            "_view_module_version": "1.5.0",
            "box_style": "",
            "layout": "IPY_MODEL_bb1a3aa04d6f41ec91f3a576b4f28e8a",
            "_model_module": "@jupyter-widgets/controls",
            "children": [
              "IPY_MODEL_3d2082bbf7e4409da8bbd76d2e6fe7fb",
              "IPY_MODEL_63c17c73f30a48898359d35c70a067a7"
            ]
          }
        },
        "bb1a3aa04d6f41ec91f3a576b4f28e8a": {
          "model_module": "@jupyter-widgets/base",
          "model_name": "LayoutModel",
          "state": {
            "_view_name": "LayoutView",
            "grid_template_rows": null,
            "right": null,
            "justify_content": null,
            "_view_module": "@jupyter-widgets/base",
            "overflow": null,
            "_model_module_version": "1.2.0",
            "_view_count": null,
            "flex_flow": null,
            "width": null,
            "min_width": null,
            "border": null,
            "align_items": null,
            "bottom": null,
            "_model_module": "@jupyter-widgets/base",
            "top": null,
            "grid_column": null,
            "overflow_y": null,
            "overflow_x": null,
            "grid_auto_flow": null,
            "grid_area": null,
            "grid_template_columns": null,
            "flex": null,
            "_model_name": "LayoutModel",
            "justify_items": null,
            "grid_row": null,
            "max_height": null,
            "align_content": null,
            "visibility": null,
            "align_self": null,
            "height": null,
            "min_height": null,
            "padding": null,
            "grid_auto_rows": null,
            "grid_gap": null,
            "max_width": null,
            "order": null,
            "_view_module_version": "1.2.0",
            "grid_template_areas": null,
            "object_position": null,
            "object_fit": null,
            "grid_auto_columns": null,
            "margin": null,
            "display": null,
            "left": null
          }
        },
        "3d2082bbf7e4409da8bbd76d2e6fe7fb": {
          "model_module": "@jupyter-widgets/controls",
          "model_name": "FloatProgressModel",
          "state": {
            "_view_name": "ProgressView",
            "style": "IPY_MODEL_0a486671804e45b396cb9c178838f1c7",
            "_dom_classes": [],
            "description": "Downloading: 100%",
            "_model_name": "FloatProgressModel",
            "bar_style": "success",
            "max": 456318,
            "_view_module": "@jupyter-widgets/controls",
            "_model_module_version": "1.5.0",
            "value": 456318,
            "_view_count": null,
            "_view_module_version": "1.5.0",
            "orientation": "horizontal",
            "min": 0,
            "description_tooltip": null,
            "_model_module": "@jupyter-widgets/controls",
            "layout": "IPY_MODEL_50c8c8f105524001b69587c2b48caea5"
          }
        },
        "63c17c73f30a48898359d35c70a067a7": {
          "model_module": "@jupyter-widgets/controls",
          "model_name": "HTMLModel",
          "state": {
            "_view_name": "HTMLView",
            "style": "IPY_MODEL_cbe9c3be3a9145b1b559c195ebbb0221",
            "_dom_classes": [],
            "description": "",
            "_model_name": "HTMLModel",
            "placeholder": "​",
            "_view_module": "@jupyter-widgets/controls",
            "_model_module_version": "1.5.0",
            "value": " 456k/456k [00:10&lt;00:00, 42.5kB/s]",
            "_view_count": null,
            "_view_module_version": "1.5.0",
            "description_tooltip": null,
            "_model_module": "@jupyter-widgets/controls",
            "layout": "IPY_MODEL_8da147a375cd4755afe46248c3ae4a2b"
          }
        },
        "0a486671804e45b396cb9c178838f1c7": {
          "model_module": "@jupyter-widgets/controls",
          "model_name": "ProgressStyleModel",
          "state": {
            "_view_name": "StyleView",
            "_model_name": "ProgressStyleModel",
            "description_width": "initial",
            "_view_module": "@jupyter-widgets/base",
            "_model_module_version": "1.5.0",
            "_view_count": null,
            "_view_module_version": "1.2.0",
            "bar_color": null,
            "_model_module": "@jupyter-widgets/controls"
          }
        },
        "50c8c8f105524001b69587c2b48caea5": {
          "model_module": "@jupyter-widgets/base",
          "model_name": "LayoutModel",
          "state": {
            "_view_name": "LayoutView",
            "grid_template_rows": null,
            "right": null,
            "justify_content": null,
            "_view_module": "@jupyter-widgets/base",
            "overflow": null,
            "_model_module_version": "1.2.0",
            "_view_count": null,
            "flex_flow": null,
            "width": null,
            "min_width": null,
            "border": null,
            "align_items": null,
            "bottom": null,
            "_model_module": "@jupyter-widgets/base",
            "top": null,
            "grid_column": null,
            "overflow_y": null,
            "overflow_x": null,
            "grid_auto_flow": null,
            "grid_area": null,
            "grid_template_columns": null,
            "flex": null,
            "_model_name": "LayoutModel",
            "justify_items": null,
            "grid_row": null,
            "max_height": null,
            "align_content": null,
            "visibility": null,
            "align_self": null,
            "height": null,
            "min_height": null,
            "padding": null,
            "grid_auto_rows": null,
            "grid_gap": null,
            "max_width": null,
            "order": null,
            "_view_module_version": "1.2.0",
            "grid_template_areas": null,
            "object_position": null,
            "object_fit": null,
            "grid_auto_columns": null,
            "margin": null,
            "display": null,
            "left": null
          }
        },
        "cbe9c3be3a9145b1b559c195ebbb0221": {
          "model_module": "@jupyter-widgets/controls",
          "model_name": "DescriptionStyleModel",
          "state": {
            "_view_name": "StyleView",
            "_model_name": "DescriptionStyleModel",
            "description_width": "",
            "_view_module": "@jupyter-widgets/base",
            "_model_module_version": "1.5.0",
            "_view_count": null,
            "_view_module_version": "1.2.0",
            "_model_module": "@jupyter-widgets/controls"
          }
        },
        "8da147a375cd4755afe46248c3ae4a2b": {
          "model_module": "@jupyter-widgets/base",
          "model_name": "LayoutModel",
          "state": {
            "_view_name": "LayoutView",
            "grid_template_rows": null,
            "right": null,
            "justify_content": null,
            "_view_module": "@jupyter-widgets/base",
            "overflow": null,
            "_model_module_version": "1.2.0",
            "_view_count": null,
            "flex_flow": null,
            "width": null,
            "min_width": null,
            "border": null,
            "align_items": null,
            "bottom": null,
            "_model_module": "@jupyter-widgets/base",
            "top": null,
            "grid_column": null,
            "overflow_y": null,
            "overflow_x": null,
            "grid_auto_flow": null,
            "grid_area": null,
            "grid_template_columns": null,
            "flex": null,
            "_model_name": "LayoutModel",
            "justify_items": null,
            "grid_row": null,
            "max_height": null,
            "align_content": null,
            "visibility": null,
            "align_self": null,
            "height": null,
            "min_height": null,
            "padding": null,
            "grid_auto_rows": null,
            "grid_gap": null,
            "max_width": null,
            "order": null,
            "_view_module_version": "1.2.0",
            "grid_template_areas": null,
            "object_position": null,
            "object_fit": null,
            "grid_auto_columns": null,
            "margin": null,
            "display": null,
            "left": null
          }
        },
        "8ac4320ad67b49ec81cac15b39d279b1": {
          "model_module": "@jupyter-widgets/controls",
          "model_name": "HBoxModel",
          "state": {
            "_view_name": "HBoxView",
            "_dom_classes": [],
            "_model_name": "HBoxModel",
            "_view_module": "@jupyter-widgets/controls",
            "_model_module_version": "1.5.0",
            "_view_count": null,
            "_view_module_version": "1.5.0",
            "box_style": "",
            "layout": "IPY_MODEL_c3c24b62a85141498d50c2e005ac4f75",
            "_model_module": "@jupyter-widgets/controls",
            "children": [
              "IPY_MODEL_50ae882a3ed1414896579b5031f3d0a7",
              "IPY_MODEL_f63c2072fdf14295b8c6aca70b25f755"
            ]
          }
        },
        "c3c24b62a85141498d50c2e005ac4f75": {
          "model_module": "@jupyter-widgets/base",
          "model_name": "LayoutModel",
          "state": {
            "_view_name": "LayoutView",
            "grid_template_rows": null,
            "right": null,
            "justify_content": null,
            "_view_module": "@jupyter-widgets/base",
            "overflow": null,
            "_model_module_version": "1.2.0",
            "_view_count": null,
            "flex_flow": null,
            "width": null,
            "min_width": null,
            "border": null,
            "align_items": null,
            "bottom": null,
            "_model_module": "@jupyter-widgets/base",
            "top": null,
            "grid_column": null,
            "overflow_y": null,
            "overflow_x": null,
            "grid_auto_flow": null,
            "grid_area": null,
            "grid_template_columns": null,
            "flex": null,
            "_model_name": "LayoutModel",
            "justify_items": null,
            "grid_row": null,
            "max_height": null,
            "align_content": null,
            "visibility": null,
            "align_self": null,
            "height": null,
            "min_height": null,
            "padding": null,
            "grid_auto_rows": null,
            "grid_gap": null,
            "max_width": null,
            "order": null,
            "_view_module_version": "1.2.0",
            "grid_template_areas": null,
            "object_position": null,
            "object_fit": null,
            "grid_auto_columns": null,
            "margin": null,
            "display": null,
            "left": null
          }
        },
        "50ae882a3ed1414896579b5031f3d0a7": {
          "model_module": "@jupyter-widgets/controls",
          "model_name": "FloatProgressModel",
          "state": {
            "_view_name": "ProgressView",
            "style": "IPY_MODEL_06e72ee74d8d411ca4fc85f04b7fe100",
            "_dom_classes": [],
            "description": "Downloading: 100%",
            "_model_name": "FloatProgressModel",
            "bar_style": "success",
            "max": 1355863,
            "_view_module": "@jupyter-widgets/controls",
            "_model_module_version": "1.5.0",
            "value": 1355863,
            "_view_count": null,
            "_view_module_version": "1.5.0",
            "orientation": "horizontal",
            "min": 0,
            "description_tooltip": null,
            "_model_module": "@jupyter-widgets/controls",
            "layout": "IPY_MODEL_7f35fe5fd3d149c2b1a81c5bec33cdb8"
          }
        },
        "f63c2072fdf14295b8c6aca70b25f755": {
          "model_module": "@jupyter-widgets/controls",
          "model_name": "HTMLModel",
          "state": {
            "_view_name": "HTMLView",
            "style": "IPY_MODEL_1df43f3e170d4f3d9354e1083c018816",
            "_dom_classes": [],
            "description": "",
            "_model_name": "HTMLModel",
            "placeholder": "​",
            "_view_module": "@jupyter-widgets/controls",
            "_model_module_version": "1.5.0",
            "value": " 1.36M/1.36M [00:09&lt;00:00, 138kB/s]",
            "_view_count": null,
            "_view_module_version": "1.5.0",
            "description_tooltip": null,
            "_model_module": "@jupyter-widgets/controls",
            "layout": "IPY_MODEL_1b298a95b5d44ffdb9ff4ed701e252e4"
          }
        },
        "06e72ee74d8d411ca4fc85f04b7fe100": {
          "model_module": "@jupyter-widgets/controls",
          "model_name": "ProgressStyleModel",
          "state": {
            "_view_name": "StyleView",
            "_model_name": "ProgressStyleModel",
            "description_width": "initial",
            "_view_module": "@jupyter-widgets/base",
            "_model_module_version": "1.5.0",
            "_view_count": null,
            "_view_module_version": "1.2.0",
            "bar_color": null,
            "_model_module": "@jupyter-widgets/controls"
          }
        },
        "7f35fe5fd3d149c2b1a81c5bec33cdb8": {
          "model_module": "@jupyter-widgets/base",
          "model_name": "LayoutModel",
          "state": {
            "_view_name": "LayoutView",
            "grid_template_rows": null,
            "right": null,
            "justify_content": null,
            "_view_module": "@jupyter-widgets/base",
            "overflow": null,
            "_model_module_version": "1.2.0",
            "_view_count": null,
            "flex_flow": null,
            "width": null,
            "min_width": null,
            "border": null,
            "align_items": null,
            "bottom": null,
            "_model_module": "@jupyter-widgets/base",
            "top": null,
            "grid_column": null,
            "overflow_y": null,
            "overflow_x": null,
            "grid_auto_flow": null,
            "grid_area": null,
            "grid_template_columns": null,
            "flex": null,
            "_model_name": "LayoutModel",
            "justify_items": null,
            "grid_row": null,
            "max_height": null,
            "align_content": null,
            "visibility": null,
            "align_self": null,
            "height": null,
            "min_height": null,
            "padding": null,
            "grid_auto_rows": null,
            "grid_gap": null,
            "max_width": null,
            "order": null,
            "_view_module_version": "1.2.0",
            "grid_template_areas": null,
            "object_position": null,
            "object_fit": null,
            "grid_auto_columns": null,
            "margin": null,
            "display": null,
            "left": null
          }
        },
        "1df43f3e170d4f3d9354e1083c018816": {
          "model_module": "@jupyter-widgets/controls",
          "model_name": "DescriptionStyleModel",
          "state": {
            "_view_name": "StyleView",
            "_model_name": "DescriptionStyleModel",
            "description_width": "",
            "_view_module": "@jupyter-widgets/base",
            "_model_module_version": "1.5.0",
            "_view_count": null,
            "_view_module_version": "1.2.0",
            "_model_module": "@jupyter-widgets/controls"
          }
        },
        "1b298a95b5d44ffdb9ff4ed701e252e4": {
          "model_module": "@jupyter-widgets/base",
          "model_name": "LayoutModel",
          "state": {
            "_view_name": "LayoutView",
            "grid_template_rows": null,
            "right": null,
            "justify_content": null,
            "_view_module": "@jupyter-widgets/base",
            "overflow": null,
            "_model_module_version": "1.2.0",
            "_view_count": null,
            "flex_flow": null,
            "width": null,
            "min_width": null,
            "border": null,
            "align_items": null,
            "bottom": null,
            "_model_module": "@jupyter-widgets/base",
            "top": null,
            "grid_column": null,
            "overflow_y": null,
            "overflow_x": null,
            "grid_auto_flow": null,
            "grid_area": null,
            "grid_template_columns": null,
            "flex": null,
            "_model_name": "LayoutModel",
            "justify_items": null,
            "grid_row": null,
            "max_height": null,
            "align_content": null,
            "visibility": null,
            "align_self": null,
            "height": null,
            "min_height": null,
            "padding": null,
            "grid_auto_rows": null,
            "grid_gap": null,
            "max_width": null,
            "order": null,
            "_view_module_version": "1.2.0",
            "grid_template_areas": null,
            "object_position": null,
            "object_fit": null,
            "grid_auto_columns": null,
            "margin": null,
            "display": null,
            "left": null
          }
        }
      }
    }
  },
  "cells": [
    {
      "cell_type": "markdown",
      "metadata": {
        "id": "view-in-github",
        "colab_type": "text"
      },
      "source": [
        "<a href=\"https://colab.research.google.com/github/CER-REC/esa-data-bank_banque-donnees-ees/blob/master/Codes/Section_05_VEC_Labeling_for_Tables/02_labeling_VCs_with_zero_shot_learning.ipynb\" target=\"_parent\"><img src=\"https://colab.research.google.com/assets/colab-badge.svg\" alt=\"Open In Colab\"/></a>"
      ]
    },
    {
      "cell_type": "code",
      "metadata": {
        "colab": {
          "base_uri": "https://localhost:8080/"
        },
        "id": "KGzdoHOghfJH",
        "outputId": "8e09eb59-19f6-4e41-ace1-921479b4f7cd"
      },
      "source": [
        "!pip install transformers\n",
        "!pip install tqdm"
      ],
      "execution_count": 1,
      "outputs": [
        {
          "output_type": "stream",
          "text": [
            "Collecting transformers\n",
            "\u001b[?25l  Downloading https://files.pythonhosted.org/packages/b5/d5/c6c23ad75491467a9a84e526ef2364e523d45e2b0fae28a7cbe8689e7e84/transformers-4.8.1-py3-none-any.whl (2.5MB)\n",
            "\u001b[K     |████████████████████████████████| 2.5MB 15.0MB/s \n",
            "\u001b[?25hRequirement already satisfied: importlib-metadata; python_version < \"3.8\" in /usr/local/lib/python3.7/dist-packages (from transformers) (4.5.0)\n",
            "Requirement already satisfied: pyyaml in /usr/local/lib/python3.7/dist-packages (from transformers) (3.13)\n",
            "Collecting huggingface-hub==0.0.12\n",
            "  Downloading https://files.pythonhosted.org/packages/2f/ee/97e253668fda9b17e968b3f97b2f8e53aa0127e8807d24a547687423fe0b/huggingface_hub-0.0.12-py3-none-any.whl\n",
            "Requirement already satisfied: requests in /usr/local/lib/python3.7/dist-packages (from transformers) (2.23.0)\n",
            "Requirement already satisfied: numpy>=1.17 in /usr/local/lib/python3.7/dist-packages (from transformers) (1.19.5)\n",
            "Requirement already satisfied: tqdm>=4.27 in /usr/local/lib/python3.7/dist-packages (from transformers) (4.41.1)\n",
            "Requirement already satisfied: regex!=2019.12.17 in /usr/local/lib/python3.7/dist-packages (from transformers) (2019.12.20)\n",
            "Requirement already satisfied: filelock in /usr/local/lib/python3.7/dist-packages (from transformers) (3.0.12)\n",
            "Collecting sacremoses\n",
            "\u001b[?25l  Downloading https://files.pythonhosted.org/packages/75/ee/67241dc87f266093c533a2d4d3d69438e57d7a90abb216fa076e7d475d4a/sacremoses-0.0.45-py3-none-any.whl (895kB)\n",
            "\u001b[K     |████████████████████████████████| 901kB 38.5MB/s \n",
            "\u001b[?25hCollecting tokenizers<0.11,>=0.10.1\n",
            "\u001b[?25l  Downloading https://files.pythonhosted.org/packages/d4/e2/df3543e8ffdab68f5acc73f613de9c2b155ac47f162e725dcac87c521c11/tokenizers-0.10.3-cp37-cp37m-manylinux_2_5_x86_64.manylinux1_x86_64.manylinux_2_12_x86_64.manylinux2010_x86_64.whl (3.3MB)\n",
            "\u001b[K     |████████████████████████████████| 3.3MB 49.5MB/s \n",
            "\u001b[?25hRequirement already satisfied: packaging in /usr/local/lib/python3.7/dist-packages (from transformers) (20.9)\n",
            "Requirement already satisfied: typing-extensions>=3.6.4; python_version < \"3.8\" in /usr/local/lib/python3.7/dist-packages (from importlib-metadata; python_version < \"3.8\"->transformers) (3.7.4.3)\n",
            "Requirement already satisfied: zipp>=0.5 in /usr/local/lib/python3.7/dist-packages (from importlib-metadata; python_version < \"3.8\"->transformers) (3.4.1)\n",
            "Requirement already satisfied: urllib3!=1.25.0,!=1.25.1,<1.26,>=1.21.1 in /usr/local/lib/python3.7/dist-packages (from requests->transformers) (1.24.3)\n",
            "Requirement already satisfied: chardet<4,>=3.0.2 in /usr/local/lib/python3.7/dist-packages (from requests->transformers) (3.0.4)\n",
            "Requirement already satisfied: certifi>=2017.4.17 in /usr/local/lib/python3.7/dist-packages (from requests->transformers) (2021.5.30)\n",
            "Requirement already satisfied: idna<3,>=2.5 in /usr/local/lib/python3.7/dist-packages (from requests->transformers) (2.10)\n",
            "Requirement already satisfied: six in /usr/local/lib/python3.7/dist-packages (from sacremoses->transformers) (1.15.0)\n",
            "Requirement already satisfied: click in /usr/local/lib/python3.7/dist-packages (from sacremoses->transformers) (7.1.2)\n",
            "Requirement already satisfied: joblib in /usr/local/lib/python3.7/dist-packages (from sacremoses->transformers) (1.0.1)\n",
            "Requirement already satisfied: pyparsing>=2.0.2 in /usr/local/lib/python3.7/dist-packages (from packaging->transformers) (2.4.7)\n",
            "Installing collected packages: huggingface-hub, sacremoses, tokenizers, transformers\n",
            "Successfully installed huggingface-hub-0.0.12 sacremoses-0.0.45 tokenizers-0.10.3 transformers-4.8.1\n",
            "Requirement already satisfied: tqdm in /usr/local/lib/python3.7/dist-packages (4.41.1)\n"
          ],
          "name": "stdout"
        }
      ]
    },
    {
      "cell_type": "code",
      "metadata": {
        "id": "aEvJ1LmnO9Hh",
        "colab": {
          "base_uri": "https://localhost:8080/"
        },
        "outputId": "141329ad-1c6d-4eed-fa63-6769d197a4f1"
      },
      "source": [
        "import pandas as pd\n",
        "from transformers import pipeline\n",
        "from bs4 import BeautifulSoup\n",
        "import nltk\n",
        "from nltk.stem.porter import *\n",
        "from tqdm import tqdm\n",
        "\n",
        "nltk.download('stopwords', quiet=True)"
      ],
      "execution_count": 2,
      "outputs": [
        {
          "output_type": "execute_result",
          "data": {
            "text/plain": [
              "True"
            ]
          },
          "metadata": {
            "tags": []
          },
          "execution_count": 2
        }
      ]
    },
    {
      "cell_type": "code",
      "metadata": {
        "colab": {
          "base_uri": "https://localhost:8080/"
        },
        "id": "kSyfO4I3icdg",
        "outputId": "c6585903-3902-45e8-fb26-1b2cddfa9736"
      },
      "source": [
        "from google.colab import drive\n",
        "drive.mount(\"/content/drive\")"
      ],
      "execution_count": 3,
      "outputs": [
        {
          "output_type": "stream",
          "text": [
            "Mounted at /content/drive\n"
          ],
          "name": "stdout"
        }
      ]
    },
    {
      "cell_type": "code",
      "metadata": {
        "id": "AYzuCqZUPjCo"
      },
      "source": [
        "df_joined = pd.read_csv('/content/drive/MyDrive/data/esa_index_files/zero_shot_esa_index_for_labeling_128_max_tokens.csv', index_col=0)"
      ],
      "execution_count": 4,
      "outputs": []
    },
    {
      "cell_type": "code",
      "metadata": {
        "colab": {
          "base_uri": "https://localhost:8080/"
        },
        "id": "y_VYcHfZJKTk",
        "outputId": "19eb34c8-b900-4dbe-9694-fa37fe59270a"
      },
      "source": [
        "len(df_joined)"
      ],
      "execution_count": 5,
      "outputs": [
        {
          "output_type": "execute_result",
          "data": {
            "text/plain": [
              "1000"
            ]
          },
          "metadata": {
            "tags": []
          },
          "execution_count": 5
        }
      ]
    },
    {
      "cell_type": "code",
      "metadata": {
        "colab": {
          "base_uri": "https://localhost:8080/",
          "height": 593
        },
        "id": "1N82Q4fFi4S2",
        "outputId": "6fd9695d-f5dd-4720-9eab-6b2d16a647d7"
      },
      "source": [
        "df_joined.head()"
      ],
      "execution_count": 6,
      "outputs": [
        {
          "output_type": "execute_result",
          "data": {
            "text/html": [
              "<div>\n",
              "<style scoped>\n",
              "    .dataframe tbody tr th:only-of-type {\n",
              "        vertical-align: middle;\n",
              "    }\n",
              "\n",
              "    .dataframe tbody tr th {\n",
              "        vertical-align: top;\n",
              "    }\n",
              "\n",
              "    .dataframe thead th {\n",
              "        text-align: right;\n",
              "    }\n",
              "</style>\n",
              "<table border=\"1\" class=\"dataframe\">\n",
              "  <thead>\n",
              "    <tr style=\"text-align: right;\">\n",
              "      <th></th>\n",
              "      <th>Index</th>\n",
              "      <th>Content Type</th>\n",
              "      <th>Application Name</th>\n",
              "      <th>Application Short Name</th>\n",
              "      <th>Application Filing Date</th>\n",
              "      <th>Company Name</th>\n",
              "      <th>Commodity</th>\n",
              "      <th>File Name</th>\n",
              "      <th>ESA Folder URL</th>\n",
              "      <th>Document Number</th>\n",
              "      <th>Data ID</th>\n",
              "      <th>PDF Download URL</th>\n",
              "      <th>Application Type (NEB Act)</th>\n",
              "      <th>Pipeline Location</th>\n",
              "      <th>Hearing order</th>\n",
              "      <th>Consultant Name</th>\n",
              "      <th>Pipeline Status</th>\n",
              "      <th>Regulatory Instrument(s)</th>\n",
              "      <th>Application URL</th>\n",
              "      <th>Decision URL</th>\n",
              "      <th>ESA Section(s)</th>\n",
              "      <th>ESA Section(s) Index</th>\n",
              "      <th>ESA Section(s) Topics</th>\n",
              "      <th>CSV Download URL</th>\n",
              "      <th>PDF Page Number</th>\n",
              "      <th>PDF Page Count</th>\n",
              "      <th>PDF Size</th>\n",
              "      <th>PDF Outline</th>\n",
              "      <th>Download folder name</th>\n",
              "      <th>Zipped Project Link</th>\n",
              "      <th>Missing CSV</th>\n",
              "      <th>CSV Filename</th>\n",
              "      <th>csvFileName</th>\n",
              "      <th>text</th>\n",
              "      <th>label</th>\n",
              "      <th>full_text</th>\n",
              "    </tr>\n",
              "  </thead>\n",
              "  <tbody>\n",
              "    <tr>\n",
              "      <th>8889</th>\n",
              "      <td>18023</td>\n",
              "      <td>Table</td>\n",
              "      <td>Application for the 2017 NGTL System Expansion</td>\n",
              "      <td>2017 NGTL System Expansion</td>\n",
              "      <td>3/31/2015</td>\n",
              "      <td>NOVA Gas Transmission Ltd.</td>\n",
              "      <td>Gas</td>\n",
              "      <td>B2-15_ESA_Main_Sec_8_Part1of2 - A4K2S0</td>\n",
              "      <td>https://apps.cer-rec.gc.ca/REGDOCS/Item/LoadRe...</td>\n",
              "      <td>A4K2S0</td>\n",
              "      <td>2758825</td>\n",
              "      <td>https://apps.cer-rec.gc.ca/REGDOCS/File/Downlo...</td>\n",
              "      <td>Large Projects (over 40 km)</td>\n",
              "      <td>Alberta, All</td>\n",
              "      <td>GH-002-2015</td>\n",
              "      <td>TERA a CHTM HILL Company</td>\n",
              "      <td>Operating</td>\n",
              "      <td>GC-126</td>\n",
              "      <td>https://apps.cer-rec.gc.ca/REGDOCS/Item/View/2...</td>\n",
              "      <td>https://apps.cer-rec.gc.ca/REGDOCS/Item/View/2...</td>\n",
              "      <td>Section 8: Cumulative Effects Assessment</td>\n",
              "      <td>15.0</td>\n",
              "      <td>Other, All</td>\n",
              "      <td>http://www.cer-rec.gc.ca/esa-ees/2017ngtl/2017...</td>\n",
              "      <td>359</td>\n",
              "      <td>472.0</td>\n",
              "      <td>6.50</td>\n",
              "      <td>Yes</td>\n",
              "      <td>2017ngtl</td>\n",
              "      <td>http://www.cer-rec.gc.ca/esa-ees/2017ngtl.zip</td>\n",
              "      <td>False</td>\n",
              "      <td>2017ngtl_table-8a-2-reasonably-forseeable-deve...</td>\n",
              "      <td>2758825_359_lattice-v_1.csv</td>\n",
              "      <td>TABLE 8A2 REASONABLY FORSEEABLE DEVELOPMENTS I...</td>\n",
              "      <td>-1</td>\n",
              "      <td>TABLE 8A2 REASONABLY FORSEEABLE DEVELOPMENTS I...</td>\n",
              "    </tr>\n",
              "    <tr>\n",
              "      <th>27753</th>\n",
              "      <td>36887</td>\n",
              "      <td>Table</td>\n",
              "      <td>Application for the Northwest Mainline Expansion</td>\n",
              "      <td>Northwest Mainline</td>\n",
              "      <td>4/29/2011</td>\n",
              "      <td>NOVA Gas Transmission Ltd.</td>\n",
              "      <td>Gas</td>\n",
              "      <td>B3-38 - 7212_App8_EPP - A1Y9J1</td>\n",
              "      <td>https://apps.cer-rec.gc.ca/REGDOCS/Item/LoadRe...</td>\n",
              "      <td>A1Y9J1</td>\n",
              "      <td>684515</td>\n",
              "      <td>https://apps.cer-rec.gc.ca/REGDOCS/File/Downlo...</td>\n",
              "      <td>Large Projects (over 40 km)</td>\n",
              "      <td>Alberta, British Columbia, All</td>\n",
              "      <td>GH-2-2011</td>\n",
              "      <td>TERA Environmental Consultants</td>\n",
              "      <td>Operating</td>\n",
              "      <td>GC-119</td>\n",
              "      <td>https://apps.cer-rec.gc.ca/REGDOCS/Item/View/6...</td>\n",
              "      <td>https://apps.cer-rec.gc.ca/REGDOCS/Item/View/7...</td>\n",
              "      <td>Appendix 8: Environmental Protection Plan</td>\n",
              "      <td>23.0</td>\n",
              "      <td>Environment Protection Plan, All</td>\n",
              "      <td>http://www.cer-rec.gc.ca/esa-ees/nrthwstmnln/n...</td>\n",
              "      <td>22</td>\n",
              "      <td>194.0</td>\n",
              "      <td>4.43</td>\n",
              "      <td>Yes</td>\n",
              "      <td>nrthwstmnln</td>\n",
              "      <td>http://www.cer-rec.gc.ca/esa-ees/nrthwstmnln.zip</td>\n",
              "      <td>False</td>\n",
              "      <td>nrthwstmnln_table-1-resource-specific-mitigati...</td>\n",
              "      <td>684515_22_lattice-v_1.csv</td>\n",
              "      <td>TABLE 1 RESOURCESPECIFIC MITIGATION TABLE Loca...</td>\n",
              "      <td>-1</td>\n",
              "      <td>TABLE 1 RESOURCESPECIFIC MITIGATION TABLE Loca...</td>\n",
              "    </tr>\n",
              "    <tr>\n",
              "      <th>4165</th>\n",
              "      <td>13299</td>\n",
              "      <td>Table</td>\n",
              "      <td>Application for Trans Mountain Expansion Project</td>\n",
              "      <td>Trans Mountain Expansion</td>\n",
              "      <td>12/16/2013</td>\n",
              "      <td>Trans Mountain Pipeline ULC</td>\n",
              "      <td>Oil</td>\n",
              "      <td>B9-23 - V5C_TR_5C9_17of20_VEGETATION - A3S2L6</td>\n",
              "      <td>https://apps.cer-rec.gc.ca/REGDOCS/Item/LoadRe...</td>\n",
              "      <td>A3S2L6</td>\n",
              "      <td>2393491</td>\n",
              "      <td>https://apps.cer-rec.gc.ca/REGDOCS/File/Downlo...</td>\n",
              "      <td>Large Projects (over 40 km)</td>\n",
              "      <td>Alberta, British Columbia, All</td>\n",
              "      <td>OH-001-2014</td>\n",
              "      <td>BGC Engineering Inc., Waterline Resources Inc....</td>\n",
              "      <td>Approved</td>\n",
              "      <td>OC-064. OC-065</td>\n",
              "      <td>https://apps.cer-rec.gc.ca/REGDOCS/Item/View/2...</td>\n",
              "      <td>https://apps.cer-rec.gc.ca/REGDOCS/Item/View/3...</td>\n",
              "      <td>Vegetation Technical Report</td>\n",
              "      <td>161.0</td>\n",
              "      <td>Vegetation, Technology, All</td>\n",
              "      <td>http://www.cer-rec.gc.ca/esa-ees/tmx/tmx_table...</td>\n",
              "      <td>176</td>\n",
              "      <td>180.0</td>\n",
              "      <td>2.64</td>\n",
              "      <td>Yes</td>\n",
              "      <td>tmx</td>\n",
              "      <td>http://www.cer-rec.gc.ca/esa-ees/tmx.zip</td>\n",
              "      <td>False</td>\n",
              "      <td>tmx_table-d4-hope-to-burnaby-observed-plant-sp...</td>\n",
              "      <td>2393491_176_lattice-v_1.csv</td>\n",
              "      <td>TABLE D4 HOPE TO BURNABY OBSERVED PLANT SPECIE...</td>\n",
              "      <td>-1</td>\n",
              "      <td>TABLE D4 HOPE TO BURNABY OBSERVED PLANT SPECIE...</td>\n",
              "    </tr>\n",
              "    <tr>\n",
              "      <th>22455</th>\n",
              "      <td>31589</td>\n",
              "      <td>Table</td>\n",
              "      <td>Application for Line 13 Transfer, Line 13 Reve...</td>\n",
              "      <td>Southern Lights</td>\n",
              "      <td>3/9/2007</td>\n",
              "      <td>Enbridge Southern Lights GP Inc.</td>\n",
              "      <td>Oil</td>\n",
              "      <td>B-2c Vol II - ESA - Section 3 - Consultation A...</td>\n",
              "      <td>https://apps.cer-rec.gc.ca/REGDOCS/Item/LoadRe...</td>\n",
              "      <td>A0Y1T9</td>\n",
              "      <td>456043</td>\n",
              "      <td>https://apps.cer-rec.gc.ca/REGDOCS/File/Downlo...</td>\n",
              "      <td>Large Projects (over 40 km)</td>\n",
              "      <td>Alberta, Saskatchewan, Manitoba, All</td>\n",
              "      <td>OH-3-2007</td>\n",
              "      <td>TERA Environmental Consultants</td>\n",
              "      <td>Operating</td>\n",
              "      <td>XO-E242-03-2008</td>\n",
              "      <td>https://apps.cer-rec.gc.ca/REGDOCS/Item/View/4...</td>\n",
              "      <td>https://apps.cer-rec.gc.ca/REGDOCS/Item/View/4...</td>\n",
              "      <td>Section 3: Consultation</td>\n",
              "      <td>3.0</td>\n",
              "      <td>Other, All</td>\n",
              "      <td>http://www.cer-rec.gc.ca/esa-ees/sthrnlghts/st...</td>\n",
              "      <td>15</td>\n",
              "      <td>24.0</td>\n",
              "      <td>0.28</td>\n",
              "      <td>Yes</td>\n",
              "      <td>sthrnlghts</td>\n",
              "      <td>http://www.cer-rec.gc.ca/esa-ees/sthrnlghts.zip</td>\n",
              "      <td>False</td>\n",
              "      <td>sthrnlghts_table-3-2-consultation-activities-w...</td>\n",
              "      <td>456043_15_lattice-v_1.csv</td>\n",
              "      <td>TABLE 32 CONSULTATION ACTIVITIES WITH PROVINCI...</td>\n",
              "      <td>-1</td>\n",
              "      <td>TABLE 32 CONSULTATION ACTIVITIES WITH PROVINCI...</td>\n",
              "    </tr>\n",
              "    <tr>\n",
              "      <th>9544</th>\n",
              "      <td>18678</td>\n",
              "      <td>Table</td>\n",
              "      <td>Application for the Towerbirch Expansion Project</td>\n",
              "      <td>Towerbirch</td>\n",
              "      <td>9/2/2015</td>\n",
              "      <td>NOVA Gas Transmission Ltd.</td>\n",
              "      <td>Gas</td>\n",
              "      <td>A72401-12 V3 04 ESA Section 5-Part 3 to Sectio...</td>\n",
              "      <td>https://apps.cer-rec.gc.ca/REGDOCS/Item/LoadRe...</td>\n",
              "      <td>A4T0Z2</td>\n",
              "      <td>2813816</td>\n",
              "      <td>https://apps.cer-rec.gc.ca/REGDOCS/File/Downlo...</td>\n",
              "      <td>Large Projects (over 40 km)</td>\n",
              "      <td>Alberta, British Columbia, All</td>\n",
              "      <td>GH-003-2015</td>\n",
              "      <td>Golder Associates</td>\n",
              "      <td>Operating</td>\n",
              "      <td>GC-127</td>\n",
              "      <td>https://apps.cer-rec.gc.ca/REGDOCS/Item/View/2...</td>\n",
              "      <td>https://apps.cer-rec.gc.ca/REGDOCS/Item/View/3...</td>\n",
              "      <td>Section 5: Environmental and Socio-Economic Se...</td>\n",
              "      <td>3.0</td>\n",
              "      <td>Human, All</td>\n",
              "      <td>http://www.cer-rec.gc.ca/esa-ees/twrbrch/twrbr...</td>\n",
              "      <td>64</td>\n",
              "      <td>423.0</td>\n",
              "      <td>8.14</td>\n",
              "      <td>Yes</td>\n",
              "      <td>twrbrch</td>\n",
              "      <td>http://www.cer-rec.gc.ca/esa-ees/twrbrch.zip</td>\n",
              "      <td>True</td>\n",
              "      <td>twrbrch_table-5-21-8-major-proposed-approved-a...</td>\n",
              "      <td>2813816_64_lattice-v_3.csv</td>\n",
              "      <td>Table 5218 Major Proposed Approved and Recentl...</td>\n",
              "      <td>-1</td>\n",
              "      <td>Table 5218 Major Proposed Approved and Recentl...</td>\n",
              "    </tr>\n",
              "  </tbody>\n",
              "</table>\n",
              "</div>"
            ],
            "text/plain": [
              "       Index  ...                                          full_text\n",
              "8889   18023  ...  TABLE 8A2 REASONABLY FORSEEABLE DEVELOPMENTS I...\n",
              "27753  36887  ...  TABLE 1 RESOURCESPECIFIC MITIGATION TABLE Loca...\n",
              "4165   13299  ...  TABLE D4 HOPE TO BURNABY OBSERVED PLANT SPECIE...\n",
              "22455  31589  ...  TABLE 32 CONSULTATION ACTIVITIES WITH PROVINCI...\n",
              "9544   18678  ...  Table 5218 Major Proposed Approved and Recentl...\n",
              "\n",
              "[5 rows x 36 columns]"
            ]
          },
          "metadata": {
            "tags": []
          },
          "execution_count": 6
        }
      ]
    },
    {
      "cell_type": "code",
      "metadata": {
        "id": "FDuUc81sPkjT",
        "colab": {
          "base_uri": "https://localhost:8080/",
          "height": 310,
          "referenced_widgets": [
            "f1ccc9c3763f4769b1c5b1bbfd3676a6",
            "1a1933f409ba42d48611f45ce34b160a",
            "a51b845773874a6aafe91186f5b4af68",
            "b073fec9004841368ba86e1cfc6f66e9",
            "2b14fb266e424346a7b137fba72b5516",
            "17428d61d3c8412f9f8d22aad403c862",
            "99964be33ab84e848e975320e75330cf",
            "71f2edfdcf644362b23bed5ca721bc1f",
            "6ca57fa9886b46bfa0cef8dcfa60b662",
            "e251d2e929c74a999344e3f33bde0f37",
            "10d8f26ac24a41aeb183745c5af84908",
            "36644c98b79f44cbae0885feb32d6e9e",
            "655ebf3ccb5a48beb1bd731f9100c090",
            "96979519c8774f6bb7cc6aefe1253985",
            "23062815b376493bb68e168046217c33",
            "43f51539508949bab0397ae72fd3145a",
            "947a69856dd04022a67a0cd90144160f",
            "b627b8d98dc6450cbc6c3f8cea3a4df3",
            "11605cecfed04ca2b2c8a4cae13c68d0",
            "ba878957634d4485af90e4746cbdc572",
            "9a28a5d7e2f64edda1a24713064a20a0",
            "9f2b85429ab144ccae5476f8f8e99d1a",
            "9ff9f6de0a4b44bd8a0ca0624bd5e0b0",
            "c5c4942083464cd19c7c530e91c77436",
            "65e363886a984775b0b23d643a82f61b",
            "aa36fa29e9364eb09294c748490cbaa2",
            "c4d08a181e62448fbfd4524b4b648bd5",
            "9e74842bbaf64da989acd93cd08e3163",
            "8e7fc850138f4ae0b6698b36dcbff917",
            "f7de863f980b449583c44870252a4c50",
            "85e9640a278c48f6978369ed11006467",
            "e11519d16bff4ceeb2fee4a82f029194",
            "9a8bcfc60cd74f758d38a3fd1cc50460",
            "bb1a3aa04d6f41ec91f3a576b4f28e8a",
            "3d2082bbf7e4409da8bbd76d2e6fe7fb",
            "63c17c73f30a48898359d35c70a067a7",
            "0a486671804e45b396cb9c178838f1c7",
            "50c8c8f105524001b69587c2b48caea5",
            "cbe9c3be3a9145b1b559c195ebbb0221",
            "8da147a375cd4755afe46248c3ae4a2b",
            "8ac4320ad67b49ec81cac15b39d279b1",
            "c3c24b62a85141498d50c2e005ac4f75",
            "50ae882a3ed1414896579b5031f3d0a7",
            "f63c2072fdf14295b8c6aca70b25f755",
            "06e72ee74d8d411ca4fc85f04b7fe100",
            "7f35fe5fd3d149c2b1a81c5bec33cdb8",
            "1df43f3e170d4f3d9354e1083c018816",
            "1b298a95b5d44ffdb9ff4ed701e252e4"
          ]
        },
        "outputId": "da4f5a44-baa7-4178-ac81-d04c828de941"
      },
      "source": [
        "# Explicitly ask for tensor allocation on CUDA device :0\n",
        "classifier = pipeline(\"zero-shot-classification\", device=0)"
      ],
      "execution_count": 7,
      "outputs": [
        {
          "output_type": "display_data",
          "data": {
            "application/vnd.jupyter.widget-view+json": {
              "model_id": "f1ccc9c3763f4769b1c5b1bbfd3676a6",
              "version_minor": 0,
              "version_major": 2
            },
            "text/plain": [
              "HBox(children=(FloatProgress(value=0.0, description='Downloading', max=1154.0, style=ProgressStyle(description…"
            ]
          },
          "metadata": {
            "tags": []
          }
        },
        {
          "output_type": "stream",
          "text": [
            "\n"
          ],
          "name": "stdout"
        },
        {
          "output_type": "display_data",
          "data": {
            "application/vnd.jupyter.widget-view+json": {
              "model_id": "6ca57fa9886b46bfa0cef8dcfa60b662",
              "version_minor": 0,
              "version_major": 2
            },
            "text/plain": [
              "HBox(children=(FloatProgress(value=0.0, description='Downloading', max=1629486723.0, style=ProgressStyle(descr…"
            ]
          },
          "metadata": {
            "tags": []
          }
        },
        {
          "output_type": "stream",
          "text": [
            "\n"
          ],
          "name": "stdout"
        },
        {
          "output_type": "display_data",
          "data": {
            "application/vnd.jupyter.widget-view+json": {
              "model_id": "947a69856dd04022a67a0cd90144160f",
              "version_minor": 0,
              "version_major": 2
            },
            "text/plain": [
              "HBox(children=(FloatProgress(value=0.0, description='Downloading', max=26.0, style=ProgressStyle(description_w…"
            ]
          },
          "metadata": {
            "tags": []
          }
        },
        {
          "output_type": "stream",
          "text": [
            "\n"
          ],
          "name": "stdout"
        },
        {
          "output_type": "display_data",
          "data": {
            "application/vnd.jupyter.widget-view+json": {
              "model_id": "65e363886a984775b0b23d643a82f61b",
              "version_minor": 0,
              "version_major": 2
            },
            "text/plain": [
              "HBox(children=(FloatProgress(value=0.0, description='Downloading', max=898822.0, style=ProgressStyle(descripti…"
            ]
          },
          "metadata": {
            "tags": []
          }
        },
        {
          "output_type": "stream",
          "text": [
            "\n"
          ],
          "name": "stdout"
        },
        {
          "output_type": "display_data",
          "data": {
            "application/vnd.jupyter.widget-view+json": {
              "model_id": "9a8bcfc60cd74f758d38a3fd1cc50460",
              "version_minor": 0,
              "version_major": 2
            },
            "text/plain": [
              "HBox(children=(FloatProgress(value=0.0, description='Downloading', max=456318.0, style=ProgressStyle(descripti…"
            ]
          },
          "metadata": {
            "tags": []
          }
        },
        {
          "output_type": "stream",
          "text": [
            "\n"
          ],
          "name": "stdout"
        },
        {
          "output_type": "display_data",
          "data": {
            "application/vnd.jupyter.widget-view+json": {
              "model_id": "8ac4320ad67b49ec81cac15b39d279b1",
              "version_minor": 0,
              "version_major": 2
            },
            "text/plain": [
              "HBox(children=(FloatProgress(value=0.0, description='Downloading', max=1355863.0, style=ProgressStyle(descript…"
            ]
          },
          "metadata": {
            "tags": []
          }
        },
        {
          "output_type": "stream",
          "text": [
            "\n"
          ],
          "name": "stdout"
        }
      ]
    },
    {
      "cell_type": "code",
      "metadata": {
        "colab": {
          "base_uri": "https://localhost:8080/",
          "height": 86
        },
        "id": "Ip3S0PYHPmPJ",
        "outputId": "ed053183-dd6b-44fa-9bd1-1150ba2fba81"
      },
      "source": [
        "df_joined.iloc[100]['text']"
      ],
      "execution_count": 8,
      "outputs": [
        {
          "output_type": "execute_result",
          "data": {
            "application/vnd.google.colaboratory.intrinsic+json": {
              "type": "string"
            },
            "text/plain": [
              "'TABLE 1 RESOURCESPECIFIC MITIGATION TABLE Location KP Issue Timing Windows and or Regulatory Guidelines Mitigation Comments RARE PLANTS 2240 to 229 3640 to 3641 Iowa golden saxifrage NA Minimize surface disturbance by limiting grubbing to the trench line only If a level travel surface is needed for safety consider ramping over the travel lane with snow Restore contours following construction to maintain microtopography and hydrology Iowa golden saxifrage has been observed recolonizing disturbance at a variety of locations 070 to 100 820 to 821 1680 to 1681 2800 to 2801 3300 to 3301 3640 to 3641 3890 to 3891 7000 to 7001 western Jacobsladder NA Minimize surface disturbance by limiting grubbing to the trench line only If a level travel surface is needed for safety consider ramping over'"
            ]
          },
          "metadata": {
            "tags": []
          },
          "execution_count": 8
        }
      ]
    },
    {
      "cell_type": "code",
      "metadata": {
        "id": "7hM_whVXPpDW"
      },
      "source": [
        "sequences = []\n",
        "\n",
        "for x in range(len(df_joined)):\n",
        "  sequences.append(df_joined.iloc[x]['text'])"
      ],
      "execution_count": 9,
      "outputs": []
    },
    {
      "cell_type": "code",
      "metadata": {
        "colab": {
          "base_uri": "https://localhost:8080/"
        },
        "id": "y2i8SmQVVF0J",
        "outputId": "23794445-14cb-45d8-facc-65c3d45eec65"
      },
      "source": [
        "len(sequences)"
      ],
      "execution_count": 10,
      "outputs": [
        {
          "output_type": "execute_result",
          "data": {
            "text/plain": [
              "1000"
            ]
          },
          "metadata": {
            "tags": []
          },
          "execution_count": 10
        }
      ]
    },
    {
      "cell_type": "code",
      "metadata": {
        "colab": {
          "base_uri": "https://localhost:8080/",
          "height": 102
        },
        "id": "dwT0g0J56L2q",
        "outputId": "9cc023dc-3e3e-4d69-eb99-a2b735525ba9"
      },
      "source": [
        "sequences[0]"
      ],
      "execution_count": 11,
      "outputs": [
        {
          "output_type": "execute_result",
          "data": {
            "application/vnd.google.colaboratory.intrinsic+json": {
              "type": "string"
            },
            "text/plain": [
              "'TABLE 8A2 REASONABLY FORSEEABLE DEVELOPMENTS IDENTIFIED WITHIN THE SPATIAL BOUNDARIES OF THE BEAR CANYON SECTION Map ID1 Title Proponent Description Construction Schedule2 Assessment Type Quantitative or Qualitative Physical Environment and Soils LSA Water Quality and Quantity RSA Air Quality RSA Acoustic Environment RSA Fish and Fish Habitat RSA Wetlands RSA Vegetation RSA Wildlife and Wildlife Habitat RSA HORU RSA Heritage Resources RSA TRLU RSA Community RSA 13307912 W6M to 6367913 W6M Trioil Resources Ltd Pipeline Quantitative 13307912 W6M to 13307912 W6M Trioil Resources Ltd Pipeline Quantitative 634876 W6M to 1034876 W6M Venturion Oil Limited Pipeline Quantitative 1234876 W6M to 634876 W6M Venturion Oil Limited Pipeline Quantitative 634876 W6M to 1234876 W6M Venturion Oil Limited Pipeline Quantitative 1234876 W6M to 634876 W6M Venturion Oil Limited Pipeline Quantitative 1034876 W6M'"
            ]
          },
          "metadata": {
            "tags": []
          },
          "execution_count": 11
        }
      ]
    },
    {
      "cell_type": "code",
      "metadata": {
        "colab": {
          "base_uri": "https://localhost:8080/"
        },
        "id": "loDVpdHvP2XQ",
        "outputId": "ad0f621e-2a2c-49d1-a643-b826fec1c161"
      },
      "source": [
        "candidate_labels = \"\"\"Physical and meteorological environment,Soil and soil productivity,Vegetation,Water quality and quantity,Fish and fish habitat,Wetlands,Wildlife and wildlife habitat,Species at Risk or Species of Special Status and related habitat,Greenhouse gas (GHG) emissions and climate change,GHG Emissions and Climate Change – Assessment of Upstream GHG Emissions,Air emissions,Acoustic environment,Electromagnetism and Corona Discharge,Human occupancy and resource use,Heritage resources,Navigation and navigation safety,Traditional land and resource use,Social and cultural well-being,Human health and aesthetics,Infrastructure and services,Employment and economy,Environmental Obligations,Rights of Indigenous Peoples\"\"\".split(',')\n",
        "hypothesis_template = \"The data from this table is about {}.\"\n",
        "candidate_labels"
      ],
      "execution_count": 12,
      "outputs": [
        {
          "output_type": "execute_result",
          "data": {
            "text/plain": [
              "['Physical and meteorological environment',\n",
              " 'Soil and soil productivity',\n",
              " 'Vegetation',\n",
              " 'Water quality and quantity',\n",
              " 'Fish and fish habitat',\n",
              " 'Wetlands',\n",
              " 'Wildlife and wildlife habitat',\n",
              " 'Species at Risk or Species of Special Status and related habitat',\n",
              " 'Greenhouse gas (GHG) emissions and climate change',\n",
              " 'GHG Emissions and Climate Change – Assessment of Upstream GHG Emissions',\n",
              " 'Air emissions',\n",
              " 'Acoustic environment',\n",
              " 'Electromagnetism and Corona Discharge',\n",
              " 'Human occupancy and resource use',\n",
              " 'Heritage resources',\n",
              " 'Navigation and navigation safety',\n",
              " 'Traditional land and resource use',\n",
              " 'Social and cultural well-being',\n",
              " 'Human health and aesthetics',\n",
              " 'Infrastructure and services',\n",
              " 'Employment and economy',\n",
              " 'Environmental Obligations',\n",
              " 'Rights of Indigenous Peoples']"
            ]
          },
          "metadata": {
            "tags": []
          },
          "execution_count": 12
        }
      ]
    },
    {
      "cell_type": "code",
      "metadata": {
        "id": "p5AbPnG318bj"
      },
      "source": [
        "import gc\n",
        "import torch\n",
        "\n",
        "gc.collect()\n",
        "\n",
        "torch.cuda.empty_cache()"
      ],
      "execution_count": 13,
      "outputs": []
    },
    {
      "cell_type": "code",
      "metadata": {
        "colab": {
          "base_uri": "https://localhost:8080/",
          "height": 103
        },
        "id": "Ne-OdCs32Fyb",
        "outputId": "2e5482b1-7e5d-48de-b702-ed61ee66400e"
      },
      "source": [
        "torch.cuda.memory_summary(device=None, abbreviated=False)"
      ],
      "execution_count": 14,
      "outputs": [
        {
          "output_type": "execute_result",
          "data": {
            "application/vnd.google.colaboratory.intrinsic+json": {
              "type": "string"
            },
            "text/plain": [
              "'|===========================================================================|\\n|                  PyTorch CUDA memory summary, device ID 0                 |\\n|---------------------------------------------------------------------------|\\n|            CUDA OOMs: 0            |        cudaMalloc retries: 0         |\\n|===========================================================================|\\n|        Metric         | Cur Usage  | Peak Usage | Tot Alloc  | Tot Freed  |\\n|---------------------------------------------------------------------------|\\n| Allocated memory      |    1553 MB |    1553 MB |    1553 MB |       0 B  |\\n|       from large pool |    1552 MB |    1552 MB |    1552 MB |       0 B  |\\n|       from small pool |       1 MB |       1 MB |       1 MB |       0 B  |\\n|---------------------------------------------------------------------------|\\n| Active memory         |    1553 MB |    1553 MB |    1553 MB |       0 B  |\\n|       from large pool |    1552 MB |    1552 MB |    1552 MB |       0 B  |\\n|       from small pool |       1 MB |       1 MB |       1 MB |       0 B  |\\n|---------------------------------------------------------------------------|\\n| GPU reserved memory   |    1580 MB |    1580 MB |    1580 MB |       0 B  |\\n|       from large pool |    1578 MB |    1578 MB |    1578 MB |       0 B  |\\n|       from small pool |       2 MB |       2 MB |       2 MB |       0 B  |\\n|---------------------------------------------------------------------------|\\n| Non-releasable memory |   26731 KB |   27664 KB |  609936 KB |  583204 KB |\\n|       from large pool |   26252 KB |   26252 KB |  607892 KB |  581640 KB |\\n|       from small pool |     479 KB |    2044 KB |    2044 KB |    1564 KB |\\n|---------------------------------------------------------------------------|\\n| Allocations           |     515    |     515    |     515    |       0    |\\n|       from large pool |     196    |     196    |     196    |       0    |\\n|       from small pool |     319    |     319    |     319    |       0    |\\n|---------------------------------------------------------------------------|\\n| Active allocs         |     515    |     515    |     515    |       0    |\\n|       from large pool |     196    |     196    |     196    |       0    |\\n|       from small pool |     319    |     319    |     319    |       0    |\\n|---------------------------------------------------------------------------|\\n| GPU reserved segments |      79    |      79    |      79    |       0    |\\n|       from large pool |      78    |      78    |      78    |       0    |\\n|       from small pool |       1    |       1    |       1    |       0    |\\n|---------------------------------------------------------------------------|\\n| Non-releasable allocs |       5    |       5    |      39    |      34    |\\n|       from large pool |       4    |       4    |      38    |      34    |\\n|       from small pool |       1    |       1    |       1    |       0    |\\n|===========================================================================|\\n'"
            ]
          },
          "metadata": {
            "tags": []
          },
          "execution_count": 14
        }
      ]
    },
    {
      "cell_type": "code",
      "metadata": {
        "id": "9F2Z8U3XYDSa",
        "colab": {
          "base_uri": "https://localhost:8080/"
        },
        "outputId": "389aa5f7-1f44-4fac-bbe0-c44f48ec0396"
      },
      "source": [
        "from itertools import zip_longest\n",
        " \n",
        "def grouper(iterable_obj, count, fillvalue=None):\n",
        "    args = [iter(iterable_obj)] * count\n",
        "    return zip_longest(*args, fillvalue=fillvalue)\n",
        "\n",
        "output = [] \n",
        " \n",
        "# for e in range(epochs):\n",
        "#     for images, labels in train_loader:   \n",
        "#         if torch.cuda.is_available():\n",
        "#             images, labels = images.cuda(), labels.cuda()   \n",
        "#         # blablabla \n",
        "\n",
        "for sequence_batch in tqdm(grouper(sequences, 4, \"\")):\n",
        "    print(sequence_batch)\n",
        "    output.append(classifier(sequence_batch, candidate_labels, hypothesis_template=hypothesis_template, multi_label=True))"
      ],
      "execution_count": 15,
      "outputs": [
        {
          "output_type": "stream",
          "text": [
            "\r0it [00:00, ?it/s]"
          ],
          "name": "stderr"
        },
        {
          "output_type": "stream",
          "text": [
            "('TABLE 8A2 REASONABLY FORSEEABLE DEVELOPMENTS IDENTIFIED WITHIN THE SPATIAL BOUNDARIES OF THE BEAR CANYON SECTION Map ID1 Title Proponent Description Construction Schedule2 Assessment Type Quantitative or Qualitative Physical Environment and Soils LSA Water Quality and Quantity RSA Air Quality RSA Acoustic Environment RSA Fish and Fish Habitat RSA Wetlands RSA Vegetation RSA Wildlife and Wildlife Habitat RSA HORU RSA Heritage Resources RSA TRLU RSA Community RSA 13307912 W6M to 6367913 W6M Trioil Resources Ltd Pipeline Quantitative 13307912 W6M to 13307912 W6M Trioil Resources Ltd Pipeline Quantitative 634876 W6M to 1034876 W6M Venturion Oil Limited Pipeline Quantitative 1234876 W6M to 634876 W6M Venturion Oil Limited Pipeline Quantitative 634876 W6M to 1234876 W6M Venturion Oil Limited Pipeline Quantitative 1234876 W6M to 634876 W6M Venturion Oil Limited Pipeline Quantitative 1034876 W6M', 'TABLE 1 RESOURCESPECIFIC MITIGATION TABLE Location Issues Timing Windows and or Regulatory Guidelines Mitigation Comments VEGETATION General All Three Sections of Pipeline Rare Plant Species and Rare Ecological Communities NA The locations of rare plant sitespecific measures will be determined based on input from the supplemental rare plant species study and will be implemented in the field by the Environmental Inspector If required additional mitigation measures will be implemented into the Rare Plant Reports following the summer 2011 field surveys KPK 46 to 47 Site Specific Mitigation for 2009 Rare Plant Locations white addersmouth orchid NA For any plants that are determined to be located on spoil side store spoil on top of frozen ground or snow layer For any plants that are determined to be located on', 'TABLE D4 HOPE TO BURNABY OBSERVED PLANT SPECIES BY TYPE AND COMMON NAME Common Name Scientific Name Bebbs sedge Carex bebbii bentgrass species Agrostis sp blue wildrye Elymus glaucus ssp glaucus bluegrass species Poa sp bluejoint reedgrass Calamagrostis canadensis var canadensis blunt spikerush Eleocharis obtusa bristlestalked sedge Carex leptalea ssp leptalea brome species Bromus sp bronze sedge Carex aenea brown sedge species Carex sp bulrush species Scirpus sp California brome Bromus carinatus Columbia brome Bromus vulgaris Columbia needlegrass Achnatherum nelsonii ssp dorei Crawfords sedge Carex crawfordii Cusicks sedge Carex cusickii Deweys sedge Carex deweyana var bolanderi Falkland Island sedge Carex macloviana field sedge Carex praegracilis forked woodrush Luzula fastigiata fowl bluegrass Poa palustris grey sedge Carex canescens ssp canescens hair bentgrass Agrostis scabra Hendersons sedge Carex hendersonii inflated', 'TABLE 32 CONSULTATION ACTIVITIES WITH PROVINCIAL AGENCIES Stakeholder Group Agency Name Name and Title of Contact Method of Engagement Date of Consultation Activity Reason for Engagement Consultation Outcomes Issues Concerns Commitments Followup Actions Where Issue Addressed in ESA RM of Argyle No 102 Gord Dearsley Administrator Letter sent Telephone conversation Telephone conversation October 27 2006 November 30 2006 December 14 2006 Send project information Request for waste disposal information No concerns with the proposed project Argyll will accept construction waste with a 20tonne disposal fee NA NA NA RM of Edenwold No 158 Sherry Wagman Administrator Telephone conversation December 15 2006 Request for project concerns Request for zoning information White City Station is zoned as agricultural and there were no conflicts NA NA Section 5214 RM of Glenwood')\n"
          ],
          "name": "stdout"
        },
        {
          "output_type": "stream",
          "text": [
            "\r1it [00:02,  2.05s/it]"
          ],
          "name": "stderr"
        },
        {
          "output_type": "stream",
          "text": [
            "('Table 5218 Major Proposed Approved and Recently Completed Projects in the SocioEconomic Study Area G8 Properties Station 44 Town Centre power centre big box stores hotel truck centre mixed density residential 5000 On hold NA2023', 'Table 20A4 Baseline Visual Value for the LAA and RAA Visual Value Rating Area in LAA ha Percent of Total LAA Area in RAA ha Percent of Total RAA Very low 734 12 4570 17 Low 1444 26 8254 30 Moderate 2290 41 10517 39 High 875 15 3553 13 Very high 353 6 412 2 Total 5657 100 27276 100', 'Table 216 Maximum Predicted GroundLevel Concentrations of CACs H2S Benzene and Mercaptans Project Alone Case Substance Averaging Period Maximum Predicted Ground Level Concentration gm3 Ambient Background Concentration gm3 Maximum Predicted Ground Level Concentration Including Background gm3 Regulatory Criteria gm3 CO 1hour 1160 03 1163 35000 CO 8hour 1078 02 1080 15000 H2S 1hour a 07 14 21 15 H2S 24hour 03 14 17 5 H2S Annual 20E03 05 05 Benzene 1hour a 102 102 30 Benzene 24hour 32 16 48 10 d Benzene Annual 01 07 08 3 Mercaptans 10minute b 08 08 13 c Mercaptans 1hour a 05 05 Mercaptans 24hour 02 02 Mercaptans Annual 20E03 20E03 NOTES a As per the AEP AQMG ESRD 2013a the highest eight 1hour average predicted concentrations in each single year', 'Table D1 Soil Legend for the NGTL West Path Delivery Project Rocky View Section Soil Unit Symbol Classification Parent Material Drainage Class1 Dominant Texture Topsoil Subsoil1 Specified Topsoil Salvage Depth cm Dominant Colour TopsoilSubsoil distinct indistinct1 Wind Erosion Risk Water Erosion Risk Soil Compaction Risk Soil Rutting Risk Trench Instability Potential Slope Range Surface Stoniness Extent km Carway CRW Calcareous Black Chernozem Glaciofluvial Well Loamy sand loamy fine sand fine sandy loam loam loamy sand loamy fine sand sandy loam fine sandy loam loam 1530 Black very dark brown very dark grayish brown dark yellowish brown dark grayish brown olive brown variable Low1 Low to High Low Low to Moderate Yes 015 4570 S0S1 105 Dunvargan DVG Orthic Black Chernozem Till Moderately well to well Sandy loam fine')\n"
          ],
          "name": "stdout"
        },
        {
          "output_type": "stream",
          "text": [
            "\r2it [00:03,  1.86s/it]"
          ],
          "name": "stderr"
        },
        {
          "output_type": "stream",
          "text": [
            "('Table 67 Agricultural Soils Ratings Infrastructure PhysiographicRegion Phase CLIRating1 Areaha Percentage Eastern AlbertaPlains White Areacontd Operations 4 04 215 Eastern AlbertaPlains White Areacontd Operations 5 09 501 Eastern AlbertaPlains White Areacontd Operations 6 05 28 Eastern AlbertaPlains White Areacontd Operations Total 19 1000 Southern AlbertaUplands WhiteArea Construction 3 02 200 Southern AlbertaUplands WhiteArea Construction 4 07 701 Southern AlbertaUplands WhiteArea Construction Not rated DisturbedLand 01 99 Southern AlbertaUplands WhiteArea Construction Total 10 1000 Interior Plateau ALRonly Construction 5 114 447 Interior Plateau ALRonly Construction 6 124 486 Interior Plateau ALRonly Construction 7 13 51 Interior Plateau ALRonly Construction DL 04 16 Interior Plateau ALRonly Construction Total 255 1000 Interior Plateau ALRonly contd Operations 4 125 313 Interior Plateau ALRonly contd Operations 5 204 512 Interior Plateau ALRonly contd', 'Table 2 TLRU Information and Mitigation Les Atikamekw de Manawan Traditional Land and Resource Use Information Location Relative to Project Development Area Relevant Consolidated ESA Documents Context from the Consolidated ESA Les Atikamekw de Manawan Mitigation Recommendations2 Consolidated ESAEPP Mitigation Measures Operation Following the completion of construction TransCanada Operating Procedures TOP will be used during operation in conjunction with the EPPs where appropriate For example during operation mitigation measures include Follow TransCanadas health safety and environment HSE management framework during maintenance activities Traditional Ecological Knowledge LAM noted that beaver travel long distances along waterways and could travel across the traditional territory Wildlife and Wildlife Habitat Volume 15 Part D In the wildlife and wildlife habitat assessment where the habitat types eg forested lands for selected wildlife species are', 'Table 2123 Cumulative Effects Initial Screening Social and Cultural WellBeing Environmental Effect Initial Screening Results1 Comments Environmental Effect 1 2 3 Comments Change in social and cultural wellbeing Yes No NA Effects were screened out from further assessment in Table 151 and the resulting effect of the interaction can be managed to acceptable levels through standard operating and best management practices Residual effects would be negligible and unlikely to overlap with other projects and activities NOTES 1 The screening consists of a series of three questions Is there a Project residual environmental effect 1Does the residual environmental effect overlap spatially and temporally with those of other past present or 2reasonably foreseeable future projects Is there a reasonable expectation that the contribution ie addition of the Projects residual effects', 'Table 1113 Site Specific Wildlife Mitigation Measures Recommended for the Saskatchewan Segment of Project 2008 Surveys Species Feature SpeciesmapCode KP DistancefromPipelineRoW m Presence of ExistingHuman Activity andFeatures withinSetback CommentsRecommended Mitigation andFollowup Mammals contd OrdsKangarooRatDencontd Additional mitigationmeasures may be requiredbased on consultation withthe CWS Conductfollow up survey inthe season followingcompletion of constructionto assess success ofmitigation measures inavoiding or minimizingeffects on the Ordskangaroo rats Mineral Lick 511 SW0300213W3 818 No existingsetbacks ortimingrestrictions Existing pipelineFoothills 65 mfrom minerallick Monitoring duringconstruction could berequired depending ontiming of construction')\n"
          ],
          "name": "stdout"
        },
        {
          "output_type": "stream",
          "text": [
            "\r3it [00:04,  1.74s/it]"
          ],
          "name": "stderr"
        },
        {
          "output_type": "stream",
          "text": [
            "('Table 411 Effects and Mitigation Measures Raised at the Round 2 Inuvialuit Settlement RegionGwichin Settlement Area Workshop Issue Category Effects and Mitigation Measures Link to EIS Barge use Effect Vibrations and associated noise from barges affecting whales and marine birds Dredging for barges negatively affecting the environment and aquatic habitat Excavation might be needed to use a barge at the Taglu drilling site and this excavation would need to be restored once the site is decommissioned Barge spills polluting the water Unwanted organisms being introduced into the Mackenzie Delta by oceangoing barges V5 S10 V5 S5 V5 S6 V5 S6 Barge use Mitigation Monitor the effects and incorporate traditional knowledge into the monitoring Consult with the Canadian Wildlife Service for information on birds and their migration and nesting', 'Table 26 Residual Effects on Land Resource Use Project Phase Mitigation Residual Effects Characteristics Significance Confidence Prediction Significant Effects1 Likelihood of Monitoring and Followup Project Phase Mitigation Direction Magnitude Extent Geographic Duration Frequency Reversibility Context Socioeconomic Ecological and Significance Confidence Prediction Significant Effects1 Likelihood of Monitoring and Followup PIPELINE Temporary or Permanent Loss of Use of Agricultural Land Construction See Section 24 N L PDA S S R L N H NA See Section 27 Operation Not applicable Not applicable no residual effects anticipated Not applicable Decommissioning and abandonment2 Temporary or Permanent Loss of Area for Timber Harvesting Construction See Section 24 N L PDA S S R LM N H NA See Section 27 Operation See Section 24 N L PDA L C R H N H', 'Table 63 Recommended Mitigation Measures for Fish and Fish Habitat Effect Recommended Mitigation Measures Introduction of Deleterious Substances contd Develop water quality monitoring plans to monitor for sediment release events during inwater construction activities where required by regulatory approvals If monitoring reveals sediment values are approaching threshold values the water quality monitors will alert the Environmental Inspectors and work with them to develop corrective actions If corrective actions are not successful construction activities will be temporarily suspended until effective solutions are identified If trenchless methods are used develop a water quality monitoring plan with input from an aquatics specialist that includes monitoring for TSS andor turbidity Develop an emergency response plan that will be implemented in the event of inadvertent releases of drilling mud or spills of deleterious', 'Table 819 Exposure Point Concentrations in Marine Organisms Exposed to Intertidal and Subtidal Sediments following a Hypothetical Spill of Crude Oil HSB at Location D mgkg ww COPC Tissue Concentrations in Marine Organisms Exposed via Intertidal Sediment mgkg ww Tissue Concentrations in Marine Organisms Exposed via Subtidal Sediment mgkg ww COPC ClamSnail LobsterCrab ClamScallop LobsterCrab Groundfish COPC 4 Weeks 12 Years 4 Weeks 12 Years 4 Weeks 12 Years 4 Weeks 12 Years 4 Weeks 12 Years BTEX Benzene 867E06 305E06 175E06 Toluene 239E05 842E06 484E06 Ethylbenzene 167E05 981E06 451E06 Xylenes Total 532E05 312E05 143E05 Petroleum Hydrocarbon Fractions Aliphatic C6C8 200E04 117E04 538E05 Aliphatic C8C16 875E04 444E04 158E01 277E01 319E01 Aliphatic C16C34 875E04 444E04 158E01 277E01 319E01 Aliphatic C34C50 Aromatic C8C16 285E01 139E02 482E02 235E03 582E03 341E03 157E03')\n"
          ],
          "name": "stdout"
        },
        {
          "output_type": "stream",
          "text": [
            "\r4it [00:06,  1.81s/it]"
          ],
          "name": "stderr"
        },
        {
          "output_type": "stream",
          "text": [
            "('Table B1 Progress Farrell Creek West Gas Plant B088I094B01 Source and Emission Parameters a Unit Description Generator Driver S1600A Generator Driver S1600B Generator Driver S3600A Generator Driver S3600B Generator Driver S4600A Generator Driver S4600B Generator Driver S4600C Generator Driver S4600D Make and Model Waukesha F18GL Waukesha F18GL Waukesha F18GL Waukesha F18GL Waukesha 7042GL Waukesha 7042GL Waukesha 7042GL Waukesha 7042GL Temporal Variation Continuous Continuous Continuous Continuous Continuous Continuous Continuous Continuous Operational Data Capacity Heat Input HHV b kW 920 920 920 920 3477 3477 3477 3477 Capacity Heat Input HHV b mmBTUh 31 31 31 31 119 119 119 119 Capacity Power Output assumed LHV kW 300 300 300 300 1102 1102 1102 1102 Thermal Efficiency LHV 359 359 359 359 349 349 349 349 Fuel Type Sweet NG', 'Table 9 TLRU Information and Mitigation Seine River First Nation Traditional Land and Resource Use Information Location Relative to Project Development Area Relevant Consolidated ESA Documents Context from the Consolidated ESA Seine River First Nation Mitigation Recommendations2 Consolidated ESAEPP Mitigation Measures Seed disturbed banks and riparian areas with an approved native seed mixture The Environmental Inspectors will determine onsite whether other restoration methods need to be applied to stabilize banks eg soil wraps brush layers and matting For detailed description for mitigation during construction for fish and fish habitat refer to Section 84 Watercourse Crossings of the Conversion Segments EPP Other mitigation within Section 84 deals with establishment of riparian buffers direction on grading near waterbodies and establishment of sediment and erosion control measures including the Soil and', 'TABLE 7108 SUMMARIZED RESIDUAL EFFECTS CHARACTERIZATION AND SIGNIFICANCE EVALUATION FOR WILDLIFE AND WILDLIFE HABITAT Potential Residual Effect Criteria Rating Effects Characterization and Significance Determination Rationale f Total effect of the Project on moose resulting from changes in habitat movement mortality risk and their interactions contd Confidence Moderate to High The determination of significance is based on a good understanding of causeeffect relationships Data specific to the Project area are adequate to draw reasonable conclusions Confidence in predictions will be improved with completion of supplemental field studies and habitat modelling f Total effect of the Project on moose resulting from changes in habitat movement mortality risk and their interactions contd Significance Not significant The residual effect on moose has a high probability of occurrence is short to extendedterm in', 'TABLE 231 TECHNICAL DETAILS OF THE PROPOSED PIPELINE ROUTES Pipeline Route Technical Component Project Details Christina River Section contd Pipe size 610 mm OD NPS 24 Christina River Section contd Minimum depth of cover 09 m Christina River Section contd Typical trench width 12 m Christina River Section contd Test medium Watermethanol mix')\n"
          ],
          "name": "stdout"
        },
        {
          "output_type": "stream",
          "text": [
            "\r5it [00:08,  1.72s/it]"
          ],
          "name": "stderr"
        },
        {
          "output_type": "stream",
          "text": [
            "('Table 21 Estimated Employment Effects Project Construction Phase Alberta personyears British Columbia personyears Canada personyears Direct 396 1008 1404 Indirect 359 332 981 Induced 217 497 1024 Total 972 1837 3409', 'TABLE 535 HISTORICAL STREAMFLOW SUMMARIES FOR WATERCOURSES CROSSED BY THE PROPOSED PIPELINE ROUTE IN SASKATCHEWAN KP Watercourse Gauging Station Approx Distance from Proposed Crossing Mean Annual Flow m3s Highest Mean Month m3s Lowest Mean Month m3s 2722 Eyehill Creek NW 13828 W3M near Macklin1 17 km downstream 009 April 0402 October 0009 3936 Eagle Creek West NW 103016 W3Mnear Anglia 27 km downstream 0466 April 219 October 0022 4260 Eagle Creek East NW 103016 W3Mnear Anglia 7 km upstream 0466 April 219 October 0022 4670 MacDonald Creek SW 362911 W3Mnear Bounty 8 km downstream 0187 April 110 February 000 4984 Irrigation Canal NE 33267 W3M Broderick Irrigation Main Canal1 17 km downstream 397 July 851 March 000 5052 South Saskatchewan River SW 16298 W3M near Outlook1 18 km', 'Table 921 Concentration Ratios for GroundLevel Concentrations at Sensitive COPC Concentration Ratios Annual Average COPC Planned Development Case H2S 013 9 Mercaptans 0016 9 Benzene 034 9 NOTE Numbers in parentheses are sensitive receptor location IDs see Figure 92 of maximum predicted groundlevel concentration ', 'Table 107 Mitigation Measures for Wildlife and Wildlife Habitat Potential Effect Mitigation Measures Change in mortality risk contd Clearing of trees identified as potentially supporting a fisher den will be avoided during the critical period identified for fisher natal denning and early rearing March 15to June 30 BC MFLNRO 2014 If clearing of identified potential fisher den trees cannot be avoided during the critical period a qualified biologist will conduct an assessment of the potential fisher dens prior to clearing early on in the denning season to determine if the dens identified within the PDA are active and whether or not they are confirmed as used by fisher If the dens are determined to be fisher dens and they are active ie in use a setback will')\n"
          ],
          "name": "stdout"
        },
        {
          "output_type": "stream",
          "text": [
            "\r6it [00:09,  1.65s/it]"
          ],
          "name": "stderr"
        },
        {
          "output_type": "stream",
          "text": [
            "('Table 1512 Key Mitigation and Other Management Measures for SocioEconomic Components Potential Effect Effect Pathway Mitigation Measures Applicable Project Component Potential Effect Effect Pathway Mitigation Measures Rocky ViewSection Turner ValleyCS UnitAddition Burton CreekCS UnitAddition Change indemand services The Projects mobileworkforce could increasedemand for localcommunity services suchas health emergencyand policing services Implement standard mitigationmeasures contained in the EPP Change indemand services The Projects mobileworkforce could increasedemand for localcommunity services suchas health emergencyand policing services Implement the Drug and AlcoholPolicy as well as the Code ofBusiness Ethics Change indemand services The Projects mobileworkforce could increasedemand for localcommunity services suchas health emergencyand policing services Deliver health and safety orientationand training to all workers to helpprevent and controlincidentsleading to primary and acutecareneeds Change indemand services Project construction andthe transportation ofmaterials equipmentand workers', 'Table 2B1 Predicted SO2 Results at the Sensitive Receptors for the Base Case Receptor Maximum Predicted GroundLevel Concentration1gm3 Receptor SO2 Receptor 1 hour of Guideline 24 hour of Guideline Annual of Guideline 1 130 3 65 4 49 16 2 130 3 65 4 49 16 3 130 3 65 4 49 16 4 131 3 66 4 49 16 5 131 3 65 4 49 16 6 131 3 66 4 49 16 7 133 3 66 4 49 16 8 131 3 66 4 49 16 9 132 3 66 4 49 16 10 135 3 67 4 49 16 11 133 3 66 4 49 16 12 133 3 66 4 49 16 13 133 3 66 4 49 16 14 136 3 67 4', 'Table 257 Nitrogen Dioxide and Oxides of Nitrogen Predictions in the Southern Airshed Area Parameter Averaging Period Predictionsa Area Parameter 1hour 24hour Annual Blackwater River compressor station Maximum oxides of nitrogen NOX concentration gm 12139 3367 484 Blackwater River compressor station Maximum nitrogen dioxide NO2 concentration gm 1326 389 58 Blackwater River compressor station Distance to maximum1 km 72 14 01 Blackwater River compressor station Direction to maximum1 SSW SE S Blackwater River compressor station Expected occurrences exceeding objective2 00 00 00 Blackwater River compressor station Area exceeding objective3 ha 0 0 0 Trail River compressor station Maximum NOX concentration gm 14686 3368 455 Trail River compressor station Maximum NO2 concentration gm 1504 419 54 Trail River compressor station Distance to maximum1 km 67 15 01 Trail River', 'Table 62 SARAListed Species Potentially Found in the Project Area Species Province Classification underSARA Schedule 1 Species Alberta Saskatchewan Classification underSARA Schedule 1 Blacktailed prairie dog Special Concern Monarch butterfly Special Concern NOTES ')\n"
          ],
          "name": "stdout"
        },
        {
          "output_type": "stream",
          "text": [
            "\r7it [00:11,  1.56s/it]"
          ],
          "name": "stderr"
        },
        {
          "output_type": "stream",
          "text": [
            "('Table 11 Snake Species of Management Concern Species Province Active Season1 Overwintering1 Key Wildlife Feature Restricted Activity Period2 Setback Distance Bull snake AB SK April 1 September 303 October 1 March 313 Hibernacula4 Year round4 500 m AB4 Bull snake AB March 15 October 314 November 1 March 144 Rookery4 Year round4 200 m4 Western hognose snake AB SK April 1 September 303 October 1 March 316 Hibernacula46 Year round34 500 m AB4200 m SK3 Western hognose snake AB March 15 October 314 November 1 March 144 Rookery4 Year round4 200 m4 Prairie rattlesnake AB SK April 1 September 303 October 1 March 316 Hibernacula Year round34 500 m AB4200 m SK3 Prairie rattlesnake AB March 15 October 314 November 1 March 144 Rookery4 Year round4 200 m4', 'Table 87 Saskatchewan Activity Restriction Guidelines for Sensitive Species Potentially Occurring in the Regional Study Area SpeciesSpecies in capital letters are provincially andor federally listed Wildlife Key Areas Restricted Activity Dates Recommended Setback Distances by Disturbance Category SpeciesSpecies in capital letters are provincially andor federally listed Wildlife Key Areas Restricted Activity Dates Low eg foot traffic small vehicles 1 ton ATVs operating oil or gas wells pipelines Medium eg trucks 1 ton gravel oil grain tractors including farm tractors pipeline constructiondiameters 1 foot operating compressor station or battery High eg road construction roads drilling rigs construction of compressor station or battery largediameter pipeline construction seismic exploration AMPHIBIANS GREAT PLAINS TOAD Ponds Used for Breeding Living or Hibernating Year Round 10 m 400 m 500 m NORTHERN LEOPARD FROG', 'Table 44 ProjectAlone Case Dispersion Modelling Results for the Health Assessment CAC Averaging Period Maximum Predicted Concentrations gm3 AQO gm3 PM25 24hourg 004 25 PM25 Annual 001 8 NOTES a Only averaging periods with an objective or standard BC AQO NAAQO CAAQS are shown b 1hour NO2 references the annual 98th percentile of daily 1hour maxima This requires the extraction of the highest 1hour value for each day followed by the calculation of the 98th percentile of those 365 values at each receptor modelled BC MOE 2017a c 36monthly 20112013 maximum 1hour ozone values from the Beaverlodge station in Alberta used for the OLM conversion of NO2 d 1hour SO2 references the annual 97th percentile of daily 1hour maxima averaged over three years This requires the extraction of', 'Table E1 Soil Inspection Sites New Pipeline RoW Site Site Type1 Subgroup2 Soil Unit Variant3 Parent Material3 UTM Zone Easting Northing Surface Expression Surface Stoniness Class Slope Slope Position Slope Class Topsoil Depth cm Drainage EEPABL13058 TS Medium glacial till 12 530484 5733450 Undulating Non stony 001 5 Mid 2 5 29 EEPABL13059 TS Medium glacial till 12 530471 5733529 Undulating Non stony 001 2 Crest 2 5 18 EEPABL13060 TS Coarse lacustrine 12 530544 5733639 Level Non stony 001 2 Level 05 20 0 EEPABL13061 TS Moderately coarse lacustrine 12 530570 5733773 Inclined Non stony 001 5 Lower 5 9 9 EEPABL13062 TS Medium glacial till 12 530663 5733846 Hummocky Non stony 001 6 Mid 5 9 9 EEPABL13063 TS Medium glacial till 12 530670 5733971 Undulating')\n"
          ],
          "name": "stdout"
        },
        {
          "output_type": "stream",
          "text": [
            "\r8it [00:12,  1.55s/it]"
          ],
          "name": "stderr"
        },
        {
          "output_type": "stream",
          "text": [
            "('Table 1110 Major Information Sources for Freshwater Fish and Fish Habitat Information Required Source Information Required Source Habitat and water quality requirements for representative fish species BC MWLAP BC MoF ASRD BC Approved Water Quality Guidelines for Fresh Water Aquatic Life BCAWQG Canadian Water Quality Guidelines for Fresh Water Aquatic Life Canadian Council of Ministers of the Environment CCME Summary of Guidelines for Canadian Drinking Water Quality federal NOTES BC MoF British Columbia Ministry of Forests ASRD Alberta Sustainable Resource Development MWLAP Ministry of Water Land and Air Protection British Columbia MSRM Ministry of Sustainable Resource Management British Columbia AENV Alberta Environment DFO Fisheries and Oceans Canada FISS Fisheries Inventory Summary System British Columbia FDIS Fisheries Data Information System British Columbia FMIS Fisheries Management Information System Alberta LRMP', 'Table 564 Documented Fish Captures in the Cadotte Rivera 19762012 Date Species Capturedb Capture Method Sampling Agency Date Species Capturedb Capture Method Sampling Agency June 8 1976 1 WALL 4 GOLD 1 RDSH 1 TRPR 1 LNDC 14 LNSC 1 FLCH 1 LKCH 1 NRPK Angling Gill netting Alberta Fisheries Management April 4 1977 10 ARGR 282 NRPK 23 WHSC 16 LNSC 27 ARGR 3 BURB Gill netting Alberta Fisheries Management April 26 1978 30 WHSC 12 GOLD 129 NRPK 38 LNSC Gill netting Alberta Fisheries Management May 3 1992 3 BRST 16 BURB 27 GOLD 1 WHSC 17 LNDC 1 FLCH 10 LNSC 5 EMSH 3 WALL 6 NRPK 1 LNSC Electrofishing DA Westworth Associates May 11 2005 7 LNSC 20 BRST Trap netting minnow trapping dip', 'TABLE 6B2 CRITERIA FOR THE SUSPENSION OF ACTIVITIES DUE TO THAWED SOIL CONDITIONS 1CP234RITERIA FOR IMPLEMENTATION rotection measures and environmental management techniques for rare plants and sensitive plant communities will be based on sitespecific conditions and species sensitivity criteria Final decisions on mitigative measures will be made by Enbridge in consultation with botanical experts and where appropriate the land authority Mitigative measures generally fall into categories of avoidance minimizing disturbance and alternative reclamation techniques The following mitigative measures and options will be considered in the order presented Preliminary assessment and protection will include the following steps in all cases Expand field survey of the area to identify whether the species or community is found only within the pipeline construction rightofway or extends beyond it Consult with MB CDC', 'Table E1 Soil Inspection Sites New Pipeline RoW Site Site Type1 Subgroup2 Soil Unit Variant3 Parent Material3 UTM Zone Easting Northing Surface Expression Surface Stoniness Class Slope Slope Position Slope Class Topsoil Depth cm Drainage EEPALC13240 TS Coarse glaciofluvial 12 531905 5710454 Undulating 10 Mid 5 9 25 EEPALC13241 TS Fine glacial till 12 531905 5710187 Undulating 9 Mid 5 9 18 EEPALC13242 TS Moderately fine glacial till 12 531914 5709921 Undulating 7 Mid 5 9 20 EEPALC13243 TS Moderately fine glacial till 12 531976 5709665 Undulating 6 Mid 5 9 23 EEPALC13244 TS Fine glacial till 12 531952 5709404 Hummocky 0 Level 9 15 19 EEPALC13245 TS Fine glacial till 12 531851 5709199 Undulating 2 Mid 5 9 22 EEPALC13246 TS 12 531945 5708984 Undulating 8 Mid')\n"
          ],
          "name": "stdout"
        },
        {
          "output_type": "stream",
          "text": [
            "\r9it [00:14,  1.58s/it]"
          ],
          "name": "stderr"
        },
        {
          "output_type": "stream",
          "text": [
            "('TABLE 522 SPATIAL BOUNDARIES FOR ENVIRONMENTAL AND SOCIOECONOMIC ELEMENTS FOR THE PROJECT Element Spatial Boundaries1 Rationale Figure No Wetlands CPCPipeline LSA A 2 km wide band extending approximately 1 km from both sides of the proposed pipeline routes ipeline RSA A 30 km band extending approximately 15 km from both sides of the proposed pipeline routes ompressor Station LSA A 1 km radius extending outwards from the proposed compressor station boundaries including known associated temporary infrastructure workspace and construction camp ompressor Station RSA A 10 km wide radius extending outwards from the edge of the proposed compressor station boundaries including known associated temporary infrastructure workspace and construction camp Pipeline LSA The Wetland Pipeline LSA incorporates the area in which wetlands are most likely to be affected by potential', 'Table D1 Habitat type Key Areas of Wildlife Habitat and Species of Management Concern Observations in Facility Study Areas Study Area Name Habitat Types in PDA ha Surveys Completed completed in 2014 unless otherwise noted SOMC Observed in Study Area Key Areas of Wildlife Habitat Ile Des Chenes realignment 45 anthropogenic 04 anthropogenic developed 01 Class 1 ephemeral Habitat reconnaissance Nocturnal amphibian survey NA NA Spruce pump station and access road 17 anthropogenic developed 59 Class VII fen 25 native Habitat reconnaissance Nocturnal amphibian survey Breeding bird survey 1 Northern parula 1 Goldenwinged warbler3Mottled Duskywing4 NA Spruce realignment 03 anthropogenic 09 Class VII fen 127 native Habitat reconnaissance Breeding bird survey NA NA Falcon Lake pump station and access road 07 anthropogenic 05 Class IV 10 Class 7', 'Table 7117 Potential Use of Site RPR253 Jackfish Creek Species Overwintering1 Spawning and Incubating Rearing Adult Feeding and Holding Arctic grayling Northern pike Sucker species Whitefish species Burbot NOTES potential use of the waterbody habitat no potential use of the waterbody habitat Of the species and species groups listed none have been confirmed in the creek 1 Assessment incorporates preliminary analysis of April 2004 data Many beaver impoundments downstream of the surveyed area likely prevent fish access during lowflow periods ', 'Table 78 Residual Effects on Infrastructure and Services Project Phase Mitigation Residual Effects Characteristics Significance Confidence Prediction Significant Effects Likelihood of Monitoring and Followup Project Phase Mitigation Direction Magnitude Extent Geographic Frequency Duration and Reversibility Context Environmental Significance Confidence Prediction Significant Effects Likelihood of Monitoring and Followup TANK TERMINAL Increased Demand on Accommodation Construction See Section 74 P NA NA NA NA NA NA H NA See Section 77 Operation See Section 74 P NA NA NA NA NA NA H NA See Section 77 Decommissioning and abandonment1 Increased Demand on Community Services Construction See Section 74 N L LAA MMI R L N H NA See Section 77 Operation See Section 74 M L LAA LMI R L N H NA See Section 77 Decommissioning and abandonment1')\n"
          ],
          "name": "stdout"
        },
        {
          "output_type": "stream",
          "text": [
            "\r10it [00:15,  1.48s/it]"
          ],
          "name": "stderr"
        },
        {
          "output_type": "stream",
          "text": [
            "('Table 652 Magnitudea Definition for Fish and Fish Habitat Valued Component Valued Component Key Indicators Low Moderate High Fish and Fish Habitat All Key Indicators 10 change in aquatic habitat and fish population abundance in the aquatic LSA 10 to 20 change in aquatic habitat and fish population abundance in the aquatic LSA 20 change in aquatic habitat and fish population abundance in the aquatic LSA', 'TABLE 13 COMPREHENSIVE LIST OF WETLAND ECOSYSTEMS IN SASKATCHEWAN ENCOUNTERED ALONG THE LINE 3 REPLACEMENT PIPELINE ROUTE Wetland Report ID Overall Wetland Class SKP start to SKP End1 Legal Location of Construction within Wetland Centroid UTM1 Length of Temporary Disturbance by the Proposed Trench Line km Area of Temporary Disturbance by the Replacement Pipeline Route ha Survey Method year2 Wetland Health Wetland Function3 SiteSpecific Mitigation Reference Comments SK848 temporary marsh Class II 91614 to 91622 NW 11121 W2M 712009E 5541347N 13U 008 014 Ground Truth 2013 and Historical Ground Survey 2011 Healthy With Problems 75 HighModerate Function seed mix SK849 seasonal marsh Class III 91701 to 91707 NE 11121 W2M 712801E 5541006N 13U 003 018 Helicopter Overflight 2013 wildlife concern8 Associated with nonfishbearing drainage SKWC857 Potential American bittern', 'Table 1511 Project Interactions with SocioEconomic Components PhysicalActivities Potential Effects PhysicalActivities Change inemployment andeconomy Change in demandfor communityinfrastructure andservices Change in humanhealth Change in socialand culturalwellbeing Rocky View Section Construction Operation Turner Valley CS Unit Addition Construction Operation Burton Creek CS Unit Addition Construction Operation assessed in Section 10 Atmospheric Environment and Section 11 AcousticEnvironment No interaction ', 'Table 696 Petitot River NWML22 and Thinahtea Creek NWML007 Water Quality Metals Parameter Units Petitot River NWML22 Thinahtea Creek NWML007 Parameter Units Fall Historical Data 19731984 Fall Parameter Units Fall Summer Fall Parameter Units September 9 2002 Median Min Max n October 6 2003 Dissolved Metals contd Lithium mgL 0005 000335 Manganese mgL 0013 0004 Mercury mgL 00001 00001 Molybdenum mgL 00003 00002 Nickel mgL 00002 00004 Selenium mgL 00004 00004 Silver mgL 00002 00002 Strontium 2 mgL 006 00613 Thallium mgL 000005 000005 Titanium mgL 00022 00003 Uranium mgL 00002 00001 Vanadium mgL 00001 00001 Zinc mgL 0013 0008 NOTES not available n number of samples C concentration higher than the relevant chronic aquatic life guideline or beyond the recommended dissolved oxygen range W concentration higher than')\n"
          ],
          "name": "stdout"
        },
        {
          "output_type": "stream",
          "text": [
            "\r11it [00:17,  1.51s/it]"
          ],
          "name": "stderr"
        },
        {
          "output_type": "stream",
          "text": [
            "('Table 84 Potential Effects and Measurable Parameters for Social and Cultural Well Being Potential Project Effect Rationale for Inclusion of the Potential Project Effect in the Assessment Measurable Parameters for the Effect Rationale for Selection of the Measurable Parameter Change in social and cultural conditions Mobile workers interacting with local communities potentially disrupting community life and drawing upon local health and social services Projectrelated local wage employment opportunities and the takeup of land might affect social and cultural conditions especially for Aboriginal communities Project operation might affect social and cultural conditions due to the potential for community stressors regarding project activities and effects on the land and local engagement in Projectrelated economic opportunities Population and workforce Health and social conditions Service provider capacity Changes in the social and', 'Table 422 Chronic Inhalation Exposure Limits for Naphthalene Regulatory Agency Type Value gkg bwd Reference ATSDR ATSDR 2013 HEALTH CANADA TDI 20 Health Canada 2010 Health Canada 2013 OEHHA RsD 008 OEHHA 2009 OEHHA 2013 RIVM TDI 40 RIVM 2009 2001 US EPA RfD 20 US EPA 2013a 1998 WHO WHO 2013', 'Table 19A1 Predicted COPC Concentrations at Sensitive Receptor Locations Associated with Emissions for the Baseline Case Receptor Location Ground Level Concentration gm Receptor Location NO2 SO2 CO PM10 PM25 Benzene H2S Receptor Location 1hour 24hour Annual 1hour 24hour Annual 1hour 1hour 24hour Annual 1hour 24hour Annual 24hour Annual 1hour 24hour Annual 1 18675 6168 2524 13055 6526 4881 7095 0061 27632 00003 0057 17413 7893 1597 0741 1394 1394 0511 2 17141 4837 2538 13037 6509 4881 6679 0057 27628 00003 0053 17409 7893 1597 0741 1394 1394 0511 3 27686 7976 2616 13226 6532 4882 12769 0102 27634 00004 0095 17414 7893 1597 0741 1394 1394 0511 4 33689 6745 2671 13176 6569 4882 16886 0090 27642 00005 0084 17423 7893 1597 0741 1394 1394 0511 5', 'TABLE 13B SUMMARY OF INTERESTS OR CONCERNS IDENTIFIED THROUGH ENGAGEMENT ACTIVITIES WITH ABORIGINAL COMMUNITIES FOR THE PROJECT InterestConcern Community NGTL Proposed Mitigative Measures1Response2 Where Addressed in ESA Employment and Economy Potential effects on traditional economy Chipewyan Prairie Dene First Nation Christina River Dene Nation Council Lakeland Mtis Local No1909 Saddle Lake Cree Nation Wabasca Desmarais Mtis Local No 90 Fort McMurray No 468 First Nation Beaver First Nation Fort McMurray Mtis Local No 1935 Aboriginal communities will be provided with the proposed construction schedule and pipeline route maps Section 50 of Appendices 1A to 1G Notify registered trappers at least 2 weeks prior to construction Section 50 of Appendices 1A to 1G NGTLs Trapper Compensation Plan reimburses senior trap line holders based on the three elements of Project')\n"
          ],
          "name": "stdout"
        },
        {
          "output_type": "stream",
          "text": [
            "\r12it [00:18,  1.55s/it]"
          ],
          "name": "stderr"
        },
        {
          "output_type": "stream",
          "text": [
            "('Table 714 Interactions with the Potential to Contribute to Cumulative Effects on Wildlife and Wildlife Habitat Turner Valley CS Unit Addition Other Projects and Physical Activities with Potentialfor Cumulative Effects Potential Effects Other Projects and Physical Activities with Potentialfor Cumulative Effects Change in HabitatChange in Mortality Risk Past and Present Projects Physical Activities and Land Use Agriculture Infrastructure Residential Linear Developments Industrial Activities Other Land Use Activities ProjectRelated Physical Activities Future Reasonably Foreseeable Projects and Physical Activities Infrastructure Linear Development ResidentialTourism Industrial Activities NOTES residual effectsInteractions between the residual effects of other projects and physical activities and those of theProject residual effects are not expected ', 'TABLE 62 POTENTIAL BIOPHYSICAL AND SOCIOECONOMIC EFFECTS MITIGATIVE MEASURES AND RESIDUAL EFFECTS OF LSr PIPELINE AND PUMP STATION CONSTRUCTION AND OPERATION Biophysical or Socio Economic Element Potential Effect Location Project Boundary Measures EGC Reference1 Residual Effects 3 WATER QUALITY AND QUANTITY 31 Alteration of natural flow patterns Entire Route Footprint to Local Note that standard pipeline construction activities are designed to avoid circumstances that result in diversion andor unnatural retention of water along the rightofway Leave gaps in the topsoil windrow if warranted at obvious drainage courses to accommodate surface runoff EGC 028 Follow measures in Detail 6A22 should grade or topsoil replacement be delayed Install trench breakers where warranted at the edge of perched wetlands to prevent the pipe trench from acting as a drain Detail 6A20', 'TABLE 32 CONSULTATION ACTIVITIES WITH PROVINCIAL AGENCIES IN ALBERTA Stakeholder Group Agency Name Name and Title of Contact Method of Engagement Date of Consultation Activity Reason for Engagement Consultation Outcomes Issues Concerns Commitments Followup Actions Where Issue Addressed in ESA Chamber of Commerce Town of Killam Dan Fee President Telephone conversation March 8 2007 Concerns regarding the potential of having three construction crews in the community simultaneously over a three month period Discussed the availability of accommodations and services as well as campsites and sports grounds for temporary camps Summertime is the peak tourist season for the community The Rodeo occurs June 1516 which expects 2000 people Craft fairs occur in the spring and December drawing 400500 people A Christmas dance also occurs in December Unsure of maximum', 'Table 5102 Ambient Monitoring Stations in the Vicinity of the Project Station Name MOE ID NAPS ID Closest Compressor Station ')\n"
          ],
          "name": "stdout"
        },
        {
          "output_type": "stream",
          "text": [
            "\r13it [00:20,  1.50s/it]"
          ],
          "name": "stderr"
        },
        {
          "output_type": "stream",
          "text": [
            "('TABLE 7362 SIGNIFICANCE EVALUATION OF POTENTIAL RESIDUAL EFFECTS OF CONSTRUCTION AND OPERATIONS OF TEMPORARY FACILITIES ON THE ACOUSTIC ENVIRONMENT Potential Residual Effects Impact Balance Spatial Boundary1 Temporal Context Magnitude Probability Confidence Significance2 Potential Residual Effects Impact Balance Spatial Boundary1 Duration Frequency Reversibility Magnitude Probability Confidence Significance2 1 Acoustic Environment Indicator Sound Levels 1a Increase in sound levels associated with temporary facilities during the construction period of the Project Negative LSA Shortterm Isolated Shortterm Low to medium High Moderate Not significant', 'Table 616 Residual Effects on Acoustic Environment Residual Effect Residual Effects Characterization Residual Effect Direction Magnitude Geographic Extent Duration Frequency Reversibility Ecological and Socioeconomic Context Acoustic Environment Chetwynd Loop Construction A L RAA ST IR R D Aitken Creek Loop Construction A L RAA ST IR R D CS2 Compressor Expansion Construction A L RAA ST IR R D Operation A L RAA LT C R D CSN5 Compressor Expansion Construction A L RAA ST IR R D Operation A L RAA LT C R D KEY See Table 82 for detailed definitions Direction P Positive A Adverse N Neutral Magnitude N Negligible L Low H High GNeographic Extent PDA Project Development Area LAA Local Assessment Area RAA Regional Assessment Area Duration ST Shortterm up to 1 year', 'Table 451 Vascular Plants of Conservation Concern Identified During Surveys Magaguadavic River Juncus militaris S3 Bayonet Rush Secure Found within 50 m of IPL RoW Bonny River Utricularia minor S2 Lesser Bladderwort Sensitive Found within 50 m of IPL RoW Clarence Stream Platanthera grandiflora S3 Large Purplefringed Orchis Sensitive Found within 50 m of IPL RoW Digdeguash River Utricularia minor S2 Lesser Bladderwort Sensitive Found within 50 m of IPL RoW North Branch Campbell Brook Utricularia geminiscapa S2 HiddenFruited Bladderwort Secure Found within 50 m of IPL RoW Dennis Stream Lobelia cardinalis S3 Cardinal Flower Secure Scattered along rocky stream edge in and outside the preferred corridor Bush Brook Rosa palustris S2 Swamp Rose Sensitive Found within 50 m of IPL RoW Mohannes Stream Utricularia geminiscapa S2 Hiddenfruited', 'TABLE 2 WETLAND CLASSES ESTABLISHED BY STEWART AND KANTRUD 1971 Wetland Class Central Zone Description SemipermanentPotholes IV Deepmarsh The deepmarsh zone dominates the deepest part of the wetland area Shallowmarsh wet meadow and lowprairie zones are usually present Cattails and rushes are typical emergent species while aquatic plants such as pondweeds bladderwort watermilfoil and water hornwort are found floating in the centre The edges of brackish semipermanent potholes typically contain prairie bulrush alkali grass and red samphire Permanent Lakes V Openwater The permanent openwater zone dominates the deepest part of the wetland area Peripheral deepmarsh shallowmarsh wet meadow and lowprairie zones are often present The centre portion of a permanent lake or pothole is typically openwater although submerged vegetation may occur such as widgeon grass Alkali Lakes VI')\n"
          ],
          "name": "stdout"
        },
        {
          "output_type": "stream",
          "text": [
            "\r14it [00:21,  1.49s/it]"
          ],
          "name": "stderr"
        },
        {
          "output_type": "stream",
          "text": [
            "('TABLE A72 REASONABLY FORESEEABLE MINOR OIL AND GAS DEVELOPMENTS RELATIVE TO ELEMENT SPATIAL BOUNDARIES Legal Location Operator Acoustic LSA Air RSA Aquatics RSA Heritage RSA HORU LSA HORU RSA SCWB LSA SCWB RSA SoilsPE LSA Vegetation LSA Vegetation RSA Wetlands LSA Wetlands RSA Wildlife LSA Wildlife RSA 12333224 W3M NORTHERN BLIZZARD RESOURCES INC 9313224 W3M NORTHERN BLIZZARD RESOURCES INC 12333224 W3M NORTHERN BLIZZARD RESOURCES INC 5303224 W3M NORTHERN BLIZZARD RESOURCES INC 833628 W3M NORTHERN BLIZZARD RESOURCES INC 813628 W3M NORTHERN BLIZZARD RESOURCES INC 14253528 W3M NORTHERN BLIZZARD RESOURCES INC 16363528 W3M NORTHERN BLIZZARD RESOURCES INC 4363528 W3M NORTHERN BLIZZARD RESOURCES INC 6363528 W3M NORTHERN BLIZZARD RESOURCES INC 723628 W3M NORTHERN BLIZZARD RESOURCES INC 10363528 W3M NORTHERN BLIZZARD RESOURCES INC 12363528 W3M NORTHERN BLIZZARD RESOURCES INC 313628 W3M NORTHERN', 'Table 311 Acute Inhalation Exposure Limits for Fluoranthene Regulatory Agency Type Value gm Reference ATSDR ATSDR 2013 BC MOE BC MOE 2013 ESRD ESRD 2013 Metro Vancouver Metro Vancouver 2011 OEHHA OEHHA 2013 OEHHA 2009 OMOE OMOE 2012 TCEQ TCEQ 2013 US EPA US EPA 2013a WA DOE WA DOE 2011 WHO WHO 2000', 'Table 510 Summary of Historical Monthly Mean Visibility Alberta and Saskatchewan Month Visibility Hours Month Edmonton Alberta Month 1 km 19 km 9 km January 82 92 644 February 79 85 585 March 91 77 658 April 48 34 681 May 24 22 720 June 11 17 702 July 10 19 724 August 40 25 715 September 19 20 698 October 32 26 714 November 16 81 624 December 80 87 649 Total 67 585 8115 NOTE Values are the mean number of hours in each month SOURCE Environment Canada 2006a ', 'Table 915 Potential Cumulative Effects on Wildlife and Wildlife Habitat Other Physical Activities with Potential for Cumulative Effects Change in Habitat Availability Change in Habitat Connectivity Change in Mortality Risk Change in Residences of SAR Change in Critical Habitat of SAR Rationale Past or Existing Physical Activities Forest Harvesting Existing and past forest harvesting practices have resulted in the loss of mature and old forest which has reduced habitat availability for forestdependent wildlife species including woodland caribou Residual effects of the Project occur in the context of these existing conditions Agricultural Conversion Existing and past agricultural conversion practice in particular in the eastern and western pump stations in Ontario have affected wildlife and wildlife habitat eg habitat loss in the LAA and RAA Residual effects of the Project')\n"
          ],
          "name": "stdout"
        },
        {
          "output_type": "stream",
          "text": [
            "\r15it [00:24,  1.74s/it]"
          ],
          "name": "stderr"
        },
        {
          "output_type": "stream",
          "text": [
            "('TABLE 26 CONSTRUCTION ACTIVITIES FOR TEMPORARY FACILITIES Temporary Facility Associated Activities CONSTRUCTION Engineering The temporary facilities will be designed and constructed in accordance with all applicable CSA standards Site Preparation Initial site preparation will involve clearing or mowing of vegetation where present Grading of temporary facility sites is not anticipated however topsoil salvage will be conducted at sites where heavy traffic could result in rutting severe compaction or pulverization of the topsoil Facility Construction Sites may be gravelled andor fenced depending on use of the site OPERATION Access Access to the various types of temporary facilities will be controlled during use of the site if warranted for public safety and to prevent vandalism of equipment andor facilities DECOMMISSIONING Facility Dismantle Any aboveground structures eg fencing office buildings will', 'Table 432 Potential and Observed Wildlife Species of Special Status within the Terrestrial LSA Species Scientific Name National Status COSEWIC 2010 Species At Risk Act Registry SARA 2011 Provincial ListingaASRD 2011b Observed During Field Surveys or FWMIS Search Habitat Requirementsb Brown creeper Certhia americana Sensitive No Mature forests showing a preference for coniferous woods or mixed woods Cape May warbler Dendroica tigrina Sensitive No Dense mature white spruce stands of coniferous and mixedwood forests Canada warbler Wilsonia canadensis Threatened Schedule 1 Sensitive No Thick stands of willow and alder along streams and dense shrubs and bushes in swamps near the forest edge Least flycatcher Empidonax minimus Sensitive No Open deciduous or mixed woodlands near forest edges and openings such as burns swamps and bogs Olive sided flycatcher Contopus', 'Table B11 SiteSpecific Inputs for AERMET Mattice Pump Station Sector Parameter1 Winter Spring Summer Autumn Sector 1 0 to 162 Albedo 0436 0127 0127 0130 Sector 1 0 to 162 Bowen Ratio 1500 0667 0397 0927 Sector 1 0 to 162 Surface Roughness 0795 1013 1145 0924 Sector 2 162 to 267 Albedo 0423 0123 0122 0125 Sector 2 162 to 267 Bowen Ratio 1500 0655 0315 0865 Sector 2 162 to 267 Surface Roughness 0810 1038 1175 0946 Sector 3 267 to 360 Albedo 0424 0128 0129 0135 Sector 3 267 to 360 Bowen Ratio 1500 0670 0510 0980 Sector 3 267 to 360 Surface Roughness 0775 0968 1085 0889 NOTE 1 Calculated based on a weighted mix of water forest urban and grassland land uses ', 'Table 67 Aitken Creek Loop Environmental Protection Measures for Traditional Ecological Knowledge and Environmental Resource Locations ER Identifier KP Environmental Resource Easting Northing Mitigation Measures AER112 12981 Wildlife Trail high use 565619 6312715 Implement wildlife crossing procedures 84 AER114 13110 Wildlife Trail high use 565627 6312789 Implement wildlife crossing procedures 85')\n"
          ],
          "name": "stdout"
        },
        {
          "output_type": "stream",
          "text": [
            "\r16it [00:25,  1.63s/it]"
          ],
          "name": "stderr"
        },
        {
          "output_type": "stream",
          "text": [
            "('Table I5 Pipeline Crossings in New Brunswick with Potential for Fish and Fish Habitat ID Number Watercourse Name Location Stantec Watercourse Definition Small Medium Largea Channel Width at Crossing m Documented Fish Speciesb Fish Species Captured 2013 and 2014 Potential Species of Management Concern Presentcd Restricted Activity Period Recommended Pipeline Crossing Method Alternate Pipeline Crossing Method Contingency Pipeline Crossing Methodf Navigability g ID Number Watercourse Name Easting UTM19 Northing UTM19 Stantec Watercourse Definition Small Medium Largea Channel Width at Crossing m Documented Fish Speciesb Fish Species Captured 2013 and 2014 Potential Species of Management Concern Presentcd Restricted Activity Period Recommended Pipeline Crossing Method Alternate Pipeline Crossing Method Contingency Pipeline Crossing Methodf Navigability g NB06600 Three Brooks Tributary 616006 5200634 Small 08 Atlantic salmon brook trout blacknose dace slimy', 'Table 69 Analysis of Potential Cumulative Residual Effects on the Atmospheric Environment POTENTIAL RESIDUAL EFFECT SPATIAL CONTEXT DURATION FREQUENCY REVERSIBILITY MAGNITUDE PROBABILITY CONFIDENCE SIGNIFICANCE Pipeline Construction Repair andor Replacement Reduction in air quality LSA Shortterm Isolated Immediate Low High High Not significant Accidents Malfunctions and Unplanned Events Reduction in air quality RSA Immediate Accidental Immediate Low Low High Not significant Operations and Maintenance Reduction of air quality LSA Shortterm Isolated Immediate Low High High Not significant Reduction in air quality from emissions at ethane source plant and destination plant RSA Longterm Continuous Immediate Low High High Not significant', 'Table 716 Potential Use of Site N05N07 Unnamed Lake Species Overwintering1 Spawning and Incubating Rearing Adult Feeding and Holding Northern pike Whitefish species Longnose sucker NOTES potential use of the waterbody habitat no potential use of the waterbody habitat 1 Assessment incorporates preliminary analysis of March 2004 data Of the species and species groups listed only whitefish species have been confirmed in the lake in this study ', 'Table 61 Watercourse Crossings along the New Pipeline in Qubec Watercourse Classification Number of Crossings Ephemeral flowing after intensive rainfall and spring snowmelt and characterized by poorlydefined bed and banks 58 Intermittent flowing continuously for weeks or months before drying out in the summer and characterized by defined bed and banks 385 Small Permanent has a width of less than 5 m at highwater line 258 Medium Permanent has a width of 5 to 20 m at highwater line 93 Large Permanent has a width greater than 20 m at highwater line 26 Beaver Pond significant enlargement of a watercourse created by a beaver dam 32 Pond small water body either natural or created in agricultural land 8 Lake significant natural enlargement of a watercourse 0 Total 860')\n"
          ],
          "name": "stdout"
        },
        {
          "output_type": "stream",
          "text": [
            "\r17it [00:26,  1.54s/it]"
          ],
          "name": "stderr"
        },
        {
          "output_type": "stream",
          "text": [
            "('TABLE 733 Potential Residual Effect Criteria Rating Potential Residual Effect Criteria Rating Effects Characterization and Significance Determination Rationale c Alteration or contamination of surface water as a result of the withdrawal and release of hydrostatic test water contd Magnitude Low Mitigation measures in Table 731 including limiting withdrawal volumes testing water prior to release and avoiding erosion during the release of test water are in accordance with provincial regulatory guidelines AENV 1999a AEP 1994 c Alteration or contamination of surface water as a result of the withdrawal and release of hydrostatic test water contd Probability Low With successful implementation of the key mitigation measures it is unlikely that hydrostatic testing will cause an effect on surface water quality c Alteration or contamination of surface water as a result', 'Table 588 Results of Industrial Impact Indicators of Wetland Function and Health Assessment by Wetland Class in the Terrestrial Local Study Area Marsh Class I 2 0 0 0 0 0 0 0 Marsh Class II 3 0 0 0 0 33 33 0 Marsh Class III 1 0 0 0 0 0 0 0 Marsh Class V 1 50 0 50 0 0 50 0 Marsh Class VMOD 2 0 0 0 0 0 0 0', 'Table 98 Potential Effects on Wildlife and Wildlife Habitat Project Activities and Physical Works1 Potential Effects Project Activities and Physical Works1 Change in habitat availability Change in habitat connectivity Changes in mortality risk Change in residences of species at risk Change in critical habitat of species at risk Construction Pipeline2 NA Pump stations including permanent access roads NA Operation Pipeline2 NA Pump stations including permanent access roads NA Decommissioning and abandonment3 NOTES Indicates that an activity is likely to contribute to the environmental effect NA indicates not applicable 1 For accidents and malfunctions see Volume 19 2 Construction includes development and use of temporary ancillary facilities eg stockpile sites laydown areas storage yards 3 For effects of decommissioning and abandonment see Volume 14 Section 8 ', 'Table 51710 Summary of Select Waste Infrastructure in the Community Regional Study Area Project Component County Landfill Wastewater Project Component County Landfill Wastewater North Star Section 2 Northern Lights County Keg River Landfill Long Lake Regional Landfill Site Transfer Sites ManningNorth Star NW329023W5 Dixonville Waste Water system is a gravity feed system North Star Lagoon serving North Star is a lowpressure system with wastewater treatment')\n"
          ],
          "name": "stdout"
        },
        {
          "output_type": "stream",
          "text": [
            "\r18it [00:27,  1.42s/it]"
          ],
          "name": "stderr"
        },
        {
          "output_type": "stream",
          "text": [
            "('Table 572 Environmental Effects Assessment Matrix for Health and Safety Environmental Effects Assessment Matrix Valued Environmental Component HEALTH AND SAFETY Phase Accidents Malfunctions and Unplanned Events Project Activities and Physical Works See Table 311 for list of specific activities and works Potential Environmental Effects AAdverse PPositive Mitigation Magnitude Geographic Extent DurationFrequency Reversibility EcologicalSocioCultural and Economic Context Hazardous Materials Spill Change in public health and safety A Construction Safety Manual Maintenance Safety Manual Spill Response Procedures Operation and Maintenance Procedures Worker and contractor training Audits and Inspections Environmental Protection and Safety Management Program Emergency Preparedness and Response Plan 1 1 11 R 2 Change in worker health and safety A Construction Safety Manual Maintenance Safety Manual Spill Response Procedures Operation and Maintenance Procedures Worker and contractor training Audits and', 'TABLE 35 HUNTING AREAS IDENTIFIED BY MCLEOD LAKE INDIAN BAND Location Site Description Age Requested Mitigation KP 0 to KP 20 Pine River hunting area Historic None KP 45 to KP 70 Hunting area Historic None Boudreau Lake hunting area Historic None Bear activity and game trails leading to water Current None 3083216 Several game tracks and moose hair at a lease site Current None C046I094B08 Squirrel cache near Kobes Creek Current None 2782246 Game tracks Current None 582226 Game trails and tracks leading to Moberly River Current None', 'Table 517 Comparison of Annual Emissions from Westridge Marine Terminal Existing Conditions Subtracted from Project Conditions in tonnesy Emission Source Annual Emissions Emission Source TSP PM10 PM25 CO NOX SO2 VOC Diesel Generators and Fire Water Pumps 18E09 18E09 18E09 56E09 26E08 17E09 21E09 Exhaust from Berthed Ships 23 22 21 111 979 45 28 Storage Tanks holding Jet Fuel 0 0 0 0 0 0 00 Storage Tanks holding Light Crude 0 0 0 0 0 0 09 Vapour Combustion Unit 1553 1553 1553 1095 201 06 28 Vapour Recovery Unit 0 0 0 0 0 0 566 Fugitive Ship Emissions from Loading 0 0 0 0 0 0 238 Total Emissions at KMC Operations 153 153 153 98 78 38 805', 'Table 586 Results of Vegetation Diversity and Wildlife and Fish Habitat Indicators of Wetland Function and Health Assessment by Wetland Class in the Terrestrial Local Study Area Bog Wb 8 100 0 13 100 0 0 Fen Wf 1 0 100 0 NA 0 0')\n"
          ],
          "name": "stdout"
        },
        {
          "output_type": "stream",
          "text": [
            "\r19it [00:29,  1.38s/it]"
          ],
          "name": "stderr"
        },
        {
          "output_type": "stream",
          "text": [
            "('TABLE 5241 SUMMARY OF ENVIRONMENTAL AND SOCIOECONOMIC ELEMENTS AND CONSIDERATIONS FOR KERROBERT STATION Environmental and SocioEconomic Elements Summary of Considerations Soil and Soil Productivity Most of the Project activities at Kerrobert Station will be conducted within an existing previouslydisturbed industrial site However Project activities will encounter hay lands in the northern portion of the station All activities will be conducted within Enbridge property boundaries Sitespecific soil investigations and mapping for Kerrobert Station were conducted by Mentiga in October 2013 Detailed descriptions of soils encountered are provided in Appendix 3B Moderately well to imperfectlydrained Brown Solodized Solonetz and Brown Solonetz developed on silty clay loam textured glaciolacustrine material overlying loam to clay loam textured till overlying loam to clay loam textured till shallow Kelstern soils occur throughout the study', 'TABLE A34 CONSULTATION ACTIVITIES WITH PROVINCIALMUNICIPAL AUTHORITIES MANITOBA Stakeholder GroupAgency Name Name and Title of Contact Method of Contact Date of Consultation Activity Consultation OutcomeIssuesConcerns CommitmentsFollowUp ActionsComments Where Issue is Addressed in the ESAEPP RM of Oakland contd Marlene Biles Chief Administrative Officer Shawna Paulsen Administrative Assistant David B Inkster Reeve Perry Gullett Councillor Dave Green Councillor Meeting July 17 2013 Enbridge introduced Project and reviewed Project package Meeting topics included line weight capacity open house timing and decommissioned pipeline taxes None NA RM of Oakland contd Shawna Paulsen Administrative Assistant Email July 18 2013 Enbridge provided information regarding the upcoming coffee talks in Alberta Saskatchewan and Manitoba None NA RM of Oakland contd Marlene Biles Chief Administrative Officer Phone August 8 2013 Enbridge requested to schedule a', 'Table 11 Physical Works and Activities Considered in ESA Construction Operation Decommissioning and Abandonment Site preparation clearing slash burning chipping trenching grading and blasting Physical footprint of site and infrastructure during operations cleared surfaces less permeable surfaces and storm water management systems Site restoration infrastructure removal and site reclamation Facilities construction pump stations and support buildings Operations pump stations Removal of aboveground structures facilities and site restoration remediation and reclamation Upgrading of access roads where required Maintenance of access roads Decommissioning and reclamation of access roads Construction equipment and traffic Operational maintenance and repair equipment and traffic Decommissioning equipment and traffic', 'TABLE 545 FISH SPECIES THAT MAY BE PRESENT IN THE ASSINIBOINE AND RED RIVER WATERSHEDS Species Code Common Name Scientific Name BLCR black crappie Pomoxis nigromaculatus BNTR brown trout Salmo trutta BRBU brown bullhead Ameiurus nebulosus BKTR brook trout Salvelinus fontinalis BURB burbot Lota lota CHAT channel catfish Ictalurus punctatus CHLA chestnut lamprey Ichthyomyzon castaneus GOLD goldeye Hiodon alosoides LABA1 largemouth bass Micropterus salmoides LKST lake sturgeon Acipenser fulvescens LKWH lake whitefish Coregonus clupeaformis MOON mooneye Hiodon tergisus RNTR Rainbow trout Oncorhynchus mykiss SAUG sauger Sander canadensis ROBA rock bass Ambloplites rupestris SMBS1 smallmouth bass Micropterus dolomieu STON stonecat Noturus flavus WHCR white crappie Pomoxis annularis WHIBA1 white bass Morone chrysops YLPR yellow perch Perca flavescens')\n"
          ],
          "name": "stdout"
        },
        {
          "output_type": "stream",
          "text": [
            "\r20it [00:31,  1.52s/it]"
          ],
          "name": "stderr"
        },
        {
          "output_type": "stream",
          "text": [
            "('Table 616 Operating Expenditure by Region Qubec Expenditures Qubec Other Canada Foreign Total Expenditures millions Labour 30 72 75 Materials and Equipment 980 791 889 Total 1010 863 964 Total 10 90 100 SOURCE Energy East Statistics Canada Interprovincial InputOutput Model 2010 ', 'Table 814 Key Mitigation Measures for Aquatic Resources Potential Effect Effect Pathway Mitigation Measures Applicable Project Component Potential Effect Effect Pathway Mitigation Measures Elk River Section Alford Creek Section Change in Surface Water Quality contd Ensure that water from dewatering entry and exit sites with a high sediment load is not discharged or allowed to flow into any waterbody Remove the sediment load eg filter or discharge into a vegetated area before discharge water is allowed to enter any watercourse Change in Surface Water Quality contd Where warranted develop a water quality monitoring plan with input from an Aquatic Resource Specialist that includes monitoring for TSS andor turbidity if trenchless methods are used Change in Surface Water Quality contd Prior to discharge of hydrostatic test water ensure that', 'Table 3110 Population Mobility Operations Effect Attributes for the Sahtu Settlement Area Location Effect Attribute Significant Location Direction Magnitude Geographic Extent Duration Significant Fort Simpson Neutral No effect Local Long term No', 'Table 34 Summary of Baseline Air Quality for the Health Assessment CAC Averaging Period Applicable Jurisdiction Baseline Concentration gm3 CAC Averaging Period Applicable Jurisdiction Williams Lake Columneetza School Pine River Hasler60 Kamloops Brocklehurst PM25 24hour BC AQO and CAAQS 179 PM25 Annual BC AQO and CAAQS 48 NOTES Baseline air quality data are developed from BC MOE 19982016 SAS summary spreadsheets MOE 2017e NO2 The BC MOE summary database for NO2 observations at Williams Lake Columneetza School are for 2009 2010 2011 2013 and 2016 2012 2014 and 2015 results were suppressed by the BC MOE due to incompleteness The 1hour and 24hour NAAQO background NO2 concentrations are determined based on the 98thpercentile of 1 hour and 24 hour NO2 concentrations for each year then averaged over the')\n"
          ],
          "name": "stdout"
        },
        {
          "output_type": "stream",
          "text": [
            "\r21it [00:32,  1.48s/it]"
          ],
          "name": "stderr"
        },
        {
          "output_type": "stream",
          "text": [
            "('TABLE 12 SUMMARY OF RECENT ENBRIDGE STATION APPLICATIONS AND ASSOCIATED SUPPORTING STUDIES AT STATIONS WITH PROPOSED ADDITIONS MODIFICATIONS Facility Supporting Study1 Recent NEB Applications2 Edmonton Enbridge is part of the Strathcona Industrial Association which monitors and reports air quality in the Strathcona area Tankage Replacement Kingman Station noise Southern Access Stage 1A Strome Station noise SEP II Southern Access Stage 1A Hardisty Terminal noise SEP I II Hardisty Tankage projects Terrace Phase III Southern Access Stages 1A and 1B Southern Access Stages 2A and 2B Metiskow noise Terrace Phases II III Southern Access Stages 2A and 2B Cactus Lake noise SEP II Terrace Phase II and III Southern Access Stages 2A and 2B Kerrobert Terminal noise SEP I Terrace Phases II III Southern Access Stages 2A and 2B', 'TABLE 28 OPERATION AND MAINTENANCE ACTIVITIES Operation and Maintenance Phase Associate Activities Line Patrols As part of routine operation and maintenance procedures aerial and ground patrols will be conducted to visually inspect for environmental monitoring issues evidence of pipeline damage erosion and washout areas areas of sparse vegetation damage to permanent erosion control structures exposed pipe and other potential problems that may affect the integrity and safe operation of the pipeline In addition pipeline markers and signs will be inspected and maintained or if necessary replaced as necessary to ensure the pipeline location is visible Vegetation Management A Weed and Clubroot Management Plan has been prepared for the Project and is provided in the Pipeline EPP Appendix D2 of Appendix 1A of this ESA In addition Enbridge will', 'Table 165 Land to be Surveyed in 2011 SITE NAME LEGAL DESCRIPTION SITE TYPE HERITAGE VALUE MITIGATION RECOMMENDATION DkOd89 SW 23920 W3M Prehistoric Unknown Need to be revisited DkOd90 SE 23920 W3M Prehistoric Unknown Need to be revisited DkOe18 SW 28920 W3M Prehistoric Unknown Need to be revisited DlOg25 SE 11223 W3M Prehistoric Unknown Need to be revisited EaOg15 NW 201223 W3M Prehistoric Unknown Need to be revisited EaOg22 NW 301223 W3M Prehistoric Unknown Need to be revisited EaOg23 NW 201223 W3M Prehistoric Unknown Need to be revisited EaOg24 NE 191223 W3M Prehistoric Unknown Need to be revisited EaOg9 NE 191223 W3M Prehistoric Unknown Need to be revisited', 'TABLE 8162 PREDICTED CHANGE IN AREA OF DISTURBANCE IN THE BOUNDARY LAKE SECTION AND ALCES RIVER UNIT ADDITION TLRU RSAs Disturbance Feature Existing Conditions Project Conditions Future Conditions Disturbance Feature Area of Disturbance ha 1 Change from Existing Conditions ha 2 Cumulative Area of Disturbance ha 12 Change from Project Conditions ha 3 Change from Existing Conditions ha 23 Cumulative Area of Disturbance ha 123 CitiesTowns Communities 892 00 892 00 00 892 AirportsAirfields 2234 00 2234 00 00 2234 Primary Roads 3750 00 3750 00 00 3750 QuarriesMines Aggregates 10034 00 10034 00 00 10034 CommercialIndustrial FacilitiesFeatures or Oil and Gas Facilities 64674 46 64720 3985 4031 68705 Secondary Roads 56592 00 56592 114 114 56478 Railways 3954 00 3954 00 00 3954 Well Sites 98662 00')\n"
          ],
          "name": "stdout"
        },
        {
          "output_type": "stream",
          "text": [
            "\r22it [00:33,  1.47s/it]"
          ],
          "name": "stderr"
        },
        {
          "output_type": "stream",
          "text": [
            "('Table 55 Effects Classification Criteria Groundwater Resources Criteria Criteria Definitions Direction The expected longterm trend of the effects Positive Effect is an increase in groundwater quantity or an improvement in groundwater quality compared with baseline conditions and trends Direction The expected longterm trend of the effects Negative Effect is a decrease in the groundwater quantity or a degradation of groundwater quality compared with baseline conditions and trends Direction The expected longterm trend of the effects Neutral Effect is no change from baseline conditions and trends Magnitude The expected change in a measurable parameter or variable relative to baseline case Low Effect is detectable but within normal variability of baseline conditions Magnitude The expected change in a measurable parameter or variable relative to baseline case Moderate Effect will have', 'TABLE 841 SUMMARY OF REASONABLY FORESEEABLE DEVELOPMENTS IDENTIFIED FOR THE ASSESSMENT OF CUMULATIVE EFFECTS ON SOIL AND SOIL PRODUCTIVITY Boundary Lake Section and Alces River Unit Addition Physical Environment and Soils LSA Bear Canyon Section Physical Environment and Soils LSA McLeod River Section Physical Environment and Soils LSA Pelican Lake Section Physical Environment and Soils LSA Christina River Section Physical Environment and Soils LSA Otter Lake Unit Addition and Camp Site Physical Environment and Soils LSA Agriculture and Livestock No developments found No developments found No developments found No developments found No developments found No developments found Energy Transmission No developments found No developments found 1 transmission line No developments found No developments found No developments found Forestry 2 FMAs No developments found 2 FMAs 1 FMA 1', 'Table D16 Summary of Soil Inspection Point Data INSPECTION SITE SOIL SUBGROUP SERIES ABREVIATION PARENT MATERIAL UTM ZONE EASTING NORTHING SURFACE EXPRESSION DRAINAGE SURFACE STONINESS CLASS SLOPE CLASS SLOPE POSITION TOPSOILDEPTH cm 222 ODBC AMA GLLC 12U 662045 5519725 LevelUndulating MW 1 1 Level 13 223 ODBC AMA GLLC 12U 662298 5519444 LevelUndulating MW 1 1 Level 11 224 ODBC AMA GLLC 12U 662523 5519194 LevelUndulating MW 1 1 Level 11 225 ODBC AMA GLLCTILL 12U 663404 5517997 LevelUndulating MW 12 12 Level 12 226 ODBC AMA GLLCTILL 12U 663698 5517590 LevelUndulating MW 2 1 Level 9 227 ODBC AVAgl GLFLTILL 12U 663830 5517398 I 1 12 D 17 228 ODBC AMAxg GLFLTILL 12U 664064 5517134 Undulating W 34 23 U 12 229 ODBC AMAxg TILLGLLC 12U 664387', 'Table 301 List of Regulatory and Government Agencies Contacted in Relation to the ESA 1 Date DescriptionOutcome 18May10 19May10 19May10 19May10 1Jun10 22Jun10 28Jun10 7Jul10 ')\n"
          ],
          "name": "stdout"
        },
        {
          "output_type": "stream",
          "text": [
            "\r23it [00:35,  1.55s/it]"
          ],
          "name": "stderr"
        },
        {
          "output_type": "stream",
          "text": [
            "('Table 5102 Ambient Sulphur Dioxide SO2 Concentrations at Smokey Heights Monitoring Station Year Average gm3 24Hour Maximum gm3 1Hour Maximum gm3 Number of AAAQO Exceedances Year Average gm3 24Hour Maximum gm3 1Hour Maximum gm3 1Hour 24Hour 2010a 164 2011b 130 931 4025 0 0 2012c 135 643 3740 0 0', 'TABLE 610 CAC EMISSIONS ASSOCIATED WITH PIPELINE CONSTRUCTION OPERATIONS AND MAINTENANCE Total CAC Emissions for the Project Operations and Maintenance Emissions tonnesyear c Total CAC Emissions for the Project Operations and Maintenance SO2 NOx CO PM25 PM10 Total CAC Emissions for the Project Operations and Maintenance 004 009 564 001 001 Existing Emissions for the Three RSAs 252 4231 1130 154 145 of Existing Emissions 002 0002 050 006 007 NOTES a The sum of the values in the table may not equal the total due to rounding b Assumed construction period is 6 months c The sum of the values in the table may not equal the total due to rounding ', 'TABLE 451 SITE SERIES AND POTENTIAL RARE WETLANDS IN THE IDFxh2 Site Series1 Code Assumed Modifiers Atypical Modifiers Structural Stage Potential to Support REC Mapped Area ha FdPy Pinegrass Feathermoss 01 d j k c w 1 2 2a 2b 3 3a 3b 4 5 6 7 yes 28232 FdPy Bluebunch wheatgrass Rough fescue 02 s w k 2 2a 2b 3 3a 3b 5 6 yes 1825 FdPy Bluebunch wheatgrass Balsamroot 03 d c w z 2 3a 3b 5 6 yes 3118 FdPy Bluebunch wheatgrass Pinegrass 04 d c k s w z 2 2b 3a 5 6 yes 6227 FdPy Pinegrass 05 d c w 2 2b 3a 5 6 yes 3814 Fd Feathermoss 06 d c k q w 2 3 3a 5 6', 'Table 8AIV1 Soil Inspection Site Locations and Properties for Alberta Site SiteType1 Subgroup SeriesAbbreviation ParentMaterial2 UTMZone Easting Northing SurfaceExpression SurfaceStoninessClass Slope SlopePosition SlopeClassClass Drainage 307VL1 ND ODBC 12 6583101 55235195 Undulating 8 Upper 307VL2 ND ODBC 12 6582538 55236133 Undulating 4 Mid 308CB D ODBC AMA 12 6581524 55237226 Undulating 2 013 4 Mid Well 308CB1 ND ODBC 12 6580898 55238090 Undulating 1 00101 7 3 25 Well 308CB2 ND ODBC 12 6580267 55238917 Undulating 2 Crest 3 25 309VL D ODBC AMA 12 6579160 55240453 Undulating 1 00101 3 Mid Well 309VL1 ND ODBC 12 6578389 55241256 Undulating 7 Mid 4 69 309VL2 ND ODBC 12 6577691 55242680 Undulating 2 013 5 Lower 3 25 30VL D RDBC HTAxs 13 3063540 54398260 Undulating 0 001 Crest Rapidly')\n"
          ],
          "name": "stdout"
        },
        {
          "output_type": "stream",
          "text": [
            "\r24it [00:37,  1.59s/it]"
          ],
          "name": "stderr"
        },
        {
          "output_type": "stream",
          "text": [
            "('Table 143 Summary of Exposure Limits Selected for Benzene Duration AveragingTime Exposure Pathway Type Value Units Reference Endpoint Relevant to Mixtures Acute 1hour Inhalation ReV 580 gm TCEQ 2013 2007 Immunological effects Chronic Annual Inhalation RsC 13 gm US EPA 2013 2000 Leukemia Chronic Annual Inhalation RfC 98 gm ATSDR 2013 2007 Immunological hematological effects Chronic Annual Multiple Exposure Pathway na na na na na', 'Table 210 Estimated Background Concentrations Substance Averaging Period Average gm3 90th Percentile gm31 99th Percentile gm3 Maximum gm3 Pump Stations Martin Upsala Dog River Eagle Head Geraldton Klotz Lake NO2 1hour 151 338 639 103 NO2 24hour 151 274 429 609 NO2 Annual 151 NA NA 162 CO 1hour 328 687 1030 2976 CO 8hour 325 629 930 2649 PM25 24hour 42 80 151 524 PM25 Annual 42 46 46 48 PM10 2 24hour 84 161 302 105 Pump Stations Hearst Mattice NO2 1hour 99 207 470 1015 NO2 24hour 99 183 284 459 NO2 Annual 99 NA NA 104 CO 1hour 319 458 687 1717 CO 8hour 319 444 601 997 PM25 24hour 42 88 160 285 PM25 Annual 42 44 44 44 PM10 2 24hour 85', 'Table G28 Exposure Point Concentrations mgkg ww in Intertidal and Subtidal Biota Following a Hypothetical Spill of Crude Oil WCS near Saint John COPC Concentrations in Intertidal Biota mgkg ww Concentrations in Subtidal Biota mgkg ww COPC ClamSnail LobsterCrab ClamScallop LobsterCrab Groundfish COPC 4 Weeks 12 Years 4 Weeks 12 Years 4 Weeks 12 Years 4 Weeks 12 Years 4 Weeks 12 Years BTEX Benzene 599E03 211E03 121E03 Toluene 669E03 235E03 135E03 Ethylbenzene 111E03 651E04 299E04 Xylenes Total 736E03 431E03 198E03 Petroleum Hydrocarbon Fractions Aliphatic C6C8 196E02 115E02 527E03 Aliphatic C8C16 584E08 296E08 160E01 281E01 323E01 Aliphatic C8C10 792E04 464E04 213E04 Aliphatic C10C12 585E04 103E03 118E03 Aliphatic C12C16 584E08 296E08 159E01 279E01 321E01 Aliphatic C16C34 584E08 296E08 160E01 281E01 323E01 Aliphatic C16C21 Aliphatic C21C34 Aliphatic C34C50 Aromatic C8C16', 'Table 423 Sewer System Capacity and Utilization Locale District of Taylor District ofHudsons Hope City of Fort StJohn District ofChetwynd RatedCapacity1 350 cubic meters perday 1800 cubic metersper day 20000 cubic metersper day 8500 cubic meters perday Average DailyDemand1 475 cubic meters perday 430 cubic meters perday 8000 cubic metersper day 1628 cubic meters perday Average DailyUtilization 1357 239 40 192')\n"
          ],
          "name": "stdout"
        },
        {
          "output_type": "stream",
          "text": [
            "\r25it [00:39,  1.77s/it]"
          ],
          "name": "stderr"
        },
        {
          "output_type": "stream",
          "text": [
            "('TABLE 1 RESOURCESPECIFIC MITIGATION TABLE Location KP Issue Timing Windows and or Regulatory Guidelines Mitigation Comments RARE PLANTS 2240 to 229 3640 to 3641 Iowa golden saxifrage NA Minimize surface disturbance by limiting grubbing to the trench line only If a level travel surface is needed for safety consider ramping over the travel lane with snow Restore contours following construction to maintain microtopography and hydrology Iowa golden saxifrage has been observed recolonizing disturbance at a variety of locations 070 to 100 820 to 821 1680 to 1681 2800 to 2801 3300 to 3301 3640 to 3641 3890 to 3891 7000 to 7001 western Jacobsladder NA Minimize surface disturbance by limiting grubbing to the trench line only If a level travel surface is needed for safety consider ramping over', 'Table 24 Recommended Mitigation Measures for Land and Resource Use Effect Mitigation Measures Temporary or permanent loss of use of agricultural land contd Topsoil handling should follow measures outlined for soils handling on the environmental alignment sheets and projectspecific EPP Post signs at areas identified as having noxious weed infestations prior to start of construction To avoid the introduction or spread of weeds all equipment must arrive at the Project site clean and free of soil or vegetative debris Equipment will be inspected by the Environmental Inspectors or designate and if deemed to be in appropriate condition will be identified with a suitable marker or tag Any equipment which arrives in a dirty condition shall not be allowed on the rightofway until it has been cleaned Conduct shovel', 'Table A1 Correlation of GVI Lentic Site Types with the Stewart and Kantrud 1971 Wetland Classification System Stewart and Kantrud 1971 GVI Site Type Wetland Class Lentic Type Vegetation Zones Present GVI Site Type Class 5 Permanent Lowprairie Wetmeadow Shallowmarsh Deepmarsh Lentic SemiPermanent to Permanent LenSP Class 5 Permanent Openwater Lentic Water LenW Class 6 Alkali Lowprairie Wetmeadow Shallowmarsh Deepmarsh Intermittentalkali or fen Lentic Alkali LenA', 'TABLE L2 WILDLIFE AND WILDLIFE HABITAT ENVIRONMENTAL PROTECTION MEASURES PROPOSED PIPELINE CORRIDOR Concern Concern Concern Oregon Forestsnail RBBC K 10437 to RK 1179 urnaby to Westridge RK 0 to RK 36 Avoid clearing during springearly summer MarchJune when snails are most active on the surface and depositing eggs BC MOE 2007 If clearing or construction occurs in spring conduct a preconstruction survey in areas with high habitat suitability eg patches of stinging nettle dense herbaceous vegetation with fringecup or other moistureloving plants riparian areas or other suitable moist sites in late March or early April to the end of June prior to vegetation clearing BC MOE 2007 If a snail is found move it off the construction footprint Install barrier fencing at the time of the survey to')\n"
          ],
          "name": "stdout"
        },
        {
          "output_type": "stream",
          "text": [
            "\r26it [00:40,  1.64s/it]"
          ],
          "name": "stderr"
        },
        {
          "output_type": "stream",
          "text": [
            "('Table 546 Taglu Site Descriptions Crossing ID Name Drainage Area km2 Hydrologic Region Stream Class Width1m Dominant Substrate Upland Storage 2002 Flow Monitoring RPR002 Harry Channel at Mackenzie River NA Delta Active I 120170 Silt NA No RPR005 Unnamed delta channel NA Delta Active I 6575 Silt NA No NOTE NA not applicable 1 Range of values reflects different widths measured within the study reach ', 'Table 6B1 Pipeline Crossings with Potential for Fish and Fish Habitat in Qubec Crossing ID Watercourse Name Location UTM Watercourse Type Navigability1 Channel Width m Wetted width m Maximum Depth m Species Captured by UDA Historic Species Documented Species of Management Concern Habitat Sensitivity Ranking Restricted Activity Period RAP Recommended Pipeline Crossing Method QCML140 Bayonne River 18N E 639388878 N 5106254093 Large Permanent 20 m Recreational Use 500 350 300 channel catfish white perch shorthead redhorse sauger Northern pike bluntnose minnow spottail shiner spotfin shiner golden shiner mimic shiner yellow perch perch sp tessellated darter or Johnny darter smallmouth bass gizzard shad brown bullhead cutlip minnow silver redhorse rock bass pumpkinseed walleye sauger brook stickleback threespine stickleback channel darter logperch alewife Northern pike mooneye fathead minnow bluntnose minnow', 'TABLE 586 WILDLIFE MANAGEMENT UNITS TRAVERSED BY THE PROPOSED PIPELINE ROUTE IN ALBERTA Location KP WMU Overview of Hunting Seasons 1760 to 1965 202 Early September to mid December early April to late May 1965 to 2091 232 Early September to mid December early April to late May 2091 to 2114 202 Early September to mid December early April to late May 2114 to 2750 200 Early September to mid December early April to late May', 'Table B1 Potential Rare Ecological Communities in the Central Mixedwood Natural Subregion Scientific Names Common Names Provincial and Global Ranksa Herbaceous Atriplex dioica Puccinellia nuttalliana Triglochin palustris string fen saline saltbush Nuttalls saltmeadow grass slender arrow grass string fen S1S3 Calamagrostis stricta Triglochin maritima string fen narrow reed grass seaside arrowgrass string fen S1S3 Carex limosa Menyanthes trifoliata fen mud sedge buckbean fen S1S2 Carex limosa Scheuchzeria palustrisSphagnum teres S subsecundum peatland mud sedge scheuchzeriathinleaved peat moss peatland S1 Carex oligospermaSphagnum subsecundum fen fewfruited sedgetwisted bog moss fen S1S2 Carex pseudocyperus Calla palustris wetland cyperuslike sedge water arum wetland S2 Carex retrorsa marsh turned sedge marsh S1S2 Carex rostrata marsh beaked sedge marsh S2 Elymus trachycaulus Distichlis stricta grassland slender wheat grass salt grass grassland S1 Elymus trachycaulus')\n"
          ],
          "name": "stdout"
        },
        {
          "output_type": "stream",
          "text": [
            "\r27it [00:42,  1.74s/it]"
          ],
          "name": "stderr"
        },
        {
          "output_type": "stream",
          "text": [
            "('Table 920 Concentration Ratios for GroundLevel Concentrations at Sensitive Receptor Locations ShortTerm Exposure for the Planned Development Case COPC Concentration Ratios COPC Planned Development Case COPC 10minutea 1hourb 24hour H2S 067 3 037 9 Mercaptans 031 4 Benzene 025 4 NOTES A The 10minute concentrations were calculated from the first highest 1hour concentrations using a conversion factor of 165 OMOE 2009 B The first highest 1hour average predicted concentration No criteria available Numbers in parentheses are sensitive receptor location IDs see Figure 92 of maximum predicted groundlevel concentration ', 'TABLE 646 SIGNIFICANCE EVALUATION OF POTENTIAL RESIDUAL EFFECTS OF CHANGES TO THE PROJECT CAUSED BY THE ENVIRONMENT Potential Residual Effects Impact Balance Spatial Boundary Temporal Context Magnitude Probability Confidence Significance1 Potential Residual Effects Impact Balance Spatial Boundary Duration Frequency Reversibility Magnitude Probability Confidence Significance1 a Loss of cover over the pipeline in isolated areas as a result of an extreme flood event Negative Aquatics LSA Immediate Accidental Shortterm Medium Low High Not significant b Depending on the severity a wildfire could affect the construction schedule Negative Vegetation LSA Immediate to shortterm Accidental Shortterm Low Low High Not significant c Depending on the type and severity of the change in weather trends the scheduling of maintenance activities may be affected Negative Aquatics LSA Immediate to shortterm Accidental Shortterm Low', 'Table 97 Key Mitigation Measures for Water Quality and Quantity Potential Effect Effect Pathway Mitigation Measures Potential Effect Effect Pathway Mitigation Measures Rocky ViewSection Change inSurface WaterQuality Project constructioncould affect surfacewater qualityIncreased sedimentconcentrations andtransport in surfacewater due tovegetation clearingand increasederosion on theProject footprint Ensure pumps generators light towers frost fighters handheld fuel containersused within 100 m of a water body have secondary containment that canhold 125 of the fuel tank This applies to secondary containments that areconstructed on site Where equipment includes doublewalled or Enviro tankin the design the minimum requirement shall be 110 of the fuel tank Change inSurface WaterQuality Project constructioncould affect surfacewater qualityIncreased sedimentconcentrations andtransport in surfacewater due tovegetation clearingand increasederosion on theProject footprint All fuel tanks hazardous materials and chemicals shall be stored withinappropriate', 'TABLE 411 SUMMARY OF PROPOSED WATERCOURSE AND FISHBEARING DRAINAGE CROSSINGS ALONG THE BOUNDARY LAKE SECTION Site No Name KP1 Legal Location UTM Coordinates NAD 83 Zone 11U Class Restricted Activity Period2 Survey Date Open Water Mean Channel Morphology Results Fish Species Captured or Observed During Open Water Aquatic Assessment Previously Documented3 Beaver Activity Present Planned Pipeline Crossing Method Contingency Pipeline Crossing Method Planned Vehicle Equipment Crossing Method Frozen Planned Vehicle Equipment Crossing Method Open Water Serious Harm Determination Results Navigability Determination Results QAES Recommendations BLWC18 Unnamed tributary to the Osborn River KP 394 SE 188912 W6M 322808E 6289337 Unmapped Class C April 16 to July 15 September 2 2014 Bankfull Width 07 m Wetted Width 02 m Bankfull Depth 035 m Flow Negligible No fish sampling No fish')\n"
          ],
          "name": "stdout"
        },
        {
          "output_type": "stream",
          "text": [
            "\r28it [00:44,  1.63s/it]"
          ],
          "name": "stderr"
        },
        {
          "output_type": "stream",
          "text": [
            "('Table 13H31 Habitat Availability for Wildlife Species of Concern in the Ekwan Pipeline Project Corridor Species Season Habitat Rating Class Baselineha Constructionha Change between Construction and Baseline Operations Without Project ha Change between Operations Without Project and Baseline Operations With Project ha Change between Operations With Project and Baseline Grizzly Bear Spring Very High 4962 4665 60 5028 13 6840 378 Grizzly Bear Spring High 55480 54915 10 55480 00 54910 10 Grizzly Bear Spring Mod High 48519 47881 13 48401 02 47760 16 Grizzly Bear Spring Mod 31658 31295 11 31482 06 31120 17 Grizzly Bear Spring Low 30918 30674 08 30859 02 30620 10 Grizzly Bear Spring Nil 2163 4269 974 2449 132 2450 133 Grizzly Bear Spring Total 173700 173700 173700 173700 Grizzly Bear Fall', 'TABLE 21 TECHNICAL DETAILS HORN RIVER MAINLINE LOOP KYKLO CREEK SECTION Total Length 291 km Length Parallel to Existing RightsofWay 251 km 86 as per the CEA Act definition approximately 278 km 96 paralleling existing linear disturbances ie existing pipeline seismic line road Product Sweet natural gas Maximum Operating Pressure 9930 kPa Source Point Tiein point at b25k94I11 Delivery Point Existing NGTL Mainline Valve 1 MLV 1 a97F94I10 Pipe Size 1067 mm OD NPS 42 Construction Footprint typical construction rightofway 32 m construction rightofway 10 m spoil side 22 m work side Amount of new permanent rightofway depends on adjacent dispositions Temporary Workspace Additional temporary workspace will be necessary on a sitespecific basis at road foreign line and watercourse crossings log decking sites as well as at sharp', 'Table 724 Baseline Information for Watercourse Crossings of Large River and Active I Channels Pipeline Corridor Crossing ID Watercourse Name Stream Class Region Drainage Area km2 Channel Width m Valued Component Species Present Habitat Suitability for Valued Components Crossing ID Watercourse Name Stream Class Region Drainage Area km2 Channel Width m Valued Component Species Present OverWintering Spring Spawning FallWinter Spawning RPR468 Nadia Bluefish Creek Active I Deh Cho 60 63 Northern pike RPR470 Mackenzie River Large River Deh Cho 992000 7800 Arctic grayling Arctic cisco burbot inconnu lake trout lake whitefish northern pike walleye RPR472 Manners Creek Active I Deh Cho 120 99 Arctic grayling northern pike RPR473 Manners Creek Active I Deh Cho 25 UNK Arctic grayling northern pike UNK UNK UNK RPR475 JeanMarie Creek Large River', 'TABLE A3 WATER WELLS WITHIN 1 KM OF THE PROPOSED PIPELINE ROUTE Well Location Well ID Number Well Use LSD Section Twp Rge Mer Well ID Number Well Use 16 19 051 22 4 71584 Domestic 02 19 051 22 4 71585 Domestic NW 19 051 22 4 71586 Municipal NW 19 051 22 4 71587 Domestic NE 19 051 22 4 71598 Domestic SW 20 051 22 4 71612 Domestic SW 20 051 22 4 71613 Investigation SW 20 051 22 4 71614 Monitoring SW 20 051 22 4 71615 Domestic SW 20 051 22 4 71616 Domestic SW 20 051 22 4 71617 Domestic 04 20 051 22 4 71618 Domestic SW 20 051 22 4 71619 Domestic SW 20 051 22 4 71620 Domestic SW')\n"
          ],
          "name": "stdout"
        },
        {
          "output_type": "stream",
          "text": [
            "\r29it [00:45,  1.55s/it]"
          ],
          "name": "stderr"
        },
        {
          "output_type": "stream",
          "text": [
            "('TABLE 31 CONSULTATION ACTIVITIES WITH FEDERAL AND PROVINCIAL AUTHORITIES Stakeholder GroupAgency Name Name and Title of Contact Method of Contact Date of Consultation Activity Reason for Engagement Consultation OutcomesIssuesConcerns CommitmentsFollowup ActionsComments Where Issue Addressed in ESA Town of Killam Kim Borgel City Manager Phone Oct 23 2012 TERA contacted the Town to gather issues and concerns relevant to the ESA Previous projects have not affected the Town in a positive or negative way Gas stations will benefit from crews passing by with their vehicles A rodeo is planned in the third weekend of June but likely will cause no conflict at all Enbridge has been exemplary in communicating information in the past None NA Town of Killam Kim Borgel City Manager Phone Oct 23 2012 TERA contacted the', 'Table A2 GHG emissions calculated for offroad equipment using estimated total hours in tonnes Equipment Item Fuel Type Total OffRoad Hours Emission Rate kgh Emissions Equipment Item Fuel Type Total OffRoad Hours CO2 CH4 N2O CO2 CH4 N2O CO2e Integrated Tool Carrier IT38H Diesel 4509 5273 000297 002178 23776 001 010 26848 Wheel Loader 950H Diesel 1080 5273 000297 002178 5695 000 002 6431 Chainsaw Gasoline 8316 316 000372 000007 2624 003 000 2707 Feller Buncher Cat 521 Diesel 1188 7526 000424 003109 8941 001 004 10097 Forest Machine 324D FM Log Loader Diesel 1188 4982 000281 002058 5919 000 002 6684 Skidder 525C Diesel 2376 5194 000293 002146 12342 001 005 13936 Track Harvesters Diesel 1188 8090 000456 003342 9611 001 004 10853 Snow Cat Diesel 2187', 'Table 819 Existing Disturbances in the Local Study Area Ecological Zone Local Study Area Total Anthropogenic Rapid Mass Movement Slow Mass Movement Erosion Total in Local Study Area Ecological Zone ha ha ha ha ha ha Tundra 73880 378 443 006 0 000 8272 112 0 000 8715 118 Transition Forest 7771 40 0 000 0 000 0 000 0 000 0 000 North Taiga Plains A 26444 135 0 000 65 025 2078 079 0 000 2728 103 North Taiga Plains B 21367 109 363 017 818 038 515 024 62 003 1758 082 South Taiga Plains A 26249 134 125 005 4214 161 941 358 674 026 14423 549 South Taiga Plains B 39920a 204 104 003 106 003 166 042 559 014 2429 061 TOTAL', 'Table 948 Mechanisms of Habitat Loss for Bird Key Indicators during Construction Key Indicator Vegetation Clearing Habitat Fragmentation Sensory Disturbance Trumpeter Swan Whitewinged Scoter Sharptailed Grouse American Bittern Pacific Great Blue Heron Northern Goshawk Yellow Rail Sandhill Crane Western ScreechOwl Barred Owl Shorteared Owl Common Nighthawk Olivesided Flycatcher Spragues Pipit Cape May Warbler Blackthroated Green Warbler Baybreasted Warbler Connecticut Warbler Canada Warbler Le Contes Sparrow Nelsons Sparrow Rusty Blackbird NOTE applicable for species ')\n"
          ],
          "name": "stdout"
        },
        {
          "output_type": "stream",
          "text": [
            "\r30it [00:47,  1.54s/it]"
          ],
          "name": "stderr"
        },
        {
          "output_type": "stream",
          "text": [
            "('TABLE 151 NATIONAL ENERGY BOARD FILING MANUAL CHECKLIST FOR GUIDE A A2 ENVIRONMENT AND SOCIOECONOMIC ASSESSMENT Filing Manual No Filing Requirement In Application References Not in Application Explanation 2 Predict the effects associated with the proposed project including those that could be caused by construction operations decommissioning or abandonment as well as accidents and malfunctions Also include effects the environment could have on the project For those biophysical and socioeconomic elements or their valued components that require further analysis see Table A1 provide the detailed information outlined in Tables A2 and A3 ESA Section 70 Mitigation Measures for Effects 1 Describe the standard and projectspecific mitigation measures and their adequacy for addressing the project effects or clearly reference specific sections of company manuals that provide mitigation measures Ensure', 'TABLE 516 TRANSPORTATION INFRASTRUCUTURE CROSSED BY THE PIPELINE ROUTE Existing Feature Approximate Location Maintained Public Road KP 59 Maintained Public Road KP 94 Maintained Public Road KP 160 Public Highway 49 KP 166 Maintained Public Road KP 178 Alberta BC Border Maintained Public Road KP 195 Maintained Public Road KP 213 Maintained Public Road KP 248 Maintained Public Road KP 264 Maintained Public Road KP 279 Maintained Public Road KP 293 Maintained Public Road KP 310 Maintained Public Road KP 326 Maintained Public Road KP 343 Maintained Public Road KP 359 Public Highway 97 KP 395 Maintained Public Road KP 399 Maintained Public Road KP 448 Maintained Public Road KP 465 Maintained Public Road KP 498 Maintained Public Road KP 553 Maintained Public Road KP 664 Maintained Public', 'Table 75 Potential Effects and Measurable Parameters for Infrastructure and Services Potential Project Effect Rationale for Inclusion of the Potential Project Effect in the Assessment Measurable Parameters for the Effect Rationale for Selection of the Measurable Parameter Increased demand on accommodation Mobile workers needed for project construction will place demands on local accommodation The shortterm nature of project construction will mostly drive demand for temporary accommodation such as local campgrounds hotels and motels Worker accommodation including the potential for work camps is often raised as a concern by stakeholders and the publicatlarge with respect to industrial projects Housinglodging units Accommodation demand is met by way of available housinglodging units eg hotelmotel rooms campground stalls Increased demand on health emergency and policing services The Projects construction workforce may draw', 'Table 45 Site Risk Levels PROPONENT INFORMATION NAMESTREET CODETEL NORESIDENCETEL NOWORKFAX NOEMAIL ADDRESS CONTRACTORINFORMATION NAMESTREET CODETEL NORESIDENCETEL NOWORKFAX NOEMAIL ADDRESS PROJECT INFORMATION Select Operational Statements that are being used check all applicable boxesin Existing Fresh Water Select the type of water body or watercourse at or near your fill out this section if the project location is different from Proponent Information appendPROJECT LOCATION Smultiple project locations on an additional sheet if necessary Name of water body or watercourseNearest Town to site Coordinates of the Project UTM coordinate or Degrees MinutesSecondsif Legal DescriptionPlan Block Lot Concession Township Section Range Directions to Access the Project Siteie Route or highway number etc Proposed Start DateYYYYMMDD Proposed Completion DateYYYYMMDD')\n"
          ],
          "name": "stdout"
        },
        {
          "output_type": "stream",
          "text": [
            "\r31it [00:48,  1.49s/it]"
          ],
          "name": "stderr"
        },
        {
          "output_type": "stream",
          "text": [
            "('Table 49 Application Case Dispersion Modelling Results for the Critical Levels Assessment CAC Averaging Interval Maximum Predicted Concentration gm3 Baseline gm3 Maximum Predicted Concentrations including Baseline gm3 Critical Level gm3 NOX as NO2 Annual 524 197 721 30 SO2 Annual 020 060 080 10 20 30', 'Table 252 Chronic Inhalation Exposure Limits for Copper Regulatory Agency Type Value gm Reference ATSDR ATSDR 2013 BC MOE BC MOE 2013 ESRD ESRD 2013 HEALTH CANADA Health Canada 2010 2004 Metro Vancouver Metro Vancouver 2011 OEHHA OEHHA 2009 OEHHA 2013 RIVM TCA 1 RIVM 2001', 'Table 642 Magnitudea Definition for Predicted Effects on Surface Water Key Indicator Low Moderate High Key Indicator Low Moderate High Natural Flow Patterns Localized redirection of runoff eg use of a flume Localized redirection of watercourse eg use of a diversion channel Redirection of streamflow into a different drainage basin Vertical and Lateral Stability Minor localized scour or bank erosion above baseline values with little potential of progression Extensive localized scour or bank erosion above baseline values with high potential of progression Exposing of pipeline due to scour or bank erosion Water Quality Increased concentrations in watercourse or waterbody but below water quality guidelines or slight contributions to existing background exceedances Exceedance of water quality guidelines in watercourse or waterbody where guidelines were not previously exceeded Substantial exceedance', 'TABLE 2 SUMMARY OF WATERCOURSE CROSSINGS ALONG THE PROJECT Site No Name KP1 Legal Location UTM Coordinates NAD 83 Zone 11U Class Restricted Activity Period2 Open Water Mean Channel Morphology Results Fish Species Captured or Observed During Open Water Aquatic Assessment Previously Documented3 Beaver Activity Present Planned Pipeline Crossing Method Contingency Pipeline Crossing Method Planned VehicleEquipment Crossing Method Frozen Planned VehicleEquipment Crossing Method Open Water Serious Harm Determination Results Navigability Determination Results QAES Recommendations BCWC4 Hamelin Creek KP 177 SE 88010 W6M 342467E 6199657N Mapped Class C April 16 to July 15 September 5 2014 Bankfull Width 62 m Wetted Width 57 m Bankfull Depth 048 m Flow Negligible Brook stickleback Brook stickleback burbot flathead chub lake chub longnose dace longnose sucker redside shiner spottail shiner and white')\n"
          ],
          "name": "stdout"
        },
        {
          "output_type": "stream",
          "text": [
            "\r32it [00:49,  1.48s/it]"
          ],
          "name": "stderr"
        },
        {
          "output_type": "stream",
          "text": [
            "('Table 571 Provincially Significant Wetlands in the Terrestrial Regional Study Area Local Study Area and Project Footprint Provincially Significant Wetland PSW Wetland Type Location RSA LSA Project Footprinta Wetland Characteristics ', 'Table 715 Interactions with the Potential to Contribute to Cumulative Effects on Wildlife and Wildlife Habitat Elk River Section Other Projects and Physical Activities with Potential for Cumulative Effects Potential Effects Other Projects and Physical Activities with Potential for Cumulative Effects Change in Habitat Change in Movement Change in Mortality Risk Past and Present Projects Physical Activities and Land Use Agriculture Infrastructure Residential Linear Developments Industrial Activities Forestry ProjectRelated Physical Activities Future Reasonably Foreseeable Projects and Physical Activities Linear Developments NGTL 2021 System Expansion Clearwater West Expansion Project Clearwater Compressor Station CS Unit Addition ', 'TABLE 2 SUMMARY OF WATERCOURSE CROSSINGS ALONG THE PROJECT Site No Name KP1 Legal Location UTM Coordinates NAD 83 Zone 11U Class Restricted Activity Period2 Survey Date Open Water Mean Channel Morphology Results Fish Species Captured or Observed During Open Water Aquatic Assessment Previously Documented3 Beaver Activity Present Planned Pipeline Crossing Method Contingency Pipeline Crossing Method Planned Vehicle Equipment Crossing Method Frozen Planned Vehicle Equipment Crossing Method Open Water Serious Harm Determination Results Navigability Determination Results QAES Recommendations BLWC1 Unnamed tributary to the Little Clear River KP 21 NW 248513 W6M 319612E 6253116N Unmapped Class C April 16 to July 15 September 4 2014 Bankfull Width 470 m Wetted Width 470 m Bankfull Depth 101 m Flow Negligible No fish captured or observed Brook stickleback finescale dace lake', 'TABLE 75 EXISTING AND NEW AREAL DISTURBANCE IN THE WATER QUALITY AND QUANTITY AND FISH AND FISH HABITAT RSA Land Use Feature Existing Activities Areal New Areal Disturbance ha Land Use Feature Disturbance ha Proposed Pipeline Loops Known Future Developments Total Total Areal Disturbance ha Land Use Feature Kyklo Timberwolf Cranberry Kyklo Timberwolf Cranberry Kyklo Timberwolf Cranberry Total Total Areal Disturbance ha Pipelines 10951 5075 12235 525 908 821 714 305 639 3912 32173 Major Roads 1268 0 3251 0 0 0 0 0 0 0 4519 Access Roads 7597 9471 11003 0 0 0 0 14 0 14 28085 Railways 0 0 0 0 0 0 0 0 0 0 0 Cut Lines 75514 65448 39323 0 0 0 0 0 0 0 180285 Transmission Lines 5113')\n"
          ],
          "name": "stdout"
        },
        {
          "output_type": "stream",
          "text": [
            "\r33it [00:51,  1.46s/it]"
          ],
          "name": "stderr"
        },
        {
          "output_type": "stream",
          "text": [
            "('Table H11 Incidental Wildlife Sightings in the Terrestrial Local Study Area Group Species Scientific Name Observation Type Number of Individuals Observed in RSA or LSA Habitat Classificationa Provincial Status Federal Status Group Species Scientific Name Observation Type Number of Individuals Observed in RSA or LSA Habitat Classificationa Albertab British Columbia List c Species at Risk Act Registry d COSEWICe Bird Canada warbler Wilsonia canadensia Audio 2 RSA and LSA MiAwSw Class IV sensitive Blue Schedule 1 Threatened Bird cedar waxwing Bombycilla cedrorum Audio 25 RSA and LSA DeAwPb TBog TFen DisNL MiAwSw Secure Yellow Bird chipping sparrow Spizella passerina Audio 17 RSA and LSA DeAwPb DisNL MiAwSw ShNpWet TBog Water Secure Yellow Bird claycoloured sparrow Spizella pallida Audio 45 RSA and LSA DeAwPb TBog DisCC DisNL TFen MiAwSw', 'Table 41 Valued Components Biophysical and Socioeconomic Filing Manual Element Project Component Potential Interaction Valued Component VC in the ESA Rationale for Inclusion or Exclusion in the ESA VC Sections where Addressed in the ESA Biophysical and Socioeconomic Filing Manual Element Elk River Section Alford Creek Section Valued Component VC in the ESA Rationale for Inclusion or Exclusion in the ESA VC Sections where Addressed in the ESA Human Health and Aesthetics Included because Project construction activities may cause changes to soil and soil productivity water quality and quantity air emissions and the acoustic environment potentially leading to adverse effects on human health Aesthetics are excluded because Elk River and Alford Creek Sections will be underground and are largely parallel to existing ROWs Soil Capability Section 5 Aquatic', 'Table 132 Chronic Inhalation Exposure Limits for Barium Regulatory Agency Type Value gm Reference ATSDR ATSDR 2013 BC MOE BC MOE 2013 ESRD ESRD 2013 HEALTH CANADA Health Canada 2010 2004 Metro Vancouver Metro Vancouver 2011 OEHHA OEHHA 2009 OEHHA 2013 RIVM TCA 1 RIVM 2001 TCEQ TCEQ 2013 US EPA US EPA 2013a WA DOE WA DOE 2011 WHO WHO 2000', 'Table 25 Rutting Risk Matrix Factor Characteristic Rating Gleysolic Gleysolic Vertisols Organic 3 Landscape Slope classes 35 1 Landscape Slope classes 23 15 Landscape Slope classes 12 2 Landscape Slope class 6 3 Final Rating obtained by multiplying Soil Water Content and Landscape ratings Low 14 Moderate 511 High 1227 SOURCE Modified from AFPALFS 1996 ')\n"
          ],
          "name": "stdout"
        },
        {
          "output_type": "stream",
          "text": [
            "\r34it [00:52,  1.47s/it]"
          ],
          "name": "stderr"
        },
        {
          "output_type": "stream",
          "text": [
            "('Table C2 Bird Species Observed during the 20132014 Breeding Bird Surveys NUNTMBArea ofInterestABSKBCUSA ENERGY EAST PIPELINE PROJECTObservations of Migratory Bird Species of Management Concern in the Alberta Study Area IndexSources Project data provided by TransCanada Pipelines Limited Base data provided by the Governments of Canada Alberta and SaskatchewanDisclaimer This map is for illustrative purposes to support this Stantec project questions can be directed to the issuing agency PREPARED BY NUNTMBArea ofInterestABSKBCUSA ENERGY EAST PIPELINE PROJECTObservations of Migratory Bird Species of Management Concern in the Alberta Study Area IndexSources Project data provided by TransCanada Pipelines Limited Base data provided by the Governments of Canada Alberta and SaskatchewanDisclaimer This map is for illustrative purposes to support this Stantec project questions can be directed to the issuing agency PREPARED FORFIGURE NOD15', 'Table 5B23 Gibson Petroleum Company Limited Tank No 6 Maximum volumetric emission rate as a function of wind speed at 15C and 101325 kPa STP 10 m Wind Speed m s1 Net Emission Rate m3 h1 at STP 10 844 15 1245 20 1650 25 2057 30 2464 35 2872 40 3281 45 3690 50 4098 55 4507 60 4916 65 5325 70 5734 200 16338', 'TABLE 618 POTENTIAL EFFECTS MITIGATIVE MEASURES AND RESIDUAL EFFECTS OF PIPELINE CONSTRUCTION AND OPERATION ON FISH AND FISH HABITAT Potential Effect Pipeline Loop Location Spatial Boundary Measures EPP Reference1 Potential Residual Effects 3 Increased suspended sediment concentrations in the water column contd Same as above Same as above Same as above Monitor to assess the immediate effects of crossing construction at trenched crossings Also monitor sediment release ie turbidity and TSS throughout the crossing construction period if required If monitoring reveals sediment values are approaching or exceeding thresholds values the Environmental Monitors will alert the Environmental Inspectors and work with them to develop corrective actions andor halt construction activities If corrective actions are not successful construction will be temporarily suspended until effective solutions are identified Section 84 Conduct', 'Table E4 Plant Species At Risk For Saskatchewan and Manitoba That Could Potentially Be Found in the Vegetation Assessment Area Species Synonym CommonName COSEWICStatus Habitat purplelocoweed Vulnerable G5S2NNR None None None ParnassiaparvifloraDC Threatened G5T4S1 None None None wetareas fringedorchid Endangered Endangered ')\n"
          ],
          "name": "stdout"
        },
        {
          "output_type": "stream",
          "text": [
            "\r35it [00:54,  1.46s/it]"
          ],
          "name": "stderr"
        },
        {
          "output_type": "stream",
          "text": [
            "('Table 118 Fish Species of Concern Likely to Inhabit Watercourses within the Alberta Section of the Project Area Common Name Provincial Status 1 Federal Status Common Name Provincial Status 1 SARA2 COSEWIC Lake sturgeon Undetermined None Endangered River shiner Undetermined None Candidate Sauger Sensitive None None Spoonhead sculpin May Be At Risk None None SOURCES ASRD 2001 Environment Canada 2006 NOTES 1 Provincial status as determined by ASRD 2001 2 Species At Risk Act Schedule 1 COSEWIC Committee on the Status of Endangered Wildlife in Canada Undetermined Insufficient information knowledge or data is available to reliably evaluate its general status Sensitive Not at risk of extinction or extirpation but may require special attention or protection to prevent it from becoming at risk May Be At Risk May be', 'Table 4A9 Surface Water Quality Data for the Saskatchewan Conversion Sections of the Project Parameter Units SK Most Stringent Guideline PIPESTONE CK PSC71 SWA SK05NE0087 from 2008 to 2010 PIPESTONE CK PSC152 SWA SK05NE0091 from 2011 to 2013 Parameter Units SK Most Stringent Guideline Min Mean Max 75th percentile Median n Min Mean Max 75th percentile Median n Physicochemical Dissolved oxygen mgL 5595 67 94 11 102 95 9 Conductance Field Scm 574 1168 1612 1333 1210 34 Specific Conductance Scm 755 1228 1790 1405 1230 23 1010 1240 1550 1290 1200 8 Hardness CaCO3 mgL 265 571 783 656 580 43 506 636 772 700 611 8 pH pH unit 6590 768 833 877 846 835 43 812 827 843 83 829 8 Total Dissolved Solids mgL', 'Table D11 Water Erosion Risk Ratings and Extents from the 2010 Surveys WATER EROSION RISK RATING LINEAR EXTENT m EXTENT SURVEYED EXTENT TOTAL Low 39624916 8499 6852 LowModerate 127523 027 022 Moderate 5773855 1238 998 ModerateHigh 959885 206 166 High 54669 012 009 Open Water 84718 018 015 Not surveyed 11203222 000 1937 TOTAL 57828790 10000 10000', 'Table G21 Maximum 1Hour Average Ground Level Concentrations gm Following a Hypothetical Spill of Crude Oil WCS near Saint John Receptor No Receptor Name Maximum 1Hour Average Ground Level Concentrations gm3 Receptor No Receptor Name Benzene Toluene Ethylbenzene Xylenes Total Aliphatic C1C4 Aliphatic C4C6 Aliphatic C8C16 Aromatic C8C16 Total Reduced Sulphur Compounds 17 Community of Westport 36E04 43E02 50E03 33E02 18E01 38E01 58E00 96E01 18 Margaretsville Lighthouse 20E01 60E01 69E02 46E01 56E00 12E01 20E01 57E00 19 Kingston Airport 18E01 60E01 69E02 46E01 56E00 12E01 22E01 62E00 20 Hampton Lighthouse Historical Society 42E02 10E01 11E02 76E02 93E01 20E00 69E00 92E01 21 Sandy Beach at Digby Neck 21E03 68E02 78E03 52E02 33E01 70E01 21E01 30E00 22 The Wharf at Whale Cove 14E03 10E01 12E02 80E02 39E01 83E01 19E01 30E00 23')\n"
          ],
          "name": "stdout"
        },
        {
          "output_type": "stream",
          "text": [
            "\r36it [00:56,  1.61s/it]"
          ],
          "name": "stderr"
        },
        {
          "output_type": "stream",
          "text": [
            "('Table 412 Water Quality Results for Christina River RAMP site CHR2A Water Quality Results For Christina River 2007 Nitrate nitrite mgL 11 01 Nitrogen ammonia mgL 016 007 Nitrogen kjeldahl mgL 14 11 Nitrogen total mgL 25 C 12 C Phosphorus total mgL 0047 008 C Phosphorus dissolved mgL 0017 0028', 'Table E3e Historical Field Water Quality Turbidity Concentrations SAMPLE POINT DESCRIPTION SAMPLE DATE TURBIDITY NTU SK05HD0120 Swift Current Creek below Rock Creek near hydrometric station 05HD0361 21Mar2010 2470 SK05HD0120 Swift Current Creek below Rock Creek near hydrometric station 05HD0361 21Jul2009 093 SK05HD0120 Swift Current Creek below Rock Creek near hydrometric station 05HD0361 22Sep2009 266 SK05HD0120 Swift Current Creek below Rock Creek near hydrometric station 05HD0361 11Jun2009 262 SK05HD0120 Swift Current Creek below Rock Creek near hydrometric station 05HD0361 12May2009 389 SK05HD0120 Swift Current Creek below Rock Creek near hydrometric station 05HD0361 14Apr2009 1920 SK05HD0120 Swift Current Creek below Rock Creek near hydrometric station 05HD0361 31Mar2009 709 SK05HD0120 Swift Current Creek below Rock Creek near hydrometric station 05HD0361 02Oct2008 245 SK05HD0120 Swift Current Creek below Rock Creek near hydrometric', 'TABLE 783 RESIDUAL EFFECTS CHARACTERIZATION AND SIGNIFICANCE EVALUATION FOR WETLANDS Potential Residual Effect Criteria Rating Effects Characterization and Significance Determination Rationale a Loss or alteration of wetland function ie hydrological habitat and biogeochemical function during and following construction operations and maintenance activities of temporary disturbances contd Frequency Isolated to Periodic The potential residual effect of loss or alteration of hydrological habitat and biogeochemical function will be confined to a specific phase of the assessment period ie construction camps will be utilized for construction purposes only isolated or will occur intermittently however repeatedly over the assessment period ie construction operations and maintenance activities associated with the proposed pipeline routes periodic a Loss or alteration of wetland function ie hydrological habitat and biogeochemical function during and following construction operations and', 'Tables 72 to 76 of this ESA quantify the amount of existing and new linear and aerial disturbance that exists within the LSA and the RSA including pipelines wells facilities transmission lines railways highways roads recreational trails residences and communities Communities in the RSA include Arras Bay Tree Bonanza Briar Ridge Dawson Creek Farmington Gordondale Groundbirch Pouce Coupe Rolla South Dawson Sunset Prairie and Urquhart Land Use Feature Footprint Average Width m or Area ha Project pipeline rightofway 39 m a Westcoast South Peace Pipeline 25 m b Other Pipelines 20 m Highways 50 m Roads 20 m Access Roads 10 m Railways 20 m Recreational Trails 4 m Cut Lines 8 m Transmission Lines 50 m Well sites 12 ha Industrial Facilities Polygon size or 4 ha')\n"
          ],
          "name": "stdout"
        },
        {
          "output_type": "stream",
          "text": [
            "\r37it [00:57,  1.63s/it]"
          ],
          "name": "stderr"
        },
        {
          "output_type": "stream",
          "text": [
            "('Table 564 Provincial Instream Construction Timing Window for Each Watercourse Crossing based 1 on Fish Captured and Documented Fish Species Presence 2 Crossing Watercourse DocumentedFishSpecies 1 Nonedocumented 2 3 AuburntonCreek NorthernpikeExosLucius 4 AntlerRiver Nonecaptured 5 Nonedocumented Nonecaptured norestriction 6 LightningCreek NorthernpikeExosLucius Nonecaptured 7 Nonedocumented norestriction', 'TABLE 411 SUMMARY OF PROPOSED WATERCOURSE AND FISHBEARING DRAINAGE CROSSINGS ALONG THE BOUNDARY LAKE SECTION Site No Name KP1 Legal Location UTM Coordinates NAD 83 Zone 11U Class Restricted Activity Period2 Survey Date Open Water Mean Channel Morphology Results Fish Species Captured or Observed During Open Water Aquatic Assessment Previously Documented3 Beaver Activity Present Planned Pipeline Crossing Method Contingency Pipeline Crossing Method Planned Vehicle Equipment Crossing Method Frozen Planned Vehicle Equipment Crossing Method Open Water Serious Harm Determination Results Navigability Determination Results QAES Recommendations BLWC24 Unnamed tributary to the Osborn River KP 489 SE 189012 W6M 322973E 6298828N Unmapped Class C April 16 to July 15 September 1 2014 Bankfull Width 10 m Wetted Width Dry Bankfull Depth 014 m Flow Dry No fish sampling No fish have', 'TABLE 512 SUMMARY OF SURFICIAL MATERIAL CROSSED BY THE PROPOSED PIPELINE CORRIDOR BY PHYSIOGRAPHIC REGION Surficial Material Intersected Length km by Physiographic Region Surficial Material Eastern Alberta Plains Western Alberta Plains Southern Alberta Uplands Anthropogenic 14 Colluvium 02 19 Fluvial 19 28 09 Glaciofluvial 106 156 91 Glaciolacustrine 748 441 Lacustrine 07 617 Till 377 118 619 Organic 28 40 Total 130 136 778', 'Table 6211 Summary of Predicted Project Effects and Environmental Significance Valued Component ')\n"
          ],
          "name": "stdout"
        },
        {
          "output_type": "stream",
          "text": [
            "\r38it [00:59,  1.55s/it]"
          ],
          "name": "stderr"
        },
        {
          "output_type": "stream",
          "text": [
            "('Table 6 TLRU Information and Mitigation Matachewan First Nation Traditional Land and Resource Use Information Location Relative to Project Development Area Relevant Consolidated ESA Documents Context from the Consolidated ESA Matachewan First Nation Mitigation Recommendations2 Consolidated ESAEPP Mitigation Measures environmentally responsible and safe way with a focus on spill prevention establish procedures for training employees on emergency procedures establish guidelines for continuing educational and liaison programs designed to inform community first responders and the public of the procedures to follow in recognizing reporting and responding to an emergency condition Energy East will develop communication protocols as part of the ERP that will include notifying the public in the event of an emergency In the event of a spill Energy East will consult with regulatory agencies to determine the', 'Table E1 Soil Inspection Sites New Pipeline RoW Site Site Type1 Subgroup2 Soil Unit Variant3 Parent Material3 UTM Zone Easting Northing Surface Expression Surface Stoniness Class Slope Slope Position Slope Class Topsoil Depth cm Drainage EEPAJH13097 TS Moderately fine glacial till 12 528838 5744618 Undulating Moderately stony 013 4 Mid 2 5 10 EEPAJH13098 TS Fine glacial till 12 528767 5744881 Undulating Very stony 3 15 2 Lower 2 5 30 EEPAJH13099 TS Moderately fine glacial till 12 528714 5745139 Hummocky Moderately stony 013 6 Mid 5 9 20 EEPAJH13100 TS Moderately fine glacial till 12 528640 5745399 Undulating Slightly stony 00101 4 Mid 2 5 15 EEPAJH13101 TS Moderately fine glacial till 12 528558 5745649 Hummocky Non stony 001 5 Lower 5 9 30 EEPAJH13102 TS Moderately', 'TABLE 64 SIGNIFICANCE EVALUATION OF POTENTIAL ADVERSE RESIDUAL EFFECTS OF IDENTIFIED ENVIRONMENTAL AND SOCIOECONOMIC ELEMENTS OF CONSTRUCTION AND OPERATION OF THE PIPELINE Potential Residual Effects Impact Balance Spatial Context Temporal Context Magnitude Probability Confidence Significance 1 Potential Residual Effects Impact Balance Spatial Context Duration Frequency Reversibility Magnitude Probability Confidence Significance 1 70 WETLANDS 7a Alteration of nonpeat wetland habitat function during and following construction and maintenance activities until vegetation is reestablished negative footprint to local shortterm isolated short to mediumterm low high high not significant 7b Alteration of nonpeat wetland hydrologic function during and following construction and maintenance activities until vegetation is reestablished negative footprint to local shortterm isolated shortterm low high high not significant 7c Alteration of water quality function in wetlands during and following construction and', 'Table 191 Concordance Table with the Canadian Environmental Assessment Act 2012 CEA Act 2012 Requirement Section in CEA Act 2012 Section of ESA The results of any relevant study conducted by a committee established under Section 73 or 74 s191i Any other matter relevant to the environmental assessment that the responsible authority orif the environmental assessment is referred to a review panelthe Minister requires to be taken into account s191j The environmental assessment of a designated project may take into account community knowledge and Aboriginal TK s193 Sections 3 4 5 and 6 Subsection 51 of the CEA Act 2012 defines environmental effects as a change that may be caused to the following components of the environment that are within the legislative authority of Parliament Fish as defined')\n"
          ],
          "name": "stdout"
        },
        {
          "output_type": "stream",
          "text": [
            "\r39it [01:00,  1.58s/it]"
          ],
          "name": "stderr"
        },
        {
          "output_type": "stream",
          "text": [
            "('TABLE B2 POTENTIAL RARE ECOLOGICAL COMMUNITIES IN THE CENTRAL PARKLAND DRY MIXEDWOOD CENTRAL MIXEDWOOD LOWER FOOTHILLS AND MONTANE NATURAL SUBREGIONS OF THE PROPOSED PIPELINE PROJECT Scientific Name Common Name RightofWay Within Known Species Range ProvincialGlobal Designations12 ForestWoodland Acer negundoPrunus virginiana Manitoba maplechoke cherry Yes S1S2 G3 Abies bifolia Pinus flexilis Populus tremuloidesThalictrum venulosum subalpine fir limber pine aspenveiny meadow rue Yes S2 Betula neoalaskana Picea glaucaSalix discolorEquisetum arvense swamp forest community Alaska birch white sprucepussy willowcommon horsetail swamp forest community Yes S1S2 Betula neoalaskanaLedum groenlandicum Alaska birchcommon Labrador tea Yes S1S2 Betula papyriferaLycopodium obscurum Lycopdium annotinum woodland white birchgroundpinestiff clubmoss woodland Yes S2 Betula papyriferaShepherdia canadensis paper birchbuffaloberry Yes S1S2 Betula papyriferaBetula uvaursi white birchwater birchcommon bearberry Yes S1 Larix laricina Picea marianaCornus stolonifera Rubus idaeus tamarack black', 'Table 7330 Potential Use of Site 00007 Unnamed Stream Species Overwintering1 Spawning and Incubating Rearing Adult Feeding and Holding Arctic grayling Northern pike Sucker species Whitefish species Burbot NOTES potential use of the waterbody habitat no potential use of the waterbody habitat 1 Assessment incorporates preliminary analysis of April 2004 data Of the species and species groups listed none have been confirmed in the stream ', 'Table 831 Assessment of Effects on Valued Ecosystem Component for Manitoba Activity Effect Mitigation and Compensation Measures Measurable Parameter Direction Magnitude Geographic Extent Duration Significance Species Diversity Construction Loss of vegetation species and introduction and spread of invasive species Disruption of surface and shallow groundwater flows resulting in alternation of species diversity Select pipeline route to limit the amount of native vegetation patches intersected by Rare Plants Negative Low Local Farfuture Not Significant Construction Loss of vegetation species and introduction and spread of invasive species Disruption of surface and shallow groundwater flows resulting in alternation of species diversity the RoW Site facilities outside of native vegetation areas HDD in permanent riparian and wetland areas with high ecological value Construct in fall or winter in temporary and seasonal riparian', 'TABLE K1 RESOURCESPECIFIC MITIGATION MEASURES FOR WETLANDS ENCOUNTERED WITHIN THE PIPELINE CORRIDOR Start RK End RK Wetland Type Legal Locations LSDPNG Area of Wetland Within Corridor ha Length of Wetland Crossed by Corridor m Regulatory Considerations Reference to Potential Mitigation Measures 25147 25161 Seasonal Emergent Marsh 140205319 W5M 150205319 W5M 021105319 W5M 031105319 W5M 178 1408 COP Notification Wetland Evaluation Technical Report Volume 5C Section 60 Potential Shrub Staking 25236 25251 Treed Fen 120205319 W5M 130205319 W5M 082 1544 None Wetland Evaluation Technical Report Volume 5C Section 60 25248 25262 Needleleaf Treed Swamp 120205319 W5M 090305319 W5M 079 1425 COP Notification Wetland Evaluation Technical Report Volume 5C Section 60 25516 25552 Needleleaf Treed Swamp 020405319 W5M 030405319 W5M 060405319 W5M 243 3598 COP Notification Wetland Evaluation Technical Report')\n"
          ],
          "name": "stdout"
        },
        {
          "output_type": "stream",
          "text": [
            "\r40it [01:03,  1.76s/it]"
          ],
          "name": "stderr"
        },
        {
          "output_type": "stream",
          "text": [
            "('Table D2 Forested Soil Polygon Attributes New Pipeline RoW Soil Unit Soil Unit Abbreviation Soil Code Variant1 Slope Class Subgroup Surface Parent Material Subsurface Parent Material Drainage Class Topsoil Thickness cm Stripping Depth cm Agricultural Capability Compaction Risk Topsoil Compaction Risk Subsoil Rutting Risk Topsoil Rutting Risk Subsoil Water Erosion Risk Topsoil Water Erosion Risk Subsoil Wind Erosion Risk Topsoil Wind Erosion Risk Subsoil Length m Extent of Total RoW Extent of Agricultural Area Grand Falls GFL GFL NR Well NR NR NR NR NR NR NR NR NR 7040 002 002 Grand Falls GFL GFL NR Well NR NR NR NR NR NR NR NR NR 10095 002 003 Grand Falls GFL GFL NR Well NR NR NR NR NR NR NR NR NR 10253 002 003', 'TABLE 64 SIGNIFICANCE EVALUATION OF POTENTIAL ADVERSE RESIDUAL EFFECTS OF IDENTIFIED ENVIRONMENTAL AND SOCIOECONOMIC ELEMENTS OF CONSTRUCTION AND OPERATION OF THE PIPELINE Potential Residual Effects Impact Balance Spatial Context Temporal Context Magnitude Probability Confidence Significance 1 Potential Residual Effects Impact Balance Spatial Context Duration Frequency Reversibility Magnitude Probability Confidence Significance 1 8g Depending on the location and volume disturbance of vegetation could occur as a result of an inadvertent spill drilling mud release or product release or from associated cleanup and reclamation activities should an HDD be required negative footprint to local immediate to shortterm accidental short to longterm low to high low high not significant 90 WILDLIFE AND WILDLIFE HABITAT 9a Alteration or loss of approximately 2245 ha of forest cover negative footprint shortterm isolated longterm low', 'Table 611 Recommended Mitigation and Other Measures for Employment and Economy Issue Areas Project Mitigation and Other Management Measure Intended Results Employment and Income contd arranging and participating in meetings of First Nation and Metis communities and organizations with the potential prime contractors and identify the contacts within First Nations and Metis communities and organization for employment and contracting inserting Aboriginal economic participation clauses in Energy Easts prime contracts encouraging and assisting all prime contractors to maximize local Aboriginal participation through direct employment and subcontracting opportunities during preconstruction and construction phases of the project requiring construction prime contractors to submit an Aboriginal participation plan including Aboriginal participation as an evaluation criterion when evaluating and awarding prime contracts informing First Nation and Metis communities and organizations of the successful', 'TABLE 7 OIL AND GAS FACILITY CROSSINGS Operator Description Location1 Westcoast Energy Inc Spectra Flare Site KP 18 Westcoast Energy Inc Spectra Pipeline KP 80 Westcoast Energy Inc Spectra Pipeline KP 129 Westcoast Energy Inc Spectra Pipeline KP 162 Westcoast Energy Inc Spectra Pipeline KP 242 Westcoast Energy Inc Spectra Pipeline KP 360 Canadian Natural Resources Ltd Pipeline KP 544 Canadian Natural Resources Ltd Pipeline KP 572 Burlington Resources Canada Ltd Pipeline KP 681 Burlington Resources Canada Ltd Pipeline KP 726 Burlington Resources Canada Ltd Pipeline KP 790 Burlington Resources Canada Ltd Pipeline KP 799 Devon ARL Corporation Well Site KP 854 Devon ARL Corporation Pipeline KP 884 ALBERTA Burlington Resources Canada Ltd Pipeline KP 959 Burlington Resources Canada Ltd Pipeline KP 980 Burlington Resources Canada Ltd Surface')\n"
          ],
          "name": "stdout"
        },
        {
          "output_type": "stream",
          "text": [
            "\r41it [01:04,  1.66s/it]"
          ],
          "name": "stderr"
        },
        {
          "output_type": "stream",
          "text": [
            "('Table 4A10 Historical Surface Water Quality Data Collected by Manitoba Water Stewardship on the Whitemouth River at PR307 West of Seven Sisters from 2008 to 2013 Parameter Units MB Most Stringent Guideline n Min Mean Max Median 75thPercentile Tin Sn total mgL 21 00002 00003 00008 00002 00002 Titanium Ti total mgL 21 00021 00272 02 00091 0014 Uranium U total mgL 001 21 00001 00006 00012 00005 0001 Vanadium V total mgL 01 21 00005 00026 00164 00012 00017 Zinc Zn total mgL 003 21 0002 0006 0021 0005 0005 NOTES 1 Italicized values are reported below the method detection limit 2 Bold and shaded values indicate exceedance of the most stringent applicable guideline available refer to Table G1 3 MWS monitoring station MB05PHS001 4 Total Suspended', 'Table A2 Ontario East Survey Dates Times and Weather Conditions Survey Type Date Start Time End Time Weather Survey Type Date Start Time End Time Temp C Wind Beaufort Cloud Cover percent Precipitation Helicopter aerial survey 482013 800 2100 11 1 0 None ELC and Spring botanical survey 572013 800 1700 22 34 0 None ELC and Spring botanical survey 582013 800 1700 22 2 10 None ELC and Spring botanical survey 592013 800 1700 20 2 70 None ELC and Spring botanical survey 5102013 800 1700 15 23 70 None ELC and Spring botanical survey 5142013 800 1700 13 1 60 None ELC and Spring botanical survey 5152013 800 1700 10 12 50 None ELC and Spring botanical survey 5162013 800 1700 18 01 20 None ELC', 'Table 5410 Historical Occurrences of Nonnative and Invasive Plant Species in the Terrestrial Regional Study Area British Columbia Ministry of Forests Lands and Natural Resource Operations BC MFLNRO 2013a Annual sow thistle Sonchus oleraceus 0 0 6 Burdock species Arctium spp 0 0 12 Canada thistle Cirsium arvense 1 22 478 Dalmatian toadflax Linaria dalmatica 0 1 9 Green foxtail green bristlegrass Setaria viridis 0 0 6 Kochia Kochia scoparia 0 0 3 Orange hawkweed Hieracium aurantiacum 0 0 3 Oxeye daisy Leucanthemum vulgare 0 1 32 Perennial pepperweed Lepidium latifolium 0 0 1 Perennial sow thistle Sonchus arvensis 0 11 194 Scentless chamomile Tripleurospermum inodorum 0 10 219 Spotted knapweed Centaurea biebersteinii 0 0 7 White cockle Lychnis alba 0 0 2 Yellowcommon toadflax Linaria vulgaris 0', 'TABLE 71111 SIGNIFICANCE EVALUATION OF THE PROJECT ON PHYSICAL ENVIRONMENT Potential Effect Impact Balance Spatial Boundary1 Temporal Context Magnitude Probability Confidence Significance2 Potential Effect Impact Balance Spatial Boundary1 Duration Frequency Reversibility Magnitude Probability Confidence Significance2 2e Combined effects from Westridge Marine Terminal Negative Footprint Short term Isolated Permanent Low High High Not significant 2f Combined effects from pipeline reactivation NA NA NA NA NA NA NA NA NA 2g Combined effects of the Project on the topography indicator 2a to 2e Negative LSA Shortterm Isolated Permanent Low to medium High High Not significant 3 Physical Environment Acid Generating and Metal Leaching Rock 3a Combined effects from pipeline Negative LSA Shortterm Isolated Short to mediumterm Low Low High Not significant 3b Combined effects from temporary facilities Negative LSA Shortterm')\n"
          ],
          "name": "stdout"
        },
        {
          "output_type": "stream",
          "text": [
            "\r42it [01:06,  1.66s/it]"
          ],
          "name": "stderr"
        },
        {
          "output_type": "stream",
          "text": [
            "('Table 546 Provincially Tracked Ecological Communities for the Central Mixedwood Natural Subregion Dry Mixedwood Natural Subregion and Lower Boreal Highlands Natural Subregion Picea glauca Cetraria islandica white spruce lichen S1 Populus balsamifera Alnus incana ssp tenuifolia Cornus stolonifera Equisetum pretense balsam poplar river alder redosier dogwood meadow horsetail S3 Populus balsamifera Viburnum opulus Matteuccia struthiopteris balsam poplar highbush cranberry ostrich fern S1S2 Populus tremuloides Rubus parviflorus Aralia nudicaulis aspen thimbleberry wild sarsaparilla S2S3 Puccinellia nuttalliana Suaeda calceoliformis Spergularia marina barren Nuttalls saltmeadow grass western seablite saltmarsh sand spurry barren S2 Salix drummondiana Scirpus microcarpus Calamagrostis canadensis Drummonds willow smallfruited bulrush bluejoint S1 Carex limosa Scheuchzeria palustris Sphagnum teres S subsecundum mud sedge scheuchzeria thinleaved peat moss S1 Populus balsamifera Rhamnus alnifolia Equisetum arvense balsam poplar alderleaved buckthorn S1', 'TABLE 37 ABORIGINAL AQUATICS FIELD SURVEY PARTICIPATION FOR THE PROJECT IN BRITISH COLUMBIA Aboriginal Community Winter Aquatics Open Water Aquatics Results Review Hargreaves to Darfield Segment Lheidli Tenneh June 4 to 11 2013 June 18 to 20 2013 July 17 to 24 2013 August 9 to 10 2013 November 28 2013 Aseniwuche Winewak Nation June 4 to 11 2013 June 18 to 19 2013 August 9 to 10 2013 November 28 2013 Simpcw First Nation June 4 to 11 2013 June 18 to 21 2013 July 4 to 11 2013 July 17 to 24 2013 August 9 to 14 2013 NA Tkemlps te Secwepemc April 12 to 19 2013 To be determined Black Pines to Hope Segment Lower Nicola Indian Band April 8 to 12 2013 May 7', 'TABLE 576 LANDS ALONG THE PROPOSED PIPELINE ROUTE IN ALBERTA RATED AS HAVING NO SIGNIFICANT CLASS 1 TO SLIGHT CLASS 3 LIMITATIONS Location KP Class Limitations 1755 to 1808 3 Habitat adversely affected by topography and aridity 1808 to 1834 2 Habitat adversely affected by aridity 1834 to 1966 3 Habitat adversely affected by topography and aridity 1971 to 2049 2 Poor soil moisture 2049 to 2072 3 Habitat adversely affected by topography and aridity 2072 to 2080 2 Habitat adversely affected by aridity 2080 to 2128 3 Habitat adversely affected by topography and aridity 2128 to 2135 2 Habitat adversely affected by aridity 2148 to 2152 3 Habitat adversely affected by topography and aridity 2163 to 2226 3 Habitat adversely affected by topography and aridity 2251 to', 'Table 8AII2 Soil Chemical and Physical Properties for Samples Analysed for the Keystone Parallel Segment Site SeriesAbbreviation SampledHorizons SampledDepthcm pH1 EC1dSm SAR Saturation 3L251 HMScr CcaCk 50200 78 486 23 47 3L252 HMScr Cca 1350 78 079 06 34 3L252 HMScr Cca 50165 82 071 25 40 3L253 MAB BmBC 1645 76 080 05 45 3L253 MAB CcaCk 45200 79 232 23 46 3L254 HMScr Cca 50100 82 104 26 51 3L254 HMScr Cca 1050 81 057 09 48 3L255 FMT BmBC 1648 74 070 07 36 3L255 FMT Cca 4875 77 065 06 33 3L256 HMS Cca 1250 79 084 14 42 3L256 HMS CcaCk 50200 80 499 52 50 3L257 TVScr Bmk 1223 78 325 38 49 3L257 TVScr CcaCk 23200 78 550 33 51 3L258')\n"
          ],
          "name": "stdout"
        },
        {
          "output_type": "stream",
          "text": [
            "\r43it [01:08,  1.83s/it]"
          ],
          "name": "stderr"
        },
        {
          "output_type": "stream",
          "text": [
            "('Table 31 Agricultural Suitability Classes Suitability Class Index Points Limitations for Specified Crop Degree of Limitation 1 80100 none to slight Land in this class has no significant limitations for production of the specified crops 2 6079 slight Land in this class has slight limitations that may restrict the growth of the specified crops or required modified management practices 3 4559 moderate Land in this class has moderate limitations that restrict growth of the specified crops or require special management practices 4 3044 severe Land in this class has severe limitations that restrict the growth of the specified crops or require special management practices or both This class is marginal for sustained production of the specified crops 5 2029 very severe Land in this class has very severe', 'Table 791 Watercourses Along the Pipeline Corridor in the Gwichin Settlement Area with Historical Information Site Name References RPR097 Travaillant River Dryden et al 1973 Hatfield et al 1972 Lilley 1975 McCart et al 1974 Reist 1987a RPR099 Tributary to Travaillant River References for Travaillant River are likely applicable RPR141 Thunder River Doran 1974 McCart et al 1974 Shotton 1973 RPR149 Unnamed stream Shotton 1973', 'TABLE 6161 CHARACTERIZATION OF RESIDUAL EFFECTS FOR EVALUATION OF SIGNIFICANCE1 Assessment Criteria Definition Provincial The area extending beyond regional or administrative boundaries but within Alberta Saskatchewan or Manitoba National The area extending beyond Alberta Saskatchewan or Manitoba but confined to Canada International The area extending beyond Canada TEMPORAL CONTEXT Duration Period of the Event Causing the Effect Immediate Event is limited to less than or equal to 2 days during either the construction phase or operations phase Duration Period of the Event Causing the Effect Shortterm Event occurs during the construction phase or is completed within any 1 year during the operations phase Duration Period of the Event Causing the Effect Longterm Ongoing event that is initiated during the construction phase and extends beyond the first year of', 'Table 77 Recommended Mitigation and Other Measures for Infrastructure and Services Potential Effect Project Mitigation and Other Management Measure Intended Results Increased Demand on Transportation contd Communicate with local authorities about traffic management plans for Project construction Encourage new pipeline and tank terminal construction contractors to use buses to transport most of their workers to the RoW During periods of peak workforce activity encourage contractors working on pumping station construction to make use of carpooling and multipassenger vehicles to transport workers between marshaling points and work sites to the extent practical Make sure all personnel who operate vehicles for Project purposes comply with TransCanadas Motor Vehicle Operation Program The program includes provisions for driver training personal protection equipment mandatory emergency and safety items in fleet vehicles and safe')\n"
          ],
          "name": "stdout"
        },
        {
          "output_type": "stream",
          "text": [
            "\r44it [01:09,  1.62s/it]"
          ],
          "name": "stderr"
        },
        {
          "output_type": "stream",
          "text": [
            "('Table 6 TLRU Information and Mitigation Matachewan First Nation Traditional Land and Resource Use Information Location Relative to Project Development Area Relevant Consolidated ESA Documents Context from the Consolidated ESA Matachewan First Nation Mitigation Recommendations2 Consolidated ESAEPP Mitigation Measures Temporary or Permanent Loss of Fishing Areas or Opportunities Species identified as being harvested by MFN members include trout pike perch pickerel ling and bass MFN indicated that fishing occurs in the following areas between Matachewan and Kirkland Lake between Matachewan and Temiskaming from the MFN reserve northeast to Beaver House which is east of Kirkland Lake and northwest to Connaught and south to Temagami including the towns of Latchford Haileybury Mowats Landing Elk Lake and Shining Tree as well as Lady Evelyn Lake and the Montreal River between', 'Table 251 Activities Associated with Pipeline Construction Pipeline Pipeline Construction Phase Description of Activity Backfilling After the pipe has been lowered the trench will be filled with the previously excavated spoil and crowned over the trench Equipment used will consist of backhoes graders dozers or specialized backfilling equipment Watercourse Crossings Watercourse crossing methods will be decided in consultation with engineering and environmental specialists Crossing methods typically used during watercourse construction include dry or frozen opencut crossings and isolated ie dam and pump flumes crossing techniques Cleanup and Reclamation Final cleanup and reclamation procedures will be initiated following construction once weather and soil conditions permit using bulldozers backhoes and graders The ROW contours will be returned to a stable and maintenance free condition The strippings where salvaged will be', 'Table 161 Concordance with Guide A A2 Environmental and Socioeconomic Assessment of the NEB Filing Manuala 1 Identify and describe the current biophysical and socioeconomic setting of each element ie baseline information in the area where the project is to be carried out 50 2 Describe which biophysical or socio economic elements in the study area are of ecological economic or human importance and require more detailed analysis taking into account the results of consultation see Table A1 for examples Where circumstances require more detailed information in an ESA see i Table A2 Filing Requirements for Biophysical Elements or ii Table A3 Filing Requirements for Socio Economic Elements 42 50 60 3 4 Provide supporting evidence eg references to scientific literature field studies local and traditional knowledge previous', 'Table 18 Estimated vapour composition for Light Crude Oil on an airfree basis and at normal worstcase operating conditions of 20 of the lower flammable limit and at saturation conditions Flint Hills Tanks 103 104 and 105 Table 18 Estimated vapour composition for Light Crude Oil on an airfree basis and at normalworstcase operating conditions of 20 ofthe lower flammable limit and at saturationconditions Flint Hills Tanks 103 104 and 105 Substance Mol FractionAirFree Mass FractionAirFree Conc at MaxLFL Conditionsppmv Airin Conc at SaturationConditions ppmvAirIn nNonane 1944E04 4580E04 7778E01 4017E01 nOctane 9192E04 1928E03 3677E00 1899E02 nPentane 7855E02 1041E01 3142E02 1623E04 Octyl Mercaptan 0000E00 0000E00 0000E00 0000E00 Other Heavy Ends 2868E06 1119E05 1147E02 5925E01 Pentyl Mercaptan 7075E07 1351E06 2830E03 1462E01 Perylene 2149E44 9960E44 8598E41 4441E39 Phenanthrene 2581E10 8447E10 1032E06')\n"
          ],
          "name": "stdout"
        },
        {
          "output_type": "stream",
          "text": [
            "\r45it [01:11,  1.70s/it]"
          ],
          "name": "stderr"
        },
        {
          "output_type": "stream",
          "text": [
            "('Table 2 TLRU Information and Mitigation Les Atikamekw de Manawan Traditional Land and Resource Use Information Location Relative to Project Development Area Relevant Consolidated ESA Documents Context from the Consolidated ESA Les Atikamekw de Manawan Mitigation Recommendations2 Consolidated ESAEPP Mitigation Measures Cumulative Effects Forestry hydroelectric development including dams and transmission lines a guideoutfitter business and the establishment of a Controlled Harvesting Zone have occurred within LAM Traditional Territory LAM indicated that historical events and industrial development have affected LAM members lives and traditionsAtikamekw people have been pushed farther inland over the centuries and as a result have continuously had to adapt to new environments LAM stated that The Project is risky given the changes we are already experiencing LAM 2015 Traditional Land and Resource Use Volume 16 Part', 'Table 35 Land Cover Classification and Corresponding Ecosite Phases Encountered by the Hidden Lake North Unit Addition Within the Regional Study Area Land Cover Classification RSA habPCF habTotal Wildfire Total Wildfire Ecosite PhasecWetland Classd Fen 1185 0 12 0 Shrubby fen Nonwoody fen Swamp 14 0 03 0 Broadleaf treed swamp Mixedwood tree swamp Needleleaf treed swamp Shrubby swamp Marsh 50 0 0 0 Seasonal marsh Water 188 0 0 0 Artificial pond Shallowopen water Native Total 4461 0 60 0 NA Anthropogenic Agriculture Tame Pasture and Crop 0 0 0 0 NA Cutblock 40 years 0 0 0 0 NA Linear Disturbance Transmission Lines Trails Pipelines Prelow Impact Seismic Lines Railway Edges Road Edges Railway Road and Runway 695 0 19 0 NA Nonlinear Disturbance Cleared Rural', 'Table H17 Chronic Daily Intake mgkgd and Hazard Quotients unitless for Subsistence Receptors Exposed to Intertidal Sediment Following a Hypothetical Spill of Crude Oil BAK near Grand Manan COPC Chronic Daily Intake from Intertidal Sediment Ingestion Chronic Daily Intake from Dermal Contact with Intertidal Sediment Chronic Total Daily Intake from Exposure to Intertidal Sediment Total HQ from Exposure to Intertidal Sediment TEX Toluene Ethylbenzene Xylenes Total Petroleum Hydrocarbon Fractions Aliphatic C6C8 Aliphatic C8C16 301E10 160E09 190E09 19E08 Aliphatic C8C10 Aliphatic C10C12 Aliphatic C12C16 301E10 160E09 190E09 19E08 Aliphatic C16C34 208E03 110E02 131E02 65E03 Aliphatic C16C21 744E04 395E03 470E03 23E03 Aliphatic C21C34 133E03 706E03 839E03 42E03 Aliphatic C34C50 435E04 231E03 274E03 14E04 Aromatic C8C16 511E06 271E05 322E05 81E04 Aromatic C8C10 Aromatic C10C12 964E10 512E09 608E09 15E07 Aromatic C12C16 510E06', 'TABLE 721 ELEMENT INTERACTION WITH THE PROPOSED PIPELINE COMPONENT Element Interaction with Pipeline Component Element Construction Operations1 Physical and Meteorological Environment Yes Yes Soil and Soil Productivity Yes Yes Water Quality and Quantity Yes Yes Air Emissions Yes Yes GHG Emissions Yes Yes Acoustic Environment Yes Yes Fish and Fish Habitat Yes Yes Wetland Loss or Alteration Yes Yes Vegetation Yes Yes Wildlife and Wildlife Habitat Yes Yes Species at Risk Yes Yes')\n"
          ],
          "name": "stdout"
        },
        {
          "output_type": "stream",
          "text": [
            "\r46it [01:13,  1.84s/it]"
          ],
          "name": "stderr"
        },
        {
          "output_type": "stream",
          "text": [
            "('Table 1 TLRU Information and Mitigation Grand Conseil de la Nation Waban Aki Traditional Land and Resource Use Information Location Relative to Project Development Area Relevant Consolidated ESA Documents Context from the Consolidated ESA GCNWA Mitigation Recommendations4 Consolidated ESAEPP Mitigation Measures In the event that a sacred site is discovered during construction of the pipeline suspend work immediately in the vicinity of any newly discovered sacred sites Work at that location may not resume until the measures are undertaken as outlined in the TLU Sites Discovery Contingency Plan see EPP Mitigation measures for sacred areas may include detailed recording mapping and avoidance however additional mitigation measures if warranted will be refined and optimized in the field and through community discussions Prohibit the collection of Heritage Resources by Project', 'Table 85 Historical Occurrences of Ecological Communities of Management Concern PDA LAA and RAA Ecological Community Scientific Names1 Ecological Community Common Names1 ACIMS Status1 Occurrences in the PDA1 Additional Occurrences in the LAA Outside of the PDA1 Additional Occurrences in the RAA outside of the LAA1 Calamovilfa longifolia Sporobolus cryptandrus sand grass sand dropseed S2S3 0 0 1 Calamovilfa longifolia Stipa comata grassland sand grass needleandthread grassland S3 0 0 5 Distichlis stricta Pascopyrum smithii salt grass western wheatgrass S2 0 0 2 Elymus lanceolatus Stipa comata northern wheatgrass needleandthread S2 0 0 1 Festuca hallii Calamovilfa longifolia plains rough fescue sand grass S1 0 0 4 Festuca hallii Koeleria macranthaJuniperus horizontalis forbs plains rough fescue June grassjuniperforbs S2 0 0 1 Festuca hallii Stipa curtiseta grassland plains', 'Table 352 Estimated Labour Force in the Deh Cho Region Before Project Effects Indicator 20062007 20072008 20082009 20092010 Average Total population No 3551 3720 3748 3705 3681 Net migration No 0 140 0 70 18 Population 15 No 2680 2837 2877 2857 2813 Labour force No 2083 2206 2237 2221 2187 Employed No 1522 1611 1634 1623 1597 Unemployed No 561 594 603 599 589 Not in labour force No 596 631 640 636 626 Participation rate 777 777 777 777 777 Employment rate 568 568 568 568 568 Unemployment rate 269 269 269 269 269 NOTE Numbers might not add up because of rounding ', 'TABLE 1 POTENTIAL ACCESS MANAGEMENT MEASURES Type of Measure Specifications Comments Type of Measure Specifications Comments Berms Berms may be constructed of slash and timbers Supported berms resemble log fences or walls constructed using timber cleared from the rightofway To be effective berms should be constructed to an approximate height of 2 m Promote rapid shrubtree regeneration at ends of berms eg bioengineering seedling planting to increase effectiveness as access management Tree felling Tree felling is the process of deliberately cutting trees at the margin of a clearing to fall over the linear disturbance Trees are felled from both sides of the linear disturbance to create access control It may be applicable in specific locations where adjacent trees are tall enough to cover the entire width of the')\n"
          ],
          "name": "stdout"
        },
        {
          "output_type": "stream",
          "text": [
            "\r47it [01:15,  1.80s/it]"
          ],
          "name": "stderr"
        },
        {
          "output_type": "stream",
          "text": [
            "('Table 6131 Predicted Cumulative Effects on Human Occupancy and Resource Use Predicted Residual Effects Predicted Residual Effects Developments and Activities with Spatial or Temporal Interaction Predicted Cumulative Effects Cumulative Effects Mitigation Predicted Residual Effects Existing Project Reasonably Foreseeable Predicted Cumulative Effects Cumulative Effects Mitigation Hidden Lake North Unit Addition 1 Temporary disruption of hunting fishing guide outfitting trapping and recreational activities Existing activities within the HORU RSA are shown on Attachment 624 and described in Section 621 Existing activities are predominantly oil and gas ie seismic lines pipelines facilities and well sites Other activities include transportation ie airfield roads and trails energy transmission aggregate extraction ie gravel pits and borrow pits and fishing hunting and trapping Projectrelated activities that could interact with the existing and reasonably foreseeable developments', 'TABLE 622 POTENTIAL EFFECTS MITIGATIVE MEASURES AND RESIDUAL EFFECTS OF PIPELINE AND CONSTRUCTION AND OPERATION ON VEGETATION Potential Effect Pipeline Loop Location Spatial Boundary Measures EPP Reference1 Potential Residual Effects 1 Loss or alteration of native vegetation Kyklo Creek Timberwolf Cranberry Entire Route Footprint Conduct supplemental vegetation surveys to confirm vegetation community classification identify any rare plants on previously unsurveyed portions of the three proposed pipeline loops and identify any other vegetation concerns along the pipeline loops Locate the proposed Project outside of any Old Growth Management Areas in BC Schedule construction during frozen ground conditions Use natural recovery as the preferred method of reclamation on all level lands including wetlands Section 70 and Section 90 Do not clear timber stumps brush and other vegetation beyond marked construction', 'Table I17 Chronic Daily Intake mgkgd and Hazard Quotients unitless for Subsistence Receptors Exposed to Intertidal Sediment Following a Hypothetical Spill of Crude Oil HSB at Location D in the Shipping Lanes COPC Chronic Daily Intake from Intertidal Sediment Ingestion Chronic Daily Intake from Dermal Contact with Intertidal Sediment Chronic Total Daily Intake from Exposure to Intertidal Sediment Total HQ from Exposure to Intertidal Sediment TEX Toluene Ethylbenzene Xylenes Total Petroleum Hydrocarbon Fractions Aliphatic C6C8 Aliphatic C8C16 311E09 164E07 167E07 17E06 Aliphatic C8C10 Aliphatic C10C12 Aliphatic C12C16 311E09 164E07 167E07 17E06 Aliphatic C16C34 400E03 210E01 214E01 11E01 Aliphatic C16C21 109E03 573E02 584E02 29E02 Aliphatic C21C34 291E03 153E01 156E01 78E02 Aliphatic C34C50 309E04 163E02 166E02 83E04 Aromatic C8C16 104E06 547E05 557E05 14E03 Aromatic C8C10 Aromatic C10C12 263E13 138E11 141E11', 'TABLE 61518 CONKLIN MTIS LOCAL NO 193 TLRU SITES IDENTIFIED IN THE LITERATURE REVIEW FOR THE PROPOSED CHRISTINA RIVER SECTION Site Description Distance and Direction to Nearest KP Plant Gathering Site Hunting Site and Fishing Site Conklin 332 km southwest of KP 100 NE 31767 W4M Sacred Area Wasassi Bay 334 km southwest of KP 170 NW 33767 W4M')\n"
          ],
          "name": "stdout"
        },
        {
          "output_type": "stream",
          "text": [
            "\r48it [01:17,  1.88s/it]"
          ],
          "name": "stderr"
        },
        {
          "output_type": "stream",
          "text": [
            "('Table 89 Proposed Watercourse Crossings Kahta Section Field SiteID1 WatercourseName SpeciesPresent2 Habitat Conditionsand Ratings ImportantHabitat TimingWindow ofLowRisk4 Proposed PipelineCrossing Contingency PipelineCrossing MethodDuring OpenWaterConditions ProposedVehicle Dryor FrozenConditions RMF RiskRating6 PotentialUse ofOperationalStatement3 RMF RatingRationale KPWC 37 Unnamedtributary toBeatton River No fish species capturedor observed during fall2013 assessmentPotential for GR LKCand LSU Poor fish habitat givenlow flows unsuitable forspawning rearingoverwintering ormigration N NA Isolated Dam and Pumpifflowis1m3sOpencut if dry or frozen tobottomWinter Isolated Dam and Pumpifflowis1m3sOpencut if drySummer Existing rightofway Snow fill Icebridge Low Y Poor connectivityto fishbearinghabitat marginallydefined channel KPWC 41 Unnamedtributary toBeatton River Potential for GR LKCand LSU Potential fish habitatgiven proximity tounnamed tributary toBeatton River Groundassessment to occur in fall2014 N July 16 March31 Isolated Dam and Pumpifflowis1m3sOpencut if dry or frozen tobottomWinter Isolated Dam and Pumpifflowis1m3sOpencut if', 'TABLE 3123 SUMMARY OF CONSULTATION ACTIVITIES RELATED TO MARINE FISH AND FISH HABITAT AND MARINE MAMMALS Stakeholder Group Agency Name Name and Title of Contact Method of Contact Date of Consultation Activity Reason For Engagement Issues Concerns CommitmentsFollowup ActionsComments Where Issue is Addressed in the Application CWSEnvironment Canada Harp Gill Senior Environmental Assessment Officer Meeting April 16 2013 Scope of effects and indicator selection for marine resources No concerns with indicator selection or effects being considered were raised Provided CWSEnvironment Canada with list of marine resources indicators for further consideration Volume 5A Sections 62 769 and 7611 Volume 5C Marine Resources Westridge Marine Terminal Technical Report DFO David Pehl Meeting September 25 2013 Project introduction Marine resources indicators Key issueseffects for marine resources Approach to habitat compensation offsetting', 'Table 56 Assessment of Effects on Ambient Sound Levels Activity Effect Proposed Mitigation Measures Direction Magnitude Geographic Extent Frequency Duration Reversibility Prediction Confidence Significance Pump Station Construction Pump station site preparation clearing grubbing grading increased noise levels maintain equipment and provide effective mufflers turn equipment off when not in use schedule construction activities during daytime hours Adverse Low Local Sporadic Medium Term Reversible Medium Not Significant Pump station construction equipment and vehicles associated with installation increased noise levels maintain equipment and provide effective mufflers turn equipment off when not in use schedule construction activities during daytime hours maintain roadways follow vehicle speed limits Adverse Low Local Sporadic Medium Term Reversible Medium Not Significant', 'Table 66 Fish and Bivalve Species of Management Concern in the RAA No Common Name Scientific Name Status Management Issue Confirmed Presence during Surveys Number of Occurrences No Common Name Scientific Name SARA COSEWIC Provincial Management Issue Confirmed Presence during Surveys Number of Occurrences 5 Northern brook2 lamprey Ichthyomyzon fossor SC Sc 1 SC T Northern brook lamprey population of the Upper St Lawrence is vulnerable to habitat change such as modification of water level sedimentation of spawning sites and water pollution Christian et al 2005 COSEWIC 2007 6 bridle shiner Notropis bifrenatus SC Sc 1 SC V Bridle shiner has been affected by the destruction of nearshore marshes constituting its main habitat This species is also vulnerable to water pollution streamflow modification turbidity and because it has')\n"
          ],
          "name": "stdout"
        },
        {
          "output_type": "stream",
          "text": [
            "\r49it [01:19,  1.89s/it]"
          ],
          "name": "stderr"
        },
        {
          "output_type": "stream",
          "text": [
            "('Table D2 Hydrologic Parameters at Ungauged Watercourse Crossings Crossing Identifier Watercourse Name Drainage Area km2 Mean Annual Flow m3s Mean Annual Flow Volume m3 Mean Annual Runoff mm 10year Peak Flow m3s 100year Peak Flow m3s 7Q10 Flow m3s NB68600 South Stream Lower 282 0685 21600000 766 122 192 00171 NB47602 Ratcliffe Brook Tributary 144 00382 1200000 837 0846 14 0 NB47603 Ratcliffe Brook Tributary 0118 000337 106000 901 00897 0155 0 NB64701 Germaine Brook Tributary 0524 00143 451000 861 0342 0575 0 NB48103 East Branch Black River Tributary 00156 0000473 14900 956 00146 0026 0 NB48105 Black River Tributary 00227 000068 21400 945 00204 00362 0 NB48201 East Branch Black River Tributary 00452 000133 41900 928 00379 00665 0 NB71800 East Branch Black River Tributary 0214 0006', 'Table 31 Proportion and Extent of Soil along Pipeline Route Agricultural Designation of Soil Length of Pipeline Route km Proportion of Pipeline Route Soils Within Class 2 or 3 Agricultural Capability 565 138 Soils Within Agricultural Land Use Areas 25 06 Soils Within Agricultural Parcel IDs 231 56 NonSurveyed Soils Within Agricultural Areas1 247 60 Total Agricultural Soil 1068 260 Total Forested Soil2 3039 740 Total 4107 100 NOTES 1 Nonsurveyed soils within agricultural land were assigned to be determined TBD as a rating until field work and mapping has been completed 2Forested soil was not rated as it was considered outside of agricultural land area ', 'Table 314 Utilities Infrastructure in the Deh Cho Communities 2001 Utility Fort Simpson Fort Providence Fort Liard Wrigley Nahanni Butte Trout Lake Jean Marie River Kakisa Hay River Reserve Water Delivery system Piped or trucked Trucked Trucked Trucked Trucked Trucked Trucked Trucked Piped Water source Mackenzie River Mackenzie River 2 wells on bank of Liard River 3rd is planned Two wells 2 wells 500 m west of community Trout Lake From Jean Marie River into a reservoir Hay River Hay River Water treatment Water treatment consists of flocculation sedimentation chlorination filtration and fluoridation Microfloc Waterboy WB82 system Removal of iron manganese sulphides and calcium hypochlorite chlorination Wallace and Ternan chlorinator with a chemical feed pump Chlorination Chlorine solution is injected during filling Chlorination using a calcium hypochlorite solution', 'TABLE 7682 POTENTIAL EFFECTS MITIGATION MEASURES AND RESIDUAL EFFECTS OF CONSTRUCTION AND OPERATIONS AT THE WESTRIDGE MARINE TERMINAL ON Potential Effect Spatial Boundary1 Key Measures EPP Reference2 Potential Residual Effects 21 Change in water quality during construction or operations contd See above Store bulk tanks containing hazardous materials eg fuel for construction equipment in a bermed area lined with an impervious polyethylene liner Containment berms will be large enough to contain 110 of the largest tank plus 10 of the aggregate tank volume within the containment area or as otherwise specified by regulatory requirements Note that secondary storage for fuel storage tanks is required as noted above for volumes exceeding 1000 L Design and size secondary containment for hydrocarbons in accordance with applicable provincial and federal requirements Remove')\n"
          ],
          "name": "stdout"
        },
        {
          "output_type": "stream",
          "text": [
            "\r50it [01:20,  1.80s/it]"
          ],
          "name": "stderr"
        },
        {
          "output_type": "stream",
          "text": [
            "('Table 84 Maximum Surface Oiling Thickness m following a Hypothetical Spill of Crude Oil HSB at Location D Area with Oiling Thickness 2 m to 10 m of SAMAM Area with Oiling Thickness 10 m of SAMAM Total Area with Oiling Thickness 2 m of SAMAM 2768 km2 67 4218 km2 102 6987 km2 168', 'TABLE 51176 FIRE PROTECTION SERVICES IN THE SOCIOECONOMIC LOCAL AND REGIONAL STUDY AREAS IN SASKATCHEWAN Municipality Services Provided By Notes City of Regina contd See above According to municipal representatives there are no capacity issues in relation to fire protection services in the City of Regina RM of Edenwold No 158 Town of White City Volunteer Fire Department Town of Balgonie Volunteer Fire Department City of Regina Fire and Protective Services See Town of White City Town of Balgonie and the City of Regina for more details RM of South QuAppelle No 157 NA NA Town of White City Town of White City Volunteer Fire Department There are 17 volunteer firefighters and 5 first responders on staff Equipment includes 2 pumper trucks 1 tanker and 1 support vehicle', 'TABLE 10 SUMMARY OF ENVIRONMENTAL ELEMENTS FOR KNOWN SHOOFLIES Legal Location SKP Start and End Points Shoofly Length Land Use Wildlife and Wildlife Habitat SW 16134 W2M SKP 8806 to SKP 8807 02 km Hay Limited wildlife potential SE 7133 W2M SKP 8879 to SKP 8881 05 km Cultivated Limited wildlife potential SW 8133 W2M SKP 8890 to SKP 8892 02 km Hay Limited wildlife potential NE 5133 W2M SKP 8899 to SKP 8901 02 km Cultivated Limited wildlife potential SW 2133 W2M SKP 8941 to SKP 8942 02 km Hay Limited wildlife potential SE 26122 W2M SKP 9056 to SKP 9057 01 km Tame pasture Suitable wildlife habitat N 24122 W2M SKP 9071 to SKP 9084 04 km Hay and tame pasture Suitable wildlife habitat in tame', 'TABLE 419 FISH SPECIES RECORDED PREVIOUSLY IN THE LOWER FRASER RIVER AND ITS TRIBUTARIES HOPE TO BURNABY SEGMENT Master Crossing Number RKs Watercourse Name Fish Species Present1 Provincial Instream Work Window BC657 10472 Silverhope Creek DVBT CAL CCT CM CO CSU MW PK RB SST and ST August 1 to 31 BC658 10515 Chawuthen Creek CCT and SB August 1 to October 31 BC662 10555 Hunter Creek CCT CM CO PK RB SH and ST August 1 to September 15 BC666 10609 Lorenzetta Creek CC CCT CM CO PK RB and ST August 1 to September 15 BC668 10615 Wahleach Creek CCTCM CO KO PK RB SK and ST August 1 to 15 BC705 10782 Anderson Creek BCB BNH CC CH CM CO CCT DVBT KO L PK')\n"
          ],
          "name": "stdout"
        },
        {
          "output_type": "stream",
          "text": [
            "\r51it [01:22,  1.70s/it]"
          ],
          "name": "stderr"
        },
        {
          "output_type": "stream",
          "text": [
            "('Table 51 Preliminary Proposed Schedule Project Construction and Habitat Restoration and Offsets Milestones and Activities Anticipated Datesa Red Earth Section 3 Construction Clearing Q4 2021 Mainline Construction Q4 2021 to Q1 2022 Machine Cleanup Testing Q1 2022 Final Clean up Q4 2022 to Q1 2023 Hidden Lake North Unit Addition Construction All Activities Q1 2021 to Q1 2022 Caribou Restoration and Offset Planning Submission of CHROMP to the NEB Q2 2019 Implementation of caribou habitat restoration on the Red Earth Section 3 PCF Q3 2022 to Q3 2023 Implementation of caribou habitat restoration on the Hidden Lake North Unit Addition PCF Q1 2022 Implementation of offset measures Q3 2022 to Q3 2023 Submission of CHROIRb Q3 2023 CHROMMPb Q3 2023 Implementation of CHROMMP Q1 2024 Submission of Caribou', 'Table 73 Magnitude of Effects for Rare Plants Magnitude Rank Percent loss Low S3 on watch list loss of individuals within a population Moderate S1 S2 15 loss of individuals within a population Moderate S3 on watch list 15 loss of entire population or all occurrences High Listed under SARA or Albertas Wildlife Act or ManitobasEndangered Species Act or globally ranked as rare 15 loss of individuals within a population High S1 S2 5 loss of individuals within a population High S3 on watch list 5 loss of entire population or all occurrences', 'Table 51 Potential Effects on Ambient Sound Levels Project Activity Key Issue or Effect Source Relevance Project Activity Key Issue or Effect Source Relevance Proposed Pump Station Construction Pump station site preparation clearing grubbing grading Increased noise levels Professional judgment Change in Acoustic Environment Pump station construction equipment and vehicles associated with installation Increased noise levels Professional judgment Change in Acoustic Environment Proposed Pump Station Operation Pump station operation Increased noise levels Professional judgment Change in Acoustic Environment Pump station maintenance and inspection activities servicing repair and replacement Increased noise levels Professional judgment Change in Acoustic Environment Proposed Pump Station Decommissioning and Abandonment Pump station decommissioning activities and removal of infrastructure Increased noise levels Professional judgment Change in Acoustic Environment', 'TABLE 5191 NATIVE PRAIRIE LAND CROSSED BY THE LINE 3 REPLACEMENT PIPELINE ROUTE FOR GREATER THAN 500 M IN LENGTH Starting Station SKP1 Ending Station SKP1 Starting QuarterSection Ending QuarterSection Length of Native Prairie Land Crossed km2 Alberta 247 2482 NE 22394 W4M NE 23394 W4M 12 2815 2853 NW 35371 W4M NE 253729 W3M3 35 Saskatchewan 285 2892 SE 303728 W3M SW 213728 W3M 32 3353 342 NW 93524 W3M NE 353424 W3M 67 3422 3429 SW 363424 W3M SW 363424 W3M 07 3466 3474 SW 293423 W3M SE 293423 W3M 08 3589 360 SE 53422 W3M NW 333322 W3M 11 4042 4064 NW 43218 W3M SE 33218 W3M 22 4263 4273 NE 93116 W3M NW 103116 W3M 10 4372 4384 SW 333015 W3M SE 333015 W3M')\n"
          ],
          "name": "stdout"
        },
        {
          "output_type": "stream",
          "text": [
            "\r52it [01:23,  1.70s/it]"
          ],
          "name": "stderr"
        },
        {
          "output_type": "stream",
          "text": [
            "('Table 71 ResourceSpecific Mitigation ActivityConcern Mitigation Measures Environmental Resource Delineation 1 Mark specific resource protection measures on the Environmental Alignment Sheets and enter in the ResourceSpecific Mitigation Table see Table 71 Signage 2 Where required post signs in the vicinity of sensitive environmental features to alert workers of these items and ensure they are protected See Table 71 for a listing of sensitive environmental features located along the pipeline rightofway Watercourse Crossings 3 Watercourse crossing requirements are provided in Table 81 and in Section 84 of the EPP and are indicated on the Environmental Alignment Sheets Hydrology 4 If springs are encountered along the rightofway install trench breakers to force groundwater seepage along the pipeline trench to the surface Install subdrains if warranted to divert shallow groundwater from', 'Table 98 Federal and Provincial Legislation Applicable to Wildlife Agency Act or Regulation Summary Agency Act or Regulation Summary Federal Environment Canada Species at Risk Act Requires Canada to provide for the recovery of species at risk due to human activity and to manage species of special concern so they do not become endangered or threatened The Species at Risk Actnot only prohibits killing harming harassing capturing or taking species at risk but also makes it illegal to destroy their critical habitats Sections32 33 and 58 identify prohibitions It is an offence tokill harm harass capture or take an individual of a listed species that is extirpated endangered or threatened damage or destroy the residence of one or more individuals of a listed endangered or threatened species or', 'Table 2 TLRU Information and Mitigation Les Atikamekw de Manawan Traditional Land and Resource Use Information Location Relative to Project Development Area Relevant Consolidated ESA Documents Context from the Consolidated ESA Les Atikamekw de Manawan Mitigation Recommendations2 Consolidated ESAEPP Mitigation Measures Plant gathering and tree and sap harvesting are practiced in areas surrounding the community and on family hunting areas LAM study participants expressed concern about potential effects from the Project on plants including from construction activities Plants could be torn and contaminated which could contaminate people who consume these plants or be wiped out Plant harvesting is an important source of healing and protection for LAM members who are concerned the plants may be contaminated or destroyed which would affect plant harvesting activities See also the human', 'Table 87 Heritage Resources in Potential Conflict with Infrastructure Sites in the Gwichin Settlement Area Heritage Resource Type Landform Association Project Component MjTk 001 Historic camp site cabin Abandoned airfield near Travaillant Lake Infrastructure MiTk 002 Historic camp site burial Slumping slope near the confluence of the Mackenzie and Travaillant rivers Infrastructure 03MGPGSA01 Trap Edge of an unnamed creek terrace Infrastructure MiTk 004 Historic cabin Near the confluence of the Mackenzie and Travaillant rivers Infrastructure')\n"
          ],
          "name": "stdout"
        },
        {
          "output_type": "stream",
          "text": [
            "\r53it [01:25,  1.53s/it]"
          ],
          "name": "stderr"
        },
        {
          "output_type": "stream",
          "text": [
            "('Table 1211 Locations and Physical Dimensions of Existing Approved and Planned Storage Tanks at the Hardisty Complex Operator TankID Tank RoofType Location UTMNAD83 BaseElevationm asl TankHeightm TankDiameterm Operator TankID Tank RoofType mE mN BaseElevationm asl TankHeightm TankDiameterm EnbridgeMidstreamInc Merchant TankFacilityApproved contd 16 EFR 480261 5830908 662 191 655 EnbridgeMidstreamInc Merchant TankFacilityApproved contd 17 EFR 480142 5831165 662 183 585 EnbridgeMidstreamInc Merchant TankFacilityApproved contd 18 EFR 480142 5831053 662 183 585 EnbridgeMidstreamInc Merchant TankFacilityApproved contd 19 EFR 480122 5830742 662 183 585 Kinder MorganCanada IncExisting 101 EFR 482132 5831840 654 146 457 Kinder MorganCanada IncExisting 102 EFR 482296 5831840 654 146 457 Kinder MorganCanada IncExisting 103 EFR 482260 5831715 654 146 457 Kinder MorganCanada IncExisting 104 EFR 482260 5831523 654 146 457 Kinder MorganCanada IncExisting 105 EFR 482311 5831646', 'Table 95 Summary of Project Residual Environmental Effects Vegetation and Wetlands contd KEYDirectionUse quantitative measure orLLow Project will have no measurableeffect on vegetation and wetlandsMModerate Project will havea measurable effect but will not reducediversityHHigh Project will have a measurableeffect and will reduce diversityGeographic ExtentUse quantitative measure orSSitespecific PDALLocal LAARRegional RAA and beyond DurationUse quantitative measure orST Shortterm Less than one yearMT Medium term more than One yearbut not beyond life ofthe projectLTLong term Up to 30 years beyondlife of ProjectPPermanent more than 30 years orpermanent alteration to vegetationand wetlandsFrequencyUse quantitative measure orOOccurs onceSOccurs sporadically at on a regular basis and atregular RReversibleIIrreversible Environmental ContextUUndisturbed Area relatively ornot adversely affected byhuman activityDDeveloped Area has beensubstantially previouslydisturbed by humandevelopment or humandevelopmentis still presentNANot significantPrediction ConfidenceBased on scientific information andstatistical analysis', 'TABLE 8A4 REASONABLY FORSEEABLE DEVELOPMENTS IDENTIFIED WITHIN THE SPATIAL BOUNDARIES OF THE PELICAN LAKE SECTION Map ID1 Title Proponent Description Construction Schedule2 Assessment Type Qualitative or Qualitative Physical Environment and Soils LSA Water Quality and Quantity RSA Air Quality RSA Acoustic Environment LSA Fish and Fish Habitat RSA Wetlands RSA Vegetation RSA Wildlife and Wildlife Habitat RSA Caribou RSA West Side Athabasca Caribou RSA Agnes HORU RSA Heritage Resources RSA TRLU RSA Community RSA 29776 W4M Cenovus FCCL Ltd Evaluation Quantitative 1016776 W4M Cenovus FCCL Ltd Evaluation Quantitative 724777 W4M Cenovus FCCL Ltd Evaluation Quantitative 323766 W4M Cenovus FCCL Ltd Evaluation Quantitative 116776 W4M Cenovus FCCL Ltd Evaluation Quantitative 415776 W4M Cenovus Fccl Ltd Evaluation Quantitative 1622766 W4M Cenovus FCCL Ltd Evaluation Quantitative 1219776 W4M Cenovus FCCL Ltd', 'TABLE 6 CONCENTRATION AND EXPOSURE TIME PAIRS FOR EUB ENDPOINTS H2S Exposure Endpoints Load Equation L cnt with exponent n 35 Exposure Time minutes H2S Concentration ppm Exposure Time minutes No Unconsciousness UF300 EUB L50 UF20 3 307 665 30 159 345 60 130 283 120 107 232 180 95 207')\n"
          ],
          "name": "stdout"
        },
        {
          "output_type": "stream",
          "text": [
            "\r54it [01:27,  1.66s/it]"
          ],
          "name": "stderr"
        },
        {
          "output_type": "stream",
          "text": [
            "('Table 14 Estimated vapour composition for Heavy Crude Oil on an airfree basis and at normal worstcase operating conditions of 20 of the lower flammable limit and at saturation conditions Enbridge Pipelines Tanks 46 and 47 Table 14Estimated vapour composition for Heavy Crude Oil on an airfree basis and at normalworstcase operating conditions of 20 ofthe lower flammable limit and atsaturationconditions Enbridge Pipelines Tanks 46 and 47 Substance Mol FractionAirFree Mass FractionAirFree Conc at Max LFLConditions ppmvAirin Conc at SaturationConditions ppmvAirIn Hydrogen Sulphide 4538E02 2398E02 1815E02 5998E03 isobutene 7784E02 7017E02 3114E02 1029E04 IsoButyl Mercaptan 0000E00 0000E00 0000E00 0000E00 isoPentane 1346E01 1506E01 5384E02 1779E04 IsoPropyl Mercaptan 0000E00 0000E00 0000E00 0000E00 Methane 0000E00 0000E00 0000E00 0000E00 Methyl Mercaptan 0000E00 0000E00 0000E00 0000E00 Naphthalene 3087E07 6137E07 1235E03 4080E02 nButane 4266E01 3846E01', 'TABLE 7251 POTENTIAL RESIDUAL EFFECTS OF THE PROJECT ON FISH AND FISH HABITAT CONSIDERED FOR THE CUMULATIVE EFFECTS ASSESSMENT Potential Residual Effect Spatial Boundary1 Project Component Temporal Boundary Potential Cumulative Effect Existing ActivitiesReasonably Foreseeable Developments with Residual Effects Acting in Combination with the Project Effects of the 3Project associated with blockage of fish movements contd See above See above See above See above Pipelinerelated activities that could interact with the above activities include clearing topsoil salvaging grading trenching backfilling reclamation of approaches to water crossings and bank reclamation associated with watercourse crossings construction and reclamation and vehicle crossing installation and removal Combined effects 4of the Project on fish and fish habitat RSA Replacement pipeline temporary vehicle crossings and decommissioning inplace Past development to operation Project contribution to combined', 'TABLE 5291 SUMMARY OF ENVIRONMENTAL AND SOCIOECONOMIC ELEMENTS AND CONSIDERATIONS FOR BETHUNE STATION Environmental and SocioEconomic Elements Summary of Considerations Acoustic Environment contd Noise modelling conducted for the Project assumed the removal of all existing Line 3 structures and noise sources for the cumulative case scenario However Enbridge is currently exploring options regarding the existing pump units and associated structures Therefore existing Line 3 structures may still be present during the operation of the replacement pipeline potentially acting as additional sound barriersIf the existing Line 3 pump units and associated structures are reused an appropriate application will be submitted to the NEB regarding those facilities and additional noise modelling will be conducted Fish and Fish Habitat Bethune Station is located within the QuAppelle River Basin No work will', 'TABLE 13 OTTER LAKE UNIT ADDITION AND CUMULATIVE SOURCE EMISSION RATES Source Emission Rates gs Source NOxPM25CO Project Sources Proposed Compressor Stack 30 MW1 346 00185 0519 Proposed Boiler Stack 845 kW 00452 000343 00372')\n"
          ],
          "name": "stdout"
        },
        {
          "output_type": "stream",
          "text": [
            "\r55it [01:29,  1.75s/it]"
          ],
          "name": "stderr"
        },
        {
          "output_type": "stream",
          "text": [
            "('Table 82 Selected Health and Social Indicators Health Indicator Champlain Health Integration Network Ontario Canada Perceived health very good or excellent 1 625 610 603 Perceived mental health very good or excellent 1 757 743 739 Sense of community belonging very strong or somewhat strong 1 653 674 654 Perceived life stress population aged 15 and over who reported perceiving that most days in their life were quite a bit or extremely stressful 1 238 240 234 Life satisfaction satisfied or very satisfied 1 929 915 921 Sexually transmitted infections incidence of gonorrhea per 100000 population234 75247 271 Sexually transmitted infections incidence chlamydia per 100000 population234 11652295 2205 NOTES 3 Data at the subprovincial level is reported by public health units The data presented in this table are', 'Table 212 Cumulative Case Modeled Sound Levels Rowatt Receptor Distance From Project ASLNight dBA Cumulative Case LeqNight dBA Increase Relative to Baseline Case LeqNight dBA ASL Cumulative Case LeqNight dBA PSLNight dBA Compliant Cumulative Case LeqNight dBC dBC dBA Tonal Residential Receptors R01 1100 m 350 257 44 355 400 YES 353 96 NO R02 1200 m 350 302 06 362 400 YES 403 101 NO Theoretical 1500 m Receptors North 1500 m 350 254 07 355 400 YES 368 114 NO Northeast 1500 m 350 271 06 357 400 YES 380 109 NO East 1500 m 350 240 32 353 400 YES 332 92 NO Southeast 1500 m 350 275 04 357 400 YES 387 112 NO South 1500 m 350 278 05 358 400 YES 390', 'Table 33 Water Survey of Canada Hydrometric Stations Used for Access Roads to Pump Stations Station Number Station Name Province Period of Record Record Length years Gross Drainage Area km2 Used for Access Roads to Pump Station 05QD006 Wabigoon River Near Quibell ON 1953 2010 58 6370 Ignace 02AB004 Kaministiquia River at Outlet Of Dog Lake ON 1923 1994 72 3760 Dog River 02AD010 Blackwater River At Beardmore ON 1971 2010 40 650 Eagle Head 04LJ001 Missinaibi River At Mattice ON 1920 2010 91 8940 Hearst A Mattice B 04LF001 Kapuskasing River At Kapuskasing ON 1918 2010 79 6760 Kapuskasing 02JD011 Lady Evelyn River At Lady Evelyn Lake ON 1946 1999 54 1370 Marten River 02LA007 Jock River Near Richmond ON 1969 2010 42 559 Pembroke B 02LB017', 'Table 54 Predicted Baseline Case Sound Levels for CSN5 Assessment Location ID Existing CSN5 Progress B088I Gas Plant Progress C65I Battery Site Ambient Sound Level a Baseline Sound Level b Assessment Location ID Daytime dBA Nighttime dBA Daytime dBA Nighttime dBA Daytime dBA Nighttime dBA Daytime dBA Nighttime dBA Daytime dBA Nighttime dBA L1 348 348 264 264 189 189 45 35 455 383 L2 336 336 327 327 104 104 45 35 455 386 L3 301 301 297 297 165 165 45 35 453 371 L4 222 222 200 200 123 123 45 35 450 354 NOTES a Based on the BC OGC Noise Control Best Practices Guideline BC OGC 2009 b Logarithmic sum of existing facilities sound level and ambient sound level ie 348 dBA 264')\n"
          ],
          "name": "stdout"
        },
        {
          "output_type": "stream",
          "text": [
            "\r56it [01:30,  1.64s/it]"
          ],
          "name": "stderr"
        },
        {
          "output_type": "stream",
          "text": [
            "('Table 42 Soil Map Units with Corresponding Land Uses in the Local Study Area Current Land Use Total Area Current Land Use ha Woodland1 9729 78 Cultivated2 2235 18 Wetland 299 2 Water 39 0 Disturbed 103 1 Total Area3 12404 100 NOTES 1 Woodland includes woodland and riparian current land uses 2 Cultivated includes improved pasture improved pasturepoor sod hayland and haylandpoor sod current land uses 3 Values may not sum to total due to rounding ', 'TABLE 5241 SUMMARY OF ENVIRONMENTAL AND SOCIOECONOMIC ELEMENTS AND CONSIDERATIONS FOR KERROBERT STATION Environmental and SocioEconomic Elements Summary of Considerations Wetlands Kerrobert Station is located in the PCG Wetlands subdivision of the Continental Prairie Wetland Region NRC 1986 For details on the PCG Wetlands subdivision see information provided for Saskatchewan in Section 5181 Four wetlands are located within 30 m of the existing station boundaries one Class III wetland complex crossing the south station boundary at NE 273322 W3M one Class III wetland adjacent to the west station boundary at SW 343322 W3M and two Class III wetlands adjacent tocrossing the west station boundary at SW 343322 W3M The work at Kerrobert Station will be conducted within the existing station boundaries mostly on previously disturbed lands and lands', 'Table 613 Potential Project and Water Quality and Quantity Issues Recommended Mitigation and Predicted Residual Effects of Pipeline Construction and Operation Project Component Activity Potential Issue Recommended Mitigation Predicted Residual Effect Construction Change in surface water quantity The source of hydrostatic test water will be selected to ensure regulatory requirements are met including Section 51 of the Diversion Code of Practice which requires that significant adverse effects on the aquatic environment any household user any licensee or any traditional agricultural user does not occur and that all adverse effects on the aquatic environment are fully mitigated AENV 1999 All requirements specified on permits pertaining to water withdrawal shall be complied with If hydrostatic test water source is a watercourse withdrawal rate will be less than 10 of the', 'TABLE 72106 SIGNIFICANCE EVALUATION OF POTENTIAL RESIDUAL EFFECTS OF PROJECT CONSTRUCTION AND OPERATIONS ON MAMMAL INDICATORS Potential Residual Effects Impact Balance Spatial Boundary1 Temporal Context Magnitude Probability Confidence Significance2 Potential Residual Effects Impact Balance Spatial Boundary1 Duration Frequency Reversibility Magnitude Probability Confidence Significance2 1 Wildlife Indicator Grizzly Bear 1a Combined Project effects on grizzly bear resulting from habitat loss or alteration changes in movement and increased mortality risk Negative Grizzly Bear RSA Shortterm Periodic Longterm Medium High Moderate Not significant 2 Wildlife Indicator Woodland Caribou 2a Combined Project effects on woodland caribou resulting from habitat loss or alteration changes in movement and increased mortality risk Negative Caribou RSA Shortterm Periodic Longterm Medium High High Not significant 3 Wildlife Indicator Moose 3a Combined Project effects on moose resulting from')\n"
          ],
          "name": "stdout"
        },
        {
          "output_type": "stream",
          "text": [
            "\r57it [01:31,  1.57s/it]"
          ],
          "name": "stderr"
        },
        {
          "output_type": "stream",
          "text": [
            "('Table C3 Molecular Descriptors LUMO HOMO and GAP Calculated for this Study PAH LUMO eV HOMO eV GAP eV Anthracene 0212 8495 8283 Acenaphthene 0203 8502 8299 C1Acenaphthene 0935 8944 8009 Acenaphthylene 1043 8574 7531 Acridine 0839 8123 7284 Benzoaanthracene 0814 8206 7392 Benzobjfluoranthene 1176 8315 7139 Benzokfluoranthene 0908 8300 7392 Benzoghiperylene 1065 8025 6960 Benzocphenanthrene 0631 8391 7760 Benzoapyrene 1111 7923 6812 Benzoepyrene 0855 8219 7364', 'Table 838 Site Series Kitimat Terminal Terrestrial PDA Biogeoclimatic Unit Site Series and Map Code Site Series Name Terrestrial PDAc Biogeoclimatic Unit Site Series and Map Code Site Series Name PEAAab Area Within the Security Fence Area Outside the Security Fence Biogeoclimatic Unit Site Series and Map Code Site Series Name ha ha ha MHmm2 contd 06 MD Mountain hemlock Yellowcedar Deer cabbage 1 0 0 0 0 0 MHmm2 contd 07 YH Yellowcedar Mountain hemlock Hellebore 1 0 0 0 0 0 MHmm2 contd Anthropogenic 13 1 Subtotal Native Vegetation 8814 75 163 2 198 2 Subtotal Regen 2040 17 50 2 46 2 Subtotal Regen Riparian 305 3 0 0 0 0 Subtotal Shallow Open Water 14 1 0 0 0 0 Subtotal Anthropogenic 617 5', 'TABLE 7A3 RESIDUAL EFFECTS CHARACTERIZATION AND SIGNIFICANCE EVALUATION FOR WATER QUALITY AND QUANTITY BY PROJECT COMPONENT Component Criteria Rating1 Component Impact Balance Spatial Boundary2 Duration Frequency Reversibility Magnitude Probability Confidence Significance Temporary Infrastructure and Workspace Negative Pipeline LSA Short to Mediumterm Isolated to Occasional Reversible Low Low to High High Not significant e Alteration of stream flow from temporary blockages during instream activities Boundary Lake Section Negative Pipeline LSA Short to Mediumterm Isolated to Occasional Reversible Low High High Not significant Bear Canyon Section Negative Pipeline LSA Short to Mediumterm Isolated to Occasional Reversible Low High High Not significant McLeod River Section Negative Pipeline LSA Short to Mediumterm Isolated to Occasional Reversible Low High High Not significant Pelican Lake Section Negative Pipeline LSA Short to Mediumterm Isolated to', 'TABLE 72 SIGNIFICANCE EVALUATIONS OF CUMULATIVE EFFECTS OF IDENTIFIED RESIDUAL EFFECTS FOR THE PROPOSED PROJECT Predicted Cumulative Effects Impact Balance Spatial Context Temporal Context Magnitude Probability Confidence Significance1 Predicted Cumulative Effects Impact Balance Spatial Context Duration Frequency Reversibility Magnitude Probability Confidence Significance1 1 PHYSICAL ENVIRONMENT No cumulative effects assessment warranted 2 SOIL CAPABILITY The pipeline component of the Line 4 Extension Project will act cumulatively with previous disturbances in that an incremental change in soil capability will occur negative footprint to local shortterm isolated short to longterm low high high not significant 3 WATER QUALITY AND QUANTITY No cumulative effects assessment warranted 4 GREENHOUSE GASES AND AIR QUALITY 4a The Line 4 Extension Project will act cumulatively with other proposed Enbridge projects in that an incremental increase in')\n"
          ],
          "name": "stdout"
        },
        {
          "output_type": "stream",
          "text": [
            "\r58it [01:33,  1.53s/it]"
          ],
          "name": "stderr"
        },
        {
          "output_type": "stream",
          "text": [
            "('Table A6271 Reasonably Foreseeable Developments and Activities Identified Within Spatial Boundaries of Northwest Mainline Loop No 2 Bear Canyon North Extensiona Map Identifierb Title Proponent Description Construction Schedulec Physical Environment and Soils Local Study Area Aquatics RSA Air Quality RSA Noise RSA Wetlands RSA Vegetation RSA Wildlife and Wildlife Habitat RSA Human Occupancy and Resource Use RSA F97 WHITECAP BOUNDARY LAKE 082208414 W6M Whitecap Resources Inc Well Facility F98 WHITECAP BOUNDARY LAKE 082308414 W6M Whitecap Resources Inc Well Facility F99 WHITECAP BOUNDARY LAKE 101408514 W6M Whitecap Resources Inc Well Facility F100 WHITECAP BOUNDARY LAKE 111108514 W6M Whitecap Resources Inc Well Facility F101 WHITECAP BOUNDARY LAKE 122008413 W6M Whitecap Resources Inc Well Facility F102 WHITECAP BOUNDARY LAKE 131108514 W6M Whitecap Resources Inc Oil Sales Meter British Columbia F103 WHITECAP', 'TABLE 1 POTENTIAL ACCESS MANAGEMENT MEASURES Type of Measure Specifications Comments Type of Measure Specifications Comments Gates and fencing Gates or fencing can be placed at the start of new permanent roads to restrict unauthorized motorized access Gates and fencing should be extended across the rightofway to prevent motorized vehicles from circumnavigating the barrier Gates allow access by authorized individuals for operations and maintenance Signage may be implemented in conjunction with gates to explain the purpose of access restrictions Signs Signs may be installed at potential access points to explain why motorized access is being managed in the area as well as why the restrictions are in place Road deactivation Road deactivation involves ripping the roadbed removal of stream crossing structures recontouring cut and fill slopes and reestablishing', 'Table 53 Maximum Predicted GroundLevel Concentrations of CACs H2S Benzene and Mercaptans Application Case Substance Averaging Period Maximum Predicted Ground Level Concentration gm3 Ambient Background Concentration gm3 Maximum Predicted Ground Level Concentration Including Background gm3 TSP 24hour 32 526 558 TSP Annual 01 134 135 PM10 24hour 32 276 308 PM25 24hour 30 174 204 PM25 Annual 01 79 80 CO 1hour 1860 03 1863 CO 8hour 1230 02 1232 H2S 1hour 1 07 14 21 H2S 24hour 03 14 17 H2S Annual 0002 05 05 Benzene 1hour 1 102 102 Benzene 24hour 32 16 48 Benzene Annual 01 07 08 Mercaptans 10minute 2 08 08 Mercaptans 1hour 1 05 05 Mercaptans 24hour 02 02 Mercaptans Annual 0002 0002 NOTES 1 Per the AEP AQMG ESRD 2013 the', 'TABLE 3111 PARKS AND PROTECTED AREAS IN THE ALBERTA HUMAN OCCUPANCY AND RESOURCE USE REGIONAL STUDY AREA Approximate Location Name Designation Legal Location SKP Location Name Designation SE 19429 W4M 71 km northwest of SKP 1845 Fish Lake County Park County Park NW 6416 W4M 18 km southwest of SKP 2170 Shorncliffe Lake District Park District Park SE 26406 W4M 124 km northeast of SKP 2254 Wainwright Dunes Ecological Reserve Ecological Reserve NW 31394 W4M 141 km southwest of SKP 2399 Captain Ayre Lake District Park District Park')\n"
          ],
          "name": "stdout"
        },
        {
          "output_type": "stream",
          "text": [
            "\r59it [01:34,  1.57s/it]"
          ],
          "name": "stderr"
        },
        {
          "output_type": "stream",
          "text": [
            "('Table 598 Yellow Rail Plots and Observations by Habitat Type in the Terrestrial Local Study Area Habitat Groupa Code Number of Plots Number of Plots with Detectionsb Disturbed linear DisL 6 0 Disturbed nonlinear DisNL 3 0', 'Table 353 Estimated Maximum Potential Labour Pool Available for ProjectRelated Work in the Deh Cho Region Indicator 20062007 20072008 20082009 20092010 Average Total unemployed persons No 561 594 603 599 589 Will do rotational work 82 86 82 81 83 Total unemployed persons adjusted for rotational work No 462 510 496 483 488 NOTE Percentages have been rounded to the nearest whole number and the adjusted number of unemployed persons might not add up because of rounding ', 'Table A2 Inspection Site Soil Horizon Data White Area of the Parallel to Existing Linear Disturbances Site ID Layer No Layer Type Horizon Upper Depth cm Lower Depth cm Colour Coarse Fragments Structure Grade Structure Class Structure Kind Consistence Field Texture MRJH14232 1 Topsoil Ap 0 20 10YR 33 Weak Medium Granular Friable Sandy loam MRJH14232 2 Topsoil Ae 20 40 25Y 64 1 Weak Coarse Platy Friable Loamy sand MRJH14232 3 Upper Subsoil Bt 40 65 25Y 44 Moderate Medium Subangular blocky Firm Clay loam MRJH14232 4 Lower Subsoil BC 65 120 25Y 43 1 Massive Firm Clay loam MRJH14233 1 Topsoil Ap 0 13 10YR 43 1 Moderate Medium Granular Friable Loam MRJH14233 2 Upper Subsoil Bt 13 30 25Y 44 Moderate Medium Subangular blocky Firm', 'Table 6141 Soil Map Units within the Didsbury Compressor Station Unit Addition Local Study Area SMU Dominant Soil Series CoDominant Soils Significant Soils Parent Material Baseline Area Footprint Area SMU Dominant Soil Series CoDominant Soils Significant Soils Parent Material ha ha ATLP1 Antler Lonepine TILLSoftrock and Coarse non SalineSodic GlaciolacustrineTILL 11 88 7 52 Disturbance Road 1 6 1 1 ROW 1 1 1 1 DevelopedCleared 1 4 1 1 Total 13 100 7 53')\n"
          ],
          "name": "stdout"
        },
        {
          "output_type": "stream",
          "text": [
            "\r60it [01:36,  1.52s/it]"
          ],
          "name": "stderr"
        },
        {
          "output_type": "stream",
          "text": [
            "('Table 212 Measurable Parameters Change in Air Quality Measurable Parameter Rationale for Selection Carbon monoxide CO Projectrelated CO emissions will result from incomplete combustion of fuel mainly from vehicles and construction equipment as well as operation of pump stations A product of incomplete combustion carbon monoxide CO sources include fossil fuel combustion eg motor vehicles industrial processes and natural sources eg forest fires The typical CO concentration in the atmosphere is 120 gm3 while the minimum level known to produce cardiovascular symptoms in people who smoke is about 35000 gm3', 'TABLE 6222 POTENTIAL EFFECTS MITIGATION MEASURES AND POTENTIAL RESIDUAL EFFECTS OF PIPELINE CONSTRUCTION AND OPERATION ON SOIL AND SOIL PRODUCTIVITY Potential Effect Location Spatial Boundary1 Key Measures EPP Reference2 Potential Residual Effects 13 Flooding erosion or contamination of soil as a result of release of hydrostatic test water on land Discharge locations LSA Ensure that the appropriate testing and treatment measures are implemented in accordance with the applicable provincial notificationapproval if test water is released into a natural waterbody If hydrostatic test water is to be discharged onto land obtain soil chemistry analysis if required by the applicable provincial notificationapproval prior to discharging Section 75 Follow all conditions of provincial and federal approvals if applicable during hydrostatic testing Ensure that water withdrawal rates and volumes do not exceed', 'Table 4 TLRU Information and Mitigation Frog Lake First Nation Traditional Land and Resource Use Information Location Relative to Project Development Area Relevant Consolidated ESA Documents Context from the Consolidated ESA Frog Lake First Nation Mitigation Recommendations3 Consolidated ESAEPP Mitigation Measures temporary or permanent loss of habitation sites or their use temporary or permanent loss of cultural or spiritual practices or sites In the Consolidated ESA Project effects on the biophysical and socioeconomic environment were assessed under the following valued components vegetation and wetlands wildlife and wildlife habitat and human occupancy and resource use In the vegetation and wetlands assessment Project effects on traditional use plants are indirectly assessed through consideration of change in native vegetation communities and loss or disturbance of wetlands The presence and abundance of', 'Table A4 ELC Communties in the Ontario East LSA and PDA Project Component Community Series Area of LSA ha Percent of LSA Area of PDA ha Percent of PDA Alexandria Agricultural 1954 061 676 104 Alexandria Anthropogenic 356 011 000 Alexandria Cultural Thicket 387 012 216 033 Alexandria Cultural Woodland 079 002 000 Alexandria Total 2777 086 892 137 Iroquois Agricultural 790 025 322 049 Iroquois Anthropogenic 671 021 128 020 Iroquois Coniferous Forest 089 003 056 009 Iroquois Cultural Meadow 168 005 001 000 Iroquois Cultural Thicket 109 003 039 006 Iroquois Cultural Woodland 206 006 024 004 Iroquois Deciduous Forest 438 014 156 024 Iroquois Deciduous Swamp 1013 031 298 046 Iroquois Mixed Forest 019 001 Iroquois Mixed Swamp 031 001 Iroquois Thicket Swamp 089 003')\n"
          ],
          "name": "stdout"
        },
        {
          "output_type": "stream",
          "text": [
            "\r61it [01:37,  1.51s/it]"
          ],
          "name": "stderr"
        },
        {
          "output_type": "stream",
          "text": [
            "('TABLE D1 WILDLIFE SPECIES OBSERVED DURING THE 2013 AND 2014 WILDLIFE FIELD WORK ALONG THE PROPOSED LINE 3 CONSTRUCTION RIGHTOFWAY IN ALBERTA Common Name Scientific Name Signs Used to Identify Species Federal Conservation Status1 Provincial Conservation Status loggerhead shrike Lanius ludovicianus visual Threatened Schedule 1 of SARA and COSEWIC S3 T2 Sensitive3 Special Concern4 longbilled curlew Numenius americanus auditory visual Special Concern Schedule 1 of SARAand COSEWIC S32Sensitive3 Special Concern4 magnolia warbler Dendroica magnolia auditory mallard Anas platyrhynchos auditory visual marbled godwit Limosa fedoa auditory marsh wren Cistothorus palustris auditory merlin Falco columbarius visual mountain bluebird Sialia currucoides auditory visual mourning dove Zenaida macroura visual auditory Nelsons sharptailed sparrow Ammodramus nelsoni auditory northern flicker Colaptes auratus auditory visual northern harrier Circus cyaneus visual Sensitive3 northern pintail Anas acuta', 'TABLE 48 POTENTIAL EFFECTS AND MITIGATION MEASURES ASSOCIATED WITH TRANSPORTATION INFRASTRUCTURE Socio Economic Element Potential Effect Pipeline Loop Project Boundary Project Phase Mitigation Measures Transportation of workers supplies and equipment increased traffic volumes All pipeline loops RSA Construction Provide parking at marshalling areas for workers Implement measures outlined in the Traffic Control Management Plan to reduce traffic effects on highways Appendix 8F of the ESA Follow applicable traffic roaduse and safety laws and abide by provincial and local speed limits Enforce speed limits along access and rightsofway Coordinate with local authorities to address any law enforcement or public safety concerns Transport workers by bus between campsites and work sites daily Provide local officials with the construction schedule and continue to engage with officials in the area to determine', 'Table A9 Spring and Summer Vascular Plants Identified during Field Surveys in Ontario East O Overall Spring Summer Incidenta Scientific Name Common Name Coefficient Of Conservatism Wetness Index Weediness Index Provincial Status Omnr Status Cosewic Status Global Status Author x x Spiraea tomentosa Tomentose Meadowsweet 5 3 S4S5 G5 L x x x Rubiaceae Madder Family x x x Galium aparine Cleavers 4 3 S5 G5 L x x x Galium asprellum Rough Bedstraw 6 5 S5 G5 Michx x x x Galium mollugo White Bedstraw 5 2 SE5 G L x x x Galium palustre Marsh Bedstraw 5 5 S5 G5 L x x x Galium trifidum ssp trifidum Small Bedstraw 5 4 S5 G5T L x x x Galium triflorum Sweetscented Bedstraw 4 2 S5 G5', 'Table A5 RSA Areas and Corresponding Ratios to the BC MOE Kyklo Creek Section Area Project Section Area km2 Ratio to BC MOE Kyklo Creek Section Area Kyklo Creek Section RSA 2377 099 Timberwolf Section RSA 3184 133 Cranberry Section RSA 2473 103')\n"
          ],
          "name": "stdout"
        },
        {
          "output_type": "stream",
          "text": [
            "\r62it [01:39,  1.58s/it]"
          ],
          "name": "stderr"
        },
        {
          "output_type": "stream",
          "text": [
            "('Table 1711 Previous Historic Resources Impact Assessments in Portions of the Historical Resources Regional Study Area Permit Number Project Proponent Project Project Relationship Relationship of HRIA to HRLSA 01305 Rio Alto Explorations Limited Wildhay North Lateral Pipeline Assessment of adjacent line Overlap not tested 02149 Alliance Pipeline Wapiti Lateral Loop Assessment of adjacent line Overlap not tested 02286 Alberta Newsprint Company Whitecourt area forestry cut blocks No direct relationship Overlap not tested 03149 CanFor No direct relationship Shovel tests 9 1 positive GdQo5 identified 03228 CanFor 20032004 timber harvest blocks forestry access roads No direct relationship No overlap 03299 Alberta Newsprint Company 2004 Annual Operating Plan AOP Compartments W102 807809 and 129 No direct relationship Overlap not tested 04254 Weyerhaeuser Canada Ltd Edson FMA 2004 Harvesting Program No', 'Table 813 Topographic Class Descriptions Slope Definition 01 Level 15 Very gentle slopes 610 Gentle slopes 1115 Moderate slopes 1625 Strong slopes 2645 Steep slopes 4660 Very steep slopes 61 Extreme slopes', 'Table A1 SOMC and SAR in the LSA and RSA Ontario Segments Species SOMC Status SAR Status Potential Occurrence in the LSA and RSA Common name Scientific name COSEWICStatus Ontario Status SARA Status Legal Protection under Ontario Endangered Species Act Potential Occurrence in the LSA and RSA Unnamed Tributary to McIntosh Drain Ontario East Segment RSA Unnamed Tributary to Raisin River DNOTES 1Federal Recovery Strategy Action Plan or Management Plan available 2Provincial Recovery Plan or Recovery Strategy available 3 COSSARO and OESA have designated the Northwestern Ontario population as threatened overall but have designated subpopulations separately COSSARO has designated the Winnipeg River English River subpopulation as endangered and the Lake of the Woods Rainy River subpopulation as special concern 4 TBD indicates to be determined following consultation with', 'Table 514 Environmental Effects Assessment Matrix for Atmospheric Environment Environmental Effects Assessment Matrix Valued Environmental Component ATMOSPHERIC ENVIRONMENT Phase Construction Project Activities and Physical Works See Table 311 for list of specific activities and works Potential Environmental Effects AAdverse PPositive Mitigation Magnitude Geographic Extent DurationFrequency Reversibility EcologicalSocioCultural and Economic Context Site Preparation Change in air quality A Application of dust suppressant Follow equipment maintenance schedules Preserve natural vegetation where practicable Use low sulphur fuel where feasible Minimize activities that generate large quantities of dust during high winds 2 3 22 R 2 Site Preparation Change in sound quality A Noise controls where warranted eg sound barriers Timing restrictions where warranted 2 3 12 R 2')\n"
          ],
          "name": "stdout"
        },
        {
          "output_type": "stream",
          "text": [
            "\r63it [01:40,  1.49s/it]"
          ],
          "name": "stderr"
        },
        {
          "output_type": "stream",
          "text": [
            "('Table 192 Vantage 2010 Cumulative Effects Summary Table POTENTIAL RESIDUAL EFFECT SPATIAL CONTEXT TEMPORAL BOUNDARY PROJECTSACTIVITIES WITH POTENTIAL TO ACT CUMULATIVELY WITH THE PROJECT PREDICTED CUMULATIVE EFFECT SIGNIFICANCE OF FINDINGS RATIONALE Atmospheric Environment Reduction in air quality LSA Construction Keystone XL Pipeline construction Temporary localized increased emissions Not significant Unlikely that construction for both projects will overlap in both time and space Reduction in air quality RSA Operations Adjacent oil and gas facilities Localized increased emissions Not significant No emissions during normal operations Reduction of air quality RSA Operations Hess Plant at Tioga North Dakota and the Nova Chemical Plant at Joffre Alberta Increased emissions Not significant Emissions are expected to be within permissible levels Reduction of air quality due to accidents malfunctions or unplanned events RSA Accidents', 'TABLE 32 CONSULTATION ACTIVITIES WITH PROVINCIAL AGENCIES Stakeholder Group Agency Name Name and Title of Contact Method of Engagement Date of Consultation Activity Reason for Engagement Consultation Outcomes Issues Concerns Commitments Followup Actions Where Issue Addressed in ESA RM of South Cypress No 187 Rick Klippenstein Administrator Letter sent October 27 2006 Request for project concerns Waiting on response NA NA NA GlenboroSouth Cypress Dan McPherson Town Planner Telephone conversation Email sent November 30 2006 December 6 2006 Request for waste disposal information Recommended directing waste to facilities in Brandon Referred to dropoff station run by Municipal Waste Management from Souris NA NA NA RM of Thompson No 190 Diane Chatwin Administrator Letter sent October 27 2006 Request for project concerns Waiting on response NA NA NA RM', 'Table 1 Commercial Communal Licences Issued by DFO Maritimes Region for Indigenous Communities Indigenous Group Species Fished Licence Area Description Lobster LFA 28 29 Mackerel Unspecified Shrimp Pandalus Borealis Shrimp Fishing Areas Louisbourg Hole 1 Misaine Hole 14 Canso Hole 15 FORT FOLLY FIRST NATION Groundfish Unspecified NAFO 4VN 4VS 4W 4X 5Y 5ZE Lobster LFA 35 Sea Scallop SFA Bay of Fundy 28B 28C Swordfish NAFO 3L 3M 3N 3O 3PS 4VN 4VS 4W 4X 5ZE Tuna Restricted NAFO 3L 3M 3N 3O 3PS 4VN 4VS 4W 4X 5ZE GLOOSCAP FIRST NATION Groundfish Unspecified NAFO 4X 5Y 4VN 4VS 4W 4X 5Y 5ZE Lobster LFA 34 Mackerel MFA 17 18 19 20 21 Marine Worm Marine Worm Harvest Area 1 Swordfish NAFO 3L 3M 3N 3O 3PS', 'Table 4C1 Surface Water Chemistry Data at Watercourse Crossings New Brunswick Segment Sample ID NB48100 NB48102 NB48202 NB48300 NB48302 NB48400 Date Sampled 20130825 20140604 20140807 20140618 20150612 20131023 Parameter Units Sodium gL 1340 2240 2810 1840 1730 2790 Potassium gL 107 100 100 100 100 183 Calcium gL 1130 2430 1580 1650 802 2260 Magnesium gL 239 424 333 320 224 459 Alkalinity mgL 6 7 6 5 5 5 Chloride mgL 3 2 2 3 3 4 Sulfate mgL 2 2 2 2 2 2 Reactive silica mgL 34 37 46 12 34 51 Orthophosphate P mgL 001 001 001 001 001 001 NitrateNitrite mgL 021 005 007 005 005 008 Ammonia Nitrogen mgL 009 011 01 006 023 041 Colour TCU 16 11 7 16 100')\n"
          ],
          "name": "stdout"
        },
        {
          "output_type": "stream",
          "text": [
            "\r64it [01:42,  1.52s/it]"
          ],
          "name": "stderr"
        },
        {
          "output_type": "stream",
          "text": [
            "('TABLE 211 SUMMARY OF CONSULTATION AND ENGAGEMENT ACTIVITIES RELATED TO SOCIOECONOMICS Stakeholder Group Agency Name Name and Title of Contact Methods of Contact Date Range of Consultation Activities Reason For Engagement IssuesInterestsConcerns CommitmentsFollowUp ActionsComments City of Edmonton Simon Farbrother City Manager Gord Jackson Director Policy Section Sustainable Development Department Email October 18 2012 Given feedback from certain communities the socioeconomic team postponed meetings in the area until a better understanding of routing has been reached None identified No followup required Given the level of broader Project engagement with the City of Edmonton and feedback from the city the socioeconomic team did not meet with the city Municipality of Jasper Peter Waterworth CAO Cathy Jenkins Manager Municipal and Realty Services Parks Canada B Christopher Read Inspiration Manager Recreation Don', 'Table A141 Resource Specific Mitigation Measures Resource Feature Map Code FromRoWm UTMNorthing UTMEasting UTMZone KP AlignSheet Timing Windows Setbacks Restrictions Existing HumanActivity or Featureswithin Setback Mitigation Measures Followup Comments Archaeology contd Historical PaleontologicalResource EjOp 21 NA 5709806 531964 12U Radius of 50m NA SiteEjOp 21Avoid site by specified distance Historical PaleontologicalResource EjOp 16 NA 5708079 532021 12U Radius of 50m NA SiteEjOp 16Avoid site by specified distance Historical PaleontologicalResource Hills 1 SDMarker NA 5674166 533600 12U Radius of 50m NA SiteHills 1 SD MarkerAvoid site by specified distance Historical PaleontologicalResource EgOp 10 NA 5667973 533388 12U Radius of 50m NA SiteEgOp 10Avoid site by specified distance Historical PaleontologicalResource EgOp 12 NA 5661608 533744 12U Radius of 50m NA SiteEgOp 12Avoid site by specified distance Historical PaleontologicalResource EgOp 14', 'Table 127 Potential Environmental Effects on Bald Eagle This table identifies the potential environmental effects on Bald Eagle that are assessed in this section of the ESA Each of these environmental effects is discussed in more detail later in this section Recommendations for mitigation and if required followup and monitoring are also provided With the implementation of these mitigation measures where appropriate the Project is not likely to cause significant adverse environmental effects on marine birds due to effects on Bald Eagle Project Activities and Physical Works Key Environmental Effects on Bald Eagle Relevance to the Assessment Considered in the ESA Kitimat Terminal Construction Inwater infrastructure site preparation dredging blasting pile drilling Sensory disturbance Avoidance or stress to birds in area Onshore infrastructure site preparation clearing burning grading', 'Table 11 Pump Stations in Northern Ontario Pump Station Name Latitude Longitude Area ha Kenora 49 47 27N 94 29 51W 99 Machin1formerly Vermillion Bay 49 49 55N 93 46 17W 99 Dryden 49 48 32N 92 52 35W 99 Ignace 49 33 2N 92 10 43W 99 Martin2 49 20 10N 91 26 55W 159 Upsala2 49 3 5N 90 41 14W 159 Dog River2 48 56 17N 89 46 47W 159 Eagle Head2 49 5 4N 88 44 17W 159 Nipigon 49 17 37N 88 6 37W 99 Jellicoe 49 40 14N 87 39 48W 99 Geraldton2 49 47 34N 86 49 38W 159 Klotz Lake2 49 47 36N 85 51 3W 159 Hearst2 49 45 47N 84 55 28W 159 Calstock 49 44 51N 84')\n"
          ],
          "name": "stdout"
        },
        {
          "output_type": "stream",
          "text": [
            "\r65it [01:44,  1.56s/it]"
          ],
          "name": "stderr"
        },
        {
          "output_type": "stream",
          "text": [
            "('Table B6 Critical Breeding Season for Raptor Species Ontario Species Critical Breeding Season Northern harrier Broadwinged hawk Coopers hawk American kestrel Merlin Sharpshinned hawk Boreal owl April 1 to July 31 Turkey vulture May 1 to August 31 SOURCE OMNR 2010 ', 'Table 1031 Effects on Bird Habitat Availability Parsons Lake Pathway Phase When Impact Occurs Effect Attribute Pathway Phase When Impact Occurs Direction Magnitude Geographic Extent Duration Vegetation clearing Construction Adverse Low Local Long term Vegetation clearing Operations Adverse Low Local Long term Vegetation clearing Decommissioning and abandonment Adverse Positive1 Low Local Long term Sensory disturbance Construction Adverse Low Local Medium term Sensory disturbance Operations Adverse Low Local Long term Sensory disturbance Decommissioning and abandonment Adverse Low Local Short term Altered human and predator access Construction Adverse Low Local Long term Altered human and predator access Operations Adverse Low Local Long term Altered human and predator access Decommissioning and abandonment Adverse Low Local Short term Change in vegetation health Construction Adverse Low Local Long term Change in vegetation health', 'TABLE 5136 SUMMARY OF STREAMFLOWS FROM HYDROMETRIC MONITORING STATIONS NEAR THE LINE 3 REPLACEMENT PIPELINE ROUTE IN SASKATCHEWAN Watercourse Name Station Name Station Number Years of Stream Flow Record Maximum Daily Discharge ms Gross Drainage Area km Cottonwood Creek Cottonwood Creek near Lumsden 05JF011 1974 to 2013 598 on April 12 2011 615 Eagle Creek Eagle Creek near Anglia 05GC002 1923 to 1992 577 on February 29 1992 5730 Eyehill Creek Eyehill Creek near Macklin 05GA007 1966 to 1994 110 on March 28 1994 10100 Iskwao Creek Iskwao Creek near Craik 05JG014 1972 to 1992 174 on March 4 1992 361 MacDonald Creek MacDonald Creek near Bounty 05HF005 1966 to 1992 179 on March 8 1990 2550 Wascana Creek Wascana Creek below Kronau Marsh 05JF012 1974 to 1992', 'TABLE 833 SOLID WASTE LIQUID WASTE AND WATER INFRASTRUCTURE FOR CORRIDOR COMMUNITIES IN THE RURAL ALBERTA REGION Community Solid Waste Infrastructure Operator Information on Solid Waste Materials Liquid Waste Sewage Treatment System Water Source and Delivery System Town of Edson Edson Landfill Capacity approximately 25 years Class III Landfill Most sewage runs south to a main trunk on the south side of the CN tracks or to the north side of the tracks and on to the sanitary lagoon site Groundwater in aquifers pumped into storage tanks adjacent to Grande Prairie Trail Town of Edson Tower Road Landfill Tervita Class II Landfill Most sewage runs south to a main trunk on the south side of the CN tracks or to the north side of the tracks and on')\n"
          ],
          "name": "stdout"
        },
        {
          "output_type": "stream",
          "text": [
            "\r66it [01:45,  1.52s/it]"
          ],
          "name": "stderr"
        },
        {
          "output_type": "stream",
          "text": [
            "('Table 919 Effects on Vegetation Abundance and Distribution Taglu Pathway Vegetation and Valued Components Phase When Impact Occurs Effect Attribute Pathway Vegetation and Valued Components Phase When Impact Occurs Direction Magnitude Geographic Extent Duration Vegetation loss or alteration Vegetation types Construction Adverse Low Local Long term Vegetation loss or alteration Vegetation types Operations Adverse Low Local Long term Vegetation loss or alteration Vegetation types Decommissioning Adverse Low Local Long term Vegetation loss or alteration Vegetation communities of concern Construction Neutral No effect NA NA Vegetation loss or alteration Vegetation communities of concern Operations Neutral No effect NA NA Vegetation loss or alteration Vegetation communities of concern Decommissioning Neutral No effect NA NA Vegetation loss or alteration Rare plants Construction Neutral No effect NA NA Vegetation loss or alteration', 'Table 413 Low Frequency Noise Assessment Beiseker Compressor Station Unit Addition Receptor Project dBC Project dBA LFN Indicator dBC minus dBA Potential LFN Condition YN1 R01 62 305 315 Y R02 643 326 317 Y R03 643 327 316 Y R04 644 329 315 Y', 'TABLE 6271 LAND USE PLANS AND FISHRELATED OBJECTIVES ALONG THE LINE 3 REPLACEMENT PIPELINE ROUTE Plan Objectives Alberta There are no local land use plans with fish and fish habitat related objectives in place along the replacement pipeline route in Alberta Saskatchewan Rural Municipality of Dufferin No 190 Development Plan Bylaw No 102006 Rural Municipality of Dufferin No 190 2006 In considering any new lakeshore development within municipal jurisdiction Council will consider the effects of such a development on the fishery resources of the affected lakes Rural Municipality of Edenwold No 158 OCP Bylaw 201010 Rural Municipality of Edenwold No 158 2010 Developments will be encouraged to ensure waterways waterbodies shoreland areas and groundwater resources are sustained Buffer strips should be maintained adjacent to watercourses and waterbodies to', 'Table 627 Big Lake T01 Water Quality Metals and Organic Compounds Parameter Units August 20 2002 Dissolved Metals contd Lithium mgL 0006 Manganese mgL 0001 Mercury mgL 00001 Molybdenum mgL 0001 Nickel mgL 00008 Selenium mgL 00007 Silver mgL 00002 Strontium2 mgL 02 Thallium mgL 000005 Titanium mgL 00003 Uranium mgL 00004 Vanadium mgL 00005 Zinc mgL 0003 Organic Compounds Phenol mgL 0001 NOTES C concentration higher than the relevant chronic aquatic life guideline value W concentration higher than the relevant drinking water guideline value DC analytical detection limit is higher than the relevant chronic aquatic life guideline value C 1 Ultralow metal analysis was conducted on total mercury and silver The same level of precision is not available for the dissolved mercury and silver analysis 2 The')\n"
          ],
          "name": "stdout"
        },
        {
          "output_type": "stream",
          "text": [
            "\r67it [01:46,  1.47s/it]"
          ],
          "name": "stderr"
        },
        {
          "output_type": "stream",
          "text": [
            "('Table 9 TLRU Information and Mitigation Seine River First Nation Traditional Land and Resource Use Information Location Relative to Project Development Area Relevant Consolidated ESA Documents Context from the Consolidated ESA Seine River First Nation Mitigation Recommendations2 Consolidated ESAEPP Mitigation Measures Ensure that ice bridges or snowfills do not interfere with or impede winter flows Conduct all hydrostatic testing activities in accordance with the NEB Onshore Pipeline Regulations provincial regulations as well as the latest version of CSA Z662 Leave gaps in windrows at obvious drainages on sidehill terrain and wherever seepage occurs to reduce interference with natural drainage patterns Runoff from the Project site access roads shall be directed into stable areas preferably vegetated in a controlled manner Approval is required from the Crown and lessee on', 'Table C1 Watercourses Crossed by the Proposed Pipeline that Support Fish and Fish Habitat Stantec Watercourse Crossing ID KP Watercourse Name UTM Watercourse Classification COP Class 2 Restricted Activity Period Channel Width at Crossing m Potential Fish Habitat yesno Beaver Impoundment in Vicinity of the Crossing Fall 2014 Fish Species Captured or Observed Previously Documented 34 Planned Pipeline Crossing Method Contingency Pipeline Crossing Method Planned Vehicle Equipment Crossing Method Frozen Planned Vehicle Equipment Crossing Method Open Water Serious Harm Determination Results 5 Navigability Results QAES Recommendations Stantec Watercourse Crossing ID KP Watercourse Name Zone Easting Northing AESRD Approvals Standard1 COP Class 2 Restricted Activity Period Channel Width at Crossing m Potential Fish Habitat yesno Beaver Impoundment in Vicinity of the Crossing Fall 2014 Fish Species Captured or Observed', 'Table 99 Recommended Mitigation for Wildlife and Wildlife Habitat Construction Wildlife Group Key Mitigation Pipeline RoW Pump Stations Hardisty D Tank Terminal Burstall Pressure Control Station All Groups Undertake seasonally appropriate surveys to identify key habitat and habitat features eg wetlands burrows nests of SOMC before undertaking construction When developing mitigation for each identified SOMC habitat feature for the EPP apply recommended setback distances and seasonal timing windows unless otherwise approved by regulators In instances where there are both provincial and federal guidelines Where possible follow the maximum timing window when the recommended provincial and federal guidelines are combined Where possible follow the maximum recommended setback distance ie federal guidelines Monitor the open trench for trapped wildlife before the daily start of construction or prior to resuming work', 'Table 32 Project Operation Noise Source Equipment Sound Power Level dB in Octave Band Centre Frequency Hz Overall dBA Notes Equipment 315 63 125 250 500 1000 2000 4000 8000 Overall dBA Notes 50 HP tank mixer motor 84 84 87 89 92 92 91 86 78 97 24 30 HP sump pump motor 83 83 85 87 89 90 89 84 77 95 2 Lateral inlet PCV Moosomin only 90 92 89 92 91 94 94 75 67 98 2 Mainline inlet PCV 91 93 90 93 92 95 95 76 68 99 2 VFD heat exchanger 92 10 101 99 104 96 92 88 79 103 24 Electrical and MCC wallsroof 101 100 99 93 84 73 63 53 44 88 24 Electrical and MCC HVAC')\n"
          ],
          "name": "stdout"
        },
        {
          "output_type": "stream",
          "text": [
            "\r68it [01:48,  1.41s/it]"
          ],
          "name": "stderr"
        },
        {
          "output_type": "stream",
          "text": [
            "('Table 1116 Low Sensitivity Pipeline Watercourse Crossings by Major Drainage Major Drainage Low Sensitivity Watercourses Watercourses Peace River AB 50 Tributary to Bald Mountain Creek Tributary to Big Mountain Creek Tributary to Calahoo Creek 2 Tributary to Crooked Lake Tributary to Gold Creek Tributary to Iosegun Lake 7 Tributary to Latornell River 10 Tributary to Little Smoky River Tributary to Moose River 2 Tributary to Pinto Creek 3 Tributary to Simonette River Tributary to Smoky River 13 Tributary to Stony Creek Tributary to Wapiti River Tributary to Waskahigan River 5 Peace River BC 110 Copper Creek Five Cabin Creek Side Channel Tributary to Angusmac Creek 2 Tributary to Beaver Lake Dam Tributary to Caine Creek 2 Tributary to Chuchinka Creek 13 Tributary to Copper Creek Tributary to Flatbed', 'Table 10C13 Baseline Water Quality Conditions for Metal Parameters in the Coastal Mountains Hydrological Zone Parameter Units Kitimat River Basin Parameter Units Unnamed Kitimat River Tributary Chist Creek Cecil Creek Trout Creek Anderson Creek Moore Creek Parameter Units Crossing 3197 Crossing 1222 Crossing 1223 Crossing 3130 Crossing 1274 Crossing 3141 Parameter Units MWLAP E256659 MWLAP E256660 E256662 MWLAP E239479 MWLAP E256654 AMEC Water Quality Baseline MWLAP E216322 AMEC Water Quality Baseline Parameter Units 17Aug04 2004 2005 01Nov99 17Aug04 1995 2005 03Oct05 Parameter Units n Result n Result n Result n Result n Result n Result Dissolved Metals Aluminum Al gL ppb 1 240 3 5 3 47 1 94 Antimony Sb gL ppb 1 50 3 01 1 01 Arsenic As gL ppb 1 50 3 01 1', 'Table 546 Residual Environmental Effects Summary Matrix for Vegetation Construction NS 3 3 3 Operation and Maintenance NS 3 3 3 Accidents Malfunctions and Unplanned Events NS 3 1 3', 'Table 712 Potential Use of Site N03 Unnamed Lake Species Overwintering1 Spawning and Incubating Rearing Adult Feeding and Holding Northern pike Whitefish species Longnose sucker NOTES potential use of the waterbody habitat no potential use of the waterbody habitat 1 Fish remaining in the lake unlikely to survive through the winter Of the species and species groups listed none have been confirmed in the lake in this study ')\n"
          ],
          "name": "stdout"
        },
        {
          "output_type": "stream",
          "text": [
            "\r69it [01:49,  1.43s/it]"
          ],
          "name": "stderr"
        },
        {
          "output_type": "stream",
          "text": [
            "('Table 32 Continuous Ambient Air Quality Monitoring Stations Used in the Baseline Ambient Air Quality Analysis Station Name Fort Nelson Brucker Ranch a Fort Nelson Chalo School a Henry Pirker b Latitude 5834N 5844N 5506N Longitude 12235W 12239W 11828W Elevation m ASL 518 380 655 Location UTM Zone 10 NAD83 mE 523875 519548 405402 Location UTM Zone 10 NAD83 mN 6493112 6512048 6107324 Substances Monitored SO2 PM25 PM10 NO2 CO Data Period January 1 2001 September 31 2005 January 1 2005 December 31 2008 February 1 2004 December 31 2008 NOTES a Source BC MOE 2011a Internet Site b Source CASA 2011 Internet Site ', 'TABLE 201 SUMMARY OF CONSULTATION ACTIVITIES RELATED TO WILDLIFE AND WILDLIFE HABITAT Stakeholder GroupAgency Name Method of Contact Date of Consultation Reason for Engagement FollowUp ActionsComments Joanna Burgar Wildlife Biologist Fort McMurray contd See above See above See above March 6 2015 Email AESRD recommended utilizing and sharing existing access roads using existing disturbed areas and completing construction in as short a period as practical Provided comment on consideration of temporal effects of existing linear disturbance ierecently constructed pipelines versus old pipeline rightsofway Suggested using range of buffers on different disturbances for assessment of cumulative effects Recommended that specific measures be employed to reduce residual effects Christina River Section KCGrant Chapman Lac La Biche Senior Wildlife Biologist endra McNutt Lac La Biche Operations Unit Head hris Waslyck Lac', 'Table 432 Chronic Inhalation Exposure Limits for Nickel ESRD AAQO 005 ESRD 2013 HEALTH CANADA RsC RsC TC TC TC TC 00077 oxidicsulphidicsoluble 0014 soluble 002 oxidic 0018 subsulphide 00035 sulphate 0018 metallic Health Canada 2010 Government of Canada 1994 Metro Vancouver Metro Vancouver 2011 OEHHA RsC REL REL 004 0014 nickel and nickel compounds 002 nickel oxide OEHHA 2013 2012 OEHHA 2009 RIVM TCA 005 RIVM 2001 TCEQ RsC ReV 0059 023 TCEQ 2013 2011 US EPA RsC RsC 004 refinery dust 002 subsulphide US EPA 2013 1991a US EPA 2013 1991b WA DOE WA DOE 2011 WHO RsC 0025 WHO 2000', 'Table D1521 Kettlehut KHAcb and Kettlehut calcareous KHC Soil Units EXTENT METRESPERCENTAGE KHAcb 18844 004 KHC 37436 008 SOIL CLASSIFICATION Brown Solonetz Calcareous Brown Solonetz PARENT MATERIAL Till Glaciolacustrine TEXTURE TOPSOILSUBSOIL Sandy Clay LoamSilty Clay Loam underlain by Clay Loam to Clay TOPOGRAPHYPERCENT SLOPE Undulating 915 to 70100 SURFACE STONINESS 2 DRAINAGE CLASS Moderately Well Drained TOPSOIL DEPTHRELATIONSHIP TO TOPOGRAPHY 5 cmUpper 510 cm Lower SOD QUALITY GOODPOOR Good COLOR TRANSITION TOPSOILSUBSOIL GOODPOOR Good REPRESENTATIVE SITE PROFILE 417 HORIZON DEPTH cm COLOR TEXTURE STRUCTURE CONSISTENCE LH 20 Ah 010 light yellowish brown Sandy Clay Loam Angular Blocky Friable Bnt 1030 yellowish brown Silty Clay Loam Angular BlockyPrismatic Firm BC 3058 light yellowish brown Clay Loam Massive Firm Ck 58100 olive brown Clay LoamClay Massive Firm')\n"
          ],
          "name": "stdout"
        },
        {
          "output_type": "stream",
          "text": [
            "\r70it [01:51,  1.55s/it]"
          ],
          "name": "stderr"
        },
        {
          "output_type": "stream",
          "text": [
            "('Table 320 Listed Invasive and Nonnative Plant Species in the LSA Cromer Lateral Weed Designation12 Scientific Name Common Name Number of Occurrences in the LSA NuisanceSaskatchewan Hordeum jubatum foxtail barley 370 NuisanceSaskatchewan Taraxacum officinale dandelion 132 NuisanceSaskatchewan Agropyron repens quack grass 73 Total Nuisance 575 NoxiousSaskatchewan and Manitoba Arctium minus ssp minus common burdock 12 NoxiousSaskatchewan and Manitoba Artemisia absinthium absinthe 12 NoxiousSaskatchewan and Manitoba Carduus nutans nodding thistle 2 NoxiousSaskatchewan and Manitoba Cirsium arvense Canada thistle 261 NoxiousSaskatchewan and Manitoba Convolvulus arvensis field bindweed 4 NoxiousSaskatchewan and Manitoba Galium aparine cleavers 6 NoxiousSaskatchewan and Manitoba Kochia scoparia kochia 1 NoxiousSaskatchewan and Manitoba Lactuca serriola prickly lettuce 1 NoxiousSaskatchewan and Manitoba Malva rotundifolia roundleaved mallow 1 NoxiousSaskatchewan and Manitoba Sonchus arvensis perennial sowthistle 198 NoxiousSaskatchewan and Manitoba Silene', 'TABLE H1 Summary of Wetland Health Ratings II TemporaryPond fresh W479 Notassessedforhealth II TemporaryPond fresh W480 Notassessedforhealth II TemporaryPond fresh W481 Notassessedforhealth II TemporaryPond fresh W483 Notassessedforhealth II TemporaryPond fresh W511 Notassessedforhealth II TemporaryPond fresh W524 Notassessedforhealth II TemporaryPond fresh W546 Notassessedforhealth II TemporaryPond fresh RW593 Notassessedforhealth II TemporaryPond fresh W596 Notassessedforhealth II TemporaryPond fresh W597 Notassessedforhealth II TemporaryPond fresh W640 Notassessedforhealth II TemporaryPond fresh W642 Notassessedforhealth II TemporaryPond fresh W646 Notassessedforhealth II TemporaryPond fresh RW652 Notassessedforhealth II TemporaryPond fresh W662 Notassessedforhealth II TemporaryPond fresh W730 Notassessedforhealth Disturbedmodifiedwetland II TemporaryPond fresh RW747 Notassessedforhealth II TemporaryPond fresh W761 Notassessedforhealth II TemporaryPond slightlybrackish W1026 Notassessedforhealth III TemporaryPond fresh W1 Unhealthy42 III SeasonalPond ephemeral RW7 Unhealthy46 III SeasonalPond fresh W10 Unhealthy50 III TemporaryPond fresh W12 Unhealthy51 III SeasonalPond fresh W14 Unhealthy54', 'TABLE A33 CONSULTATION ACTIVITIES WITH PROVINCIALMUNICIPAL AUTHORITIES SASKATCHEWAN Stakeholder Group Agency Name Name and Title of Contact Method of Contact Date of Consultation Activity Consultation OutcomeIssuesConcerns Commitments Followup ActionsComments Where Issue Addressed in ESAEPP RM of Willner contd See above Email September 18 2013 Enbridge sent the initial meeting notes to Y Goodsman from the conference call held on September 17 2013 and requested that she review the meeting notes and send any edits and comments by September 20 2013 None NA RM of Willner contd See above Email September 19 2013 Enbridge informed Y Goodsman that the revised meeting notes were received and that the changes were made to the meeting notes None NA RM of Willner contd See above Email December 16 2013 Enbridge advised municipalities', 'TABLE A33 CONSULTATION ACTIVITIES WITH PROVINCIALMUNICIPAL AUTHORITIES SASKATCHEWAN Stakeholder Group Agency Name Name and Title of Contact Method of Contact Date of Consultation Activity Consultation OutcomeIssuesConcerns Commitments Followup ActionsComments Where Issue Addressed in ESAEPP Town of Moosomin Paul Listrom Administrator Phone September 6 2013 Enbridge conducted a socioeconomic technical discussion None NA Town of Moosomin Paul Listrom Administrator Email September 23 2013 Enbridge provided the meeting notes from the socioeconomic technical discussion on September 6 2013 Enbridge requested P Listrom review the notes and make any edits to the information or add any concerns Enbridge requested that P Listrom provide contact information for any fishing hunting and wildlife associations and organizations that should be contacted in relation to the Project None NA Town of Moosomin Paul Listrom Administrator')\n"
          ],
          "name": "stdout"
        },
        {
          "output_type": "stream",
          "text": [
            "\r71it [01:53,  1.71s/it]"
          ],
          "name": "stderr"
        },
        {
          "output_type": "stream",
          "text": [
            "('TABLE 51133 PLANT GATHERING SITES IDENTIFIED BY NAKCOWINEWAK NATION OF CANADA Approximate Distance and Direction from Project Description CurrentPast Use Requested Mitigation Project Footprint Concern about forest cover loss Request that alder spruce poplar and willow be avoided where possible 55 km south of RK 1375 Berry picking around Lodgepole Current None 19 km north of RK 145 Medicinal gathering site at Chip Lake Current Past None 593 km north of RK 182 Berry gathering near Whitecourt Current None 754 km south of RK 239 Berry gathering near Elk River Road Current None 680 m south of RK 2593 Medicinal gathering site south of Nojack Current Past None From RK 270 to RK 240 Medicinal plant and berry gathering Current None At RK 305 Medicinal plant gathering Current', 'Table 6B2 Pipeline Crossings Classified as No Visible Channel Ontario East Segment Crossing ID Channel Name Location UTM 18 Crossing ID Channel Name Easting Northing ON0040 Unnamed Tributary to Landon McInnis Municipal Drain 477907 4971497 ON0065 Unnamed Tributary to Zeran Municipal Drain 478786 4972054 ON0117 Unnamed Tributary to Saddlemire Municipal Drain 481082 4973509 ON0150 Unnamed Tributary to Reuben Mattice Municipal Drain 484944 4975626 ON0370 Unnamed Tributary to Raisin River 502839 4986042 ON0380 Unnamed Tributary to Raisin River 502861 4986054 ON0400 Unnamed Tributary to St Lawrence River 503320 4986295 ON0420 Unnamed Tributary to St Lawrence River 503844 4986635 ON0430 Unnamed Tributary to St Lawrence River 504456 4987055 ON0440 Unnamed Tributary to St Lawrence River 504883 4987348 ON0470 Unnamed Pond 508795 4989622 ON0510 Unnamed Tributary to McIntosh Drain 518381 4994794', 'Table 8 TLRU Information and Mitigation Red Rock Indian Band Traditional Land and Resource Use Information Location Relative to Project Development Area Relevant Consolidated ESA Documents Context from the Consolidated ESA Red Rock Indian Band Mitigation Recommendations2 Consolidated ESAEPP Mitigation Measures which poisoned our fish RRIB 2015 Railway and road development including the current construction of the Nipigon River Bridge have added to these effects RRIB attributed higher incidence of cancer and mortality among RRIB members to the effects of industrial development in the area Today we are suffering now from psychological impacts We do not know our future in our homelands and we see no longterm solution RRIB 2015 Cumulative effects were assessed as part of the Consolidated ESA based on whether or not other current or', 'Table C1 Measures to Protect Fish and Fish Habitat when Carrying Out a Dry Opencut Crossing ActivityConcern Measures Timing Complete the crossing in a manner that limits the duration of work in the 1channel Avoid construction during unusually wet rainy or winter thaw conditions to 2reduce likelihood of flows beginning during the crossing Equipment Operate equipment in a manner that limits disturbance to the watercourse bed 3and banks Protect entrances at machinery access points eg using swamp mats and 4establish single site entry and exit 5Machinery is to arrive on site in a clean condition and is to be maintained free of fluid leaks invasive species and noxious weeds 6Wash refuel and service machinery and store fuel and other materials for the machinery away from the watercourse to')\n"
          ],
          "name": "stdout"
        },
        {
          "output_type": "stream",
          "text": [
            "\r72it [01:55,  1.74s/it]"
          ],
          "name": "stderr"
        },
        {
          "output_type": "stream",
          "text": [
            "('Table 31 Land Cover in the Local Study Area Land Cover Class GVI Wetland Code1 GVIWetland Site Type1 LSA PDA Land Cover Class GVI Wetland Code1 GVIWetland Site Type1 Area ha Percent of LSA Area ha Percent of PDA Upland Native Vegetation Community Site Types Upland Native Sb Subirrigated 2597 24 343 19 Upland Native Ov Overflow 1461 13 157 09 Upland Native Cy Clayey 2423 22 541 30 Upland Native Lo Loamy 17487 161 2813 159 Upland Native Sy Sandy 4579 42 651 37 Upland Native Li Limy 4919 45 433 25 Upland Native Sa Sand 19411 179 2892 164 Upland Native BlO Blowouts Solonetzic Order 158 01 20 01 Upland Native CS Choppy Sandhills 2124 20 173 10 Upland Native TB Thin Breaks 1714 16 167', 'Table 481 Acute Inhalation Exposure Limits for Propane Regulatory Agency Type Value gm Reference ATSDR ATSDR 2013 BC MOE BC MOE 2013 ESRD ESRD 2013 Metro Vancouver Metro Vancouver 2011 OEHHA OEHHA 2013 OEHHA 2009 OMOE OMOE 2012 TCEQ TCEQ 2013 US EPA US EPA 2013a WA DOE WA DOE 2011 WHO WHO 2000', 'Table A141 Resource Specific Mitigation Measures Resource Feature Map Code FromRoWm UTMNorthing UTMEasting UTMZone KP AlignSheet Timing Windows Setbacks Restrictions Existing HumanActivity or Featureswithin Setback Mitigation Measures Followup Comments Vegetation contd Vegetation Saskatchewan Section Rare Communities contd Sand Grass NeedleandThread RS2T034 NA 5559949 618088 12 NA NA Sand Grass NeedleandThread RS2T035 NA 5560169 617841 12 NA NA Sand Grass NeedleandThread RS2T037 NA 5560865 6176265 12 NA NA Sand Grass NeedleandThread RS2T038 NA 5561187 616979 12 NA NA Northern wheat grass Western wheat grass RSJ2009 NA 5459953 284587 13 NA NA Greasewood Westernwheat grass RST016 NA 5477839 703687 12 NA NA Western wheat grass pasture sagewort pricklypear grassland RST017 NA 5478266 703315 12 NA NA Silver sagebrush NeedleandThread RST021 NA 5479229 700763 12 NA NA Vegetation Saskatchewan Section Rare', 'TABLE 5 RESULTS OF GROUNDBASED WETLAND ASSESSMENTS ALONG THE NORTHWEST MAINLINE TIMBERWOLF SECTION Wetland Location Legal Location KPT UTM Wetland Classification Subclass and Class Wetland Characteristics Field Observations 1USW 1010712 W6M 88 to 189 TM north 329138E 6462289N treed fen General length of wetland crossed by construction rightofway is 100 m size of fen is regional ie extends greater than 2 km fen extends to west of construction rightofway adjacent to shrubby fen to north Plate 25 Figure 3B 1USW 1010712 W6M 88 to 189 TM north 329138E 6462289N treed fen Function primary function is habitat woody vegetation provides potential habitat for several bird species 1USW 1010712 W6M 88 to 189 TM north 329138E 6462289N treed fen Vegetation dominant tree species black spruce and tamarack dominant shrub species')\n"
          ],
          "name": "stdout"
        },
        {
          "output_type": "stream",
          "text": [
            "\r73it [01:57,  1.73s/it]"
          ],
          "name": "stderr"
        },
        {
          "output_type": "stream",
          "text": [
            "('Table 673 Potential Wildlife and Wildlife Habitat Effects Mitigation and Predicted Residual Effects Key Indicator Key Indicator Interaction Description of Potential Effect Mitigation Predicted Residual Effect Post signs to clearly identify sensitive environmental features to ensure they are protected Do not harass or feed wildlife Do not permit construction personnel to have dogs on the ROW Firearms are not permitted in Project vehicles on the ROW or at associated Project facilities In addition prohibit the recreational use of allterrain vehicles ATVs or snowmobiles by construction personnel on the ROW Report any incidents with wildlife or collisions with wildlife to provincial regulators and the local police detachment if applicable Discourage unauthorized public vehicle access along the ROW during construction through the use of signs In the event of clearing', 'Table 7 Summary of GHG Emissions During Construction Phase Project Activities and Physical Works Total Emission tonnes Percent of Total Phase Project Activities and Physical Works CO2 CH4 N2O CO2e1 Percent of Total GHG Emissions During Construction Offroad construction equipment 10449 06 39 11621 21 GHG Emissions During Construction Onroad construction equipment 875 004 003 886 2 GHG Emissions During Construction Biomass open burning2 26552 49 GHG Emissions During Construction Land clearing residuals 2 15381 28 Total for Construction 54440 100 NOTES 1 Values for CO2e may not exactly match the breakdown to CO2 CH4 and N2O as values are rounded for presentation in this summary table 2 Emission factors are in the form of CO2e therefore a breakdown of CO2 CH4 and N2O emissions is not available ', 'TABLE 8 SOCIOECONOMIC FEATURES ALONG THE ENBRIDGE LINE 3 REPLACEMENT ROUTE SKP1 UTM Coordinates Legal Location Feature ConcernIssue Mitigation 51820 to 51910 13U 361789E 5690724N NW312707 W3M South Saskatchewan Paddling Route Physical disturbance to recreational areas Interference with navigation of watercourses used for recreational activities Refer to the Pipeline EPP for notification requirements timing restrictions and for measures to be implemented during construction 51898 13U 362534E 5690506N SE312707 W3M Trans Canada Trail Physical disturbance to recreational areas Refer to the Pipeline EPP for notification requirements timing restrictions and for measures to be implemented during construction 52780 13U 370187E 5686219N NW132707 W3M Trans Canada Adventure Trail Physical disturbance to recreational areas Refer to the Pipeline EPP for notification requirements timing restrictions and for measures to be implemented during construction', 'TABLE 62 POTENTIAL BIOPHYSICAL AND SOCIOECONOMIC EFFECTS MITIGATIVE MEASURES AND RESIDUAL EFFECTS OF PROJECT CONSTRUCTION AND OPERATION Biophysical or Socio Economic ElementPotential Effect Location Project Boundary Measures Residual Effects 85 Revegetation of disturbed areas contd same as above same as above Revegetate portions of the Footprint on moderate and steep slopes and on areas with moderate to high risk of wind or water erosion with an approved native seed mix and cover crop see Appendix 6A to minimize the potential for erosion by quickly reestablishing a vegetative cover Monitor the effectiveness of revegetation efforts during PCM see Section 80 of the ESA Inspect moderate and steep slopes during regular aerial patrols Undertake remedial work where warranted same as above 86 Weed introduction Entire route Footprint to Local Areas')\n"
          ],
          "name": "stdout"
        },
        {
          "output_type": "stream",
          "text": [
            "\r74it [01:58,  1.64s/it]"
          ],
          "name": "stderr"
        },
        {
          "output_type": "stream",
          "text": [
            "('TABLE L2 WILDLIFE AND WILDLIFE HABITAT ENVIRONMENTAL PROTECTION MEASURES PROPOSED PIPELINE CORRIDOR Concern ProvinceLocation Recommended Mitigation Habitat LossAlteration AlbertaBC Avoid activity during sensitive time periods for wildlife species to the extent feasible Share workspace with the adjacent existing TMPL rightofway or other existing rightsofway where practical to reduce the construction rightofwaywidth Do not clear timber stumps brush or other vegetation beyond the marked construction rightofway boundary Where grading is not required cutmowwalk down shrubs and small diameter deciduous trees at ground level to facilitate rapid regeneration Use natural recovery as the preferred method of reclamation on level terrain and at wetlands unless otherwise requested by the regulator and where bioengineering eg shrub stakingplanting will be conducted Plant native tree seedlings andor shrubs at select locations to be determined', 'TABLE 5213 WILDLIFE TRADITIONAL ECOLOGICAL KNOWLEDGE RECORDED ALONG THE EDMONTON TO HINTON SEGMENT Description Locations IssueConcern Proposed Mitigation MeasuresResponse1 Mineral lick 45 m south of RK 2399 28 m south of RK 2925 34 m southeast of RK 2989 Loss of mineral lick during pipeline construction Implement a 100 m setback in the event a mineral lick is identified Government of Alberta 2013 BC OGC 2013 In the event that shiftingnarrowing the pipeline rightofway is not feasible to maintain the minimum setback from a mineral lick consult with AESRD or BC MFLNRO to discuss practical options and mitigation strategies Maintain the integrity of trails to mineral licks and do not isolate from nearby escape cover eg dense forest BC MWLAP 2004a Avoid activities ie clearing construction helicopter overflights', 'Table 913 Residual Effects on Wildlife and Wildlife Habitat Project Phase Mitigation Residual Effects Characteristics Significance Prediction Confidence Effects1Likelihood of Significant Project Phase Mitigation Direction Magnitude Geographic Extent Duration Frequency Reversibility economic Context Ecological and Socio Significance Prediction Confidence Effects1Likelihood of Significant Monitoring and Followup HARDISTY D TANK TERMINAL including temporary workspace and permanent access road Change in Habitat Availability Construction See Section 94 N M LAA L S R MH N M NA See Section 97 Operation See Section 94 N M LAA L C R MH N M NA See Section 97 Decommissioning and abandonment2 Change in Habitat Connectivity Construction See Section 94 N M LAA L S R MH N M NA See Section 97 Operation See Section 94 N M LAA L C R', 'Table 728 Cumulative Effects and Importance for Wildlife and Wildlife Habitat Moose Furbearers carnivores Negative Low Regional ShortTerm Frequent Possible Low')\n"
          ],
          "name": "stdout"
        },
        {
          "output_type": "stream",
          "text": [
            "\r75it [01:59,  1.56s/it]"
          ],
          "name": "stderr"
        },
        {
          "output_type": "stream",
          "text": [
            "('Table 171 Concordance with the Canadian Environmental Assessment Act 2012 CEAA 2012 ', 'TABLE 510 NAVIGATION CLASSIFICATIONS OF THE POTENTIAL WATERCOURSE CROSSINGS INVESTIGATED IN THE BLACK PINES TO HOPE SEGMENT Classification Total Number Class 1 Nonnavigable 23 Class 2 Nonnavigable 43 Class 3 Nonnavigable 15 Potentially Navigable 14 Navigable 15', 'Table 614 Low Frequency Analysis for Edson Pump Station Location CWeighted Sound Level AWeighted Sound Level Difference dBC dBA dB Potential LFN Condition YN Location CWeighted Sound Level AWeighted Sound Level Difference dBC dBA dB Potential LFN Condition YN Location dBC dBA Difference dBC dBA dB Potential LFN Condition YN EdsonA 51 39 12 No EdsonB 43 34 91 No EdsonC 44 31 133 No EdsonD 52 37 147 No EdsonE 51 36 142 No', 'Table 5411 Observations of Nonnative and Invasive Plant Species in the Terrestrial Local Study Area and Project footprint during 2014 Field Surveys Common Name Scientific Name Rank Plot ID Wetland Map Unitb UTM Eastingc UTM Northing Proximity to Centrelined Observed Within 100 m of the Centrelinee field pennycress Thlaspi arvense Nuisance TYW009 na 654370 6192653 28 m east Yes field pennycress Thlaspi arvense Nuisance TYW018 na 645835 6204632 12 m east Yes field pennycress Thlaspi arvense Nuisance TYW037 Class II 669572 6188423 57 m north Yes field pennycress Thlaspi arvense Nuisance TYW041 Ws14 675493 6188604 1 m north Yes field pennycress Thlaspi arvense Nuisance TYW043 Class II 677650 6188715 25 m north Yes field pennycress Thlaspi arvense Nuisance TYW045 Class V 678146 6188698 13 m south Yes field')\n"
          ],
          "name": "stdout"
        },
        {
          "output_type": "stream",
          "text": [
            "\r76it [02:01,  1.59s/it]"
          ],
          "name": "stderr"
        },
        {
          "output_type": "stream",
          "text": [
            "('TABLE 121 POTENTIALLY AFFECTED ABORIGINAL COMMUNITIES AND PROXIMITY TO NEAREST PROJECT COMPONENT Aboriginal Community Proximity of ReserveSettlement to Nearest Project Component Project Components within asserted Traditional Territory Mtis Settlement General Council Mtis Settlements included in this report are Gift Lake Mtis Settlement Paddle Prairie Mtis Settlement Society and Peavine Mtis Settlement OABBoundary Lake Section ear Canyon Section lces River Unit Addition tter Lake Unit Addition Mikisew Cree First Nation Mikisew Cree First Nation Dog Head IR 218 is located 229 km from the Pelican Lake Section CPelican Lake Section hristina River Section Nakcowinewak Nation of Canada The Town of Hinton is located 58 km from the McLeod River Section McLeod River Section Owl River Mtis Local No 1949 Owl River Mtis Local No 1949 is located approximately 85', 'Table 985 Characterization of the Residual Cumulative Effects of Change in Mortality Risk on Hunted and Trapped Species Land Use Planning Area Additional Proposed Mitigation Compensation Measuresa Residual Environmental Effects Land Use Planning Area Additional Proposed Mitigation Compensation Measuresa Wolverine Ungulates and Magnitude Direction Extent Geographic Duration Frequency Reversibility Significance Potential Measurable Contribution to Regional Cumulative Effects Green Area 8 12 16 19 22 4149 MH A R L C R N 1 Dawson Creek 8 12 16 19 22 4149 LH A R L C R N 1 Prince George 8 12 16 19 22 4149 LH A R L C R N 1 Fort St James 8 12 16 19 22 4149 LH A R L C R N 1 Vanderhoof 8 12 16 19 22', 'Table 11D2 Strategic Alternative Method Summary Watercourse KP Prov Primary Method Primary RMF Sensitivity Rating AltMethod Scale of Negative Effects Alternative RMF Tributary to Iosegun Lake 27229 AB Open Cut Winter Low Risk 46 Isolate Dam and Pump Winter 15 Low Risk Tributary to Iosegun Lake 27254 AB Open Cut Winter Low Risk 66 Isolate Dam and Pump Winter 25 Low Risk Tributary to Iosegun Lake 27441 AB Open Cut Winter Low Risk 51 Isolate Dam and Pump Winter 15 Low Risk Tributary to Iosegun Lake 27506 AB Open Cut Winter Low Risk 60 Isolate Dam and Pump Winter 15 Low Risk Little Smoky River 29104 AB Isolate Super Flume Winter High Risk 121 Open Cut Summer 105 High Risk Waskahigan River 31818 AB Isolate Dam and Pump', 'Table 51 Significance of Effects on Air Quality Key Indicator Phase When Impact Occurs Effect Attribute Significant Key Indicator Phase When Impact Occurs Direction Maximum Magnitude Maximum Geographic Extent Maximum Duration Significant 1hour SO2 Operations Adverse Lowall Local Long term No 24hour SO2 Operations Adverse Lowall Local Long term No Annual SO2 Operations Adverse Lowall Local Long term No 1hour NO2 Operations Adverse Moderateall Local Long term No 24hour NO2 Operations Adverse Moderateall Local Long term No Annual NO2 Operations Adverse Moderate25678 Local Long term No 1hour CO Operations Adverse Moderate128 Local Long term No 8hour CO Operations Adverse Moderate123678 Local Long term No 24hour PM25 Operations Adverse Moderateall Local Long term No 1hour benzene Operations Averse Lowall Local Long term No 1hour BTEX Operations Adverse Lowall Local')\n"
          ],
          "name": "stdout"
        },
        {
          "output_type": "stream",
          "text": [
            "\r77it [02:02,  1.52s/it]"
          ],
          "name": "stderr"
        },
        {
          "output_type": "stream",
          "text": [
            "('Table 918 Area of Vegetation Types Affected Taglu Vegetation Map Label Mapped Vegetation Type LSA Baseline LSA Residual Project Effects Vegetation Map Label Mapped Vegetation Type Area ha Area Area ha Area Area ha Area 2 Dwarf shrub heath 528 602 528 602 0 000 4 Cottongrass tussock 15 017 15 017 0 000 5 Highcentred polygons 39 044 39 044 0 000 6 Lowcentred polygons 108 123 108 123 0 000 8 Riparian sedgecottongrass 6 007 6 007 0 000 9 Delta shrub 2301 2622 2294 2614 7 030 10 Delta sedgecottongrass 685 780 680 775 5 073 12 Delta lowcentred polygons 2306 2626 2293 2613 13 052 S Sediment exposed in delta 44 050 44 050 0 000 W Water 2707 3084 2707 3084 0 000', 'Table 673 Potential Wildlife and Wildlife Habitat Effects Mitigation and Predicted Residual Effects Key Indicator Key Indicator Interaction Description of Potential Effect Mitigation Predicted Residual Effect Post signs to clearly identify sensitive environmental features to ensure they are protected Do not harass or feed wildlife Do not permit construction personnel to have dogs on the ROW Firearms are not permitted in Project vehicles on the ROW or at associated Project facilities In addition prohibit the recreational use of allterrain vehicles ATVs or snowmobiles by construction personnel on the ROW Report any incidents with wildlife or collisions with wildlife to provincial regulators and the local police detachment if applicable Discourage unauthorized public vehicle access along the ROW during construction through the use of signs Construction operation and maintenance decommissioning', 'TABLE 735 POTENTIAL RESIDUAL EFFECTS OF THE PROPOSED PROJECT ON WILDLIFE AND WILDLIFE HABITAT CONSIDERED FOR THE CUMULATIVE EFFECTS ASSESSMENT Potential Residual Effect Pipeline Loop Spatial Boundary Temporal Boundary Potential Cumulative Effect Existing ActivitiesKnown Future Developments with Residual Effects Acting in Combination with the Proposed Project 1 Areas of wildlife habitat will be altered including forested areas watercourses wetlands and drainages Kyklo Creek Timberwolf Cranberry RSA Past Development to Operation An incremental loss or alteration of wildlife habitat will occur Natural disturbance wildfire Existing activities forestry and oil and gas activities transmission lines and transportation network Known future developments within the RSA listed in Table 72 Projectrelated activities that could interact with the above activities include clearing strippings salvaging grading trenching backfilling and reclamation 2 Displacement of wildlife', 'Table D1 Soil Polygon Attributes New Pipeline RoW Soil Resource Information Interpretive Ratings Extent Soil Unit Soil Unit Abbreviation Variant1 Slope Class2 Subgroup Parent Material Drainage Class Surface Stoniness Class Topsoil Depth cm Agricultural Capability Compaction Risk3 Rutting Risk3 Water Erosion Risk3 Wind Erosion Risk3 Linear Extent m Extent Soil Unit Soil Unit Abbreviation Variant1 Slope Class2 Subgroup Parent Material Drainage Class Surface Stoniness Class Topsoil Depth cm Agricultural Capability Topsoil Subsoil Topsoil Subsoil Topsoil Subsoil Topsoil Subsoil Linear Extent m Extent RUFFORD 2 RF2 4 Rego Black Chernozem Moderately fine glacial till Well Slightly stony 00101 15 to 25 3T M M L L H S L L 83 014 NEWDALE 2 ND2 er 3 Orthic Black Chernozem Moderately fine glacial till Moderately Well Moderately stony 013')\n"
          ],
          "name": "stdout"
        },
        {
          "output_type": "stream",
          "text": [
            "\r78it [02:04,  1.52s/it]"
          ],
          "name": "stderr"
        },
        {
          "output_type": "stream",
          "text": [
            "('TABLE B81 CRITERIA FOR THE SUSPENSION OF ACTIVITIES DUE TO EXCESSIVELY WET SOIL CONDITIONS OUTSIDE OF THE DEVELOPMENT ZONE Land Use TopsoilRoot Zone Material Salvage Status Construction Activity Suspend Activity for Environmental Issue BushWooded No salvage conducted Soils handling topsoilroot zone material salvagereplacement Yes BushWooded TopsoilRoot Zone Material salvage in all areas outside of the development zone that will require grading Materials storage and staging area No BushWooded TopsoilRoot Zone Material replacement Cleanup Yes heavy traffic not permitted No quad traffic likely acceptable', 'TABLE A72 REASONABLY FORESEEABLE MINOR OIL AND GAS DEVELOPMENTS RELATIVE TO ELEMENT SPATIAL BOUNDARIES Legal Location Operator Acoustic LSA Air RSA Aquatics RSA Heritage RSA HORU LSA HORU RSA SCWB LSA SCWB RSA SoilsPE LSA Vegetation LSA Vegetation RSA Wetlands LSA Wetlands RSA Wildlife LSA Wildlife RSA 161228 WPM CRESCENT POINT ENERGY CORP 961228 WPM CRESCENT POINT ENERGY CORP 13361228 WPM CRESCENT POINT ENERGY CORP 1661228 WPM CRESCENT POINT ENERGY CORP 12191128 WPM CRESCENT POINT ENERGY CORP 126928 WPM TUNDRA OIL AND GAS PARTNERSHIP 935928 WPM TUNDRA OIL AND GAS PARTNERSHIP 1218381 W4M DARK WARRIOR RESOURCES LTD 1313126 W2M FEDERATED COOPERATIVES LIMITED 13331228 WPM FIRE SKY ENERGY INC 15161226 WPM FLUSHING ENERGY CORP 861226 WPM FLUSHING ENERGY CORP 8361228 WPM FORT CALGARY RESOURCES LTD 153121 W3M WHITECAP RESOURCES', 'Table A6 QAQC Data for Metals in Sediment Collected from the Footprint May 2013 Parameter DL SS21 Surface Top 75 cm 8 May SS30 Surface Top 75 cm 9 May Parameter DL Sample QC1 QC2 QC3 QC4 mean SD CV Sample QC1 QC2 QC3 QC4 mean SD CV Antimony 01 07 085 079 084 093 085 008 99 09 091 094 095 094 094 002 23 Arsenic 005 867 964 889 957 933 936 042 45 973 961 102 985 988 989 022 22 Barium 05 507 525 516 51 498 5123 101 20 624 60 621 621 623 6163 100 16 Beryllium 02 024 025 023 024 022 024 001 49 032 031 033 03 03 031 001 42 Cadmium 005 0602 0645 0616 0615 0611 062', 'Table 727 Cumulative Effects Assessment and Importance for Wildlife and Wildlife Habitat Potential CumulativeEffect Direction Magnitude Geographic Extent Temporal Context Probability of Occurrence Importance of Effect Potential CumulativeEffect Direction Magnitude Geographic Extent Duration Reversibility Frequency Probability of Occurrence Importance of Effect')\n"
          ],
          "name": "stdout"
        },
        {
          "output_type": "stream",
          "text": [
            "\r79it [02:06,  1.68s/it]"
          ],
          "name": "stderr"
        },
        {
          "output_type": "stream",
          "text": [
            "('Table D9 Coupling Patterns Code Type Description DC Decoupled Sediment mobilized on the hill slope by a landslide normally would not enter the stream channel PC Partially coupled A portion of the sediment mobilized on the hill slope by a landslide enters the stream channel CO Coupled Sediment mobilized on the hillslope by landslide activity directly enters the stream channel', 'Table 22 Grain Size Analysis of Sediment Samples Collected in September 2013 in the Vicinity of the PDA Station Latitude Longitude Approx Depth m chart datum Gravel Sand Silt Clay J1 4521014 659941 81 01 37 50 14 J2 4520902 659954 88 01 30 55 15 J3 4520765 659972 122 01 94 28 33 J4 4520608 659991 227 85 42 32 17 J5 4520442 66001 265 32 54 6 83 J6 4520383 660024 263 34 59 39 35 J7 4520443 660035 257 12 74 99 41 J8 4520432 660062 253 43 38 15 28 J9 4520428 660109 211 24 43 21 11 J10 4520459 660157 208 21 25 35 19 J11 4520254 660136 240 25 39 26 10 J12 4520218 660094 249 21 48 20 12 J13 4520233', 'Table I11 2010 Weed Occurrences on the Vantage Pipeline PSA by Quarter Section QUARTER SECTION WEED SPECIES SW 150915 W3M Russian thistle wild buckwheat kochia stinkweed flixweed tumbling mustard green foxtail wild oat wild mustard redroot pigweed tartary buckwheat lambsquarters SE 150915 W3M kochia stinkweed SW 140915 W3M lambsquarters kochia wild oat foxtail barley common dandelion green foxtail SE 140915 W3M green foxtail SW 130915 W3M crested wheatgrass SW 180914 W3M flixweed prickly lettuce wild buckwheat Canada thistle stinkweed SE 180914 W3M yellow goatsbeard crested wheatgrass flixweed SW 170914 W3M yellow goatsbeard SE 170914 W3M kochia Russian thistle stinkweed wild buckwheat green foxtail crested wheatgrass SW 130914 W3M flixweed Canada thistle bull thistle Russian thistle wild buckwheat crested wheatgrass SE 130914 W3M foxtail barley NW 180913 W3M green', 'Table 27 Potential Cumulative Effects on Land Resource Use Other Physical Activities with Potential for Cumulative Effects Potential Cumulative Effects Rationale Other Physical Activities with Potential for Cumulative Effects Land Use of Agricultural Permanent Loss of Temporary or Harvesting Area for Timber Permanent Loss of Temporary or Industrial Activities and Gas and Other Use of Lands for Oil Permanent Loss of Temporary or Hunting or Trapping Use for Fishing Permanent Loss of Temporary or Areas Use of Recreation Permanent Loss of Temporary or Boating Recreational Interruption to Rationale Existing Physical Activities Agricultural Conversion The effects of other physical activities that have been or are being carried out have influenced the existing conditions of land resource use Residual Project effects occur in the context of these existing conditions Residential')\n"
          ],
          "name": "stdout"
        },
        {
          "output_type": "stream",
          "text": [
            "\r80it [02:08,  1.72s/it]"
          ],
          "name": "stderr"
        },
        {
          "output_type": "stream",
          "text": [
            "('Table D2 Forested Soil Polygon Attributes New Pipeline RoW Soil Unit Soil Unit Abbreviation Soil Code Variant1 Slope Class Subgroup Surface Parent Material Subsurface Parent Material Drainage Class Topsoil Thickness cm Stripping Depth cm Agricultural Capability Compaction Risk Topsoil Compaction Risk Subsoil Rutting Risk Topsoil Rutting Risk Subsoil Water Erosion Risk Topsoil Water Erosion Risk Subsoil Wind Erosion Risk Topsoil Wind Erosion Risk Subsoil Length m Extent of Total RoW Extent of Agricultural Area Miscellaneous Organic ZOR ZOR NR Very Poor NR NR NR NR NR NR NR NR NR 13845 003 005 Miscellaneous Organic ZOR ZOR NR Very Poor NR NR NR NR NR NR NR NR NR 15283 004 005 Miscellaneous Organic ZOR ZOR NR Very Poor NR NR NR NR NR NR NR NR NR', 'Table 42 Fine Textured Upland Soils Group Representative Site Hanlan series Research Council of Alberta 1972 Horizon Depth cm Colour Field Texture Structure Consistence LH Ae1 05 Light grayish brown Silt loam Platy Friable Ae2 515 brown Loam Platy Friable Bt 1535 Yellowish brown Loam Subangular blocky Friable BC 3560 Light Oliver brown Loam Subangular blocky Friable Ck 60 Oliver brown Loam Massive Notes a Extent was estimated using a semiquantitative approach to the nearest kilometer ', 'TABLE 12 SUMMARY OF FISH SAMPLING RESULTS FOR CROSSINGS ALONG THE NORTHWEST MAINLINE TIMBERWOLF SECTION Site No Name Legal Location W6M and KPT Open Water Sampling Efforts CPUE1 Fish Species No Captured Fork LengthMean Range mm No Observed WATERCOURSES NTWC1 Hay River 52210812 KPT 54 TBD in spring 2011 na na na na na NTWC2 Little Buffalo River 63310612 KPT 215 MT 6 traps for a total of 18 hours 0 no fish captured or observed 0 na 0 NTWC3 Unnamed tributary to Bivouac Creek 101710612 KPT 268 BEF 283 s for 100 m 21 brook stickleback 6 52 4561 0 NTWC4 Chasm Creek 3710612 KPT 297 MT 4 traps for a total of 78 hours 0 no fish captured or observed 0 na 0 NTWC5 Unnamed tributary', 'TABLE 62 POTENTIAL BIOPHYSICAL AND SOCIOECONOMIC EFFECTS MITIGATIVE MEASURES AND RESIDUAL EFFECTS OF PIPELINE AND CONSTRUCTION AND OPERATION Biophysical or SocioEconomic ElementPotential Effect Location Project Boundary Measures EPP Reference1 Potential Residual Effects 16 INFRASTRUCTURE AND SERVICES 161 Infrastructure 161a Transportation of workers supplies and equipment Entire route Footprint to Region Provide parking at marshalling areas for workers Transport workers to and from worksite by multipassenger vehicles wherever practical Follow applicable traffic roaduse and safety laws and abide by provincial and local speed limits Implement measures outlined in the Traffic Control Management Plan Appendix 60 to reduce traffic impacts on highways Place an announcement in the local papers and on radio and TV to notify the public of the location and timing of construction activities and the presence of')\n"
          ],
          "name": "stdout"
        },
        {
          "output_type": "stream",
          "text": [
            "\r81it [02:09,  1.64s/it]"
          ],
          "name": "stderr"
        },
        {
          "output_type": "stream",
          "text": [
            "('Table 111 Key Issues for Wildlife Species of Management Concern SpeciesSpecies Group Potential Projectrelated Issues Ords Kangaroo Ratcontd Habitatloss and DegradationThe primary factor determining the longterm persistence of Ordskangaroo ratin Canada is loss and degradation of natural habitatCOSEWIC 2006Historical and ongoing declines of natural sandy habitats in the GreatSand Hills and Middle Sand Hills are of concern as these types ofhabitat appear to be prerequisites for the species persistence inCanada COSEWIC 2006Stabilization of dunes due to land management such as longtermsuppression offire removal oflarge mammals that ranged widely andhad heterogeneous effects on vegetation cover on the landscape bisonand elk and practices which discourage erosion in sand hill areas arehaving a major effect COSEWIC 2006 Ords Kangaroo Ratcontd Human DisturbanceHuman development could cause declines in local populations ofkangaroo rats', 'Table 315 Selected Communications Infrastructure in the Deh Cho Communities 2001 Communication Type Fort Simpson Fort Providence Fort Liard Wrigley Nahanni Butte Trout Lake Jean Marie River Kakisa Hay River Reserve Satellite telephone Yes Yes Yes Yes Yes Yes Yes Yes Yes Cellular telephone No No Yes No No No No No Yes Internet Private Office and school Yes No Yes No Office and school Office and school Yes Radio CBC CKLB CBC CKLB CBC CKLB CBC CKLB CBC CKLB CBC CKLB CBC CKLB CBC CKLB Band Office Station CKLB CKHR CBC CJCD Television CBC cable CBC CBC CBC CBC CBC CBC CBC Cable CBC Newspaper coverage NewsNorth Deh ChoDrum NewsNorth Deh ChoDrum Yellowknifer NewsNorth Deh Cho Drum NewsNorth NewsNorth Deh Cho Drum NewsNorth NewsNorth Deh ChoDrum Yellowknifer', 'Table 510 Predicted Sound Levels and Compliance Assessment for Facility Construction New Brunswick Facility Receptor ID Noise Contribution from Facility Construction dBA MNL Criteria dB Ldn Compliance with MNLCriteria YesNo1 Facility Receptor ID Daytime Ld Nighttime Ln DayNight Equivalent Ldn MNL Criteria dB Ldn Compliance with MNLCriteria YesNo1 Cumberland Bay Pump Station CU1 367 0 347 47 Yes Hampton Pump Station HA1 486 0 466 47 Yes Hampton Pump Station HA2 468 0 448 47 Yes Hampton Pump Station HA3 467 0 447 47 Yes Hampton Pump Station HA4 414 0 394 47 Yes Hampton Pump Station HA5 435 0 415 47 Yes Saint John tank terminal SJ1 453 0 433 47 Yes Saint John tank terminal SJ2 449 0 429 47 Yes Saint John tank terminal SJ3', 'Table 820 Rare Plants in the Alberta Plateau Common Name Scientific Name ProvincialGlobal Rank CDC Status BC MoE Status Northern bog bedstrawa Galium labradoricum S2S3 G5 Tracked Blue Whitish rusha Juncus albescens S2S3 G5 Tracked Blue Arctic rushb Juncus arcticus ssp alaskanus S2S3 G5T4T5 Tracked Blue Marsh muhlya Muhlenbergia glomerata S3 G5 Tracked Blue Smallflowered lousewortab Pedicularis parviflora ssp parviflora S3 G4T4 Tracked Blue NOTES a Data from 2006 field surveys b Data from 2008 field surveys ')\n"
          ],
          "name": "stdout"
        },
        {
          "output_type": "stream",
          "text": [
            "\r82it [02:11,  1.55s/it]"
          ],
          "name": "stderr"
        },
        {
          "output_type": "stream",
          "text": [
            "('Table 31 Field Study Program Participation Pipeline Section Biophysical Study Date Aboriginal Community McLeod River Section Vegetation spring and rare plants and weeds June 21 to 26 2011 Alexander First Nation Alexis Nakota Sioux Nation Enoch Cree Nation Marlboro Community Association Nakcowinewak Nation of Canada Paul First Nation Saddle Lake Cree Nation McLeod River Section Vegetation summer rare plants August 3 to 6 2011 Alexander First Nation Alexis Nakota Sioux Nation Enoch Cree Nation Marlboro Community Association Nakcowinewak Nation of Canada Paul First Nation Saddle Lake Cree Nation McLeod River Section Vegetation wetlands August 23 to 25 2011 Alexander First Nation Alexis Nakota Sioux Nation Enoch Cree Nation Marlboro Community Association Nakcowinewak Nation of Canada Paul First Nation Saddle Lake Cree Nation McLeod River Section Fisheries June 15', 'Table 52 Measurable Parameters and Key Indicators Traditional Land and Resource Use Environmental Effect Key Indicators Measurable Parameters Data Sources Rationale for Selection Temporary or permanent loss of habitation sites or their use Habitation sites use thereof Habitation sites and associated access TLRU Studies Project Aboriginal Engagement activities Literature Review Heritage Resources Assessment The use of habitation sites depends on continued availability and access In addition to TLRU studies the Heritage Resources Assessment may provide information regarding habitation sites and continued access to these areas Temporary or permanent loss of habitation sites or their use Habitation sites use thereof Appropriate environmental conditions for use of habitation sites TLRU Studies Project Aboriginal Engagement activities Literature Review Atmospheric Environment Assessment Acoustic Environment Assessment Employment and Economy Assessment Human Occupancy and', 'Table E1 Soil Inspection Sites New Pipeline RoW Site Site Type1 Subgroup2 Soil Unit Variant3 Parent Material3 UTM Zone Easting Northing Surface Expression Surface Stoniness Class Slope Slope Position Slope Class Topsoil Depth cm Drainage EEPACB13021 TS Medium glacial till 12 503196 5817862 Undulating Non stony 001 2 Depressional 2 5 30 EEPACB13022 TS Medium glacial till 12 503116 5818110 Undulating Non stony 001 6 Mid 2 5 30 EEPACB13028 TS Coarse glaciofluvial 12 515732 5799643 Undulating Non stony 001 12 Mid 5 9 30 EEPACB13029 TS Coarse glaciofluvial 12 515725 5799903 Hummocky Slightly stony 00101 9 Upper 15 30 30 EEPACB13030 TS Coarse glaciofluvial 12 515882 5800087 Undulating Slightly stony 00101 7 Mid 5 9 30 EEPACB13031 TS Coarse glaciofluvial 12 515897 5800349 Undulating Non stony 001', 'Table 93 Effects were assessed at the LAA scale except for cumulative effects which were Characterization Description Quantitative Measure or Definition of Qualitative Categories Direction The ultimate longterm trend of the environmental effect Positive Residual effect is an increase of individuals or populations of species of interest or a decrease in invasive species or an increase in the areas of ecological communities of interest andor wetland ecosystems Direction The ultimate longterm trend of the environmental effect Adverse Residual effect is a decrease of individuals or populations of species of interest or an increase in invasive species or a decrease in the areas of ecological communities of interest andor wetland ecosystems Direction The ultimate longterm trend of the environmental effect Neutral Residual effect is no net change from baseline')\n"
          ],
          "name": "stdout"
        },
        {
          "output_type": "stream",
          "text": [
            "\r83it [02:12,  1.61s/it]"
          ],
          "name": "stderr"
        },
        {
          "output_type": "stream",
          "text": [
            "('TABLE F3 INCIDENTAL OBSERVATIONS OF REPTILE AND AMPHIBIAN SPECIES Common Name Scientific Name Conservation Status Pipeline Segment Estimated Number of Individuals Common Name Scientific Name Alberta Provincial Designation BC Provincial Designation Federal Designation Edmonton to Hinton Hargreaves to Darfield Black Pines to Hope Hope to Westridge Estimated Number of Individuals REPTILES Common gartersnake Thamnophis sirtalis S4W1Sensitive3 S54Yellow6Priority 57Goal 37 G58 7 Terrestrial gartersnake Thamnophis elegans S54Yellow6 Priority 47Goal 17 G58 3 AMPHIBIANS American bullfrog Lithobates catesbeianus SNA4Exotic6Priority 67Goal 1237 G58 5 Boreal chorus frog Pseudacris maculata S51Secure3 S44Yellow6 Priority 37Goal 27 G58 6 Coastal tailed frog Ascaphus truei S3S44Blue6 Priority 17Goal 27 G48Special Concern910 9 Columbia spotted frog Rana luteiventris S44Yellow6Priority 27Goal 27 G48Not at Risk10 9 Longtoed salamander Ambystoma macrodactylum S3T1Special Concern2Sensitive3 G58Not at Risk10 2 Northern', 'Table 28 Geomorphic Parameters for Unnamed Watercourse 80WCTL09 Watercourse Characteristics Value Note Watercourse Characteristics Value Note Drainage Area Upstream from Crossing km2 442 AltaLIS data Distance from Crossing to Watercourse Origin km 91 AltaLIS data Channel Gradient at Crossing mkm 107 LiDAR data Elevation at Crossing mASL 6991 LiDAR data Bankfull Width at Crossing m 20 Measured in field Wetted Width at Crossing m 10 Measured in field Maximum Bankfull Depth at Crossing m 04 Measured in field UTM Coordinates Zone 10 645562E 6205950N August 20 2014 Upstream view of left downstream bank of Unnamed Watercourse 80WCTL09 approximately 105 m upstream from the crossing location August 20 2014 View of Unnamed Watercourse 80WCTL09 at the crossing location August 20 2014 View of Unnamed Watercourse 80WCTL09 approximately 50m downstream', 'Table 433437 Response Objectives and Actions Objective Actions Tailor the response to the environment Implement predesignated first response strategiesIdentify resources at riskTrack hydrocarbon movement and develop spill pathwaysComplete visual assessments eg aerial reconnaissanceDevelop and implement appropriate protection tactics eg deterrents protectivebooms in sensitive areasFor releases on land prevent oil reaching moving waters Contain and Recover Product Deploy containment eg temporary berms trenches and booms equipment atthe sourceDeploy containment boom at appropriate intercept and collection areasComplete pumping and recovery operationsDeploy skimmers for onwater recovery operationsEvaluate time sensitive response technologies eg insitu burningEstablish waste recovery transfer and temporary storage plan Wildlife Recovery and Rehabilitation Establish oiled wildlife reporting hotlineRescue injured wildlifeSet up primary care unit for injured wildlifeOperate wildlife rehabilitation centreInitiate citizen volunteer effort Remediation of Riverbanks and Shorelines Complete', 'Table 412 Attribution of Effects between CSN5 and Nearby Sources for Maximum Predicted NO2 in the Application Case Averaging Period Predicted Concentration plus Baseline gm3 Averaging Period Application Case CSN5 Alone Project Nearby Sources Alone AQO 1hour 304 304 270 400 1hour BC AQO 243 243 228 188 24hour 192 192 154 200 Annual 516 461 512 60')\n"
          ],
          "name": "stdout"
        },
        {
          "output_type": "stream",
          "text": [
            "\r84it [02:14,  1.70s/it]"
          ],
          "name": "stderr"
        },
        {
          "output_type": "stream",
          "text": [
            "('Table 621 Exposure Point Concentrations in Marine Organisms Exposed to Intertidal and Subtidal Sediments for the Bay of Fundy following a Hypothetical Spill of Crude Oil WCS near Saint John mgkg ww COPC Tissue Concentrations in Marine Organisms Exposed via Intertidal Sediment mgkg ww Tissue Concentrations in Marine Organisms Exposed via Subtidal Sediment mgkg ww COPC ClamSnail LobsterCrab ClamScallop LobsterCrab Groundfish COPC 4 Weeks 12 Years 4 Weeks 12 Years 4 Weeks 12 Years 4 Weeks 12 Years 4 Weeks 12 Years BTEX Benzene 599E03 211E03 121E03 Toluene 669E03 235E03 135E03 Ethylbenzene 111E03 651E04 299E04 Xylenes Total 736E03 431E03 198E03 Petroleum Hydrocarbon Fractions Aliphatic C6C8 196E02 115E02 527E03 Aliphatic C8C16 584E08 296E08 160E01 281E01 323E01 Aliphatic C16C34 584E08 296E08 160E01 281E01 323E01 Aliphatic C34C50 Aromatic C8C16 432E00 279E01', 'Table 5214 Highest Level of Educational Attainment Achieved in 2006 and 2011 in the Socioeconomic Study Area Dawson Creek 8650 301 290 134 152 99 Fort St John 13515 266 307 129 172 94 Pouce Coup 565 451 257 71 195 18 Saddle Hills Countya 2000 388 268 158 125 33 Taylor 1025 283 361 171 137 49 Peace River Electoral Area Cb 4975 264 297 156 179 73 Peace River Electoral Area Dc 4625 311 262 160 169 70 Total SSA 35355 291 294 140 164 83 Alberta 2625145 234 262 109 180 175 British Columbia 3394910 199 279 109 167 193', 'Table 27 Important Bird Areas in the SAMAM ID Number Site Name Description Bird Species Seasonality 3402 3403 3404 3405 contd Petit Manan Green Island 247 ha 10 acre island attached to Petit Manan Island by a bar at low tide Grasses Rugosa rose Angelica and stinging nettle are the dominant vegetation here American oystercatcher Migration 3402 3403 3404 3405 contd Petit Manan Green Island 247 ha 10 acre island attached to Petit Manan Island by a bar at low tide Grasses Rugosa rose Angelica and stinging nettle are the dominant vegetation here Common eider Breeding 3402 3403 3404 3405 contd Petit Manan Green Island 247 ha 10 acre island attached to Petit Manan Island by a bar at low tide Grasses Rugosa rose Angelica and stinging nettle', 'Table 96 Mapped Ecological Communities of Interest in the Project Development Area and Local Assessment Area BEC Zone Site Series Map Code Structural Stage Ecosystem Name BC CDC List PDA Area ha LAA Area ha Change from Baseline in LAA Upland Forest Units BWBSmw 111 SH 6 mature forest White spruce Currant Horsetail bluelist 03 36 86 BWBSmw 112 CD 6 mature forest Balsam poplar White spruce Mountain alder Dogwood bluelist 02 16 145 Subtotal Upland Forest Units 05 52 104 Riparian Flood Units BWBSmw Fl06 SA 3b tall shrub Sandbar willow redlist 01 03 45 Subtotal Riparian Flood Units 01 03 45 Wetland Units BWBSmw Wm00 Wm 2b graminoid uncorrelated wetland marsh1 02 17 141 BWBSmw Wm01 MA 2b graminoid Beaked sedge Water sedge 01 31 46')\n"
          ],
          "name": "stdout"
        },
        {
          "output_type": "stream",
          "text": [
            "\r85it [02:16,  1.77s/it]"
          ],
          "name": "stderr"
        },
        {
          "output_type": "stream",
          "text": [
            "('Table 82 Land Use Facilities PDA and LAA Manitoba Land Use PDA LAA Land Use No of Pump Stations with Type of Land Use Area ha of Pump Station PDA No of Pump Stations with Type of Land Use Area ha of Pump Station LAA Upland Native Vegetation Community 5 142 17 5 510 20 Cultivated 7 528 62 7 1227 49 Developed 4 21 2 4 119 5 Tame Pasture 2 17 2 3 254 10 Wetlands 6 144 17 6 411 16 Total for all Pump Stations and Permanent Access Roads 8 853 100 8 2521 100', 'TABLE 510 WELLS LOCATED IN THE LOCAL STUDY AREA WHERE BEDROCK IS ENCOUNTERED WITHIN 5 m1 KP2 Legal WPM Use KP 1121 17612 domestic KP 1124 NE 9612 livestock KP 1125 NW 10612 livestock KP 1125 NW 10612 domesticlivestock KP 1127 SW 11612 livestock KP 1135 NE 28511 domesticlivestock KP 1135 NE 28511 test well KP 1138 23511 domestic KP 1138 23511 domestic KP 1138 NE 23511 livestock KP 1140 NW 24511 livestock KP 1141 SE 19510 domesticindustrial KP 1142 NW 18510 domestic KP 1148 NW 11510 domesticlivestock KP 1148 NW 11510 domestic KP 1150 NW 2510 domesticlivestock KP 1151 SE 1510 domesticlivestock KP 1152 659 domestic KP 1155 NW 3249 domestic KP 1157 SW 3349 domesticlivestock KP 1158 NE 2749 domesticlivestock KP 1159 SE 2749 domestic KP', 'Table 39 Wood Turtle Habitat Field Survey Results Site ID Watercourse Habitat Rating Score Site ID Watercourse Foraging Hibernation1 Nesting Total Score Site ID Watercourse Within PDA Outside PDA Within PDA Outside PDA Within PDA Outside PDA Within PDA Outside PDA 65 Tobique River 3 28 3 3 0 1 6 68 233 Kennebecasis River 3 28 nd nd 3 0 nd nd 357 359 361 Coal Creek and tributaries 12 12 0 0 0 0 12 12 389 Passekeag Creek Tributary 15 17 3 5 1 1 55 77 392 South Stream Lower 19 11 0 2 2 0 39 31 394 Hammond River 13 13 0 0 0 0 13 13 471 Grande Rivire 26 23 11 22 4 2 176 263 NOTES 1 nd no', 'TABLE 4321 FEDERAL SPECIES OF CONCERN ALONG THE BC PORTION OF THE PROPOSED PIPELINE CORRIDOR Federal1 Common Name4 Scientific Name4 Type BGC Zone5 Potential Interaction with Project Project Component6 7 COSEWIC Designation2 SARADesignation3 Common Name4 Scientific Name4 Type BG CWH ESSF ICH IDF MS MH PP SBS Potential Interaction with Project HD BPH HB BW Endangered contd Endangered contd silver hair moss Fabronia pusilla moss Y LOW to HIGH In Canada silver hair moss has only been found at two sites in BC near Lower Arrow Lake in the Kootenay Valley and on the west end of Sumas Mountain east of Abbotsford Silver hair moss grows on semiexposed rock or the surface of tree bark COSEWIC 2002b 2012c A previously recorded occurrence of silver hair moss at approximately')\n"
          ],
          "name": "stdout"
        },
        {
          "output_type": "stream",
          "text": [
            "\r86it [02:18,  1.68s/it]"
          ],
          "name": "stderr"
        },
        {
          "output_type": "stream",
          "text": [
            "('Table 697 Evaluation of the Predicted Cumulative Effects for Wetland Function Predicted Cumulative Effects Spatial Boundary Temporal Context Magnitude Significance Predicted Cumulative Effects Spatial Boundary Duration Frequency Reversibility Magnitude Significance North Star Section 2 a Cumulative effects on wetland function RSA Shortterm to extendedterm Occasional to continuous Reversible to Irreversible Low to Medium Not significant Red Earth Section 3 a Cumulative effects on wetland function RSA Shortterm to extendedterm Occasional to continuous Reversible to Irreversible Low Not significant Bear Canyon North Extension a Cumulative effects on wetland function RSA Shortterm to extendedterm Occasional to continuous Reversible to Irreversible Low to Medium Not significant Hidden Lake North Unit Addition Associated Pipeline Connection a Cumulative effects on wetland function RSA Shortterm to extendedterm Occasional to continuous Reversible to Irreversible Low', 'Table 667 Oscar Creek RPR292 and Unnamed Stream Site 357 Water Quality Parameter Oscar Creek RPR292 Unnamed StreamSite 357 Parameter 2002 Historical Data 19711997 2002 Parameter Summer Summer Fall Winter Spring Summer Parameter Units August 24 Median MinMax n Median Min Max n Median Min Maxn Mediann August 25 Major Ions contd Sulphide mgL 0012 0015 Nutrients Nitrate nitrite mgL 01 01 Nitrate mgL 002 1 Nitrogen ammonia mgL 005 005 Nitrogen Kjeldahl mgL 03 08 Phosphorus total mgL 0009 0001 Phosphorus dissolved mgL 0002 0001 Total Metals Aluminum mgL 027CW 009 Antimony mgL 00007 00006 Arsenic mgL 00005 00004 Barium mgL 0075 0045 Beryllium mgL 0001 0001 Boron mgL 002 004 Cadmium mgL 00002DC 00002DC Chromium mgL 00008 00008 Cobalt mgL 00003 00002 Copper mgL 0001 0001', 'Table 61 Sound Power Level Summary of Proposed Project Equipment Source Quantity Levels at Octave Band Center Frequencies for Each Unit Hz dB re 1 pW Total dBA Source Quantity 315 63 125 250 500 1000 2000 4000 8000 Total dBA Proposed Compressor Unit 3 Unit 3 Lube Oil Cooler Inlet 1 98 95 98 100 98 92 87 89 83 99 Unit 3 Lube Oil Cooler Discharge 1 75 83 79 91 97 92 92 86 77 98 Unit 3 Gas Turbine Exhaust Flex Joint 1 97 95 94 94 93 94 92 79 65 98 Unit 3 Gas Turbine Exhaust Duct 1 105 102 100 101 100 96 92 82 71 101 Unit 3 Gas Turbine Exhaust Stack Breakout 1 114 111 108 107 99 89', 'Table 381 Acute Inhalation Exposure Limits for Manganese Regulatory Agency Type Value gm Reference ATSDR ATSDR 2013 BC MOE BC MOE 2013 ESRD 1hour AAQO 2 ESRD 2013 Metro Vancouver Metro Vancouver 2011 OEHHA 8hour REL 017 OEHHA 2013 2008 OMOE 24hour Guideline 25 OMOE 2012 TCEQ TCEQ 2013 US EPA US EPA 2013a WA DOE WA DOE 2011 WHO WHO 2000')\n"
          ],
          "name": "stdout"
        },
        {
          "output_type": "stream",
          "text": [
            "\r87it [02:19,  1.64s/it]"
          ],
          "name": "stderr"
        },
        {
          "output_type": "stream",
          "text": [
            "('Table 2 TLRU Information and Mitigation Les Atikamekw de Manawan Traditional Land and Resource Use Information Location Relative to Project Development Area Relevant Consolidated ESA Documents Context from the Consolidated ESA Les Atikamekw de Manawan Mitigation Recommendations2 Consolidated ESAEPP Mitigation Measures LAM study participants noted the following archaeology and heritage sites Mandabin Atikamekw burials located at the foot of a mountain marked by stacked rocks Potential archaeological sites in Saintemliedelnergie signs of Atikamekw and SaintGabrieldeBrandon and cemetery in SaintDamien Evidence of occupation in SaintZnon moccasins footprints bear tracks and caribou tracks This site has artifacts and mystic aspects which are sacred and should not be moved Burial of Maje a former Grand Chief of Wemotaci located between Wemotaci and Obedjiwan Information from the CNA indicates there are additional', 'TABLE 72105 ECOLOGICAL CONTEXT SUMMARY FOR MAMMAL INDICATORS Mammal Indicator Ecological Context Grizzly Bear Grizzly bears are Bluelisted in BC and have a Conservation Framework Priority rating of 2 BC CDC 2013 Grizzly bears are designated as at Risk in Alberta and are listed as Threatened under the Alberta Wildlife Act and Wildlife RegulationAESRD 2012a ASRD 2011b The western population of grizzly bears is federally listed as a species of Special Concern under COSEWIC due to extensive range and population reductions influenced by habitat development and fragmentation and humanrelated conflicts and mortality Ross 2002 Grizzly bear are also listed under Schedule 3 of SARA Environment Canada 2013c The Project intersects two Bear Management Areas also referred to as Grizzly Bear Population Units GBPUs in Alberta Grande Cache and', 'Table 1310 Summary of Project Residual Effects on Infrastructure and Services Project Phase Residual SocioEconomic Effects Characterization Project Phase Direction Magnitude Geographic Extent Duration Frequency Reversibility Ecological and Socioeconomic Context Change in Demand for Accommodations Construction Positive Low RAA Short Term MultipleRegular Reversible Moderate Resilience Change in Demand for Community Infrastructure and Services Construction Adverse Low LAA Short Term MultipleIrregular Reversible LowModerate Resilience Change in Demands on Transportation Infrastructure Construction Adverse Low LAA Short Term Continuous Reversible Moderate Resilience', 'Table 166 Interaction of the Project with Archaeological Resources PROJECT ACTIVITIESPHYSICAL WORKS INTERACTION RATING1 POTENTIAL ENVIRONMENTAL EFFECTS Accidents Malfunctions Unplanned Events Spills of hazardous material Moderate to high Depending on the nature of the spill archaeological resources may be impacted however following proper cleanup impacts should be minor Fire Moderate to low Fire is a natural part of the ecosystem and most archaeological resources have been subjected to fire several times It is unlikely that an unplanned fire would negatively impact archaeological resources The increased presence of people in the area is a greater threat than the fire itself refer to Appendix A Release of mud from directional drilling None No impact Pipeline breakleak Moderate to high Depending on the nature of the leak or break negative impacts')\n"
          ],
          "name": "stdout"
        },
        {
          "output_type": "stream",
          "text": [
            "\r88it [02:21,  1.56s/it]"
          ],
          "name": "stderr"
        },
        {
          "output_type": "stream",
          "text": [
            "('Table A6 Spring and Summer Vascular Plant Inventory for Northern Ontario O Overall Spring Summer Scientific Name Common Name COEFFICIENT OF CONSERVATISM WETNESS INDEX WEDINESS INDEX PROVINCIAL STATUS OMNR STATUS COSEWIC STATUS GLOBAL STATUS Author x x Sparganium androcladum Branching Burreed 6 5 SH G4G5 Engelm Morong x x x Typhaceae Cattail Family x x x Typha angustifolia Narrowleaved Cattail 3 5 S5 G5 L x x x Typha latifolia Broadleaved Cattail 3 5 S5 G5 L x x x Typha X glauca Glaucous Cattail 3 5 S5 HYB Godron', 'TABLE 8A3 REASONABLY FORSEEABLE DEVELOPMENTS IDENTIFIED WITHIN THE SPATIAL BOUNDARIES OF THE MCLEOD RIVER SECTION Map ID1 Title Proponent Description Construction Schedule2 Assessment Type Qualitative or Quantitative Physical Environment and Soils LSA Water Quality and Quantity RSA Air Quality RSA Acoustic Environment LSA Fish and Fish Habitat RSA Wetlands RSA Vegetation RSA Wildlife and Wildlife Habitat RSA HORU RSA Heritage Resources RSA TRLU RSA Community RSA Agriculture and Livestock No developments found Energy Transmission 05 Yellowhead Transmission Reinforcement AltaLink Management Ltd Rebuilding major components of a transmission line including substation communication tower and transmission lines Quantitative Forestry FMA No 09000463 Weyerhaeuser Pembina Timberland AAC of 588421 ha of Total FMA area of 1078216 ha December 1 2009 to April 30 2030 Qualitative FMA No 88000254 West Fraser Mills', 'Table 696 Potential Air Emission Effects Mitigation and Predicted Residual Effects Key IndicatorInteraction Description of Potential Effect Mitigation Predicted Residual Effect', 'Table A5 Project Noise Receptors Qubec Facility Receptor ID Description Approximate Distance to Facility Fence Line m UTM NAD83 Coordinates Facility Receptor ID Description Approximate Distance to Facility Fence Line m Zone Easting m Northing m Lachute pump station LA1 House adjacent to roadway Chemin Bethany and near Highway 50 414 18 556772 5053776 Lachute pump station LA2 House adjacent to roadway Chemin Bethany and near Highway 50 829 18 556440 5053757 Lachute pump station LA3 House adjacent to roadway Chemin Bethany and near Highway 50 420 18 556133 5053640 Lachute pump station LA4 House near Highway 50 1072 18 556102 5055439 Lachute pump station LA5 House adjacent to roadway Chemin Bethany and near Highway 50 412 18 556473 5053678 Lachute pump station LA6 House adjacent to roadway')\n"
          ],
          "name": "stdout"
        },
        {
          "output_type": "stream",
          "text": [
            "\r89it [02:22,  1.51s/it]"
          ],
          "name": "stderr"
        },
        {
          "output_type": "stream",
          "text": [
            "('Table 7109 Potential Use of Site RPR201 Unnamed Stream Species Overwintering Spawning and Incubating Rearing Adult Feeding and Holding Arctic grayling Northern pike Sucker species Whitefish species Burbot NOTES potential use of the waterbody habitat no potential use of the waterbody habitat Of the species and species groups listed only Arctic grayling and sucker species have been confirmed in the stream ', 'TABLE 7A17 RESIDUAL EFFECTS CHARACTERIZATION AND SIGNIFICANCE EVALUATION FOR EMPLOYMENT AND ECONOMY BY PROJECT COMPONENT Component Criteria Rating1 Component Impact Balance Spatial Boundary2 Duration Frequency Reversibility Magnitude Probability Confidence Significance Construction Camps Negative HORU RSA Short to Extendedterm Continuous Reversible Low Low High Not significant Temporary Infrastructure and Workspace Negative HORU RSA Short to Extendedterm Continuous Reversible Low Low High Not significant e Reduced revenue for traditional and subsistence economy Boundary Lake Section Negative LSA and RSA Short to Longterm Continuous Reversible Low Low Moderate Not significant Bear Canyon Section Negative LSA and RSA Short to Longterm Continuous Reversible Low Low Moderate Not significant McLeod River Section Negative LSA and RSA Short to Longterm Continuous Reversible Low Low High Not significant Pelican Lake Section Negative LSA and RSA', 'Table 1121 MediumHigh Risk Pipeline Watercourse Crossings Name KP Mean Channel Width m Flow m3s Crossing Method Sensitivity Scale of Negative Effects Rationale British Columbia contd Chuchinka Creek 70306 1195 140 Isolate Flume 106 80 Sensitivity is moderate primarily due to the presence of burbot and salmonids Excellent spawning and overwintering habitat Proposed isolated crossing with a ZOI greater than 1000 m results in a score of high for the scale of negative effects Maxan Creek 94815 763 363 Isolate Super Flume 136 55 Sensitivity is high primarily due to the presence of salmonids and species of conservation concern as well as habitat characteristics that are less resilient to disturbance Excellent overwintering habitat Proposed isolated crossing results in a moderate score for the scale of negative effects', 'Table 729 Residual Effects on Soil Capability Project Phase Mitigation Residual Effects Characteristics Significance Confidence Prediction Significant Effects1 Likelihood of Monitoring and Followup Project Phase Mitigation Direction Magnitude Extent Geographic Duration Frequency Reversibility Context Socioeconomic Ecological and Significance Confidence Prediction Significant Effects1 Likelihood of Monitoring and Followup Soil Loss Construction See Section 74 N L PDA P S I H N H NA See Section 77 Operation Not applicable Not applicable an interaction is not expected Not applicable Decommissioning and abandonment2 PIPELINE REALIGNMENT Change in Soil Quality Construction See Section 74 N L PDA M S R H N H NA See Section 77 Operation See Section 74 N L PDA M MI R H N H NA See Section 77 Decommissioning and abandonment2 Soil Loss Construction See')\n"
          ],
          "name": "stdout"
        },
        {
          "output_type": "stream",
          "text": [
            "\r90it [02:23,  1.46s/it]"
          ],
          "name": "stderr"
        },
        {
          "output_type": "stream",
          "text": [
            "('Table 615 Potential Environmental Effects on Nonagricultural Soils Project Activities and PhysicalWorks Key Environmental Effects onNonagricultural Soils Relevance to the Assessment Considered in the ESA Pipelines Construction RoW and site preparationclearing and grubbing gradingrecontouring temporary accessTemporary and permanent roaddevelopment clearing andgrubbing grading temporarystructures for vehicle crossings Change in soil quality of nonagricultural soil caused by physicaldisturbance Construction activities could causeadmixing compaction erosioncontamination changes in soilmoisture conditions and soillosswhichif not mitigated couldultimately affect soil suitability tosupport communities', 'Table 593 Environmental Effects Assessment Matrix for Land and Resource Use Project Activities and Physical Works See Table 311 for list of specific activities and works Potential Environmental Effects AAdverse PPositive Mitigation Magnitude Geographic Extent DurationFrequency Reversibility EcologicalSocioCultural and Economic Context', 'Table 1025 Residual Cumulative Effects on Wildlife and Wildlife Habitat Residual Cumulative Effect Residual Cumulative Effects Characterization Residual Cumulative Effect Direction Magnitude Geographic Extent Duration Frequency Reversibility Ecological Context CSN5 Expansion RAA Overall residual cumulative effect A NH RAA LT C RI D Contribution from the CSN5 Expansion to the overall residual cumulative effect Project contribution is primarily associated with vegetation clearing during construction for which mitigation will be applied to avoid or reduce increased mortality risk no new access is being developed see Section 104242 For caribou the Project contribution is low as no new access is created and no new early seral habitat will be available to ungulates because of fencing Combined Cumulative Effects on Change in Mortality Risk Overall residual cumulative effect A NH RAA', 'Table A12 Habitat Unit Classification for Small Streams Habitat Unit Class Code Description Falls FA Highly turbulent whitewater caused by water freefalling over a vertical drop Falls formed from a full spanning flow obstruction often bedrock Slope 100 Cascade CA Series of small falls or steps and pools stepped longitudinal profile Substrate of bedrock or boulder accumulations Highly turbulent high velocity 7 slope mainly whitewater Rapid RA Steps and pocket pools common cobbleboulder substrate with some exposed boulders at lower flows Considerable turbulence some whitewater fast velocity 05 ms 47 slope Chute CH Area of channel constriction usually due to bedrock intrusions associated with channel deepening and increased velocity Riffle RF Partially to totally submerged pebble to cobble substrate causing moderate turbulence and ripples little to no whitewater')\n"
          ],
          "name": "stdout"
        },
        {
          "output_type": "stream",
          "text": [
            "\r91it [02:24,  1.37s/it]"
          ],
          "name": "stderr"
        },
        {
          "output_type": "stream",
          "text": [
            "('Table 34 Estimated Taglu Land Requirements Totalha Temporaryha Drilling Note Note Wellpads 7 1 Flowlines Note Note 15 2 Infrastructure 8 2 Total 30 5 Note1 ', 'Table 11 Pump Stations in New Brunswick Pump Station Name Latitude Longitude Area ha SaintLonard1formerly Grand Falls 47 17 43N 67 49 10 W 99 Plaster Rock 46 46 19N 67 23 7W 99 Stanley1formerly Napadogan 46 24 20N 66 45 43W 99 Cumberland Bay 46 5 4N 65 50 19W 99 Hampton 45 36 36N 65 47 2W 99 NOTE 1 The name has changed since the 2014 Project design ', 'TABLE 716 EXISTING PRIMARY ACCESS Reference RK Name Length km Owner Access Type 11768 Gaglardi Way 105 BC Government Public 11768 Gaglardi Way 075 BC Government Public 11769 Gaglardi Way 075 BC Government Public 11769 Eastlake Drive 113 BC Government Public 11782 Underhill Avenue 017 BC Government Public 11795 Underhill Avenue 094 BC Government Public 11795 Shellmont Street 067 BC Government Public 00 Burnaby Mountain Parkway 206 BC Government Public', 'TABLE 8 WETLANDS LOCATED IN THE RIPARIAN ZONE OF WATERCOURSES ALONG THE NORTHWEST MAINLINE TIMBERWOLF SECTION Legal Location of Watercourse W6M KPT Watercourse Wetland Class Watercourse Class Restricted Activity Period RAP 122110612 249 Bivouac Creek fishbearing beaver dam complex nonwoody fen C April 16 to July 15 3710612 297 Chasm Creek shrubby swamp C April 16 to July 15 11610612 306 unnamed tributary to Chasm Creek fishbearing beaver dam complex shallow open water C April 16 to July 15 43110512 331 unnamed tributary to Beaverskin Creek fishbearing beaver dam complex shrubby fen C April 16 to July 15 33010512 348 Beaverskin Creek fishbearing beaver dam complex nonwoody fen C April 16 to July 15 31910512 364 unnamed tributary to Beaverskin Creek fishbearing beaver dam complex shrubby fen C')\n"
          ],
          "name": "stdout"
        },
        {
          "output_type": "stream",
          "text": [
            "\r92it [02:26,  1.40s/it]"
          ],
          "name": "stderr"
        },
        {
          "output_type": "stream",
          "text": [
            "('TABLE 8A13 REASONABLY FORESEEABLE OIL AND GAS FACILITY DEVELOPMENTS WITHIN THE TRANS MOUNTAIN EXPANSION PROJECT RSA AND LSA OF VARIOUS ELEMENTS Primary Applicant Development Type Legal Location Soil LSA AquaticsWetland RSA Air Quality RSA Acoustic Environment RSA Vegetation RSA Wildlife Primary Applicant Development Type Legal Location Soil LSA AquaticsWetland RSA Air Quality RSA Acoustic Environment RSA Vegetation RSA RSA RSA Grizzly PENN WEST PETROLEUM LTD Battery 102705809 W5M PENN WEST PETROLEUM LTD Battery 103005007 W5M PENN WEST PETROLEUM LTD Battery 103305126 W4M PENN WEST PETROLEUM LTD Battery 110605226 W4M PENN WEST PETROLEUM LTD Battery 111305710 W5M PENN WEST PETROLEUM LTD Battery 120805003 W5M PENN WEST PETROLEUM LTD Battery 122104709 W5M PENN WEST PETROLEUM LTD Battery 123105709 W5M PENN WEST PETROLEUM LTD Battery 131805126 W4M PENN WEST PETROLEUM LTD', 'TABLE A1 SELECTED POPULATION CHARACTERISTICS OF COMMUNITIES IN THE SOCIOECONOMIC REGIONAL STUDY AREA IN ALBERTA 2011 Location 2006 Population No 2011 Population No Population Change 2006 to 2011 Population 014 Population 1564 Median Age Male Female Total Private Dwellings No Private Dwellings Occupied by Usual Residents No Aboriginal Identity 1 First Nation Single Identity 1 Mtis Single Identity 1 Private Dwellings Occupied by Residents on a Permanent Basis Indian Reserves Stony Plain 135 1418 987 304 329 714 254 491 512 378 225 970 949 20 595 Alexander 134 962 1027 68 326 759 218 511 487 282 247 971 946 20 876 Wabamun 133b 20 17 150 na2 na2 na2 na2 na2 5 5 Data for this area has been suppressed 1000 Wabamun 133a 1088 1069 17', 'TABLE 522 INDICATOR SPECIES CAPTURED OR OBSERVED AT WATERCOURSE CROSSINGS WITHIN THE HOPE TO BURNABY SEGMENT 2012 to 2013 Species Master Crossing Number RKs Watercourse Name River System Coho contd BC767 11540 Unnamed Channel Lower Fraser River Coho contd BC768 11543 Yorkson Creek Lower Fraser River cutthroat trout BC681 10692 Unnamed Channel Lower Fraser River cutthroat trout BC682 10696 Unnamed Channel Lower Fraser River cutthroat trout BC688 10723 Unnamed Channel Lower Fraser River cutthroat trout BC694 10737 Unnamed Channel Lower Fraser River cutthroat trout BC695 10742 Unnamed Channel Lower Fraser River cutthroat trout BC697 10748 Unnamed Channel Lower Fraser River cutthroat trout BC705 10782 Anderson Creek Lower Fraser River cutthroat trout BC706 10798 Bridal Creek Lower Fraser River cutthroat trout BC707 10800 Unnamed Channel Lower Fraser River cutthroat', 'Table D1 Habitat Units for Small Streams Habitat Unit Class Code Description 1 P1 High quality pool habitat based on depth and size High instream cover from instream features ie logsboulders and depth 12 m deep provides overwintering habitat 2 P2 Shallower than P1 06 12 m deep moderate to high instream cover not suitable for overwintering but provides juvenile and adult fish rearing habitat during open water 3 P3 Shallow 06 m deep and small low instream cover Not suitable for overwintering or adult holding habitat but may provide rearing habitat for juvenile fish during open water Step pool SP Series of pools separated by short riffles or cascades Generally found in high gradient confined mountain streams dominated by boulder substrate The length of the turbulent water')\n"
          ],
          "name": "stdout"
        },
        {
          "output_type": "stream",
          "text": [
            "\r93it [02:28,  1.53s/it]"
          ],
          "name": "stderr"
        },
        {
          "output_type": "stream",
          "text": [
            "('Table 548 Provincially Tracked Ecological Communities for the Dry Mixedwood and Lower Foothills Natural Subregions and the BWBSmw Subzone Ecological Community Description Scientific Name Ecological Community Description Common Name British Columbia Conservation Data Centre BC CDC Listing a Alberta Conservation Information Management System ACIMS Listingb Picea mariana Vaccinium vitisidaea Sphagnum spp black spruce lingonberry peatmosses Blue S3 Populus balsamifera Picea glauca Alnus incana Cornus stolonifera balsam poplar white spruce mountain alder redosier dogwood Blue S3 Salix exigua Shrubland narrowleaf willow Shrubland Red S2 Salix reticulata Salix polaris netveined willow polar willow No Status SNR Typha latifolia Marsh common cattail Marsh Blue S3', 'TABLE I1 SITESPECIFIC MITIGATATION MEASURES FOR WATERCOURSES ENCOUNTERED WITHIN THE PIPELINE CORRIDOR IN ALBERTA Crossing ID Number RK Waterbody Name Waterbody Type Legal Location LSD Fish Habitat Sensitivity Restricted Activity Period Alberta Least Risk Biological Window Proposed Pipeline Crossing Method Recommended Vehicle Crossing Method Navigability Status1 Reclamation Type Crossing ID Number RK Waterbody Name Waterbody Type Legal Location LSD Fish Habitat Sensitivity Restricted Activity Period Alberta Least Risk Biological Window Proposed Recommended Contingency Open Water Frozen Navigability Status1 Reclamation Type AB90 1518 Unnamed tributary to Chip Lake Class C unmapped NW 225309 W5M Low April 16 to June 30 Open Isolated trenched at any time if water present open cut if dry or frozen to bottom NA Clearspan bridge Type 3 culvert Clearspan bridge SnowfillIce bridge Type 3', 'TABLE 51310 HISTORICAL MEAN MONTHLY STREAMFLOW m3s SUMMARY FOR CYPRESS RIVER NEAR BRUXELLES MANITOBA STATION NO 05MH008 Discharge Jan Feb March April May June July Aug Sept Oct Nov Dec Mean discharge 058 420 073 024 028 010 007 005 Maximum discharge 381 123 525 195 422 173 104 057 Minimum discharge 000 002 004 000 000 000 000 000 Years of streamflow record 1965 to 2011 Maximum daily discharge 7390 ms on April 19 1974 Minimum daily discharge1 000 ms Gross drainage area 276 km2 ', 'Table 1114 Site Specific Wildlife Mitigation Measures Recommended for the Alberta Segment of Project Keystone 2006 and 2007 Surveys Species Feature Species mapCode KilometrePost KP DistancefromPipelineRoW m Presence ofExisting HumanActivity andFeatures withinSetback CommentsRecommended Mitigationand Followup Birds contd FerruginousHawkNestcontd 236 SE3602103W4 2674 Existingpipelines about270 mKeystone aswell as severalothers between120 m and1000 m fromburrow wellsites 190 m240 m 390 mand 450 m andfour at 500 mfrom nest site Nests within proposedsetback distanceConduct survey forferruginous hawks ifconstruction occursbetween March 15 andJuly 15 to confirm activityIf construction occursduring sensitive timingwindow March 15 toJuly 15 and individualspresent monitor nest andrestrict human activity toensure no disturbanceDue to existingdisturbances in arearesulting in potentialhabituation by individualsrealignment of pipelineRoW could not benecessary and should notaffect reuse of nests byraptorsConductfollow up surveyin the season followingcompletion of constructionto assess')\n"
          ],
          "name": "stdout"
        },
        {
          "output_type": "stream",
          "text": [
            "\r94it [02:29,  1.58s/it]"
          ],
          "name": "stderr"
        },
        {
          "output_type": "stream",
          "text": [
            "('TABLE 11 CONCORDANCE WITH GUIDE A A2 ENVIRONMENT AND SOCIOECONOMIC ASSESSMENT OF THE NEB FILING MANUAL Filing Filing Requirement In Application References Not in Application Explanation A24 Description of the Environmental and SocioEconomic Setting 1 Identify and describe the current biophysical and socioeconomic setting Section 50 2 Describe and quantify the biophysical and socioeconomic elements in the study area which are of ecological economic or human importance Determine which biophysical or socioeconomic elements require more detailed analysis Detailed information related to biophysical or socioeconomic elements from Tables A4 and A5 where applicable Sections 50 60 3 Provide supporting evidence for information and data collected analysis completed conclusions reached and for any professional judgment or experience provided in meeting these information requirements Section 50 Appendices 1 to 7 4', 'Table 10C18 Baseline Sediment Quality Conditions in the Coastal Mountains Hydrological Zone Parameter Units Skeena River Basin Kitimat River Basin Parameter Units Unnamed Gosnell Creek Tributary Unnamed Gosnell Creek Tributary Unnamed Burnie River Tributary Unnamed Kitimat River Tributary Unnamed Kitimat River Tributary Unnamed Kitimat River Tributary Unnamed Kitimat River Tributary Unnamed Kitimat River Tributary Cecil Creek Unnamed Kitimat River Tributary Unnamed Kitimat River Tributary Anderson Creek Moore Creek Parameter Units Crossing 1110 Crossing 1115 Crossing 1124 Crossing 1181 Crossing 1182 Crossing 1191 Crossing 1195 Crossing 1205 Crossing 1223 Crossing 3136 Crossing 3140 Crossing 1274 Crossing 3141 Parameter Units MEMPR 93L861806 MEMPR 93L861536 MEMPR 93L861534 MEMPR 103I787714 MEMPR 103I787713 MEMPR 103I787716 MEMPR 103I787720 MEMPR 103I787725 MEMPR 103I781055 MEMPR 103I781014 MEMPR 103I781012 MEMPR 103I781011 MEMPR 103I781010 Parameter Units 05Aug86 27Jul86', 'Table 718 Cumulative Effects and Importance to Infrastructure and Services Predicted Cumulative Effect Direction Magnitude Geographic Extent Duration Reversibility Frequency Probability of Occurrence Importance of Effect Increased traffic on highways and local roads used to access the RoW will occur as a result of Project construction and existing and planned projects Negative Moderate Beyond regional Shortterm Frequent Certain Moderate Increase in waste flow to regional disposal sites due to Project construction and existing and planned projects Negative Low Regional Shortterm Frequent Certain Low Increased demand on capacity of existing emergency services due to Project construction and existing and planned projects Negative Low Regional Shortterm Frequent Possible Low', 'Table 6226 Potential Effects Mitigation Measures and Residual Effects SocioEconomics Project 1 SpatialBoundary ResidualEffects HUMANHEALTH ')\n"
          ],
          "name": "stdout"
        },
        {
          "output_type": "stream",
          "text": [
            "\r95it [02:31,  1.67s/it]"
          ],
          "name": "stderr"
        },
        {
          "output_type": "stream",
          "text": [
            "('Table 143 Hardisty Initiating Pump Station Including Metering Estimated Capital Cost Construction Cost Component Construction Cost Component Capital Cost C x million Percentage Project Management 09 3 Materials 163 54 Installation 54 18 Engineering 15 5 Construction Management 08 3 Contingency 27 9 Overhead 11 4 AFUDC 13 4 TOTAL 300 100 SOURCE IPS for Disagregation ', 'Table 6171 Potential Effects on Human Health and Visual Aesthetics Mitigation and Predicted Residual Effects ', 'Table 124 Potential Effects on Land Resource Use and Marine Resource Use Project Activities and Physical Works Potential Effects Project Activities and Physical Works Land Resource Use Marine Resource Use Project Activities and Physical Works agriculture loss of lands used for Temporary or Permanent timber harvesting loss of lands used for Temporary or Permanent activities and gas or other industrial loss of lands used for oil Temporary or Permanent fishing trapping hunting Loss of lands used for Temporary or Permanent recreational activity loss of lands used for Temporary or Permanent boating interruption of recreational Temporary or Permanent operators fishermen or tourism local commercial Change in net income to activities recreational marine loss of use of areas for Temporary or Permanent interruption of navigation Temporary or Permanent Construction Construction', 'Table C3 Molecular Descriptors LUMO HOMO and GAP Calculated for this Study PAH LUMO eV HOMO eV GAP eV C4phenanthreneanthracene 0598 8212 7614 C1fluoranthenepyrene 0889 8317 7427 C2fluoranthenepyrene 0870 8268 7397 C3fluoranthenepyrene 0874 8228 7353 C4fluoranthenepyrene 0842 8189 7347 0752 8191 7438 0733 8147 7414 0709 8119 7410 0733 8151 7418 0983 8194 7211 0998 8113 7115')\n"
          ],
          "name": "stdout"
        },
        {
          "output_type": "stream",
          "text": [
            "\r96it [02:32,  1.50s/it]"
          ],
          "name": "stderr"
        },
        {
          "output_type": "stream",
          "text": [
            "('TABLE 467 HEALTH CARE FACILITIES IN THE METRO VANCOUVER REGION Facility Name Location Service Area Key Services Provided Staffing Levels Number of Beds Langley Memorial Hospital Langley Langley and area 24hour emergency CT scan General surgery Total staff 1683 Total 166 Longterm 224 Surrey Memorial Hospital Surrey Surrey and Vancouver area 24hour emergency CT scan MRI General surgery Orthopaedic surgery NA ER 40 Delta Hospital Delta Delta and area 24hour emergency CT scan General surgery Total staff 580 Acute 50 Residential 92', 'Table 62 Alterations of Terrain within the LSA Surficial Geology Area of Terrain Type within the LSA Area of Soil Disturbance within the Project RoW Surficial Geology ha of LSA ha of LSA Ap 1 104 06 05 01 FGm 2 13 01 0 0 FGmA 12 132 08 06 01 HMpOv 3 152 09 02 01 KMp 12 600 37 35 01 KMp 23 832 52 47 01 Mh 12 60 04 0 0 Mhp 12 429 27 20 01 Mm 23 75 05 0 0 Mm 3 714 45 33 01 Mp 1 755 47 33 01 Mp 12 141 09 12 01 Mpi 20 01 0 0 Mpih 23 665 42 34 01 Mpm 12 1347 84 60 01 MpmOv 1 365 23 24 01', 'Table 59 Shortterm acute Toxicological Reference Values for 24hour Exposures COPC Value Critical Effect Description of Study Source Other Volatiles Aliphatic C1C4 No Value Not applicable Not applicable Not applicable Aliphatic C4C6 No Value Not applicable Not applicable Not applicable Total Reduced Sulphur 7 gm3 Respiratory system nasal lesions 10week 6 hoursday 7 daysweek inhalation study on rats Brenneman et al 2000 OMOE 2007', 'Table 414 Effects on Groundwater Quality Pipeline Corridor Pathway Phase When Impact Occurs Effect Attribute Pathway Phase When Impact Occurs Direction Magnitude Geographic Extent Duration Change in surface water quality Construction Adverse Low Local Long term Change in surface water quality Operations Adverse Low Local Long term Change in surface water quality Decommissioning and abandonment Neutral No effect NA NA Change in permafrost patterns Construction Adverse Low Local Long term Change in permafrost patterns Operations Adverse Low Local Long term Change in permafrost patterns Decommissioning and abandonment Neutral No effect NA NA NOTE NA not applicable ')\n"
          ],
          "name": "stdout"
        },
        {
          "output_type": "stream",
          "text": [
            "\r97it [02:34,  1.42s/it]"
          ],
          "name": "stderr"
        },
        {
          "output_type": "stream",
          "text": [
            "('Table C1 Summary of Results and Survey Effort at Aboveground Facilities Aboveground Facility Name SOMC Observed Field Surveys Habitat Types PDA Key Areas of Wildlife Habitat Distance to feature Surveys Completed Canada warbler Olivesided flycatcher Forested wetland 57 Mature Overmature hardwood 72 Mature Overmature mixedwood 147 Regen Sapling mixedwood 66 Young Immature hardwood 286 Interior forest in the footprint of and surrounding the access road and 2014 Hampton Pump Station Pump Station Anthropogenic 43 Mature Overmature mixedwood 395 Young Immature softwood 562 Interior forest in the footprint of the pump station Breeding songbird surveys 2014 Nocturnal owl surveys 2014 Early nesting surveys woodpeckers and forest raptors 2014 Aerial raptor and waterfowl survey 2014 Winter ungulate survey 2014 Incidental observations 2013 and 2014 Hampton Pump Station Access Road Great', 'Table 5 TLRU Information and Mitigation Long Lake 58 First Nation Traditional Land and Resource Use Information Location Relative to Project Development Area Relevant Consolidated ESA Documents Context from the Consolidated ESA Long Lake 58 First Nation Mitigation Recommendations2 Consolidated ESAEPP Mitigation Measures Temporary or Permanent Loss of Habitation Sites or their Use LL58FN stated that three generations of LL58FN members grew up in Longlac LL58FN identified a trapping shack approximately 300 m from Highway 11 and east of Longlac near Hoyles Creek8 LL58FN identified camping and cabin sites near the Project 220 camping sites and 8 cabin areas were mapped by LL58FN Longlac is within the TLRU RAA Hoiles Creek is intersected by the existing RoW The trapping shack may be intersected by the existing RoW based', 'Table 45 Effects on Groundwater Quantity and Flow Patterns Niglintgak Pathway Phase When Impact Occurs Effect Attribute Pathway Phase When Impact Occurs Direction Magnitude Geographic Extent Duration Change in recharge and discharge Construction Adverse Low Local Long term Change in recharge and discharge Operations Adverse Low Local Long term Change in recharge and discharge Decommissioning and abandonment Neutral No effect NA NA Flow obstruction Construction Adverse Low Local Far future Flow obstruction Operations Neutral No effect NA NA Flow obstruction Decommissioning and abandonment Neutral No effect NA NA Change in permafrost patterns Construction Adverse Low Local Long term Change in permafrost patterns Operations Adverse Low Local Far future Change in permafrost patterns Decommissioning and abandonment Neutral No effect NA NA NOTE NA not applicable ', 'TABLE 531 OIL AND GAS INTERESTS IN THE LSA IN ALBERTA Interest Holder Interest Type Approximate Location Burlington Resources Canada Ltd Facility KP 985 south of proposed route Burlington Resources Canada Ltd Facility KP 1004 northeast of proposed route Devon Canada Corp Gas Pipeline KP 1004 northeast of proposed route Burlington Resources Canada Ltd Gas Pipeline KP 1005 northeast of proposed route Burlington Resources Canada Ltd Gas Pipeline KP 1010 Burlington Resources Canada Ltd Gas Pipeline KP 1017 to 1172 paralleling Burlington Resources Canada Ltd Gas Pipeline KP 1017 Burlington Resources Canada Ltd Facility KP 1027 south of proposed route Burlington Resources Canada Ltd Gas Pipeline KP 1027 southwest of proposed route Burlington Resources Canada Ltd Gas Pipeline and Well Site KP 1028 south of proposed route Burlington')\n"
          ],
          "name": "stdout"
        },
        {
          "output_type": "stream",
          "text": [
            "\r98it [02:35,  1.39s/it]"
          ],
          "name": "stderr"
        },
        {
          "output_type": "stream",
          "text": [
            "('TABLE 559 FIREFIGHTING AND PROTECTIVE SERVICES FOR COMMUNITIES ALONG THE PROPOSED PIPELINE CORRIDOR OF THE FRASERFORT GEORGETHOMPSONNICOLA REGION Footprint CommunityRegion Police Services Fire Services Comments Village of Valemount RCMP Detachment Valemount Fire Department Policing 5 officers Fire services 25 volunteer 1 career firefighter Valemount and District Road Rescue services also available RDFGG Policing provided by RCMP detachments in Valemount and McBride Additional fire services in McBride Fire services volunteer service in McBride District of Clearwater RCMP Detachment Clearwater Fire Department Fire services 20 volunteer 1 parttime career firefighter City of Kamloops RCMP Detachment Kamloops Fire Rescue Policing 120 RCMP officers the City of Kamloops provides an additional 55 municipal employees to support the RCMP There is also a Kamloops Traffic Services office Fire services 86 career firefighters six', 'TABLE 5819 FNFNES ECOZONES AND FIRST NATION COMMUNITIES IN THE SOCIOECONOMIC RSA IN BC Ecozone Number EcozoneCultural Area Name Name of Participating Communities SocioEconomic Region Year of Data Collection Number of Participants 3 Montane CordilleraPlateau Lower Nicola FraserFort GeorgeThompsonNicola 2009 41 3 Montane CordilleraPlateau Splatsin Spallumcheen FraserFort GeorgeThompsonNicola 2009 52 7 Pacific MaritimePlateau Samahquam NA 2009 20 7 Pacific MaritimePlateau Douglas Fraser Valley 2009 4 7 Pacific MaritimePlateau Lilwat Mount Currie NA 2009 93', 'Table B8 Recommended Restricted Activity Periods and Setback Distances for Bird Species New Brunswick Species2 Feature Restricted Activity Period Recommended Setback Distances for HighDisturbance Activities1 Great blue heron Nest site March 1 to August 15 200 m during nesting Great blue heron Nest site year round 50 m outside of the breeding season 400 m no roads zone Green heron Blackcrowned nightheron Nest site March 1 to August 15 200 m during nesting Green heron Blackcrowned nightheron Nest site year round 100 m outside of the breeding season 400 m no roads zone Bald eagle Peregrine falcon Nest site March 1 to August 15 200 m during nesting Bald eagle Peregrine falcon Nest site year round 100 m outside of the breeding season 400 m no roads zone', 'Table 93 Interaction of the Project with Surface Water Quantity and Quality PROJECT ACTIVITIESPHYSICAL WORKS INTERACTION RATING1SURFACE WATER RESOURCES POTENTIAL ENVIRONMENTAL EFFECTS PreConstruction PreConstruction Field SurveysPlanning None No direct effects on stream flows or surface water quality anticipated Construction and Commissioning Pipeline construction clearing grading trenching watercourse crossings stringing pipe lowering backfilling hydrostatic testing cleanup and final reclamation Moderate to high Localized alteration of natural flow patterns Reduction in surface water quality Valve site construction clearing grading installation of valve blocks power lines or power source access road construction cleanup and final reclamation None No direct effects on stream flows or surface water quality anticipated Pump station construction clearing grading installation of station power lines or power source access road construction cleanup and final reclamation None No direct')\n"
          ],
          "name": "stdout"
        },
        {
          "output_type": "stream",
          "text": [
            "\r99it [02:36,  1.39s/it]"
          ],
          "name": "stderr"
        },
        {
          "output_type": "stream",
          "text": [
            "('TABLE 41 FEDERAL REGULATORY CONSULTATION SUMMARY Stakeholder Group Name and Title of Contact Method of Engagement Date of Consultation Activity Consultation Summary Issues Concerns Commitments Followup Actions Where Issue is Addressed in ESA Natural Resources Canada Foran John Assistant Director Natural Gas Division Petroleum Resources Branch Meeting October 11 2007 General Project information the regulatory process and Crown duty to consult ie who when how can SemCAMS help was discussed None NA NA Transport Canada Barker Jackie Environmental Officer Mail Out Mail Out Meeting Mail Out September 2007 October 2007 October 30 2007 November 1 2007 Jackie Barker was sent the Project description and a map of the proposed pipeline October 30 2007 meeting between Transport Canada and Project team to discuss consultation work summary Transport Canadas process', 'Table 86 Noxious Invasive and Nonnative Plant Species in the PDA and LAA Scientific Name Common Name Number of Occurrences Rhamnus cathartica European buckthorn 87 Daucus carota wild carrot 23 Tussilago farfara colts foot 1 Tragopogon pratensis Tragopogon dubius andTragopogon porrifolius goats beard 6 Centaurea maculosa and Centaurea nigra knapweed 15 Asclepias syriaca milkweed 30 Toxicodendron radicans poison ivy 46 Ambrosia artemisiifolia and Ambrosia trifida ragweed 2 NOTE The precise location of each weed occurrence is not always known relative to the PDA however most occurrences covered an area both within the PDA and in the surrounding LAA ', 'Table 1 Construction GHG Emission Quantification Methods Project Activity or Physical Works Methodology Offroad construction equipment National inventory emission factors NIR 2017 were used in conjunction with a list of representative offroad construction equipment Onroad construction equipment National inventory emission factors NIR 2017 were used in conjunction with a list of representative onroad construction equipment Biomass open burning Uproot and burn emission factors for the northeast region of British Columbia available from the Ministry of Forests Lands Natural Resources Operations and Rural Development Dymond 2014 were applied to the estimated area of land cleared Land clearing residuals Residual decay emission factors for 19 years for the northeast region of British Columbia available from the Ministry of Forests Lands Natural Resources Operations and Rural Development Dymond 2014 were applied', 'Table 357 Procurement Employment Income and Regional Economic Effects Construction Effect Attributes for the Deh Cho Region Region Effect Attribute Significant Region Direction Magnitude Geographic Extent Duration Significant DCR Positive High Regional and beyond regional Short term Yes')\n"
          ],
          "name": "stdout"
        },
        {
          "output_type": "stream",
          "text": [
            "\r100it [02:38,  1.36s/it]"
          ],
          "name": "stderr"
        },
        {
          "output_type": "stream",
          "text": [
            "('TABLE 63 POTENTIAL ENVIRONMENTAL AND SOCIOECONOMIC EFFECTS MITIGATIVE MEASURES AND RESIDUAL EFFECTS OF PIPELINE CONSTRUCTION AND OPERATION Environmental or SocioEconomic ElementPotential Effect Location Project Boundary Measures EPP Reference1 and Enhancement Measures ial Residual Effects Potent 72b Potential alteration of nonpeat wetland hydrologic function contd Same as above Same as above Install trench breakers where warranted at the edge of wetlands to prevent the pipe trench from acting as a drain and to prevent unconsolidated organic soils from sloughing into the channel Section 85 Leave a trench crown to allow for settlement of backfill during cleanup of wetlands Leave breaks in the crown at obvious drainages Section 86 Implement the following measures where warranted to maintain natural surface water drainage patterns on upland areas adjacent to wetlands Leave breaks', 'Table 51 Potential Effects on Traditional Land and Resource Use Project Activities and Physical Works Potential Effects Project Activities and Physical Works Temporary or permanent loss of hunting areas or opportunities Temporary or permanent loss of fishing areas or opportunities Temporary or permanent loss of trapping areas or opportunities Temporary or permanent loss of plant harvesting areas or opportunities Temporary or permanent loss of trails or travelways or their use including navigation Temporary or permanent loss of habitation sites or their use Temporary or permanent loss of cultural or spiritual practices or sites Construction Watercourse crossing replacements Pump stations including permanent access roads NA Operation and Maintenance Pump stations including permanent access roads Decommissioning and abandonment1 NOTES indicates that an activity is likely to contribute to the environmental', 'Table 840 Organic Landforms North Taiga Plains A Ecological Zone Landforms Topography Drainage Description Composition Dominant Soil Subgroups Associated Processes Permafrost Conditions LSA Areal Extentha LSA NTPA Zone total Landforms Topography Drainage Description Composition Dominant Soil Subgroups Associated Processes Temp C Active Layer Depth Estimate m Estimated Frozen Moisture Content1 Comments LSA Areal Extentha LSA NTPA Zone total Fens u0000Level to very gentle slopes u0000Poorly to very poorly drained u0000Closed basin drainage type common in depressions u0000Linked hollow drainage type in low channellike areas u0000Peat u0000Fibric Organic Cryosol u0000Typic Fibrisolu0000Mesic Organic Cryosol u0000Permafrost thaw subsidence 20 to 50 0306 10002000 peatu0000Possibility of encountering permafrost is 9095 u0000Rare taliks in fens with open water 45 02 Shallow fens over moraine glaciolacustrine colluvium glaciofluvial fluvial lacustrine or bedrock u0000Level to', 'TABLE 510 CHRONIC MULTIPLE PATHWAY RISK QUOTIENTS FOR THE RESIDENTS BURNABY TERMINAL Chemical of Potential Concern Risk Quotients1 Chemical of Potential Concern Aboriginal Peoples Urban Dwellers Chemical of Potential Concern Base Case Application Case Cumulative Case Project Burnaby Terminal Project2 Combined Base Case Application Case Cumulative Case Project Burnaby Terminal Project2Combined Petroleum Hydrocarbon Fractions Aliphatics C9C1659E02 60E02 60E02 48E05 57E04 22E02 59E02 60E02 60E02 48E05 Polycyclic Aromatic Hydrocarbons Acenaphthene 97E10 34E09 34E09 57E13 24E09 11E09 11E09 15E13 80E10 11E09 Biphenyl 95E08 20E06 20E06 32E09 20E06 20E07 20E07 31E10 20E07 20E07 Naphthalene 24E02 24E02 24E02 22E11 26E07 75E03 75E03 67E12 83E08 75E03 Chemical Mixtures3 Renal toxicants 59E02 60E02 60E02 48E05 78E03 22E02 22E02 22E02 19E05 46E03 Hepatotoxicants 59E02 60E02 60E02 48E05 17E03 22E02 22E02 22E02 19E05 77E04')\n"
          ],
          "name": "stdout"
        },
        {
          "output_type": "stream",
          "text": [
            "\r101it [02:40,  1.60s/it]"
          ],
          "name": "stderr"
        },
        {
          "output_type": "stream",
          "text": [
            "('Table E4 Regulatory Noise Thresholds Ontario Facility Receptor ID Exclusion Limit Monitoring Adjustment MOE NPC300 Sound Level Limit dBA3 Facility Receptor ID Daytime Leq 1HR Evening and Nighttime Leq 1HR Monitoring Adjustment Daytime Leq 1HR Evening and Nighttime Leq 1HR Eagle Head pump station NA2 NA NA NA NA NA Nipigon pump station NI1 45 40 0 45 40 Jellicoe pump station JE1 45 40 0 45 40 Geraldton pump station GE1 45 40 0 45 40 Klotz Lake pump station KL1 45 40 0 45 40 Hearst pump station NA NA NA NA NA NA Calstock pump station CS1 45 40 0 45 40 Mattice pump station MT1 45 40 0 45 40 Kapuskasing pump station KA1 45 40 0 45 40 Kapuskasing pump station KA2 45', 'TABLE E1 WILDLIFE SPECIES OBSERVED DURING FIELD SURVEYS 2012 AND 2013 Common Name Scientific Name Conservation Status Pipeline Segment All Segments Common Name Scientific Name Alberta Provincial Designations BC Provincial Designations Federal Designations Edmonton to Hinton Hargreaves to Darfield Black Pines to Hope Hope to Westridge All Segments Bufflehead Bucephala albeola S51Secure3 S5B4Yellow6 Priority 67Goal 1237 G58 39 3 13 5 60 Bushtit Psaltriparus minimus S5B4Yellow6 Priority 57Goal 17 G58 0 0 0 6 6 Canada goose Branta canadensis S51Secure3 S54Yellow6 Priority 67Goal 1237 G58 503 140 642 449 1734 Canvasback Aythya valisineria S51Secure3 G58 1 0 0 0 1 Cape May warbler Setophaga tigrina S3 W1Sensitive3 G58 3 0 0 0 3 Cassins vireo Vireo cassinii S5B4Yellow6Priority 67Goal 1237 G58 0 8 2 1 11 Cedar waxwing', 'TABLE 519 SUMMARY OF SARA SCHEDULE 1 AND COSEWIC LISTED WILDLIFE SPECIES WITH POTENTIAL HABITAT ALONG THE PROPOSED PIPELINE LOOPS Species and Status Horn River Mainline Kyklo Creek Section Northwest Mainline Timberwolf Section Tanghe Creek Lateral Loop No 2 Cranberry Section Woodland Caribou Threatened on Schedule 1 of SARAand by COSEWIC Not located within a caribou range No caribou or caribou sign was observed during the wildlife field work Located within the Chinchaga caribou range from KPT 227 to KPT 498 ASRD FWMIS records include occurrences of woodland caribou within 1 km of this proposed pipeline loop records dated from 1992 through 2001 October 20 2010 five woodland caribou were observed approximately 12 km south of this proposed pipeline loop October 20 and 22 2010 tracks of woodland', 'Table G21 Maximum 1Hour Average Ground Level Concentrations gm Following a Hypothetical Spill of Crude Oil WCS near Saint John Receptor No Receptor Name Maximum 1Hour Average Ground Level Concentrations gm3 Receptor No Receptor Name Benzene Toluene Ethylbenzene Xylenes Total Aliphatic C1C4 Aliphatic C4C6 Aliphatic C8C16 Aromatic C8C16 Total Reduced Sulphur Compounds 61 Barnhill Memorial School 27E01 10E02 12E01 77E01 94E02 20E03 67E03 12E03 62 Island View School 21E01 21E02 24E01 16E02 19E03 41E03 16E04 31E03 63 Millidgeville North School 19E00 13E01 15E00 99E00 11E02 23E02 26E03 48E02 64 Outer North Black River Road 17E01 54E01 62E00 41E01 50E02 11E03 23E03 56E02 65 North Black River Road 21E01 68E01 78E00 52E01 63E02 13E03 29E03 71E02 66 Black River Road 26E01 96E01 11E01 74E01 89E02 19E03 42E03 11E03 67')\n"
          ],
          "name": "stdout"
        },
        {
          "output_type": "stream",
          "text": [
            "\r102it [02:42,  1.69s/it]"
          ],
          "name": "stderr"
        },
        {
          "output_type": "stream",
          "text": [
            "('Table 83 Wetland Area in the PDA Wetland Class and Type Total Wetland Area ha Percent of Total Wetland Area in the PDA Percent of Total PDA Area Swamp 142 54 88 Treed 109 33 68 Shrub 32 21 20 Bog 177 46 110 Marsh 18 52 11 Total 337 209', 'Table 159 Employment British Columbia Other Canada Total Canada Direct Indirect or Induced Effect Employment PYs Direct Indirect or Induced Effect BC Other Canada Total Canada Direct 200 195 395 Indirect 125 222 346 Induced 125 134 259 Total1 450 550 1000 NOTES 1Totals may not add due to rounding Calculated based on Project spending in BC and multipliers for the BC oil and gas engineering construction industry Statistics Canada 2013c SOURCE Spectra 2015 Statistics Canada 2013c ', 'Table 104 Underwater Noise Levels above the Behavioural Response Criterion for Marine Mammals Acoustic Modelling Locations Estimated Area of Temporary Behavioural Response based on 120dB criterion1 2 km2 of the CCAA based on 120dB criterion Maximum Vessel Speed knots Approximate Diameter of Temporary Behavioural Response2km Duration of Exposure to Underwater Noise in Excess of 120 dB hours AverageTransits per Day Douglas Channel 36 17 12 14 06 12 Principe Channel 53 25 12 14 06 06 Wright Sound 33 16 10 10 05 12 Sound 256 123 10 30 16 06 Average for all areas 95 45 NA 17 09 NA NOTES 1 National Marine Fisheries Services Behavioural Response Criterion for Marine Mammals Federal Register 2005 2 The source vessel is at the centre of the area ', 'Table D12 Habitat Unit Classification for Small Streams Habitat Unit Class Code Description Falls FA Highly turbulent whitewater caused by water freefalling over a vertical drop Falls formed from a full spanning flow obstruction often bedrock Slope 100 Cascade CA Series of small falls or steps and pools stepped longitudinal profile Substrate of bedrock or boulder accumulations Highly turbulent high velocity 7 slope mainly whitewater Rapid RA Steps and pocket pools common cobbleboulder substrate with some exposed boulders at lower flows Considerable turbulence some whitewater fast velocity 05 ms 47 slope Chute CH Area of channel constriction usually due to bedrock intrusions associated with channel deepening and increased velocity Riffle RF Partially to totally submerged pebble to cobble substrate causing moderate turbulence and ripples little to no whitewater')\n"
          ],
          "name": "stdout"
        },
        {
          "output_type": "stream",
          "text": [
            "\r103it [02:43,  1.53s/it]"
          ],
          "name": "stderr"
        },
        {
          "output_type": "stream",
          "text": [
            "('Table 930 Rare Populations Affected by Pipeline Construction Common Name Number of New Occurrences in the LSA1 Number of Recorded Occurrences in the NWT2 Number of Sites in the Project Area with Potential for Impact Indian hemp 4 2 2 Poverty oat grass 3 4 1 Lanceleaved goldenrod 10 5 1 Prairie gentian 8 4 2 Pitcherplant 7 3 2 Dwarf clubrush 4 4 1 NOTES 1 Results of rare plant reconnaissance surveys 2 Rare Vascular Plants in the Northwest Territories McJannet et al 1995 ', 'TABLE 7122 RESIDUAL EFFECTS CHARACTERIZATION AND SIGNIFICANCE EVALUATION FOR HUMAN OCCUPANCY AND RESOURCE USE Potential Residual Effect Criteria Rating Effects Characterization and Significance Determination Rationale h Change in access for land and resource users contd Duration Short to Longterm Change to access for land and resource users extends into the operations phase since the construction rightsofway will be permanent linear features creating access for the life of the Project However the construction camps and temporary infrastructure and workspace will only contribute to cumulative effects on access during construction ie shortterm h Change in access for land and resource users contd Frequency Isolated to Continuous Changes to access will occur continually over the assessment period with the exception of the construction camps and temporary infrastructure and workspace which will', 'Table 45 Issues from Communities in the Inuvialuit Settlement Region Issue Category Concern Source or Stakeholder Link to EIS Social effects Collect data and consult regarding potential projectrelated social effects Meeting Policing problems Yellowknife 2002Dec06 Meeting Data verification Paulatuk 2002Dec05 Meeting Data verification Tuktoyaktuk 2002Dec04 Meeting Community member interview 2002Dec04 Meeting Conditions in Tuktoyaktuk 2002Jul17 Meeting Economic effects Tuktoyaktuk 2002Jul17 V4 S2 S3 S4 V6 S5 Social effects Collect data on possible social impact on youth Meeting Tuktoyaktuk Community Corporation and Elders Committee 2002Dec03 V6 S5 Traditional culture Consult and collect data on potential effects on traditional culture Meeting Baseline data verification Tuktoyaktuk 2002Dec03 Meeting Traditional Knowledge and Inuvialuit Community Resource Council 2002Jul17 Meeting Tuktoyaktuk community consultation 2002Jun17 V4 S5 V6 S6 Traditional Knowledge Continue to review and', 'TABLE 57 SUMMARY OF SOIL CHARACTERISTICS ALONG THE STROME LOOP Soil Symbol Soil Unit Route Segment Range1 Intermittent Occurrence Length Soil Classification Parent Material Texture Class Drainage Class Topsoil Depth Range cm Topsoil Colour Differentiation Erosion Hazards2 Susceptible to Soil Compaction and Rutting Susceptible To Trench Instability Surface Stoniness3 Comments or Other Concerns Soil Symbol Soil Unit Route Segment Range1 Intermittent Occurrence Length Soil Classification Parent Material Texture Class Drainage Class Topsoil Depth Range cm Topsoil Colour Differentiation Wind Water Susceptible to Soil Compaction and Rutting Susceptible To Trench Instability Surface Stoniness3 Comments or Other Concerns DSJ Desjarlais KP 1358 to KP 1360 KP 1362 to KP 1363 KP 1364 to KP 1366 KP 1379 to KP 1389 KP 1394 to KP 1404 KP 1424 to KP 1440')\n"
          ],
          "name": "stdout"
        },
        {
          "output_type": "stream",
          "text": [
            "\r104it [02:44,  1.52s/it]"
          ],
          "name": "stderr"
        },
        {
          "output_type": "stream",
          "text": [
            "('Table 145 Percentage of Pipeline Length per Land Use Type Alberta Saskatchewan Native Range 56 40 Cultivated 30 30 HayTame Pasture 7 27 Riparian 7 3', 'TABLE 8A3 REASONABLY FORSEEABLE DEVELOPMENTS IDENTIFIED WITHIN THE SPATIAL BOUNDARIES OF THE MCLEOD RIVER SECTION Map ID1 Title Proponent Description Construction Schedule2 Assessment Type Qualitative or Quantitative Physical Environment and Soils LSA Water Quality and Quantity RSA Air Quality RSA Acoustic Environment LSA Fish and Fish Habitat RSA Wetlands RSA Vegetation RSA Wildlife and Wildlife Habitat RSA HORU RSA Heritage Resources RSA TRLU RSA Community RSA 1295522 W5M to 7245523 W5M Tourmaline Oil Corp Pipeline Quantitative 16255021 W5M to 14305020 W5M Tourmaline Oil Corp Pipeline Quantitative 14295118 W5M to 2285118 W5M Tourmaline Oil Corp Pipeline Quantitative 1345118 W5M to 12215118 W5M Tourmaline Oil Corp Pipeline Quantitative 4125517 W5M to 1115517 W5M Velvet Energy Ltd Pipeline Quantitative 1325517 W5M to 4335517 W5M Velvet Energy Ltd Pipeline Quantitative 195517 W5M', 'TABLE 5151 REGISTERED POPULATION STATISTICS FOR DUNCANS FIRST NATION Residency No of People Population Living On Duncans First Nation Reserves 145 Population Living Off Duncans First Nation Reserve 143 Population Living On Duncans First Nation Crown Land 0 Population Living On Other Reserves and Other Crown Land 2 Total Registered Population 290', 'Table 710 Protected Areas Project Effect Attributes for the Inuvialuit Settlement Region Effect Effect Attribute Significant Effect Direction Magnitude Geographic Extent Duration Significant Loss of available land base in protected areas Neutral to adverse No effect to low Regional Short term to long term No Disturbance to protected areas Adverse Moderate Local and regional Short term to long term No Disturbance to Beluga Management 1A Zone Adverse Low Local Short term to long term No')\n"
          ],
          "name": "stdout"
        },
        {
          "output_type": "stream",
          "text": [
            "\r105it [02:46,  1.56s/it]"
          ],
          "name": "stderr"
        },
        {
          "output_type": "stream",
          "text": [
            "('TABLE 8A2 REASONABLY FORSEEABLE DEVELOPMENTS IDENTIFIED WITHIN THE SPATIAL BOUNDARIES OF THE BEAR CANYON SECTION Map ID1 Title Proponent Description Construction Schedule2 Assessment Type Quantitative or Qualitative Physical Environment and Soils LSA Water Quality and Quantity RSA Air Quality RSA Acoustic Environment RSA Fish and Fish Habitat RSA Wetlands RSA Vegetation RSA Wildlife and Wildlife Habitat RSA HORU RSA Heritage Resources RSA TRLU RSA Community RSA 4337811 W6M Encana Corporation Satellite Quantitative 4337811 W6M Encana Corporation Battery Quantitative 5347811 W6M Encana Corporation Battery Quantitative 11367812 W6M Encana Corporation Satellite Quantitative 2357812 W6M Encana Corporation Satellite Quantitative 2347811 W6M Encana Corporation Battery Quantitative 16147811 W6M Encana Corporation Battery Quantitative 15317710 W6M Encana Corporation Battery Quantitative 87778 W6M Enerplus Corporation Satellite Quantitative 15137811 W6M Enerplus Corporation Battery Quantitative 1317778 W6M', 'TABLE 526 SUMMARY OF ENVIRONMENTAL AND SOCIOECONOMIC ELEMENTS AND CONSIDERATIONS FOR STROME STATION Environmental and SocioEconomic Elements Summary of Considerations Physical and Meteorological Environment The Strome Station lies within the Sullivan Lake Plain Section of the Eastern Alberta Plains Physiographic Region Pettapiece 1986 The upper Cretaceous Bearpaw Formation underlies Strome Station This formation is of marine origin and is characterized by dark grey blocky shale and silty shale greenish glauconitic and grey clayey sandstone thin concretionary ironstone and bentonitic beds Hamilton et al 1999 Surficial geology encountered includes lacustrine deposits consisting of fine sand and clay Shetsen 1990 The station is located within the Central Parkland Subregion of the Parkland Natural Region Natural Regions Committee 2006 The topography surrounding Strome Station is relatively flat and the elevation is', 'Table 845 Site Series on the Houston Powerline Easement Physiographic Physiographic Region Biogeoclimatic Unit Site Series No and Map Code Site Series Name Powerline Easementa ha Interior Plateau SBSdk 01 SP Hybrid white spruce Spirea Purple peavine 52 Interior Plateau SBSdk 03 LC Lodgepole pine Feathermoss Cladina 2 Interior Plateau SBSdk 05 SF Hybrid white spruce Spirea Feathermoss 1', 'Table 820 Morainal Landforms Tundra Ecological Zone Landforms Topography Drainage Description Composition Dominant Soil Subgroups Associated Processes Permafrost Conditions LSA Areal Extentha LSA Tundra Zone total Landforms Topography Drainage Description Composition Dominant Soil Subgroups Associated Processes Temp C Active Layer Depth Estimatedm Estimated Frozen Moisture Content1 Comments LSA Areal Extentha LSA Tundra Zone total Hummocky moraine u0000Very gentle to moderate slopes u0000Crests moderately well drained depressions poorly drained u0000Drainage type controlled by permafrost and topography u0000Closed basin drainage type common u0000Clay u0000Silt u0000Some sand u0000Trace gravel u0000Orthic Eutric Turbic Cryosol u0000Orthic Dystric Turbic Cryosol u0000Terric Fibric Organic Cryosol u0000Gleysolic Turbic Cryosol u0000Permafrost thaw subsidence 50 to 65 0711 80100 u0000Continuous permafrost 4409 6 Morainal deposits in channels or depressions with icewedge polygons or beaded streams u0000Level to very')\n"
          ],
          "name": "stdout"
        },
        {
          "output_type": "stream",
          "text": [
            "\r106it [02:48,  1.64s/it]"
          ],
          "name": "stderr"
        },
        {
          "output_type": "stream",
          "text": [
            "('Table 2 Summary of Watercourse Crossings along the Towerbirch Expansion Project Crossing ID Watercourse Zone 10 UTM NAD 83 Watercourse Description at the Crossing Location Crossing ID Watercourse Easting m Northing m Watercourse Description at the Crossing Location 12WCGB01 Unnamed 327689a 6189691 Third order fishbearing tributary to Henderson Creek with a deeply incised straight and confined channel Moderate sport fish habitat potential 12WCGB01A Unnamed 701881 6190799 Seasonal tributary to Henderson Creek that has a generally straight channel pattern Channel is poorly defined outside of existing pipeline ROW near crossing No fish habitat potential 12WCGB02 Unnamed 700176 6190499 Second order tributary to Henderson Creek with a regular meandering and unconfined channel Low sport fish habitat potential 12WCGB04 Unnamed 696981 6190331 Second order tributary of Henderson Creek The proposed crossing', 'Table 151 Potential Effects and Measurable Parameters for the Employment and Potential Effect Rationale for Inclusion of the Potential Project Effect in the Assessment Measurable Parameters for the Effect Rationale for Selection of the Measurable Parameter Change in employment and economy Project construction will create employment and business opportunities as well as generate revenue for governments Projectrelated employment Project expenditures on goods and services The Project will generate employment and business opportunities Projectrelated activities may contribute to labour shortages', 'TABLE 552 AITCHELITZ FIRST NATION RESERVES IRs IR Population Size of Labour Force No Unemployment Rate Location in Relation to Project Proposed Pipeline Corridor SocioEconomic RSAOutside Study Area Land Use Plans Priorities Onreserve Services Onreserve Infrastructure Grass 15 na1 na1 na1 Proposed Pipeline Corridor Unknown4 Unknown4 Unknown4 Aitchelitch 9 18 na2 na2 SocioEconomic RSA Na3 Na3 Na3 PekwXeyles na1 na1 na1 SocioEconomic RSA Na3 Na3 Na3 Skumalasph 16 na1 na1 na1 SocioEconomic RSA Na3 Na3 Na3', 'Table 1057 BarrenGround Grizzly Parsons Lake Tundra Ecological Zone Habitat Type Vegetation Type Grizzly Bear Tundra Ecological Zone Habitat Type Vegetation Type No of Dens No of Incidental Observations Low shrub 1 2 NS 1 Sedge cottongrass 4 8 NS 1 High and lowcentred polygons 5 6 NS NS Delta sedge cottongrass 10 12 NS NS Medium shrub 3 10 6 off lease NS Riparian shrub 7 NS NS Delta shrub 9 NS NS Riparian black spruce and shrub 13 NS 1 Disturbed D NS 1 Bare ground B NS NS Water W NS NS Unknown 2 1 off lease NS Total 12 4 NOTES NS not surveyed Incidental observations are those with species location and habitat information Data from 2001 2002 and 2003 field surveys ')\n"
          ],
          "name": "stdout"
        },
        {
          "output_type": "stream",
          "text": [
            "\r107it [02:49,  1.56s/it]"
          ],
          "name": "stderr"
        },
        {
          "output_type": "stream",
          "text": [
            "('Table 6171 Potential Effects on Social and Cultural Wellbeing Mitigation and Predicted Residual Effects Key Indicator Key Indicator Interaction Description of Potential Effect Mitigation EPP or ESA Reference Predicted Residual Effect CTemporary Workforce Population onstruction Negative interactions between temporary workforce and communities as a result of an increase in temporary population Existing commercial accommodations ie hotels rentals campgrounds in the Dawson Creek area will be used to house Project personnel ESA Section 61722 TransCanadas Health Safety and Environment Commitment will be followed including TransCanadas Contractor Alcohol and Drug Policy Appendix I NGTL will require the construction contractor to have protocols in place for workers concerning drug and alcohol policies and afterhour use of recreational vehicles and will require adherence to TransCanadas Alcohol and Drug Policy ESA Section 61722', 'Table 81 Summary of Predicted Environmental Effects Mitigation Measures and Monitoring and Followup for All VECs Environmental Component Project Activity Potential Effects Mitigation Measures Follow up and Monitoring Wetlands Construction Soil Erosion and Compaction Temporary ESC measures silt fences straw bales etc will be maintained and kept in place until 100 of all work within it is completed Replace topsoil stored onsite to enable the reclamation of land to its original condition Temporary sediment control measures will be removed at the completion of the work but not until permanent erosion control measures if specified in the contract have been established None required Wetlands Construction Dewatering Groundwater will be pumped from the trench through a filter bag and into an area of undisturbed vegetation located on the RoW Whenever', 'TABLE 29 ENVIRONMENTAL PERMITS APPROVALS Agency Permit Approval Authorization andor Notification FEDERAL National Energy Board CPCN under Section 52 of the NEB Act and Leave to Open Transport Canada Approval under Section 108 of the NEB Act National Energy Board Consideration of Environmental Screening Report pursuant to CEA Act PROVINCIAL Alberta Alberta Tourism Parks Recreation and Culture Historical Resources Act clearance Saskatchewan Saskatchewan Culture and Heritage Branch Heritage Property Act clearance Manitoba Manitoba Culture Heritage and Tourism Historical Resources Act clearance ', 'Table 15 Concordance Table with NEB Filing Manual 2004 Element in Filing Manual Section of ESA Element in Filing Manual Section of ESA Physical Environment Identify and quantify permafrost conditions na Identify areas of ground instability Section 7 Soils Identify and describe any potential for acidgenerating rock in the study area na Identify areas of potential flooding or erosion Section 7 Soils Identify areas of high fire potential na Characterize historical land use to determine if soils or sediments contain contaminants that could be resuspended or released during the project life Section 18 Environmental Protection Plan Soil and Soil Productivity If sediments or soils are contaminated describe mitigation and monitoring measures that will be taken Section 18 Environmental Protection Plan Describe general soil characteristics and the current level')\n"
          ],
          "name": "stdout"
        },
        {
          "output_type": "stream",
          "text": [
            "\r108it [02:50,  1.44s/it]"
          ],
          "name": "stderr"
        },
        {
          "output_type": "stream",
          "text": [
            "('Table 882 Summary of Residual Environmental Effects on Vegetation Potential Effect Mitigation Residual Environmental Effect Potential Effect Mitigation Magnitude Geographic Extent Duration Frequency Reversibility Significance Prediction Confidence Operations contd Effect of air emissions and vegetation health Use low sulphur fuel Use onboard andor onshore scrubbing technology Use vapour recovery Maintain equipment Use dust suppressants Limit operations activities with poor dispersion during unfavourable meteorological conditions BATEA Low Regional Long term Reversible Not significant Moderate', 'TABLE 212 TECHNICAL DETAILS PROPOSED PIPELINE CORRIDOR Total Length including Westridge delivery lines Approximately 9905 km Length Parallel to Existing TMPL 6616 km 668 Length Deviating from Existing TMPL 3289 km 332 Total Length Parallel to Other Existing Linear Features 2212 km 223 Total Length Deviating from Other Existing Linear Features 1078 km 109 Product Heavy synthetic crude oil and diluted bitumen also capable of transporting light crude oil and light synthetic oil if necessary Source Point Existing Edmonton Terminal at SW 55323 W4M RK 00 Delivery Point Existing Sumas Terminal at a097B092G01 RK 11175 existing Burnaby Terminal at a025D092G07 RK 11798 and existing Westridge Marine Terminal at 46D092G7 RK 00 Burnaby Terminal to RK 36 Pipe Size One 9144 mm OD NPS 36 pipeline from Edmonton Terminal', 'Table 44 Fish Creek Soil Unit Summary Extent kilometres percentage 08 km 4 Soil Classification Orthic Black Chernozem Parent Material Glaciolacustrine Till Dominant Texture topsoil subsoil Loam silt loam clay loam silty clay loam clay loam silty clay loam clay Topography Class Percent Slope Range 1 to 3 0 to 5 Surface Stoniness Range S0 nonstony Drainage Class Range Moderately well Topsoil Depth Range Relationship to Topography 1929 cm no relationship to topography Land Use percent of soil unit 64 hayland 36 pasture Sod Quality Variable Dominant Colour Transition topsoil subsoil distinctindistinct Black very dark brown very dark grayish brown dark grayish brown very dark grayish brown dark brown dark yellowish brown dark gray dark grayish brown olive brown variable PROFILE SITE RV043 Horizon Depth cm Colour Texture', 'Table 98 Baseline Conditions at Pump Stations Moosomin Tank Terminal and Permanent Access Roads Pump Station Identifier 1 Habitat Type 2 PDA Habitat Suitability PDA 3 SOMC Observed LAA Other Wildlife Habitat RAA Grenfell Tame pasture containing seasonal Class III and semipermanent Class IV treed wetlands and shrubbywooded patches Tame pasture treed wetlands and shrubbywooded patches provide valuable breeding nesting and foraging habitat for SOMC American bittern breeding wetland treed seasonal Class III partially overlaps the pump station PDA Barn swallow within the pump station PDA American bittern ferruginous hawk and black tern within 1 km of pump station WHPA land Fish and Wildlife Development Fund land private conservation lands and native grasslands Whitewood Pump station is on tame pasture containing seasonal Class III and temporary Class II')\n"
          ],
          "name": "stdout"
        },
        {
          "output_type": "stream",
          "text": [
            "\r109it [02:52,  1.43s/it]"
          ],
          "name": "stderr"
        },
        {
          "output_type": "stream",
          "text": [
            "('TABLE 628 POTENTIAL EFFECTS MITIGATIVE MEASURES AND RESIDUAL EFFECTS OF PIPELINE CONSTRUCTION ON HERITAGE RESOURCES Potential Effect Location Spatial Boundary Key Measures EPP Reference1 Potential Residual Effects 1 Disturbance of previously unidentified heritage resource sites Entire route Footprint Implement appropriate measures identified in the Heritage Resources Discovery Contingency Plan in the event of discovery of archaeological historical or palaeontological sites during construction activities Appendix D4 Construction will not occur until clearance from provincial authorities has been received In the event that archaeological historical or palaeontological resources are discovered during construction suspend work immediately in the vicinity of the suspected site Appendix D4 Previously unidentified buried heritage resources may be disturbed during construction', 'Table 42 Number of Companies Providing Scheduled Transportation Services in the Study Area by Type of Service Service Type Inuvik Norman Wells Fort Simpson Yellowknife Hay River Fort Good Hope Tulita Scheduled bus service1 0 0 1 1 1 0 0 Highway freight service1 3 1 3 5 5 1 1 Road air courier service1 4 1 2 8 3 0 0 Water freight service1 1 1 1 2 1 1 2 Rail freight service1 No No No No 1 No No Scheduled air service2 11 7 6 40 15 6 9 SOURCES 1 Northwest Territories Arctic Tourism 2003 and Northwestel 2001 personal communication 2 Airline company personnel 2003 personal communication ', 'TABLE 581 MEASURES OF GENERAL HEALTH SocioEconomic Region Edmonton Region Rural Alberta Jasper Park Regions Alberta FraserFort GeorgeThompsonNicola Region Fraser Valley Region Metro Vancouver Region British Columbia Provincial Health Authorities Edmonton Health Zone North Health Zone Alberta Northern Interior HSDA Thompson Cariboo Shuswap HSDA Fraser East HSDA Fraser South HSDA Fraser North HSDA Richmond HSDA Vancouver HSDA British Columbia Population Profile1 Population 1192158 454342 144558 224230 286785 726525 616412 197631 668690 Overall Wellbeing2 Perceived health rated as very good or excellent 621 558 617 533 584 527 599 583 594 611 596 Functional health rated as good or full 816 792 812 795 784 795 810 840 882 817 815 Mortality Life expectancy at birth3 years 812 791 807 786 796 806 820 825 857 832 817 Infant', 'Table 245 Census Counts for High Level Rainbow Lake and Zama City Location Age 1991 2001 2001 as of 1991 Totals Location Age MaleNo FemaleNo TotalNo of Total MaleNo FemaleNo Total No of Total 2001 as of 1991 Totals High Level Total 1465 1385 2850 100 1785 1660 3445 100 121 High Level 014 470 485 955 34 505 485 990 29 104 High Level 1524 240 265 505 18 315 290 605 18 120 High Level 2544 590 520 1110 39 680 655 1335 39 120 High Level 4564 140 105 245 9 260 200 460 13 188 High Level 65 30 15 45 2 30 30 60 2 133 Rainbow Lake Total 410 410 820 100 545 430 975 100 119 Rainbow Lake 014 120 145')\n"
          ],
          "name": "stdout"
        },
        {
          "output_type": "stream",
          "text": [
            "\r110it [02:53,  1.44s/it]"
          ],
          "name": "stderr"
        },
        {
          "output_type": "stream",
          "text": [
            "('Table 513 Uppermost Bedrock Formation Project Component Uppermost Bedrock1 Age Lithologies2 Grand Prairie West Area Grande Prairie Mainline Loop No 4 Valhalla Section Wapiti Formation Upper Cretaceous Interbedded sandstone and siltstone minor mudstone and coal deposited in fluvial environments that have local areas of lacustrine influence Grande Prairie Mainline Loop No 3 Elmworth Section Wapiti Formation Upper Cretaceous Interbedded sandstone and siltstone minor mudstone and coal deposited in fluvial environments that have local areas of lacustrine influence Grande Prairie South Area Grande Prairie Mainline Loop No 2 Karr Section Scollard and Paskapoo formations Upper Cretaceous and Paleogene Sandstone and siltstone lesser amounts of interbedded mudstone and coal Scollard Sandstone beds overlain by interbedded siltstone and mudstone Paskapoo Grande Prairie Mainline Loop No 2 Deep Valley Section Scollard and', 'Table 152 Physical Properties of Crude Oil Transported Viscosity Standard Product Standard Density Reference Temperature Viscosity Product Standard Density Reference Temperature 75oC 185oC Product kgm3 C cSt cSt Heavy crude 940 75 185 227 523 164 350 Synthetic crude 865 na 8 12', 'Table 545 Summary of Weeds Recorded in Vegetation Categories in the Vegetation Assessment 15 Area 16 Species NoxiousYN WoodedUpland NativeGrassland ModifiedGrassland Wetlands Riparian TOTAL Species NoxiousYN WoodedUpland NativeGrassland ModifiedGrassland ClassI ClassII ClassIII ClassIV ClassV Riparian TOTAL Agropyronrepens12 Y Y N Y Y Y Y Y Y Y 8 Amaranthusretroflexus12 Y3 Y N N N Y Y Y N N 4 Ambrosiaartemisiifolia2 Y N N N N Y Y Y Y N 4 Ambrosiatrifida2 Y N N N N N N Y Y N 2 Y N N N N N Y N N N 1 Arctiumminus12 Y3 N N N N Y Y N N N 2 Artemisiaabsinthium12 Y3 N N N N Y Y Y Y N 4 Artemisiabiennis2 Y Y N N N N N Y', 'Table 5115 Residual Environmental Effects Summary Matrix for Labour and Economy Phase Residual Environmental Effects Rating Level of Confidence Likelihood Phase Residual Environmental Effects Rating Level of Confidence Probability of Occurrence Scientific Certainty')\n"
          ],
          "name": "stdout"
        },
        {
          "output_type": "stream",
          "text": [
            "\r111it [02:55,  1.46s/it]"
          ],
          "name": "stderr"
        },
        {
          "output_type": "stream",
          "text": [
            "('TABLE 35 CONSULTATION ACTIVITIES WITH PROVINCIAL AGENCIES IN SASKATCHEWAN Stakeholder Group Agency Name Title of Contact Method of Engagement Date of Consultation Activity Reason for Engagement Consultation Outcomes Issues Concerns Commitments Followup Actions Where Issue Addressed in ESA Saskatchewan Environment Environmental Assessment Branch Regina Graham Mutch Project Manager Letter received Letter sent Telephone conversation Letter sent Letter received November 6 2006 November 17 2006 February 5 2007 February 13 2007 March 21 2007 March 30 2007 Request for project concerns including updated Regina reroute Request for project concerns and project information Proposed ethanol plant near Loreburn and Pengrowth pipeline near Cactus Lake have not been submitted for approval no information is available for either project SENV would like further information detailing proposed project and requests provincial involvement in', 'Table 10D3 Incremental Mean Annual Increase of Total Suspended Solids TSS above Background during Facilities Construction Facility Hydrological Zone Physiographic Region Drainage Area km2 Facility Area km2 Disturbed Area Sediment Delivery Ratio SDR Potential Soil Loss thay Increase in Mean Annual TSS Concentration mgL Pumping Stations Bruderheim Initiating Station Prairies Eastern Alberta Plains 31230 002 000 0033 11 1 Whitecourt PS Foothills Southern Alberta Uplands 31250 003 000 0033 22 1 Smoky River PS Foothills Southern Alberta Uplands 26 004 154 0268 22 10 Tumbler Ridge PS Rocky Mountains Rocky Mountains 1170 004 000 0068 55 1 Bear Lake PS Central Interior Interior Plateau 10 004 400 0332 11 2 Fort St James PS Central Interior Interior Plateau 180 004 002 0104 11 1 Burns Lake PS Central', 'Table 63 Recommended Mitigation Measures for Fish and Fish Habitat Effect Recommended Mitigation Measures Introduction of Deleterious Substances contd For pipeline crossings Establish and clearly identify a riparian buffer or MDZ for all watercourses and water bodies before the start of clearing activities RoWs should be narrowed in these areas to the extent practical Disturbance in the MDZ should be restricted to allow access crossing construction if required excavation of the trench and installation of the pipeline Install erosion and sediment control at all watercourses andor water bodies as directed by the Environmental Inspectors When soil conditions become such that implementing erosion and sediment control mitigation is not practical eg due to weather conditions reduce the number of vehicles on permanent access roads or pipeline RoW to limit', 'Table 9 TLRU Information and Mitigation Samson Cree Nation Traditional Land and Resource Use Information Location Relative to Project Development Area Relevant Consolidated ESA Documents Context from the Consolidated ESA Samson Cree Nation Mitigation Recommendations3 Consolidated ESAEPP Mitigation Measures Operation Following the completion of construction TransCanada Operating Procedures TOP will be used during operation in conjunction with the EPPs where appropriate For example during operation mitigation measures include Follow TransCanadas health safety and environment HSE management framework during maintenance activities Prohibit the use of herbicides within 30 m of an open body of water unless the herbicide application is conducted by ground application equipment or otherwise approved by the relevant regulatory agency where applicable Temporary or Permanent Loss of Trapping Areas or Opportunities SCN noted that only a')\n"
          ],
          "name": "stdout"
        },
        {
          "output_type": "stream",
          "text": [
            "\r112it [02:56,  1.43s/it]"
          ],
          "name": "stderr"
        },
        {
          "output_type": "stream",
          "text": [
            "('Table 69 Level of Education Completed in the Aboriginal Population by MRC MRC High School High School Trade School College University Total MRC n n n n n n BeauharnoisSalaberry 400 5674 185 2624 120 1702 0 0 0 0 705 VaudreuilSoulanges 405 4030 220 2189 260 2587 45 448 75 746 1005 Argenteuil 170 3617 135 2872 145 3085 0 0 20 426 470 Les PaysdenHaut 120 3692 80 1702 65 1383 20 426 40 851 325 La RivireduNord 405 4197 240 5106 250 5319 50 1064 20 426 965 Mirabel 185 4933 85 2267 85 2267 20 533 0 0 375 DeuxMontagnes 515 4421 285 2446 260 2232 40 343 65 558 1165 ThrseDe Blainville 465 4819 180 1865 200 2073 40 415 80 829 965', 'Table 13 Significance of Project Effect Attributes Magnitude Geographic Extent Duration Significant High Regional or beyond regional Short term Yes High Local Long term Yes Moderate or high Beyond regional or national Long term Yes', 'TABLE 32 CONSULTATION ACTIVITIES WITH FEDERAL AND PROVINCIAL AUTHORITIES ON THE NORTHWEST MAINLINE EXPANSION PROJECT Stakeholder Group Agency Name Name and Title of Contacts Method of Engagement Date of Consultation Activity Proposed Pipeline Loop Reason for Engagement Issues Concerns Commitments Followup Actions Comments Where Issue Addressed in ESA Duncans First Nation Grant Pauls Band Manager Email sent Email sent Telephone January 20 2011 January 21 2011 January 24 2011 Timberwolf Section Cranberry Section Schedule TEK program None NA Duncans First Nation Matt General Lands Department Telephone Telephone January 13 2011 January 18 2011 Timberwolf Section Cranberry Section Request for TLU map review and overflight None NA Duncans First Nation Andreanne Lawrence Field survey January 2325 2011 Timberwolf Section Request for TEK and Project concerns during wildlife survey Wildlife', 'Table 4A2 Available Surface Water Quality Data for Water Bodies in the Assiniboine River Watershed Parameter Units MB Most Stringent Guideline Min Max Number of Samples Selenium Se Total mgL 0001 0001 0001 11 Silicon Si Total mgL 04 27 151 Silver Ag Total mgL 00001 001 001 7 Sodium Na Total mgL 23 215 153 Sulphate Total mgL 1000 112 488 151 Moosomin Reservoir 2001 2004 Dissolved Oxygen mgL 55 95 21 Phosphorus Total mgL 0025 009 034 Total Dissolved Solids mgL 500 762 1192 Antler River4 Dissolved Oxygen mgL 55 95 04 04 4 Conductivity Scm 1000 780 780 1 pH pH 6590 74 74 1 Arrow River4 Dissolved Oxygen mgL 55 95 35 118 6 Conductivity Scm 1000 537 1056 6 pH pH 6590 69')\n"
          ],
          "name": "stdout"
        },
        {
          "output_type": "stream",
          "text": [
            "\r113it [02:58,  1.43s/it]"
          ],
          "name": "stderr"
        },
        {
          "output_type": "stream",
          "text": [
            "('TABLE 611 POTENTIAL EFFECTS AND RECOMMENDED MITIGATION MEASURES PIPELINE CONSTRUCTION AND OPERATIONS Potential Effect Pipeline Segments Spatial Boundary1 Key Measures EPP Reference2 14 Loss or alteration of rare ecological communities contd See above See above Monitor the effectiveness of revegetation efforts during the PCM of the construction rightsofway Conduct additional remedial work where warranted 21 Loss or alteration of rare plant andor lichen occurrences All See Table J1 of Appendix J of the Pipeline EPP Volume 6B for detailed locations LSA Supplemental vegetation and rare plant surveys will be conducted prior to construction in 2014 See Section 90 of Volume 5A for details See potential effect 14 of this table for mitigation applicable to the loss or alteration of rare ecological communities Flag or fenceoff resourcespecific environmental features', 'Table 662 Potential Wetland Effects Mitigation and Predicted Residual Effects ', 'Table LA1 OffRoad Equipment Description Quantity ModelandManufacturer EquipmentType FuelType EnginePower FuelConsumption TotalOperationHours EmissionFactorgLFuel GHGEmissionsTonnes Description Quantity ModelandManufacturer EquipmentType FuelType HP BTUhr USGhr Lhr TotalOperationHours CO2 CH4 N2O CO2 CH4 N2O CO2E AirCompressors NA NotAvailable OffRoad Gasoline 30 76401 11 415 6609 2289 270 005 63 00740 00014 65 ATV NA HONDABigRed650CC OffRoad Gasoline 72 183362 263 996 6660 2289 270 005 152 01791 00033 157 BackhoeJD330orequiv NA JD310J OffRoad Diesel 84 213923 307 1162 18307 2663 015 11 567 00319 02340 640 BackhoeJD450orequiv NA JD410J OffRoad Diesel 98 249577 358 1356 16833 2663 015 11 608 00342 02511 686 BackhoeKomatsu200orequiv NA Komatsu200 OffRoad Diesel 143 364178 523 1979 2287 2663 015 11 121 00068 00498 136 BackhoeLongstick NA Komatsu200 OffRoad Diesel 143 364178 523 1979 538 2663 015', 'TABLE 4 WILDLIFE MITIGATION MEASURES Concern Mitigation Measures Loss of Wildlife Habitat Wildlife surveys have been and will continue to be conducted until finalization of the route to identify important habitat features andor species with special conservation status and practical mitigation will be applied Follow existing linear corridors and narrow pipeline rightofway width to the extent possible To facilitate rapid regeneration it is preferred that shrubs be mowed rather than grubbed or wholly removed if feasible To the extent possible and where appropriate use matting or minimal stripping to avoid disturbance to ground layer vegetation Where appropriate allow areas to naturally revegetate Cleanup and reclamation should be completed following construction as soon as weather conditions permit Wildlife Disturbance Comply with wildlife timing restrictions where these apply Recreational use')\n"
          ],
          "name": "stdout"
        },
        {
          "output_type": "stream",
          "text": [
            "\r114it [02:59,  1.57s/it]"
          ],
          "name": "stderr"
        },
        {
          "output_type": "stream",
          "text": [
            "('Table 412 Construction GHG Emissions Associated with the Northwest Mainline Timberwolf Section Category Emissions tonnes a b Category CO2 CH4 N2O CO2e Offroad Equipment 8194 046 338 9253 Onroad Equipment 1817 002 002 1823 Heating 491 00001 00004 502 Fugitive Dust Offroad Equipment Fugitive Dust Onroad Equipment ClearingOpen Burning 3511 134 282 4667 TOTAL 13528 139 622 15747 of 2010 AB GHG Total 0007 NOTES a The sum of the values in the table may not equal the total due to roundingb Assumed construction period is 6 months Not applicable ', 'Table 45 NatureServe Global Conservation Status Ranks Rank Definition G1 Critically ImperiledAt very high risk of extinction due to extreme rarity often 5 or fewer populations very steep declines or other factors G2 ImperiledAt high risk of extinction due to very restricted range very few populations often 20 or fewer steep declines or other factors G3 VulnerableAt moderate risk of extinction due to a restricted range relatively few populations often 80 or fewer recent and widespread declines or other factors G4 Apparently SecureUncommon but not rare some cause for longterm concern due to declines or other factors G5 SecureCommon widespread and abundant GG Range RankA numeric range rank eg G2G3 is used to indicate the range of uncertainty in the status of a species or community Ranges can', 'Table 564 Environmental Effects Assessment Matrix for Wildlife and Wildlife Habitat Environmental Effects Assessment Matrix Valued Environmental Component WILDLIFE AND WILDLIFE HABITAT Phase Operation and Maintenance Project Activities and Physical Works See Table 311 for list of specific activities and works Potential Environmental Effects AAdverse PPositive Mitigation Magnitude Geographic Extent DurationFrequency Reversibility EcologicalSocioCultural and Economic Context RoW Maintenance Change in habitat quality A Direct mortality A A WAWA permit will be obtained for any mechanical vegetation management within 30 m of a wetland greater than 1 ha or contiguous to a watercourse Only mechanical vegetation management to be used Vegetation management to occur outside of the breeding season for birds 1 1 56 R 2 MDGFRENKey requency agnitude eographic Extent cologicalSociocultural and Economic 1 11 eventsyear 1 Low', 'Table 2 Emission factors for fuel combustion during construction in gL Equipment and Fuel Type Emission Factors Equipment and Fuel Type CO2 CH4 N2O CO2e Offroad gasoline vehicles1 2289 27 0050 2361 Offroad diesel vehicles2 2663 015 11 3007 Propane stationary use3 1510 0027 0108 1544')\n"
          ],
          "name": "stdout"
        },
        {
          "output_type": "stream",
          "text": [
            "\r115it [03:01,  1.49s/it]"
          ],
          "name": "stderr"
        },
        {
          "output_type": "stream",
          "text": [
            "('Table 764 Landed Value of Fisheries Harvest within NAFO Unit Areas 4Wf 4We 4Wh 4Wd and 4Wk Species 2010 2011 2012 2013 Species Weight kg Value CAD Weight kg Value CAD Weight kg Value CAD Weight kg Value CAD Cusk 4394 3801 3864 3707 4434 3839 5793 5445 Dogfish 254 129 91 35 171 68 256 53 Eels 88 305 7300 38618 5637 40370 2 12 Elvers 85 117388 488 539251 699 3794247 944 5426808 Fins Fish Unspecified 64 977 1 16 0 0 2 35 Flounder Unspecified 144 233 111 190 29 53 35 48 GreysoleWitch 17418 22862 9125 3089 9298 6031 14724 14464 Groundfish Unspecified 41 41 428 18 67 1 261 31 Haddock 3153 4348 1658 2853 4980 9745 10772 16671 HagfishSlime Eel 47781 12', 'TABLE 6233 POTENTIAL EFFECTS MITIGATION MEASURES AND POTENTIAL RESIDUAL EFFECTS OF PIPELINE CONSTRUCTION AND OPERATION ON WATER QUALITY AND QUANTITY Potential Effect Location Spatial Boundary1 Key Measures EPP Reference2 Potential Residual Effects 3 Reduction in surface water quality contd See above See above If granular material is used to build dams use clean material that is adequately sized to withstand anticipated flows during construction Section 77 Maintain the quantity and quality of stream flow if present throughout crossing construction Trench through the watercourse after isolation is installed and operational and maintain stream flow at all times Section 77 Dewater the segment of the watercourse between the isolation structures if feasible and safe to do so Pump any siltladen water out from between the dams onto stable surfaces in', 'Table 33 Wind Erosion Risk New Pipeline RoW Wind Erosion Risk Linear Extent m Proportional Extent Open Water3 332 03 Total4 106001 1000 NOTES 1 Not applicable disturbed land and rural residential 2 Organic soils are not rated for wind erosion 3 Open water surface water features such as rivers and lakes 4 Values might not sum to totals shown because of rounding ', 'Table D5 Input Groups in the CALPUFF Control Input Group Description Applicable to Project 0 Input and output file names Yes 1 General run control parameters Yes 2 Technical options Yes 3 Species list Yes 4 Grid control parameters Yes 5 Output options Yes 6 Sub grid scale complex terrain inputs No 7 Dry deposition parameters for gases No 8 Dry deposition parameters for particles No 9 Miscellaneous dry deposition for parameters No 10 Wet deposition parameters No 11 Chemistry parameters No 12 Misc Diffusion and computational parameters Yes 13 Point source parameters Yes 14 Area source parameters No 15 Line source parameters No 16 Volume source parameters No 17 Flare source control parameters variable emissions file No 18 Road Emissions parameters No 19 Emission rate scalefactor tables')\n"
          ],
          "name": "stdout"
        },
        {
          "output_type": "stream",
          "text": [
            "\r116it [03:02,  1.47s/it]"
          ],
          "name": "stderr"
        },
        {
          "output_type": "stream",
          "text": [
            "('TABLE 72105 ECOLOGICAL CONTEXT SUMMARY FOR MAMMAL INDICATORS Mammal Indicator Ecological Context Grizzly Bear contd Valemount to Blue River and Eight Peaks Winter Recreation SRMPs recommend incorporating measures into the design of winter activities and developments that minimize impacts on grizzly bear habitat and denning sites and bear human conflicts BC ILMB 2005 BC MSRM 2003 The Alberta Grizzly Bear Recovery Plan 20082013 has been implemented within Alberta in an attempt to reduce humancaused mortality of grizzly bears improve knowledge about the population within Alberta reduce the number of humanbear conflicts improve and deliver education programs to the public ie Bear Smart maintain quality habitat and improve interjurisdictional cooperation ASRD 2008 A hunting moratorium was also put in place in 2006 and additional conservation initiatives include increasing the', 'TABLE 526 PREDICTED PROJECTRELATED IEUBK LEAD CONCENTRATIONS FOR CHILDREN WESTRIDGE MARINE TERMINAL Parameter Aboriginal Peoples Urban Dwellers Parameter Project Westridge Marine Terminal Project1Combined Project Westridge Marine Terminal Project1Combined Predicted geometric mean BLL in children aged 0 to 84 months 0025 0026 0024 0025 Probability of blood lead concentrations above cutoff value of 1 gdL 0 0 0 0 Probability of blood lead concentrations above cutoff value of 2 gdL 0 0 0 0', 'TABLE 313 INTERESTS OR CONCERNS RELATED TO SOCIAL AND CULTURAL WELLBEING Summary of Interest or Concern Response Summary Where Issue is Addressed in the Application Awarenessmitigation of potential social issues with influx of workers into communities and increase in traffic Does Trans Mountain have a traffic management plan Socioeconomic studies have been conducted to assess existing conditions and types of land use in the Project area as well as possible effects Mitigation strategies and management plans are being developed through discussions with regulatory authorities Aboriginal communities and stakeholders to help minimize the potential effects of the Project on biophysical and human environments Trans Mountains engagement process will continue throughout the development of the facilities application to the NEB as well as after it is filed in late 2013', 'Table 512 Geographic Coordinates of Meteorological Stations Included in the Climate Analysis Saskatchewan and Manitoba Pipeline Portion Station Type Source of Monitoring Data Station Name Latitude Longitude Elevationm ASL UTM NAD83 Pipeline Portion Station Type Source of Monitoring Data Station Name Latitude Longitude Elevationm ASL mE mN Zone Saskatchewan and Manitoba CCNS Environment Canada Abbey Saskatchewan 50 42 N 108 46 W 695 657712 5618843 12 Saskatchewan and Manitoba CCNS Environment Canada Chaplin Saskatchewan 50 28 N 106 39 W 672 382900 5591819 13 Saskatchewan and Manitoba CCNS Environment Canada Moose Jaw Saskatchewan 50 19 N 105 33 W 577 460842 5573984 13 Saskatchewan and Manitoba CCNS Environment Canada Regina Saskatchewan 50 25 N 104 40 W 577 523681 5585012 13 Saskatchewan and Manitoba CCNS Environment Canada Swift')\n"
          ],
          "name": "stdout"
        },
        {
          "output_type": "stream",
          "text": [
            "\r117it [03:03,  1.42s/it]"
          ],
          "name": "stderr"
        },
        {
          "output_type": "stream",
          "text": [
            "('TABLE 331 TIMETABLE OF TRADITIONAL LAND USE STUDIES FOR EACH PARTICIPATING ABORIGINAL COMMUNITY Community Project Components of Interest TLU Study Status FollowUp Heart Lake First Nation Pelican Lake and Christina River Sections Expressed interest in conducting a communityled TLU study TBD Horse Lake First Nation McLeod River Boundary Lake and Bear Canyon Sections Alces River Unit Addition Expressed interest in conducting a communityled TLU study TBD Lakeland Mtis Local No 1909 Pelican Lake and Christina River Sections Expressed interest in conducting a communityled TLU study TBD Marlboro Community Association McLeod River Section Independent third party TLU study Final report received in 2012 Completed in 2012 Mikisew Cree First Nation Pelican Lake and Christina River Sections Funding for a TLRU study has been discussed but the parties have been', 'Table 21 Valued Components Biophysical Socioeconomic Marine atmospheric environment acoustic environment surface water resources groundwater resources fish and fish habitat soils and terrain vegetation and wetlands wildlife and wildlife habitat human occupancy and resource use heritage resources palaeontology traditional land and resource use employment and economy infrastructure and services social and cultural wellbeing human health visual aesthetics marine fish and fish habitat marine wildlife and wildlife habitat', 'TABLE 5141 TEM AND VEGETATION SURVEYS BY BGC VARIANT FOR THE HOPE TO BURNABY SEGMENT BGC Variant1 Mapped Area in the Vegetation RSA1 ha Area Within the Proposed Pipeline Corridor ha Number of TEM Plots2 Amount of Rare Plant Survey on the Proposed Pipeline Corridor DatesDistance BGC Variant1 Mapped Area in the Vegetation RSA1 ha Area Within the Proposed Pipeline Corridor ha Ground Visual Amount of Rare Plant Survey on the Proposed Pipeline Corridor DatesDistance CWHms1 2367 3 CWHds1 59170 1346 9 13 May 22 to 23 2013 and July 13 to 15 2013 116 km CWHdm 34700 727 2 3 May 7 to 8 2013 July 13 to 14 2013 and August 20 and 23 2013 26 km CWHxm1 122884 2795 13 6 May 7 9 10', 'TABLE 736 SIGNIFICANCE EVALUATIONS OF CUMULATIVE EFFECTS ON INFRASTRUCTURE AND SERVICES Potential Cumulative Effects Impact Balance Spatial Boundary Temporal Context Magnitude Probability Confidence Significance1 Potential Cumulative Effects Impact Balance Spatial Boundary Duration Frequency Reversibility Magnitude Probability Confidence Significance1 a Increased traffic on highways and local roads used to access the Project area Negative RSA Shortterm Isolated Shortterm Low High High Not significant')\n"
          ],
          "name": "stdout"
        },
        {
          "output_type": "stream",
          "text": [
            "\r118it [03:05,  1.39s/it]"
          ],
          "name": "stderr"
        },
        {
          "output_type": "stream",
          "text": [
            "('TABLE 62 POTENTIAL BIOPHYSICAL AND SOCIOECONOMIC EFFECTS MITIGATIVE MEASURES AND RESIDUAL EFFECTS OF LSr PIPELINE AND PUMP STATION CONSTRUCTION AND OPERATION Biophysical or Socio Economic Element Potential Effect Location Project Boundary Measures EGC Reference1 Residual Effects 61a General contd see above see above Restoration of Banks Salvage surface organic material eg low vegetation leaf litter partially decomposed organic matter with the upper topsoil to the depth of the root zone from watercourse banks for reclamation if it can be removed intact Stabilize banks and approach slopes and install temporary berms silt fences or cross ditches in any location where runoff from the rightofway may flow into a watercourse Details 6A23 and 6A24 EGC 0213 EGC 0214 Install temporary erosion control measures within 24 hours of backfilling crossings EGC', 'Table 695 Predicted Change in Area of Disturbance to Wetlands in the Hidden Lake North Unit Addition Wetlands Regional Study Area Disturbance Featurea Existing Conditions Project Conditions Future Conditions Disturbance Featurea Disturbance ha 1 Change Attributed to the Project ha 2 Cumulative Disturbance ha 12 Change Attributed to Reasonably Foreseeable Disturbance ha 3 Change Attributed to the Project and Reasonably Foreseeable Disturbance ha 23 Cumulative Area of Disturbance ha 123 Facilities Oil and Gas Industrial and Municipal 1345 28 1373 38 66 1412 Primary Roads and Secondary Roads 171 0 171 0 0 171 Airports and Airfields 14 0 14 0 0 14 Mines Gravel Pits and Borrow Pits 225 0 225 0 0 225 Well Sites Energy Active 213 0 213 03 03 216 Well Sites Energy', 'TABLE 4 WATERCOURSE CROSSING SUMMARY FOR THE ALBERTA CLIPPER PROJECT Enbridge Pipelines Inc Volume III TABLE 4 Contd Alberta Clipper Project Enbridge Pipelines Inc Volume III TABLE 4 Contd Alberta Clipper Project Enbridge Pipelines Inc Volume III TABLE 4 Contd Location KP Legal Location Watercourse Reported Fish Presence12 Fish Habitat Potential3 Instream RAP Mean Monthly Streamflow ms Sampled Flow4 Channel Width m Mean Water Depth m Vehicle Crossing Pipeline Crossing Bank Restoration Approach Slope Mitigation Alberta Clipper Project Enbridge Pipelines Inc Volume III TABLE 4 Contd Location KP Legal Location Watercourse Reported Fish Presence12 Fish Habitat Potential3 Instream RAP Mean Monthly Streamflow ms Sampled Flow4 Channel Width m Mean Water Depth m If Water Present If Dry Frozen Within RAP Outside RAP Bank Restoration Approach Slope Mitigation Alberta', 'Table D1 Soil Legend for the Kahta Section of the North Montney Mainline Project Soil Unit Soil Symbol Dominant Significant Soil Parent Material Drainage Class Texture Topsoil Subsoil Textural Change Topsoil Depth cm Colour differentiation between topsoil and subsoil distinct indistinct Wind Erosion Hazard1 Water Erosion Hazard2 Soil Compaction Potential1 Trench Instability Potential1 Slope Surface Stoniness Extent Km Kenzie KZ Terric Mesisol Terric Fibrisol Organic morainal Very poorly drained Peat silt loam clay heavy clay silty clay clay loam No topsoil Peat dark grayish brown very dark grayish brown dark olive brown olive brown distinct change between peat and mineral soil Low Low No Yes 05 S0 13711 Tuskoola TK TKxp TKyp TKgl Orthic Eutric Brunisol Orthic Dystic Brunisol Gleyed Dystric Brunisol Gleyed Eutric Brunisol Morainal Moderately well')\n"
          ],
          "name": "stdout"
        },
        {
          "output_type": "stream",
          "text": [
            "\r119it [03:06,  1.43s/it]"
          ],
          "name": "stderr"
        },
        {
          "output_type": "stream",
          "text": [
            "('Table 655 Sahtu Settlement Area 2002 and 2003 Field Water Quality Parameters Waterbody Name Water Quality Season Date Dissolved Oxygen mgL pH Conductance Scm Temperature C Turbidity NTU Information Collected Waterbody Name Crossing ID Water Quality Season Date Dissolved Oxygen mgL pH Conductance Scm Temperature C Turbidity NTU Field Water Quality Water Chemistry Samples Sediment Chemistry Samples Waterbody Name 2002 2003 Water Quality Season Date Dissolved Oxygen mgL pH Conductance Scm Temperature C Turbidity NTU Field Water Quality Water Chemistry Samples Sediment Chemistry Samples Unnamed stream Site 449 RPR359 Summer June 6 2002 77 330 110 5 NS NS Unnamed stream Site 458 RPR367 Summer June 6 2002 77 400 60 3 NS NS Steep Creek Site 464 RPR371 Fall September 27 2002 79 667 22 12 NS', 'TABLE 51114 REGISTERED POPULATION STATISTICS FOR WHITEFISH LAKE No 128 FIRST NATION Residency No of People Population Living On Reserve 1159 Population Living Off Reserve 1753 Total Registered Population 2912 Youth Population Aged 1630 Living on Reserve 327 Youth Population Aged 1630 Living off Reserve 531 Total Youth Population Aged 1630 858', 'Table 12F3 Maximum Predicted Groundlevel Mercaptans Concentrations at Sensitive Receptors Associated with the Project Case ReceptorID Location UTM NAD 83 Maximum Predicted Groundlevel Mercaptans Concentrationgm3 ReceptorID mE mN Zone Onehour ofGuideline 24hour ofGuideline Annual ofGuideline 1 482409 5838070 12 0417 21 0068 0005 26 2 484618 5837232 12 0485 24 0071 0004 18 3 482561 5836775 12 0558 28 0146 0008 38 4 480047 5835861 12 0509 25 0065 0004 19 5 483476 5835404 12 0686 34 0103 0005 26 6 476999 5835023 12 0302 15 0038 0002 08 7 486142 5834565 12 0204 10 0038 0001 06 8 479133 5834185 12 0380 19 0059 0003 14 9 480047 5833499 12 0486 24 0073 0005 23 10 479057 5832508 12 0324 16 0060 0002 11 11 486980 5832051', 'Table 16 Concordance Table with CEAA CEAA requirement Section in CEAA Section of ESA The environmental effects of the project including the environmental effects of malfunctions or accidents that may occur in connection with the project and s161a Section 15 Accidents and Malfunctions any cumulative environmental effects that are likely to result from the project in combination with other projects or activities that have been or will be carried out s161a Sections 5 to 14 The significance of the effects referred to in paragraph a s161b Sections 5 to 14 Comments from the public that are received in accordance with this Act and the regulations s161c Section 2 Consultation Program Measures that are technically and economically feasible and that would mitigate any significant adverse environmental effects of the')\n"
          ],
          "name": "stdout"
        },
        {
          "output_type": "stream",
          "text": [
            "\r120it [03:08,  1.51s/it]"
          ],
          "name": "stderr"
        },
        {
          "output_type": "stream",
          "text": [
            "('Table 551 Watercourse Types along Storm Hills and Taglu Laterals Watercourse Type Stream Class Number of Sites Percentage of Streams Approximate Basin Size1 Lakes NA 7 NA Not available Streams Large River 2 3 DA1000 km2 Streams Active I 9 15 DA25 km2 Streams Active II 5 8 DA25 km2 and S001 mm Streams Vegetated 45 74 DA25 km2 and S001 mm Total sites 68 100 NOTES NA not applicable DA drainage area S slope 1 General relationships between drainage area and stream type based on stream classification results for the northern hydrologic region see Section 53 Regional Baseline Conditions Local conditions might vary ', 'Table A114 Annual Fugitive VOC Emissions from Connectors Valves and Pumps at Trans Mountain Facilities and their Corresponding GHG Emissions in tonnes Annual VOC Emissions CO2 CH4 CO2e Edmonton Terminal 5837 2627 1401 3205 Gainford 2489 0112 0060 1366 Wolf 1700 0076 0041 0933 Edson 5625 0253 0135 3088 Hinton 1943 0087 0047 1067 Jasper 1839 0083 0044 1010 Rearguard 1700 0076 0041 0933 Blue River 1700 0076 0041 0933 Blackpool 1701 0077 0041 0934 Darfield 2941 0132 0071 1615 Kamloops 1047 0471 0251 5748 Kingsvale 2242 0101 0054 1231 Sumas Pump Station 7771 0350 0187 4267 Albreda 2561 0115 0061 1406 Stump 1700 0076 0041 0933 Hope 2336 0105 0056 1283 Wahleach 1700 0076 0041 0933 Sumas Terminal 13445 0605 0323 7378 Burnaby Terminal 2688 1209 0645', 'Table 666 Jackfish Creek and Gibson Gap Creek Water Quality Metals Parameter Units Jackfish Creek RPR253 Gibson Gap Creek Site 326 Parameter Units 2002 2002 Historical Data 19721997 Parameter Units Summer Summer Winter Parameter Units August 15 August 24 Median Range n Total Metals Aluminum mgL 002 005 Antimony mgL 00007 00005 Arsenic mgL 00007 00004 Barium mgL 0109 0056 Beryllium mgL 0001 0001 Boron mgL 002 002 Cadmium mgL 00002DC 00002DC Chromium mgL 00008 00008 Cobalt mgL 00002 00002 Copper mgL 0001 0001 Iron mgL 02 007 103CW 0121CW 2 Lead mgL 00002 00002 Lithium mgL 0006 0006 Manganese mgL 0011 0011 0035 00080078W 2 Mercury 1 mgL 00000006 00000085 Molybdenum mgL 00003 00012 Nickel mgL 00007 00015 Selenium mgL 00006 00004 Silver 1 mgL 0000012 0000015', 'TABLE 643 POTENTIAL EFFECTS MITIGATIVE MEASURES AND RESIDUAL EFFECTS OF INSTALLATION AND OPERATION OF THE NEW PUMP STATIONS AND ASSOCIATED FACILITIES Potential Effect Terminal Station Spatial Boundary Measures EPP Reference1 Residual Effects 9c Sensory disturbance of wildlife during operation Edmonton Terminal NW 325223 W4M Wildlife LSA The proposed pump station will be subject to noise testing prior to being placed in service Enbridge will retain noise measurement specialists to conduct noise surveys once the pumps are inservice in order to confirm compliance with ERCB Directive 038 on Noise Control or where compliance with Directive 038 is not reasonably practical due to preexisting noise conditions at the site Enbridge will achieve a zero net increase in sound levels from the sites Ensure that noise abatement equipment eg mufflers on')\n"
          ],
          "name": "stdout"
        },
        {
          "output_type": "stream",
          "text": [
            "\r121it [03:10,  1.55s/it]"
          ],
          "name": "stderr"
        },
        {
          "output_type": "stream",
          "text": [
            "('Table A3 Potential Rare Vegetation Species in the Lower Boreal Highlands Natural Subregion Scientific Name Common Name Habitat Provincial Designationsa FederalGlobal Designationsb Vascular Plants Arctagrostis latifolia ssp arundinacea reed polargrass Marshy ground and moist meadows S3 Astragalus bodinii Bodins milk vetch Gravelly banks and moist sandy meadows Flowering in July S2 Boschniakia rossica groundcone Open woodland and scrub parasitic on alder Flowering in July S1 Botrychium crenulatum scalloped grapefern Dry open areas Flowering from midspring to late summer S3 G3', 'Table 1915 Maximum Predicted GroundLevel Concentrations at MPOI ShortTerm Exposure Planned Development Case COPC Maximum GroundLevel Concentration gm3 COPC PDC COPC 10minute1 1hour2 24hour SO2 110 16 NO2 224 114 CO 165 PM10 32 PM25 20 H2S 23 17 Benzene 13 48 Mercaptans 120 073 NOTES 1 The 10minute concentrations are calculated from the first highest 1hour concentrations using a conversion factor of 165 OMOE 2009 2 The first highest 1hour average predicted concentration No data available ', 'Table B1 Environment Canada Climate Stations Mean Annual Total Precipitation Station Name Year Total Rain mm Total Snow cm Total Precipitation mm Russell continued 1990 8540 1670 10210 Russell continued 1991 6209 1656 7865 Russell continued 1992 7361 1940 9301 Russell continued 1993 8476 2928 11404 Russell continued 1994 6853 2450 9303 Russell continued 1995 9200 2386 11586 Russell continued 1996 9360 1849 11209 Russell continued 1997 6144 3283 9427 Russell continued 1998 8105 1097 9202 Russell continued 1999 7482 1968 9450 Russell continued 2000 9382 2446 11828 Russell continued 2001 5677 1886 7563 Russell continued 2002 6944 2060 9004 Russell continued 2003 8530 1876 10406 Russell continued 2004 7990 1714 9704 Russell continued 2005 8876 1440 10316 Russell continued 2006 10459 1164 11623 Average 7344 2007 9306', 'Table 1512 Key Mitigation and Other Management Measures for SocioEconomic Components Potential Effect Effect Pathway Mitigation Measures Applicable Project Component Potential Effect Effect Pathway Mitigation Measures Rocky ViewSection Turner ValleyCS UnitAddition Burton CreekCS UnitAddition Change inhuman health Project activities leadingto exceedances ofregulated human healththresholds eg airquality noise waterquality etcProject activities couldcreate sensorydisturbances of nearbyresidents and land usersProject activities coulddisrupt normal dailyliving activities of nearbyresidents and land users Adhere to TransCanadas Healthsafety and EnvironmentCommitment Statement Change inhuman health Project activities leadingto exceedances ofregulated human healththresholds eg airquality noise waterquality etcProject activities couldcreate sensorydisturbances of nearbyresidents and land usersProject activities coulddisrupt normal dailyliving activities of nearbyresidents and land users Adhere to TransCanadas Alcoholand Drug Policy Change inhuman health Project activities leadingto exceedances ofregulated human healththresholds eg airquality noise waterquality etcProject')\n"
          ],
          "name": "stdout"
        },
        {
          "output_type": "stream",
          "text": [
            "\r122it [03:11,  1.53s/it]"
          ],
          "name": "stderr"
        },
        {
          "output_type": "stream",
          "text": [
            "('TABLE 4 SUMMARY OF RARE PLANT SPECIES OBSERVED DURING THE 2007 SURVEYS Common Name Scientific Name Provincial Rank Global Rank Number of Occurrences BRITISH COLUMBIA purplestemmed aster Aster puniceus var puniceus S1 G5T5 1 upswept moonwort Botrychium ascendens S2 G2G3 1 dainty moonwort Botrychium crenulatum S2S3 G3 8 golden saxifrage Chrysosplenium iowense S3 G3 1 northern bog bedstraw Galium labradoricum S2S3 G5 6', 'TABLE A3 2011 WILDLIFE TEK RECORDED ALONG THE MCLEOD RIVER SECTION Description Approximate Distance and Direction from Project Evidence of various wildlife including scat tracks and beds Moose tracks 5120 m southwest of KP 130 SW 15419 W5M 45 m south of KP 140 NE 25419 W5M 5 m southwest of KP 160 SW 115419 W5M Deer tracks 90 m southwest of KP 290 NW 15520 W5M Cougar tracks 45535 m northeast of KP 220 SW 295419 W5M 9 m southwest of KP 250 NE 365420 W5M 5 m southwest of KP 250 NE 365420 W5M Fox hole 4333 m northeast of KP 52 SE 215318 W5M 4 m northeast of KP 52 SE 215318 W5M 0 m northeast of KP 52 SE 215318 W5M Big game tracks', 'Table 673 Potential Wildlife and Wildlife Habitat Effects Mitigation and Predicted Residual Effects Key Indicator Key Indicator Interaction Description of Potential Effect Mitigation Predicted Residual Effect', 'TABLE 62 POTENTIAL BIOPHYSICAL AND SOCIOECONOMIC EFFECTS MITIGATIVE MEASURES AND RESIDUAL EFFECTS OF ALBERTA CLIPPER PIPELINE CONSTRUCTION AND OPERATION Biophysical or Socio Economic ElementPotential Effect Location Project Boundary Measures EGC Reference1 Residual Effects 92b disturbance to migratory birds and waterfowl Entire route Houcher Lake and Provost South landscapes DU Project KP 2720 to KP 2730 Cosine Lake Migratory Bird Concentration Site KP 2786 to KP 2794 Chapleau Lakes Montmartre DU Project KP 7829 to KP 7838 Kendal Game Preserve KP 7819 to KP 7846 DU Wetland Projects KP 7845 KP 8196 to KP 8204 KP 9281 to KP 9309 KP 938 to KP 9388 Game Bird Refuge KP 9850 to KP 9900 Oak LakePlum Lakes Important Bird Area KP 9870 to KP 10040 Log Cabin DU Project KP')\n"
          ],
          "name": "stdout"
        },
        {
          "output_type": "stream",
          "text": [
            "\r123it [03:13,  1.52s/it]"
          ],
          "name": "stderr"
        },
        {
          "output_type": "stream",
          "text": [
            "('Table 6211 Summary of Predicted Project Effects and Environmental Significance Valued Component ', 'Table A9 Coupling Code Type Description Code Type Description DC decoupled Sediment mobilized on the hill slope by a landslide normally would not enter the stream channel PC partially coupled A portion of the sediment mobilized on the hill slope by a landslide enters the stream channel CO coupled Sediment mobilized on the hill slope by landslide activity directly enters the stream channel', 'Table 7222 Fish Species Captured or Observed at Site RPR472 Manners Creek 2002 Species Number Captured or Observed Fork Length Species Spring Summer Fall Number Measured Range mm Arctic grayling 1 J 0 0 1 82a Northern pike 0 0 2 A 2 320332 Longnose sucker 0 1 A 0 1 334a Lake chub 2 0 0 2 74a NOTES A adult F fry J juvenile a Because only one fish was measured its fork length is recorded and no range is given ', 'Table 48 Issues from Communities in the Gwichin Settlement Area Issue Category Concern Source or Stakeholder Link to EIS Physical infrastructure contd Consult regarding alternate pipeline routes project design and construction community benefits from construction of access roads Meeting Open house Inuvik 2002Nov20 V2 S2 V7 S2 Public finance and economy Address concerns about potential effects on local economy and boombust scenario and the strength and sustainability of the local economy and housing market Meeting Open house Inuvik 2002Nov20 V6 S3 S4 Public participation Involve community in process by keeping communities up to date with information consulting openly with communities about concerns and questions related to consultation process and strategy and addressing these issues Meeting Gwichin Tribal Council Gwichin opportunities 2002Oct23 Meeting Gwichin Tribal Council Gwichin opportunities 2002Oct24')\n"
          ],
          "name": "stdout"
        },
        {
          "output_type": "stream",
          "text": [
            "\r124it [03:14,  1.41s/it]"
          ],
          "name": "stderr"
        },
        {
          "output_type": "stream",
          "text": [
            "('Table 880 Effects on Soil Quality Production Area Infrastructure Pathway Phase When Impact Occurs Effect Attribute Pathway Phase When Impact Occurs Direction Magnitude Geographic Extent Duration Changes in soil drainage Construction Adverse Low Local Far future Changes in soil drainage Operations Adverse Low Local Far future Changes in soil drainage Decommissioning and abandonment Neutral No effect NA NA Soil loss Construction Adverse Low Local Far future Soil loss Operations Neutral No effect NA NA Soil loss Decommissioning and abandonment Neutral No effect NA NA Changes in soil chemical and physical characteristics Construction Adverse Low Local Short term Changes in soil chemical and physical characteristics Operations Adverse Low Local Short term Changes in soil chemical and physical characteristics Decommissioning and abandonment Adverse Low Local Short term NOTE NA not', 'Table E1 Soil Inspection Sites New Pipeline RoW Site Site Type1 Subgroup Soil Unit Abbreviation Variant2 Parent Material UTM Zone Easting Northing Surface Expression Surface Stoniness Class Slope Slope Position Slope Class Topsoil Depth cm Drainage EEPCSD13 md0331 DS Rego Humic Gleysol DRO Moderately fine glacial till 14 325241 5549941 Undulating Non stony 001 5 Depressional 20 50 35 Poor EEPCSD13 md0373 DS Orthic Black Chernozem NDL Moderately fine glacial till 14 325260 5555147 Undulating Slightly stony 00101 3 Mid 20 50 12 Moderate Well EEPCSD13 md0376 DS Orthic Black Chernozem NDL Moderately fine glacial till 14 325400 5555521 Undulating Slightly stony 00101 5 Lower 20 50 23 Moderate Well EEPCSD13 md0379 DS Orthic Black Chernozem NDL Moderately fine glacial till 14 325403 5555922 Undulating Moderately stony 013', 'Table 1 Conversion Segments Province Segment to be Converted Line Number Length km Saskatchewan Canadian Mainline Prairies Line 1004 612 Manitoba Canadian Mainline Prairies Line 1004 4657 Ontario Canadian Mainline Northern Ontario line 1003 1501 Ontario Canadian Mainline Northern Ontario line 1004 1501 Ontario Canadian Mainline North Bay shortcut 12002 423', 'TABLE 7A9 RESIDUAL EFFECTS CHARACTERIZATION AND SIGNIFICANCE EVALUATION FOR VEGETATION BY PROJECT COMPONENT Component Criteria Rating1 Component Impact Balance Spatial Boundary2 Duration Frequency Reversibility Magnitude Probability Confidence Significance Temporary Infrastructure and Workspace Negative RSA Long to Extendedterm Isolated to Continuous Reversible Low Low High Not significant e Loss or alteration of latesuccessional forests Boundary Lake Section Negative LSA Extendedterm Continuous Reversible Low High Moderate Not significant Bear Canyon Section Negative LSA Extendedterm Continuous Reversible Low High Moderate Not significant McLeod River Section Negative LSA Extendedterm Continuous Reversible Low High Moderate Not significant Pelican Lake Section Negative LSA Extendedterm Continuous Reversible Low High Moderate Not significant Christina River Section Negative LSA Extendedterm Continuous Reversible Low High Moderate Not significant Alces River Unit Addition NA NA NA NA NA NA')\n"
          ],
          "name": "stdout"
        },
        {
          "output_type": "stream",
          "text": [
            "\r125it [03:15,  1.45s/it]"
          ],
          "name": "stderr"
        },
        {
          "output_type": "stream",
          "text": [
            "('TABLE 18 WETLANDS ASSOCIATED WITH WATERCOURSES AND DRAINAGES Wetland Report ID Legal Location of Construction Within Wetland Wetland Class Wetland SKP Range Associated Watercourse Fish Habitat Potential1 Fish Habitat RAP AB053 NW 27406 W4M SW 26406 W4M III 22259 to 22554 Ribstone Creek ABWC13 Drainage ABWC14 Fishbearing Nonfishbearing Mapped Class D No RAP None SK008a NE 113728 W3M III 29363 to 29408 Unnamed tributary to Cactus Lake SKWC1 Potentially fishbearing None SK009 NW 333627 W3M III 30149 to 30152 Unnamed tributary to Cactus Lake SKWC91 Potentially fishbearing None SK010 SE 333627 W3M III 30229 to 30234 Unnamed tributary to Cactus Lake SKWC4 Nonfishbearing None SK022 NW 163626 W3M V 31214 to 31223 Drainage Nonfishbearing None SK069 SE 53422 W3M V 35912 to 35957 Drainage Nonfishbearing None SK075 SW', 'Table 612 Potential Soil and Soil Productivity Effects Mitigation and Predicted Residual Effects ', 'Table 1 Compatibility with Existing Land Uses Community Pipeline Land Use Compatibility Land Use Restrictions in Relation to the Project Town of WhitchurchStouffville The following land uses shall be permitted in all designations subject to any identified conditions except for the Significant Environmental Area and Flood Plain Area designations and those designations in the Oak Ridges Moraine Plan Area gas telephone and cable television transmission utility services excluding transmission towers Where new uses are proposed in the Town by Federal or Provincial agencies or companies subject to Federal or Provincial controls including communications transmission towers the Town will work with the agency or company involved and seek to have the uses meet the following requirements Submission of a site plan and related studies by qualified professionals which provide', 'Table M12 Classes of Wind Erosion Susceptibility Based on Soil Texture WindErosionClass SoilTexture High Moderate Low ')\n"
          ],
          "name": "stdout"
        },
        {
          "output_type": "stream",
          "text": [
            "\r126it [03:17,  1.52s/it]"
          ],
          "name": "stderr"
        },
        {
          "output_type": "stream",
          "text": [
            "('Table 4 TLRU Information and Mitigation Frog Lake First Nation Traditional Land and Resource Use Information Location Relative to Project Development Area Relevant Consolidated ESA Documents Context from the Consolidated ESA Frog Lake First Nation Mitigation Recommendations3 Consolidated ESAEPP Mitigation Measures Clearly delineate areas that have access restrictions Restrict access to essential construction personnel only Direct all other personnel to the RoW via alternate access routes Reclaim disturbed areas following completion of construction restore access to and use of affected areas not required for permanent facilities Construction During construction mitigation measures include see the Temporary Facilities EPP Pump Station EPP and New Pipeline EPP In the event that a sacred site is discovered during construction of the pipeline suspend work immediately in the vicinity of any newly discovered', 'Table 576 Mitigation for Potential Effects on Fish and Fish Habitat Potential Effect Project Component Key Mitigationa Potential Effect Project Component Key Mitigationa 2 Alteration of instream habitat contd See above Typical Open Cut Crossings Conduct typical open cut of seasonally dry or frozen to the bottom watercourses and drainages in accordance with applicable DFO Measures to Avoid Causing Harm to Fish and Fish Habitat DFO 2016 Refer to Appendix 1D of the Projectspecific EPPs Drawing STDS03ML05105 Store excavation material outside the watercourse during the open cut If spoil is likely to be highly saturated excavate a pit or construct berms of packed earth to prevent spoil from flowing back into the watercourse Locate containment berms and spoil outside of the 10 m riparian buffer area Drawing STDS03ML05131', 'Table 24 Species Listed by the Alberta Weed Control Act Scientific Name Common Name Prohibited Noxious Weeds Elaeagnus umbellata Autumn Olive Impatiens glandulifera Himalayan Balsam Berberis vulgaris Common Barberry', 'Table 71 Accommodation in the Ontario LAA LAA Segments Population Centres with FixedRoof Accommodations1 Hotels and Motels of Rooms2 Campsites of Sites 1 Total Capacity Rooms Sites 1 Northwest Kenora 340 1180 1520 Northwest Vermilion Bay Machin 100 65 165 Northwest Dryden 130 190 320 Northwest Ignace 150 30 180 Northwest Upsala 25 85 110 Northwest Thunder Bay 540 820 1360 Northwest Nipigon 50 180 230 Northwest Beardmore Jellicoe Longlac 90 0 90 Northwest Geraldton 20 180 200 Northeast Hornepayne 60 90 150 Northeast Hearst 70 118 188 Northeast Kapuskasing 310 215 525 Northeast Smooth Rock Falls 45 30 75 Northeast Cochrane 180 270 450 Northeast Iroquois Falls Timmins Matheson Monteith 375 530 905 Northeast Kirkland Lake Ramore Swastika 140 0 140 Northeast Englehart Earlton Charlton Temiskaming Shores')\n"
          ],
          "name": "stdout"
        },
        {
          "output_type": "stream",
          "text": [
            "\r127it [03:18,  1.47s/it]"
          ],
          "name": "stderr"
        },
        {
          "output_type": "stream",
          "text": [
            "('Table B1 Marine Bird Observations by Survey Date Common Name Scientific Name 8262013 952013 9162013 9242013 1022013 10102013 10212013 10292013 1162013 1252013 192014 2102014 362014 432014 4102014 4172014 4252014 4302014 582014 5222014 6102014 07182014 01232015 0242015 02272015 03132015 03252015 Total Common merganser Mergus merganser 1 1 Redbreasted merganser Mergus serrator 1 2 21 15 1 4 6 2 1 1 1 55 Unidentified merganser sp 1 1 Osprey Pandion haliaetus 1 1 Killdeer Charadrius vociferus 2 2 Spotted sandpiper Actitis macularius 5 1 3 9 Purple sandpiper Calidris maritima 12 12 Ringbilled gull Larus delawarensis 2 1 3 2 5 1 2 1 1 24 42 Herring gull Larus argentatus 12 19 28 27 33 11 30 22 17 13 7 3 4 7 1 6 6 1', 'Table 1052 Greater Scaup Nesting Habitat Distribution Taglu Habitat Value Local Study Area Habitat Value Habitat Area ha Habitat High 1 1 Moderate 311 4 Low 1218 14 Very low to none 7069 82 No data 6 1 Total 8606 100a NOTE a Numbers do not total 100 because of rounding ', 'Table 32 Agricultural Capability Extent New Pipeline RoW Agricultural Capability1 Linear Extent of Pipeline Length m Proportional Extent of Pipeline Length 2I 1033 025 2PD 408 010 2PI 84 002 2TP 280 007 2TV 650 016 2V 5963 145 2VDP 4059 099 2VP 3715 090 Class 2 Total 16191 394', 'Table 613 Potential Project and Water Quality and Quantity Issues Recommended Mitigation and Predicted Residual Effects of Pipeline Construction and Operation Project Component Activity Potential Issue Recommended Mitigation Predicted Residual Effect horizontal directional drill crossings Reduced water quality due to accidental release of drilling mud Conduct proper geotechnical assessment before and monitoring during drilling to ensure that the design is being followed Use an inert nontoxic bentonitic claybased material as drilling mud for trenchless crossings Excavate entry and exit sites back from the ordinary high watermark and far enough from the watercourse to provide for containment of sediments and other deleterious substances above the high watermark Vegetation removal for the entry and exit sites is only to occur within the approved construction RoW and be kept to a')\n"
          ],
          "name": "stdout"
        },
        {
          "output_type": "stream",
          "text": [
            "\r128it [03:20,  1.48s/it]"
          ],
          "name": "stderr"
        },
        {
          "output_type": "stream",
          "text": [
            "('Table 34 Effects Classification Criteria Marine Fish and Fish Habitat Criteria Criteria Definitions Direction The expected longterm trend of the effects Positive Effect is an increase in fish habitat compared with baseline conditions and trends Direction The expected longterm trend of the effects Negative Effect is a decrease in fish habitat compared with baseline conditions and trends Direction The expected longterm trend of the effects Neutral Effect is no change from baseline conditions and trends', 'Table B1 CALPUFF Dispersion Model User Options Input Group Parameter USEPA Default Applied Description Group 2 Technical Options MGAUSS 1 1 Gaussian distribution used in the near field Group 2 Technical Options MCTADJ 3 3 Partial Plume Path Adjustment Method of terrain adjustment Group 2 Technical Options MCTSG 0 0 Subgridscale complex terrain not modelled Group 2 Technical Options MSLUG 0 0 Near field puffs not elongated Group 2 Technical Options MTRANS 1 1 Transitional plume rise applied Group 2 Technical Options MTIP 1 1 Stack tip downwash applied Group 2 Technical Options MBDW 1 1 ISC method used for downwash Group 2 Technical Options MSHEAR 0 0 Vertical wind shear not modelled Group 2 Technical Options MSPLIT 0 0 No puff splitting allowed Group 2 Technical Options', 'TABLE 7108 SUMMARIZED RESIDUAL EFFECTS CHARACTERIZATION AND SIGNIFICANCE EVALUATION FOR WILDLIFE AND WILDLIFE HABITAT Potential Residual Effect Criteria Rating Effects Characterization and Significance Determination Rationale j Total effect of the Project on Canada warbler resulting from changes in habitat movement mortality risk and their interactions contd Magnitude Low The Project will potentially affect Canada warbler through all three effect pathways that comprise the residual effect iechanges in habitat movement and mortality risk and their interactions The Project will disturb an estimated 6308 ha of available habitat for Canada warbler Although Project clearing has the potential to increase preferred shrubby habitats anthropogenic clearings may less optimal than those associated with natural habitat openings Habitat loss and fragmentation will be reduced by routing and siting Project components contiguous with existing', 'TABLE C2 LAND USE PLANNING AREAS HARGREAVES TO WESTRIDGE SEGMENT1 Planning Area Resource Management Direction Wildlife Objectives and Policies REGIONAL DISTRICTS AND COUNTIES ThompsonNicola Regional Growth StrategyHargreaves to Darfield Segment Black Pines to Hope Segment Environmental Protection Promote conservation and sustainability of watershed ecosystems wetlands and riparian areas Promote the development of green space networks to serve as wildlife corridors Avoid development within sensitive or hazardous areas or undertake adequate precautions and mitigation where development is unavoidable Develop criteria to assess the potential environmental impact of development applications and the requirement for mitigation Greater Vancouver Regional Growth StrategyHope to Burnaby Segment Burnaby to Westridge Segment Protect Conservation and Recreation Lands Identify secure and enhance habitat and park lands and buffer where feasible park and conservation areas from activities')\n"
          ],
          "name": "stdout"
        },
        {
          "output_type": "stream",
          "text": [
            "\r129it [03:21,  1.43s/it]"
          ],
          "name": "stderr"
        },
        {
          "output_type": "stream",
          "text": [
            "('TABLE 3172 INCOME AND EARNINGS ABORIGINAL GROUPS IN THE SOCIOECONOMIC LOCAL AND REGIONAL STUDY AREAS Location Population 15 years and over with Income Median Income Persons 15 Years and Over Persons 15 Years and Over with Earnings Who Worked Full Year Full Time Piapot First Nation Piapot IR No 75 Piapot Cree IR No 75H Treaty Four Reserve Grounds IR No 77 285 11064 90 Sakimay First Nation Sakimay IR No 74 Little Bone IR No 74B Shesheep IR No 74A Treaty Four Reserve Grounds IR No 77 180 11701 115 Cowessess First Nation Cowessess IR No 73 Treaty Four Reserve Grounds IR No 77 400 13430 165 Kahkewistahaw First Nation Kahkewistahaw IR No 72 Treaty Four Reserve Grounds IR No 77 275 14019 120 Flying Dust First', 'Table 535 Areas of Natural and Scientific Interest in the Terrestrial Local Study Area Regional Study Area and Project Footprint ', 'Table 187 Residual Effects on Social and Cultural WellBeing Project Phase Mitigation Residual Effects Characteristics Significance Prediction Confidence Significant Effects Likelihood of Monitoring and Followup Project Phase Mitigation Direction Magnitude Extent Geographic Duration Frequency Reversibility Context Socioeconomic Ecological and Significance Prediction Confidence Significant Effects Likelihood of Monitoring and Followup SAINT JOHN TANK TERMINAL AND MARINE TERMINAL ONSHORE COMPONENT Change in Social and Cultural Conditions Construction See Section 184 M L LAA M C R M N H NA See Section 188 Operation See Section 184 M L LAA L C R M N H NA See Section 188 Decommissioning and Abandonment1 CANAPORT ENERGY EAST MARINE TERMINAL OFFSHORE COMPONENT Change in Social and Cultural Conditions Construction See Section 184 M L LAA M C R M N H NA', 'TABLE 2313 PRELIMINARY REMOTELYOPERATED SECTIONALIZING VALVE LOCATIONS SKP RSV Location Legal Comments 2804 NE 34371 W4M Water Crossing Valve 2849 NE 253729 W3M Water Crossing Valve 3321 NE 183524 W3M Water Crossing ValveVolume Reduction Valve 3457 SW 293423 W3M Water Crossing ValveVolume Reduction Valve 3934 NW 163219 W3M Water Crossing Valve 4388 SW 343015 W3M Water Crossing Valve 4775 SW 172911 W3M Water Crossing Valve 5093 SE 8288 W3M Water Crossing Valve 5170 NW 36278 W3M Water Crossing Valve 5195 SE 31277 W3M Water Crossing Valve 5290 SE 13277 W3M Water Crossing ValveVolume Reduction Valve 5664 SE 18253 W3M Water Crossing ValveVolume Reduction Valve 7388 SE 351618 W2M Water Crossing Valve 8069 NW 321411 W2M Volume Reduction Valve 8622 NW 26136 W2M Water Crossing Valve 9497 SW 271031')\n"
          ],
          "name": "stdout"
        },
        {
          "output_type": "stream",
          "text": [
            "\r130it [03:23,  1.46s/it]"
          ],
          "name": "stderr"
        },
        {
          "output_type": "stream",
          "text": [
            "('Table 518 Historical Seasonal and Annual Mean Daily Temperatures at Selected Meteorological Stations Manitoba Pipeline Portion Station Name Mean Daily Temperature C Pipeline Portion Station Name Winter a Spring b Summer c Autumn d ANNUAL Manitoba Morden Manitoba 133 42 190 51 38 Manitoba Winnipeg Manitoba 157 33 183 41 26 NOTES a Winter months December January February b Spring months March April May c Summer months June July August d Autumn months September October November SOURCE Environment Canada 2006a ', 'Table 43 Stack and Emission Parameters for Regional Sources Facility Model ID Source Name UTM Coordinates NAD 1983 Zone 11 Base Elevation Height Diameter Exit Velocity Exit Temperature Emission Rate gs Facility Model ID Source Name mE mN m m m ms K NOx CO PM25 Existing Turner Valley Compressor Station COMP1 Compressor Unit 1 6885707 56191843 13080 122 289 303 761 350 a 6409 a 00184 b Existing Turner Valley Compressor Station COMP2 Compressor Unit 2 6885959 56191257 13080 122 289 303 761 350 a 6409 a 00184 b Existing Turner Valley Compressor Station BOIL1 Boiler 1 6885393 56191456 13080 624 0305 240 473 00363 c 00315 d 240E04 b Existing Turner Valley Compressor Station BOIL2 Boiler 2 6885369 56191447 13080 624 0305 240 473 00363 c', 'TABLE 6182 ANTICIPATED ROAD USE BY PROJECT COMPONENT Project Component Anticipated Road Use Comments Boundary Lake Section Highway 64 Gravel roads Winter roads during frozen conditions No new roads are anticipated to be needed for construction or operations Approximately 100 vehicles per spread for the 2 spreads will be needed in addition to heavy hauling vehicles for the delivery of potable water catering and materials transport This proposed pipeline route crosses 24 gravel resource access roads Bear Canyon Section Highway 49 Highway 97 The roads used to transport equipment to site will be dependent upon the requirements of the Contractor and where the equipment was previously located Workers will likely travel using Highway 49E and Highway 97 from the City of Dawson Creek This proposed pipeline route crosses', 'Table 452 Plant Species from the AC CDC Database Potentially Occurring Within the Preferred Corridor Location Scientific Name and AC CDC Rank Common Name NBDNR Status Prince of Wales Exit and Vicinity Geocaulon lividum S3 Northern Comandra Secure Prince of Wales Exit and Vicinity Arethusa bulbosa S3 SwampPink Secure Prince of Wales Exit and Vicinity Carex exilis S2 Coast Sedge Secure Prince of Wales Exit and Vicinity Brasenia schreberi S3 Watershield Secure Digdeguash River Lobelia cardinalis S3 Cardinal Flower Secure Clarence Stream Schoenoplectus torreyi S3 Torreys Bulrush Secure Waweig River Carex cryptolepis S3 Northeastern Sedge Secure Dennis Stream Lobelia cardinalis S3 Cardinal Flower Secure Dennis Stream Platanthera hookeri S3 Hooker Orchis Secure Dennis Stream Platanthera grandiflora S3 LargeLeaved FringedOrchis Secure Bush Brook Pyrola americana S3S4 American Wintergreen Secure')\n"
          ],
          "name": "stdout"
        },
        {
          "output_type": "stream",
          "text": [
            "\r131it [03:24,  1.47s/it]"
          ],
          "name": "stderr"
        },
        {
          "output_type": "stream",
          "text": [
            "('Table 2 TLRU Information and Mitigation Flying Post First Nation Traditional Land and Resource Use Information Location Relative to Project Development Area Relevant Consolidated ESA Documents Context from the Consolidated ESA Flying Post First Nation Mitigation Recommendations2 Consolidated ESAEPP Mitigation Measures Other Environmental FPFN members drink out of streams lakes and ponds near Lake Nipigon FPFN stated that the water is pure in that area because there is no industry in the area Lake Nipigon is within the TLRU RAA Surface Water Resources Volume15 Part C1 In the surface water resources assessment the potential effects from the Project on surface water resources are change in surface water quality and change in surface water quantity The Project will not affect waterbodies located outside of the LAA for the surface', 'Table 79 Residual Effects on Infrastructure and Services Project Phase Mitigation Residual Effects Characteristics Significance Confidence Prediction Significant Effects Likelihood of Monitoring and Followup Project Phase Mitigation Direction Magnitude Extent Geographic Frequency Duration and Reversibility Context Environmental Significance Confidence Prediction Significant Effects Likelihood of Monitoring and Followup MOOSOMIN TANK TERMINAL Increased Demand on Accommodation Construction See Section 74 P NA NA NA NA NA NA H NA See Section 77 Operation See Section 74 P NA NA NA NA NA NA H NA See Section 77 Decommissioning and abandonment1 Increased Demand on Community Services Construction See Section 74 N L LAA MMI R L N H NA See Section 77 Operation See Section 74 M L LAA LMI R L N H NA See Section 77 Decommissioning and', 'TABLE 511 POTENTIAL EFFECTS AND MITIGATION MEASURES OF PIPELINE CONSTRUCTION AND OPERATION ON GROUNDWATER INDICATORS Potential Effect Pipeline Segments Spatial Boundary1 Key Measures EPP Reference2 1 Water Quality and Quantity Indicator Groundwater Quality 11 Shallow groundwater with existing contamination encountered during trenching BAll but predominantly urban areas lack Pines to Hope RK 8448 to RK 8458 LSA Ensure an environmental monitor with experience in contaminated sites is present to check for indications of potential groundwater contamination ie sheen odour adjacent soil staining during pipeline trench excavation in areas where there is higher potential for encountering contamination eg urban areas Where groundwater contamination is suspected the groundwater should be sampled and analyzed by an accredited laboratory Section 83 Ensure contaminated soil and water are not transported offsite or disposed', 'TABLE 5192 ONRESERVE WATER AND WASTEWATER TREATMENT STATISTICS FOR PAUL FIRST NATION Community Water Source Water Treatment Class Wastewater Treatment Wabamun IR No 133A Groundwater Level I Level I Creek Receiver Wabamun 133A Subdivision Lagoon NA NA Level I Wetland Receiver')\n"
          ],
          "name": "stdout"
        },
        {
          "output_type": "stream",
          "text": [
            "\r132it [03:25,  1.41s/it]"
          ],
          "name": "stderr"
        },
        {
          "output_type": "stream",
          "text": [
            "('Table 6B1 Pipeline Crossings with Potential for Fish and Fish Habitat in Qubec Crossing ID Watercourse Name Location UTM Watercourse Type Navigability1 Channel Width m Wetted width m Maximum Depth m Species Captured by UDA Historic Species Documented Species of Management Concern Habitat Sensitivity Ranking Restricted Activity Period RAP Recommended Pipeline Crossing Method QCML317B Br No 1 of des Ilets 16358 19N E 306267435 N 5179469133 Intermittent Not Navigable 45 0 0 Not fished due to low water level No documented fish presence Low None Isolated unless its dry or frozen QCML317D Br No 2 of des Ilets 16358 19N E 306451465 N 5179321687 Intermittent Not Navigable 14 0 0 Not fished due to low water level No documented fish presence Low None Isolated unless its dry or', 'TABLE 221 SUMMARY OF CONSULTATION ACTIVITIES RELATED TO WILDLIFE AND WILDLIFE HABITAT Name and Title of Contact Method of Contact Date of Consultation Activity Reason For Engagement and IssuesConcerns CommitmentsFollowup ActionsComments AESRD Upper Athabasca Region Hinton Jeff Kneteman Senior Wildlife Biologist Email September 11 2013 Provide an introduction to the Project and a summary of the PNTs that are encountered by the proposed pipeline corridor and request feedback related to mitigation Request feedback on longtoed salamander breeding pond located north of the existing Hinton pump station Provide information on the LSA and RSA study area boundaries including the grizzly bear RSA for review September 15 2013 AESRD responds that primary recommendation is to prioritize the conservation and immediate placement of topsoil including protecting native species propagules and restoration', 'Table 92 2010 Surface Water Quantity and Quality Survey Results SITE NO LEGAL LAND LOCATION WATERBODY NAME WATERBODY TYPE CONSTRUCTION PLANNING SITE NO LEGAL LAND LOCATION WATERBODY NAME WATERBODY TYPE RESTRICTED ACTIVITY PERIOD FISH SENSITIVITY PRELIMINARY METHOD PIPELINE CROSSING OF STREAM PRELIMINARY METHOD VEHICLE ACCESS ACROSS STREAM PRELIMINARY CROSSING RISK TO FISH HABITAT SITE NO LEGAL LAND LOCATION WATERBODY NAME WATERBODY TYPE RESTRICTED ACTIVITY PERIOD FISH SENSITIVITY PRIMARY CONTINGENCY PRIMARY PRELIMINARY CROSSING RISK TO FISH HABITAT Bigstick Lake Watershed 2 5151426 W3M Maple Creek Large permanent October 1 to May 31 Low to moderate Isolated Open cut Open cut Temporary Singlespan bridge Low 3 16191223 W3M Piapot Creek Large permanent October 1 to May 31 Unknown Horizontal Directional Drill Isolated Open cut Temporary Singlespan bridge Unknown 4 11221122', 'Table 52 Criteria from Other Jurisdictions for the Critical Levels Assessment SOI Averaging Interval Critical Level gm3 Vegetation Note NOX as NO2 Annual 30 Protective of 95 of species at a 95 confidence level SO2 Annual 10 Cyanobacterial lichens SO2 Annual 20 Forest ecosystems SO2 Annual 20 semi Natural vegetation SO2 Annual 30 Agricultural crops')\n"
          ],
          "name": "stdout"
        },
        {
          "output_type": "stream",
          "text": [
            "\r133it [03:27,  1.54s/it]"
          ],
          "name": "stderr"
        },
        {
          "output_type": "stream",
          "text": [
            "('Table 1841 Potential Effects on Navigation and Navigation Safety Mitigation and Predicted Residual Effects Key Indicator Interactions Description of Potential Effects Mitigation Predicted Residual Effect Navigation safety contd Construction of watercourse crossings contd The safety of users on navigable watercourses may be affected should they enter the construction zone during trenched and temporary crossing construction contd Complete watercourse crossings in a timely manner Constructinstall all watercourse vehicle crossings in accordance with the typical drawings see EPP Appendix 1D Dwgs STDS03ML05101 STDS03ML05103 and STDS03ML05104 Construct all bridges singlespan or ice and snow fill beyond the ends of the banks and with a minimum depth of 05 m of snowfill or fill material at each bank Do not place fill within primary banks for bridge abutment construction unless approved by', 'Table 1 Permissible Sound Levels ReceiverLocation 500 400', 'TABLE A38 CONSULTATION ACTIVITIES WITH LANDOWNERS IssuesConcerns Mitigation Where Issue is Addressed in the ESAEPP Vegetation Weeds Landowners have concerns regarding weed control Enbridge has developed a comprehensive identification prevention treatment and monitoring program for weeds This includes a complete weed survey development of mitigation to prevent the spread and introduction of weeds and specific construction practices These practices are developed in consultation with counties regulators and landowners Mitigation may involve cleaning stations preconstruction treatment of problem areas seeding and reclamation and post construction monitoring and treatment See Sections 622 629 631 and 651 of the ESA See Appendix G of the EPPs OPERATIONS AND MAINTENANCE Reclamation and Restoration Landowners had concerns that the results of environmental assessments and surveys conducted would be not shared with the landowner', 'TABLE 541 COLDWATER INDIAN BANDCOLDWATER INDIAN BAND OVERVIEW Band Population Tribal Affiliation Traditional Language Traditional Cultural Practices Economic Development GoalsBusiness Capacity Unknown1 Nicola Tribal Association Scwexmxcin dialect of nekepmx Unknown1 Eshknam archaeology Stuwix Resource Joint Venture general contracting')\n"
          ],
          "name": "stdout"
        },
        {
          "output_type": "stream",
          "text": [
            "\r134it [03:29,  1.46s/it]"
          ],
          "name": "stderr"
        },
        {
          "output_type": "stream",
          "text": [
            "('Table 414 Issues from Communities in the Sahtu Settlement Area Issue Category Concern Source or Stakeholder Link to EIS Public participation contd Maintaining effective contact with community members and organizations and continuing to solicit community input contd Meeting Sahtu Land Use Planning Board 2002Jul26 Phone Fort Good Hope Regional Resource Council 2003Feb03 Meeting Traditional Knowledge presentation to Ernie McDonald Land Corporation 2002Nov13 Phone Discussion with Ernie McDonald Land Corporation 2002Oct28 Meeting Baseline data verification Tulita 2002Oct29 Phone Phone call about fieldwork accommodations 2002Oct4 Public participation contd Discussing reviewing and revising public consultation strategy Phone Aurora Research Institute Sahtu Tulita communications 2003Jul17 Meeting Community consultation Fort Good Hope 2003Apr16 Meeting TDLC 2003Mar13 V1 S4 Public participation contd Addressing administrative and logistical concerns about public participation activities Phone Discussion about', 'Table C 4 19 to 22 EFR Aug AHS 257 21 980 897 1956 3833 014 488 011 Tank Type Month Product Avg Fill Rate m3h Turnovers per Month Product Losses emissions kg Emission Rates gs Tank Type Month Product Avg Fill Rate m3h Turnovers per Month Rim Withdrawal Deck Fitting Total Avg Max Min 19 to 22 EFR Jan AHS 257 21 1384 897 3196 5477 020 697 017 19 to 22 EFR Feb AHS 257 21 1394 897 3231 5521 023 778 019 19 to 22 EFR Mar AHS 257 21 1424 897 3330 5650 021 719 018 19 to 22 EFR Apr AHS 257 21 1403 897 3261 5561 021 731 018 19 to 22 EFR May AHS 257 21 1275 897 2843 5014 019', 'Table 92 Capital Expenditures for Pipeline and Pipeline Facilities Millions ProjectComponent Total1 Gatheringpipelines 618 504 NGLpipeline 531 3318 520 Total 5490 ', 'TABLE 2 TIMETABLE OF TRADITIONAL LAND USE STUDIES Community Meeting Overflights Ground Work Mitigation Meeting May 19 2009 September 19 to October 6 2009October 22 to 25 2009 September 19 to October 6 2009 October 22 to 25 2009 November 18 2009')\n"
          ],
          "name": "stdout"
        },
        {
          "output_type": "stream",
          "text": [
            "\r135it [03:30,  1.43s/it]"
          ],
          "name": "stderr"
        },
        {
          "output_type": "stream",
          "text": [
            "('TABLE 579 LANDS ALONG THE PROPOSED PIPELINE ROUTE IN SASKATCHEWAN RATED AS HAVING NO SIGNIFICANT CLASS 1 TO SLIGHT CLASS 3 LIMITATIONS Location KP Class Limitations 2961 to 2981 2 Aridity results in low or dry ponds or marshes 3269 to 3272 3S Adverse water depth and reduced marsh edge 3275 to 3281 3S Adverse water depth and reduced marsh edge 3928 to 3942 3 Excessive or fast waterflow and reduced marsh edge 4013 to 4015 3 Excessive or fast waterflow and reduced marsh edge 4060 to 4065 3 Excessive or fast waterflow and reduced marsh edge 4074 to 4078 3 Excessive or fast waterflow and reduced marsh edge 4254 to 4259 3 Excessive or fast waterflow and reduced marsh edge 4454 to 4464 2S Adverse water depth', 'Table 514 Environmental Effects Assessment Matrix for Atmospheric Environment Temporary Ancillary Structures and Facilities Change in air quality A Application of dust suppressant Follow equipment maintenance schedules Use of low sulphur fuels where feasible Preserve natural vegetation where practicable Minimize activities that generate large quantities of dust during high winds 2 1 22 R 2 Change in sound quality A Noise controls where warranted egsound barriers Timing restrictions where warranted 2 1 12 R 2', 'Table 623 Proposed Noise Emission Sources for the Blackpool Pump Station Source Source Type Quantity Octave Spectrum dB Overall Sound Power Reference Source Source Type Quantity 315 63 125 250 500 1000 2000 4000 8000 dBA dB Reference Proposed Sump Pump Point 1 747 747 777 797 827 827 817 767 687 874 89 2 Proposed EHouse Exhaust Fan Point 1 931 966 915 874 898 831 792 741 684 897 999 2 Proposed EHouse Louvre Point 1 931 966 914 869 896 824 784 733 663 893 999 2 Proposed Pump House Building Exhaust Fan Point 3 842 857 863 867 875 892 873 837 774 935 957 2 Proposed Pump House Building Louvre Point 3 842 857 862 862 872 89 872 837 772 933 956', 'Table 510 Chronic Toxicological Reference Values for Noncarcinogenic Effects COPC Value Critical Effect Description of Study Source Fluorene 004 mgkgd Hematological effects decreased red blood count packed cell volume and decreased hemoglobin 13week gavage study on mice exposed to fluorene suspended in corn oil US EPA 1989e US EPA IRIS 2016 Naphthalene 002 mgkgd decreased mean body weight in male rats 13week 5 daysweek gavage study on rats exposed to naphthalene in corn oil BCL 1980 Health Canada 2010b Pyrene 003 mgkgd Kidney effects renal tubular pathology decreased kidney weights 13week gavage study on mice exposed to pyrene in corn oil US EPA 1989b Health Canada 2010b')\n"
          ],
          "name": "stdout"
        },
        {
          "output_type": "stream",
          "text": [
            "\r136it [03:31,  1.42s/it]"
          ],
          "name": "stderr"
        },
        {
          "output_type": "stream",
          "text": [
            "('Table 12 Concordance with the Terms of Reference Section of TOR Title Description Summary Volume of EIS Section of EIS Volume 124 Mitigation Measures Measures to mitigate adverse impacts or to create or enhance beneficial impacts proven versus experimental mitigation measures applicable codes of practice mitigation measures contained in benefit socioeconomic and environmental agreements 1 2 125 Residual Impacts Direction magnitude geographic extent timing and duration frequency reversibility 1 2 126 Significance Process used to determine significance basis for determining significance contribution of project to sustainable social and economic development 1 2 127 Likelihood Likelihood of occurrence for any significant residual adverse impacts 1 2 128 Confidence in Prediction Degree of certainty in the impact predictions and determination of significance 1 2 129 Application of a Precautionary Approach', 'Table 1373 High Quality Habitat Availability for Caribou in the Project Corridor at Different Assessment Scenarios Season Baseline ha Baseline of high quality habitat in Project corridor Construction change from baseline Operations without the Project change from baseline Operations with the Project change from baseline Spring 46387 267 NA 01 24 Summerfall 0 0 Early winter 0 0 Late winter 0 0 ', 'Table A4 Vapour Space Speciation Profile for HHT Product Product Codea Name CAS Number Molecular Formula Molecular Weight gmol Mass Fraction Mol Fraction AWB 3Methylheptane 589811 C8H18 114 170E04 706E05 AWB Hexane 24dimethyl 589435 C8H18 114 139E04 578E05 AWB Octane 111659 C8H18 1142285 325E04 135E04 AWB Methane 74828 CH4 160425 353E02 105E01 AWB Methyl mercaptan 74931 CH4S 48107 172E05 171E05 AWB Carbon dioxide 124389 CO2 440095 263E03 283E03 AWB Carbonyl sulphide 463581 COS 60 796E07 630E07 AWB Carbon disulphide 75150 CS2 76141 105E06 657E07 AWB Hydrogen sulphide 7783064 H2S 34 508E08 709E08 NOTE a AWB Access Western Blend ', 'TABLE 7251 POTENTIAL RESIDUAL EFFECTS OF THE PROJECT ON FISH AND FISH HABITAT CONSIDERED FOR THE CUMULATIVE EFFECTS ASSESSMENT Potential Residual Effect Spatial Boundary1 Project Component Temporal Boundary Potential Cumulative Effect Existing ActivitiesReasonably Foreseeable Developments with Residual Effects Acting in Combination with the Project Effects of the 1Project on riparian habitat RSA Replacement pipeline temporary vehicle crossings and decommissioning inplace Past development to operation Project contribution to cumulative increase in riparian habitat disturbance Existing activities include agriculture and livestock grazing recreation rural and urban residential and commercial development transportation and infrastructure development dams and reservoirs utilities activities and oil and gas exploration and development Reasonably foreseeable development within the RSA listed in Tables A71 to A73 and described in Section 713 Pipelinerelated activities that could interact with the')\n"
          ],
          "name": "stdout"
        },
        {
          "output_type": "stream",
          "text": [
            "\r137it [03:33,  1.46s/it]"
          ],
          "name": "stderr"
        },
        {
          "output_type": "stream",
          "text": [
            "('TABLE 3120 SUMMARY OF CONSULTATION ACTIVITIES RELATED TO VEGETATION Stakeholder GroupAgency Name Name and Title of Contact Method of Contact Date of Consultation Activity Reason For Engagement IssuesConcerns CommitmentsFollowup ActionsComments Where Issue is Addressed in the Application Parkland County James Leskiw Supervisor Agricultural Agronomics Email Telephone April 17 to 22 2013 Project Introduction Weeds and crop diseases of concern Preferred invasive species and crop disease control practices Provided list of clubroot positive fields Recommended the Clubroot Management Plan be followed Concerns regarding spread and introduction of Noxious and Prohibited Noxious weeds Request for detailed map of Project area within county More detailed map was provided on October 8 2013 Volume 5A Sections 59 and 729 Volume 5C Vegetation Technical Report City of Spruce Grove Infosprucegroveorg Email Telephone FApril', 'TABLE 5115 GEOLOGICAL FORMATIONS UNDERLYING THE LINE 3 REPLACEMENT PIPELINE ROUTE IN SASKATCHEWAN Geologic Formation Location SKP Rock Types Belly River SKP 2850 to SKP 2880 SKP 4757 to SKP 4780 SKP 4813 to SKP 4845 SKP 6379 to SKP 6415 Fluviatile sandstone siltstone and mudstone Bearpaw SKP 2880 to SKP 4321 SKP 4737 to SKP 4757 SKP 4845 to SKP 6379 SKP 6415 to SKP 7719 Grey marine claystone shale and siltstone Undifferentiated Tertiary SKP 4321 to SKP 4737 Quartzite and chert gravel locally conglomeratic Lea ParkMilk River SKP 4780 to SKP 4813 Marine shalemuddy sandstone Riding Mountain SKP 7719 to SKP 9654 Silty marine claystone and shale', 'Table A11 Annual Electricity Consumptions at Trans Mountain Pump Stations in kWh 2010 2011 2012 Gainford Pump Station 22341028 17348000 20198000 Wolf Pump Station 19018064 14443000 16661000 Edson Pump Station 24734115 21400000 24333000 Hinton Pump Station 9031858 6692000 6321000 Jasper Pump Station 828964 837000 1052000 Rearguard Pump Station 11436849 8678000 11670000 Blue River Pump Station 7679269 5488000 5470000 Blackpool Pump Station 22298397 17694000 19462000 Darfield Pump Station 18480774 15006000 16788000 Kamloops Station 45539981 39308000 42035000 Kingsvale Pump Station 20400000 15988000 18504000 Sumas Pump Station 24376785 17132000 17627000 Albreda Pump Station 12682811 8531000 8248000 Stump Pump Station 16334026 11832000 14144000 Hope Pump Station 4639129 2542000 2979000 Wahleach Pump Station 15210281 10860000 13154000 BC miscellaneous 908813 908813 908813', 'Table A6 Spring and Summer Vascular Plant Inventory for Northern Ontario O Overall Spring Summer Scientific Name Common Name COEFFICIENT OF CONSERVATISM WETNESS INDEX WEDINESS INDEX PROVINCIAL STATUS OMNR STATUS COSEWIC STATUS GLOBAL STATUS Author x x x Viburnum cassinoides Northern Wild Raisin 7 3 S5 G5 L x x x Viburnum edule Squashberry S5 G5 Michx Raf x x Viburnum lantanoides Hobblebush 8 0 S5 G5 Michx x x Viburnum lentago Nannyberry 4 1 S5 G5 L x x Viburnum opulus Guelder Rose 0 1 SE4 G5 L x x Viburnum rafinesquianum Downy Arrowwood 7 5 S5 G5 Schult x x Viburnum trilobum High Bush Cranberry 5 3 S5 G5T5 Marshall x x Caryophyllaceae Pink Family x x Dianthus armeria Deptford Pink 5 1 SE5 G L')\n"
          ],
          "name": "stdout"
        },
        {
          "output_type": "stream",
          "text": [
            "\r138it [03:35,  1.53s/it]"
          ],
          "name": "stderr"
        },
        {
          "output_type": "stream",
          "text": [
            "('TABLE 336 HABITAT RATINGS FOR HIGH SNOWFALL AREAS BASED Structural Stage Stand Composition Structural Stage Conifer Mixed Deciduous 12 Nil 6 Nil 6 Nil 6 3a Very Low 5 Very Low 5 Very Low 5 3b 5 Low 4 Low 4 Low 4 67 Restrictive Zones ModeratelyHigh 2 ModeratelyHigh 2 Moderate 3 67 Highly Restrictive Zones Moderate 3 Moderate 3 Low 4', 'TABLE 7293 POTENTIAL EFFECTS MITIGATION MEASURES AND RESIDUAL EFFECTS OF PIPELINE CONSTRUCTION AND OPERATIONS ON VEGETATION Potential Effect Pipeline Segments Spatial Boundary1 Key Measures EPP Reference2 Potential Residual Effects 11 Loss or alteration of native vegetation contd All Footprint Implement plant protection measures eg soil mounds and berms wind fencing and rollback that work to minimize environmental stresses ie wind exposure low soil moisture stress desiccation to the extent feasible Section 70 of Appendix C Seed disturbed lands with land uses that support native and nonnative plant communities with native and nonnative grass mixtures and rates respectively as identified in the Reclamation Management Plan as per results of the vegetation field surveys Appendix C Section 86 For native seed the highest seed grade available will be obtained Do', 'Table 272 Fine Particulate Matter Predictions at the NGTL Interconnect Facility Area Parameter Averaging Period Predictionsa Area Parameter 24hour Annual NGTL interconnect facility Maximum fine particulate matter PM25 concentration gm 31 07 NGTL interconnect facility Distance to maximum1 km 01 01 NGTL interconnect facility Direction to maximum1 SSE SSE NGTL interconnect facility Expected occurrences exceeding standard2 00 NA NGTL interconnect facility Area exceeding standard3 ha 00 NA PM25 standards4 gm 30 NA NOTES NA not applicable SSE southsoutheast a The predictions in the table include the effects of combined emissions from project sources in the southern airshed 1 Distance and direction are relative to the facilities 2 The expected occurrences exceeding standard is the number of days or years with predicted concentrations exceeding the applicable standards It is', 'Table 63 Definition of Residual Environmental Effect Rating Criteria for Agricultural Soils and Nonagricultural Soils Criteria Rating Definition Magnitude Negligible Change in soil properties might or might not be detectable butthere is nodifference from baseline values and soil capability class or soil quality is notaffected Magnitude Low Change in soil properties is detectable but is within the range of naturalvariation or baseline values and soil capability class or soil quality is notaffected Magnitude Moderate Change in soil properties is detectable and differs from the limits of naturalvariation or baseline values butis unlikely to affect natural soilfunction orrequire a management change the effectis unlikely to affect soil capabilityclass or soil quality Magnitude High Change in soil properties is detectable and differs from the limits of naturalvariation or baseline values')\n"
          ],
          "name": "stdout"
        },
        {
          "output_type": "stream",
          "text": [
            "\r139it [03:36,  1.45s/it]"
          ],
          "name": "stderr"
        },
        {
          "output_type": "stream",
          "text": [
            "('TABLE 1 GENERAL TOPSOIL SALVAGE PROCEDURES Ground Conditions Land Use Topsoil Salvage Method NonFrozen All Full rightofway Details 14 15 Frozen All Minimal Width Details 14 15', 'Table 32 Regulatory Communication New Brunswick Date of IssueContact Project File Permit Number Topic September 18 2013 NA NA Grand Falls Historical Society Request for historical information near the PDA September 18 2013 NA NA Heritage Development Board Request for historical information near the PDA September 18 2013 NA NA Southern Victoria Historical Museum Request for historical information near the PDA September 18 2013 NA NA Sunbury West Historical Society Request for historical information near the PDA September 18 2013 NA NA York Sunbury Museum Fredericton Museum Request for historical information near the PDA September 18 2013 NA NA Tobique Valley Genealogy and Local History Group Request for historical information near the PDA September 30 2013 NA NA Meeting with a representative of Fredericton North Heritage affiliated with', 'Table 1 TLRU Information and Mitigation Animbiigoo Zaagiigan Anishinaabek Lake Nipigon First Nation Traditional Land and Resource Use Information Location Relative to Project Development Area Relevant Consolidated ESA Documents Context from the Consolidated ESA Animbiigoo Zaagiigan Anishinaabek Mitigation Recommendations2 Consolidated ESAEPP Mitigation Measures and Response locations elsewhere along the pipeline route and include watercourse crossings water well supplies and private well clusters Within Ontario sites of interest included Trout Lake Rideau River and private water well clusters in the Rideau River area however the communities of Ombabika and Auden are not specifically addressed in the accidents and malfunctions assessment Based on the analysis presented in the accidents and malfunctions assessment the predicted frequency of incidents and the probability of a large spill occurring is low Consequently the risk', 'Table 6 Agricultural suitability subclasses Subclasses Kind of Limitation C Climate A general climate description H Temperature This subclass indicates inadequate heat units for the optimal growth of a specified crop A Moisture This subclass indicates inadequate moisture for the optimal growth of a specified crop S Soil A general soil restriction M Water holding capacity This landscape indicates land areas where the specified crops are adversely affected by lack of water due to inherent soil characteristics D Soil structure This subclass indicates land areas where the specified crops are adversely affected either by soil structure that limits the depth of rooting or by surface crusting that limits the emergence of shoots Root restriction by bedrock and by high water table are considered separately F Organic matter This')\n"
          ],
          "name": "stdout"
        },
        {
          "output_type": "stream",
          "text": [
            "\r140it [03:37,  1.40s/it]"
          ],
          "name": "stderr"
        },
        {
          "output_type": "stream",
          "text": [
            "('Table 1110 Major Information Sources for Freshwater Fish and Fish Habitat Information Required Source Information Required Source 120000 TRIM datasets 150000 1250000 and 11000000 NTS datasets of the pipeline route Natural Resources Canada British Columbia Integrated Land Management Bureau Terrain Resource Information Management Program UTM coordinates latitudes and longitudes and KPs for all watercourse crossings along the pipeline route Derived using geographic information system GIS Identification and classification of watercourses including hydrologic characteristics with specific focus on the identification of those that will be frozen to the bottom or dry during crossing construction Determine the ZOI for larger streams Gateway Environmental Management Team Hydrology Stream names BC watershed groups and codes ASRD management areas Alberta public lands classification and stream classes BC forest regions districts BC MWLAP regions', 'Table D12 Input Group 13 Point Source Parameters Parameters Default Project Comments NPT1 Varies see details in Emission Appendix Number of point sources with constant stack parameters or variable emission rate scale factors IPTU 1 1 Units for point source emission rates are gs NSPT1 0 0 Number of sourcespecies combinations with variable emissions scaling factors NPT2 0 Number of point sources with variable emission parameters provided in external file NOTES Point source parameters are given in Attachment B symbol indicates that the parameter was not applicable to the Project assessment ', 'TABLE 2 SUMMARY OF SOIL CHARACTERISTICS ALONG THE PROPOSED PIPELINE ROUTE IN SASKATCHEWAN Enbridge Pipelines Inc Volume III TABLE 2 Contd Alberta Clipper Project Enbridge Pipelines Inc Volume III TABLE 2 Contd Alberta Clipper Project Enbridge Pipelines Inc Volume III TABLE 2 Contd Soil Symbol Soil Unit Route Segment Range1intermittent occurrence Length of Sask Segment Soil Classification Parent Material Texture Class Drainage Class Topsoil Depth Range cm Topsoil Colour Differentiation Erosion Hazards2 Susceptible to Soil Compaction and Rutting Susceptible To Trench Instability Surface Stoniness3 Comments or Other Concerns Alberta Clipper Project Enbridge Pipelines Inc Volume III TABLE 2 Contd Soil Symbol Soil Unit Route Segment Range1intermittent occurrence Length of Sask Segment Soil Classification Parent Material Texture Class Drainage Class Topsoil Depth Range cm Topsoil Colour Differentiation Wind Water', 'TABLE D1 WILDLIFE SPECIES OBSERVED DURING THE 2013 AND 2014 WILDLIFE FIELD WORK ALONG THE PROPOSED LINE 3 CONSTRUCTION RIGHTOFWAY IN ALBERTA Common Name Scientific Name Signs Used to Identify Species Federal Conservation Status1 Provincial Conservation Status canvasback Aythya valisineria visual cedar waxwing Bombycilla cedrorum auditory chestnutcollared longspur Calcarius ornatus auditory ThreatenedSchedule 1 of SARA and COSEWIC Sensitive3 chipping sparrow Spizella passerine auditory visual claycolored sparrow Spizella pallida auditory visual common goldeneye Bucephala clangula visual common nighthawk Chordeiles minor auditory ThreatenedSchedule 1 of SARA and COSEWIC Sensitive3 common raven Coruvs corax auditory visual common yellowthroat Geothlypis trichas auditory visual Sensitive3 Connecticut warbler Oporornis agilis auditory Coopers hawk Accipiter cooperii visual darkeyed junco Junco hyemalis visual downy woodpecker Picoides pubescens auditory visual doublecrested cormorant Phalacrocorax auritus visual dowitcher sp')\n"
          ],
          "name": "stdout"
        },
        {
          "output_type": "stream",
          "text": [
            "\r141it [03:39,  1.53s/it]"
          ],
          "name": "stderr"
        },
        {
          "output_type": "stream",
          "text": [
            "('Table 527 Summary of Soil Erosion Potential Ratings in the Terrain Regional Study Area Terrain Stability Class Regional Study Area RSA Area hectares ha Percent of RSA Very High VH 251 01 High H 108740 604 Moderate M 38014 211 Low L 33030 184 Total 180034 1000', 'Table 32 Consultation Activities with Federal and Provincial Authorities on the Northwest Mainline Komie North Extension Project Stakeholder GroupAgency Name Name and Title of Contacts Method of Engagement Date of Consultation Activity Proposed Pipeline Loop Reason for Engagement IssuesConcerns Commitments Followup Actions Comments Where Issue Addressed in ESA Acho Dene Koe First Nation Robert Loe Larry Bertrand Field Survey Field Survey October 27 2010 to October 29 2010 July 14 to 20 2011 Komie North Request for TEK and project concerns during vegetation and wetlands survey Medicines for cuts sores respiratory ailments sore throats and tooth aches were identified Plant species with traditional purposes and uses included mosquito deterrents arrows snowshoes drum frames moose callers canoes and canoe repair kits meat smoke diapers fire starters leanto covers bowls', 'Table G25 Exposure Point Concentrations mgkg dw for Intertidal Sediment Following a Hypothetical Spill of Crude Oil WCS near Saint John at Elapsed Time of 4 Weeks and 1 to 2 Years COPC Intertidal Sediment COPC 4 Weeks 1 to 2 Years Benzoapyrene 554E02 396E02 Benzoepyrene 738E02 529E02 Chrysene 726E02 511E02 Dibenzoahanthracene 130E02 935E03 Fluoranthene 370E02 127E02 Fluorene 105E02 C1Fluorene 398E01 102E08 C2Fluorene 822E01 106E08 C3Fluorene 355E00 311E02 Indeno123cdpyrene 338E02 243E02 Naphthalene 1Methylnaphthalene 2Methylnaphthalene C1Naphthalene C2Naphthalene 100E08 C3Naphthalene 338E01 C4Naphthalene 150E00 Phenanthrene 305E01 958E06 Pyrene 810E02 214E02 C1phenanthreneanthracene 173E00 571E02 C2phenanthreneanthracene 303E00 297E01 C3phenanthreneanthracene 591E00 105E00 C4phenanthreneanthracene 226E00 587E01 C1fluoranthenepyrene 103E00 578E01 C2fluoranthenepyrene 215E00 105E00 C3fluoranthenepyrene 563E00 380E00 C4fluoranthenepyrene 184E00 128E00 621E01 424E01 219E00 153E00 103E00 728E01 416E01 296E01 460E01 310E01 351E01 252E01 Benzoapyrene TPE 134E00 929E01', 'Table 6B3 Watercourses within the LAA of Pump Stations with Potential for Fish and Fish Habitat Ontario East Segment Crossing ID Watercourse Name Location UTM 18 Interacting Project Component Watercourse Type Channel Widtham Documented Fish Species DFO Habitat Sensitivity Ranking DFO 2006 Restricted Activity Period Navigabilityb Crossing ID Watercourse Name Easting Northing Interacting Project Component Watercourse Type Channel Widtham Documented Fish Species DFO Habitat Sensitivity Ranking DFO 2006 Restricted Activity Period Navigabilityb ON55401IRO Foster Municipal Drain 476866 4970837 Iroquois Pump Station Permanent warmwater municipal drain DFO Drain Class C 32 Historical Data nonePresent Study fathead minnow northern redbelly dace brook stickleback Low March 15 to June 30 Not Navigable NOTES a Larger rivers were measured to the nearest 1 m whereas smaller watercourses were measured to the nearest')\n"
          ],
          "name": "stdout"
        },
        {
          "output_type": "stream",
          "text": [
            "\r142it [03:42,  1.96s/it]"
          ],
          "name": "stderr"
        },
        {
          "output_type": "stream",
          "text": [
            "('Table 48 Development of Infrastructure Sites Protection Measures Subject Protection Measures Site Preparation See Section 45 Preparing RightsofWay and Construction Sites for protection measures to use during site preparation activities eg clearing grubbing and grading at infrastructure sites Barge Landings Schedule channel excavation and bank grading to occur outside the sensitive periods ie midSeptember to midJuly south of Wrigley and midSeptember to end of July north of Wrigley unless the proponents representative has granted authorization Barge Landings Grade banks or build up ramps using suitable material to facilitate the movement of trucks on and off barges Barge Landings Grade away from the watercourse to eliminate introducing material into the watercourse if grading is required to level the banks Barge Landings Ensure that granular fill is used where spud', 'Table 393 Annual Average Northwest Territories Taxes for Operations Type of Tax 20092015M 20162020M 20212025M 20262030 M AverageM Direct Taxes Federal Corporate tax 1014 1485 1355 579 1133 Royalties 726 2218 2614 1060 1570 Personal income tax 42 56 34 33 40 EI and CPP contributions 25 31 22 21 24 Subtotal federal 1808 3790 4025 1693 2767 Direct Taxes Territorial Corporate tax 550 805 735 314 615 Personal income tax 18 24 15 14 17 Payroll tax NWT 05 08 04 04 05 Cost of living tax credit 03 04 03 03 03 Property tax 483 560 573 600 572 Subtotal territorial 1052 1393 1324 930 1205 Total Direct Taxes 2860 5183 5349 2623 3973 Indirect Taxes Federal Goods and services tax 07 09 06 06 07', 'TABLE 63 WATERCOURSE CROSSING SUMMARY FOR THE ALBERTA CLIPPER PROJECT Location KP Legal Location Watercourse Reported Fish Presence12 Fish Habitat Potential3 Instream RAP Mean Monthly Streamflow ms Sampled Flow4 Channel Width m Mean Water Depth m Vehicle Crossing Pipeline Crossing Bank Restoration Approach Slope Mitigation Location KP Legal Location Watercourse Reported Fish Presence12 Fish Habitat Potential3 Instream RAP Mean Monthly Streamflow ms Sampled Flow4 Channel Width m Mean Water Depth m If Water Present If Dry Frozen Within RAP Outside RAP Bank Restoration Approach Slope Mitigation 12395 91212 WPM Drainage Channel tributary to Buffalo Creek No fish habitat potential No RAP dry undefined ford or culvert9 ford NA open cut14 reseed16 12414 8711 WPM Drainage Channel tributary to Buffalo Creek No fish habitat potential No RAP dry undefined', 'TABLE 8C5 CUMULATIVE EFFECTS CHARACTERIZATION AND SIGNIFICANCE EVALUATION FOR FISH AND FISH HABITAT BY PROJECT COMPONENT Component Criteria Rating1 Component Impact Balance Spatial Boundary2 Duration Frequency Reversibility Magnitude Probability Confidence Significance c Projects contribution to cumulative effects associated with blockage of fish movements Boundary Lake Section Negative RSA Immediate to Shortterm Isolated Reversible Low Low High Not significant Bear Canyon Section Negative RSA Immediate to Shortterm Isolated Reversible Low Low High Not significant McLeod River Section Negative RSA Immediate to Shortterm Isolated Reversible Low Low High Not significant Pelican Lake Section Negative RSA Immediate to Shortterm Isolated Reversible Low Low High Not significant Christina River Section Negative RSA Immediate to Shortterm Isolated Reversible Low Low High Not significant Alces River Unit Addition NA NA NA NA NA NA')\n"
          ],
          "name": "stdout"
        },
        {
          "output_type": "stream",
          "text": [
            "\r143it [03:43,  1.79s/it]"
          ],
          "name": "stderr"
        },
        {
          "output_type": "stream",
          "text": [
            "('Table 555 Significance of Effects on Channel Morphology Taglu Key Indicator Phase When Impact Occurs Effect Attribute Significant Key Indicator Phase When Impact Occurs Direction Magnitude Geographic Extent Duration Significant Channel morphology Construction Neutral No effect NA NA No Channel morphology Operations Adverse Low to moderate Local Long term No Channel morphology Decommissioning and abandonment Neutral No effect NA NA No NOTE NA not applicable ', 'Table 11 TLRU Information and Mitigation Wabun Tribal Council Traditional Land and Resource Use Information Location Relative to Project Development Area Relevant Consolidated ESA Documents Context from the Consolidated ESA Wabun Tribal Council Mitigation Recommendations2 Consolidated ESAEPP Mitigation Measures Install cross ditches and berms on moderately steep and steep slopes on pasture bush and forested lands in order to prevent runoff along the rightofway and subsequent erosion Install berms immediately downslope of all trench breakers see EPP Excavate entry and exit sites back from the ordinary high watermark and far enough from the watercourse to provide for containment of sediments and other deleterious substances above the high watermark Vegetation removal for the entry and exit sites is only to occur within the approved construction rightofway and temporary workspace', 'Table 721 Potential Project Interactions and Cumulative Effects Valued Valued Component Key Indicator Predicted Residual Project Effects Spatial Interaction Temporal Interaction Potential Cumulative Effect Employment and Economy iLabour Force Activity ncrease in local employment opportunities Yes Yes Increase in local employment opportunities Employment and Economy IIncomes ncrease in local employment and business incomes Yes Yes Increase in local employment and business incomes Employment and Economy ITaxes and Revenue ncrease in Alberta and BC government tax revenues and local government tax revenues Yes Yes Increase in Alberta and BC government tax revenues and local government tax revenues Accidents and Malfunctions Potential reduction in soil quality and surface water quality loss or alteration of vegetation alteration of wetland habitat restricted land use increased demand for emergency and protective services and', 'TABLE 62141 POTENTIAL EFFECTS MITIGATION MEASURES AND RESIDUAL EFFECTS OF PIPELINE CONSTRUCTION AND OPERATION ON TLRU Potential Effect Location Spatial Boundary1 Key Measures EPP Reference2 Potential Residual Effects 1 Disruption of use of trails and travelways during construction Crown land and watercourses Footprint Contact Aboriginal groups a minimum of 2 weeks prior to commencing clearing and construction activities and provide maps of the replacement pipeline route and construction schedules to enable them to select alternate areas for activity and ensure the communities are informed of any changes in the construction schedule See section 6218 Navigation and Navigation Safety for measures regarding navigable watercourses Sitespecific TLRU identified during ongoing engagement may be affected during construction and operation')\n"
          ],
          "name": "stdout"
        },
        {
          "output_type": "stream",
          "text": [
            "\r144it [03:45,  1.61s/it]"
          ],
          "name": "stderr"
        },
        {
          "output_type": "stream",
          "text": [
            "('Table 55 Potential Effects on Groundwater Resources Project Activities and Physical Works1 Potential Effects Project Activities and Physical Works1 Change in Groundwater Quantity Change in Groundwater Quality Construction Pipeline2 Pump stations including permanent access roads and delivery meter stations Operation Pipeline NA NA Pump stations including permanent access roads and delivery meter stations NA NA Decommissioning and abandonment3 NOTES indicates that an activity is likely to contribute to the environmental effect NA indicates not applicable 1 For accidents and malfunctions see Volume 19 2 Construction includes development and use of temporary ancillary facilities eg stockpile sites laydown areas storage yards 3 For effects of decommissioning and abandonment see Volume 14 Section 8 ', 'TABLE 3131 SUMMARY OF FISH SAMPLING EFFORT AND RESULTS FOR THE BOUNDARY LAKE SECTION Site No Name Legal Location W6M Sampling Effort CPUE1 Fish Species Captured No Captured Fork Length Mean Range mm Approx No Observed Previously Documented Fish Species2 BLWC9 Unnamed tributary to Sweeney Creek NW 318712 BPEF 512 s 200 m MT 6 traps 102 hrs BPEF 00 MT 04 brook stickleback 42 52 3963 0 No fish have been previously documented at the proposed crossing BLWC10 Sweeney Creek SW 68812 BPEF 625 s 150 m MT 4 traps 29 hrs BPEF 02 MT 10 brook stickleback 31 58 3971 0 Lake chub longnose dace northern pikeminnow redside shiner slimy sculpin troutperch and white sucker known to occur in Sweeney Creek BLWC11 Unnamed tributary Sweeney Creek', 'Table 31 Concordance with NEB Filing Manual 201401 NEB 2014 Element in Filing Manual Location in the Consolidated Application Human Occupancy and Resource Use 1 Describe the general patterns of human occupancy and resource use in the study area Volume 16 Parts A to E Section 2 Human Occupancy and Resource Use Volume 16 Parts A to E Section 6 Employment and Economy Volume 17 Part B Section 5 Human Occupancy and Resource Use Volume 17 Part A Section 12 Human Occupancy and Resource Use Volume 17 Part A Section 16 Employment and Economy 2 Describe the potential interactions of the Project with local and regional human occupancy and resource development activities Include effects the Project may have on the maintenance of those activities and on the livelihood', 'Table A9 Spring and Summer Vascular Plants Identified during Field Surveys in Ontario East O Overall Spring Summer Incidenta Scientific Name Common Name Coefficient Of Conservatism Wetness Index Weediness Index Provincial Status Omnr Status Cosewic Status Global Status Author x x x Mitella diphylla Twoleaved Bishops Cap 5 2 S5 G5 L x x x Mitella nuda Naked Mitrewort 6 3 S5 G5 L x x x Tiarella cordifolia False Mitrewort 6 1 S5 G5 L x x x Scrophulariaceae Figwort Family x x x Chelone glabra Turtlehead 7 5 S5 G5 L x x Euphrasia stricta European Eyebright 3 1 SE4 GQ D Wolff ex Lehm x x Linaria vulgaris Butterandeggs 5 1 SE5 G Miller x x Mimulus ringens Squarestemmed Monkeyflower 6 5 S5 G5 L')\n"
          ],
          "name": "stdout"
        },
        {
          "output_type": "stream",
          "text": [
            "\r145it [03:46,  1.56s/it]"
          ],
          "name": "stderr"
        },
        {
          "output_type": "stream",
          "text": [
            "('TABLE 656 AADT VOLUMES ON HIGHWAY 2 Location 2011 AADT 2012 AADT 2013 AADT Change 2011 to 2013 East of Highway 749 in High Prairie 6500 6490 6460 06 South of Highway 679 and south of Kathleen 860 940 860 00 North of Highway 679 and south of Kathleen 1030 1130 1030 00 East of Highway 49 and southwest of Donnelly 2060 2190 2070 05 North of Highway 49 and southwest of Donnelly 2260 2420 2620 00 West side of Peace River Bridge 16340 16820 17050 43 North of Highway 2A in Grimshaw 6300 4900 4080 352 South of Highway 2A in Grimshaw 5570 5570 5570 00 North of Highway 49 and east of Rycroft 2800 2900 2900 36 South of Highway 49 and east of Rycroft 3480', 'TABLE 472 DIET AND NUTRITION INDICATORS FOR ECOZONES IN THE SOCIOECONOMIC RSA IN BC Socioeconomic Region FraserFort GeorgeThompsonNicola Fraser Valley All BC First Nations Communities Ecozone 3 7 All BC First Nations Communities Percent onreserve who eat fruits and vegetables from their gardens or community gardens 79 64 58 Participation in traditional food harvests Hunted or set snares 31 15 20 Fished 37 57 37 Collected seafood 3 4 17 Participation in traditional food gathering Collected wild plant food 54 42 33 Planted a garden 35 26 25 Consumption of traditional food in the last year Fish 93 94 95 Beach foods 23 14 60 Sea mammals 0 0 3 Land mammals 89 81 84 Wild birds 19 14 17 Wild berries 87 94 86 Wild plant roots', 'Table 87 Activity and Project Inclusion List for the Soils Cumulative Effects Assessment PROJECT STATUS DESCRIPTION RATIONALE 12 or larger Outside Diameter Oil and Gas Pipelines SaskEnergy TransGas pipeline Operational 356 mm 14inch natural gas pipeline trunk line Intersects the Project north of Piapot TransCanada Foothills pipeline Operational 750 km 1067 mm 42inch oil pipeline from Caroline Alberta through SW Saskatchewan to the US Midwest Contiguous with the Project for 130 km and will intersect the Project at 4 locations TransCanada Keystone XL pipeline Approval granted construction in 2012 2673 km 1219 mm 36inch oil pipeline from Hardisty Alberta through Saskatchewan to the US Contiguous with the Project for 130 km and will intersect the Project at 4 locations TransGas affiliate Many Islands pipeline Operational 406 mm 16inch', 'Table 54 Predicted Sound Levels and Compliance Assessment for Facility Construction Alberta Facility Receptor ID Noise Contribution from Facility Construction dBA MNL Criteria dB Ldn Compliance with MNLCriteria YesNo1 Facility Receptor ID Daytime Ld Nighttime Ln DayNight Equivalent Ldn MNL Criteria dB Ldn Compliance with MNLCriteria YesNo1 Hardisty D tank terminal2 HD1 361 0 341 47 Yes Hardisty D tank terminal2 HD2 275 0 255 47 Yes Hardisty D tank terminal2 HD3 315 0 295 52 Yes Hardisty pump station2 HD1 226 0 206 47 Yes Hardisty pump station2 HD2 285 0 265 47 Yes Hardisty pump station2 HD3 258 0 238 52 Yes Monitor pump station MO1 356 0 336 47 Yes Monitor pump station MO2 353 0 333 47 Yes Monitor pump station MO3 349 0')\n"
          ],
          "name": "stdout"
        },
        {
          "output_type": "stream",
          "text": [
            "\r146it [03:47,  1.50s/it]"
          ],
          "name": "stderr"
        },
        {
          "output_type": "stream",
          "text": [
            "('TABLE 62 POTENTIAL BIOPHYSICAL AND SOCIOECONOMIC EFFECTS MITIGATIVE MEASURES AND RESIDUAL EFFECTS OF PIPELINE CONSTRUCTION AND OPERATION Biophysical or SocioEconomic ElementPotential Effect Location Project Boundary Measures EPP Reference1 Potential Residual Effects 180 ACCIDENTS AND MALFUNCTIONS 181 Spill of hazardous materials during construction Entire route Footprint to Local Spill Prevention Place an impervious tarp when servicing equipmentvehicles with the potential for accidental spills eg oil changes servicing of hydraulic systems Section 81 Ensure that no fuel lubricating fluids methanol hydraulic fluids antifreeze herbicides biocides or other chemicals are dumped on the ground or into any watercourse Section 81 Ensure that bulk fuel trucks service vehicles and pickup trucks equipped with boxmounted fuel tanks carry spill prevention containment and cleanup materials that are suitable for the volume of fuels or', 'Table 38 Key Consultations and Activities Fort Simpson Traditional Knowledge Study Date Activity Community or Organization Contacted May 27 2002 Discussed TK study methods Liidlii Kue First Nation Denendeh Resource Committee Nogha Enterprises August 23 2002 Made a presentation describing A Cooperative Approach to Traditional Knowledge Studies in the Deh Cho Region Liidlii Kue First Nation Denendeh Resource Committee Fort Simpson Mtis Local Nogha Enterprises Nogha Geomatics Deh Cho Divisional Education Council September 4 2002 Discussed TK study methods Nogha Geomatics Nogha Enterprises September 19 2002 Discussed TK study methods Liidlii Kue First Nation Fort Simpson Mtis Nogha Enterprises Nogha Geomatics October 11 2002 Discussed TK study methods and contractual arrangements Nogha Enterprises Nogha Geomatics February 10 2003 Held a TK working group meeting Fort Simpson TK working', 'Table 184 Potential Effects on Social and Cultural WellBeing Project Activities and Physical Works Change in Social and Cultural Conditions Construction Interconnect pipeline1 Tanks onshore facilities and associated infrastructure including access roads exclusive of interconnect pipeline Inwater infrastructure1 Operation Operation and maintenance of the interconnect pipeline Operation and maintenance of tanks foreshore facilities and associated infrastructure exclusive of interconnect pipeline Loading of berthed tankers Decommissioning and abandonment2 NOTES Indicates that an activity is likely to contribute to the environmental effect NA indicates not applicable 1 Construction includes the development and use of temporary ancillary facilities eg stockpile sites laydown areas storage yards camps 2 For effects of decommissioning and abandonment see Volume 14 Section 8 ', 'TABLE 2 RESOURCESPECIFIC MITIGATION TABLE Location Issues Timing Windows andor Regulatory Guidelines Mitigation Comments VEGETATION LISTED ECOLOGICAL COMMUNITIES EPlot ID NA KP 233 Groundbirch Section asting 683997 Northing 6188293 Narrowleaf willow shrubland Salix exigua shrubland NA No mitigation necessary The community is located in the HDD footprint and surface disturbance clearing grading and trenching will not occur in this section Community occurrence spans the entire Project footprint north to south along the western edge of the Pouce Coup River In the event a listed plant species is discovered during construction refer to Section 80 of Annex E of this EPP for the appropriate mitigation to be implemented VEGETATION WEEDSb SEPlot ID TYW010 Inside Project footprint Start KP 821 to End KP 822 Tower Lake Section tart Easting 654402')\n"
          ],
          "name": "stdout"
        },
        {
          "output_type": "stream",
          "text": [
            "\r147it [03:49,  1.46s/it]"
          ],
          "name": "stderr"
        },
        {
          "output_type": "stream",
          "text": [
            "('Table 5207 Personal Income in the Socioeconomic Regional Study Area 2010 Community Persons 15 Years and Over with Income Median Income Persons 15 Years and Over Change in Median Income Persons 15 Years and Over from 2005 Province of Ontario 9917155 30526 3268', 'Table 7G1 Soil Characteristics of Sampled Soils Within Manitoba Soil Unit Soil Unit Site Horizon Depth cm Ph EC dSm SAT Na meqL Ca meqL Mg meqL SAR Bmk 2244 81 083 47 06 45 37 03 Cskgj 44150 81 642 105 123 227 682 18 Cskg 150200 80 667 107 134 221 775 19 NBG KS565 Ap 019 78 128 49 16 91 38 06 Ccagj 3550 82 072 45 22 22 29 14 Ckgj 5083 84 127 38 83 15 24 59 NBGsa KS580 Apsak 040 80 703 50 383 229 462 65 Ccag 70105 81 178 48 42 70 92 15 IICkg 105200 80 192 42 53 86 72 19 BMG KS615 Ap 030 65 051 82 04 34 11 03 Ckgj 1 62140 79', 'Table 828 Magnitude of Effects for Rare Plants and Rare Ecological Communities Magnitude Rank Percent loss Low S3 on watch list loss of individuals within a population Moderate S1 S2 15 loss of individuals within a population Moderate S3 on watch list 15 loss of entire population or all occurrences High Listed under SARA or Albertas Wildlife Act or Manitobas Endangered Species Act or globally ranked as rare 15 loss of individuals within a population High S1 S2 5 loss of individuals within a population High S3 on watch list 5 loss of entire population or all occurrences', 'Table 6211 Summary of Predicted Project Effects and Environmental Significance Valued Component ')\n"
          ],
          "name": "stdout"
        },
        {
          "output_type": "stream",
          "text": [
            "\r148it [03:50,  1.44s/it]"
          ],
          "name": "stderr"
        },
        {
          "output_type": "stream",
          "text": [
            "('Table 650 Water Quality Data Relevant to Acid Sensitivity Northern Airshed Lakes Lake Name1 Lake Identifier Year pH Conductance Scm AlkalinitymgL as CaCO3 Acid Sensitivity2 Ca2 mgL Mg2 mgL K1 mgL Na1 mgL n3 Data Sources Other Areas or Exact Location Unknown contd Shell Lake 1981 6368 80 37 5 Low 101 36 11 20 1 Environment Canada 2003 Explosive Lake 1981 6775 70 34 5 Low 132 34 11 23 1 Environment Canada 2003 Noclosure lakes 199394 87 244 95 5 Least 275 104 48 1 Hay et al 2000 Lowclosure lakes 199394 92 209 82 5 Least 238 96 53 1 Hay et al 2000 Highclosure lakes 199394 91 190 76 5 Least 221 90 50 1 Hay et al 2000 NOTES 1 Lake locations are', 'Table 641 Potential Effects on Soils and Soil Productivity Mitigation and Predicted Residual Effects Key Indicator Interactions Description of Potential Effects Mitigation Predicted Residual Effect Terrain stability contd Construction and operation activities Pipeline contd Alteration of terrain contours trench instability or soil subsidence contd Return all excavated material back into the trench minus the displacement of the pipe and other pipeline materials such as weights Machine cleanup activities will follow completion of construction activities as closely as feasible If machine cleanup cannot be completed prior to spring breakup ensure cross drainage is reestablished and sedimentation and erosion controls are installed to protect the construction footprint and sensitive environmental features Final cleanup and reclamation will generally occur during the following fall andor winter or as soon as conditions', 'Table 1341 Key Impact Questions on Air Quality Assessment Approach Key Impact Question Assessment Approach Key Impact Question Assessment Approach How will the construction of the Project affect local air quality Qualitative discussion on emissions from construction How will the operation of the Project affect local air quality Qualitative discussion on emissions while the Pipeline is in use', 'TABLE 8A13 REASONABLY FORESEEABLE OIL AND GAS FACILITY DEVELOPMENTS WITHIN THE TRANS MOUNTAIN EXPANSION PROJECT RSA AND LSA OF VARIOUS ELEMENTS Primary Applicant Development Type Legal Location Soil LSA AquaticsWetland RSA Air Quality RSA Acoustic Environment RSA Vegetation RSA Wildlife Primary Applicant Development Type Legal Location Soil LSA AquaticsWetland RSA Air Quality RSA Acoustic Environment RSA Vegetation RSA RSA RSA Grizzly IMPERIAL OIL RESOURCES LIMITED Satellite 112905026 W4M IMPERIAL OIL RESOURCES LIMITED Satellite 113304926 W4M IMPERIAL OIL RESOURCES LIMITED Satellite 152504926 W4M IMPERIAL OIL RESOURCES LIMITED Satellite 153105026 W4M IMPERIAL OIL RESOURCES LIMITED Satellite 161905026 W4M IMPERIAL OIL RESOURCES LIMITED Satellite 163404926 W4M IMPERIAL OIL RESOURCES LIMITED Satellite 163605026 W4M ISH ENERGY LTD Battery 090705616 W5M JAYHAWK RESOURCES LTD Battery 031404407 W5M JAYHAWK RESOURCES LTD Battery 041704407 W5M')\n"
          ],
          "name": "stdout"
        },
        {
          "output_type": "stream",
          "text": [
            "\r149it [03:52,  1.60s/it]"
          ],
          "name": "stderr"
        },
        {
          "output_type": "stream",
          "text": [
            "('Table 58 Estim ate d W asteGene ration for theGas Pip e line ProjectPhase W asteTyp e W asteQuantity Units ProjectPhase W asteTyp e H azardous NonH azardous Total Units Construction Solidwaste 230 9410 9640 t Construction Liquidwaste 40150 0 40150 m3 Construction Semisolidwaste 0 1390 1390 m3 Construction Domesticwastewater 0 1770 1770 m3', 'Table 526 Mitigation for Potential Effects on Soil and Soil Productivity Potential Effect Project Component Key Mitigationa Potential Effect Project Component Key Mitigationa 4 Decreased soil productivity due to loss of soils by waterwind erosion contd See above Install sedimentation and erosion control measures where required in accordance with Drawings STDS03ML05001 STDS03ML05132 STDS03ML05603 STDS03ML05604 STDS03ML05606 and STDS03ML05608 in Appendix 1D of the Projectspecific EPPs unless otherwise approved by the Environmental Inspectors or designates to adjust for site conditions and suitability Reestablish surface drainage patterns install drainage and erosion control measures and complete the installation of sedimentation control measures at all watercourse crossings Install cross ditches and berms on moderately steep and steep slopes on pasture bush and forested lands in order to prevent runoff and subsequent erosion Install', 'Table 7276 Potential Use of Site BL29 Little Chicago Barge Landing Species Overwintering Spawning and Incubating Rearing Adult Feeding and Holding Arctic grayling Northern pike Longnose sucker Whitefish species Burbot NOTE Of the species listed only northern pike have been confirmed in the channel near the sampling location during the present study ', 'Table E1 Soil Inspection Sites New Pipeline RoW Site Site Type1 Subgroup Soil Unit Abbreviation Variant2 Parent Material UTM Zone Easting Northing Surface Expression Surface Stoniness Class Slope Slope Position Slope Class Topsoil Depth cm Drainage EEPOD2057 DS Orthic Humic Gleysol NGW Fine glaciolacustrine 18 546685 5038299 Level Non stony 001 0 Level 0 05 23 Poor EEPODALL1 DS Orthic Humic Gleysol ALL Coarse glaciofluvial over fine glaciolacustrine 18 545414 5034091 Level Non stony 001 0 Level 0 05 16 Poor EEPODALL2 DS Orthic Humic Gleysol ALL Coarse glaciofluvial over fine glaciolacustrine 18 546027 5035342 Level Non stony 001 0 Level 0 05 18 Poor EEPODBBO1 DS Orthic Humic Gleysol BBO Moderately fine glaciolacustrine 18 544514 5029367 Level Non stony 001 0 Level 0 05 18 Poor EEPODBBO2')\n"
          ],
          "name": "stdout"
        },
        {
          "output_type": "stream",
          "text": [
            "\r150it [03:54,  1.63s/it]"
          ],
          "name": "stderr"
        },
        {
          "output_type": "stream",
          "text": [
            "('TABLE 557 KWANTLEN FIRST NATION OVERVIEW Band Population Tribal Affiliation Traditional Language Traditional Cultural Practices Economic Development GoalsBusiness Capacity OOTotal 244 n IRs 98 ff IRs 146 Stl Tribal Council Hulquminum Halqemylem hnqminm Most important traditional resource was salmon Also hunted deer elk mountain goats beaver and marten Businesses commercial fisheries', 'Table 910 Residual Effects of the Project on Wildlife Habitat Focus Species Residual Environmental Effects Focus Species in LAA habitat changeMagnitude Direction Geographic Extent Duration Frequency Reversibility ContextEnvironmental ConfidencePrediction Significance Potential AdverseRegionalEffects Caribou PinkMountain 27 A LAA L S R M M N N CaribouGraham 22 A LAA L S R M M N N Moose 27 N LAA M S R M H N N Americanmarten 24 A LAA L S R M H N N Grizzly bear 27 N LAA M S R M M N N Shorteared owl 43 N LAA M S R M H N N Commonnighthawk 40 P LAA M S R M H N N Olivesidedflycatcher 24 A LAA M S R M H N N Canada warbler 24 A LAA', 'Table C3 Watercourses with Confirmed or Potential Fish Habitat Watercourse ID Watercourse Name Watershed UTM Zone 19 Date Surveyed Stream Order Watercourse Definition Width m Depth m Documented Fish Species Fish Collected Potential SOMCSAR Presence Brook Trout HSI Atlantic Salmon HSI Brook Trout Habitat Rank Atlantic Salmon Habitat Rank General Habitat Sensitivity Rank Watercourse ID Watercourse Name Watershed Easting Northing Date Surveyed Stream Order Watercourse Definition Width m Depth m Documented Fish Species Fish Collected Potential SOMCSAR Presence Brook Trout HSI Atlantic Salmon HSI Brook Trout Habitat Rank Atlantic Salmon Habitat Rank General Habitat Sensitivity Rank NB66000 Beaver Brook Tributary Inner Bay of Fundy Rivers 741869 5019719 62714 1 Small 285 047 Northern redbelly dace finescale dace lake chub white sucker ninespine stickleback American eel Jacques Whitford 2009', 'Table 1019 Lynx Habitat Distribution Regional Study Area Habitat Value Ecological Zone Habitat Value Transition Forest North Taiga Plains South Taiga Plains Habitat Value Habitat Area ha Habitat Habitat Areaha Habitat Habitat Area ha Habitat High 193284 23 1096459 36 792496 20 Moderate 368157 43 1140827 37 2651216 67 Low 4878 1 338394 11 261549 7 None 282890 33 511370 17 226577 6 No data 868 1 293 1 3992 1')\n"
          ],
          "name": "stdout"
        },
        {
          "output_type": "stream",
          "text": [
            "\r151it [03:55,  1.55s/it]"
          ],
          "name": "stderr"
        },
        {
          "output_type": "stream",
          "text": [
            "('Table 10146 Bird Habitat in the Kendall Island Bird Sanctuary Valued Component Model Habitat Value Baseline Construction Operations Valued Component Model Habitat Value Habitat Area ha Habitat Change ha Habitat Change ha Greater whitefronted goose nesting habitat Effective 2713 138 56 Greater whitefronted goose foraging habitat Effective 29022 169 71 Tundra swan nesting habitat Effective 6909 415 184 Tundra swan foraging habitat Effective 31272 106 60 Greater scaup nesting habitat Effective 267 6 3 Whimbrel nesting habitat Effective 1172 7 5 Whimbrel foraging habitat Effective 1173 3 3 NOTE Effective habitat in the sum of very high high and moderate quality habitats ', 'Table 535 Areas of Natural and Scientific Interest in the Terrestrial Local Study Area Regional Study Area and Project Footprint Name of Area of Natural and Scientific Interest ANSI Type of ANSI Significance Ranking RSA LSA ProjectFootprint Characteristics ', 'Table 520 Health Care Services Project Effect Attributes for the Gwichin Settlement Area Location Effect Attribute Significant Location Direction Magnitude Geographic Extent Duration Significant GSA health centres Adverse Moderate Local Short term No Inuvik Hospital outpatient services Adverse High Local Short term No Inuvik Hospital inpatient services Adverse Moderate Regional Short term No', 'Table 216 Application Case Maximum Predicted GroundLevel Concentrations of H2S Benzene and Mercaptans Substance Averaging Period Maximum Predicted Ground Level Concentration gm3 Ambient Background Concentration gm3 Maximum Predicted Ground Level Concentration Including Background gm3 Regulatory Criteria gm3 H2S 1hour a 942 0723 101 14 H2S 24hour 384 0620 446 4 H2S Annual 0648 0177 0825 NA Benzene 1hour a 175 NA NA 30 Benzene 24hour 569 193 762 NA Benzene Annual 0051 101 106 3 Mercaptans 10minute b 428 NA NA 13 c Mercaptans 1hour a 259 NA NA NA Mercaptans 24hour 0810 NA NA NA Mercaptans Annual 0137 NA NA NA NOTES a As per the AEP ESRD 2013a AQMG the highest eight 1hour average predicted concentrations in each single year were disregarded to account for extreme')\n"
          ],
          "name": "stdout"
        },
        {
          "output_type": "stream",
          "text": [
            "\r152it [03:57,  1.52s/it]"
          ],
          "name": "stderr"
        },
        {
          "output_type": "stream",
          "text": [
            "('Table 2B18 Predicted PM25 PM10 and TSP at the Sensitive Receptors PDC Receptor Maximum Predicted GroundLevel Concentration1gm3 Receptor PM25 PM10 TSP Receptor 24 hour of Guideline Annual of Guideline 24 hour of Guideline 24 hour of Guideline Annual of Guideline 1 175 62 79 79 277 55 528 44 134 19 2 175 62 79 79 278 56 529 44 134 19 3 176 63 79 79 279 56 532 44 134 19 4 175 63 79 79 279 56 535 45 135 19 5 176 63 79 79 279 56 544 45 136 19 6 176 63 79 79 280 56 550 46 136 19 7 176 63 79 79 279 56 535 45 135 19 8 176 63 79 79 279 56 541 45 135 19', 'Table 6111 Potential Effects on Human Occupancy and Land and Resource Use Mitigation and Predicted Residual Effects ', 'Table 85 Potential Effects Key Indicators and Measurable Parameters for Vegetation and Wetlands Potential Effect Rationale for Inclusion in the Assessment Key Indicators Measurable Parameters for the Effect Rationale for Selection of the Measurable Parameter Change in native vegetation communities Loss or disturbance of wetlands Change in ECMC Change in plant SOMC including SAR Introduction or spread of invasive plant species Construction or operation could affect the distribution andor abundance of Native vegetation communities Wetlands ECMC Plant SOMC including SAR Invasive plant species Native vegetation communities Wetlands ECMC Plant SOMC including SAR Invasive plant species Area of native vegetation communities altered Area of wetland lost or disturbed Area of ECMC altered Amount of change to populations of plant SOMC including amount of change to populations or critical habitat', 'Table 3A1 Project Inclusion List within the REAA in Alberta and British Columbia CompanyOperator Project Status Assessment Case Status Province Footprint Area within REAA ha FacilityProject Industrial Activity Alberta and British Columbia Future Projects SemCAMS Future CEA Alberta and BC 756 Redwillow Pipeline Project emergency shutdown valve stations Oil and gasrelated plant and facilities SemCAMS Future CEA Alberta and BC 1357 Redwillow Pipeline Project rightofway Oil and gasrelated plant and facilities SemCAMS Future CEA Alberta and BC 225 Redwillow Pipeline Project permanent access Oil and gasrelated plant and facilities SemCAMS Future CEA Alberta and BC 29463 Redwillow Pipeline Project rightofway Oil and gasrelated plant and facilities SemCAMS Future CEA Alberta and BC 178 Redwillow Pipeline Project temporary access Oil and gasrelated plant and facilities SemCAMS Future CEA Alberta')\n"
          ],
          "name": "stdout"
        },
        {
          "output_type": "stream",
          "text": [
            "\r153it [03:58,  1.45s/it]"
          ],
          "name": "stderr"
        },
        {
          "output_type": "stream",
          "text": [
            "('Table 392 Chronic Inhalation Exposure Limits for Mercury Regulatory Agency Type Value gm Reference ATSDR MRL 02 ATSDR 2013 1999', 'Table 2 TLRU Information and Mitigation Carry The Kettle First Nation Traditional Land and Resource Use Information Location Relative to Project Development Area Relevant Consolidated ESA Documents Context from the Consolidated ESA CTK First Nation Mitigation Recommendations4 Consolidated ESAEPP Mitigation Measures As determined the Consolidated ESA the Project effects on fish and fish habitat are predicted to be not significant Similarly for the human occupancy and resource use assessment the Project will not change or disrupt current resource use eg fishing in the RAA Temporary or Permanent Loss of Plant Harvesting Areas or Opportunities Gathering of medicinal plants is an important part of CTK culture and has been carried out throughout the traditional territory for many generations CTK members gather roots and plants including dandelion which are used', 'Table 711 Existing and Approved Projects or Activities Considered in the Cumulative Effects Assessment Company Project or Activity Development Timeframe Comments Study Area Span Valued Component Study Area distance from the Project footprint Husky Oil Operations Limited Access Road Approved in 1980 LOC800766 Air 5 km Husky Oil Operations Limited Access Road Approved in 1992 LOC920861 Terrestrial TLU Resource Use 7 km Husky Oil Operations Limited Access Road Approved in 1992 LOC920862 Air 5 km Husky Oil Operations Limited Access Road Approved in 1993 LOC920978 Terrestrial TLU Resource Use 7 km Husky Oil Operations Limited Access Road Approved in 1994 LOC940196 Air 5 km Husky Oil Operations Limited Access Road Approved in 1994 LOC942129 Soils 1 km Husky Oil Operations Limited Access Road Approved in 1997 LOC971843 Soils', 'TABLE 72102 PROJECT COMPONENTS AND ECOSYSTEM UNITS RELATIVE TO INDICATOR SPECIES DISTRIBUTION IN THE WILDLIFE LSA Wildlife Indicator Project Components Ecosystem Units1 Lewiss woodpecker Black Pines to Hope Temporary facilities Black Pines Pump Station and power line Kingsvale Pump Station and power line BC North Thompson Upland THB GUU NIB Williamsons sapsucker Black Pines to Hope Temporary facilities Black Pines Pump Station and power line Kingsvale Pump Station and power line BC THB GUU NIB HOR Western screechowl kennicotti ssp Hope to Burnaby Burnaby to Westridge Temporary facilities Sumas Terminal Westridge Marine Terminal BC NWC FRL Western screechowl macfarlanei ssp Black Pines to Hope Temporary facilities Black Pines Pump Station and power line Kingsvale Pump Station and power line BC North Thompson Upland THB GUU NIB Great blue')\n"
          ],
          "name": "stdout"
        },
        {
          "output_type": "stream",
          "text": [
            "\r154it [03:59,  1.44s/it]"
          ],
          "name": "stderr"
        },
        {
          "output_type": "stream",
          "text": [
            "('Table 743 Significance of Effects of Niglintgak on Fish Key Indicators Phase When Impact Occurs Effect Attribute Significant Key Indicators Phase When Impact Occurs Direction Magnitude Geographic Extent Duration Significant Habitat Construction Adverse Low Local Long term No Habitat Operations Adverse Low Local Long term No Habitat Decommissioning and abandonment Adverse Low Local Far future No Health Construction Adverse Low Local Short term No Health Operations NA NA NA NA NA Health Decommissioning and abandonment Adverse Low Local Short term No Distribution and abundance Construction Adverse Low Local Short term No Distribution and abundance Operations NA NA NA NA NA Distribution and abundance Decommissioning and abandonment Adverse Low Local Short term No NOTE NA not applicable ', 'TABLE 8C7 CUMULATIVE EFFECTS CHARACTERIZATION AND SIGNIFICANCE EVALUATION FOR VEGETATION BY PROJECT COMPONENT Component Criteria Rating1 Component Impact Balance Spatial Boundary Duration Frequency Reversibility Magnitude Probability Confidence Significance Pelican Lake Section Negative RSA Short to Extendedterm Periodic to Continuous Reversible Low High Moderate to High Not significant Christina River Section Negative RSA Short to Extendedterm Periodic to Continuous Reversible Low High Moderate to High Not significant Alces River Unit Addition Negative RSA Short to Extendedterm Periodic to Continuous Reversible Low High Moderate to High Not significant Otter Lake Unit Addition Negative RSA Short to Extendedterm Periodic to Continuous Reversible Low High High Not significant Construction Camps Negative RSA Short to Mediumterm Periodic to Continuous Reversible Low High Moderate to High Not significant Temporary Infrastructure and Workspace Negative RSA', 'Table 77 Residual Effects Classification Criteria Soil Capability Criteria Criteria Definitions Duration The period of time that is required until soil capability returns to its baseline condition or the effect can no longer be measured or otherwise perceived Shortterm Effect is measurable for the duration of proposed construction Duration The period of time that is required until soil capability returns to its baseline condition or the effect can no longer be measured or otherwise perceived Mediumterm Effect is measurable for up to five years following construction Duration The period of time that is required until soil capability returns to its baseline condition or the effect can no longer be measured or otherwise perceived Longterm Effect is measurable for longer than five years following construction and up to five', 'Table 125 Key Mitigation Measures for Human Occupancy and Resource Use PotentialEffect Effect Pathway Mitigation Measures Applicable Project Component PotentialEffect Effect Pathway Mitigation Measures Rocky ViewSection Turner ValleyCS UnitAddition Burton CreekCS UnitAddition Sensory Disturbance Where traffic as a result of the Projectcreates a hazardous or irritating levelof dust to nearby residents dustcontrol on existing access roads will beachieved through the application ofcalcium chloride or equivalent orwater Only water will be used for dustcontrol on the construction footprint Ensure that noise abatementequipment on machinery is in goodworking order Take reasonablemeasures to control constructionrelated noise near residential areas Where practical and applicablemultipassenger vehicles will be usedfor the transport of crews to and fromjob sites Machine cleanup activities will followcompletion of backfill operations asclosely as possible ')\n"
          ],
          "name": "stdout"
        },
        {
          "output_type": "stream",
          "text": [
            "\r155it [04:01,  1.41s/it]"
          ],
          "name": "stderr"
        },
        {
          "output_type": "stream",
          "text": [
            "('Table 1 Compatibility with Existing Land Uses Community Pipeline Land Use Compatibility Land Use Restrictions in Relation to the Project Municipality of Brighton Gas pipelines are defined as infrastructure in the Municipality of Brighton Official Plan No information permitting or prohibiting gas pipeline construction within any land use designation is provided in the Plan The location of the Trans Canada Pipeline is delineated on Schedule A the Land Use Plan No extraction or structure shall be permitted within 10 metres of the Trans Canada Pipeline rightofway limits Extraction within 30 metres of a pipeline rightofway shall require leave from the National Energy Board Municipality of Clarington The location of new utility facilities andor corridors is generally permitted within any land use designation provided such facilities do not adversely', 'TABLE 4 SUITABILITY RATINGS OF THE SOILS FOR RECLAMATION Soil Symbol Soil Name Soil Classification Parent Material Suitability Ratingof Root Zone Material AV Alluvium Orthic Regosol Cumulic Humic Regosol recent fluvial GF BKM Blackmud Eluviated Eutric Brunisol Brunisolic Gray Luvisol glaciofluvial sands FP DON Donnelly Orthic Gray Luvisol lacustrotill FP DVS Davis Orthic Gray Luvisol Brunisolic Gray Luvisol glaciofluvial or glaciolacustrine P glDVS gleyed Davis Gleyed Gray Luvisol glaciofluvial or glaciolacustrine P shDVS shallow Davis Orthic Gray Luvisol Brunisolic Gray Luvisol glaciofluvial overlying lacustrotill P EDS Edson Orthic Gray Luvisol Brunisolic Gray Luvisol Continental till F glEDS gleyed Edson Gleyed Gray Luvisol Continental till F shEDS shallow Edson Orthic Gray Luvisol Brunisolic Gray Luvisol Continental till overlying weathered bedrock F HBK Hambrook Brunisolic Gray Luvisol Cordilleran till FG', 'Table 828 Summary of Landforms in the North Taiga Plains B Ecological Zone LSA Landform Type Area in LSA Area in the Pipeline RightofWay Area Covered by the Norman Wells Compressor Station Landform Type ha ha ha Colluvial 1184 55 593 50 0 0 Organic 3708 174 1704 46 33 008 Glaciofluvial 267 12 72 27 0 0 Fluvial 1493 70 451 30 63 04 Glaciolacustrine 2802 131 1674 60 0 0 Morainal 4823 226 2472 51 0 0 Tertiary 5309 249 2522 47 0 0 Aeolian 300 14 257 85 0 0 Rock 38 02 0 0 0 0 Other ie water 1439 67 135 09 0 0 Total 21367 100 9880 46 96 01 NOTE Percentage is based on total area of facilities or pipelines divided', 'Table 937 Moose Winter Shelter Habitat in the PEAA Region Land Use Planning Area Key Habitat in the PEAA1 ha Percent of Total Key Habitat in the PEAA Alberta White Area 418 14 Alberta Green Area 8952 291 British Columbia Dawson Creek 3441 112 British Columbia Prince George 2003 65 British Columbia Fort St James 1856 60 British Columbia Vanderhoof 960 31 British Columbia Lakes 2251 73 British Columbia Morice 3572 116 British Columbia Kalum South 7308 238 Total 30763 100 NOTES 1 The key habitat is the sum of areas rated as high moderately high and moderate in the PEAA Totals and percentages may appear incorrect because of rounding ')\n"
          ],
          "name": "stdout"
        },
        {
          "output_type": "stream",
          "text": [
            "\r156it [04:02,  1.55s/it]"
          ],
          "name": "stderr"
        },
        {
          "output_type": "stream",
          "text": [
            "('TABLE 7B12 MUNICIPAL AND REGIONAL DEVELOPMENT PLANS AND HUMAN HEALTHRELATED GOALS ENCOUNTERED BY THE PROJECT Project Component Regional andor Municipal Development Plan Goals and Objectives Related to Human Health CPelican Lake Section hristina River Section RM of Wood Buffalo MDP Develop transit systems that are reliable safe and convenient Manage the natural environment using environmentally responsible practices will protect ecosystems and contribute to healthier communities Protect and enhance water quality and air quality Provide safe reliable water infrastructure Promote community safety and safe mobility Promote access to local food and enhance assistance and support to people in need Promote access to health care and social services Regulate incompatible land uses near human settlements Ensure emergency preparedness and management CPelican Lake Section hristina River Section Lower Athabasca Regional Plan', 'Table D1 Plant Species Identified in the LSA and PDA Scientific Name Common Name ACIMS synonym1 SRank1 GRank1 ACIMS Tracked T or Watched W List1 General Status of Alberta Wild Species 20102 Carex siccata Hay Sedge S5 G5 N undetermined Carex spectabilis Showy Sedge S4 G5 N secure Carex sprengelii Sprengels Sedge S4 G5 N secure Carex utriculata Small Bottle Sedge S5 G5 N secure Carex vaginata Sheathed Sedge S5 G5 N secure Carex xerantica WhiteScaled Sedge S3 G5 N sensitive Castilleja lutescens Stiff Yellow Paintbrush S3 G4G5 N sensitive Castilleja miniata Common Red Paintbrush S5 G5 N secure Cerastium arvense Field Mouseear Chickweed S5 G5 N secure Cerastium brachypodum ShortStalk MouseEar Chickweed S1 G5 T may be at risk Cerastium nutans Longstalked Mouseear Chickweed S4 G5 N', 'Table 332 First Nation and Mtis Key Topic Identification and Resolution Topic Discussion and Resolution Followup Location this topic is addressed in the ESA ', 'TABLE 201 SUMMARY OF CONSULTATION ACTIVITIES RELATED TO WILDLIFE AND WILDLIFE HABITAT Stakeholder GroupAgency Name Method of Contact Date of Consultation Reason for Engagement FollowUp ActionsComments Joanna Burgar Wildlife Biologist Fort McMurray Email and Telephone February 10 2015 J Skilnick forwarded the request for feedback on assessment indicators and assessment spatial boundaries AAFAESRD indicated that a response would be provided in the first week of March dditional information provided to AESRD included rationale for the spatial boundaries and map ESRD requested additional information on how the effects to caribou will be assessed in terms of temporal sensitivity information on the rationale as to why cumulative effects for only the Agnes herd will be similar to the cumulative effects of other herds elaboration on targeted species for oldforest birds')\n"
          ],
          "name": "stdout"
        },
        {
          "output_type": "stream",
          "text": [
            "\r157it [04:04,  1.59s/it]"
          ],
          "name": "stderr"
        },
        {
          "output_type": "stream",
          "text": [
            "('TABLE A2 SELECTED POPULATION CHARACTERISTICS OF COMMUNITIES IN THE SOCIOECONOMIC REGIONAL STUDY AREA IN BC 2011 Location 2006 Population No 2011 Population No Population Change 2006 to 2011 Population 014 Population 1564 Median Age Male Female Total Private Dwellings No Private Dwellings Occupied by Usual Residents No Aboriginal Identity 2 First Nation Single Identity 2 Mtis Single Identity 2 Private Dwellings Occupied by Residents on a Permanent Basis SubTotal Indian Reserves 6876 7374 72 130 733 411 440 485 3387 3240 382 374 00 957 Metro Vancouver Region Total 2116581 2313328 93 153 774 410 489 511 949565 891336 24 14 09 939', 'TABLE 1 FISH SPECIES THAT MAY OCCUR WITHIN THE KOTCHO LAKE WATERSHED GROUP IN BRITISH COLUMBIA Common Name 1BC Species Code Scientific Name Spawning Season2 Provincial Status3 COSEWICListed Species4 SPORTFISH Arctic grayling GR Thymallus arcticus spring Yellow not listed burbot BB Lota lota winterspring Yellow not listed northern pike NP Esox lucius spring Yellow not listed walleye WP Sander vitreus spring Yellow not listed NONSPORTFISH troutperch TP Percopsis omiscomaycus springsummer Yellow not listed longnose sucker LSU Catostomus catostomus spring Yellow not listed white sucker WSU Catostomus commersoni spring Yellow not listed brook stickleback BSB Culaea inconstans springsummer Yellow not listed lake chub LKC Couesius plumbeus spring Yellow not listed finescale dace FDC Phoxinus neogaeus springsummer Yellow not listed', 'Table E11 Potency Equivalency Factor PEF for Carcinogenic PAHs PAH Potency Equivalency Factor PEF1 Parent Compounds Alkylated Compounds2 Potency Equivalency Factor PEF1 Benzoaanthracene 01 Benzobjfluoranthene 01 Benzokfluoranthene 01 Benzoghiperylene 001 Benzocphenanthrene 001 Benzoapyrene 1 Chrysene 001 Dibenzahanthracene 1 Fluoranthene C1fluoranthenepyrene C2fluoranthenepyrene C3fluoranthenepyrene C4fluoranthenepyrene 0001 Indeno123cdpyrene 01', 'Table 10153 Predicted Effects on Wildlife in Northwestern Alberta RSA Valued Component Phase When Impact Occurs Effect Attribute Valued Component Phase When Impact Occurs Direction Magnitude Geographic Extent Duration Woodland caribou Construction Adverse Lowmoderate Localregional Long term Woodland caribou Operations Adverse Low Localregional Long term Woodland caribou Decommissioning and abandonment Adverse Low Localregional Long term far future Moose Construction Adverse Moderate Localregional Long term Moose Operations Adverse Lowmoderate Localregional Long term Moose Decommissioning and abandonment Adverse Low Localregional Long term Marten Construction Adverse Low Local Long term Marten Operations Adverse Low Local Long term Marten Decommissioning and abandonment Adverse Low Local Long termfar future Lynx Construction Adverse Low Local Long term Lynx Operations Adverse Low Local Long term Lynx Decommissioning and abandonment Adverse Low Local Long term Beaver')\n"
          ],
          "name": "stdout"
        },
        {
          "output_type": "stream",
          "text": [
            "\r158it [04:06,  1.57s/it]"
          ],
          "name": "stderr"
        },
        {
          "output_type": "stream",
          "text": [
            "('Table 525 Existing and Proposed Annual Greenhouse Gas Emissions During Operation for CSN5 Unit Total Emissions tonnesyear Unit CO2 CH4 N2O CO2e1 Combustion Equipment proposed 106360 105 28 109824 Combustion Emissions existing 10314 10 03 10419 Venting Emissions existing 02 33 824 Fugitive Emissions existing 11 136 3396 Total 116675 275 310 124463 NOTE 1 Values for CO2e may not exactly match the breakdown to CO2 CH4 and N2O as values are rounded for presentation in this summary table ', 'Table 662 Potential Wetland Effects Mitigation and Predicted Residual Effects ', 'TABLE 6261 POTENTIAL EFFECTS MITIGATION MEASURES AND POTENTIAL RESIDUAL EFFECTS OF PIPELINE CONSTRUCTION AND OPERATION ON ACOUSTIC ENVIRONMENT Potential Effect Location Spatial Boundary1 Key Measures EPP Reference2 Potential Residual Effects 1 Noise during construction Entire route LSA Take reasonable measures to control constructionrelated noise near residential areas Alter equipment erect noise barriers or change the work schedule if excessive noise becomes a nuisance to nearby residents Section 60 Ensure that noise abatement equipment eg mufflers on machinery is in good working order Turn off equipment when not in use Enclose noisy equipment as needed to limit the transmission of noise beyond the construction site Locate stationary equipment such as compressors and generators away from noise receptors Replace or repair equipment parts generating excessive noise if practical Section 60', 'Table 7D1 Alberta Soil Chemistry Saturated Paste Basis LAB Site Description Horizon Soil Series Depth cm pH EC mScm SAT Saturated Paste Basis LAB Site Description Horizon Soil Series Depth cm pH EC mScm SAT soluble ions LAB Site Description Horizon Soil Series Depth cm pH EC mScm SAT Na Ca Mg SAR LAB Site Description Horizon Soil Series Depth cm pH EC mScm SAT mEqL 10750 C 82 237 71 133 42 109 48 10752 PM215 B EOR 72 036 30 08 20 10 06 10753 C 79 295 45 50 246 128 12 10755 PM218 Ae KLM 1127 67 050 26 45 09 05 54 10756 Bnt 2746 85 105 57 957 220 345 180 10757 Csak 84 826 50 633 207 241 134 10758 Ck')\n"
          ],
          "name": "stdout"
        },
        {
          "output_type": "stream",
          "text": [
            "\r159it [04:07,  1.49s/it]"
          ],
          "name": "stderr"
        },
        {
          "output_type": "stream",
          "text": [
            "('TABLE 5 WETLAND DISTRIBUTION AND DESCRIPTION ALONG THE ALBERTA PORTION OF THE PROPOSED PIPELINE ROUTE Location 1 Wetland Description 2 Primary Ecological Function Typical Wetland Size ha Length Crossed 3km 4 approx KP 1817 to KP 1818 shallowmarsh habitat less than 02 01 KP 1880 near southern edges of Wilken Lake hydrologic water quality habitat KP 1893 shallowmarsh habitat less than 02 01 KP 1980 near northern edges of Hughenden Lake hydrologic water quality habitat KP 1993 to KP 1996 wetmeadow habitat hydrologic less than 10 03 KP 2004 wetmeadow habitat less than 02 01 KP 2070 near northern edges of Shorncliffs Lake hydrologic water quality habitat KP 2106 to KP 2111 lowprairie hydrologic less than 10 05 KP 2205 shallowmarsh habitat hydrologic less than 20 01 KP', 'Table 6197 Predicted Residual Project Effects Description and Importance for Employment and Economy Key Indicator Predicted Residual Effect Effects Assessment Criteria Importance Key Indicator Predicted Residual Effect Direction Magnitude Geographic Extent Temporal Context Probability of Occurrence Importance Key Indicator Predicted Residual Effect Direction Magnitude Geographic Extent Duration Frequency Probability of Occurrence Importance', 'Table 7296 Water Supply Lakes for Detailed Study Administrative Region Site Lake Name Perimeter m Surface Area m2 Inuvialuit Settlement Region I01 Unnamed lake 3806 416827 Inuvialuit Settlement Region I02 Old Trout Lake 18414 8480246 Gwichin Settlement Area I03 Unnamed lake 8971 1882606 Gwichin Settlement Area I04 Campbell Lake 15063a 3345263a Sahtu Settlement Area I05 Tutsieta Lake 22241 8759155 Sahtu Settlement Area I06 Unnamed lake 7008 1672383 Sahtu Settlement Area I07 Unnamed lake 27502 3187783 Sahtu Settlement Area I08 Unnamed lake 9186 1231575 Sahtu Settlement Area I09 Mio Lake 20530 7509967 Deh Cho Region I10 Eentsaytoo Lake 12041 5158517 Deh Cho Region I11 Unnamed lake 4728 732971 Deh Cho Region I12 Unnamed lake 3600 539568 Deh Cho Region I13 Unnamed lake 2087 300423 Deh Cho Region I14 Unnamed', 'Table A3 Vascular Plants Identified During Field Surveys Scientific name Common name ACCDC Srank CESCC Rank Raphanus raphanistrum wild radish SNA exotic Rhamnus alnifolia alderleaved buckthorn S4S5 secure Rhinanthus minor little yellow rattle S5 secure Rhododendron canadense rhodora S5 secure Rhus typhina staghorn sumac S5 secure Rhynchospora alba white beakrush S5 secure Ribes americanum wild black currant S4 secure Ribes glandulosum skunk currant S5 secure Ribes hirtellum smooth gooseberry S5 secure Ribes lacustre bristly black currant S5 secure Ribes triste swamp red currant S5 secure Rosa blanda smooth rose S5 secure Rosa carolina Carolina rose S4S5 secure Rosa multiflora multiflora rose SNA exotic Rosa nitida shining rose S5 secure Rosa palustris swamp rose S3 secure Rubus allegheniensis Allegheny blackberry S5 secure Rubus canadensis smooth blackberry S5 secure Rubus')\n"
          ],
          "name": "stdout"
        },
        {
          "output_type": "stream",
          "text": [
            "\r160it [04:09,  1.55s/it]"
          ],
          "name": "stderr"
        },
        {
          "output_type": "stream",
          "text": [
            "('Table 810 Plant Species at Risk with the Potential to Occur in the PDA or LAA of the Project NUNT NUNT ABSKMBMTND Sources Donnes sur le projet fournies par TransCanada Pipelines Limited Donnes de base fournies par les gouvernements du Canada de lAlberta de la Saskatchewan et du Manitoba Sources Project data provided by TransCanada Pipelines Limited Base data provided by the Governments of Canada Alberta Saskatchewan Manitoba NUNT ABSKMBMTND Sources Donnes sur le projet fournies par TransCanada Pipelines Limited Donnes de base fournies par les gouvernements du Canada de lAlberta de la Saskatchewan et du Manitoba Sources Project data provided by TransCanada Pipelines Limited Base data provided by the Governments of Canada Alberta Saskatchewan Manitoba NUNT ABSKMBMTND Sources Donnes sur le projet fournies par TransCanada Pipelines Limited', 'TABLE 4171 OLIVESIDED FLYCATCHER HABITAT RATING ASSUMPTIONS Stand Composition Structural Stage Stand Composition 34 5 67 Deciduous 75 aspen poplar birch Moderate 3 Very Low 5 Very Low 5 Mixedwood Coniferous 75 Deciduous 75 Moderate 3 Moderate 3 Low 4 Upland Coniferous 75 upland sprucefir High 1 Very Low 5 Moderate 3 Lowland Coniferous Bogs Fens Low 4 Low 4 Low 3 Pine 75 pine or pine leading coniferous High 1 Moderate 3 Low 4', 'Table 1010 Summary of Residual Environmental Effects on Marine Mammals Potential Effect Mitigation Residual Environmental Effect Potential Effect Mitigation Magnitude Geographic Extent Duration Frequency Reversibility Significance Prediction Confidence Combined Effects contd Cumulative effects Restrictions during sensitive periods M 03256 km2 up to 12 of CCAA Up to 24 h 45 times per day R TBD L KEY Magnitude N Negligible No measurable adverse effects on marine mammals are anticipatedL Low A small group of individual marine mammals eg a matriline or pod of NR killer whales is affectedM Moderate Multiple groups of individual marine mammals eg two or more pods of NR killer whales or the majority of individual humpback whales that regularly inhabit the CCAA are affectedH High A large portion of a marine mammal population eg', 'TABLE 76122 POTENTIAL EFFECTS MITIGATION MEASURES AND RESIDUAL EFFECTS OF CONSTRUCTION AND OPERATIONS AT THE WESTRIDGE MARINE TERMINAL ON MARINE BIRDS Potential Effect Spatial Boundary1 Key Measures EPP Reference2 Potential Residual Effects 12 Sensory disturbance RSA Initiate preconstruction environmental monitoring where warranted prior to the commencement of construction or if appropriate prior to the commencement of a specific activity eg pile installation At some locations monitoring will be necessary to assess the effects on specific environmental features eg nesting birds If required ensure that applicable are in place to allow monitoring to be conducted Section 60 Noise abatement and construction scheduling will be considered during noisesensitive periods to limit disruption to sensitive receptors eg nesting birds Section 70 Prevent skylighting which may lead to bird disorientationcollisions where feasible')\n"
          ],
          "name": "stdout"
        },
        {
          "output_type": "stream",
          "text": [
            "\r161it [04:10,  1.49s/it]"
          ],
          "name": "stderr"
        },
        {
          "output_type": "stream",
          "text": [
            "('Table 11 Concordance with NEB Filing Manual 2013 Element in Filing Manual Section of ESA Wildlife and Wildlife Habitat contd Describe the cumulative effects on wildlife that could occur as a result of the timing of the proposed Project in combination with 8other physical works or activities Section 216 Describe how cumulative changes in access will affect wildlife mortality risk or habitat quantity and quality 9 Section 216 10Compare the cumulative effect on each species assessed to available speciesspecific thresholds or policies and indicate to what degree a threshold is approached or exceeded Section 216 Species at Risk or Species of Special Status For effects related to wildlife fish and plant species at risk or species of special status 1identify the species and their status provide the appropriate', 'Table 23 Ambient Air Quality Objectives and Guidelines Measurable Parameter Averaging Period AAAQOAAAQG gm3 BC AAQO agm3 SO2 Onehour 450 450 SO2 24hour 125 160 SO2 Annual 20 25 NO2 Onehour 400 NO2 24hour 200 NO2 Annual 60 CO Onehour 15000 14300 CO 8hour 6000 5500 PM25 Onehour 80 b PM25 24hour 30 25 PM25 Annual 8 PM10 24hour 50 NOTES a Level A Objectives b This value is a guideline all others are objectives not applicable SOURCES AENV 2010 BC HLS 2009 ', 'TABLE 1 SUMMARY OF ENVIRONMENTAL CONSIDERATIONS FOR THE PROGRESS PFRA COMMUNITY PASTURE Biophysical and SocioEconomic Elements Summary of Considerations Wildlife and Wildlife Habitat Critical Wildlife Habitat for sharptailed grouse is located within the Progress PFRA Community Pasture along the route segment from KP 328 to KP 3322 Saskatchewan Parks and Renewable Resources 1978 A ferruginous hawk S4B S4M Special Concern historical occurrence has been recorded at KP 3321 within the Progress PFRA Community Pasture Saskatchewan CDC 2006 Species at Risk or Species of Special Status The segment of the proposed pipeline route within the Progress PFRA Community Pasture lies within the range of the following eight listed Species at Risk listedspecies under Schedule 1 of the Species at Risk Act and lands in the vicinity of the route', 'Table 48 Monthly Relative Humidity from Vancouver International Airport Climate Normals 1971 to 2000 Time Average Relative Humidity Time Jan Feb Mar Apr May Jun Jul Aug Sep Oct Nov Dec 0600 88 87 86 85 84 83 84 86 89 90 88 88 1500 80 75 70 65 64 64 62 63 68 76 79 81')\n"
          ],
          "name": "stdout"
        },
        {
          "output_type": "stream",
          "text": [
            "\r162it [04:11,  1.43s/it]"
          ],
          "name": "stderr"
        },
        {
          "output_type": "stream",
          "text": [
            "('TABLE 72107 PREDICTED CHANGE IN HABITAT FOR MAMMAL INDICATORS IN THE WILDLIFE LSA Wildlife Indicator HabitatLife Requisite Habitat Suitability Rating Existing Conditions ha Project Conditions ha Incremental Change ha2 Change Grizzly Bear Spring Feeding High 37 36 01 268 Grizzly Bear Spring Feeding Moderately High 10482 10390 93 088 Grizzly Bear Spring Feeding Moderate 73347 72622 725 099 Grizzly Bear Spring Feeding Low 130520 133328 2808 215 Grizzly Bear Spring Feeding Very Low 163400 163028 372 023 Grizzly Bear Spring Feeding Nil 277495 275876 1618 058 Grizzly Bear Spring Feeding Effective Habitat 83867 83048 818 098 Grizzly Bear Fall Foraging High 7618 7540 77 101 Grizzly Bear Fall Foraging Moderately High 77925 77314 611 078 Grizzly Bear Fall Foraging Moderate 133776 131976 1800 135 Grizzly Bear Fall Foraging', 'TABLE 3 Watercourse Crossing Summary for SemCAMS Redwillow Pipeline Project ID Watercourse Location Class Instream Work Window Fish Species Known to Occur in the Waterbody Mean Channel and Wetted Width and Depth m Vehicle crossing Construction timing Winter 2009 with respect to instream work windows Outside the Work Window During the Work Window Restoration ID Watercourse Location Class Instream Work Window Fish Species Known to Occur in the Waterbody Mean Channel and Wetted Width and Depth m Vehicle crossing Construction timing Winter 2009 with respect to instream work windows Primary Crossing Method Contingency Crossing Method Primary Crossing Method Contingency Crossing Method Restoration 10 Unnamed Tributary to the Murray River 2137021 W6M c65A93P03 S6 Open none Channel 076 Wetted 072 Depth 02 Existing culvert upstream or snowice fill No', 'Table 2032 Community WellBeing Index Project Area Census Population 2011 Income 2011 Education 2011 Housing 2011 Labour Force Activity 2011 CWB Index Score 2011 Horse Lake First Nation Horse Lakes 152B 402 64 23 80 75 60 Kapaweno First Nation Kapaweno First Nation Pakashan 150D 5 na na na na na Stoney Nakoda First Nation Stoney 142 143 144 3494 43 28 45 61 44 Piikani Nation Piikani 147 1217 58 44 42 70 53 Average 94 57 94 89 ', 'Table 912 Baseline Conditions at Pump Stations Pump Station Name Habitat Type1 PDA Habitat Suitability2PDA SOMC Observed 3 4LAA Other Wildlife Habitat RAA Lachute Wooded wetland as well as forested land characterized mainly by mixed stands Deciduous and coniferous stands are also present in smaller proportions Suitable habitat for breeding bird amphibian reptile and raptor SOMC particularly those associated with forested habitats and wetlands Potential foraging habitat for mammal SOMC particularly ungulates No SOMC observed during field surveys No SOMC recorded by CDPNQ AARQ and SOSPOP Heron rookeries Whitetailed deer yards North River Farm recognized nature reserve Muskrat designated habitats waterfowl gathering areas and le Carillon migratory bird sanctuary along the St Lawrence River Mascouche Mainly agricultural land Also includes a forested cover of deciduous stands Suitable habitat')\n"
          ],
          "name": "stdout"
        },
        {
          "output_type": "stream",
          "text": [
            "\r163it [04:13,  1.46s/it]"
          ],
          "name": "stderr"
        },
        {
          "output_type": "stream",
          "text": [
            "('Table C8 Management Interpretations and Risk Ratings for Ecological Land Classification ELC Map Units Occurring in the Terrestrial Local Study Area Dry Mixedwood Subregion ELC Map Unit Predicted Soil Classificationa Risk of Trench Wall Instabilityb Rutting Riskc Compaction Riskc Water Erosion Risk 5 Sloped Water Erosion Risk 59 Sloped Water Erosion Risk 915 Sloped Wind Erosion Riske b3 Brunisols and Luvisols MH L L L M H LM c1 Brunisols and Luvisols LM LM LM L M H L d1 Luvisols L M M L M H L d1 Clearcut Luvisols L M M L M H L d1d2 Luvisols L M M L M H L d2 Luvisols L M M L M H L d2d3 Luvisols L M M L M H L d3 Luvisols L', 'Table 5103 Ambient Particulate Matter PM25 Concentrations Year Average gm3 24Hour Maximum gm3 1Hour Maximum gm3 Number of AAAQO Exceedances Year Average gm3 24Hour Maximum gm3 1Hour Maximum gm3 1Hour 24Hour 2010a 520 2011b 399 5831 18331 11 1 2012c 500 5174 15338 19 3', 'Table 661 Area of Wetlands Potentially Affected by the Project in the Terrestrial Local Study Area LSA MONG Marsh 51 1 0 0 1 1 0 0 1 1 MONGSONS Marsh Shrubby swamp 20 1 0 0 1 1 0 0 1 1 SONS Shrubby swamp 209 2 0 0 2 1 1 1 2 1 SONSMONG Shrubby swamp Marsh 15 1 0 0 0 0 0 0 0 0 SONSSTNN Shrubby swamp Treed swamp 64 1 0 0 1 1 0 0 1 1', 'TABLE 7282 BOUNDARIES OF THE SOCIOECONOMIC REGIONAL STUDY AREA REGIONS Socioeconomic RSA Edmonton Region Rural Alberta Region Jasper National Park Region FraserFort George ThompsonNicola Region Fraser Valley Region Metro Vancouver Region Description of area Strathcona County to the western boundary of Parkland County Eastern boundary of Yellowhead County to eastern boundary of Jasper National Park Eastern and western boundaries of Jasper National Park Western boundary of Jasper National Park AlbertaBC border to approximately half way between Merritt and Hope the border of the TNRD and the FVRD Half way between Merritt and Hope to the western boundary of the FVRD Boundaries of Metro Vancouver or the Greater Vancouver Regional District')\n"
          ],
          "name": "stdout"
        },
        {
          "output_type": "stream",
          "text": [
            "\r164it [04:14,  1.44s/it]"
          ],
          "name": "stderr"
        },
        {
          "output_type": "stream",
          "text": [
            "('Table 417 Effects on Groundwater Quantity and Flow Patterns Pipeline Corridor Infrastructure Pathway Phase When Impact Occurs Effect Attribute Pathway Phase When Impact Occurs Direction Magnitude Geographic Extent Duration Change in recharge and discharge Construction Adverse Low1 Local Far future Change in recharge and discharge Operations Adverse Low1 Local Far future Change in recharge and discharge Decommissioning and abandonment Adverse Low Local Long term Flow obstruction Construction Adverse Low Local Far future Flow obstruction Operations Neutral No effect NA NA Flow obstruction Decommissioning and abandonment Neutral No effect NA NA Change in permafrost patterns Construction Adverse Low Local Long term Change in permafrost patterns Operations Adverse Low Local Long term Change in permafrost patterns Decommissioning and abandonment Neutral No effect NA NA Sedimentation Construction Adverse Low1 Local Far', 'TABLE 5D8 POTENTIAL RARE VASCULAR PLANT SPECIES IN THE LAKE MANITOBA PLAIN ECOREGION OF MANITOBA Scientific Name Common Name Preferred Habitat RightofWay within Species Range6 Preferred Habitat in Vicinity of RightofWay Provincial Rank1 Additional Designations Symphyotrichum sericeum Aster sericeus western silvery aster dry prairies fields and openings in bur oak trembling aspen woodlands S2 Threatened345 Verbena bracteata bracted vervain sandy prairie roadsides NA S3 Vernonia fasciculata ssp corymbosa western ironweed wet prairies NA yes SH G5T3T52 Veronicastrum virginicum Culversroot edges of thickets and open aspenbur oak woods adjacent to shrubs along linear disturbances S1 Threatened5 Viola conspersa dog violet moist woods NA yes S3 ', 'Table 7 Summary of Baseline Monitoring Stations Monitoring Station Elevation m asl Location UTM NAD83 Data Period CACs Monitored Monitoring Station Elevation m asl m E m N Zone Data Period NO2 SO2 CO PM25 Williams Lake Columneetza School 632 557983 5777126 10 2008 2009 2010 2011 and 2013 x Williams Lake Columneetza School 632 557983 5777126 10 2009 2011 2012 2013 and 2014 x Pine River Hasler60 607 564681 6162657 10 20112015 x Kamloops Brocklehurst 336 683831 5619419 10 20062010 x x x x NOTES x monitoring data is available monitoring data is not available ', 'Table 10127 Effects on Wildlife Mortality Gathering Pipelines and Associated Facilities Valued Component Phase When Impact Occurs Effect Attribute Valued Component Phase When Impact Occurs Direction Magnitude Geographic Extent Duration Barrenground caribou Construction Adverse Low Local Medium term Barrenground caribou Operations Adverse Low Local Long term Barrenground caribou Decommissioning and abandonment Neutral No effect NA NA Barrenground grizzly Construction Adverse Low Local Medium term Barrenground grizzly Operations Adverse Low Local Long term Barrenground grizzly Decommissioning and abandonment Neutral No effect NA NA NOTE NA not applicable because no effect has been predicted ')\n"
          ],
          "name": "stdout"
        },
        {
          "output_type": "stream",
          "text": [
            "\r165it [04:16,  1.42s/it]"
          ],
          "name": "stderr"
        },
        {
          "output_type": "stream",
          "text": [
            "('TABLE 5253 PLANT GATHERING SITES IDENTIFIED BY WHISPERING PINES FIRST NATION Approximate Distance and Direction from Project Site Description CurrentPast Use Requested Mitigation Project Footprint Concern about the need to travel further to find medicinal plants None Project Footprint Concerns about decline of berries as a result of industry and clear cutting and the decline of wild rose possibly due to warmer average temperatures None 500 m west of RK 6937 Balsam bark and Devils Club harvesting in spring near Poison Creek Current None 69 km west of RK 7558 Berry picking site south of Green Lake Current None 21 km southwest of RK 769 Berry picking site south of Bonaparte Lake Current None 25 km southwest of RK 769 Berry picking and plant gathering site at Whitewood', 'Table C5 CALMET Landuse Characterization and Associated Geophysical Parameters for Season 3 Winter 1 NALCMS Code Surface Roughness m Albedo Bowen Ratio Soil Heat Flux fraction Anthropogenic Heat Flux Wm2 Leaf Area Index CALMET Code CALMET Land Cover Type 1 13 012 03 015 0 7 42 Evergreen Forest Land 2 13 012 03 015 0 7 42 Evergreen Forest Land 3 13 012 03 015 0 7 42 Evergreen Forest Land 4 13 012 03 015 0 7 41 Deciduous Forest Land 5 13 012 03 015 0 7 41 Deciduous Forest Land 6 1 01 1 015 0 7 43 Mixed Forest Land 7 005 025 1 015 0 05 32 Shrub Rangeland 8 005 025 1 015 0 05 32 Shrub Rangeland 9 01 018', 'Table 823 Lacustrine Landforms Tundra Ecological Zone Landforms Topography Drainage Description Composition Dominant Soil Subgroups Associated Processes Permafrost Conditions LSA Areal Extentha LSA Tundra Zone total Landforms Topography Drainage Description Composition Dominant Soil Subgroups Associated Processes Temp C Active Layer Depth Estimatedm Estimated Frozen Moisture Content1 Comments LSA Areal Extentha LSA Tundra Zone total Lacustrine deposits of variable thickness over moraine or glaciofluvial with icewedge polygons u0000Level to moderate slopes u0000Well to very poorly drained u0000Blanket slope linked hollow closed and linked basin drainage types common u0000Silt u0000Fine sand u0000Clay u0000Gleysolic Turbic Cryosol u0000Terric Fibric Organic Cryosol u0000Terric Mesic Organic Cryosol u0000Mesic Organic Cryosol u0000Permafrost icewedge polygons thaw subsidence patterned ground stone polygons frost boils stone stripes 30 to 60 075115 2035 glaciofluvial85105 morainal u0000Continuous permafrost with ice', 'Table 731 Summary of Assessed Project Cumulative Effects and Predicted Significance Valued Component Project Specific Effects Possible Interaction with Other Activity Potential Cumulative Effects Additional Mitigation Valued Component Key Indicator Predicted Residual Effects Predicted Significance Spatial Temporal Predicted Cumulative Effects Predicted Significance Additional Mitigation Human Health and Aesthetics PTraffic and Traffic Accidents ossibility for traffic accidents to occur due to increased Projectrelated traffic during construction Not Significant Yes Yes Increase in traffic accidents Not Significant None Human Health and Aesthetics AVisual Aesthetics lteration of viewscapes and visual aesthetics during Project construction and operation Not Significant Yes Yes Alteration of viewscapes and visual aesthetics Not Significant None Infrastructure and Services ITransportation and Traffic ncreased traffic on highways and local roads used to access the Project Not Significant Yes Yes')\n"
          ],
          "name": "stdout"
        },
        {
          "output_type": "stream",
          "text": [
            "\r166it [04:17,  1.53s/it]"
          ],
          "name": "stderr"
        },
        {
          "output_type": "stream",
          "text": [
            "('Table 641 East Channel Mackenzie River and Holmes Creek Water Quality Excluding Metals and PAHs Parameter Units Mackenzie River East Channel RPR013 Holmes Creek Site 23b Parameter Units July 30 2002a Historical Data 197219873 July 28 2002 Historical Data 197319754 Parameter Units July 30 2002a Summer Winter July 28 2002 Summer Winter Parameter Units July 30 2002a Range or Value n Median Range n July 28 2002 Range or Value n Value n Field Measured pH NA 78 8080 2 82 8088W 5 78 71 1 74 1 Conductance Scm 240 277 190301 5 57 8000 1 50 1 Temperature C 141 15 1 1 1 99 9595 2 13 1 Dissolved oxygen mgL 93 90100 2 52C 1 106 110 1 94 1 Conventional Parameters Colour TCU', 'Tables 8A11 to 8A16 of Appendix 81 provide a list of the certain and reasonably foreseeable developments located within the Aquatics RSA in the evaluation of cumulative effects on the water quality and quantity indicators Description of these developments is provided in Section 814 and developments in Tables 8A11 to 8A14 are shown on Figures 811a 811b and 811c Reasonably foreseeable developments provided in Table 8A15 for Alberta and Table 8A16 for BC of Appendix 81 with the potential to act in combination with the Project were excluded from mapping since development details eg approval status location were either not available or the developments were located within urban municipal boundaries such as the City of Edmonton and LMDA Potential Residual Project Effect on Indicator Spatial Boundary1 Project Components', 'Table D2 Embeddedness Code Class Description N Nonembedded All rock substrates ie gravel cobble boulders Code Class Description N Nonembedded All rock substrates ie gravel cobble boulders L Low embeddedness 25 embedded M Medium embeddedness 2550 embedded H High embeddedness 5175 embedded VH Very high embeddedness 75 embedded', 'TABLE 5132 SUMMARY OF ENVIRONMENTAL ELEMENTS AND CONSIDERATIONS FOR THE DARFIELD TO BLACK PINES REACTIVATED SEGMENT Environmental Elements Summary of Considerations Wetland Loss or Alteration The Darfield to Black Pines Segment is located within the Columbia Highlands and the ThompsonOkanagan Plateau ecoregions Wetlands are not very common within these ecoregions and many of those wetlands have been disturbed by urbanization and agriculture Ecological Stratification Working Group 1995 This segment is situated within the Intermountain Prairie Wetland Region of Canada Common wetland types found within this wetland region include marshes bordering fresh to saline ephemeral or semipermanent shallow waters Government of Canada 1986 The Darfield to Black Pines Segment is located within the IDF and PP BGC zones of BC BC MFLNRO 2012 Meidinger and Pojar 1991 Common wetland')\n"
          ],
          "name": "stdout"
        },
        {
          "output_type": "stream",
          "text": [
            "\r167it [04:19,  1.48s/it]"
          ],
          "name": "stderr"
        },
        {
          "output_type": "stream",
          "text": [
            "('Table 561 Watercourse Drainage Areas in the Deh Cho Region Crossing ID Name Drainage Area km2 RPR377 Blackwater River 10400 RPR379 Unnamed stream 254 RPR381 Dam Creek 694 RPR388 White Sand Creek 292 RPR391 Ochre River 1160 RPR399 Hodgson Creek 1272', 'Table 31 Concordance with NEB Filing Manual 201401 NEB 2014 Element in Filing Manual Location in the Consolidated Application 10 Describe criteria for evaluating success of reclamation of fishbearing water bodies and their banks as well as riparian areas Describe how and when this evaluation would be undertaken and documented Volume 15 Parts A to E Section 6 Fish and Fish Habitat Volume 17 Part A Section 6 Freshwater Fish and Fish Habitat Volume 17 Part A Section 10 Marine Fish and Fish Habitat Volume 17 Part B Section 3 Marine Fish and Fish Habitat 11 Where residual effects have been predicted identify whether those residual effects would be likely to act in combination with the effects of other physical works or activities and expand on the matters', 'Table 10158 Valued Component Habitat for the Deh Cho Region Model Habitat Value Regional Study Area Model Habitat Value Habitat Area ha Habitat Northern interior grizzly denning Very high 152310 11 Northern interior grizzly denning High 1145 1 Northern interior grizzly denning Moderate 128219 9 Northern interior grizzly denning Low 108245 8 Northern interior grizzly denning Very low 1029254 72 Northern interior grizzly denning None 2591 1 Northern interior grizzly denning No data 0 0 Northern interior grizzly spring forage Very high 345713 11 Northern interior grizzly spring forage High 938492 29 Northern interior grizzly spring forage Moderate 1551810 49 Northern interior grizzly spring forage Low 65010 2 Northern interior grizzly spring forage Very low 162062 5 Northern interior grizzly spring forage None 131929 4 Northern interior grizzly', 'Table E32 Representative Chemistry Judah Seriesa Horizon Depth cm Horizon Depth cm Electrical Conductivity dSm pH H2O Total Organic Carbon LH 25 to 0 Ahe 0 to 8 68 61 AB 8 to 18 55 12 Bt 18 to 43 61 01 BC 43 to 66 75 Cca 66 to 69 76 Ck 69 ')\n"
          ],
          "name": "stdout"
        },
        {
          "output_type": "stream",
          "text": [
            "\r168it [04:20,  1.44s/it]"
          ],
          "name": "stderr"
        },
        {
          "output_type": "stream",
          "text": [
            "('TABLE 6A ENVIRONMENTALLY SIGNIFICANT AREAS ENCOUNTERED BY THE PROJECT Environmentally Significant Area Location1 Environmentally Significant Area Criteria Legal Location KP Range Contain Focal Species Species Groups or Habitat Rare Unique or Focal Habitat Ecological Integrity Contribute to Water Quality and Quantity McLeod River Section 1215318 W5M to 1215318 W5M KP 455 to KP 455 Yes Yes Yes Yes 11295318 W5M to 12295318 W5M KP 815 to KP 902 Yes Yes Yes Yes 12315318 W5M to 215419 W5M KP 1132 to KP 1202 Yes Yes 12155419 W5M to 9165419 W5M KP 1794 to KP 1831 Yes Yes Yes 14165419 W5M to 3215419 W5M KP 1924 to KP 1954 Yes Yes 10205419 W5M to 11205419 W5M KP 2094 to KP 2124 Yes Yes Yes 4295419 W5M to 1305419 W5M KP', 'TABLE 721 BASE CASE ASSUMPTION CRITERIA BASED ON LAND USE Land Use Base Case Assumptions for the Decommissioning of Line 3 Agricultural Cultivated Decommission inplace Agricultural Cultivated with Special Features Decommission inplace with mitigation treatment or removal Agricultural NonCultivated Decommission inplace NonAgricultural Existing Developed Lands Decommission inplace with treatment measures NonAgricultural Prospective Future Development Removal or decommission inplace NonAgricultural No Future Development Decommission inplace Other Public Road Crossings Decommission inplace with special treatment measures if warranted Other Rail Crossings Decommission inplace with special treatment measures if warranted Other Water Crossings Decommission inplace with special treatment measures if warranted Other Other Crossings Decommission inplace with special treatment measures if warranted Environmentally Sensitive Areas Environmentally Sensitive Areas Decommission inplace with treatment measures', 'Table 7213 Cumulative Effects Assessment and Importance for Air Emissions ', 'Table 721 Residual Effects Classification Criteria Soil Capability Criteria Criteria Definitions Magnitude The expected change in a measurable parameter or variable relative to baseline case Low Effect on soil properties is detectable but is within the range of natural variation or baseline values Magnitude The expected change in a measurable parameter or variable relative to baseline case Moderate Effect on soil properties is detectable and exceeds the limits of natural variation or baseline values but is within regulatory limits and or is unlikely to affect agricultural land capability class Magnitude The expected change in a measurable parameter or variable relative to baseline case High Effect on soil properties is detectable exceeds the limits of natural variation or baseline values and exceeds regulatory limits and or is likely to')\n"
          ],
          "name": "stdout"
        },
        {
          "output_type": "stream",
          "text": [
            "\r169it [04:22,  1.48s/it]"
          ],
          "name": "stderr"
        },
        {
          "output_type": "stream",
          "text": [
            "('Table 54 Effects Classification Criteria Groundwater Resources Criteria Criteria Definitions High Effect would singly or as a substantial contribution in combination with other sources result in exceedances of groundwater quality guidelines in cases where such guidelines were not exceeded under baseline conditions The project activity will have a high measurable effect on groundwater quantity resulting in a loss of access to groundwater by existing users Geographic Extent The geographic area within which an effect of a defined magnitude is expected to occurs PDA Effect would be limited to the PDA ie construction RoW and footprints associated with constructing the pipeline permanent or temporary access roads and associated facilities Geographic Extent The geographic area within which an effect of a defined magnitude is expected to occurs LAA Effect extends', 'TABLE 640 POTENTIAL EFFECTS MITIGATIVE MEASURES AND RESIDUAL EFFECTS OF ACCIDENTS AND MALFUNCTIONS DURING PIPELINE CONSTRUCTION AND OPERATION Potential Effect Location Spatial Boundary1 Key Measures EPP Reference2 Potential Residual Effects 1 Spill of hazardous materials during construction and operation Entire route Footprint to Aquatics LSA Spill Prevention Follow mitigation measures for spill prevention outlined in the EPP Section 60During operation and maintenance implement a combination of incident prevention measures safety devices and emergency response planning and procedures to ensure public safety and prevent environmental damageIn the Event of a Spill Report spill immediately to the Construction Manager or designate and the Environmental Inspector Section 60 Implement the Contaminated Soils Discovery Contingency Plan Appendix D9 as well as measures in Chapter 2 Emergency Response actions Chapter 3 Other Emergencies', 'Table 1218 Residual Effects on Human Occupancy and Resource Use Project Phase MitigationCompensation Measures Residual Environmental Effects Characteristics RecommendedFollowup andMonitoring Project Phase MitigationCompensation Measures Direction Magnitude ExtentGeographic Duration Frequency Reversibility ContextSocioEconomic Significance ConfidencePrediction of RecommendedFollowup andMonitoring Change in Trapping and Guide Outfitting contd Constructioncontd Communicate construction schedulesto affected trappers and guideoutfitters and continue stakeholderengagement through constructionIf construction directly disruptstrapping activities results in aneconomic loss affected trappers will becompensated in accordance with theBC Registered Trapper and PetroleumIndustry Agreement on Notificationand CompensationProvide opportunities for local andaboriginal trappers to be involved inwildlife management A M PDA ST C R M N H NA None required', 'Table 553 Environmental Effects Assessment Matrix for Wetlands Environmental Effects Assessment Matrix Valued Environmental Component WETLANDS Phase Operation and Maintenance Project Activities and Physical Works See Table 311 for list of specific activities and works Potential Environmental Effects AAdverse PPositive Mitigation Magnitude Geographic Extent DurationFrequency Reversibility EcologicalSocioCultural and Economic Context Pipeline Maintenance Change in wetland quality A Follow EPP Use designated roadways and access limit offroad activity Install trench plugs in open trench Maintain water flowdrainage across RoW Erosion control measures Avoid seeding in and within 30 m of wetland Implement Environmental Protection and Safety Management Program 1 1 11 R 2')\n"
          ],
          "name": "stdout"
        },
        {
          "output_type": "stream",
          "text": [
            "\r170it [04:23,  1.42s/it]"
          ],
          "name": "stderr"
        },
        {
          "output_type": "stream",
          "text": [
            "('TABLE 25 CONSTRUCTION ACTIVITIES FOR PERMANENT PIPELINE FACILITIES Permanent Facility Construction Phase Associated Activities Engineering The proposed scraper traps and block valves will be designed and constructed in accordance with all applicable CSA standards Site Preparation Since the sites will be located on the rightofway the sites will be prepared as part of the pipeline construction activities see Table 24 Facility Construction Once the facilities have been installed the area inside the new fence line will be gravelled', 'Table G26 Chronic Daily Intakes mgkgd and Hazard Quotients unitless for Residential Receptors Exposed to Intertidal Sediment Following a Hypothetical Spill of Crude Oil WCS near Saint John COPC Chronic Daily Intake from Intertidal Sediment Ingestion Chronic Daily Intake from Dermal Contact with Intertidal Sediment Chronic Total Daily Intake from Exposure to Intertidal Sediment Total Hazard Quotient from Exposure to Intertidal Sediment TEX Toluene Ethylbenzene Xylenes Total Petroleum Hydrocarbon Fractions Aliphatic C6C8 Aliphatic C8C16 125E12 132E11 145E11 14E10 Aliphatic C8C10 Aliphatic C10C12 Aliphatic C12C16 125E12 132E11 145E11 14E10 Aliphatic C16C34 791E03 837E02 916E02 46E02 Aliphatic C16C21 197E03 209E02 228E02 11E02 Aliphatic C21C34 594E03 628E02 687E02 34E02 Aliphatic C34C50 321E03 340E02 372E02 19E03 Aromatic C8C16 951E05 101E03 110E03 28E02 Aromatic C8C10 Aromatic C10C12 131E07 139E06 152E06 38E05 Aromatic C12C16', 'Table 910 Mitigation Measures for Wildlife No Focus Measure No Focus Measure 35 Birds Trumpeter Swan Implement setbacks for Trumpeter Swan lakes by avoiding longterm development roads pipelines infrastructure within 500 m of the highwater mark on identified lakes or water bodies ie those with Trumpeter Swan nests and young avoiding activity within 800 m of the highwater mark of identified lakes or water bodies as well as aerial reconnaissance between April 1 and September 30 Where disturbance is unavoidable Northern Gateway will consult with regulators and as appropriate interested and participating Aboriginal groups to identify possible options and management strategies to be implemented 36 Mammals fisher Avoid clearing areas with high potential for fisher natal denning during the natal denning period March through April Where this is', 'Table 456 Health Care Facilities in the Deh Cho Region 2004 Location Facility Name Description Fort Liard u0000Fort Liard Health and Social Services Centre u0000health centre and Social Services office Fort Providence u0000Fort Providence Health and Social Services Centre u0000health centre and Social Services office Fort Simpson u0000Fort Simpson Health and Social Services Centre u0000Stanley Isaiah Centre u0000health centre and social services office and longterm care facility u0000use not yet determined Hay River Reserve u0000Natsejee Keh Treatment Centre u0000Judith Fabian Elders Centre u0000alcohol and drug treatment centre u0000supported independent living Jean Marie River u0000Jean Marie River Health Station u0000Jean Marie River Social Services u0000health station u0000serviced by Fort Simpson Kakisa u0000none u0000serviced by Fort Providence Nahanni Butte u0000Nahanni Butte Health Station u0000Nahanni Butte Social Services u0000health station u0000serviced')\n"
          ],
          "name": "stdout"
        },
        {
          "output_type": "stream",
          "text": [
            "\r171it [04:25,  1.65s/it]"
          ],
          "name": "stderr"
        },
        {
          "output_type": "stream",
          "text": [
            "('Table 112 Climate Conditions and Change in the Inuvialuit Settlement Region Parameter Current1 Conditions Trend 1971 to 2000 Forecast Trend2 2010 to 2039 Parameter Current1 Conditions Trend 1971 to 2000 Low Medium High Average annual temperature C 103 15 13 16 25 Average winter temperature3 C 265 21 13 21 22 Total precipitation4 5 mm 1910 52 21 74 118 NOTES 1 Current conditions are based on 1996 to 2000 observations 2 Trend estimate ranges from Burn 2003 3 Winter temperatures are based on December January and February 4 Total precipitation is presented as millimetres of equivalent rainfall 5 Future trends are presented as percentage change from the 1961 to 1990 climate normals ', 'Table 86 Determination of Significance Significant Effect Definition Significant Effect Definition Not Significant No measurable effects Not Significant Short to Medium Term Duration AND Moderate to High Magnitude Not Significant Moderate Magnitude AND Long Term or Far Future Duration Significant High Magnitude AND Long Term or Far Future Duration', 'Table 5122 Disposition Holders and Surface Activity Codes in the Resource Use Local Study Area Disposition Holder Surface Activity Codes Disposition Holder Surface Activity Codes ATCO Electric Ltd Land and Properties EZE 2723 EZE 010150 EZE 750093 EZE 840203 EZE 860361 EZE 880087 EZE 880088 EZE 930095 ATCO Electric Ltd Vice President Energy Supply EZE 930326 Beatrice Mary Tourangeau TPA 467 Chester Eskagon MLP 020013 DaishowaMarubeni International Ltd Peace River Pulp Division FMA0900044 ISP080361 ISP970412 ISP970451 ISP970456 ISP970464 ISP970505 TFA 127199 Dollard Dallaire TPA 1573 Edward F Whitehead TPA 1441 Environment and Water Department of Water Management Operations PNT840213 Gordon Buchanan Enterprise Ltd CTLP030025 CTLP040019 DLO 770468 Gordon Buchanan Enterprise Ltd Buchanan Lumber Division DLO 971846 Husky Oil Operations Limited LOC 002041 LOC 052699 LOC 082013 LOC 112170', 'Table 94 Health Based Ambient Air Quality Objectives and Criteria for Air Substances of Interest Air Substance Averaging Period Selected Value gm3 Source Carbon Monoxide CO 1hour 15000 AESRD 2013a SKENV 1996d Carbon Monoxide CO 24hour NV Carbon Monoxide CO Annual NV NOTES a Alberta Environment and Sustainable Resource Development AESRD 2013 Alberta Ambient Air Quality Objectives AAAQO Available online Canadian Council of Ministers of the Environment CCME 1999 Canadian National Ambient Air Quality Objectives Process and Status Available online httpceqgrcqeccmeca c Canadian Council of Ministers of the Environment CCME 2012 Guidance Document on Achievement Determination Canadian Ambient Air Quality Standards for Fine Particulate Matter and Ozone Available online d Saskatchewan Ministry of the Environment 1996 Ambient Air Quality Standards Available online e Ontario Ministry of the Environment')\n"
          ],
          "name": "stdout"
        },
        {
          "output_type": "stream",
          "text": [
            "\r172it [04:27,  1.65s/it]"
          ],
          "name": "stderr"
        },
        {
          "output_type": "stream",
          "text": [
            "('TABLE 9 GENERAL AND SITESPECIFIC WILDLIFE MITIGATION MEASURES Concern Mitigation Measures Visual Screening LineofSight Implement measures to reduce lineofsight ie doglegs treeplanting at selected locations along the proposed pipeline route The locations of sitespecific measures will be determined based on input from the supplementary wildlife studies and will be implemented in the field by the Environmental Inspector Vegetation control will be limited along the rightofway during operation to the extent practical West Kotcho Core The proposed pipeline route has been aligned to minimize habitat disturbance within the West Kotcho Core Existing access will be used No new access will be constructed Multipassenger vehicles will be used to transport workers to the work site to the extent practical Speed limits will be posted along access to the work site', 'TABLE 7331 POTENTIAL EFFECTS MITIGATION MEASURES AND RESIDUAL EFFECTS OF CONSTRUCTION AND OPERATIONS OF TEMPORARY FACILITIES ON WATER QUALITY AND QUANTITY Potential Effect Temporary Facility Type Spatial Boundary1 Key Measures EPP Reference2 Potential Residual Effects 11 Possible contamination of surface water from access road runoff and grey water and sewage water discharge at temporary construction camps contd See above See above Process as required and dispose of sewage and grey water in accordance with provincial legislation and requirements Section 100 Refer to the Water Withdrawal and Discharge Procedures Management Plan Appendix C for additional measures Section 100Follow reclamation measures outlined in the Reclamation Management Plan Appendix C for reclamation of sewage lagoons Section 100 British Columbia Design and operate sewage facilities in accordance with the BC Sewage Disposal', 'Table 11 TLRU Information and Mitigation Wabun Tribal Council Traditional Land and Resource Use Information Location Relative to Project Development Area Relevant Consolidated ESA Documents Context from the Consolidated ESA Wabun Tribal Council Mitigation Recommendations2 Consolidated ESAEPP Mitigation Measures Temporary or Permanent Loss of Habitation Sites or their Use WTC reported camping through the proposed Project area and beyond with parents children friends and extended family WTC 2015b WTC identified sitespecific cultural continuity and ceremonial practice values within 250 m five km and 25 km of the proposed Project footprint including temporary and permanent habitation sites WTC reported habitation sites between the Eagle Head and Geraldton pump stations and between the Smooth Rock Falls and Marten River pump stations Specifically WTC reported habitation sites east of the Smooth', 'Table 421 Effects and Mitigation Measures Raised at the Round 1 NGO Workshop Issue Category Effects and Mitigation Measures The Broader Spectrum Effect Consider issues in the EIS that transcend the spatial and temporal boundaries of the project For example The Kyoto Protocol should be incorporated in the discussions Natural gas is considered to be a clean fuel from an energyuse perspective It offers some environmental benefits and its wider use in direct applications improves Canadas commitment to reducing greenhouse gas emissions Energy sector projects often result in environmental effects near the project location whereas most of the positive social and economic benefits accrue to usersand to geographic areas that are far removed from the project area The Broader Spectrum Mitigation Benefits to northern residents need to be')\n"
          ],
          "name": "stdout"
        },
        {
          "output_type": "stream",
          "text": [
            "\r173it [04:28,  1.54s/it]"
          ],
          "name": "stderr"
        },
        {
          "output_type": "stream",
          "text": [
            "('Table 812 Residual Effects on Vegetation and Wetlands Project Phase Mitigation Residual Effects Characteristics Significance Confidence Prediction Significant Effects1Likelihood of Monitoring and Followup Project Phase Mitigation Direction Magnitude Extent Geographic Duration Frequency Reversibility Context Socioeconomic Ecological and Significance Confidence Prediction Significant Effects1Likelihood of Monitoring and Followup Change in Ecological Communities of Management Concern Construction NA NA an interaction is not expected based on review of available field data NA Operation NA NA an interaction is not expected NA Decommissioning and abandonment2 Change in Plant Species of Management Concern including SAR Construction NA NA an interaction is not expected based on review of available field data NA Operation NA NA an interaction is not expected NA Decommissioning and abandonment2 Introduction or Spread of Invasive and Nonnative Plant Species Construction', 'Table 113 Measurable Parameters for the Acoustic Environment Environmental Effect Measurable ParametersandUnits of Measurement Notes or Rationale for Selectionof the Measureable Parameter Change in baseline sound level sound levels Required parameters to quantify theProject noise contribution and forcomparison to BC OGC noise limits', 'Table 66 Residual Effects Characterization Greenhouse Gases Criteria Criteria Definitions Geographic Extent The geographic area within which an effect of a defined magnitude is expected to occur PDA Effect is limited to the PDA ie construction RoW and footprints associated with constructing the Project Geographic Extent The geographic area within which an effect of a defined magnitude is expected to occur LAA Effect extends to the LAA Geographic Extent The geographic area within which an effect of a defined magnitude is expected to occur RAA Effect extends to the RAA Duration The period of time that is required until concentrations of measureable parameters return to baseline conditions or the effect can no longer be measured or otherwise perceived Shortterm Effect is measurable for less than 1 month Duration', 'TABLE 64 SUMMARY OF WATERCOURSE CROSSINGS ENCOUNTERED ALONG THE SEMCAMS REDWILLOW PIPELINE ROUTE Watercourse Location and KP1 Stream Class2 and Instream Work Window RAP3 Known Fish Presence4 Mean Channel Morphology m Proposed Construction Date Proposed Pipeline Crossing Method Proposed Vehicle Crossing Method Wetland Unnamed Tributary to Calamagrostis Creek KP 284 Nonclassified Wetland Open None Channel pond Wetted pond Depth Winter 20082009 Isolation with fish salvage if flowing or Open cut if dry or frozen to bottom Use existing culvert or ice bridge if ice sufficiently thick Calamagrostis Creek KP 294 S3 June 15 Aug 15 BT Channel 42 Wetted 36 Depth 059 Summer 2009 Isolation with fish salvage and water quality monitoring during the open window Singlespan bridge or use existing bridge Unnamed Tributary to Calamagrostis Creek KP')\n"
          ],
          "name": "stdout"
        },
        {
          "output_type": "stream",
          "text": [
            "\r174it [04:29,  1.49s/it]"
          ],
          "name": "stderr"
        },
        {
          "output_type": "stream",
          "text": [
            "('Table E3b Historical Field Water Quality Water Temperature SAMPLE POINT DESCRIPTION SAMPLE DATE FIELD TEMP 0C SK05JA0035 Wood River east of Gravelbourg from upstream side of bridge at Highway 43 NE 31104 W3M 13Jun1977 150 SK05JA0035 Wood River east of Gravelbourg from upstream side of bridge at Highway 43 NE 31104 W3M 19Aug1975 150 SK05JA0035 Wood River east of Gravelbourg from upstream side of bridge at Highway 43 NE 31104 W3M 14Dec1976 05 SK05JA0035 Wood River east of Gravelbourg from upstream side of bridge at Highway 43 NE 31104 W3M 19Jan1976 25 SK05JA0035 Wood River east of Gravelbourg from upstream side of bridge at Highway 43 NE 31104 W3M 17Oct1977 65 SK05JA0035 Wood River east of Gravelbourg from upstream side of bridge at Highway 43 NE 31104 W3M', 'Table 651 Predicted Cumulative Effects on Water Quality and Quantity Predicted Residual Effects Developments and Activities with Spatial or Temporal Interaction Predicted Cumulative Effects Cumulative Effects Mitigation Predicted Residual Effects Existing Project Reasonably Foreseeable Predicted Cumulative Effects Cumulative Effects Mitigation North Star Section 2 1 Limited localized alteration of natural drainage patterns 2 Temporary reduction in surface water quality from instream activities or erosion Existing activities within the Aquatics RSA are shown on Attachment 621 and described in Section 621 Existing activities are predominantly agriculture ie cropcultivation and pasture Other activities include transportation ie roads railways and trails aggregate extraction ie gravel pits and borrow pits energy transmission forestry oil and gas exploration and development ie seismic lines pipelines facilities and well sites recreational sites and trails a', 'Table 82 Summary of Recommended Pipeline and VehicleEquipment Crossing Methods for Watercourses and Drainages Crossed by the Chinchaga Section Site Name UTM Coordinates Zone 11 Stream Class1 Restricted Activity Periodk2 Riparian Management Area Functional Riparian Area Width Channel Width3m Fish Species Captured or Observed During Open Water Assessment Previously Documented4 Location of Nearest Known Fish Habitat Beaver Activity Present Winter Habitat Survey Results Recommended Pipeline Crossing Method Contingency Pipeline Crossing Method Recommended VehicleEquipment Crossing Method Frozen Recommended VehicleEquipment Crossing Method Open Water Riparian and Bank Restoration Mitigation CH1 Unnamed tributary to Hotchkiss River E 425391 N 6341577 Class C NA NA NA Not fished none Within the crossing rightofway andor ZOI Yes Ice 036 m Water 048 m DO saturated Isolated if water present open cut if dry', 'Table 22 Annual Incident Frequency for Outbound CANMT Tankers per Year Segment 1 2 3 Total Aframax Collision 962X 105 103X 107 135X 106 976X 105 Powered Grounding 681X 104 000 209X 108 681X 104 Drift Grounding 826X 104 154X 106 203X 105 847X 104 Total 160X 103 165X 106 217X 105 163X 103 Suezmax Collision 243X 104 174X 106 587X 106 251X 104 Powered Grounding 170X 103 000 532X 108 170X 103 Drift Grounding 206X 103 386X 106 507X 105 212X 103 Total 401X 103 560X 106 567X 105 407X 103 VLCC Collision 485X 105 000 974X 108 486X 105 Powered Grounding 350X 104 000 104X 108 350X 104 Drift Grounding 425X 104 793X 107 104X 105 435X 104 Total 823X 104 793X 107 105X 105 834X')\n"
          ],
          "name": "stdout"
        },
        {
          "output_type": "stream",
          "text": [
            "\r175it [04:31,  1.49s/it]"
          ],
          "name": "stderr"
        },
        {
          "output_type": "stream",
          "text": [
            "('Table 7115 Rare Vegetation Occurrence Project Section Type Common Name Scientific Name ACIMS Rank Date Last Observed Distance to Footprint m Natural Subregion LSA RSA Grande Prairie Mainline Loop No 4 Valhalla Section Vascular Purple sedge Carex mertensii S2 1982XXXX 5703 Dry Mixedwood X Grande Prairie Mainline Loop No 3 Elmworth Section Lichen Clam lichen Hypocenomyce friesii S3 19790706 6696 Central Mixedwood X Grande Prairie Mainline Loop No 3 Elmworth Section Vascular Turned sedge marsh Carex retrorsa marsh S1S2 20080722 8903 Central Mixedwood X Grande Prairie Mainline Loop No 2 Karr Section Vascular Broom sedge Carex scoparia var scoparia S2 20060706 4493 Central Mixedwood X Grande Prairie Mainline Loop No 2 Karr Section Lichen Fringed rosette lichen Physcia tenella S3 19790709 9295 Central Mixedwood X Grande Prairie Mainline', 'Table 731 Summary of Assessed Cumulative Effects and Predicted Significance ', 'Table 24 Local Service Districts within the PDA Regional Service Commission Local Service District Rural Plan Length of Intersect m Area within PDA ha Total District Area ha of Total District Area Crossed by Pipeline PDA 12 Aberdeen No 173440 1041 446422 02 11 Chipman No 145178 963 494625 02 1 Denmark No 106611 640 779807 01 11 Douglas Yes 209732 1511 1306425 01 1 Drummond No 118896 713 1028984 01 12 Gordon No 337881 2103 1447890 01 8 Hampton No 40814 228 127200 02 8 Johnston No 246920 1481 364283 04 12 Kent No 134267 805 835654 01 12 Lorne No 47245 283 1640962 00 11 Maugerville No 168810 1013 852460 01 11 Northfield No 110979 666 306421 02 8 Norton No 132621 878 144189 06 1', 'Table 39 Residual Effects on Acoustic Environment Project Phase Mitigation Residual Effects Characteristics Significance Confidence Prediction Significant Effects1Likelihood of Project Phase Mitigation Direction Magnitude Extent Geographic Duration Frequency Reversibility Context Socioeconomic Ecological and Significance Confidence Prediction Significant Effects1Likelihood of Monitoring and Followup PRESSURE CONTROL STATION Change in Existing Acoustic Environment Construction NA Not applicable an interaction is not expected NA Operation NA Not applicable an interaction is not expected NA Decommissioning and abandonment2 NOTES 1 Likelihood is characterized only if there is a significant adverse effect 2 Decommissioning and abandonment see Volume 14 Section 8 for assessment of residual effects ')\n"
          ],
          "name": "stdout"
        },
        {
          "output_type": "stream",
          "text": [
            "\r176it [04:32,  1.49s/it]"
          ],
          "name": "stderr"
        },
        {
          "output_type": "stream",
          "text": [
            "('Table 2 Adjacent Facilities Considered for the Assessment Facility Name1 Site Description Operator Distance from Hidden Lake North Unit Addition m Direction from Hidden Lake North Unit Addition Surface LSD W6M Hidden Lake North Compressor Station2 Compressor Station TransCanada Pipelines 03329611 Hidden Lake Compressor Station Compressor Station TransCanada Pipelines 580 S 11299611 Hamburg 855S Substation ATCO Electric 160 SW 132909611 0206 Compressor Station Compressor Station Canadian Natural Resources Ltd 2060 NW 020609711 1029 Compressor Station Compressor Station Canadian Natural Resources Ltd 610 SE 102909611 Hamburg 1229 Gas Plant Gas Plant Canadian Natural Resources Ltd 400 S 12299611', 'TABLE 5B3 WATER WELLS IN THE VICINITY OF THE PROPOSED PIPELINE IN MANITOBA KP Legal Location WPM Type of Use 11785 NW 2837 Domestic 1179 SE 2837 Livestock 1181 NE 2737 Domestic Livestock 1180 NW 2737 Domestic 1183 SE 2337 Domestic 11865 SE 1836 Domestic 11865 SE 1836 Domestic Livestock 1186 SW 1836 Domestic 1190 NE 1636 Livestock 1190 NE 1636 1190 NE 1636 Domestic 1190 SE 1636 1190 NE 936 Livestock 1190 NE 936 1189 NW 936 Livestock 1189 NW 936 Domestic Livestock 1189 NW 936 1192 NE 1036 Domestic 1192 SE 1036 Domestic Livestock 1192 SE 1036 Domestic 1192 SE 1036 1192 SE 1036 1192 SE 1036 1192 SE 1036 1192 SE 1036 1192 SE 1036 1194 SE 1136 Domestic 1193 NW 236 Domestic Livestock 11935', 'Table 76 Recommended Mitigation and Other Measures for Infrastructure and Services Potential Effect Project Mitigation and Other Management Measure Intended Results Increased Demand on Community Services contd Establish a construction safety program for the Project All activities for the Project including health safety and environmental HSE performance will meet applicable laws and regulations Deliver TransCanadas health and safety orientation and training to all workers before and during construction to help prevent and control incidents leading to primary and acutecare needs Enforce a zerotolerance policy for drug use and alcohol abuse that integrates TransCanadas Contractor Alcohol and Drug Policy Develop and implement management plans for construction camps as required to address company policies the health and safety of personnel and the security of equipment and material Strengthen these plans', 'TABLE B1 COMMUNITYSPECIFIC SOCIOECONOMIC ISSUES WITHIN THE STUDY AREA BOUNDARIES ALBERTA Community Specific Issues Town of Sedgewick Concern was expressed about an increase in temporary employment opportunities in the region There is a labour shortage for minimum wage jobs in the Town of Sedgewick due to the lack of personnel and increased competition from other industries Davis pers comm Town of Hardisty No issues or concerns have been expressed at this time MD of Provost No 52 Municipal representatives have expressed concern regarding the integrity of roads at the locations crossed by the replacement pipeline Past methods of boring have previously caused problems which have been fixed now Lawrason pers comm Municipal representatives have indicated that there are periodic staff shortages at the hospital resulting in occasional closure')\n"
          ],
          "name": "stdout"
        },
        {
          "output_type": "stream",
          "text": [
            "\r177it [04:34,  1.50s/it]"
          ],
          "name": "stderr"
        },
        {
          "output_type": "stream",
          "text": [
            "('TABLE C1001 MUNICIPALITYREGIONAL DISTRICT INVASIVE PLANT COUNCILS Area MunicipalityRegional District Invasive Plant Council Approximate Reference KP Alberta Parkland County NA 45 to 135 Alberta Yellowhead County NA 135 to 339 BC Fraser Fort George Northwest Invasive Plant Council 490 to 549 BC ThompsonNicola Southern Interior Weed Management Committee 549 to 992 BC Fraser Valley Fraser Valley Invasive Plant Council 992 to 1138 BC Greater Vancouver Invasive Plant Council of Metro Vancouver 1138 to 1180', 'Table 610 Exposure Point Concentrations for the Bay of Fundy following a Hypothetical Spill of Crude Oil WCS near Saint John at an Elapsed Time of 4 Weeks Parameter Intertidal Subtidal Water Parameter Intertidal Sediment Clam Snail Lobster Crab Forage Fish Subtidal Sediment Clam Scallop Lobster Crab Groundfish Water Marine Plant Mussel Krill Herring Squid Units mgkg dw mgkg ww mgkg ww mgkg ww mgkg dw mgkg ww mgkg ww mgkg ww mgL mgkg ww mgkg ww mgkg ww mgkg ww mgkg ww Pyrene 810E02 193E02 978E03 644E02 668E04 459E05 807E05 928E05 111E06 183E06 361E03 682E05 761E03 676E04 Biphenyl 299E04 172E05 101E05 465E06 242E07 417E05 C1biphenyl 584E04 111E04 188E05 494E05 473E03 260E04 152E04 699E05 362E06 918E07 228E03 245E07 C2biphenyl 121E01 220E02 373E03 982E03 668E03 352E04 206E04 948E05 511E06', 'TABLE 7252 POTENTIAL EFFECTS MITIGATION MEASURES AND RESIDUAL EFFECTS OF PROJECT CONSTRUCTION AND OPERATIONS ON INFRASTRUCTURE AND SERVICES Potential Effect Socioeconomic RegionProject Component Spatial Boundary1 Key Measures SEMP or EPP Reference2 Potential Residual Effects 1 Infrastructure and Services Indicator Transportation Infrastructure 11 Increased traffic due to transportation of workers and supplies All regions New pipeline segments Temporary facilities Pump stations Terminal activities Reactivated pipeline segments Westridge Marine Terminal Footprint to RSA Use of rail for major equipment deliveries to regional centres will reduce the Projectrelated traffic Develop estimates of Projectrelated traffic volumes associated with all Project components related to both the movement of workers and the movement of equipment and materials SEMP Section 843 Continue to consult with the BC Ministry of Transportation the Alberta Ministry of Transportation', 'Table 554 Derived Flood Discharges for Large Watercourses Crossed by the Project Crossing ID Watercourse Name Drainage Area km2 Crossing ID Watercourse Name Drainage Area km2 2Year Discharge m3s 100Year Discharge m3s 12WCGB01 Unnamed 224 213 239 13WCGB04 Sergeant Creek 414 366 373 14WCGB01 Pouce Coup Rivera 2360 962 937 15WCGB04 Unnamed 247 232 256 79WCTL08A1 Coal Creek 412 365 372 80WCTL05 Kiskatinaw Rivera 3515 116 928 80WCTL09 Unnamed 442 387 391')\n"
          ],
          "name": "stdout"
        },
        {
          "output_type": "stream",
          "text": [
            "\r178it [04:36,  1.67s/it]"
          ],
          "name": "stderr"
        },
        {
          "output_type": "stream",
          "text": [
            "('TABLE 62 POTENTIAL BIOPHYSICAL AND SOCIOECONOMIC EFFECTS MITIGATIVE MEASURES AND RESIDUAL EFFECTS OF LINE 4 EXTENSION CONSTRUCTION AND OPERATION Biophysical or Socio Economic Element Potential Effect LoopLocation Project Boundary Measures EGC Reference1 Residual Effects 93 Direct and indirect mortality Edmonton Loop Kingman Loop Strome Loop Footprint to Region Conduct wildlife studies in springearly summer 2007 on segments of the route supporting native vegetation or pasture lands greater than 500 m in length to identify sitespecific features associated with sensitive wildlife species in the vicinity of the pipeline see Section 90 of this ESA Establish construction traffic speed limits and post speed limits on access roads to reduce the risk of collisions with wildlife see Traffic Control Plan Appendix 6C Minimize construction vehicles traveling to and from worksite eg', 'Table D1 Agricultural Soil Polygon Attributes New Pipeline Row Soil Unit Soil Unit Abbreviation Soil Code Variant1 Slope Class Subgroup Surface Parent Material Subsurface Parent Material Drainage Class Topsoil Thickness cm Stripping Depth cm Capability Agricultural Topsoil n Risk Compactio Subsoil n Risk Compactio Topsoil Risk Rutting Subsoil Risk Rutting Topsoil Risk Erosion Water Subsoil Risk Erosion Water Topsoil Risk Erosion Wind Subsoil Risk Erosion Wind Length m Total RoW Extent of RoW Agricultural Extent of Gravelly Jacquet River JQVgr JQV gr 6 OHFP Medium textured till Medium textured till Well 13 28 7TPVD L L H H S S L L 469 001 001 Gravelly Jacquet River JQVgr JQV gr 3 OHFP Medium textured till Medium textured till Well 15 30 4PVTD L L M M S', 'TABLE 62 POTENTIAL BIOPHYSICAL AND SOCIOECONOMIC EFFECTS MITIGATIVE MEASURES AND RESIDUAL EFFECTS OF PIPELINE CONSTRUCTION AND OPERATION Biophysical or SocioEconomic ElementPotential Effect Location Project Boundary Measures EPP Reference1 Potential Residual Effects 111b Alteration of recreational experience Entire route Footprint to Local Recreational use eg hunting quadding trail rides has been identified on lands traversed by and surrounding the Alberta portion of the pipeline Crosscountry ski trails and general recreational use have been identified within NE 357816 W6M Provide ASRD BC MOE BC MOFR and landowners with proposed construction schedule and proposed pipeline route maps and if required install signs at recreational access points notifying users of construction activities in the vicinity Section 50 Place notices to hunters in local newspapers indicating the route and proposed construction schedule along', 'Table 38 Residual Effects of Facility Operation Facility Receptor ID Noise Contribution from Facility Operation dBA1 PSL Criteria dBA2 Compliance with SLL Criteria YesNo Magnitude Classification Facility Receptor ID Noise Contribution from Facility Operation dBA1 Daytime Leq1HR Evening and Nighttime Leq1HR Compliance with SLL Criteria YesNo Magnitude Classification Donnacona Pump Station contd DO5 394 45 40 Yes Low Donnacona Pump Station contd DO6 400 45 40 Yes Low Donnacona Pump Station contd DO7 378 45 40 Yes Low Donnacona Pump Station contd DO8 277 45 40 Yes Low Donnacona Pump Station contd DO9 350 70 70 Yes Low Donnacona Pump Station contd DO10 377 45 40 Yes Low Lvis Pump Station LE1 331 45 40 Yes Low Lvis Pump Station LE2 348 45 40 Yes Low Lvis Pump')\n"
          ],
          "name": "stdout"
        },
        {
          "output_type": "stream",
          "text": [
            "\r179it [04:38,  1.61s/it]"
          ],
          "name": "stderr"
        },
        {
          "output_type": "stream",
          "text": [
            "('Table 61 Local Assessment Area Population Geography 2001 2011 Average Annual Growth Rate 2001 to 2011 Town of Wainwright 5115 5925 15 Town of Killam 1005 980 03 Town of Hardisty 740 640 14 Town of Provost 1980 2040 03 Town of Coronation 900 945 05 Town of Oyen 1020 975 05 Sub Total LAA Service Centres 10760 11505 07 Sub Total Other Communities and Rural Areas 18490 17445 06 LAA Total 29250 28950 01 Alberta Total 2974805 3645260 21 SOURCE Statistics Canada 2001 2011 Federal Census Environics 2014 ', 'Table A10 Confinement Code Type Description Code Type Description EN entrenched Entrenched channels are confined by fluvial eroded gullies or valleys or bedrock walls CO confined Confined channels are prevented or restricted from lateral migration by the valley walls FC frequently confined Frequently confined channels are restricted from lateral migration by the valley walls but are able to store sediments on a valley flat typically channel width OC occasionally confined Occasionally confined channels are able to store sediments on a valley flat typically 110 channel widths UN unconfined Unconfined channels are not restricted from lateral migration by the valley walls NA not applicable Confinement is not always applicable to every stream reach such as a channel flowing across a fan or cone onto a valley flat', 'Table E12 Toxicological Reference Value for PAHs Ingestion chronic Compound Value Critical Effect Description of Study Source Benzoapyrene 23 mgkgd1 carcinogenic gastric tumours 110 day exposure of mice to various doses of BaP in food Neal and Rigdon 1967 Health Canada 2010a', 'TABLE 8C4 CUMULATIVE EFFECTS CHARACTERIZATION AND SIGNIFICANCE EVALUATION FOR THE ACOUSTIC ENVIRONMENT BY PROJECT COMPONENT Component Criteria Rating1 Component Impact Balance Spatial Boundary2 Duration Frequency Reversibility Magnitude Probability Confidence Significance a Projects contribution to cumulative effects on increased sound levels will include noise from heavy equipment and machinery as well as vehicles and land clearing equipment used during construction of the Project Boundary Lake Section Negative LSA Shortterm Isolated Reversible Low High High Not significant Bear Canyon Section Negative LSA Shortterm Isolated Reversible Low High High Not significant McLeod River Section Negative LSA Shortterm Isolated Reversible Low High High Not significant Pelican Lake Section Negative LSA Shortterm Isolated Reversible Low High High Not significant Christina River Section Negative LSA Shortterm Isolated Reversible Low High High Not significant Alces')\n"
          ],
          "name": "stdout"
        },
        {
          "output_type": "stream",
          "text": [
            "\r180it [04:39,  1.54s/it]"
          ],
          "name": "stderr"
        },
        {
          "output_type": "stream",
          "text": [
            "('TABLE 638 SIGNIFICANCE EVALUATION OF POTENTIAL RESIDUAL EFFECTS OF CONSTRUCTION AND OPERATION OF THE PROPOSED PROJECT ON TRADITIONAL LAND AND RESOURCE USE Potential Residual Effects Impact Balance Spatial Boundary Temporal Context Magnitude Probability Confidence Significance 1 Potential Residual Effects Impact Balance Spatial Boundary Duration Frequency Reversibility Magnitude Probability Confidence Significance 1 a Sitespecific TLU identified during ongoing consultation may be affected during construction Negative RSA Shortterm Isolated Shortterm Low Low Moderate Not significant b Sitespecific TLU identified during ongoing consultation may be affected during operation Negative RSA Shortterm Periodic Shortterm Low Low Moderate Not significant c Disruption of subsistence hunting trapping fishing and harvesting may occur during construction Negative RSA Shortterm Isolated Shortterm Low High Moderate Not significant', 'TABLE 650 SIGNIFICANCE EVALUATION OF POTENTIAL RESIDUAL EFFECTS OF THE ENVIRONMENT ON THE CONSTRUCTION AND OPERATION OF THE PROJECT Potential Residual Effects Impact Balance Spatial Boundary Temporal Context Magnitude Probability Confidence Significance 1 Potential Residual Effects Impact Balance Spatial Boundary Duration Frequency Reversibility Magnitude Probability Confidence Significance 1 a Loss of cover over the pipelines may occur at localized areas as a result of an extreme flood event Negative LSA Shortterm Accidental Shortterm Medium Low High Not significant b Depending on the severity a wildfire could affect the construction schedule Negative LSA Immediate to shortterm Accidental Shortterm High Low High Not significant c Depending on the type and severity of the change in weather trends the scheduling of maintenance activities may be affected Negative LSA Immediate to shortterm', 'Table 562 Fish Species Documented in Watercourses Crossed by the Project Watercourse ldentificationa Watercourse Nameb Thermal Regimeb Typical Fish Species Present in the Local Study Areab ', 'Table A7 Summary of Tank Contents and Emission Rates Applied in Dispersion Modelling for the 10minute Onehour and 24hour Averaging Periods Status Operator Tank ID Tank Type Tank Content Emission Rate ags Status Operator Tank ID Tank Type Tank Content H2S Mercaptans Benzene Existing and Approved Gibson Energy Ltd 3 Internal Floating Heavy Crude 9376E09 9167E07 9770E06 Existing and Approved Gibson Energy Ltd 4 External Floating Heavy Crude 1812E08 2472E06 1510E05 Existing and Approved Gibson Energy Ltd 5 External Floating Condensate 1786E05 3240E02 b 4407E04 Existing and Approved Gibson Energy Ltd 6 External Floating Condensate 1666E05 1853E04 4113E04 Existing and Approved Gibson Energy Ltd 7 External Floating Condensate 1786E05 1985E04 0256 b Existing and Approved Gibson Energy Ltd 8 External Floating Condensate 1720E05 1912E04 4245E04 Existing and Approved')\n"
          ],
          "name": "stdout"
        },
        {
          "output_type": "stream",
          "text": [
            "\r181it [04:40,  1.54s/it]"
          ],
          "name": "stderr"
        },
        {
          "output_type": "stream",
          "text": [
            "('TABLE 721 POTENTIAL EFFECTS MITIGATION MEASURES AND RESIDUAL EFFECTS OF CONSTRUCTION AND OPERATIONS OF THE PROJECT ON SOIL AND SOIL PRODUCTIVITY Potential Effect Project Component Spatial Boundary1 Key Mitigation Measures EPP Reference2 Potential Residual Effects 1 Decreased soil productivity through excess mixing of topsoil strippings with subsoil during Project activities contd See above See above Depending on sitespecific conditions topsoil salvage techniques may include full width blade width ditch and spoil side or ditch and work side The topsoil salvage technique to be used will be determined by the Environmental Inspectors Construction Manager and the appropriate resource specialists where required Section 83 of Appendices 1B and 1CWhere full width stripping was not conducted salvage a greater width of topsoil at sharp sidebends and at crossings of watercourses roads', 'Table 414 Fish Species Documented in the Lower Athabasca River Basin Family Speciesa Scientific Name Codeb Catostomidae White sucker Catostomus commersonii WHSC Catostomidae Longnose sucker Catostomus catostomus LNSC Cyprinidae Brassy minnow Hybognathus hankinsoni BRMN Cyprinidae Longnose dace Rhinichthys cataractae LNDC Cyprinidae Lake chub Couesius plumbeus LKCH Cyprinidae Spottail shiner Notropis hudsonius SPSH Cyprinidae Northern redbelly dace Phoxinus eos NRDC Cyprinidae Fathead minnow Pimephales promelas FTMN Cyprinidae Finescale dace Phoxinus neogaeus FNDC Cyprinidae Flathead chub Platygobio gracilis FLCH Cyprinidae Pearl dace Margariscus margarita PRDC Gasterosteidae Brook stickleback Culaea inconstans BRST Gasterosteidae Ninespine stickleback Pungitius pungitius NNST Percopsidae Troutperch Percopsis omiscomaycus TRPR Cottidae Spoonhead sculpin Cottus ricei SPSC Cottidae Slimy sculpin Cottus cognatus SLSC Percidae Iowa darter Etheostoma exile IWDR', 'Table 914 Project Contribution to Linear features in the RAA in Mountain Caribou Range AssessmentArea AssessmentArea Baseline Case Application Case Project Contribution AssessmentArea Lengthkm Densitykmkm2 Lengthkm Densitykmkm2 Lengthkm Densitykmkm2 Pink MountainCaribou HerdRange 422417 306 423777 307 136 001 Graham CaribouHerd Range 89493 174 89638 174 15 0003', 'TABLE 7105 ESTIMATED AREA OF ECOSYSTEM UNITS AND DISTURBANCE TYPES IN THE PROJECT FOOTPRINT FOR EACH PROJECT COMPONENT Habitat Type Area ha within the Project Footprint1 Habitat Type Boundary Lake Section Bear Canyon Section McLeod River Section Pelican Lake Section Christina River Section Alces River Unit Addition Otter Lake Unit Addition Otter Lake Construction Camp Total Combined Project Footprint Shallowopen water 06 03 0 01 02 0 0 0 12 Artificial pond 0 01 0 0 0 0 0 0 01 River 0 0 0 06 02 0 0 0 08 Flood active channel 0 0 0 01 0 0 0 0 01 Exposed soil 0 0 0 06 0 0 0 0 06 Industrialcommercial communities 54 18 37 37 02 0 05 0 152 Road 23 04')\n"
          ],
          "name": "stdout"
        },
        {
          "output_type": "stream",
          "text": [
            "\r182it [04:43,  1.74s/it]"
          ],
          "name": "stderr"
        },
        {
          "output_type": "stream",
          "text": [
            "('TABLE 5B2 VASCULAR PLANT SPECIES OF CONCERN IN THE DRY MIXEDWOOD NATURAL SUBREGION Scientific Name Common Name Habitat RightofWay within Species Range Preferred Habitat in Vicinity of RightofWay Provincial Rank1 Additional Designations Hedyotis longifolia longleaved bluets Open sandy woods and montane slopes yes yes S2 Hypericum majus large Canada St Johnswort Moist depressions in sand dunes sandy shores yes yes S2 Juncus brevicaudatus shorttail rush Shores and marshes pioneer on wet ground yes yes S2 Juncus stygius var americanus marsh rush Fens mossy areas around springs and seepages yes S2 Lactuca biennis tall blue lettuce Moist open woods yes yes S2 Lomatogonium rotatum marsh felwort Wet meadows and saline flats yes yes S2S3 Luzula acuminata sharppointed woodrush Moist woodland clearings yes S1 Luzula rufescens reddish woodrush Mixedwood forest', 'TABLE 59 SURFICIAL GEOLOGY TRAVERSED BY THE PROPOSED PIPELINE ROUTE IN MANITOBA Location Landform Surficial Materials KP 119955 to KP 120005 glaciofluvial distal gently undulating water sorted gravel sand silt and till accumulations KP 120005 to KP 120050 morainal plain flat to gently undulating till consisting of unsorted mixtures of boulders gravel sand silt and clay KP 120050 to KP 12032 glaciofluvial distal gently undulating water sorted gravel sand silt and till accumulations KP 12032 to KP 12070 alluvial plainflat to gently undulating water sorted gravel sand silt and clay and slump material KP 12070 to KP 12109 glaciolacustrine proximal undulating to hummocky water sorted gravel sand silt clay and till accumulations KP 12109 to KP 12112 alluvial plainflat to gently undulating water sorted gravel sand silt and', 'Table D157 Birsay BYA BYAca BYAcagl BYAcasagl BYAcaxt BYAcazr BYAcb BYAfi BYAstxt BYAstxtze BYAxg BYAxt BYAyt BYAze Soil Units EXTENT METRESPERCENTAGE BYA 861950 185 BYAca 173967 037 BYAcagl 27791 006 BYAcasagl 15510 003 BYAcaxt 133753 029 BYAcazr 27832 006 BYAcb 40679 009 BYAfi 139555 030 BYAstxt 20465 004 BYAstxtze 21502 005 BYAxg 83261 018 BYAxt 154878 033 BYAyt 30054 006 BYAze 117086 025 SOIL CLASSIFICATION Orthic Brown Chernozem Calcareous Dark Brown Chernozem PARENT MATERIAL Glaciolacustrine Glaciofluvial Till TEXTURE TOPSOILSUBSOIL Fine Sandy Loam to LoamSandy Loam to Clay Loam underlain by Fine Sandy Clay Loam to Clay Loam TOPOGRAPHYPERCENT SLOPE Level to Very Gently Rolling and Undulating 052 to59 SURFACE STONINESS 04 DRAINAGE CLASS Imperfectly to Well Drained TOPSOIL DEPTHRELATIONSHIP TO TOPOGRAPHY 1015 cmUpper 1530 cmLower SOD QUALITY GOODPOOR', 'TABLE 517 MERCHANTABLE TIMBER ESTIMATES FOR THE FOOTPRINT IN ALBERTA Species Estimated Merchantable Volume m3 Pine 260 Spruce 1000 Aspen 1400')\n"
          ],
          "name": "stdout"
        },
        {
          "output_type": "stream",
          "text": [
            "\r183it [04:45,  1.86s/it]"
          ],
          "name": "stderr"
        },
        {
          "output_type": "stream",
          "text": [
            "('TABLE 5258 SACRED SITES IDENTIFIED BY WHISPERING PINES FIRST NATION Approximate Distance and Approximate Distance and Direction from Project Site Description CurrentPast Use Requested Mitigation Project Footprint Concerns about regions of historical importance and believe that development is encroaching on sacred areas None Unknown location Natural springs Current None Unknown location Natural springs Current None', 'Table 571 Project Activity Environmental Effects Interaction Matrix for Health and Safety Potential Interactions Between Project Activities and Environmental Effects Valued Environmental Component HEALTH AND SAFETY Project Activities and Physical Works See Table 311 for list of specific activities and works Potential Environmental Effect Project Activities and Physical Works See Table 311 for list of specific activities and works Change in Public Health and Safety Change in Worker Health and Safety Fire Occupational Injury Wildlife Encounter Temporary Watercourse Crossing Washout Disturbance of Unidentified Archaeological or Heritage Resource Unauthorized Access to RoW Pipeline Rupture or Leak ', 'Table E1 Soil Inspection Sites New Pipeline RoW Site Site Type1 Subgroup2 Soil Unit Variant3 Parent Material3 UTM Zone Easting Northing Surface Expression Surface Stoniness Class Slope Slope Position Slope Class Topsoil Depth cm Drainage EEPALC13007 TS 12 484539 5833612 0 0 EEPALC13008 TS Moderately fine glacial till 12 484666 5833572 Undulating Slightly stony 00101 1 Upper 2 5 16 EEPALC13009 TS Moderately fine glacial till 12 484907 5833459 Undulating Slightly stony 00101 5 Mid 5 9 15 EEPALC13010 TS Medium lacustrine 12 485023 5833392 Undulating Non stony 001 0 Level 5 9 30 EEPALC13011 TS 12 485125 5833308 Undulating Moderately stony 013 2 Upper 2 5 15 EEPALC13012 TS Moderately fine glacial till 12 485441 5833054 Undulating Non stony 001 0 Mid 2 5 30 EEPALC13013 TS', 'TABLE 7101 ECOLOGICAL CONTEXT SUMMARY FOR THE WILDLIFE AND WILDLIFE HABITAT INDICATORS Indicator Ecological Context Oldforest Bird Community contd There is a provincial management plan for baybreasted warbler blackthroated green warbler and Cape May warbler AESRD 2014i The management plan specifically outlines pesticide use invasive species climate change and decreasing spruce budworm populations among the potential causes for the declines of all three species populations AESRD 2014i The management plan also points to increased urbanization forestry and agriculture practices which remove suitable habitat as threats to the three species of warblers in addition to an increased energy sector presence AESRD 2014i The stated management plan goal is to maintain breeding populations of all three species of warblers throughout their historical range in Alberta AESRD 2014i The management objectives')\n"
          ],
          "name": "stdout"
        },
        {
          "output_type": "stream",
          "text": [
            "\r184it [04:46,  1.80s/it]"
          ],
          "name": "stderr"
        },
        {
          "output_type": "stream",
          "text": [
            "('Table 1232 Western Toad Habitats Affected in the Local Study Area Section Habitat Suitability Baseline Baseline Plus Project Change from Baseline Section Habitat Suitability Area ha of Section LSA Area ha of Section LSA Area ha of Section LSA Edson South Area Edson Mainline Loop No 4 Robb Section High 0 0 0 0 0 0 Edson Mainline Loop No 4 Robb Section Good 323 7 299 6 24 7 Edson Mainline Loop No 4 Robb Section Moderate 2054 43 1951 41 103 5 Edson Mainline Loop No 4 Robb Section Marginal 1239 26 1193 25 46 4 Edson Mainline Loop No 4 Robb Section Poor 1148 24 1320 28 172 15 Edson Mainline Loop No 4 Robb Section Section Total 4763 100 4763 100 345 8 Edson', 'Table 2118 Cumulative Effects Initial Screening Human Occupancy and Resource Use Environmental Effect Initial Screening Results1 Comments Environmental Effect 1 2 3 Comments Change in designated areas Yes Yes No See Section 2192 for further discussion Change in access to private property Yes No NA Effects were screened out from further assessment in Table 122 Project effects on private property will be mitigated through standard procedures including consultation with landowners negotiation of land agreements and compensation for land use Residual effects would be negligible and unlikely to overlap with other projects and activities Change in access to agricultural lands Yes No NA Effects were screened out from further assessment in Table 122 Effects are primarily mitigated through consultation with landowners negotiation of land agreements and compensation for land', 'Table 1 TLRU Information and Mitigation Birdtail Sioux First Nation Traditional Land and Resource Use Information Location Relative to Project Development Area Relevant Consolidated ESA Documents Context from the Consolidated ESA Birdtail Sioux First Nation Mitigation Recommendations2 Consolidated ESAEPP Mitigation Measures Based on the analysis presented in the accidents and malfunctions assessment the predicted frequency of incidents and the probability of a large spill occurring is low Consequently the risk of environmental effects is minimal Compliance with regulations application of TransCanadas Capital Planning Management System and Asset Management System and Emergency Response Plan ERP and adherence to safety procedures will result in the pipeline being operated in an environmentally responsible and safe way with a focus on spill prevention A human health risk assessment HHRA was completed to', 'Table 313 Number of Breeding Bird Point Count Stations completed in each Land Cover Class in the New Brunswick Segment Study Area Number of Point Counts Surveyed Area Surveyed ha Percent of Area Surveyed Land Cover Class 2013 2014 Total Area Surveyed ha Percent of Area Surveyed Forest Mature Overmature Hardwood 26 40 66 2072 19 Forest Mature Overmature Mixedwood 4 14 18 565 13 Forest Mature Overmature Softwood 13 21 34 1068 12 Forest Young Immature Hardwood 14 32 46 1444 15 Forest Young Immature Mixedwood 13 15 28 879 21 Forest Young Immature Softwood 40 33 73 2292 16 Forest Regeneration Sapling Hardwood 9 20 29 911 18 Forest Regeneration Sapling Mixedwood 15 11 26 816 36 Forest Regeneration Sapling Softwood 18 37 55 1727 17')\n"
          ],
          "name": "stdout"
        },
        {
          "output_type": "stream",
          "text": [
            "\r185it [04:48,  1.64s/it]"
          ],
          "name": "stderr"
        },
        {
          "output_type": "stream",
          "text": [
            "('TABLE 712 PARKS AND PROTECTED AREAS IN THE HUMAN OCCUPANCY AND RESOURCE USE LOCAL STUDY AREA Name Designation Overview of PurposeGoal Size ha RK Range1 Greenbelt 4E Municipal Natural Area Greenbelts are natural linear areas in the City of Surrey designed to connect parks and open spaces Unknown Approximately 07 km from RK 11659 Robin Municipal Park Robin Park is a municipal park located in the City of Surrey It includes a multiuse grass field and a forest grove Unknown Approximately 07 km from RK 11664 Greenbelt 3B Municipal Natural Area Greenbelts are natural linear areas in the City of Surrey designed to connect parks and open spaces Unknown Approximately 05 km from RK 11669 Invergarry Municipal Park Invergarry Park is a municipal park located in the City', 'Table 6B1 Pipeline Crossings with Potential for Fish and Fish Habitat Ontario East Segment Crossing ID Watercourse Name Location UTM 18 Watercourse Type Channel Widtham Documented Fish Species DFO Habitat Sensitivity Recommended Pipeline Crossing Method Contingency Pipeline Crossing Method Navigabilityb Crossing ID Watercourse Name Easting Northing Watercourse Type Channel Widtham Documented Fish Species Ranking DFO 2006 Restricted Activity Period Recommended Pipeline Crossing Method Contingency Pipeline Crossing Method Navigabilityb ON0815 Unnamed Tributary to McDonald Robertson Municipal Drain 543501 5025100 Permanent coolwater watercourse 60 Historical Data nonePresent Study central mudminnow creek chub fathead minnow northern redbelly dace northern redbelly dace x finescale dace pearl dace brook stickleback Low March 15 to June 30 Isolation if flowing Opencut if dry or frozen Not Navigable ON0817 Unnamed Tributary to McDonald Robertson Municipal', 'TABLE 32 CONSULTATION ACTIVITIES WITH PROVINCIAL AGENCIES Stakeholder Group Agency Name Name and Title of Contact Method of Engagement Date of Consultation Activity Reason for Engagement Consultation Outcomes Issues Concerns Commitments Followup Actions Where Issue Addressed in ESA Manitoba Agriculture Food and Rural Initiatives Altona GO Centre Jacquie Cherewayko Extension Coordinator Letter sent Telephone conversation October 27 2006 November 9 2006 Request for project concerns No concerns with the proposed project No concerns with the proposed project NA NA Manitoba Agriculture Food and Rural Initiatives Altona GO Centre Brian Jack Farm Production Adviso Telephone conversation November 20 2006 Weed concerns Weed concerns identified Leafy spurge is main concern for disturbed soils especially on the lighter soils in the Altona area Section 628 Appendix 6B Section 90 Manitoba Agriculture', 'Table 6112 Predicted Change in Area of Disturbance in the North Star Section 2 Wildlife Regional Study Area Disturbance Featurea Existing Conditions Project Conditions Future Conditions Disturbance Featurea Disturbance ha 1 Change Attributed to the Project ha 2 Cumulative Disturbance ha 12 Change Attributed to Reasonably Foreseeable Disturbance ha 3 Change Attributed to the Project and Reasonably Foreseeable Disturbance ha 23 Cumulative Area of Disturbance ha 123 Disturbance Featurea Disturbance ha 1 Change Attributed to the Project ha 2 Cumulative Disturbance ha 12 Change Attributed to Reasonably Foreseeable Disturbance ha 3 Change Attributed to the Project and Reasonably Foreseeable Disturbance ha 23 Cumulative Area of Disturbance ha 123 Disturbance Featurea Disturbance ha 1 Change Attributed to the Project ha 2 Cumulative Disturbance ha 12 Change Attributed to Reasonably')\n"
          ],
          "name": "stdout"
        },
        {
          "output_type": "stream",
          "text": [
            "\r186it [04:49,  1.58s/it]"
          ],
          "name": "stderr"
        },
        {
          "output_type": "stream",
          "text": [
            "('Table A8 Analysis of ELC Communities in Northern Ontario Location Project Component ELC Ecosite Area of LSA ha Percent of LSA Area of PDA ha Percent of PDA MLV61 Pipeline realignmentPipeline realignment Anthropogenic 070 003 049 012 MLV61 Pipeline realignmentPipeline realignment Bog 370 014 003 001 MLV61 Pipeline realignmentPipeline realignment Coniferous Forest 221 008 012 003 MLV61 Pipeline realignmentPipeline realignment Cultural Meadow 034 001 002 000 MLV61 Pipeline realignmentPipeline realignment Thicket Swamp 188 007 001 000 MLV65 Pipeline realignmentPipeline realignment Anthropogenic 289 011 040 010 MLV65 Pipeline realignmentPipeline realignment Coniferous Forest 010 000 MLV65 Pipeline realignmentPipeline realignment Coniferous Swamp 180 007 MLV65 Pipeline realignmentPipeline realignment Cultural Meadow 187 007 034 008 MLV65 Pipeline realignmentPipeline realignment Cultural Thicket 051 002 MLV65 Pipeline realignmentPipeline realignment Deciduous Forest 051 002 MLV65', 'TABLE 7B7 MUNICIPAL AND REGIONAL DEVELOPMENT PLANS AND WILDLIFERELATED GOALS ENCOUNTERED BY THE PROJECT Project Component Regional andor Municipal Development Plan Goals and Objectives Related to Wildlife and Wildlife Habitat BABoundary Lake Section ear Canyon Section lces River Unit Addition Upper Peace Regional Plan Plan not yet released ABoundary Lake Section lces River Unit Addition MD of Clear Hills No 21 MDP Protect and enhance natural environment ensure developments respect and protect the natural environment identify and conserve key wildlife habitat and unique natural resource areas and discourage development which may have a negative effect on resources Protect environmental sensitive areas egLakes rivers shore and valley slopes direct activities which may damage these areas to other locations maintain public accessibility to lakes and rivers maintain adequate setbacks from', 'TABLE 62 POTENTIAL BIOPHYSICAL AND SOCIOECONOMIC EFFECTS MITIGATIVE MEASURES AND RESIDUAL EFFECTS OF ALBERTA CLIPPER PIPELINE CONSTRUCTION AND OPERATION Biophysical or Socio Economic ElementPotential Effect Location Project Boundary Measures EGC Reference1 Residual Effects 21c lowering of topsoil capability through mixing with saline lower subsoil scCoronation Series KP 2489 to KP 2501 scElstow Series KP 2809 to KP 2813 KP 3000 to KP 3015 KP 3102 to KP 3105 KP 3123 to KP 3128 scGnadenthal Series KP 12244 to KP 12253 scHughenden Series KP 2078 to KP 2082 scMetiskow Series KP 2484 to KP 2489 scRegina Series KP 3560 to KP 3583 KP 6544 to KP 6559 scScott Series KP 3075 to KP 3092 KP 3114 to KP 3117 KP 3208 to KP 3216 KP 4991 to KP 4996', 'Table 7285 Fish Species Captured or Observed at Site BL18 Blackwater River Barge Landing 2003 Species Number Captured or Observed Fork Length Species Fry Juveniles Adults Total Number Measured Range mm Inconnu 0 0 1 1 1 605a Northern pike 0 0 1 1 1 572a NOTE a Because only one fish was measured its fork length is recorded and no range is given ')\n"
          ],
          "name": "stdout"
        },
        {
          "output_type": "stream",
          "text": [
            "\r187it [04:51,  1.65s/it]"
          ],
          "name": "stderr"
        },
        {
          "output_type": "stream",
          "text": [
            "('Table 422 Identified Effects and Mitigation Measures Raised at the Round 2 NGO Workshop Issue Category Effects and Mitigation Measures Link to EIS Transportation and community infrastructure contd Effect contd Where will the garbage and waste from the camps be taken V6 S2 S4 V7 S3 Transportation and community infrastructure contd Effect contd Who will monitor the waste treatment facilities Will security be in place in advance Concern about the increased demand on community staffing and resources eg parking and RCMP Have assessments been done on the housing situation and on potential inmigration in each region After the influx of pipelineassociated activity is there any concern about the related decline in the economic boom cycle This is important in terms of transportation training development There will be an', 'Table 85 Soil Management Considerations for Soil Units for the Project Saskatchewan Soil Unit Soil UnitAbbreviation PhaseDescription Wind ErosionRisk CompactionRiskTopsoil CompactionRiskSubsoil OtherConsiderations RecommendedSoil HandlingMethods LinearExtentm Extent ANTELOPE APAgl Gleyed High Low Low Trenchinstability 2 Lift 153 01 ANTELOPE APD High Low Low Trenchinstability 2 Lift 133 01 ASQUITH AQA High Low Low Trenchinstability 2 Lift 2510 1 ASQUITH AQAxt Till at3099 cm High Low Low Trenchinstability 2 Lift 2386 09 ASQUITH AQAyt Till at100200 cm High Low Low Trenchinstability 2 Lift 846 03 ALLUVIUMCHERNOZEMIC AVA Low Medium Medium Trenchinstability 2 Lift 286 01 ALLUVIUMCHERNOZEMIC AVAxt Till at3099 cm Low Medium Medium Trenchinstability 2 Lift 126 01 ALLUVIUMCHERNOZEMIC AVAzr Regosolic Low Medium Medium Trenchinstability 2 Lift 205 01 ALLUVIUMGLEYSOLIC AVG Low High High TrenchinstabilitySeepage 2 Lift 2091 08 ALLUVIUMSOLONETZIC', 'TABLE 2 EXTENT OF VARIOUS SOILS ALONG THE PROPOSED ROUTE Soil Symbol Soil Name km Percent KNZ2HRT Kenzie 2 Heart 29 20 KTH Kathleen 52 35 LDG Lodge 113 76 MOB Moberly 359 239 glMOB gleyed Moberly 02 01 shMOB shallow Moberly 23 15 stMOB stony Moberly 85 57 PTC Portage Creek 09 06 ROB Robb 66 44 shROB shallow Robb 63 42 SKY Smoky 57 38 ptSKY peaty Smoky 57 38 WHM Wanham 20 13 ptWHM peaty Wanham 05 03 MISCELLANEOUS LAND UNITS O Open Water 03 02 R Rock 03 02 RB Rough Broken 26 17 RI River 03 02 SC Stream Channel 06 04 Total 1500 km 1000', 'Table 686 Kakisa River Site 644 Water Quality Parameter Units 2002 Historical Data 19721981 Parameter Units Summer Summer Winter Spring Parameter Units July 29 Median Min Max n Median Min Max n Median n Field Measured pH NA 79 81 76 86W 2 77 75 79 2 85 1 Conductance Scm 197 188 170 205 2 540 540 540 2 Temperature C 145 19 165 20 3 05 05 05 2 9 1 Dissolved oxygen mgL 86 72 7 74 2 08C 08C 08C 2 10 1 Conventional Parameters Colour TCU 120W Conductance Scm 197 278 1 Dissolved organic carbon mgL 21 Hardness mgL 102 145 1 171 1 pH NA 76 82 1 Total alkalinity mgL 85 120 1 137 1 Total dissolved solids mgL 109a Total')\n"
          ],
          "name": "stdout"
        },
        {
          "output_type": "stream",
          "text": [
            "\r188it [04:53,  1.73s/it]"
          ],
          "name": "stderr"
        },
        {
          "output_type": "stream",
          "text": [
            "('Table 13 Mitigation Measures to Avoid Serious Harm to Fisha Mitigation Type Mitigation Description Applicable PoE Breakpointb General Construction Measures Timing Time works in water with respect to the timing windows to protect fish during sensitive time periodsc BP61 BP63 BP64 BP91 BP111 BP112 BP113 General Construction Measures Timing Minimize the duration of inwater work BP61 BP63 BP64 BP91 BP111 BP112 BP113 General Construction Measures Timing Conduct instream work during periods of low flow to further reduce the risk to fish and their habitat or to allow work in water to be isolated from flows BP61 BP63 BP83 BP91 BP112 BP113 B121 B122 B123 B124 General Construction Measures Timing Schedule work to avoid wet windy and rainy periods that may increase erosion and sedimentation BP21 BP32 BP34 BP43', 'Table 2 Kiskatinaw River Crossing Borehole Soil Summary Table 2Kiskatinaw River Crossing Borehole Soil Summary Borehole Number Soil Summary Soil Type Borehole Number From m To m Soil Type BH04 0 85 Clay with silt and sand 85 360 Clay stiff with silt and sand 360 390 Silt stiff with clay 390 396 end Silt dense with sand', 'Table G23 Maximum 24Hour Average Ground Level Concentrations gm Following a Hypothetical Spill of Crude Oil WCS near Saint John Receptor No Receptor Name Maximum 24Hour Average Ground Level Concentrations gm3 Receptor No Receptor Name Benzene Toluene Ethylbenzene Xylenes Total Aliphatic C8C16 Aromatic C8C16 Naphthalene Total Reduced Sulphur Compounds 110 Blacks Harbour School 19E02 49E01 56E02 37E01 88E01 14E01 43E02 111 St George Elementary School 16E02 31E01 36E02 24E01 55E01 77E00 24E02 112 Community of Chance Harbour 21E01 27E00 32E01 21E00 25E02 45E01 13E01 113 Community of Lepreau 38E01 21E00 24E01 16E00 13E02 27E01 77E02 114 Community of Pocologan 39E02 71E01 81E02 54E01 19E02 16E01 47E02 115 Community of Beaver Harbour 27E02 60E01 69E02 46E01 10E02 15E01 47E02 116 Community of Back Bay 12E02 37E01 42E02 28E01 70E01', 'Table 7261 Fish Species Captured or Observed at Site NWML28 Unnamed Stream 2003 Species Number Captured or Observed Fork Length Species Fry Juveniles Adults Total Number Measured Range mm Arctic grayling 4 1 0 5 5 61135 White sucker 1 0 0 1 1 43a Finescale dace NI NI NI 3 3 3151 Slimy sculpin NI NI NI 10 10 2883 NOTES NI forage fish species were not identified to life stages a Because only one fish was measured its fork length is recorded and no range is given ')\n"
          ],
          "name": "stdout"
        },
        {
          "output_type": "stream",
          "text": [
            "\r189it [04:55,  1.77s/it]"
          ],
          "name": "stderr"
        },
        {
          "output_type": "stream",
          "text": [
            "('Table D1 Descriptions of Ecological Land Classification ELC Units is the Terrestrial Local Study Area LSA Natural Subregion ELC Unit ELC Unit Description Central or Dry Mixedwood b3 blueberry aspenwhite spruce Central or Dry Mixedwood Borrow Pit borrow pit Central or Dry Mixedwood BTNN wooded bog Central or Dry Mixedwood c1 Labrador teamesic jack pineblack spruce Central or Dry Mixedwood CIP revegetated industrial land Central or Dry Mixedwood Clearcut clearcut Central or Dry Mixedwood d1 lowbush cranberry aspen Central or Dry Mixedwood d1 Clearcut lowbush cranberry aspen clearcut Central or Dry Mixedwood d1d2 lowbush cranberry aspen lowbush cranberry aspenwhite spruce Central or Dry Mixedwood d2 lowbush cranberry aspenwhite spruce Central or Dry Mixedwood d2d3 lowbush cranberry aspenwhite spruce lowbush cranberry white spruce Central or Dry Mixedwood d3 lowbush', 'TABLE 51107 EDUCATION STATISTICS FOR STURGEON LAKE CREE NATION Education Characteristics 2011 2006 Education Characteristics Total Male Female Total Male Female Highest Degree or Certificate Population 15 years and over 800 425 375 680 360 320 No degree certificate or diploma 525 280 240 460 255 205 High school diploma or equivalent only 145 70 70 50 25 25 Tradesapprenticeship or other nonuniversity certificate 120 65 55 155 75 80 University certificate below bachelor level 0 0 0 0 0 0 University degree bachelor level or higher 0 0 0 0 10 10', 'Table 595 Breeding Bird Species Richness by Habitat Group in the Terrestrial Local Study Area Habitat Groups Number of Plots Mean Species Richness of species per habitat group Standard Deviation', 'Table 11 TLRU Information and Mitigation Wabun Tribal Council Traditional Land and Resource Use Information Location Relative to Project Development Area Relevant Consolidated ESA Documents Context from the Consolidated ESA Wabun Tribal Council Mitigation Recommendations2 Consolidated ESAEPP Mitigation Measures As determined in the vegetation and wetlands assessment in the Consolidated ESA the Project will not affect the longterm sustainability of vegetation communities in the RAA or result in longterm wetland loss that cannot be mitigated The effect of herbicides was not assessed for vegetation and wetlands The use of herbicides for the Project will follow TransCanadas Operating Procedures and provincial permits ie when used in the vicinity of waterbodies and only be used on a sitespecific basis During construction mitigation measures are used to prevent the introduction')\n"
          ],
          "name": "stdout"
        },
        {
          "output_type": "stream",
          "text": [
            "\r190it [04:56,  1.68s/it]"
          ],
          "name": "stderr"
        },
        {
          "output_type": "stream",
          "text": [
            "('Table 555 Summary of Total Annual Average Air Emission Rates for the CEA Case Existing Hardisty182E00 Complex TotalTransCanada KeystoneGP LtdEnbridge MidstreamInc121E00517E01 Existing Hardisty182E00 Complex TotalTransCanada KeystoneGP LtdEnbridge MidstreamInc121E00517E01 Existing Hardisty182E00 Complex TotalTransCanada KeystoneGP LtdEnbridge MidstreamInc121E00517E01 Existing Hardisty182E00 Complex TotalTransCanada KeystoneGP LtdEnbridge MidstreamInc121E00517E01 Existing Hardisty182E00 ', 'TABLE 64 SUMMARY OF POTENTIAL VEHICLE AND EQUIPMENT CROSSING METHODS Vehicle Crossing Method Sensitivity Habitat Number Proposed FishBearing Access both banks 5 Clearspan bridge High Low 34 Other approved crossing methods eg ramp and culvert swamp mat snowicefill logfill ford Low 2 NonfishBearing Clearspan bridge Low 18 Other approved crossing methods eg ramp and culvert swamp mat snowicefill logfill ford Low 133', 'Table 311 Residual Effects on Acoustic Environment Project Phase Mitigation Residual Effects Characteristics Significance Confidence Prediction Significant Effects1Likelihood of Monitoring and Followup Project Phase Mitigation Direction Magnitude Extent Geographic Duration Frequency Reversibility Context Socioeconomic Ecological and Significance Confidence Prediction Significant Effects1Likelihood of Monitoring and Followup INTERCONNECT PIPELINES Change in Acoustic Environment Construction See Section 34 N L LAA S MR R H N H NA See Section 36 Operation NA NA an interaction is not expected NA Decommissioning and abandonment2 SAINT JOHN TANK TERMINAL including temporary workspace AND CANAPORT ENERGY EAST MARINE TERMINAL onshore component Change in Acoustic Environment Construction See Section 34 N L LAA S MR R H N H NA See Section 36 Operation See Section 34 N L LAA L C R H N', 'Table 9AIII1 Alberta Comprehensive Species List Form Latin Name and Authority Common Name Forbcontd sandhills cinquefoil Forbcontd graceful cinquefoil Forbcontd PotentillahippianaLehm woolly cinquefoil Forbcontd PotentillaniveaL snow cinquefoil Forbcontd PotentillanorvegicaL rough cinquefoil Forbcontd PotentillapalustrisLScop marsh cinquefoil Forbcontd PotentillapensylvanicaL prairie cinquefoil Forbcontd PotentillaplattensisNutt low cinquefoil Forbcontd PotentillarivalisNutt brook cinquefoil Forbcontd PotentillaspL cinquefoil species Forbcontd PrimulaincanaMEJones mealy primrose Forbcontd PrunellavulgarisL healall Forbcontd PsoraleaargophyllaPursh silverleaf psoralea Forbcontd PsoraleaesculentaPursh Indian breadroot Forbcontd PsoralealanceolataPursh scurf pea Forbcontd PyrolaasarifoliaMichx common pink wintergreen Forbcontd PyrolaspL wintergreen species Forbcontd firm white water crowfoot Forbcontd seaside buttercup Forbcontd yellow water crowfoot Forbcontd RanunculusmacouniiBritt Macouns buttercup Forbcontd prairie buttercup Forbcontd RanunculusspL buttercup species Forbcontd prairie coneflower Forbcontd RhusradicansL poison ivy Forbcontd RhustrilobataNutt skunkbush Forbcontd RorippapalustrisLBesser marsh yellow cress Forbcontd RorippaspScop yellow cress species Forbcontd RubuspubescensRaf dewberry dwarf raspberry Forbcontd')\n"
          ],
          "name": "stdout"
        },
        {
          "output_type": "stream",
          "text": [
            "\r191it [04:59,  2.15s/it]"
          ],
          "name": "stderr"
        },
        {
          "output_type": "stream",
          "text": [
            "('Table 511 Dawson Creek A Climate Normals 1981 to 2010 Parameter Jan Feb Mar Apr May Jun Jul Aug Sep Oct Nov Dec Annual daily average C 132 102 50 35 93 136 155 144 98 33 68 111 19 daily maximum C 72 39 09 100 164 201 222 215 162 90 15 53 82 daily minimum C 190 165 109 31 21 69 89 72 33 24 122 168 44 extreme maximum C 166 155 189 290 322 333 35 345 320 275 189 138 extreme minimum C 483 450 444 314 138 50 17 71 167 309 398 492 ', 'TABLE 7 SUMMARY OF POTENTIAL WATERCOURSES CROSSED IN ALBERTA ALONG THE REROUTE SECTION OF THE PIPELINE Watercourse Name Legal Location W6M AENV Class Restricted Activity Period Findings from Approximately 2 km Upstream in Fall 2008 Watercourse Name Legal Location W6M AENV Class Restricted Activity Period DissolvedOxygen mgL pH Flow ms Bankfull Width m Wetted Width m Depth of Water cm Unnamed Tributary to Henderson Creek 327913 unmapped Class D no RAP 141 pond 70 pond Channel dry 15 Dry Dry Unnamed Tributary to Henderson Creek 417913 unmapped Class D no RAP Dry Dry Dry 14 Dry Dry Unnamed Tributary to Henderson Creek 417913 unmapped Class D no RAP Dry Dry Dry 15 Dry Dry Unnamed Tributary to Henderson Creek 117913 unmapped Class D no RAP na na na', 'Table 11A17 Wildlife Species at Risk Found in the Alberta Segment of the Project Species Conservation Status Species SARA2008 AESCC 2007 ASRD 2005a Shorteared Owl Special Concern Schedule3 May be at Risk Spragues Pipit ThreatenedSchedule 1 Nongame AnimalSpecial Concern Sensitive Sora Sensitive Swainsons Hawk Sensitive Upland Sandpiper Sensitive American Badger Furbearing AnimalData Deficient Sensitive Pronghorn Sensitive', 'Table 846 Fluvial Landforms North Taiga Plains B Ecological Zone Landforms Topography Drainage Description Composition Dominant Soil Subgroups Associated Processes Permafrost Conditions LSA Areal Extentha LSA NTPB Zone total Landforms Topography Drainage Description Composition Dominant Soil Subgroups Associated Processes Temp C Active Layer Depth Estimate m Estimated Frozen Moisture Content1 Comments LSA Areal Extentha LSA NTPB Zone total Fluvial fan u0000Level to very gentle slopes u0000Well to poorly drained u0000Blanket slope drainage type common u0000Sand to silty sand or gravelly sand to sand and silty sand u0000Orthic Regosol u0000Gleyed Regosol u0000Terric Mesic Organic Cryosol u0000Gleysolic Turbic Cryosol u0000Permafrost u0000Braided annual frequency u0000Inundation annual flooding 20 to 30 1017 3070 u0000Possibility of encountering permafrost is 8090 u0000No permafrost in some well drained gravelly sand areas 215 10 Fluvial fan')\n"
          ],
          "name": "stdout"
        },
        {
          "output_type": "stream",
          "text": [
            "\r192it [05:01,  2.01s/it]"
          ],
          "name": "stderr"
        },
        {
          "output_type": "stream",
          "text": [
            "('Table 5E7 Maximum Predicted Groundlevel H2S Concentrations at Sensitive Receptors Associated with the Application Case Receptor ID UTM NAD83 Maximum Predicted Groundlevel H2S Concentration g m3 Receptor ID mE mN Zone Onehour Increase from Baseline Case Onehour 24hour Increase from Baseline Case 24hour Annual Increase from Baseline Case Annual 1 482409 5838070 12 2405 56 0401 50 0026 38 2 484618 5837232 12 3316 59 0728 48 0021 28 3 482561 5836775 12 3241 72 0698 49 0038 39 4 480047 5835861 12 2534 62 0444 29 0025 29 5 483476 5835404 12 3919 47 0860 31 0032 27 6 476999 5835023 12 1768 49 0300 6 0012 23 7 486142 5834565 12 0904 0 0143 4 0006 22 8 479133 5834185 12 2132 21 0436 19 0024', 'Table A6 Spring and Summer Vascular Plant Inventory for Northern Ontario O Overall Spring Summer Scientific Name Common Name COEFFICIENT OF CONSERVATISM WETNESS INDEX WEDINESS INDEX PROVINCIAL STATUS OMNR STATUS COSEWIC STATUS GLOBAL STATUS Author x x x Hypericum perforatum Common St Johnswort 5 3 SE5 G L x x Triadenum fraseri Frasers St Johnswort 7 5 S5 G4G5 Spach Gleason x x Lamiaceae Mint Family x x Clinopodium vulgare Wild Basil 4 5 S5 G L x x Glechoma tetrahit Common Hempnettle 5 1 SE5 G L x x x Lycopus americanus Cutleaved Waterhorehound 4 5 S5 G5 Muhlenb ex Bartram x x Lycopus uniflorus Northern Waterhorehound 5 5 S5 G5 Michx x x Mentha arvensis ssp borealis American Wild Mint 3 3 S5 L x x', 'TABLE 26 MITIGATION ASSOCIATED WITH CONTRACTING PROCUREMENT AND JOB OPPORTUNITIES SocioEconomic Element Potential Effect Project Boundary Project Phase Mitigation Measures Contract Procurement local contract procurement opportunities NA Construction Operation Decommissioning Early consultation with local contractors in affected communities regarding business opportunities and procurement practices As much as possible design construction to match capabilities of regional contractors eg number of spreads size of contracts Guidelines for local hiring will be included in all construction contracts Prepare a data base of qualified contractors and businesses including Aboriginal contractors and businesses that can provide services related to Project construction Provide these contacts to prime contractors to use during the tendering process Where there is a qualified local contractor they will have the opportunity to participate in the contracting process Encouraging the', 'Table 6A1 SOMC and SAR in the New Brunswick RAA Species Species of Management Concern SOMC Status Species at Risk SAR Designation If applicable Potential Occurrence in RAA Common Name Scientific name SARA MOJ 2013 COSEWIC 2014 Provincial Designation Legal Protection under SARA MOJ 2014 Legal Protection under Provincial Designation Potential Occurrence in RAA Atlantic salmon Inner Bay of Fundy Salmo salar1 Endangered Schedule 1 Critical Habitat Identified Endangered EndangeredNB Species at Risk Act NB SARA 2012 Endangered Schedule 1 Critical Habitat identified Recovery Strategy in place No prohibition IBoF Atlantic salmon is known to occur in several watercourses within the RAA Atlantic salmon Outer Bay of Fundy Salmo salar No status under consideration Endangered Status S2b EndangeredNB Species at Risk Act NB SARA 2012 No status No')\n"
          ],
          "name": "stdout"
        },
        {
          "output_type": "stream",
          "text": [
            "\r193it [05:03,  1.87s/it]"
          ],
          "name": "stderr"
        },
        {
          "output_type": "stream",
          "text": [
            "('TABLE 733 POTENTIAL RESIDUAL EFFECT OF THE PROJECT ON HUMAN HEALTH CONSIDERED FOR THE CUMULATIVE EFFECTS ASSESSMENT Potential Residual Effect Spatial Boundary1 Project Component Temporal Boundary Potential Cumulative Effect Existing ActivitiesKnown Future Developments with Residual Effects Acting in Combination with the Project1 1 The normal daily living activities of local residents and land users may be disrupted RSA Pipeline Construction to Operation Disruption of normal daily living activities of local residents and land users Known future developments within the RSA listed in Tables 71A 71B and 71C All phases of construction could interact with the above activities', 'Table A17 Construction Monitoring MONITORING SAMPLE SITES SAMPLING INTERVAL APPROXIMATELY 50 m approximately upstream 3 times a day 25 m approximately downstream 2 hours 100 m approximately downstream 2 hours 200 m approximately downstream 4 hours 400 m approximately downstream 4 hours', 'Table 632 Regulations Potentially Requiring Permits under the Conservation Authorities Act Conservation Authority Conservation Authority Regulation Ontario Regulation 16606 Toronto and Region Conservation Authority Regulation of Development Interference with Wetlands and Alterations to Shorelines and Ontario Regulation 4206 Central Lake Ontario Conservation Authority Regulation of Development Interference with Wetlands and Alterations to Shorelines and Ontario Regulation 16806 Ganaraska Region Conservation Authority Regulation of Development Interference with Wetlands and Alterations to Shorelines and Ontario Regulation 16306 Lower Trent Region Conservation Authority Regulation of Development Interference with Wetlands and Alterations to Shorelines and Ontario Regulation 31909 Quinte Conservation Authority Regulation of Development Interference with Wetlands and Alterations to Shorelines and Ontario Regulation 14806 Cataraqui Region Conservation Authority Regulation of Development Interference with Wetlands and Alterations to Shorelines and Ontario Regulation', 'TABLE 63 SIGNIFICANCE EVALUATION OF POTENTIAL ADVERSE RESIDUAL EFFECTS OF IDENTIFIED BIOPHYSICAL AND SOCIO ECONOMIC ELEMENTS OF CONSTRUCTION AND OPERATIONS OF THE PROPOSED PIPELINE AND ASSOCIATED FACILITIES Adverse Residual Effects Impact Balance Spatial Context Temporal Context Magnitude Probability Confidence Significance 1 Adverse Residual Effects Impact Balance Spatial Context Duration Frequency Reversibility Magnitude Probability Confidence Significance 1 7d Alteration of peatland habitat function during and following construction and maintenance activities until vegetation is reestablished negative footprint to local shortterm isolated short to longterm low high high not significant 7e Alteration of peatland hydrologic function during construction and maintenance activities negative footprint to local shortterm isolated shortterm low high high not significant 7f Potential reduction of wetlandpeatland habitat function in the event of a spill or product release during construction')\n"
          ],
          "name": "stdout"
        },
        {
          "output_type": "stream",
          "text": [
            "\r194it [05:04,  1.75s/it]"
          ],
          "name": "stderr"
        },
        {
          "output_type": "stream",
          "text": [
            "('TABLE 65 SIGNIFICANCE EVALUATION OF POTENTIAL RESIDUAL EFFECTS OF PIPELINE CONSTRUCTION AND OPERATION ON SOIL AND SOIL PRODUCTIVITY Potential Residual Effects Impact Balance Spatial Boundary1 Temporal Context Magnitude Probability Confidence Significance 2 Potential Residual Effects Impact Balance Spatial Boundary1 Duration Frequency Reversibility Magnitude Probability Confidence Significance 2 a Minor topsoilsubsoil mixing Negative Footprint Short to mediumterm Periodic Mediumterm Low High High Not significant b Undesirable lower subsoils may be unexpectedly encountered and admixed with upper subsoil horizons Negative Footprint Short to mediumterm Isolated Medium to longterm Low High High Not significant c Revegetation of soils saline to the surface may be difficult Negative Footprint Short to mediumterm Isolated Short to mediumterm Low High High Not significant d Minor surface erosion of topsoil can be expected until a vegetative', 'Table 10112 Significance of Potential Effects of Niglintgak on Wildlife Movements Effect Attribute Valued Component Phase When Impact Occurs Effect Attribute Significant Valued Component Phase When Impact Occurs Direction Maximum Magnitude Maximum Geographic Extent Maximum Duration Significant Grizzly bear Construction Adverse Low Local Medium term No Grizzly bear Operations Adverse Low Local Long term No Grizzly bear Decommissioning and abandonment Adverse Low Local Short term No Beluga whale Construction Adverse Low Local Short term No Beluga whale Operations Neutral No effect NA NA No Beluga whale Decommissioning and abandonment Adverse Low Local Short term No Bowhead whale Construction Adverse Low Local Short term No Bowhead whale Operations Neutral No effect NA NA No Bowhead whale Decommissioning and abandonment Adverse Low Local Short term No Ringed seal Construction Adverse', 'Table A6 Spring and Summer Vascular Plant Inventory for Northern Ontario O Overall Spring Summer Scientific Name Common Name COEFFICIENT OF CONSERVATISM WETNESS INDEX WEDINESS INDEX PROVINCIAL STATUS OMNR STATUS COSEWIC STATUS GLOBAL STATUS Author x x Sium suave Hemlock Waterparsnip 4 5 S5 G5 Walter x x Apocynaceae Dogbane Family x x Apocynum androsaemifolium Spreading Dogbane 3 5 S5 G5T L x x Apocynum cannabinum var cannabinum Indian Hemp 1 S5 G5T L x x x Asclepias incarnata ssp incarnata Swamp Milkweed 6 5 S5 G5T5 L x x x Asclepias syriaca Common Milkweed 0 5 S5 G5 L x x Cynanchum rossicum Swallowwort SE5 G Kleopov Borhidi x x Aquifoliaceae Holly Family x x Ilex verticillata Winterberry 5 4 S5 G5 L A Gray x x', 'Table 35 InSitu Water Quality for small watercourses in the lower Saint John River Watershed Watercourse ID Stream Order Temperature C Conductivity Scm DO mgL pH Turbidity NTU NB35000 1 120 230 96 83 05 NB35400 1 116 450 98 77 47 NB35500 1 136 210 83 63 67 NB36900 1 170 85 42 09 NB37000 1 118 94 39 07 NB37100 1 162 190 70 53 14 NB37200 1 155 280 81 38 09 NB37300 1 40 NB37802 1 47 NB38601 1 157 2090 94 42 48 NB39100 1 197 2510 44 61 176 NB39200 1 136 27650 78 45 19 NB39400 1 149 70 94 81 06 NB40000 1 172 150 74 45 11 NB40100 1 147 160 67 42 06 NB41200 1 173 150 94')\n"
          ],
          "name": "stdout"
        },
        {
          "output_type": "stream",
          "text": [
            "\r195it [05:06,  1.72s/it]"
          ],
          "name": "stderr"
        },
        {
          "output_type": "stream",
          "text": [
            "('Table 51 Potential Effects on Traditional Land and Resource Use Project Activities and Physical Works Potential Effects Project Activities and Physical Works Temporary or permanent loss of hunting areas or opportunities Temporary or permanent loss of fishing areas or opportunities Temporary or permanent loss of trapping areas or opportunities Temporary or permanent loss of plant harvesting areas or opportunities Temporary or permanent loss of trails or travelways or their use including navigation Temporary or permanent loss of habitation sites or their use Temporary or permanent loss of cultural or spiritual practices or sites Construction Pipeline construction Pump stations including permanent access roads and the pressure control station NA Hardisty D tank terminal NA Operation Pipeline NA NA NA NA Pump stations including permanent access roads and the pressure', 'TABLE 4 SUMMARY OF WATERCOURSE CROSSINGS ALONG THE NORTH MONTNEY MAINLINE AITKEN CREEK SECTION Field Site No Name Legal Location UTM Coordinates NAD83 Zone 10 LatitudeLongitude DDMMSS Elevation m asl Fish Stream Classification 17 Fish and Wildlife Timing Window Low Risk 27 Riparian Management Area m 127 Open Water Mean Channel Morphology m 3 Fish Species Captured or Observed During Open Water Aquatic Assessment Previously Documented 4 Location of Nearest Known Fish Habitat 56 Beaver Activity Present YesNo Winter 2012 Aquatic Habitat Investigation Results Supplemental Fish Sampling Recommended for 2013 Comments CE WC13 Halfway River SE 328323 W6M E 587105 N 6233437 56 14 1609 N 121 35 3524 W 468 m asl S1B Restricted activity all year round working within a critical window is unavoidable RRZ 50', 'Table 21 Noise Receptor Location Aitken Creek Compressor Station Receptor ID Universal Transverse Mercator UTM Coordinates a m Orientation from Facility Site Approximate Distance to the Facility Boundary km Receptor ID Easting Northing Orientation from Facility Site Approximate Distance to the Facility Boundary km R1 551957 6295055 North 24 NOTES a UTM Zone 10 NAD 83 ', 'TABLE 8A12 REASONABLY FORESEEABLE PIPELINE DEVELOPMENTS WITHIN THE TRANS MOUNTAIN EXPANSION PROJECT RSA AND LSA OF VARIOUS ELEMENTS Primary Applicant Soil LSA AquaticsWetland RSA Air Quality RSA Acoustic Environment RSA Vegetation RSA Wildlife Primary Applicant Legal Location Soil LSA AquaticsWetland RSA Air Quality RSA Acoustic Environment RSA Vegetation RSA RSA RSA Grizzly BONTERRA ENERGY CORP 110304805 W5M TO 163304705 W5M BONTERRA ENERGY CORP 110704708 W5M TO 030604708 W5M BONTERRA ENERGY CORP 112204804 W5M TO 122204804 W5M BONTERRA ENERGY CORP 121704804 W5M TO 161704804 W5M BONTERRA ENERGY CORP 122204804 W5M TO 112204804 W5M BONTERRA ENERGY CORP 130505104 W5M TO 010705104 W5M BONTERRA ENERGY CORP 130804804 W5M TO 121704804 W5M BONTERRA ENERGY CORP 131304707 W5M TO 151304707 W5M BONTERRA ENERGY CORP 131304904 W5M TO 161104904 W5M BONTERRA ENERGY CORP 131804803')\n"
          ],
          "name": "stdout"
        },
        {
          "output_type": "stream",
          "text": [
            "\r196it [05:08,  1.87s/it]"
          ],
          "name": "stderr"
        },
        {
          "output_type": "stream",
          "text": [
            "('Table B1 Soil Horizon Data from Soil Inspection Sites within the LSA September and October 2015 Site No Horizon Horizon Depth Moisture Colour Structure Consistence Texture Coarse Fragments Salts Carbonates Mottles Sampled WWJJ15061 LFH 8 0 WWJJ15061 Bm1 0 14 M 75YR 54 MFSB Friable CL Yes WWJJ15061 Bm2 14 25 M 75YR 56 WFSB Friable L WWJJ15061 BC1 25 40 M 10YR 56 Friable L WWJJ15061 BC2 40 75 D 10YR 46 Soft LfS WWJJ15061 IIBC 75 80 D 10YR 44 Loose S WWJJ15062 Ah 0 20 M 10YR 22 SFGR Friable L WWJJ15062 Ck 20 70 M 25Y 32 Very Friable LS S WWJJ15063 AB 0 15 M 10YR 53 SFGR Very Friable SiL WWJJ15063 Bm 15 40 D 10YR 44 MFGR Loose LS 5 WWJJ15063', 'Table 32 Seasonal and Mean Daily Temperatures Wonowon and Fort St John CCNS Station Name Mean Daily Temperature C Station Name Wintera Springa Summera Autumna Annual Wonowon CCNS 119 17 132 08 10 Fort St John CCNS 123 32 147 24 2 NOTE aWinter Months December January February Spring Months March April May Summer Months June July August Autumn Months September October November SOURCE Environment Canada 2013a ', 'TABLE 513 WESTERN TOAD HABITAT RATINGS ADJUSTED FOR SOIL MOISTURE AND STRUCTURAL STAGE Moisture Regime Structural Stage Moisture Regime 1 27 SubhygricHydric Low 3 High 1 Mesic Low 3 Moderate 2 Submesic Nil 4 Low 3 SubxericXeric Nil 4 Nil 4', 'Table 519 Estimated Peak Flow Relationships Discharge QTm3s Hydrologic Region Q2 Q10 Q25 Q100 Delta1 0392 DA0674 0549 DA0712 0607 DA0724 0659 DA0742 Northern 0392 DA0674 0549 DA0712 0607 DA0724 0659 DA0742 Central 0425 DA0722 0699 DA0724 0801 DA0727 0928 DA0731 Southern Lakes and wetlands 50 DA 0151 DA0765 0233 DA0752 0247 DA0769 0387 DA0753 Southern Lakes and wetlands 50 DA 0497 DA0716 0776 DA0727 0689 DA0760 0960 DA0743 NOTES QT discharge with a return period of T years DA drainage area in km2 1 These relationships do not apply to Mackenzie River distributary delta or channelsPeak flow relationships are presented in the form aDAb where DA drainage area in km2 and a and b are constants See Figure 56 shown previously for hydrologic regions ')\n"
          ],
          "name": "stdout"
        },
        {
          "output_type": "stream",
          "text": [
            "\r197it [05:09,  1.75s/it]"
          ],
          "name": "stderr"
        },
        {
          "output_type": "stream",
          "text": [
            "('Table 562 Fish Species Documented in Watercourses Crossed by the Project Watercourse ldentificationa Watercourse Nameb Thermal Regimeb Typical Fish Species Present in the Local Study Areab ', 'Table 2 TLRU Information and Mitigation Flying Post First Nation Traditional Land and Resource Use Information Location Relative to Project Development Area Relevant Consolidated ESA Documents Context from the Consolidated ESA Flying Post First Nation Mitigation Recommendations2 Consolidated ESAEPP Mitigation Measures In the Consolidated ESA Project effects on the biophysical and socioeconomic environment were assessed under the following valued components fish and fish habitat vegetation and wetlands wildlife and wildlife habitat and human occupancy and resource use With the application of recommended mitigation measures during construction and operation Project effects on fish and fish habitat and changes in vegetation and wetlands wildlife and wildlife habitat and lands used for fishing hunting and trapping are predicted to be not significant over the life of the Project Temporary or Permanent', 'TABLE 72 SIGNIFICANCE EVALUATIONS OF CUMULATIVE EFFECTS OF IDENTIFIED RESIDUAL EFFECTS FOR THE PROPOSED PROJECT Predicted Cumulative Effects Impact Balance Spatial Context Temporal Context Magnitude Probability Confidence Significance1 Predicted Cumulative Effects Impact Balance Spatial Context Duration Frequency Reversibility Magnitude Probability Confidence Significance1 1 PHYSICAL ENVIRONMENT The LSr pipeline component of the Southern Lights Project will act cumulatively with past and future disturbances in that minor areas of instability in fill material and an incremental change in topography at steep slopes may occur negative footprint short to mediumterm isolated shortterm to permanent low high moderate to high not significant 2 SOIL CAPABILITY The LSr pipeline component of the Southern Lights Project will act cumulatively with previous disturbances the Alberta Clipper Project and to a lesser extent the Keystone Pipeline', 'Table 131 Potential Effects and Measurable Parameters for Infrastructure and Services Potential Effect Rationale for Inclusion of the Potential Project Effect in the Assessment Measurable Parameters for the Effect Rationale for Selection of the Measurable Parameter Infrastructure and Services VC Change in accommodations The Projects construction workforce will utilize commercial accommodation Availability of commercial accommodations eg vacancy rates number of rooms Illustrates extent of Project demand compared to baseline conditions Change in infrastructure and services The Projects construction workforce may use health emergency and policing services Projectrelated traffic accidents if they occur could require use of regional emergency service providers Parameters based on infrastructure and services affected eg police officers1000 population peak demandrated capacity Infrastructure and service demands related to population size which is influenced by the number')\n"
          ],
          "name": "stdout"
        },
        {
          "output_type": "stream",
          "text": [
            "\r198it [05:11,  1.63s/it]"
          ],
          "name": "stderr"
        },
        {
          "output_type": "stream",
          "text": [
            "('Table 518 Distances to Noise Sensitive Receptors Within the Acoustic Environment SLA of Proposed Pipeline Corridor Along the Hope to Burnaby Segment Distance from Proposed Pipeline Corridor m Number of Potentially Affected Receptors approximate 0300 1400 3001500 57100', 'TABLE 376 NUMBER OF WETLANDS SURVEYED FOR PONDDWELLING AMPHIBIANS BY PIPELINE SEGMENT AND NATURAL REGION OR ECOSECTION Pipeline Segment Natural Region AB or Ecosection BC Total Wetlands Surveyed Black Pines to Hope Thompson Basin 11 Black Pines to Hope Guichon Upland 8 Black Pines to Hope Nicola Basin 10 Black Pines to Hope Hozameen Range 6 Black Pines to Hope Eastern Pacific Ranges 1 Black Pines to Hope Segment Total 36 Hope to Westridge Eastern Pacific Ranges 0 Hope to Westridge Northwestern Cascade Ranges 0 Hope to Westridge Fraser Lowland 23 Hope to Westridge Segment Total 23 Total 159', 'TABLE 3 WETLAND CROSSINGS Route Wetland Type From KP To KP Kahta Section Shrubby Fen KP16 500m KP16 834m Kahta Section Shrubby Fen KP19 977m KP20 094m Kahta Section Treed Fen KP20 094m KP20 204m Kahta Section Shrubby Fen KP20 204m KP20 555m Kahta Section Treed Fen KP20 555m KP20 709m Kahta Section Treed Fen KP21 197m KP21 440m Kahta Section Shrubby Fen KP21 440m KP21 538m Kahta Section Treed Fen KP21 538m KP21 620m Kahta Section Shrubby Fen KP21 620m KP21 714m Kahta Section Treed Fen KP21 714m KP22 342m Kahta Section Treed Fen KP27 098m KP27 155m Kahta Section Shrubby Fen KP28 546m KP28 604m Kahta Section Shrubby Fen KP28 678m KP28 756m Kahta Section Shrubby Fen KP31 517m KP31 551m Kahta Section Treed Bog KP34', 'Table 710 Environmental Protection Measures for Trenching ActivityConcern Mitigation Measures Dewatering 13Where dewatering of the trench or bellhole is required the water will be discharged onto stable vegetated surfaces or into constructed containment ponds in a manner that does not cause erosion or unfiltered water to reenter a watercourse or wetland Water will then be disposed of in an appropriate manner 14Regulator or tenure holder permission is required for any offROW discharge of trench water or containment pond 15Discharge areas will be identified prior to use in the field and will be monitored for erosion or flooding Drainage 16Trench plugs will be installed andor seal the trench bottom as necessary to maintain the original wetland hydrology at locations where the pipeline trench may act as a drain 17Trench')\n"
          ],
          "name": "stdout"
        },
        {
          "output_type": "stream",
          "text": [
            "\r199it [05:13,  1.65s/it]"
          ],
          "name": "stderr"
        },
        {
          "output_type": "stream",
          "text": [
            "('Table C1 Watercourses and Water Bodies with Potential for Fish and Fish Habitat Northern Ontario Segment Crossing ID Watercourse Name Location Watercourse Type Channel Widtha m Documented Fish Species DFO Habitat Sensitivity Ranking DFO 2006 ON51406EAG Unnamed Tributary to Fog Lake UTM 16 E376798 N5438696 Permanent Coldwater Watercourse crossing TBD MNR 2011c brook trout Present study TBD TBD ON51407EAG Unnamed Tributary to Fog Lake UTM 16 E379145 N5438614 Intermittent Coldwater Watercourse crossing TBD Present study TBD TBD ON52804MAT Hamilton Creek UTM 17 E343664 N5495118 Intermittent Coolwater Watercourse crossing 26 MNR2014c baitfish species Present study fathead minnow northern redbelly dace pearl dace brook stickleback Low ON53003KAP Unnamed Tributary to Kapuskasing River UTM 17 E395475 N5471547 Intermittent Warmwater Watercourse crossing 15 MNR2014c baitfish species Present study finescale dace brook stickleback', 'Table C2 Measures to Protect Fish and Fish Habitat when Carrying Out an Isolated Crossing ActivityConcern Measures Erosion and Sediment Control Install effective sediment and erosion control measures before starting work to 12prevent entry of sediment into the watercourse Inspect them regularly during construction and make all necessary repairs if damage occurs 13Stabilize waste materials removed from the work site above the HWM to prevent them from entering the watercourse This could include covering spoil piles with biodegradable mats or tarps or planting them with grass or shrubs Riparian Vegetation 14The removal of select plants may be necessary to access the construction site This removal should be kept to a minimum and within the pipeline ROW Dam Installation 15Use dams made of nonearthen material such as water inflated', 'Table 321 Transportation Infrastructure in High Level Rainbow Lake and Zama City 2003 Transportation Mode High Level Rainbow Lake Zama City Owner Town of High Level Town of Rainbow Lake Maintained by the Municipal District of Mackenzie hamlet owned by Apache Corporation plant Critical aircraft Boeing 737200 Hercules Baron 1900 Metro 23 Weather and communication aids FSS Provided out of High Level None Navigational aids NDB VOR DME ADF None NOTES data not available Air Transportation ADF automatic direction finding AWOS automated weather observation station CARS community airport radio station DME distance measuring equipment FSS flight service station GNWT Government of the Northwest Territories ILS instrument landing system NDB nondirectional beacon SOURCES Airport managers 2003 personal communication Town of High Level personnel 2003 ', 'TABLE 72510 EFFECT OF THE PROJECT ON OVERALL CLIMATE CHANGE Change in Environmental Parameter Best Estimate Global warming C 26 105 Precipitation changes 000022 Increase in heavy rainfall 000021 Yield reduction in a number of crops 000032 Changes in streamflows 000022 Decrease in the extent of annually averaged Arctic sea ice 000058 Decrease in the extent of September Arctic sea ice 000058')\n"
          ],
          "name": "stdout"
        },
        {
          "output_type": "stream",
          "text": [
            "\r200it [05:14,  1.66s/it]"
          ],
          "name": "stderr"
        },
        {
          "output_type": "stream",
          "text": [
            "('Table 103 Evaluation of the Significance of Residual Effects ASSESSMENT CRITERIA DEFINITION Spatial Context The geographic area within which the effect of the proposed Project is expected to impact Project Study Area Refer to Section 1032 for full definition Local Study Area Refer to Section 1032 for full definition Regional Study Area Refer to Section 1032 for full definition Temporal Context The expected periods of time over which the various phases of the proposed Project may occur Duration The length of time over which the event is expected to occur over the various project phases Immediate Event lasts up to two days Shortterm Event lasts between two days and one year Mediumterm Event lasts between one and ten years Longterm Event lasts longer than ten years Frequency Indicates', 'Table 26 Effects Classification Criteria Air Quality Criteria Criteria Definitions Reversibility The likelihood that a measurable parameter will recover from an effect Reversible A measurable effect on ambient air quality will occur Project contribution to changes in ambient air quality will cease after Project reclamation and closure Reversibility The likelihood that a measurable parameter will recover from an effect Irreversible A measurable effect on ambient air quality will occur Project contribution to changes in ambient air quality will not cease after Project reclamation and closure Ecological and Socioeconomic Context The general characteristics of the area in which the project is located Negligible or limited disturbance Largely undeveloped land and limited motorized access Ecological and Socioeconomic Context The general characteristics of the area in which the project is located', 'TABLE A72 REASONABLY FORESEEABLE MINOR OIL AND GAS DEVELOPMENTS RELATIVE TO ELEMENT SPATIAL BOUNDARIES Legal Location Operator Acoustic LSA Air RSA Aquatics RSA Heritage RSA HORU LSA HORU RSA SCWB LSA SCWB RSA SoilsPE LSA Vegetation LSA Vegetation RSA Wetlands LSA Wetlands RSA Wildlife LSA Wildlife RSA 3343219 W3M TEINE ENERGY LTD 3263219 W3M TEINE ENERGY LTD 5343219 W3M TEINE ENERGY LTD 6343219 W3M TEINE ENERGY LTD 2343219 W3M TEINE ENERGY LTD 7343219 W3M TEINE ENERGY LTD 3263219 W3M TEINE ENERGY LTD 3343219 W3M TEINE ENERGY LTD 5343219 W3M TEINE ENERGY LTD 6343219 W3M TEINE ENERGY LTD 7343219 W3M TEINE ENERGY LTD 1193324 W3M TEINE ENERGY LTD 9251029 WPM TUNDRA OIL AND GAS PARTNERSHIP 121029 WPM TUNDRA OIL AND GAS PARTNERSHIP 1114928 WPM TUNDRA OIL AND GAS PARTNERSHIP', 'Table 782 Waterbody Types Along the Storm Hills Lateral Waterbody Type Watercourse Class Number of Sites Percentage of Streams Lakes NA 2 NA Streams Active I 3 10 Streams Vegetated 26 90 Total Stream Sites 29 100 NOTE NA stream information does not pertain to lakes ')\n"
          ],
          "name": "stdout"
        },
        {
          "output_type": "stream",
          "text": [
            "\r201it [05:16,  1.77s/it]"
          ],
          "name": "stderr"
        },
        {
          "output_type": "stream",
          "text": [
            "('TABLE 5108 SPECIES WITH SPECIAL CONSERVATION STATUS HOPE TO BURNABY SEGMENT Common Name Provincial Designations Federal Designations California gull S3B1Blue3 Priority 44Goal 34 Canada goose occidentalis ssp S2M1Red3Priority 24Goal 34 Common nighthawk S4B1 Yellow3Priority 24Goal 24 Threatened56 Doublecrested cormorant S3S4B1Blue3Priority 24Goal 24 Ferruginous hawk SNRN1 Threatened56 Great blue heron fannini ssp S2S3BS4N1Blue3Priority 14Goal 34 Special Concern56 Green heron S3S4B1Blue3 Priority 44Goal 34 Gyrfalcon S3S4B1Blue3 Priority 44Goal 34 Horned lark strigata ssp SXB1Red3Priority 14Goal 34 Endangered56 Longtailed duck S2S3BS4N1Blue3Priority 24Goal 34 Marbled murrelet S3BS3N1Blue3Priority 14Goal 124 Threatened56 Northern goshawk laingi ssp S2B1Red3Priority 14Goal 134 Threatened56 Olivesided flycatcher S3S4B1Blue3Priority 24Goal 24 Threatened56 Peregrine falcon anatum ssp S2B1Red3Priority 24Goal 34 Special Concern56 Shorteared owl S3BS2N1Blue3Priority 24Goal 24 Special Concern56 ', 'Table D9 Coupling Patterns Code Type Description Code Type Description DC Decoupled Sediment mobilized on the hill slope by a landslide normally would not enter the watercourse channel PC Partially coupled A portion of the sediment mobilized on the hill slope by a landslide enters the watercourse channel CO Coupled Sediment mobilized on the hillslope by landslide activity directly enters the watercourse channel', 'Table 21 Residential Dwellings Locations Residential Dwellings ID Universal Transverse Mercator UTM Coordinates 1 m Orientation from Facility Site Approximate Distance to the Project Boundary m Residential Dwellings ID Easting Northing Orientation from Facility Site Approximate Distance to the Project Boundary m R17 549528 6166734 Southwest 560 R18 549747 6166654 Southwest 640 R19 549393 6166571 Southwest 760 R20 548927 6166449 Southwest 1120 NOTE 1 UTM Zone 10 NAD 83 ', 'TABLE 54192 HABITATION SITES IDENTIFIED BY LEQMEL FIRST NATION Approximate Distance and Direction from Project Site Description CurrentPast Use Requested Mitigation 8 km north of RK 11091 Devils Run former habitation site Past 1900s None 75 km north of RK 1110 Camping site Past None 105 km northeast of RK 11171 Old Longhouse location Past None 85 km north of RK 11181 Old Longhouse location Past None 7 km northeast of RK 11231 Old Longhouse location Past None 4 km north of RK 11264 Camping site along Fraser River Current None')\n"
          ],
          "name": "stdout"
        },
        {
          "output_type": "stream",
          "text": [
            "\r202it [05:18,  1.90s/it]"
          ],
          "name": "stderr"
        },
        {
          "output_type": "stream",
          "text": [
            "('Table 33 WildlifeRelated Acts Regulations and Guidelines Governing Body or Agency Legislation or Source Document Resources Wildlife and Economic Development contd Air Quality Code of Practice Upstream Oil and Gas Industry Consultation Draft Government of Northwest Territories Resources Wildlife and Economic Development GNWT RWED 2002b Resources Wildlife and Economic Development contd Safety in Bear Country A Reference Manual Graf et al1992 Department of Transportation Environmental Guidelines for the Construction Maintenance and Closure of Winter Roads in the Northwest Territories GNWT Department of Transportation 1993 Regional Inuvialuit Land Administration The Western Arctic Inuvialuit Land Claim Settlement Act The Inuvialuit Final Agreement Indian Northern Affairs Canada INAC 1988b Inuvialuit Land Management System ILMS ILA 2004 Gwichin Tribal Council Working for the Land Gwichin Land Use Plan Gwichn Land Use Planning', 'TABLE 11 CONCORDANCE WITH GUIDE A A2 ENVIRONMENT AND SOCIOECONOMIC ASSESSMENT OF THE NEB FILING MANUAL Filing Filing Requirement In Application References Not in Application Explanation 3 Where a project triggers the CEA Act evaluate the need for elementspecific followup programs to verify the accuracy of the ESA and to determine the effectiveness of any mitigation measures that were implemented particularly those mitigation measures that are new or unproven Section 80 Table A3 Circumstances Triggering the Need for Detailed Biophysical and SocioEconomic Information Physical environment Sections 50 and 60 Soil capability Sections 50 and 60 Vegetation Sections 50 and 60 Water quality and quantity Sections 50 and 60 Fish and fish habitat Sections 50 and 60 Wetlands Sections 50 and 60 Wildlife and wildlife habitat Sections 50 and', 'Table E1 Soil Inspection Sites New Pipeline RoW Site Site Type1 Subgroup2 Soil Unit Variant3 Parent Material3 UTM Zone Easting Northing Surface Expression Surface Stoniness Class Slope Slope Position Slope Class Topsoil Depth cm Drainage EEPALC13299 TS Moderately fine glacial till 12 562782 5614439 Undulating Slightly stony 00101 1 Level 05 20 22 EEPALC13300 TS Moderately fine glacial till 12 562655 5614429 Undulating Very stony 3 15 2 Level 2 5 18 EEPALC13301 TS Moderately coarse glacial till 12 562529 5614471 Rolling Moderately stony 013 4 Upper 2 5 6 EEPALC13302 TS Coarse glacial till 12 562410 5614503 Rolling Very stony 3 15 11 Mid 9 15 9 EEPALC13303 TS Moderately coarse glacial till 12 562274 5614528 Ridged Moderately stony 013 8 Lower 5 9 5 EEPALC13304 TS', 'TABLE 442 PARKS AND PROTECTED AREAS HARGREAVES TO DARFIELD SEGMENT Park or Protected Area Legal Location RK Range Approximate Length km Jackman Flats Provincial Park 83D14 Nearest 5090 Adjacent within 120 m at nearest point separated by Highway 5 parallels existing TMPL rightofway Blue River Black Spruce Provincial Park F83D3 Nearest 6110 Adjacent within 50 m at nearest point separated by secondary road Finn Creek Provincial Park a7K82M14 to c96F82M14 6386 to 6440 07 North Thompson River Provincial Park a67H92P9 to b67H92P9 7255 to 7259 Adjacent within 20 m at nearest point separated by Highway 5')\n"
          ],
          "name": "stdout"
        },
        {
          "output_type": "stream",
          "text": [
            "\r203it [05:20,  1.79s/it]"
          ],
          "name": "stderr"
        },
        {
          "output_type": "stream",
          "text": [
            "('Table E3a Historical Field Water Quality Dissolved Oxygen Concentrations SAMPLE POINT DESCRIPTION SAMPLE DATE FIELD DO MGL SK05HD0120 Swift Current Creek below Rock Creek near hydrometric station 05HD0361 21Mar2010 1197 SK05HD0120 Swift Current Creek below Rock Creek near hydrometric station 05HD0361 21Jul2009 703 SK05HD0120 Swift Current Creek below Rock Creek near hydrometric station 05HD0361 22Sep2009 1316 SK05HD0120 Swift Current Creek below Rock Creek near hydrometric station 05HD0361 11Jun2009 1088 SK05HD0120 Swift Current Creek below Rock Creek near hydrometric station 05HD0361 12May2009 1067 SK05HD0120 Swift Current Creek below Rock Creek near hydrometric station 05HD0361 31Mar2009 992 SK05HD0120 Swift Current Creek below Rock Creek near hydrometric station 05HD0361 14Apr2009 954 SK05HD0120 Swift Current Creek below Rock Creek near hydrometric station 05HD0361 02Oct2008 933 SK05HD0120 Swift Current Creek below Rock Creek', 'Table A6 Spring and Summer Vascular Plant Inventory for Northern Ontario O Overall Spring Summer Scientific Name Common Name COEFFICIENT OF CONSERVATISM WETNESS INDEX WEDINESS INDEX PROVINCIAL STATUS OMNR STATUS COSEWIC STATUS GLOBAL STATUS Author x x Carex cf argyrantha Silvery Oval Sedge 8 4 S2 G5 Tuckerm x x Carex atherodes Awned Sedge 6 5 S4S5 G5 Spreng x x x Carex aurea Goldenfruited Sedge 4 4 S5 G5 Nutt x x Carex backii Backs Sedge 8 5 S4S5 G4 Boott x x Carex bebbii Bebbs Sedge 3 5 S5 G5 LH Bailey Olney ex Fern x x Carex blanda Woodland Sedge 3 0 S5 G5 Dewey x x x Carex brunnescens ssp brunnescens Brownish Sedge 7 3 S5 G5T5 Pers Poir ex Lam x x Carex', 'TABLE 46 POTENTIAL EFFECTS AND ENHANCEMENT MEASURES ASSOCIATED WITH LOCAL EMPLOYMENT OPPORTUNITIES SocioEconomic Element Potential Effect Pipeline Loop Project Boundary Project Phase Enhancement Measures Local Employment Opportunities Increase in shortterm local employment All pipeline loops LSA Preconstruction Construction Operation Continue to hire Aboriginal community members for environmental field programs TLU and TEK work undertaken to prepare the ESA A Natural Resources Training program funded by NTGL has provided six weeks of training and work for First Nation youth In advance of Project construction and operation provide contracting qualification information to Aboriginal communities Economic Development Officers to explain contracting and employment on the Project Continue to communicate with Aboriginal communities to discuss issues and concerns related to economic and employment opportunities Continue to provide Project updates to the municipalities', 'Table D2 Soil Inspection Inventory of the Soils found Along the Bakken Pipeline SiteNumber SoilMapUnit SampleDate Easting Northing SoilSubGroup SoilSeries PhaseModifier ParentMaterial1 ParentMaterial2 DepthToWater SurfaceExpression SlopePosition SlopeClass SlopeLength Aspect LandUse SurfaceStoniness Drainage MoistureRegime Comments VegetationComments Horizon UpperDepth LowerDepth Thickness ColourPage ColourCode Texture Structure SoilMoisture Consistence CoarseFragmentSize Effervescence Mottling Sampled SampleID MR0106 Ws253 030620102021 30342005 548587418 CABLC Ws cast FL 150 Undulating Lower 2to5 100to500 NONE Cultivated S3verystony315 RapidlyS SubmesicSLRapidWell Ahk 0 25 25 10YR 22 SL GR M FR 8 8cmGravel M NO blank MR0106 Ws253 030620102021 30342005 548587418 CABLC Ws cast FL 150 Undulating Lower 2to5 100to500 NONE Cultivated S3verystony315 RapidlyS SubmesicSLRapidWell Bmk 25 40 15 10YR 34 SCL MA M FI 15 8cmGravel M NO blank MR0106 Ws253 030620102021 30342005 548587418 CABLC Ws cast FL 150')\n"
          ],
          "name": "stdout"
        },
        {
          "output_type": "stream",
          "text": [
            "\r204it [05:22,  1.87s/it]"
          ],
          "name": "stderr"
        },
        {
          "output_type": "stream",
          "text": [
            "('Table 24 Alberta Publications Jurisdiction or Agency Publication Alberta Human Resources and Employment Workplace Health and Safety Chemical Hazards Regulations Government of Alberta 2001a pursuant to the Occupational Health and Safety Act Government of Alberta 2000f Alberta Sustainable Resource Development Public Lands Act Government of Alberta 2000g Alberta Sustainable Resource Development Stream Crossing Guidelines Operational Guidelines for IndustryAlberta Energy and Natural Resources 1985 Alberta Sustainable Resource Development Alberta Wildlife Act Government of Alberta 2000h Alberta Transportation Fish Habitat Manual Guidelines and Procedures for Watercourse Crossings in AlbertaAlberta Transportation 2001 Boreal Caribou Committee Strategic Plan and Industrial Guidelines for Boreal Caribou Ranges in Northern Alberta Boreal Caribou Committee 2001', 'Table 612 Historical Weed Records in the MD of Ranchlands Designationa Scientific Name Common Name Propagationb ProhibitedNoxious Centaurea stoebe spotted knapweed Seed distributed astumbleweeds Noxious Echium vulgare blueweed seed spread by animals andwater Noxious Cirsium arvense Canada thistle rhizomes root fragments seed Noxious Tanacetum vulgare common tansy rhizomes and seeds Noxious Lepidium draba heartpodded hoarycress rhizomes and seeds Noxious Euphorbia esula leafy spurge rhizomes and seeds Noxious Leucanthemum vulgare oxeye daisy rhizomes and seeds Noxious Sonchus arvensis perennial sowthistle rhizomes root fragments seed Noxious Tripleurospermum perforatum scentlesschamomile seed Noxious Ranunculus acris tall buttercup seed Noxious Linaria vulgaris yellow toadflax rhizomes root fragments seed SOURCES ', 'Table 530 Stream Classes Stream Class Description Large River Channel Large named watercourses with perennial flow Drainage areas 1000 km2 and wetted width typically 25 m Active Channel Intermittent and perennial streams with drainage areas 1000 km2 including those that freeze partially or completely to the bottom in winter Discernible banks and substrate including silt and organic materialTwo major subgroups u0000Active I Perennial or partially frozen to bottom in winter including areas highly influenced by groundwater input or beaver activity that might create open water and by perennial flow or large pools and water depths u0000Active II Frozen to bottom or dry below ice during winter ie smaller drainage basins with low flow and shallow depth Vegetated Channel Ephemeral streams including vegetated waterways depressions and swales Watercourses that', 'Table 13A1 Geographic Coordinates of Project Pump Stations and Selected Sensitive Receptors Included in Baseline Noise Surveys Pump Station ID Pump Station Location UTMNAD83 ReceptorID Distance of Noise SurveyLocation to Pump Stationm Receptor Location UTMNAD83 Elevationm ASL Pump Station ID mE mN ReceptorID Distance of Noise SurveyLocation to Pump Stationm mE mN Elevationm ASL Hardisty B PumpStation 482026 5833876 R1 1700 480435 5834504 629 Lakesend EastPump Station 516175 5799734 1 NA NA NA NA Monitor SouthPump Station 528871 5744837 R2 1400 529474 5746136 697 Oyen South PumpStation 533233 5686389 1 NA NA NA NA Bindloss SouthPump Station 553757 5627914 R3 1900 553774 5625899 736 Fox Valley PumpStation 598841 5580607 1 NA NA NA NA Piapot PumpStation 647724 5533106 1 NA NA NA NA Grassy CreekPump Station 689592 5493141')\n"
          ],
          "name": "stdout"
        },
        {
          "output_type": "stream",
          "text": [
            "\r205it [05:24,  1.81s/it]"
          ],
          "name": "stderr"
        },
        {
          "output_type": "stream",
          "text": [
            "('Table 714 Compaction and Rutting Risk Ile Des Chenes MLV 414 Pipeline Realignment Compaction Risk Proportional Extent Rutting Risk Proportional Extent Compaction Risk ha Rutting Risk ha Low 00 00 Low 00 00 Moderate 00 00 Moderate 20 411 High 20 411 High 00 00 Not Rated1 28 589 Not Rated1 28 589 Total 48 1000 Total 48 1000 NOTES 1 Developed land is not rated for soil compaction or for soil rutting risk ', 'Table 91 Potential Effects Pathways and Measurable Parameters for Water Quality and Quantity PotentialEffect Effect Pathway Measurable Parameters andUnits of Measurement Change insurfacewater quality Increased sediment concentrations andtransport in surface water due to instreamconstruction vegetation clearing increasederosion on the Project footprint and release ofhydrostatic test waterContamination of surface water quality due tospills during construction or operation activities Surface water qualityparameters eg totalsuspended solids Change insurfacewaterquantity Construction activity on land adjacent towaterbodies resulting in changes in natural flowpatterns across the ROWTrenching could affect flow at diversions for hydrostatic testing orrelease of test water Stream dischargeNatural drainage flow orvolumes Change ingroundwaterquality Contamination of groundwater due to spillsduring construction or operation activitiesDisturbance to physical hydraulic properties ofsoil and parent material above or below thewater table Concentrations ofcontaminants in groundwaterIncreased in TSS', 'Table 5104 Environmental Effects Assessment Matrix for Infrastructure and Services Project Activities and Physical Works See Table 311 for list of specific activities and works Potential Environmental Effects AAdverse PPositive Mitigation Magnitude Geographic Extent DurationFrequency Reversibility EcologicalSocioCultural and Economic Context Pipeline Rupture or Leak Change in infrastructure andor services A CSA Z662 Design Standards Quantitative Risk Analysis Construction Quality Assurance Operation and Maintenance Procedures Worker and contractor training Pipeline IMP Public Awareness Program RoW Monitoring and Surveillance 1 1 11 R 2', 'Table 44 Wetlands Identified in the Components Study Areas Plot Number Study Area Plot Detail1 BEC Unit Site Series Ecosystem Name Structural Stage BC CDC Status Potential Wetland Function DP17026 RSA V BWBSmw Wb09 black sprucecommon horsetailpeat moss bog 6 mature forest nutrient and organic export carbon storage biological productivity wildlife habitat DP17027 RSA G BWBSmw Wb09 black sprucecommon horsetailpeat moss bog 4 polesapling nutrient and organic export carbon storage biological productivity wildlife habitat DP17007 RSA G BWBSmw Wb06 tamarackwater sedgefen moss bog 3b tall shrub Blue nutrient and organic export carbon storage biological productivity wildlife habitat')\n"
          ],
          "name": "stdout"
        },
        {
          "output_type": "stream",
          "text": [
            "\r206it [05:25,  1.69s/it]"
          ],
          "name": "stderr"
        },
        {
          "output_type": "stream",
          "text": [
            "('Table 433 Environmental and Socioeconomic Assessment Study Areas VC Pipeline Spatial Boundaries Compressor Station Spatial Boundaries Rationale Wetlands LSA a 11 km wide corridor centred over the proposed centreline RSA a 20 km wide corridor extending approximately 10 km on each side of the centreline LSA 50 m radius from the proposed fence line of each compressor station unit addition RSA a 10 km radius extending from the proposed fence line of each compressor station unit addition LSA is the area in which wetlands are most likely to be directly affected from activity within the Project Footprint andor Project fence line for compressor stations The wetlands LSA encompasses the water quality and quantityfish and fish habitat LSA which includes the ZOI where wetlands are most likely to be', 'Table 8 TLRU Information and Mitigation Red Rock Indian Band Traditional Land and Resource Use Information Location Relative to Project Development Area Relevant Consolidated ESA Documents Context from the Consolidated ESA Red Rock Indian Band Mitigation Recommendations2 Consolidated ESAEPP Mitigation Measures RRIB discussed the importance of maintaining the land in pristine condition and are mindful of longterm effects on future generations RRIB indicated that preserving the land for future generations is of primary importance to them RRIB related that spirit animals including moose deer bear wolf fish eagles and owls have an important place their worldview and stated they have an obligation to protect these animals Traditional Land and Resource Use Volume 16 Part C1 Fish and Fish Habitat Volume 15 Part C1 Vegetation and Wetlands Volume 15', 'TABLE 1 SITESPECIFIC ENVIRONMENTAL PROTECTION MEASURES Location Issues Timing Windows andor Regulatory Guidelines Mitigation Topsoil Storage Construction Footprint Management of long term topsoil stockpile None The Environmental Inspectors or designate will determine depth to strip topsoil and the locations of the topsoil stockpile Stockpile volume dimensions and location will be marked on asbuilt drawings Where longterm storage of topsoil is required seed topsoil piles with a seed mix that has been approved by the responsible regulatory agency as soon as feasible Vegetation growth will be inspected to determine if adequate vegetation cover is established and maintained Topsoil piles will be inspected for weed occurrences Weed control measures will be implemented if required Sediment control measures will be inspected and maintained regularly and after major rain events as required', 'TABLE 63 SIGNIFICANCE EVALUATION OF ADVERSE RESIDUAL EFFECTS OF PROJECT CONSTRUCTION AND OPERATION ON IDENTIFIED BIOPHYSICAL AND SOCIOECONOMIC ELEMENTS Adverse Residual Effects Impact Balance Spatial Context Temporal Context Magnitude Probability Confidence Significance1 Adverse Residual Effects Impact Balance Spatial Context Duration Frequency Reversibility Magnitude Probability Confidence Significance1 12 HUMAN OCCUPANCY AND RESOURCE USE 12a Reduction in land base available for timber harvest negative Footprint longterm continuous longterm low high high not significant 12b Disruption of grazing activity negative Local shortterm isolated shortterm low high high not significant 12c Disruption of outfitting trapping hunting and fishing activities and change in user opportunity or satisfaction negative Region shortterm isolated shortterm medium high moderate not significant 12d Disruption of well water use during construction negative Local shortterm isolated shortterm low low high')\n"
          ],
          "name": "stdout"
        },
        {
          "output_type": "stream",
          "text": [
            "\r207it [05:27,  1.62s/it]"
          ],
          "name": "stderr"
        },
        {
          "output_type": "stream",
          "text": [
            "('TABLE 311 LAND USE TYPES ALONG THE PROPOSED LINE 3 REPLACEMENT PIPELINE ROUTE Land Use Province Land Use All Alberta Saskatchewan Manitoba Cultivated Land 694 400 720 733 Tame Pasture 101 130 102 88 Hay 86 158 71 98 Treed Pasture 38 191 17 35 Treed 07 0 01 22 Open Water 03 0 04 0 Disturbed Land 03 02 04 01 Native Prairie 62 99 74 22 River 01 0 01 0 HayPasture 04 20 03 0 Shrub Pasture 02 01 03 0', 'TABLE 62132 POTENTIAL EFFECTS MITIGATION MEASURES AND POTENTIAL RESIDUAL EFFECTS OF PIPELINE CONSTRUCTION ON HERITAGE RESOURCES Potential Effect Location Spatial Boundary Key Measures EPP Reference1 Potential Residual Effects 1 Disturbance of previously unidentified heritage resource sites during construction Entire Route Footprint In the event that any historical archaeological or palaeontological resources are discovered during construction suspend work immediately in the vicinity of the site Appendix D5 Implement appropriate measures identified in the Heritage Resources Discovery Contingency Plan in the event of discovery of archaeological or historical sites during construction activities Appendix D5 Notify the Environmental Inspector who will notify the Construction Manager or designate and the Enbridge Environment Project Lead The Environmental Inspector will provide an initial review of suspected archaeological palaeontological and historical remains and either allow', 'Table H2 Dispositions in the Alford Creek Section Local Assessment Area Disposition Code Disposition Disposition Holder PLA Pipeline Agreement issued by the AER contd PLA 142140 BONAVISTA ENERGY CORPORATION PLA Pipeline Agreement issued by the AER contd PLA 150466 PETRUS RESOURCES CORP PLA Pipeline Agreement issued by the AER contd PLA 150661 PETRUS RESOURCES CORP PLA Pipeline Agreement issued by the AER contd PLA 151492 ORLEN UPSTREAM CANADA LTD PLA Pipeline Agreement issued by the AER contd PLA 170431 ORLEN UPSTREAM CANADA LTD PLA Pipeline Agreement issued by the AER contd PLA 180109 BONAVISTA ENERGY CORPORATION PLA Pipeline Agreement issued by the AER contd PLA 180234 BONAVISTA ENERGY CORPORATION PLA Pipeline Agreement issued by the AER contd PLA 180258 BONAVISTA ENERGY CORPORATION PLA Pipeline Agreement issued by the', 'Table 3114 Summary of Consultation Activities Related to the Human Health Risk Assessment Stakeholder Group Agency Name Name and Title of Contact Method of Contact Date of Consultation Activity Reason for Engagement IssuesConcerns Commitments FollowUp Actions Comments Where Issue is Addressed in the Application FEDERAL CONSULTATION Health Canada BC Region Dr Carl Alleyne BC Regional Environmental Assessment Coordinator Dr Gladis Lemus BC Regional Manager Meeting January 28 2013 Project introduction Discussion of the planned HHRA methodology Health Canada advised that they will be directing particular attention to Aboriginal health Health Canada expressed an interest in knowing the potential health effects associated with accidents and malfunctions Health Canada will be interested in knowing the potential shortterm as well as longterm health effects associated with the Project with consideration given')\n"
          ],
          "name": "stdout"
        },
        {
          "output_type": "stream",
          "text": [
            "\r208it [05:28,  1.59s/it]"
          ],
          "name": "stderr"
        },
        {
          "output_type": "stream",
          "text": [
            "('TABLE 5 WILDLIFE SPECIES OF CONCERN Species Status SARA COSEWIC Coopers hawk Not at risk COSEWIC great blue heron Special Concern Schedule 3 SARA COSEWIC redheaded woodpecker Special Concern Schedule 3 SARA COSEWIC eared grebe No designation SARA COSEWIC American bittern No designation SARA COSEWIC northern leopard frog Special Concern Schedule 1 SARA COSEWIC snapping turtle No designation SARA COSEWIC painted turtle Not at risk COSEWIC doublecrested cormorant Not at risk COSEWIC SPECIES LISTED UNDER THE Manitoba ENDANGERED SPECIES ACT Bairds sparrow Endangered burrowing owl Endangered Eskimo curlew Endangered', 'Table 554 Significance of Effects on Channel Morphology Niglintgak Key Indicator Phase When Impact Occurs Effect Attribute Significant Key Indicator Phase When Impact Occurs Direction Magnitude Geographic Extent Duration Significant Channel morphology bargebased option Construction Adverse Low Local Medium term No Channel morphology bargebased option Operations Adverse Low Local Long term No Channel morphology bargebased option Decommissioning and abandonment Adverse Low Local Medium term No Channel morphology landbased option Construction Neutral No effect NA NA No Channel morphology landbased option Operations Adverse Low Local Long term No Channel morphology landbased option Decommissioning and abandonment Neutral No effect NA NA No NOTE NA not applicable ', 'Table A4 Vapour Space Speciation Profile for HHT Product Product Codea Name CAS Number Molecular Formula Molecular Weight gmol Mass Fraction Mol Fraction AWB tertPentyl mercaptan 1679090 C5H12S 104214 174E06 792E07 AWB 2methyl Thiophene 554143 C5H6S 98166 374E07 181E07 AWB 3methyl Thiophene 616444 C5H6S 98166 118E07 574E08 AWB Allyl sulphide 592881 C6H10S 114209 203E07 846E08 AWB Cyclohexane 110827 C6H12 84 313E03 177E03 AWB Methylcyclopentane 96377 C6H12 84 322E03 182E03 AWB 22Dimethylbutane 75832 C6H14 86 214E03 118E03 AWB 23Dimethylbutane 79298 C6H14 86 289E03 159E03 AWB 2Methylpentane 107835 C6H14 86 154E02 850E03 AWB 3Methylpentane 96140 C6H14 86 758E03 418E03 AWB Hexane 110543 C6H14 861754 143E02 790E03 AWB Benzene 71432 C6H6 781118 152E03 927E04 AWB Cyclopentane 12dimethyl trans 822504 C7H14 98 753E04 364E04 AWB Cyclopentane 13dimethyl 2453001 C7H14 98 483E04 234E04', 'Table D2 Forested Soil Polygon Attributes New Pipeline RoW Soil Unit Soil Unit Abbreviation Soil Code Variant1 Slope Class Subgroup Surface Parent Material Subsurface Parent Material Drainage Class Topsoil Thickness cm Stripping Depth cm Agricultural Capability Compaction Risk Topsoil Compaction Risk Subsoil Rutting Risk Topsoil Rutting Risk Subsoil Water Erosion Risk Topsoil Water Erosion Risk Subsoil Wind Erosion Risk Topsoil Wind Erosion Risk Subsoil Length m Extent of Total RoW Extent of Agricultural Area Coal Branch CBH CBH NR Imperfect NR NR NR NR NR NR NR NR NR 2509 001 001 Coal Branch CBH CBH NR Imperfect NR NR NR NR NR NR NR NR NR 16066 004 005 Coal Branch CBH CBH NR Imperfect NR NR NR NR NR NR NR NR NR 18079 004 006')\n"
          ],
          "name": "stdout"
        },
        {
          "output_type": "stream",
          "text": [
            "\r209it [05:30,  1.82s/it]"
          ],
          "name": "stderr"
        },
        {
          "output_type": "stream",
          "text": [
            "('Table 1072 Change in Whimbrel Habitat Infrastructure Sites Production Area Habitat Value Nesting Foraging Habitat Value Habitat Change Construction ha Habitat Change Operations ha Habitat Change Constructionha Habitat Change Operations ha High 137 114 185 156 Moderate 164 156 216 205 Effective 301 270 401 361', 'TABLE A3 WATER WELLS WITHIN 1 KM OF THE PROPOSED PIPELINE ROUTE Well Location Well ID Number Well Use LSD Section Twp Rge Mer Well ID Number Well Use SE 02 050 22 4 80007 Stock 13 02 050 22 4 80008 Industrial NE 02 050 22 4 80009 Stock NE 02 050 22 4 80010 Domestic 09 02 050 22 4 80011 Stock NE 02 050 22 4 80012 Stock SE 10 050 22 4 80098 Stock SE 10 050 22 4 80099 Domestic 08 10 050 22 4 80100 Domestic Stock 09 10 050 22 4 80104 Domestic Stock SW 11 050 22 4 80105 Domestic SW 11 050 22 4 80106 Domestic 03 11 050 22 4 80107 Domestic NE 11 050 22 4 80108', 'Table 331 Aboriginal Engagement Activities Completed as of August 1 2015 Community Engagement Activities Datesa Community Engagement Activities Datesa Kelly Lake Mtis Settlement Society KLMSS Project description sent to KLMSS June 2 2015 digital copy June 9 2015 hardcopy Kelly Lake Mtis Settlement Society KLMSS Project introduction meeting August 12 2014 Kelly Lake Mtis Settlement Society KLMSS Project update meeting and mapping workshop September 22 2014 Kelly Lake Mtis Settlement Society KLMSS Helicopter flyover October 24 2014 Kelly Lake Mtis Settlement Society KLMSS Project update meeting April 10 2015 Mtis Nation of Alberta MNA Region 6 Project description sent to MNA Region 6 June 2 2015 digital copy June 9 2015 hardcopy Mtis Nation of Alberta MNA Region 6 Project introduction meeting November 6 2014 Mtis Nation of', 'Table 441 Study Areas Used in the Environmental and Socioeconomic Assessment Valued Component or Grouping Study Area Areahectares ha DescriptionRationale ')\n"
          ],
          "name": "stdout"
        },
        {
          "output_type": "stream",
          "text": [
            "\r210it [05:32,  1.66s/it]"
          ],
          "name": "stderr"
        },
        {
          "output_type": "stream",
          "text": [
            "('Table 9A12 Land Classes in Saskatchewan Along the Pipeline RoW Type Land Class GVI Code GVI Site Type Lengthkm Noncontiguous Anthropogenic CN Crop Nonirrigated 367 Noncontiguous Anthropogenic Dev Developed 022 Noncontiguous PN Tame Pasture or Hay Nonirrigated 226 Noncontiguous Anthropogenic Subotal 615 Noncontiguous NativeUpland BlO BlowoutsSolonetzic Order 005 Noncontiguous NativeUpland Cy Clayey 028 Noncontiguous NativeUpland Lo Loamy 045 Noncontiguous Sa Sand 077 Noncontiguous NativeUpland Subotal 156 Noncontiguous Riparian1LtcHLotic Herbaceous 011 Noncontiguous Riparian Subotal 011 Noncontiguous Wetland1 Class 12 LenT Lentic Temporary 077 Noncontiguous Class 3 LenS Lentic Season 007 Noncontiguous Wetland1 Class 6 LenA Lentic Alkali 005 Noncontiguous Wetland Subotal 089 Noncontiguous Noncontiguous Total 87 Contiguous Anthropogenic CN Crop Nonirrigated 7241 Contiguous Anthropogenic Dev Developed 030 Contiguous Anthropogenic PI Tame Pasture or Hay Irrigated 053 Contiguous Anthropogenic PN', 'Table 59 Predicted Sound Levels and Compliance Assessment for Facility Construction Qubec Facility Receptor ID Noise Contribution from Facility Construction dBA MNL Criteria dB Ldn Compliance with MNLCriteria YesNo1 MDDELCC Daytime 07001900 Criteria Leq 12 HR dBA Compliance with MDDELCC Criteria YesNo 2 Facility Receptor ID Daytime Ld Nighttime Ln DayNight Equivalent Ldn MNL Criteria dB Ldn Compliance with MNLCriteria YesNo1 MDDELCC Daytime 07001900 Criteria Leq 12 HR dBA Compliance with MDDELCC Criteria YesNo 2 Donnacona Pump Station DO1 507 0 487 52 Yes 55 Yes Donnacona Pump Station DO2 429 0 409 52 Yes 55 Yes Donnacona Pump Station DO3 334 0 314 52 Yes 55 Yes Donnacona Pump Station DO4 496 0 476 52 Yes 55 Yes Donnacona Pump Station DO5 494 0 474 52 Yes', 'Table 5186 Income of the Aboriginal Population in 2005 in the SocioEconomic Study Area SSA Community Persons 15 Years and Over with Income Median Income Persons 15 Years and Over Change in Median Income Persons 15 Years and Over from 2000 Loon Lake IR 235a na Loon Prairie IR 237a na Northern Sunrise County na Peace River 570 19984 2253 Swampy Lake IR 236a na Utikoomak Lake IR 155 395 11728 3515 Utikoomak Lake IR 155Aa na Utikoomak Lake IR 155Ba na William McKenzie IR 151a na Woodland Cree IR 226 225 12960 4096 Woodland Cree IR 227a na Woodland Cree IR 228a na Total SSA 1190 15915b 3241c Alberta 121110 18335 4898', 'Table 611 Population Mobility Project Construction Effect Attributes Region Location Effect Attribute Significant Region Location Direction Magnitude Geographic Extent Duration Significant ISR All of ISR Adverse Low Regional Short term No ISR Aklavik Adverse Low Regional Short term No ISR Tuktoyaktuk Adverse Moderate Regional Short term No GSA All of GSA Adverse Low Regional Short term No GSA Inuvik Positive and adverse High Local Short term No SSA All of SSA Adverse Low Local Short term No SSA Norman Wells Adverse High Local Short term No SSA Fort Good Hope Adverse Moderate Local Short term No DCR All of DCR except Hay River Adverse Low Regional Short term No DCR Fort Simpson Adverse Moderate Local Short term No DCR Wrigley Jean Marie River and Trout Lake Adverse Low')\n"
          ],
          "name": "stdout"
        },
        {
          "output_type": "stream",
          "text": [
            "\r211it [05:34,  1.71s/it]"
          ],
          "name": "stderr"
        },
        {
          "output_type": "stream",
          "text": [
            "('Table 718 Topsoil Erosion Risk Moosomin Tank Terminal PDA and Temporary Workspace Facility Name Wind Erosion Risk Proportional Extent Water Erosion Risk Proportional Extent Facility Name Wind Erosion Risk ha Water Erosion Risk ha Moosomin tank terminal and temporary workspace Low 251 1000 Low 23 92 Moosomin tank terminal and temporary workspace Moderate 00 00 Moderate 228 908 Moosomin tank terminal and temporary workspace High 00 00 High 00 00 Moosomin tank terminal and temporary workspace Total 251 1000 Total 251 1000', 'Table 124 Proposed Navigable Waters and Crossing Methods FieldSiteID1 WatercourseName Zone Easting Northing LegalLocation MeanBankfullWidthm MeanWettedWidthm MeanWaterDepthm Flowm3s Proposed PrimaryCrossing MethodConstruction Timing MethodConstructionTiming Proposed VehicleEquipment CrossingMethod During OpenWater Conditions Proposed VehicleEquipment CrossingMethod During Dryor Frozen Conditions AdditionalInformation Kahta Section contd KPWC107 Kahta Creek 10 505572 6374305 A013D094G10 09 1 09 Negligible Isolated Dam and Pump ifflow is 1 m3s Open cut ifdry or frozen to bottomWinter Isolated Dam and Pumpif flow is 1 m3s Opencut if drySummer TBD TBD Section 8 Tables 86and 89 Appendix Kpage A2 KPWC108 Kahta Creek 10 505654 6374346 A013D094G10 11 08 01 Negligible Isolated Dam and Pump ifflow is 1 m3s Open cut ifdry or frozen to bottomWinter Isolated Dam and Pumpif flow is 1 m3s Opencut if drySummer TBD TBD Section 8', 'Table 64 Recommended Mitigation Measures for Fish and Fish Habitat Effect Recommended Mitigation Measures Change in Fish Movement Migration andor Fish Passage contd For watercourses within 30 m of facilities Where inchannel work requires channel realignment or infill and is authorized by regulatory authorities design and construct channel or infill such that fish movement migration and fish passage is maintained or enhancedFor permanent access road crossings Select culvert size to provide sufficient depth of flow and appropriate water velocities for fish passage Select culvert size based on the capacity required to handle peak flows If used install cylindrical culverts to simulate open bottom or pipe arch culverts Set the culvert bottom at least 015 m or 1020 of culvert diameter whichever is greater below the streambed elevation to', 'Table 104 Characterization of the Residual Effects on Marine Fish Habitat Quality Activity Direction Additional Proposed Mitigation Measures14 Residual Environmental Effect Activity Direction Additional Proposed Mitigation Measures14 Magnitude Extent Geographic Frequency Duration Reversibility Significance Potential Measurable Contribution to Regional Cumulative Environmental Effects Construction Onshore infrastructure site preparation Adverse Construction EPMP Volume 7A1 L S SO R N No Inwater infrastructure site preparation Adverse Construction EPMP Volume 7A1Work windows2Dredge technology3Silt curtains4 L S SO R N No Inwater infrastructure construction Adverse L L SO R N No Operations Inwater infrastructure PDA marine terminal berths and associated shading underwater structures Adverse L S LC R N No Berthed tankers Adverse Ballast Water Management Plan L S SR R N No Onshore site restoration Adverse Construction EPMP Volume 7A1 L S')\n"
          ],
          "name": "stdout"
        },
        {
          "output_type": "stream",
          "text": [
            "\r212it [05:35,  1.70s/it]"
          ],
          "name": "stderr"
        },
        {
          "output_type": "stream",
          "text": [
            "('Table 51213 Mitigation for Potential Effects on Human Occupancy and Resource Use Potential Effect Project Component Key Mitigationa 1 Disruption of hunting fishing trapping guide outfitting and recreational activities North Star Section 2 Red Earth Section 3 Bear Canyon North Extension Hidden Lake North Unit Addition Inform all responsible federal and provincial resource agencies and interested municipal officials of the Project developments as warranted Ensure that noise abatement equipment on machinery is in good working order Take reasonable measures to control constructionrelated noise near residential areas Where traffic as a result of the Project has the potential to create a hazardous or irritating level of dust to nearby residents dust control on existing access roads will be achieved through the application of water or calcium chloride or equivalent', 'Table 443 Forestry Management Areas within the Socioeconomic Effects Study Area Project Component Forestry Management Unit FMU Area ha Forestry Management Area Disposition Holder Name Annual Allowable Cut m3 Grande Prairie West Area Grande Prairie Mainline Loop No 4 Valhalla Section G12 41433 Crown Managed na Grande Prairie Mainline Loop No 4 Valhalla Section G16 1178017 Weyerhaeuser Company Limited Grande Prairie 2278112 conifer 1478041 deciduous Grande Prairie Mainline Loop No 4 Valhalla Section GO1 573226 Crown Managed na Grande Prairie Mainline Loop No 3 Elmworth Section G16 1178017 Weyerhaeuser Company Limited Grande Prairie 2278112 conifer 1478041 deciduous Grande Prairie Mainline Loop No 3 Elmworth Section GO1 573226 Crown Managed na Grande Prairie South Area Grande Prairie Mainline Loop No 2 Karr Section G15 644695 Canadian Forest Products Ltd', 'Table 15 Summary of Assessment Results Likelihood of Serious Harm Number of Sites Likely 1 Unlikely 40 Unresolved 0 NOTES Contingency crossing of the Brazeau River nonisolated open cut ', 'TABLE 615 INDUSTRIAL SAMPLE PLOTS LOCATED IN THE HORU LSA MCLEOD RIVER SECTION Location Disposition No Disposition Holder Name Disposition Holder Address Comments 03 km northwest of KP 118 NE 365319 W5M ISP020359 West Fraser Mills Ltd Woodlands 756 Switzer Drive Hinton Alberta T7V0 A2 Field boundary is marked in blue and plot trees are marked with metal tags Plots are 68 m x 68 m 03 km northeast of KP 163 NE 105419 W5M ISP020440 West Fraser Mills Ltd Woodlands 756 Switzer Drive Hinton Alberta T7V0 A2 Field boundary is marked in blue and plot trees are marked with metal tags Plots are 68 m x 68 m')\n"
          ],
          "name": "stdout"
        },
        {
          "output_type": "stream",
          "text": [
            "\r213it [05:37,  1.59s/it]"
          ],
          "name": "stderr"
        },
        {
          "output_type": "stream",
          "text": [
            "('TABLE 721 POTENTIAL EFFECTS MITIGATION MEASURES AND RESIDUAL EFFECTS OF CONSTRUCTION AND OPERATIONS OF THE PROJECT ON SOIL AND SOIL PRODUCTIVITY Potential Effect Project Component Spatial Boundary1 Key Mitigation Measures EPP Reference2 Potential Residual Effects 8 Flooding erosion or contamination of soil as a result of a release of hydrostatic test water on land contd See above Project Footprint See above Conduct all hydrostatic testing activities in accordance with the NEB OPR provincial regulations as well as the latest version of CSA Z662 Section 87 of Appendices 1A to 1E Submit notification under both the Code of Practice for the Temporary Diversion of Water for Hydrostatic Testing of Pipelines and the Code of Practice for the Release of Hydrostatic Test Water from Hydrostatic Testing of Petroleum Liquid and', 'Table 721 Preliminary Review of Potential for Cumulative Effects ', 'Table 610 Assessment of Effects on Valued Ecosystem Components Activity Effect Recommended Mitigation Measures Direction Magnitude Geographic Extent Frequency Duration Reversibility Significance Prediction Confidence Topsoil Quality contd Topsoil loss and degradation during storage Ensure proper stockpiling including reestablishment of vegetation to prevent wind and water erosion Consider use of tackifier certified weed free straw or cover crop to safeguard against erosion Neutral Low Sitespecific Once Longterm Reversible Not significant Moderate Salinization through increases in surface infiltration and groundwater recharge Develop surface water management plan including ditching to remove standing water and revegetation to use soil water Negative Low Local Intermittent Shortterm Reversible Not significant Moderate Contamination Follow spill handling and containment procedures outlined in the EPP Negative Low Sitespecific Once Shortterm Reversible Not significant Moderate', 'Table E1 Salt Affected Soil Criteria for Different Soil Zones Soil Zone Upper Subsoil EC dSm Lower Subsoil Threshold EC dSm Critical Difference EC dSm Brown 8 5 4 Dark Brown 8 6 4 Other 8 8 4')\n"
          ],
          "name": "stdout"
        },
        {
          "output_type": "stream",
          "text": [
            "\r214it [05:38,  1.50s/it]"
          ],
          "name": "stderr"
        },
        {
          "output_type": "stream",
          "text": [
            "('Table B2 Calculated Hydrologic Parameters at Water Survey of Canada Streamflow Monitoring Stations Station Number Station Name Province Latitude Longitude Drainage Area km2 Mean Annual Flow m3s 10year Peak Daily Flow m3s 100year Peak Daily Flow m3s Drought Flow 7Q10 m3s 01BQ001 Northwest Miramichi River at Trout Brook NB 4709475 658365 948 2154 32880 51703 208 01BS001 Coal Branch River at Beersville NB 4644394 6506494 166 366 6843 9796 015 01BU002 Petitcodiac River near Petitcodiac NB 4594639 6516819 391 801 14111 20829 027 01BU003 Turtle Creek at Turtle Creek NB 459595 64878 129 362 6622 10328 024 01BU004 Palmers Creek near Dorchester NB 4588722 6451639 342 092 2201 3119 003 01BV004 Black River at Garnet Settlement NB 4587139 65185 404 130 3079 5309 005 01BV006 Point Wolfe River', 'Table 42 Modeled Mean Monthly Discharge at Watercourses Crossed by the Chetwynd Loop BC OGC 2017b Crossing No Watercourse Name Basin Area km2 Mean Discharge m3s Crossing No Watercourse Name Basin Area km2 Jan Feb Mar Apr May Jun Jul Aug Sep Oct Nov Dec C1 Tributary to Centurion Creek 050 001 001 001 001 001 001 001 001 001 001 001 001 C2 Centurion Creek 10840 001 001 003 020 118 084 057 025 018 009 004 002 C3 Tributary to Centurion Creek 160 001 001 001 001 003 002 002 001 001 001 001 001 C4 Tributary to Centurion Creek 350 001 001 001 001 006 004 003 001 001 001 001 001 C5 Tributary to Centurion Creek 010 001 001 001 001 001 001 001', 'Table 84 List of Invasive Plant Species within the PDA and LAA New Brunswick Scientific Name Common Name Number of Occurrences in the PDA Number of Occurrences in the LAA Outside of the PDA Impatiens glandulifera purple jewelweed 1 Phalaris arundinacea reed canary grass 2 Polygonum cuspidatum Japanese knotweed 1 Rosa multiflora multiflora rose 3 Total 7 ', 'TABLE 71 POTENTIAL EFFECTS AND RECOMMENDED MITIGATION MEASURES OF PIPELINE CONSTRUCTION AND OPERATION FOR THE EDMONTON TO HINTON SEGMENT Potential Effect Pipeline Segment Spatial Boundary Key Measures Section Where Mitigation Located in the Pipeline EPP of Volume 6B 11 Potential loss or alteration of instream andor riparian habitat from pipeline construction contd See above See above Rollback slash and small diameter salvageable timber on steep slopes and approach slopes to watercourses Do not bury rollback when walking down with bulldozer Leave gaps in rollback at all obvious wildlife trails Section 863 of the EPPRefer to environmental resourcespecific mitigation tables for erodible soils and aquatic habitat features provided in Appendices F and I of the Pipeline EPP of Volume 6B respectively Section 863 of the EPPClean equipment following water')\n"
          ],
          "name": "stdout"
        },
        {
          "output_type": "stream",
          "text": [
            "\r215it [05:40,  1.55s/it]"
          ],
          "name": "stderr"
        },
        {
          "output_type": "stream",
          "text": [
            "('Table 41 Carway Soil Unit Summary Extent kilometres percentage 10 km 5 Soil Classification Calcareous Black Chernozem Orthic Black Chernozem Parent Material Glaciofluvial Dominant Texture topsoil subsoil Loamy sand loamy fine sand fine sandy loam loam loamy sand loamy fine sand sandy loam fine sandy loam loam Topography Class Percent Slope Range 1 to 5 8 0 to 15 45 to70 Surface Stoniness Range S0 to S1 nonstony to slightly stony Drainage Class Range Well Topsoil Depth Range Relationship to Topography 12 to 30 cm no relationship to topography Land Use percent of soil unit1 86 pasture 14 cleared land Sod Quality Variable Dominant Colour Transition topsoil subsoil distinctindistinct Black very dark brown very dark grayish brown dark yellowish brown dark grayish brown olive brown variable PROFILE SITE', 'Table 91 Setback Distance and Restricted Activity Date Requirements for COSEWIC Vertebrate Species at Risk in Prairie Region Species Seasonal Activity Restricted Activity Dates Setback Distance m Loggerhead Shrike May 1 Aug 15 200 Spragues Pipit Apr 21 Aug 31 200 LongBilled Curlew Apr 15 July 15 200 Yellow Rail May 1 July 15 150 MAMMALS Ords Kangaroo Rat BreedingWinter Prewinter Nov 16 Aug 15 Aug 16 Nov 15 250 500 NOTE Activity MED PL 20 Sweet there are no setback or timing restrictions suggested for Least Bittern ', 'Table A3 Vascular Plants Identified During Field Surveys Scientific name Common name ACCDC Srank CESCC Rank Prenanthes trifoliolata threeleaved rattlesnakeroot S5 secure Prunella vulgaris common selfheal S5 secure Prunella vulgaris ssp lanceolata common selfheal S5 secure Prunus pensylvanica pin cherry S5 secure Prunus serotina black cherry S5 secure Prunus virginiana chokecherry S5 secure Pteridium aquilinum bracken fern S5 secure Pyrola americana roundleaved pyrola S4 secure Pyrola asarifolia pink pyrola S5 secure Pyrola chlorantha greenflowered pyrola S4 secure Pyrola elliptica shinleaf S5 secure Pyrola minor lesser pyrola S3 secure Quercus rubra northern red oak S5 secure Ranunculus abortivus kidneyleaved buttercup S5 secure Ranunculus acris common buttercup SNA exotic Ranunculus flammula var filiformis lesser spearwort S5 secure Ranunculus hispidus bristly buttercup S4S5 secure Ranunculus pensylvanicus Pennsylvania buttercup S4 secure Ranunculus', 'Table 4A4 Water Quality Summary for Field Survey Parameters Units Most Stringent Guideline South Nation River Watershed Parameters Units Most Stringent Guideline 582013 1620 5122013 1230 5132013 1000 5112013 1040 Parameters Units Most Stringent Guideline ON00300 ON00110 ON00090 ON00120 ON00170 ON00200 Total Sodium Na gL 7900 3700 2200 6300 7700 3700 Total Strontium Sr gL 380 990 680 1900 290 470 Total Thallium Tl gL 03 ND ND ND ND 015 ND Total Titanium Ti gL ND ND ND ND ND ND Total Vanadium V gL 7 11 45 ND 11 057 095 Total Zinc Zn gL 20 ND 15 ND ND ND ND Methylnaphthalene 21 gL 2 ND ND ND ND ND ND Polyaromatic Hydrocarbons Benzoepyrene gL ND ND ND ND ND ND Perylene gL 000007 ND')\n"
          ],
          "name": "stdout"
        },
        {
          "output_type": "stream",
          "text": [
            "\r216it [05:41,  1.65s/it]"
          ],
          "name": "stderr"
        },
        {
          "output_type": "stream",
          "text": [
            "('TABLE 741 SIGNIFICANCE EVALUATION OF CUMULATIVE EFFECTS OF THE PROPOSED PROJECT ON WILDLIFE SPECIES AT RISK Predicted Cumulative Residual Effects Impact Balance Spatial Context Temporal Context Magnitude Probability Confidence Significance1 Predicted Cumulative Residual Effects Impact Balance Spatial Context Duration Frequency Reversibility Magnitude Probability Confidence Significance1 a Incremental cumulative effects on woodland caribou in the Chinchaga Caribou Range Negative RSA Shortterm Periodic Longterm Negligible High High Not significant b Incremental cumulative effects on wood bison Negative RSA Shortterm Periodic Longterm Low High Moderate Not significant c Incremental cumulative effects on grizzly bear in the Grizzly Bear Secondary Zone Negative RSA Shortterm Periodic Longterm Low High High Not significant d Incremental cumulative effects on furbearers Negative RSA Shortterm Periodic Longterm Low High Moderate Not significant e Incremental cumulative effects on', 'TABLE 58 NONFISHBEARING WATERCOURSE CROSSINGS UPSTREAM FROM UPPER FALLS ON BOSTON BAR CREEK Master Crossing Number RKs Watercourse Name Stream Classification BC591 10031 Boston Bar Creek S5 BC592 10047 Unnamed Channel S5 BC593 10076 Unnamed Channel S6 BC594 10086 Unnamed Channel S6 BC595 10093 Unnamed Channel S5 BC596 10110 Boston Bar Creek S5 BC597 10112 Unnamed Channel S6 BC598 10113 Unnamed Channel S6 BC599 10119 Unnamed Channel S6 BC600 10123 Unnamed Channel S6 BC601 10126 Unnamed Channel S6 BC602 10130 Unnamed Channel S6 BC603 10131 Unnamed Channel S6 BC604 10132 Unnamed Channel S6 BC605 10133 Unnamed Channel S6 BC606 10137 Unnamed Channel S6', 'Table C2 Bird Species Observed during the 20132014 Breeding Bird Surveys Species Name Native Grassland Tame Pasture Wetland Riparian Anthropogenic Developed Total Habitat2 Marbled Godwit 3 3 Wilsons Snipe 5 2 76 Wilsons Phalarope 1 1 Doves Woodpeckers Mourning Dove1 5 4 9 Northern Flicker 1 11 Unidentified Woodpecker 1 11 Passerines X Least Flycatcher 11 2 2 1510 Says Phoebe 1 1 Western Kingbird 1 1 Eastern Kingbird 12 1 133 Loggerhead Shrike 1 1 Warbling Vireo 4 1 54 Redeyed Vireo 4 44 Blackbilled Magpie1 2 21 American Crow1 15 5 2 226 Common Raven1 2 1 31 Horned Lark 41 4 6 51 Tree Swallow 8 84 Blackcapped Chickadee 1 11 Whitebreasted Nuthatch 1 1 House Wren 8 1 99 Mountain Bluebird 3 1 44', 'TABLE 2 WEED MANAGEMENT LEGISLATION AND REGULATIONS MinistryAgency Legislation Regulations Pest Management Regulatory Agency of Health Canada Pest Control Products Act Environment Canada Canadian Environmental Protection Act Environment Canada Canada Water Act Environment Canada Species at Risk Act Canada Wildlife Services Migratory Birds Convention Act Fisheries and Oceans Canada Fisheries Act Operational Statement Maintenance of Riparian Vegetation in Existing RightsofWay Canadian Food Inspection Agency Plant Protection Act Agriculture and AgriFood Canada Agricultural Products Act ')\n"
          ],
          "name": "stdout"
        },
        {
          "output_type": "stream",
          "text": [
            "\r217it [05:43,  1.59s/it]"
          ],
          "name": "stderr"
        },
        {
          "output_type": "stream",
          "text": [
            "('Table 51110 Emission Totals for Industrial Facilities in the Air Emissions Local Study Area 2013 Alta Gas Gordondale Sour Gas Plant 1631 4613 1684 11 11 Birchcliff Energy Ltd South Pouce 032207812W6M 1783 4133 08 08 Canadian Natural Gordondale 16107912W6 08 08 Encana Corp Gordondale SWB 1302 05 05 Encana Corp Oil Battery 0535 07 07 Encana Corp Gordondale SWB 0412 08 08 Encana Corp Oil Battery 1135 09 09 Encana Corp Gordondale 15327811W6 05 Encana Corp Gordondale SWB 1429 05 05 Encana Corp Oil Battery 1618 03 Enerplus Corp Pouce Coupe South Sour Gas Plant 404 691 08 08 Enerplus Corp Pouce Coupe Oil Battery 0430 11 11 Trilogy Energy Corp Big Horn Gordondale 0417 03 ', 'TABLE 5143 HARDISTY TERMINAL 2013 ANNUAL SUMMARY OF BTEX1 AND H2S2 MONITORING RESULTS Substance Maximum 1 hour Average Concentration ppb Maximum 24 hour Average Concentration ppb Annual Average Concentration ppb AAAQO ppb Substance Maximum 1 hour Average Concentration ppb Maximum 24 hour Average Concentration ppb Annual Average Concentration ppb 1 hour 24 hour Annual Site 1 Sodbusters Benzene 141 018 9 09 Toluene 404 024 499 106 Ethyl benzene 059 002 460 mpXylene 094 004 530 161 oXylene 045 002 530 161 H2S 49 12 101 10 3 Site 2 Crones Benzene 146 018 90 09 Toluene 339 085 499 106 Ethyl benzene 024 001 460 mpXylene 022 002 530 161 oXylene 000 000 530 161 H2S 61 16 161 10 3 ', 'Table 8AV1 Map Units and Associated Characteristics Alberta Soil Unit Soil UnitAbbreviation Phase Description SlopeClass SubgroupClassification ParentMaterial Drainage AgriculturalCapability WindErosionRisk WaterErosionRisk CompactionRiskTopsoil CompactionRiskSubsoil TopsoilDepthcm LinearExtentm Extent HOUCHER HCH 34 Rego DarkBrownChernozem Very coarsetextured fluvialeolian Rapidly 6MT H L L L 1030 1592 06 HOUCHER HCH 56 Rego DarkBrownChernozem Very coarsetextured fluvialeolian Rapidly 6MT H L L L 20 331 01 HOUCHER HCHgl Gleyed 2 Gleyed RegoDark BrownChernozem Very coarsetextured fluvialeolian Imperfectly 5MT H L L L 2030 712 03 HOUCHER HCHgl Gleyed 23 Gleyed RegoDark BrownChernozem Very coarsetextured fluvialeolian Imperfectly 5MT H L L L 30 203 01 HOUCHER HCHgl Gleyed 3 Gleyed RegoDark BrownChernozem Very coarsetextured fluvialeolian Imperfectly 6MT H L L L 30 443 02 HALKIRK HKR 23 Dark BrownSolodizedSolonetz Moderately finetextured till Moderatelywell 4MD L', 'TABLE 522 WETLANDS TRADITIONAL ECOLOGICAL KNOWLEDGE RECORDED FOR THE PROJECT IssueConcern Locations Proposed Mitigation MeasuresResponse1 Request for postconstruction site visits with Aboriginal communities Project Footprint The EPPs Volumes 6B 6C and 6D provide mitigation plans developed in response to issues identified during Project planning stakeholder consultation Aboriginal engagement and regulatory discussions Aboriginal Monitors onsite through the construction of commissioning of the of the Project will work with environmental inspector to provide traditional knowledge to the construction program to ensure protection of the environment to discuss upcoming traditional and western science elements with the environmental inspector to insure protection and monitoring and to monitor mitigation success in protecting the environment Trans Mountain will continue to engage Aboriginal communities through all phases of the Project Potential loss of wetland habitat')\n"
          ],
          "name": "stdout"
        },
        {
          "output_type": "stream",
          "text": [
            "\r218it [05:45,  1.77s/it]"
          ],
          "name": "stderr"
        },
        {
          "output_type": "stream",
          "text": [
            "('Table 32 Comparison of Number of Watercourses Separated According to HSI Classifications with Key Indicator Species Habitat classification Number of watercourses with Atlantic salmon Total number of watercourses surveyed in HSI classification for Atlantic Salmon Number of watercourses with brook trout Total number of watercourses surveyed in HSI classification for Brook Trout Preferable 3 11 40 57 Suitable 2 90 63 105 Marginal 2 93 12 63 Classifications are based on those outlined in Maki Petays et al 2002 ', 'Table 527 Adults Who Hunted or Fished in Yellowknife Hay River and Enterprise Location 1993 1998 2002 Northwest Territories 18 42 41 NWT Aboriginal communities1 42 48 51 Yellowknife 8 40 39 Hay River 10 41 30 Enterprise NOTES data not available 1 All study area communities in the Northwest Territories except Inuvik Norman Wells Fort Simpson Yellowknife Hay River and Enterprise Percentage of population aged 15 years and older SOURCE GNWT Bureau of Statistics 1999 2002b ', 'TABLE 712 CUMULATIVE PERMAFROST DEGRADATION IN THE LSA Area of LSA Kyklo Creek Section Timberwolf Section Cranberry Section Total Existing Permafrost Degradation Area of LSA 29897 ha 50531 ha 32811 ha 113239 ha Amount of Sporadic Discontinuous Permafrost in LSA 1495 ha 2527 ha 0 4022 ha Amount of Permafrost Degradation in LSA Attributed to Existing Activities Existing 1 1126 ha 1746 ha 0 2872 ha Estimated Future Permafrost Degradation Amount of Permafrost Degradation Attributed to the Project 46 ha 51 ha 0 97 ha Amount of Permafrost Degradation in LSA Attributed to Known Future Developments Likely Future 1 11 ha 32 ha 0 43 ha Predicted Cumulative Permafrost Degradation TotalCumulative Permafrost Degradation ExistingProjectLikely Future 1597 ha 2288 ha 0 3885 ha Contribution of Project to Cumulative Permafrost', 'Table 31 Consultation Activities with Regulatory and Government Agencies Stakeholder Agency or Stakeholder Agency or Group Name Contact Name and Title Method of Engagement Date Reason for Engagement Items Discussed Issues Concerns Followup Required Where Addressed in ESA Fisheries and Oceans Canada Stephanie Jerred Environmental Assessment Analyst Meeting June 13 2011 Watercrossing methodology and upcoming supplemental field studies DNNGTL met with Fisheries and Oceans Canada DFO in Edmonton to discuss NGTLs preferred water crossing methodologies and decision making process DFO agreed with NGTLs rationale and decision making process FO requested that during the spring supplemental studies NGTL consider alternative methods to sample for Arctic grayling DFO would provide NGTL with some recommended sampling measures to incorporate into the supplemental aquatics field study GTL stated that it would adhere')\n"
          ],
          "name": "stdout"
        },
        {
          "output_type": "stream",
          "text": [
            "\r219it [05:47,  1.70s/it]"
          ],
          "name": "stderr"
        },
        {
          "output_type": "stream",
          "text": [
            "('TABLE 3 NOXIOUS WEEDS OBSERVED ALONG THE BEAR CANYON SECTION OF THE NGTL 2017 SYSTEM EXPANSION TABLE 3 NOXIOUS WEEDS OBSERVED ALONG THE BEAR CANYON SECTION OF THE NGTL 2017 SYSTEM EXPANSION Note 1 All KP locations are approximate TABLE 4 SUMMARY OF WATERCOURSE CROSSINGS ALONG THE BEAR CANYON SECTION OF THE 2017 NGTL SYSTEM EXPANSION TABLE 3 NOXIOUS WEEDS OBSERVED ALONG THE BEAR CANYON SECTION OF THE NGTL 2017 SYSTEM EXPANSION Note 1 All KP locations are approximate TABLE 4 SUMMARY OF WATERCOURSE CROSSINGS ALONG THE BEAR CANYON SECTION OF THE 2017 NGTL SYSTEM EXPANSION Vegetation Unique ID KP1 Species Scientific Name Rank UTM Coordinates Legal Location Abundance and Distribution Mitigation TABLE 3 NOXIOUS WEEDS OBSERVED ALONG THE BEAR CANYON SECTION OF THE NGTL 2017 SYSTEM EXPANSION', 'Table 35 InSitu Water Quality for small watercourses in the lower Saint John River Watershed Watercourse ID Stream Order Temperature C Conductivity Scm DO mgL pH Turbidity NTU NB68302 1 166 150 72 42 12 NB68400 1 201 1260 76 70 17 NB68401 1 155 770 96 56 33 NB68402 1 154 1040 89 69 14 NB68900 1 123 5550 95 69 48 NB69300 1 174 180 92 51 10 NB31200 2 165 510 62 71 35 NB37800 2 158 220 22 44 07 NB39300 2 188 6620 81 76 06 NB39500 2 131 190 94 57 41 NB45400 2 149 1140 26 63 21 NB63200 2 165 150 75 47 13 NB63400 2 186 560 03 50 101 NB63700 2 208 900 68 64 110 NB64200 2', 'Table 526 Mitigation for Potential Effects on Soil and Soil Productivity Potential Effect Project Component Key Mitigationa Potential Effect Project Component Key Mitigationa 1 Decreased soil productivity due to loss of organic topsoil or mixing of topsoil strippings with subsoil during Project activities All Project components Strippings Salvage Salvage topsoilstrippings as indicated on the EAS Environmental Figures andor other Projectspecific environmental documents and in accordance with the typical drawings Snow and topsoilstrippings will be salvaged and stockpiled separately Strippings Storage Ensure grade material does not spread off the construction footprint Following salvage of the topsoilstrippings if warranted stabilize topsoilstrippings windrows and stockpiles where the potential for erosion exists Refer to the Soil Erosion Contingency Plan for additional information Appendix 1E of the Projectspecific EPPsTrench Instability Minimize the amount', 'Table 13 Mitigation Measures Associated with Renewable Resource Use Activities Section 43 Renewable Resource Use Activities What Effects with the Project have on Renewable Resource Use Activities Table 21 Mitigation Measures Associated with Transportation Infrastructure Section 462 What Effects will the Project have on Transportation Infrastructure Appendix 7B Socioeconomic Assessment Issues Community Issue Identified1 Source Where Addressed in Socioeconomic Assessment Comments DFTN2 Access Decreased access to Footprint DTFN TLU Report1 Table 13 Mitigation Measures Associated with Renewable Resource Use Activities Section 43 Renewable Resource Use Activities What Effects will the Project have on Renewable Resource Use Activities This issue is cross referenced with the assessment of the following components in the ESA Section 626 Fish and Fish Habitat Section 629 Wildlife and Wildlife Habitat Section 6213 and Appendix')\n"
          ],
          "name": "stdout"
        },
        {
          "output_type": "stream",
          "text": [
            "\r220it [05:48,  1.68s/it]"
          ],
          "name": "stderr"
        },
        {
          "output_type": "stream",
          "text": [
            "('TABLE 72108 ECOLOGICAL CONTEXT SUMMARY FOR BIRD INDICATORS Indicator Ecological Context Olivesided flycatcher The olivesided flycatcher is Threatened under Schedule 1 of SARA and by COSEWIC COSEWIC 2013 Environment Canada 2013c is Bluelisted in BC and has a Conservation Framework Priority rating of 2 BC CDC 2013 and is listed as May Be at Risk in Alberta ASRD 2011b There are approximately 450000 breeding olivesided flycatchers within Canada COSEWIC 2007b Nationally observations of olivesided flycatcher have been declining at an average annual rate of 322 Environment Canada 2013h Observations of olivesided flycatchers have been declining in Alberta but it is not clear if this represents a decline in populations BCs population appears to be declining at an average annual rate of 323 Environment Canada 2013h Olivesided flycatchers are', 'Table 41 Initial Offset Value Calculation Restoration Unit Description Incremental Project Disturbance ha Inherent Effect Delivery Risk Multiplier Spatial Risk Multiplier Temporal Risk Multiplier Residual Effect ha Habitat Restoration Measure ROW Alignment Incremental Project Disturbance ha Inherent Effect Delivery Risk Multiplier Spatial Risk Multiplier Temporal Risk Multiplier Residual Effect ha Incremental Direct Disturbance Upland Seedling planting Parallel 418 02 125 1 12 28 Upland Seedling planting New 0 1 125 1 12 00 Upland Access management1 Newcorridor level 13 1 16 1 1 05 Lowland Seedling planting Parallel 239 02 125 1 28 34 Lowland Seedling planting New 1 1 125 1 28 07 Operational access 12 m ditchline Natural regeneration Parallel 294 02 na na na 59 Operational access 12 m ditchline Natural regeneration New 09 1', 'Table 8AII2 Soil Chemical and Physical Properties for Samples Analysed for the Keystone Parallel Segment Site SeriesAbbreviation SampledHorizons SampledDepthcm pH1 EC1dSm SAR Saturation CA210 MAB Bm 1030 64 042 03 44 CA210 MAB CcaCk 30185 80 355 13 46 CA214 MAB Btnj 1027 66 057 03 43 CA214 MAB CcaCk 27130 81 050 10 44 CA217 HUK Bnt 1040 76 122 100 38 CA217 HUK CcaCk 40200 89 158 131 61 CA226 MAB Cca 30100 81 139 11 36 CA226 MAB Bm 1230 66 042 03 34 CA228 MAB Bm 933 68 048 02 38 CA228 MAB CcaCk 33200 86 064 30 43 CA234 MAB Bm 935 66 035 02 44 CA234 MAB BC 3580 70 032 05 33 CA234 MAB CkCca 80155 78 300 18 45 CA235', 'Table 71 Construction and Operations Spending and Related Economic Effects Total Canada Alberta British Columbia Total Canada Alberta British Columbia Construction Project spending billions 554 158 396 Gross domestic product billions 628 185 346 Employment personyears 62694 15150 35444 Government revenues billions 091 035 045 Annual Operations Project spending millions 1919 776 948 Gross domestic product millions 2030 783 936 Employment personyears 1146 379 561 Government revenues millions 856 227 463 NOTES All monetary figures are in 4Q 2009 Canadian dollars ')\n"
          ],
          "name": "stdout"
        },
        {
          "output_type": "stream",
          "text": [
            "\r221it [05:50,  1.64s/it]"
          ],
          "name": "stderr"
        },
        {
          "output_type": "stream",
          "text": [
            "('Table 72 Primary and Secondary Highways Traversed by the Vantage Pipeline HIGHWAY NUMBER LOCATION AVERAGE ANNUAL DAILY TRAFFIC NUMBER OF RESIDENCES WITHIN 15 KM 1 SE 201223 W3M 4520 0 2 NW 11730 W2M 680 2 4 NW 1913W3M 180 8 4 in Cadillac 6 NE 27420 W2M 360 1 13 NE 10912 W3M 550 near Ponteix 2 13 NW 9728 W2M 570 east of Assiniboia 2 13 NE 32627 W2M 370 near Hwy 36 2 18 SW 30218 W2M 160 2 19 NE 1088 W3M 290 1 21 NE 101426 W3M 540 1 34 NE 11524 W2M 260 5 37 SW 17918 W3M 1140 3 58 NE 2275 W3M 200 4 321 NE 311929 W3M 590 1', 'Table 21 Ambient Atmospheric Environment Objectives Criteria Air Contaminant Averaging Period AAAQOAAAQG agm3 NO2 1hour 300 NO2 Annual 45 CO 1hour 15000 CO 8hour 6000 PM25 1hour 80 PM25 24hour 30 NOTES a Alberta Ambient Air Quality Objectives and Guidelines AEP 2017 gm3 micrograms per cubic metre ', 'TABLE H1 Summary of Wetland Health Ratings IV SemipermanentPond slightlybrackish W432 HealthywithProblems70 IV SemipermanentPond slightlybrackish W433 Unhealthy48 IV PermanentPond moderatelybrackish W434 Unhealthy48 IV SemipermanentPond slightlybrackish W435 Unhealthy30 IV SemipermanentPond slightlybrackish RW437 Healthy81 IV SemipermanentPond slightlybrackish W439 Unhealthy58 IV SemipermanentPond slightlybrackish W441 Unhealthy515 IV SemipermanentPond fresh W450 HealthywithProblems77 IV SemipermanentPond slightlybrackish W456 HealthywithProblems65 IV SemipermanentPond fresh W458 Unhealthy18 IV SemipermanentPond slightlybrackish W459 Unhealthy39 IV SemipermanentPond slightlybrackish W463 Unhealthy58 IV SemipermanentPond slightlybrackish W469 Unhealthy455 IV SemipermanentPond slightlybrackish W472 Unhealthy30 IV SemipermanentPond slightlybrackish W484 Unhealthy385 IV SemipermanentPond slightlybrackish W486 Unhealthy455 IV SemipermanentPond NotAssessed W498 Notassessedforhealth IV SemipermanentPond NotAssessed W513 Unhealthy IV SemipermanentPond slightlybrackish W516 HealthywithProblems64 IV SemipermanentPond slightlybrackish W517 Unhealthy455 IV SemipermanentPond slightlybrackish W518 Unhealthy455 IV SemipermanentPond slightlybrackish W523 Unhealthy30 IV SemipermanentPond slightlybrackish W525 HealthywithProblems625 ', 'Table C2 Chemical and Physical Properties of Sampled Soil S Soil Series Site ID Horizon Number Sample Depth Texture Sand Silt Clay pH 12 SoilCaCl2 pH Saturated Paste EC dSm SAR Saturation Calcium mgL Magnesium mgL Sodium mgL Potassium mgL HMLgl BCN0192 2 1845 444 465 013 2 68 HMLgl BCN0193 3 45250 741 76 33 1 120 ZGW BCN0221 1 015 557 583 013 22 53 ZGW BCN0221DUP 1 015 547 579 019 12 57 ZGW BCN0222 2 1570 592 617 0094 24 84 ZGW BCN0223 3 70250 74 759 28 077 120 HML BCN0251 1 019 525 572 054 042 73 HML BCN0252 2 1927 478 517 036 12 38 HML BCN0253 3 2765 478 505 014 22 67 HML BCN0254 4 65250 742 758 28')\n"
          ],
          "name": "stdout"
        },
        {
          "output_type": "stream",
          "text": [
            "\r222it [05:52,  1.87s/it]"
          ],
          "name": "stderr"
        },
        {
          "output_type": "stream",
          "text": [
            "('Table 10C9 Baseline Water Quality Conditions for Metal Parameters in the Central Interior Hydrological Zone Parameter Units Peace River Basin Fraser River Basin Nechako River Subbasin Parameter Units Crooked River Unnamed Davie Lake Tributary Muskeg River Tintagel Creek Parameter Units Crossing 677 Crossing 679 Crossing 720 Crossing 985 Parameter Units AMEC Water Quality Baseline AMEC Water Quality Baseline AMEC Water Quality Baseline AMEC Water Quality Baseline Parameter Units 01Oct05 01Oct05 01Oct05 02Oct05 Parameter Units n Result n Result n Result n Result Total Metals contd Phosphorus P gL ppb 1 50 1 50 1 50 1 50 Selenium Se gL ppb 1 08 1 08 1 08 1 08 Silicon Si gL ppb 1 3980 1 4120 1 3090 1 3230 Silver Ag gL ppb 1 02 1', 'Table 71 ResourceSpecific Mitigation ActivityConcern Mitigation Measures Wildlife contd 8 No construction or cleanup activities are to occur during the migratory bird nesting period between May 1 and July 31 unless the area is clearedbrushed prior to May 1 or conduct a predisturbance migratory bird survey with agreement from Environment Canada 9 Project personnel are not permitted to hunt or fish on the work site 10 Do not harass or feed wildlife Do not permit construction personnel to have dogs on the rightofway Firearms are not permitted in project vehicles on the rightofway or at associated Project facilities In addition prohibit the recreational use of allterrain vehicles ATVs or snowmobiles by construction personnel on the rightofway Report any incidents with nuisance wildlife or collisions with wildlife to Alberta', 'Table 4A3 Attributes Used to Describe Scale of Negative Effects for the Project Attribute Description Scales Used to Quantify Attributes Scale Score Extent The areas directly and indirectly affected effects are within the PDA 1 Extent The areas directly and indirectly affected effects are beyond the PDA but within the PEAA 3 Extent effects are beyond the PEAA 5 Duration Period that residual effects persist Inwater activity period is 1 to 6 weeks 1 Duration Period that residual effects persist Inwater activity period is 6 weeks to 6 months 2 Duration Period that residual effects persist Inwater activity period is 6 months 3 Duration Period that residual effects persist Permanent alteration of habitat habitat alteration 4 Duration Permanent loss of habitat habitat loss 5 Intensity Expected change from', 'Table 41 Species of Management Concern Known or Likely to Occur within the Local Study Area Species Scientific Name Conservation Statusa Habitat Requirementsc Likelihood of Occurrence within the LSAd Species Scientific Name COSEWIC SARA BC Statusb Habitat Requirementsc Likelihood of Occurrence within the LSAd Amphibians Western toad Anaxyrus boreas Special Concern 2012 Schedule 1 Special Concern 2005 Blue Wetlands breeding upland forestterrestrial environments foragingoverwintering Confirmed Birds American bittern Botaurus lentiginosus Blue Wetlands with tall emergent vegetation Low Baltimore oriole Icterus galbula Blue Riparian areas and forest edges mature to old deciduous forest Medium Bank swallow Riparia riparia Threatened 2013 Yellow Stream or river banks road cuts quarries or other steep sandy or silty faces Confirmed Barn swallow Hirundo rustica Threatened 2011 Blue Agricultural areas floodplains meadows open anthropogenic')\n"
          ],
          "name": "stdout"
        },
        {
          "output_type": "stream",
          "text": [
            "\r223it [05:54,  1.72s/it]"
          ],
          "name": "stderr"
        },
        {
          "output_type": "stream",
          "text": [
            "('Table 33 Watercourse Crossings Inventory iver RedJacketOCHAPOWACE1UVIR 7160 Pipeline LANDS9Moosomin TerminalNO iver RedJacketOCHAPOWACE1UVIR 7160 hCreekWatercourse Crossing Stationg9Tank TerminalConversion Pipeline8UVNew PipelinePipeline Realignments Around Existing TransCanada FacilitiesAboriginal 1235110740137NAD 1983 UTM Zone 14N Pipeline LANDS9Moosomin TerminalNO iver RedJacketOCHAPOWACE1UVIR 7160 hCreekWatercourse Crossing Stationg9Tank TerminalConversion Pipeline8UVNew PipelinePipeline Realignments Around Existing TransCanada FacilitiesAboriginal 1235110740137NAD 1983 UTM Zone 14N Pipeline LANDS9Moosomin TerminalNO iver iver ', 'Table 762 Commercial Communal Licences Issued by DFO Maritimes Region for Indigenous Communities within the Deep Panuke Development Area Indigenous Group Species Fished Licence Area Description Bolded text indicates licences overlapping Deep Panuke Development area ST MARYS FIRST NATION Herring HFA 17 18 19 20 21 22 Swordfish NAFO 3L 3M 3N 3O 3PS 4VN 4VS 4W 4X 5ZE TOBIQUE FIRST NATION Herring HFA 17 18 19 20 21 22 WAGMATCOOK FIRST NATION Groundfish Unspecified NAFO 4VN 4VS 4W 4X 5Y 5ZE Swordfish NAFO 3L 3M 3N 3O 3PS 4VN 4VS 4W 4X 5ZE WAYCOBAH WEKOQMAQ FIRST NATION Snow Crab CFA 23 24 Groundfish Unspecified NAFO 4VN 4VS 4W 4X 5Y 5ZE Herring HFA 17 18 19 20 21 22 Swordfish NAFO 3L 3M 3N 3O 3PS 4VN', 'Table 84 Recommended Mitigation for Wildlife and Wildlife Habitat Potential Effect Effect Pathway Key Mitigation Measures Change in mortality risk Ground disturbance and vegetation clearing could result in physical destruction of key habitat features eg nests dens hibernacula Vehicle and equipment movement and ground disturbance resulting in accidental mortality of small lessmobile species or individuals eg small rodents amphibians juvenile birds Wildlife vehicle collisions during construction and operation Entrapment ie within the excavation Problem wildlife Confine physical works and workspace to the previously disturbed RoW Physical activities should occur outside of the migratory bird breeding period If physical activities are planned within the migratory bird primary nesting period May 1 August 10 Zone B5 see Breeding Bird and Nest Management Plan preconstruction nest surveys should be completed A', 'Table 76 Agricultural Capability Pump Station PDAs Province Pump Station ID Pump Station Name Dominant Soil Series Dominant Agricultural Capability Class and Limitations1 Manitoba EEPS21 Portage La Prairie Almassippi 3M Manitoba EEPS22 Cartier Osborne 3W Manitoba EEPS23 Ile des Chenes Red River 2W Manitoba EEPS24 Spruce Woodridge 6P Manitoba EEPS25 Falcon Lake Lonesand 4M Manitoba Cromer Newdale 2T NOTES 1 Subclass limitations include M moisture deficiency T topography C climate W excess water and X more than 2 combined limitations ')\n"
          ],
          "name": "stdout"
        },
        {
          "output_type": "stream",
          "text": [
            "\r224it [05:55,  1.67s/it]"
          ],
          "name": "stderr"
        },
        {
          "output_type": "stream",
          "text": [
            "('Table 71 Potential Effects Pathways and Measurable Parameters for Wildlife and Wildlife Habitat Potential Effect Effect Pathways Measurable Parameters and Units ofMeasurement Change in habitatincluding criticalhabitat andresidences forspecies at risk Direct loss or alteration ofhabitat from vegetationremoval and loss or alteration ofhabitat effectiveness throughsensory disturbance Amount ha of land cover classesdirectly disturbed by the ProjectHabitat loss because of reducedhabitat effectiveness eg sensorydisturbance is addressed qualitativelyAmount of habitat ha for species atrisk directly disturbed or altered by theProject including designated speciesat risk critical habitat if presentNumber of habitat features for speciesof management concern egwestern toad breeding wetlandsobserved within the PDA orrecommended setback includingspecies at risk residences if present Change inmovement Alteration or blockage of wildlifemovement due to physicalbarriers sensory disturbance orvegetation removal ie gaps inforested habitat Effect on change', 'Table 119 Residual Effects on Marine Wildlife and Wildlife Habitat Canaport Energy East Marine Terminal Complex Project Phase Mitigation Residual Effects Characteristics Significance Confidence Prediction Significant Effects1Likelihood of Monitoring and Followup Project Phase Mitigation Direction Magnitude Extent Geographic Duration Frequency Reversibility Context Socioeconomic Ecological and Significance Confidence Prediction Significant Effects1Likelihood of Monitoring and Followup Change in Health Construction See Section 114 N M LAA S MI R H N H NA See Section 117 Operation See Section 114 N L LAA M MI R H N H NA See Section 117 Decommissioning and abandonment2 NOTES 1 Likelihood is characterized only if there is a significant residual effect2 Decommissioning and abandonment see Volume 14 Section 8 for assessment of residual effects ', 'Table B1 Soil Horizon Data from Soil Inspection Sites within the LSA September and October 2015 Site No Horizon Horizon Depth Moisture Colour Structure Consistence Texture Coarse Fragments Salts Carbonates Mottles Sampled WWJJ15050 LFH 9 0 WWJJ15050 Ah 0 10 M 25Y 33 WFGR Very Friable SL Yes WWJJ15050 Ofb 10 12 M WWJJ15050 Bfj 12 34 M 10YR 34 Very Friable SiL Yes WWJJ15050 IIBm 34 50 M 10YR 54 Loose S 10 WWJJ15050 IIBC 50 100 D 10YR 43 Loose 10 WWJJ15051 LFH 7 0 WWJJ15051 Ah 0 4 M 25Y 33 Friable SiL WWJJ15051 Ohb 4 9 M WWJJ15051 Bfj 9 14 M 75YR 44 Friable SiL WWJJ15051 Bm1 14 20 M 10YR 44 Friable WWJJ15051 Omb 20 30 M WWJJ15051 Bm2 30 55 M', 'TABLE 621 SUMMARY OF ENVIRONMENTAL ELEMENTS AND CONSIDERATIONS FOR THE WESTRIDGE MARINE TERMINAL Environmental and SocioEconomic Elements Summary of Considerations Marine Fish and Fish Habitat contd Three Rockfish Conservation Areas RCAs overlap with the Marine RSA including Indian Arm Crocker Island RCA Indian Arm Twin Islands RCA and Eastern Burrard Inlet RCA The Marine Fish and Fish Habitat LSA overlaps with the Eastern Burrard Inlet RCA Dungeness crabs are common in Burrard Inlet and are expected to occur within the Marine Fish and Fish Habitat LSA and Marine RSA throughout the year DFO 2012 Jamieson and Levesque 2012ab Several areas in eastern Burrard Inlet have been identified as DFO Important Areas for Dungeness crab one of which overlaps with the Marine Fish and Fish Habitat LSA Jamieson and')\n"
          ],
          "name": "stdout"
        },
        {
          "output_type": "stream",
          "text": [
            "\r225it [05:57,  1.62s/it]"
          ],
          "name": "stderr"
        },
        {
          "output_type": "stream",
          "text": [
            "('TABLE 61517 CHRISTINA RIVER DENE NATION COUNCIL TLRU SITES IDENTIFIED IN THE LITERATURE REVIEW FOR THE PROPOSED CHRISTINA RIVER SECTION Site Description Distance and Direction to Nearest KP Hunting Sites Kettle River The closest point on the Kettle River is 35 km northeast of KP 10 SE 31805 W4M Christina Crossing 40 km northeast of KP 10 NE 6843 W4M Janvier 3 km northeast of KP 140 SE 4805 W4M Christina River The Christina River is crossed at KP 106 NW 25796 W4M Cowper Lake 131 km northeast of KP 196 NW 30793 W4M Winefred Lake 315 km south of KP 196 NE 9764 W4M Kirby Lake 407 km northeast of KP 196 NE 7755 W4M Trapping Sites Kettle River The closest point on the Kettle River is', 'Table 510 Significance of Effects on Wildlife Habitat Availability Valued Component Phase When Impact Occurs Effect Attribute Significant Valued Component Phase When Impact Occurs Direction Maximum Magnitude Maximum Geographic Extent Maximum Duration Significant Polar bear6 Construction Adverse Low11 Local Long term No Polar bear6 Operations Adverse Low12 Local Long term No Polar bear6 Decommissioning Adverse Low11 Local Medium term No NOTES NA not applicable because no effect has been predicted 1 Moderatemagnitude effects are related to sensory disturbance related to infrastructure and increased access for hunters 2 Moderatemagnitude effects are related to sensory disturbance and increased predator and human access These are longterm effects 3 Farfuture duration is related to vegetation changes that require time to recover after decommissioning These are lowmagnitude effects 4 Farfuture effects are related', 'Table 799 Fish Species Captured or Observed at Site RPR099 Unnamed Stream 2002 Species Number Captured or Observed Fork Length Species Spring Summer Fall Number Measured Range mm Arctic grayling 0 1 J 0 1 155a Northern pike 2 J 4 F 1 J 1 J 8 63185 Longnose sucker 0 1 J 0 1 128a Slimy sculpin 0 1 0 1 92a NOTES A adult F fry J juvenile a Because only one fish was measured its fork length is recorded and no range is given ', 'Table 833 Cumulative Assessment of Valued Ecosystem Components with Moderate to High Magnitude Local Effects Activity Effect Mitigation and Compensation Measures Measurable Parameter Direction Magnitude Geographic Extent Duration Significance Community Diversity Construction Loss of community diversity through clearing Select pipeline route to limit the amount of native vegetation patches intersected by the RoW Site facilities outside of native vegetation areas Use trenchless techniques or reduce rightofway requiremenst in permanent riparian and wetland areas with high ecological value Construct in fall or winter in temporary and seasonal riparian and wetland areas of high ecological value Narrow RoW and store topsoil and subsoil outside of community to limit area affected Limit construction traffic to that required to install the pipe Rare Ecological Communities Negative Moderate RSA Farfuture Not Significant')\n"
          ],
          "name": "stdout"
        },
        {
          "output_type": "stream",
          "text": [
            "\r226it [05:58,  1.54s/it]"
          ],
          "name": "stderr"
        },
        {
          "output_type": "stream",
          "text": [
            "('Table 32 Consultation Activities with Federal and Provincial Authorities on the Northwest Mainline Komie North Extension Project Stakeholder Group Agency Name Name and Title of Contact Method of Engagement Date of Consultation Activity Proposed Pipeline Section Reason for Engagement Items Discussed IssuesConcerns Commitments Followup Actions Where Issue Addressed in ESA Provincial Consultation contd Alberta Sustainable Resource Development Byron Schram Fish and Wildlife Officer Telephone Call May 16 2011 Chinchaga Request for socioeconomic information concerning land use Discussed land and resource use relating to the Chinchaga Section Identified that there are no outfitters in the RSA Information has been incorporated into the ESA Section 13 BC Ministry of ForestsLands and Natural Resource Operations Nick Baccante BC MFLNRO Email June 09 2011 All Sections Candice CookOhryn TERA sent an email', 'TABLE 301 CONSULTATION INFORMATION LOCATION Consultation Information Application Location Pipeline and Facilities Public Consultation Volume 3A Section 31 of Volume 5A Aboriginal Engagement Volume 3B Section 32 of Volume 5A Landowner Relations Volume 3C Section 33 of Volume 5A Marine Transportation Public Consultation Volume 3A Section 31 of Volume 8A Aboriginal Engagement Volume 3B Section 32 of Volume 8A', 'Table 52013 Major Employers in the Socioeconomic Local Study Area ', 'Table 82 Potential Effects on Soil Capability Associated with the Project Project Activities and Physical Works Potential Environmental Effects Project Activities and Physical Works Soil Loss Change in SoilQuality Construction and Commissioning Pipeline construction clearing topsoil stripping gradingtrenching watercourse crossings stringing pipe weldinglowering in backfilling hydrostatic testing mainline valveinstallation cleanup and final reclamation 2 2 Hardisty B Terminal and pump stations constructionclearing topsoil stripping grading road constructionpiling infrastructure commissioning cleanup and interimreclamation 2 2')\n"
          ],
          "name": "stdout"
        },
        {
          "output_type": "stream",
          "text": [
            "\r227it [05:59,  1.43s/it]"
          ],
          "name": "stderr"
        },
        {
          "output_type": "stream",
          "text": [
            "('Table 873 Characterization of the Residual Effect on Vegetation Diversity from Introduction of Nonnative Weed Species Project Activity and Physical Works Direction Additional MitigationCompensation Measures1 Residual Environmental Effect Project Activity and Physical Works Direction Additional MitigationCompensation Measures1 Magnitude Extent Geographic Frequency Duration Reversibility Significance Potential Measurable Contribution to Regional Cumulative Environmental Effects Decommissioning Site restoration infrastructure removal site rehabilitation and reclamation Road removal recontouring and reclamation Adverse Using certified weedfree seed on reclamation sites Obtaining seed analysis certificates which should indicate weed species content Revegetating disturbed areas immediately in areas not designated for natural recovery Discouraging fertilizer use in areas designated for native vegetation reclamation Low Local Long term Sporadic Reversible Not significant No Mitigation 1 Refer to Sections 83 and 8453 Followup and Monitoring See Section 85', 'Table 6132 Predicted Residual Project Effects Description and Importance for Traditional Land and Resource Use Key Indicator Predicted Residual Effect Effects Assessment Criteria Importance Key Indicator Predicted Residual Effect Direction Magnitude Geographic Extent Temporal Context Probability of Occurrence Importance Key Indicator Predicted Residual Effect Direction Magnitude Geographic Extent Duration Frequency Probability of Occurrence Importance', 'Table 5B8 Husky Oil Operations Ltd Tanks No 472 and 473 Maximum volumetric emission rate as a function of wind speed at 15C and 101325 kPa STP 10 m Wind Speed m s1 Net Emission Rate m3 h1 at STP 10 3916 15 4701 20 5619 25 6614 30 7657 35 8731 40 9825 45 10933 50 12051 55 13178 60 14310 65 15447 70 16587 200 44288', 'Table 534 Provincially Rare Vegetation Communities Identified in the Terrestrial Regional Study Area Vegetation Community Ecological Land Classification ELC Codea Provincial RarityRankb ')\n"
          ],
          "name": "stdout"
        },
        {
          "output_type": "stream",
          "text": [
            "\r228it [06:00,  1.39s/it]"
          ],
          "name": "stderr"
        },
        {
          "output_type": "stream",
          "text": [
            "('Table 279 Significance of Air Quality Effects for Operations at the Little Chicago Compressor Station Key Indicator Phase When Impact Occurs Effect Attribute Significant Key Indicator Phase When Impact Occurs Direction Magnitude Geographic Extent Duration Significant 1hour sulphur dioxide SO2 Operations Adverse Low Local Long term No 24hour SO2 Operations Adverse Low Local Long term No Annual SO2 Operations Adverse Low Local Long term No 1hour nitrogen dioxide NO2 Operations Adverse Moderate Local Long term No 24hour NO2 Operations Adverse Moderate Local Long term No Annual NO2 Operations Adverse Moderate Local Long term No 1hour carbon monoxide CO Operations Adverse Low Local Long term No 8hour CO Operations Adverse Low Local Long term No 24hour fine particulate matter PM25 Operations Adverse Moderate Local Long term No 1hour benzene', 'Table 3B1 Vessel Speed versus Wave Period Wavelength and Wave Height Vessel Speed knots Secondary Wave Period s Wave Length m Wave Height at Distance from Tug m Vessel Speed knots Secondary Wave Period s Wave Length m 10 m 100 m 500 m 1000 m 1500 m 16 43 292 043 020 012 009 008 14 38 223 025 012 007 005 005 12 32 164 014 006 004 003 003 10 27 114 007 003 002 001 001 8 22 73 003 001 001 001 001', 'Table 728 Existing Background Air Quality within the Air Emissions Local Study Area Contaminant Averaging Period Background Air Concentrations gm3a Contaminant Averaging Period Compressor Station CS 134Bowmanville CS 136Cobourg CS 139Belleville CS 142Kingston CS 144Brockville ', 'Table 10A2 Watercourse Crossings SiteNumber Watercourse Name Date ofAssessment WatercourseType1 StreamClass2 Fish Species HabitatRating ChannelWidthm WettedWidthm Depthat 50m 4 Ribstone Creek 58090265645126085231 072808 Perennial D FTMN BRSTSHRD WHSCNRPK LKCH Marginal 97 56 054 8 Loyalist Creek 57576997395251088289 050908 Perennial C BRST Marginal 64 26 029 9 Monitor Creek 57570332995252885278 092408 Intermittent C NA Marginal 58 075 015 27 Sounding Creek 57144260475314985138 050908 Perennial C FTMN Important 210 146 106 43 Red Deer River 56366594405386349095 073008 Perennial C BKTR BLTRBNTR BKSTBURB CTTREMSH FLCHGOLD LKCHLKWH LNDCLNSC MNSCMNWHMOON NRPKQUIL RNTRRVSH SAUGSHRD SPSHTRPR WALLWHSC YLPR Important 200 185 058')\n"
          ],
          "name": "stdout"
        },
        {
          "output_type": "stream",
          "text": [
            "\r229it [06:02,  1.51s/it]"
          ],
          "name": "stderr"
        },
        {
          "output_type": "stream",
          "text": [
            "('Table E1 Soil Inspection Sites New Pipeline RoW Site Site Type1 Subgroup2 Soil Unit Variant3 Parent Material3 UTM Zone Easting Northing Surface Expression Surface Stoniness Class Slope Slope Position Slope Class Topsoil Depth cm Drainage EEPAKF13154 TS Medium glacial till 12 530682 5738062 Hummocky Non stony 001 9 Mid 9 15 18 EEPAKF13155 TS Coarse glaciofluvial 12 530749 5738177 Rolling Moderately stony 013 16 Mid 15 30 14 EEPAKF13156 TS Coarse glaciofluvial 12 530785 5738433 Rolling Non stony 001 8 Mid 9 15 16 EEPAKF13157 TS Moderately coarse glaciofluvial 12 530745 5738696 Rolling Non stony 001 3 Lower 15 30 25 EEPAKF13158 TS Moderately fine glacial till 12 530742 5738955 Undulating Non stony 001 2 Lower 05 20 18 EEPAKF13159 TS Moderately fine glacial till 12 530546 5739135', 'TABLE A38 CONSULTATION ACTIVITIES WITH LANDOWNERS IssuesConcerns Mitigation Where Issue is Addressed in the ESAEPP Landowner is concerned about the development of the acreage parcel with the pipeline being installed All stakeholder requests are evaluated before the final pipeline route is chosen Paralleling the mainline corridor is preferred if it minimizes disturbance areas Landowner has issues with the dig from two years ago not being completed LEGACY Enbridge invites landowners to continue to communicate and work with their respective land representatives to resolve any outstanding issues NA Safety Landowners have safety concerns and requested that the rightofway be fenced during construction Enbridge will consider fencing areas near populated areas or areas with high livestock traffic to ensure safety standards are upheld NA Landowner requested opportunities for safety and', 'Table 84 Soil Management Considerations for Soil Units for the Project Alberta Soil Unit Soil UnitAbbreviation PhaseDescription WindErosionRisk CompactionRiskTopsoil CompactionRiskSubsoil OtherConsiderations RecommendedSoil HandlingMethods LinearExtentm Extent HELMSDALE HMSsc Salinesubsoil Medium Medium Medium Salinity 2 Lift 450 02 HUGHENDEN HND Low Low Medium 2 Lift2 Lift2 Lift 34640 131 HUGHENDEN HNDer Eroded Low Low Medium 2 Lift2 Lift2 Lift 168 01 HUGHENDEN HNDsc Salinesubsoil Low Low Medium Salinity 2 Lift2 Lift2 Lift 1098 04 HUGHENDEN HNDsc Salinesubsoil Low Low Medium Salinity 3 Lift 5506 21 HUGHENDEN HNDys Sand 100200 cm Low Low Medium 2 Lift 371 01 HEMARUKA HUK Medium Medium Medium 2 Lift2 Lift 6448 24 HEMARUKA HUKer Eroded Medium Medium Medium 2 Lift2 Lift 1995 08 HEMARUKA HUKer Eroded Medium Medium Medium No strip 515 02 ISLANDS INS', 'Table 37 Residual Effects of Pump Station Construction Facility Receptor ID Noise Contribution from Facility Construction dBA MNL Criteria dB Ldn1 Compliance with MNL Criteria YesNo2 Magnitude Classification Facility Receptor ID Daytime Ld Nighttime Ln DayNight Average Ldn MNL Criteria dB Ldn1 Compliance with MNL Criteria YesNo2 Magnitude Classification SI5 351 0 331 47 Yes Low SI6 347 0 327 47 Yes Low SI7 333 0 313 47 Yes Low SI8 346 0 326 47 Yes Low SI9 373 0 353 47 Yes Low SI10 410 0 390 47 Yes Low NOTES 1 Criteria inferred from EPA 1974 document as recommended by Health Canada for mitigation noise level MNL 2 Compliance with MNL criteria is determined by comparing the predicted daynight equivalent sound level with the MNL criteria')\n"
          ],
          "name": "stdout"
        },
        {
          "output_type": "stream",
          "text": [
            "\r230it [06:04,  1.58s/it]"
          ],
          "name": "stderr"
        },
        {
          "output_type": "stream",
          "text": [
            "('Table 620 Potential Wetlands Issues Recommended Mitigation and Predicted Residual Effects of Pipeline Construction and Operation Key Indicator Project Activity Potential Issue Recommended Mitigation Predicted Residual Effect Construction and operations Potential alteration of peatland wetland hydrological and water quality functions Minimize compaction and rutting potential and protect ground surface and lowlying vegetation in wetlands through the following measures Schedule construction operational and maintenance activities during frozen ground conditions only Restrict grading in wetlands and adjacent vegetation buffers to the extent practical Conduct ground level cuttingmowingmulching of wetland vegetation instead of grubbing wherever possible Method of removal of wetland vegetation is subject to approval by NGTL Prevent ground disturbance by using a protective layer such as frost packing snow ice or matting between wetland rootseedbed and construction equipment Leave', 'Table A3 Circumstances Triggering the Need for Detailed Biophysical and SocioEconomic Information 1 Describe plans to ensure compliance with biophysical and socioeconomic commitments Section 80 2 Evaluate the need to monitor the elements potentially affected by the Project and if needed describe the environmental monitoring plan to be implemented during construction reclamation and operation of the Project Section 80 3 Where a project triggers the CEA Act evaluate the need for elementspecific followup programs to verify the accuracy of the ESA and to determine the effectiveness of any mitigation measures that were implemented particularly those mitigation measures that are new or unproven Section 80', 'Table 4C1 Surface Water Chemistry Data at Watercourse Crossings New Brunswick Segment Sample ID NB70501 NB70700 NB70701 NB70900 NB70901 NB71000 Date Sampled 20150609 20140724 20150609 20140721 20140813 20140722 Parameter Units Sodium gL 1030 1050 1580 1840 1840 1470 Potassium gL 100 738 337 337 433 192 Calcium gL 1970 3580 4100 3930 7630 2870 Magnesium gL 414 755 564 467 805 429 Alkalinity mgL 5 5 13 12 23 8 Chloride mgL 2 2 1 1 1 2 Sulfate mgL 2 2 2 2 2 2 Reactive silica mgL 55 58 92 93 98 98 Orthophosphate P mgL 001 002 001 002 001 001 NitrateNitrite mgL 005 005 008 006 015 005 Ammonia Nitrogen mgL 032 028 014 022 013 021 Colour TCU 240 350 10 63 16', 'Table 271 Proposed Construction and Operation Schedule Project PhaseActivity Proposed Schedule Project PhaseActivity Proposed Schedule Engineering Design and Environmental Planning Project Construction Inservice Operation and Maintenance Decommissioning Abandonment and Reclamation ')\n"
          ],
          "name": "stdout"
        },
        {
          "output_type": "stream",
          "text": [
            "\r231it [06:05,  1.56s/it]"
          ],
          "name": "stderr"
        },
        {
          "output_type": "stream",
          "text": [
            "('TABLE 421 BRITISH COLUMBIA LISTEDWETLANDS WITH THE POTENTIAL TO BE ENCOUNTERED Pipeline Loop Biogeoclimatic Zone Wetland Type Ecological Community BC Status2 Provincial Ranking3 Global Ranking4 Conservation Framework Priority5 Distribution6 Hargreaves to Darfield ICHmm Ws western redcedarskunk cabbagepeatmosses Thuja plicataLysichiton americanusSphagnum spp RedS2GNR 3 Hargreaves to Darfield ICHmm Wb black sprucelodgepole pinekalmiaspeatmosses Picea marianaPinus contortaKalmia sppSphagnum spp BlueS3GNR 3 Hargreaves to Darfield SBSdh1 Ws05 MacCallas willowbeaked sedge Salix maccallianaCarex utriculata BlueS3G3 3 Incidental 5 of wetlands Hargreaves to Darfield SBSdh1 Wb05 black sprucewater sedgepeatmosses Picea marianaCarex aquatilisSphagnum spp YellowS3S4GNR 3 Major 25 of wetlands Hargreaves to Darfield ICHwk1 Wm01 beaked sedge water sedge Carex utriculataCarex aquatilis YellowS4G4 4 Major 25 of wetlands Hargreaves to Darfield ICHwk1 Wm06 hardstemmed bulrush Deep Marsh Schoenoplectus acutus Deep Marsh BlueS3G5 4 Incidental 5', 'Table 10110 Northern Interior Grizzly Spring Forage Habitat South Taiga Plains Ecological Zone Habitat Value Local Study Area Habitat Value Habitat Area ha Habitat Very high 5073 8 High 25686 39 Moderate 19542 30 Low 5474 8 Very low 2910 4 None 2733 4 No data 4492 7', 'Table 913 Change in Habitat Availability for the Baseline Application Case and Planned Development Case in the RAA Baseline Case Application Case Planned Development Case Amount of Habitat Available Amount of Habitat Available Change from Baseline Case to Application Case Amount of Habitat Available Change from Baseline Case to Planned Development Case Land Cover Class1 Area ha RAA Area ha RAA Area Change ha Change in Cover Type Area ha RAA Area Change ha Change in Cover Type Forest Mature Overmature Hardwood 32227 81 31943 80 284 09 31932 80 295 09 Forest Mature Overmature Mixedwood 20278 51 20244 51 34 02 20241 51 37 02 Forest Mature Overmature Softwood 53971 135 53527 134 444 08 53523 134 448 08 Forest Regeneration Sapling Hardwood 23522 59 23218 58', 'Table 6152 Predicted Residual Project Effects Description and Importance for Traditional Land and Resource Use Key Indicator Predicted Residual Effect Direction Magnitude Geographic Extent Temporal Context Probability of Occurrence Importance Key Indicator Predicted Residual Effect Direction Magnitude Geographic Extent Duration Reversibility Frequency Probability of Occurrence Importance ROpportunities for Traditional Hunting and Trapping educed availability of wildlife species and changes in access for hunting and trapping in the TLU LSA Negative Low Local Short to Longterm Infrequent to Continuous Probable Negligible to Low ROpportunities for Traditional Fish Harvesting educed availability of fish species for traditional fishing in the TLU LSA Negative Low Local Short to Mediumterm Infrequent Possible Negligible to Low ROpportunities for Traditional Plant Harvesting educed availability of terrestrial and wetland vegetation and changes in access for traditional')\n"
          ],
          "name": "stdout"
        },
        {
          "output_type": "stream",
          "text": [
            "\r232it [06:08,  1.80s/it]"
          ],
          "name": "stderr"
        },
        {
          "output_type": "stream",
          "text": [
            "('Table 10A1 Baseline Hydrological Parameters at Water Survey of Canada Stations WSC Station No WSC Station Name Drainage Area km2 Mean Monthly Discharge m3s Mean Seasonal Discharge m3s Mean Annual Discharge m3s Seasonal MarOct Total Runoff mm Annual Total Runoff mm 7Q10 Drought Discharges m3s Peak Discharges for Return Period Flood Event m3s WSC Station No WSC Station Name Drainage Area km2 Jan Feb Mar Apr May Jun Jul Aug Sep Oct Nov Dec Mean Seasonal Discharge m3s Mean Annual Discharge m3s Seasonal MarOct Total Runoff mm Annual Total Runoff mm YearRound Seasonal MarOct 100 Year 50 Year 10 Year 5 Year 2 Year Rocky Mountains Hydrological Zone contd 07FB006 Murray River above Wolverine 2370 121 103 114 312 138 183 100 509 457 452 309 164 758', 'Table 13DD1 Release Reporting Guidelines Chemical Class as identified by the Transportation of Dangerous Goods Act Example Provincial Reporting Requirements Chemical Class as identified by the Transportation of Dangerous Goods Act Example British Columbia Alberta Class 8 Corrosives Acids Bases Batteries Caustics Amines 5 kg 5 kg or 5 L container capacity Class 91 Miscellaneous Dangerous Goods PCBs Asbestos Polystryene beads 50 kg 50 kg container capacity Class 92 Miscellaneous Hazards To The Environment Gas plant filters Benzoic acid Chromic acetate Cupric sulphate 1 kg 1 kg container capacity Class 93 Dangerous Wastes Leachable toxic waste 5 kg 5 kg or 5 L container capacity Additional Unclassified Goods Waste lube oil 100L Additional Unclassified Goods Waste containing a pest control product 5 kg Additional Unclassified Goods Any substance', 'Table 95 Habitat Availability for the PDA and LAA Project Components Area ha1 by Class of Wildlife Habitat Project Components Water Urban2 Agricultural Herbaceous shrubby Wetland Wooded or Forested Other Project Components Water Urban2 Agricultural Herbaceous shrubby Wetland Deciduous Mixed Coniferous Other New Pipeline PDA3 414 2737 14172 1297 4270 6027 8506 3940 1194 LAA4 19046 74699 415415 25541 155608 247244 289929 132035 38954 Pump Stations5 Lachute 92 24 72 03 Mascouche 72 27 Maskinong 01 98 TroisRivires 07 28 56 04 32 Donnacona 70 28 Lvis 05 57 93 LIslet 16 83 SaintOnsime 99 Picard 54 44 Dgelis 95 03 Total 08 261 177 134 497 54 32', 'Table 52013 Major Employers in the Socioeconomic Local Study Area ')\n"
          ],
          "name": "stdout"
        },
        {
          "output_type": "stream",
          "text": [
            "\r233it [06:09,  1.67s/it]"
          ],
          "name": "stderr"
        },
        {
          "output_type": "stream",
          "text": [
            "('Table 5111 Location of Project Effects Assessment Information for Species at Risk Information Requirement Location Information Requirement Location Species at risk and their conservation designations A list of species at risk with potential to interact with each Project component and species conservation designations is provided in Table 5104 Section 5102 Species at risk observations during the August 2018 wildlife fieldwork are summarized in Section 51025 A summary of the conservation context for each species at risk including available recovery strategies action plans and management plans is provided in Table 5106 Section 51026 Potential habitat including critical habitat designated under SARA that could be affected by the Project Critical habitat designated under SARA that could be affected by the Projectis described in Section 51022 Woodland caribou Red Earth and', 'TABLE 37 ASSUMED PHYSICAL CHARACTERISTICS OF THE PEOPLE POTENTIALLY AT RISK Physical Characteristics Life Stage Physical Characteristics Infant Toddler Child Teen Adult Body weight kg 82 165 329 597 707 Inhalation rate mday 22 83 145 156 166 Soil ingestion rate gday 002 008 002 002 002 Water ingestion rate Lday 03 06 08 10 15 Surface area cm Hands Arms Legs Total body 320 550 910 3620 430 890 1690 6130 590 1480 3070 10140 800 2230 4970 15470 890 2500 5720 17640 Soil adherence factor gcmday Hands Surfaces other than hands 00001 000001 00001 000001 00001 000001 00001 000001 00001 000001', 'Table E1 Soil Inspection Sites New Pipeline RoW Site Site Type1 Subgroup Soil Unit Abbreviation Variant2 Parent Material UTM Zone Easting Northing Surface Expression Surface Stoniness Class Slope Slope Position Slope Class Topsoil Depth cm Drainage EEPOT0335 TS Medium glacial till 18 514734 4992509 Undulating Moderately stony 013 3 Lower 25 30 EEPOT0336 TS Medium glacial till 18 514862 4992551 Undulating Moderately stony 013 3 Toe 25 30 EEPOT0339 TS Moderately coarse glaciofluvial 18 515233 4992668 Rolling Moderately stony 013 6 Upper 5 9 15 EEPOT0341 TS Medium glacial till 18 515503 4992742 Undulating Very stony 3 15 4 Mid 25 30 EEPOT0342 TS Medium glaciolacustrine 18 515623 4992786 Level Moderately stony 013 1 Toe 05 20 30 EEPOT0344 TS Medium glaciolacustrine 18 515887 4992861 Level Moderately stony', 'Table 149 Potential Cumulative Effects on Navigable Waters Other Projects and Physical Activities with Potential for Cumulative Environmental Effects Potential Cumulative Environmental Effects Other Projects and Physical Activities with Potential for Cumulative Environmental Effects Navigable Waters Past and Present Physical Activities and Resource Use Existing Agricultural operations residential developments and commercial developments Existing forestry operations for companies such as LouisianaPacific Canada Ltd Chetwynd Mechanical Pulp Sawchuck Contracting West Fraser Mills and Canadian Forest Products Existing well sites and small facilities such as gathering points test facilities seismic lines and sales meters Multiple Oil and Gas Facilities for such companies as Canadian Natural Resources Limited Crew Energy Inc Talisman Energy Shell Terra Energy Tourmaline Oil Corp and Arc Resources Ltd Future and existing Highways resource roads and access roads')\n"
          ],
          "name": "stdout"
        },
        {
          "output_type": "stream",
          "text": [
            "\r234it [06:11,  1.67s/it]"
          ],
          "name": "stderr"
        },
        {
          "output_type": "stream",
          "text": [
            "('Table 1214 Mitigation Considered in the Assessment Human Occupancy and Resource Use Effect Type General Mitigation Change intrapping andguideoutfitting General Trappers guides and outfitters will be kept informed so they can plan activitiesaround the construction scheduleNGTL has begun stakeholder engagement with trappers and guide outfittersoperating near the ProjectMitigation measures identified in Sections 7 through 9 will prevent or reduceeffects of project construction on fish and wildlife species and their habitatIf construction directly disrupts trapping activities to result in an economicloss affected trappers will be compensated in accordance with the BCRegistered Trapper and Petroleum Industry Agreement on Notification andCompensation BC OGC 2007 Change intrapping andguideoutfitting Forconstructionpersonnel Prohibit project personnel from hunting or fishing on the work siteDo not harass or feed wildlifeGeneral construction personnel will be prohibited fromhaving dogs', 'Table A141 Resource Specific Mitigation Measures Resource Feature Map Code FromRoWm UTMNorthing UTMEasting UTMZone KP AlignSheet Timing Windows Setbacks Restrictions Existing HumanActivity or Featureswithin Setback Mitigation Measures Followup Comments Palaeontology contd Historical PaleontologicalResource Fossil site044 NA 5620382 561144 12U Radius of 50m NA Fossil site044Avoid site by specified distance Historical PaleontologicalResource Fossil site047 NA 5715950 531735 12U Radius of 50m NA Fossil site047Avoid site by specified distance Historical PaleontologicalResource Fossil site048 NA 5716093 531736 12U Radius of 50m NA Fossil site048Avoid site by specified distance Historical PaleontologicalResource Fossil site049 NA 5716189 531623 12U Radius of 50m NA Fossil site049Avoid site by specified distance Historical PaleontologicalResource Fossil site050 NA 5716318 531690 12U Radius of 50m NA Fossil site050Avoid site by specified distance Historical PaleontologicalResource Fossil site051 NA 5714818 531884', 'TABLE 8815 SIGNIFICANCE EVALUATION OF THE PROJECTS CONTRIBUTION TO CUMULATIVE EFFECTS ON FISH AND FISH HABITAT Projects Contribution to Potential Cumulative Effects Criteria Rating Effects Characterization and Significance Determination Rationale a Projects contribution to cumulative increase in riparian habitat disturbance Context In general cumulative levels of disturbance have the potential to reduce riparian habitat resilience over time The nature and extent of this effect will depend upon the inherent sensitivity and resilience of the riparian area the nature and timing of the disturbances and efforts to promote recovery of riparian habitat For example riparian areas with high inherent resilience will likely recover more rapidly from multiple disturbances than areas with low resilience a Projects contribution to cumulative increase in riparian habitat disturbance Impact balance Negative The Project could', 'Table 2B11 Predicted SO2 Results at the Sensitive Receptors for the Application Case Receptor Maximum Predicted GroundLevel Concentration1gm3 Receptor SO2 Receptor 1 hour of Guideline 24 hour of Guideline Annual of Guideline 18 144 3 67 4 49 16 19 146 3 67 4 49 16 20 158 4 69 5 49 16 21 138 3 66 4 49 16 22 146 3 67 4 49 16 23 145 3 67 4 49 16 NOTES 1Includes background concentrations ')\n"
          ],
          "name": "stdout"
        },
        {
          "output_type": "stream",
          "text": [
            "\r235it [06:13,  1.68s/it]"
          ],
          "name": "stderr"
        },
        {
          "output_type": "stream",
          "text": [
            "('TABLE 62 POTENTIAL BIOPHYSICAL AND SOCIOECONOMIC EFFECTS MITIGATIVE MEASURES AND RESIDUAL EFFECTS OF PIPELINE AND CONSTRUCTION AND OPERATION Biophysical or SocioEconomic ElementPotential Effect Location Project Boundary Measures EPP Reference1 Potential Residual Effects 62 Instream habitat loss and alteration contd Same as above Same as above Use an inert nontoxic bentonitic claybased material as drilling mud for trenchless crossings Monitor to assess the immediate effects of crossing construction at trenched crossings Also monitor sediment release ie turbidity and total suspended solids throughout the crossing construction period if required If monitoring reveals sediment values are approaching thresholds values the Environmental Monitors will alter the Environmental Inspectors and work with them to develop corrective actions If corrective actions are not successful construction will be temporarily suspended until effective solutions are identified', 'Table 878 Area of Vegetation Classes where Sulphur Dioxide Emissions Exceed 20 gm3 in the REAA Vegetation Class Area in REAA at Baseline Base Case Project Case Application Case Vegetation Class Area in REAA at Baseline Area Affected by 20 gm3 Vegetation Class Affected Area affected by 20 gm3 Vegetation Class Affected Area Affected by 20 gm3 Vegetation Class Affected Vegetation Class Area in REAA at Baseline ha ha ha Western hemlock 55091 335 1 22 1 396 1 Hemlock Fir 58584 193 1 8 1 236 1 Shrub 443068 332 1 4 1 367 1 Mixed Conifer 572979 108 1 3 1 124 1 Herbaceous 92085 98 1 3 1 116 1 Lodgepole Pine 157586 24 1 0 0 29 1 Broadleaf Deciduous 246931 100 1 0', 'Table 5142 Population of Communities in the Regional Study Area 1 2001 2006 EstevanSaskatchewan 11297 11135 14 OxbowSaskatchewan 1132 1139 06 RedversSaskatchewan 878 917 43 VirdenManitoba 3109 3010 32 485 426 122 415 396 46 478 430 100 409 365 108 416 352 154 383 312 185 582 506 131 1567 1419 94', 'Table 34 Wetlands PDA and LSA Saskatchewan Conversion Class V permanently flooded Permanent open water zone dominates the deepest part of the wetland Peripheral Deep marsh shallow marsh wet meadow and lowprairie zones usually present 3 16 3 52 Class VI alkali Intermittentalkali zone dominates deepest part of wetland Peripheral shallow marsh wet meadow and lowprairie zones usually present Class VII fen Fen zones dominated the deepest part of the wetland area Total Pump Stations and Permanent Access Roads 11 144 11 493 Pipeline Realignments Around Existing TransCanada Facilities Wetland Class1 PDA LSA Wetland Class1 Description No of Pipeline Realignments Area ha No of Pipeline Realignments Area ha Class I ephemerally flooded Low prairie zone dominates the deepest part of wetland 1 01 1 01 Class II temporarily')\n"
          ],
          "name": "stdout"
        },
        {
          "output_type": "stream",
          "text": [
            "\r236it [06:14,  1.57s/it]"
          ],
          "name": "stderr"
        },
        {
          "output_type": "stream",
          "text": [
            "('Table 69 Recommended Mitigation and Other Measures for Employment and Economy Issue Areas Project Mitigation and Other Management Measure Intended Results Employment and Income Develop Project labour agreements for construction work respecting provincial labour laws and established practices for labour training and supply Work with provincial authorities contractors trade unions educational institutions Aboriginal communities and potentially other developers to create a training program to help meet the Projects need for skilled labour Prioritize the hiring of local construction workers first subject to labour availability cost and quality considerations followed by workers from within the province then from the rest of Canada then North America and then overseas countries Supplement the local labour force with mobile workers when needed to avoid displacing currently employed individuals in the LAA Use', 'Table 510 Equipment Sound Power Levels for Sumas and Westridge Marine Terminals Site Preparation Name Quantity Sound Power Level dBA Data Source 1 Articulated Truck 4 108 M Bulldozer 2 114 M Excavators 2 113 M Sterling Vacuum Truck 2 119 M Generator diesel 20 kW 7 107 Man Loader 2 112 M Compactor 2 115 M Water Truck 1 113 M Skid Steer 1 101 M', 'TABLE 7431 POTENTIAL EFFECTS MITIGATION MEASURES AND RESIDUAL EFFECTS OF PROJECT ACTIVITIES AT PUMP STATION FACILITIES ON WATER QUALITY AND QUANTITY Potential Effect Pump Station Facility Spatial Boundary1 Key Measures EPP Reference2 Potential Residual Effects 11 Contamination of surface water due to accidental release of hazardous materials during power line construction contd See above LSA Isolate and hold any water that contacts uncured or partly cured concrete until the pH is between 65 and 80 and the turbidity is less than 25 NTU measured to an accuracy of 2 NTU Section 112 See additional mitigation measures in Section 112 of the Facilities EPP See above 12 Suspended sediment in water column Black Pines Power line Kingsvale Power line LSA Install erosion and sediment control structures and materials eg', 'Table 913 Residual Effects on Vegetation and Wetlands Residual Effect Residual Effects Characterization Residual Effect Direction Magnitude Geographic Extent Duration Frequency Reversibility Ecological and Socioeconomic Context Change in Abundance of Plant Communities of Interest Chetwynd Loop Construction A LM PDA LT S R to I D Operation A L PDA LT IR R D Aitken Creek Loop Construction A LM PDA LT S R to I D Operation A L PDA LT IR R D Combined Project Effect Construction A LM PDA LT S R to I D Operation A L PDA LT IR R D Change in Wetland Functions Chetwynd Loop Construction A L PDALAA STLT S P D Operation A L PDALAA LT IR R D Aitken Creek Loop Construction A L PDALAA STLT S P')\n"
          ],
          "name": "stdout"
        },
        {
          "output_type": "stream",
          "text": [
            "\r237it [06:15,  1.49s/it]"
          ],
          "name": "stderr"
        },
        {
          "output_type": "stream",
          "text": [
            "('TABLE 37 ESTIMATED MUNICIPAL TAXES Pipeline Loop Estimated Municipal Taxes annual Kyklo Creek Section NRRM 840000 Timberwolf Section Mackenzie County 720000 County of Northern Lights 120000 Cranberry Section Clear Hills County 495000', 'TABLE 6 DESKTOP REVIEW AND ENVIRONMENTAL SETTINGS FOR PERMANENT FACILITIES WHERE PROJECT ACTIVITIES ARE PROPOSED Facility Desktop Summary Wetlands Milden Station Milden Station is located in the PCG Wetlands subdivision of the Continental Prairie Wetland Region NRC 1986 For details on the PCGWetlands subdivision see information provided for Saskatchewan in Section 3112 One Class III wetland is located within 30 m of the existing station boundaries and adjacent to the east boundary at SW 52910 W3M The work at Milden Station will be conducted on previously disturbed land within the existing station boundaries and in an expansion area on newly acquired land on the north side of the station The newly acquired land is cultivated and therefore the expansion is not anticipated to cause disturbance to wetlands Milden', 'Table 42 Songbird Species Detected during Breeding Bird Surveys Species Scientific Name Number of Individuals Detected by Habitat Type Species Scientific Name Coniferous Forest Broadleaf Forest Mixedwood Forest Shrubland Wetland Redbreasted nuthatch Sitta canadensis 5 1 Brown creeper Certhia americana 1 Goldencrowned kinglet Regulus satrapa 5 Rubycrowned kinglet Regulus calendula 10 1 Swainsons thrush Catharus ustulatus 13 2 3 1 American robin Turdus migratorius 11 1 Varied thrush Ixoreus naevius 13 1 1 Ovenbird Seiurus aurocapilla 1 Tennessee warbler Oreothlypis peregrina 1 1 2 2 Orangecrowned warbler Oreothlypis celata 1 Common yellowthroat Geothlypis trichas 1 American redstart Setophaga ruticilla 1 Cape May warbler Setophaga tigrina 1 Yellow warbler Setophaga petechia 1 Yellowrumped warbler Setophaga coronata 30 1 6 2 Chipping sparrow Spizella passerina 5 1 Claycolored sparrow Spizella', 'TABLE 71 PATHWAY OF EFFECTS FOR PIPELINE CONSTRUCTION AND OPERATION Potential Effect Pipeline Segment Spatial Boundary1 Key Measures Section Where Mitigation Located in the Pipeline EPP of Volume 6B2 11 Potential loss or alteration of instream andor riparian habitat from pipeline construction contd Hargreaves to Darfield Black Pines to Hope Hope to Burnaby Burnaby to Westridge LSA Ensure that test water withdrawn from one drainage basin is not allowed to enter natural waters of another drainage basin Further restrictions will be implemented where whirling disease is present Ensure that pigs and other testing equipment are properly loaded in the pipe to allow the test water to be discharged at the intended location Section 85 of the EPP Do not exceed the provincial or federal water quality limits CCME')\n"
          ],
          "name": "stdout"
        },
        {
          "output_type": "stream",
          "text": [
            "\r238it [06:17,  1.56s/it]"
          ],
          "name": "stderr"
        },
        {
          "output_type": "stream",
          "text": [
            "('Table 52 Measurable Parameters and Key Indicators Traditional Land and Resource Use Environmental Effect Key Indicators Measurable Parameters Data Sources Rationale for Selection Temporary or permanent loss of trails or travelways or their use including navigation Trails and travelways use thereof Trails and travelways and associated access TLRU Studies Project Aboriginal Engagement activities Literature Review Heritage Resources Assessment The use of trails and travelways depends on continued availability and access In addition to TLRU studies the Heritage Resources Assessment may provide information regarding trails and travelways Temporary or permanent loss of trails or travelways or their use including navigation Trails and travelways use thereof Appropriate environmental conditions for use of trails and travelways TLRU Studies Project Aboriginal Engagement activities Literature Review Atmospheric Environment Assessment Acoustic Environment Assessment Employment', 'Table D14 Analytical Results of Soils Sampled During the 2010 Surveys INSPECTION POINT SOIL SERIES HORIZON DEPTH OF HORIZON PH EC dsm SAR SATURATION CATION EXCHANGE CAPACITY TEXTURE ORGANIC MATTER 202 FXCxgxt Bmk 1030 734 0328 028 710 219 202 FXCxgxt BCkCk 3075 731 233 018 707 silt clay loamsilt 207 AMA Bm 1351 642 0295 023 540 165 207 AMA BCCk 51100 715 0305 055 493 loam 217 AMAgr Bm 1027 688 0339 032 560 215 217 AMAgr BCkCkgj 27120 724 0431 042 487 clay loam 220 AMAxg Bm 828 673 0563 020 520 196 220 AMAxg BCkCk 28100 763 0545 035 500 clay loam 234 HWAca Bm 1025 714 0516 023 496 211 234 HWAca BCkCk 2560 744 0349 036 464 clay loam 241 AMC Bmk', 'Table 6B1 Workforce Distribution by Employment Sectors by North American Industry Classification System NAICS by MRCs MRC Force Total Labour All industries hunting forestry fishing Agriculture extraction oil gas quarrying and Mining Utilities Construction Manufacturing Retail trade Wholesale and and warehousing Transportation industries cultural Information insurance Finance rental leasing Real estate services technical scientific Professional enterprises companies Management of services remediation mgmt support waste Administrative services Educational social assistance Health care recreation entertainment Arts food services Accommodation Other services administration Public La NouvelleBeauce 20165 19980 1625 25 85 1675 4225 2600 805 325 780 95 880 0 495 905 2040 190 935 1165 1125 Bellechasse 19030 18920 1760 75 50 1440 4050 2765 685 110 1140 195 505 0 515 895 1870 210 695 1225 725 Montmagny 11265', 'Table 53 Effects Classification Criteria TLRU Criteria Criteria Definitions Direction The expected longterm trend of the effects Positive The Project activity will have a positive effect on TLRU compared to baseline conditions Direction The expected longterm trend of the effects Negative Effect on TLRU is negative compared to baseline conditions Direction The expected longterm trend of the effects Neutral No effect compared to baseline conditions Magnitude The expected change in a measurable parameter or variable relative to baseline case NA Not applicable due to the subjective nature of effects on TLRU Geographic Extent The geographic area within which an effect of a defined magnitude is expected to occurs PDA Effect is limited to the PDA ie construction RoW and footprints associated with constructing the pipeline access roads and')\n"
          ],
          "name": "stdout"
        },
        {
          "output_type": "stream",
          "text": [
            "\r239it [06:19,  1.61s/it]"
          ],
          "name": "stderr"
        },
        {
          "output_type": "stream",
          "text": [
            "('Table 977 Change in Movement for Birds and Mammals Prediction Confidence Key Indicator Group Prediction Confidence Key Indicator Group Baseline Data Availability and Quality Effects Assessment Methods Mitigation Measures Birds M H H Mammals M M LM NOTES L Low level of confidence M Moderate level of confidence H High level of confidence ', 'Table A6 Summary of Estimated Average Peak and Minimum Evaporation Losses by Month Ta Tank Typea Month Product Fill Rate m3h Turnovers Vapour Recovery Product Losses or Emissions kg Emission Rate kgh Tank Typea Month Product Fill Rate m3h per month Applied Control Efficiency Standing Working Rim Withdrawal Deck Fitting Total Avg Peak Min 30 EFR Jan HHT 43280 64 No 0 00 00 240 1827 661 2728 0367 6269 0121 30 EFR Feb HHT 43280 64 No 0 00 00 245 1827 659 2731 0406 6275 0134 30 EFR Mar HHT 43280 64 No 0 00 00 260 1827 683 2771 0372 6367 0127 30 EFR Apr HHT 43280 64 No 0 00 00 349 1827 962 3138 0436 7211 0182 30 EFR May HHT 43280 64', 'Table 34 Archaeological Site Assessment Alberta 2014 Site Number Site Type Heritage Resource Value Location Relative to Project SiteSpecific Recommendations FdOtJL29 Precontact stone feature historic scatter and trail Moderate Inside PDA Avoidance or mitigation FdOt42 Artifact scatter Low Inside PDA No further concerns FdOtJL32 Artifact scatter Moderate Inside PDA Avoidance or mitigation FdOtJL35 Isolated find Low Inside PDA No further concerns FaOqJL37 Isolated find Low Inside PDA No further concerns FaOqJL36 Historic refuse piles Moderate Inside PDA Avoidance or mitigation ElOpJL41 Historic farmstead Moderate Outside PDA Avoidance or mitigation EgOpJL38 Historic farmstead and yard Moderate Inside PDA Avoidance or mitigation EgOp12 Historic refuse pile Moderate Outside PDA Avoidance or mitigation EgOp15 Stone feature High Outside PDA Avoidance or mitigation EgOp16 Stone feature Low Inside PDA No further concerns', 'Table 88 Effects Classification Criteria Social and Cultural WellBeing Criteria Definitions Frequency The number of times that an effect could occur Single event Effect or event occurs once Frequency The number of times that an effect could occur Multiple irregular event Effect occurs sporadically and intermittently throughout assessment period Frequency The number of times that an effect could occur Multiple regular event Effect occurs repeatedly and regularly throughout assessment period Frequency The number of times that an effect could occur Continuous Effect occurs continually over assessment period Reversibility The likelihood that a measurable parameter will recover from an effect Reversible Taking into consideration proposed mitigation and management measures the effect of the Project activity will not result in a permanent adverse change Reversibility The likelihood that a measurable')\n"
          ],
          "name": "stdout"
        },
        {
          "output_type": "stream",
          "text": [
            "\r240it [06:20,  1.56s/it]"
          ],
          "name": "stderr"
        },
        {
          "output_type": "stream",
          "text": [
            "('Table 8AIV3 Soil Inspection Site Locations and Properties for Foothills Parallel Segment Site Subgroup Series Name SeriesAbbreviation Phase ParentMaterial StoninessClass1 SlopePosition SlopeClass2 TopsoilDepthcm Drainage 579 OB Haverhill Hr Till 0 lower 3 17 Well 580 OB Haverhill Hr Morainal Till 1 mid 3 12 Moderately well 581 RB Haverhill Hr zr Morainal Till 1 upper 3 13 Moderately well 582 CAB Haverhill Hr scca Morainal Till 1 level 3 12 Well 583 CAB Haverhill Hr ca Morainal Till 1 upper 4 11 Moderately well 584 OHG Grill Lake Gr Morainal Till 1 depression 3 11 Imperfectly 585 RB Haverhill Hr zr Morainal Till 1 upper 5 12 Well 586 OB Haverhill Hr Morainal Till 1 lower 3 8 Moderately well 587 RB Haverhill Hr zr Morainal Till 1', 'Table 134 Interaction of the Project with Vegetation PROJECT ACTIVITIESPHYSICAL WORKS INTERACTION RATING VEGETATION1 POTENTIALENVIRONMENTAL EFFECTS Valve site construction clearing grading installation of valve blocks access road construction cleanup and final reclamation High Destruction of rare plants or modifications to their critical habitat Loss of vegetation and decline in species diversity Loss or alteration of vegetation communities particularly communities of interest with limited extents Fragmentation of habitat Introduction or spread of seeds of nondesirable species ie noxious weeds and invasive nonnative species Pump station construction clearing grading installation of station access road construction cleanup and final reclamation Low Loss of vegetation and decline in species diversity Destruction of rare plants or modifications to their critical habitat Introduction or spread of seeds of nondesirable species ie noxious weeds and', 'Table 32 Tanker and Tug Characteristics Parameter Vessel Parameter Aframax Suezmax VLCC Tug Ship model Mitera Marigo Miltiadis M II Atlantas Atlantic Bear Construction year 2007 2006 2010 2008 Ship weight dead weight tonne 105495 162397 319300 Not applicable Number of main engines 1 1 1 2 Main engine maximum power per engine kW 12000 21727 29400 2129 Number of auxiliary engines 3 3 4 2 Auxiliary engine power per engine kW 820 1120 1 700 and 3 1280 190 SOURCE Moffat Nichol 2014 ', 'Table 511 Average Percent Cover of Substrate Types in Intertidal Zones Intertidal Zone Boulder Cobble Pebble Sand Mud Metal Debris Low 448 322 70 154 00 06 Mid 504 366 78 52 00 00 High 470 353 86 48 00 03')\n"
          ],
          "name": "stdout"
        },
        {
          "output_type": "stream",
          "text": [
            "\r241it [06:22,  1.54s/it]"
          ],
          "name": "stderr"
        },
        {
          "output_type": "stream",
          "text": [
            "('Table 5E2 Maximum Predicted Groundlevel Benzene Concentrations at Sensitive Receptors Associated with the Baseline Case Receptor ID UTM NAD83 Maximum Predicted Groundlevel Benzene Concentration g m3 Receptor ID mE mN Zone Onehour 24hour Annual 1 482409 5838070 12 1265 0230 0011 2 484618 5837232 12 1924 0403 0009 3 482561 5836775 12 1587 0414 0016 4 480047 5835861 12 1761 0346 0011 5 483476 5835404 12 2531 0587 0014 6 476999 5835023 12 1430 0252 0005 7 486142 5834565 12 0791 0146 0002 8 479133 5834185 12 2205 0296 0011 9 480047 5833499 12 3288 0529 0022 10 482638 5833042 12 4846 0840 0029 11 479057 5832508 12 3528 0483 0013 12 486980 5832051 12 1781 0185 0004 13 484009 5831137 12 2448 0296 0008 14 478219 5830832', 'TABLE 62 POTENTIAL BIOPHYSICAL AND SOCIOECONOMIC EFFECTS MITIGATIVE MEASURES AND RESIDUAL EFFECTS OF PROJECT CONSTRUCTION AND OPERATION Biophysical or Socio Economic ElementPotential Effect Location Project Boundary Measures Residual Effects 104b Sensory disturbance of wildlife during construction and sitespecific maintenance activities PPEntire route rovincially identified caribou low elevation winter range in BC KP 352 to KP 927 rovincially identified Ungulate Winter Range UWR in Alberta associated with Calahoo Creek KP 987 to KP 1021 Wapiti River KP 1132 to KP 1203 and Pinto Creek KP 1345 to KP 1391 Footprint to Local Use multipassenger vehicles to transport workers to the work site to the extent practical No clearing activities are to occur within the migratory bird nesting period between May 1 and July 31 unless the area has been', 'TABLE 1 WILDLIFE FEATURES AND AREAS ENCOUNTERED ALONG THE MCLEOD RIVER SECTION OF THE 2017 NGTL SYSTEM EXPANSION RESOURCE SPECIFIC MITIGATION TABLES AND ENVIRONMENTAL NOTES FOR THE MCLEOD RIVER SECTION Land use and environmental features with corresponding unique identifiers are positioned vertically above their respective locations on the following photomosaic Mitigation measures described here do not include all of the protection measures to be implemented The Environmental Protection Plan EPP in Appendix 1C of the Environmental and SocioEconomic Assessment ESA provides additional protection measures Section references in the following notes refer to locations in the EPP where the additional information can be found EN01 Colour change Strip topsoil to obvious colour change on all lands to a maximum depth of 50 cm and refer to the salvage depth', 'Table 1411 Traditional Gathering Places in the Vicinity of the Project Location Use 155 km south of KP 80 Gathering area 15 km northeast of KP 40approximately700 m south of KP 50 An island in the Peace River potential gathering area')\n"
          ],
          "name": "stdout"
        },
        {
          "output_type": "stream",
          "text": [
            "\r242it [06:23,  1.62s/it]"
          ],
          "name": "stderr"
        },
        {
          "output_type": "stream",
          "text": [
            "('Table 1023 Residual Effects on Wildlife and Wildlife Habitat Residual Effect Residual Effects Characterization Residual Effect Direction Magnitude Geographic Extent Duration Frequency Reversibility Ecological Context Change in Habitat Availability Chetwynd Loop Construction A M LAA LTST S R D Operation A L LAA LTMT MIMR R D Aitken Creek Loop Construction A M LAA LTST S R D Operation A L LAA LTMT MIMR R D CS2 Expansion Construction A L LAA LTST S R D Operation A L LAA LTMT C R D CSN5 Expansion Construction A L LAA LTST S R D Operation A L LAA LTMT C R D Change in Mortality Risk Chetwynd Loop Construction A L LAA ST C R D Operation A L LAA LT C R D', 'Table 2052 Economic Investments in the SocioEconomic Study Area Name Estimated Cost in Thousands Municipality Schedule Stage Developer Roadwork 14469 12800 Grande Cache and Greenview No 16 20172019 Under construction Alberta Transportation Crossfield Waterline Twinning 25500 Crossfield Mountain View County Rocky View County 20182019 Proposed Mountain View Regional Water Services Commission Roadwork 11903 35700 Airdrie Rocky View County 20172018 Under construction Alberta Infrastructure Roadwork 18682 11000 Grande Prairie County No 1 Greenview No 16 20172018 Under construction Alberta Transportation Pipelines Trans Mountain Pipeline Expansion 7400000 Yellowhead County Hinton Improvement District No 12 Jasper Park Jasper Wabamun Lakeview Parkland County Edmonton 20172019 Under construction Kinder Morgan Canada 2017 NGTL System Expansion Project 1300000 Opportunity No 17 Yellowhead County Wood Buffalo 20162018 Complete TransCanada Corporation Tidewater TransAlta Natural Gas Pipeline', 'TABLE 612 POTENTIAL BIOPHYSICAL AND SOCIOECONOMIC EFFECTS MITIGATIVE MEASURES AND RESIDUAL EFFECTS OF TANK INSTALLATION AND OPERATION AT HARDISTY TERMINAL Biophysical or Socio Economic ElementPotential Effect Component Project Boundary Recommendations Mitigative Measures1 EGCEnbridge Manual Reference Residual Effects 11c worker accommodation needs may displace tourists Tanks Local to Region Enbridge or its contractor is to install a temporary construction camp to accommodate Project workers associated with all components of the Alberta Clipper Project in the Hardisty area due to the limited availability of local and regional accommodation Treat sewage and grey water as per municipal and provincial permits Dispose of waste in accordance with municipal and provincial permits as well as the Enbridge Waste Management Plan currently on file with the NEB Obtain approval from the applicable regulatory authority', 'TABLE 8A13 REASONABLY FORESEEABLE OIL AND GAS FACILITY DEVELOPMENTS WITHIN THE TRANS MOUNTAIN EXPANSION PROJECT RSA AND LSA OF VARIOUS ELEMENTS Primary Applicant Development Type Legal Location Soil LSA AquaticsWetland RSA Air Quality RSA Acoustic Environment RSA Vegetation RSA Wildlife Primary Applicant Development Type Legal Location Soil LSA AquaticsWetland RSA Air Quality RSA Acoustic Environment RSA Vegetation RSA RSA RSA Grizzly JOURNEY ENERGY INC Satellite 092504805 W5M JOURNEY ENERGY INC Satellite 110705902 W5M JOURNEY ENERGY INC Satellite 142905902 W5M JOURNEY ENERGY INC Satellite 143004804 W5M JOURNEY ENERGY INC Satellite 143104804 W5M JOURNEY ENERGY INC Satellite 152605903 W5M KEEPER RESOURCES INC Battery 060105512 W5M KEYERA ENERGY LTD Battery 062004505 W5M KEYERA ENERGY LTD Battery 100804505 W5M KEYERA ENERGY LTD Battery 101804505 W5M KEYERA ENERGY LTD Battery 142104606 W5M KEYERA')\n"
          ],
          "name": "stdout"
        },
        {
          "output_type": "stream",
          "text": [
            "\r243it [06:25,  1.70s/it]"
          ],
          "name": "stderr"
        },
        {
          "output_type": "stream",
          "text": [
            "('Table 4A1 Stream Flow Monitoring Stations New Brunswick Station Number Station Name ProvinceState Period of Record Record Length years Drainage Area km2 01BP001 Little Southwest Miramichi River at Lyttleton NB 1951 2010 60 1340 01BP002 Catamaran Brook at Repap Road Bridge NB 1989 2010 22 287 01BQ001 Northwest Miramichi River at Trout Brook NB 1961 2010 50 948 01BS001 Coal Branch River at Beersville NB 1964 2010 47 166 01BU002 Petitcodiac River near Petitcodiac NB 1961 2010 50 391 01BU003 Turtle Creek at Turtle Creek NB 1962 2010 49 129 01BU004 Palmers Creek near Dorchester NB 1966 1985 19 342 01BV004 Black River at Garnet Settlement NB 1960 2010 24 404 01BV006 Point Wolfe River at Fundy National Park NB 1964 2010 47 130 01BV007 Upper Salmon River', 'Table 52013 Major Employers in the Socioeconomic Local Study Area Rank Employer Sector Number of Employees ', 'Table 6201 Summary of Predicted Project Effects and Environmental Significance Valued Component Predicted Residual Effect Effects Assessment Criteria Importance Environmental Significance Valued Component Predicted Residual Effect Direction Magnitude Geographic Extent Duration Reversibility Frequency Probability of Occurrence Importance Environmental Significance', 'TABLE I2 SITESPECIFIC MITIGATION MEASURES FOR WATERCOURSES ENCOUNTERED WITHIN THE PIPELINE CORRIDOR IN BC Crossing ID Number RK Waterbody Name Waterbody Type Legal Location PNG Fish Habitat Sensitivity Provincial and Federal Instream Work Window MOE and DFO Least Risk Biological Window Proposed Pipeline Crossing Method Recommended Vehicle Crossing Method Navigability Status1 Reclamation Type Crossing ID Number RK Waterbody Name Waterbody Type Legal Location PNG Fish Habitat Sensitivity Provincial and Federal Instream Work Window MOE and DFO Least Risk Biological Window Proposed Recommended Contingency Open Water Winter FrozenNonFrozen Navigability Status1 Reclamation Type BC699 10752 Unnamed Drainage NVC a057J092H04 None None Open Opencut Opencut Ford Ford None Standard Procedures and Reclamation Method A BC700 1076 Unnamed Channel S4 c047J092H04 High August 1 to September 15 August 1 to September 15')\n"
          ],
          "name": "stdout"
        },
        {
          "output_type": "stream",
          "text": [
            "\r244it [06:27,  1.63s/it]"
          ],
          "name": "stderr"
        },
        {
          "output_type": "stream",
          "text": [
            "('TABLE 221 SUMMARY OF CONSULTATION ACTIVITIES RELATED TO SOCIOECONOMIC TECHNICAL CONSULTATION Stakeholder Group Agency Name Name and Title of Contact Method of Contact Date of Consultation Activity Consultation OutcomeIssuesInterests Commitments FollowUp ActionsComments Location IssueConcern is Addressed in Application City of Grande Prairie Kim Clayton Administrator Email November 3 2014 Communication attempt to discuss socioeconomic topics related to the Project NA NA Town of Spirit River Dee Deveau CAO Email November 3 2014 Communication attempt to discuss socioeconomic topics related to the Project NA NA Village of Rycroft Cary Merritt CAO Email November 3 2014 Communication attempt to discuss socioeconomic topics related to the Project NA NA Town of Grimshaw Brian Allen CAO Email November 3 2014 Communication attempt to discuss socioeconomic topics related to the Project NA NA', 'Table 62 SARAListed Species Potentially Found in the Project Area Species Province Classification underSARA Schedule 1 Species Alberta Saskatchewan Classification underSARA Schedule 1 Swiftfox12 Endangered Burrowingowl12 Endangered Pipingplover12 Endangered Mountain plover Endangered Greatersagegrouse2 Endangered Goldedged gem Endangered Sage thrasher Endangered Spragues pipit Threatened Loggerhead shrike Threatened Eastern yellowbellied racer Threatened Mormon metalmark Threatened Ferruginoushawk1 Special Concern Yellow rail Special Concern Longbilled curlew Special Concern McCowns longspur Special Concern Great plains toad Special Concern Northernleopardfrog1 Special Concern', 'Table H11 Maximum 1Hour Average Ground Level Concentrations gm3 Following a Hypothetical Spill of Crude Oil BAK near Grand Manan Receptor No Receptor Name Maximum 1Hour Average Ground Level Concentrations gm3 Receptor No Receptor Name Benzene Toluene Ethylbenzene Xylenes Total Aliphatic C1C4 Aliphatic C4C6 Aliphatic C8C16 Aromatic C8C16 Total Reduced Sulphur Compounds 96 Queen Square 51E04 66E02 28E02 12E01 70E01 62E01 67E01 15E01 42E07 97 Community of Eastport 85E05 54E03 23E03 99E03 57E02 50E02 34E01 63E01 39E08 98 Community of Lubec 10E04 62E03 26E03 11E02 66E02 58E02 42E01 19E00 48E08 99 Community of Cutler 35E05 25E03 11E03 46E03 25E02 23E02 16E00 13E01 18E08 100 Community of Machias 82E07 17E04 73E05 31E04 14E03 13E03 43E01 23E02 10E09 101 Community of Jonesport 29E07 56E05 24E05 10E04 47E04 41E04 68E01 64E03', 'Table 153 Effects Classification Criteria TLRU Criteria Criteria Definitions Direction The expected longterm trend of the effects Positive The Project activity will have a positive effect on TLRU compared to baseline conditions Direction The expected longterm trend of the effects Negative Effect on TLRU is negative compared to baseline conditions Direction The expected longterm trend of the effects Neutral No effect compared to baseline conditions Magnitude The expected change in a measurable parameter or variable relative to baseline case NA Not applicable due to the subjective nature of effects on TLRU Geographic Extent The geographic area within which an effect of a defined magnitude is expected to occurs PDA Effect is limited to the PDA ie construction RoW and footprints associated with constructing the pipeline access roads and')\n"
          ],
          "name": "stdout"
        },
        {
          "output_type": "stream",
          "text": [
            "\r245it [06:29,  1.74s/it]"
          ],
          "name": "stderr"
        },
        {
          "output_type": "stream",
          "text": [
            "('TABLE 7192 RESIDUAL EFFECTS CHARACTERIZATION AND SIGNIFICANCEEVALUATION FOR EMPLOYMENT AND ECONOMY Potential Residual Effect Criteria Rating Effects Characterization and Significance Determination Rationale e Reduced revenue for traditional and subsistence economy contd Confidence Moderate to High Confidence is moderate for those Project components in which TLU studies were not completed A Projectspecific TLU study was completed for the McLeod River Section and therefore this proposed pipeline route is considered to have a high confidence rating e Reduced revenue for traditional and subsistence economy contd Significance Not significant The potential residual effect is short to longterm in duration reversible of low magnitude and low in probability and therefore is not significant f Increased revenue for local regional provincial and federal governments Context The Project is located in northern and central', 'Table 35 Transportation Infrastructure in the Gwichin Communities 2001 Transportation Mode Inuvik Fort McPherson Tsiigehtchic Road Road access Allweather road seasonally restricted Allweather road seasonally restricted Allweather road seasonally restricted Average daily traffic No of vehicles 2001 1120 2000 1120 2001 80 2000 80 2001 80 2000 80 Highway Dempster Highway No 8 Dempster Highway No 8 Dempster Highway No 8 Road surface Paved dustcontrolled gravel untreated gravel Paved dustcontrolled gravel untreated gravel Paved dustcontrolled gravel untreated gravel Average opening and closing dates 19972000 winter roads and ice bridges November 28 to April 29 November 13 to May 1 November 13 to May 1 Rail Rail access None None None Water Marine resupply deliveries per week 7 2 1 Ownership of facility T P P T Resupply facility', 'Table 816 Maximum Hazard Quotients for Residential and Subsistence Receptors Exposed to Intertidal Sediments following a Hypothetical Spill of Crude Oil HSB at Location D at Elapsed Times of 4 Weeks and 1 to 2 Years COPC 1 Maximum Hazard Quotient from Exposure to Intertidal Sediments COPC 1 Residential Receptor 2 Subsistence Receptor 2 COPC 1 4 Weeks 1 to 2 Years 4 Weeks 1 to 2 Years Polycyclic Aromatic Hydrocarbons Acenaphthene Anthracene Fluoranthene 16E06 52E07 19E06 63E07 Fluorene 17E06 21E06 Naphthalene Pyrene 33E05 80E06 39E05 96E06 NOTES 1 COPC groupings consistent with toxicological groupings provided in Section 55 Additional details regarding individual parameters and subgroupings are provided in Appendix I Table I15 2 The maximum health risk HQ for both Residential Receptors and Subsistence Receptors is associated', 'Table 6 TLRU Information and Mitigation Mtis Nation of Alberta Region 3 Traditional Land and Resource Use Information Location Relative to Project Development Area Relevant Consolidated ESA Documents Context from the Consolidated ESA Mtis Nation of Alberta Region 3 Mitigation Recommendations4 Consolidated ESAEPP Mitigation Measures Construction During construction mitigation measures include see the Temporary Facilities EPP Pump Station EPP and New Pipeline EPP If historical or palaeontological features eg arrow heads modified bone pottery fragments fossils not previously identified are found on the RoW or facility site during construction follow conditions outlined in the Heritage Resource Discovery Plan see EPP Prohibit the collection of Heritage Resources by Project personnel Do not permit clearing in proximity to known archaeological sites unless otherwise approved by the appropriate regulatory agency Do')\n"
          ],
          "name": "stdout"
        },
        {
          "output_type": "stream",
          "text": [
            "\r246it [06:30,  1.66s/it]"
          ],
          "name": "stderr"
        },
        {
          "output_type": "stream",
          "text": [
            "('Table 11 Status of Traditional Land and Resource Use Study Program Participating Aboriginal Group Traditional Knowledge TK Study Protocol1Agreement Date Method of Study Status of TLRU Study2 Oral Traditional Evidence Qubec Conseil de la Nation HuronneWendat Huron Wendat Nation TK study protocol offered Independent Reporting underway Results review pending completion of TK study protocol agreement NA Grand Conseil de la Nation Waban Aki Abnakis dOdanak Abnakis de Wlinak July 2014 Independent joint study led by Waban Aki Interim report received September 2015 The TLRU results of this study are incorporated and considered in the Woodlands region Binders 1 and 2 NA Les Atikamekw de Manawan October 2014 Stantec facilitated Final report received December 2015 The TLRU results of this study are incorporated and considered in the Woodlands region', 'TABLE 5 WILDLIFE SPECIES OBSERVED IN THE AREA CommonNameScientificName Birds vespersparrow Pooecetesgramineus chestnutcollaredlongspur Calcariusornatus blackbilledmagpie Picapica savannahsparrow Passerculussandwichensis barnswallow Hirundorustica northernharrier Circuscyaneus Americancrow Corvusbrachyrhynchos killdeer Charadruisvociferus Spraguespipit Anthusspragueii redtailedhawk Buteojamaicensis mountainbluebird Sialiacurrucoides Mammals Spermophilusrichardsonii whitetaileddeer Odocoileusvirginianus', 'Table 25 Ambient Air Quality Guideline Values Parameter Northwest Territories Standards1 gm Federal Air Quality Objectives2 Other Criteria gm Parameter Northwest Territories Standards1 gm Desirable gm Acceptablegm Tolerable gm Other Criteria gm Sulphur dioxide SO2 1hour 450 450 900 NA3 NA 24hour 150 150 300 800 NA Annual 30 30 60 NA NA Nitrogen dioxide NO2 1hour NA NA 400 1000 NA 24hour NA NA 200 300 NA Annual NA 60 100 NA NA Carbon monoxide CO 1hour NA 15000 35000 NA NA 8hour NA 6000 15000 20 NA Fine particulate matter PM25 24hour 30 NA NA NA NA Benzene 1hour3NA NA NA NA 30 Toluene 1hour4NA NA NA NA 1880 Ethylbenzene 1hour5NA NA NA NA 4000 Xylene 1hour4NA NA NA NA 2079 NOTES NA not applicable 1', 'TABLE 5523 SEABIRD ISLAND BAND OVERVIEW Band Population Tribal Affiliation Traditional Language Traditional Cultural Practices Economic Development GoalsBusiness Capacity OOTotal 921 n IRs 583 ff IRs 338 Stl Tribal Council Hulquminum Halqemylem hnqminm Medicinal plants Gathering Bandowned businesses and partnerships Seabird Island Gas Bar and Convenience Store Stqoya Construction Ltd Band economic activities gravel processing land leases hazelnut orchard ecotourism forestry ')\n"
          ],
          "name": "stdout"
        },
        {
          "output_type": "stream",
          "text": [
            "\r247it [06:32,  1.58s/it]"
          ],
          "name": "stderr"
        },
        {
          "output_type": "stream",
          "text": [
            "('Table 6 Fish Species Documented in the Alford Creek Section RAAa Species Information Legislated Protection Scientific Review or Recommendation Watershedh Familyb Common Nameb Scientific Nameb SARAc Wildlife Actd COSEWICe AESCCf General Statusg Clearwater River Prairie Creek Catostomidae suckers longnose suckeri Catostomus catostomus No status Not listed Not assessed Not assessed Secure Catostomidae suckers mountain suckerij Catostomus platyrhynchus No status Not listed Not at risk Not assessed Secure Catostomidae suckers shorthead redhorsei Moxostoma macrolepidotum No status Not listed Not assessed Not assessed Secure Catostomidae suckers white suckeri Catostomus commersonii No status Not listed Not assessed Not assessed Secure Cottidae sculpins spoonhead sculpin Cottus ricei No status Not listed Not at risk Not assessed May be at risk Cyprinidae carps and minnows finescale dace Chrosomus neogaeus No status Not listed', 'Table 75 Potential Project Interactions and Cumulative Effects for the Proposed Leismer to Kettle River Crossover Project Crossover Project Valued Component Predicted Residual Project Effects Spatial Interaction Temporal Interaction Potential Cumulative Effect', 'Table 3 Watercourses Supporting Fish and Fish Habitat Crossed by the Alford Creek Section Crossing Number Watercourse Name UTM Zone 11 NAD83 Legal Location COP Class a COP RAP a HUC8 Watershedb Fish Species Previously Documentedc Crossing Number Watercourse Name Easting Northing Legal Location COP Class a COP RAP a HUC8 Watershedb Fish Species Previously Documentedc WCDID004 Clearwater River 641945 5771386 SW 10367W5M C September 1 to April 30 Clearwater River Brook trout bull trout brown trout burbot longnose dace longnose sucker mountain sucker mountain whitefish spoonhead sculpin white sucker WCDID005 Clearwater River side channel 641784 5771972 NE 9367W5M C September 1 to April 30 Clearwater River No fish sampled to date WCDID006 Alford Creek 641015 5772540 NW 9367W5M C September 16 to April 15 Clearwater River Brook', 'Table B7 SiteSpecific Inputs for AERMET Geraldton Pump Station Sector Parameter1 Winter Spring Summer Autumn Sector 1 0 to 122 Albedo 0420 0126 0124 0130 Sector 1 0 to 122 Bowen Ratio 1500 0610 0330 0830 Sector 1 0 to 122 Surface Roughness 0720 0925 1050 0841 Sector 2 122 to 216 Albedo 0543 0162 0162 0176 Sector 2 122 to 216 Bowen Ratio 1500 0478 0646 0954 Sector 2 122 to 216 Surface Roughness 0253 0357 0434 0301 Sector 3 216 to 289 Albedo 0429 0123 0123 0124 Sector 3 216 to 289 Bowen Ratio 1500 0673 0321 0889 Sector 3 216 to 289 Surface Roughness 0837 1072 1214 0977 Sector 4 289 to 360 Albedo 0519 0156 0155 0169 Sector 4 289 to 360 Bowen Ratio')\n"
          ],
          "name": "stdout"
        },
        {
          "output_type": "stream",
          "text": [
            "\r248it [06:33,  1.58s/it]"
          ],
          "name": "stderr"
        },
        {
          "output_type": "stream",
          "text": [
            "('Table 43 Criteria Air Contaminant Emissions from Permitted Point Sources in the Kitimat Terminal PEAA Source Criteria Air Contaminant Emissions tonnesyear Source SOXNOX CO TSPPM10PM25 TRS Area Sources Agriculture 00 00 00 00 00 00 Fuel Marketing 00 00 00 00 00 00 Landfill 00 00 00 13 05 01 Miscellaneous 00 00 03 33 24 21 Miscellaneous Burning 01 09 151 28 26 26 Other 00 00 00 162 15 06 Solvent Evaporation 00 00 00 00 00 00 Space Heating 89 405 4452 785 740 736 Total Area Sources 90 414 4607 1020 809 789 Mobile Sources Brake Lining 00 00 00 02 02 01 HeavyDuty Vehicles 07 358 123 12 12 11 LightDuty Vehicles 09 271 4771 04 04 04 Marine Vessels 2691 10266 711', 'TABLE 528 WATER LICENSES LOCATED IN THE LOCAL STUDY AREA IN MANITOBA KP Legal WPM Proximity to Proposed Route km Watercourse 10734 NW 21717 005 Souris River 11863 SW 1836 03 Thornhill Coulee 11966 SW 635 03 Deadhorse Creek 11966 635 03 Deadhorse Creek 11966 SE 635 03 Deadhorse Creek 11966 NW 33719 005 Deadhorse Creek 11966 635 03 Deadhorse Creek 12065 NE 2325 02 Unnamed Drainage 12111 NE 1724 01 Hespeler Creek 12111 SE 1325 025 Hespeler Creek 12201 SE 324 05 Rosenheim Drain 12244 SE 2713 015 Buffalo Drain 12274 SW 223 01 Buffalo Creek 12316 NW 2012 005 Drainage Channel 12414 NW 811 005 Drainage Channel', 'Table A7 ELC Community Descriptions Northern Ontario Banton et al 2009 Code Community Description G111S Moist fine shrub Silty to fine loamy to clayey substrates Canopy trees if present 10 cover and may include trembling aspen and white birch shrub cover is sparse 1025 cover and may include raspberry species speckled alder and redosier dogwood with Canada bluejoint grass spotted jewelweed and asters in the herbaceous ground layer G131Tt Maple hardwood swamp Organic or mineral substrates with evidence of vernal pooling or standing water Canopy dominated by red maple sugar maple andor silver maple May include occasional trembling aspen black ash balsam fir yellow birch and eastern white cedar Understory vegetation includes beaked hazel striped maple mountain maple fly honeysuckle and northern wild raisin with Canada mayflower rosetwisted', 'Table D1 Soil Polygon Attributes New Pipeline RoW Soil Resource Information Interpretive Ratings Extent Soil Unit Soil Unit Abbreviation Variant1 Slope Class2 Subgroup Parent Material Drainage Class Surface Stoniness Class Topsoil Depth cm Agricultural Capability Compaction Risk3 Rutting Risk3 Water Erosion Risk3 Wind Erosion Risk3 Linear Extent m Extent Soil Unit Soil Unit Abbreviation Variant1 Slope Class2 Subgroup Parent Material Drainage Class Surface Stoniness Class Topsoil Depth cm Agricultural Capability Topsoil Subsoil Topsoil Subsoil Topsoil Subsoil Topsoil Subsoil Linear Extent m Extent RONALAINE ROL sc 34 Solonetzic Brown Chernozem Moderately fine glacial till Well Non stony 001 15 4DMT M M L L H H M M 200 007 SCOTFIELD SFD 23 Gleyed Regosol Moderately fine glaciolacustrine Poor Moderately stony 013 10 6W H H L L L')\n"
          ],
          "name": "stdout"
        },
        {
          "output_type": "stream",
          "text": [
            "\r249it [06:35,  1.58s/it]"
          ],
          "name": "stderr"
        },
        {
          "output_type": "stream",
          "text": [
            "('Table 611 ACIMSRecorded Occurrences of Plant Species and Ecological Communities of Management Concern in the Burton Creek CS Unit Addition RAA Plant FormCommunity Scientific Name Common Name ACIMSRanka AlbertaWildlifeActb COSEWICc SARAc Habitat Lichen Lecanorahypoptoides rimlichen S2 Not listed Not listed Not listed on wood rarely onbarkofDouglasfirh Lichen Lecidella patavina disk lichen S1S2 Not listed Not listed Not listed usually on calciumcontainingrocksg Lichen Leptogiumgelatinosum jellyskin lichen S2S3 Not listed Not listed Not listed usually on mossyrocks and soil rarelyontreesg Lichen Melanohaleasubelegantula camouflage lichen S3 Not listed Not listed Not listed common onbroadleaf trees in dryareasg Lichen Polysporinaarenacea cobblestone lichen S2 Not listed Not Listed Not Listed growsonrockf Moss Aulacomniumandrogynum little groove moss S2S3 Not listed Not listed Not listed organic soil rottinglogs mineral soil overrockf Moss Dicranum tauricum brokenleaf', 'TABLE 7242 POTENTIAL EFFECTS MITIGATION MEASURES AND RESIDUAL EFFECTS OF PROJECT CONSTRUCTION AND OPERATIONS ON HORU Potential Effect Socioeconomic RegionProject Component Spatial Boundary1 Key Measures SEMP or EPP Reference2 Potential Residual Effects 1 HORU Indicator Parks and Protected Areas 11 Physical disturbance to protected areas Jasper National Park Region FraserFort George ThompsonNicola Region Fraser Valley Region Metro Vancouver Region New pipeline segments Temporary facilities Reactivated pipeline segment Hinton to Hargreaves Footprint Minimize disturbance of valued natural features with a nontraditional human use eg recreational trails recreational use areas key use areas within parks and protected areas during final route refinement to the extent practical SEMP Section 846 Reduce the amount of land disturbed by using previously disturbed areas for stockpiles staging areas and camps where possible SEMP Section', 'Table H19 Exposure Point Concentrations mgkg ww in Pelagic Biota Following a Hypothetical Spill of Crude Oil BAK near Grand Manan COPC Tissue Concentrations in Marine Plants COPC 4 Weeks 12 Years Benzoapyrene Benzoepyrene 656E06 Chrysene 862E07 Dibenzoahanthracene Fluoranthene Fluorene C1Fluorene 141E06 C2Fluorene 739E05 C3Fluorene 122E03 Indeno123cdpyrene Naphthalene 236E08 1Methylnaphthalene 709E07 2Methylnaphthalene 129E06 C1Naphthalene 434E06 C2Naphthalene 290E04 C3Naphthalene 108E03 C4Naphthalene 410E03 Phenanthrene 682E07 Pyrene C1phenanthreneanthracene 154E04 C2phenanthreneanthracene 384E03 C3phenanthreneanthracene 294E02 C4phenanthreneanthracene 259E02 C1fluoranthenepyrene 165E05 C2fluoranthenepyrene 123E03 C3fluoranthenepyrene 185E01 C4fluoranthenepyrene 107E01 429E04 461E02 134E01 105E02 321E04 115E03 Benzoapyrene TPE 209E02 ', 'Table 854 Residual Effects on Vegetation Diversity from Surface Disturbance in the Southern Alberta Uplands Key Indicator Environmental Effect Attribute Key Indicator Direction Magnitude Extent Duration Frequency Reversibility Significance Ecosite phases Adverse Moderate Local Long term Once Reversible Not significant Old growth forests Adverse Moderate Local Long term Once Reversible Not significant Rare plants Adverse High Sitespecific Long term Once Reversible Not significant Rare ecological communities ND ND ND ND ND ND ND Wetlands Adverse Moderate Local Long term Once Reversible Not significant Timber resources Adverse Low Local Long term Once Reversible Not significant NOTE ND not detected ')\n"
          ],
          "name": "stdout"
        },
        {
          "output_type": "stream",
          "text": [
            "250it [06:37,  1.59s/it]\n"
          ],
          "name": "stderr"
        }
      ]
    },
    {
      "cell_type": "code",
      "metadata": {
        "colab": {
          "base_uri": "https://localhost:8080/"
        },
        "id": "0RS5OvrhS-Km",
        "outputId": "d8f9d9f0-6216-494f-fd69-3e74f05189b5"
      },
      "source": [
        "output[0]"
      ],
      "execution_count": 16,
      "outputs": [
        {
          "output_type": "execute_result",
          "data": {
            "text/plain": [
              "[{'labels': ['Wildlife and wildlife habitat',\n",
              "   'Water quality and quantity',\n",
              "   'Fish and fish habitat',\n",
              "   'Acoustic environment',\n",
              "   'Physical and meteorological environment',\n",
              "   'Vegetation',\n",
              "   'Soil and soil productivity',\n",
              "   'Wetlands',\n",
              "   'Heritage resources',\n",
              "   'Environmental Obligations',\n",
              "   'Social and cultural well-being',\n",
              "   'Air emissions',\n",
              "   'Infrastructure and services',\n",
              "   'Traditional land and resource use',\n",
              "   'GHG Emissions and Climate Change – Assessment of Upstream GHG Emissions',\n",
              "   'Species at Risk or Species of Special Status and related habitat',\n",
              "   'Rights of Indigenous Peoples',\n",
              "   'Greenhouse gas (GHG) emissions and climate change',\n",
              "   'Employment and economy',\n",
              "   'Human occupancy and resource use',\n",
              "   'Navigation and navigation safety',\n",
              "   'Electromagnetism and Corona Discharge',\n",
              "   'Human health and aesthetics'],\n",
              "  'scores': [0.9908032417297363,\n",
              "   0.9892773032188416,\n",
              "   0.9859839677810669,\n",
              "   0.9473797678947449,\n",
              "   0.9381691217422485,\n",
              "   0.8850263953208923,\n",
              "   0.8406774997711182,\n",
              "   0.7243824601173401,\n",
              "   0.3757772743701935,\n",
              "   0.35689201951026917,\n",
              "   0.32454803586006165,\n",
              "   0.193363219499588,\n",
              "   0.17705805599689484,\n",
              "   0.1765298992395401,\n",
              "   0.039860401302576065,\n",
              "   0.02460617385804653,\n",
              "   0.009825951419770718,\n",
              "   0.008095014840364456,\n",
              "   0.006694246083498001,\n",
              "   0.006086743902415037,\n",
              "   0.003871774999424815,\n",
              "   0.002929195063188672,\n",
              "   0.0017194693209603429],\n",
              "  'sequence': 'TABLE 8A2 REASONABLY FORSEEABLE DEVELOPMENTS IDENTIFIED WITHIN THE SPATIAL BOUNDARIES OF THE BEAR CANYON SECTION Map ID1 Title Proponent Description Construction Schedule2 Assessment Type Quantitative or Qualitative Physical Environment and Soils LSA Water Quality and Quantity RSA Air Quality RSA Acoustic Environment RSA Fish and Fish Habitat RSA Wetlands RSA Vegetation RSA Wildlife and Wildlife Habitat RSA HORU RSA Heritage Resources RSA TRLU RSA Community RSA 13307912 W6M to 6367913 W6M Trioil Resources Ltd Pipeline Quantitative 13307912 W6M to 13307912 W6M Trioil Resources Ltd Pipeline Quantitative 634876 W6M to 1034876 W6M Venturion Oil Limited Pipeline Quantitative 1234876 W6M to 634876 W6M Venturion Oil Limited Pipeline Quantitative 634876 W6M to 1234876 W6M Venturion Oil Limited Pipeline Quantitative 1234876 W6M to 634876 W6M Venturion Oil Limited Pipeline Quantitative 1034876 W6M'},\n",
              " {'labels': ['Vegetation',\n",
              "   'Wildlife and wildlife habitat',\n",
              "   'Heritage resources',\n",
              "   'Physical and meteorological environment',\n",
              "   'Species at Risk or Species of Special Status and related habitat',\n",
              "   'Environmental Obligations',\n",
              "   'Greenhouse gas (GHG) emissions and climate change',\n",
              "   'Infrastructure and services',\n",
              "   'Traditional land and resource use',\n",
              "   'Social and cultural well-being',\n",
              "   'GHG Emissions and Climate Change – Assessment of Upstream GHG Emissions',\n",
              "   'Water quality and quantity',\n",
              "   'Acoustic environment',\n",
              "   'Wetlands',\n",
              "   'Air emissions',\n",
              "   'Soil and soil productivity',\n",
              "   'Human occupancy and resource use',\n",
              "   'Navigation and navigation safety',\n",
              "   'Employment and economy',\n",
              "   'Rights of Indigenous Peoples',\n",
              "   'Electromagnetism and Corona Discharge',\n",
              "   'Fish and fish habitat',\n",
              "   'Human health and aesthetics'],\n",
              "  'scores': [0.910503625869751,\n",
              "   0.5789417624473572,\n",
              "   0.2794436514377594,\n",
              "   0.26751694083213806,\n",
              "   0.16713722050189972,\n",
              "   0.09796296805143356,\n",
              "   0.09366767108440399,\n",
              "   0.02232053503394127,\n",
              "   0.01064393576234579,\n",
              "   0.009716743603348732,\n",
              "   0.008174961432814598,\n",
              "   0.0039100428111851215,\n",
              "   0.0037196543999016285,\n",
              "   0.0036684165243059397,\n",
              "   0.002249577548354864,\n",
              "   0.0020256787538528442,\n",
              "   0.001373193459585309,\n",
              "   0.0012322496622800827,\n",
              "   0.0010638331295922399,\n",
              "   0.0009680952643975616,\n",
              "   0.0008838024223223329,\n",
              "   0.00070683762896806,\n",
              "   0.0003547795640770346],\n",
              "  'sequence': 'TABLE 1 RESOURCESPECIFIC MITIGATION TABLE Location Issues Timing Windows and or Regulatory Guidelines Mitigation Comments VEGETATION General All Three Sections of Pipeline Rare Plant Species and Rare Ecological Communities NA The locations of rare plant sitespecific measures will be determined based on input from the supplemental rare plant species study and will be implemented in the field by the Environmental Inspector If required additional mitigation measures will be implemented into the Rare Plant Reports following the summer 2011 field surveys KPK 46 to 47 Site Specific Mitigation for 2009 Rare Plant Locations white addersmouth orchid NA For any plants that are determined to be located on spoil side store spoil on top of frozen ground or snow layer For any plants that are determined to be located on'},\n",
              " {'labels': ['Vegetation',\n",
              "   'Wildlife and wildlife habitat',\n",
              "   'Heritage resources',\n",
              "   'Traditional land and resource use',\n",
              "   'Wetlands',\n",
              "   'Environmental Obligations',\n",
              "   'Acoustic environment',\n",
              "   'Physical and meteorological environment',\n",
              "   'Social and cultural well-being',\n",
              "   'GHG Emissions and Climate Change – Assessment of Upstream GHG Emissions',\n",
              "   'Water quality and quantity',\n",
              "   'Species at Risk or Species of Special Status and related habitat',\n",
              "   'Infrastructure and services',\n",
              "   'Employment and economy',\n",
              "   'Soil and soil productivity',\n",
              "   'Air emissions',\n",
              "   'Navigation and navigation safety',\n",
              "   'Rights of Indigenous Peoples',\n",
              "   'Human occupancy and resource use',\n",
              "   'Human health and aesthetics',\n",
              "   'Electromagnetism and Corona Discharge',\n",
              "   'Greenhouse gas (GHG) emissions and climate change',\n",
              "   'Fish and fish habitat'],\n",
              "  'scores': [0.833772599697113,\n",
              "   0.3562757074832916,\n",
              "   0.23478345572948456,\n",
              "   0.1711162030696869,\n",
              "   0.1226852610707283,\n",
              "   0.05872669816017151,\n",
              "   0.03233031556010246,\n",
              "   0.030532093718647957,\n",
              "   0.019801782444119453,\n",
              "   0.015452822670340538,\n",
              "   0.010838479734957218,\n",
              "   0.010195273905992508,\n",
              "   0.008657324127852917,\n",
              "   0.008625611662864685,\n",
              "   0.007977562956511974,\n",
              "   0.006835737265646458,\n",
              "   0.005881503690034151,\n",
              "   0.0056163473054766655,\n",
              "   0.003143134294077754,\n",
              "   0.0025627550203353167,\n",
              "   0.002454858273267746,\n",
              "   0.002235920401290059,\n",
              "   0.00076072703814134],\n",
              "  'sequence': 'TABLE D4 HOPE TO BURNABY OBSERVED PLANT SPECIES BY TYPE AND COMMON NAME Common Name Scientific Name Bebbs sedge Carex bebbii bentgrass species Agrostis sp blue wildrye Elymus glaucus ssp glaucus bluegrass species Poa sp bluejoint reedgrass Calamagrostis canadensis var canadensis blunt spikerush Eleocharis obtusa bristlestalked sedge Carex leptalea ssp leptalea brome species Bromus sp bronze sedge Carex aenea brown sedge species Carex sp bulrush species Scirpus sp California brome Bromus carinatus Columbia brome Bromus vulgaris Columbia needlegrass Achnatherum nelsonii ssp dorei Crawfords sedge Carex crawfordii Cusicks sedge Carex cusickii Deweys sedge Carex deweyana var bolanderi Falkland Island sedge Carex macloviana field sedge Carex praegracilis forked woodrush Luzula fastigiata fowl bluegrass Poa palustris grey sedge Carex canescens ssp canescens hair bentgrass Agrostis scabra Hendersons sedge Carex hendersonii inflated'},\n",
              " {'labels': ['Environmental Obligations',\n",
              "   'Water quality and quantity',\n",
              "   'Traditional land and resource use',\n",
              "   'GHG Emissions and Climate Change – Assessment of Upstream GHG Emissions',\n",
              "   'Human occupancy and resource use',\n",
              "   'Infrastructure and services',\n",
              "   'Soil and soil productivity',\n",
              "   'Vegetation',\n",
              "   'Heritage resources',\n",
              "   'Acoustic environment',\n",
              "   'Employment and economy',\n",
              "   'Greenhouse gas (GHG) emissions and climate change',\n",
              "   'Air emissions',\n",
              "   'Social and cultural well-being',\n",
              "   'Physical and meteorological environment',\n",
              "   'Wetlands',\n",
              "   'Species at Risk or Species of Special Status and related habitat',\n",
              "   'Electromagnetism and Corona Discharge',\n",
              "   'Navigation and navigation safety',\n",
              "   'Rights of Indigenous Peoples',\n",
              "   'Wildlife and wildlife habitat',\n",
              "   'Human health and aesthetics',\n",
              "   'Fish and fish habitat'],\n",
              "  'scores': [0.5235182642936707,\n",
              "   0.2316245585680008,\n",
              "   0.2219136506319046,\n",
              "   0.1395038217306137,\n",
              "   0.1279015690088272,\n",
              "   0.12324602156877518,\n",
              "   0.10495415329933167,\n",
              "   0.10417217761278152,\n",
              "   0.1018485426902771,\n",
              "   0.09393572062253952,\n",
              "   0.08977660536766052,\n",
              "   0.07320082932710648,\n",
              "   0.061099592596292496,\n",
              "   0.05932062119245529,\n",
              "   0.049315836280584335,\n",
              "   0.0447319857776165,\n",
              "   0.03405876085162163,\n",
              "   0.02578110806643963,\n",
              "   0.014039305970072746,\n",
              "   0.011566542088985443,\n",
              "   0.011267224326729774,\n",
              "   0.006548884324729443,\n",
              "   0.0053333621472120285],\n",
              "  'sequence': 'TABLE 32 CONSULTATION ACTIVITIES WITH PROVINCIAL AGENCIES Stakeholder Group Agency Name Name and Title of Contact Method of Engagement Date of Consultation Activity Reason for Engagement Consultation Outcomes Issues Concerns Commitments Followup Actions Where Issue Addressed in ESA RM of Argyle No 102 Gord Dearsley Administrator Letter sent Telephone conversation Telephone conversation October 27 2006 November 30 2006 December 14 2006 Send project information Request for waste disposal information No concerns with the proposed project Argyll will accept construction waste with a 20tonne disposal fee NA NA NA RM of Edenwold No 158 Sherry Wagman Administrator Telephone conversation December 15 2006 Request for project concerns Request for zoning information White City Station is zoned as agricultural and there were no conflicts NA NA Section 5214 RM of Glenwood'}]"
            ]
          },
          "metadata": {
            "tags": []
          },
          "execution_count": 16
        }
      ]
    },
    {
      "cell_type": "code",
      "metadata": {
        "id": "YbaOlI23wPEE"
      },
      "source": [
        "# Since we have a list of lists for the outputs (because inference was done in batches), we need to flatten the lists together into one.\n",
        "flatOutput = [item for elem in output for item in elem]"
      ],
      "execution_count": 17,
      "outputs": []
    },
    {
      "cell_type": "code",
      "metadata": {
        "id": "yAZmqv-XctM6"
      },
      "source": [
        "pickled_dataset = 'zero_shot_vcs_1k_for_labeling'"
      ],
      "execution_count": 18,
      "outputs": []
    },
    {
      "cell_type": "code",
      "metadata": {
        "id": "-_X0rMIzw4Jl"
      },
      "source": [
        "import pickle \n",
        "with open(f'{pickled_dataset}.pkl', 'wb') as f:\n",
        "  pickle.dump(flatOutput, f)"
      ],
      "execution_count": 19,
      "outputs": []
    },
    {
      "cell_type": "code",
      "metadata": {
        "id": "8qe26VkfvX7O"
      },
      "source": [
        "import pickle\n",
        "infile = open(f'{pickled_dataset}.pkl', 'rb')\n",
        "zs_vcs_dict_list = pickle.load(infile)\n",
        "infile.close()"
      ],
      "execution_count": 20,
      "outputs": []
    },
    {
      "cell_type": "code",
      "metadata": {
        "colab": {
          "base_uri": "https://localhost:8080/",
          "height": 162
        },
        "id": "2l7lupmVwiAl",
        "outputId": "c793c6f5-6df6-4818-b65d-779f1612bcfb"
      },
      "source": [
        "zs_vcs_dict_list[0]"
      ],
      "execution_count": 1,
      "outputs": [
        {
          "output_type": "error",
          "ename": "NameError",
          "evalue": "ignored",
          "traceback": [
            "\u001b[0;31m---------------------------------------------------------------------------\u001b[0m",
            "\u001b[0;31mNameError\u001b[0m                                 Traceback (most recent call last)",
            "\u001b[0;32m<ipython-input-1-bc1447f32de0>\u001b[0m in \u001b[0;36m<module>\u001b[0;34m()\u001b[0m\n\u001b[0;32m----> 1\u001b[0;31m \u001b[0mzs_vcs_dict_list\u001b[0m\u001b[0;34m[\u001b[0m\u001b[0;36m0\u001b[0m\u001b[0;34m]\u001b[0m\u001b[0;34m\u001b[0m\u001b[0;34m\u001b[0m\u001b[0m\n\u001b[0m",
            "\u001b[0;31mNameError\u001b[0m: name 'zs_vcs_dict_list' is not defined"
          ]
        }
      ]
    },
    {
      "cell_type": "code",
      "metadata": {
        "colab": {
          "base_uri": "https://localhost:8080/"
        },
        "id": "qSKSYIm5wr5Z",
        "outputId": "f01e3993-51e8-4a50-9579-5e4b21b37adf"
      },
      "source": [
        "len(zs_vcs_dict_list)"
      ],
      "execution_count": 22,
      "outputs": [
        {
          "output_type": "execute_result",
          "data": {
            "text/plain": [
              "1000"
            ]
          },
          "metadata": {
            "tags": []
          },
          "execution_count": 22
        }
      ]
    },
    {
      "cell_type": "code",
      "metadata": {
        "colab": {
          "base_uri": "https://localhost:8080/"
        },
        "id": "cR4YTbLuvvtJ",
        "outputId": "32c884be-13f9-47e7-ee58-096142565d4f"
      },
      "source": [
        "for i in range(0, len(zs_vcs_dict_list)):\n",
        "  zs_vcs_dict_list[0]['scores']"
      ],
      "execution_count": null,
      "outputs": [
        {
          "output_type": "execute_result",
          "data": {
            "text/plain": [
              "{'labels': ['Traditional land and resource use',\n",
              "  'Water quality and quantity',\n",
              "  'Social and cultural well-being',\n",
              "  'Human occupancy and resource use',\n",
              "  'Fish and fish habitat',\n",
              "  'Heritage resources',\n",
              "  'Navigation and navigation safety',\n",
              "  'Vegetation',\n",
              "  'Wetlands',\n",
              "  'Physical and meteorological environment',\n",
              "  'Soil and soil productivity',\n",
              "  'Infrastructure',\n",
              "  'Wildlife and wildlife habitat',\n",
              "  'Species at Risk or Species of Special Status and related habitat',\n",
              "  'Human health and aesthetics',\n",
              "  'Electromagnetism and Corona Discharge',\n",
              "  'Acoustic environment',\n",
              "  'Air emissions',\n",
              "  'Greenhouse gas (GHG) emissions and climate change'],\n",
              " 'scores': [0.6877259612083435,\n",
              "  0.649422287940979,\n",
              "  0.4630372226238251,\n",
              "  0.30576542019844055,\n",
              "  0.08918734639883041,\n",
              "  0.03485028073191643,\n",
              "  0.03348839655518532,\n",
              "  0.02901163510978222,\n",
              "  0.017860960215330124,\n",
              "  0.015356151387095451,\n",
              "  0.012270933017134666,\n",
              "  0.009136791341006756,\n",
              "  0.008778736926615238,\n",
              "  0.006375862751156092,\n",
              "  0.004991511814296246,\n",
              "  0.004504995886236429,\n",
              "  0.002962834434583783,\n",
              "  0.0019470202969387174,\n",
              "  0.0015868264017626643],\n",
              " 'sequence': 'Survey Date Aboriginal Communities Detail July 9 to 12 2011 Blueberry River First Nation s s Halfway River First Nation s s McLeod Lake Indian Band s s North East M tis Association s s Summer 2011 open water aquatic s s assessments September 18 to October 10 2011 Blueberry River First Nation s s Ha'}"
            ]
          },
          "metadata": {
            "tags": []
          },
          "execution_count": 10
        }
      ]
    },
    {
      "cell_type": "code",
      "metadata": {
        "colab": {
          "base_uri": "https://localhost:8080/"
        },
        "id": "rO4n3M2EQBNj",
        "outputId": "9338e082-f89f-4364-80ba-2c6cf843842e"
      },
      "source": [
        "df_output = pd.DataFrame(output)\n",
        "df_output"
      ],
      "execution_count": null,
      "outputs": [
        {
          "output_type": "execute_result",
          "data": {
            "text/plain": [
              "{'labels': ['Traditional land and resource use',\n",
              "  'Water quality and quantity',\n",
              "  'Social and cultural well-being',\n",
              "  'Human occupancy and resource use',\n",
              "  'Fish and fish habitat',\n",
              "  'Heritage resources',\n",
              "  'Navigation and navigation safety',\n",
              "  'Vegetation',\n",
              "  'Wetlands',\n",
              "  'Physical and meteorological environment',\n",
              "  'Soil and soil productivity',\n",
              "  'Infrastructure',\n",
              "  'Wildlife and wildlife habitat',\n",
              "  'Species at Risk or Species of Special Status and related habitat',\n",
              "  'Human health and aesthetics',\n",
              "  'Electromagnetism and Corona Discharge',\n",
              "  'Acoustic environment',\n",
              "  'Air emissions',\n",
              "  'Greenhouse gas (GHG) emissions and climate change'],\n",
              " 'scores': [0.6877259612083435,\n",
              "  0.649422287940979,\n",
              "  0.4630372226238251,\n",
              "  0.30576542019844055,\n",
              "  0.08918734639883041,\n",
              "  0.03485028073191643,\n",
              "  0.03348839655518532,\n",
              "  0.02901163510978222,\n",
              "  0.017860960215330124,\n",
              "  0.015356151387095451,\n",
              "  0.012270933017134666,\n",
              "  0.009136791341006756,\n",
              "  0.008778736926615238,\n",
              "  0.006375862751156092,\n",
              "  0.004991511814296246,\n",
              "  0.004504995886236429,\n",
              "  0.002962834434583783,\n",
              "  0.0019470202969387174,\n",
              "  0.0015868264017626643],\n",
              " 'sequence': 'Survey Date Aboriginal Communities Detail July 9 to 12 2011 Blueberry River First Nation s s Halfway River First Nation s s McLeod Lake Indian Band s s North East M tis Association s s Summer 2011 open water aquatic s s assessments September 18 to October 10 2011 Blueberry River First Nation s s Ha'}"
            ]
          },
          "metadata": {
            "tags": []
          },
          "execution_count": 20
        }
      ]
    },
    {
      "cell_type": "code",
      "metadata": {
        "id": "a7SZl8U4TAs8"
      },
      "source": [
        "df_output[df_output.scores > 0.6]"
      ],
      "execution_count": null,
      "outputs": []
    },
    {
      "cell_type": "code",
      "metadata": {
        "id": "Z_rSngYmTG1X"
      },
      "source": [
        ""
      ],
      "execution_count": null,
      "outputs": []
    }
  ]
}