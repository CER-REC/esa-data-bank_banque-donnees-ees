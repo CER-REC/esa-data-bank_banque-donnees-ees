{
  "nbformat": 4,
  "nbformat_minor": 0,
  "metadata": {
    "colab": {
      "name": "02_labeling_VCs_with_zero_shot_learning.ipynb",
      "provenance": [],
      "collapsed_sections": [],
      "machine_shape": "hm",
      "authorship_tag": "ABX9TyPpLUx5KaI6tVkcuouAF7W1",
      "include_colab_link": true
    },
    "kernelspec": {
      "name": "python3",
      "display_name": "Python 3"
    },
    "language_info": {
      "name": "python"
    },
    "accelerator": "GPU"
  },
  "cells": [
    {
      "cell_type": "markdown",
      "metadata": {
        "id": "view-in-github",
        "colab_type": "text"
      },
      "source": [
        "<a href=\"https://colab.research.google.com/github/CER-REC/esa-data-bank_banque-donnees-ees/blob/master/Codes/Section_05_VEC_Labeling_for_Tables/02_labeling_VCs_with_zero_shot_learning.ipynb\" target=\"_parent\"><img src=\"https://colab.research.google.com/assets/colab-badge.svg\" alt=\"Open In Colab\"/></a>"
      ]
    },
    {
      "cell_type": "code",
      "metadata": {
        "colab": {
          "base_uri": "https://localhost:8080/"
        },
        "id": "KGzdoHOghfJH",
        "outputId": "4af9ca64-1e84-4d76-c66f-4c5f119725e4"
      },
      "source": [
        "!pip install transformers"
      ],
      "execution_count": null,
      "outputs": [
        {
          "output_type": "stream",
          "text": [
            "Collecting transformers\n",
            "\u001b[?25l  Downloading https://files.pythonhosted.org/packages/b5/d5/c6c23ad75491467a9a84e526ef2364e523d45e2b0fae28a7cbe8689e7e84/transformers-4.8.1-py3-none-any.whl (2.5MB)\n",
            "\u001b[K     |████████████████████████████████| 2.5MB 5.3MB/s \n",
            "\u001b[?25hCollecting huggingface-hub==0.0.12\n",
            "  Downloading https://files.pythonhosted.org/packages/2f/ee/97e253668fda9b17e968b3f97b2f8e53aa0127e8807d24a547687423fe0b/huggingface_hub-0.0.12-py3-none-any.whl\n",
            "Requirement already satisfied: requests in /usr/local/lib/python3.7/dist-packages (from transformers) (2.23.0)\n",
            "Requirement already satisfied: importlib-metadata; python_version < \"3.8\" in /usr/local/lib/python3.7/dist-packages (from transformers) (4.5.0)\n",
            "Collecting tokenizers<0.11,>=0.10.1\n",
            "\u001b[?25l  Downloading https://files.pythonhosted.org/packages/d4/e2/df3543e8ffdab68f5acc73f613de9c2b155ac47f162e725dcac87c521c11/tokenizers-0.10.3-cp37-cp37m-manylinux_2_5_x86_64.manylinux1_x86_64.manylinux_2_12_x86_64.manylinux2010_x86_64.whl (3.3MB)\n",
            "\u001b[K     |████████████████████████████████| 3.3MB 27.9MB/s \n",
            "\u001b[?25hRequirement already satisfied: tqdm>=4.27 in /usr/local/lib/python3.7/dist-packages (from transformers) (4.41.1)\n",
            "Requirement already satisfied: numpy>=1.17 in /usr/local/lib/python3.7/dist-packages (from transformers) (1.19.5)\n",
            "Requirement already satisfied: packaging in /usr/local/lib/python3.7/dist-packages (from transformers) (20.9)\n",
            "Requirement already satisfied: filelock in /usr/local/lib/python3.7/dist-packages (from transformers) (3.0.12)\n",
            "Collecting sacremoses\n",
            "\u001b[?25l  Downloading https://files.pythonhosted.org/packages/75/ee/67241dc87f266093c533a2d4d3d69438e57d7a90abb216fa076e7d475d4a/sacremoses-0.0.45-py3-none-any.whl (895kB)\n",
            "\u001b[K     |████████████████████████████████| 901kB 47.0MB/s \n",
            "\u001b[?25hRequirement already satisfied: regex!=2019.12.17 in /usr/local/lib/python3.7/dist-packages (from transformers) (2019.12.20)\n",
            "Requirement already satisfied: pyyaml in /usr/local/lib/python3.7/dist-packages (from transformers) (3.13)\n",
            "Requirement already satisfied: typing-extensions in /usr/local/lib/python3.7/dist-packages (from huggingface-hub==0.0.12->transformers) (3.7.4.3)\n",
            "Requirement already satisfied: idna<3,>=2.5 in /usr/local/lib/python3.7/dist-packages (from requests->transformers) (2.10)\n",
            "Requirement already satisfied: certifi>=2017.4.17 in /usr/local/lib/python3.7/dist-packages (from requests->transformers) (2021.5.30)\n",
            "Requirement already satisfied: chardet<4,>=3.0.2 in /usr/local/lib/python3.7/dist-packages (from requests->transformers) (3.0.4)\n",
            "Requirement already satisfied: urllib3!=1.25.0,!=1.25.1,<1.26,>=1.21.1 in /usr/local/lib/python3.7/dist-packages (from requests->transformers) (1.24.3)\n",
            "Requirement already satisfied: zipp>=0.5 in /usr/local/lib/python3.7/dist-packages (from importlib-metadata; python_version < \"3.8\"->transformers) (3.4.1)\n",
            "Requirement already satisfied: pyparsing>=2.0.2 in /usr/local/lib/python3.7/dist-packages (from packaging->transformers) (2.4.7)\n",
            "Requirement already satisfied: click in /usr/local/lib/python3.7/dist-packages (from sacremoses->transformers) (7.1.2)\n",
            "Requirement already satisfied: joblib in /usr/local/lib/python3.7/dist-packages (from sacremoses->transformers) (1.0.1)\n",
            "Requirement already satisfied: six in /usr/local/lib/python3.7/dist-packages (from sacremoses->transformers) (1.15.0)\n",
            "Installing collected packages: huggingface-hub, tokenizers, sacremoses, transformers\n",
            "Successfully installed huggingface-hub-0.0.12 sacremoses-0.0.45 tokenizers-0.10.3 transformers-4.8.1\n"
          ],
          "name": "stdout"
        }
      ]
    },
    {
      "cell_type": "code",
      "metadata": {
        "id": "aEvJ1LmnO9Hh",
        "colab": {
          "base_uri": "https://localhost:8080/"
        },
        "outputId": "8304ec2f-852a-455e-d8f4-96505305193e"
      },
      "source": [
        "import pandas as pd\n",
        "from transformers import pipeline\n",
        "from bs4 import BeautifulSoup\n",
        "import nltk\n",
        "from nltk.stem.porter import *\n",
        "\n",
        "nltk.download('stopwords', quiet=True)"
      ],
      "execution_count": null,
      "outputs": [
        {
          "output_type": "execute_result",
          "data": {
            "text/plain": [
              "True"
            ]
          },
          "metadata": {
            "tags": []
          },
          "execution_count": 2
        }
      ]
    },
    {
      "cell_type": "code",
      "metadata": {
        "colab": {
          "base_uri": "https://localhost:8080/"
        },
        "id": "kSyfO4I3icdg",
        "outputId": "48fb3d48-6417-401b-d2d6-f276e86bcfca"
      },
      "source": [
        "from google.colab import drive\n",
        "drive.mount(\"/content/drive\")"
      ],
      "execution_count": null,
      "outputs": [
        {
          "output_type": "stream",
          "text": [
            "Mounted at /content/drive\n"
          ],
          "name": "stdout"
        }
      ]
    },
    {
      "cell_type": "code",
      "metadata": {
        "id": "AYzuCqZUPjCo"
      },
      "source": [
        "df_joined = pd.read_csv('/content/drive/MyDrive/data/esa_index_files/esa_index_with_table_text_no_labels.csv', index_col=0)"
      ],
      "execution_count": null,
      "outputs": []
    },
    {
      "cell_type": "code",
      "metadata": {
        "colab": {
          "base_uri": "https://localhost:8080/",
          "height": 585
        },
        "id": "1N82Q4fFi4S2",
        "outputId": "11869a3c-da42-4aab-f429-cdd60ee55171"
      },
      "source": [
        "df_joined.head()"
      ],
      "execution_count": null,
      "outputs": [
        {
          "output_type": "execute_result",
          "data": {
            "text/html": [
              "<div>\n",
              "<style scoped>\n",
              "    .dataframe tbody tr th:only-of-type {\n",
              "        vertical-align: middle;\n",
              "    }\n",
              "\n",
              "    .dataframe tbody tr th {\n",
              "        vertical-align: top;\n",
              "    }\n",
              "\n",
              "    .dataframe thead th {\n",
              "        text-align: right;\n",
              "    }\n",
              "</style>\n",
              "<table border=\"1\" class=\"dataframe\">\n",
              "  <thead>\n",
              "    <tr style=\"text-align: right;\">\n",
              "      <th></th>\n",
              "      <th>Index</th>\n",
              "      <th>Title</th>\n",
              "      <th>Content Type</th>\n",
              "      <th>Application Name</th>\n",
              "      <th>Application Short Name</th>\n",
              "      <th>Application Filing Date</th>\n",
              "      <th>Company Name</th>\n",
              "      <th>Commodity</th>\n",
              "      <th>File Name</th>\n",
              "      <th>ESA Folder URL</th>\n",
              "      <th>Document Number</th>\n",
              "      <th>Data ID</th>\n",
              "      <th>PDF Download URL</th>\n",
              "      <th>Application Type (NEB Act)</th>\n",
              "      <th>Pipeline Location</th>\n",
              "      <th>Hearing order</th>\n",
              "      <th>Consultant Name</th>\n",
              "      <th>Pipeline Status</th>\n",
              "      <th>Regulatory Instrument(s)</th>\n",
              "      <th>Application URL</th>\n",
              "      <th>Decision URL</th>\n",
              "      <th>ESA Section(s)</th>\n",
              "      <th>ESA Section(s) Index</th>\n",
              "      <th>ESA Section(s) Topics</th>\n",
              "      <th>CSV Download URL</th>\n",
              "      <th>PDF Page Number</th>\n",
              "      <th>PDF Page Count</th>\n",
              "      <th>PDF Size</th>\n",
              "      <th>PDF Outline</th>\n",
              "      <th>Download folder name</th>\n",
              "      <th>Zipped Project Link</th>\n",
              "      <th>Missing CSV</th>\n",
              "      <th>CSV Filename</th>\n",
              "      <th>csvFileName</th>\n",
              "      <th>csvText</th>\n",
              "    </tr>\n",
              "  </thead>\n",
              "  <tbody>\n",
              "    <tr>\n",
              "      <th>0</th>\n",
              "      <td>9134</td>\n",
              "      <td>TABLE 3 SUMMARY OF AQUATICS FIELD WORK AND ABO...</td>\n",
              "      <td>Table</td>\n",
              "      <td>Application for North Montney Project</td>\n",
              "      <td>North Montney</td>\n",
              "      <td>11/8/2013</td>\n",
              "      <td>NOVA Gas Transmission Ltd.</td>\n",
              "      <td>Gas</td>\n",
              "      <td>B2-16 ESA_Appendix_G_Part1of4 (A3Q6H2)</td>\n",
              "      <td>https://apps.cer-rec.gc.ca/REGDOCS/Item/LoadRe...</td>\n",
              "      <td>A3Q6H2</td>\n",
              "      <td>1059614</td>\n",
              "      <td>https://apps.cer-rec.gc.ca/REGDOCS/File/Downlo...</td>\n",
              "      <td>Large Projects (over 40 km)</td>\n",
              "      <td>British Columbia, All</td>\n",
              "      <td>GH-001-2014</td>\n",
              "      <td>Stantec Consulting Ltd., TERA Environmental Co...</td>\n",
              "      <td>Operating</td>\n",
              "      <td>GC-125</td>\n",
              "      <td>https://apps.cer-rec.gc.ca/REGDOCS/Item/View/1...</td>\n",
              "      <td>https://apps.cer-rec.gc.ca/REGDOCS/Item/View/3...</td>\n",
              "      <td>Appendix G: TERA Aquatics Summary Report</td>\n",
              "      <td>15.0</td>\n",
              "      <td>Water, All</td>\n",
              "      <td>http://www.cer-rec.gc.ca/esa-ees/nrthmntn/nrth...</td>\n",
              "      <td>14</td>\n",
              "      <td>48.0</td>\n",
              "      <td>5.87</td>\n",
              "      <td>No</td>\n",
              "      <td>nrthmntn</td>\n",
              "      <td>http://www.cer-rec.gc.ca/esa-ees/nrthmntn.zip</td>\n",
              "      <td>False</td>\n",
              "      <td>nrthmntn_table-3-summary-of-aquatics-field-wor...</td>\n",
              "      <td>1059614_14_lattice-v_1.csv</td>\n",
              "      <td>Survey Date Aboriginal Communities Detail Jul...</td>\n",
              "    </tr>\n",
              "    <tr>\n",
              "      <th>1</th>\n",
              "      <td>9135</td>\n",
              "      <td>TABLE 4 SUMMARY OF WATERCOURSE CROSSINGS ALONG...</td>\n",
              "      <td>Table</td>\n",
              "      <td>Application for North Montney Project</td>\n",
              "      <td>North Montney</td>\n",
              "      <td>11/8/2013</td>\n",
              "      <td>NOVA Gas Transmission Ltd.</td>\n",
              "      <td>Gas</td>\n",
              "      <td>B2-16 ESA_Appendix_G_Part1of4 (A3Q6H2)</td>\n",
              "      <td>https://apps.cer-rec.gc.ca/REGDOCS/Item/LoadRe...</td>\n",
              "      <td>A3Q6H2</td>\n",
              "      <td>1059614</td>\n",
              "      <td>https://apps.cer-rec.gc.ca/REGDOCS/File/Downlo...</td>\n",
              "      <td>Large Projects (over 40 km)</td>\n",
              "      <td>British Columbia, All</td>\n",
              "      <td>GH-001-2014</td>\n",
              "      <td>Stantec Consulting Ltd., TERA Environmental Co...</td>\n",
              "      <td>Operating</td>\n",
              "      <td>GC-125</td>\n",
              "      <td>https://apps.cer-rec.gc.ca/REGDOCS/Item/View/1...</td>\n",
              "      <td>https://apps.cer-rec.gc.ca/REGDOCS/Item/View/3...</td>\n",
              "      <td>Appendix G: TERA Aquatics Summary Report</td>\n",
              "      <td>15.0</td>\n",
              "      <td>Water, All</td>\n",
              "      <td>http://www.cer-rec.gc.ca/esa-ees/nrthmntn/nrth...</td>\n",
              "      <td>17</td>\n",
              "      <td>48.0</td>\n",
              "      <td>5.87</td>\n",
              "      <td>No</td>\n",
              "      <td>nrthmntn</td>\n",
              "      <td>http://www.cer-rec.gc.ca/esa-ees/nrthmntn.zip</td>\n",
              "      <td>False</td>\n",
              "      <td>nrthmntn_table-4-summary-of-watercourse-crossi...</td>\n",
              "      <td>1059614_17_lattice-v_1.csv</td>\n",
              "      <td>Field Site No Name Legal Location UTM Coordin...</td>\n",
              "    </tr>\n",
              "    <tr>\n",
              "      <th>2</th>\n",
              "      <td>9136</td>\n",
              "      <td>TABLE 4 SUMMARY OF WATERCOURSE CROSSINGS ALONG...</td>\n",
              "      <td>Table</td>\n",
              "      <td>Application for North Montney Project</td>\n",
              "      <td>North Montney</td>\n",
              "      <td>11/8/2013</td>\n",
              "      <td>NOVA Gas Transmission Ltd.</td>\n",
              "      <td>Gas</td>\n",
              "      <td>B2-16 ESA_Appendix_G_Part1of4 (A3Q6H2)</td>\n",
              "      <td>https://apps.cer-rec.gc.ca/REGDOCS/Item/LoadRe...</td>\n",
              "      <td>A3Q6H2</td>\n",
              "      <td>1059614</td>\n",
              "      <td>https://apps.cer-rec.gc.ca/REGDOCS/File/Downlo...</td>\n",
              "      <td>Large Projects (over 40 km)</td>\n",
              "      <td>British Columbia, All</td>\n",
              "      <td>GH-001-2014</td>\n",
              "      <td>Stantec Consulting Ltd., TERA Environmental Co...</td>\n",
              "      <td>Operating</td>\n",
              "      <td>GC-125</td>\n",
              "      <td>https://apps.cer-rec.gc.ca/REGDOCS/Item/View/1...</td>\n",
              "      <td>https://apps.cer-rec.gc.ca/REGDOCS/Item/View/3...</td>\n",
              "      <td>Appendix G: TERA Aquatics Summary Report</td>\n",
              "      <td>15.0</td>\n",
              "      <td>Water, All</td>\n",
              "      <td>http://www.cer-rec.gc.ca/esa-ees/nrthmntn/nrth...</td>\n",
              "      <td>18</td>\n",
              "      <td>48.0</td>\n",
              "      <td>5.87</td>\n",
              "      <td>No</td>\n",
              "      <td>nrthmntn</td>\n",
              "      <td>http://www.cer-rec.gc.ca/esa-ees/nrthmntn.zip</td>\n",
              "      <td>False</td>\n",
              "      <td>nrthmntn_table-4-summary-of-watercourse-crossi...</td>\n",
              "      <td>1059614_18_lattice-v_1.csv</td>\n",
              "      <td>Field Site No Name Legal Location UTM Coordin...</td>\n",
              "    </tr>\n",
              "    <tr>\n",
              "      <th>3</th>\n",
              "      <td>9137</td>\n",
              "      <td>TABLE 4 SUMMARY OF WATERCOURSE CROSSINGS ALONG...</td>\n",
              "      <td>Table</td>\n",
              "      <td>Application for North Montney Project</td>\n",
              "      <td>North Montney</td>\n",
              "      <td>11/8/2013</td>\n",
              "      <td>NOVA Gas Transmission Ltd.</td>\n",
              "      <td>Gas</td>\n",
              "      <td>B2-16 ESA_Appendix_G_Part1of4 (A3Q6H2)</td>\n",
              "      <td>https://apps.cer-rec.gc.ca/REGDOCS/Item/LoadRe...</td>\n",
              "      <td>A3Q6H2</td>\n",
              "      <td>1059614</td>\n",
              "      <td>https://apps.cer-rec.gc.ca/REGDOCS/File/Downlo...</td>\n",
              "      <td>Large Projects (over 40 km)</td>\n",
              "      <td>British Columbia, All</td>\n",
              "      <td>GH-001-2014</td>\n",
              "      <td>Stantec Consulting Ltd., TERA Environmental Co...</td>\n",
              "      <td>Operating</td>\n",
              "      <td>GC-125</td>\n",
              "      <td>https://apps.cer-rec.gc.ca/REGDOCS/Item/View/1...</td>\n",
              "      <td>https://apps.cer-rec.gc.ca/REGDOCS/Item/View/3...</td>\n",
              "      <td>Appendix G: TERA Aquatics Summary Report</td>\n",
              "      <td>15.0</td>\n",
              "      <td>Water, All</td>\n",
              "      <td>http://www.cer-rec.gc.ca/esa-ees/nrthmntn/nrth...</td>\n",
              "      <td>19</td>\n",
              "      <td>48.0</td>\n",
              "      <td>5.87</td>\n",
              "      <td>No</td>\n",
              "      <td>nrthmntn</td>\n",
              "      <td>http://www.cer-rec.gc.ca/esa-ees/nrthmntn.zip</td>\n",
              "      <td>False</td>\n",
              "      <td>nrthmntn_table-4-summary-of-watercourse-crossi...</td>\n",
              "      <td>1059614_19_lattice-v_1.csv</td>\n",
              "      <td>Field Site No Name Legal Location UTM Coordin...</td>\n",
              "    </tr>\n",
              "    <tr>\n",
              "      <th>4</th>\n",
              "      <td>9138</td>\n",
              "      <td>TABLE 4 SUMMARY OF WATERCOURSE CROSSINGS ALONG...</td>\n",
              "      <td>Table</td>\n",
              "      <td>Application for North Montney Project</td>\n",
              "      <td>North Montney</td>\n",
              "      <td>11/8/2013</td>\n",
              "      <td>NOVA Gas Transmission Ltd.</td>\n",
              "      <td>Gas</td>\n",
              "      <td>B2-16 ESA_Appendix_G_Part1of4 (A3Q6H2)</td>\n",
              "      <td>https://apps.cer-rec.gc.ca/REGDOCS/Item/LoadRe...</td>\n",
              "      <td>A3Q6H2</td>\n",
              "      <td>1059614</td>\n",
              "      <td>https://apps.cer-rec.gc.ca/REGDOCS/File/Downlo...</td>\n",
              "      <td>Large Projects (over 40 km)</td>\n",
              "      <td>British Columbia, All</td>\n",
              "      <td>GH-001-2014</td>\n",
              "      <td>Stantec Consulting Ltd., TERA Environmental Co...</td>\n",
              "      <td>Operating</td>\n",
              "      <td>GC-125</td>\n",
              "      <td>https://apps.cer-rec.gc.ca/REGDOCS/Item/View/1...</td>\n",
              "      <td>https://apps.cer-rec.gc.ca/REGDOCS/Item/View/3...</td>\n",
              "      <td>Appendix G: TERA Aquatics Summary Report</td>\n",
              "      <td>15.0</td>\n",
              "      <td>Water, All</td>\n",
              "      <td>http://www.cer-rec.gc.ca/esa-ees/nrthmntn/nrth...</td>\n",
              "      <td>20</td>\n",
              "      <td>48.0</td>\n",
              "      <td>5.87</td>\n",
              "      <td>No</td>\n",
              "      <td>nrthmntn</td>\n",
              "      <td>http://www.cer-rec.gc.ca/esa-ees/nrthmntn.zip</td>\n",
              "      <td>False</td>\n",
              "      <td>nrthmntn_table-4-summary-of-watercourse-crossi...</td>\n",
              "      <td>1059614_20_lattice-v_1.csv</td>\n",
              "      <td>Field Site No Name Legal Location UTM Coordin...</td>\n",
              "    </tr>\n",
              "  </tbody>\n",
              "</table>\n",
              "</div>"
            ],
            "text/plain": [
              "   Index  ...                                            csvText\n",
              "0   9134  ...   Survey Date Aboriginal Communities Detail Jul...\n",
              "1   9135  ...   Field Site No Name Legal Location UTM Coordin...\n",
              "2   9136  ...   Field Site No Name Legal Location UTM Coordin...\n",
              "3   9137  ...   Field Site No Name Legal Location UTM Coordin...\n",
              "4   9138  ...   Field Site No Name Legal Location UTM Coordin...\n",
              "\n",
              "[5 rows x 35 columns]"
            ]
          },
          "metadata": {
            "tags": []
          },
          "execution_count": 5
        }
      ]
    },
    {
      "cell_type": "code",
      "metadata": {
        "id": "FDuUc81sPkjT"
      },
      "source": [
        "# Explicitly ask for tensor allocation on CUDA device :0\n",
        "classifier = pipeline(\"zero-shot-classification\", device=0)"
      ],
      "execution_count": null,
      "outputs": []
    },
    {
      "cell_type": "code",
      "metadata": {
        "colab": {
          "base_uri": "https://localhost:8080/",
          "height": 69
        },
        "id": "Ip3S0PYHPmPJ",
        "outputId": "d17d92d0-ec28-4a22-8101-baf4a22149ff"
      },
      "source": [
        "df_joined.iloc[100]['text']"
      ],
      "execution_count": null,
      "outputs": [
        {
          "output_type": "execute_result",
          "data": {
            "application/vnd.google.colaboratory.intrinsic+json": {
              "type": "string"
            },
            "text/plain": [
              "' Full timeEmployees Part time VolunteerEmployees Equipment ServicesProvided Areas CommunitiesServed Hudson sHope FireDepartment 1 fire chief 25 firefighters Not specified Firesuppression publiceducation fireprevention andinspectionservices City of Hudson s Hopeand surrounding area MoberlyLake FireDepartment 1 fire chief Severalfirefighters notspecified Not specified Not specified Moberly Lake area West Moberly FirstNation and SaulteauFirst Nation SOURCE Modified from PRRD 2013a '"
            ]
          },
          "metadata": {
            "tags": []
          },
          "execution_count": 7
        }
      ]
    },
    {
      "cell_type": "code",
      "metadata": {
        "id": "7hM_whVXPpDW"
      },
      "source": [
        "sequences = []\n",
        "\n",
        "for x in range(len(df_joined)):\n",
        "  sequences.append(df_joined.iloc[x]['text'][1:300])"
      ],
      "execution_count": null,
      "outputs": []
    },
    {
      "cell_type": "code",
      "metadata": {
        "colab": {
          "base_uri": "https://localhost:8080/"
        },
        "id": "y2i8SmQVVF0J",
        "outputId": "9ecdad0b-db66-4e0a-d67d-883a193cc8af"
      },
      "source": [
        "len(sequences)"
      ],
      "execution_count": null,
      "outputs": [
        {
          "output_type": "execute_result",
          "data": {
            "text/plain": [
              "28891"
            ]
          },
          "metadata": {
            "tags": []
          },
          "execution_count": 13
        }
      ]
    },
    {
      "cell_type": "code",
      "metadata": {
        "colab": {
          "base_uri": "https://localhost:8080/"
        },
        "id": "loDVpdHvP2XQ",
        "outputId": "3d872f1a-11c2-4a5a-bdbf-5b0ddc742344"
      },
      "source": [
        "candidate_labels = \"\"\"Physical and meteorological environment,Soil and soil productivity,Vegetation,Water quality and quantity,Fish and fish habitat,Wetlands,Wildlife and wildlife habitat,Species at Risk or Species of Special Status and related habitat,Greenhouse gas (GHG) emissions and climate change,GHG Emissions and Climate Change – Assessment of Upstream GHG Emissions,Air emissions,Acoustic environment,Electromagnetism and Corona Discharge,Human occupancy and resource use,Heritage resources,Navigation and navigation safety,Traditional land and resource use,Social and cultural well-being,Human health and aesthetics,Infrastructure and services,Employment and economy,Environmental Obligations,Rights of Indigenous Peoples\"\"\".split(',')\n",
        "hypothesis_template = \"The data from this table is about {}.\"\n",
        "candidate_labels"
      ],
      "execution_count": null,
      "outputs": [
        {
          "output_type": "execute_result",
          "data": {
            "text/plain": [
              "['Physical and meteorological environment',\n",
              " 'Soil and soil productivity',\n",
              " 'Vegetation',\n",
              " 'Water quality and quantity',\n",
              " 'Fish and fish habitat',\n",
              " 'Wetlands',\n",
              " 'Wildlife and wildlife habitat',\n",
              " 'Species at Risk or Species of Special Status and related habitat',\n",
              " 'Greenhouse gas (GHG) emissions and climate change',\n",
              " 'GHG Emissions and Climate Change – Assessment of Upstream GHG Emissions',\n",
              " 'Air emissions',\n",
              " 'Acoustic environment',\n",
              " 'Electromagnetism and Corona Discharge',\n",
              " 'Human occupancy and resource use',\n",
              " 'Heritage resources',\n",
              " 'Navigation and navigation safety',\n",
              " 'Traditional land and resource use',\n",
              " 'Social and cultural well-being',\n",
              " 'Human health and aesthetics',\n",
              " 'Infrastructure and services',\n",
              " 'Employment and economy',\n",
              " 'Environmental Obligations',\n",
              " 'Rights of Indigenous Peoples']"
            ]
          },
          "metadata": {
            "tags": []
          },
          "execution_count": 13
        }
      ]
    },
    {
      "cell_type": "code",
      "metadata": {
        "id": "9F2Z8U3XYDSa"
      },
      "source": [
        "from itertools import zip_longest\n",
        " \n",
        "def grouper(iterable_obj, count, fillvalue=None):\n",
        "    args = [iter(iterable_obj)] * count\n",
        "    return zip_longest(*args, fillvalue=fillvalue)\n",
        "\n",
        "output = [] \n",
        " \n",
        "for sequence_batch in grouper(sequences, 10, \"\"):\n",
        "    output.append(classifier(sequence_batch, candidate_labels, hypothesis_template=hypothesis_template, multi_label=True))"
      ],
      "execution_count": null,
      "outputs": []
    },
    {
      "cell_type": "code",
      "metadata": {
        "colab": {
          "base_uri": "https://localhost:8080/"
        },
        "id": "0RS5OvrhS-Km",
        "outputId": "837143da-a171-4616-a7ab-7a623e225e96"
      },
      "source": [
        "output[0]"
      ],
      "execution_count": null,
      "outputs": [
        {
          "output_type": "execute_result",
          "data": {
            "text/plain": [
              "[{'labels': ['Traditional land and resource use',\n",
              "   'Water quality and quantity',\n",
              "   'Social and cultural well-being',\n",
              "   'Human occupancy and resource use',\n",
              "   'Fish and fish habitat',\n",
              "   'Heritage resources',\n",
              "   'Navigation and navigation safety',\n",
              "   'Vegetation',\n",
              "   'Wetlands',\n",
              "   'Physical and meteorological environment',\n",
              "   'Soil and soil productivity',\n",
              "   'Infrastructure',\n",
              "   'Wildlife and wildlife habitat',\n",
              "   'Species at Risk or Species of Special Status and related habitat',\n",
              "   'Human health and aesthetics',\n",
              "   'Electromagnetism and Corona Discharge',\n",
              "   'Acoustic environment',\n",
              "   'Air emissions',\n",
              "   'Greenhouse gas (GHG) emissions and climate change'],\n",
              "  'scores': [0.6877259612083435,\n",
              "   0.649422287940979,\n",
              "   0.4630372226238251,\n",
              "   0.30576542019844055,\n",
              "   0.08918734639883041,\n",
              "   0.03485028073191643,\n",
              "   0.03348839655518532,\n",
              "   0.02901163510978222,\n",
              "   0.017860960215330124,\n",
              "   0.015356151387095451,\n",
              "   0.012270933017134666,\n",
              "   0.009136791341006756,\n",
              "   0.008778736926615238,\n",
              "   0.006375862751156092,\n",
              "   0.004991511814296246,\n",
              "   0.004504995886236429,\n",
              "   0.002962834434583783,\n",
              "   0.0019470202969387174,\n",
              "   0.0015868264017626643],\n",
              "  'sequence': 'Survey Date Aboriginal Communities Detail July 9 to 12 2011 Blueberry River First Nation s s Halfway River First Nation s s McLeod Lake Indian Band s s North East M tis Association s s Summer 2011 open water aquatic s s assessments September 18 to October 10 2011 Blueberry River First Nation s s Ha'},\n",
              " {'labels': ['Wildlife and wildlife habitat',\n",
              "   'Fish and fish habitat',\n",
              "   'Water quality and quantity',\n",
              "   'Traditional land and resource use',\n",
              "   'Species at Risk or Species of Special Status and related habitat',\n",
              "   'Physical and meteorological environment',\n",
              "   'Heritage resources',\n",
              "   'Wetlands',\n",
              "   'Navigation and navigation safety',\n",
              "   'Human occupancy and resource use',\n",
              "   'Infrastructure',\n",
              "   'Acoustic environment',\n",
              "   'Vegetation',\n",
              "   'Electromagnetism and Corona Discharge',\n",
              "   'Soil and soil productivity',\n",
              "   'Social and cultural well-being',\n",
              "   'Greenhouse gas (GHG) emissions and climate change',\n",
              "   'Air emissions',\n",
              "   'Human health and aesthetics'],\n",
              "  'scores': [0.9814690351486206,\n",
              "   0.9742945432662964,\n",
              "   0.6452654004096985,\n",
              "   0.27486467361450195,\n",
              "   0.15899226069450378,\n",
              "   0.15799030661582947,\n",
              "   0.13229572772979736,\n",
              "   0.040598686784505844,\n",
              "   0.009767457842826843,\n",
              "   0.00689883204177022,\n",
              "   0.006553728133440018,\n",
              "   0.005103312898427248,\n",
              "   0.0012682343367487192,\n",
              "   0.0009204227826558053,\n",
              "   0.0008161196019500494,\n",
              "   0.000766238896176219,\n",
              "   0.0004133122565690428,\n",
              "   0.00017461848619859666,\n",
              "   8.615710976300761e-05],\n",
              "  'sequence': 'Field Site No Name Legal Location UTM Coordinates NAD83 Zone 10 Latitude Longitude DD MM SS Elevation m asl Fish Stream Classification s 1 7 s Fish and Wildlife Timing Window Low Risk s 2 7 s Riparian Management Area m s 1 2 7 s Open Water Mean Channel Morphology m s 3 s Fish Species Captured or Ob'},\n",
              " {'labels': ['Wildlife and wildlife habitat',\n",
              "   'Fish and fish habitat',\n",
              "   'Water quality and quantity',\n",
              "   'Traditional land and resource use',\n",
              "   'Species at Risk or Species of Special Status and related habitat',\n",
              "   'Physical and meteorological environment',\n",
              "   'Heritage resources',\n",
              "   'Wetlands',\n",
              "   'Navigation and navigation safety',\n",
              "   'Human occupancy and resource use',\n",
              "   'Infrastructure',\n",
              "   'Acoustic environment',\n",
              "   'Vegetation',\n",
              "   'Electromagnetism and Corona Discharge',\n",
              "   'Soil and soil productivity',\n",
              "   'Social and cultural well-being',\n",
              "   'Greenhouse gas (GHG) emissions and climate change',\n",
              "   'Air emissions',\n",
              "   'Human health and aesthetics'],\n",
              "  'scores': [0.9814690351486206,\n",
              "   0.9742945432662964,\n",
              "   0.6452654004096985,\n",
              "   0.27486467361450195,\n",
              "   0.15899226069450378,\n",
              "   0.15799030661582947,\n",
              "   0.13229572772979736,\n",
              "   0.040598686784505844,\n",
              "   0.009767457842826843,\n",
              "   0.00689883204177022,\n",
              "   0.006553728133440018,\n",
              "   0.005103312898427248,\n",
              "   0.0012682343367487192,\n",
              "   0.0009204227826558053,\n",
              "   0.0008161196019500494,\n",
              "   0.000766238896176219,\n",
              "   0.0004133122565690428,\n",
              "   0.00017461848619859666,\n",
              "   8.615710976300761e-05],\n",
              "  'sequence': 'Field Site No Name Legal Location UTM Coordinates NAD83 Zone 10 Latitude Longitude DD MM SS Elevation m asl Fish Stream Classification s 1 7 s Fish and Wildlife Timing Window Low Risk s 2 7 s Riparian Management Area m s 1 2 7 s Open Water Mean Channel Morphology m s 3 s Fish Species Captured or Ob'},\n",
              " {'labels': ['Wildlife and wildlife habitat',\n",
              "   'Fish and fish habitat',\n",
              "   'Water quality and quantity',\n",
              "   'Traditional land and resource use',\n",
              "   'Species at Risk or Species of Special Status and related habitat',\n",
              "   'Physical and meteorological environment',\n",
              "   'Heritage resources',\n",
              "   'Wetlands',\n",
              "   'Navigation and navigation safety',\n",
              "   'Human occupancy and resource use',\n",
              "   'Infrastructure',\n",
              "   'Acoustic environment',\n",
              "   'Vegetation',\n",
              "   'Electromagnetism and Corona Discharge',\n",
              "   'Soil and soil productivity',\n",
              "   'Social and cultural well-being',\n",
              "   'Greenhouse gas (GHG) emissions and climate change',\n",
              "   'Air emissions',\n",
              "   'Human health and aesthetics'],\n",
              "  'scores': [0.9814690351486206,\n",
              "   0.9742945432662964,\n",
              "   0.6452654004096985,\n",
              "   0.27486467361450195,\n",
              "   0.15899226069450378,\n",
              "   0.15799030661582947,\n",
              "   0.13229572772979736,\n",
              "   0.040598686784505844,\n",
              "   0.009767457842826843,\n",
              "   0.00689883204177022,\n",
              "   0.006553728133440018,\n",
              "   0.005103312898427248,\n",
              "   0.0012682343367487192,\n",
              "   0.0009204227826558053,\n",
              "   0.0008161196019500494,\n",
              "   0.000766238896176219,\n",
              "   0.0004133122565690428,\n",
              "   0.00017461848619859666,\n",
              "   8.615710976300761e-05],\n",
              "  'sequence': 'Field Site No Name Legal Location UTM Coordinates NAD83 Zone 10 Latitude Longitude DD MM SS Elevation m asl Fish Stream Classification s 1 7 s Fish and Wildlife Timing Window Low Risk s 2 7 s Riparian Management Area m s 1 2 7 s Open Water Mean Channel Morphology m s 3 s Fish Species Captured or Ob'},\n",
              " {'labels': ['Wildlife and wildlife habitat',\n",
              "   'Fish and fish habitat',\n",
              "   'Water quality and quantity',\n",
              "   'Traditional land and resource use',\n",
              "   'Species at Risk or Species of Special Status and related habitat',\n",
              "   'Physical and meteorological environment',\n",
              "   'Heritage resources',\n",
              "   'Wetlands',\n",
              "   'Navigation and navigation safety',\n",
              "   'Human occupancy and resource use',\n",
              "   'Infrastructure',\n",
              "   'Acoustic environment',\n",
              "   'Vegetation',\n",
              "   'Electromagnetism and Corona Discharge',\n",
              "   'Soil and soil productivity',\n",
              "   'Social and cultural well-being',\n",
              "   'Greenhouse gas (GHG) emissions and climate change',\n",
              "   'Air emissions',\n",
              "   'Human health and aesthetics'],\n",
              "  'scores': [0.9814690351486206,\n",
              "   0.9742945432662964,\n",
              "   0.6452654004096985,\n",
              "   0.27486467361450195,\n",
              "   0.15899226069450378,\n",
              "   0.15799030661582947,\n",
              "   0.13229572772979736,\n",
              "   0.040598686784505844,\n",
              "   0.009767457842826843,\n",
              "   0.00689883204177022,\n",
              "   0.006553728133440018,\n",
              "   0.005103312898427248,\n",
              "   0.0012682343367487192,\n",
              "   0.0009204227826558053,\n",
              "   0.0008161196019500494,\n",
              "   0.000766238896176219,\n",
              "   0.0004133122565690428,\n",
              "   0.00017461848619859666,\n",
              "   8.615710976300761e-05],\n",
              "  'sequence': 'Field Site No Name Legal Location UTM Coordinates NAD83 Zone 10 Latitude Longitude DD MM SS Elevation m asl Fish Stream Classification s 1 7 s Fish and Wildlife Timing Window Low Risk s 2 7 s Riparian Management Area m s 1 2 7 s Open Water Mean Channel Morphology m s 3 s Fish Species Captured or Ob'},\n",
              " {'labels': ['Wildlife and wildlife habitat',\n",
              "   'Fish and fish habitat',\n",
              "   'Water quality and quantity',\n",
              "   'Traditional land and resource use',\n",
              "   'Species at Risk or Species of Special Status and related habitat',\n",
              "   'Physical and meteorological environment',\n",
              "   'Heritage resources',\n",
              "   'Wetlands',\n",
              "   'Navigation and navigation safety',\n",
              "   'Human occupancy and resource use',\n",
              "   'Infrastructure',\n",
              "   'Acoustic environment',\n",
              "   'Vegetation',\n",
              "   'Electromagnetism and Corona Discharge',\n",
              "   'Soil and soil productivity',\n",
              "   'Social and cultural well-being',\n",
              "   'Greenhouse gas (GHG) emissions and climate change',\n",
              "   'Air emissions',\n",
              "   'Human health and aesthetics'],\n",
              "  'scores': [0.9814690351486206,\n",
              "   0.9742945432662964,\n",
              "   0.6452654004096985,\n",
              "   0.27486467361450195,\n",
              "   0.15899226069450378,\n",
              "   0.15799030661582947,\n",
              "   0.13229572772979736,\n",
              "   0.040598686784505844,\n",
              "   0.009767457842826843,\n",
              "   0.00689883204177022,\n",
              "   0.006553728133440018,\n",
              "   0.005103312898427248,\n",
              "   0.0012682343367487192,\n",
              "   0.0009204227826558053,\n",
              "   0.0008161196019500494,\n",
              "   0.000766238896176219,\n",
              "   0.0004133122565690428,\n",
              "   0.00017461848619859666,\n",
              "   8.615710976300761e-05],\n",
              "  'sequence': 'Field Site No Name Legal Location UTM Coordinates NAD83 Zone 10 Latitude Longitude DD MM SS Elevation m asl Fish Stream Classification s 1 7 s Fish and Wildlife Timing Window Low Risk s 2 7 s Riparian Management Area m s 1 2 7 s Open Water Mean Channel Morphology m s 3 s Fish Species Captured or Ob'},\n",
              " {'labels': ['Wildlife and wildlife habitat',\n",
              "   'Fish and fish habitat',\n",
              "   'Water quality and quantity',\n",
              "   'Traditional land and resource use',\n",
              "   'Species at Risk or Species of Special Status and related habitat',\n",
              "   'Physical and meteorological environment',\n",
              "   'Heritage resources',\n",
              "   'Wetlands',\n",
              "   'Navigation and navigation safety',\n",
              "   'Human occupancy and resource use',\n",
              "   'Infrastructure',\n",
              "   'Acoustic environment',\n",
              "   'Vegetation',\n",
              "   'Electromagnetism and Corona Discharge',\n",
              "   'Soil and soil productivity',\n",
              "   'Social and cultural well-being',\n",
              "   'Greenhouse gas (GHG) emissions and climate change',\n",
              "   'Air emissions',\n",
              "   'Human health and aesthetics'],\n",
              "  'scores': [0.9814690351486206,\n",
              "   0.9742945432662964,\n",
              "   0.6452654004096985,\n",
              "   0.27486467361450195,\n",
              "   0.15899226069450378,\n",
              "   0.15799030661582947,\n",
              "   0.13229572772979736,\n",
              "   0.040598686784505844,\n",
              "   0.009767457842826843,\n",
              "   0.00689883204177022,\n",
              "   0.006553728133440018,\n",
              "   0.005103312898427248,\n",
              "   0.0012682343367487192,\n",
              "   0.0009204227826558053,\n",
              "   0.0008161196019500494,\n",
              "   0.000766238896176219,\n",
              "   0.0004133122565690428,\n",
              "   0.00017461848619859666,\n",
              "   8.615710976300761e-05],\n",
              "  'sequence': 'Field Site No Name Legal Location UTM Coordinates NAD83 Zone 10 Latitude Longitude DD MM SS Elevation m asl Fish Stream Classification s 1 7 s Fish and Wildlife Timing Window Low Risk s 2 7 s Riparian Management Area m s 1 2 7 s Open Water Mean Channel Morphology m s 3 s Fish Species Captured or Ob'},\n",
              " {'labels': ['Wildlife and wildlife habitat',\n",
              "   'Fish and fish habitat',\n",
              "   'Water quality and quantity',\n",
              "   'Traditional land and resource use',\n",
              "   'Species at Risk or Species of Special Status and related habitat',\n",
              "   'Physical and meteorological environment',\n",
              "   'Heritage resources',\n",
              "   'Wetlands',\n",
              "   'Navigation and navigation safety',\n",
              "   'Human occupancy and resource use',\n",
              "   'Infrastructure',\n",
              "   'Acoustic environment',\n",
              "   'Vegetation',\n",
              "   'Electromagnetism and Corona Discharge',\n",
              "   'Soil and soil productivity',\n",
              "   'Social and cultural well-being',\n",
              "   'Greenhouse gas (GHG) emissions and climate change',\n",
              "   'Air emissions',\n",
              "   'Human health and aesthetics'],\n",
              "  'scores': [0.9814690351486206,\n",
              "   0.9742945432662964,\n",
              "   0.6452654004096985,\n",
              "   0.27486467361450195,\n",
              "   0.15899226069450378,\n",
              "   0.15799030661582947,\n",
              "   0.13229572772979736,\n",
              "   0.040598686784505844,\n",
              "   0.009767457842826843,\n",
              "   0.00689883204177022,\n",
              "   0.006553728133440018,\n",
              "   0.005103312898427248,\n",
              "   0.0012682343367487192,\n",
              "   0.0009204227826558053,\n",
              "   0.0008161196019500494,\n",
              "   0.000766238896176219,\n",
              "   0.0004133122565690428,\n",
              "   0.00017461848619859666,\n",
              "   8.615710976300761e-05],\n",
              "  'sequence': 'Field Site No Name Legal Location UTM Coordinates NAD83 Zone 10 Latitude Longitude DD MM SS Elevation m asl Fish Stream Classification s 1 7 s Fish and Wildlife Timing Window Low Risk s 2 7 s Riparian Management Area m s 1 2 7 s Open Water Mean Channel Morphology m s 3 s Fish Species Captured or Ob'},\n",
              " {'labels': ['Physical and meteorological environment',\n",
              "   'Water quality and quantity',\n",
              "   'Traditional land and resource use',\n",
              "   'Soil and soil productivity',\n",
              "   'Wetlands',\n",
              "   'Heritage resources',\n",
              "   'Wildlife and wildlife habitat',\n",
              "   'Human occupancy and resource use',\n",
              "   'Infrastructure',\n",
              "   'Navigation and navigation safety',\n",
              "   'Fish and fish habitat',\n",
              "   'Vegetation',\n",
              "   'Species at Risk or Species of Special Status and related habitat',\n",
              "   'Social and cultural well-being',\n",
              "   'Acoustic environment',\n",
              "   'Greenhouse gas (GHG) emissions and climate change',\n",
              "   'Electromagnetism and Corona Discharge',\n",
              "   'Human health and aesthetics',\n",
              "   'Air emissions'],\n",
              "  'scores': [0.9900175929069519,\n",
              "   0.9486124515533447,\n",
              "   0.7587136626243591,\n",
              "   0.7085652351379395,\n",
              "   0.43307122588157654,\n",
              "   0.4282926619052887,\n",
              "   0.28494223952293396,\n",
              "   0.15416912734508514,\n",
              "   0.10397538542747498,\n",
              "   0.08090527355670929,\n",
              "   0.05499452352523804,\n",
              "   0.03953689709305763,\n",
              "   0.01314553152769804,\n",
              "   0.009947795420885086,\n",
              "   0.005897810682654381,\n",
              "   0.0025585233233869076,\n",
              "   0.0019224617863073945,\n",
              "   0.0012489180080592632,\n",
              "   0.0009308267035521567],\n",
              "  'sequence': 'Field Site No Name Legal Location Season and Year of Assessment s 1 s Water Temp C pH Dissolved Oxygen mg L Flow m s Mean Bankfull Width m Mean Wetted Width m Mean Water Depth m Dominant Substrate Mean Bank Height m Bank Shape Bank Texture 2011 2012 Aitken Creek Route C E WC0 Unnamed tributary to S'},\n",
              " {'labels': ['Physical and meteorological environment',\n",
              "   'Water quality and quantity',\n",
              "   'Soil and soil productivity',\n",
              "   'Traditional land and resource use',\n",
              "   'Heritage resources',\n",
              "   'Wetlands',\n",
              "   'Wildlife and wildlife habitat',\n",
              "   'Human occupancy and resource use',\n",
              "   'Infrastructure',\n",
              "   'Fish and fish habitat',\n",
              "   'Vegetation',\n",
              "   'Navigation and navigation safety',\n",
              "   'Species at Risk or Species of Special Status and related habitat',\n",
              "   'Social and cultural well-being',\n",
              "   'Acoustic environment',\n",
              "   'Greenhouse gas (GHG) emissions and climate change',\n",
              "   'Electromagnetism and Corona Discharge',\n",
              "   'Human health and aesthetics',\n",
              "   'Air emissions'],\n",
              "  'scores': [0.9900031685829163,\n",
              "   0.9585605263710022,\n",
              "   0.7310590147972107,\n",
              "   0.6626819968223572,\n",
              "   0.5498867630958557,\n",
              "   0.4855455756187439,\n",
              "   0.23417928814888,\n",
              "   0.10166782140731812,\n",
              "   0.06529694050550461,\n",
              "   0.05954800918698311,\n",
              "   0.0506957583129406,\n",
              "   0.017039980739355087,\n",
              "   0.010184281505644321,\n",
              "   0.0057680909521877766,\n",
              "   0.0030701691284775734,\n",
              "   0.002601096872240305,\n",
              "   0.0020984364673495293,\n",
              "   0.0019137001363560557,\n",
              "   0.0007603743579238653],\n",
              "  'sequence': 'Field Site No Name Legal Location Season and Year of Assessment s 1 s Water Temp C pH Dissolved Oxygen mg L Flow m s Mean Bankfull Width m Mean Wetted Width m Mean Water Depth m Dominant Substrate Mean Bank Height m Bank Shape Bank Texture C E WC22 Farrell Creek D 017 A 094 B 08 Fall 2011 8 4 7 9 1'}]"
            ]
          },
          "metadata": {
            "tags": []
          },
          "execution_count": 29
        }
      ]
    },
    {
      "cell_type": "code",
      "metadata": {
        "id": "YbaOlI23wPEE"
      },
      "source": [
        "# Since we have a list of lists for the outputs (because inference was done in batches), we need to flatten the lists together into one.\n",
        "flatOutput = [item for elem in output for item in elem]"
      ],
      "execution_count": null,
      "outputs": []
    },
    {
      "cell_type": "code",
      "metadata": {
        "id": "-_X0rMIzw4Jl"
      },
      "source": [
        "import pickle \n",
        "with open('zero_shot_vcs.pkl', 'wb') as f:\n",
        "  pickle.dump(flatOutput, f)"
      ],
      "execution_count": null,
      "outputs": []
    },
    {
      "cell_type": "code",
      "metadata": {
        "id": "8qe26VkfvX7O"
      },
      "source": [
        "import pickle\n",
        "infile = open('zero_shot_vcs.pkl', 'rb')\n",
        "zs_vcs_dict_list = pickle.load(infile)\n",
        "infile.close()"
      ],
      "execution_count": null,
      "outputs": []
    },
    {
      "cell_type": "code",
      "metadata": {
        "colab": {
          "base_uri": "https://localhost:8080/"
        },
        "id": "2l7lupmVwiAl",
        "outputId": "063a2894-dbac-4882-d2a8-a759f2d10916"
      },
      "source": [
        "zs_vcs_dict_list[0]"
      ],
      "execution_count": null,
      "outputs": [
        {
          "output_type": "execute_result",
          "data": {
            "text/plain": [
              "{'labels': ['Traditional land and resource use',\n",
              "  'Water quality and quantity',\n",
              "  'Social and cultural well-being',\n",
              "  'Human occupancy and resource use',\n",
              "  'Fish and fish habitat',\n",
              "  'Heritage resources',\n",
              "  'Navigation and navigation safety',\n",
              "  'Vegetation',\n",
              "  'Wetlands',\n",
              "  'Physical and meteorological environment',\n",
              "  'Soil and soil productivity',\n",
              "  'Infrastructure',\n",
              "  'Wildlife and wildlife habitat',\n",
              "  'Species at Risk or Species of Special Status and related habitat',\n",
              "  'Human health and aesthetics',\n",
              "  'Electromagnetism and Corona Discharge',\n",
              "  'Acoustic environment',\n",
              "  'Air emissions',\n",
              "  'Greenhouse gas (GHG) emissions and climate change'],\n",
              " 'scores': [0.6877259612083435,\n",
              "  0.649422287940979,\n",
              "  0.4630372226238251,\n",
              "  0.30576542019844055,\n",
              "  0.08918734639883041,\n",
              "  0.03485028073191643,\n",
              "  0.03348839655518532,\n",
              "  0.02901163510978222,\n",
              "  0.017860960215330124,\n",
              "  0.015356151387095451,\n",
              "  0.012270933017134666,\n",
              "  0.009136791341006756,\n",
              "  0.008778736926615238,\n",
              "  0.006375862751156092,\n",
              "  0.004991511814296246,\n",
              "  0.004504995886236429,\n",
              "  0.002962834434583783,\n",
              "  0.0019470202969387174,\n",
              "  0.0015868264017626643],\n",
              " 'sequence': 'Survey Date Aboriginal Communities Detail July 9 to 12 2011 Blueberry River First Nation s s Halfway River First Nation s s McLeod Lake Indian Band s s North East M tis Association s s Summer 2011 open water aquatic s s assessments September 18 to October 10 2011 Blueberry River First Nation s s Ha'}"
            ]
          },
          "metadata": {
            "tags": []
          },
          "execution_count": 11
        }
      ]
    },
    {
      "cell_type": "code",
      "metadata": {
        "colab": {
          "base_uri": "https://localhost:8080/"
        },
        "id": "qSKSYIm5wr5Z",
        "outputId": "d950243e-7748-416a-c1a0-4c46ae8c089b"
      },
      "source": [
        "len(zs_vcs_dict_list)"
      ],
      "execution_count": null,
      "outputs": [
        {
          "output_type": "execute_result",
          "data": {
            "text/plain": [
              "28900"
            ]
          },
          "metadata": {
            "tags": []
          },
          "execution_count": 12
        }
      ]
    },
    {
      "cell_type": "code",
      "metadata": {
        "colab": {
          "base_uri": "https://localhost:8080/"
        },
        "id": "cR4YTbLuvvtJ",
        "outputId": "32c884be-13f9-47e7-ee58-096142565d4f"
      },
      "source": [
        "for i in range(0, len(zs_vcs_dict_list)):\n",
        "  zs_vcs_dict_list[0]['scores']"
      ],
      "execution_count": null,
      "outputs": [
        {
          "output_type": "execute_result",
          "data": {
            "text/plain": [
              "{'labels': ['Traditional land and resource use',\n",
              "  'Water quality and quantity',\n",
              "  'Social and cultural well-being',\n",
              "  'Human occupancy and resource use',\n",
              "  'Fish and fish habitat',\n",
              "  'Heritage resources',\n",
              "  'Navigation and navigation safety',\n",
              "  'Vegetation',\n",
              "  'Wetlands',\n",
              "  'Physical and meteorological environment',\n",
              "  'Soil and soil productivity',\n",
              "  'Infrastructure',\n",
              "  'Wildlife and wildlife habitat',\n",
              "  'Species at Risk or Species of Special Status and related habitat',\n",
              "  'Human health and aesthetics',\n",
              "  'Electromagnetism and Corona Discharge',\n",
              "  'Acoustic environment',\n",
              "  'Air emissions',\n",
              "  'Greenhouse gas (GHG) emissions and climate change'],\n",
              " 'scores': [0.6877259612083435,\n",
              "  0.649422287940979,\n",
              "  0.4630372226238251,\n",
              "  0.30576542019844055,\n",
              "  0.08918734639883041,\n",
              "  0.03485028073191643,\n",
              "  0.03348839655518532,\n",
              "  0.02901163510978222,\n",
              "  0.017860960215330124,\n",
              "  0.015356151387095451,\n",
              "  0.012270933017134666,\n",
              "  0.009136791341006756,\n",
              "  0.008778736926615238,\n",
              "  0.006375862751156092,\n",
              "  0.004991511814296246,\n",
              "  0.004504995886236429,\n",
              "  0.002962834434583783,\n",
              "  0.0019470202969387174,\n",
              "  0.0015868264017626643],\n",
              " 'sequence': 'Survey Date Aboriginal Communities Detail July 9 to 12 2011 Blueberry River First Nation s s Halfway River First Nation s s McLeod Lake Indian Band s s North East M tis Association s s Summer 2011 open water aquatic s s assessments September 18 to October 10 2011 Blueberry River First Nation s s Ha'}"
            ]
          },
          "metadata": {
            "tags": []
          },
          "execution_count": 10
        }
      ]
    },
    {
      "cell_type": "code",
      "metadata": {
        "colab": {
          "base_uri": "https://localhost:8080/"
        },
        "id": "rO4n3M2EQBNj",
        "outputId": "9338e082-f89f-4364-80ba-2c6cf843842e"
      },
      "source": [
        "df_output = pd.DataFrame(output)\n",
        "df_output"
      ],
      "execution_count": null,
      "outputs": [
        {
          "output_type": "execute_result",
          "data": {
            "text/plain": [
              "{'labels': ['Traditional land and resource use',\n",
              "  'Water quality and quantity',\n",
              "  'Social and cultural well-being',\n",
              "  'Human occupancy and resource use',\n",
              "  'Fish and fish habitat',\n",
              "  'Heritage resources',\n",
              "  'Navigation and navigation safety',\n",
              "  'Vegetation',\n",
              "  'Wetlands',\n",
              "  'Physical and meteorological environment',\n",
              "  'Soil and soil productivity',\n",
              "  'Infrastructure',\n",
              "  'Wildlife and wildlife habitat',\n",
              "  'Species at Risk or Species of Special Status and related habitat',\n",
              "  'Human health and aesthetics',\n",
              "  'Electromagnetism and Corona Discharge',\n",
              "  'Acoustic environment',\n",
              "  'Air emissions',\n",
              "  'Greenhouse gas (GHG) emissions and climate change'],\n",
              " 'scores': [0.6877259612083435,\n",
              "  0.649422287940979,\n",
              "  0.4630372226238251,\n",
              "  0.30576542019844055,\n",
              "  0.08918734639883041,\n",
              "  0.03485028073191643,\n",
              "  0.03348839655518532,\n",
              "  0.02901163510978222,\n",
              "  0.017860960215330124,\n",
              "  0.015356151387095451,\n",
              "  0.012270933017134666,\n",
              "  0.009136791341006756,\n",
              "  0.008778736926615238,\n",
              "  0.006375862751156092,\n",
              "  0.004991511814296246,\n",
              "  0.004504995886236429,\n",
              "  0.002962834434583783,\n",
              "  0.0019470202969387174,\n",
              "  0.0015868264017626643],\n",
              " 'sequence': 'Survey Date Aboriginal Communities Detail July 9 to 12 2011 Blueberry River First Nation s s Halfway River First Nation s s McLeod Lake Indian Band s s North East M tis Association s s Summer 2011 open water aquatic s s assessments September 18 to October 10 2011 Blueberry River First Nation s s Ha'}"
            ]
          },
          "metadata": {
            "tags": []
          },
          "execution_count": 20
        }
      ]
    },
    {
      "cell_type": "code",
      "metadata": {
        "id": "a7SZl8U4TAs8"
      },
      "source": [
        "df_output[df_output.scores > 0.8]"
      ],
      "execution_count": null,
      "outputs": []
    },
    {
      "cell_type": "code",
      "metadata": {
        "id": "Z_rSngYmTG1X"
      },
      "source": [
        ""
      ],
      "execution_count": null,
      "outputs": []
    }
  ]
}