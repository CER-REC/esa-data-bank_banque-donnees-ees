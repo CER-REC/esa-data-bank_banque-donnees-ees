{
  "nbformat": 4,
  "nbformat_minor": 0,
  "metadata": {
    "colab": {
      "name": "01-esa-table-vec-data-labeling.ipynb",
      "provenance": [],
      "collapsed_sections": [],
      "machine_shape": "hm",
      "authorship_tag": "ABX9TyN1pCYIGZj6fHwEvMyziCVn",
      "include_colab_link": true
    },
    "kernelspec": {
      "name": "python3",
      "display_name": "Python 3"
    },
    "language_info": {
      "name": "python"
    },
    "accelerator": "GPU"
  },
  "cells": [
    {
      "cell_type": "markdown",
      "metadata": {
        "id": "view-in-github",
        "colab_type": "text"
      },
      "source": [
        "<a href=\"https://colab.research.google.com/github/CER-REC/esa-data-bank_banque-donnees-ees/blob/master/Codes/Section_05_VEC_Labeling_for_Tables/01_esa_table_vec_data_labeling.ipynb\" target=\"_parent\"><img src=\"https://colab.research.google.com/assets/colab-badge.svg\" alt=\"Open In Colab\"/></a>"
      ]
    },
    {
      "cell_type": "markdown",
      "metadata": {
        "id": "eVl0iXvhWz-i"
      },
      "source": [
        "# Labeling ESA tables with VEC labels"
      ]
    },
    {
      "cell_type": "code",
      "metadata": {
        "colab": {
          "base_uri": "https://localhost:8080/"
        },
        "id": "HMUcp4ubVaHE",
        "outputId": "b9898340-9674-46e7-d316-0d694b7c3666"
      },
      "source": [
        "!pip install snorkel --quiet\n",
        "!pip install spacy --quiet\n",
        "!pip install pytorch-lightning==1.2.8 --quiet\n",
        "!pip install transformers==4.5.1 --quiet\n",
        "!pip install wandb --quiet\n",
        "!python -m spacy download en_core_web_lg"
      ],
      "execution_count": 1,
      "outputs": [
        {
          "output_type": "stream",
          "text": [
            "\u001b[K     |████████████████████████████████| 153kB 8.7MB/s \n",
            "\u001b[K     |████████████████████████████████| 3.8MB 47.8MB/s \n",
            "\u001b[K     |████████████████████████████████| 1.8MB 61.3MB/s \n",
            "\u001b[?25h  Building wheel for networkx (setup.py) ... \u001b[?25l\u001b[?25hdone\n",
            "\u001b[31mERROR: tensorflow 2.4.1 has requirement tensorboard~=2.4, but you'll have tensorboard 1.15.0 which is incompatible.\u001b[0m\n",
            "\u001b[31mERROR: albumentations 0.1.12 has requirement imgaug<0.2.7,>=0.2.5, but you'll have imgaug 0.2.9 which is incompatible.\u001b[0m\n",
            "\u001b[K     |████████████████████████████████| 849kB 9.0MB/s \n",
            "\u001b[K     |████████████████████████████████| 276kB 19.0MB/s \n",
            "\u001b[K     |████████████████████████████████| 6.0MB 35.8MB/s \n",
            "\u001b[K     |████████████████████████████████| 112kB 61.7MB/s \n",
            "\u001b[K     |████████████████████████████████| 276kB 56.8MB/s \n",
            "\u001b[K     |████████████████████████████████| 829kB 53.4MB/s \n",
            "\u001b[K     |████████████████████████████████| 4.9MB 64.0MB/s \n",
            "\u001b[K     |████████████████████████████████| 1.3MB 55.3MB/s \n",
            "\u001b[K     |████████████████████████████████| 143kB 68.1MB/s \n",
            "\u001b[K     |████████████████████████████████| 296kB 66.9MB/s \n",
            "\u001b[?25h  Building wheel for PyYAML (setup.py) ... \u001b[?25l\u001b[?25hdone\n",
            "  Building wheel for future (setup.py) ... \u001b[?25l\u001b[?25hdone\n",
            "\u001b[31mERROR: snorkel 0.9.7 has requirement tensorboard<2.0.0,>=1.14.0, but you'll have tensorboard 2.5.0 which is incompatible.\u001b[0m\n",
            "\u001b[K     |████████████████████████████████| 2.1MB 8.9MB/s \n",
            "\u001b[K     |████████████████████████████████| 901kB 55.7MB/s \n",
            "\u001b[K     |████████████████████████████████| 3.3MB 54.8MB/s \n",
            "\u001b[K     |████████████████████████████████| 1.8MB 8.8MB/s \n",
            "\u001b[K     |████████████████████████████████| 102kB 10.0MB/s \n",
            "\u001b[K     |████████████████████████████████| 133kB 55.8MB/s \n",
            "\u001b[K     |████████████████████████████████| 174kB 56.0MB/s \n",
            "\u001b[K     |████████████████████████████████| 71kB 11.7MB/s \n",
            "\u001b[?25h  Building wheel for subprocess32 (setup.py) ... \u001b[?25l\u001b[?25hdone\n",
            "  Building wheel for pathtools (setup.py) ... \u001b[?25l\u001b[?25hdone\n",
            "Collecting en_core_web_lg==2.2.5\n",
            "\u001b[?25l  Downloading https://github.com/explosion/spacy-models/releases/download/en_core_web_lg-2.2.5/en_core_web_lg-2.2.5.tar.gz (827.9MB)\n",
            "\u001b[K     |████████████████████████████████| 827.9MB 1.2MB/s \n",
            "\u001b[?25hRequirement already satisfied: spacy>=2.2.2 in /usr/local/lib/python3.7/dist-packages (from en_core_web_lg==2.2.5) (2.2.4)\n",
            "Requirement already satisfied: requests<3.0.0,>=2.13.0 in /usr/local/lib/python3.7/dist-packages (from spacy>=2.2.2->en_core_web_lg==2.2.5) (2.23.0)\n",
            "Requirement already satisfied: preshed<3.1.0,>=3.0.2 in /usr/local/lib/python3.7/dist-packages (from spacy>=2.2.2->en_core_web_lg==2.2.5) (3.0.5)\n",
            "Requirement already satisfied: plac<1.2.0,>=0.9.6 in /usr/local/lib/python3.7/dist-packages (from spacy>=2.2.2->en_core_web_lg==2.2.5) (1.1.3)\n",
            "Requirement already satisfied: thinc==7.4.0 in /usr/local/lib/python3.7/dist-packages (from spacy>=2.2.2->en_core_web_lg==2.2.5) (7.4.0)\n",
            "Requirement already satisfied: numpy>=1.15.0 in /usr/local/lib/python3.7/dist-packages (from spacy>=2.2.2->en_core_web_lg==2.2.5) (1.19.5)\n",
            "Requirement already satisfied: blis<0.5.0,>=0.4.0 in /usr/local/lib/python3.7/dist-packages (from spacy>=2.2.2->en_core_web_lg==2.2.5) (0.4.1)\n",
            "Requirement already satisfied: catalogue<1.1.0,>=0.0.7 in /usr/local/lib/python3.7/dist-packages (from spacy>=2.2.2->en_core_web_lg==2.2.5) (1.0.0)\n",
            "Requirement already satisfied: tqdm<5.0.0,>=4.38.0 in /usr/local/lib/python3.7/dist-packages (from spacy>=2.2.2->en_core_web_lg==2.2.5) (4.41.1)\n",
            "Requirement already satisfied: murmurhash<1.1.0,>=0.28.0 in /usr/local/lib/python3.7/dist-packages (from spacy>=2.2.2->en_core_web_lg==2.2.5) (1.0.5)\n",
            "Requirement already satisfied: cymem<2.1.0,>=2.0.2 in /usr/local/lib/python3.7/dist-packages (from spacy>=2.2.2->en_core_web_lg==2.2.5) (2.0.5)\n",
            "Requirement already satisfied: wasabi<1.1.0,>=0.4.0 in /usr/local/lib/python3.7/dist-packages (from spacy>=2.2.2->en_core_web_lg==2.2.5) (0.8.2)\n",
            "Requirement already satisfied: setuptools in /usr/local/lib/python3.7/dist-packages (from spacy>=2.2.2->en_core_web_lg==2.2.5) (56.1.0)\n",
            "Requirement already satisfied: srsly<1.1.0,>=1.0.2 in /usr/local/lib/python3.7/dist-packages (from spacy>=2.2.2->en_core_web_lg==2.2.5) (1.0.5)\n",
            "Requirement already satisfied: idna<3,>=2.5 in /usr/local/lib/python3.7/dist-packages (from requests<3.0.0,>=2.13.0->spacy>=2.2.2->en_core_web_lg==2.2.5) (2.10)\n",
            "Requirement already satisfied: certifi>=2017.4.17 in /usr/local/lib/python3.7/dist-packages (from requests<3.0.0,>=2.13.0->spacy>=2.2.2->en_core_web_lg==2.2.5) (2020.12.5)\n",
            "Requirement already satisfied: chardet<4,>=3.0.2 in /usr/local/lib/python3.7/dist-packages (from requests<3.0.0,>=2.13.0->spacy>=2.2.2->en_core_web_lg==2.2.5) (3.0.4)\n",
            "Requirement already satisfied: urllib3!=1.25.0,!=1.25.1,<1.26,>=1.21.1 in /usr/local/lib/python3.7/dist-packages (from requests<3.0.0,>=2.13.0->spacy>=2.2.2->en_core_web_lg==2.2.5) (1.24.3)\n",
            "Requirement already satisfied: importlib-metadata>=0.20; python_version < \"3.8\" in /usr/local/lib/python3.7/dist-packages (from catalogue<1.1.0,>=0.0.7->spacy>=2.2.2->en_core_web_lg==2.2.5) (4.0.1)\n",
            "Requirement already satisfied: zipp>=0.5 in /usr/local/lib/python3.7/dist-packages (from importlib-metadata>=0.20; python_version < \"3.8\"->catalogue<1.1.0,>=0.0.7->spacy>=2.2.2->en_core_web_lg==2.2.5) (3.4.1)\n",
            "Requirement already satisfied: typing-extensions>=3.6.4; python_version < \"3.8\" in /usr/local/lib/python3.7/dist-packages (from importlib-metadata>=0.20; python_version < \"3.8\"->catalogue<1.1.0,>=0.0.7->spacy>=2.2.2->en_core_web_lg==2.2.5) (3.7.4.3)\n",
            "Building wheels for collected packages: en-core-web-lg\n",
            "  Building wheel for en-core-web-lg (setup.py) ... \u001b[?25l\u001b[?25hdone\n",
            "  Created wheel for en-core-web-lg: filename=en_core_web_lg-2.2.5-cp37-none-any.whl size=829180944 sha256=1a966cb565ae597ff54d6349d7807a423682f671c78f363a58e4912680160940\n",
            "  Stored in directory: /tmp/pip-ephem-wheel-cache-bg4f4k9h/wheels/2a/c1/a6/fc7a877b1efca9bc6a089d6f506f16d3868408f9ff89f8dbfc\n",
            "Successfully built en-core-web-lg\n",
            "Installing collected packages: en-core-web-lg\n",
            "Successfully installed en-core-web-lg-2.2.5\n",
            "\u001b[38;5;2m✔ Download and installation successful\u001b[0m\n",
            "You can now load the model via spacy.load('en_core_web_lg')\n"
          ],
          "name": "stdout"
        }
      ]
    },
    {
      "cell_type": "code",
      "metadata": {
        "colab": {
          "base_uri": "https://localhost:8080/"
        },
        "id": "if6gCNc8sivA",
        "outputId": "9cf6da29-1a0b-402d-ac76-ede736d5dbf5"
      },
      "source": [
        "import pandas as pd\n",
        "import numpy as np\n",
        "import os\n",
        "from snorkel.labeling import labeling_function\n",
        "from snorkel.labeling import LabelingFunction\n",
        "from snorkel.labeling.lf.nlp import nlp_labeling_function\n",
        "from snorkel.preprocess import preprocessor\n",
        "from textblob import TextBlob\n",
        "from snorkel.labeling import PandasLFApplier\n",
        "from snorkel.labeling.apply.dask import DaskLFApplier\n",
        "from sklearn.model_selection import train_test_split\n",
        "import spacy\n",
        "from spacy.matcher import Matcher\n",
        "import numpy as np\n",
        "# nlp = spacy.load(\"en_core_web_lg\")\n",
        "\n",
        "from tqdm.auto import tqdm\n",
        "\n",
        "import torch\n",
        "import torch.nn as nn\n",
        "from torch.utils.data import Dataset, DataLoader\n",
        "\n",
        "from transformers import BertTokenizerFast, BertModel, BertTokenizer, AdamW, get_linear_schedule_with_warmup\n",
        "from transformers import AutoModelForSequenceClassification\n",
        "\n",
        "import pytorch_lightning as pl\n",
        "from pytorch_lightning.metrics.functional import accuracy, f1, auroc\n",
        "from pytorch_lightning.callbacks import ModelCheckpoint, EarlyStopping, BackboneFinetuning, ModelPruning\n",
        "RANDOM_SEED = 42\n",
        "pl.seed_everything(RANDOM_SEED)\n",
        "\n",
        "# weights and biases\n",
        "import wandb\n",
        "\n",
        "# lightning plus wandb\n",
        "from pytorch_lightning.loggers import WandbLogger\n",
        "\n",
        "# downloading files from colab\n",
        "from google.colab import files"
      ],
      "execution_count": 3,
      "outputs": [
        {
          "output_type": "stream",
          "text": [
            "Global seed set to 42\n"
          ],
          "name": "stderr"
        }
      ]
    },
    {
      "cell_type": "code",
      "metadata": {
        "colab": {
          "base_uri": "https://localhost:8080/"
        },
        "id": "9ztNPA5-tSwA",
        "outputId": "5897b173-227e-4a46-def1-dd4bd3c47f13"
      },
      "source": [
        "!nvidia-smi"
      ],
      "execution_count": 4,
      "outputs": [
        {
          "output_type": "stream",
          "text": [
            "Thu May 20 03:00:29 2021       \n",
            "+-----------------------------------------------------------------------------+\n",
            "| NVIDIA-SMI 465.19.01    Driver Version: 460.32.03    CUDA Version: 11.2     |\n",
            "|-------------------------------+----------------------+----------------------+\n",
            "| GPU  Name        Persistence-M| Bus-Id        Disp.A | Volatile Uncorr. ECC |\n",
            "| Fan  Temp  Perf  Pwr:Usage/Cap|         Memory-Usage | GPU-Util  Compute M. |\n",
            "|                               |                      |               MIG M. |\n",
            "|===============================+======================+======================|\n",
            "|   0  Tesla P100-PCIE...  Off  | 00000000:00:04.0 Off |                    0 |\n",
            "| N/A   40C    P0    26W / 250W |      0MiB / 16280MiB |      0%      Default |\n",
            "|                               |                      |                  N/A |\n",
            "+-------------------------------+----------------------+----------------------+\n",
            "                                                                               \n",
            "+-----------------------------------------------------------------------------+\n",
            "| Processes:                                                                  |\n",
            "|  GPU   GI   CI        PID   Type   Process name                  GPU Memory |\n",
            "|        ID   ID                                                   Usage      |\n",
            "|=============================================================================|\n",
            "|  No running processes found                                                 |\n",
            "+-----------------------------------------------------------------------------+\n"
          ],
          "name": "stdout"
        }
      ]
    },
    {
      "cell_type": "code",
      "metadata": {
        "colab": {
          "base_uri": "https://localhost:8080/"
        },
        "id": "D0FXSXIKtWJ9",
        "outputId": "6530c24e-f406-4f0e-c576-f3594edf3cb9"
      },
      "source": [
        "from google.colab import drive\n",
        "drive.mount(\"/content/drive\")"
      ],
      "execution_count": 5,
      "outputs": [
        {
          "output_type": "stream",
          "text": [
            "Mounted at /content/drive\n"
          ],
          "name": "stdout"
        }
      ]
    },
    {
      "cell_type": "code",
      "metadata": {
        "id": "jcOm-FfauDa8"
      },
      "source": [
        "esa_df = pd.read_table('/content/drive/My Drive/ESA_tables_figures_5_15_2020_329pm.txt')"
      ],
      "execution_count": 6,
      "outputs": []
    },
    {
      "cell_type": "code",
      "metadata": {
        "colab": {
          "base_uri": "https://localhost:8080/"
        },
        "id": "RFv90m4ZuZwD",
        "outputId": "bd42f98f-74fd-4871-9802-fcda1c0a496f"
      },
      "source": [
        "len(esa_df)"
      ],
      "execution_count": 8,
      "outputs": [
        {
          "output_type": "execute_result",
          "data": {
            "text/plain": [
              "61247"
            ]
          },
          "metadata": {
            "tags": []
          },
          "execution_count": 8
        }
      ]
    },
    {
      "cell_type": "code",
      "metadata": {
        "colab": {
          "base_uri": "https://localhost:8080/"
        },
        "id": "vLUpZ1CkuM36",
        "outputId": "4f3f20e5-aa53-4c57-f821-5f39f5a83049"
      },
      "source": [
        "df = esa_df[esa_df['hasContent'] == 1]\n",
        "len(df)"
      ],
      "execution_count": 9,
      "outputs": [
        {
          "output_type": "execute_result",
          "data": {
            "text/plain": [
              "52291"
            ]
          },
          "metadata": {
            "tags": []
          },
          "execution_count": 9
        }
      ]
    },
    {
      "cell_type": "code",
      "metadata": {
        "colab": {
          "base_uri": "https://localhost:8080/",
          "height": 591
        },
        "id": "wNqMVvaDuVnS",
        "outputId": "e9665538-0f79-448f-db33-667e98044a3c"
      },
      "source": [
        "df.head()"
      ],
      "execution_count": 10,
      "outputs": [
        {
          "output_type": "execute_result",
          "data": {
            "text/html": [
              "<div>\n",
              "<style scoped>\n",
              "    .dataframe tbody tr th:only-of-type {\n",
              "        vertical-align: middle;\n",
              "    }\n",
              "\n",
              "    .dataframe tbody tr th {\n",
              "        vertical-align: top;\n",
              "    }\n",
              "\n",
              "    .dataframe thead th {\n",
              "        text-align: right;\n",
              "    }\n",
              "</style>\n",
              "<table border=\"1\" class=\"dataframe\">\n",
              "  <thead>\n",
              "    <tr style=\"text-align: right;\">\n",
              "      <th></th>\n",
              "      <th>csvId</th>\n",
              "      <th>csvFileName</th>\n",
              "      <th>csvFullPath</th>\n",
              "      <th>pdfId</th>\n",
              "      <th>page</th>\n",
              "      <th>tableNumber</th>\n",
              "      <th>topRowJson</th>\n",
              "      <th>titleTag</th>\n",
              "      <th>titleTOC</th>\n",
              "      <th>titleFinal</th>\n",
              "      <th>titleFinal_fr</th>\n",
              "      <th>csvRows</th>\n",
              "      <th>csvColumns</th>\n",
              "      <th>method</th>\n",
              "      <th>accuracy</th>\n",
              "      <th>whitespace</th>\n",
              "      <th>csvText</th>\n",
              "      <th>dt_created</th>\n",
              "      <th>hasContent</th>\n",
              "    </tr>\n",
              "  </thead>\n",
              "  <tbody>\n",
              "    <tr>\n",
              "      <th>105</th>\n",
              "      <td>1059614_14_lattice-v_1</td>\n",
              "      <td>1059614_14_lattice-v_1.csv</td>\n",
              "      <td>\\\\luxor\\data\\branch\\Environmental Baseline Dat...</td>\n",
              "      <td>1059614</td>\n",
              "      <td>14</td>\n",
              "      <td>1</td>\n",
              "      <td>[\"Survey Date\", \"Aboriginal Communities\", \"Det...</td>\n",
              "      <td>TABLE 3 SUMMARY OF AQUATICS FIELD WORK AND ABO...</td>\n",
              "      <td>Table 3 Summary of Aquatics Field Work and Abo...</td>\n",
              "      <td>TABLE 3 SUMMARY OF AQUATICS FIELD WORK AND ABO...</td>\n",
              "      <td>TABLEAU 3 RÉSUMÉ DES SPORTS AQUATIQUES DE TRAV...</td>\n",
              "      <td>4</td>\n",
              "      <td>3</td>\n",
              "      <td>lattice-v</td>\n",
              "      <td>100.0000</td>\n",
              "      <td>0.00000</td>\n",
              "      <td>[[\"Survey Date\", \"Aboriginal Communities\", \"De...</td>\n",
              "      <td>2020-04-07 16:35:41</td>\n",
              "      <td>1</td>\n",
              "    </tr>\n",
              "    <tr>\n",
              "      <th>106</th>\n",
              "      <td>1059614_17_lattice-v_1</td>\n",
              "      <td>1059614_17_lattice-v_1.csv</td>\n",
              "      <td>\\\\luxor\\data\\branch\\Environmental Baseline Dat...</td>\n",
              "      <td>1059614</td>\n",
              "      <td>17</td>\n",
              "      <td>1</td>\n",
              "      <td>[\"Field  Site No.\", \"Name,  Legal Location\", \"...</td>\n",
              "      <td>TABLE 4 SUMMARY OF WATERCOURSE CROSSINGS ALONG...</td>\n",
              "      <td>NaN</td>\n",
              "      <td>TABLE 4 SUMMARY OF WATERCOURSE CROSSINGS ALONG...</td>\n",
              "      <td>TABLEAU 4 RÉSUMÉ DES FRANCHISSEMENTS DE COURS ...</td>\n",
              "      <td>10</td>\n",
              "      <td>14</td>\n",
              "      <td>lattice-v</td>\n",
              "      <td>99.8961</td>\n",
              "      <td>9.28571</td>\n",
              "      <td>[[\"Field  Site No.\", \"Name,  Legal Location\", ...</td>\n",
              "      <td>2020-04-07 16:36:05</td>\n",
              "      <td>1</td>\n",
              "    </tr>\n",
              "    <tr>\n",
              "      <th>107</th>\n",
              "      <td>1059614_18_lattice-v_1</td>\n",
              "      <td>1059614_18_lattice-v_1.csv</td>\n",
              "      <td>\\\\luxor\\data\\branch\\Environmental Baseline Dat...</td>\n",
              "      <td>1059614</td>\n",
              "      <td>18</td>\n",
              "      <td>1</td>\n",
              "      <td>[\"Field  Site No.\", \"Name,  Legal Location\", \"...</td>\n",
              "      <td>TABLE 4 Cont'd</td>\n",
              "      <td>NaN</td>\n",
              "      <td>TABLE 4 SUMMARY OF WATERCOURSE CROSSINGS ALONG...</td>\n",
              "      <td>TABLEAU 4 RÉSUMÉ DES FRANCHISSEMENTS DE COURS ...</td>\n",
              "      <td>9</td>\n",
              "      <td>14</td>\n",
              "      <td>lattice-v</td>\n",
              "      <td>100.0000</td>\n",
              "      <td>0.00000</td>\n",
              "      <td>[[\"Field  Site No.\", \"Name,  Legal Location\", ...</td>\n",
              "      <td>2020-04-07 16:36:23</td>\n",
              "      <td>1</td>\n",
              "    </tr>\n",
              "    <tr>\n",
              "      <th>108</th>\n",
              "      <td>1059614_19_lattice-v_1</td>\n",
              "      <td>1059614_19_lattice-v_1.csv</td>\n",
              "      <td>\\\\luxor\\data\\branch\\Environmental Baseline Dat...</td>\n",
              "      <td>1059614</td>\n",
              "      <td>19</td>\n",
              "      <td>1</td>\n",
              "      <td>[\"Field  Site No.\", \"Name,  Legal Location\", \"...</td>\n",
              "      <td>TABLE 4 Cont'd</td>\n",
              "      <td>NaN</td>\n",
              "      <td>TABLE 4 SUMMARY OF WATERCOURSE CROSSINGS ALONG...</td>\n",
              "      <td>TABLEAU 4 RÉSUMÉ DES FRANCHISSEMENTS DE COURS ...</td>\n",
              "      <td>10</td>\n",
              "      <td>14</td>\n",
              "      <td>lattice-v</td>\n",
              "      <td>100.0000</td>\n",
              "      <td>0.00000</td>\n",
              "      <td>[[\"Field  Site No.\", \"Name,  Legal Location\", ...</td>\n",
              "      <td>2020-04-07 16:36:47</td>\n",
              "      <td>1</td>\n",
              "    </tr>\n",
              "    <tr>\n",
              "      <th>109</th>\n",
              "      <td>1059614_20_lattice-v_1</td>\n",
              "      <td>1059614_20_lattice-v_1.csv</td>\n",
              "      <td>\\\\luxor\\data\\branch\\Environmental Baseline Dat...</td>\n",
              "      <td>1059614</td>\n",
              "      <td>20</td>\n",
              "      <td>1</td>\n",
              "      <td>[\"Field  Site No.\", \"Name,  Legal Location\", \"...</td>\n",
              "      <td>TABLE 4 Cont'd</td>\n",
              "      <td>NaN</td>\n",
              "      <td>TABLE 4 SUMMARY OF WATERCOURSE CROSSINGS ALONG...</td>\n",
              "      <td>TABLEAU 4 RÉSUMÉ DES FRANCHISSEMENTS DE COURS ...</td>\n",
              "      <td>8</td>\n",
              "      <td>14</td>\n",
              "      <td>lattice-v</td>\n",
              "      <td>100.0000</td>\n",
              "      <td>0.00000</td>\n",
              "      <td>[[\"Field  Site No.\", \"Name,  Legal Location\", ...</td>\n",
              "      <td>2020-04-07 16:37:02</td>\n",
              "      <td>1</td>\n",
              "    </tr>\n",
              "  </tbody>\n",
              "</table>\n",
              "</div>"
            ],
            "text/plain": [
              "                      csvId  ... hasContent\n",
              "105  1059614_14_lattice-v_1  ...          1\n",
              "106  1059614_17_lattice-v_1  ...          1\n",
              "107  1059614_18_lattice-v_1  ...          1\n",
              "108  1059614_19_lattice-v_1  ...          1\n",
              "109  1059614_20_lattice-v_1  ...          1\n",
              "\n",
              "[5 rows x 19 columns]"
            ]
          },
          "metadata": {
            "tags": []
          },
          "execution_count": 10
        }
      ]
    },
    {
      "cell_type": "code",
      "metadata": {
        "id": "FJ96vnjJuewg"
      },
      "source": [
        ""
      ],
      "execution_count": null,
      "outputs": []
    }
  ]
}