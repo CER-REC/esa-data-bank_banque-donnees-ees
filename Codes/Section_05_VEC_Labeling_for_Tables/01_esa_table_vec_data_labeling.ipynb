{
  "nbformat": 4,
  "nbformat_minor": 0,
  "metadata": {
    "colab": {
      "name": "01-esa-table-vec-data-labeling.ipynb",
      "provenance": [],
      "collapsed_sections": [],
      "machine_shape": "hm",
      "authorship_tag": "ABX9TyN1pCYIGZj6fHwEvMyziCVn",
      "include_colab_link": true
    },
    "kernelspec": {
      "name": "python3",
      "display_name": "Python 3"
    },
    "language_info": {
      "name": "python"
    },
    "accelerator": "GPU"
  },
  "cells": [
    {
      "cell_type": "markdown",
      "metadata": {
        "id": "eVl0iXvhWz-i"
      },
      "source": [
        "# Labeling ESA tables with VEC labels"
      ]
    },
    {
      "cell_type": "code",
      "metadata": {
        "colab": {
          "base_uri": "https://localhost:8080/"
        },
        "id": "if6gCNc8sivA",
        "outputId": "9cf6da29-1a0b-402d-ac76-ede736d5dbf5"
      },
      "source": [
        "import pandas as pd\n",
        "import numpy as np\n",
        "import os\n",
        "from snorkel.labeling import labeling_function\n",
        "from snorkel.labeling import LabelingFunction\n",
        "from snorkel.labeling.lf.nlp import nlp_labeling_function\n",
        "from snorkel.preprocess import preprocessor\n",
        "from textblob import TextBlob\n",
        "from snorkel.labeling import PandasLFApplier\n",
        "from snorkel.labeling.apply.dask import DaskLFApplier\n",
        "from sklearn.model_selection import train_test_split\n",
        "import spacy\n",
        "from spacy.matcher import Matcher\n",
        "import numpy as np\n",
        "\n",
        "from tqdm.auto import tqdm\n",
        "\n",
        "import torch\n",
        "import torch.nn as nn\n",
        "from torch.utils.data import Dataset, DataLoader\n",
        "\n",
        "from transformers import BertTokenizerFast, BertModel, BertTokenizer, AdamW, get_linear_schedule_with_warmup\n",
        "from transformers import AutoModelForSequenceClassification\n",
        "\n",
        "import pytorch_lightning as pl\n",
        "from pytorch_lightning.metrics.functional import accuracy, f1, auroc\n",
        "from pytorch_lightning.callbacks import ModelCheckpoint, EarlyStopping, BackboneFinetuning, ModelPruning\n",
        "RANDOM_SEED = 42\n",
        "pl.seed_everything(RANDOM_SEED)\n",
        "\n",
        "# weights and biases\n",
        "import wandb\n",
        "\n",
        "# lightning plus wandb\n",
        "from pytorch_lightning.loggers import WandbLogger"
      ],
      "execution_count": 3,
      "outputs": [
        {
          "output_type": "stream",
          "text": [
            "Global seed set to 42\n"
          ],
          "name": "stderr"
        }
      ]
    },
    {
      "cell_type": "code",
      "metadata": {
        "colab": {
          "base_uri": "https://localhost:8080/"
        },
        "id": "9ztNPA5-tSwA",
        "outputId": "5897b173-227e-4a46-def1-dd4bd3c47f13"
      },
      "source": [
        "!nvidia-smi"
      ],
      "execution_count": 4,
      "outputs": [
        {
          "output_type": "stream",
          "text": [
            "Thu May 20 03:00:29 2021       \n",
            "+-----------------------------------------------------------------------------+\n",
            "| NVIDIA-SMI 465.19.01    Driver Version: 460.32.03    CUDA Version: 11.2     |\n",
            "|-------------------------------+----------------------+----------------------+\n",
            "| GPU  Name        Persistence-M| Bus-Id        Disp.A | Volatile Uncorr. ECC |\n",
            "| Fan  Temp  Perf  Pwr:Usage/Cap|         Memory-Usage | GPU-Util  Compute M. |\n",
            "|                               |                      |               MIG M. |\n",
            "|===============================+======================+======================|\n",
            "|   0  Tesla P100-PCIE...  Off  | 00000000:00:04.0 Off |                    0 |\n",
            "| N/A   40C    P0    26W / 250W |      0MiB / 16280MiB |      0%      Default |\n",
            "|                               |                      |                  N/A |\n",
            "+-------------------------------+----------------------+----------------------+\n",
            "                                                                               \n",
            "+-----------------------------------------------------------------------------+\n",
            "| Processes:                                                                  |\n",
            "|  GPU   GI   CI        PID   Type   Process name                  GPU Memory |\n",
            "|        ID   ID                                                   Usage      |\n",
            "|=============================================================================|\n",
            "|  No running processes found                                                 |\n",
            "+-----------------------------------------------------------------------------+\n"
          ],
          "name": "stdout"
        }
      ]
    },
    {
      "cell_type": "code",
      "metadata": {
        "colab": {
          "base_uri": "https://localhost:8080/"
        },
        "id": "D0FXSXIKtWJ9",
        "outputId": "6530c24e-f406-4f0e-c576-f3594edf3cb9"
      },
      "source": [
        "from google.colab import drive\n",
        "drive.mount(\"/content/drive\")"
      ],
      "execution_count": 5,
      "outputs": [
        {
          "output_type": "stream",
          "text": [
            "Mounted at /content/drive\n"
          ],
          "name": "stdout"
        }
      ]
    },
    {
      "cell_type": "code",
      "metadata": {
        "id": "jcOm-FfauDa8"
      },
      "source": [
        "esa_df = pd.read_table('/content/drive/My Drive/ESA_tables_figures_5_15_2020_329pm.txt')"
      ],
      "execution_count": 6,
      "outputs": []
    },
    {
      "cell_type": "code",
      "metadata": {
        "colab": {
          "base_uri": "https://localhost:8080/"
        },
        "id": "RFv90m4ZuZwD",
        "outputId": "bd42f98f-74fd-4871-9802-fcda1c0a496f"
      },
      "source": [
        "len(esa_df)"
      ],
      "execution_count": 8,
      "outputs": [
        {
          "output_type": "execute_result",
          "data": {
            "text/plain": [
              "61247"
            ]
          },
          "metadata": {
            "tags": []
          },
          "execution_count": 8
        }
      ]
    },
    {
      "cell_type": "code",
      "metadata": {
        "colab": {
          "base_uri": "https://localhost:8080/"
        },
        "id": "vLUpZ1CkuM36",
        "outputId": "4f3f20e5-aa53-4c57-f821-5f39f5a83049"
      },
      "source": [
        "df = esa_df[esa_df['hasContent'] == 1]\n",
        "len(df)"
      ],
      "execution_count": 9,
      "outputs": [
        {
          "output_type": "execute_result",
          "data": {
            "text/plain": [
              "52291"
            ]
          },
          "metadata": {
            "tags": []
          },
          "execution_count": 9
        }
      ]
    },
    {
      "cell_type": "code",
      "metadata": {
        "colab": {
          "base_uri": "https://localhost:8080/",
          "height": 591
        },
        "id": "wNqMVvaDuVnS",
        "outputId": "e9665538-0f79-448f-db33-667e98044a3c"
      },
      "source": [
        "df.head()"
      ],
      "execution_count": 10,
      "outputs": [
        {
          "output_type": "execute_result",
          "data": {
            "text/html": [
              "<div>\n",
              "<style scoped>\n",
              "    .dataframe tbody tr th:only-of-type {\n",
              "        vertical-align: middle;\n",
              "    }\n",
              "\n",
              "    .dataframe tbody tr th {\n",
              "        vertical-align: top;\n",
              "    }\n",
              "\n",
              "    .dataframe thead th {\n",
              "        text-align: right;\n",
              "    }\n",
              "</style>\n",
              "<table border=\"1\" class=\"dataframe\">\n",
              "  <thead>\n",
              "    <tr style=\"text-align: right;\">\n",
              "      <th></th>\n",
              "      <th>csvId</th>\n",
              "      <th>csvFileName</th>\n",
              "      <th>csvFullPath</th>\n",
              "      <th>pdfId</th>\n",
              "      <th>page</th>\n",
              "      <th>tableNumber</th>\n",
              "      <th>topRowJson</th>\n",
              "      <th>titleTag</th>\n",
              "      <th>titleTOC</th>\n",
              "      <th>titleFinal</th>\n",
              "      <th>titleFinal_fr</th>\n",
              "      <th>csvRows</th>\n",
              "      <th>csvColumns</th>\n",
              "      <th>method</th>\n",
              "      <th>accuracy</th>\n",
              "      <th>whitespace</th>\n",
              "      <th>csvText</th>\n",
              "      <th>dt_created</th>\n",
              "      <th>hasContent</th>\n",
              "    </tr>\n",
              "  </thead>\n",
              "  <tbody>\n",
              "    <tr>\n",
              "      <th>105</th>\n",
              "      <td>1059614_14_lattice-v_1</td>\n",
              "      <td>1059614_14_lattice-v_1.csv</td>\n",
              "      <td>\\\\luxor\\data\\branch\\Environmental Baseline Dat...</td>\n",
              "      <td>1059614</td>\n",
              "      <td>14</td>\n",
              "      <td>1</td>\n",
              "      <td>[\"Survey Date\", \"Aboriginal Communities\", \"Det...</td>\n",
              "      <td>TABLE 3 SUMMARY OF AQUATICS FIELD WORK AND ABO...</td>\n",
              "      <td>Table 3 Summary of Aquatics Field Work and Abo...</td>\n",
              "      <td>TABLE 3 SUMMARY OF AQUATICS FIELD WORK AND ABO...</td>\n",
              "      <td>TABLEAU 3 RÉSUMÉ DES SPORTS AQUATIQUES DE TRAV...</td>\n",
              "      <td>4</td>\n",
              "      <td>3</td>\n",
              "      <td>lattice-v</td>\n",
              "      <td>100.0000</td>\n",
              "      <td>0.00000</td>\n",
              "      <td>[[\"Survey Date\", \"Aboriginal Communities\", \"De...</td>\n",
              "      <td>2020-04-07 16:35:41</td>\n",
              "      <td>1</td>\n",
              "    </tr>\n",
              "    <tr>\n",
              "      <th>106</th>\n",
              "      <td>1059614_17_lattice-v_1</td>\n",
              "      <td>1059614_17_lattice-v_1.csv</td>\n",
              "      <td>\\\\luxor\\data\\branch\\Environmental Baseline Dat...</td>\n",
              "      <td>1059614</td>\n",
              "      <td>17</td>\n",
              "      <td>1</td>\n",
              "      <td>[\"Field  Site No.\", \"Name,  Legal Location\", \"...</td>\n",
              "      <td>TABLE 4 SUMMARY OF WATERCOURSE CROSSINGS ALONG...</td>\n",
              "      <td>NaN</td>\n",
              "      <td>TABLE 4 SUMMARY OF WATERCOURSE CROSSINGS ALONG...</td>\n",
              "      <td>TABLEAU 4 RÉSUMÉ DES FRANCHISSEMENTS DE COURS ...</td>\n",
              "      <td>10</td>\n",
              "      <td>14</td>\n",
              "      <td>lattice-v</td>\n",
              "      <td>99.8961</td>\n",
              "      <td>9.28571</td>\n",
              "      <td>[[\"Field  Site No.\", \"Name,  Legal Location\", ...</td>\n",
              "      <td>2020-04-07 16:36:05</td>\n",
              "      <td>1</td>\n",
              "    </tr>\n",
              "    <tr>\n",
              "      <th>107</th>\n",
              "      <td>1059614_18_lattice-v_1</td>\n",
              "      <td>1059614_18_lattice-v_1.csv</td>\n",
              "      <td>\\\\luxor\\data\\branch\\Environmental Baseline Dat...</td>\n",
              "      <td>1059614</td>\n",
              "      <td>18</td>\n",
              "      <td>1</td>\n",
              "      <td>[\"Field  Site No.\", \"Name,  Legal Location\", \"...</td>\n",
              "      <td>TABLE 4 Cont'd</td>\n",
              "      <td>NaN</td>\n",
              "      <td>TABLE 4 SUMMARY OF WATERCOURSE CROSSINGS ALONG...</td>\n",
              "      <td>TABLEAU 4 RÉSUMÉ DES FRANCHISSEMENTS DE COURS ...</td>\n",
              "      <td>9</td>\n",
              "      <td>14</td>\n",
              "      <td>lattice-v</td>\n",
              "      <td>100.0000</td>\n",
              "      <td>0.00000</td>\n",
              "      <td>[[\"Field  Site No.\", \"Name,  Legal Location\", ...</td>\n",
              "      <td>2020-04-07 16:36:23</td>\n",
              "      <td>1</td>\n",
              "    </tr>\n",
              "    <tr>\n",
              "      <th>108</th>\n",
              "      <td>1059614_19_lattice-v_1</td>\n",
              "      <td>1059614_19_lattice-v_1.csv</td>\n",
              "      <td>\\\\luxor\\data\\branch\\Environmental Baseline Dat...</td>\n",
              "      <td>1059614</td>\n",
              "      <td>19</td>\n",
              "      <td>1</td>\n",
              "      <td>[\"Field  Site No.\", \"Name,  Legal Location\", \"...</td>\n",
              "      <td>TABLE 4 Cont'd</td>\n",
              "      <td>NaN</td>\n",
              "      <td>TABLE 4 SUMMARY OF WATERCOURSE CROSSINGS ALONG...</td>\n",
              "      <td>TABLEAU 4 RÉSUMÉ DES FRANCHISSEMENTS DE COURS ...</td>\n",
              "      <td>10</td>\n",
              "      <td>14</td>\n",
              "      <td>lattice-v</td>\n",
              "      <td>100.0000</td>\n",
              "      <td>0.00000</td>\n",
              "      <td>[[\"Field  Site No.\", \"Name,  Legal Location\", ...</td>\n",
              "      <td>2020-04-07 16:36:47</td>\n",
              "      <td>1</td>\n",
              "    </tr>\n",
              "    <tr>\n",
              "      <th>109</th>\n",
              "      <td>1059614_20_lattice-v_1</td>\n",
              "      <td>1059614_20_lattice-v_1.csv</td>\n",
              "      <td>\\\\luxor\\data\\branch\\Environmental Baseline Dat...</td>\n",
              "      <td>1059614</td>\n",
              "      <td>20</td>\n",
              "      <td>1</td>\n",
              "      <td>[\"Field  Site No.\", \"Name,  Legal Location\", \"...</td>\n",
              "      <td>TABLE 4 Cont'd</td>\n",
              "      <td>NaN</td>\n",
              "      <td>TABLE 4 SUMMARY OF WATERCOURSE CROSSINGS ALONG...</td>\n",
              "      <td>TABLEAU 4 RÉSUMÉ DES FRANCHISSEMENTS DE COURS ...</td>\n",
              "      <td>8</td>\n",
              "      <td>14</td>\n",
              "      <td>lattice-v</td>\n",
              "      <td>100.0000</td>\n",
              "      <td>0.00000</td>\n",
              "      <td>[[\"Field  Site No.\", \"Name,  Legal Location\", ...</td>\n",
              "      <td>2020-04-07 16:37:02</td>\n",
              "      <td>1</td>\n",
              "    </tr>\n",
              "  </tbody>\n",
              "</table>\n",
              "</div>"
            ],
            "text/plain": [
              "                      csvId  ... hasContent\n",
              "105  1059614_14_lattice-v_1  ...          1\n",
              "106  1059614_17_lattice-v_1  ...          1\n",
              "107  1059614_18_lattice-v_1  ...          1\n",
              "108  1059614_19_lattice-v_1  ...          1\n",
              "109  1059614_20_lattice-v_1  ...          1\n",
              "\n",
              "[5 rows x 19 columns]"
            ]
          },
          "metadata": {
            "tags": []
          },
          "execution_count": 10
        }
      ]
    },
    {
      "cell_type": "code",
      "metadata": {
        "id": "FJ96vnjJuewg"
      },
      "source": [],
      "execution_count": null,
      "outputs": []
    }
  ]
}