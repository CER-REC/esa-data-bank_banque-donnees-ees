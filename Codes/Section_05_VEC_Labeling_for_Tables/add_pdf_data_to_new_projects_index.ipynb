{
 "cells": [
  {
   "cell_type": "code",
   "execution_count": 1,
   "source": [
    "import pandas as pd"
   ],
   "outputs": [],
   "metadata": {}
  },
  {
   "cell_type": "code",
   "execution_count": 14,
   "source": [
    "new_projects_df = pd.read_csv(\"./data/PDF-size-numpages-outlineboolean-new-projects.csv\", index_col=0)\r\n",
    "new_projects_df.head()"
   ],
   "outputs": [
    {
     "output_type": "execute_result",
     "data": {
      "text/plain": [
       "                                           file_name  page_count  size (MB)  \\\n",
       "0  G:/ESA_downloads/phase_2_download_files/PDFs/3...           1       0.02   \n",
       "1  G:/ESA_downloads/phase_2_download_files/PDFs/3...          16       0.20   \n",
       "2  G:/ESA_downloads/phase_2_download_files/PDFs/3...         236      12.46   \n",
       "3  G:/ESA_downloads/phase_2_download_files/PDFs/3...          24      10.32   \n",
       "4  G:/ESA_downloads/phase_2_download_files/PDFs/3...         464       7.80   \n",
       "\n",
       "  Contains outline?  \n",
       "0                No  \n",
       "1               Yes  \n",
       "2               Yes  \n",
       "3               Yes  \n",
       "4               Yes  "
      ],
      "text/html": [
       "<div>\n",
       "<style scoped>\n",
       "    .dataframe tbody tr th:only-of-type {\n",
       "        vertical-align: middle;\n",
       "    }\n",
       "\n",
       "    .dataframe tbody tr th {\n",
       "        vertical-align: top;\n",
       "    }\n",
       "\n",
       "    .dataframe thead th {\n",
       "        text-align: right;\n",
       "    }\n",
       "</style>\n",
       "<table border=\"1\" class=\"dataframe\">\n",
       "  <thead>\n",
       "    <tr style=\"text-align: right;\">\n",
       "      <th></th>\n",
       "      <th>file_name</th>\n",
       "      <th>page_count</th>\n",
       "      <th>size (MB)</th>\n",
       "      <th>Contains outline?</th>\n",
       "    </tr>\n",
       "  </thead>\n",
       "  <tbody>\n",
       "    <tr>\n",
       "      <th>0</th>\n",
       "      <td>G:/ESA_downloads/phase_2_download_files/PDFs/3...</td>\n",
       "      <td>1</td>\n",
       "      <td>0.02</td>\n",
       "      <td>No</td>\n",
       "    </tr>\n",
       "    <tr>\n",
       "      <th>1</th>\n",
       "      <td>G:/ESA_downloads/phase_2_download_files/PDFs/3...</td>\n",
       "      <td>16</td>\n",
       "      <td>0.20</td>\n",
       "      <td>Yes</td>\n",
       "    </tr>\n",
       "    <tr>\n",
       "      <th>2</th>\n",
       "      <td>G:/ESA_downloads/phase_2_download_files/PDFs/3...</td>\n",
       "      <td>236</td>\n",
       "      <td>12.46</td>\n",
       "      <td>Yes</td>\n",
       "    </tr>\n",
       "    <tr>\n",
       "      <th>3</th>\n",
       "      <td>G:/ESA_downloads/phase_2_download_files/PDFs/3...</td>\n",
       "      <td>24</td>\n",
       "      <td>10.32</td>\n",
       "      <td>Yes</td>\n",
       "    </tr>\n",
       "    <tr>\n",
       "      <th>4</th>\n",
       "      <td>G:/ESA_downloads/phase_2_download_files/PDFs/3...</td>\n",
       "      <td>464</td>\n",
       "      <td>7.80</td>\n",
       "      <td>Yes</td>\n",
       "    </tr>\n",
       "  </tbody>\n",
       "</table>\n",
       "</div>"
      ]
     },
     "metadata": {},
     "execution_count": 14
    }
   ],
   "metadata": {}
  },
  {
   "cell_type": "code",
   "execution_count": 15,
   "source": [
    "# grab PDF name from file_name column\r\n",
    "def regex_pdf_name(x):\r\n",
    "    return x.split(\"/\")[-1]\r\n",
    "\r\n",
    "for ix, row in df.iterrows():\r\n",
    "    new_projects_df.loc[ix, \"file_name\"] = regex_pdf_name(row[\"file_name\"])\r\n",
    "\r\n",
    "new_projects_df.head()"
   ],
   "outputs": [
    {
     "output_type": "execute_result",
     "data": {
      "text/plain": [
       "     file_name  page_count  size (MB) Contains outline?\n",
       "0  3410189.pdf           1       0.02                No\n",
       "1  3931508.pdf          16       0.20               Yes\n",
       "2  3969837.pdf         236      12.46               Yes\n",
       "3  3969838.pdf          24      10.32               Yes\n",
       "4  3970827.pdf         464       7.80               Yes"
      ],
      "text/html": [
       "<div>\n",
       "<style scoped>\n",
       "    .dataframe tbody tr th:only-of-type {\n",
       "        vertical-align: middle;\n",
       "    }\n",
       "\n",
       "    .dataframe tbody tr th {\n",
       "        vertical-align: top;\n",
       "    }\n",
       "\n",
       "    .dataframe thead th {\n",
       "        text-align: right;\n",
       "    }\n",
       "</style>\n",
       "<table border=\"1\" class=\"dataframe\">\n",
       "  <thead>\n",
       "    <tr style=\"text-align: right;\">\n",
       "      <th></th>\n",
       "      <th>file_name</th>\n",
       "      <th>page_count</th>\n",
       "      <th>size (MB)</th>\n",
       "      <th>Contains outline?</th>\n",
       "    </tr>\n",
       "  </thead>\n",
       "  <tbody>\n",
       "    <tr>\n",
       "      <th>0</th>\n",
       "      <td>3410189.pdf</td>\n",
       "      <td>1</td>\n",
       "      <td>0.02</td>\n",
       "      <td>No</td>\n",
       "    </tr>\n",
       "    <tr>\n",
       "      <th>1</th>\n",
       "      <td>3931508.pdf</td>\n",
       "      <td>16</td>\n",
       "      <td>0.20</td>\n",
       "      <td>Yes</td>\n",
       "    </tr>\n",
       "    <tr>\n",
       "      <th>2</th>\n",
       "      <td>3969837.pdf</td>\n",
       "      <td>236</td>\n",
       "      <td>12.46</td>\n",
       "      <td>Yes</td>\n",
       "    </tr>\n",
       "    <tr>\n",
       "      <th>3</th>\n",
       "      <td>3969838.pdf</td>\n",
       "      <td>24</td>\n",
       "      <td>10.32</td>\n",
       "      <td>Yes</td>\n",
       "    </tr>\n",
       "    <tr>\n",
       "      <th>4</th>\n",
       "      <td>3970827.pdf</td>\n",
       "      <td>464</td>\n",
       "      <td>7.80</td>\n",
       "      <td>Yes</td>\n",
       "    </tr>\n",
       "  </tbody>\n",
       "</table>\n",
       "</div>"
      ]
     },
     "metadata": {},
     "execution_count": 15
    }
   ],
   "metadata": {}
  },
  {
   "cell_type": "code",
   "execution_count": null,
   "source": [],
   "outputs": [],
   "metadata": {}
  }
 ],
 "metadata": {
  "orig_nbformat": 4,
  "language_info": {
   "name": "python",
   "version": "3.8.8",
   "mimetype": "text/x-python",
   "codemirror_mode": {
    "name": "ipython",
    "version": 3
   },
   "pygments_lexer": "ipython3",
   "nbconvert_exporter": "python",
   "file_extension": ".py"
  },
  "kernelspec": {
   "name": "python3",
   "display_name": "Python 3.8.8 64-bit ('base': conda)"
  },
  "interpreter": {
   "hash": "e2bf75632dbab15b13c7e69d7c865eec44ce559fc915a91671bc417dc3e34be8"
  }
 },
 "nbformat": 4,
 "nbformat_minor": 2
}