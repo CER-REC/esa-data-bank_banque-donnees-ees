{
 "cells": [
  {
   "cell_type": "markdown",
   "metadata": {
    "id": "eVl0iXvhWz-i"
   },
   "source": [
    "# Labeling ESA tables with VEC labels"
   ]
  },
  {
   "cell_type": "code",
   "execution_count": 3,
   "metadata": {
    "colab": {
     "base_uri": "https://localhost:8080/"
    },
    "id": "if6gCNc8sivA",
    "outputId": "9cf6da29-1a0b-402d-ac76-ede736d5dbf5"
   },
   "outputs": [
    {
     "name": "stderr",
     "output_type": "stream",
     "text": [
      "Global seed set to 42\n"
     ]
    }
   ],
   "source": [
    "import pandas as pd\n",
    "import numpy as np\n",
    "import os\n",
    "from snorkel.labeling import labeling_function\n",
    "from snorkel.labeling import LabelingFunction\n",
    "from snorkel.labeling.lf.nlp import nlp_labeling_function\n",
    "from snorkel.preprocess import preprocessor\n",
    "from snorkel.labeling import PandasLFApplier\n",
    "from snorkel.labeling.apply.dask import DaskLFApplier\n",
    "from sklearn.model_selection import train_test_split\n",
    "import spacy\n",
    "from spacy.matcher import Matcher\n",
    "import numpy as np\n",
    "\n",
    "from tqdm.auto import tqdm\n",
    "\n",
    "import torch\n",
    "import torch.nn as nn\n",
    "from torch.utils.data import Dataset, DataLoader\n",
    "\n",
    "from transformers import BertTokenizerFast, BertModel, BertTokenizer, AdamW, get_linear_schedule_with_warmup\n",
    "from transformers import AutoModelForSequenceClassification\n",
    "\n",
    "import pytorch_lightning as pl\n",
    "from pytorch_lightning.metrics.functional import accuracy, f1, auroc\n",
    "from pytorch_lightning.callbacks import ModelCheckpoint, EarlyStopping, BackboneFinetuning, ModelPruning\n",
    "RANDOM_SEED = 42\n",
    "pl.seed_everything(RANDOM_SEED)\n",
    "\n",
    "# weights and biases\n",
    "import wandb\n",
    "\n",
    "# lightning plus wandb\n",
    "from pytorch_lightning.loggers import WandbLogger"
   ]
  },
  {
   "cell_type": "code",
   "execution_count": 4,
   "metadata": {
    "colab": {
     "base_uri": "https://localhost:8080/"
    },
    "id": "9ztNPA5-tSwA",
    "outputId": "5897b173-227e-4a46-def1-dd4bd3c47f13"
   },
   "outputs": [
    {
     "name": "stdout",
     "output_type": "stream",
     "text": [
      "Mon Jun  7 20:10:55 2021       \n",
      "+-----------------------------------------------------------------------------+\n",
      "| NVIDIA-SMI 465.89       Driver Version: 465.89       CUDA Version: 11.3     |\n",
      "|-------------------------------+----------------------+----------------------+\n",
      "| GPU  Name            TCC/WDDM | Bus-Id        Disp.A | Volatile Uncorr. ECC |\n",
      "| Fan  Temp  Perf  Pwr:Usage/Cap|         Memory-Usage | GPU-Util  Compute M. |\n",
      "|                               |                      |               MIG M. |\n",
      "|===============================+======================+======================|\n",
      "|   0  NVIDIA Quadro R... WDDM  | 00000000:01:00.0  On |                  N/A |\n",
      "| N/A   60C    P8     9W /  N/A |   1223MiB /  6144MiB |      0%      Default |\n",
      "|                               |                      |                  N/A |\n",
      "+-------------------------------+----------------------+----------------------+\n",
      "                                                                               \n",
      "+-----------------------------------------------------------------------------+\n",
      "| Processes:                                                                  |\n",
      "|  GPU   GI   CI        PID   Type   Process name                  GPU Memory |\n",
      "|        ID   ID                                                   Usage      |\n",
      "|=============================================================================|\n",
      "|    0   N/A  N/A      2288    C+G   Insufficient Permissions        N/A      |\n",
      "|    0   N/A  N/A      5700    C+G   C:\\Windows\\explorer.exe         N/A      |\n",
      "|    0   N/A  N/A      6808    C+G   ...artMenuExperienceHost.exe    N/A      |\n",
      "|    0   N/A  N/A      7700    C+G   ...w5n1h2txyewy\\SearchUI.exe    N/A      |\n",
      "|    0   N/A  N/A      9680    C+G   ...es.TextInput.InputApp.exe    N/A      |\n",
      "|    0   N/A  N/A     14272    C+G   ...cw5n1h2txyewy\\LockApp.exe    N/A      |\n",
      "|    0   N/A  N/A     15104    C+G   ...y\\ShellExperienceHost.exe    N/A      |\n",
      "|    0   N/A  N/A     15284    C+G   ...lPanel\\SystemSettings.exe    N/A      |\n",
      "|    0   N/A  N/A     15840    C+G   ...ge\\Application\\msedge.exe    N/A      |\n",
      "|    0   N/A  N/A     18224    C+G   ...ontend\\Docker Desktop.exe    N/A      |\n",
      "|    0   N/A  N/A     19280    C+G   ...t\\Teams\\current\\Teams.exe    N/A      |\n",
      "|    0   N/A  N/A     19688    C+G   ...bbwe\\Microsoft.Photos.exe    N/A      |\n",
      "|    0   N/A  N/A     20988    C+G   ...t\\Teams\\current\\Teams.exe    N/A      |\n",
      "|    0   N/A  N/A     23500    C+G   ...e\\root\\Office16\\EXCEL.EXE    N/A      |\n",
      "+-----------------------------------------------------------------------------+\n"
     ]
    }
   ],
   "source": [
    "!nvidia-smi"
   ]
  },
  {
   "cell_type": "code",
   "execution_count": 21,
   "metadata": {
    "id": "jcOm-FfauDa8"
   },
   "outputs": [],
   "source": [
    "esa_df = pd.read_csv('./data/esa_index_with_table_text_no_labels.csv')"
   ]
  },
  {
   "cell_type": "code",
   "execution_count": 22,
   "metadata": {
    "colab": {
     "base_uri": "https://localhost:8080/"
    },
    "id": "RFv90m4ZuZwD",
    "outputId": "bd42f98f-74fd-4871-9802-fcda1c0a496f"
   },
   "outputs": [],
   "source": [
    "esa_df.drop(columns=['Unnamed: 0', 'Index'], inplace=True)"
   ]
  },
  {
   "cell_type": "code",
   "execution_count": 23,
   "metadata": {
    "colab": {
     "base_uri": "https://localhost:8080/"
    },
    "id": "vLUpZ1CkuM36",
    "outputId": "4f3f20e5-aa53-4c57-f821-5f39f5a83049"
   },
   "outputs": [
    {
     "data": {
      "text/html": [
       "<div>\n",
       "<style scoped>\n",
       "    .dataframe tbody tr th:only-of-type {\n",
       "        vertical-align: middle;\n",
       "    }\n",
       "\n",
       "    .dataframe tbody tr th {\n",
       "        vertical-align: top;\n",
       "    }\n",
       "\n",
       "    .dataframe thead th {\n",
       "        text-align: right;\n",
       "    }\n",
       "</style>\n",
       "<table border=\"1\" class=\"dataframe\">\n",
       "  <thead>\n",
       "    <tr style=\"text-align: right;\">\n",
       "      <th></th>\n",
       "      <th>Title</th>\n",
       "      <th>Content Type</th>\n",
       "      <th>Application Name</th>\n",
       "      <th>Application Short Name</th>\n",
       "      <th>Application Filing Date</th>\n",
       "      <th>Company Name</th>\n",
       "      <th>Commodity</th>\n",
       "      <th>File Name</th>\n",
       "      <th>ESA Folder URL</th>\n",
       "      <th>Document Number</th>\n",
       "      <th>...</th>\n",
       "      <th>PDF Page Number</th>\n",
       "      <th>PDF Page Count</th>\n",
       "      <th>PDF Size</th>\n",
       "      <th>PDF Outline</th>\n",
       "      <th>Download folder name</th>\n",
       "      <th>Zipped Project Link</th>\n",
       "      <th>Missing CSV</th>\n",
       "      <th>CSV Filename</th>\n",
       "      <th>csvFileName</th>\n",
       "      <th>csvText</th>\n",
       "    </tr>\n",
       "  </thead>\n",
       "  <tbody>\n",
       "    <tr>\n",
       "      <th>0</th>\n",
       "      <td>TABLE 3 SUMMARY OF AQUATICS FIELD WORK AND ABO...</td>\n",
       "      <td>Table</td>\n",
       "      <td>Application for North Montney Project</td>\n",
       "      <td>North Montney</td>\n",
       "      <td>11/8/2013</td>\n",
       "      <td>NOVA Gas Transmission Ltd.</td>\n",
       "      <td>Gas</td>\n",
       "      <td>B2-16 ESA_Appendix_G_Part1of4 (A3Q6H2)</td>\n",
       "      <td>https://apps.cer-rec.gc.ca/REGDOCS/Item/LoadRe...</td>\n",
       "      <td>A3Q6H2</td>\n",
       "      <td>...</td>\n",
       "      <td>14</td>\n",
       "      <td>48.0</td>\n",
       "      <td>5.87</td>\n",
       "      <td>No</td>\n",
       "      <td>nrthmntn</td>\n",
       "      <td>http://www.cer-rec.gc.ca/esa-ees/nrthmntn.zip</td>\n",
       "      <td>False</td>\n",
       "      <td>nrthmntn_table-3-summary-of-aquatics-field-wor...</td>\n",
       "      <td>1059614_14_lattice-v_1.csv</td>\n",
       "      <td>Survey Date    Aboriginal Communities    De...</td>\n",
       "    </tr>\n",
       "    <tr>\n",
       "      <th>1</th>\n",
       "      <td>TABLE 4 SUMMARY OF WATERCOURSE CROSSINGS ALONG...</td>\n",
       "      <td>Table</td>\n",
       "      <td>Application for North Montney Project</td>\n",
       "      <td>North Montney</td>\n",
       "      <td>11/8/2013</td>\n",
       "      <td>NOVA Gas Transmission Ltd.</td>\n",
       "      <td>Gas</td>\n",
       "      <td>B2-16 ESA_Appendix_G_Part1of4 (A3Q6H2)</td>\n",
       "      <td>https://apps.cer-rec.gc.ca/REGDOCS/Item/LoadRe...</td>\n",
       "      <td>A3Q6H2</td>\n",
       "      <td>...</td>\n",
       "      <td>17</td>\n",
       "      <td>48.0</td>\n",
       "      <td>5.87</td>\n",
       "      <td>No</td>\n",
       "      <td>nrthmntn</td>\n",
       "      <td>http://www.cer-rec.gc.ca/esa-ees/nrthmntn.zip</td>\n",
       "      <td>False</td>\n",
       "      <td>nrthmntn_table-4-summary-of-watercourse-crossi...</td>\n",
       "      <td>1059614_17_lattice-v_1.csv</td>\n",
       "      <td>Field  Site No     Name   Legal Location   ...</td>\n",
       "    </tr>\n",
       "    <tr>\n",
       "      <th>2</th>\n",
       "      <td>TABLE 4 SUMMARY OF WATERCOURSE CROSSINGS ALONG...</td>\n",
       "      <td>Table</td>\n",
       "      <td>Application for North Montney Project</td>\n",
       "      <td>North Montney</td>\n",
       "      <td>11/8/2013</td>\n",
       "      <td>NOVA Gas Transmission Ltd.</td>\n",
       "      <td>Gas</td>\n",
       "      <td>B2-16 ESA_Appendix_G_Part1of4 (A3Q6H2)</td>\n",
       "      <td>https://apps.cer-rec.gc.ca/REGDOCS/Item/LoadRe...</td>\n",
       "      <td>A3Q6H2</td>\n",
       "      <td>...</td>\n",
       "      <td>18</td>\n",
       "      <td>48.0</td>\n",
       "      <td>5.87</td>\n",
       "      <td>No</td>\n",
       "      <td>nrthmntn</td>\n",
       "      <td>http://www.cer-rec.gc.ca/esa-ees/nrthmntn.zip</td>\n",
       "      <td>False</td>\n",
       "      <td>nrthmntn_table-4-summary-of-watercourse-crossi...</td>\n",
       "      <td>1059614_18_lattice-v_1.csv</td>\n",
       "      <td>Field  Site No     Name   Legal Location   ...</td>\n",
       "    </tr>\n",
       "    <tr>\n",
       "      <th>3</th>\n",
       "      <td>TABLE 4 SUMMARY OF WATERCOURSE CROSSINGS ALONG...</td>\n",
       "      <td>Table</td>\n",
       "      <td>Application for North Montney Project</td>\n",
       "      <td>North Montney</td>\n",
       "      <td>11/8/2013</td>\n",
       "      <td>NOVA Gas Transmission Ltd.</td>\n",
       "      <td>Gas</td>\n",
       "      <td>B2-16 ESA_Appendix_G_Part1of4 (A3Q6H2)</td>\n",
       "      <td>https://apps.cer-rec.gc.ca/REGDOCS/Item/LoadRe...</td>\n",
       "      <td>A3Q6H2</td>\n",
       "      <td>...</td>\n",
       "      <td>19</td>\n",
       "      <td>48.0</td>\n",
       "      <td>5.87</td>\n",
       "      <td>No</td>\n",
       "      <td>nrthmntn</td>\n",
       "      <td>http://www.cer-rec.gc.ca/esa-ees/nrthmntn.zip</td>\n",
       "      <td>False</td>\n",
       "      <td>nrthmntn_table-4-summary-of-watercourse-crossi...</td>\n",
       "      <td>1059614_19_lattice-v_1.csv</td>\n",
       "      <td>Field  Site No     Name   Legal Location   ...</td>\n",
       "    </tr>\n",
       "    <tr>\n",
       "      <th>4</th>\n",
       "      <td>TABLE 4 SUMMARY OF WATERCOURSE CROSSINGS ALONG...</td>\n",
       "      <td>Table</td>\n",
       "      <td>Application for North Montney Project</td>\n",
       "      <td>North Montney</td>\n",
       "      <td>11/8/2013</td>\n",
       "      <td>NOVA Gas Transmission Ltd.</td>\n",
       "      <td>Gas</td>\n",
       "      <td>B2-16 ESA_Appendix_G_Part1of4 (A3Q6H2)</td>\n",
       "      <td>https://apps.cer-rec.gc.ca/REGDOCS/Item/LoadRe...</td>\n",
       "      <td>A3Q6H2</td>\n",
       "      <td>...</td>\n",
       "      <td>20</td>\n",
       "      <td>48.0</td>\n",
       "      <td>5.87</td>\n",
       "      <td>No</td>\n",
       "      <td>nrthmntn</td>\n",
       "      <td>http://www.cer-rec.gc.ca/esa-ees/nrthmntn.zip</td>\n",
       "      <td>False</td>\n",
       "      <td>nrthmntn_table-4-summary-of-watercourse-crossi...</td>\n",
       "      <td>1059614_20_lattice-v_1.csv</td>\n",
       "      <td>Field  Site No     Name   Legal Location   ...</td>\n",
       "    </tr>\n",
       "  </tbody>\n",
       "</table>\n",
       "<p>5 rows × 34 columns</p>\n",
       "</div>"
      ],
      "text/plain": [
       "                                               Title Content Type  \\\n",
       "0  TABLE 3 SUMMARY OF AQUATICS FIELD WORK AND ABO...        Table   \n",
       "1  TABLE 4 SUMMARY OF WATERCOURSE CROSSINGS ALONG...        Table   \n",
       "2  TABLE 4 SUMMARY OF WATERCOURSE CROSSINGS ALONG...        Table   \n",
       "3  TABLE 4 SUMMARY OF WATERCOURSE CROSSINGS ALONG...        Table   \n",
       "4  TABLE 4 SUMMARY OF WATERCOURSE CROSSINGS ALONG...        Table   \n",
       "\n",
       "                        Application Name Application Short Name  \\\n",
       "0  Application for North Montney Project          North Montney   \n",
       "1  Application for North Montney Project          North Montney   \n",
       "2  Application for North Montney Project          North Montney   \n",
       "3  Application for North Montney Project          North Montney   \n",
       "4  Application for North Montney Project          North Montney   \n",
       "\n",
       "  Application Filing Date                Company Name Commodity  \\\n",
       "0               11/8/2013  NOVA Gas Transmission Ltd.       Gas   \n",
       "1               11/8/2013  NOVA Gas Transmission Ltd.       Gas   \n",
       "2               11/8/2013  NOVA Gas Transmission Ltd.       Gas   \n",
       "3               11/8/2013  NOVA Gas Transmission Ltd.       Gas   \n",
       "4               11/8/2013  NOVA Gas Transmission Ltd.       Gas   \n",
       "\n",
       "                                File Name  \\\n",
       "0  B2-16 ESA_Appendix_G_Part1of4 (A3Q6H2)   \n",
       "1  B2-16 ESA_Appendix_G_Part1of4 (A3Q6H2)   \n",
       "2  B2-16 ESA_Appendix_G_Part1of4 (A3Q6H2)   \n",
       "3  B2-16 ESA_Appendix_G_Part1of4 (A3Q6H2)   \n",
       "4  B2-16 ESA_Appendix_G_Part1of4 (A3Q6H2)   \n",
       "\n",
       "                                      ESA Folder URL Document Number  ...  \\\n",
       "0  https://apps.cer-rec.gc.ca/REGDOCS/Item/LoadRe...          A3Q6H2  ...   \n",
       "1  https://apps.cer-rec.gc.ca/REGDOCS/Item/LoadRe...          A3Q6H2  ...   \n",
       "2  https://apps.cer-rec.gc.ca/REGDOCS/Item/LoadRe...          A3Q6H2  ...   \n",
       "3  https://apps.cer-rec.gc.ca/REGDOCS/Item/LoadRe...          A3Q6H2  ...   \n",
       "4  https://apps.cer-rec.gc.ca/REGDOCS/Item/LoadRe...          A3Q6H2  ...   \n",
       "\n",
       "   PDF Page Number PDF Page Count PDF Size PDF Outline Download folder name  \\\n",
       "0               14           48.0     5.87          No             nrthmntn   \n",
       "1               17           48.0     5.87          No             nrthmntn   \n",
       "2               18           48.0     5.87          No             nrthmntn   \n",
       "3               19           48.0     5.87          No             nrthmntn   \n",
       "4               20           48.0     5.87          No             nrthmntn   \n",
       "\n",
       "                             Zipped Project Link Missing CSV  \\\n",
       "0  http://www.cer-rec.gc.ca/esa-ees/nrthmntn.zip       False   \n",
       "1  http://www.cer-rec.gc.ca/esa-ees/nrthmntn.zip       False   \n",
       "2  http://www.cer-rec.gc.ca/esa-ees/nrthmntn.zip       False   \n",
       "3  http://www.cer-rec.gc.ca/esa-ees/nrthmntn.zip       False   \n",
       "4  http://www.cer-rec.gc.ca/esa-ees/nrthmntn.zip       False   \n",
       "\n",
       "                                        CSV Filename  \\\n",
       "0  nrthmntn_table-3-summary-of-aquatics-field-wor...   \n",
       "1  nrthmntn_table-4-summary-of-watercourse-crossi...   \n",
       "2  nrthmntn_table-4-summary-of-watercourse-crossi...   \n",
       "3  nrthmntn_table-4-summary-of-watercourse-crossi...   \n",
       "4  nrthmntn_table-4-summary-of-watercourse-crossi...   \n",
       "\n",
       "                  csvFileName  \\\n",
       "0  1059614_14_lattice-v_1.csv   \n",
       "1  1059614_17_lattice-v_1.csv   \n",
       "2  1059614_18_lattice-v_1.csv   \n",
       "3  1059614_19_lattice-v_1.csv   \n",
       "4  1059614_20_lattice-v_1.csv   \n",
       "\n",
       "                                             csvText  \n",
       "0     Survey Date    Aboriginal Communities    De...  \n",
       "1     Field  Site No     Name   Legal Location   ...  \n",
       "2     Field  Site No     Name   Legal Location   ...  \n",
       "3     Field  Site No     Name   Legal Location   ...  \n",
       "4     Field  Site No     Name   Legal Location   ...  \n",
       "\n",
       "[5 rows x 34 columns]"
      ]
     },
     "execution_count": 23,
     "metadata": {},
     "output_type": "execute_result"
    }
   ],
   "source": [
    "esa_df.head()"
   ]
  },
  {
   "cell_type": "code",
   "execution_count": 24,
   "metadata": {},
   "outputs": [],
   "source": [
    "esa_df['csvText'] = esa_df['csvText'].replace(' +', ' ', regex=True)"
   ]
  },
  {
   "cell_type": "code",
   "execution_count": 25,
   "metadata": {},
   "outputs": [
    {
     "data": {
      "text/plain": [
       "0     Survey Date Aboriginal Communities Detail Jul...\n",
       "1     Field Site No Name Legal Location UTM Coordin...\n",
       "2     Field Site No Name Legal Location UTM Coordin...\n",
       "3     Field Site No Name Legal Location UTM Coordin...\n",
       "4     Field Site No Name Legal Location UTM Coordin...\n",
       "Name: csvText, dtype: object"
      ]
     },
     "execution_count": 25,
     "metadata": {},
     "output_type": "execute_result"
    }
   ],
   "source": [
    "esa_df['csvText'].head()"
   ]
  },
  {
   "cell_type": "code",
   "execution_count": 39,
   "metadata": {},
   "outputs": [
    {
     "name": "stderr",
     "output_type": "stream",
     "text": [
      "C:\\Users\\ThibJacq\\Anaconda3\\lib\\site-packages\\pandas\\core\\frame.py:4441: SettingWithCopyWarning: \n",
      "A value is trying to be set on a copy of a slice from a DataFrame\n",
      "\n",
      "See the caveats in the documentation: https://pandas.pydata.org/pandas-docs/stable/user_guide/indexing.html#returning-a-view-versus-a-copy\n",
      "  return super().rename(\n",
      "<ipython-input-39-b648c9c9aca6>:3: SettingWithCopyWarning: \n",
      "A value is trying to be set on a copy of a slice from a DataFrame.\n",
      "Try using .loc[row_indexer,col_indexer] = value instead\n",
      "\n",
      "See the caveats in the documentation: https://pandas.pydata.org/pandas-docs/stable/user_guide/indexing.html#returning-a-view-versus-a-copy\n",
      "  snorkel_df['label'] = -1\n"
     ]
    }
   ],
   "source": [
    "snorkel_df = esa_df[['Title', 'csvText']]\n",
    "snorkel_df.rename(columns={\"csvText\": \"text\"}, inplace=True)\n",
    "snorkel_df['label'] = -1"
   ]
  },
  {
   "cell_type": "code",
   "execution_count": 40,
   "metadata": {
    "scrolled": true
   },
   "outputs": [
    {
     "name": "stderr",
     "output_type": "stream",
     "text": [
      "<ipython-input-40-6a54a6ed08fe>:1: SettingWithCopyWarning: \n",
      "A value is trying to be set on a copy of a slice from a DataFrame.\n",
      "Try using .loc[row_indexer,col_indexer] = value instead\n",
      "\n",
      "See the caveats in the documentation: https://pandas.pydata.org/pandas-docs/stable/user_guide/indexing.html#returning-a-view-versus-a-copy\n",
      "  snorkel_df[\"text\"] = snorkel_df[\"Title\"] + \" \" + snorkel_df[\"text\"]\n"
     ]
    }
   ],
   "source": [
    "snorkel_df[\"text\"] = snorkel_df[\"Title\"] + \" \" + snorkel_df[\"text\"]\n",
    "snorkel_df.drop(columns=[\"Title\"], inplace=True)"
   ]
  },
  {
   "cell_type": "code",
   "execution_count": 41,
   "metadata": {},
   "outputs": [
    {
     "data": {
      "text/html": [
       "<div>\n",
       "<style scoped>\n",
       "    .dataframe tbody tr th:only-of-type {\n",
       "        vertical-align: middle;\n",
       "    }\n",
       "\n",
       "    .dataframe tbody tr th {\n",
       "        vertical-align: top;\n",
       "    }\n",
       "\n",
       "    .dataframe thead th {\n",
       "        text-align: right;\n",
       "    }\n",
       "</style>\n",
       "<table border=\"1\" class=\"dataframe\">\n",
       "  <thead>\n",
       "    <tr style=\"text-align: right;\">\n",
       "      <th></th>\n",
       "      <th>text</th>\n",
       "      <th>label</th>\n",
       "    </tr>\n",
       "  </thead>\n",
       "  <tbody>\n",
       "    <tr>\n",
       "      <th>0</th>\n",
       "      <td>TABLE 3 SUMMARY OF AQUATICS FIELD WORK AND ABO...</td>\n",
       "      <td>-1</td>\n",
       "    </tr>\n",
       "    <tr>\n",
       "      <th>1</th>\n",
       "      <td>TABLE 4 SUMMARY OF WATERCOURSE CROSSINGS ALONG...</td>\n",
       "      <td>-1</td>\n",
       "    </tr>\n",
       "    <tr>\n",
       "      <th>2</th>\n",
       "      <td>TABLE 4 SUMMARY OF WATERCOURSE CROSSINGS ALONG...</td>\n",
       "      <td>-1</td>\n",
       "    </tr>\n",
       "    <tr>\n",
       "      <th>3</th>\n",
       "      <td>TABLE 4 SUMMARY OF WATERCOURSE CROSSINGS ALONG...</td>\n",
       "      <td>-1</td>\n",
       "    </tr>\n",
       "    <tr>\n",
       "      <th>4</th>\n",
       "      <td>TABLE 4 SUMMARY OF WATERCOURSE CROSSINGS ALONG...</td>\n",
       "      <td>-1</td>\n",
       "    </tr>\n",
       "  </tbody>\n",
       "</table>\n",
       "</div>"
      ],
      "text/plain": [
       "                                                text  label\n",
       "0  TABLE 3 SUMMARY OF AQUATICS FIELD WORK AND ABO...     -1\n",
       "1  TABLE 4 SUMMARY OF WATERCOURSE CROSSINGS ALONG...     -1\n",
       "2  TABLE 4 SUMMARY OF WATERCOURSE CROSSINGS ALONG...     -1\n",
       "3  TABLE 4 SUMMARY OF WATERCOURSE CROSSINGS ALONG...     -1\n",
       "4  TABLE 4 SUMMARY OF WATERCOURSE CROSSINGS ALONG...     -1"
      ]
     },
     "execution_count": 41,
     "metadata": {},
     "output_type": "execute_result"
    }
   ],
   "source": [
    "snorkel_df.head()"
   ]
  },
  {
   "cell_type": "markdown",
   "metadata": {},
   "source": [
    "Here we create 4 dataset splits. What we call `train_ft_df` (Train Fine-Tune Set), `val_ft_df` (Validation Fine_tune Set), and `test_df` (Test Set) will contain labeled data. At the moment the examples are not labeled, but we will label them in Label Studio. The `train_df` is the unlabeled dataset we will be using Snorkel and a BERT model to label.\n",
    "\n",
    "*   `fine_tune_df`: Labeled data we use for fine-tuning the bert model before putting model into a Snorkel Labeling Function.\n",
    "*   `val_df`: This is our small dataset split we will use to measure the performance of the bert model trained with `fine_tune_df`.\n",
    "*    `train_df`: As mentioned, the `train_df` is the unlabeled dataset we will be using Snorkel to label.\n",
    "*    `test_df`: This is our dataset split for testing Snorkel's Label Model to get an estimate on how many labels were correctly labeled in our `train_df`."
   ]
  },
  {
   "cell_type": "code",
   "execution_count": 45,
   "metadata": {},
   "outputs": [],
   "source": [
    "from sklearn.model_selection import train_test_split\n",
    "train_df, df_for_labeling = train_test_split(snorkel_df, test_size=1000, random_state=42, shuffle=True)"
   ]
  },
  {
   "cell_type": "code",
   "execution_count": 46,
   "metadata": {
    "scrolled": true
   },
   "outputs": [
    {
     "data": {
      "text/html": [
       "<div>\n",
       "<style scoped>\n",
       "    .dataframe tbody tr th:only-of-type {\n",
       "        vertical-align: middle;\n",
       "    }\n",
       "\n",
       "    .dataframe tbody tr th {\n",
       "        vertical-align: top;\n",
       "    }\n",
       "\n",
       "    .dataframe thead th {\n",
       "        text-align: right;\n",
       "    }\n",
       "</style>\n",
       "<table border=\"1\" class=\"dataframe\">\n",
       "  <thead>\n",
       "    <tr style=\"text-align: right;\">\n",
       "      <th></th>\n",
       "      <th>text</th>\n",
       "      <th>label</th>\n",
       "    </tr>\n",
       "  </thead>\n",
       "  <tbody>\n",
       "    <tr>\n",
       "      <th>8889</th>\n",
       "      <td>TABLE 8A.2 REASONABLY FORSEEABLE DEVELOPMENTS ...</td>\n",
       "      <td>-1</td>\n",
       "    </tr>\n",
       "    <tr>\n",
       "      <th>27753</th>\n",
       "      <td>TABLE 1 RESOURCE-SPECIFIC MITIGATION TABLE  Lo...</td>\n",
       "      <td>-1</td>\n",
       "    </tr>\n",
       "    <tr>\n",
       "      <th>4165</th>\n",
       "      <td>TABLE D4 HOPE TO BURNABY OBSERVED PLANT SPECIE...</td>\n",
       "      <td>-1</td>\n",
       "    </tr>\n",
       "    <tr>\n",
       "      <th>22455</th>\n",
       "      <td>TABLE 3.2 CONSULTATION ACTIVITIES WITH PROVINC...</td>\n",
       "      <td>-1</td>\n",
       "    </tr>\n",
       "    <tr>\n",
       "      <th>9544</th>\n",
       "      <td>Table 5.21-8: Major Proposed, Approved, and Re...</td>\n",
       "      <td>-1</td>\n",
       "    </tr>\n",
       "    <tr>\n",
       "      <th>...</th>\n",
       "      <td>...</td>\n",
       "      <td>...</td>\n",
       "    </tr>\n",
       "    <tr>\n",
       "      <th>14748</th>\n",
       "      <td>Table D-1 Soil Polygon Attributes � New Pipeli...</td>\n",
       "      <td>-1</td>\n",
       "    </tr>\n",
       "    <tr>\n",
       "      <th>16597</th>\n",
       "      <td>Table 6-11 ACIMS-Recorded Occurrences of Plant...</td>\n",
       "      <td>-1</td>\n",
       "    </tr>\n",
       "    <tr>\n",
       "      <th>3922</th>\n",
       "      <td>TABLE 7.2.4-2 POTENTIAL EFFECTS, MITIGATION ME...</td>\n",
       "      <td>-1</td>\n",
       "    </tr>\n",
       "    <tr>\n",
       "      <th>13838</th>\n",
       "      <td>Table H1-9 Exposure Point Concentrations (mg/k...</td>\n",
       "      <td>-1</td>\n",
       "    </tr>\n",
       "    <tr>\n",
       "      <th>25479</th>\n",
       "      <td>Table 8-54 Residual Effects on Vegetation Dive...</td>\n",
       "      <td>-1</td>\n",
       "    </tr>\n",
       "  </tbody>\n",
       "</table>\n",
       "<p>1000 rows × 2 columns</p>\n",
       "</div>"
      ],
      "text/plain": [
       "                                                    text  label\n",
       "8889   TABLE 8A.2 REASONABLY FORSEEABLE DEVELOPMENTS ...     -1\n",
       "27753  TABLE 1 RESOURCE-SPECIFIC MITIGATION TABLE  Lo...     -1\n",
       "4165   TABLE D4 HOPE TO BURNABY OBSERVED PLANT SPECIE...     -1\n",
       "22455  TABLE 3.2 CONSULTATION ACTIVITIES WITH PROVINC...     -1\n",
       "9544   Table 5.21-8: Major Proposed, Approved, and Re...     -1\n",
       "...                                                  ...    ...\n",
       "14748  Table D-1 Soil Polygon Attributes � New Pipeli...     -1\n",
       "16597  Table 6-11 ACIMS-Recorded Occurrences of Plant...     -1\n",
       "3922   TABLE 7.2.4-2 POTENTIAL EFFECTS, MITIGATION ME...     -1\n",
       "13838  Table H1-9 Exposure Point Concentrations (mg/k...     -1\n",
       "25479  Table 8-54 Residual Effects on Vegetation Dive...     -1\n",
       "\n",
       "[1000 rows x 2 columns]"
      ]
     },
     "execution_count": 46,
     "metadata": {},
     "output_type": "execute_result"
    }
   ],
   "source": [
    "df_for_labeling"
   ]
  },
  {
   "cell_type": "code",
   "execution_count": 47,
   "metadata": {},
   "outputs": [],
   "source": [
    "df_for_labeling.to_csv('./mydata/esa_index_for_labeling.csv')"
   ]
  },
  {
   "cell_type": "markdown",
   "metadata": {},
   "source": [
    "We will now go into Label Studio and label 500 examples. We will use these labels to create weak labels with Snorkel. Essentially, we won't need to label the entire dataset manually if we use Snorkel. However, we will need to look at the least confident examples and potentially relabel any mistakes."
   ]
  },
  {
   "cell_type": "code",
   "execution_count": null,
   "metadata": {},
   "outputs": [],
   "source": [
    "labeled_df = pd.read_csv('./mydata/esa_index_labeled.csv')"
   ]
  },
  {
   "cell_type": "code",
   "execution_count": null,
   "metadata": {},
   "outputs": [],
   "source": [
    "train_df, val_ft_df = train_test_split(train_df, test_size=100, random_state=42, shuffle=True)\n",
    "train_df, test_df = train_test_split(train_df, test_size=500, random_state=42, shuffle=True)"
   ]
  }
 ],
 "metadata": {
  "accelerator": "GPU",
  "colab": {
   "authorship_tag": "ABX9TyN1pCYIGZj6fHwEvMyziCVn",
   "collapsed_sections": [],
   "include_colab_link": true,
   "machine_shape": "hm",
   "name": "01-esa-table-vec-data-labeling.ipynb",
   "provenance": []
  },
  "kernelspec": {
   "display_name": "Python 3",
   "language": "python",
   "name": "python3"
  },
  "language_info": {
   "codemirror_mode": {
    "name": "ipython",
    "version": 3
   },
   "file_extension": ".py",
   "mimetype": "text/x-python",
   "name": "python",
   "nbconvert_exporter": "python",
   "pygments_lexer": "ipython3",
   "version": "3.8.8"
  }
 },
 "nbformat": 4,
 "nbformat_minor": 1
}
