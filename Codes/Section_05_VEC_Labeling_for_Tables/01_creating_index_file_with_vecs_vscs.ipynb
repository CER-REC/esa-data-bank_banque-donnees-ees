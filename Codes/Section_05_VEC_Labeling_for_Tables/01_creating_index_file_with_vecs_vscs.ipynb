{
 "cells": [
  {
   "cell_type": "code",
   "execution_count": 109,
   "id": "0b37f7a4",
   "metadata": {},
   "outputs": [
    {
     "name": "stderr",
     "output_type": "stream",
     "text": [
      "[nltk_data] Downloading package punkt to\n",
      "[nltk_data]     C:\\Users\\ThibJacq\\AppData\\Roaming\\nltk_data...\n",
      "[nltk_data]   Package punkt is already up-to-date!\n"
     ]
    },
    {
     "data": {
      "text/plain": [
       "True"
      ]
     },
     "execution_count": 109,
     "metadata": {},
     "output_type": "execute_result"
    }
   ],
   "source": [
    "import pandas as pd\n",
    "from transformers import pipeline\n",
    "from bs4 import BeautifulSoup\n",
    "import nltk\n",
    "from nltk.stem.porter import *\n",
    "from nltk.tokenize import word_tokenize\n",
    "from nltk.tokenize.treebank import TreebankWordDetokenizer\n",
    "nltk.download('punkt')"
   ]
  },
  {
   "cell_type": "code",
   "execution_count": 6,
   "id": "29db44ce",
   "metadata": {},
   "outputs": [
    {
     "data": {
      "text/plain": [
       "True"
      ]
     },
     "execution_count": 6,
     "metadata": {},
     "output_type": "execute_result"
    }
   ],
   "source": [
    "nltk.download('stopwords', quiet=True)"
   ]
  },
  {
   "cell_type": "code",
   "execution_count": 122,
   "id": "0c1b1a5a",
   "metadata": {},
   "outputs": [],
   "source": [
    "df = pd.read_csv('./data/esa_csvs_raw.txt', sep='\\t')"
   ]
  },
  {
   "cell_type": "code",
   "execution_count": 123,
   "id": "2b458332",
   "metadata": {},
   "outputs": [
    {
     "data": {
      "text/plain": [
       "'[[\"Survey Date\", \"Aboriginal Communities\", \"Detail\"], [\"July 9 to 12, 2011\", \"Blueberry River First Nation <s>•</s>Halfway River First Nation <s>•</s>McLeod Lake Indian Band <s>•</s>North East Métis Association <s>•</s>\", \"Summer 2011 open water aquatic <s>•</s>assessments.\"], [\"September 18 to October 10, 2011\", \"Blueberry River First Nation <s>•</s>Halfway River First Nation <s>•</s>McLeod Lake Indian Band <s>•</s>North East Métis Association <s>•</s>\", \"Fall 2011 open water aquatic assessments. <s>•</s>\"], [\"February 26 to March 12, 2012\", \"Blueberry River First Nation <s>•</s>Doig River First Nation <s>•</s>Halfway River First Nation <s>•</s>Kelly Lake Cree First Nation <s>•</s>McLeod Lake Indian Band <s>•</s>North East Métis Association <s>•</s>\", \"Winter 2012 aquatic habitat investigations. <s>•</s>\"]]'"
      ]
     },
     "execution_count": 123,
     "metadata": {},
     "output_type": "execute_result"
    }
   ],
   "source": [
    "df.iloc[0]['csvText']"
   ]
  },
  {
   "cell_type": "code",
   "execution_count": 63,
   "id": "9718d86f",
   "metadata": {},
   "outputs": [],
   "source": [
    "df_index = pd.read_csv('./data/ESA_website_ENG_2021_03_04_final.csv')"
   ]
  },
  {
   "cell_type": "code",
   "execution_count": 64,
   "id": "8546dab0",
   "metadata": {},
   "outputs": [],
   "source": [
    "df_index.rename(columns={\"Old CSV Filename\": \"csvFileName\"}, inplace=True)"
   ]
  },
  {
   "cell_type": "code",
   "execution_count": 65,
   "id": "41412798",
   "metadata": {},
   "outputs": [
    {
     "data": {
      "text/html": [
       "<div>\n",
       "<style scoped>\n",
       "    .dataframe tbody tr th:only-of-type {\n",
       "        vertical-align: middle;\n",
       "    }\n",
       "\n",
       "    .dataframe tbody tr th {\n",
       "        vertical-align: top;\n",
       "    }\n",
       "\n",
       "    .dataframe thead th {\n",
       "        text-align: right;\n",
       "    }\n",
       "</style>\n",
       "<table border=\"1\" class=\"dataframe\">\n",
       "  <thead>\n",
       "    <tr style=\"text-align: right;\">\n",
       "      <th></th>\n",
       "      <th>Index</th>\n",
       "      <th>Title</th>\n",
       "      <th>Content Type</th>\n",
       "      <th>Application Name</th>\n",
       "      <th>Application Short Name</th>\n",
       "      <th>Application Filing Date</th>\n",
       "      <th>Company Name</th>\n",
       "      <th>Commodity</th>\n",
       "      <th>File Name</th>\n",
       "      <th>ESA Folder URL</th>\n",
       "      <th>...</th>\n",
       "      <th>CSV Download URL</th>\n",
       "      <th>PDF Page Number</th>\n",
       "      <th>PDF Page Count</th>\n",
       "      <th>PDF Size</th>\n",
       "      <th>PDF Outline</th>\n",
       "      <th>Download folder name</th>\n",
       "      <th>Zipped Project Link</th>\n",
       "      <th>Missing CSV</th>\n",
       "      <th>CSV Filename</th>\n",
       "      <th>csvFileName</th>\n",
       "    </tr>\n",
       "  </thead>\n",
       "  <tbody>\n",
       "    <tr>\n",
       "      <th>0</th>\n",
       "      <td>9134</td>\n",
       "      <td>TABLE 3 SUMMARY OF AQUATICS FIELD WORK AND ABO...</td>\n",
       "      <td>Table</td>\n",
       "      <td>Application for North Montney Project</td>\n",
       "      <td>North Montney</td>\n",
       "      <td>11/8/2013</td>\n",
       "      <td>NOVA Gas Transmission Ltd.</td>\n",
       "      <td>Gas</td>\n",
       "      <td>B2-16 ESA_Appendix_G_Part1of4 (A3Q6H2)</td>\n",
       "      <td>https://apps.cer-rec.gc.ca/REGDOCS/Item/LoadRe...</td>\n",
       "      <td>...</td>\n",
       "      <td>http://www.cer-rec.gc.ca/esa-ees/nrthmntn/nrth...</td>\n",
       "      <td>14</td>\n",
       "      <td>48.0</td>\n",
       "      <td>5.87</td>\n",
       "      <td>No</td>\n",
       "      <td>nrthmntn</td>\n",
       "      <td>http://www.cer-rec.gc.ca/esa-ees/nrthmntn.zip</td>\n",
       "      <td>False</td>\n",
       "      <td>nrthmntn_table-3-summary-of-aquatics-field-wor...</td>\n",
       "      <td>1059614_14_lattice-v_1.csv</td>\n",
       "    </tr>\n",
       "    <tr>\n",
       "      <th>1</th>\n",
       "      <td>9135</td>\n",
       "      <td>TABLE 4 SUMMARY OF WATERCOURSE CROSSINGS ALONG...</td>\n",
       "      <td>Table</td>\n",
       "      <td>Application for North Montney Project</td>\n",
       "      <td>North Montney</td>\n",
       "      <td>11/8/2013</td>\n",
       "      <td>NOVA Gas Transmission Ltd.</td>\n",
       "      <td>Gas</td>\n",
       "      <td>B2-16 ESA_Appendix_G_Part1of4 (A3Q6H2)</td>\n",
       "      <td>https://apps.cer-rec.gc.ca/REGDOCS/Item/LoadRe...</td>\n",
       "      <td>...</td>\n",
       "      <td>http://www.cer-rec.gc.ca/esa-ees/nrthmntn/nrth...</td>\n",
       "      <td>17</td>\n",
       "      <td>48.0</td>\n",
       "      <td>5.87</td>\n",
       "      <td>No</td>\n",
       "      <td>nrthmntn</td>\n",
       "      <td>http://www.cer-rec.gc.ca/esa-ees/nrthmntn.zip</td>\n",
       "      <td>False</td>\n",
       "      <td>nrthmntn_table-4-summary-of-watercourse-crossi...</td>\n",
       "      <td>1059614_17_lattice-v_1.csv</td>\n",
       "    </tr>\n",
       "    <tr>\n",
       "      <th>2</th>\n",
       "      <td>9136</td>\n",
       "      <td>TABLE 4 SUMMARY OF WATERCOURSE CROSSINGS ALONG...</td>\n",
       "      <td>Table</td>\n",
       "      <td>Application for North Montney Project</td>\n",
       "      <td>North Montney</td>\n",
       "      <td>11/8/2013</td>\n",
       "      <td>NOVA Gas Transmission Ltd.</td>\n",
       "      <td>Gas</td>\n",
       "      <td>B2-16 ESA_Appendix_G_Part1of4 (A3Q6H2)</td>\n",
       "      <td>https://apps.cer-rec.gc.ca/REGDOCS/Item/LoadRe...</td>\n",
       "      <td>...</td>\n",
       "      <td>http://www.cer-rec.gc.ca/esa-ees/nrthmntn/nrth...</td>\n",
       "      <td>18</td>\n",
       "      <td>48.0</td>\n",
       "      <td>5.87</td>\n",
       "      <td>No</td>\n",
       "      <td>nrthmntn</td>\n",
       "      <td>http://www.cer-rec.gc.ca/esa-ees/nrthmntn.zip</td>\n",
       "      <td>False</td>\n",
       "      <td>nrthmntn_table-4-summary-of-watercourse-crossi...</td>\n",
       "      <td>1059614_18_lattice-v_1.csv</td>\n",
       "    </tr>\n",
       "    <tr>\n",
       "      <th>3</th>\n",
       "      <td>9137</td>\n",
       "      <td>TABLE 4 SUMMARY OF WATERCOURSE CROSSINGS ALONG...</td>\n",
       "      <td>Table</td>\n",
       "      <td>Application for North Montney Project</td>\n",
       "      <td>North Montney</td>\n",
       "      <td>11/8/2013</td>\n",
       "      <td>NOVA Gas Transmission Ltd.</td>\n",
       "      <td>Gas</td>\n",
       "      <td>B2-16 ESA_Appendix_G_Part1of4 (A3Q6H2)</td>\n",
       "      <td>https://apps.cer-rec.gc.ca/REGDOCS/Item/LoadRe...</td>\n",
       "      <td>...</td>\n",
       "      <td>http://www.cer-rec.gc.ca/esa-ees/nrthmntn/nrth...</td>\n",
       "      <td>19</td>\n",
       "      <td>48.0</td>\n",
       "      <td>5.87</td>\n",
       "      <td>No</td>\n",
       "      <td>nrthmntn</td>\n",
       "      <td>http://www.cer-rec.gc.ca/esa-ees/nrthmntn.zip</td>\n",
       "      <td>False</td>\n",
       "      <td>nrthmntn_table-4-summary-of-watercourse-crossi...</td>\n",
       "      <td>1059614_19_lattice-v_1.csv</td>\n",
       "    </tr>\n",
       "    <tr>\n",
       "      <th>4</th>\n",
       "      <td>9138</td>\n",
       "      <td>TABLE 4 SUMMARY OF WATERCOURSE CROSSINGS ALONG...</td>\n",
       "      <td>Table</td>\n",
       "      <td>Application for North Montney Project</td>\n",
       "      <td>North Montney</td>\n",
       "      <td>11/8/2013</td>\n",
       "      <td>NOVA Gas Transmission Ltd.</td>\n",
       "      <td>Gas</td>\n",
       "      <td>B2-16 ESA_Appendix_G_Part1of4 (A3Q6H2)</td>\n",
       "      <td>https://apps.cer-rec.gc.ca/REGDOCS/Item/LoadRe...</td>\n",
       "      <td>...</td>\n",
       "      <td>http://www.cer-rec.gc.ca/esa-ees/nrthmntn/nrth...</td>\n",
       "      <td>20</td>\n",
       "      <td>48.0</td>\n",
       "      <td>5.87</td>\n",
       "      <td>No</td>\n",
       "      <td>nrthmntn</td>\n",
       "      <td>http://www.cer-rec.gc.ca/esa-ees/nrthmntn.zip</td>\n",
       "      <td>False</td>\n",
       "      <td>nrthmntn_table-4-summary-of-watercourse-crossi...</td>\n",
       "      <td>1059614_20_lattice-v_1.csv</td>\n",
       "    </tr>\n",
       "  </tbody>\n",
       "</table>\n",
       "<p>5 rows × 34 columns</p>\n",
       "</div>"
      ],
      "text/plain": [
       "   Index                                              Title Content Type  \\\n",
       "0   9134  TABLE 3 SUMMARY OF AQUATICS FIELD WORK AND ABO...        Table   \n",
       "1   9135  TABLE 4 SUMMARY OF WATERCOURSE CROSSINGS ALONG...        Table   \n",
       "2   9136  TABLE 4 SUMMARY OF WATERCOURSE CROSSINGS ALONG...        Table   \n",
       "3   9137  TABLE 4 SUMMARY OF WATERCOURSE CROSSINGS ALONG...        Table   \n",
       "4   9138  TABLE 4 SUMMARY OF WATERCOURSE CROSSINGS ALONG...        Table   \n",
       "\n",
       "                        Application Name Application Short Name  \\\n",
       "0  Application for North Montney Project          North Montney   \n",
       "1  Application for North Montney Project          North Montney   \n",
       "2  Application for North Montney Project          North Montney   \n",
       "3  Application for North Montney Project          North Montney   \n",
       "4  Application for North Montney Project          North Montney   \n",
       "\n",
       "  Application Filing Date                Company Name Commodity  \\\n",
       "0               11/8/2013  NOVA Gas Transmission Ltd.       Gas   \n",
       "1               11/8/2013  NOVA Gas Transmission Ltd.       Gas   \n",
       "2               11/8/2013  NOVA Gas Transmission Ltd.       Gas   \n",
       "3               11/8/2013  NOVA Gas Transmission Ltd.       Gas   \n",
       "4               11/8/2013  NOVA Gas Transmission Ltd.       Gas   \n",
       "\n",
       "                                File Name  \\\n",
       "0  B2-16 ESA_Appendix_G_Part1of4 (A3Q6H2)   \n",
       "1  B2-16 ESA_Appendix_G_Part1of4 (A3Q6H2)   \n",
       "2  B2-16 ESA_Appendix_G_Part1of4 (A3Q6H2)   \n",
       "3  B2-16 ESA_Appendix_G_Part1of4 (A3Q6H2)   \n",
       "4  B2-16 ESA_Appendix_G_Part1of4 (A3Q6H2)   \n",
       "\n",
       "                                      ESA Folder URL  ...  \\\n",
       "0  https://apps.cer-rec.gc.ca/REGDOCS/Item/LoadRe...  ...   \n",
       "1  https://apps.cer-rec.gc.ca/REGDOCS/Item/LoadRe...  ...   \n",
       "2  https://apps.cer-rec.gc.ca/REGDOCS/Item/LoadRe...  ...   \n",
       "3  https://apps.cer-rec.gc.ca/REGDOCS/Item/LoadRe...  ...   \n",
       "4  https://apps.cer-rec.gc.ca/REGDOCS/Item/LoadRe...  ...   \n",
       "\n",
       "                                    CSV Download URL  PDF Page Number  \\\n",
       "0  http://www.cer-rec.gc.ca/esa-ees/nrthmntn/nrth...               14   \n",
       "1  http://www.cer-rec.gc.ca/esa-ees/nrthmntn/nrth...               17   \n",
       "2  http://www.cer-rec.gc.ca/esa-ees/nrthmntn/nrth...               18   \n",
       "3  http://www.cer-rec.gc.ca/esa-ees/nrthmntn/nrth...               19   \n",
       "4  http://www.cer-rec.gc.ca/esa-ees/nrthmntn/nrth...               20   \n",
       "\n",
       "  PDF Page Count PDF Size PDF Outline Download folder name  \\\n",
       "0           48.0     5.87          No             nrthmntn   \n",
       "1           48.0     5.87          No             nrthmntn   \n",
       "2           48.0     5.87          No             nrthmntn   \n",
       "3           48.0     5.87          No             nrthmntn   \n",
       "4           48.0     5.87          No             nrthmntn   \n",
       "\n",
       "                             Zipped Project Link Missing CSV  \\\n",
       "0  http://www.cer-rec.gc.ca/esa-ees/nrthmntn.zip       False   \n",
       "1  http://www.cer-rec.gc.ca/esa-ees/nrthmntn.zip       False   \n",
       "2  http://www.cer-rec.gc.ca/esa-ees/nrthmntn.zip       False   \n",
       "3  http://www.cer-rec.gc.ca/esa-ees/nrthmntn.zip       False   \n",
       "4  http://www.cer-rec.gc.ca/esa-ees/nrthmntn.zip       False   \n",
       "\n",
       "                                        CSV Filename  \\\n",
       "0  nrthmntn_table-3-summary-of-aquatics-field-wor...   \n",
       "1  nrthmntn_table-4-summary-of-watercourse-crossi...   \n",
       "2  nrthmntn_table-4-summary-of-watercourse-crossi...   \n",
       "3  nrthmntn_table-4-summary-of-watercourse-crossi...   \n",
       "4  nrthmntn_table-4-summary-of-watercourse-crossi...   \n",
       "\n",
       "                  csvFileName  \n",
       "0  1059614_14_lattice-v_1.csv  \n",
       "1  1059614_17_lattice-v_1.csv  \n",
       "2  1059614_18_lattice-v_1.csv  \n",
       "3  1059614_19_lattice-v_1.csv  \n",
       "4  1059614_20_lattice-v_1.csv  \n",
       "\n",
       "[5 rows x 34 columns]"
      ]
     },
     "execution_count": 65,
     "metadata": {},
     "output_type": "execute_result"
    }
   ],
   "source": [
    "df_index.head()"
   ]
  },
  {
   "cell_type": "code",
   "execution_count": 66,
   "id": "655d0c60",
   "metadata": {},
   "outputs": [],
   "source": [
    "df_merged = df[df['csvFileName'].isin(list(df_index['csvFileName']))].reset_index(drop=True)"
   ]
  },
  {
   "cell_type": "code",
   "execution_count": 67,
   "id": "f491b787",
   "metadata": {},
   "outputs": [],
   "source": [
    "df_joined = pd.merge(df_index, df_merged, how='left', on='csvFileName')"
   ]
  },
  {
   "cell_type": "code",
   "execution_count": 68,
   "id": "5c9d2f30",
   "metadata": {
    "scrolled": false
   },
   "outputs": [
    {
     "data": {
      "text/html": [
       "<div>\n",
       "<style scoped>\n",
       "    .dataframe tbody tr th:only-of-type {\n",
       "        vertical-align: middle;\n",
       "    }\n",
       "\n",
       "    .dataframe tbody tr th {\n",
       "        vertical-align: top;\n",
       "    }\n",
       "\n",
       "    .dataframe thead th {\n",
       "        text-align: right;\n",
       "    }\n",
       "</style>\n",
       "<table border=\"1\" class=\"dataframe\">\n",
       "  <thead>\n",
       "    <tr style=\"text-align: right;\">\n",
       "      <th></th>\n",
       "      <th>Index</th>\n",
       "      <th>Title</th>\n",
       "      <th>Content Type</th>\n",
       "      <th>Application Name</th>\n",
       "      <th>Application Short Name</th>\n",
       "      <th>Application Filing Date</th>\n",
       "      <th>Company Name</th>\n",
       "      <th>Commodity</th>\n",
       "      <th>File Name</th>\n",
       "      <th>ESA Folder URL</th>\n",
       "      <th>...</th>\n",
       "      <th>PDF Page Number</th>\n",
       "      <th>PDF Page Count</th>\n",
       "      <th>PDF Size</th>\n",
       "      <th>PDF Outline</th>\n",
       "      <th>Download folder name</th>\n",
       "      <th>Zipped Project Link</th>\n",
       "      <th>Missing CSV</th>\n",
       "      <th>CSV Filename</th>\n",
       "      <th>csvFileName</th>\n",
       "      <th>csvText</th>\n",
       "    </tr>\n",
       "  </thead>\n",
       "  <tbody>\n",
       "    <tr>\n",
       "      <th>0</th>\n",
       "      <td>9134</td>\n",
       "      <td>TABLE 3 SUMMARY OF AQUATICS FIELD WORK AND ABO...</td>\n",
       "      <td>Table</td>\n",
       "      <td>Application for North Montney Project</td>\n",
       "      <td>North Montney</td>\n",
       "      <td>11/8/2013</td>\n",
       "      <td>NOVA Gas Transmission Ltd.</td>\n",
       "      <td>Gas</td>\n",
       "      <td>B2-16 ESA_Appendix_G_Part1of4 (A3Q6H2)</td>\n",
       "      <td>https://apps.cer-rec.gc.ca/REGDOCS/Item/LoadRe...</td>\n",
       "      <td>...</td>\n",
       "      <td>14</td>\n",
       "      <td>48.0</td>\n",
       "      <td>5.87</td>\n",
       "      <td>No</td>\n",
       "      <td>nrthmntn</td>\n",
       "      <td>http://www.cer-rec.gc.ca/esa-ees/nrthmntn.zip</td>\n",
       "      <td>False</td>\n",
       "      <td>nrthmntn_table-3-summary-of-aquatics-field-wor...</td>\n",
       "      <td>1059614_14_lattice-v_1.csv</td>\n",
       "      <td>Survey Date Aboriginal Communities Detail July...</td>\n",
       "    </tr>\n",
       "    <tr>\n",
       "      <th>1</th>\n",
       "      <td>9135</td>\n",
       "      <td>TABLE 4 SUMMARY OF WATERCOURSE CROSSINGS ALONG...</td>\n",
       "      <td>Table</td>\n",
       "      <td>Application for North Montney Project</td>\n",
       "      <td>North Montney</td>\n",
       "      <td>11/8/2013</td>\n",
       "      <td>NOVA Gas Transmission Ltd.</td>\n",
       "      <td>Gas</td>\n",
       "      <td>B2-16 ESA_Appendix_G_Part1of4 (A3Q6H2)</td>\n",
       "      <td>https://apps.cer-rec.gc.ca/REGDOCS/Item/LoadRe...</td>\n",
       "      <td>...</td>\n",
       "      <td>17</td>\n",
       "      <td>48.0</td>\n",
       "      <td>5.87</td>\n",
       "      <td>No</td>\n",
       "      <td>nrthmntn</td>\n",
       "      <td>http://www.cer-rec.gc.ca/esa-ees/nrthmntn.zip</td>\n",
       "      <td>False</td>\n",
       "      <td>nrthmntn_table-4-summary-of-watercourse-crossi...</td>\n",
       "      <td>1059614_17_lattice-v_1.csv</td>\n",
       "      <td>Field Site No Name Legal Location UTM Coordina...</td>\n",
       "    </tr>\n",
       "    <tr>\n",
       "      <th>2</th>\n",
       "      <td>9136</td>\n",
       "      <td>TABLE 4 SUMMARY OF WATERCOURSE CROSSINGS ALONG...</td>\n",
       "      <td>Table</td>\n",
       "      <td>Application for North Montney Project</td>\n",
       "      <td>North Montney</td>\n",
       "      <td>11/8/2013</td>\n",
       "      <td>NOVA Gas Transmission Ltd.</td>\n",
       "      <td>Gas</td>\n",
       "      <td>B2-16 ESA_Appendix_G_Part1of4 (A3Q6H2)</td>\n",
       "      <td>https://apps.cer-rec.gc.ca/REGDOCS/Item/LoadRe...</td>\n",
       "      <td>...</td>\n",
       "      <td>18</td>\n",
       "      <td>48.0</td>\n",
       "      <td>5.87</td>\n",
       "      <td>No</td>\n",
       "      <td>nrthmntn</td>\n",
       "      <td>http://www.cer-rec.gc.ca/esa-ees/nrthmntn.zip</td>\n",
       "      <td>False</td>\n",
       "      <td>nrthmntn_table-4-summary-of-watercourse-crossi...</td>\n",
       "      <td>1059614_18_lattice-v_1.csv</td>\n",
       "      <td>Field Site No Name Legal Location UTM Coordina...</td>\n",
       "    </tr>\n",
       "    <tr>\n",
       "      <th>3</th>\n",
       "      <td>9137</td>\n",
       "      <td>TABLE 4 SUMMARY OF WATERCOURSE CROSSINGS ALONG...</td>\n",
       "      <td>Table</td>\n",
       "      <td>Application for North Montney Project</td>\n",
       "      <td>North Montney</td>\n",
       "      <td>11/8/2013</td>\n",
       "      <td>NOVA Gas Transmission Ltd.</td>\n",
       "      <td>Gas</td>\n",
       "      <td>B2-16 ESA_Appendix_G_Part1of4 (A3Q6H2)</td>\n",
       "      <td>https://apps.cer-rec.gc.ca/REGDOCS/Item/LoadRe...</td>\n",
       "      <td>...</td>\n",
       "      <td>19</td>\n",
       "      <td>48.0</td>\n",
       "      <td>5.87</td>\n",
       "      <td>No</td>\n",
       "      <td>nrthmntn</td>\n",
       "      <td>http://www.cer-rec.gc.ca/esa-ees/nrthmntn.zip</td>\n",
       "      <td>False</td>\n",
       "      <td>nrthmntn_table-4-summary-of-watercourse-crossi...</td>\n",
       "      <td>1059614_19_lattice-v_1.csv</td>\n",
       "      <td>Field Site No Name Legal Location UTM Coordina...</td>\n",
       "    </tr>\n",
       "    <tr>\n",
       "      <th>4</th>\n",
       "      <td>9138</td>\n",
       "      <td>TABLE 4 SUMMARY OF WATERCOURSE CROSSINGS ALONG...</td>\n",
       "      <td>Table</td>\n",
       "      <td>Application for North Montney Project</td>\n",
       "      <td>North Montney</td>\n",
       "      <td>11/8/2013</td>\n",
       "      <td>NOVA Gas Transmission Ltd.</td>\n",
       "      <td>Gas</td>\n",
       "      <td>B2-16 ESA_Appendix_G_Part1of4 (A3Q6H2)</td>\n",
       "      <td>https://apps.cer-rec.gc.ca/REGDOCS/Item/LoadRe...</td>\n",
       "      <td>...</td>\n",
       "      <td>20</td>\n",
       "      <td>48.0</td>\n",
       "      <td>5.87</td>\n",
       "      <td>No</td>\n",
       "      <td>nrthmntn</td>\n",
       "      <td>http://www.cer-rec.gc.ca/esa-ees/nrthmntn.zip</td>\n",
       "      <td>False</td>\n",
       "      <td>nrthmntn_table-4-summary-of-watercourse-crossi...</td>\n",
       "      <td>1059614_20_lattice-v_1.csv</td>\n",
       "      <td>Field Site No Name Legal Location UTM Coordina...</td>\n",
       "    </tr>\n",
       "  </tbody>\n",
       "</table>\n",
       "<p>5 rows × 35 columns</p>\n",
       "</div>"
      ],
      "text/plain": [
       "   Index                                              Title Content Type  \\\n",
       "0   9134  TABLE 3 SUMMARY OF AQUATICS FIELD WORK AND ABO...        Table   \n",
       "1   9135  TABLE 4 SUMMARY OF WATERCOURSE CROSSINGS ALONG...        Table   \n",
       "2   9136  TABLE 4 SUMMARY OF WATERCOURSE CROSSINGS ALONG...        Table   \n",
       "3   9137  TABLE 4 SUMMARY OF WATERCOURSE CROSSINGS ALONG...        Table   \n",
       "4   9138  TABLE 4 SUMMARY OF WATERCOURSE CROSSINGS ALONG...        Table   \n",
       "\n",
       "                        Application Name Application Short Name  \\\n",
       "0  Application for North Montney Project          North Montney   \n",
       "1  Application for North Montney Project          North Montney   \n",
       "2  Application for North Montney Project          North Montney   \n",
       "3  Application for North Montney Project          North Montney   \n",
       "4  Application for North Montney Project          North Montney   \n",
       "\n",
       "  Application Filing Date                Company Name Commodity  \\\n",
       "0               11/8/2013  NOVA Gas Transmission Ltd.       Gas   \n",
       "1               11/8/2013  NOVA Gas Transmission Ltd.       Gas   \n",
       "2               11/8/2013  NOVA Gas Transmission Ltd.       Gas   \n",
       "3               11/8/2013  NOVA Gas Transmission Ltd.       Gas   \n",
       "4               11/8/2013  NOVA Gas Transmission Ltd.       Gas   \n",
       "\n",
       "                                File Name  \\\n",
       "0  B2-16 ESA_Appendix_G_Part1of4 (A3Q6H2)   \n",
       "1  B2-16 ESA_Appendix_G_Part1of4 (A3Q6H2)   \n",
       "2  B2-16 ESA_Appendix_G_Part1of4 (A3Q6H2)   \n",
       "3  B2-16 ESA_Appendix_G_Part1of4 (A3Q6H2)   \n",
       "4  B2-16 ESA_Appendix_G_Part1of4 (A3Q6H2)   \n",
       "\n",
       "                                      ESA Folder URL  ... PDF Page Number  \\\n",
       "0  https://apps.cer-rec.gc.ca/REGDOCS/Item/LoadRe...  ...              14   \n",
       "1  https://apps.cer-rec.gc.ca/REGDOCS/Item/LoadRe...  ...              17   \n",
       "2  https://apps.cer-rec.gc.ca/REGDOCS/Item/LoadRe...  ...              18   \n",
       "3  https://apps.cer-rec.gc.ca/REGDOCS/Item/LoadRe...  ...              19   \n",
       "4  https://apps.cer-rec.gc.ca/REGDOCS/Item/LoadRe...  ...              20   \n",
       "\n",
       "   PDF Page Count PDF Size PDF Outline Download folder name  \\\n",
       "0            48.0     5.87          No             nrthmntn   \n",
       "1            48.0     5.87          No             nrthmntn   \n",
       "2            48.0     5.87          No             nrthmntn   \n",
       "3            48.0     5.87          No             nrthmntn   \n",
       "4            48.0     5.87          No             nrthmntn   \n",
       "\n",
       "                             Zipped Project Link Missing CSV  \\\n",
       "0  http://www.cer-rec.gc.ca/esa-ees/nrthmntn.zip       False   \n",
       "1  http://www.cer-rec.gc.ca/esa-ees/nrthmntn.zip       False   \n",
       "2  http://www.cer-rec.gc.ca/esa-ees/nrthmntn.zip       False   \n",
       "3  http://www.cer-rec.gc.ca/esa-ees/nrthmntn.zip       False   \n",
       "4  http://www.cer-rec.gc.ca/esa-ees/nrthmntn.zip       False   \n",
       "\n",
       "                                        CSV Filename  \\\n",
       "0  nrthmntn_table-3-summary-of-aquatics-field-wor...   \n",
       "1  nrthmntn_table-4-summary-of-watercourse-crossi...   \n",
       "2  nrthmntn_table-4-summary-of-watercourse-crossi...   \n",
       "3  nrthmntn_table-4-summary-of-watercourse-crossi...   \n",
       "4  nrthmntn_table-4-summary-of-watercourse-crossi...   \n",
       "\n",
       "                  csvFileName  \\\n",
       "0  1059614_14_lattice-v_1.csv   \n",
       "1  1059614_17_lattice-v_1.csv   \n",
       "2  1059614_18_lattice-v_1.csv   \n",
       "3  1059614_19_lattice-v_1.csv   \n",
       "4  1059614_20_lattice-v_1.csv   \n",
       "\n",
       "                                             csvText  \n",
       "0  Survey Date Aboriginal Communities Detail July...  \n",
       "1  Field Site No Name Legal Location UTM Coordina...  \n",
       "2  Field Site No Name Legal Location UTM Coordina...  \n",
       "3  Field Site No Name Legal Location UTM Coordina...  \n",
       "4  Field Site No Name Legal Location UTM Coordina...  \n",
       "\n",
       "[5 rows x 35 columns]"
      ]
     },
     "execution_count": 68,
     "metadata": {},
     "output_type": "execute_result"
    }
   ],
   "source": [
    "df_joined.head()"
   ]
  },
  {
   "cell_type": "code",
   "execution_count": 69,
   "id": "3650073c",
   "metadata": {},
   "outputs": [
    {
     "data": {
      "text/plain": [
       "28891"
      ]
     },
     "execution_count": 69,
     "metadata": {},
     "output_type": "execute_result"
    }
   ],
   "source": [
    "len(df_joined)"
   ]
  },
  {
   "cell_type": "code",
   "execution_count": 70,
   "id": "11d25b40",
   "metadata": {},
   "outputs": [],
   "source": [
    "del df\n",
    "del df_index\n",
    "del df_merged"
   ]
  },
  {
   "cell_type": "code",
   "execution_count": null,
   "id": "4d5d9db1",
   "metadata": {},
   "outputs": [],
   "source": [
    "df_joined.rename(columns={\"csvText\": \"text\"}, inplace=True)\n",
    "df_joined['label'] = -1"
   ]
  },
  {
   "cell_type": "code",
   "execution_count": null,
   "id": "a46b243b",
   "metadata": {},
   "outputs": [],
   "source": [
    "df_joined[\"text\"] = df[\"Title\"] + \" \" + df_joined[\"text\"]\n",
    "df_joined.drop(columns=[\"Title\"], inplace=True)"
   ]
  },
  {
   "cell_type": "code",
   "execution_count": 124,
   "id": "e0f68825",
   "metadata": {},
   "outputs": [],
   "source": [
    "df_joined['csvText'] = df_joined['csvText'].apply(lambda x: BeautifulSoup(x, \"html.parser\").get_text()) # remove html tags\n",
    "df_joined['csvText'] = df_joined['csvText'].replace('[^a-zA-Z0-9 ]', '', regex=True) # remove all non-alpha-numeric characters\n",
    "df_joined['csvText'] = df_joined['csvText'].replace(' +', ' ', regex=True) # remove all extra spaces in text"
   ]
  },
  {
   "cell_type": "code",
   "execution_count": 138,
   "id": "4d970340",
   "metadata": {},
   "outputs": [
    {
     "data": {
      "text/plain": [
       "'Field Site No Name Legal Location UTM Coordinates NAD83 Zone 10 LatitudeLongitude DDMMSS Elevation m asl Fish Stream Classification 17 Fish and Wildlife Timing Window Low Risk 27 Riparian Management Area m 127 Open Water Mean Channel Morphology m 3 Fish Species Captured or Observed During Open Water Aquatic Assessment Previously Documented 4 Location of Nearest Known Fish Habitat 56 Beaver Activity Present YesNo Winter 2012 Aquatic Habitat Investigation Results Supplemental Fish Sampling Recommended for 2013 Comments 20112012 Aitken Creek Route CE WC0 Unnamed tributary to Stewart Creek SW 288020 W6M E 620133 N 6203041 55572764N 12143276W 873 m asl S4 or S6 TBD7 RRZ 0 RMZ 30 or 20 Bankfull 11 Wetted Dry Depth Dry No sampling Dry no fish previously documented Approximately 3 km downstream in Stewart Creek No Winter habitat investigations were not conducted due to dry conditions in fall 2011 Second season of fish sampling spring or summer WPT10 Unnamed tributary to the Pine River SE 68120 W6M E 618108 N 6206280 55 59 1416 N 121 6 2434 W 721 m asl S4 or S6 TBD7 RRZ 0 RMZ 30 or 20 Bankfull 14 Wetted Dry Depth Dry No sampling Dry no fish previously documented Approximately 10km downstream in the Pine River No Winter habitat investigations were not conducted due to dry conditions in fall 2011 Second season of fish sampling spring or summer CE WC3 Unnamed tributary to the Pine River SE 238121 W6M E 614540 N 6211292 56 1 5930 N 121 9 4242 W 467 m asl S3'"
      ]
     },
     "execution_count": 138,
     "metadata": {},
     "output_type": "execute_result"
    }
   ],
   "source": [
    "df['csvText'][1]"
   ]
  },
  {
   "cell_type": "code",
   "execution_count": 71,
   "id": "3e09a1de",
   "metadata": {},
   "outputs": [
    {
     "data": {
      "text/plain": [
       "'Survey Date Aboriginal Communities Detail July 9 to 12 2011 Blueberry River First Nation Halfway River First Nation McLeod Lake Indian Band North East Mtis Association Summer 2011 open water aquatic assessments September 18 to October 10 2011 Blueberry River First Nation Halfway River First Nation McLeod Lake Indian Band North East Mtis Association Fall 2011 open water aquatic assessments February 26 to March 12 2012 Blueberry River First Nation Doig River First Nation Halfway River First Nation Kelly Lake Cree First Nation McLeod Lake Indian Band North East Mtis Association Winter 2012 aquatic habitat investigations '"
      ]
     },
     "execution_count": 71,
     "metadata": {},
     "output_type": "execute_result"
    }
   ],
   "source": [
    "df_joined.iloc[0].csvText"
   ]
  },
  {
   "cell_type": "code",
   "execution_count": 47,
   "id": "2f1d6780",
   "metadata": {},
   "outputs": [],
   "source": [
    "df_joined.to_csv('./data/esa_index_with_table_text_no_labels.csv')"
   ]
  },
  {
   "cell_type": "code",
   "execution_count": 48,
   "id": "3479279a",
   "metadata": {},
   "outputs": [],
   "source": [
    "df_joined = pd.read_csv('./data/esa_index_with_table_text_no_labels.csv')"
   ]
  },
  {
   "cell_type": "code",
   "execution_count": 125,
   "id": "68789517",
   "metadata": {},
   "outputs": [
    {
     "data": {
      "text/html": [
       "<div>\n",
       "<style scoped>\n",
       "    .dataframe tbody tr th:only-of-type {\n",
       "        vertical-align: middle;\n",
       "    }\n",
       "\n",
       "    .dataframe tbody tr th {\n",
       "        vertical-align: top;\n",
       "    }\n",
       "\n",
       "    .dataframe thead th {\n",
       "        text-align: right;\n",
       "    }\n",
       "</style>\n",
       "<table border=\"1\" class=\"dataframe\">\n",
       "  <thead>\n",
       "    <tr style=\"text-align: right;\">\n",
       "      <th></th>\n",
       "      <th>csvFileName</th>\n",
       "      <th>csvText</th>\n",
       "    </tr>\n",
       "  </thead>\n",
       "  <tbody>\n",
       "    <tr>\n",
       "      <th>0</th>\n",
       "      <td>1059614_14_lattice-v_1.csv</td>\n",
       "      <td>Survey Date Aboriginal Communities Detail July...</td>\n",
       "    </tr>\n",
       "    <tr>\n",
       "      <th>1</th>\n",
       "      <td>1059614_17_lattice-v_1.csv</td>\n",
       "      <td>Field Site No Name Legal Location UTM Coordina...</td>\n",
       "    </tr>\n",
       "    <tr>\n",
       "      <th>2</th>\n",
       "      <td>1059614_18_lattice-v_1.csv</td>\n",
       "      <td>Field Site No Name Legal Location UTM Coordina...</td>\n",
       "    </tr>\n",
       "    <tr>\n",
       "      <th>3</th>\n",
       "      <td>1059614_19_lattice-v_1.csv</td>\n",
       "      <td>Field Site No Name Legal Location UTM Coordina...</td>\n",
       "    </tr>\n",
       "    <tr>\n",
       "      <th>4</th>\n",
       "      <td>1059614_20_lattice-v_1.csv</td>\n",
       "      <td>Field Site No Name Legal Location UTM Coordina...</td>\n",
       "    </tr>\n",
       "  </tbody>\n",
       "</table>\n",
       "</div>"
      ],
      "text/plain": [
       "                  csvFileName  \\\n",
       "0  1059614_14_lattice-v_1.csv   \n",
       "1  1059614_17_lattice-v_1.csv   \n",
       "2  1059614_18_lattice-v_1.csv   \n",
       "3  1059614_19_lattice-v_1.csv   \n",
       "4  1059614_20_lattice-v_1.csv   \n",
       "\n",
       "                                             csvText  \n",
       "0  Survey Date Aboriginal Communities Detail July...  \n",
       "1  Field Site No Name Legal Location UTM Coordina...  \n",
       "2  Field Site No Name Legal Location UTM Coordina...  \n",
       "3  Field Site No Name Legal Location UTM Coordina...  \n",
       "4  Field Site No Name Legal Location UTM Coordina...  "
      ]
     },
     "execution_count": 125,
     "metadata": {},
     "output_type": "execute_result"
    }
   ],
   "source": [
    "for row in df.itertuples(index=True):\n",
    "    tokenized_table_text = word_tokenize(df['csvText'][row.Index])\n",
    "    if len(tokenized_table_text) > 256:\n",
    "        df['csvText'][row.Index] = TreebankWordDetokenizer().detokenize(tokenized_table_text[0:256])\n",
    "        \n",
    "df.head()"
   ]
  },
  {
   "cell_type": "code",
   "execution_count": 134,
   "id": "33f7db00",
   "metadata": {},
   "outputs": [],
   "source": [
    "for row in df_joined.iloc[0:100].itertuples():\n",
    "    tokenized_table_text = word_tokenize(df_joined['csvText'][row.Index])\n",
    "    assert len(tokenized_table_text) <= 256, \"You have at least one table with more than 256 tokens.\""
   ]
  },
  {
   "cell_type": "code",
   "execution_count": null,
   "id": "40120b2f",
   "metadata": {},
   "outputs": [],
   "source": [
    "df_joined.to_csv('./data/esa_index_with_table_text_no_labels_256_max_tokens.csv')"
   ]
  }
 ],
 "metadata": {
  "kernelspec": {
   "display_name": "Python 3",
   "language": "python",
   "name": "python3"
  }
 },
 "nbformat": 4,
 "nbformat_minor": 5
}
