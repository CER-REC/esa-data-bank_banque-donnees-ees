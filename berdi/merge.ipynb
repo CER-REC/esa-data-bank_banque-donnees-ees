{
 "cells": [
  {
   "cell_type": "code",
   "execution_count": 1,
   "metadata": {},
   "outputs": [],
   "source": [
    "import pandas as pd"
   ]
  },
  {
   "cell_type": "code",
   "execution_count": 12,
   "metadata": {},
   "outputs": [],
   "source": [
    "df_eng_index = pd.read_csv('G:/Board/ESA_downloads/NEBC/external/en/ESA_website_ENG.csv', encoding = 'utf-8-sig')\n",
    "df_main_eng_index = pd.read_csv('G:/Board/ESA_downloads/NEBC/external_main_index/ESA_website_ENG.csv', encoding = 'utf-8-sig')"
   ]
  },
  {
   "cell_type": "code",
   "execution_count": 8,
   "metadata": {},
   "outputs": [],
   "source": [
    "main_eng_df = df_main_eng_index.append(df_eng_index, ignore_index= True, sort = False)\n",
    "main_eng_df.to_csv('ESA_website_ENG.csv', encoding = 'utf-8-sig', index = False)"
   ]
  },
  {
   "cell_type": "code",
   "execution_count": 9,
   "metadata": {},
   "outputs": [],
   "source": [
    "df_fra_index = pd.read_csv('G:/Board/ESA_downloads/NEBC/external/fr/ESA_website_FRA.csv', encoding = 'utf-8-sig')\n",
    "df_main_fra_index = pd.read_csv('G:/Board/ESA_downloads/NEBC/external_main_index/ESA_website_FRA.csv', encoding = 'utf-8-sig')"
   ]
  },
  {
   "cell_type": "code",
   "execution_count": 11,
   "metadata": {},
   "outputs": [],
   "source": [
    "main_fra_df = df_main_fra_index.append(df_fra_index, ignore_index= True, sort = False)\n",
    "main_fra_df.to_csv('ESA_website_FRA.csv', encoding = 'utf-8-sig', index = False)"
   ]
  }
 ],
 "metadata": {
  "kernelspec": {
   "display_name": "Python 3.7.4 ('base')",
   "language": "python",
   "name": "python3"
  },
  "language_info": {
   "codemirror_mode": {
    "name": "ipython",
    "version": 3
   },
   "file_extension": ".py",
   "mimetype": "text/x-python",
   "name": "python",
   "nbconvert_exporter": "python",
   "pygments_lexer": "ipython3",
   "version": "3.7.4"
  },
  "orig_nbformat": 4,
  "vscode": {
   "interpreter": {
    "hash": "5a6d9f723b81d6cc9368ec14bb287eb85b7b3e2eeb980ee0d6c292af6e74093e"
   }
  }
 },
 "nbformat": 4,
 "nbformat_minor": 2
}
