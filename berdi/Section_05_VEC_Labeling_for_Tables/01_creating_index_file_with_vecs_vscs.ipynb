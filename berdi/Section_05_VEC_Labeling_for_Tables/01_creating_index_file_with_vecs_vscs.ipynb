{
 "cells": [
  {
   "cell_type": "markdown",
   "metadata": {},
   "source": [
    "# Imports"
   ]
  },
  {
   "cell_type": "code",
   "execution_count": 15,
   "metadata": {},
   "outputs": [
    {
     "name": "stderr",
     "output_type": "stream",
     "text": [
      "[nltk_data] Downloading package punkt to\n",
      "[nltk_data]     C:\\Users\\t1nipun\\AppData\\Roaming\\nltk_data...\n",
      "[nltk_data]   Package punkt is already up-to-date!\n"
     ]
    }
   ],
   "source": [
    "import pandas as pd\n",
    "pd.set_option('display.max_columns', None)\n",
    "pd.set_option('display.max_rows', None)\n",
    "pd.set_option('display.width', None)\n",
    "pd.set_option('display.max_colwidth', 255)\n",
    "from bs4 import BeautifulSoup\n",
    "import nltk\n",
    "from nltk.stem.porter import *\n",
    "from nltk.tokenize import word_tokenize\n",
    "from nltk.tokenize.treebank import TreebankWordDetokenizer\n",
    "from pathlib import Path\n",
    "nltk.download('punkt')\n",
    "from dotenv import load_dotenv\n",
    "import os"
   ]
  },
  {
   "cell_type": "code",
   "execution_count": 16,
   "metadata": {},
   "outputs": [
    {
     "name": "stdout",
     "output_type": "stream",
     "text": [
      "c:\\Users\\t1nipun\\Documents\\esa-data-bank_banque-donnees-ees\n"
     ]
    }
   ],
   "source": [
    "%cd \"c:\\\\Users\\\\t1nipun\\\\Documents\\\\esa-data-bank_banque-donnees-ees\"\n",
    "ROOT_PATH = os.getcwd()\n",
    "from berdi.Database_Connection_Files.connect_to_sqlserver_database import connect_to_db"
   ]
  },
  {
   "cell_type": "code",
   "execution_count": 17,
   "metadata": {},
   "outputs": [
    {
     "data": {
      "text/plain": [
       "True"
      ]
     },
     "execution_count": 17,
     "metadata": {},
     "output_type": "execute_result"
    }
   ],
   "source": [
    "nltk.download('stopwords', quiet=True)"
   ]
  },
  {
   "cell_type": "markdown",
   "metadata": {},
   "source": [
    "`esa_csvs_raw.txt` is a tab-separated file of the raw data from the MySQL database. You will need to create this file if you want to include new data. The file contains the name of the CSV file as well as the contents of the CSV file (of the table). You need to make it tab-separated because MSSQL will not separate things properly if you use a comma because the CSV contents include commas. If you *really* want to use a comma, there is a way to do it where there will be quotes added to separate the fields, but you will need to look up how to do it."
   ]
  },
  {
   "cell_type": "code",
   "execution_count": 18,
   "metadata": {},
   "outputs": [],
   "source": [
    "load_dotenv(\n",
    "    dotenv_path= str(ROOT_PATH) + \"\\\\berdi\\\\Database_Connection_Files\\\\.env\", override=True\n",
    ")\n",
    "conn = connect_to_db()\n",
    "\n",
    "df = pd.read_sql('''SELECT csvFileName, csvText FROM [DS_TEST].[BERDI].csvs;''', conn)\n",
    "df.to_csv(str(ROOT_PATH) + \"\\\\data\\\\processed\\\\csvs\\\\esa_csvs_raw.txt\", index = False, sep = '\\t', encoding = 'utf-8-sig')"
   ]
  },
  {
   "cell_type": "code",
   "execution_count": 19,
   "metadata": {},
   "outputs": [],
   "source": [
    "df_raw = pd.read_csv(str(ROOT_PATH) + \"\\\\data\\\\processed\\\\csvs\\\\esa_csvs_raw.txt\", sep='\\t')"
   ]
  },
  {
   "cell_type": "code",
   "execution_count": 20,
   "metadata": {},
   "outputs": [
    {
     "data": {
      "text/plain": [
       "csvFileName                                                                                                                                                                                                                                        4166218_10_lattice-v_1.csv\n",
       "csvText        [[\"Residual Cumulative Effect\",\"Residual Cumulative Effects Characterization\",\"\",\"\",\"\",\"\",\"\",\"\"],[\"Residual Cumulative Effect\",\"Magnitude\",\"Extent Geographic\",\"Timing\",\"Duration\",\"Frequency\",\"Reversibility\",\"Likelihood\"],[\"Change in Habitat\",\"\",\"\",\"\",...\n",
       "Name: 0, dtype: object"
      ]
     },
     "execution_count": 20,
     "metadata": {},
     "output_type": "execute_result"
    }
   ],
   "source": [
    "df_raw.iloc[0]"
   ]
  },
  {
   "cell_type": "code",
   "execution_count": 21,
   "metadata": {},
   "outputs": [],
   "source": [
    "df_raw['csvText'] = df_raw['csvText'].str.slice(0, 30_000) # limit to 30k chars since Excel can't handle more than 32k"
   ]
  },
  {
   "cell_type": "code",
   "execution_count": 22,
   "metadata": {},
   "outputs": [],
   "source": [
    "assert (df_raw['csvText'].str.len()).max() <= 30_000 # sanity check"
   ]
  },
  {
   "cell_type": "code",
   "execution_count": 23,
   "metadata": {},
   "outputs": [],
   "source": [
    "df_index = pd.read_csv(str(ROOT_PATH) + \"\\\\data\\\\interim\\\\Intermediate_Index_Files\\\\Table_Fig_Alignment_Index.csv\", encoding='utf-8-sig')"
   ]
  },
  {
   "cell_type": "code",
   "execution_count": null,
   "metadata": {},
   "outputs": [],
   "source": [
    "# df_index.rename(columns={\\\"Old CSV Filename\\\": \\\"csvFileName\\\"}, inplace=True)"
   ]
  },
  {
   "cell_type": "code",
   "execution_count": 24,
   "metadata": {},
   "outputs": [
    {
     "data": {
      "text/html": [
       "<div>\n",
       "<style scoped>\n",
       "    .dataframe tbody tr th:only-of-type {\n",
       "        vertical-align: middle;\n",
       "    }\n",
       "\n",
       "    .dataframe tbody tr th {\n",
       "        vertical-align: top;\n",
       "    }\n",
       "\n",
       "    .dataframe thead th {\n",
       "        text-align: right;\n",
       "    }\n",
       "</style>\n",
       "<table border=\"1\" class=\"dataframe\">\n",
       "  <thead>\n",
       "    <tr style=\"text-align: right;\">\n",
       "      <th></th>\n",
       "      <th>Application Filing Date</th>\n",
       "      <th>Application ID</th>\n",
       "      <th>Application Name</th>\n",
       "      <th>Application Short Name</th>\n",
       "      <th>Application Type</th>\n",
       "      <th>Application URL</th>\n",
       "      <th>Commodity</th>\n",
       "      <th>Company Name</th>\n",
       "      <th>Consultant Name</th>\n",
       "      <th>Content Type</th>\n",
       "      <th>Data ID</th>\n",
       "      <th>Decision URL</th>\n",
       "      <th>Document Number</th>\n",
       "      <th>ESA Folder URL</th>\n",
       "      <th>ESA Section(s)</th>\n",
       "      <th>File Name</th>\n",
       "      <th>Hearing Order</th>\n",
       "      <th>PDF Download URL</th>\n",
       "      <th>PDF Page Count</th>\n",
       "      <th>PDF Page Number</th>\n",
       "      <th>Pipeline Location</th>\n",
       "      <th>Pipeline Status</th>\n",
       "      <th>Regulatory Instrument(s)</th>\n",
       "      <th>Title</th>\n",
       "      <th>Topics</th>\n",
       "      <th>csvFileName</th>\n",
       "      <th>figureNumber</th>\n",
       "      <th>tableNumber</th>\n",
       "    </tr>\n",
       "  </thead>\n",
       "  <tbody>\n",
       "    <tr>\n",
       "      <td>0</td>\n",
       "      <td>11/18/2021</td>\n",
       "      <td>59480</td>\n",
       "      <td>Application for the NEBC Connector Project</td>\n",
       "      <td>NEBC Connector</td>\n",
       "      <td>Large Projects (over 40 km)</td>\n",
       "      <td>https://apps.cer-rec.gc.ca/REGDOCS/Item/View/4158245</td>\n",
       "      <td>Gas</td>\n",
       "      <td>NorthRiver Midstream NEBC Connector GP Inc.</td>\n",
       "      <td>Stantec</td>\n",
       "      <td>Table</td>\n",
       "      <td>4166218</td>\n",
       "      <td>NaN</td>\n",
       "      <td>A7Y7F7</td>\n",
       "      <td>https://apps.cer-rec.gc.ca/REGDOCS/Item/View/4166216</td>\n",
       "      <td>APPENDIX 1-1 ENVIRONMENTAL AND SOCIO-ECONOMIC ASSESSMENT, 7.0 ASSESSMENT OF POTENTIAL EFFECTS ON WILDLIFE AND WILDLIFE HABITAT</td>\n",
       "      <td>C16186-6</td>\n",
       "      <td>OH-001-2022</td>\n",
       "      <td>https://apps.cer-rec.gc.ca/REGDOCS/File/Download/4166218</td>\n",
       "      <td>20</td>\n",
       "      <td>10.0</td>\n",
       "      <td>British Columbia, Alberta</td>\n",
       "      <td>Applied</td>\n",
       "      <td>NaN</td>\n",
       "      <td>Table 7.28 Residual Cumulative Effects on Wildlife and Wildlife Habitat</td>\n",
       "      <td>['Wildlife', 'Human']</td>\n",
       "      <td>4166218_10_lattice-v_1.csv</td>\n",
       "      <td>NaN</td>\n",
       "      <td>1.0</td>\n",
       "    </tr>\n",
       "    <tr>\n",
       "      <td>1</td>\n",
       "      <td>11/18/2021</td>\n",
       "      <td>59480</td>\n",
       "      <td>Application for the NEBC Connector Project</td>\n",
       "      <td>NEBC Connector</td>\n",
       "      <td>Large Projects (over 40 km)</td>\n",
       "      <td>https://apps.cer-rec.gc.ca/REGDOCS/Item/View/4158245</td>\n",
       "      <td>Gas</td>\n",
       "      <td>NorthRiver Midstream NEBC Connector GP Inc.</td>\n",
       "      <td>Stantec</td>\n",
       "      <td>Table</td>\n",
       "      <td>4166218</td>\n",
       "      <td>NaN</td>\n",
       "      <td>A7Y7F7</td>\n",
       "      <td>https://apps.cer-rec.gc.ca/REGDOCS/Item/View/4166216</td>\n",
       "      <td>APPENDIX 1-1 ENVIRONMENTAL AND SOCIO-ECONOMIC ASSESSMENT, 7.0 ASSESSMENT OF POTENTIAL EFFECTS ON WILDLIFE AND WILDLIFE HABITAT</td>\n",
       "      <td>C16186-6</td>\n",
       "      <td>OH-001-2022</td>\n",
       "      <td>https://apps.cer-rec.gc.ca/REGDOCS/File/Download/4166218</td>\n",
       "      <td>20</td>\n",
       "      <td>4.0</td>\n",
       "      <td>British Columbia, Alberta</td>\n",
       "      <td>Applied</td>\n",
       "      <td>NaN</td>\n",
       "      <td>Table 7.27 Change in Linear Features Density within the Wildlife Regional Assessment Area for Project Case and Future Case</td>\n",
       "      <td>['Wildlife', 'Human']</td>\n",
       "      <td>4166218_4_lattice-v_1.csv</td>\n",
       "      <td>NaN</td>\n",
       "      <td>1.0</td>\n",
       "    </tr>\n",
       "  </tbody>\n",
       "</table>\n",
       "</div>"
      ],
      "text/plain": [
       "  Application Filing Date  Application ID  \\\n",
       "0              11/18/2021           59480   \n",
       "1              11/18/2021           59480   \n",
       "\n",
       "                             Application Name Application Short Name  \\\n",
       "0  Application for the NEBC Connector Project         NEBC Connector   \n",
       "1  Application for the NEBC Connector Project         NEBC Connector   \n",
       "\n",
       "              Application Type  \\\n",
       "0  Large Projects (over 40 km)   \n",
       "1  Large Projects (over 40 km)   \n",
       "\n",
       "                                        Application URL Commodity  \\\n",
       "0  https://apps.cer-rec.gc.ca/REGDOCS/Item/View/4158245       Gas   \n",
       "1  https://apps.cer-rec.gc.ca/REGDOCS/Item/View/4158245       Gas   \n",
       "\n",
       "                                  Company Name Consultant Name Content Type  \\\n",
       "0  NorthRiver Midstream NEBC Connector GP Inc.         Stantec        Table   \n",
       "1  NorthRiver Midstream NEBC Connector GP Inc.         Stantec        Table   \n",
       "\n",
       "   Data ID  Decision URL Document Number  \\\n",
       "0  4166218           NaN          A7Y7F7   \n",
       "1  4166218           NaN          A7Y7F7   \n",
       "\n",
       "                                         ESA Folder URL  \\\n",
       "0  https://apps.cer-rec.gc.ca/REGDOCS/Item/View/4166216   \n",
       "1  https://apps.cer-rec.gc.ca/REGDOCS/Item/View/4166216   \n",
       "\n",
       "                                                                                                                   ESA Section(s)  \\\n",
       "0  APPENDIX 1-1 ENVIRONMENTAL AND SOCIO-ECONOMIC ASSESSMENT, 7.0 ASSESSMENT OF POTENTIAL EFFECTS ON WILDLIFE AND WILDLIFE HABITAT   \n",
       "1  APPENDIX 1-1 ENVIRONMENTAL AND SOCIO-ECONOMIC ASSESSMENT, 7.0 ASSESSMENT OF POTENTIAL EFFECTS ON WILDLIFE AND WILDLIFE HABITAT   \n",
       "\n",
       "  File Name Hearing Order  \\\n",
       "0  C16186-6   OH-001-2022   \n",
       "1  C16186-6   OH-001-2022   \n",
       "\n",
       "                                           PDF Download URL  PDF Page Count  \\\n",
       "0  https://apps.cer-rec.gc.ca/REGDOCS/File/Download/4166218              20   \n",
       "1  https://apps.cer-rec.gc.ca/REGDOCS/File/Download/4166218              20   \n",
       "\n",
       "   PDF Page Number          Pipeline Location Pipeline Status  \\\n",
       "0             10.0  British Columbia, Alberta         Applied   \n",
       "1              4.0  British Columbia, Alberta         Applied   \n",
       "\n",
       "   Regulatory Instrument(s)  \\\n",
       "0                       NaN   \n",
       "1                       NaN   \n",
       "\n",
       "                                                                                                                        Title  \\\n",
       "0                                                     Table 7.28 Residual Cumulative Effects on Wildlife and Wildlife Habitat   \n",
       "1  Table 7.27 Change in Linear Features Density within the Wildlife Regional Assessment Area for Project Case and Future Case   \n",
       "\n",
       "                  Topics                 csvFileName  figureNumber  \\\n",
       "0  ['Wildlife', 'Human']  4166218_10_lattice-v_1.csv           NaN   \n",
       "1  ['Wildlife', 'Human']   4166218_4_lattice-v_1.csv           NaN   \n",
       "\n",
       "   tableNumber  \n",
       "0          1.0  \n",
       "1          1.0  "
      ]
     },
     "execution_count": 24,
     "metadata": {},
     "output_type": "execute_result"
    }
   ],
   "source": [
    "df_index.head(2)"
   ]
  },
  {
   "cell_type": "code",
   "execution_count": 25,
   "metadata": {},
   "outputs": [
    {
     "data": {
      "text/html": [
       "<div>\n",
       "<style scoped>\n",
       "    .dataframe tbody tr th:only-of-type {\n",
       "        vertical-align: middle;\n",
       "    }\n",
       "\n",
       "    .dataframe tbody tr th {\n",
       "        vertical-align: top;\n",
       "    }\n",
       "\n",
       "    .dataframe thead th {\n",
       "        text-align: right;\n",
       "    }\n",
       "</style>\n",
       "<table border=\"1\" class=\"dataframe\">\n",
       "  <thead>\n",
       "    <tr style=\"text-align: right;\">\n",
       "      <th></th>\n",
       "      <th>Application Filing Date</th>\n",
       "      <th>Application ID</th>\n",
       "      <th>Application Name</th>\n",
       "      <th>Application Short Name</th>\n",
       "      <th>Application Type</th>\n",
       "      <th>Application URL</th>\n",
       "      <th>Commodity</th>\n",
       "      <th>Company Name</th>\n",
       "      <th>Consultant Name</th>\n",
       "      <th>Content Type</th>\n",
       "      <th>Data ID</th>\n",
       "      <th>Decision URL</th>\n",
       "      <th>Document Number</th>\n",
       "      <th>ESA Folder URL</th>\n",
       "      <th>ESA Section(s)</th>\n",
       "      <th>File Name</th>\n",
       "      <th>Hearing Order</th>\n",
       "      <th>PDF Download URL</th>\n",
       "      <th>PDF Page Count</th>\n",
       "      <th>PDF Page Number</th>\n",
       "      <th>Pipeline Location</th>\n",
       "      <th>Pipeline Status</th>\n",
       "      <th>Regulatory Instrument(s)</th>\n",
       "      <th>Title</th>\n",
       "      <th>Topics</th>\n",
       "      <th>csvFileName</th>\n",
       "      <th>figureNumber</th>\n",
       "      <th>tableNumber</th>\n",
       "    </tr>\n",
       "  </thead>\n",
       "  <tbody>\n",
       "    <tr>\n",
       "      <td>133</td>\n",
       "      <td>11/18/2021</td>\n",
       "      <td>59480</td>\n",
       "      <td>Application for the NEBC Connector Project</td>\n",
       "      <td>NEBC Connector</td>\n",
       "      <td>Large Projects (over 40 km)</td>\n",
       "      <td>https://apps.cer-rec.gc.ca/REGDOCS/Item/View/4158245</td>\n",
       "      <td>Gas</td>\n",
       "      <td>NorthRiver Midstream NEBC Connector GP Inc.</td>\n",
       "      <td>Stantec, AiM Land Services Ltd.</td>\n",
       "      <td>Table</td>\n",
       "      <td>4166301</td>\n",
       "      <td>NaN</td>\n",
       "      <td>A7Y7F8</td>\n",
       "      <td>https://apps.cer-rec.gc.ca/REGDOCS/Item/View/4166216</td>\n",
       "      <td>APPENDIX 1-1 ENVIRONMENTAL AND SOCIO-ECONOMIC ASSESSMENT, 8.0 ASSESSMENT OF POTENTIAL EFFECTS ON FISH AND FISH HABITAT, 9.0 ASSESSMENT OF POTENTIAL EFFECTS ON GREENHOUSE GASES, 10.0 ASSESSMENT OF POTENTIAL EFFECTS ON AIR QUALITY, 11.0 ASSESSMENT OF PO...</td>\n",
       "      <td>C16186-7</td>\n",
       "      <td>OH-001-2022</td>\n",
       "      <td>https://apps.cer-rec.gc.ca/REGDOCS/File/Download/4166301</td>\n",
       "      <td>531</td>\n",
       "      <td>334.0</td>\n",
       "      <td>British Columbia, Alberta</td>\n",
       "      <td>Applied</td>\n",
       "      <td>NaN</td>\n",
       "      <td>Table 17.9 Educational Attainment – 2016</td>\n",
       "      <td>['Land', 'Air', 'Water', 'Wildlife', 'Human', 'Traditional Knowledge']</td>\n",
       "      <td>4166301_334_lattice-v_1.csv</td>\n",
       "      <td>NaN</td>\n",
       "      <td>1.0</td>\n",
       "    </tr>\n",
       "    <tr>\n",
       "      <td>134</td>\n",
       "      <td>11/18/2021</td>\n",
       "      <td>59480</td>\n",
       "      <td>Application for the NEBC Connector Project</td>\n",
       "      <td>NEBC Connector</td>\n",
       "      <td>Large Projects (over 40 km)</td>\n",
       "      <td>https://apps.cer-rec.gc.ca/REGDOCS/Item/View/4158245</td>\n",
       "      <td>Gas</td>\n",
       "      <td>NorthRiver Midstream NEBC Connector GP Inc.</td>\n",
       "      <td>Stantec, AiM Land Services Ltd.</td>\n",
       "      <td>Table</td>\n",
       "      <td>4166301</td>\n",
       "      <td>NaN</td>\n",
       "      <td>A7Y7F8</td>\n",
       "      <td>https://apps.cer-rec.gc.ca/REGDOCS/Item/View/4166216</td>\n",
       "      <td>APPENDIX 1-1 ENVIRONMENTAL AND SOCIO-ECONOMIC ASSESSMENT, 8.0 ASSESSMENT OF POTENTIAL EFFECTS ON FISH AND FISH HABITAT, 9.0 ASSESSMENT OF POTENTIAL EFFECTS ON GREENHOUSE GASES, 10.0 ASSESSMENT OF POTENTIAL EFFECTS ON AIR QUALITY, 11.0 ASSESSMENT OF PO...</td>\n",
       "      <td>C16186-7</td>\n",
       "      <td>OH-001-2022</td>\n",
       "      <td>https://apps.cer-rec.gc.ca/REGDOCS/File/Download/4166301</td>\n",
       "      <td>531</td>\n",
       "      <td>335.0</td>\n",
       "      <td>British Columbia, Alberta</td>\n",
       "      <td>Applied</td>\n",
       "      <td>NaN</td>\n",
       "      <td>Table 17.9 Educational Attainment – 2016</td>\n",
       "      <td>['Land', 'Air', 'Water', 'Wildlife', 'Human', 'Traditional Knowledge']</td>\n",
       "      <td>4166301_335_lattice-v_1.csv</td>\n",
       "      <td>NaN</td>\n",
       "      <td>1.0</td>\n",
       "    </tr>\n",
       "  </tbody>\n",
       "</table>\n",
       "</div>"
      ],
      "text/plain": [
       "    Application Filing Date  Application ID  \\\n",
       "133              11/18/2021           59480   \n",
       "134              11/18/2021           59480   \n",
       "\n",
       "                               Application Name Application Short Name  \\\n",
       "133  Application for the NEBC Connector Project         NEBC Connector   \n",
       "134  Application for the NEBC Connector Project         NEBC Connector   \n",
       "\n",
       "                Application Type  \\\n",
       "133  Large Projects (over 40 km)   \n",
       "134  Large Projects (over 40 km)   \n",
       "\n",
       "                                          Application URL Commodity  \\\n",
       "133  https://apps.cer-rec.gc.ca/REGDOCS/Item/View/4158245       Gas   \n",
       "134  https://apps.cer-rec.gc.ca/REGDOCS/Item/View/4158245       Gas   \n",
       "\n",
       "                                    Company Name  \\\n",
       "133  NorthRiver Midstream NEBC Connector GP Inc.   \n",
       "134  NorthRiver Midstream NEBC Connector GP Inc.   \n",
       "\n",
       "                     Consultant Name Content Type  Data ID  Decision URL  \\\n",
       "133  Stantec, AiM Land Services Ltd.        Table  4166301           NaN   \n",
       "134  Stantec, AiM Land Services Ltd.        Table  4166301           NaN   \n",
       "\n",
       "    Document Number                                        ESA Folder URL  \\\n",
       "133          A7Y7F8  https://apps.cer-rec.gc.ca/REGDOCS/Item/View/4166216   \n",
       "134          A7Y7F8  https://apps.cer-rec.gc.ca/REGDOCS/Item/View/4166216   \n",
       "\n",
       "                                                                                                                                                                                                                                                     ESA Section(s)  \\\n",
       "133  APPENDIX 1-1 ENVIRONMENTAL AND SOCIO-ECONOMIC ASSESSMENT, 8.0 ASSESSMENT OF POTENTIAL EFFECTS ON FISH AND FISH HABITAT, 9.0 ASSESSMENT OF POTENTIAL EFFECTS ON GREENHOUSE GASES, 10.0 ASSESSMENT OF POTENTIAL EFFECTS ON AIR QUALITY, 11.0 ASSESSMENT OF PO...   \n",
       "134  APPENDIX 1-1 ENVIRONMENTAL AND SOCIO-ECONOMIC ASSESSMENT, 8.0 ASSESSMENT OF POTENTIAL EFFECTS ON FISH AND FISH HABITAT, 9.0 ASSESSMENT OF POTENTIAL EFFECTS ON GREENHOUSE GASES, 10.0 ASSESSMENT OF POTENTIAL EFFECTS ON AIR QUALITY, 11.0 ASSESSMENT OF PO...   \n",
       "\n",
       "    File Name Hearing Order  \\\n",
       "133  C16186-7   OH-001-2022   \n",
       "134  C16186-7   OH-001-2022   \n",
       "\n",
       "                                             PDF Download URL  PDF Page Count  \\\n",
       "133  https://apps.cer-rec.gc.ca/REGDOCS/File/Download/4166301             531   \n",
       "134  https://apps.cer-rec.gc.ca/REGDOCS/File/Download/4166301             531   \n",
       "\n",
       "     PDF Page Number          Pipeline Location Pipeline Status  \\\n",
       "133            334.0  British Columbia, Alberta         Applied   \n",
       "134            335.0  British Columbia, Alberta         Applied   \n",
       "\n",
       "     Regulatory Instrument(s)                                     Title  \\\n",
       "133                       NaN  Table 17.9 Educational Attainment – 2016   \n",
       "134                       NaN  Table 17.9 Educational Attainment – 2016   \n",
       "\n",
       "                                                                     Topics  \\\n",
       "133  ['Land', 'Air', 'Water', 'Wildlife', 'Human', 'Traditional Knowledge']   \n",
       "134  ['Land', 'Air', 'Water', 'Wildlife', 'Human', 'Traditional Knowledge']   \n",
       "\n",
       "                     csvFileName  figureNumber  tableNumber  \n",
       "133  4166301_334_lattice-v_1.csv           NaN          1.0  \n",
       "134  4166301_335_lattice-v_1.csv           NaN          1.0  "
      ]
     },
     "execution_count": 25,
     "metadata": {},
     "output_type": "execute_result"
    }
   ],
   "source": [
    "df_index.iloc[133:135] # sanity check"
   ]
  },
  {
   "cell_type": "code",
   "execution_count": 26,
   "metadata": {},
   "outputs": [],
   "source": [
    "df_merged = df_raw[df_raw['csvFileName'].isin(list(df_index['csvFileName']))].reset_index(drop=True)"
   ]
  },
  {
   "cell_type": "code",
   "execution_count": 27,
   "metadata": {},
   "outputs": [],
   "source": [
    "df_joined = pd.merge(df_index, df_merged, how='left', on='csvFileName')"
   ]
  },
  {
   "cell_type": "code",
   "execution_count": 28,
   "metadata": {
    "scrolled": false
   },
   "outputs": [
    {
     "data": {
      "text/html": [
       "<div>\n",
       "<style scoped>\n",
       "    .dataframe tbody tr th:only-of-type {\n",
       "        vertical-align: middle;\n",
       "    }\n",
       "\n",
       "    .dataframe tbody tr th {\n",
       "        vertical-align: top;\n",
       "    }\n",
       "\n",
       "    .dataframe thead th {\n",
       "        text-align: right;\n",
       "    }\n",
       "</style>\n",
       "<table border=\"1\" class=\"dataframe\">\n",
       "  <thead>\n",
       "    <tr style=\"text-align: right;\">\n",
       "      <th></th>\n",
       "      <th>Application Filing Date</th>\n",
       "      <th>Application ID</th>\n",
       "      <th>Application Name</th>\n",
       "      <th>Application Short Name</th>\n",
       "      <th>Application Type</th>\n",
       "      <th>Application URL</th>\n",
       "      <th>Commodity</th>\n",
       "      <th>Company Name</th>\n",
       "      <th>Consultant Name</th>\n",
       "      <th>Content Type</th>\n",
       "      <th>Data ID</th>\n",
       "      <th>Decision URL</th>\n",
       "      <th>Document Number</th>\n",
       "      <th>ESA Folder URL</th>\n",
       "      <th>ESA Section(s)</th>\n",
       "      <th>File Name</th>\n",
       "      <th>Hearing Order</th>\n",
       "      <th>PDF Download URL</th>\n",
       "      <th>PDF Page Count</th>\n",
       "      <th>PDF Page Number</th>\n",
       "      <th>Pipeline Location</th>\n",
       "      <th>Pipeline Status</th>\n",
       "      <th>Regulatory Instrument(s)</th>\n",
       "      <th>Title</th>\n",
       "      <th>Topics</th>\n",
       "      <th>csvFileName</th>\n",
       "      <th>figureNumber</th>\n",
       "      <th>tableNumber</th>\n",
       "      <th>csvText</th>\n",
       "    </tr>\n",
       "  </thead>\n",
       "  <tbody>\n",
       "    <tr>\n",
       "      <td>0</td>\n",
       "      <td>11/18/2021</td>\n",
       "      <td>59480</td>\n",
       "      <td>Application for the NEBC Connector Project</td>\n",
       "      <td>NEBC Connector</td>\n",
       "      <td>Large Projects (over 40 km)</td>\n",
       "      <td>https://apps.cer-rec.gc.ca/REGDOCS/Item/View/4158245</td>\n",
       "      <td>Gas</td>\n",
       "      <td>NorthRiver Midstream NEBC Connector GP Inc.</td>\n",
       "      <td>Stantec</td>\n",
       "      <td>Table</td>\n",
       "      <td>4166218</td>\n",
       "      <td>NaN</td>\n",
       "      <td>A7Y7F7</td>\n",
       "      <td>https://apps.cer-rec.gc.ca/REGDOCS/Item/View/4166216</td>\n",
       "      <td>APPENDIX 1-1 ENVIRONMENTAL AND SOCIO-ECONOMIC ASSESSMENT, 7.0 ASSESSMENT OF POTENTIAL EFFECTS ON WILDLIFE AND WILDLIFE HABITAT</td>\n",
       "      <td>C16186-6</td>\n",
       "      <td>OH-001-2022</td>\n",
       "      <td>https://apps.cer-rec.gc.ca/REGDOCS/File/Download/4166218</td>\n",
       "      <td>20</td>\n",
       "      <td>10.0</td>\n",
       "      <td>British Columbia, Alberta</td>\n",
       "      <td>Applied</td>\n",
       "      <td>NaN</td>\n",
       "      <td>Table 7.28 Residual Cumulative Effects on Wildlife and Wildlife Habitat</td>\n",
       "      <td>['Wildlife', 'Human']</td>\n",
       "      <td>4166218_10_lattice-v_1.csv</td>\n",
       "      <td>NaN</td>\n",
       "      <td>1.0</td>\n",
       "      <td>[[\"Residual Cumulative Effect\",\"Residual Cumulative Effects Characterization\",\"\",\"\",\"\",\"\",\"\",\"\"],[\"Residual Cumulative Effect\",\"Magnitude\",\"Extent Geographic\",\"Timing\",\"Duration\",\"Frequency\",\"Reversibility\",\"Likelihood\"],[\"Change in Habitat\",\"\",\"\",\"\",...</td>\n",
       "    </tr>\n",
       "    <tr>\n",
       "      <td>1</td>\n",
       "      <td>11/18/2021</td>\n",
       "      <td>59480</td>\n",
       "      <td>Application for the NEBC Connector Project</td>\n",
       "      <td>NEBC Connector</td>\n",
       "      <td>Large Projects (over 40 km)</td>\n",
       "      <td>https://apps.cer-rec.gc.ca/REGDOCS/Item/View/4158245</td>\n",
       "      <td>Gas</td>\n",
       "      <td>NorthRiver Midstream NEBC Connector GP Inc.</td>\n",
       "      <td>Stantec</td>\n",
       "      <td>Table</td>\n",
       "      <td>4166218</td>\n",
       "      <td>NaN</td>\n",
       "      <td>A7Y7F7</td>\n",
       "      <td>https://apps.cer-rec.gc.ca/REGDOCS/Item/View/4166216</td>\n",
       "      <td>APPENDIX 1-1 ENVIRONMENTAL AND SOCIO-ECONOMIC ASSESSMENT, 7.0 ASSESSMENT OF POTENTIAL EFFECTS ON WILDLIFE AND WILDLIFE HABITAT</td>\n",
       "      <td>C16186-6</td>\n",
       "      <td>OH-001-2022</td>\n",
       "      <td>https://apps.cer-rec.gc.ca/REGDOCS/File/Download/4166218</td>\n",
       "      <td>20</td>\n",
       "      <td>4.0</td>\n",
       "      <td>British Columbia, Alberta</td>\n",
       "      <td>Applied</td>\n",
       "      <td>NaN</td>\n",
       "      <td>Table 7.27 Change in Linear Features Density within the Wildlife Regional Assessment Area for Project Case and Future Case</td>\n",
       "      <td>['Wildlife', 'Human']</td>\n",
       "      <td>4166218_4_lattice-v_1.csv</td>\n",
       "      <td>NaN</td>\n",
       "      <td>1.0</td>\n",
       "      <td>[[\"Linear Features Density Class (km\\/km&lt;s&gt;2&lt;\\/s&gt;)\",\"Baseline Case\",\"\",\"Project Case\",\"\",\"\",\"\",\"Future Case\",\"\",\"\",\"\"],[\"Linear Features Density Class (km\\/km&lt;s&gt;2&lt;\\/s&gt;)\",\"Amount of Habitat Available\",\"\",\"Amount of Habitat Available\",\"\",\"Change from Ba...</td>\n",
       "    </tr>\n",
       "  </tbody>\n",
       "</table>\n",
       "</div>"
      ],
      "text/plain": [
       "  Application Filing Date  Application ID  \\\n",
       "0              11/18/2021           59480   \n",
       "1              11/18/2021           59480   \n",
       "\n",
       "                             Application Name Application Short Name  \\\n",
       "0  Application for the NEBC Connector Project         NEBC Connector   \n",
       "1  Application for the NEBC Connector Project         NEBC Connector   \n",
       "\n",
       "              Application Type  \\\n",
       "0  Large Projects (over 40 km)   \n",
       "1  Large Projects (over 40 km)   \n",
       "\n",
       "                                        Application URL Commodity  \\\n",
       "0  https://apps.cer-rec.gc.ca/REGDOCS/Item/View/4158245       Gas   \n",
       "1  https://apps.cer-rec.gc.ca/REGDOCS/Item/View/4158245       Gas   \n",
       "\n",
       "                                  Company Name Consultant Name Content Type  \\\n",
       "0  NorthRiver Midstream NEBC Connector GP Inc.         Stantec        Table   \n",
       "1  NorthRiver Midstream NEBC Connector GP Inc.         Stantec        Table   \n",
       "\n",
       "   Data ID  Decision URL Document Number  \\\n",
       "0  4166218           NaN          A7Y7F7   \n",
       "1  4166218           NaN          A7Y7F7   \n",
       "\n",
       "                                         ESA Folder URL  \\\n",
       "0  https://apps.cer-rec.gc.ca/REGDOCS/Item/View/4166216   \n",
       "1  https://apps.cer-rec.gc.ca/REGDOCS/Item/View/4166216   \n",
       "\n",
       "                                                                                                                   ESA Section(s)  \\\n",
       "0  APPENDIX 1-1 ENVIRONMENTAL AND SOCIO-ECONOMIC ASSESSMENT, 7.0 ASSESSMENT OF POTENTIAL EFFECTS ON WILDLIFE AND WILDLIFE HABITAT   \n",
       "1  APPENDIX 1-1 ENVIRONMENTAL AND SOCIO-ECONOMIC ASSESSMENT, 7.0 ASSESSMENT OF POTENTIAL EFFECTS ON WILDLIFE AND WILDLIFE HABITAT   \n",
       "\n",
       "  File Name Hearing Order  \\\n",
       "0  C16186-6   OH-001-2022   \n",
       "1  C16186-6   OH-001-2022   \n",
       "\n",
       "                                           PDF Download URL  PDF Page Count  \\\n",
       "0  https://apps.cer-rec.gc.ca/REGDOCS/File/Download/4166218              20   \n",
       "1  https://apps.cer-rec.gc.ca/REGDOCS/File/Download/4166218              20   \n",
       "\n",
       "   PDF Page Number          Pipeline Location Pipeline Status  \\\n",
       "0             10.0  British Columbia, Alberta         Applied   \n",
       "1              4.0  British Columbia, Alberta         Applied   \n",
       "\n",
       "   Regulatory Instrument(s)  \\\n",
       "0                       NaN   \n",
       "1                       NaN   \n",
       "\n",
       "                                                                                                                        Title  \\\n",
       "0                                                     Table 7.28 Residual Cumulative Effects on Wildlife and Wildlife Habitat   \n",
       "1  Table 7.27 Change in Linear Features Density within the Wildlife Regional Assessment Area for Project Case and Future Case   \n",
       "\n",
       "                  Topics                 csvFileName  figureNumber  \\\n",
       "0  ['Wildlife', 'Human']  4166218_10_lattice-v_1.csv           NaN   \n",
       "1  ['Wildlife', 'Human']   4166218_4_lattice-v_1.csv           NaN   \n",
       "\n",
       "   tableNumber  \\\n",
       "0          1.0   \n",
       "1          1.0   \n",
       "\n",
       "                                                                                                                                                                                                                                                          csvText  \n",
       "0  [[\"Residual Cumulative Effect\",\"Residual Cumulative Effects Characterization\",\"\",\"\",\"\",\"\",\"\",\"\"],[\"Residual Cumulative Effect\",\"Magnitude\",\"Extent Geographic\",\"Timing\",\"Duration\",\"Frequency\",\"Reversibility\",\"Likelihood\"],[\"Change in Habitat\",\"\",\"\",\"\",...  \n",
       "1  [[\"Linear Features Density Class (km\\/km<s>2<\\/s>)\",\"Baseline Case\",\"\",\"Project Case\",\"\",\"\",\"\",\"Future Case\",\"\",\"\",\"\"],[\"Linear Features Density Class (km\\/km<s>2<\\/s>)\",\"Amount of Habitat Available\",\"\",\"Amount of Habitat Available\",\"\",\"Change from Ba...  "
      ]
     },
     "execution_count": 28,
     "metadata": {},
     "output_type": "execute_result"
    }
   ],
   "source": [
    "df_joined.head(2)"
   ]
  },
  {
   "cell_type": "code",
   "execution_count": 29,
   "metadata": {},
   "outputs": [
    {
     "data": {
      "text/plain": [
       "1032"
      ]
     },
     "execution_count": 29,
     "metadata": {},
     "output_type": "execute_result"
    }
   ],
   "source": [
    "len(df_joined) # 502"
   ]
  },
  {
   "cell_type": "code",
   "execution_count": 30,
   "metadata": {},
   "outputs": [
    {
     "data": {
      "text/plain": [
       "Index(['Application Filing Date', 'Application ID', 'Application Name',\n",
       "       'Application Short Name', 'Application Type', 'Application URL',\n",
       "       'Commodity', 'Company Name', 'Consultant Name', 'Content Type',\n",
       "       'Data ID', 'Decision URL', 'Document Number', 'ESA Folder URL',\n",
       "       'ESA Section(s)', 'File Name', 'Hearing Order', 'PDF Download URL',\n",
       "       'PDF Page Count', 'PDF Page Number', 'Pipeline Location',\n",
       "       'Pipeline Status', 'Regulatory Instrument(s)', 'Title', 'Topics',\n",
       "       'csvFileName', 'figureNumber', 'tableNumber', 'csvText'],\n",
       "      dtype='object')"
      ]
     },
     "execution_count": 30,
     "metadata": {},
     "output_type": "execute_result"
    }
   ],
   "source": [
    "df_joined.columns"
   ]
  },
  {
   "cell_type": "code",
   "execution_count": null,
   "metadata": {},
   "outputs": [],
   "source": [
    "del df_raw\n",
    "del df_index\n",
    "del df_merged"
   ]
  },
  {
   "cell_type": "markdown",
   "metadata": {},
   "source": [
    "## Adding New Projects to the Index File"
   ]
  },
  {
   "cell_type": "code",
   "execution_count": 31,
   "metadata": {},
   "outputs": [],
   "source": [
    "df_joined.rename(columns={\"csvText\": \"text\"}, inplace=True)\n",
    "df_joined['label'] = -1"
   ]
  },
  {
   "cell_type": "code",
   "execution_count": 32,
   "metadata": {},
   "outputs": [],
   "source": [
    "df_joined[\"text\"] = df_joined[\"Title\"] + \" \" + df_joined[\"text\"]"
   ]
  },
  {
   "cell_type": "code",
   "execution_count": 33,
   "metadata": {},
   "outputs": [
    {
     "data": {
      "text/plain": [
       "1032"
      ]
     },
     "execution_count": 33,
     "metadata": {},
     "output_type": "execute_result"
    }
   ],
   "source": [
    "len(df_joined)"
   ]
  },
  {
   "cell_type": "code",
   "execution_count": 34,
   "metadata": {},
   "outputs": [],
   "source": [
    "df_joined['text'] = df_joined['text'].astype(str).apply(lambda x: BeautifulSoup(x, \"html.parser\").get_text(separator=' ')) # remove html tags\n",
    "df_joined['text'] = df_joined['text'].replace('[^a-zA-Z0-9 ]', ' ', regex=True) # remove all non-alpha-numeric characters\n",
    "df_joined['text'] = df_joined['text'].replace('\\w{25,}', ' ', regex=True)\n",
    "df_joined['text'] = df_joined['text'].replace('cid\\d+', ' ', regex=True)\n",
    "df_joined['text'] = df_joined['text'].replace(' s ', ' ', regex=True)\n",
    "df_joined['text'] = df_joined['text'].replace(' +', ' ', regex=True) # remove all extra spaces in text"
   ]
  },
  {
   "cell_type": "code",
   "execution_count": 35,
   "metadata": {},
   "outputs": [
    {
     "data": {
      "text/plain": [
       "'Table 7 28 Residual Cumulative Effects on Wildlife and Wildlife Habitat Residual Cumulative Effect Residual Cumulative Effects Characterization Residual Cumulative Effect Magnitude Extent Geographic Timing Duration Frequency Reversibility Likelihood Change in Habitat Overall cumulative effect L M RAA LR CA CR LT C R I L Contribution from the Project to the overall cumulative effect The Project will result in added residual effects with the loss of effective wildlife habitat ranging from 21 to 342 ha depending on the focal species or species group Table 7 19 during the construction phase This loss of effective habitat is characterized as low to moderate in magnitude depending on the focal species or species group 1 3 to 5 2 change in habitat availability within the LAA The offset plan will include planting of previously cleared areas The Project u2019s contribution to cumulative effects on wildlife habitat will be offset once this vegetation becomes established Change in Mortality Risk Overall cumulative effect L M RAA LR CA CR ST MT LT C R I L Contribution from the Project to the overall cumulative effect The Project will result in added residual effects on mortality risk for focal species and species groups that are characterized as moderate in magnitude during the construction phase due to activities such as vegetation clearing and low in magnitude during the operation phase due to the negligible increase in access to areas that are not parallel to existing ROWs or in disturbed landscapes The offset plan will include planting of previously cleared areas to increase forest cover and reduce line of sight and predation risk The Project u2019s contribution to cumulative effects on wildlife mortality risk will be offset once this vegetation becomes established Change in Movement Overall cumulative effect L M RAA LR CA CR LT C R I L Contribution from the Project to the overall cumulative effect The Project will result in added residual effects on movement for focal species and species groups that are characterized as low in magnitude The offset plan will include planting of previously cleared areas that will facilitate movement of wildlife species that tend to avoid moving though disturbed landscapes The Project u2019s contribution to cumulative effects on wildlife movement will be offset once this vegetation becomes established '"
      ]
     },
     "execution_count": 35,
     "metadata": {},
     "output_type": "execute_result"
    }
   ],
   "source": [
    "df_joined.text[0]"
   ]
  },
  {
   "cell_type": "code",
   "execution_count": null,
   "metadata": {},
   "outputs": [],
   "source": [
    "df_joined.to_csv(str(ROOT_PATH) + '\\\\data\\\\interim\\\\Intermediate_Index_Files\\\\esa_index_with_table_text_no_labels.csv', index=False, encoding='utf-8-sig')"
   ]
  },
  {
   "cell_type": "code",
   "execution_count": null,
   "metadata": {},
   "outputs": [],
   "source": [
    "from sklearn.model_selection import train_test_split\n",
    "train_df, df_for_labeling = train_test_split(df_joined, test_size=1000, random_state=42, shuffle=True)"
   ]
  },
  {
   "cell_type": "code",
   "execution_count": null,
   "metadata": {},
   "outputs": [],
   "source": [
    "print(len(train_df))\n",
    "print(len(df_for_labeling))"
   ]
  },
  {
   "cell_type": "code",
   "execution_count": null,
   "metadata": {},
   "outputs": [],
   "source": [
    "train_df.head(2)"
   ]
  },
  {
   "cell_type": "markdown",
   "metadata": {},
   "source": []
  },
  {
   "cell_type": "code",
   "execution_count": null,
   "metadata": {},
   "outputs": [],
   "source": [
    "df_for_labeling.head(2)"
   ]
  },
  {
   "cell_type": "code",
   "execution_count": null,
   "metadata": {},
   "outputs": [],
   "source": [
    "df_for_labeling.to_csv(str(ROOT_PATH / 'data/interim/Intermediate_Index_Files/esa_index_for_labeling.csv'), index=False, encoding='utf-8')"
   ]
  }
 ],
 "metadata": {
  "kernelspec": {
   "display_name": "Python 3.7.4 ('base')",
   "language": "python",
   "name": "python3"
  },
  "language_info": {
   "codemirror_mode": {
    "name": "ipython",
    "version": 3
   },
   "file_extension": ".py",
   "mimetype": "text/x-python",
   "name": "python",
   "nbconvert_exporter": "python",
   "pygments_lexer": "ipython3",
   "version": "3.7.4"
  },
  "vscode": {
   "interpreter": {
    "hash": "5a6d9f723b81d6cc9368ec14bb287eb85b7b3e2eeb980ee0d6c292af6e74093e"
   }
  }
 },
 "nbformat": 4,
 "nbformat_minor": 5
}
