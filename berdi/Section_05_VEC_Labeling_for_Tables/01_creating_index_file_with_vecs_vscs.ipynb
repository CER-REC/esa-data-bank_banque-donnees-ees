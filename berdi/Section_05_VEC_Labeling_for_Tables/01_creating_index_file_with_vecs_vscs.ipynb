{
 "cells": [
  {
   "cell_type": "markdown",
   "id": "7c19170d",
   "metadata": {},
   "source": [
    "# Imports"
   ]
  },
  {
   "cell_type": "code",
<<<<<<< HEAD
   "execution_count": 3,
   "id": "c005af38",
=======
   "execution_count": null,
>>>>>>> 031f60097b896b1dffef822bb5712260f7517c61
   "metadata": {},
   "outputs": [],
   "source": [
    "import pandas as pd\n",
    "pd.set_option('display.max_columns', None)\n",
    "pd.set_option('display.max_rows', None)\n",
    "pd.set_option('display.width', None)\n",
    "pd.set_option('display.max_colwidth', 255)\n",
    "from bs4 import BeautifulSoup\n",
    "import nltk\n",
    "from nltk.stem.porter import *\n",
    "from nltk.tokenize import word_tokenize\n",
    "from nltk.tokenize.treebank import TreebankWordDetokenizer\n",
    "from pathlib import Path\n",
    "nltk.download('punkt')\n",
    "from dotenv import load_dotenv\n",
    "import os"
   ]
  },
  {
   "cell_type": "code",
<<<<<<< HEAD
   "execution_count": 2,
   "id": "5cf1c56f",
=======
   "execution_count": null,
   "id": "7477070e",
>>>>>>> 031f60097b896b1dffef822bb5712260f7517c61
   "metadata": {},
   "outputs": [],
   "source": [
    "%cd \"c:\\\\Users\\\\t1nipun\\\\Desktop\\\\BERDI\\\\esa-data-bank_banque-donnees-ees\"\n",
    "ROOT_PATH = os.getcwd()\n",
    "from berdi.Database_Connection_Files.connect_to_sqlserver_database import connect_to_db"
   ]
  },
  {
   "cell_type": "code",
   "execution_count": null,
   "metadata": {},
   "outputs": [],
   "source": [
    "nltk.download('stopwords', quiet=True)"
   ]
  },
  {
   "cell_type": "markdown",
   "id": "53321dda",
   "metadata": {},
   "source": [
    "`esa_csvs_raw.txt` is a tab-separated file of the raw data from the MySQL database. You will need to create this file if you want to include new data. The file contains the name of the CSV file as well as the contents of the CSV file (of the table). You need to make it tab-separated because MSSQL will not separate things properly if you use a comma because the CSV contents include commas. If you *really* want to use a comma, there is a way to do it where there will be quotes added to separate the fields, but you will need to look up how to do it."
   ]
  },
  {
   "cell_type": "code",
   "execution_count": null,
   "id": "5f144620",
   "metadata": {},
   "outputs": [],
   "source": [
    "load_dotenv(\n",
    "    dotenv_path= str(ROOT_PATH) + \"\\\\berdi\\\\Database_Connection_Files\\\\.env\", override=True\n",
    ")\n",
    "conn = connect_to_db()\n",
    "\n",
    "df = pd.read_sql('''SELECT csvFileName, csvText FROM [DS_TEST].[BERDI].csvs;''', conn)\n",
    "df.to_csv(str(ROOT_PATH) + \"\\\\data\\\\processed\\\\csvs\\\\esa_csvs_raw.txt\", index = False, sep = '\\t', encoding = 'utf-8-sig')"
   ]
  },
  {
   "cell_type": "code",
<<<<<<< HEAD
   "execution_count": 11,
   "id": "b0c5ab0b",
=======
   "execution_count": null,
>>>>>>> 031f60097b896b1dffef822bb5712260f7517c61
   "metadata": {},
   "outputs": [],
   "source": [
    "df_raw = pd.read_csv(str(ROOT_PATH) + \"\\\\data\\\\processed\\\\csvs\\\\esa_csvs_raw.txt\", sep='\\t')"
   ]
  },
  {
   "cell_type": "code",
<<<<<<< HEAD
   "execution_count": 12,
   "id": "f676defb",
=======
   "execution_count": null,
>>>>>>> 031f60097b896b1dffef822bb5712260f7517c61
   "metadata": {},
   "outputs": [],
   "source": [
    "df_raw.iloc[0]"
   ]
  },
  {
   "cell_type": "code",
<<<<<<< HEAD
   "execution_count": 13,
   "id": "a33ef81e",
=======
   "execution_count": null,
>>>>>>> 031f60097b896b1dffef822bb5712260f7517c61
   "metadata": {},
   "outputs": [],
   "source": [
    "df_raw['csvText'] = df_raw['csvText'].str.slice(0, 30_000) # limit to 30k chars since Excel can't handle more than 32k"
   ]
  },
  {
   "cell_type": "code",
<<<<<<< HEAD
   "execution_count": 14,
   "id": "71dc2b04",
=======
   "execution_count": null,
>>>>>>> 031f60097b896b1dffef822bb5712260f7517c61
   "metadata": {},
   "outputs": [],
   "source": [
    "assert (df_raw['csvText'].str.len()).max() <= 30_000 # sanity check"
   ]
  },
  {
   "cell_type": "code",
<<<<<<< HEAD
   "execution_count": 15,
   "id": "bdd714bd",
=======
   "execution_count": null,
>>>>>>> 031f60097b896b1dffef822bb5712260f7517c61
   "metadata": {},
   "outputs": [],
   "source": [
    "df_index = pd.read_csv(str(ROOT_PATH) + \"\\\\data\\\\interim\\\\Intermediate_Index_Files\\\\Table_Fig_Alignment_Index.csv\", encoding='utf-8')"
   ]
  },
  {
   "cell_type": "code",
<<<<<<< HEAD
   "execution_count": 16,
   "id": "70be565a",
   "metadata": {},
   "outputs": [],
   "source": [
    "df_index.rename(columns={\"Old CSV Filename\": \"csvFileName\"}, inplace=True)"
   ]
  },
  {
   "cell_type": "code",
   "execution_count": 20,
   "id": "5c75a293",
   "metadata": {},
   "outputs": [
    {
     "data": {
      "text/html": [
       "<div>\n",
       "<style scoped>\n",
       "    .dataframe tbody tr th:only-of-type {\n",
       "        vertical-align: middle;\n",
       "    }\n",
       "\n",
       "    .dataframe tbody tr th {\n",
       "        vertical-align: top;\n",
       "    }\n",
       "\n",
       "    .dataframe thead th {\n",
       "        text-align: right;\n",
       "    }\n",
       "</style>\n",
       "<table border=\"1\" class=\"dataframe\">\n",
       "  <thead>\n",
       "    <tr style=\"text-align: right;\">\n",
       "      <th></th>\n",
       "      <th>Index</th>\n",
       "      <th>Title</th>\n",
       "      <th>Content Type</th>\n",
       "      <th>Application Name</th>\n",
       "      <th>Application Short Name</th>\n",
       "      <th>Application Filing Date</th>\n",
       "      <th>Company Name</th>\n",
       "      <th>Commodity</th>\n",
       "      <th>File Name</th>\n",
       "      <th>ESA Folder URL</th>\n",
       "      <th>Document Number</th>\n",
       "      <th>Data ID</th>\n",
       "      <th>PDF Download URL</th>\n",
       "      <th>Application Type (NEB Act)</th>\n",
       "      <th>Pipeline Location</th>\n",
       "      <th>Hearing order</th>\n",
       "      <th>Consultant Name</th>\n",
       "      <th>Pipeline Status</th>\n",
       "      <th>Regulatory Instrument(s)</th>\n",
       "      <th>Application URL</th>\n",
       "      <th>Decision URL</th>\n",
       "      <th>ESA Section(s)</th>\n",
       "      <th>ESA Section(s) Index</th>\n",
       "      <th>ESA Section(s) Topics</th>\n",
       "      <th>CSV Download URL</th>\n",
       "      <th>PDF Page Number</th>\n",
       "      <th>PDF Page Count</th>\n",
       "      <th>PDF Size</th>\n",
       "      <th>PDF Outline</th>\n",
       "      <th>Download folder name</th>\n",
       "      <th>Zipped Project Link</th>\n",
       "      <th>bad_csv</th>\n",
       "      <th>CSV Filename</th>\n",
       "      <th>csvFileName</th>\n",
       "    </tr>\n",
       "  </thead>\n",
       "  <tbody>\n",
       "    <tr>\n",
       "      <th>0</th>\n",
       "      <td>9134</td>\n",
       "      <td>TABLE 3 SUMMARY OF AQUATICS FIELD WORK AND ABORIGINAL FIELD STUDY PARTICIPATION FOR THE PROJECT</td>\n",
       "      <td>Table</td>\n",
       "      <td>Application for North Montney Project</td>\n",
       "      <td>North Montney</td>\n",
       "      <td>11/8/2013</td>\n",
       "      <td>NOVA Gas Transmission Ltd.</td>\n",
       "      <td>Gas</td>\n",
       "      <td>B2-16 ESA_Appendix_G_Part1of4 (A3Q6H2)</td>\n",
       "      <td>https://apps.cer-rec.gc.ca/REGDOCS/Item/LoadResult/1060040</td>\n",
       "      <td>A3Q6H2</td>\n",
       "      <td>1059614</td>\n",
       "      <td>https://apps.cer-rec.gc.ca/REGDOCS/File/Download/1059614</td>\n",
       "      <td>Large Projects (over 40 km)</td>\n",
       "      <td>British Columbia, All</td>\n",
       "      <td>GH-001-2014</td>\n",
       "      <td>Stantec Consulting Ltd., TERA Environmental Consultants</td>\n",
       "      <td>Operating</td>\n",
       "      <td>GC-125</td>\n",
       "      <td>https://apps.cer-rec.gc.ca/REGDOCS/Item/View/1060220</td>\n",
       "      <td>https://apps.cer-rec.gc.ca/REGDOCS/Item/View/3890551</td>\n",
       "      <td>Appendix G: TERA Aquatics Summary Report</td>\n",
       "      <td>15.0</td>\n",
       "      <td>Water, All</td>\n",
       "      <td>http://www.cer-rec.gc.ca/esa-ees/nrthmntn/nrthmntn_table-3-summary-of-aquatics-field-work-and-aborigi_pt-1_pg-14_doc-num-A3Q6H2.csv</td>\n",
       "      <td>14</td>\n",
       "      <td>48.0</td>\n",
       "      <td>5.87</td>\n",
       "      <td>No</td>\n",
       "      <td>nrthmntn</td>\n",
       "      <td>http://www.cer-rec.gc.ca/esa-ees/nrthmntn.zip</td>\n",
       "      <td>False</td>\n",
       "      <td>nrthmntn_table-3-summary-of-aquatics-field-work-and-aborigi_pt-1_pg-14_doc-num-A3Q6H2.csv</td>\n",
       "      <td>1059614_14_lattice-v_1.csv</td>\n",
       "    </tr>\n",
       "    <tr>\n",
       "      <th>1</th>\n",
       "      <td>9135</td>\n",
       "      <td>TABLE 4 SUMMARY OF WATERCOURSE CROSSINGS ALONG THE NORTH MONTNEY MAINLINE (AITKEN CREEK SECTION)</td>\n",
       "      <td>Table</td>\n",
       "      <td>Application for North Montney Project</td>\n",
       "      <td>North Montney</td>\n",
       "      <td>11/8/2013</td>\n",
       "      <td>NOVA Gas Transmission Ltd.</td>\n",
       "      <td>Gas</td>\n",
       "      <td>B2-16 ESA_Appendix_G_Part1of4 (A3Q6H2)</td>\n",
       "      <td>https://apps.cer-rec.gc.ca/REGDOCS/Item/LoadResult/1060040</td>\n",
       "      <td>A3Q6H2</td>\n",
       "      <td>1059614</td>\n",
       "      <td>https://apps.cer-rec.gc.ca/REGDOCS/File/Download/1059614</td>\n",
       "      <td>Large Projects (over 40 km)</td>\n",
       "      <td>British Columbia, All</td>\n",
       "      <td>GH-001-2014</td>\n",
       "      <td>Stantec Consulting Ltd., TERA Environmental Consultants</td>\n",
       "      <td>Operating</td>\n",
       "      <td>GC-125</td>\n",
       "      <td>https://apps.cer-rec.gc.ca/REGDOCS/Item/View/1060220</td>\n",
       "      <td>https://apps.cer-rec.gc.ca/REGDOCS/Item/View/3890551</td>\n",
       "      <td>Appendix G: TERA Aquatics Summary Report</td>\n",
       "      <td>15.0</td>\n",
       "      <td>Water, All</td>\n",
       "      <td>http://www.cer-rec.gc.ca/esa-ees/nrthmntn/nrthmntn_table-4-summary-of-watercourse-crossings-along-the_pt-1_pg-17_doc-num-A3Q6H2.csv</td>\n",
       "      <td>17</td>\n",
       "      <td>48.0</td>\n",
       "      <td>5.87</td>\n",
       "      <td>No</td>\n",
       "      <td>nrthmntn</td>\n",
       "      <td>http://www.cer-rec.gc.ca/esa-ees/nrthmntn.zip</td>\n",
       "      <td>False</td>\n",
       "      <td>nrthmntn_table-4-summary-of-watercourse-crossings-along-the_pt-1_pg-17_doc-num-A3Q6H2.csv</td>\n",
       "      <td>1059614_17_lattice-v_1.csv</td>\n",
       "    </tr>\n",
       "  </tbody>\n",
       "</table>\n",
       "</div>"
      ],
      "text/plain": [
       "   Index  \\\n",
       "0   9134   \n",
       "1   9135   \n",
       "\n",
       "                                                                                              Title  \\\n",
       "0   TABLE 3 SUMMARY OF AQUATICS FIELD WORK AND ABORIGINAL FIELD STUDY PARTICIPATION FOR THE PROJECT   \n",
       "1  TABLE 4 SUMMARY OF WATERCOURSE CROSSINGS ALONG THE NORTH MONTNEY MAINLINE (AITKEN CREEK SECTION)   \n",
       "\n",
       "  Content Type                       Application Name Application Short Name  \\\n",
       "0        Table  Application for North Montney Project          North Montney   \n",
       "1        Table  Application for North Montney Project          North Montney   \n",
       "\n",
       "  Application Filing Date                Company Name Commodity  \\\n",
       "0               11/8/2013  NOVA Gas Transmission Ltd.       Gas   \n",
       "1               11/8/2013  NOVA Gas Transmission Ltd.       Gas   \n",
       "\n",
       "                                File Name  \\\n",
       "0  B2-16 ESA_Appendix_G_Part1of4 (A3Q6H2)   \n",
       "1  B2-16 ESA_Appendix_G_Part1of4 (A3Q6H2)   \n",
       "\n",
       "                                               ESA Folder URL Document Number  \\\n",
       "0  https://apps.cer-rec.gc.ca/REGDOCS/Item/LoadResult/1060040          A3Q6H2   \n",
       "1  https://apps.cer-rec.gc.ca/REGDOCS/Item/LoadResult/1060040          A3Q6H2   \n",
       "\n",
       "   Data ID                                          PDF Download URL  \\\n",
       "0  1059614  https://apps.cer-rec.gc.ca/REGDOCS/File/Download/1059614   \n",
       "1  1059614  https://apps.cer-rec.gc.ca/REGDOCS/File/Download/1059614   \n",
       "\n",
       "    Application Type (NEB Act)      Pipeline Location Hearing order  \\\n",
       "0  Large Projects (over 40 km)  British Columbia, All   GH-001-2014   \n",
       "1  Large Projects (over 40 km)  British Columbia, All   GH-001-2014   \n",
       "\n",
       "                                           Consultant Name Pipeline Status  \\\n",
       "0  Stantec Consulting Ltd., TERA Environmental Consultants       Operating   \n",
       "1  Stantec Consulting Ltd., TERA Environmental Consultants       Operating   \n",
       "\n",
       "  Regulatory Instrument(s)  \\\n",
       "0                   GC-125   \n",
       "1                   GC-125   \n",
       "\n",
       "                                        Application URL  \\\n",
       "0  https://apps.cer-rec.gc.ca/REGDOCS/Item/View/1060220   \n",
       "1  https://apps.cer-rec.gc.ca/REGDOCS/Item/View/1060220   \n",
       "\n",
       "                                           Decision URL  \\\n",
       "0  https://apps.cer-rec.gc.ca/REGDOCS/Item/View/3890551   \n",
       "1  https://apps.cer-rec.gc.ca/REGDOCS/Item/View/3890551   \n",
       "\n",
       "                             ESA Section(s)  ESA Section(s) Index  \\\n",
       "0  Appendix G: TERA Aquatics Summary Report                  15.0   \n",
       "1  Appendix G: TERA Aquatics Summary Report                  15.0   \n",
       "\n",
       "  ESA Section(s) Topics  \\\n",
       "0            Water, All   \n",
       "1            Water, All   \n",
       "\n",
       "                                                                                                                      CSV Download URL  \\\n",
       "0  http://www.cer-rec.gc.ca/esa-ees/nrthmntn/nrthmntn_table-3-summary-of-aquatics-field-work-and-aborigi_pt-1_pg-14_doc-num-A3Q6H2.csv   \n",
       "1  http://www.cer-rec.gc.ca/esa-ees/nrthmntn/nrthmntn_table-4-summary-of-watercourse-crossings-along-the_pt-1_pg-17_doc-num-A3Q6H2.csv   \n",
       "\n",
       "   PDF Page Number  PDF Page Count  PDF Size PDF Outline Download folder name  \\\n",
       "0               14            48.0      5.87          No             nrthmntn   \n",
       "1               17            48.0      5.87          No             nrthmntn   \n",
       "\n",
       "                             Zipped Project Link  bad_csv  \\\n",
       "0  http://www.cer-rec.gc.ca/esa-ees/nrthmntn.zip    False   \n",
       "1  http://www.cer-rec.gc.ca/esa-ees/nrthmntn.zip    False   \n",
       "\n",
       "                                                                                CSV Filename  \\\n",
       "0  nrthmntn_table-3-summary-of-aquatics-field-work-and-aborigi_pt-1_pg-14_doc-num-A3Q6H2.csv   \n",
       "1  nrthmntn_table-4-summary-of-watercourse-crossings-along-the_pt-1_pg-17_doc-num-A3Q6H2.csv   \n",
       "\n",
       "                  csvFileName  \n",
       "0  1059614_14_lattice-v_1.csv  \n",
       "1  1059614_17_lattice-v_1.csv  "
      ]
     },
     "execution_count": 20,
     "metadata": {},
     "output_type": "execute_result"
    }
   ],
   "source": [
=======
   "execution_count": null,
   "metadata": {},
   "outputs": [],
   "source": [
>>>>>>> 031f60097b896b1dffef822bb5712260f7517c61
    "df_index.head(2)"
   ]
  },
  {
   "cell_type": "code",
<<<<<<< HEAD
   "execution_count": 21,
   "id": "3e95438d",
   "metadata": {},
   "outputs": [
    {
     "data": {
      "text/html": [
       "<div>\n",
       "<style scoped>\n",
       "    .dataframe tbody tr th:only-of-type {\n",
       "        vertical-align: middle;\n",
       "    }\n",
       "\n",
       "    .dataframe tbody tr th {\n",
       "        vertical-align: top;\n",
       "    }\n",
       "\n",
       "    .dataframe thead th {\n",
       "        text-align: right;\n",
       "    }\n",
       "</style>\n",
       "<table border=\"1\" class=\"dataframe\">\n",
       "  <thead>\n",
       "    <tr style=\"text-align: right;\">\n",
       "      <th></th>\n",
       "      <th>Index</th>\n",
       "      <th>Title</th>\n",
       "      <th>Content Type</th>\n",
       "      <th>Application Name</th>\n",
       "      <th>Application Short Name</th>\n",
       "      <th>Application Filing Date</th>\n",
       "      <th>Company Name</th>\n",
       "      <th>Commodity</th>\n",
       "      <th>File Name</th>\n",
       "      <th>ESA Folder URL</th>\n",
       "      <th>Document Number</th>\n",
       "      <th>Data ID</th>\n",
       "      <th>PDF Download URL</th>\n",
       "      <th>Application Type (NEB Act)</th>\n",
       "      <th>Pipeline Location</th>\n",
       "      <th>Hearing order</th>\n",
       "      <th>Consultant Name</th>\n",
       "      <th>Pipeline Status</th>\n",
       "      <th>Regulatory Instrument(s)</th>\n",
       "      <th>Application URL</th>\n",
       "      <th>Decision URL</th>\n",
       "      <th>ESA Section(s)</th>\n",
       "      <th>ESA Section(s) Index</th>\n",
       "      <th>ESA Section(s) Topics</th>\n",
       "      <th>CSV Download URL</th>\n",
       "      <th>PDF Page Number</th>\n",
       "      <th>PDF Page Count</th>\n",
       "      <th>PDF Size</th>\n",
       "      <th>PDF Outline</th>\n",
       "      <th>Download folder name</th>\n",
       "      <th>Zipped Project Link</th>\n",
       "      <th>bad_csv</th>\n",
       "      <th>CSV Filename</th>\n",
       "      <th>csvFileName</th>\n",
       "    </tr>\n",
       "  </thead>\n",
       "  <tbody>\n",
       "    <tr>\n",
       "      <th>133</th>\n",
       "      <td>9267</td>\n",
       "      <td>Table 2-1 Visual Sensitivity Ratings along Project RoW</td>\n",
       "      <td>Table</td>\n",
       "      <td>Application for North Montney Project</td>\n",
       "      <td>North Montney</td>\n",
       "      <td>11/8/2013</td>\n",
       "      <td>NOVA Gas Transmission Ltd.</td>\n",
       "      <td>Gas</td>\n",
       "      <td>B2-25  ESA_Appendix_L_Part3of3 (A3Q6I1)</td>\n",
       "      <td>https://apps.cer-rec.gc.ca/REGDOCS/Item/LoadResult/1060040</td>\n",
       "      <td>A3Q6I1</td>\n",
       "      <td>1059815</td>\n",
       "      <td>https://apps.cer-rec.gc.ca/REGDOCS/File/Download/1059815</td>\n",
       "      <td>Large Projects (over 40 km)</td>\n",
       "      <td>British Columbia, All</td>\n",
       "      <td>GH-001-2014</td>\n",
       "      <td>Stantec Consulting Ltd., TERA Environmental Consultants</td>\n",
       "      <td>Operating</td>\n",
       "      <td>GC-125</td>\n",
       "      <td>https://apps.cer-rec.gc.ca/REGDOCS/Item/View/1060220</td>\n",
       "      <td>https://apps.cer-rec.gc.ca/REGDOCS/Item/View/3890551</td>\n",
       "      <td>Appendix L: Socio-economic Technical Data Report</td>\n",
       "      <td>24.0</td>\n",
       "      <td>Human, Technology, All</td>\n",
       "      <td>http://www.cer-rec.gc.ca/esa-ees/nrthmntn/nrthmntn_table-2-1-visual-sensitivity-ratings-along-project_pt-1_pg-8_doc-num-A3Q6I1.csv</td>\n",
       "      <td>8</td>\n",
       "      <td>22.0</td>\n",
       "      <td>2.77</td>\n",
       "      <td>No</td>\n",
       "      <td>nrthmntn</td>\n",
       "      <td>http://www.cer-rec.gc.ca/esa-ees/nrthmntn.zip</td>\n",
       "      <td>False</td>\n",
       "      <td>nrthmntn_table-2-1-visual-sensitivity-ratings-along-project_pt-1_pg-8_doc-num-A3Q6I1.csv</td>\n",
       "      <td>1059815_8_lattice-v_1.csv</td>\n",
       "    </tr>\n",
       "    <tr>\n",
       "      <th>134</th>\n",
       "      <td>9268</td>\n",
       "      <td>Table 6-1 Valued Components and Key Indicators – Soils</td>\n",
       "      <td>Table</td>\n",
       "      <td>Application for North Montney Project</td>\n",
       "      <td>North Montney</td>\n",
       "      <td>11/8/2013</td>\n",
       "      <td>NOVA Gas Transmission Ltd.</td>\n",
       "      <td>Gas</td>\n",
       "      <td>B2-2  Volume 4 - ESA_Main_Part_1_of_5 (A3Q6F8)</td>\n",
       "      <td>https://apps.cer-rec.gc.ca/REGDOCS/Item/LoadResult/1060040</td>\n",
       "      <td>A3Q6F8</td>\n",
       "      <td>1059854</td>\n",
       "      <td>https://apps.cer-rec.gc.ca/REGDOCS/File/Download/1059854</td>\n",
       "      <td>Large Projects (over 40 km)</td>\n",
       "      <td>British Columbia, All</td>\n",
       "      <td>GH-001-2014</td>\n",
       "      <td>Stantec Consulting Ltd., TERA Environmental Consultants</td>\n",
       "      <td>Operating</td>\n",
       "      <td>GC-125</td>\n",
       "      <td>https://apps.cer-rec.gc.ca/REGDOCS/Item/View/1060220</td>\n",
       "      <td>https://apps.cer-rec.gc.ca/REGDOCS/Item/View/3890551</td>\n",
       "      <td>Table of Contents, Abbreviations, Section 1: Introduction, Section 2: Project Description, Section 3: Consultation and Engagement, Section 4: Route and Facility Site Selection, Section 5: Assessment Methods and Environmental Setting, Section 6: Soils,...</td>\n",
       "      <td>1.0</td>\n",
       "      <td>Land, Water, Vegetation, Traditional Knowledge, All</td>\n",
       "      <td>http://www.cer-rec.gc.ca/esa-ees/nrthmntn/nrthmntn_table-6-1-valued-components-and-key-indicators--so_pt-1_pg-107_doc-num-A3Q6F8.csv</td>\n",
       "      <td>107</td>\n",
       "      <td>199.0</td>\n",
       "      <td>5.11</td>\n",
       "      <td>No</td>\n",
       "      <td>nrthmntn</td>\n",
       "      <td>http://www.cer-rec.gc.ca/esa-ees/nrthmntn.zip</td>\n",
       "      <td>False</td>\n",
       "      <td>nrthmntn_table-6-1-valued-components-and-key-indicators--so_pt-1_pg-107_doc-num-A3Q6F8.csv</td>\n",
       "      <td>1059854_107_lattice-v_1.csv</td>\n",
       "    </tr>\n",
       "  </tbody>\n",
       "</table>\n",
       "</div>"
      ],
      "text/plain": [
       "     Index                                                   Title  \\\n",
       "133   9267  Table 2-1 Visual Sensitivity Ratings along Project RoW   \n",
       "134   9268  Table 6-1 Valued Components and Key Indicators – Soils   \n",
       "\n",
       "    Content Type                       Application Name  \\\n",
       "133        Table  Application for North Montney Project   \n",
       "134        Table  Application for North Montney Project   \n",
       "\n",
       "    Application Short Name Application Filing Date  \\\n",
       "133          North Montney               11/8/2013   \n",
       "134          North Montney               11/8/2013   \n",
       "\n",
       "                   Company Name Commodity  \\\n",
       "133  NOVA Gas Transmission Ltd.       Gas   \n",
       "134  NOVA Gas Transmission Ltd.       Gas   \n",
       "\n",
       "                                          File Name  \\\n",
       "133         B2-25  ESA_Appendix_L_Part3of3 (A3Q6I1)   \n",
       "134  B2-2  Volume 4 - ESA_Main_Part_1_of_5 (A3Q6F8)   \n",
       "\n",
       "                                                 ESA Folder URL  \\\n",
       "133  https://apps.cer-rec.gc.ca/REGDOCS/Item/LoadResult/1060040   \n",
       "134  https://apps.cer-rec.gc.ca/REGDOCS/Item/LoadResult/1060040   \n",
       "\n",
       "    Document Number  Data ID  \\\n",
       "133          A3Q6I1  1059815   \n",
       "134          A3Q6F8  1059854   \n",
       "\n",
       "                                             PDF Download URL  \\\n",
       "133  https://apps.cer-rec.gc.ca/REGDOCS/File/Download/1059815   \n",
       "134  https://apps.cer-rec.gc.ca/REGDOCS/File/Download/1059854   \n",
       "\n",
       "      Application Type (NEB Act)      Pipeline Location Hearing order  \\\n",
       "133  Large Projects (over 40 km)  British Columbia, All   GH-001-2014   \n",
       "134  Large Projects (over 40 km)  British Columbia, All   GH-001-2014   \n",
       "\n",
       "                                             Consultant Name Pipeline Status  \\\n",
       "133  Stantec Consulting Ltd., TERA Environmental Consultants       Operating   \n",
       "134  Stantec Consulting Ltd., TERA Environmental Consultants       Operating   \n",
       "\n",
       "    Regulatory Instrument(s)  \\\n",
       "133                   GC-125   \n",
       "134                   GC-125   \n",
       "\n",
       "                                          Application URL  \\\n",
       "133  https://apps.cer-rec.gc.ca/REGDOCS/Item/View/1060220   \n",
       "134  https://apps.cer-rec.gc.ca/REGDOCS/Item/View/1060220   \n",
       "\n",
       "                                             Decision URL  \\\n",
       "133  https://apps.cer-rec.gc.ca/REGDOCS/Item/View/3890551   \n",
       "134  https://apps.cer-rec.gc.ca/REGDOCS/Item/View/3890551   \n",
       "\n",
       "                                                                                                                                                                                                                                                     ESA Section(s)  \\\n",
       "133                                                                                                                                                                                                                Appendix L: Socio-economic Technical Data Report   \n",
       "134  Table of Contents, Abbreviations, Section 1: Introduction, Section 2: Project Description, Section 3: Consultation and Engagement, Section 4: Route and Facility Site Selection, Section 5: Assessment Methods and Environmental Setting, Section 6: Soils,...   \n",
       "\n",
       "     ESA Section(s) Index  \\\n",
       "133                  24.0   \n",
       "134                   1.0   \n",
       "\n",
       "                                   ESA Section(s) Topics  \\\n",
       "133                               Human, Technology, All   \n",
       "134  Land, Water, Vegetation, Traditional Knowledge, All   \n",
       "\n",
       "                                                                                                                         CSV Download URL  \\\n",
       "133    http://www.cer-rec.gc.ca/esa-ees/nrthmntn/nrthmntn_table-2-1-visual-sensitivity-ratings-along-project_pt-1_pg-8_doc-num-A3Q6I1.csv   \n",
       "134  http://www.cer-rec.gc.ca/esa-ees/nrthmntn/nrthmntn_table-6-1-valued-components-and-key-indicators--so_pt-1_pg-107_doc-num-A3Q6F8.csv   \n",
       "\n",
       "     PDF Page Number  PDF Page Count  PDF Size PDF Outline  \\\n",
       "133                8            22.0      2.77          No   \n",
       "134              107           199.0      5.11          No   \n",
       "\n",
       "    Download folder name                            Zipped Project Link  \\\n",
       "133             nrthmntn  http://www.cer-rec.gc.ca/esa-ees/nrthmntn.zip   \n",
       "134             nrthmntn  http://www.cer-rec.gc.ca/esa-ees/nrthmntn.zip   \n",
       "\n",
       "     bad_csv  \\\n",
       "133    False   \n",
       "134    False   \n",
       "\n",
       "                                                                                   CSV Filename  \\\n",
       "133    nrthmntn_table-2-1-visual-sensitivity-ratings-along-project_pt-1_pg-8_doc-num-A3Q6I1.csv   \n",
       "134  nrthmntn_table-6-1-valued-components-and-key-indicators--so_pt-1_pg-107_doc-num-A3Q6F8.csv   \n",
       "\n",
       "                     csvFileName  \n",
       "133    1059815_8_lattice-v_1.csv  \n",
       "134  1059854_107_lattice-v_1.csv  "
      ]
     },
     "execution_count": 21,
     "metadata": {},
     "output_type": "execute_result"
    }
   ],
   "source": [
    "df_index.iloc[133:135] # sanity check"
   ]
  },
  {
   "cell_type": "code",
   "execution_count": 22,
   "id": "546ddbe8",
=======
   "execution_count": null,
>>>>>>> 031f60097b896b1dffef822bb5712260f7517c61
   "metadata": {},
   "outputs": [],
   "source": [
    "df_merged = df_raw[df_raw['csvFileName'].isin(list(df_index['csvFileName']))].reset_index(drop=True)"
   ]
  },
  {
   "cell_type": "code",
<<<<<<< HEAD
   "execution_count": 23,
   "id": "fedd0332",
=======
   "execution_count": null,
>>>>>>> 031f60097b896b1dffef822bb5712260f7517c61
   "metadata": {},
   "outputs": [],
   "source": [
    "df_joined = pd.merge(df_index, df_merged, how='left', on='csvFileName')"
   ]
  },
  {
   "cell_type": "code",
<<<<<<< HEAD
   "execution_count": 25,
   "id": "72ceebad",
=======
   "execution_count": null,
>>>>>>> 031f60097b896b1dffef822bb5712260f7517c61
   "metadata": {
    "scrolled": false
   },
   "outputs": [],
   "source": [
    "df_joined.head(2)"
   ]
  },
  {
   "cell_type": "code",
<<<<<<< HEAD
   "execution_count": 26,
   "id": "1f9b4a2e",
=======
   "execution_count": null,
>>>>>>> 031f60097b896b1dffef822bb5712260f7517c61
   "metadata": {},
   "outputs": [],
   "source": [
    "len(df_joined) # 502"
   ]
  },
  {
   "cell_type": "code",
<<<<<<< HEAD
   "execution_count": 27,
   "id": "e35d8a8a",
=======
   "execution_count": null,
   "id": "c35ad531",
   "metadata": {},
   "outputs": [],
   "source": [
    "df_joined.columns"
   ]
  },
  {
   "cell_type": "code",
   "execution_count": null,
>>>>>>> 031f60097b896b1dffef822bb5712260f7517c61
   "metadata": {},
   "outputs": [],
   "source": [
    "del df_raw\n",
    "del df_index\n",
    "del df_merged"
   ]
  },
  {
   "cell_type": "markdown",
   "id": "43f2f7f0",
   "metadata": {},
   "source": [
    "## Adding New Projects to the Index File"
   ]
  },
  {
   "cell_type": "code",
<<<<<<< HEAD
   "execution_count": 28,
   "id": "206841b0",
=======
   "execution_count": null,
>>>>>>> 031f60097b896b1dffef822bb5712260f7517c61
   "metadata": {},
   "outputs": [],
   "source": [
    "df_joined.rename(columns={\"csvText\": \"text\"}, inplace=True)\n",
    "df_joined['label'] = -1"
   ]
  },
  {
   "cell_type": "code",
<<<<<<< HEAD
   "execution_count": 29,
   "id": "ffbbfb27",
=======
   "execution_count": null,
>>>>>>> 031f60097b896b1dffef822bb5712260f7517c61
   "metadata": {},
   "outputs": [],
   "source": [
    "df_joined[\"text\"] = df_joined[\"Title\"] + \" \" + df_joined[\"text\"]"
   ]
  },
  {
   "cell_type": "code",
<<<<<<< HEAD
   "execution_count": 30,
   "id": "e872dd7f",
=======
   "execution_count": 135,
   "id": "28b957b4",
   "metadata": {},
   "outputs": [
    {
     "data": {
      "text/plain": [
       "502"
      ]
     },
     "execution_count": 135,
     "metadata": {},
     "output_type": "execute_result"
    }
   ],
   "source": [
    "len(df_joined)"
   ]
  },
  {
   "cell_type": "code",
   "execution_count": null,
>>>>>>> 031f60097b896b1dffef822bb5712260f7517c61
   "metadata": {},
   "outputs": [],
   "source": [
    "df_joined['text'] = df_joined['text'].astype(str).apply(lambda x: BeautifulSoup(x, \"html.parser\").get_text(separator=' ')) # remove html tags\n",
    "df_joined['text'] = df_joined['text'].replace('[^a-zA-Z0-9 ]', ' ', regex=True) # remove all non-alpha-numeric characters\n",
    "df_joined['text'] = df_joined['text'].replace('\\w{25,}', ' ', regex=True)\n",
    "df_joined['text'] = df_joined['text'].replace('cid\\d+', ' ', regex=True)\n",
    "df_joined['text'] = df_joined['text'].replace(' s ', ' ', regex=True)\n",
    "df_joined['text'] = df_joined['text'].replace(' +', ' ', regex=True) # remove all extra spaces in text"
   ]
  },
  {
   "cell_type": "code",
<<<<<<< HEAD
   "execution_count": 32,
   "id": "f5cfd364",
   "metadata": {},
   "outputs": [
    {
     "data": {
      "text/plain": [
       "'Table 4 28 Assessed Value of an Average Single Family Home 2011 to 2013 Community 2011 2012 2013 2011 to 2013 increase Dawson Creek 212 870 229 000 238 000 12 Fort St John 274 035 305 000 326 000 19 Chetwynd 156 170 218 000 229 000 47 Hudson Hope 132 270 161 000 175 000 32 Taylor 208 098 247 000 281 000 35 SOURCE City of Dawson Creek 2013 '"
      ]
     },
     "execution_count": 32,
     "metadata": {},
     "output_type": "execute_result"
    }
   ],
   "source": [
    "df_joined.text[103]"
   ]
  },
  {
   "cell_type": "code",
   "execution_count": 33,
   "id": "47e31937",
=======
   "execution_count": null,
>>>>>>> 031f60097b896b1dffef822bb5712260f7517c61
   "metadata": {},
   "outputs": [],
   "source": [
    "df_joined.text[0]"
   ]
  },
  {
   "cell_type": "code",
<<<<<<< HEAD
   "execution_count": 34,
   "id": "4b666d34",
=======
   "execution_count": null,
   "metadata": {},
   "outputs": [],
   "source": [
    "df_joined.to_csv(str(ROOT_PATH) + '\\\\data\\\\interim\\\\Intermediate_Index_Files\\\\esa_index_with_table_text_no_labels.csv', index=False, encoding='utf-8-sig')"
   ]
  },
  {
   "cell_type": "code",
   "execution_count": null,
>>>>>>> 031f60097b896b1dffef822bb5712260f7517c61
   "metadata": {},
   "outputs": [],
   "source": [
    "from sklearn.model_selection import train_test_split\n",
    "train_df, df_for_labeling = train_test_split(df_joined, test_size=1000, random_state=42, shuffle=True)"
   ]
  },
  {
   "cell_type": "code",
<<<<<<< HEAD
   "execution_count": 35,
   "id": "513418e6",
=======
   "execution_count": null,
>>>>>>> 031f60097b896b1dffef822bb5712260f7517c61
   "metadata": {},
   "outputs": [],
   "source": [
    "print(len(train_df))\n",
    "print(len(df_for_labeling))"
   ]
  },
  {
   "cell_type": "code",
<<<<<<< HEAD
   "execution_count": 36,
   "id": "fadc6bf0",
=======
   "execution_count": null,
>>>>>>> 031f60097b896b1dffef822bb5712260f7517c61
   "metadata": {},
   "outputs": [],
   "source": [
    "train_df.head(2)"
   ]
  },
  {
<<<<<<< HEAD
   "cell_type": "code",
   "execution_count": 37,
   "id": "b62c315b",
=======
   "cell_type": "markdown",
   "id": "7cdea7b7",
>>>>>>> 031f60097b896b1dffef822bb5712260f7517c61
   "metadata": {},
   "source": []
  },
  {
   "cell_type": "code",
   "execution_count": null,
   "metadata": {},
   "outputs": [],
   "source": [
    "df_for_labeling.head(2)"
   ]
  },
  {
   "cell_type": "code",
<<<<<<< HEAD
   "execution_count": 38,
   "id": "034ec658",
=======
   "execution_count": null,
>>>>>>> 031f60097b896b1dffef822bb5712260f7517c61
   "metadata": {},
   "outputs": [],
   "source": [
    "df_for_labeling.to_csv(str(ROOT_PATH / 'data/interim/Intermediate_Index_Files/esa_index_for_labeling.csv'), index=False, encoding='utf-8')"
   ]
  }
 ],
 "metadata": {
  "kernelspec": {
   "display_name": "Python 3.7.13 ('berdi')",
   "language": "python",
   "name": "python3"
  },
  "language_info": {
   "codemirror_mode": {
    "name": "ipython",
    "version": 3
   },
   "file_extension": ".py",
   "mimetype": "text/x-python",
   "name": "python",
   "nbconvert_exporter": "python",
   "pygments_lexer": "ipython3",
   "version": "3.7.13"
  },
  "vscode": {
   "interpreter": {
    "hash": "5a57f819e391b0b4fe115ba667bdfe1c06f77f6806275f72654242525f22278a"
   }
  }
 },
 "nbformat": 4,
 "nbformat_minor": 5
}
