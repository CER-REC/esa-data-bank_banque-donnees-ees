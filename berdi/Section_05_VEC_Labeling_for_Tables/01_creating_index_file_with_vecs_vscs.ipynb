{
 "cells": [
  {
   "cell_type": "markdown",
   "metadata": {},
   "source": [
    "# Imports"
   ]
  },
  {
   "cell_type": "code",
   "execution_count": null,
   "metadata": {},
   "outputs": [],
   "source": [
    "import pandas as pd\n",
    "pd.set_option('display.max_columns', None)\n",
    "pd.set_option('display.max_rows', None)\n",
    "pd.set_option('display.width', None)\n",
    "pd.set_option('display.max_colwidth', 255)\n",
    "from bs4 import BeautifulSoup\n",
    "import nltk\n",
    "from nltk.stem.porter import *\n",
    "from nltk.tokenize import word_tokenize\n",
    "from nltk.tokenize.treebank import TreebankWordDetokenizer\n",
    "from pathlib import Path\n",
    "nltk.download('punkt')\n",
    "from dotenv import load_dotenv\n",
    "import os"
   ]
  },
  {
   "cell_type": "code",
   "execution_count": null,
   "id": "7477070e",
   "metadata": {},
   "outputs": [],
   "source": [
    "%cd \"c:\\\\Users\\\\t1nipun\\\\Desktop\\\\BERDI\\\\esa-data-bank_banque-donnees-ees\"\n",
    "ROOT_PATH = os.getcwd()\n",
    "from berdi.Database_Connection_Files.connect_to_sqlserver_database import connect_to_db"
   ]
  },
  {
   "cell_type": "code",
   "execution_count": null,
   "metadata": {},
   "outputs": [],
   "source": [
    "nltk.download('stopwords', quiet=True)"
   ]
  },
  {
   "cell_type": "markdown",
   "id": "53321dda",
   "metadata": {},
   "source": [
    "`esa_csvs_raw.txt` is a tab-separated file of the raw data from the MySQL database. You will need to create this file if you want to include new data. The file contains the name of the CSV file as well as the contents of the CSV file (of the table). You need to make it tab-separated because MSSQL will not separate things properly if you use a comma because the CSV contents include commas. If you *really* want to use a comma, there is a way to do it where there will be quotes added to separate the fields, but you will need to look up how to do it."
   ]
  },
  {
   "cell_type": "code",
   "execution_count": null,
   "id": "5f144620",
   "metadata": {},
   "outputs": [],
   "source": [
    "load_dotenv(\n",
    "    dotenv_path= str(ROOT_PATH) + \"\\\\berdi\\\\Database_Connection_Files\\\\.env\", override=True\n",
    ")\n",
    "conn = connect_to_db()\n",
    "\n",
    "df = pd.read_sql('''SELECT csvFileName, csvText FROM [DS_TEST].[BERDI].csvs;''', conn)\n",
    "df.to_csv(str(ROOT_PATH) + \"\\\\data\\\\processed\\\\csvs\\\\esa_csvs_raw.txt\", index = False, sep = '\\t', encoding = 'utf-8-sig')"
   ]
  },
  {
   "cell_type": "code",
   "execution_count": null,
   "metadata": {},
   "outputs": [],
   "source": [
    "df_raw = pd.read_csv(str(ROOT_PATH) + \"\\\\data\\\\processed\\\\csvs\\\\esa_csvs_raw.txt\", sep='\\t')"
   ]
  },
  {
   "cell_type": "code",
   "execution_count": null,
   "metadata": {},
   "outputs": [],
   "source": [
    "df_raw.iloc[0]"
   ]
  },
  {
   "cell_type": "code",
   "execution_count": null,
   "metadata": {},
   "outputs": [],
   "source": [
    "df_raw['csvText'] = df_raw['csvText'].str.slice(0, 30_000) # limit to 30k chars since Excel can't handle more than 32k"
   ]
  },
  {
   "cell_type": "code",
   "execution_count": null,
   "metadata": {},
   "outputs": [],
   "source": [
    "assert (df_raw['csvText'].str.len()).max() <= 30_000 # sanity check"
   ]
  },
  {
   "cell_type": "code",
   "execution_count": null,
   "metadata": {},
   "outputs": [],
   "source": [
    "df_index = pd.read_csv(str(ROOT_PATH) + \"\\\\data\\\\interim\\\\Intermediate_Index_Files\\\\Table_Fig_Alignment_Index.csv\", encoding='utf-8')"
   ]
  },
  {
   "cell_type": "code",
   "execution_count": null,
   "metadata": {},
   "outputs": [],
   "source": [
    "df_index.head(2)"
   ]
  },
  {
   "cell_type": "code",
   "execution_count": null,
   "metadata": {},
   "outputs": [],
   "source": [
    "df_merged = df_raw[df_raw['csvFileName'].isin(list(df_index['csvFileName']))].reset_index(drop=True)"
   ]
  },
  {
   "cell_type": "code",
   "execution_count": null,
   "metadata": {},
   "outputs": [],
   "source": [
    "df_joined = pd.merge(df_index, df_merged, how='left', on='csvFileName')"
   ]
  },
  {
   "cell_type": "code",
   "execution_count": null,
   "metadata": {
    "scrolled": false
   },
   "outputs": [],
   "source": [
    "df_joined.head(2)"
   ]
  },
  {
   "cell_type": "code",
   "execution_count": null,
   "metadata": {},
   "outputs": [],
   "source": [
    "len(df_joined) # 502"
   ]
  },
  {
   "cell_type": "code",
   "execution_count": null,
   "id": "c35ad531",
   "metadata": {},
   "outputs": [],
   "source": [
    "df_joined.columns"
   ]
  },
  {
   "cell_type": "code",
   "execution_count": null,
   "metadata": {},
   "outputs": [],
   "source": [
    "del df_raw\n",
    "del df_index\n",
    "del df_merged"
   ]
  },
  {
   "cell_type": "markdown",
   "metadata": {},
   "source": [
    "## Adding New Projects to the Index File"
   ]
  },
  {
   "cell_type": "code",
   "execution_count": null,
   "metadata": {},
   "outputs": [],
   "source": [
    "df_joined.rename(columns={\"csvText\": \"text\"}, inplace=True)\n",
    "df_joined['label'] = -1"
   ]
  },
  {
   "cell_type": "code",
   "execution_count": null,
   "metadata": {},
   "outputs": [],
   "source": [
    "df_joined[\"text\"] = df_joined[\"Title\"] + \" \" + df_joined[\"text\"]"
   ]
  },
  {
   "cell_type": "code",
   "execution_count": 135,
   "id": "28b957b4",
   "metadata": {},
   "outputs": [
    {
     "data": {
      "text/plain": [
       "502"
      ]
     },
     "execution_count": 135,
     "metadata": {},
     "output_type": "execute_result"
    }
   ],
   "source": [
    "len(df_joined)"
   ]
  },
  {
   "cell_type": "code",
   "execution_count": null,
   "metadata": {},
   "outputs": [],
   "source": [
    "df_joined['text'] = df_joined['text'].astype(str).apply(lambda x: BeautifulSoup(x, \"html.parser\").get_text(separator=' ')) # remove html tags\n",
    "df_joined['text'] = df_joined['text'].replace('[^a-zA-Z0-9 ]', ' ', regex=True) # remove all non-alpha-numeric characters\n",
    "df_joined['text'] = df_joined['text'].replace('\\w{25,}', ' ', regex=True)\n",
    "df_joined['text'] = df_joined['text'].replace('cid\\d+', ' ', regex=True)\n",
    "df_joined['text'] = df_joined['text'].replace(' s ', ' ', regex=True)\n",
    "df_joined['text'] = df_joined['text'].replace(' +', ' ', regex=True) # remove all extra spaces in text"
   ]
  },
  {
   "cell_type": "code",
   "execution_count": null,
   "metadata": {},
   "outputs": [],
   "source": [
    "df_joined.text[0]"
   ]
  },
  {
   "cell_type": "code",
   "execution_count": null,
   "metadata": {},
   "outputs": [],
   "source": [
    "df_joined.to_csv(str(ROOT_PATH) + '\\\\data\\\\interim\\\\Intermediate_Index_Files\\\\esa_index_with_table_text_no_labels.csv', index=False, encoding='utf-8-sig')"
   ]
  },
  {
   "cell_type": "code",
   "execution_count": null,
   "metadata": {},
   "outputs": [],
   "source": [
    "from sklearn.model_selection import train_test_split\n",
    "train_df, df_for_labeling = train_test_split(df_joined, test_size=1000, random_state=42, shuffle=True)"
   ]
  },
  {
   "cell_type": "code",
   "execution_count": null,
   "metadata": {},
   "outputs": [],
   "source": [
    "print(len(train_df))\n",
    "print(len(df_for_labeling))"
   ]
  },
  {
   "cell_type": "code",
   "execution_count": null,
   "metadata": {},
   "outputs": [],
   "source": [
    "train_df.head(2)"
   ]
  },
  {
   "cell_type": "markdown",
   "id": "7cdea7b7",
   "metadata": {},
   "source": []
  },
  {
   "cell_type": "code",
   "execution_count": null,
   "metadata": {},
   "outputs": [],
   "source": [
    "df_for_labeling.head(2)"
   ]
  },
  {
   "cell_type": "code",
   "execution_count": null,
   "metadata": {},
   "outputs": [],
   "source": [
    "df_for_labeling.to_csv(str(ROOT_PATH / 'data/interim/Intermediate_Index_Files/esa_index_for_labeling.csv'), index=False, encoding='utf-8')"
   ]
  }
 ],
 "metadata": {
  "kernelspec": {
   "display_name": "Python 3.7.13 ('berdi')",
   "language": "python",
   "name": "python3"
  },
  "language_info": {
   "codemirror_mode": {
    "name": "ipython",
    "version": 3
   },
   "file_extension": ".py",
   "mimetype": "text/x-python",
   "name": "python",
   "nbconvert_exporter": "python",
   "pygments_lexer": "ipython3",
   "version": "3.7.13"
  },
  "vscode": {
   "interpreter": {
    "hash": "5a57f819e391b0b4fe115ba667bdfe1c06f77f6806275f72654242525f22278a"
   }
  }
 },
 "nbformat": 4,
 "nbformat_minor": 5
}
