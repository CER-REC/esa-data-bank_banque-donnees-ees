{
 "cells": [
  {
   "cell_type": "markdown",
   "metadata": {},
   "source": [
    "# Extracting PDF Information (size, pages, outline)"
   ]
  },
  {
   "cell_type": "code",
   "execution_count": 1,
   "metadata": {},
   "outputs": [],
   "source": [
    "import PyPDF2 as p2\n",
    "import os\n",
    "import pandas as pd"
   ]
  },
  {
   "cell_type": "code",
   "execution_count": 2,
   "metadata": {},
   "outputs": [
    {
     "name": "stdout",
     "output_type": "stream",
     "text": [
      "number of files in folder: 12\n",
      "Wall time: 148 ms\n"
     ]
    }
   ],
   "source": [
    "%%time\n",
    "#get PDF size attributes\n",
    "# folder = 'F:/Environmental Baseline Data/Version 4 - Final/PDF' # old projects\n",
    "folder = 'G:/ESA_downloads/phase_2_download_files/PDFs' # new projects\n",
    "files_in_folder = os.listdir(folder)\n",
    "files_in_folder_path = [folder +  '/' + str(x) for x in files_in_folder]\n",
    "print('number of files in folder: ' + str(len(files_in_folder_path)))"
   ]
  },
  {
   "cell_type": "code",
   "execution_count": 3,
   "metadata": {},
   "outputs": [
    {
     "data": {
      "text/html": [
       "<div>\n",
       "<style scoped>\n",
       "    .dataframe tbody tr th:only-of-type {\n",
       "        vertical-align: middle;\n",
       "    }\n",
       "\n",
       "    .dataframe tbody tr th {\n",
       "        vertical-align: top;\n",
       "    }\n",
       "\n",
       "    .dataframe thead th {\n",
       "        text-align: right;\n",
       "    }\n",
       "</style>\n",
       "<table border=\"1\" class=\"dataframe\">\n",
       "  <thead>\n",
       "    <tr style=\"text-align: right;\">\n",
       "      <th></th>\n",
       "      <th>file_name</th>\n",
       "      <th>page_count</th>\n",
       "      <th>size (MB)</th>\n",
       "      <th>Contains outline?</th>\n",
       "    </tr>\n",
       "  </thead>\n",
       "  <tbody>\n",
       "    <tr>\n",
       "      <th>0</th>\n",
       "      <td>G:/ESA_downloads/phase_2_download_files/PDFs/3...</td>\n",
       "      <td>1</td>\n",
       "      <td>0.02</td>\n",
       "      <td>No</td>\n",
       "    </tr>\n",
       "    <tr>\n",
       "      <th>1</th>\n",
       "      <td>G:/ESA_downloads/phase_2_download_files/PDFs/3...</td>\n",
       "      <td>16</td>\n",
       "      <td>0.20</td>\n",
       "      <td>Yes</td>\n",
       "    </tr>\n",
       "    <tr>\n",
       "      <th>2</th>\n",
       "      <td>G:/ESA_downloads/phase_2_download_files/PDFs/3...</td>\n",
       "      <td>236</td>\n",
       "      <td>12.46</td>\n",
       "      <td>Yes</td>\n",
       "    </tr>\n",
       "    <tr>\n",
       "      <th>3</th>\n",
       "      <td>G:/ESA_downloads/phase_2_download_files/PDFs/3...</td>\n",
       "      <td>24</td>\n",
       "      <td>10.32</td>\n",
       "      <td>Yes</td>\n",
       "    </tr>\n",
       "    <tr>\n",
       "      <th>4</th>\n",
       "      <td>G:/ESA_downloads/phase_2_download_files/PDFs/3...</td>\n",
       "      <td>464</td>\n",
       "      <td>7.80</td>\n",
       "      <td>Yes</td>\n",
       "    </tr>\n",
       "  </tbody>\n",
       "</table>\n",
       "</div>"
      ],
      "text/plain": [
       "                                           file_name  page_count  size (MB)  \\\n",
       "0  G:/ESA_downloads/phase_2_download_files/PDFs/3...           1       0.02   \n",
       "1  G:/ESA_downloads/phase_2_download_files/PDFs/3...          16       0.20   \n",
       "2  G:/ESA_downloads/phase_2_download_files/PDFs/3...         236      12.46   \n",
       "3  G:/ESA_downloads/phase_2_download_files/PDFs/3...          24      10.32   \n",
       "4  G:/ESA_downloads/phase_2_download_files/PDFs/3...         464       7.80   \n",
       "\n",
       "  Contains outline?  \n",
       "0                No  \n",
       "1               Yes  \n",
       "2               Yes  \n",
       "3               Yes  \n",
       "4               Yes  "
      ]
     },
     "execution_count": 3,
     "metadata": {},
     "output_type": "execute_result"
    }
   ],
   "source": [
    "exceptions = []\n",
    "dict_data = []\n",
    "\n",
    "for x in files_in_folder_path:\n",
    "    try:\n",
    "        PDFfile = open(x, 'rb')\n",
    "        pdfread = p2.PdfFileReader(PDFfile)\n",
    "        page_count = pdfread.getNumPages()\n",
    "        size_bytes = os.path.getsize(x)\n",
    "        MB = round(size_bytes/1048576.7009, 2)\n",
    "        outline_boolean = p2.PdfFileReader(PDFfile)\n",
    "        outline = pdfread.getOutlines(PDFfile)\n",
    "        if not outline:\n",
    "            outline_boolean = 'No'\n",
    "        else:\n",
    "            outline_boolean = 'Yes'\n",
    "        dict_line = {'file_name' : x, 'page_count' : page_count, 'size (MB)' : MB, \n",
    "                     'Contains outline?': outline_boolean}\n",
    "        dict_data.append(dict_line)\n",
    "    except:\n",
    "        pass\n",
    "        exceptions.append(x)\n",
    "        \n",
    "df_size = pd.DataFrame(dict_data)\n",
    "df_size.head()"
   ]
  },
  {
   "cell_type": "code",
   "execution_count": 4,
   "metadata": {
    "scrolled": true
   },
   "outputs": [],
   "source": [
    "df_size.to_csv('PDF-size-numpages-outlineboolean-new-projects.csv')\n",
    "df_size.to_excel('PDF-size-numpages-outlineboolean-new-projects.xlsx')"
   ]
  },
  {
   "cell_type": "code",
   "execution_count": null,
   "metadata": {},
   "outputs": [],
   "source": []
  }
 ],
 "metadata": {
  "kernelspec": {
   "display_name": "Python 3",
   "language": "python",
   "name": "python3"
  },
  "language_info": {
   "codemirror_mode": {
    "name": "ipython",
    "version": 3
   },
   "file_extension": ".py",
   "mimetype": "text/x-python",
   "name": "python",
   "nbconvert_exporter": "python",
   "pygments_lexer": "ipython3",
   "version": "3.8.8"
  }
 },
 "nbformat": 4,
 "nbformat_minor": 2
}
