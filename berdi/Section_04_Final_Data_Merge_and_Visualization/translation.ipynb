{
 "cells": [
  {
   "cell_type": "code",
   "execution_count": 2,
   "metadata": {},
   "outputs": [],
   "source": [
    "import pandas as pd\n",
    "from pathlib import Path"
   ]
  },
  {
   "cell_type": "code",
   "execution_count": 4,
   "metadata": {},
   "outputs": [
    {
     "name": "stdout",
     "output_type": "stream",
     "text": [
      "C:\\Users\\t1nipun\\Documents\\esa-data-bank_banque-donnees-ees\n"
     ]
    }
   ],
   "source": [
    "REPO_ROOT = Path('.').resolve().parents[1]\n",
    "print(REPO_ROOT)"
   ]
  },
  {
   "cell_type": "code",
   "execution_count": 49,
   "metadata": {},
   "outputs": [],
   "source": [
    "RAW_DATA_PATH = REPO_ROOT / \"data\" / \"raw\"\n",
    "TRANSLATION_FILE_PATH = REPO_ROOT / \"data\" / \"processed\" / \"translations\"\n",
    "translation_df = pd.read_csv(str(TRANSLATION_FILE_PATH) + \"\\\\NEBC_Translation.csv\", encoding = 'cp1252')\n",
    "trans_dict = translation_df.set_index(\"Title\")[\"Titres\"].to_dict()"
   ]
  },
  {
   "cell_type": "code",
   "execution_count": 50,
   "metadata": {},
   "outputs": [],
   "source": [
    "df = pd.read_csv(str(REPO_ROOT) + '\\\\data\\\\interim\\\\Intermediate_Index_Files\\\\esa_vecs_labeled.csv', encoding='utf-8-sig')"
   ]
  },
  {
   "cell_type": "code",
   "execution_count": 51,
   "metadata": {},
   "outputs": [],
   "source": [
    "for x in df:\n",
    "    df[x] = df[x].map(trans_dict).fillna(df[x])"
   ]
  },
  {
   "cell_type": "code",
   "execution_count": 52,
   "metadata": {},
   "outputs": [],
   "source": [
    "df[\"Title\"] = df[\"Title\"].str.replace ('^Alignment Sheet', 'Carte-tracé', regex = True)"
   ]
  },
  {
   "cell_type": "code",
   "execution_count": 53,
   "metadata": {},
   "outputs": [],
   "source": [
    "df.to_csv(str(REPO_ROOT) + '\\\\data\\\\interim\\\\Intermediate_Index_Files\\\\esa_translated.csv', index=False, encoding='utf-8-sig')"
   ]
  }
 ],
 "metadata": {
  "kernelspec": {
   "display_name": "Python 3.7.4 ('base')",
   "language": "python",
   "name": "python3"
  },
  "language_info": {
   "codemirror_mode": {
    "name": "ipython",
    "version": 3
   },
   "file_extension": ".py",
   "mimetype": "text/x-python",
   "name": "python",
   "nbconvert_exporter": "python",
   "pygments_lexer": "ipython3",
   "version": "3.7.4"
  },
  "orig_nbformat": 4,
  "vscode": {
   "interpreter": {
    "hash": "5a6d9f723b81d6cc9368ec14bb287eb85b7b3e2eeb980ee0d6c292af6e74093e"
   }
  }
 },
 "nbformat": 4,
 "nbformat_minor": 2
}
